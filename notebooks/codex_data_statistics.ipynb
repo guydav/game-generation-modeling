{
 "cells": [
  {
   "cell_type": "code",
   "execution_count": 1,
   "metadata": {},
   "outputs": [],
   "source": [
    "%autoreload 2"
   ]
  },
  {
   "cell_type": "code",
   "execution_count": 19,
   "metadata": {},
   "outputs": [],
   "source": [
    "from argparse import Namespace\n",
    "from collections import defaultdict\n",
    "import dataclasses\n",
    "import copy\n",
    "import glob\n",
    "import gzip\n",
    "import os\n",
    "import pickle\n",
    "import sys\n",
    "import time\n",
    "import typing\n",
    "import re\n",
    "\n",
    "from IPython.display import display, Markdown, Latex\n",
    "import numpy as np\n",
    "import pandas as pd\n",
    "import tatsu\n",
    "import tatsu.exceptions\n",
    "import tqdm.notebook as tqdm\n",
    "import matplotlib.pyplot as plt\n",
    "\n",
    "sys.path.append(os.path.abspath('..'))\n",
    "sys.path.append(os.path.abspath('../src'))\n",
    "from src.ast_utils import load_games_from_file, _extract_game_id\n",
    "from ast_counter_sampler import *"
   ]
  },
  {
   "cell_type": "code",
   "execution_count": 22,
   "metadata": {},
   "outputs": [],
   "source": [
    "game_texts = list(load_games_from_file('../dsl/interactive-beta.pddl'))\n",
    "game_texts_by_id = {_extract_game_id(text): text for text in game_texts}\n",
    "game_ids = list(game_texts_by_id.keys())"
   ]
  },
  {
   "cell_type": "code",
   "execution_count": 4,
   "metadata": {},
   "outputs": [
    {
     "name": "stdout",
     "output_type": "stream",
     "text": [
      "../dsl/codex/codex_augmentations_seed_7.pkl.gz\n",
      "../dsl/codex/codex_augmentations_seed_13.pkl.gz\n",
      "../dsl/codex/codex_augmentations_seed_23.pkl.gz\n",
      "../dsl/codex/codex_augmentations_seed_33.pkl.gz\n",
      "../dsl/codex/codex_augmentations_seed_42.pkl.gz\n",
      "dict_keys([7, 13, 23, 33, 42])\n"
     ]
    }
   ],
   "source": [
    "augmentation_results_by_seed = {}\n",
    "\n",
    "for augmentations_output_path in glob.glob('../dsl/codex/codex_augmentations_seed_*.pkl.gz'):\n",
    "    print(augmentations_output_path)\n",
    "    seed = int(augmentations_output_path[augmentations_output_path.rindex('_') + 1:-7])\n",
    "    with gzip.open(augmentations_output_path, 'rb') as f:\n",
    "        augmentation_results_by_seed[seed] = pickle.load(f)\n",
    "\n",
    "print(augmentation_results_by_seed.keys())\n"
   ]
  },
  {
   "cell_type": "code",
   "execution_count": 5,
   "metadata": {},
   "outputs": [],
   "source": [
    "GAME_ID_KEYS = ('game_index', 'game_id')\n",
    "SECTION_INDICES_KEYS = ('before_indices', 'after_indices')\n",
    "WHITESPACE_PATTERN = re.compile(r'\\s+')\n",
    "\n",
    "\n",
    "def LCS(s1: str, s2: str) -> typing.Tuple[int, int]:\n",
    "    m = np.zeros((len(s1) + 1, len(s2) + 1), dtype=int)\n",
    "    longest, x_longest = 0, 0\n",
    "    for x in range(1, 1 + len(s1)):\n",
    "        for y in range(1, 1 + len(s2)):\n",
    "            if s1[x - 1] == s2[y - 1]:\n",
    "                m[x][y] = m[x - 1][y - 1] + 1\n",
    "                if m[x][y] > longest:\n",
    "                    longest = m[x][y]\n",
    "                    x_longest = x\n",
    "            else:\n",
    "                m[x][y] = 0\n",
    "                \n",
    "    return x_longest - longest, longest\n",
    "\n",
    "\n",
    "def game_results_to_rows(game_results: typing.Dict[str, typing.Any]) -> typing.List[typing.Dict[str, typing.Any]]:\n",
    "    rows = []\n",
    "    row_template = {k: game_results[k] for k in GAME_ID_KEYS}\n",
    "    row = {}\n",
    "    for k, v in game_results.items():\n",
    "        if k in GAME_ID_KEYS:\n",
    "            continue\n",
    "\n",
    "        prompt = WHITESPACE_PATTERN.sub(' ', v['prompt']).strip()\n",
    "\n",
    "        section_row_template = copy.copy(row_template)\n",
    "        section_row_template['section'] = k.replace('(:', '')\n",
    "        section_row_template.update({k: v for k, v in v.items() if k in SECTION_INDICES_KEYS})\n",
    "\n",
    "        for i, choice in enumerate(v['results']['choices']):\n",
    "            completion = WHITESPACE_PATTERN.sub(' ', choice.text).strip()\n",
    "            lcs_start, lcs_length = LCS(completion, prompt)\n",
    "\n",
    "            row = copy.copy(section_row_template)\n",
    "            row['completion_index'] = i\n",
    "            row['completion'] = completion\n",
    "            row['lcs_start'] = lcs_start\n",
    "            row['lcs_length'] = lcs_length\n",
    "            row['lcs_percent'] = lcs_length / len(completion) if len(completion) > 0 else 0\n",
    "            rows.append(row)\n",
    "            \n",
    "    return rows\n",
    "\n",
    "\n",
    "def seed_results_to_rows(seed_results: typing.List[typing.Dict[str, typing.Any]]) -> typing.List[typing.Dict[str, typing.Any]]:\n",
    "    rows = []\n",
    "    for game_results in tqdm.tqdm(seed_results):\n",
    "        rows.extend(game_results_to_rows(game_results))\n",
    "    return rows\n",
    "\n",
    "\n",
    "def all_results_to_df(results: typing.Dict[int, typing.List[typing.Dict[str, typing.Any]]]):\n",
    "    rows = []\n",
    "    for seed, seed_results in results.items():\n",
    "        seed_rows = seed_results_to_rows(seed_results)\n",
    "        for row in seed_rows:\n",
    "            row['seed'] = seed \n",
    "        rows.extend(seed_rows)\n",
    "\n",
    "    return pd.DataFrame(rows)\n"
   ]
  },
  {
   "cell_type": "code",
   "execution_count": 39,
   "metadata": {},
   "outputs": [
    {
     "data": {
      "text/html": [
       "<div>\n",
       "<style scoped>\n",
       "    .dataframe tbody tr th:only-of-type {\n",
       "        vertical-align: middle;\n",
       "    }\n",
       "\n",
       "    .dataframe tbody tr th {\n",
       "        vertical-align: top;\n",
       "    }\n",
       "\n",
       "    .dataframe thead th {\n",
       "        text-align: right;\n",
       "    }\n",
       "</style>\n",
       "<table border=\"1\" class=\"dataframe\">\n",
       "  <thead>\n",
       "    <tr style=\"text-align: right;\">\n",
       "      <th></th>\n",
       "      <th>game_index</th>\n",
       "      <th>game_id</th>\n",
       "      <th>section</th>\n",
       "      <th>before_indices</th>\n",
       "      <th>after_indices</th>\n",
       "      <th>completion_index</th>\n",
       "      <th>completion</th>\n",
       "      <th>lcs_start</th>\n",
       "      <th>lcs_length</th>\n",
       "      <th>lcs_percent</th>\n",
       "      <th>seed</th>\n",
       "      <th>key</th>\n",
       "    </tr>\n",
       "  </thead>\n",
       "  <tbody>\n",
       "    <tr>\n",
       "      <th>0</th>\n",
       "      <td>0</td>\n",
       "      <td>6172feb1665491d1efbce164-0</td>\n",
       "      <td>setup</td>\n",
       "      <td>[59 63 89]</td>\n",
       "      <td>[58 95]</td>\n",
       "      <td>0</td>\n",
       "      <td>(and (exists (?b - ball ?h - hexagonal_bin) (o...</td>\n",
       "      <td>19</td>\n",
       "      <td>23</td>\n",
       "      <td>0.159722</td>\n",
       "      <td>7</td>\n",
       "      <td>7.6172feb1665491d1efbce164-0.setup.0</td>\n",
       "    </tr>\n",
       "    <tr>\n",
       "      <th>1</th>\n",
       "      <td>0</td>\n",
       "      <td>6172feb1665491d1efbce164-0</td>\n",
       "      <td>setup</td>\n",
       "      <td>[59 63 89]</td>\n",
       "      <td>[58 95]</td>\n",
       "      <td>1</td>\n",
       "      <td>(and (exists (?b - basketball) (game-conserved...</td>\n",
       "      <td>29</td>\n",
       "      <td>19</td>\n",
       "      <td>0.296875</td>\n",
       "      <td>7</td>\n",
       "      <td>7.6172feb1665491d1efbce164-0.setup.1</td>\n",
       "    </tr>\n",
       "    <tr>\n",
       "      <th>2</th>\n",
       "      <td>0</td>\n",
       "      <td>6172feb1665491d1efbce164-0</td>\n",
       "      <td>setup</td>\n",
       "      <td>[59 63 89]</td>\n",
       "      <td>[58 95]</td>\n",
       "      <td>2</td>\n",
       "      <td>(and (exists (?b - ball ?r - triangular_ramp ?...</td>\n",
       "      <td>63</td>\n",
       "      <td>38</td>\n",
       "      <td>0.128814</td>\n",
       "      <td>7</td>\n",
       "      <td>7.6172feb1665491d1efbce164-0.setup.2</td>\n",
       "    </tr>\n",
       "    <tr>\n",
       "      <th>3</th>\n",
       "      <td>0</td>\n",
       "      <td>6172feb1665491d1efbce164-0</td>\n",
       "      <td>constraints</td>\n",
       "      <td>[ 1 27 28]</td>\n",
       "      <td>[88 83]</td>\n",
       "      <td>0</td>\n",
       "      <td>(and (preference throwToRampToBin (exists (?b ...</td>\n",
       "      <td>342</td>\n",
       "      <td>119</td>\n",
       "      <td>0.258134</td>\n",
       "      <td>7</td>\n",
       "      <td>7.6172feb1665491d1efbce164-0.constraints.0</td>\n",
       "    </tr>\n",
       "    <tr>\n",
       "      <th>4</th>\n",
       "      <td>0</td>\n",
       "      <td>6172feb1665491d1efbce164-0</td>\n",
       "      <td>constraints</td>\n",
       "      <td>[ 1 27 28]</td>\n",
       "      <td>[88 83]</td>\n",
       "      <td>1</td>\n",
       "      <td>(and (forall (?b - (either dodgeball golfball)...</td>\n",
       "      <td>220</td>\n",
       "      <td>198</td>\n",
       "      <td>0.473684</td>\n",
       "      <td>7</td>\n",
       "      <td>7.6172feb1665491d1efbce164-0.constraints.1</td>\n",
       "    </tr>\n",
       "  </tbody>\n",
       "</table>\n",
       "</div>"
      ],
      "text/plain": [
       "   game_index                     game_id      section before_indices  \\\n",
       "0           0  6172feb1665491d1efbce164-0        setup     [59 63 89]   \n",
       "1           0  6172feb1665491d1efbce164-0        setup     [59 63 89]   \n",
       "2           0  6172feb1665491d1efbce164-0        setup     [59 63 89]   \n",
       "3           0  6172feb1665491d1efbce164-0  constraints     [ 1 27 28]   \n",
       "4           0  6172feb1665491d1efbce164-0  constraints     [ 1 27 28]   \n",
       "\n",
       "  after_indices  completion_index  \\\n",
       "0       [58 95]                 0   \n",
       "1       [58 95]                 1   \n",
       "2       [58 95]                 2   \n",
       "3       [88 83]                 0   \n",
       "4       [88 83]                 1   \n",
       "\n",
       "                                          completion  lcs_start  lcs_length  \\\n",
       "0  (and (exists (?b - ball ?h - hexagonal_bin) (o...         19          23   \n",
       "1  (and (exists (?b - basketball) (game-conserved...         29          19   \n",
       "2  (and (exists (?b - ball ?r - triangular_ramp ?...         63          38   \n",
       "3  (and (preference throwToRampToBin (exists (?b ...        342         119   \n",
       "4  (and (forall (?b - (either dodgeball golfball)...        220         198   \n",
       "\n",
       "   lcs_percent  seed                                         key  \n",
       "0     0.159722     7        7.6172feb1665491d1efbce164-0.setup.0  \n",
       "1     0.296875     7        7.6172feb1665491d1efbce164-0.setup.1  \n",
       "2     0.128814     7        7.6172feb1665491d1efbce164-0.setup.2  \n",
       "3     0.258134     7  7.6172feb1665491d1efbce164-0.constraints.0  \n",
       "4     0.473684     7  7.6172feb1665491d1efbce164-0.constraints.1  "
      ]
     },
     "execution_count": 39,
     "metadata": {},
     "output_type": "execute_result"
    }
   ],
   "source": [
    "PARSE_DATA = False\n",
    "SAVE_PATH = '../dsl/codex/codex_augmentations_df.csv'\n",
    "\n",
    "if PARSE_DATA:\n",
    "    df = all_results_to_df(augmentation_results_by_seed)\n",
    "else:\n",
    "    df = pd.read_csv(SAVE_PATH)\n",
    "\n",
    "df.head()"
   ]
  },
  {
   "attachments": {},
   "cell_type": "markdown",
   "metadata": {},
   "source": [
    "## Running some statistics"
   ]
  },
  {
   "cell_type": "code",
   "execution_count": 7,
   "metadata": {},
   "outputs": [
    {
     "data": {
      "image/png": "[encoded data removed]",
      "text/plain": [
       "<Figure size 1700x400 with 4 Axes>"
      ]
     },
     "metadata": {},
     "output_type": "display_data"
    }
   ],
   "source": [
    "fig, axes = plt.subplots(1, 4, figsize=(17, 4))\n",
    "\n",
    "for i, section, in enumerate(df.section.unique()):\n",
    "    ax = axes[i]\n",
    "    section_data = df[df.section == section].lcs_percent\n",
    "    ax.hist(section_data)\n",
    "    ax.set_title(f'LCS % for {section} completions\\nP(LCS% == 1) = {(section_data == 1).sum() / len(section_data):.3f}')\n",
    "\n",
    "\n",
    "plt.show()\n",
    "\n"
   ]
  },
  {
   "cell_type": "code",
   "execution_count": 9,
   "metadata": {},
   "outputs": [],
   "source": [
    "before_index_to_lcs = defaultdict(lambda: defaultdict(list))\n",
    "after_index_to_lcs = defaultdict(lambda: defaultdict(list))\n",
    "\n",
    "for i, row in df.iterrows():\n",
    "    for before_index in row.before_indices:\n",
    "        before_index_to_lcs[before_index][row.section].append(row.lcs_percent)\n",
    "    \n",
    "    for after_index in row.after_indices:\n",
    "        after_index_to_lcs[after_index][row.section].append(row.lcs_percent)"
   ]
  },
  {
   "cell_type": "code",
   "execution_count": 10,
   "metadata": {},
   "outputs": [
    {
     "name": "stderr",
     "output_type": "stream",
     "text": [
      "/Users/guydavidson/opt/anaconda3/envs/game-gen/lib/python3.10/site-packages/numpy/core/fromnumeric.py:3432: RuntimeWarning: Mean of empty slice.\n",
      "  return _methods._mean(a, axis=axis, dtype=dtype,\n",
      "/Users/guydavidson/opt/anaconda3/envs/game-gen/lib/python3.10/site-packages/numpy/core/_methods.py:190: RuntimeWarning: invalid value encountered in double_scalars\n",
      "  ret = ret.dtype.type(ret / rcount)\n"
     ]
    },
    {
     "data": {
      "image/png": "[encoded data removed]",
      "text/plain": [
       "<Figure size 1700x900 with 8 Axes>"
      ]
     },
     "metadata": {},
     "output_type": "display_data"
    }
   ],
   "source": [
    "fig, axes = plt.subplots(2, 4, figsize=(17, 9))\n",
    "\n",
    "for i, section, in enumerate(df.section.unique()):\n",
    "    before_ax = axes[0][i]\n",
    "    before_data_per_seed = [np.mean(before_index_to_lcs[index][section]) for index in before_index_to_lcs.keys()]\n",
    "    before_ax.hist(before_data_per_seed)\n",
    "    before_ax.set_title(f'Per-Game LCS % | {section} | Before')\n",
    "\n",
    "    after_ax = axes[1][i]\n",
    "    after_data_per_seed = [np.mean(after_index_to_lcs[index][section]) for index in after_index_to_lcs.keys()]\n",
    "    after_ax.hist(before_data_per_seed)\n",
    "    after_ax.set_title(f'Per-Game LCS % | {section} | After')\n",
    "\n",
    "\n",
    "# plt.subplots_adjust(wspace=)\n",
    "plt.show()\n",
    "\n"
   ]
  },
  {
   "attachments": {},
   "cell_type": "markdown",
   "metadata": {},
   "source": [
    "## Validating samples"
   ]
  },
  {
   "cell_type": "code",
   "execution_count": 31,
   "metadata": {},
   "outputs": [],
   "source": [
    "args = Namespace(\n",
    "    parse_counter=False, \n",
    "    counter_output_path=os.path.join('..', DEFAULT_COUNTER_OUTPUT_PATH),\n",
    "    grammar_file=os.path.join('..', DEFAULT_GRAMMAR_FILE),\n",
    "    random_seed=RANDOM_SEED,\n",
    "    test_files=['../dsl/interactive-beta.pddl'],\n",
    "    dont_tqdm=False,\n",
    "    validate_samples=True, \n",
    "    save_samples=True,\n",
    "    print_samples=False\n",
    "    \n",
    ")\n",
    "\n",
    "grammar = open(args.grammar_file).read()\n",
    "grammar_parser = tatsu.compile(grammar)"
   ]
  },
  {
   "cell_type": "code",
   "execution_count": 70,
   "metadata": {},
   "outputs": [
    {
     "name": "stderr",
     "output_type": "stream",
     "text": [
      "100%|██████████| 7350/7350 [05:43<00:00, 21.39it/s]\n"
     ]
    }
   ],
   "source": [
    "SECTION_KEYS_TO_TEMPLATES = {\n",
    "    'setup': '(:setup',\n",
    "    'constraints': '(:constraints',\n",
    "    'terminal': '(:terminal',\n",
    "    'scoring': '(:scoring',\n",
    "}\n",
    "SECTION_SUFFIX = ')\\n'\n",
    "\n",
    "MINIMAL_GAME_PREFIX = '(define (game 57aa430b4cda6e00018420e9-10) (:domain medium-objects-room-v1)'\n",
    "MINIMAL_GAME_COMPONENTS = {\n",
    "    'setup': '''(:setup (and \n",
    "    (exists (?h - hexagonal_bin)\n",
    "        (game-conserved (< (distance ?h room_center) 1))\n",
    "    )\n",
    "))''',\n",
    "    'constraints': '''(:constraints (and \n",
    "    (preference throwTeddyOntoPillow\n",
    "        (exists (?t - teddy_bear ?p - pillow)\n",
    "            (then \n",
    "                (once (agent_holds ?t))\n",
    "                (hold (and (not (agent_holds ?t)) (in_motion ?t))) \n",
    "                (once (and (not (in_motion ?t)) (on ?p ?t)))\n",
    "            )\n",
    "        )\n",
    "    )\n",
    "    (preference throwAttempt\n",
    "        (exists (?t - teddy_bear)\n",
    "            (then \n",
    "                (once (agent_holds ?t))\n",
    "                (hold (and (not (agent_holds ?t)) (in_motion ?t))) \n",
    "                (once (not (in_motion ?t)))\n",
    "            )\n",
    "        )\n",
    "    )\n",
    "))''',\n",
    "    'terminal': '''(:terminal\n",
    "    (>= (count throwAttempt) 10)\n",
    ")''',\n",
    "    'scoring': '''(:scoring (count throwTeddyOntoPillow)\n",
    "))''',\n",
    "}\n",
    "\n",
    "\n",
    "grammatical = []\n",
    "\n",
    "\n",
    "def _game_from_row_completion(row):\n",
    "    game = MINIMAL_GAME_PREFIX[:]\n",
    "    for section in MINIMAL_GAME_COMPONENTS:\n",
    "        if section == row.section:\n",
    "            completion = f'{SECTION_KEYS_TO_TEMPLATES[section]} {row.completion}'\n",
    "            open_count = completion.count('(')\n",
    "            while open_count > completion.count(')'):\n",
    "                completion += SECTION_SUFFIX\n",
    "\n",
    "        else:\n",
    "            completion = MINIMAL_GAME_COMPONENTS[section]\n",
    "\n",
    "        game += '\\n' + completion\n",
    "\n",
    "    game_open_count = game.count('(')\n",
    "    while game_open_count > game.count(')'):\n",
    "        game += SECTION_SUFFIX\n",
    "\n",
    "    return game\n",
    "\n",
    "\n",
    "for i, row in tqdm.tqdm(df.iterrows(), total=df.shape[0]):\n",
    "    game = _game_from_row_completion(row)\n",
    "\n",
    "    try:\n",
    "        game_ast = grammar_parser.parse(game)    \n",
    "        grammatical.append(True)\n",
    "\n",
    "    except tatsu.exceptions.FailedParse:\n",
    "        # print(f'Failed to parse game with {row.key}')\n",
    "        grammatical.append(False)\n",
    "        continue\n",
    "\n",
    "\n",
    "# df = df.assign(grammatical=grammatical)\n",
    "\n"
   ]
  },
  {
   "cell_type": "code",
   "execution_count": 73,
   "metadata": {},
   "outputs": [
    {
     "data": {
      "text/plain": [
       "0.9106122448979592"
      ]
     },
     "execution_count": 73,
     "metadata": {},
     "output_type": "execute_result"
    }
   ],
   "source": [
    "df.grammatical.mean()"
   ]
  },
  {
   "cell_type": "code",
   "execution_count": 127,
   "metadata": {},
   "outputs": [
    {
     "name": "stdout",
     "output_type": "stream",
     "text": [
      "scoring :\n",
      "(+ (count ballThrownToRampToBed) (* -2 (count ballThrownHitsAgent)) )))\n"
     ]
    }
   ],
   "source": [
    "i = 49\n",
    "row = df[~df.grammatical].iloc[i]\n",
    "print(row.section, ':')\n",
    "print(row.completion)"
   ]
  },
  {
   "attachments": {},
   "cell_type": "markdown",
   "metadata": {},
   "source": [
    "## Codex grammar mistake examples:\n",
    "* Generic:\n",
    "    * Changing/hallucinating object names/types (`dog_bed` instead of `doggie_bed`, `card_table`,)\n",
    "    * Hallucinating predicdates (`moveable`, `toggled_off` (`toggled_on` does exist), `drawer_closed`, `drawer_open` (we call it `open`) )\n",
    "    * Predicate arity mistakes (mostly with `adjacent_side` which has variable arity, but also once with `adjacent`)\n",
    "    * Writing a negative number as `-10` instead of `(- 10)`\n",
    "    * Too many close parentheses -- easily fixable\n",
    "* Setup: \n",
    "    * Forgetting a `(game-optional)` or `(game-conserved)`\n",
    "* Preferences:\n",
    "    * Getting the forall over preferences syntax wrong -- naming preferences like `throwToDrawerOrBin:?b` or `throwToDrawerOrBin:?b:?h` or `throwToDrawerOrBin:golfball:top_drawer`\n",
    "    * Putting a predicate outside a conjunction: `(hold (and (not (agent_holds ?d)) (in_motion ?d)) (not (touch ?c ?d)))` -- this would work in a `(hold-while)` (and mean something different), but not in a regular hold.\n",
    "    * Weird quantification mistakes:\n",
    "        * Empty quantification: `(preference ballInMotion (exists () (then ...)`\n",
    "        * Two separate parentheses: `(preference throwObjectToTarget (exists (?b - (either book dodgeball)) (?h - hexagonal_bin ?d - doggie_bed) (then ...)`\n",
    "        * A double/nested either: `(preference turnOffObjects (exists (?s - (either (either main_light_switch desktop) book)) (then ...)`\n",
    "    * Codex attempting to write an infinite loop? `(then (once (in top_drawer ?g)) (hold true) ) )`\n",
    "    * Using the setup `(game-conserved)` operator in a preference: `(preference gameConserved (exists (?b - (either book dodgeball)) (game-conserved ...)`\n",
    "    * This fascinating mistake: `(preference wallNotOpposite (not (preference wallOpposite))`\n",
    "    * Forgetting to conjunct predicates inside a `(not)`: ` (not (same_type ?g bridge_block) (adjacent ?w1 ?g) )`\n",
    "* Terminal conditions:\n",
    "    * Predicates in terminal\n",
    "    * Comparison without a second argument\n",
    "    * Operators with the wrong arity (putting three terms inside a minus operator)\n",
    "    * Forgetting to conjunct over multiple terms `(>= (count throwBallToBin:dodgeball) 2) (>= (count throwBallToBin:basketball) 2) (>= (count throwBallToBin:beachball) 2)`\n",
    "    * This amusing thing: `(or (game_over) (>= (count ballThrownToWallToAgent) 3))` -- the terminal conditions are supposed to define when the game is over...\n",
    "* Scoring:\n",
    "    * Predicates in scoring\n",
    "    * Scoring without any operators: `(total-time) (total-score) ))`\n",
    "    * Hallucinating scoring operators: `(* 3 (count-per-external-objects throwAttempt))`\n"
   ]
  },
  {
   "cell_type": "code",
   "execution_count": 128,
   "metadata": {},
   "outputs": [],
   "source": [
    "RANDOM_SEED = 33\n",
    "\n",
    "SECTION_KEYS_TO_TEMPLATES = {\n",
    "    'setup': '(:setup',\n",
    "    'constraints': '(:constraints',\n",
    "    'terminal': '(:terminal',\n",
    "    'scoring': '(:scoring',\n",
    "}\n",
    "GAME_TEMPLATE = '(define (game {game_id}) (:domain {domain})'\n",
    "SECTION_SUFFIX = ')\\n'\n",
    "\n",
    "\n",
    "def _extract_domain(game_text: str, key: str = '(:domain'):\n",
    "    start_index = game_text.index(key) + len(key) + 1\n",
    "    return game_text[start_index: game_text.index(')', start_index)]\n",
    "\n",
    "\n",
    "def _sample_game_section(game_df: pd.DataFrame, section_name: str, \n",
    "    section_flag: typing.Union[str, int], rng: np.random.Generator):\n",
    "    section_df = game_df[game_df.section == section_name]\n",
    "    if section_flag is True:\n",
    "        section_flag = rng.integers(section_df.shape[0] - 1)\n",
    "\n",
    "    if not isinstance(section_flag, bool):\n",
    "        return section_df.loc[section_df.index[section_flag], 'completion'], section_flag\n",
    "\n",
    "\n",
    "def combine_game_from_single_game(augmentations_df: pd.DataFrame,\n",
    "    game_texts_by_id: typing.Dict[str, str],\n",
    "    game_id: str, \n",
    "    sample_id: typing.Union[str, int],\n",
    "    setup: typing.Union[bool, int],\n",
    "    preferences: typing.Union[bool, int],\n",
    "    terminal: typing.Union[bool, int],\n",
    "    scoring: typing.Union[bool, int],\n",
    "    rng: typing.Optional[np.random.Generator] = None,\n",
    "    random_seed: int = RANDOM_SEED,\n",
    "    sample_name: typing.Optional[str] = None, \n",
    "    ):\n",
    "\n",
    "    if preferences is False or scoring is False:\n",
    "        raise ValueError('Cannot sample a game without preferences or scoring')\n",
    "\n",
    "    if rng is None:\n",
    "        rng = np.random.default_rng(seed=random_seed)\n",
    "\n",
    "    game_df = df[np.logical_and(df.game_id == game_id, df.grammatical)]\n",
    "    game_text = game_texts_by_id[game_id]\n",
    "\n",
    "    game_id_components = [game_id]\n",
    "    if sample_name is not None:\n",
    "        game_id_components.append(sample_name)\n",
    "    game_id_components.append(str(sample_id))\n",
    "\n",
    "    updated_game_id = '-'.join(game_id_components)\n",
    "    domain_name = _extract_domain(game_text)\n",
    "\n",
    "    game = GAME_TEMPLATE.format(game_id=updated_game_id, domain=domain_name)\n",
    "    sample_indices = {}\n",
    "\n",
    "    for key, flag in zip(SECTION_KEYS_TO_TEMPLATES.keys(), (setup, preferences, terminal, scoring)):\n",
    "        section_sample = _sample_game_section(game_df, key, flag, rng)\n",
    "        if section_sample is not None:\n",
    "            section_sample, sample_index  = section_sample\n",
    "            sample_indices[key] = sample_index\n",
    "\n",
    "            section_sample = f'{SECTION_KEYS_TO_TEMPLATES[key]} {section_sample}'\n",
    "            open_count = section_sample.count('(')\n",
    "            while open_count > section_sample.count(')'):\n",
    "                section_sample += SECTION_SUFFIX\n",
    "\n",
    "            game += '\\n' + section_sample\n",
    "    \n",
    "    while game.count('(') > game.count(')'):\n",
    "        game += SECTION_SUFFIX\n",
    "\n",
    "    return game, sample_indices\n",
    "\n",
    "\n",
    "\n"
   ]
  },
  {
   "cell_type": "code",
   "execution_count": 129,
   "metadata": {},
   "outputs": [
    {
     "name": "stderr",
     "output_type": "stream",
     "text": [
      "100%|██████████| 98/98 [02:16<00:00,  1.40s/it]\n"
     ]
    }
   ],
   "source": [
    "N_GAMES_PER_ORIGINAL_GAME = 10\n",
    "rng = np.random.default_rng(seed=args.random_seed)\n",
    "game_texts = []\n",
    "index_success_counts = defaultdict(lambda: defaultdict(lambda: defaultdict(int)))\n",
    "index_failure_counts = defaultdict(lambda: defaultdict(lambda: defaultdict(int)))\n",
    "\n",
    "for game_id in tqdm.tqdm(game_ids):\n",
    "    for i in range(N_GAMES_PER_ORIGINAL_GAME):\n",
    "        game, sample_indices = combine_game_from_single_game(df, game_texts_by_id, game_id, i, \n",
    "            True, True, True, True, rng=rng, sample_name='codex-combine')\n",
    "        \n",
    "        try:\n",
    "            game_ast = grammar_parser.parse(game)\n",
    "            game_text = test_ast_sample(game_ast, args, grammar_parser)\n",
    "            game_texts.append(game_text)\n",
    "            for section, index in sample_indices.items():\n",
    "                index_success_counts[game_id][section][index] += 1\n",
    "\n",
    "        except tatsu.exceptions.FailedParse:\n",
    "            for section, index in sample_indices.items():\n",
    "                index_failure_counts[game_id][section][index] += 1\n",
    "\n",
    "            continue\n",
    "\n",
    "\n"
   ]
  },
  {
   "cell_type": "code",
   "execution_count": 131,
   "metadata": {},
   "outputs": [],
   "source": [
    "for game_id, game_data in index_failure_counts.items():\n",
    "    for section, section_data in game_data.items():\n",
    "        for index, count in section_data.items():\n",
    "            if count > 0:\n",
    "                # if index not in index_success_counts[game_id][section] or index_success_counts[game_id][section][index] == 0:\n",
    "                print(f'{game_id}: {section} #{index} failed {count} times and never succeeded')"
   ]
  },
  {
   "cell_type": "code",
   "execution_count": 136,
   "metadata": {},
   "outputs": [
    {
     "name": "stderr",
     "output_type": "stream",
     "text": [
      "100%|██████████| 980/980 [02:13<00:00,  7.36it/s]\n"
     ]
    }
   ],
   "source": [
    "for game_text in tqdm.tqdm(game_texts):\n",
    "    game_ast = grammar_parser.parse(game_text)\n",
    "    test_ast_sample(game_ast, args, grammar_parser)"
   ]
  },
  {
   "cell_type": "code",
   "execution_count": 134,
   "metadata": {},
   "outputs": [],
   "source": [
    "with open('../dsl/ast-codex-combine-samples.pddl', 'w') as out:\n",
    "    out.write('\\n\\n'.join(game_texts))"
   ]
  },
  {
   "cell_type": "code",
   "execution_count": 170,
   "metadata": {},
   "outputs": [
    {
     "name": "stdout",
     "output_type": "stream",
     "text": [
      "../dsl/codex/codex_single_game_iterative_seed_55.pkl.gz\n",
      "../dsl/codex/codex_single_game_iterative_seed_88.pkl.gz\n",
      "../dsl/codex/codex_single_game_iterative_seed_77.pkl.gz\n",
      "../dsl/codex/codex_single_game_iterative_seed_13.pkl.gz\n",
      "../dsl/codex/codex_single_game_iterative_seed_66.pkl.gz\n",
      "../dsl/codex/codex_single_game_iterative_seed_42.pkl.gz\n",
      "../dsl/codex/codex_single_game_iterative_seed_33.pkl.gz\n",
      "../dsl/codex/codex_single_game_iterative_seed_23.pkl.gz\n",
      "dict_keys([55, 88, 77, 13, 66, 42, 33, 23])\n"
     ]
    }
   ],
   "source": [
    "def add_missing_close_parentheses(game: str, split_keys: typing.Sequence[str]):\n",
    "    for key in split_keys:\n",
    "        key_index = game.index(key)\n",
    "        game_to_key = game[:key_index]\n",
    "        open_count = game_to_key.count(f'(')\n",
    "        \n",
    "        while open_count > game_to_key.count(f')') + 1:\n",
    "            game_to_key += ')'\n",
    "\n",
    "        game = game_to_key + game[key_index:]\n",
    "\n",
    "    game_open_count = game.count('(')\n",
    "    while game_open_count > game.count(')'):\n",
    "        game += ')'\n",
    "\n",
    "    return game\n",
    "\n",
    "\n",
    "single_game_results_by_seed = {}\n",
    "\n",
    "\n",
    "for single_game_output_path in glob.glob('../dsl/codex/codex_single_game_iterative_seed_*.pkl.gz'):\n",
    "    print(single_game_output_path)\n",
    "    seed = int(single_game_output_path[single_game_output_path.rindex('_') + 1:-7])\n",
    "    with gzip.open(single_game_output_path, 'rb') as f:\n",
    "        single_game_results_by_seed[seed] = pickle.load(f)\n",
    "\n",
    "    for i in range(len(single_game_results_by_seed[seed])):\n",
    "        single_game_results_by_seed[seed][i]['fixed_final_generation'] = add_missing_close_parentheses(single_game_results_by_seed[seed][i]['final_generation'], ('(:constraints', '(:terminal', '(:scoring',))\n",
    "\n",
    "print(single_game_results_by_seed.keys())\n",
    "\n"
   ]
  },
  {
   "cell_type": "code",
   "execution_count": 172,
   "metadata": {},
   "outputs": [
    {
     "name": "stderr",
     "output_type": "stream",
     "text": [
      "98it [00:17,  5.47it/s]\n",
      "98it [00:09, 10.02it/s]\n",
      "98it [00:11,  8.42it/s]\n",
      "98it [00:13,  7.11it/s]\n",
      "98it [00:11,  8.49it/s]\n",
      "98it [00:07, 12.67it/s]\n",
      "98it [00:09, 10.11it/s]\n",
      "98it [00:18,  5.20it/s]"
     ]
    },
    {
     "name": "stdout",
     "output_type": "stream",
     "text": [
      "defaultdict(<class 'list'>, {55: [1, 2, 3, 4, 5, 6, 7, 8, 9, 10, 11, 13, 16, 17, 18, 19, 21, 22, 24, 25, 26, 27, 28, 29, 30, 31, 32, 33, 34, 35, 37, 40, 41, 43, 44, 45, 46, 47, 48, 49, 50, 51, 52, 54, 57, 58, 59, 60, 63, 64, 65, 66, 67, 68, 71, 73, 74, 75, 78, 80, 81, 82, 83, 88, 90, 91, 92, 96], 88: [0, 1, 3, 4, 5, 6, 10, 11, 13, 14, 16, 17, 18, 20, 24, 26, 27, 29, 30, 31, 32, 33, 34, 37, 38, 39, 42, 43, 45, 46, 90, 93, 94, 95, 96, 97], 77: [1, 3, 4, 5, 6, 7, 8, 10, 11, 12, 13, 14, 17, 18, 19, 20, 22, 24, 26, 27, 28, 29, 31, 34, 35, 37, 38, 39, 41, 42, 43, 44, 45, 48, 49, 50, 51, 52, 53, 54, 55, 57, 58, 59, 60, 62, 63, 64, 65, 66, 69, 70, 71, 74, 75, 76, 77, 78, 81, 83, 86, 87, 88, 89, 90, 91, 92, 93, 94, 96], 13: [2, 3, 4, 5, 6, 7, 8, 10, 11, 12, 15, 17, 19, 20, 21, 22, 23, 24, 25, 28, 29, 30, 33, 34, 35, 36, 38, 39, 40, 41, 42, 44, 45, 46, 47, 49, 51, 52, 54, 55, 57, 58, 59, 62, 63, 65, 66, 67, 68, 69, 71, 72, 73, 75, 76, 77, 80, 81, 82, 83, 84, 85, 86, 87, 88, 91, 93, 95, 96, 97], 66: [1, 2, 5, 7, 8, 9, 10, 11, 13, 14, 15, 17, 19, 20, 21, 22, 23, 26, 27, 30, 31, 33, 34, 35, 36, 40, 42, 43, 49, 50, 53, 54, 58, 61, 62, 64, 65, 66, 70, 71, 72, 74, 76, 78, 80, 81, 82, 83, 86, 88, 89, 90, 91, 93, 94, 95, 96, 97], 42: [0, 3, 4, 8, 9, 11, 12, 15, 16, 19, 22, 28, 30, 31, 32, 33, 40, 41, 42, 44, 46, 47, 48, 49, 51, 57, 58, 59, 61, 62, 63, 64, 70, 72, 84], 33: [0, 1, 3, 5, 9, 13, 14, 16, 17, 18, 19, 22, 23, 24, 27, 28, 29, 30, 31, 32, 34, 35, 36, 37, 38, 42, 43, 45, 47, 48, 49, 50, 51, 52, 53, 55, 56, 57, 58, 59, 60, 61, 62, 63, 64, 65, 66, 69, 71, 72, 74, 75, 76, 77, 78, 79, 80, 81, 82, 85, 86, 87, 88, 92, 93, 95, 96, 97], 23: [27, 29, 30, 31, 32, 33, 34, 35, 37, 39, 40, 42, 43, 44, 45, 46, 47, 50, 52, 54, 55, 57, 59, 60, 61, 62, 63, 64, 66, 67, 68, 69, 70, 71, 73, 74, 76, 77, 78, 79, 80, 82, 84, 85, 86, 87, 88, 90, 91, 93, 95, 96]})\n"
     ]
    },
    {
     "name": "stderr",
     "output_type": "stream",
     "text": [
      "\n"
     ]
    }
   ],
   "source": [
    "successes_by_seed = defaultdict(list)\n",
    "failures_by_seed = defaultdict(list)\n",
    "\n",
    "for seed, seed_results in single_game_results_by_seed.items():\n",
    "    for i, game_result in tqdm.tqdm(enumerate(seed_results)):\n",
    "        game = game_result['fixed_final_generation']\n",
    "\n",
    "        try:\n",
    "            game_ast = grammar_parser.parse(game)\n",
    "            game_text = test_ast_sample(game_ast, args, grammar_parser)\n",
    "            successes_by_seed[seed].append(i)\n",
    "\n",
    "        except:\n",
    "            failures_by_seed[seed].append(i)\n",
    "\n",
    "print(successes_by_seed)\n"
   ]
  },
  {
   "cell_type": "code",
   "execution_count": 175,
   "metadata": {},
   "outputs": [
    {
     "name": "stdout",
     "output_type": "stream",
     "text": [
      "{55: 68, 88: 36, 77: 70, 13: 70, 66: 58, 42: 35, 33: 68, 23: 52}\n"
     ]
    }
   ],
   "source": [
    "print({k: len(v) for k, v in successes_by_seed.items()})"
   ]
  },
  {
   "cell_type": "code",
   "execution_count": 168,
   "metadata": {},
   "outputs": [
    {
     "data": {
      "text/plain": [
       "0"
      ]
     },
     "execution_count": 168,
     "metadata": {},
     "output_type": "execute_result"
    }
   ],
   "source": [
    "s = '''\n",
    "(define (game 6172feb1665491d1efbce164-0) (:domain medium-objects-room-v1)  \n",
    "(:setup  (and \n",
    "    (exists (?h - hexagonal_bin ?c1 - blue_cube_block ?c2 - yellow_cube_block) (game-conserved (and \n",
    "        (adjacent ?h desk)\n",
    "        (= (distance ?c1 ?h) 1)\n",
    "        (= (distance ?c2 ?h) 1)\n",
    "        (between ?h ?c1 ?c2)\n",
    "    )))\n",
    "))\n",
    "\n",
    "(:constraints  (and\n",
    "    (preference binKnockedOver \n",
    "        (then \n",
    "            (once (exists (?h - hexagonal_bin) (agent_holds ?h)))\n",
    "            (hold (not (exists (?h - hexagonal_bin) (agent_holds ?h))))\n",
    "            (once (exists (?h - hexagonal_bin) (on_side ?h bottom ?h)))\n",
    "        )\n",
    "    )\n",
    "    (preference throwToRampToBin (exists (?b - ball ?h - hexagonal_bin ?r - triangular_ramp)\n",
    "        (then\n",
    "            (once (agent_holds ?b))\n",
    "            (hold (and (not (agent_holds ?b)) (in_motion ?b)))\n",
    "            (once (and (not (in_motion ?b)) (in ?h ?b)))\n",
    "        )\n",
    "    ))\n",
    ")\n",
    ")(:terminal  (or \n",
    "    (>= (total-score) 20)\n",
    "    (>= (total-time) 30)\n",
    ")\n",
    ")(:scoring  (+ \n",
    "    (count throwToRampToBin)\n",
    "    (* 5 (count binKnockedOver))\n",
    ")))\n",
    "\n",
    "'''\n",
    "\n",
    "t = '''\n",
    "\n",
    "(:terminal  (or \n",
    "    (>= (total-score) 20)\n",
    "    (>= (total-time) 30)\n",
    ")\n",
    "(:scoring  (+ \n",
    "    (count throwToRampToBin)\n",
    "    (* 5 (count binKnockedOver))\n",
    ")))))\n",
    "'''\n",
    "\n",
    "s.count('(') - s.count(')')"
   ]
  },
  {
   "cell_type": "code",
   "execution_count": null,
   "metadata": {},
   "outputs": [],
   "source": []
  }
 ],
 "metadata": {
  "kernelspec": {
   "display_name": "game-gen",
   "language": "python",
   "name": "python3"
  },
  "language_info": {
   "codemirror_mode": {
    "name": "ipython",
    "version": 3
   },
   "file_extension": ".py",
   "mimetype": "text/x-python",
   "name": "python",
   "nbconvert_exporter": "python",
   "pygments_lexer": "ipython3",
   "version": "3.10.8"
  },
  "orig_nbformat": 4,
  "vscode": {
   "interpreter": {
    "hash": "d207b42274502bc006609ff0f580407f35ab20e7889cda7ddd92e73aeb06c569"
   }
  }
 },
 "nbformat": 4,
 "nbformat_minor": 2
}
