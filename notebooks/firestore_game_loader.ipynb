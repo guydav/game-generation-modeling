{
 "cells": [
  {
   "cell_type": "code",
   "execution_count": 1,
   "metadata": {},
   "outputs": [],
   "source": [
    "\n",
    "import json\n",
    "import pandas as pd\n",
    "from IPython.display import display, Markdown, Latex\n",
    "\n",
    "import textstat\n",
    "import tabulate"
   ]
  },
  {
   "cell_type": "code",
   "execution_count": 43,
   "metadata": {},
   "outputs": [],
   "source": [
    "KEYS_TO_EXTRACT = ('participantID', 'timestamp', 'scene', \n",
    "    'game.setup', 'game.gameplay', 'game.scoring', 'game.difficulty', 'game.firstTimeScore', \n",
    "    'gameScore.score', 'gameScore.thoughts', \n",
    "    'debrief.strategy', 'debrief.difficulties', 'debrief.questions', 'debrief.external_aids')\n",
    "\n",
    "GAME_KEYS = ('setup', 'gameplay', 'scoring', 'difficulty', 'firstTimeScore')\n",
    "\n",
    "SHORT_SCENE_NAMES = {\n",
    "    'FloorPlan326_physics_semi_sparse_few_new_objects': 'few_objects',\n",
    "    'FloorPlan326_physics_semi_sparse_new_objects': 'medium_objects',\n",
    "    'FloorPlan326_physics_semi_sparse_many_new_objects': 'many_objects',\n",
    "}\n",
    "\n",
    "GAME_TEMPLATE = \"\"\"(define (game {participantID}) (:domain {room}-objects-room-v1)  ; {index}\n",
    "(:setup (and \n",
    "\n",
    "))\n",
    "(:constraints (and \n",
    "\n",
    "))\n",
    "(:scoring maximize\n",
    "\n",
    "))\"\"\"\n",
    "\n",
    "def recursive_extract_value(d, key):\n",
    "    if '.' in key:\n",
    "        split_key = key.split('.')\n",
    "\n",
    "    else:\n",
    "        split_key = [key]\n",
    "\n",
    "    value = d\n",
    "    for key_part in split_key:\n",
    "        if key_part == 'game':\n",
    "            key_part = 'editedGame' if 'editedGame' in value else 'initialGame'\n",
    "                \n",
    "        value = value[key_part] if key_part in value else None\n",
    "        if value == None:\n",
    "            return value\n",
    "\n",
    "    return value\n",
    "\n",
    "\n",
    "def is_edited_and_fields(doc_dict):\n",
    "    if 'initialGame' not in doc_dict:\n",
    "        return None, []\n",
    "\n",
    "    if 'editedGame' not in doc_dict:\n",
    "        return False, []\n",
    "\n",
    "    edited_fields = [key for key in GAME_KEYS if doc_dict['initialGame'][key] != doc_dict['editedGame'][key]]\n",
    "    return any(edited_fields), edited_fields\n",
    "\n",
    "\n",
    "def participant_dict_to_row(doc, keys=KEYS_TO_EXTRACT):\n",
    "    d = doc.to_dict()\n",
    "    row = {'id': doc.id}\n",
    "    row.update({key.replace('.', '_'): recursive_extract_value(d, key) for key in keys})\n",
    "    game_edited, edited_fields = is_edited_and_fields(d)\n",
    "    row['game_edited'] = game_edited\n",
    "    row['edited_game_fields'] = ','.join(edited_fields)\n",
    "    return row\n",
    "\n",
    "\n",
    "def print_participant(df, index, game_fields=('game_setup', 'game_gameplay', 'game_scoring', 'game_difficulty', 'game_firstTimeScore')):\n",
    "    p = df.loc[index]\n",
    "    display(Markdown(f'## {p.participantID} ({p.id}) ({p.scene})'))\n",
    "    display(Markdown(f'Collected at {p.timestamp}'))\n",
    "\n",
    "    for game_field in game_fields:\n",
    "        display(Markdown(f'### {game_field.replace(\"game_\", \"\")}:'))\n",
    "        display(Markdown(str(p[game_field])))\n",
    "\n",
    "    room = p.scene.split('_')[0] if p.scene is not None else ''\n",
    "    print(GAME_TEMPLATE.format(participantID=p.participantID, room=room, index=index))\n",
    "    print()\n",
    "\n",
    "    schema_template = dict(metadata=dict(prolific_id=p.participantID, id=p.id, index=index, room=p.scene, notes='')) \n",
    "    print(json.dumps(schema_template, indent=4))\n",
    "    \n",
    "\n",
    "STATISTICS_CSV_COLUMNS = (\n",
    "    'id', 'participantID', 'timestamp', 'scene', \n",
    "    'game_setup', 'game_gameplay', 'game_scoring', 'game_difficulty',\n",
    "    'game_firstTimeScore', 'gameScore_score', 'gameScore_thoughts',\n",
    "    'game_edited', 'edited_game_fields'\n",
    ")\n",
    "\n",
    "STATISTICS_CSV_COLUMN_REMAPPING = {'participantID': 'prolific_id'}\n",
    "\n",
    "STATISTICS_CSV_OUT_PATH = '../data/interactive_beta_firestore_statistics.csv'\n",
    "\n",
    "STATISTICS_IDS_TO_SKIP = ('GLPtcvJUaHkUYK7iEPRq', 'zhq2iVuBVQxs15gj7Blw')\n",
    "\n",
    "\n",
    "def df_to_statistics_csv(df, out_path=STATISTICS_CSV_OUT_PATH):\n",
    "    out_df = df.reindex(columns=STATISTICS_CSV_COLUMNS)\n",
    "    out_df = out_df.loc[[pid not in STATISTICS_IDS_TO_SKIP for pid in out_df.id], :]\n",
    "    out_df = out_df.rename(columns=STATISTICS_CSV_COLUMN_REMAPPING)\n",
    "    print(out_df.columns)\n",
    "    out_df.to_csv(out_path)\n"
   ]
  },
  {
   "cell_type": "code",
   "execution_count": 44,
   "metadata": {},
   "outputs": [],
   "source": [
    "LOAD_DATA_FROM_FIRESTORE = False\n",
    "WRITE_DATA_TO_CSV = False\n",
    "PARTICIPANTS_CSV_PATH = '../data/interactive_beta.csv'\n",
    "COLLECTION_NAME = 'participants-v2'\n",
    "\n",
    "\n",
    "if LOAD_DATA_FROM_FIRESTORE:\n",
    "    import firebase_admin\n",
    "    from firebase_admin import credentials\n",
    "    from firebase_admin import firestore\n",
    "\n",
    "    # Use a service account\n",
    "    cred = credentials.Certificate('./game-generation-6db9c-aef76f1917f8.json')\n",
    "    firebase_admin.initialize_app(cred)\n",
    "\n",
    "    db = firestore.client()\n",
    "\n",
    "    participants_with_replays = db.collection(COLLECTION_NAME).order_by('timestamp', direction=firestore.Query.ASCENDING).order_by('replays', direction=firestore.Query.DESCENDING).stream()\n",
    "    participant_rows = [participant_dict_to_row(doc) for doc in participants_with_replays]\n",
    "    participant_df = pd.DataFrame(participant_rows)\n",
    "    participant_df.scene = [SHORT_SCENE_NAMES[s] if s in SHORT_SCENE_NAMES else None for s in participant_df.scene]\n",
    "    participant_df = participant_df[participant_df.scene.notna() & participant_df.game_setup.notna() & participant_df.game_gameplay.notna() & participant_df.game_scoring.notna()]\n",
    "    participant_df = participant_df[participant_df.participantID.str.len() > 10]\n",
    "    participant_df = participant_df[participant_df.participantID != '5f63a8f17e0e2f0c5aebfc0b']\n",
    "    participant_df = participant_df.reset_index()\n",
    "\n",
    "    if WRITE_DATA_TO_CSV:\n",
    "        participant_df.to_csv(PARTICIPANTS_CSV_PATH)\n",
    "        df_to_statistics_csv(participant_df)\n",
    "\n",
    "else:\n",
    "    participant_df = pd.read_csv(PARTICIPANTS_CSV_PATH)\n",
    "\n"
   ]
  },
  {
   "cell_type": "code",
   "execution_count": 41,
   "metadata": {},
   "outputs": [
    {
     "name": "stdout",
     "output_type": "stream",
     "text": [
      "(54, 19)\n"
     ]
    },
    {
     "data": {
      "text/html": [
       "<div>\n",
       "<style scoped>\n",
       "    .dataframe tbody tr th:only-of-type {\n",
       "        vertical-align: middle;\n",
       "    }\n",
       "\n",
       "    .dataframe tbody tr th {\n",
       "        vertical-align: top;\n",
       "    }\n",
       "\n",
       "    .dataframe thead th {\n",
       "        text-align: right;\n",
       "    }\n",
       "</style>\n",
       "<table border=\"1\" class=\"dataframe\">\n",
       "  <thead>\n",
       "    <tr style=\"text-align: right;\">\n",
       "      <th></th>\n",
       "      <th>Unnamed: 0</th>\n",
       "      <th>index</th>\n",
       "      <th>id</th>\n",
       "      <th>participantID</th>\n",
       "      <th>timestamp</th>\n",
       "      <th>scene</th>\n",
       "      <th>game_setup</th>\n",
       "      <th>game_gameplay</th>\n",
       "      <th>game_scoring</th>\n",
       "      <th>game_difficulty</th>\n",
       "      <th>game_firstTimeScore</th>\n",
       "      <th>gameScore_score</th>\n",
       "      <th>gameScore_thoughts</th>\n",
       "      <th>debrief_strategy</th>\n",
       "      <th>debrief_difficulties</th>\n",
       "      <th>debrief_questions</th>\n",
       "      <th>debrief_external_aids</th>\n",
       "      <th>game_edited</th>\n",
       "      <th>edited_game_fields</th>\n",
       "    </tr>\n",
       "  </thead>\n",
       "  <tbody>\n",
       "    <tr>\n",
       "      <th>0</th>\n",
       "      <td>0</td>\n",
       "      <td>17</td>\n",
       "      <td>RfP7c4trKFGmDp6xpiG8</td>\n",
       "      <td>6172feb1665491d1efbce164</td>\n",
       "      <td>2021-10-22 20:57:12.168000+00:00</td>\n",
       "      <td>medium_objects</td>\n",
       "      <td>Place small ramp in front of bin where there i...</td>\n",
       "      <td>Take ball (any), and try to get it into the bi...</td>\n",
       "      <td>1 point per successful hit.</td>\n",
       "      <td>1</td>\n",
       "      <td>6</td>\n",
       "      <td>NaN</td>\n",
       "      <td>NaN</td>\n",
       "      <td>NaN</td>\n",
       "      <td>NaN</td>\n",
       "      <td>NaN</td>\n",
       "      <td>NaN</td>\n",
       "      <td>False</td>\n",
       "      <td>NaN</td>\n",
       "    </tr>\n",
       "    <tr>\n",
       "      <th>1</th>\n",
       "      <td>1</td>\n",
       "      <td>18</td>\n",
       "      <td>eYM9NgeUlg9mGpwlGemD</td>\n",
       "      <td>613a4662d21e1715cc079587</td>\n",
       "      <td>2021-10-22 20:58:20.433000+00:00</td>\n",
       "      <td>many_objects</td>\n",
       "      <td>NaN</td>\n",
       "      <td>The game I can play in this room it is call me...</td>\n",
       "      <td>the scoring system can be the more hits you ha...</td>\n",
       "      <td>1</td>\n",
       "      <td>from 1 to 10. I would say an 8 haha, I'm not g...</td>\n",
       "      <td>I scored 7</td>\n",
       "      <td>I think it might be better if the objects disa...</td>\n",
       "      <td>Starting by memorizing the shapes of objects a...</td>\n",
       "      <td>yes, it could be that the game programming is ...</td>\n",
       "      <td>I would like to play the game when it is fully...</td>\n",
       "      <td>no</td>\n",
       "      <td>False</td>\n",
       "      <td>NaN</td>\n",
       "    </tr>\n",
       "    <tr>\n",
       "      <th>2</th>\n",
       "      <td>2</td>\n",
       "      <td>19</td>\n",
       "      <td>SFpazSkgQ7MFSwDEa3c9</td>\n",
       "      <td>5f77754ba932fb2c4ba181d8</td>\n",
       "      <td>2021-10-22 21:02:15.391000+00:00</td>\n",
       "      <td>many_objects</td>\n",
       "      <td>Open the top drawer beside your bed.</td>\n",
       "      <td>First you pick up a dodgeball or a golf ball a...</td>\n",
       "      <td>To score in this game you just have to throw a...</td>\n",
       "      <td>1</td>\n",
       "      <td>10</td>\n",
       "      <td>NaN</td>\n",
       "      <td>NaN</td>\n",
       "      <td>NaN</td>\n",
       "      <td>NaN</td>\n",
       "      <td>NaN</td>\n",
       "      <td>NaN</td>\n",
       "      <td>False</td>\n",
       "      <td>NaN</td>\n",
       "    </tr>\n",
       "    <tr>\n",
       "      <th>3</th>\n",
       "      <td>3</td>\n",
       "      <td>20</td>\n",
       "      <td>lchV8TQjaHcYtHAqR31Q</td>\n",
       "      <td>614b603d4da88384282967a7</td>\n",
       "      <td>2021-10-23 20:36:08.420000+00:00</td>\n",
       "      <td>many_objects</td>\n",
       "      <td>NaN</td>\n",
       "      <td>Create a tower with the largest number of figu...</td>\n",
       "      <td>Each level of the tower will count as 1 point</td>\n",
       "      <td>3</td>\n",
       "      <td>I would score 6 points</td>\n",
       "      <td>5</td>\n",
       "      <td>It is very hard</td>\n",
       "      <td>I thought as if I were a child playing with to...</td>\n",
       "      <td>No.</td>\n",
       "      <td>It would be nice to let the user change the ke...</td>\n",
       "      <td>No, just my imagination</td>\n",
       "      <td>False</td>\n",
       "      <td>NaN</td>\n",
       "    </tr>\n",
       "    <tr>\n",
       "      <th>4</th>\n",
       "      <td>4</td>\n",
       "      <td>21</td>\n",
       "      <td>tM0MidzjBJBLkOEPYr2F</td>\n",
       "      <td>616a7fe177d97578e592113b</td>\n",
       "      <td>2021-10-23 22:33:04.491000+00:00</td>\n",
       "      <td>medium_objects</td>\n",
       "      <td>The ball must roll down the ramp and hit as ma...</td>\n",
       "      <td>Minni ball bash</td>\n",
       "      <td>The more blocks it hits the more points you get</td>\n",
       "      <td>2</td>\n",
       "      <td>4</td>\n",
       "      <td>2</td>\n",
       "      <td>I dont like this game that mutch</td>\n",
       "      <td>All making use of grafity and placement of the...</td>\n",
       "      <td>No. The game is unprodictable and that was the...</td>\n",
       "      <td>No</td>\n",
       "      <td>No</td>\n",
       "      <td>False</td>\n",
       "      <td>NaN</td>\n",
       "    </tr>\n",
       "  </tbody>\n",
       "</table>\n",
       "</div>"
      ],
      "text/plain": [
       "   Unnamed: 0  index                    id             participantID  \\\n",
       "0           0     17  RfP7c4trKFGmDp6xpiG8  6172feb1665491d1efbce164   \n",
       "1           1     18  eYM9NgeUlg9mGpwlGemD  613a4662d21e1715cc079587   \n",
       "2           2     19  SFpazSkgQ7MFSwDEa3c9  5f77754ba932fb2c4ba181d8   \n",
       "3           3     20  lchV8TQjaHcYtHAqR31Q  614b603d4da88384282967a7   \n",
       "4           4     21  tM0MidzjBJBLkOEPYr2F  616a7fe177d97578e592113b   \n",
       "\n",
       "                          timestamp           scene  \\\n",
       "0  2021-10-22 20:57:12.168000+00:00  medium_objects   \n",
       "1  2021-10-22 20:58:20.433000+00:00    many_objects   \n",
       "2  2021-10-22 21:02:15.391000+00:00    many_objects   \n",
       "3  2021-10-23 20:36:08.420000+00:00    many_objects   \n",
       "4  2021-10-23 22:33:04.491000+00:00  medium_objects   \n",
       "\n",
       "                                          game_setup  \\\n",
       "0  Place small ramp in front of bin where there i...   \n",
       "1                                                NaN   \n",
       "2               Open the top drawer beside your bed.   \n",
       "3                                                NaN   \n",
       "4  The ball must roll down the ramp and hit as ma...   \n",
       "\n",
       "                                       game_gameplay  \\\n",
       "0  Take ball (any), and try to get it into the bi...   \n",
       "1  The game I can play in this room it is call me...   \n",
       "2  First you pick up a dodgeball or a golf ball a...   \n",
       "3  Create a tower with the largest number of figu...   \n",
       "4                                    Minni ball bash   \n",
       "\n",
       "                                        game_scoring  game_difficulty  \\\n",
       "0                       1 point per successful hit.                 1   \n",
       "1  the scoring system can be the more hits you ha...                1   \n",
       "2  To score in this game you just have to throw a...                1   \n",
       "3      Each level of the tower will count as 1 point                3   \n",
       "4    The more blocks it hits the more points you get                2   \n",
       "\n",
       "                                 game_firstTimeScore gameScore_score  \\\n",
       "0                                                  6             NaN   \n",
       "1  from 1 to 10. I would say an 8 haha, I'm not g...      I scored 7   \n",
       "2                                                 10             NaN   \n",
       "3                             I would score 6 points               5   \n",
       "4                                                  4               2   \n",
       "\n",
       "                                  gameScore_thoughts  \\\n",
       "0                                                NaN   \n",
       "1  I think it might be better if the objects disa...   \n",
       "2                                                NaN   \n",
       "3                                    It is very hard   \n",
       "4                   I dont like this game that mutch   \n",
       "\n",
       "                                    debrief_strategy  \\\n",
       "0                                                NaN   \n",
       "1  Starting by memorizing the shapes of objects a...   \n",
       "2                                                NaN   \n",
       "3  I thought as if I were a child playing with to...   \n",
       "4  All making use of grafity and placement of the...   \n",
       "\n",
       "                                debrief_difficulties  \\\n",
       "0                                                NaN   \n",
       "1  yes, it could be that the game programming is ...   \n",
       "2                                                NaN   \n",
       "3                                                No.   \n",
       "4  No. The game is unprodictable and that was the...   \n",
       "\n",
       "                                   debrief_questions    debrief_external_aids  \\\n",
       "0                                                NaN                      NaN   \n",
       "1  I would like to play the game when it is fully...                       no   \n",
       "2                                                NaN                      NaN   \n",
       "3  It would be nice to let the user change the ke...  No, just my imagination   \n",
       "4                                                 No                       No   \n",
       "\n",
       "   game_edited edited_game_fields  \n",
       "0        False                NaN  \n",
       "1        False                NaN  \n",
       "2        False                NaN  \n",
       "3        False                NaN  \n",
       "4        False                NaN  "
      ]
     },
     "execution_count": 41,
     "metadata": {},
     "output_type": "execute_result"
    }
   ],
   "source": [
    "print(participant_df.shape)\n",
    "participant_df.head()"
   ]
  },
  {
   "cell_type": "code",
   "execution_count": 45,
   "metadata": {},
   "outputs": [
    {
     "name": "stdout",
     "output_type": "stream",
     "text": [
      "Index(['id', 'prolific_id', 'timestamp', 'scene', 'game_setup',\n",
      "       'game_gameplay', 'game_scoring', 'game_difficulty',\n",
      "       'game_firstTimeScore', 'gameScore_score', 'gameScore_thoughts',\n",
      "       'game_edited', 'edited_game_fields'],\n",
      "      dtype='object')\n"
     ]
    }
   ],
   "source": [
    "df_to_statistics_csv(participant_df)"
   ]
  },
  {
   "cell_type": "code",
   "execution_count": 14,
   "metadata": {},
   "outputs": [
    {
     "data": {
      "text/markdown": [
       "## 613e4bf960ca68f8de00e5e7 (GLPtcvJUaHkUYK7iEPRq) (medium_objects)"
      ],
      "text/plain": [
       "<IPython.core.display.Markdown object>"
      ]
     },
     "metadata": {},
     "output_type": "display_data"
    },
    {
     "data": {
      "text/markdown": [
       "Collected at 2021-11-08 21:14:13.145000+00:00"
      ],
      "text/plain": [
       "<IPython.core.display.Markdown object>"
      ]
     },
     "metadata": {},
     "output_type": "display_data"
    },
    {
     "data": {
      "text/markdown": [
       "### setup:"
      ],
      "text/plain": [
       "<IPython.core.display.Markdown object>"
      ]
     },
     "metadata": {},
     "output_type": "display_data"
    },
    {
     "data": {
      "text/markdown": [],
      "text/plain": [
       "<IPython.core.display.Markdown object>"
      ]
     },
     "metadata": {},
     "output_type": "display_data"
    },
    {
     "data": {
      "text/markdown": [
       "### gameplay:"
      ],
      "text/plain": [
       "<IPython.core.display.Markdown object>"
      ]
     },
     "metadata": {},
     "output_type": "display_data"
    },
    {
     "data": {
      "text/markdown": [
       "The pieces on the shelf between the two windows must be stacked in such a way as to create a kind of castle. You have to create two equal castles, the colors are not important but if you choose certain colors points are added.\n",
       "\n",
       "To create each castle you have to follow this order of pieces (from bottom to top):\n",
       "- Bridge\n",
       "- Flat piece\n",
       "- Cylinder\n",
       "- Square\n",
       "- Pyramid"
      ],
      "text/plain": [
       "<IPython.core.display.Markdown object>"
      ]
     },
     "metadata": {},
     "output_type": "display_data"
    },
    {
     "data": {
      "text/markdown": [
       "### scoring:"
      ],
      "text/plain": [
       "<IPython.core.display.Markdown object>"
      ]
     },
     "metadata": {},
     "output_type": "display_data"
    },
    {
     "data": {
      "text/markdown": [
       "For each castle built in the correct order of pieces will be awarded 10 points.\n",
       "\n",
       "If the castles follow this order of colors extra points will be awarded:\n",
       "\n",
       "First castle:\n",
       "- Green bridge\n",
       "- Glat yellow piece\n",
       "- Yellow cylinder\n",
       "- Green square\n",
       "- Orange pyramid\n",
       "\n",
       "Second castle: \n",
       "- Bridge color wood\n",
       "- Flat gray piece\n",
       "- Cylinder color wood\n",
       "- Blue cylinder\n",
       "- Red pyramid\n",
       "\n",
       "If 3 of the pieces have the correct color order (in the corresponding village) 5 points per castle will be awarded, if 4 colors are good it will be 7 points per castle and if all colors are good, 10 points per castle. The maximum score is 40 points."
      ],
      "text/plain": [
       "<IPython.core.display.Markdown object>"
      ]
     },
     "metadata": {},
     "output_type": "display_data"
    },
    {
     "data": {
      "text/markdown": [
       "### difficulty:"
      ],
      "text/plain": [
       "<IPython.core.display.Markdown object>"
      ]
     },
     "metadata": {},
     "output_type": "display_data"
    },
    {
     "data": {
      "text/markdown": [
       "0"
      ],
      "text/plain": [
       "<IPython.core.display.Markdown object>"
      ]
     },
     "metadata": {},
     "output_type": "display_data"
    },
    {
     "data": {
      "text/markdown": [
       "### firstTimeScore:"
      ],
      "text/plain": [
       "<IPython.core.display.Markdown object>"
      ]
     },
     "metadata": {},
     "output_type": "display_data"
    },
    {
     "data": {
      "text/markdown": [
       "40"
      ],
      "text/plain": [
       "<IPython.core.display.Markdown object>"
      ]
     },
     "metadata": {},
     "output_type": "display_data"
    },
    {
     "name": "stdout",
     "output_type": "stream",
     "text": [
      "(define (game 613e4bf960ca68f8de00e5e7) (:domain medium-objects-room-v1)  ; 17\n",
      "(:setup (and \n",
      "\n",
      "))\n",
      "(:constraints (and \n",
      "\n",
      "))\n",
      "(:scoring maximize\n",
      "\n",
      "))\n",
      "\n",
      "{\n",
      "    \"metadata\": {\n",
      "        \"prolific_id\": \"613e4bf960ca68f8de00e5e7\",\n",
      "        \"id\": \"GLPtcvJUaHkUYK7iEPRq\",\n",
      "        \"index\": 17,\n",
      "        \"room\": \"medium_objects\",\n",
      "        \"notes\": \"\"\n",
      "    }\n",
      "}\n"
     ]
    }
   ],
   "source": [
    "\n",
    "print_participant(participant_df, 17)"
   ]
  },
  {
   "cell_type": "markdown",
   "metadata": {},
   "source": [
    "# Statistics on plaintext versions"
   ]
  },
  {
   "cell_type": "code",
   "execution_count": 6,
   "metadata": {},
   "outputs": [],
   "source": [
    "DEFAULT_STATS_FIELDS = ('game_setup', 'game_gameplay', 'game_scoring')\n",
    "\n",
    "def run_textstat_func(textstat_func, df, fields=DEFAULT_STATS_FIELDS):\n",
    "    if isinstance(fields, slice):\n",
    "        subset = df.iloc[:, fields].copy()\n",
    "    else:\n",
    "        subset = df.loc[:, fields].copy()\n",
    "        \n",
    "    subset[subset.isna()] = ''\n",
    "    s = subset.agg('\\n'.join, axis=1)\n",
    "    scores = s.apply(textstat_func)\n",
    "    return scores.mean(), scores.std() / (len(scores) ** 0.5)"
   ]
  },
  {
   "cell_type": "code",
   "execution_count": 7,
   "metadata": {},
   "outputs": [
    {
     "data": {
      "text/plain": [
       "(75.63380952380952, 4.418337517351245)"
      ]
     },
     "execution_count": 7,
     "metadata": {},
     "output_type": "execute_result"
    }
   ],
   "source": [
    "run_textstat_func(textstat.flesch_reading_ease, participant_df)"
   ]
  },
  {
   "cell_type": "code",
   "execution_count": 8,
   "metadata": {},
   "outputs": [],
   "source": [
    "few_objects_df = pd.read_csv('../data/few_objects.csv')\n",
    "medium_objects_df = pd.read_csv('../data/medium_objects.csv')\n",
    "many_objects_df = pd.read_csv('../data/many_objects.csv')"
   ]
  },
  {
   "cell_type": "code",
   "execution_count": 9,
   "metadata": {},
   "outputs": [
    {
     "data": {
      "text/plain": [
       "'flesch_reading_ease'"
      ]
     },
     "execution_count": 9,
     "metadata": {},
     "output_type": "execute_result"
    }
   ],
   "source": [
    "textstat.flesch_reading_ease.__name__"
   ]
  },
  {
   "cell_type": "code",
   "execution_count": 11,
   "metadata": {},
   "outputs": [
    {
     "data": {
      "text/markdown": [
       "| name                    | flesch_reading_ease   | flesch_kincaid_grade   | gunning_fog        |\n",
       "|-------------------------|-----------------------|------------------------|--------------------|\n",
       "| survey - few objects    | $ 61.48 \\pm 7.66 $    | $ 14.73 \\pm 2.96 $     | $ 17.11 \\pm 3.06 $ |\n",
       "| survey - medium objects | $ 61.76 \\pm 5.55 $    | $ 13.73 \\pm 2.08 $     | $ 16.03 \\pm 2.12 $ |\n",
       "| survey - many objects   | $ 56.42 \\pm 5.95 $    | $ 15.56 \\pm 2.23 $     | $ 17.65 \\pm 2.30 $ |\n",
       "| interactive beta        | $ 75.63 \\pm 4.42 $    | $ 9.39 \\pm 1.59 $      | $ 11.83 \\pm 1.57 $ |"
      ],
      "text/plain": [
       "<IPython.core.display.Markdown object>"
      ]
     },
     "metadata": {},
     "output_type": "display_data"
    }
   ],
   "source": [
    "TEXTSTAT_FUNCS = (textstat.flesch_reading_ease, textstat.flesch_kincaid_grade, textstat.gunning_fog)\n",
    "NAMES = ['survey - few objects', 'survey - medium objects', 'survey - many objects', 'interactive beta']\n",
    "\n",
    "rows = []\n",
    "\n",
    "for i, df in enumerate((few_objects_df, medium_objects_df, many_objects_df, participant_df)):\n",
    "    scores = [run_textstat_func(func, df, fields=slice(1, 4) if i < 3 else DEFAULT_STATS_FIELDS) for func in TEXTSTAT_FUNCS]\n",
    "    rows.append([NAMES[i]] + [f'$ {s[0]:.2f} \\\\pm {s[1]:.2f} $' for s in scores])\n",
    "\n",
    "headers = ['name'] + [func.__name__ for func in TEXTSTAT_FUNCS]\n",
    "\n",
    "display(Markdown(tabulate.tabulate(rows, headers=headers, tablefmt='github')))\n",
    "\n",
    "# few_objects_df.iloc[:, slice(1, 4)].agg(lambda x: [type(z) for z in x], axis=1)"
   ]
  },
  {
   "cell_type": "code",
   "execution_count": null,
   "metadata": {},
   "outputs": [],
   "source": []
  },
  {
   "cell_type": "code",
   "execution_count": null,
   "metadata": {},
   "outputs": [],
   "source": []
  }
 ],
 "metadata": {
  "interpreter": {
   "hash": "c7f8e00f851a7185e5345342178c14041451eaa6562c62790473e641b6de40ed"
  },
  "kernelspec": {
   "display_name": "Python 3.8.5 64-bit ('torch': conda)",
   "name": "python3"
  },
  "language_info": {
   "codemirror_mode": {
    "name": "ipython",
    "version": 3
   },
   "file_extension": ".py",
   "mimetype": "text/x-python",
   "name": "python",
   "nbconvert_exporter": "python",
   "pygments_lexer": "ipython3",
   "version": "3.8.5"
  },
  "orig_nbformat": 4
 },
 "nbformat": 4,
 "nbformat_minor": 2
}
