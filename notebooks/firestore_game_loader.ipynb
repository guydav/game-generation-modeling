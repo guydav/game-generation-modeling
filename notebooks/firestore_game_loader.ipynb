{
 "cells": [
  {
   "cell_type": "code",
   "execution_count": 1,
   "metadata": {},
   "outputs": [],
   "source": [
    "\n",
    "import json\n",
    "import pandas as pd\n",
    "from IPython.display import display, Markdown, Latex\n",
    "\n",
    "import textstat\n",
    "import tabulate"
   ]
  },
  {
   "cell_type": "code",
   "execution_count": 13,
   "metadata": {},
   "outputs": [],
   "source": [
    "KEYS_TO_EXTRACT = ('participantID', 'timestamp', 'scene', \n",
    "    'game.setup', 'game.gameplay', 'game.scoring', 'game.difficulty', 'game.firstTimeScore', \n",
    "    'gameScore.score', 'gameScore.thoughts', \n",
    "    'debrief.strategy', 'debrief.difficulties', 'debrief.questions', 'debrief.external_aids')\n",
    "\n",
    "SHORT_SCENE_NAMES = {\n",
    "    'FloorPlan326_physics_semi_sparse_few_new_objects': 'few_objects',\n",
    "    'FloorPlan326_physics_semi_sparse_new_objects': 'medium_objects',\n",
    "    'FloorPlan326_physics_semi_sparse_many_new_objects': 'many_objects',\n",
    "}\n",
    "\n",
    "GAME_TEMPLATE = \"\"\"(define (game {participantID}) (:domain {room}-objects-room-v1)  ; {index}\n",
    "(:setup (and \n",
    "\n",
    "))\n",
    "(:constraints (and \n",
    "\n",
    "))\n",
    "(:scoring maximize\n",
    "\n",
    "))\"\"\"\n",
    "\n",
    "def recursive_extract_value(d, key):\n",
    "    if '.' in key:\n",
    "        split_key = key.split('.')\n",
    "\n",
    "    else:\n",
    "        split_key = [key]\n",
    "\n",
    "    value = d\n",
    "    for key_part in split_key:\n",
    "        if key_part == 'game':\n",
    "            key_part = 'editedGame' if 'editedGame' in value else 'initialGame'\n",
    "                \n",
    "        value = value[key_part] if key_part in value else None\n",
    "        if value == None:\n",
    "            return value\n",
    "\n",
    "    return value\n",
    "\n",
    "def participant_dict_to_row(doc, keys=KEYS_TO_EXTRACT):\n",
    "    d = doc.to_dict()\n",
    "    return [doc.id] + [recursive_extract_value(d, key) for key in keys]\n",
    "\n",
    "\n",
    "def print_participant(df, index, game_fields=('game_setup', 'game_gameplay', 'game_scoring', 'game_difficulty', 'game_firstTimeScore')):\n",
    "    p = df.loc[index]\n",
    "    display(Markdown(f'## {p.participantID} ({p.id}) ({p.scene})'))\n",
    "    display(Markdown(f'Collected at {p.timestamp}'))\n",
    "\n",
    "    for game_field in game_fields:\n",
    "        display(Markdown(f'### {game_field.replace(\"game_\", \"\")}:'))\n",
    "        display(Markdown(str(p[game_field])))\n",
    "\n",
    "    room = p.scene.split('_')[0] if p.scene is not None else ''\n",
    "    print(GAME_TEMPLATE.format(participantID=p.participantID, room=room, index=index))\n",
    "    print()\n",
    "\n",
    "    schema_template = dict(metadata=dict(prolific_id=p.participantID, id=p.id, index=index, room=p.scene, notes='')) \n",
    "    print(json.dumps(schema_template, indent=4))\n",
    "    "
   ]
  },
  {
   "cell_type": "code",
   "execution_count": 3,
   "metadata": {},
   "outputs": [],
   "source": [
    "LOAD_DATA_FROM_FIRESTORE = False\n",
    "WRITE_DATA_TO_CSV = False\n",
    "PARTICIPANTS_CSV_PATH = '../data/interactive_beta.csv'\n",
    "COLLECTION_NAME = 'participants-v2'\n",
    "\n",
    "\n",
    "if LOAD_DATA_FROM_FIRESTORE:\n",
    "    import firebase_admin\n",
    "    from firebase_admin import credentials\n",
    "    from firebase_admin import firestore\n",
    "\n",
    "    # Use a service account\n",
    "    cred = credentials.Certificate('./game-generation-6db9c-aef76f1917f8.json')\n",
    "    firebase_admin.initialize_app(cred)\n",
    "\n",
    "    db = firestore.client()\n",
    "\n",
    "    participants_with_replays = db.collection(COLLECTION_NAME).order_by('timestamp', direction=firestore.Query.ASCENDING).order_by('replays', direction=firestore.Query.DESCENDING).stream()\n",
    "    participant_rows = [participant_dict_to_row(doc) for doc in participants_with_replays]\n",
    "    participant_df = pd.DataFrame(participant_rows, columns=['id'] + [key.replace('.', '_') for key in KEYS_TO_EXTRACT])\n",
    "    participant_df.scene = [SHORT_SCENE_NAMES[s] if s in SHORT_SCENE_NAMES else None for s in participant_df.scene]\n",
    "    participant_df = participant_df[participant_df.scene.notna() & participant_df.game_setup.notna() & participant_df.game_gameplay.notna() & participant_df.game_scoring.notna()]\n",
    "    participant_df = participant_df[participant_df.participantID.str.len() > 10]\n",
    "    participant_df = participant_df[participant_df.participantID != '5f63a8f17e0e2f0c5aebfc0b']\n",
    "    participant_df = participant_df.reset_index()\n",
    "\n",
    "    if WRITE_DATA_TO_CSV:\n",
    "        participant_df.to_csv(PARTICIPANTS_CSV_PATH)\n",
    "\n",
    "else:\n",
    "    participant_df = pd.read_csv(PARTICIPANTS_CSV_PATH)\n",
    "\n"
   ]
  },
  {
   "cell_type": "code",
   "execution_count": 4,
   "metadata": {},
   "outputs": [
    {
     "name": "stdout",
     "output_type": "stream",
     "text": [
      "(54, 16)\n"
     ]
    },
    {
     "data": {
      "text/html": [
       "<div>\n",
       "<style scoped>\n",
       "    .dataframe tbody tr th:only-of-type {\n",
       "        vertical-align: middle;\n",
       "    }\n",
       "\n",
       "    .dataframe tbody tr th {\n",
       "        vertical-align: top;\n",
       "    }\n",
       "\n",
       "    .dataframe thead th {\n",
       "        text-align: right;\n",
       "    }\n",
       "</style>\n",
       "<table border=\"1\" class=\"dataframe\">\n",
       "  <thead>\n",
       "    <tr style=\"text-align: right;\">\n",
       "      <th></th>\n",
       "      <th>index</th>\n",
       "      <th>id</th>\n",
       "      <th>participantID</th>\n",
       "      <th>timestamp</th>\n",
       "      <th>scene</th>\n",
       "      <th>game_setup</th>\n",
       "      <th>game_gameplay</th>\n",
       "      <th>game_scoring</th>\n",
       "      <th>game_difficulty</th>\n",
       "      <th>game_firstTimeScore</th>\n",
       "      <th>gameScore_score</th>\n",
       "      <th>gameScore_thoughts</th>\n",
       "      <th>debrief_strategy</th>\n",
       "      <th>debrief_difficulties</th>\n",
       "      <th>debrief_questions</th>\n",
       "      <th>debrief_external_aids</th>\n",
       "    </tr>\n",
       "  </thead>\n",
       "  <tbody>\n",
       "    <tr>\n",
       "      <th>0</th>\n",
       "      <td>17</td>\n",
       "      <td>RfP7c4trKFGmDp6xpiG8</td>\n",
       "      <td>6172feb1665491d1efbce164</td>\n",
       "      <td>2021-10-22 20:57:12.168000+00:00</td>\n",
       "      <td>medium_objects</td>\n",
       "      <td>Place small ramp in front of bin where there i...</td>\n",
       "      <td>Take ball (any), and try to get it into the bi...</td>\n",
       "      <td>1 point per successful hit.</td>\n",
       "      <td>1</td>\n",
       "      <td>6</td>\n",
       "      <td>None</td>\n",
       "      <td>None</td>\n",
       "      <td>None</td>\n",
       "      <td>None</td>\n",
       "      <td>None</td>\n",
       "      <td>None</td>\n",
       "    </tr>\n",
       "    <tr>\n",
       "      <th>1</th>\n",
       "      <td>18</td>\n",
       "      <td>eYM9NgeUlg9mGpwlGemD</td>\n",
       "      <td>613a4662d21e1715cc079587</td>\n",
       "      <td>2021-10-22 20:58:20.433000+00:00</td>\n",
       "      <td>many_objects</td>\n",
       "      <td></td>\n",
       "      <td>The game I can play in this room it is call me...</td>\n",
       "      <td>the scoring system can be the more hits you ha...</td>\n",
       "      <td>1</td>\n",
       "      <td>from 1 to 10. I would say an 8 haha, I'm not g...</td>\n",
       "      <td>I scored 7</td>\n",
       "      <td>I think it might be better if the objects disa...</td>\n",
       "      <td>Starting by memorizing the shapes of objects a...</td>\n",
       "      <td>yes, it could be that the game programming is ...</td>\n",
       "      <td>I would like to play the game when it is fully...</td>\n",
       "      <td>no</td>\n",
       "    </tr>\n",
       "    <tr>\n",
       "      <th>2</th>\n",
       "      <td>19</td>\n",
       "      <td>SFpazSkgQ7MFSwDEa3c9</td>\n",
       "      <td>5f77754ba932fb2c4ba181d8</td>\n",
       "      <td>2021-10-22 21:02:15.391000+00:00</td>\n",
       "      <td>many_objects</td>\n",
       "      <td>Open the top drawer beside your bed.</td>\n",
       "      <td>First you pick up a dodgeball or a golf ball a...</td>\n",
       "      <td>To score in this game you just have to throw a...</td>\n",
       "      <td>1</td>\n",
       "      <td>10</td>\n",
       "      <td>None</td>\n",
       "      <td>None</td>\n",
       "      <td>None</td>\n",
       "      <td>None</td>\n",
       "      <td>None</td>\n",
       "      <td>None</td>\n",
       "    </tr>\n",
       "    <tr>\n",
       "      <th>3</th>\n",
       "      <td>20</td>\n",
       "      <td>lchV8TQjaHcYtHAqR31Q</td>\n",
       "      <td>614b603d4da88384282967a7</td>\n",
       "      <td>2021-10-23 20:36:08.420000+00:00</td>\n",
       "      <td>many_objects</td>\n",
       "      <td></td>\n",
       "      <td>Create a tower with the largest number of figu...</td>\n",
       "      <td>Each level of the tower will count as 1 point</td>\n",
       "      <td>3</td>\n",
       "      <td>I would score 6 points</td>\n",
       "      <td>5</td>\n",
       "      <td>It is very hard</td>\n",
       "      <td>I thought as if I were a child playing with to...</td>\n",
       "      <td>No.</td>\n",
       "      <td>It would be nice to let the user change the ke...</td>\n",
       "      <td>No, just my imagination</td>\n",
       "    </tr>\n",
       "    <tr>\n",
       "      <th>4</th>\n",
       "      <td>21</td>\n",
       "      <td>tM0MidzjBJBLkOEPYr2F</td>\n",
       "      <td>616a7fe177d97578e592113b</td>\n",
       "      <td>2021-10-23 22:33:04.491000+00:00</td>\n",
       "      <td>medium_objects</td>\n",
       "      <td>The ball must roll down the ramp and hit as ma...</td>\n",
       "      <td>Minni ball bash</td>\n",
       "      <td>The more blocks it hits the more points you get</td>\n",
       "      <td>2</td>\n",
       "      <td>4</td>\n",
       "      <td>2</td>\n",
       "      <td>I dont like this game that mutch</td>\n",
       "      <td>All making use of grafity and placement of the...</td>\n",
       "      <td>No. The game is unprodictable and that was the...</td>\n",
       "      <td>No</td>\n",
       "      <td>No</td>\n",
       "    </tr>\n",
       "  </tbody>\n",
       "</table>\n",
       "</div>"
      ],
      "text/plain": [
       "   index                    id             participantID  \\\n",
       "0     17  RfP7c4trKFGmDp6xpiG8  6172feb1665491d1efbce164   \n",
       "1     18  eYM9NgeUlg9mGpwlGemD  613a4662d21e1715cc079587   \n",
       "2     19  SFpazSkgQ7MFSwDEa3c9  5f77754ba932fb2c4ba181d8   \n",
       "3     20  lchV8TQjaHcYtHAqR31Q  614b603d4da88384282967a7   \n",
       "4     21  tM0MidzjBJBLkOEPYr2F  616a7fe177d97578e592113b   \n",
       "\n",
       "                         timestamp           scene  \\\n",
       "0 2021-10-22 20:57:12.168000+00:00  medium_objects   \n",
       "1 2021-10-22 20:58:20.433000+00:00    many_objects   \n",
       "2 2021-10-22 21:02:15.391000+00:00    many_objects   \n",
       "3 2021-10-23 20:36:08.420000+00:00    many_objects   \n",
       "4 2021-10-23 22:33:04.491000+00:00  medium_objects   \n",
       "\n",
       "                                          game_setup  \\\n",
       "0  Place small ramp in front of bin where there i...   \n",
       "1                                                      \n",
       "2               Open the top drawer beside your bed.   \n",
       "3                                                      \n",
       "4  The ball must roll down the ramp and hit as ma...   \n",
       "\n",
       "                                       game_gameplay  \\\n",
       "0  Take ball (any), and try to get it into the bi...   \n",
       "1  The game I can play in this room it is call me...   \n",
       "2  First you pick up a dodgeball or a golf ball a...   \n",
       "3  Create a tower with the largest number of figu...   \n",
       "4                                    Minni ball bash   \n",
       "\n",
       "                                        game_scoring game_difficulty  \\\n",
       "0                       1 point per successful hit.                1   \n",
       "1  the scoring system can be the more hits you ha...               1   \n",
       "2  To score in this game you just have to throw a...               1   \n",
       "3      Each level of the tower will count as 1 point               3   \n",
       "4    The more blocks it hits the more points you get               2   \n",
       "\n",
       "                                 game_firstTimeScore gameScore_score  \\\n",
       "0                                                  6            None   \n",
       "1  from 1 to 10. I would say an 8 haha, I'm not g...      I scored 7   \n",
       "2                                                 10            None   \n",
       "3                             I would score 6 points               5   \n",
       "4                                                  4               2   \n",
       "\n",
       "                                  gameScore_thoughts  \\\n",
       "0                                               None   \n",
       "1  I think it might be better if the objects disa...   \n",
       "2                                               None   \n",
       "3                                    It is very hard   \n",
       "4                   I dont like this game that mutch   \n",
       "\n",
       "                                    debrief_strategy  \\\n",
       "0                                               None   \n",
       "1  Starting by memorizing the shapes of objects a...   \n",
       "2                                               None   \n",
       "3  I thought as if I were a child playing with to...   \n",
       "4  All making use of grafity and placement of the...   \n",
       "\n",
       "                                debrief_difficulties  \\\n",
       "0                                               None   \n",
       "1  yes, it could be that the game programming is ...   \n",
       "2                                               None   \n",
       "3                                                No.   \n",
       "4  No. The game is unprodictable and that was the...   \n",
       "\n",
       "                                   debrief_questions    debrief_external_aids  \n",
       "0                                               None                     None  \n",
       "1  I would like to play the game when it is fully...                       no  \n",
       "2                                               None                     None  \n",
       "3  It would be nice to let the user change the ke...  No, just my imagination  \n",
       "4                                                 No                       No  "
      ]
     },
     "execution_count": 4,
     "metadata": {},
     "output_type": "execute_result"
    }
   ],
   "source": [
    "print(participant_df.shape)\n",
    "participant_df.head()"
   ]
  },
  {
   "cell_type": "code",
   "execution_count": 73,
   "metadata": {},
   "outputs": [
    {
     "data": {
      "text/markdown": [
       "## 61254c5a6facc8ed023a64de (EB9bKJMBxNqVaRtrXDuO) (medium_objects)"
      ],
      "text/plain": [
       "<IPython.core.display.Markdown object>"
      ]
     },
     "metadata": {},
     "output_type": "display_data"
    },
    {
     "data": {
      "text/markdown": [
       "Collected at 2021-12-27 16:45:19.458000+00:00"
      ],
      "text/plain": [
       "<IPython.core.display.Markdown object>"
      ]
     },
     "metadata": {},
     "output_type": "display_data"
    },
    {
     "data": {
      "text/markdown": [
       "### setup:"
      ],
      "text/plain": [
       "<IPython.core.display.Markdown object>"
      ]
     },
     "metadata": {},
     "output_type": "display_data"
    },
    {
     "data": {
      "text/markdown": [
       "The game player will play is basketball. At the beginning of the game you will have to build a basketball basket on the center of room. You will have few minutes to do it. You can use various items in the room like cylinderblocks to make a pipe and use a bin as a basket. But be careful, you should also take care of the safety of play (not break something).\n",
       "\n",
       "The bin should be stable on top of the structure you have build. Player will have an extra abilities to freeze (except bin, it will be stable as long as the construction is stable) up to 3 different items. Every other usage of it will cost him 15 points.\n",
       "\n",
       "Your goal is to achieve at least 200 points with 50 ball throwings.\n",
       "Basket should be built finally at eye level when you are not crouching."
      ],
      "text/plain": [
       "<IPython.core.display.Markdown object>"
      ]
     },
     "metadata": {},
     "output_type": "display_data"
    },
    {
     "data": {
      "text/markdown": [
       "### gameplay:"
      ],
      "text/plain": [
       "<IPython.core.display.Markdown object>"
      ]
     },
     "metadata": {},
     "output_type": "display_data"
    },
    {
     "data": {
      "text/markdown": [
       "Game will be basketball, player will need to throw 3 different sized balls to it - beachball, dodgeball and basketball. They are different sized and different pointed.\n",
       "\n",
       "Then every time he throws a ball player will be spawned in random place in the room and player will need to hit the ball into a basket."
      ],
      "text/plain": [
       "<IPython.core.display.Markdown object>"
      ]
     },
     "metadata": {},
     "output_type": "display_data"
    },
    {
     "data": {
      "text/markdown": [
       "### scoring:"
      ],
      "text/plain": [
       "<IPython.core.display.Markdown object>"
      ]
     },
     "metadata": {},
     "output_type": "display_data"
    },
    {
     "data": {
      "text/markdown": [
       "Firstly, player will gain extra 10 points if he use pillow or dog dogbed to secure desktop screens or notebook. He loose 20 points for any extra \"freeze\".\n",
       "\n",
       "Player needs to throw a ball to the bin without break built construction or something behind it (for example computers).\n",
       "\n",
       "He may use any ball you want, but:\n",
       "- if player score with smallest (dodge) ball you will earn 5 points;\n",
       "- if player score with basketball - you will earn 7 points;\n",
       "- if player score using beachball (which is too big for bin and it will be on it) - you will earn 15 points\n",
       "\n",
       "Extra points can be achieve if the player:\n",
       "- use pillows/dogbed/teddy bear to secure notebook (+10 points)\n",
       "- use pillow/dogbed/teddy bear to secure dekstop (+10 points)\n",
       "- use blinds to secure windows (2x 10 points)\n",
       "- secure door windows (+50 points - it's diffifult to secure it), example: https://i.imgur.com/hH6ClWQ.png\n",
       "- hide alarmclock in drawer (10 points)\n",
       "- hide cellphone in drawer (10 points)\n",
       "\n",
       "The fewer objects change its default position to build a basket and put it in the position of the eyes, the better.\n",
       "\n",
       "Every time a item will be moved (except balls, opening and closing drawer and move blinds) a player will loose 5 points. That's why player gains extra points if he remember to secure room and he make the least amount of movements.\n",
       "If the player broke window, notebook or "
      ],
      "text/plain": [
       "<IPython.core.display.Markdown object>"
      ]
     },
     "metadata": {},
     "output_type": "display_data"
    },
    {
     "data": {
      "text/markdown": [
       "### difficulty:"
      ],
      "text/plain": [
       "<IPython.core.display.Markdown object>"
      ]
     },
     "metadata": {},
     "output_type": "display_data"
    },
    {
     "data": {
      "text/markdown": [
       "4"
      ],
      "text/plain": [
       "<IPython.core.display.Markdown object>"
      ]
     },
     "metadata": {},
     "output_type": "display_data"
    },
    {
     "data": {
      "text/markdown": [
       "### firstTimeScore:"
      ],
      "text/plain": [
       "<IPython.core.display.Markdown object>"
      ]
     },
     "metadata": {},
     "output_type": "display_data"
    },
    {
     "data": {
      "text/markdown": [
       "70"
      ],
      "text/plain": [
       "<IPython.core.display.Markdown object>"
      ]
     },
     "metadata": {},
     "output_type": "display_data"
    },
    {
     "name": "stdout",
     "output_type": "stream",
     "text": [
      "(define (game 61254c5a6facc8ed023a64de) (:domain medium-objects-room-v1)  ; 48\n",
      "(:setup (and \n",
      "\n",
      "))\n",
      "(:constraints (and \n",
      "\n",
      "))\n",
      "(:scoring maximize\n",
      "\n",
      "))\n",
      "\n",
      "{\n",
      "    \"metadata\": {\n",
      "        \"prolific_id\": \"61254c5a6facc8ed023a64de\",\n",
      "        \"id\": \"EB9bKJMBxNqVaRtrXDuO\",\n",
      "        \"index\": 48,\n",
      "        \"room\": \"medium_objects\",\n",
      "        \"notes\": \"\"\n",
      "    }\n",
      "}\n"
     ]
    }
   ],
   "source": [
    "print_participant(participant_df, 48)"
   ]
  },
  {
   "cell_type": "markdown",
   "metadata": {},
   "source": [
    "# Statistics on plaintext versions"
   ]
  },
  {
   "cell_type": "code",
   "execution_count": 6,
   "metadata": {},
   "outputs": [],
   "source": [
    "DEFAULT_STATS_FIELDS = ('game_setup', 'game_gameplay', 'game_scoring')\n",
    "\n",
    "def run_textstat_func(textstat_func, df, fields=DEFAULT_STATS_FIELDS):\n",
    "    if isinstance(fields, slice):\n",
    "        subset = df.iloc[:, fields].copy()\n",
    "    else:\n",
    "        subset = df.loc[:, fields].copy()\n",
    "        \n",
    "    subset[subset.isna()] = ''\n",
    "    s = subset.agg('\\n'.join, axis=1)\n",
    "    scores = s.apply(textstat_func)\n",
    "    return scores.mean(), scores.std() / (len(scores) ** 0.5)"
   ]
  },
  {
   "cell_type": "code",
   "execution_count": 7,
   "metadata": {},
   "outputs": [
    {
     "data": {
      "text/plain": [
       "(75.63380952380952, 4.418337517351245)"
      ]
     },
     "execution_count": 7,
     "metadata": {},
     "output_type": "execute_result"
    }
   ],
   "source": [
    "run_textstat_func(textstat.flesch_reading_ease, participant_df)"
   ]
  },
  {
   "cell_type": "code",
   "execution_count": 8,
   "metadata": {},
   "outputs": [],
   "source": [
    "few_objects_df = pd.read_csv('../data/few_objects.csv')\n",
    "medium_objects_df = pd.read_csv('../data/medium_objects.csv')\n",
    "many_objects_df = pd.read_csv('../data/many_objects.csv')"
   ]
  },
  {
   "cell_type": "code",
   "execution_count": 9,
   "metadata": {},
   "outputs": [
    {
     "data": {
      "text/plain": [
       "'flesch_reading_ease'"
      ]
     },
     "execution_count": 9,
     "metadata": {},
     "output_type": "execute_result"
    }
   ],
   "source": [
    "textstat.flesch_reading_ease.__name__"
   ]
  },
  {
   "cell_type": "code",
   "execution_count": 11,
   "metadata": {},
   "outputs": [
    {
     "data": {
      "text/markdown": [
       "| name                    | flesch_reading_ease   | flesch_kincaid_grade   | gunning_fog        |\n",
       "|-------------------------|-----------------------|------------------------|--------------------|\n",
       "| survey - few objects    | $ 61.48 \\pm 7.66 $    | $ 14.73 \\pm 2.96 $     | $ 17.11 \\pm 3.06 $ |\n",
       "| survey - medium objects | $ 61.76 \\pm 5.55 $    | $ 13.73 \\pm 2.08 $     | $ 16.03 \\pm 2.12 $ |\n",
       "| survey - many objects   | $ 56.42 \\pm 5.95 $    | $ 15.56 \\pm 2.23 $     | $ 17.65 \\pm 2.30 $ |\n",
       "| interactive beta        | $ 75.63 \\pm 4.42 $    | $ 9.39 \\pm 1.59 $      | $ 11.83 \\pm 1.57 $ |"
      ],
      "text/plain": [
       "<IPython.core.display.Markdown object>"
      ]
     },
     "metadata": {},
     "output_type": "display_data"
    }
   ],
   "source": [
    "TEXTSTAT_FUNCS = (textstat.flesch_reading_ease, textstat.flesch_kincaid_grade, textstat.gunning_fog)\n",
    "NAMES = ['survey - few objects', 'survey - medium objects', 'survey - many objects', 'interactive beta']\n",
    "\n",
    "rows = []\n",
    "\n",
    "for i, df in enumerate((few_objects_df, medium_objects_df, many_objects_df, participant_df)):\n",
    "    scores = [run_textstat_func(func, df, fields=slice(1, 4) if i < 3 else DEFAULT_STATS_FIELDS) for func in TEXTSTAT_FUNCS]\n",
    "    rows.append([NAMES[i]] + [f'$ {s[0]:.2f} \\\\pm {s[1]:.2f} $' for s in scores])\n",
    "\n",
    "headers = ['name'] + [func.__name__ for func in TEXTSTAT_FUNCS]\n",
    "\n",
    "display(Markdown(tabulate.tabulate(rows, headers=headers, tablefmt='github')))\n",
    "\n",
    "# few_objects_df.iloc[:, slice(1, 4)].agg(lambda x: [type(z) for z in x], axis=1)"
   ]
  },
  {
   "cell_type": "code",
   "execution_count": null,
   "metadata": {},
   "outputs": [],
   "source": []
  },
  {
   "cell_type": "code",
   "execution_count": null,
   "metadata": {},
   "outputs": [],
   "source": []
  }
 ],
 "metadata": {
  "interpreter": {
   "hash": "c7f8e00f851a7185e5345342178c14041451eaa6562c62790473e641b6de40ed"
  },
  "kernelspec": {
   "display_name": "Python 3.8.5 64-bit ('torch': conda)",
   "name": "python3"
  },
  "language_info": {
   "codemirror_mode": {
    "name": "ipython",
    "version": 3
   },
   "file_extension": ".py",
   "mimetype": "text/x-python",
   "name": "python",
   "nbconvert_exporter": "python",
   "pygments_lexer": "ipython3",
   "version": "3.8.5"
  },
  "orig_nbformat": 4
 },
 "nbformat": 4,
 "nbformat_minor": 2
}
