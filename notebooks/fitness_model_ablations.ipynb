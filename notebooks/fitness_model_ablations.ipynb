{
 "cells": [
  {
   "cell_type": "code",
   "execution_count": 1,
   "metadata": {},
   "outputs": [],
   "source": [
    "%autoreload 2\n"
   ]
  },
  {
   "cell_type": "code",
   "execution_count": 2,
   "metadata": {},
   "outputs": [
    {
     "name": "stderr",
     "output_type": "stream",
     "text": [
      "2023-08-30 15:49:18 - ast_utils - DEBUG    - Using cache folder: /misc/vlgscratch4/LakeGroup/guy/game_generation_cache\n",
      "2023-08-30 15:49:18 - src.ast_utils - DEBUG    - Using cache folder: /misc/vlgscratch4/LakeGroup/guy/game_generation_cache\n"
     ]
    }
   ],
   "source": [
    "from argparse import Namespace\n",
    "from collections import defaultdict\n",
    "import copy\n",
    "import difflib\n",
    "import gzip\n",
    "import itertools\n",
    "import os\n",
    "import pickle\n",
    "import sys\n",
    "import typing\n",
    "\n",
    "import logging\n",
    "logging.getLogger('matplotlib').setLevel(logging.WARNING)\n",
    "\n",
    "from IPython.display import display, Markdown, HTML\n",
    "import matplotlib\n",
    "import matplotlib.pyplot as plt\n",
    "import numpy as np\n",
    "import pandas as pd\n",
    "import sklearn\n",
    "from sklearn.model_selection import GridSearchCV, train_test_split, KFold\n",
    "from sklearn.pipeline import Pipeline\n",
    "import tatsu\n",
    "import torch\n",
    "import torch.nn as nn\n",
    "import torch.nn.functional as F\n",
    "from torch.utils.data import TensorDataset, DataLoader\n",
    "import tqdm.notebook as tqdm\n",
    "\n",
    "\n",
    "sys.path.append(os.path.abspath('..'))\n",
    "sys.path.append(os.path.abspath('../src'))\n",
    "from src import fitness_energy_utils as utils\n",
    "from src.fitness_energy_utils import NON_FEATURE_COLUMNS\n",
    "from src.ast_counter_sampler import *\n",
    "from src.ast_utils import cached_load_and_parse_games_from_file, load_games_from_file, _extract_game_id\n",
    "from src import ast_printer"
   ]
  },
  {
   "cell_type": "code",
   "execution_count": 3,
   "metadata": {},
   "outputs": [
    {
     "name": "stderr",
     "output_type": "stream",
     "text": [
      "2023-08-30 15:49:20 - src.ast_utils - INFO     - Loading from cache file: /misc/vlgscratch4/LakeGroup/guy/game_generation_cache/interactive-beta-cache.pkl.gz\n",
      "2023-08-30 15:49:20 - src.ast_utils - INFO     - Finished loading cache file: /misc/vlgscratch4/LakeGroup/guy/game_generation_cache/interactive-beta-cache.pkl.gz\n"
     ]
    },
    {
     "name": "stdout",
     "output_type": "stream",
     "text": [
      "98 100352 1024.0\n"
     ]
    }
   ],
   "source": [
    "grammar = open('../dsl/dsl.ebnf').read()\n",
    "grammar_parser = tatsu.compile(grammar)\n",
    "game_asts = list(cached_load_and_parse_games_from_file('../dsl/interactive-beta.pddl', grammar_parser, False, relative_path='..'))\n",
    "real_game_texts = [ast_printer.ast_to_string(ast, '\\n') for ast in game_asts]\n",
    "regrown_game_1024_texts = list(load_games_from_file('../dsl/ast-real-regrowth-samples-1024.pddl.gz'))\n",
    "print(len(real_game_texts), len(regrown_game_1024_texts), len(regrown_game_1024_texts) / 98)\n"
   ]
  },
  {
   "cell_type": "code",
   "execution_count": 4,
   "metadata": {},
   "outputs": [
    {
     "name": "stdout",
     "output_type": "stream",
     "text": [
      "['interactive-beta.pddl' 'ast-real-regrowth-samples-1024.pddl.gz']\n"
     ]
    },
    {
     "data": {
      "text/html": [
       "<div>\n",
       "<style scoped>\n",
       "    .dataframe tbody tr th:only-of-type {\n",
       "        vertical-align: middle;\n",
       "    }\n",
       "\n",
       "    .dataframe tbody tr th {\n",
       "        vertical-align: top;\n",
       "    }\n",
       "\n",
       "    .dataframe thead th {\n",
       "        text-align: right;\n",
       "    }\n",
       "</style>\n",
       "<table border=\"1\" class=\"dataframe\">\n",
       "  <thead>\n",
       "    <tr style=\"text-align: right;\">\n",
       "      <th></th>\n",
       "      <th>Index</th>\n",
       "      <th>src_file</th>\n",
       "      <th>game_name</th>\n",
       "      <th>domain_name</th>\n",
       "      <th>original_game_name</th>\n",
       "      <th>real</th>\n",
       "      <th>variables_defined_all</th>\n",
       "      <th>variables_defined_incorrect_count</th>\n",
       "      <th>variables_used_all</th>\n",
       "      <th>variables_used_incorrect_count</th>\n",
       "      <th>...</th>\n",
       "      <th>ast_ngram_constraints_n_4_score</th>\n",
       "      <th>ast_ngram_constraints_n_5_score</th>\n",
       "      <th>ast_ngram_terminal_n_2_score</th>\n",
       "      <th>ast_ngram_terminal_n_3_score</th>\n",
       "      <th>ast_ngram_terminal_n_4_score</th>\n",
       "      <th>ast_ngram_terminal_n_5_score</th>\n",
       "      <th>ast_ngram_scoring_n_2_score</th>\n",
       "      <th>ast_ngram_scoring_n_3_score</th>\n",
       "      <th>ast_ngram_scoring_n_4_score</th>\n",
       "      <th>ast_ngram_scoring_n_5_score</th>\n",
       "    </tr>\n",
       "  </thead>\n",
       "  <tbody>\n",
       "    <tr>\n",
       "      <th>0</th>\n",
       "      <td>0</td>\n",
       "      <td>interactive-beta.pddl</td>\n",
       "      <td>6172feb1665491d1efbce164-0</td>\n",
       "      <td>medium-objects-room-v1</td>\n",
       "      <td>6172feb1665491d1efbce164-0</td>\n",
       "      <td>1</td>\n",
       "      <td>1</td>\n",
       "      <td>0.0</td>\n",
       "      <td>1</td>\n",
       "      <td>0.0</td>\n",
       "      <td>...</td>\n",
       "      <td>0.968605</td>\n",
       "      <td>0.979319</td>\n",
       "      <td>0.964286</td>\n",
       "      <td>0.973077</td>\n",
       "      <td>0.976571</td>\n",
       "      <td>0.978192</td>\n",
       "      <td>0.919430</td>\n",
       "      <td>0.960971</td>\n",
       "      <td>0.998704</td>\n",
       "      <td>1.000000</td>\n",
       "    </tr>\n",
       "    <tr>\n",
       "      <th>1</th>\n",
       "      <td>1</td>\n",
       "      <td>interactive-beta.pddl</td>\n",
       "      <td>5f77754ba932fb2c4ba181d8-2</td>\n",
       "      <td>many-objects-room-v1</td>\n",
       "      <td>5f77754ba932fb2c4ba181d8-2</td>\n",
       "      <td>1</td>\n",
       "      <td>1</td>\n",
       "      <td>0.0</td>\n",
       "      <td>1</td>\n",
       "      <td>0.0</td>\n",
       "      <td>...</td>\n",
       "      <td>0.974280</td>\n",
       "      <td>0.978391</td>\n",
       "      <td>0.959478</td>\n",
       "      <td>0.966184</td>\n",
       "      <td>0.977509</td>\n",
       "      <td>0.978958</td>\n",
       "      <td>0.899454</td>\n",
       "      <td>0.915154</td>\n",
       "      <td>0.965182</td>\n",
       "      <td>0.973559</td>\n",
       "    </tr>\n",
       "    <tr>\n",
       "      <th>2</th>\n",
       "      <td>2</td>\n",
       "      <td>interactive-beta.pddl</td>\n",
       "      <td>614b603d4da88384282967a7-3</td>\n",
       "      <td>many-objects-room-v1</td>\n",
       "      <td>614b603d4da88384282967a7-3</td>\n",
       "      <td>1</td>\n",
       "      <td>1</td>\n",
       "      <td>0.0</td>\n",
       "      <td>1</td>\n",
       "      <td>0.0</td>\n",
       "      <td>...</td>\n",
       "      <td>0.946566</td>\n",
       "      <td>0.972470</td>\n",
       "      <td>0.000000</td>\n",
       "      <td>0.000000</td>\n",
       "      <td>0.000000</td>\n",
       "      <td>0.000000</td>\n",
       "      <td>0.851207</td>\n",
       "      <td>0.904668</td>\n",
       "      <td>0.948186</td>\n",
       "      <td>0.955972</td>\n",
       "    </tr>\n",
       "    <tr>\n",
       "      <th>3</th>\n",
       "      <td>3</td>\n",
       "      <td>interactive-beta.pddl</td>\n",
       "      <td>5bc79f652885710001a0e82a-5</td>\n",
       "      <td>few-objects-room-v1</td>\n",
       "      <td>5bc79f652885710001a0e82a-5</td>\n",
       "      <td>1</td>\n",
       "      <td>1</td>\n",
       "      <td>0.0</td>\n",
       "      <td>1</td>\n",
       "      <td>0.0</td>\n",
       "      <td>...</td>\n",
       "      <td>0.986871</td>\n",
       "      <td>0.980256</td>\n",
       "      <td>0.000000</td>\n",
       "      <td>0.000000</td>\n",
       "      <td>0.000000</td>\n",
       "      <td>0.000000</td>\n",
       "      <td>0.919430</td>\n",
       "      <td>0.960971</td>\n",
       "      <td>0.998704</td>\n",
       "      <td>1.000000</td>\n",
       "    </tr>\n",
       "    <tr>\n",
       "      <th>4</th>\n",
       "      <td>4</td>\n",
       "      <td>interactive-beta.pddl</td>\n",
       "      <td>614dec67f6eb129c3a77defd-6</td>\n",
       "      <td>medium-objects-room-v1</td>\n",
       "      <td>614dec67f6eb129c3a77defd-6</td>\n",
       "      <td>1</td>\n",
       "      <td>1</td>\n",
       "      <td>0.0</td>\n",
       "      <td>1</td>\n",
       "      <td>0.0</td>\n",
       "      <td>...</td>\n",
       "      <td>0.983288</td>\n",
       "      <td>0.979510</td>\n",
       "      <td>0.000000</td>\n",
       "      <td>0.000000</td>\n",
       "      <td>0.000000</td>\n",
       "      <td>0.000000</td>\n",
       "      <td>0.964678</td>\n",
       "      <td>0.971974</td>\n",
       "      <td>0.973129</td>\n",
       "      <td>0.963587</td>\n",
       "    </tr>\n",
       "  </tbody>\n",
       "</table>\n",
       "<p>5 rows × 376 columns</p>\n",
       "</div>"
      ],
      "text/plain": [
       "   Index               src_file                   game_name  \\\n",
       "0      0  interactive-beta.pddl  6172feb1665491d1efbce164-0   \n",
       "1      1  interactive-beta.pddl  5f77754ba932fb2c4ba181d8-2   \n",
       "2      2  interactive-beta.pddl  614b603d4da88384282967a7-3   \n",
       "3      3  interactive-beta.pddl  5bc79f652885710001a0e82a-5   \n",
       "4      4  interactive-beta.pddl  614dec67f6eb129c3a77defd-6   \n",
       "\n",
       "              domain_name          original_game_name  real  \\\n",
       "0  medium-objects-room-v1  6172feb1665491d1efbce164-0     1   \n",
       "1    many-objects-room-v1  5f77754ba932fb2c4ba181d8-2     1   \n",
       "2    many-objects-room-v1  614b603d4da88384282967a7-3     1   \n",
       "3     few-objects-room-v1  5bc79f652885710001a0e82a-5     1   \n",
       "4  medium-objects-room-v1  614dec67f6eb129c3a77defd-6     1   \n",
       "\n",
       "   variables_defined_all  variables_defined_incorrect_count  \\\n",
       "0                      1                                0.0   \n",
       "1                      1                                0.0   \n",
       "2                      1                                0.0   \n",
       "3                      1                                0.0   \n",
       "4                      1                                0.0   \n",
       "\n",
       "   variables_used_all  variables_used_incorrect_count  ...  \\\n",
       "0                   1                             0.0  ...   \n",
       "1                   1                             0.0  ...   \n",
       "2                   1                             0.0  ...   \n",
       "3                   1                             0.0  ...   \n",
       "4                   1                             0.0  ...   \n",
       "\n",
       "   ast_ngram_constraints_n_4_score  ast_ngram_constraints_n_5_score  \\\n",
       "0                         0.968605                         0.979319   \n",
       "1                         0.974280                         0.978391   \n",
       "2                         0.946566                         0.972470   \n",
       "3                         0.986871                         0.980256   \n",
       "4                         0.983288                         0.979510   \n",
       "\n",
       "   ast_ngram_terminal_n_2_score  ast_ngram_terminal_n_3_score  \\\n",
       "0                      0.964286                      0.973077   \n",
       "1                      0.959478                      0.966184   \n",
       "2                      0.000000                      0.000000   \n",
       "3                      0.000000                      0.000000   \n",
       "4                      0.000000                      0.000000   \n",
       "\n",
       "   ast_ngram_terminal_n_4_score  ast_ngram_terminal_n_5_score  \\\n",
       "0                      0.976571                      0.978192   \n",
       "1                      0.977509                      0.978958   \n",
       "2                      0.000000                      0.000000   \n",
       "3                      0.000000                      0.000000   \n",
       "4                      0.000000                      0.000000   \n",
       "\n",
       "   ast_ngram_scoring_n_2_score  ast_ngram_scoring_n_3_score  \\\n",
       "0                     0.919430                     0.960971   \n",
       "1                     0.899454                     0.915154   \n",
       "2                     0.851207                     0.904668   \n",
       "3                     0.919430                     0.960971   \n",
       "4                     0.964678                     0.971974   \n",
       "\n",
       "   ast_ngram_scoring_n_4_score  ast_ngram_scoring_n_5_score  \n",
       "0                     0.998704                     1.000000  \n",
       "1                     0.965182                     0.973559  \n",
       "2                     0.948186                     0.955972  \n",
       "3                     0.998704                     1.000000  \n",
       "4                     0.973129                     0.963587  \n",
       "\n",
       "[5 rows x 376 columns]"
      ]
     },
     "execution_count": 4,
     "metadata": {},
     "output_type": "execute_result"
    }
   ],
   "source": [
    "def extract_game_index(game_name: str):\n",
    "    first_dash = game_name.find('-')\n",
    "    second_dash = game_name.find('-', first_dash + 1)\n",
    "    index = game_name[first_dash + 1:second_dash] if second_dash != -1 else game_name[first_dash + 1:]\n",
    "    return int(index)\n",
    "\n",
    "\n",
    "def extract_negative_index(game_name: str):\n",
    "    first_dash = game_name.find('-')\n",
    "    second_dash = game_name.find('-', first_dash + 1)\n",
    "    if second_dash == -1:\n",
    "        return -1\n",
    "    \n",
    "    third_dash = game_name.find('-', second_dash + 1)\n",
    "    index = game_name[second_dash + 1:third_dash]\n",
    "    return int(index)\n",
    "\n",
    "\n",
    "fitness_df = utils.load_fitness_data('../data/fitness_features_1024_regrowths.csv.gz')\n",
    "\n",
    "# fitness_df = fitness_df.assign(real=fitness_df.real.astype('int'), game_index=fitness_df.game_name.apply(extract_game_index), \n",
    "#                                negative_index= fitness_df.game_name.apply(extract_negative_index), fake=~fitness_df.real.astype('int'))\n",
    "# fitness_df = fitness_df.sort_values(by=['fake', 'game_index', 'negative_index'], ignore_index=True).reset_index(drop=True)\n",
    "# fitness_df.drop(columns=['Index', 'fake', 'game_index', 'negative_index'], inplace=True)\n",
    "print(fitness_df.src_file.unique())\n",
    "fitness_df.head()"
   ]
  },
  {
   "cell_type": "code",
   "execution_count": 5,
   "metadata": {},
   "outputs": [
    {
     "name": "stdout",
     "output_type": "stream",
     "text": [
      "353\n"
     ]
    }
   ],
   "source": [
    "# USE_BINARIZED_FEATURES_MODEL = True\n",
    "\n",
    "# if USE_BINARIZED_FEATURES_MODEL:\n",
    "#     model_path = '../models/cv_binarized_model_2023_01_20.pkl.gz'\n",
    "#     data_df = binarized_df\n",
    "# else:\n",
    "#     model_path = '../models/cv_fitness_model_2023_01_20.pkl.gz'\n",
    "#     data_df = filtered_fitness_df\n",
    "from latest_model_paths import LATEST_FITNESS_FUNCTION_DATE_ID, LATEST_SPECIFIC_OBJECTS_FITNESS_FUNCTION_DATE_ID\n",
    "# model_date_id = LATEST_FITNESS_FUNCTION_DATE_ID\n",
    "# model_date_id = LATEST_SPECIFIC_OBJECTS_FITNESS_FUNCTION_DATE_ID\n",
    "model_date_id = 'full_features_no_in_data_all_2023_08_28'\n",
    "data_df = fitness_df\n",
    "cv_energy_model, feature_columns = utils.load_model_and_feature_columns(model_date_id)\n",
    "print(len(feature_columns))\n",
    "\n"
   ]
  },
  {
   "cell_type": "code",
   "execution_count": 6,
   "metadata": {},
   "outputs": [],
   "source": [
    "full_tensor = utils.df_to_tensor(data_df, feature_columns)\n",
    "if 'wrapper' in cv_energy_model.named_steps: cv_energy_model.named_steps['wrapper'].eval()\n",
    "full_tensor_scores = cv_energy_model.transform(full_tensor).detach()"
   ]
  },
  {
   "cell_type": "code",
   "execution_count": 7,
   "metadata": {},
   "outputs": [
    {
     "name": "stdout",
     "output_type": "stream",
     "text": [
      "Real game scores: -20.6543 ± 0.4613, min = -21.7223, max = -19.1381\n",
      "20th percentile negative energy: -19.25890350341797\n"
     ]
    }
   ],
   "source": [
    "real_game_scores = full_tensor_scores[:, 0]\n",
    "\n",
    "print(f'Real game scores: {real_game_scores.mean():.4f} ± {real_game_scores.std():.4f}, min = {real_game_scores.min():.4f}, max = {real_game_scores.max():.4f}')\n",
    "\n",
    "negatives_scores = full_tensor_scores[:, 1:]\n",
    "torch.quantile(negatives_scores.ravel(), torch.linspace(0, 1, 11))\n",
    "print(f'20th percentile negative energy: {torch.quantile(negatives_scores.ravel(), 0.2)}')"
   ]
  },
  {
   "cell_type": "code",
   "execution_count": 8,
   "metadata": {},
   "outputs": [
    {
     "name": "stdout",
     "output_type": "stream",
     "text": [
      "tensor([0.0000, 0.1000, 0.2000, 0.3000, 0.4000, 0.5000, 0.6000, 0.7000, 0.8000,\n",
      "        0.9000, 1.0000])\n",
      "Energy deciles: tensor([-23.2239, -20.3288, -19.2589, -17.9164, -16.7815, -16.0669, -15.1895,\n",
      "        -14.0332, -12.6711,  -9.9888,  21.7660])\n"
     ]
    }
   ],
   "source": [
    "steps = torch.linspace(0, 1, 11)\n",
    "deciles = torch.quantile(negatives_scores.ravel(), steps)\n",
    "print(steps)\n",
    "print(f'Energy deciles: {deciles}')"
   ]
  },
  {
   "cell_type": "code",
   "execution_count": 9,
   "metadata": {},
   "outputs": [
    {
     "name": "stdout",
     "output_type": "stream",
     "text": [
      "Weights mean: 0.1440, std: 0.8256, bias: 0.0100\n"
     ]
    },
    {
     "data": {
      "image/png": "[encoded data removed]",
      "text/plain": [
       "<Figure size 640x480 with 1 Axes>"
      ]
     },
     "metadata": {},
     "output_type": "display_data"
    }
   ],
   "source": [
    "weights = cv_energy_model.named_steps['fitness'].model.fc1.weight.data.detach().squeeze()  # type: ignore\n",
    "bias = cv_energy_model.named_steps['fitness'].model.fc1.bias.data.detach().squeeze()  # type: ignore\n",
    "print(f'Weights mean: {weights.mean():.4f}, std: {weights.std():.4f}, bias: {bias:.4f}')\n",
    "\n",
    "plt.hist(weights, bins=30)\n",
    "plt.title('Energy model weights')\n",
    "plt.xlabel('Weight magnitude')\n",
    "plt.ylabel('Count')\n",
    "plt.show()"
   ]
  },
  {
   "cell_type": "code",
   "execution_count": 10,
   "metadata": {},
   "outputs": [
    {
     "name": "stdout",
     "output_type": "stream",
     "text": [
      "Approximately 10.0% (37, 10.48%) of the weights have magnitude < 0.0514\n",
      "Approximately 25.0% (89, 25.21%) of the weights have magnitude < 0.1226\n",
      "Approximately 50.0% (177, 50.14%) of the weights have magnitude < 0.3147\n",
      "Approximately 75.0% (265, 75.07%) of the weights have magnitude < 0.6783\n",
      "Approximately 90.0% (318, 90.08%) of the weights have magnitude < 1.1276\n",
      "Approximately 95.0% (336, 95.18%) of the weights have magnitude < 1.8307\n",
      "Approximately 99.0% (350, 99.15%) of the weights have magnitude < 3.7866\n"
     ]
    }
   ],
   "source": [
    "quantiles = [0.1, 0.25, 0.5, 0.75, 0.9, 0.95, 0.99]\n",
    "quantile_index = 0\n",
    "\n",
    "abs_weights = weights.abs()\n",
    "\n",
    "for magnitude in torch.linspace(0,abs_weights.max(), 5000):\n",
    "    n = torch.sum(abs_weights < magnitude).item()\n",
    "    if n / len(weights) >= quantiles[quantile_index]:\n",
    "        print(f'Approximately {quantiles[quantile_index] * 100}% ({n}, {n / len(weights) * 100:.2f}%) of the weights have magnitude < {magnitude:.4f}')\n",
    "        quantile_index += 1\n",
    "\n",
    "    if quantile_index >= len(quantiles):\n",
    "        break"
   ]
  },
  {
   "cell_type": "code",
   "execution_count": 11,
   "metadata": {},
   "outputs": [],
   "source": [
    "from src.fitness_features_by_category import FEATURE_CATEGORIES\n",
    "\n",
    "\n",
    "def print_weights_summary_by_category(model_weights: torch.Tensor, all_feature_columns: typing.List[str], return_lines: bool = False):\n",
    "    abs_weights = model_weights.abs()\n",
    "    sorted_feature_names = [t[1] for t in sorted([(abs_weights[i], all_feature_columns[i]) for i in range(len(all_feature_columns))], key=lambda x: x[0], reverse=True)]\n",
    "\n",
    "    lines = []\n",
    "    all_assigned_features = set()\n",
    "\n",
    "    for category, features in FEATURE_CATEGORIES.items():\n",
    "        category_feature_list = []\n",
    "        for feature in features:\n",
    "            if isinstance(feature, re.Pattern):\n",
    "                category_feature_list.extend([f for f in feature_columns if feature.match(f)])\n",
    "\n",
    "            else:\n",
    "                category_feature_list.append(feature)\n",
    "\n",
    "        all_assigned_features.update(category_feature_list)\n",
    "        \n",
    "        mean_abs_weight = np.mean([abs_weights[feature_columns.index(feature)] for feature in category_feature_list])\n",
    "        sum_abs_weight = np.sum([abs_weights[feature_columns.index(feature)] for feature in category_feature_list])\n",
    "        mean_sorted_index = np.mean([sorted_feature_names.index(feature) for feature in category_feature_list])\n",
    "        prefix = f'For category {category} with {len(category_feature_list)} features'\n",
    "        line = f'{prefix:54} | mean abs weight is {mean_abs_weight:5.2f} | sum abs weight is {sum_abs_weight:6.2f} | mean sorted index is {mean_sorted_index:6.2f}'\n",
    "        if return_lines:\n",
    "            lines.append(line)\n",
    "        else:\n",
    "            print(line)\n",
    "\n",
    "    unassigned_features = [f for f in feature_columns if f not in all_assigned_features]\n",
    "    if len(unassigned_features) > 0:\n",
    "        print(f'Unassigned features: {unassigned_features}')\n",
    "\n",
    "    if return_lines:\n",
    "        return lines\n"
   ]
  },
  {
   "cell_type": "code",
   "execution_count": 13,
   "metadata": {},
   "outputs": [],
   "source": [
    "l1_model, _ = utils.load_model_and_feature_columns('full_features_no_in_data_all_L1_2023_08_28')"
   ]
  },
  {
   "cell_type": "code",
   "execution_count": 14,
   "metadata": {},
   "outputs": [
    {
     "data": {
      "text/markdown": [
       "### For model Baseline"
      ],
      "text/plain": [
       "<IPython.core.display.Markdown object>"
      ]
     },
     "metadata": {},
     "output_type": "display_data"
    },
    {
     "name": "stdout",
     "output_type": "stream",
     "text": [
      "For category grammar_context with 12 features          | mean abs weight is  1.21 | sum abs weight is  14.53 | mean sorted index is 125.00\n",
      "For category ngram_and_data_based with 7 features      | mean abs weight is  1.27 | sum abs weight is   8.92 | mean sorted index is  70.57\n",
      "For category counting with 101 features                | mean abs weight is  0.27 | sum abs weight is  26.91 | mean sorted index is 220.53\n",
      "For category forall with 18 features                   | mean abs weight is  0.88 | sum abs weight is  15.93 | mean sorted index is 162.72\n",
      "For category predicate_under_modal with 50 features    | mean abs weight is  0.37 | sum abs weight is  18.42 | mean sorted index is 193.70\n",
      "For category predicate_role_filler with 138 features   | mean abs weight is  0.58 | sum abs weight is  80.19 | mean sorted index is 149.46\n",
      "For category compositionality with 10 features         | mean abs weight is  0.06 | sum abs weight is   0.59 | mean sorted index is 311.40\n",
      "For category grammar_use with 20 features              | mean abs weight is  1.03 | sum abs weight is  20.57 | mean sorted index is 101.50\n"
     ]
    },
    {
     "data": {
      "text/markdown": [
       "### For model L1"
      ],
      "text/plain": [
       "<IPython.core.display.Markdown object>"
      ]
     },
     "metadata": {},
     "output_type": "display_data"
    },
    {
     "name": "stdout",
     "output_type": "stream",
     "text": [
      "For category grammar_context with 12 features          | mean abs weight is  0.63 | sum abs weight is   7.52 | mean sorted index is 181.25\n",
      "For category ngram_and_data_based with 7 features      | mean abs weight is  0.31 | sum abs weight is   2.14 | mean sorted index is  96.43\n",
      "For category counting with 101 features                | mean abs weight is  0.01 | sum abs weight is   1.51 | mean sorted index is 170.04\n",
      "For category forall with 18 features                   | mean abs weight is  0.42 | sum abs weight is   7.55 | mean sorted index is 194.61\n",
      "For category predicate_under_modal with 50 features    | mean abs weight is  0.02 | sum abs weight is   0.85 | mean sorted index is 210.34\n",
      "For category predicate_role_filler with 138 features   | mean abs weight is  0.07 | sum abs weight is  10.20 | mean sorted index is 163.91\n",
      "For category compositionality with 10 features         | mean abs weight is  0.00 | sum abs weight is   0.00 | mean sorted index is 314.30\n",
      "For category grammar_use with 20 features              | mean abs weight is  0.34 | sum abs weight is   6.84 | mean sorted index is 163.50\n"
     ]
    }
   ],
   "source": [
    "MODEL_NAMES = ['Baseline', 'L1']\n",
    "models = [cv_energy_model, l1_model]\n",
    "\n",
    "for model_name, model in zip(MODEL_NAMES, models):\n",
    "    display(Markdown(f'### For model {model_name}'))\n",
    "    print_weights_summary_by_category(model.named_steps['fitness'].model.fc1.weight.data.detach().squeeze(), feature_columns)\n",
    "    "
   ]
  },
  {
   "cell_type": "code",
   "execution_count": 29,
   "metadata": {},
   "outputs": [
    {
     "data": {
      "image/png": "[encoded data removed]",
      "text/plain": [
       "<Figure size 640x480 with 1 Axes>"
      ]
     },
     "metadata": {},
     "output_type": "display_data"
    }
   ],
   "source": [
    "utils.plot_energy_histogram(cv_energy_model, full_tensor)"
   ]
  },
  {
   "cell_type": "code",
   "execution_count": 30,
   "metadata": {},
   "outputs": [
    {
     "data": {
      "image/png": "[encoded data removed]",
      "text/plain": [
       "<Figure size 640x480 with 1 Axes>"
      ]
     },
     "metadata": {},
     "output_type": "display_data"
    }
   ],
   "source": [
    "utils.plot_energy_histogram(l1_1e2_model, full_tensor)"
   ]
  }
 ],
 "metadata": {
  "kernelspec": {
   "display_name": "game-gen",
   "language": "python",
   "name": "python3"
  },
  "language_info": {
   "codemirror_mode": {
    "name": "ipython",
    "version": 3
   },
   "file_extension": ".py",
   "mimetype": "text/x-python",
   "name": "python",
   "nbconvert_exporter": "python",
   "pygments_lexer": "ipython3",
   "version": "3.10.8"
  },
  "orig_nbformat": 4
 },
 "nbformat": 4,
 "nbformat_minor": 2
}
