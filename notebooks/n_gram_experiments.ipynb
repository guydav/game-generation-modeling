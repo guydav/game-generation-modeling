{
 "cells": [
  {
   "cell_type": "code",
   "execution_count": 2,
   "metadata": {},
   "outputs": [],
   "source": [
    "%autoreload 2"
   ]
  },
  {
   "cell_type": "code",
   "execution_count": 3,
   "metadata": {},
   "outputs": [],
   "source": [
    "from argparse import Namespace\n",
    "from collections import defaultdict, Counter\n",
    "import copy\n",
    "from datetime import datetime\n",
    "import gzip\n",
    "import itertools\n",
    "import os\n",
    "import pickle\n",
    "import re\n",
    "import sys\n",
    "import typing\n",
    "\n",
    "from IPython.display import display, Markdown, HTML\n",
    "import matplotlib\n",
    "import matplotlib.pyplot as plt\n",
    "import nltk\n",
    "from nltk.util import ngrams as nltk_ngrams\n",
    "import numpy as np\n",
    "import pandas as pd\n",
    "import swifter\n",
    "import sklearn\n",
    "from sklearn.model_selection import GridSearchCV, train_test_split, KFold\n",
    "from sklearn.pipeline import Pipeline\n",
    "import tatsu\n",
    "import torch\n",
    "import torch.nn as nn\n",
    "import torch.nn.functional as F\n",
    "from torch.utils.data import TensorDataset, DataLoader\n",
    "import tqdm.notebook as tqdm\n",
    "\n",
    "\n",
    "sys.path.append(os.path.abspath('..'))\n",
    "sys.path.append(os.path.abspath('../src'))\n",
    "from src import fitness_energy_utils as utils\n",
    "from src.fitness_energy_utils import NON_FEATURE_COLUMNS\n",
    "from src.ast_counter_sampler import *\n",
    "from src.ast_utils import cached_load_and_parse_games_from_file, load_games_from_file, _extract_game_id\n",
    "from src.room_and_object_types import CATEGORIES_TO_TYPES, EMPTY_OBJECT\n",
    "from src.fitness_features import COMMON_SENSE_PREDICATES_FUNCTIONS, PREDICATE_FUNCTION_ARITY_MAP\n",
    "from src import ast_printer"
   ]
  },
  {
   "cell_type": "code",
   "execution_count": 8,
   "metadata": {},
   "outputs": [],
   "source": [
    "grammar = open('../dsl/dsl.ebnf').read()\n",
    "grammar_parser = tatsu.compile(grammar)\n",
    "game_asts = list(cached_load_and_parse_games_from_file('../dsl/interactive-beta.pddl', grammar_parser, False, relative_path='..'))\n",
    "real_game_texts = [ast_printer.ast_to_string(ast, '\\n') for ast in game_asts]\n",
    "regrown_game_texts = list(load_games_from_file('../dsl/ast-real-regrowth-samples.pddl'))\n"
   ]
  },
  {
   "cell_type": "code",
   "execution_count": 16,
   "metadata": {},
   "outputs": [],
   "source": [
    "whitespace_pattern = re.compile(r'\\s+')\n",
    "variable_pattern = re.compile(r'\\?[A-Za-z0-9_]+')\n",
    "preference_name_pattern = re.compile(r'\\(preference\\s+([A-Za-z0-9_]+)\\s+')\n",
    "number_and_decimal_pattern = re.compile(r'\\-?[0-9]+(\\.[0-9]+)?')\n",
    "non_token_characters = re.compile(r'\\(|\\)|\\:|\\-')\n",
    "\n",
    "\n",
    "def ngram_preprocess(game_text: str):\n",
    "    # remove game preamble\n",
    "    domain_start = game_text.find('(:domain')\n",
    "    domain_end = game_text.find(')', domain_start)\n",
    "    game_text = game_text[domain_end + 1:]\n",
    "    # remove variables\n",
    "    game_text = variable_pattern.sub('', game_text)\n",
    "    # replace preference names\n",
    "    for preference_name in preference_name_pattern.findall(game_text):\n",
    "        game_text = game_text.replace(preference_name, 'preferenceName')\n",
    "    # remove numbers and decimals\n",
    "    game_text = number_and_decimal_pattern.sub('number', game_text)\n",
    "    # remove non-token characters\n",
    "    game_text = non_token_characters.sub('', game_text)\n",
    "    # standardize whitespace\n",
    "    game_text = whitespace_pattern.sub(' ', game_text)\n",
    "\n",
    "    return game_text.strip()\n",
    "\n",
    "\n",
    "def _ngrams(text: str, n: int) -> typing.Iterable[typing.Tuple[str, ...]]:\n",
    "    return nltk_ngrams(ngram_preprocess(text).split(), n)\n",
    "\n",
    "\n",
    "def compute_ngram_counts(texts: typing.Sequence[str], n: int) -> typing.Dict[typing.Tuple[str], int]:\n",
    "    return Counter(itertools.chain.from_iterable(_ngrams(text, n) for text in texts))\n",
    "\n",
    "\n",
    "class NGramModel:\n",
    "    def __init__(self, n: int, default_logprob: float = 1e-5):\n",
    "        self.n = n\n",
    "        self.default_logprob = default_logprob\n",
    "        self.k = None\n",
    "        self.top_k_ngrams = None\n",
    "\n",
    "    def _default_logprob(self):\n",
    "        return self.default_logprob\n",
    "\n",
    "    def fit(self, game_texts: typing.Sequence[str]):\n",
    "        self.ngram_counts = compute_ngram_counts(game_texts, self.n)\n",
    "        self.total_ngram_counts = sum(self.ngram_counts.values())\n",
    "        self.ngram_logprobs = defaultdict(self._default_logprob, {ngram: np.log(count / self.total_ngram_counts) for ngram, count in self.ngram_counts.items()})\n",
    "    \n",
    "    def _text_to_ngrams(self, text: str) -> typing.Iterable[typing.Tuple[str, ...]]:\n",
    "        return nltk_ngrams(ngram_preprocess(text).split(), self.n)\n",
    "\n",
    "    def _transform_ngrams(self, ngrams: typing.Iterable[typing.Tuple[str, ...]]):\n",
    "        return np.exp(np.mean([self.ngram_logprobs[ngram] for ngram in ngrams]))\n",
    "\n",
    "    def transform(self, game_texts: typing.Sequence[str]):\n",
    "        return np.array([self._transform_ngrams(self._text_to_ngrams(text)) for text in game_texts])\n",
    "    \n",
    "    def fit_transform(self, game_texts: typing.Sequence[str]):\n",
    "        self.fit(game_texts)\n",
    "        return self.transform(game_texts)\n",
    "    \n",
    "    def _get_dict_item_value(self, item: typing.Tuple[typing.Tuple[str, ...], int]):\n",
    "        return item[1]\n",
    "    \n",
    "    def score(self, text: str, k: typing.Optional[int] = None):\n",
    "        text_ngrams = list(self._text_to_ngrams(text))\n",
    "        output = dict(score=self._transform_ngrams(text_ngrams))\n",
    "        if k is not None:\n",
    "            text_ngram_counts = Counter(text_ngrams)\n",
    "            if k != self.k:\n",
    "                self.k = k\n",
    "                self.top_k_ngrams = sorted(self.ngram_counts.items(), key=self._get_dict_item_value, reverse=True)[:k]\n",
    "\n",
    "            for i, (ngram, _) in enumerate(self.top_k_ngrams):\n",
    "                output[i] = text_ngram_counts[ngram]\n",
    "\n",
    "        return output\n"
   ]
  },
  {
   "cell_type": "code",
   "execution_count": 13,
   "metadata": {},
   "outputs": [],
   "source": [
    "model = NGramModel(5)\n",
    "model.fit(real_game_texts)\n",
    "with open(f'../models/text_5_ngram_model_{datetime.now().strftime(\"%Y_%m_%d\")}.pkl', 'wb') as f:\n",
    "    pickle.dump(model, f)"
   ]
  },
  {
   "cell_type": "code",
   "execution_count": 14,
   "metadata": {},
   "outputs": [],
   "source": [
    "c1 = Counter(_ngrams(real_game_texts[0], 5))\n",
    "c2 = Counter(_ngrams(real_game_texts[1], 5))"
   ]
  },
  {
   "cell_type": "code",
   "execution_count": 15,
   "metadata": {},
   "outputs": [
    {
     "data": {
      "text/plain": [
       "Counter({('setup', 'and', 'exists', 'hexagonal_bin', 'triangular_ramp'): 1,\n",
       "         ('and',\n",
       "          'exists',\n",
       "          'hexagonal_bin',\n",
       "          'triangular_ramp',\n",
       "          'gameconserved'): 1,\n",
       "         ('exists',\n",
       "          'hexagonal_bin',\n",
       "          'triangular_ramp',\n",
       "          'gameconserved',\n",
       "          '<'): 1,\n",
       "         ('hexagonal_bin',\n",
       "          'triangular_ramp',\n",
       "          'gameconserved',\n",
       "          '<',\n",
       "          'distance'): 1,\n",
       "         ('triangular_ramp', 'gameconserved', '<', 'distance', 'number'): 1,\n",
       "         ('gameconserved', '<', 'distance', 'number', 'constraints'): 1,\n",
       "         ('<', 'distance', 'number', 'constraints', 'and'): 1,\n",
       "         ('distance', 'number', 'constraints', 'and', 'preference'): 1,\n",
       "         ('number', 'constraints', 'and', 'preference', 'preferenceName'): 1,\n",
       "         ('constraints', 'and', 'preference', 'preferenceName', 'exists'): 1,\n",
       "         ('and', 'preference', 'preferenceName', 'exists', 'ball'): 1,\n",
       "         ('preference',\n",
       "          'preferenceName',\n",
       "          'exists',\n",
       "          'ball',\n",
       "          'triangular_ramp'): 1,\n",
       "         ('preferenceName',\n",
       "          'exists',\n",
       "          'ball',\n",
       "          'triangular_ramp',\n",
       "          'hexagonal_bin'): 1,\n",
       "         ('exists', 'ball', 'triangular_ramp', 'hexagonal_bin', 'then'): 1,\n",
       "         ('ball', 'triangular_ramp', 'hexagonal_bin', 'then', 'once'): 1,\n",
       "         ('triangular_ramp',\n",
       "          'hexagonal_bin',\n",
       "          'then',\n",
       "          'once',\n",
       "          'agent_holds'): 1,\n",
       "         ('hexagonal_bin', 'then', 'once', 'agent_holds', 'holdwhile'): 1,\n",
       "         ('then', 'once', 'agent_holds', 'holdwhile', 'and'): 1,\n",
       "         ('once', 'agent_holds', 'holdwhile', 'and', 'not'): 1,\n",
       "         ('agent_holds', 'holdwhile', 'and', 'not', 'agent_holds'): 1,\n",
       "         ('holdwhile', 'and', 'not', 'agent_holds', 'in_motion'): 1,\n",
       "         ('and', 'not', 'agent_holds', 'in_motion', 'touch'): 1,\n",
       "         ('not', 'agent_holds', 'in_motion', 'touch', 'once'): 1,\n",
       "         ('agent_holds', 'in_motion', 'touch', 'once', 'and'): 1,\n",
       "         ('in_motion', 'touch', 'once', 'and', 'not'): 1,\n",
       "         ('touch', 'once', 'and', 'not', 'in_motion'): 1,\n",
       "         ('once', 'and', 'not', 'in_motion', 'in'): 2,\n",
       "         ('and', 'not', 'in_motion', 'in', 'preference'): 2,\n",
       "         ('not', 'in_motion', 'in', 'preference', 'preferenceName'): 2,\n",
       "         ('in_motion', 'in', 'preference', 'preferenceName', 'exists'): 2,\n",
       "         ('in', 'preference', 'preferenceName', 'exists', 'hexagonal_bin'): 1,\n",
       "         ('preference',\n",
       "          'preferenceName',\n",
       "          'exists',\n",
       "          'hexagonal_bin',\n",
       "          'then'): 1,\n",
       "         ('preferenceName', 'exists', 'hexagonal_bin', 'then', 'hold'): 1,\n",
       "         ('exists', 'hexagonal_bin', 'then', 'hold', 'and'): 1,\n",
       "         ('hexagonal_bin', 'then', 'hold', 'and', 'not'): 1,\n",
       "         ('then', 'hold', 'and', 'not', 'touch'): 1,\n",
       "         ('hold', 'and', 'not', 'touch', 'agent'): 1,\n",
       "         ('and', 'not', 'touch', 'agent', 'not'): 1,\n",
       "         ('not', 'touch', 'agent', 'not', 'agent_holds'): 1,\n",
       "         ('touch', 'agent', 'not', 'agent_holds', 'once'): 1,\n",
       "         ('agent', 'not', 'agent_holds', 'once', 'not'): 1,\n",
       "         ('not', 'agent_holds', 'once', 'not', 'object_orientation'): 1,\n",
       "         ('agent_holds', 'once', 'not', 'object_orientation', 'upright'): 1,\n",
       "         ('once', 'not', 'object_orientation', 'upright', 'terminal'): 1,\n",
       "         ('not', 'object_orientation', 'upright', 'terminal', '>='): 1,\n",
       "         ('object_orientation', 'upright', 'terminal', '>=', 'countonce'): 1,\n",
       "         ('upright', 'terminal', '>=', 'countonce', 'preferenceName'): 1,\n",
       "         ('terminal', '>=', 'countonce', 'preferenceName', 'number'): 1,\n",
       "         ('>=', 'countonce', 'preferenceName', 'number', 'scoring'): 1,\n",
       "         ('countonce', 'preferenceName', 'number', 'scoring', 'count'): 1,\n",
       "         ('preferenceName', 'number', 'scoring', 'count', 'preferenceName'): 1,\n",
       "         ('setup', 'and', 'gameconserved', 'open', 'top_drawer'): 1,\n",
       "         ('and', 'gameconserved', 'open', 'top_drawer', 'constraints'): 1,\n",
       "         ('gameconserved', 'open', 'top_drawer', 'constraints', 'and'): 1,\n",
       "         ('open', 'top_drawer', 'constraints', 'and', 'forall'): 1,\n",
       "         ('top_drawer', 'constraints', 'and', 'forall', 'either'): 1,\n",
       "         ('constraints', 'and', 'forall', 'either', 'dodgeball'): 1,\n",
       "         ('and', 'forall', 'either', 'dodgeball', 'golfball'): 1,\n",
       "         ('forall', 'either', 'dodgeball', 'golfball', 'either'): 1,\n",
       "         ('either', 'dodgeball', 'golfball', 'either', 'top_drawer'): 1,\n",
       "         ('dodgeball', 'golfball', 'either', 'top_drawer', 'hexagonal_bin'): 1,\n",
       "         ('golfball', 'either', 'top_drawer', 'hexagonal_bin', 'and'): 1,\n",
       "         ('either', 'top_drawer', 'hexagonal_bin', 'and', 'preference'): 1,\n",
       "         ('top_drawer',\n",
       "          'hexagonal_bin',\n",
       "          'and',\n",
       "          'preference',\n",
       "          'preferenceName'): 1,\n",
       "         ('hexagonal_bin', 'and', 'preference', 'preferenceName', 'then'): 1,\n",
       "         ('and', 'preference', 'preferenceName', 'then', 'once'): 1,\n",
       "         ('preference', 'preferenceName', 'then', 'once', 'and'): 1,\n",
       "         ('preferenceName', 'then', 'once', 'and', 'agent_holds'): 1,\n",
       "         ('then', 'once', 'and', 'agent_holds', 'adjacent'): 1,\n",
       "         ('once', 'and', 'agent_holds', 'adjacent', 'agent'): 1,\n",
       "         ('and', 'agent_holds', 'adjacent', 'agent', 'door'): 1,\n",
       "         ('agent_holds', 'adjacent', 'agent', 'door', 'hold'): 1,\n",
       "         ('adjacent', 'agent', 'door', 'hold', 'and'): 1,\n",
       "         ('agent', 'door', 'hold', 'and', 'not'): 1,\n",
       "         ('door', 'hold', 'and', 'not', 'agent_holds'): 1,\n",
       "         ('hold', 'and', 'not', 'agent_holds', 'in_motion'): 2,\n",
       "         ('and', 'not', 'agent_holds', 'in_motion', 'once'): 2,\n",
       "         ('not', 'agent_holds', 'in_motion', 'once', 'and'): 1,\n",
       "         ('agent_holds', 'in_motion', 'once', 'and', 'not'): 1,\n",
       "         ('in_motion', 'once', 'and', 'not', 'in_motion'): 1,\n",
       "         ('in', 'preference', 'preferenceName', 'exists', 'either'): 1,\n",
       "         ('preference', 'preferenceName', 'exists', 'either', 'dodgeball'): 1,\n",
       "         ('preferenceName', 'exists', 'either', 'dodgeball', 'golfball'): 1,\n",
       "         ('exists', 'either', 'dodgeball', 'golfball', 'then'): 1,\n",
       "         ('either', 'dodgeball', 'golfball', 'then', 'once'): 1,\n",
       "         ('dodgeball', 'golfball', 'then', 'once', 'agent_holds'): 1,\n",
       "         ('golfball', 'then', 'once', 'agent_holds', 'hold'): 1,\n",
       "         ('then', 'once', 'agent_holds', 'hold', 'and'): 1,\n",
       "         ('once', 'agent_holds', 'hold', 'and', 'not'): 1,\n",
       "         ('agent_holds', 'hold', 'and', 'not', 'agent_holds'): 1,\n",
       "         ('not', 'agent_holds', 'in_motion', 'once', 'not'): 1,\n",
       "         ('agent_holds', 'in_motion', 'once', 'not', 'in_motion'): 1,\n",
       "         ('in_motion', 'once', 'not', 'in_motion', 'terminal'): 1,\n",
       "         ('once', 'not', 'in_motion', 'terminal', '>='): 1,\n",
       "         ('not', 'in_motion', 'terminal', '>=', 'countonceperobjects'): 1,\n",
       "         ('in_motion',\n",
       "          'terminal',\n",
       "          '>=',\n",
       "          'countonceperobjects',\n",
       "          'preferenceName'): 1,\n",
       "         ('terminal',\n",
       "          '>=',\n",
       "          'countonceperobjects',\n",
       "          'preferenceName',\n",
       "          'number'): 1,\n",
       "         ('>=',\n",
       "          'countonceperobjects',\n",
       "          'preferenceName',\n",
       "          'number',\n",
       "          'scoring'): 1,\n",
       "         ('countonceperobjects',\n",
       "          'preferenceName',\n",
       "          'number',\n",
       "          'scoring',\n",
       "          '+'): 1,\n",
       "         ('preferenceName',\n",
       "          'number',\n",
       "          'scoring',\n",
       "          '+',\n",
       "          'countonceperobjects'): 1,\n",
       "         ('number',\n",
       "          'scoring',\n",
       "          '+',\n",
       "          'countonceperobjects',\n",
       "          'preferenceNamegolfballhexagonal_bin'): 1,\n",
       "         ('scoring',\n",
       "          '+',\n",
       "          'countonceperobjects',\n",
       "          'preferenceNamegolfballhexagonal_bin',\n",
       "          '*'): 1,\n",
       "         ('+',\n",
       "          'countonceperobjects',\n",
       "          'preferenceNamegolfballhexagonal_bin',\n",
       "          '*',\n",
       "          'number'): 1,\n",
       "         ('countonceperobjects',\n",
       "          'preferenceNamegolfballhexagonal_bin',\n",
       "          '*',\n",
       "          'number',\n",
       "          'countonceperobjects'): 1,\n",
       "         ('preferenceNamegolfballhexagonal_bin',\n",
       "          '*',\n",
       "          'number',\n",
       "          'countonceperobjects',\n",
       "          'preferenceNamedodgeballhexagonal_bin'): 1,\n",
       "         ('*',\n",
       "          'number',\n",
       "          'countonceperobjects',\n",
       "          'preferenceNamedodgeballhexagonal_bin',\n",
       "          '*'): 1,\n",
       "         ('number',\n",
       "          'countonceperobjects',\n",
       "          'preferenceNamedodgeballhexagonal_bin',\n",
       "          '*',\n",
       "          'number'): 1,\n",
       "         ('countonceperobjects',\n",
       "          'preferenceNamedodgeballhexagonal_bin',\n",
       "          '*',\n",
       "          'number',\n",
       "          'countonceperobjects'): 1,\n",
       "         ('preferenceNamedodgeballhexagonal_bin',\n",
       "          '*',\n",
       "          'number',\n",
       "          'countonceperobjects',\n",
       "          'preferenceNamegolfballtop_drawer'): 1,\n",
       "         ('*',\n",
       "          'number',\n",
       "          'countonceperobjects',\n",
       "          'preferenceNamegolfballtop_drawer',\n",
       "          '+'): 1,\n",
       "         ('number',\n",
       "          'countonceperobjects',\n",
       "          'preferenceNamegolfballtop_drawer',\n",
       "          '+',\n",
       "          'countonceperobjects'): 1,\n",
       "         ('countonceperobjects',\n",
       "          'preferenceNamegolfballtop_drawer',\n",
       "          '+',\n",
       "          'countonceperobjects',\n",
       "          'preferenceName'): 1,\n",
       "         ('preferenceNamegolfballtop_drawer',\n",
       "          '+',\n",
       "          'countonceperobjects',\n",
       "          'preferenceName',\n",
       "          'countonceperobjects'): 1,\n",
       "         ('+',\n",
       "          'countonceperobjects',\n",
       "          'preferenceName',\n",
       "          'countonceperobjects',\n",
       "          'preferenceName'): 1})"
      ]
     },
     "execution_count": 15,
     "metadata": {},
     "output_type": "execute_result"
    }
   ],
   "source": [
    "c1 + c2"
   ]
  },
  {
   "cell_type": "code",
   "execution_count": 17,
   "metadata": {},
   "outputs": [
    {
     "name": "stdout",
     "output_type": "stream",
     "text": [
      "[(('once', 'and'), 202), (('and', 'not'), 195), (('preference', 'preferenceName'), 187), (('preferenceName', 'exists'), 176), (('not', 'agent_holds'), 167), (('then', 'once'), 155), (('*', 'number'), 145), (('not', 'in_motion'), 144), (('hold', 'and'), 122), (('and', 'preference'), 104)]\n",
      "N: 2 | Average real game score: 0.004610823416048037 | Average regrown game score: 0.006631153058005698 | Difference in means: -0.002020329641957661\n"
     ]
    },
    {
     "data": {
      "image/png": "[encoded data removed]",
      "text/plain": [
       "<Figure size 640x480 with 1 Axes>"
      ]
     },
     "metadata": {},
     "output_type": "display_data"
    },
    {
     "name": "stdout",
     "output_type": "stream",
     "text": [
      "[(('preference', 'preferenceName', 'exists'), 176), (('and', 'preference', 'preferenceName'), 104), (('then', 'once', 'and'), 98), (('once', 'and', 'not'), 97), (('and', 'not', 'in_motion'), 97), (('and', 'not', 'agent_holds'), 89), (('not', 'agent_holds', 'in_motion'), 86), (('*', 'number', 'count'), 84), (('once', 'and', 'agent_holds'), 76), (('hold', 'and', 'not'), 69)]\n",
      "N: 3 | Average real game score: 0.001988447185167385 | Average regrown game score: 0.008282427352345877 | Difference in means: -0.006293980167178492\n"
     ]
    },
    {
     "data": {
      "image/png": "[encoded data removed]",
      "text/plain": [
       "<Figure size 640x480 with 1 Axes>"
      ]
     },
     "metadata": {},
     "output_type": "display_data"
    },
    {
     "name": "stdout",
     "output_type": "stream",
     "text": [
      "[(('and', 'preference', 'preferenceName', 'exists'), 100), (('once', 'and', 'not', 'in_motion'), 96), (('and', 'not', 'agent_holds', 'in_motion'), 85), (('then', 'once', 'and', 'agent_holds'), 76), (('hold', 'and', 'not', 'agent_holds'), 68), (('not', 'agent_holds', 'in_motion', 'once'), 63), (('and', 'in_motion', 'not', 'agent_holds'), 62), (('constraints', 'and', 'preference', 'preferenceName'), 59), (('and', 'not', 'in_motion', 'in'), 54), (('hold', 'and', 'in_motion', 'not'), 50)]\n",
      "N: 4 | Average real game score: 0.0011800070977253238 | Average regrown game score: 0.011915718498611439 | Difference in means: -0.010735711400886114\n"
     ]
    },
    {
     "data": {
      "image/png": "[encoded data removed]",
      "text/plain": [
       "<Figure size 640x480 with 1 Axes>"
      ]
     },
     "metadata": {},
     "output_type": "display_data"
    },
    {
     "name": "stdout",
     "output_type": "stream",
     "text": [
      "[(('hold', 'and', 'not', 'agent_holds', 'in_motion'), 68), (('and', 'not', 'agent_holds', 'in_motion', 'once'), 62), (('constraints', 'and', 'preference', 'preferenceName', 'exists'), 59), (('once', 'and', 'not', 'in_motion', 'in'), 54), (('hold', 'and', 'in_motion', 'not', 'agent_holds'), 50), (('not', 'agent_holds', 'in_motion', 'once', 'and'), 45), (('in_motion', 'once', 'and', 'not', 'in_motion'), 45), (('and', 'in_motion', 'not', 'agent_holds', 'once'), 44), (('agent_holds', 'in_motion', 'once', 'and', 'not'), 43), (('then', 'once', 'agent_holds', 'hold', 'and'), 39)]\n",
      "N: 5 | Average real game score: 0.0008037451992352294 | Average regrown game score: 0.01522230759354028 | Difference in means: -0.014418562394305052\n"
     ]
    },
    {
     "data": {
      "image/png": "[encoded data removed]",
      "text/plain": [
       "<Figure size 640x480 with 1 Axes>"
      ]
     },
     "metadata": {},
     "output_type": "display_data"
    },
    {
     "name": "stdout",
     "output_type": "stream",
     "text": [
      "[(('hold', 'and', 'not', 'agent_holds', 'in_motion', 'once'), 62), (('and', 'not', 'agent_holds', 'in_motion', 'once', 'and'), 44), (('hold', 'and', 'in_motion', 'not', 'agent_holds', 'once'), 44), (('agent_holds', 'in_motion', 'once', 'and', 'not', 'in_motion'), 43), (('not', 'agent_holds', 'in_motion', 'once', 'and', 'not'), 41), (('agent_holds', 'hold', 'and', 'not', 'agent_holds', 'in_motion'), 35), (('then', 'once', 'agent_holds', 'hold', 'and', 'not'), 32), (('once', 'agent_holds', 'hold', 'and', 'not', 'agent_holds'), 32), (('not', 'agent_holds', 'once', 'and', 'not', 'in_motion'), 32), (('in_motion', 'not', 'agent_holds', 'once', 'and', 'not'), 31)]\n",
      "N: 6 | Average real game score: 0.000601644810814688 | Average regrown game score: 0.01912437057197032 | Difference in means: -0.018522725761155632\n"
     ]
    },
    {
     "data": {
      "image/png": "[encoded data removed]",
      "text/plain": [
       "<Figure size 640x480 with 1 Axes>"
      ]
     },
     "metadata": {},
     "output_type": "display_data"
    }
   ],
   "source": [
    "for n in range(2, 7):\n",
    "    \n",
    "    model = NGramModel(n)\n",
    "    model.fit(real_game_texts)\n",
    "\n",
    "    top_ngrams = sorted(model.ngram_counts.items(), key=lambda x: x[1], reverse=True)[:10]\n",
    "    print(top_ngrams)\n",
    "\n",
    "    real_game_scores = model.transform(real_game_texts)\n",
    "    regrown_game_scores = model.transform(regrown_game_texts)\n",
    "    print(f'N: {n} | Average real game score: {np.mean(real_game_scores)} | Average regrown game score: {np.mean(regrown_game_scores)} | Difference in means: {np.mean(real_game_scores) - np.mean(regrown_game_scores)}')\n",
    "\n",
    "    cm = plt.get_cmap('tab10')\n",
    "    plt.hist([real_game_scores, regrown_game_scores], bins=50, stacked=True, label=['real', 'regrown'], color=[cm(0), cm(1)])\n",
    "    plt.semilogy()\n",
    "    plt.legend()\n",
    "    plt.show()"
   ]
  },
  {
   "cell_type": "code",
   "execution_count": null,
   "metadata": {},
   "outputs": [],
   "source": [
    "real_game_ngram_counts = compute_ngram_counts(real_game_texts, 5)\n",
    "total_ngram_counts = sum(real_game_ngram_counts.values())\n",
    "real_game_ngram_probs = defaultdict(float, {ngram: count / total_ngram_counts for ngram, count in real_game_ngram_counts.items()})"
   ]
  },
  {
   "cell_type": "code",
   "execution_count": null,
   "metadata": {},
   "outputs": [],
   "source": [
    "regrown_game_ngram_probs = compute_ngram_counts(regrown_game_texts, 5)\n",
    "total_regrown_ngram_counts = sum(regrown_game_ngram_probs.values())\n",
    "regrown_game_ngram_probs = {ngram: count / total_regrown_ngram_counts for ngram, count in regrown_game_ngram_probs.items()}"
   ]
  },
  {
   "cell_type": "code",
   "execution_count": null,
   "metadata": {},
   "outputs": [],
   "source": [
    "n_gram_prob_differences = real_game_ngram_probs.copy()\n",
    "for ngram, prob in regrown_game_ngram_probs.items():\n",
    "    n_gram_prob_differences[ngram] -= prob\n",
    "\n",
    "max_difference_ngrams = sorted(n_gram_prob_differences.items(), key=lambda x: abs(x[1]), reverse=True)[:20]\n",
    "max_difference_ngrams"
   ]
  },
  {
   "cell_type": "code",
   "execution_count": null,
   "metadata": {},
   "outputs": [],
   "source": [
    "min_difference_ngrams = sorted(n_gram_prob_differences.items(), key=lambda x: abs(x[1]))[:20]\n",
    "min_difference_ngrams"
   ]
  },
  {
   "cell_type": "code",
   "execution_count": 40,
   "metadata": {},
   "outputs": [],
   "source": [
    "from fitness_ngram_models import ASTMultiNGramModel"
   ]
  },
  {
   "cell_type": "code",
   "execution_count": 41,
   "metadata": {},
   "outputs": [],
   "source": [
    "ast_ngram_model = ASTMultiNGramModel([2, 3, 4, 5])\n",
    "ast_ngram_model.fit(game_asts)\n"
   ]
  },
  {
   "cell_type": "code",
   "execution_count": null,
   "metadata": {},
   "outputs": [],
   "source": []
  }
 ],
 "metadata": {
  "kernelspec": {
   "display_name": "game-gen",
   "language": "python",
   "name": "python3"
  },
  "language_info": {
   "codemirror_mode": {
    "name": "ipython",
    "version": 3
   },
   "file_extension": ".py",
   "mimetype": "text/x-python",
   "name": "python",
   "nbconvert_exporter": "python",
   "pygments_lexer": "ipython3",
   "version": "3.10.8 | packaged by conda-forge | (main, Nov 22 2022, 08:27:35) [Clang 14.0.6 ]"
  },
  "orig_nbformat": 4,
  "vscode": {
   "interpreter": {
    "hash": "d207b42274502bc006609ff0f580407f35ab20e7889cda7ddd92e73aeb06c569"
   }
  }
 },
 "nbformat": 4,
 "nbformat_minor": 2
}
