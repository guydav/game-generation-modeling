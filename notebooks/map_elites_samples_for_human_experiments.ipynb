{
 "cells": [
  {
   "cell_type": "code",
   "execution_count": 2,
   "metadata": {},
   "outputs": [],
   "source": [
    "%autoreload 2"
   ]
  },
  {
   "cell_type": "code",
   "execution_count": 3,
   "metadata": {},
   "outputs": [
    {
     "name": "stderr",
     "output_type": "stream",
     "text": [
      "2024-02-21 16:52:08 - ast_utils - DEBUG    - Using cache folder: /var/folders/h9/kzpqpksx6fq00v9d73x5j51c0000gn/T/game_generation_cache\n",
      "2024-02-21 16:52:08 - src.ast_utils - DEBUG    - Using cache folder: /var/folders/h9/kzpqpksx6fq00v9d73x5j51c0000gn/T/game_generation_cache\n"
     ]
    }
   ],
   "source": [
    "from collections import defaultdict\n",
    "from argparse import Namespace\n",
    "from ast import literal_eval\n",
    "import copy\n",
    "import gzip\n",
    "import itertools\n",
    "import json\n",
    "import math\n",
    "import os\n",
    "import pickle\n",
    "import sys\n",
    "import textwrap\n",
    "import typing\n",
    "\n",
    "import logging\n",
    "logging.getLogger('matplotlib').setLevel(logging.WARNING)\n",
    "\n",
    "import duckdb\n",
    "from IPython.display import display, Markdown, HTML  # type: ignore\n",
    "import matplotlib\n",
    "import matplotlib.axes\n",
    "import matplotlib.pyplot as plt\n",
    "from Levenshtein import distance as _edit_distance\n",
    "import numpy as np\n",
    "import pandas as pd\n",
    "import tabulate\n",
    "import tatsu\n",
    "import tatsu.ast\n",
    "import torch\n",
    "import torch.nn as nn\n",
    "import torch.nn.functional as F\n",
    "from torch.utils.data import TensorDataset, DataLoader\n",
    "import tabulate\n",
    "from tqdm.notebook import tqdm\n",
    "from scipy import stats\n",
    "import seaborn as sns\n",
    "import sklearn\n",
    "from sklearn.model_selection import GridSearchCV, train_test_split, KFold\n",
    "from sklearn.pipeline import Pipeline\n",
    "\n",
    "sys.path.append(os.path.abspath('..'))\n",
    "sys.path.append(os.path.abspath('../src'))\n",
    "from src.ast_utils import _extract_game_id, deepcopy_ast, replace_child\n",
    "from src.ast_printer import ast_to_lines\n",
    "from src import fitness_energy_utils as utils\n",
    "from src.fitness_energy_utils import NON_FEATURE_COLUMNS\n",
    "from src.fitness_features import *\n",
    "from src.ast_counter_sampler import *\n",
    "from src.evolutionary_sampler import *\n",
    "from src import fitness_features_by_category, latest_model_paths"
   ]
  },
  {
   "cell_type": "code",
   "execution_count": 4,
   "metadata": {},
   "outputs": [
    {
     "name": "stderr",
     "output_type": "stream",
     "text": [
      "2024-02-21 16:52:14 - ast_utils - INFO     - Loading from cache file: /var/folders/h9/kzpqpksx6fq00v9d73x5j51c0000gn/T/game_generation_cache/interactive-beta-cache.pkl.gz\n",
      "2024-02-21 16:52:14 - ast_utils - INFO     - No cache file found, creating new cache file for: /var/folders/h9/kzpqpksx6fq00v9d73x5j51c0000gn/T/game_generation_cache/interactive-beta-cache.pkl.gz\n",
      "2024-02-21 16:52:14 - ast_utils - INFO     - Forcing full rebuild\n",
      "[DEBUG/MainProcess] created semlock with handle 77\n"
     ]
    },
    {
     "name": "stdout",
     "output_type": "stream",
     "text": [
      "[DEBUG/MainProcess] created semlock with handle 77\n"
     ]
    },
    {
     "name": "stderr",
     "output_type": "stream",
     "text": [
      "[DEBUG/MainProcess] created semlock with handle 78\n"
     ]
    },
    {
     "name": "stdout",
     "output_type": "stream",
     "text": [
      "[DEBUG/MainProcess] created semlock with handle 78\n"
     ]
    },
    {
     "name": "stderr",
     "output_type": "stream",
     "text": [
      "[DEBUG/MainProcess] created semlock with handle 82\n"
     ]
    },
    {
     "name": "stdout",
     "output_type": "stream",
     "text": [
      "[DEBUG/MainProcess] created semlock with handle 82\n"
     ]
    },
    {
     "name": "stderr",
     "output_type": "stream",
     "text": [
      "[DEBUG/MainProcess] created semlock with handle 83\n"
     ]
    },
    {
     "name": "stdout",
     "output_type": "stream",
     "text": [
      "[DEBUG/MainProcess] created semlock with handle 83\n"
     ]
    },
    {
     "name": "stderr",
     "output_type": "stream",
     "text": [
      "[DEBUG/MainProcess] created semlock with handle 86\n"
     ]
    },
    {
     "name": "stdout",
     "output_type": "stream",
     "text": [
      "[DEBUG/MainProcess] created semlock with handle 86\n"
     ]
    },
    {
     "name": "stderr",
     "output_type": "stream",
     "text": [
      "[DEBUG/MainProcess] created semlock with handle 87\n"
     ]
    },
    {
     "name": "stdout",
     "output_type": "stream",
     "text": [
      "[DEBUG/MainProcess] created semlock with handle 87\n"
     ]
    },
    {
     "name": "stderr",
     "output_type": "stream",
     "text": [
      "[DEBUG/MainProcess] added worker\n"
     ]
    },
    {
     "name": "stdout",
     "output_type": "stream",
     "text": [
      "[DEBUG/MainProcess] added worker\n"
     ]
    },
    {
     "name": "stderr",
     "output_type": "stream",
     "text": [
      "[DEBUG/MainProcess] added worker\n"
     ]
    },
    {
     "name": "stdout",
     "output_type": "stream",
     "text": [
      "[DEBUG/MainProcess] added worker\n"
     ]
    },
    {
     "name": "stderr",
     "output_type": "stream",
     "text": [
      "[DEBUG/MainProcess] added worker\n"
     ]
    },
    {
     "name": "stdout",
     "output_type": "stream",
     "text": [
      "[DEBUG/MainProcess] added worker\n"
     ]
    },
    {
     "name": "stderr",
     "output_type": "stream",
     "text": [
      "[DEBUG/MainProcess] added worker\n"
     ]
    },
    {
     "name": "stdout",
     "output_type": "stream",
     "text": [
      "[DEBUG/MainProcess] added worker\n"
     ]
    },
    {
     "name": "stderr",
     "output_type": "stream",
     "text": [
      "[DEBUG/MainProcess] added worker\n"
     ]
    },
    {
     "name": "stdout",
     "output_type": "stream",
     "text": [
      "[DEBUG/MainProcess] added worker\n"
     ]
    },
    {
     "name": "stderr",
     "output_type": "stream",
     "text": [
      "[DEBUG/MainProcess] recreated blocker with handle 77\n",
      "[DEBUG/MainProcess] recreated blocker with handle 78\n",
      "[DEBUG/MainProcess] recreated blocker with handle 82\n",
      "[DEBUG/MainProcess] recreated blocker with handle 83\n",
      "[INFO/MainProcess] child process calling self.run()\n",
      "[DEBUG/MainProcess] added worker\n"
     ]
    },
    {
     "name": "stdout",
     "output_type": "stream",
     "text": [
      "[DEBUG/MainProcess] added worker\n"
     ]
    },
    {
     "name": "stderr",
     "output_type": "stream",
     "text": [
      "[DEBUG/MainProcess] added worker\n"
     ]
    },
    {
     "name": "stdout",
     "output_type": "stream",
     "text": [
      "[DEBUG/MainProcess] added worker\n"
     ]
    },
    {
     "name": "stderr",
     "output_type": "stream",
     "text": [
      "[DEBUG/MainProcess] added worker\n",
      "[DEBUG/MainProcess] recreated blocker with handle 77\n",
      "[DEBUG/MainProcess] recreated blocker with handle 78\n",
      "[DEBUG/MainProcess] recreated blocker with handle 82\n",
      "[DEBUG/MainProcess] recreated blocker with handle 83\n",
      "[INFO/MainProcess] child process calling self.run()\n"
     ]
    },
    {
     "name": "stdout",
     "output_type": "stream",
     "text": [
      "[DEBUG/MainProcess] added worker\n"
     ]
    },
    {
     "name": "stderr",
     "output_type": "stream",
     "text": [
      "[DEBUG/MainProcess] recreated blocker with handle 77\n",
      "[DEBUG/MainProcess] recreated blocker with handle 78\n",
      "[DEBUG/MainProcess] recreated blocker with handle 82\n",
      "[DEBUG/MainProcess] recreated blocker with handle 83\n",
      "[INFO/MainProcess] child process calling self.run()\n",
      "[DEBUG/MainProcess] recreated blocker with handle 77\n",
      "[DEBUG/MainProcess] recreated blocker with handle 78\n",
      "[DEBUG/MainProcess] recreated blocker with handle 82\n",
      "[DEBUG/MainProcess] recreated blocker with handle 83\n",
      "[INFO/MainProcess] child process calling self.run()\n",
      "[DEBUG/MainProcess] added worker\n"
     ]
    },
    {
     "name": "stdout",
     "output_type": "stream",
     "text": [
      "[DEBUG/MainProcess] added worker\n"
     ]
    },
    {
     "name": "stderr",
     "output_type": "stream",
     "text": [
      "[DEBUG/MainProcess] recreated blocker with handle 77\n",
      "[DEBUG/MainProcess] added worker\n",
      "[DEBUG/MainProcess] recreated blocker with handle 78\n",
      "[DEBUG/MainProcess] recreated blocker with handle 82\n",
      "[DEBUG/MainProcess] recreated blocker with handle 83\n",
      "[INFO/MainProcess] child process calling self.run()\n"
     ]
    },
    {
     "name": "stdout",
     "output_type": "stream",
     "text": [
      "[DEBUG/MainProcess] added worker\n"
     ]
    },
    {
     "name": "stderr",
     "output_type": "stream",
     "text": [
      "[DEBUG/MainProcess] added worker\n",
      "[DEBUG/MainProcess] recreated blocker with handle 77\n"
     ]
    },
    {
     "name": "stdout",
     "output_type": "stream",
     "text": [
      "[DEBUG/MainProcess] added worker\n"
     ]
    },
    {
     "name": "stderr",
     "output_type": "stream",
     "text": [
      "[DEBUG/MainProcess] recreated blocker with handle 78\n",
      "[DEBUG/MainProcess] recreated blocker with handle 82\n",
      "[DEBUG/MainProcess] recreated blocker with handle 83\n",
      "[INFO/MainProcess] child process calling self.run()\n",
      "[DEBUG/MainProcess] added worker\n",
      "[DEBUG/MainProcess] recreated blocker with handle 77\n",
      "[DEBUG/MainProcess] recreated blocker with handle 78\n",
      "[DEBUG/MainProcess] recreated blocker with handle 82\n",
      "[DEBUG/MainProcess] recreated blocker with handle 83\n",
      "[INFO/MainProcess] child process calling self.run()\n"
     ]
    },
    {
     "name": "stdout",
     "output_type": "stream",
     "text": [
      "[DEBUG/MainProcess] added worker\n"
     ]
    },
    {
     "name": "stderr",
     "output_type": "stream",
     "text": [
      "[DEBUG/MainProcess] added worker\n",
      "[DEBUG/MainProcess] recreated blocker with handle 77\n",
      "[DEBUG/MainProcess] recreated blocker with handle 78\n",
      "[DEBUG/MainProcess] recreated blocker with handle 82\n",
      "[DEBUG/MainProcess] recreated blocker with handle 83\n",
      "[INFO/MainProcess] child process calling self.run()\n"
     ]
    },
    {
     "name": "stdout",
     "output_type": "stream",
     "text": [
      "[DEBUG/MainProcess] added worker\n"
     ]
    },
    {
     "name": "stderr",
     "output_type": "stream",
     "text": [
      "[DEBUG/MainProcess] added worker\n"
     ]
    },
    {
     "name": "stdout",
     "output_type": "stream",
     "text": [
      "[DEBUG/MainProcess] added worker\n"
     ]
    },
    {
     "name": "stderr",
     "output_type": "stream",
     "text": [
      "[DEBUG/MainProcess] recreated blocker with handle 77\n",
      "[DEBUG/MainProcess] recreated blocker with handle 78\n",
      "[DEBUG/MainProcess] recreated blocker with handle 82\n",
      "[DEBUG/MainProcess] recreated blocker with handle 83\n",
      "[INFO/MainProcess] child process calling self.run()\n",
      "[DEBUG/MainProcess] added worker\n",
      "[DEBUG/MainProcess] recreated blocker with handle 77\n",
      "[DEBUG/MainProcess] recreated blocker with handle 78\n",
      "[DEBUG/MainProcess] recreated blocker with handle 82\n",
      "[DEBUG/MainProcess] recreated blocker with handle 83\n",
      "[INFO/MainProcess] child process calling self.run()\n"
     ]
    },
    {
     "name": "stdout",
     "output_type": "stream",
     "text": [
      "[DEBUG/MainProcess] added worker\n"
     ]
    },
    {
     "name": "stderr",
     "output_type": "stream",
     "text": [
      "2024-02-21 16:52:14 - ast_utils - INFO     - Pool started\n",
      "[DEBUG/MainProcess] recreated blocker with handle 77\n",
      "[DEBUG/MainProcess] recreated blocker with handle 78\n",
      "[DEBUG/MainProcess] recreated blocker with handle 82\n",
      "[DEBUG/MainProcess] recreated blocker with handle 83\n",
      "[INFO/MainProcess] child process calling self.run()\n",
      "[DEBUG/MainProcess] recreated blocker with handle 77\n",
      "[DEBUG/MainProcess] recreated blocker with handle 78\n",
      "[DEBUG/MainProcess] recreated blocker with handle 82\n",
      "[DEBUG/MainProcess] recreated blocker with handle 83\n",
      "[INFO/MainProcess] child process calling self.run()\n",
      "[DEBUG/MainProcess] recreated blocker with handle 77\n",
      "[DEBUG/MainProcess] recreated blocker with handle 78\n",
      "[DEBUG/MainProcess] recreated blocker with handle 82\n",
      "[DEBUG/MainProcess] recreated blocker with handle 83\n",
      "[INFO/MainProcess] child process calling self.run()\n",
      "[DEBUG/MainProcess] recreated blocker with handle 77\n",
      "[DEBUG/MainProcess] recreated blocker with handle 78\n",
      "[DEBUG/MainProcess] recreated blocker with handle 82\n",
      "[DEBUG/MainProcess] recreated blocker with handle 83\n",
      "[INFO/MainProcess] child process calling self.run()\n",
      "[DEBUG/MainProcess] recreated blocker with handle 77\n",
      "[DEBUG/MainProcess] recreated blocker with handle 78\n",
      "[DEBUG/MainProcess] recreated blocker with handle 82\n",
      "[DEBUG/MainProcess] recreated blocker with handle 83\n",
      "[INFO/MainProcess] child process calling self.run()\n",
      "[DEBUG/MainProcess] doing set_length()\n"
     ]
    },
    {
     "name": "stdout",
     "output_type": "stream",
     "text": [
      "[DEBUG/MainProcess] doing set_length()\n"
     ]
    },
    {
     "name": "stderr",
     "output_type": "stream",
     "text": [
      "2024-02-21 16:52:16 - ast_utils - DEBUG    - Using cache folder: /var/folders/h9/kzpqpksx6fq00v9d73x5j51c0000gn/T/game_generation_cache\n",
      "[DEBUG/MainProcess] terminating pool\n"
     ]
    },
    {
     "name": "stdout",
     "output_type": "stream",
     "text": [
      "[DEBUG/MainProcess] terminating pool\n"
     ]
    },
    {
     "name": "stderr",
     "output_type": "stream",
     "text": [
      "[DEBUG/MainProcess] finalizing pool\n"
     ]
    },
    {
     "name": "stdout",
     "output_type": "stream",
     "text": [
      "[DEBUG/MainProcess] finalizing pool\n"
     ]
    },
    {
     "name": "stderr",
     "output_type": "stream",
     "text": [
      "[DEBUG/MainProcess] helping task handler/workers to finish\n"
     ]
    },
    {
     "name": "stdout",
     "output_type": "stream",
     "text": [
      "[DEBUG/MainProcess] helping task handler/workers to finish\n"
     ]
    },
    {
     "name": "stderr",
     "output_type": "stream",
     "text": [
      "[DEBUG/MainProcess] worker handler exiting\n"
     ]
    },
    {
     "name": "stdout",
     "output_type": "stream",
     "text": [
      "[DEBUG/MainProcess] worker handler exiting\n"
     ]
    },
    {
     "name": "stderr",
     "output_type": "stream",
     "text": [
      "[DEBUG/MainProcess] task handler got sentinel\n"
     ]
    },
    {
     "name": "stdout",
     "output_type": "stream",
     "text": [
      "[DEBUG/MainProcess] task handler got sentinel\n"
     ]
    },
    {
     "name": "stderr",
     "output_type": "stream",
     "text": [
      "[DEBUG/MainProcess] removing tasks from inqueue until task handler finished\n"
     ]
    },
    {
     "name": "stdout",
     "output_type": "stream",
     "text": [
      "[DEBUG/MainProcess] removing tasks from inqueue until task handler finished\n"
     ]
    },
    {
     "name": "stderr",
     "output_type": "stream",
     "text": [
      "[DEBUG/MainProcess] task handler sending sentinel to result handler\n"
     ]
    },
    {
     "name": "stdout",
     "output_type": "stream",
     "text": [
      "[DEBUG/MainProcess] task handler sending sentinel to result handler\n"
     ]
    },
    {
     "name": "stderr",
     "output_type": "stream",
     "text": [
      "[DEBUG/MainProcess] task handler sending sentinel to workers\n"
     ]
    },
    {
     "name": "stdout",
     "output_type": "stream",
     "text": [
      "[DEBUG/MainProcess] task handler sending sentinel to workers\n"
     ]
    },
    {
     "name": "stderr",
     "output_type": "stream",
     "text": [
      "[DEBUG/MainProcess] result handler got sentinel\n"
     ]
    },
    {
     "name": "stdout",
     "output_type": "stream",
     "text": [
      "[DEBUG/MainProcess] result handler got sentinel\n"
     ]
    },
    {
     "name": "stderr",
     "output_type": "stream",
     "text": [
      "[DEBUG/MainProcess] worker got sentinel -- exiting\n",
      "[DEBUG/MainProcess] task handler exiting\n",
      "[DEBUG/MainProcess] worker exiting after 0 tasks\n",
      "[INFO/MainProcess] process shutting down\n",
      "[DEBUG/MainProcess] running all \"atexit\" finalizers with priority >= 0\n",
      "[DEBUG/MainProcess] running the remaining \"atexit\" finalizers\n",
      "[INFO/MainProcess] process exiting with exitcode 0\n",
      "[DEBUG/MainProcess] worker got sentinel -- exiting\n",
      "[DEBUG/MainProcess] worker exiting after 0 tasks\n",
      "[INFO/MainProcess] process shutting down\n",
      "[DEBUG/MainProcess] running all \"atexit\" finalizers with priority >= 0\n",
      "[DEBUG/MainProcess] running the remaining \"atexit\" finalizers\n",
      "[INFO/MainProcess] process exiting with exitcode 0\n",
      "[DEBUG/MainProcess] worker got sentinel -- exiting\n",
      "[DEBUG/MainProcess] worker exiting after 0 tasks\n",
      "[INFO/MainProcess] process shutting down\n",
      "[DEBUG/MainProcess] running all \"atexit\" finalizers with priority >= 0\n",
      "[DEBUG/MainProcess] running the remaining \"atexit\" finalizers\n",
      "[INFO/MainProcess] process exiting with exitcode 0\n",
      "[DEBUG/MainProcess] worker got sentinel -- exiting\n",
      "[DEBUG/MainProcess] worker exiting after 0 tasks\n",
      "[INFO/MainProcess] process shutting down\n",
      "[DEBUG/MainProcess] running all \"atexit\" finalizers with priority >= 0\n",
      "[DEBUG/MainProcess] running the remaining \"atexit\" finalizers\n",
      "[INFO/MainProcess] process exiting with exitcode 0\n",
      "[DEBUG/MainProcess] worker got sentinel -- exiting\n",
      "[DEBUG/MainProcess] worker exiting after 0 tasks\n",
      "[INFO/MainProcess] process shutting down\n",
      "[DEBUG/MainProcess] running all \"atexit\" finalizers with priority >= 0\n",
      "[DEBUG/MainProcess] running the remaining \"atexit\" finalizers\n",
      "[INFO/MainProcess] process exiting with exitcode 0\n",
      "[DEBUG/MainProcess] worker got sentinel -- exiting\n",
      "[DEBUG/MainProcess] worker exiting after 0 tasks\n",
      "[INFO/MainProcess] process shutting down\n",
      "[DEBUG/MainProcess] running all \"atexit\" finalizers with priority >= 0\n",
      "[DEBUG/MainProcess] running the remaining \"atexit\" finalizers\n",
      "[INFO/MainProcess] process exiting with exitcode 0\n",
      "[DEBUG/MainProcess] worker got sentinel -- exiting\n",
      "[DEBUG/MainProcess] worker exiting after 0 tasks\n",
      "[INFO/MainProcess] process shutting down\n",
      "[DEBUG/MainProcess] running all \"atexit\" finalizers with priority >= 0\n",
      "[DEBUG/MainProcess] running the remaining \"atexit\" finalizers\n",
      "[INFO/MainProcess] process exiting with exitcode 0\n",
      "[DEBUG/MainProcess] worker got sentinel -- exiting\n",
      "[DEBUG/MainProcess] worker exiting after 0 tasks\n",
      "[INFO/MainProcess] process shutting down\n",
      "[DEBUG/MainProcess] running all \"atexit\" finalizers with priority >= 0\n",
      "[DEBUG/MainProcess] running the remaining \"atexit\" finalizers\n",
      "[INFO/MainProcess] process exiting with exitcode 0\n",
      "[DEBUG/MainProcess] worker got sentinel -- exiting\n",
      "[DEBUG/MainProcess] worker exiting after 0 tasks\n",
      "[INFO/MainProcess] process shutting down\n",
      "[DEBUG/MainProcess] running all \"atexit\" finalizers with priority >= 0\n",
      "[DEBUG/MainProcess] running the remaining \"atexit\" finalizers\n",
      "[INFO/MainProcess] process exiting with exitcode 0\n",
      "[DEBUG/MainProcess] worker got sentinel -- exiting\n",
      "[DEBUG/MainProcess] worker exiting after 0 tasks\n",
      "[INFO/MainProcess] process shutting down\n",
      "[DEBUG/MainProcess] running all \"atexit\" finalizers with priority >= 0\n",
      "[DEBUG/MainProcess] running the remaining \"atexit\" finalizers\n",
      "[INFO/MainProcess] process exiting with exitcode 0\n",
      "[DEBUG/MainProcess] worker got sentinel -- exiting\n",
      "[DEBUG/MainProcess] worker exiting after 0 tasks\n",
      "[INFO/MainProcess] process shutting down\n",
      "[DEBUG/MainProcess] running all \"atexit\" finalizers with priority >= 0\n",
      "[DEBUG/MainProcess] running the remaining \"atexit\" finalizers\n",
      "[INFO/MainProcess] process exiting with exitcode 0\n",
      "[DEBUG/MainProcess] worker got sentinel -- exiting\n",
      "[DEBUG/MainProcess] worker exiting after 0 tasks\n",
      "[INFO/MainProcess] process shutting down\n",
      "[DEBUG/MainProcess] running all \"atexit\" finalizers with priority >= 0\n",
      "[DEBUG/MainProcess] running the remaining \"atexit\" finalizers\n",
      "[INFO/MainProcess] process exiting with exitcode 0\n",
      "[DEBUG/MainProcess] worker got sentinel -- exiting\n",
      "[DEBUG/MainProcess] worker exiting after 0 tasks\n",
      "[INFO/MainProcess] process shutting down\n",
      "[DEBUG/MainProcess] running all \"atexit\" finalizers with priority >= 0\n",
      "[DEBUG/MainProcess] running the remaining \"atexit\" finalizers\n",
      "[INFO/MainProcess] process exiting with exitcode 0\n",
      "[DEBUG/MainProcess] worker got sentinel -- exiting\n",
      "[DEBUG/MainProcess] worker exiting after 0 tasks\n",
      "[INFO/MainProcess] process shutting down\n",
      "[DEBUG/MainProcess] running all \"atexit\" finalizers with priority >= 0\n",
      "[DEBUG/MainProcess] running the remaining \"atexit\" finalizers\n",
      "[INFO/MainProcess] process exiting with exitcode 0\n",
      "[DEBUG/MainProcess] worker got sentinel -- exiting\n",
      "[DEBUG/MainProcess] worker exiting after 1 tasks\n",
      "[INFO/MainProcess] process shutting down\n",
      "[DEBUG/MainProcess] running all \"atexit\" finalizers with priority >= 0\n",
      "[DEBUG/MainProcess] running the remaining \"atexit\" finalizers\n",
      "[INFO/MainProcess] process exiting with exitcode 0\n",
      "[DEBUG/MainProcess] ensuring that outqueue is not full\n"
     ]
    },
    {
     "name": "stdout",
     "output_type": "stream",
     "text": [
      "[DEBUG/MainProcess] task handler exiting\n",
      "[DEBUG/MainProcess] ensuring that outqueue is not full\n"
     ]
    },
    {
     "name": "stderr",
     "output_type": "stream",
     "text": [
      "[DEBUG/MainProcess] joining worker handler\n"
     ]
    },
    {
     "name": "stdout",
     "output_type": "stream",
     "text": [
      "[DEBUG/MainProcess] joining worker handler\n"
     ]
    },
    {
     "name": "stderr",
     "output_type": "stream",
     "text": [
      "[DEBUG/MainProcess] result handler exiting: len(cache)=0, thread._state=TERMINATE\n"
     ]
    },
    {
     "name": "stdout",
     "output_type": "stream",
     "text": [
      "[DEBUG/MainProcess] result handler exiting: len(cache)=0, thread._state=TERMINATE\n"
     ]
    },
    {
     "name": "stderr",
     "output_type": "stream",
     "text": [
      "[DEBUG/MainProcess] terminating workers\n"
     ]
    },
    {
     "name": "stdout",
     "output_type": "stream",
     "text": [
      "[DEBUG/MainProcess] terminating workers\n"
     ]
    },
    {
     "name": "stderr",
     "output_type": "stream",
     "text": [
      "[DEBUG/MainProcess] joining task handler\n"
     ]
    },
    {
     "name": "stdout",
     "output_type": "stream",
     "text": [
      "[DEBUG/MainProcess] joining task handler\n"
     ]
    },
    {
     "name": "stderr",
     "output_type": "stream",
     "text": [
      "[DEBUG/MainProcess] joining result handler\n"
     ]
    },
    {
     "name": "stdout",
     "output_type": "stream",
     "text": [
      "[DEBUG/MainProcess] joining result handler\n"
     ]
    },
    {
     "name": "stderr",
     "output_type": "stream",
     "text": [
      "[DEBUG/MainProcess] joining pool workers\n"
     ]
    },
    {
     "name": "stdout",
     "output_type": "stream",
     "text": [
      "[DEBUG/MainProcess] joining pool workers\n"
     ]
    },
    {
     "name": "stderr",
     "output_type": "stream",
     "text": [
      "[DEBUG/MainProcess] cleaning up worker 50233\n"
     ]
    },
    {
     "name": "stdout",
     "output_type": "stream",
     "text": [
      "[DEBUG/MainProcess] cleaning up worker 50233\n"
     ]
    },
    {
     "name": "stderr",
     "output_type": "stream",
     "text": [
      "2024-02-21 16:52:23 - ast_utils - INFO     - Pool ended, cache size is 98\n"
     ]
    },
    {
     "name": "stdout",
     "output_type": "stream",
     "text": [
      "['interactive-beta.pddl' 'ast-real-regrowth-samples-1024.pddl.gz']\n"
     ]
    },
    {
     "data": {
      "text/html": [
       "<div>\n",
       "<style scoped>\n",
       "    .dataframe tbody tr th:only-of-type {\n",
       "        vertical-align: middle;\n",
       "    }\n",
       "\n",
       "    .dataframe tbody tr th {\n",
       "        vertical-align: top;\n",
       "    }\n",
       "\n",
       "    .dataframe thead th {\n",
       "        text-align: right;\n",
       "    }\n",
       "</style>\n",
       "<table border=\"1\" class=\"dataframe\">\n",
       "  <thead>\n",
       "    <tr style=\"text-align: right;\">\n",
       "      <th></th>\n",
       "      <th>Index</th>\n",
       "      <th>src_file</th>\n",
       "      <th>game_name</th>\n",
       "      <th>domain_name</th>\n",
       "      <th>original_game_name</th>\n",
       "      <th>real</th>\n",
       "      <th>variables_defined_all</th>\n",
       "      <th>variables_defined_prop</th>\n",
       "      <th>variables_used_all</th>\n",
       "      <th>variables_used_prop</th>\n",
       "      <th>...</th>\n",
       "      <th>ast_ngram_constraints_n_4_score</th>\n",
       "      <th>ast_ngram_constraints_n_5_score</th>\n",
       "      <th>ast_ngram_terminal_n_2_score</th>\n",
       "      <th>ast_ngram_terminal_n_3_score</th>\n",
       "      <th>ast_ngram_terminal_n_4_score</th>\n",
       "      <th>ast_ngram_terminal_n_5_score</th>\n",
       "      <th>ast_ngram_scoring_n_2_score</th>\n",
       "      <th>ast_ngram_scoring_n_3_score</th>\n",
       "      <th>ast_ngram_scoring_n_4_score</th>\n",
       "      <th>ast_ngram_scoring_n_5_score</th>\n",
       "    </tr>\n",
       "  </thead>\n",
       "  <tbody>\n",
       "    <tr>\n",
       "      <th>0</th>\n",
       "      <td>0</td>\n",
       "      <td>interactive-beta.pddl</td>\n",
       "      <td>6172feb1665491d1efbce164-0</td>\n",
       "      <td>medium-objects-room-v1</td>\n",
       "      <td>6172feb1665491d1efbce164-0</td>\n",
       "      <td>1</td>\n",
       "      <td>1</td>\n",
       "      <td>1.0</td>\n",
       "      <td>1</td>\n",
       "      <td>1.0</td>\n",
       "      <td>...</td>\n",
       "      <td>0.969177</td>\n",
       "      <td>0.979573</td>\n",
       "      <td>0.965285</td>\n",
       "      <td>0.976289</td>\n",
       "      <td>0.977376</td>\n",
       "      <td>0.980148</td>\n",
       "      <td>0.915272</td>\n",
       "      <td>0.960175</td>\n",
       "      <td>0.999188</td>\n",
       "      <td>1.000000</td>\n",
       "    </tr>\n",
       "    <tr>\n",
       "      <th>1</th>\n",
       "      <td>1</td>\n",
       "      <td>interactive-beta.pddl</td>\n",
       "      <td>5f77754ba932fb2c4ba181d8-2</td>\n",
       "      <td>many-objects-room-v1</td>\n",
       "      <td>5f77754ba932fb2c4ba181d8-2</td>\n",
       "      <td>1</td>\n",
       "      <td>1</td>\n",
       "      <td>1.0</td>\n",
       "      <td>1</td>\n",
       "      <td>1.0</td>\n",
       "      <td>...</td>\n",
       "      <td>0.974875</td>\n",
       "      <td>0.978991</td>\n",
       "      <td>0.961082</td>\n",
       "      <td>0.972691</td>\n",
       "      <td>0.971810</td>\n",
       "      <td>0.980943</td>\n",
       "      <td>0.895362</td>\n",
       "      <td>0.910697</td>\n",
       "      <td>0.963311</td>\n",
       "      <td>0.973001</td>\n",
       "    </tr>\n",
       "    <tr>\n",
       "      <th>2</th>\n",
       "      <td>2</td>\n",
       "      <td>interactive-beta.pddl</td>\n",
       "      <td>614b603d4da88384282967a7-3</td>\n",
       "      <td>many-objects-room-v1</td>\n",
       "      <td>614b603d4da88384282967a7-3</td>\n",
       "      <td>1</td>\n",
       "      <td>1</td>\n",
       "      <td>1.0</td>\n",
       "      <td>1</td>\n",
       "      <td>1.0</td>\n",
       "      <td>...</td>\n",
       "      <td>0.954233</td>\n",
       "      <td>0.972808</td>\n",
       "      <td>0.000000</td>\n",
       "      <td>0.000000</td>\n",
       "      <td>0.000000</td>\n",
       "      <td>0.000000</td>\n",
       "      <td>0.841097</td>\n",
       "      <td>0.898279</td>\n",
       "      <td>0.946597</td>\n",
       "      <td>0.955042</td>\n",
       "    </tr>\n",
       "    <tr>\n",
       "      <th>3</th>\n",
       "      <td>3</td>\n",
       "      <td>interactive-beta.pddl</td>\n",
       "      <td>5bc79f652885710001a0e82a-5</td>\n",
       "      <td>few-objects-room-v1</td>\n",
       "      <td>5bc79f652885710001a0e82a-5</td>\n",
       "      <td>1</td>\n",
       "      <td>1</td>\n",
       "      <td>1.0</td>\n",
       "      <td>1</td>\n",
       "      <td>1.0</td>\n",
       "      <td>...</td>\n",
       "      <td>0.986178</td>\n",
       "      <td>0.982877</td>\n",
       "      <td>0.000000</td>\n",
       "      <td>0.000000</td>\n",
       "      <td>0.000000</td>\n",
       "      <td>0.000000</td>\n",
       "      <td>0.915272</td>\n",
       "      <td>0.960175</td>\n",
       "      <td>0.999188</td>\n",
       "      <td>1.000000</td>\n",
       "    </tr>\n",
       "    <tr>\n",
       "      <th>4</th>\n",
       "      <td>4</td>\n",
       "      <td>interactive-beta.pddl</td>\n",
       "      <td>614dec67f6eb129c3a77defd-6</td>\n",
       "      <td>medium-objects-room-v1</td>\n",
       "      <td>614dec67f6eb129c3a77defd-6</td>\n",
       "      <td>1</td>\n",
       "      <td>1</td>\n",
       "      <td>1.0</td>\n",
       "      <td>1</td>\n",
       "      <td>1.0</td>\n",
       "      <td>...</td>\n",
       "      <td>0.984002</td>\n",
       "      <td>0.979782</td>\n",
       "      <td>0.000000</td>\n",
       "      <td>0.000000</td>\n",
       "      <td>0.000000</td>\n",
       "      <td>0.000000</td>\n",
       "      <td>0.964905</td>\n",
       "      <td>0.971973</td>\n",
       "      <td>0.972563</td>\n",
       "      <td>0.962818</td>\n",
       "    </tr>\n",
       "  </tbody>\n",
       "</table>\n",
       "<p>5 rows × 186 columns</p>\n",
       "</div>"
      ],
      "text/plain": [
       "   Index               src_file                   game_name  \\\n",
       "0      0  interactive-beta.pddl  6172feb1665491d1efbce164-0   \n",
       "1      1  interactive-beta.pddl  5f77754ba932fb2c4ba181d8-2   \n",
       "2      2  interactive-beta.pddl  614b603d4da88384282967a7-3   \n",
       "3      3  interactive-beta.pddl  5bc79f652885710001a0e82a-5   \n",
       "4      4  interactive-beta.pddl  614dec67f6eb129c3a77defd-6   \n",
       "\n",
       "              domain_name          original_game_name  real  \\\n",
       "0  medium-objects-room-v1  6172feb1665491d1efbce164-0     1   \n",
       "1    many-objects-room-v1  5f77754ba932fb2c4ba181d8-2     1   \n",
       "2    many-objects-room-v1  614b603d4da88384282967a7-3     1   \n",
       "3     few-objects-room-v1  5bc79f652885710001a0e82a-5     1   \n",
       "4  medium-objects-room-v1  614dec67f6eb129c3a77defd-6     1   \n",
       "\n",
       "   variables_defined_all  variables_defined_prop  variables_used_all  \\\n",
       "0                      1                     1.0                   1   \n",
       "1                      1                     1.0                   1   \n",
       "2                      1                     1.0                   1   \n",
       "3                      1                     1.0                   1   \n",
       "4                      1                     1.0                   1   \n",
       "\n",
       "   variables_used_prop  ...  ast_ngram_constraints_n_4_score  \\\n",
       "0                  1.0  ...                         0.969177   \n",
       "1                  1.0  ...                         0.974875   \n",
       "2                  1.0  ...                         0.954233   \n",
       "3                  1.0  ...                         0.986178   \n",
       "4                  1.0  ...                         0.984002   \n",
       "\n",
       "   ast_ngram_constraints_n_5_score  ast_ngram_terminal_n_2_score  \\\n",
       "0                         0.979573                      0.965285   \n",
       "1                         0.978991                      0.961082   \n",
       "2                         0.972808                      0.000000   \n",
       "3                         0.982877                      0.000000   \n",
       "4                         0.979782                      0.000000   \n",
       "\n",
       "   ast_ngram_terminal_n_3_score  ast_ngram_terminal_n_4_score  \\\n",
       "0                      0.976289                      0.977376   \n",
       "1                      0.972691                      0.971810   \n",
       "2                      0.000000                      0.000000   \n",
       "3                      0.000000                      0.000000   \n",
       "4                      0.000000                      0.000000   \n",
       "\n",
       "   ast_ngram_terminal_n_5_score  ast_ngram_scoring_n_2_score  \\\n",
       "0                      0.980148                     0.915272   \n",
       "1                      0.980943                     0.895362   \n",
       "2                      0.000000                     0.841097   \n",
       "3                      0.000000                     0.915272   \n",
       "4                      0.000000                     0.964905   \n",
       "\n",
       "   ast_ngram_scoring_n_3_score  ast_ngram_scoring_n_4_score  \\\n",
       "0                     0.960175                     0.999188   \n",
       "1                     0.910697                     0.963311   \n",
       "2                     0.898279                     0.946597   \n",
       "3                     0.960175                     0.999188   \n",
       "4                     0.971973                     0.972563   \n",
       "\n",
       "   ast_ngram_scoring_n_5_score  \n",
       "0                     1.000000  \n",
       "1                     0.973001  \n",
       "2                     0.955042  \n",
       "3                     1.000000  \n",
       "4                     0.962818  \n",
       "\n",
       "[5 rows x 186 columns]"
      ]
     },
     "execution_count": 4,
     "metadata": {},
     "output_type": "execute_result"
    }
   ],
   "source": [
    "\n",
    "grammar = open('../dsl/dsl.ebnf').read()\n",
    "grammar_parser = tatsu.compile(grammar)\n",
    "game_asts = list(cached_load_and_parse_games_from_file('../dsl/interactive-beta.pddl', grammar_parser, False, relative_path='..'))\n",
    "real_game_texts = [ast_printer.ast_to_string(ast, '\\n') for ast in game_asts]\n",
    "# regrown_game_texts = list(load_games_from_file('../dsl/ast-real-regrowth-samples.pddl'))\n",
    "# regrown_game_1024_texts = list(load_games_from_file('../dsl/ast-real-regrowth-samples-1024.pddl'))\n",
    "# print(len(real_game_texts), len(regrown_game_texts), len(regrown_game_texts) / 98, len(regrown_game_1024_texts), len(regrown_game_1024_texts) / 98)\n",
    "\n",
    "fitness_df = utils.load_fitness_data('../data/fitness_features_1024_regrowths.csv.gz')\n",
    "print(fitness_df.src_file.unique())\n",
    "fitness_df.head()"
   ]
  },
  {
   "cell_type": "code",
   "execution_count": 5,
   "metadata": {},
   "outputs": [],
   "source": [
    "NEW_REPRESENTATIVE_INDICES = [\n",
    "    42,  # throw\n",
    "    58,  # funny throw with setup\n",
    "    28,  # throw, throw attempt, with setup \n",
    "    88,  # throw, throw attempt, no setup\n",
    "    31,  # throw without in/on\n",
    "    64,  # dropping ball in bin, drop attempt\n",
    "    52,  # ball-less throwing game\n",
    "    86,  # weird throw, with setup\n",
    "    6,  # two weird throwing preferences, setup\n",
    "    17,  # anoter weird multi throwing preference game\n",
    "    96,  # three throwing preferences, setup\n",
    "    \n",
    "    14,  # castle building\n",
    "    45,  # weird building game\n",
    "    49,  # another weird building game\n",
    "    51,  # hybrid throwing/building game\n",
    "    \n",
    "    23,  # single placement preference\n",
    "    44,  # three different placement preferencs \n",
    "\n",
    "    26,  # single preferece that matches none of the others\n",
    "]\n",
    "\n",
    "REAL_GAME_INDICES_TO_IGNORE = [\n",
    "    2,  # used in the context for backtranslation\n",
    "    5,  # used in the context for backtranslation\n",
    "    18, # used in the context for backtranslation\n",
    "    33, # used in the context for backtranslation\n",
    "    44, # used in the context for backtranslation\n",
    "]\n",
    "\n",
    "REAL_GAME_INDICES_TO_INCLUDE = [\n",
    "    0, 4, 6, 7, 11,\n",
    "    14, 17, 23, 26, 28,\n",
    "    31, 32, 35, 37, 40,\n",
    "    41, 42, 45, 49, 51,\n",
    "    52, 55, 58, 59, 64,\n",
    "    74, 88, 90, 94, 96,\n",
    "]\n"
   ]
  },
  {
   "cell_type": "code",
   "execution_count": 6,
   "metadata": {},
   "outputs": [
    {
     "name": "stderr",
     "output_type": "stream",
     "text": [
      "2024-02-21 16:52:25 - compile_predicate_statistics_full_database - INFO     - Loading data from files\n",
      "2024-02-21 16:52:44 - compile_predicate_statistics_full_database - INFO     - Creating DuckDB table...\n",
      "2024-02-21 16:52:46 - compile_predicate_statistics_full_database - INFO     - Creating data table indices...\n",
      "2024-02-21 16:53:04 - compile_predicate_statistics_full_database - INFO     - Loaded data, found 843825 rows\n"
     ]
    },
    {
     "data": {
      "text/plain": [
       "dict_keys(['summary', 'full'])"
      ]
     },
     "execution_count": 6,
     "metadata": {},
     "output_type": "execute_result"
    }
   ],
   "source": [
    "# trace_filter_results_path = '../samples/trace_filter_results_max_exemplar_preferences_by_bcs_with_expected_values_2023_11_29_2023_12_05_1.pkl.gz'\n",
    "model_key = 'max_exemplar_preferences_by_bcs_with_expected_values'\n",
    "model_spec = latest_model_paths.MAP_ELITES_MODELS[model_key]\n",
    "model = typing.cast(MAPElitesSampler, model_spec.load())\n",
    "\n",
    "key_to_real_game_index = defaultdict(list)\n",
    "real_game_index_to_key = {}\n",
    "real_game_fitness_scores = []\n",
    "REAL_GAME_KEYS = []\n",
    "for i, ast in enumerate(game_asts):\n",
    "    fitness_score, features = model._score_proposal(ast, return_features=True)  # type: ignore\n",
    "    real_game_fitness_scores.append(fitness_score)\n",
    "    key = model._features_to_key(ast, features)\n",
    "    key_to_real_game_index[key].append(i)\n",
    "    real_game_index_to_key[i] = key\n",
    "    REAL_GAME_KEYS.append(key)\n",
    "\n",
    "trace_filter_results = model_spec.load_trace_filter_data()\n",
    "trace_filter_results.keys()"
   ]
  },
  {
   "cell_type": "code",
   "execution_count": 7,
   "metadata": {},
   "outputs": [
    {
     "name": "stdout",
     "output_type": "stream",
     "text": [
      "(1, 0, 2, 1, 0, 0, 0, 0, 0, 0, 1, 0) [1, 28, 34, 63, 95]\n",
      "(1, 0, 2, 2, 0, 0, 0, 0, 0, 0, 0, 0) [5]\n",
      "(1, 0, 2, 1, 0, 0, 0, 0, 0, 0, 0, 0) [12]\n",
      "(1, 0, 2, 1, 0, 1, 0, 0, 0, 0, 0, 0) [37]\n"
     ]
    }
   ],
   "source": [
    "real_game_index_to_key[5]\n",
    "\n",
    "for key, indices in key_to_real_game_index.items():\n",
    "    if key is None or not isinstance(key, tuple):\n",
    "        continue\n",
    "    if key[2] == real_game_index_to_key[5][2] and key[3] >= 1 and key[1] == real_game_index_to_key[5][1]:\n",
    "        print(key, indices)"
   ]
  },
  {
   "cell_type": "code",
   "execution_count": 8,
   "metadata": {},
   "outputs": [
    {
     "data": {
      "text/plain": [
       "False"
      ]
     },
     "execution_count": 8,
     "metadata": {},
     "output_type": "execute_result"
    }
   ],
   "source": [
    "(1, 0, 3, 1, 0, 0, 0, 0, 0, 0, 0, 1) in key_to_real_game_index"
   ]
  },
  {
   "cell_type": "code",
   "execution_count": 9,
   "metadata": {},
   "outputs": [
    {
     "name": "stdout",
     "output_type": "stream",
     "text": [
      "(define (game 5ef4c07dc8437809ba661613-36) (:domain few-objects-room-v1)\n",
      "(:setup\n",
      "  (and\n",
      "    (exists (?h - hexagonal_bin)\n",
      "      (game-conserved\n",
      "        (on bed ?h)\n",
      "     )\n",
      "   )\n",
      "    (forall (?d - dodgeball)\n",
      "      (game-optional\n",
      "        (on desk ?d)\n",
      "     )\n",
      "   )\n",
      " )\n",
      ")\n",
      "(:constraints\n",
      "  (and\n",
      "    (preference throwToBin\n",
      "      (exists (?d - dodgeball ?h - hexagonal_bin)\n",
      "        (then\n",
      "          (once (and (agent_holds ?d) (adjacent desk agent)))\n",
      "          (hold (and (not (agent_holds ?d)) (in_motion ?d)))\n",
      "          (once (and (not (in_motion ?d)) (in ?h ?d)))\n",
      "       )\n",
      "     )\n",
      "   )\n",
      "    (preference throwAttempt\n",
      "      (exists (?d - dodgeball)\n",
      "        (then\n",
      "          (once (agent_holds ?d))\n",
      "          (hold (and (not (agent_holds ?d)) (in_motion ?d)))\n",
      "          (once (not (in_motion ?d)))\n",
      "       )\n",
      "     )\n",
      "   )\n",
      " )\n",
      ")\n",
      "(:terminal\n",
      "  (>= (count throwAttempt) 5)\n",
      ")\n",
      "(:scoring\n",
      "  (count throwToBin)\n",
      ")\n",
      ")\n"
     ]
    }
   ],
   "source": [
    "print(real_game_texts[28])"
   ]
  },
  {
   "cell_type": "markdown",
   "metadata": {},
   "source": [
    "## Figure out which human games to include\n",
    "* For each cell where there are  > 0 human games, check if there's one in the representative index list that isn't in the ignore list\n",
    "* If so, add it to the list of human games to include\n",
    "* If not, print the list of candidate human games to include"
   ]
  },
  {
   "cell_type": "code",
   "execution_count": 10,
   "metadata": {},
   "outputs": [
    {
     "name": "stdout",
     "output_type": "stream",
     "text": [
      "30\n"
     ]
    }
   ],
   "source": [
    "# for key, indices in key_to_real_game_index.items():\n",
    "#     if key != None:\n",
    "#         relevant_indices = [i for i in indices if i not in REAL_GAME_INDICES_TO_IGNORE]\n",
    "#         if len(relevant_indices) == 0:\n",
    "#             print('*', key, '∅')\n",
    "#             continue\n",
    "\n",
    "#         representative_indices = [i for i in relevant_indices if i in NEW_REPRESENTATIVE_INDICES]\n",
    "#         if len(representative_indices) > 0:\n",
    "#             print('*', key, representative_indices, '(r)')\n",
    "\n",
    "#         else:\n",
    "#             print('*', key, relevant_indices)\n",
    "\n",
    "REAL_GAME_KEY_LIST = [real_game_index_to_key[i] for i in REAL_GAME_INDICES_TO_INCLUDE]\n",
    "REAL_GAME_KEYS = set(REAL_GAME_KEY_LIST)\n",
    "print(len(REAL_GAME_KEYS))"
   ]
  },
  {
   "cell_type": "markdown",
   "metadata": {},
   "source": [
    "## Figure out which model games to include\n",
    "* We're taking the 30 from the keys used in the human games\n",
    "* We want $n = 40$ additional ones:\n",
    "    * All 40 with the behavioral feature expected values key set to 1\n",
    "    * 10 with each preference count\n",
    "    * 20 with/without setup\n",
    "    * With each of the 9 preference BCs on 20 times and off 20 times\n"
   ]
  },
  {
   "cell_type": "code",
   "execution_count": 11,
   "metadata": {},
   "outputs": [],
   "source": [
    "BINARY_FEATURE_INDICES = list(range(3, 12))\n",
    "\n",
    "\n",
    "def sample_novel_map_elites_keys(n: int, model: MAPElitesSampler, trace_filter_results: dict,\n",
    "                                 real_game_keys: typing.Set[KeyTypeAnnotation] = REAL_GAME_KEYS,\n",
    "                                 random_seed: int = DEFAULT_RANDOM_SEED, max_pref_count: int = 4,\n",
    "                                 binary_feature_indices: typing.List[int] = BINARY_FEATURE_INDICES,\n",
    "                                 pref_count_feature_index: int = 2,\n",
    "                                 ) -> typing.List[KeyTypeAnnotation]:\n",
    "    rng = np.random.default_rng(random_seed)\n",
    "    sampled_keys = []\n",
    "    candidate_keys = set([key for key in model.population.keys() if key[0] == 1]) - real_game_keys  # type: ignore\n",
    "    trace_filter_failed_keys = set([key for key, result in trace_filter_results['summary'].items() if result == 0])\n",
    "    candidate_keys.difference_update(trace_filter_failed_keys)\n",
    "    valid_pref_counts = list(range(1, max_pref_count + 1))\n",
    "    \n",
    "    pref_count_max_count = n // len(valid_pref_counts) \n",
    "    extra_for_next_pref_count = 0\n",
    "\n",
    "    for pref_count in valid_pref_counts:\n",
    "        sampled_keys_current_pref_count = []\n",
    "        candidate_keys_current_pref_count = set([key for key in candidate_keys if key[pref_count_feature_index] == pref_count])  # type: ignore\n",
    "        \n",
    "        if len(candidate_keys_current_pref_count) < pref_count_max_count:\n",
    "            extra_for_next_pref_count += pref_count_max_count - len(candidate_keys_current_pref_count)\n",
    "            sampled_keys_current_pref_count.extend(list(candidate_keys_current_pref_count))\n",
    "            candidate_keys_current_pref_count.clear()\n",
    "        \n",
    "        else:\n",
    "            count_by_binary_value = {idx: 0 for idx in binary_feature_indices}\n",
    "\n",
    "            while len(sampled_keys_current_pref_count) < pref_count_max_count + extra_for_next_pref_count:\n",
    "                min_value = min(count_by_binary_value.values())\n",
    "                binary_indices_above_min_value = [idx for idx in binary_feature_indices if count_by_binary_value[idx] > min_value]\n",
    "                relevant_keys = [key for key in candidate_keys_current_pref_count if all(key[idx] == 0 for idx in binary_indices_above_min_value)]  # type: ignore\n",
    "                if len(relevant_keys) == 0:\n",
    "                    # Ran out of keys with current min, so increment everywhere to current min\n",
    "                    count_by_binary_value = {idx: min_value for idx in binary_feature_indices}\n",
    "                    continue\n",
    "\n",
    "                key_index = rng.integers(len(relevant_keys))\n",
    "                key = relevant_keys[key_index]\n",
    "                sampled_keys_current_pref_count.append(key)\n",
    "                candidate_keys_current_pref_count.discard(key)\n",
    "                for i in binary_feature_indices:\n",
    "                    count_by_binary_value[i] += key[i] > 0\n",
    "\n",
    "            sampled_keys.extend(sampled_keys_current_pref_count)\n",
    "            extra_for_next_pref_count = 0\n",
    "            \n",
    "    return sampled_keys\n",
    "\n",
    "\n",
    "novel_archive_cell_keys = sample_novel_map_elites_keys(40, model, trace_filter_results)"
   ]
  },
  {
   "cell_type": "code",
   "execution_count": null,
   "metadata": {},
   "outputs": [],
   "source": [
    "with open('./games_for_human_experiment/human_games.pddl', 'w') as f:\n",
    "    for index in REAL_GAME_INDICES_TO_INCLUDE:\n",
    "        f.write(f'; Index #{index} with key {real_game_index_to_key[index]} \\n')\n",
    "        f.write(ast_printer.ast_to_string(game_asts[index], '\\n'))\n",
    "        f.write('\\n\\n')\n",
    "\n",
    "\n",
    "with open('./games_for_human_experiment/human_cell_archive_games.pddl', 'w') as f:\n",
    "    for key in REAL_GAME_KEYS:\n",
    "        f.write(f'; Key {key}\\n')\n",
    "        f.write(ast_printer.ast_to_string(model.population[key], '\\n'))\n",
    "        f.write('\\n\\n')\n",
    "\n",
    "\n",
    "with open('./games_for_human_experiment/novel_archive_cell_games.pddl', 'w') as f:\n",
    "    for key in novel_archive_cell_keys:\n",
    "        f.write(f'; Key {key}\\n')\n",
    "        f.write(ast_printer.ast_to_string(model.population[key], '\\n'))\n",
    "        f.write('\\n\\n')"
   ]
  },
  {
   "cell_type": "markdown",
   "metadata": {},
   "source": [
    "## Fixing the JSON structures because I messed the keys up"
   ]
  },
  {
   "cell_type": "code",
   "execution_count": null,
   "metadata": {},
   "outputs": [],
   "source": [
    "with open('./games_for_human_experiment/human_cell_archive_games_translations.json') as f:\n",
    "    human_cell_archive_games_translations = json.load(f)\n",
    "\n",
    "modified_human_cell_archive_games_translations = {\n",
    "    str(tuple(game['key'])): game['text'] for game in human_cell_archive_games_translations\n",
    "}\n",
    "\n",
    "with open('./games_for_human_experiment/modified_human_cell_archive_games_translations.json', 'w') as f:\n",
    "    json.dump(modified_human_cell_archive_games_translations, f, indent=2)\n",
    "\n",
    "with open('./games_for_human_experiment/human_games_translations.json') as f:\n",
    "    human_games = json.load(f)\n",
    "\n",
    "human_game_texts = [game['text'] for game in human_games]\n",
    "modified_human_game_translations = {\n",
    "    str(real_game_index_to_key[real_game_index]): human_game_texts[i]\n",
    "    for i, real_game_index in enumerate(REAL_GAME_INDICES_TO_INCLUDE)\n",
    "}\n",
    "\n",
    "with open('./games_for_human_experiment/modified_human_games_translations.json', 'w') as f:\n",
    "    json.dump(modified_human_game_translations, f, indent=2)\n",
    "\n",
    "with open('./games_for_human_experiment/novel_archive_cell_games_translations.json') as f:\n",
    "    novel_archive_cell_games_translations = json.load(f)\n",
    "\n",
    "modified_novel_archive_cell_games_translations = {\n",
    "    str(tuple(game['key'])): game['text'] for game in novel_archive_cell_games_translations\n",
    "}\n",
    "\n",
    "with open('./games_for_human_experiment/modified_novel_archive_cell_games_translations.json', 'w') as f:\n",
    "    json.dump(modified_novel_archive_cell_games_translations, f, indent=2)"
   ]
  },
  {
   "cell_type": "markdown",
   "metadata": {},
   "source": [
    "## Using these to make tables for the paper"
   ]
  },
  {
   "cell_type": "code",
   "execution_count": 12,
   "metadata": {},
   "outputs": [],
   "source": [
    "TRANSLATIONS_DIR = '../llm_tests/translations'\n",
    "TRANSLATION_DATE = '2024_01_12'\n",
    "\n",
    "with open(f'{TRANSLATIONS_DIR}/human_games_translations_split_{TRANSLATION_DATE}.json') as f:\n",
    "    human_game_texts = json.load(f)\n",
    "\n",
    "with open(f'{TRANSLATIONS_DIR}/human_cell_archive_games_translations_split_{TRANSLATION_DATE}.json') as f:\n",
    "    human_cell_archive_game_texts = json.load(f)\n",
    "\n",
    "with open(f'{TRANSLATIONS_DIR}/novel_archive_cell_games_translations_split_{TRANSLATION_DATE}.json') as f:\n",
    "    novel_archive_cell_game_texts = json.load(f)"
   ]
  },
  {
   "cell_type": "code",
   "execution_count": 27,
   "metadata": {},
   "outputs": [
    {
     "name": "stdout",
     "output_type": "stream",
     "text": [
      "\\begin{table}[!h]\n",
      "\\begin{tabular}{|p{\\textcolumnwidth}|p{\\gamecolumnwidth}|p{\\gamecolumnwidth}|p{\\gamecolumnwidth}|}\n",
      "\\toprule\n",
      "\\textbf{Game ID} & \\textbf{Participant Game \\#0} (fitness 36.583) & \\textbf{Participant Game \\#14} (fitness 36.491) & \\textbf{Participant Game \\#31} (fitness 37.338) \\\\\n",
      "\\midrule\n",
      "\\textbf{Participant Game Text (GPT-4 back-translated)} & { \\small  \\textbf{Setup:} place a hexagonal bin near a triangular ramp and make sure they stay in place throughout the game. \\textbf{Gameplay:} hold a ball and throw it so that it touches the triangular ramp and then lands inside the hexagonal bin. \\textbf{Terminal:} the game ends when the hexagonal bin, which must start standing upright, is no longer upright without being touched or held by you. \\textbf{Scoring:} you earn 1 point for each time you successfully throw a ball that touches the ramp and lands in the bin.  } & { \\small  \\textbf{Gameplay:} stack a flat block on a bridge block, then place a tall cylindrical block on the flat block, followed by a cube block on the tall cylindrical block, and finally a pyramid block on the cube block. \\textbf{Scoring:} you get 10 points for each different set of blocks you have successfully stacked in this order by the end of the game.  } & { \\small  \\textbf{Gameplay:} throw a ball so that it touches a wall and then either catch it or touch it \\textbf{Scoring:} you get 1 point for each time you successfully throw the ball, it touches a wall, and you are either holding it again or touching it after its flight  } \\\\\n",
      "\\textbf{Participant Game DSL Program} & \\begin{lstlisting}[aboveskip=-0.4 \\baselineskip,belowskip=-0.8 \\baselineskip]\n",
      "(define (game 6172feb1665491d1efbce164-0) (:domain medium)\n",
      "(:setup\n",
      "  (exists (?h - hexagonal_bin ?r - triangular_ramp)\n",
      "    (game-conserved\n",
      "      (near ?h ?r)\n",
      ")))\n",
      "(:constraints\n",
      "  (and\n",
      "    (preference throwToRampToBin\n",
      "      (exists (?b - ball ?r - triangular_ramp ?h - hexagonal_bin)\n",
      "        (then\n",
      "          (once (agent_holds ?b))\n",
      "          (hold-while (and (not (agent_holds ?b)) (in_motion ?b)) (touch ?b ?r))\n",
      "          (once (and (not (in_motion ?b)) (in ?h ?b)))\n",
      "   )))\n",
      "    (preference binKnockedOver\n",
      "      (exists (?h - hexagonal_bin)\n",
      "        (then\n",
      "          (once (object_orientation ?h upright))\n",
      "          (hold (and (not (touch agent ?h)) (not (agent_holds ?h))))\n",
      "          (once (not (object_orientation ?h upright)))\n",
      ")))))\n",
      "(:terminal\n",
      "  (>= (count-once binKnockedOver) 1)\n",
      ")\n",
      "(:scoring\n",
      "  (count throwToRampToBin)\n",
      ")) \\end{lstlisting} & \\begin{lstlisting}[aboveskip=-0.4 \\baselineskip,belowskip=-0.8 \\baselineskip]\n",
      "(define (game 613e4bf960ca68f8de00e5e7-17) (:domain medium)\n",
      "(:constraints\n",
      "  (and\n",
      "    (preference castleBuilt\n",
      "      (exists (?b - bridge_block ?f - flat_block ?t - tall_cylindrical_block ?c - cube_block ?p - pyramid_block)\n",
      "        (at-end\n",
      "          (and\n",
      "            (on ?b ?f)\n",
      "            (on ?f ?t)\n",
      "            (on ?t ?c)\n",
      "            (on ?c ?p)\n",
      "))))))\n",
      "(:scoring\n",
      "  (* 10 (count-once-per-objects castleBuilt))\n",
      ")) \\end{lstlisting} & \\begin{lstlisting}[aboveskip=-0.4 \\baselineskip,belowskip=-0.8 \\baselineskip]\n",
      "(define (game 614fb15adc48d3f9ffcadd41-39) (:domain many)\n",
      "(:constraints\n",
      "  (and\n",
      "    (preference ballThrownToWallToAgent\n",
      "      (exists (?b - ball ?w - wall)\n",
      "        (then\n",
      "          (once (agent_holds ?b))\n",
      "          (hold-while (and (not (agent_holds ?b)) (in_motion ?b)) (touch ?w ?b))\n",
      "          (once (or (agent_holds ?b) (touch agent ?b)))\n",
      ")))))\n",
      "(:scoring\n",
      "  (count ballThrownToWallToAgent)\n",
      ")) \\end{lstlisting} \\\\\n",
      "\\midrule\n",
      "\\textbf{Model Sample} & \\textbf{Model Sample} (fitness 37.162) & \\textbf{Model Sample} (fitness 36.994) & \\textbf{Model Sample} (fitness 37.324) \\\\\n",
      "\\midrule\n",
      "\\textbf{Model Game Text (GPT-4 back-translated)} & { \\small  \\textbf{Setup:} put a hexagonal bin near the rug and ensure it remains there for the duration of the game. \\textbf{Gameplay:} throw dodgeballs aiming to land them inside the hexagonal bin or on a doggie bed. \\textbf{Scoring:} you earn points for each dodgeball that comes to rest either inside the hexagonal bin or on the doggie bed, with your final score being the sum of these successful throws.  } & { \\small  \\textbf{Gameplay:} stack three blocks on top of a tall rectangular block, with two of the stacked blocks being the same type as the tall rectangular block. \\textbf{Scoring:} your score is 1.4 times the number of such stacks you have at the end of the game.  } & { \\small  \\textbf{Gameplay:} throw dodgeballs so that they land and come to rest on the top shelf \\textbf{Terminal:} the game ends after 30 seconds \\textbf{Scoring:} you get 1 point for each dodgeball that is resting on the top shelf at the end of the game  } \\\\\n",
      "\\textbf{Model Game DSL Program} & \\begin{lstlisting}[aboveskip=-0.4 \\baselineskip,belowskip=-0.8 \\baselineskip]\n",
      "(define (game evo-8180-66-0) (:domain medium)\n",
      "(:setup\n",
      "  (exists (?v0 - hexagonal_bin)\n",
      "    (game-conserved\n",
      "      (near rug ?v0)\n",
      ")))\n",
      "(:constraints\n",
      "  (and\n",
      "    (preference preference0\n",
      "      (exists (?v0 - hexagonal_bin ?v1 - dodgeball)\n",
      "        (then\n",
      "          (once (agent_holds ?v1))\n",
      "          (hold (and (not (agent_holds ?v1)) (in_motion ?v1)))\n",
      "          (once (and (not (in_motion ?v1)) (in ?v0 ?v1)))\n",
      "   )))\n",
      "    (preference preference1\n",
      "      (exists (?v0 - dodgeball ?v1 - doggie_bed)\n",
      "        (then\n",
      "          (once (agent_holds ?v0))\n",
      "          (hold (and (not (agent_holds ?v0)) (in_motion ?v0)))\n",
      "          (once (and (not (in_motion ?v0)) (on ?v1 ?v0)))\n",
      ")))))\n",
      "(:scoring\n",
      "  (+ (count preference1) (count preference0))\n",
      ")) \\end{lstlisting} & \\begin{lstlisting}[aboveskip=-0.4 \\baselineskip,belowskip=-0.8 \\baselineskip]\n",
      "(define (game evo-8176-22-0) (:domain many)\n",
      "(:constraints\n",
      "  (and\n",
      "    (preference preference0\n",
      "      (exists (?v0 - block ?v1 - block ?v2 - tall_rectangular_block ?v3 - block)\n",
      "        (at-end\n",
      "          (and\n",
      "            (on ?v2 ?v0)\n",
      "            (on ?v2 ?v1)\n",
      "            (on ?v2 ?v3)\n",
      "            (same_type ?v0 ?v2)\n",
      "            (same_type ?v1 ?v2)\n",
      "))))))\n",
      "(:scoring\n",
      "  (+ (* 0.4 (count preference0))\n",
      "    (count preference0)\n",
      "))) \\end{lstlisting} & \\begin{lstlisting}[aboveskip=-0.4 \\baselineskip,belowskip=-0.8 \\baselineskip]\n",
      "(define (game evo-8175-229-0) (:domain few)\n",
      "(:constraints\n",
      "  (and\n",
      "    (preference preference0\n",
      "      (exists (?v0 - dodgeball)\n",
      "        (then\n",
      "          (once (agent_holds ?v0))\n",
      "          (hold (and (not (agent_holds ?v0)) (in_motion ?v0)))\n",
      "          (once (and (not (in_motion ?v0)) (on top_shelf ?v0)))\n",
      ")))))\n",
      "(:terminal\n",
      "  (>= (total-time) 30)\n",
      ")\n",
      "(:scoring\n",
      "  (count preference0)\n",
      ")) \\end{lstlisting} \\\\\n",
      "\\bottomrule\n",
      "\\end{tabular}\n",
      "\\end{table}\n"
     ]
    }
   ],
   "source": [
    "LSTLISTING_BEGIN = r'\\begin{lstlisting}[aboveskip=-0.4 \\baselineskip,belowskip=-0.8 \\baselineskip]'\n",
    "LSTLISTING_END = r'\\end{lstlisting}'\n",
    "SECTION_HEADERS = ['Setup:', 'Gameplay:', 'Terminal:', 'Scoring:']\n",
    "\n",
    "\n",
    "def combine_close_parens(game_str: str, line_sep: str = '\\n') -> str:\n",
    "    lines = game_str.split(line_sep)\n",
    "    new_lines = []\n",
    "    additional_close_paren_count = 0\n",
    "    indent = ''\n",
    "    for line in lines:\n",
    "        if line.strip() == ')':\n",
    "            additional_close_paren_count += 1\n",
    "            indent = line[:line.index(')')]\n",
    "        else:\n",
    "            if additional_close_paren_count > 0:\n",
    "                new_lines.append(indent + (')' * additional_close_paren_count))\n",
    "                additional_close_paren_count = 0\n",
    "            new_lines.append(line)\n",
    "\n",
    "    if additional_close_paren_count > 0:\n",
    "        new_lines.append(indent + (')' * additional_close_paren_count))\n",
    "        \n",
    "    return line_sep.join(new_lines)\n",
    "\n",
    "\n",
    "def _preprocess_game_text(string: str, game_text_size: str = 'small', remove_line_breaks: bool = True) -> str:\n",
    "    for header in SECTION_HEADERS:\n",
    "        string = string.replace(header, f' \\\\textbf{{{header}}}')\n",
    "\n",
    "    if remove_line_breaks:\n",
    "        string = string.replace('\\n', '')\n",
    "\n",
    "    return f'{{ \\\\{game_text_size} {string}  }}'\n",
    "\n",
    "\n",
    "def _preprocess_game_dsl(string: str) -> str:\n",
    "    s = combine_close_parens(string).replace('-objects-room-v1', '')\n",
    "    return f'{LSTLISTING_BEGIN}\\n{s} {LSTLISTING_END}'\n",
    "\n",
    "\n",
    "def make_comparison_table(real_game_indices: typing.List[int], game_text_size: str = 'small'):\n",
    "    for idx in real_game_indices:\n",
    "        if idx not in REAL_GAME_INDICES_TO_INCLUDE:\n",
    "            raise ValueError(f'Invalid real game index: {idx}')\n",
    "\n",
    "    real_game_keys = [real_game_index_to_key[idx] for idx in real_game_indices]\n",
    "\n",
    "    table_rows = [\n",
    "        r'\\begin{table}[!h]', \n",
    "        r'\\begin{tabular}{|p{\\textcolumnwidth}|p{\\gamecolumnwidth}|p{\\gamecolumnwidth}|p{\\gamecolumnwidth}|}',\n",
    "        r'\\toprule',\n",
    "    ]\n",
    "    # header row\n",
    "    headers = [r'\\textbf{Game ID}'] + [f'\\\\textbf{{Participant Game \\\\#{idx}}} (fitness {real_game_fitness_scores[idx]:.3f})' for idx in real_game_indices]\n",
    "    table_rows.append(' & '.join(headers) + r' \\\\')\n",
    "    table_rows.append(r'\\midrule')\n",
    "    \n",
    "    # real game text row\n",
    "    real_game_texts = [r'\\textbf{Participant Game Text (GPT-4 back-translated)}'] + [_preprocess_game_text(human_game_texts[str(key)], game_text_size) for key in real_game_keys]\n",
    "    table_rows.append(' & '.join(real_game_texts) + r' \\\\')\n",
    "\n",
    "    # real game program row\n",
    "    game_program_strings = [_preprocess_game_dsl(ast_printer.ast_to_string(typing.cast(tatsu.ast.AST, game_asts[idx]), '\\n')) for idx in real_game_indices]\n",
    "    real_game_programs = [r'\\textbf{Participant Game DSL Program}'] + game_program_strings\n",
    "    table_rows.append(' & '.join(real_game_programs) + r' \\\\')\n",
    "    table_rows.append(r'\\midrule')\n",
    "\n",
    "    # model header row\n",
    "    model_headers = [r'\\textbf{Model Sample}'] + [f'\\\\textbf{{Model Sample}} (fitness {model.fitness_values[key]:.3f})' for key in real_game_keys]\n",
    "    table_rows.append(' & '.join(model_headers) + r' \\\\')\n",
    "    table_rows.append(r'\\midrule')\n",
    "\n",
    "    # model game text row\n",
    "    model_game_texts = [r'\\textbf{Model Game Text (GPT-4 back-translated)}'] + [_preprocess_game_text(human_cell_archive_game_texts[str(key)], game_text_size) for key in real_game_keys]\n",
    "    table_rows.append(' & '.join(model_game_texts) + r' \\\\')\n",
    "    \n",
    "    # model game program row\n",
    "    model_program_strings = [_preprocess_game_dsl(ast_printer.ast_to_string(typing.cast(tatsu.ast.AST, model.population[key]), '\\n')) for key in real_game_keys]\n",
    "    model_game_programs = [r'\\textbf{Model Game DSL Program}'] + model_program_strings\n",
    "    table_rows.append(' & '.join(model_game_programs) + r' \\\\')\n",
    "\n",
    "    table_rows.append(r'\\bottomrule')\n",
    "    table_rows.append(r'\\end{tabular}')\n",
    "    table_rows.append(r'\\end{table}')\n",
    "\n",
    "    return '\\n'.join(table_rows)\n",
    "\n",
    "\n",
    "def make_novel_games_table(novel_keys: typing.List[KeyTypeAnnotation], game_text_size: str = 'small'):\n",
    "\n",
    "    table_rows = [\n",
    "        r'\\begin{table}[!h]', \n",
    "        r'\\begin{tabular}{|p{\\textcolumnwidth}|p{\\gamecolumnwidth}|p{\\gamecolumnwidth}|p{\\gamecolumnwidth}|}',\n",
    "        r'\\toprule',\n",
    "    ]\n",
    "\n",
    "    # model header row\n",
    "    model_headers = [r'\\textbf{Model Sample}'] + [f'\\\\textbf{{Model Sample}} (fitness {model.fitness_values[key]:.3f})' for key in novel_keys]\n",
    "    table_rows.append(' & '.join(model_headers) + r' \\\\')\n",
    "    table_rows.append(r'\\midrule')\n",
    "\n",
    "    # model game text row\n",
    "    model_game_texts = [r'\\textbf{Model Game Text (GPT-4 back-translated)}'] + [_preprocess_game_text(novel_archive_cell_game_texts[str(key)], game_text_size) for key in novel_keys]\n",
    "    table_rows.append(' & '.join(model_game_texts) + r' \\\\')\n",
    "    \n",
    "    # model game program row\n",
    "    model_program_strings = [_preprocess_game_dsl(ast_printer.ast_to_string(typing.cast(tatsu.ast.AST, model.population[key]), '\\n')) for key in novel_keys]\n",
    "    model_game_programs = [r'\\textbf{Model Game DSL Program}'] + model_program_strings\n",
    "    table_rows.append(' & '.join(model_game_programs) + r' \\\\')\n",
    "\n",
    "    table_rows.append(r'\\bottomrule')\n",
    "    table_rows.append(r'\\end{tabular}')\n",
    "    table_rows.append(r'\\end{table}')\n",
    "\n",
    "    return '\\n'.join(table_rows)\n",
    "\n",
    "\n",
    "print(make_comparison_table([0, 14, 31]))\n",
    "# novel_game_keys = [\n",
    "#     (1, 0, 2, 0, 0, 1, 0, 1, 0, 0, 0, 0),\n",
    "#     (1, 0, 2, 0, 0, 0, 1, 0, 0, 1, 0, 0),\n",
    "#     (1, 1, 3, 0, 0, 2, 1, 0, 0, 0, 0, 0)\n",
    "# ]\n",
    "# print(make_novel_games_table(novel_game_keys))"
   ]
  },
  {
   "cell_type": "code",
   "execution_count": 30,
   "metadata": {},
   "outputs": [
    {
     "name": "stdout",
     "output_type": "stream",
     "text": [
      "\\begin{table}[!h]\n",
      "\\begin{tabular}{|p{\\textcolumnwidth}|p{\\gamecolumnwidth}|p{\\gamecolumnwidth}|}\n",
      "\\toprule\n",
      "\\textbf{Game ID} & \\textbf{Participant Game \\#0} (fitness 36.583) & \\textbf{Model Sample} (fitness 37.162) \\\\\n",
      "\\midrule\n",
      "\\textbf{Game Text (GPT-4 back-translated)} & { \\large  \\textbf{Setup:} place a hexagonal bin near a triangular ramp and make sure they stay in place throughout the game.\n",
      "\n",
      " \\textbf{Gameplay:} hold a ball and throw it so that it touches the triangular ramp and then lands inside the hexagonal bin.\n",
      "\n",
      " \\textbf{Terminal:} the game ends when the hexagonal bin, which must start standing upright, is no longer upright without being touched or held by you.\n",
      "\n",
      " \\textbf{Scoring:} you earn 1 point for each time you successfully throw a ball that touches the ramp and lands in the bin.  } & { \\large  \\textbf{Setup:} put a hexagonal bin near the rug and ensure it remains there for the duration of the game.\n",
      "\n",
      " \\textbf{Gameplay:} throw dodgeballs aiming to land them inside the hexagonal bin or on a doggie bed.\n",
      "\n",
      " \\textbf{Scoring:} you earn points for each dodgeball that comes to rest either inside the hexagonal bin or on the doggie bed, with your final score being the sum of these successful throws.  } \\\\\n",
      "\\textbf{Game DSL Program} & \\begin{lstlisting}[aboveskip=-0.4 \\baselineskip,belowskip=-0.8 \\baselineskip]\n",
      "(define (game 6172feb1665491d1efbce164-0) (:domain medium)\n",
      "(:setup\n",
      "  (exists (?h - hexagonal_bin ?r - triangular_ramp)\n",
      "    (game-conserved\n",
      "      (near ?h ?r)\n",
      ")))\n",
      "(:constraints\n",
      "  (and\n",
      "    (preference throwToRampToBin\n",
      "      (exists (?b - ball ?r - triangular_ramp ?h - hexagonal_bin)\n",
      "        (then\n",
      "          (once (agent_holds ?b))\n",
      "          (hold-while (and (not (agent_holds ?b)) (in_motion ?b)) (touch ?b ?r))\n",
      "          (once (and (not (in_motion ?b)) (in ?h ?b)))\n",
      "   )))\n",
      "    (preference binKnockedOver\n",
      "      (exists (?h - hexagonal_bin)\n",
      "        (then\n",
      "          (once (object_orientation ?h upright))\n",
      "          (hold (and (not (touch agent ?h)) (not (agent_holds ?h))))\n",
      "          (once (not (object_orientation ?h upright)))\n",
      ")))))\n",
      "(:terminal\n",
      "  (>= (count-once binKnockedOver) 1)\n",
      ")\n",
      "(:scoring\n",
      "  (count throwToRampToBin)\n",
      ")) \\end{lstlisting} & \\begin{lstlisting}[aboveskip=-0.4 \\baselineskip,belowskip=-0.8 \\baselineskip]\n",
      "(define (game evo-8180-66-0) (:domain medium)\n",
      "(:setup\n",
      "  (exists (?v0 - hexagonal_bin)\n",
      "    (game-conserved\n",
      "      (near rug ?v0)\n",
      ")))\n",
      "(:constraints\n",
      "  (and\n",
      "    (preference preference0\n",
      "      (exists (?v0 - hexagonal_bin ?v1 - dodgeball)\n",
      "        (then\n",
      "          (once (agent_holds ?v1))\n",
      "          (hold (and (not (agent_holds ?v1)) (in_motion ?v1)))\n",
      "          (once (and (not (in_motion ?v1)) (in ?v0 ?v1)))\n",
      "   )))\n",
      "    (preference preference1\n",
      "      (exists (?v0 - dodgeball ?v1 - doggie_bed)\n",
      "        (then\n",
      "          (once (agent_holds ?v0))\n",
      "          (hold (and (not (agent_holds ?v0)) (in_motion ?v0)))\n",
      "          (once (and (not (in_motion ?v0)) (on ?v1 ?v0)))\n",
      ")))))\n",
      "(:scoring\n",
      "  (+ (count preference1) (count preference0))\n",
      ")) \\end{lstlisting} \\\\\n",
      "\\bottomrule\n",
      "\\end{tabular}\n",
      "\\end{table}\n",
      "\n",
      "================================================================================\n",
      "\n",
      "\\begin{table}[!h]\n",
      "\\begin{tabular}{|p{\\textcolumnwidth}|p{\\gamecolumnwidth}|p{\\gamecolumnwidth}|}\n",
      "\\toprule\n",
      "\\textbf{Game ID} & \\textbf{Participant Game \\#14} (fitness 36.491) & \\textbf{Model Sample} (fitness 36.994) \\\\\n",
      "\\midrule\n",
      "\\textbf{Game Text (GPT-4 back-translated)} & { \\large  \\textbf{Gameplay:} stack a flat block on a bridge block, then place a tall cylindrical block on the flat block, followed by a cube block on the tall cylindrical block, and finally a pyramid block on the cube block.\n",
      "\n",
      " \\textbf{Scoring:} you get 10 points for each different set of blocks you have successfully stacked in this order by the end of the game.  } & { \\large  \\textbf{Gameplay:} stack three blocks on top of a tall rectangular block, with two of the stacked blocks being the same type as the tall rectangular block.\n",
      "\n",
      " \\textbf{Scoring:} your score is 1.4 times the number of such stacks you have at the end of the game.  } \\\\\n",
      "\\textbf{Game DSL Program} & \\begin{lstlisting}[aboveskip=-0.4 \\baselineskip,belowskip=-0.8 \\baselineskip]\n",
      "(define (game 613e4bf960ca68f8de00e5e7-17) (:domain medium)\n",
      "(:constraints\n",
      "  (and\n",
      "    (preference castleBuilt\n",
      "      (exists (?b - bridge_block ?f - flat_block ?t - tall_cylindrical_block ?c - cube_block ?p - pyramid_block)\n",
      "        (at-end\n",
      "          (and\n",
      "            (on ?b ?f)\n",
      "            (on ?f ?t)\n",
      "            (on ?t ?c)\n",
      "            (on ?c ?p)\n",
      "))))))\n",
      "(:scoring\n",
      "  (* 10 (count-once-per-objects castleBuilt))\n",
      ")) \\end{lstlisting} & \\begin{lstlisting}[aboveskip=-0.4 \\baselineskip,belowskip=-0.8 \\baselineskip]\n",
      "(define (game evo-8176-22-0) (:domain many)\n",
      "(:constraints\n",
      "  (and\n",
      "    (preference preference0\n",
      "      (exists (?v0 - block ?v1 - block ?v2 - tall_rectangular_block ?v3 - block)\n",
      "        (at-end\n",
      "          (and\n",
      "            (on ?v2 ?v0)\n",
      "            (on ?v2 ?v1)\n",
      "            (on ?v2 ?v3)\n",
      "            (same_type ?v0 ?v2)\n",
      "            (same_type ?v1 ?v2)\n",
      "))))))\n",
      "(:scoring\n",
      "  (+ (* 0.4 (count preference0))\n",
      "    (count preference0)\n",
      "))) \\end{lstlisting} \\\\\n",
      "\\bottomrule\n",
      "\\end{tabular}\n",
      "\\end{table}\n",
      "\n",
      "================================================================================\n",
      "\n",
      "\\begin{table}[!h]\n",
      "\\begin{tabular}{|p{\\textcolumnwidth}|p{\\gamecolumnwidth}|p{\\gamecolumnwidth}|}\n",
      "\\toprule\n",
      "\\textbf{Game ID} & \\textbf{Participant Game \\#31} (fitness 37.338) & \\textbf{Model Sample} (fitness 37.324) \\\\\n",
      "\\midrule\n",
      "\\textbf{Game Text (GPT-4 back-translated)} & { \\large  \\textbf{Gameplay:} throw a ball so that it touches a wall and then either catch it or touch it\n",
      "\n",
      " \\textbf{Scoring:} you get 1 point for each time you successfully throw the ball, it touches a wall, and you are either holding it again or touching it after its flight  } & { \\large  \\textbf{Gameplay:} throw dodgeballs so that they land and come to rest on the top shelf\n",
      "\n",
      " \\textbf{Terminal:} the game ends after 30 seconds\n",
      "\n",
      " \\textbf{Scoring:} you get 1 point for each dodgeball that is resting on the top shelf at the end of the game  } \\\\\n",
      "\\textbf{Game DSL Program} & \\begin{lstlisting}[aboveskip=-0.4 \\baselineskip,belowskip=-0.8 \\baselineskip]\n",
      "(define (game 614fb15adc48d3f9ffcadd41-39) (:domain many)\n",
      "(:constraints\n",
      "  (and\n",
      "    (preference ballThrownToWallToAgent\n",
      "      (exists (?b - ball ?w - wall)\n",
      "        (then\n",
      "          (once (agent_holds ?b))\n",
      "          (hold-while (and (not (agent_holds ?b)) (in_motion ?b)) (touch ?w ?b))\n",
      "          (once (or (agent_holds ?b) (touch agent ?b)))\n",
      ")))))\n",
      "(:scoring\n",
      "  (count ballThrownToWallToAgent)\n",
      ")) \\end{lstlisting} & \\begin{lstlisting}[aboveskip=-0.4 \\baselineskip,belowskip=-0.8 \\baselineskip]\n",
      "(define (game evo-8175-229-0) (:domain few)\n",
      "(:constraints\n",
      "  (and\n",
      "    (preference preference0\n",
      "      (exists (?v0 - dodgeball)\n",
      "        (then\n",
      "          (once (agent_holds ?v0))\n",
      "          (hold (and (not (agent_holds ?v0)) (in_motion ?v0)))\n",
      "          (once (and (not (in_motion ?v0)) (on top_shelf ?v0)))\n",
      ")))))\n",
      "(:terminal\n",
      "  (>= (total-time) 30)\n",
      ")\n",
      "(:scoring\n",
      "  (count preference0)\n",
      ")) \\end{lstlisting} \\\\\n",
      "\\bottomrule\n",
      "\\end{tabular}\n",
      "\\end{table}\n",
      "\n",
      "================================================================================\n",
      "\n"
     ]
    }
   ],
   "source": [
    "def zipper_merge(*args):\n",
    "    return list(itertools.chain.from_iterable(itertools.zip_longest(*args)))\n",
    "\n",
    "\n",
    "def make_comparison_tables_for_slides(real_game_indices: typing.List[int], game_text_size: str = 'large'):\n",
    "    for idx in real_game_indices:\n",
    "        if idx not in REAL_GAME_INDICES_TO_INCLUDE:\n",
    "            raise ValueError(f'Invalid real game index: {idx}')\n",
    "\n",
    "    real_game_keys = [real_game_index_to_key[idx] for idx in real_game_indices]\n",
    "\n",
    "    table_rows = [[\n",
    "        r'\\begin{table}[!h]', \n",
    "        r'\\begin{tabular}{|p{\\textcolumnwidth}|p{\\gamecolumnwidth}|p{\\gamecolumnwidth}|}',\n",
    "        r'\\toprule',\n",
    "    ] for _ in range(len(real_game_keys))]\n",
    "\n",
    "    # header row\n",
    "    real_game_headers = [f'\\\\textbf{{Participant Game \\\\#{idx}}} (fitness {real_game_fitness_scores[idx]:.3f})' for idx in real_game_indices]\n",
    "    model_game_headers = [f'\\\\textbf{{Model Sample}} (fitness {model.fitness_values[key]:.3f})' for key in real_game_keys]\n",
    "\n",
    "    for i, (real_game_header, model_game_header) in enumerate(zip(real_game_headers, model_game_headers)):\n",
    "        combined_headers = [r'\\textbf{Game ID}', real_game_header, model_game_header]\n",
    "        table_rows[i].append(' & '.join(combined_headers) + r' \\\\')\n",
    "        table_rows[i].append(r'\\midrule')\n",
    "    \n",
    "    # real game text row\n",
    "    real_game_texts =  [_preprocess_game_text(human_game_texts[str(key)], game_text_size=game_text_size, remove_line_breaks=False) for key in real_game_keys]\n",
    "    model_game_texts = [_preprocess_game_text(human_cell_archive_game_texts[str(key)], game_text_size=game_text_size, remove_line_breaks=False) for key in real_game_keys]\n",
    "    for i, (real_game_text, model_game_text) in enumerate(zip(real_game_texts, model_game_texts)):\n",
    "        combined_game_texts = [r'\\textbf{Game Text (GPT-4 back-translated)}', real_game_text, model_game_text]\n",
    "        table_rows[i].append(' & '.join(combined_game_texts) + r' \\\\')\n",
    "\n",
    "    # real game program row\n",
    "    real_game_program_strings = [_preprocess_game_dsl(ast_printer.ast_to_string(typing.cast(tatsu.ast.AST, game_asts[idx]), '\\n')) for idx in real_game_indices]\n",
    "    model_program_strings = [_preprocess_game_dsl(ast_printer.ast_to_string(typing.cast(tatsu.ast.AST, model.population[key]), '\\n')) for key in real_game_keys]\n",
    "    for i, (real_game_program_string, model_program_string) in enumerate(zip(real_game_program_strings, model_program_strings)):\n",
    "        game_programs = [r'\\textbf{Game DSL Program}', real_game_program_string, model_program_string]\n",
    "        table_rows[i].append(' & '.join(game_programs) + r' \\\\')\n",
    "\n",
    "    for i in range(len(real_game_keys)):\n",
    "        table_rows[i].append(r'\\bottomrule')\n",
    "        table_rows[i].append(r'\\end{tabular}')\n",
    "        table_rows[i].append(r'\\end{table}')\n",
    "\n",
    "        print('\\n'.join(table_rows[i]))\n",
    "        print()\n",
    "        print('=' * 80)\n",
    "        print()\n",
    "\n",
    "    # return '\\n'.join(table_rows)\n",
    "\n",
    "\n",
    "make_comparison_tables_for_slides([0, 14, 31])"
   ]
  },
  {
   "cell_type": "code",
   "execution_count": 39,
   "metadata": {},
   "outputs": [
    {
     "name": "stdout",
     "output_type": "stream",
     "text": [
      "\\begin{table}[!h]\n",
      "\\begin{tabular}{|p{\\textcolumnwidth}|p{\\gamecolumnwidth}|p{\\gamecolumnwidth}|}\n",
      "\\toprule\n",
      "\\textbf{Game ID} & \\textbf{Novel Model Sample} (fitness 34.513) & \\textbf{Novel Model Sample} (fitness 35.155) \\\\\n",
      "\\midrule\n",
      "\\textbf{Game Text (GPT-4 back-translated)} & { \\large  \\textbf{Setup:} Place a hexagonal bin near the rug and ensure it remains there for the entire game.\n",
      "\n",
      " \\textbf{Gameplay:} Move chairs onto desks and place teddy bears on desks without positioning them diagonally.\n",
      "\n",
      " \\textbf{Scoring:} You earn 80 points for each chair on a desk and 1 point for each teddy bear on a desk that is not positioned diagonally at the end of the game.  } & { \\large  \\textbf{Setup:} place every blue cube block on the rug and ensure they stay there throughout the game.\n",
      "\n",
      " \\textbf{Gameplay:} move objects around the room.\n",
      "\n",
      " \\textbf{Scoring:} you get 5 points for every object that's not moving and is near the north wall, and 1 point for every stack where a yellow cube block of the same type as a blue cube block is sandwiched between two other cube blocks.  } \\\\\n",
      "\\textbf{Game DSL Program} & \\begin{lstlisting}[aboveskip=-0.4 \\baselineskip,belowskip=-0.8 \\baselineskip]\n",
      "(define (game evo-7998-190-0) (:domain many)\n",
      "(:setup\n",
      "  (exists (?v0 - hexagonal_bin)\n",
      "    (game-conserved\n",
      "      (near rug ?v0)\n",
      ")))\n",
      "(:constraints\n",
      "  (and\n",
      "    (preference preference0\n",
      "      (exists (?v0 - chair ?v1 - desk)\n",
      "        (at-end\n",
      "          (and\n",
      "            (on ?v1 ?v0)\n",
      "   ))))\n",
      "    (preference preference1\n",
      "      (exists (?v2 - teddy_bear ?v1 - desk)\n",
      "        (at-end\n",
      "          (and\n",
      "            (on ?v1 ?v2)\n",
      "            (not\n",
      "              (object_orientation ?v2 diagonal)\n",
      ")))))))\n",
      "(:scoring\n",
      "  (+ (* 80 (count preference0))\n",
      "    (count preference1)\n",
      "))) \\end{lstlisting} & \\begin{lstlisting}[aboveskip=-0.4 \\baselineskip,belowskip=-0.8 \\baselineskip]\n",
      "(define (game evo-8191-99-1) (:domain many)\n",
      "(:setup\n",
      "  (forall (?v0 - cube_block_blue)\n",
      "    (game-conserved\n",
      "      (on rug ?v0)\n",
      ")))\n",
      "(:constraints\n",
      "  (and\n",
      "    (preference preference0\n",
      "      (exists (?v0 - game_object)\n",
      "        (at-end\n",
      "          (and\n",
      "            (not\n",
      "              (in_motion ?v0)\n",
      "           )\n",
      "            (near north_wall ?v0)\n",
      "   ))))\n",
      "    (preference preference1\n",
      "      (exists (?v0 - cube_block ?v1 - cube_block ?v2 - cube_block_blue ?v3 - cube_block_yellow)\n",
      "        (at-end\n",
      "          (and\n",
      "            (on ?v1 ?v3)\n",
      "            (on ?v3 ?v0)\n",
      "            (same_type ?v3 ?v2)\n",
      "))))))\n",
      "(:scoring\n",
      "  (+ (* 5 (count preference0))\n",
      "    (count preference1)\n",
      "))) \\end{lstlisting} \\\\\n",
      "\\bottomrule\n",
      "\\end{tabular}\n",
      "\\end{table}\n",
      "\n",
      "================================================================================\n",
      "\n",
      "\\begin{table}[!h]\n",
      "\\begin{tabular}{|p{\\textcolumnwidth}|p{\\gamecolumnwidth}|p{\\gamecolumnwidth}|}\n",
      "\\toprule\n",
      "\\textbf{Game ID} & \\textbf{Novel Model Sample} (fitness 36.194) & \\textbf{Novel Model Sample} (fitness 37.096) \\\\\n",
      "\\midrule\n",
      "\\textbf{Game Text (GPT-4 back-translated)} & { \\large  \\textbf{Setup:} Place a hexagonal bin near the door and make sure it stays there throughout the game.\n",
      "\n",
      " \\textbf{Gameplay:} Put credit cards or CDs into the hexagonal bin and throw white golfballs.\n",
      "\n",
      " \\textbf{Scoring:} You get 1 point for each time you throw a white golfball and it comes to a stop, and 40 points for each credit card or CD you put inside the hexagonal bin.  } & { \\large  \\textbf{Gameplay:} throw dodgeballs so that they land inside a hexagonal bin or on a doggie bed\n",
      "\n",
      " \\textbf{Scoring:} you get 1 point for each dodgeball that stops moving inside the hexagonal bin and 1 point for each dodgeball that stops moving on the doggie bed  } \\\\\n",
      "\\textbf{Game DSL Program} & \\begin{lstlisting}[aboveskip=-0.4 \\baselineskip,belowskip=-0.8 \\baselineskip]\n",
      "(define (game evo-8142-216-0) (:domain many)\n",
      "(:setup\n",
      "  (exists (?v0 - hexagonal_bin)\n",
      "    (game-conserved\n",
      "      (near door ?v0)\n",
      ")))\n",
      "(:constraints\n",
      "  (and\n",
      "    (preference preference0\n",
      "      (exists (?v0 - (either credit_card cd) ?v1 - hexagonal_bin)\n",
      "        (at-end\n",
      "          (in ?v1 ?v0)\n",
      "   )))\n",
      "    (preference preference1\n",
      "      (exists (?v1 - golfball_white)\n",
      "        (then\n",
      "          (once (agent_holds ?v1))\n",
      "          (hold (and (not (agent_holds ?v1)) (in_motion ?v1)))\n",
      "          (once (not (in_motion ?v1)))\n",
      ")))))\n",
      "(:scoring\n",
      "  (+ (count preference1) (* 40 (count preference0))\n",
      "))) \\end{lstlisting} & \\begin{lstlisting}[aboveskip=-0.4 \\baselineskip,belowskip=-0.8 \\baselineskip]\n",
      "(define (game evo-8149-344-0) (:domain medium)\n",
      "(:constraints\n",
      "  (and\n",
      "    (preference preference0\n",
      "      (exists (?v0 - hexagonal_bin ?v1 - dodgeball)\n",
      "        (then\n",
      "          (once (agent_holds ?v1))\n",
      "          (hold (and (not (agent_holds ?v1)) (in_motion ?v1)))\n",
      "          (once (and (not (in_motion ?v1)) (in ?v0 ?v1)))\n",
      "   )))\n",
      "    (preference preference1\n",
      "      (exists (?v0 - dodgeball ?v1 - doggie_bed)\n",
      "        (then\n",
      "          (once (agent_holds ?v0))\n",
      "          (hold (and (not (agent_holds ?v0)) (in_motion ?v0)))\n",
      "          (once (and (not (in_motion ?v0)) (on ?v1 ?v0)))\n",
      ")))))\n",
      "(:scoring\n",
      "  (+ (count preference1) (count preference0))\n",
      ")) \\end{lstlisting} \\\\\n",
      "\\bottomrule\n",
      "\\end{tabular}\n",
      "\\end{table}\n",
      "\n",
      "================================================================================\n",
      "\n"
     ]
    }
   ],
   "source": [
    "def make_novel_game_tables_for_slides(novel_game_key_groups: typing.List[typing.List[KeyTypeAnnotation]], game_text_size: str = 'large'):\n",
    "    for group in novel_game_key_groups:\n",
    "        for key in group:\n",
    "            if str(key) not in novel_archive_cell_game_texts:\n",
    "                raise ValueError(f'Invalid novel game key: {key}')\n",
    "            \n",
    "    novel_game_key_groups = [\n",
    "        [literal_eval(key) if isinstance(key, str) else key for key in key_group]\n",
    "        for key_group in novel_game_key_groups\n",
    "    ]\n",
    "\n",
    "    for key_group in novel_game_key_groups:\n",
    "        table_rows = [\n",
    "            r'\\begin{table}[!h]', \n",
    "            r'\\begin{tabular}{|p{\\textcolumnwidth}|p{\\gamecolumnwidth}|p{\\gamecolumnwidth}|}',\n",
    "            r'\\toprule',\n",
    "        ] \n",
    "\n",
    "        # header row\n",
    "        headers = [r'\\textbf{Game ID}'] + [f'\\\\textbf{{Novel Model Sample}} (fitness {model.fitness_values[key]:.3f})' for key in key_group]\n",
    "        table_rows.append(' & '.join(headers) + r' \\\\')\n",
    "        table_rows.append(r'\\midrule')\n",
    "    \n",
    "        # game text row\n",
    "        game_texts = [r'\\textbf{Game Text (GPT-4 back-translated)}'] + [_preprocess_game_text(novel_archive_cell_game_texts[str(key)], game_text_size=game_text_size, remove_line_breaks=False) for key in key_group]\n",
    "        table_rows.append(' & '.join(game_texts) + r' \\\\')\n",
    "\n",
    "        # game program row\n",
    "        model_program_strings = [r'\\textbf{Game DSL Program}'] + [_preprocess_game_dsl(ast_printer.ast_to_string(typing.cast(tatsu.ast.AST, model.population[key]), '\\n')) for key in key_group]\n",
    "        table_rows.append(' & '.join(model_program_strings) + r' \\\\')\n",
    "\n",
    "        table_rows.append(r'\\bottomrule')\n",
    "        table_rows.append(r'\\end{tabular}')\n",
    "        table_rows.append(r'\\end{table}')\n",
    "\n",
    "        print('\\n'.join(table_rows))\n",
    "        print()\n",
    "        print('=' * 80)\n",
    "        print()\n",
    "\n",
    "\n",
    "all_novel_keys = list(novel_archive_cell_game_texts.keys())\n",
    "seed = 33\n",
    "n_novel_keys_to_sample = 4\n",
    "n_novel_key_groups = 2\n",
    "n_novel_keys_per_group = n_novel_keys_to_sample // n_novel_key_groups\n",
    "rng = np.random.default_rng(seed)\n",
    "key_indices = rng.choice(len(all_novel_keys), n_novel_keys_to_sample, replace=False)\n",
    "novel_game_key_groups = [\n",
    "    [all_novel_keys[key_indices[group_index * n_novel_keys_per_group] + i] for i in range(n_novel_keys_per_group)]\n",
    "    for group_index in range(n_novel_key_groups)\n",
    "]\n",
    "\n",
    "make_novel_game_tables_for_slides(novel_game_key_groups)\n",
    "    "
   ]
  },
  {
   "cell_type": "code",
   "execution_count": 13,
   "metadata": {},
   "outputs": [
    {
     "name": "stdout",
     "output_type": "stream",
     "text": [
      "(1, 0, 2, 0, 0, 0, 0, 2, 0, 0, 0, 0)\n",
      "Setup: Place a hexagonal bin near the rug and ensure it remains there for the entire game.\n",
      "Gameplay: Move chairs onto desks and place teddy bears on desks without positioning them diagonally.\n",
      "Scoring: You earn 80 points for each chair on a desk and 1 point for each teddy bear on a desk that\n",
      "is not positioned diagonally at the end of the game.\n"
     ]
    }
   ],
   "source": [
    "# candidate_indices = [REAL_GAME_INDICES_TO_INCLUDE[0], REAL_GAME_INDICES_TO_INCLUDE[5], REAL_GAME_INDICES_TO_INCLUDE[7],\n",
    "#                      REAL_GAME_INDICES_TO_INCLUDE[9], REAL_GAME_INDICES_TO_INCLUDE[10], REAL_GAME_INDICES_TO_INCLUDE[12],\n",
    "#                      REAL_GAME_INDICES_TO_INCLUDE[22], REAL_GAME_INDICES_TO_INCLUDE[25]]\n",
    "\n",
    "# i = 5\n",
    "# max_width = 100\n",
    "\n",
    "# key = str(real_game_index_to_key[REAL_GAME_INDICES_TO_INCLUDE[i]])\n",
    "# print(textwrap.fill(human_game_texts[key], 100))\n",
    "# print()\n",
    "# print(textwrap.fill(human_cell_archive_game_texts[key], 100))\n",
    "\n",
    "\n",
    "j = 16\n",
    "novel_archive_cell_game_texts_keys = list(novel_archive_cell_game_texts.keys())\n",
    "key = novel_archive_cell_game_texts_keys[j]\n",
    "print(key)\n",
    "print(textwrap.fill(novel_archive_cell_game_texts[key], 100))"
   ]
  },
  {
   "cell_type": "code",
   "execution_count": 42,
   "metadata": {},
   "outputs": [
    {
     "data": {
      "text/plain": [
       "dict_keys(['(1, 0, 1, 0, 0, 0, 0, 1, 0, 0, 0, 0)', '(1, 0, 1, 0, 0, 0, 0, 0, 1, 0, 0, 0)', '(1, 1, 1, 0, 0, 0, 1, 0, 0, 0, 0, 0)', '(1, 1, 1, 0, 0, 0, 0, 0, 0, 0, 0, 1)', '(1, 1, 1, 1, 0, 0, 0, 0, 0, 0, 0, 0)', '(1, 0, 1, 0, 0, 0, 0, 0, 0, 1, 0, 0)', '(1, 1, 1, 0, 1, 0, 0, 0, 0, 0, 0, 0)', '(1, 1, 1, 0, 0, 0, 0, 0, 1, 0, 0, 0)', '(1, 0, 1, 0, 0, 0, 0, 0, 0, 0, 0, 1)', '(1, 0, 1, 1, 0, 0, 0, 0, 0, 0, 0, 0)', '(1, 1, 2, 0, 0, 0, 0, 0, 1, 0, 0, 0)', '(1, 0, 2, 0, 1, 0, 0, 0, 0, 1, 0, 0)', '(1, 1, 2, 0, 0, 1, 0, 0, 0, 0, 0, 1)', '(1, 0, 2, 0, 0, 0, 0, 1, 0, 0, 0, 0)', '(1, 0, 2, 1, 0, 0, 1, 0, 0, 0, 0, 0)', '(1, 1, 2, 0, 0, 0, 0, 0, 0, 0, 1, 0)', '(1, 0, 2, 0, 0, 0, 0, 2, 0, 0, 0, 0)', '(1, 0, 2, 0, 0, 0, 0, 0, 0, 1, 0, 1)', '(1, 1, 2, 0, 0, 0, 1, 0, 1, 0, 0, 0)', '(1, 1, 2, 0, 1, 1, 0, 0, 0, 0, 0, 0)', '(1, 1, 3, 1, 0, 0, 1, 0, 0, 0, 1, 0)', '(1, 1, 3, 0, 0, 2, 0, 0, 0, 0, 0, 0)', '(1, 1, 3, 0, 0, 0, 0, 0, 0, 3, 0, 0)', '(1, 1, 3, 0, 0, 0, 0, 2, 0, 0, 0, 0)', '(1, 0, 3, 0, 0, 0, 0, 0, 1, 0, 0, 0)', '(1, 1, 3, 0, 0, 0, 0, 0, 0, 0, 0, 0)', '(1, 1, 3, 0, 1, 0, 0, 0, 0, 0, 0, 0)', '(1, 1, 3, 0, 0, 0, 0, 0, 0, 0, 0, 2)', '(1, 1, 3, 0, 0, 1, 0, 0, 1, 0, 0, 0)', '(1, 1, 3, 1, 0, 0, 0, 0, 0, 2, 0, 0)', '(1, 0, 4, 0, 1, 1, 0, 1, 0, 1, 0, 0)', '(1, 1, 4, 0, 0, 0, 3, 0, 0, 0, 1, 0)', '(1, 0, 4, 0, 0, 0, 0, 0, 3, 0, 0, 0)', '(1, 1, 4, 2, 0, 0, 0, 0, 0, 0, 0, 0)', '(1, 0, 4, 0, 0, 0, 0, 0, 0, 0, 0, 3)', '(1, 1, 4, 0, 0, 1, 1, 1, 0, 1, 0, 0)', '(1, 0, 4, 2, 0, 0, 0, 0, 0, 0, 0, 1)', '(1, 1, 4, 0, 2, 0, 0, 0, 1, 0, 0, 0)', '(1, 1, 4, 0, 0, 0, 0, 0, 0, 0, 0, 0)', '(1, 0, 4, 0, 0, 0, 0, 0, 0, 0, 0, 0)'])"
      ]
     },
     "execution_count": 42,
     "metadata": {},
     "output_type": "execute_result"
    }
   ],
   "source": [
    "novel_archive_cell_game_texts.keys()"
   ]
  },
  {
   "cell_type": "code",
   "execution_count": null,
   "metadata": {},
   "outputs": [],
   "source": []
  },
  {
   "cell_type": "code",
   "execution_count": 14,
   "metadata": {},
   "outputs": [
    {
     "name": "stdout",
     "output_type": "stream",
     "text": [
      "real (μ = 36.52) vs matched (μ = 37.01)\n",
      "    t-statistic = -3.056, p-value = 0.0034 **\n",
      "\n",
      "real (μ = 36.52) vs unmatched (μ = 36.26)\n",
      "    t-statistic = 1.515, p-value = 0.1344 \n",
      "\n",
      "real (μ = 36.52) vs unmatched_top_30 (μ = 36.60)\n",
      "    t-statistic = -0.485, p-value = 0.6296 \n",
      "\n",
      "matched (μ = 37.01) vs unmatched (μ = 36.26)\n",
      "    t-statistic = 4.640, p-value = 0.0000 ***\n",
      "\n",
      "matched (μ = 37.01) vs unmatched_top_30 (μ = 36.60)\n",
      "    t-statistic = 3.078, p-value = 0.0032 **\n",
      "\n",
      "unmatched (μ = 36.26) vs unmatched_top_30 (μ = 36.60)\n",
      "    t-statistic = -2.146, p-value = 0.0354 *\n",
      "\n"
     ]
    }
   ],
   "source": [
    "selected_real_game_fitness_scores = [real_game_fitness_scores[i] for i in REAL_GAME_INDICES_TO_INCLUDE]\n",
    "matched_game_fitness_scores = [model.fitness_values[literal_eval(key)] for key in human_cell_archive_game_texts.keys()]\n",
    "unmatched_game_fitness_scores = [model.fitness_values[literal_eval(key)] for key in novel_archive_cell_game_texts.keys()]\n",
    "unmatched_game_fitness_scores_without_bottom_10 = list(sorted(unmatched_game_fitness_scores))[10:]\n",
    "\n",
    "fitness_scores_by_type = dict(real=selected_real_game_fitness_scores, matched=matched_game_fitness_scores, unmatched=unmatched_game_fitness_scores, unmatched_top_30=unmatched_game_fitness_scores_without_bottom_10)\n",
    "\n",
    "tab = '    '\n",
    "for first, second in itertools.combinations(fitness_scores_by_type.keys(), 2):\n",
    "    first_data = fitness_scores_by_type[first]\n",
    "    second_data = fitness_scores_by_type[second]\n",
    "    result = stats.ttest_ind(first_data, second_data)\n",
    "    stars = '*' * int(result.pvalue < 0.05) + '*' * int(result.pvalue < 0.01) + '*' * int(result.pvalue < 0.001)\n",
    "    print(f'{first} (\\u03bc = {np.mean(first_data):.2f}) vs {second} (\\u03bc = {np.mean(second_data):.2f})')\n",
    "    p = result.pvalue\n",
    "    p_value_str = f'p-value < 1e-7 {stars}' if p < 1e-7 else (f'p-value < 1e-5 {stars}' if p < 1e-5 else f'p-value = {p:.4f} {stars}')\n",
    "    print(f'{tab}t-statistic = {result.statistic:.3f}, {p_value_str}')\n",
    "    print()\n",
    "    # print(f'{tab}p-value    = {result.pvalue:.3e} {stars}')\n",
    "\n"
   ]
  },
  {
   "cell_type": "code",
   "execution_count": 15,
   "metadata": {},
   "outputs": [
    {
     "data": {
      "text/plain": [
       "Text(92.09722222222221, 0.5, 'Fitness Score')"
      ]
     },
     "execution_count": 15,
     "metadata": {},
     "output_type": "execute_result"
    },
    {
     "data": {
      "image/png": "[encoded data removed]",
      "text/plain": [
       "<Figure size 1000x600 with 1 Axes>"
      ]
     },
     "metadata": {},
     "output_type": "display_data"
    }
   ],
   "source": [
    "plt.figure(figsize=(10, 6))\n",
    "\n",
    "sns.violinplot(data=fitness_scores_by_type, palette='tab10', inner=None, alpha=0.75)\n",
    "sns.swarmplot(data=fitness_scores_by_type, color='white', dodge=False, size=10, alpha=0.25)\n",
    "sns.pointplot(data=fitness_scores_by_type, errorbar=('ci', 95), linestyle='none', color='black', markers='d', markersize=15)\n",
    "\n",
    "plt.xlabel('Game Type')\n",
    "plt.ylabel('Fitness Score')"
   ]
  },
  {
   "cell_type": "code",
   "execution_count": 27,
   "metadata": {},
   "outputs": [
    {
     "data": {
      "text/html": [
       "<div>\n",
       "<style scoped>\n",
       "    .dataframe tbody tr th:only-of-type {\n",
       "        vertical-align: middle;\n",
       "    }\n",
       "\n",
       "    .dataframe tbody tr th {\n",
       "        vertical-align: top;\n",
       "    }\n",
       "\n",
       "    .dataframe thead th {\n",
       "        text-align: right;\n",
       "    }\n",
       "</style>\n",
       "<table border=\"1\" class=\"dataframe\">\n",
       "  <thead>\n",
       "    <tr style=\"text-align: right;\">\n",
       "      <th></th>\n",
       "      <th>full_game_id</th>\n",
       "      <th>fitness</th>\n",
       "      <th>archive_distance</th>\n",
       "    </tr>\n",
       "  </thead>\n",
       "  <tbody>\n",
       "    <tr>\n",
       "      <th>125</th>\n",
       "      <td>(1, 1, 4, 0, 0, 1, 1, 1, 0, 1, 0, 0)-unmatched...</td>\n",
       "      <td>36.031338</td>\n",
       "      <td>6</td>\n",
       "    </tr>\n",
       "    <tr>\n",
       "      <th>126</th>\n",
       "      <td>(1, 0, 4, 2, 0, 0, 0, 0, 0, 0, 0, 1)-unmatched...</td>\n",
       "      <td>36.117832</td>\n",
       "      <td>4</td>\n",
       "    </tr>\n",
       "    <tr>\n",
       "      <th>127</th>\n",
       "      <td>(1, 1, 4, 0, 2, 0, 0, 0, 1, 0, 0, 0)-unmatched...</td>\n",
       "      <td>36.531780</td>\n",
       "      <td>4</td>\n",
       "    </tr>\n",
       "    <tr>\n",
       "      <th>128</th>\n",
       "      <td>(1, 1, 4, 0, 0, 0, 0, 0, 0, 0, 0, 0)-unmatched...</td>\n",
       "      <td>36.754009</td>\n",
       "      <td>2</td>\n",
       "    </tr>\n",
       "    <tr>\n",
       "      <th>129</th>\n",
       "      <td>(1, 0, 4, 0, 0, 0, 0, 0, 0, 0, 0, 0)-unmatched...</td>\n",
       "      <td>36.829990</td>\n",
       "      <td>2</td>\n",
       "    </tr>\n",
       "  </tbody>\n",
       "</table>\n",
       "</div>"
      ],
      "text/plain": [
       "                                          full_game_id    fitness  \\\n",
       "125  (1, 1, 4, 0, 0, 1, 1, 1, 0, 1, 0, 0)-unmatched...  36.031338   \n",
       "126  (1, 0, 4, 2, 0, 0, 0, 0, 0, 0, 0, 1)-unmatched...  36.117832   \n",
       "127  (1, 1, 4, 0, 2, 0, 0, 0, 1, 0, 0, 0)-unmatched...  36.531780   \n",
       "128  (1, 1, 4, 0, 0, 0, 0, 0, 0, 0, 0, 0)-unmatched...  36.754009   \n",
       "129  (1, 0, 4, 0, 0, 0, 0, 0, 0, 0, 0, 0)-unmatched...  36.829990   \n",
       "\n",
       "     archive_distance  \n",
       "125                 6  \n",
       "126                 4  \n",
       "127                 4  \n",
       "128                 2  \n",
       "129                 2  "
      ]
     },
     "execution_count": 27,
     "metadata": {},
     "output_type": "execute_result"
    }
   ],
   "source": [
    "def tuple_distance(t1, t2):\n",
    "    return sum(abs(x - y) for x, y in zip(t1, t2))\n",
    "\n",
    "\n",
    "def min_tuple_distance(t, reference_ts):\n",
    "    return min(tuple_distance(t, ref_t) for ref_t in reference_ts)\n",
    "\n",
    "\n",
    "real_game_keys_to_scores = {REAL_GAME_KEY_LIST[i]: real_game_fitness_scores[idx] for i, idx in enumerate(REAL_GAME_INDICES_TO_INCLUDE)}\n",
    "matched_game_key_to_scores = {key: model.fitness_values[literal_eval(key)] for key in human_cell_archive_game_texts.keys()}\n",
    "unmatched_game_key_to_scores = {key: model.fitness_values[literal_eval(key)] for key in novel_archive_cell_game_texts.keys()}\n",
    "unmatched_game_key_to_scores_without_bottom_10 = {key: model.fitness_values[literal_eval(key)] for key in novel_archive_cell_game_texts.keys()}\n",
    "unmatched_game_key_to_scores_without_bottom_10 = {k: v for k, v in unmatched_game_key_to_scores_without_bottom_10.items() if v in unmatched_game_fitness_scores_without_bottom_10}\n",
    "\n",
    "\n",
    "keys_to_fitness_scores = dict(\n",
    "    real=real_game_keys_to_scores, \n",
    "    matched=matched_game_key_to_scores, \n",
    "    unmatched=unmatched_game_key_to_scores, \n",
    "    unmatched_top_30=unmatched_game_key_to_scores_without_bottom_10\n",
    ")\n",
    "\n",
    "df_rows = [\n",
    "    {'full_game_id': f'{key}-{game_category}', 'fitness': score,  'archive_distance': min_tuple_distance(literal_eval(key) if isinstance(key, str) else key, REAL_GAME_KEY_LIST)}\n",
    "    for game_category, key_to_scores in keys_to_fitness_scores.items()\n",
    "    for key, score in key_to_scores.items()\n",
    "]\n",
    "\n",
    "df = pd.DataFrame(df_rows)\n",
    "df.to_csv('./human_evals_data/full_game_id_to_fitness.csv', index=False)\n",
    "df.tail()\n"
   ]
  },
  {
   "cell_type": "code",
   "execution_count": 23,
   "metadata": {},
   "outputs": [
    {
     "data": {
      "text/plain": [
       "[(1, 0, 2, 0, 0, 0, 0, 0, 0, 0, 1, 0),\n",
       " (1, 0, 2, 0, 0, 0, 0, 0, 0, 0, 2, 0),\n",
       " (1, 0, 2, 0, 2, 0, 0, 0, 0, 0, 0, 0),\n",
       " (1, 1, 2, 0, 0, 0, 0, 0, 0, 0, 0, 0),\n",
       " (1, 1, 2, 1, 1, 0, 0, 0, 0, 0, 0, 0),\n",
       " (1, 1, 1, 0, 0, 0, 0, 0, 0, 1, 0, 0),\n",
       " (1, 0, 4, 0, 0, 2, 0, 0, 0, 0, 1, 0),\n",
       " (1, 1, 1, 0, 0, 0, 0, 1, 0, 0, 0, 0),\n",
       " (1, 0, 1, 0, 0, 0, 1, 0, 0, 0, 0, 0),\n",
       " (1, 0, 2, 1, 0, 0, 0, 0, 0, 0, 1, 0),\n",
       " (1, 1, 1, 0, 0, 1, 0, 0, 0, 0, 0, 0),\n",
       " (1, 0, 1, 0, 0, 1, 0, 0, 0, 0, 0, 0),\n",
       " (1, 0, 2, 0, 0, 2, 0, 0, 0, 0, 0, 0),\n",
       " (1, 0, 2, 1, 0, 1, 0, 0, 0, 0, 0, 0),\n",
       " (1, 0, 2, 0, 0, 1, 0, 0, 0, 0, 1, 0),\n",
       " (1, 0, 1, 0, 0, 0, 0, 0, 0, 0, 0, 0),\n",
       " (1, 1, 1, 0, 0, 0, 0, 0, 0, 0, 1, 0),\n",
       " (1, 1, 2, 0, 0, 0, 0, 0, 2, 0, 0, 0),\n",
       " (1, 0, 3, 0, 0, 0, 0, 0, 2, 1, 0, 0),\n",
       " (1, 0, 2, 0, 0, 0, 0, 0, 0, 1, 1, 0),\n",
       " (1, 1, 3, 0, 0, 0, 0, 0, 0, 0, 0, 1),\n",
       " (1, 1, 1, 0, 0, 0, 0, 0, 0, 0, 0, 0),\n",
       " (1, 0, 1, 0, 0, 0, 0, 0, 0, 0, 1, 0),\n",
       " (1, 0, 3, 0, 0, 0, 0, 0, 0, 0, 1, 0),\n",
       " (1, 1, 2, 0, 0, 0, 0, 0, 0, 0, 2, 0),\n",
       " (1, 0, 1, 0, 1, 0, 0, 0, 0, 0, 0, 0),\n",
       " (1, 1, 2, 1, 0, 0, 0, 0, 0, 0, 1, 0),\n",
       " (1, 1, 3, 0, 0, 0, 0, 0, 0, 0, 1, 0),\n",
       " (1, 0, 2, 0, 0, 0, 0, 0, 0, 0, 0, 0),\n",
       " (1, 0, 3, 1, 0, 0, 0, 0, 0, 0, 2, 0)]"
      ]
     },
     "execution_count": 23,
     "metadata": {},
     "output_type": "execute_result"
    }
   ],
   "source": [
    "REAL_GAME_KEY_LIST"
   ]
  }
 ],
 "metadata": {
  "kernelspec": {
   "display_name": "game-gen",
   "language": "python",
   "name": "python3"
  },
  "language_info": {
   "codemirror_mode": {
    "name": "ipython",
    "version": 3
   },
   "file_extension": ".py",
   "mimetype": "text/x-python",
   "name": "python",
   "nbconvert_exporter": "python",
   "pygments_lexer": "ipython3",
   "version": "3.10.8"
  }
 },
 "nbformat": 4,
 "nbformat_minor": 2
}
