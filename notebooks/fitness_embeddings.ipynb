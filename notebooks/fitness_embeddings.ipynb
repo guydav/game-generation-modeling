{
 "cells": [
  {
   "cell_type": "code",
   "execution_count": 30,
   "metadata": {},
   "outputs": [],
   "source": [
    "%autoreload 2"
   ]
  },
  {
   "cell_type": "code",
   "execution_count": 44,
   "metadata": {},
   "outputs": [],
   "source": [
    "from collections import defaultdict\n",
    "import difflib\n",
    "import gzip\n",
    "import os\n",
    "import pickle\n",
    "import re\n",
    "import sys\n",
    "import time\n",
    "import typing\n",
    "\n",
    "from IPython.display import display, Markdown, HTML\n",
    "import matplotlib\n",
    "import matplotlib.pyplot as plt\n",
    "import numpy as np\n",
    "from pactools.grid_search import GridSearchCVProgressBar\n",
    "import pandas as pd\n",
    "import sklearn\n",
    "from sklearn.model_selection import GridSearchCV, train_test_split, KFold\n",
    "from sklearn.pipeline import Pipeline\n",
    "from sklearn.manifold import TSNE\n",
    "from sklearn.decomposition import PCA\n",
    "import tatsu\n",
    "import torch\n",
    "import torch.nn as nn\n",
    "import torch.nn.functional as F\n",
    "import tqdm.notebook as tqdm\n",
    "\n",
    "\n",
    "sys.path.append(os.path.abspath('..'))\n",
    "sys.path.append(os.path.abspath('../src'))\n",
    "from src import fitness_energy_utils as utils\n",
    "from src.ast_utils import load_games_from_file, _extract_game_id, cached_load_and_parse_games_from_file\n",
    "from src import ast_printer"
   ]
  },
  {
   "cell_type": "code",
   "execution_count": 32,
   "metadata": {},
   "outputs": [],
   "source": [
    "import openai\n",
    "openai.api_key = os.getenv('OPENAI_API_KEY')"
   ]
  },
  {
   "cell_type": "code",
   "execution_count": 43,
   "metadata": {},
   "outputs": [
    {
     "name": "stderr",
     "output_type": "stream",
     "text": [
      "/var/folders/h9/kzpqpksx6fq00v9d73x5j51c0000gn/T/ipykernel_5150/959906715.py:1: ResourceWarning: unclosed file <_io.TextIOWrapper name='../dsl/dsl.ebnf' mode='r' encoding='UTF-8'>\n",
      "  grammar = open('../dsl/dsl.ebnf').read()\n",
      "ResourceWarning: Enable tracemalloc to get the object allocation traceback\n",
      "/Users/guydavidson/projects/game-generation-modeling/src/ast_utils.py:54: ResourceWarning: unclosed file <_io.TextIOWrapper name='../dsl/interactive-beta.pddl' mode='r' encoding='UTF-8'>\n",
      "  lines = open(path).readlines()\n",
      "ResourceWarning: Enable tracemalloc to get the object allocation traceback\n"
     ]
    }
   ],
   "source": [
    "grammar = open('../dsl/dsl.ebnf').read()\n",
    "grammar_parser = tatsu.compile(grammar)\n",
    "game_asts = cached_load_and_parse_games_from_file('../dsl/interactive-beta.pddl', grammar_parser, False, relative_path='..')\n",
    "game_texts = [ast_printer.ast_to_string(ast, '\\n') for ast in game_asts]"
   ]
  },
  {
   "cell_type": "code",
   "execution_count": 5,
   "metadata": {},
   "outputs": [],
   "source": [
    "whitespace_pattern = re.compile(r'\\s+')\n",
    "\n",
    "def embed_text(text: str, model: str = 'text-embedding-ada-002'):\n",
    "    text = whitespace_pattern.sub(' ', text)\n",
    "    return openai.Embedding.create(input = [text], model=model)\n",
    "\n",
    "\n",
    "def embed_multiple_texts(texts: typing.List[str], model: str = 'text-embedding-ada-002'):\n",
    "    texts = [whitespace_pattern.sub(' ', t) for t in texts]\n",
    "    return openai.Embedding.create(input = texts, model=model)\n"
   ]
  },
  {
   "cell_type": "code",
   "execution_count": 53,
   "metadata": {},
   "outputs": [],
   "source": [
    "REGENERATE_EMBEDDINGS = False \n",
    "\n",
    "if REGENERATE_EMBEDDINGS:\n",
    "    result = embed_multiple_texts(game_texts)\n",
    "    # embeddings = np.array([result.data[i].embedding for i in range(len(result.data))])\n",
    "    embeddings = torch.tensor([result.data[i].embedding for i in range(len(result.data))])\n",
    "    torch.save(embeddings, '../data/interactive-beta-embeddings.pt', pickle_protocol=pickle.HIGHEST_PROTOCOL)\n",
    "\n",
    "else:\n",
    "    embeddings = torch.load('../data/interactive-beta-embeddings.pt')"
   ]
  },
  {
   "cell_type": "code",
   "execution_count": 54,
   "metadata": {},
   "outputs": [
    {
     "name": "stderr",
     "output_type": "stream",
     "text": [
      "/Users/guydavidson/projects/game-generation-modeling/src/ast_utils.py:54: ResourceWarning: unclosed file <_io.TextIOWrapper name='../dsl/ast-real-regrowth-samples.pddl' mode='r' encoding='UTF-8'>\n",
      "  lines = open(path).readlines()\n",
      "ResourceWarning: Enable tracemalloc to get the object allocation traceback\n"
     ]
    }
   ],
   "source": [
    "regrown_game_texts = list(load_games_from_file('../dsl/ast-real-regrowth-samples.pddl'))\n",
    "REGROWN_GAMES_PER_ORIGINAL = int(len(regrown_game_texts) / len(game_texts))\n",
    "embeddings_by_original_game = []\n",
    "\n",
    "game_id_pattern = re.compile(r'([\\d\\w]+-\\d+)-\\d+')\n",
    "regrown_game_texts = [game_id_pattern.sub(r'\\1', text) for text in regrown_game_texts]"
   ]
  },
  {
   "cell_type": "code",
   "execution_count": 57,
   "metadata": {},
   "outputs": [],
   "source": [
    "REGENERATE_REGROWTH_EMBEDDINGS = False\n",
    "\n",
    "if REGENERATE_REGROWTH_EMBEDDINGS:\n",
    "    start_index = len(embeddings_by_original_game)\n",
    "\n",
    "    for i in tqdm.tnrange(len(game_texts)):\n",
    "        game_regrown_games = regrown_game_texts[i * REGROWN_GAMES_PER_ORIGINAL: (i + 1) * REGROWN_GAMES_PER_ORIGINAL]\n",
    "        game_results = embed_multiple_texts(game_regrown_games)\n",
    "        game_embeddings = torch.tensor([game_results.data[i].embedding for i in range(len(game_results.data))])\n",
    "        embeddings_by_original_game.append(game_embeddings)\n",
    "        time.sleep(5)\n",
    "\n",
    "    regrowth_embeddings = torch.stack(embeddings_by_original_game)\n",
    "    print(regrowth_embeddings.shape)\n",
    "    torch.save(regrowth_embeddings, '../data/ast-real-regrowth-samples-embeddings.pt', pickle_protocol=pickle.HIGHEST_PROTOCOL)\n",
    "\n",
    "else:\n",
    "    regrowth_embeddings = torch.load('../data/ast-real-regrowth-samples-embeddings.pt')"
   ]
  },
  {
   "attachments": {},
   "cell_type": "markdown",
   "metadata": {},
   "source": [
    "## Let's see what the space of these embeddings looks like"
   ]
  },
  {
   "cell_type": "code",
   "execution_count": 58,
   "metadata": {},
   "outputs": [
    {
     "data": {
      "text/plain": [
       "torch.Size([6370, 1536])"
      ]
     },
     "execution_count": 58,
     "metadata": {},
     "output_type": "execute_result"
    }
   ],
   "source": [
    "all_embeddings = torch.cat([embeddings, regrowth_embeddings.reshape(-1, regrowth_embeddings.shape[-1])], dim=0)\n",
    "all_embeddings.shape"
   ]
  },
  {
   "cell_type": "code",
   "execution_count": 59,
   "metadata": {},
   "outputs": [
    {
     "data": {
      "text/html": [
       "<style>#sk-container-id-2 {color: black;background-color: white;}#sk-container-id-2 pre{padding: 0;}#sk-container-id-2 div.sk-toggleable {background-color: white;}#sk-container-id-2 label.sk-toggleable__label {cursor: pointer;display: block;width: 100%;margin-bottom: 0;padding: 0.3em;box-sizing: border-box;text-align: center;}#sk-container-id-2 label.sk-toggleable__label-arrow:before {content: \"▸\";float: left;margin-right: 0.25em;color: #696969;}#sk-container-id-2 label.sk-toggleable__label-arrow:hover:before {color: black;}#sk-container-id-2 div.sk-estimator:hover label.sk-toggleable__label-arrow:before {color: black;}#sk-container-id-2 div.sk-toggleable__content {max-height: 0;max-width: 0;overflow: hidden;text-align: left;background-color: #f0f8ff;}#sk-container-id-2 div.sk-toggleable__content pre {margin: 0.2em;color: black;border-radius: 0.25em;background-color: #f0f8ff;}#sk-container-id-2 input.sk-toggleable__control:checked~div.sk-toggleable__content {max-height: 200px;max-width: 100%;overflow: auto;}#sk-container-id-2 input.sk-toggleable__control:checked~label.sk-toggleable__label-arrow:before {content: \"▾\";}#sk-container-id-2 div.sk-estimator input.sk-toggleable__control:checked~label.sk-toggleable__label {background-color: #d4ebff;}#sk-container-id-2 div.sk-label input.sk-toggleable__control:checked~label.sk-toggleable__label {background-color: #d4ebff;}#sk-container-id-2 input.sk-hidden--visually {border: 0;clip: rect(1px 1px 1px 1px);clip: rect(1px, 1px, 1px, 1px);height: 1px;margin: -1px;overflow: hidden;padding: 0;position: absolute;width: 1px;}#sk-container-id-2 div.sk-estimator {font-family: monospace;background-color: #f0f8ff;border: 1px dotted black;border-radius: 0.25em;box-sizing: border-box;margin-bottom: 0.5em;}#sk-container-id-2 div.sk-estimator:hover {background-color: #d4ebff;}#sk-container-id-2 div.sk-parallel-item::after {content: \"\";width: 100%;border-bottom: 1px solid gray;flex-grow: 1;}#sk-container-id-2 div.sk-label:hover label.sk-toggleable__label {background-color: #d4ebff;}#sk-container-id-2 div.sk-serial::before {content: \"\";position: absolute;border-left: 1px solid gray;box-sizing: border-box;top: 0;bottom: 0;left: 50%;z-index: 0;}#sk-container-id-2 div.sk-serial {display: flex;flex-direction: column;align-items: center;background-color: white;padding-right: 0.2em;padding-left: 0.2em;position: relative;}#sk-container-id-2 div.sk-item {position: relative;z-index: 1;}#sk-container-id-2 div.sk-parallel {display: flex;align-items: stretch;justify-content: center;background-color: white;position: relative;}#sk-container-id-2 div.sk-item::before, #sk-container-id-2 div.sk-parallel-item::before {content: \"\";position: absolute;border-left: 1px solid gray;box-sizing: border-box;top: 0;bottom: 0;left: 50%;z-index: -1;}#sk-container-id-2 div.sk-parallel-item {display: flex;flex-direction: column;z-index: 1;position: relative;background-color: white;}#sk-container-id-2 div.sk-parallel-item:first-child::after {align-self: flex-end;width: 50%;}#sk-container-id-2 div.sk-parallel-item:last-child::after {align-self: flex-start;width: 50%;}#sk-container-id-2 div.sk-parallel-item:only-child::after {width: 0;}#sk-container-id-2 div.sk-dashed-wrapped {border: 1px dashed gray;margin: 0 0.4em 0.5em 0.4em;box-sizing: border-box;padding-bottom: 0.4em;background-color: white;}#sk-container-id-2 div.sk-label label {font-family: monospace;font-weight: bold;display: inline-block;line-height: 1.2em;}#sk-container-id-2 div.sk-label-container {text-align: center;}#sk-container-id-2 div.sk-container {/* jupyter's `normalize.less` sets `[hidden] { display: none; }` but bootstrap.min.css set `[hidden] { display: none !important; }` so we also need the `!important` here to be able to override the default hidden behavior on the sphinx rendered scikit-learn.org. See: https://github.com/scikit-learn/scikit-learn/issues/21755 */display: inline-block !important;position: relative;}#sk-container-id-2 div.sk-text-repr-fallback {display: none;}</style><div id=\"sk-container-id-2\" class=\"sk-top-container\"><div class=\"sk-text-repr-fallback\"><pre>PCA(n_components=100)</pre><b>In a Jupyter environment, please rerun this cell to show the HTML representation or trust the notebook. <br />On GitHub, the HTML representation is unable to render, please try loading this page with nbviewer.org.</b></div><div class=\"sk-container\" hidden><div class=\"sk-item\"><div class=\"sk-estimator sk-toggleable\"><input class=\"sk-toggleable__control sk-hidden--visually\" id=\"sk-estimator-id-2\" type=\"checkbox\" checked><label for=\"sk-estimator-id-2\" class=\"sk-toggleable__label sk-toggleable__label-arrow\">PCA</label><div class=\"sk-toggleable__content\"><pre>PCA(n_components=100)</pre></div></div></div></div></div>"
      ],
      "text/plain": [
       "PCA(n_components=100)"
      ]
     },
     "execution_count": 59,
     "metadata": {},
     "output_type": "execute_result"
    }
   ],
   "source": [
    "pca = PCA(n_components=100)\n",
    "pca.fit(all_embeddings.numpy())"
   ]
  },
  {
   "cell_type": "code",
   "execution_count": 60,
   "metadata": {},
   "outputs": [
    {
     "data": {
      "text/plain": [
       "0.037240762"
      ]
     },
     "execution_count": 60,
     "metadata": {},
     "output_type": "execute_result"
    },
    {
     "data": {
      "image/png": "[encoded data removed]",
      "text/plain": [
       "<Figure size 640x480 with 1 Axes>"
      ]
     },
     "metadata": {},
     "output_type": "display_data"
    }
   ],
   "source": [
    "n_components = 100\n",
    "plt.bar(np.arange(n_components), pca.explained_variance_ratio_[:n_components])\n",
    "pca.explained_variance_ratio_[64:].sum()"
   ]
  },
  {
   "cell_type": "code",
   "execution_count": 61,
   "metadata": {},
   "outputs": [],
   "source": [
    "PCA_N_DIM = 64\n",
    "SEED = 33\n",
    "PCA_KWARGS = dict(random_state=SEED)\n",
    "TSNE_KAWRGS = dict(init='pca', learning_rate='auto', random_state=SEED)\n",
    "\n",
    "def pca_and_tsne(data: np.ndarray, pca_n_dim: int = PCA_N_DIM, \n",
    "    pca_kwargs: typing.Optional[typing.Dict] = None, tsne_kwargs: typing.Optional[typing.Dict] = None):\n",
    "\n",
    "    if pca_kwargs is None:\n",
    "        pca_kwargs = PCA_KWARGS\n",
    "    else:\n",
    "        temp_kwargs = PCA_KWARGS.copy()\n",
    "        temp_kwrags.update(pca_kwargs)\n",
    "        pca_kwargs = temp_kwargs\n",
    "\n",
    "    if tsne_kwargs is None:\n",
    "        tsne_kwargs = TSNE_KAWRGS\n",
    "\n",
    "    else:\n",
    "        temp_kwrags = TSNE_KAWRGS.copy()\n",
    "        temp_kwrags.update(tsne_kwargs)\n",
    "        tsne_kwargs = temp_kwrags\n",
    "\n",
    "    if data.ndim > 2:\n",
    "        data = data.reshape(-1, data.shape[-1])\n",
    "\n",
    "    pca = PCA(n_components=pca_n_dim, **pca_kwargs)\n",
    "    data_pca = pca.fit_transform(data)\n",
    "    tsne = TSNE(n_components=2, **tsne_kwargs)\n",
    "    data_tsne = tsne.fit_transform(data_pca)\n",
    "\n",
    "    return data_tsne"
   ]
  },
  {
   "cell_type": "code",
   "execution_count": 62,
   "metadata": {},
   "outputs": [
    {
     "name": "stderr",
     "output_type": "stream",
     "text": [
      "/Users/guydavidson/opt/anaconda3/envs/game-gen/lib/python3.10/site-packages/sklearn/manifold/_t_sne.py:996: FutureWarning: The PCA initialization in TSNE will change to have the standard deviation of PC1 equal to 1e-4 in 1.2. This will ensure better convergence.\n",
      "  warnings.warn(\n"
     ]
    },
    {
     "data": {
      "text/plain": [
       "(6370, 2)"
      ]
     },
     "execution_count": 62,
     "metadata": {},
     "output_type": "execute_result"
    }
   ],
   "source": [
    "tsne_embedded_data = pca_and_tsne(all_embeddings.numpy())\n",
    "tsne_embedded_data.shape"
   ]
  },
  {
   "cell_type": "code",
   "execution_count": 63,
   "metadata": {},
   "outputs": [
    {
     "data": {
      "text/plain": [
       "<matplotlib.collections.PathCollection at 0x17a92b2b0>"
      ]
     },
     "execution_count": 63,
     "metadata": {},
     "output_type": "execute_result"
    },
    {
     "data": {
      "image/png": "[encoded data removed]",
      "text/plain": [
       "<Figure size 600x600 with 1 Axes>"
      ]
     },
     "metadata": {},
     "output_type": "display_data"
    }
   ],
   "source": [
    "n_games = len(game_texts)\n",
    "plt.figure(figsize=(6, 6))\n",
    "plt.scatter(tsne_embedded_data[n_games:, 0], tsne_embedded_data[n_games:, 1], s=1, alpha=0.5)\n",
    "plt.scatter(tsne_embedded_data[:n_games, 0], tsne_embedded_data[:n_games, 1], s=13, c='red')\n"
   ]
  },
  {
   "attachments": {},
   "cell_type": "markdown",
   "metadata": {},
   "source": [
    "## Let's see what happens if we try to fit a fitness model based on these embeddings?"
   ]
  },
  {
   "cell_type": "code",
   "execution_count": 64,
   "metadata": {},
   "outputs": [
    {
     "data": {
      "text/plain": [
       "torch.Size([98, 65, 1536])"
      ]
     },
     "execution_count": 64,
     "metadata": {},
     "output_type": "execute_result"
    }
   ],
   "source": [
    "embeddings_for_fitness = torch.cat([embeddings.unsqueeze(1), regrowth_embeddings], dim=1)\n",
    "embeddings_for_fitness.shape"
   ]
  },
  {
   "cell_type": "code",
   "execution_count": 96,
   "metadata": {},
   "outputs": [
    {
     "name": "stdout",
     "output_type": "stream",
     "text": [
      "Fitting 5 folds for each of 1280 candidates, totalling 6400 fits\n"
     ]
    }
   ],
   "source": [
    "test_param_grid = [\n",
    "    {\n",
    "        'fitness__loss_function': [utils.fitness_hinge_loss], # [utils.fitness_hinge_loss_with_cross_example],\n",
    "        'fitness__weight_decay': [0.0, 0.25, 1, 2],  \n",
    "        'fitness__margin': [1, 2, 4, 8],\n",
    "        'fitness__lr':  [1e-1, 3e-2, 1e-2, 3e-3],  # [1e-1, 3e-2, 1e-2, 3e-3],\n",
    "        'fitness__k': [4, 8, 16, 32, 64],\n",
    "        'fitness__batch_size': [2, 4, 8, 16],  # [1, 4, 8, 16],\n",
    "        # 'fitness__alpha': [0, 0.25, 0.5, 0.75, 1], # [0, 0.1, 0.2, 0.3],  #\n",
    "    },\n",
    "]\n",
    "\n",
    "model_kwargs = dict(output_activation=nn.ReLU())\n",
    "train_kwargs = dict(negative_score_reduction='none')\n",
    "cv_kwargs = dict(refit='overall_ecdf')\n",
    "scoring = utils.build_multiple_scoring_function(\n",
    "    [utils.evaluate_fitness_overall_ecdf, utils.evaluate_fitness_single_game_rank],\n",
    "    ['overall_ecdf', 'single_game_rank'],\n",
    ")\n",
    "\n",
    "cv = utils.model_fitting_experiment(embeddings_for_fitness, test_param_grid,\n",
    "    scoring_function=scoring, verbose=1, \n",
    "    model_kwargs=model_kwargs, train_kwargs=train_kwargs, cv_kwargs=cv_kwargs)\n"
   ]
  },
  {
   "cell_type": "code",
   "execution_count": null,
   "metadata": {},
   "outputs": [
    {
     "name": "stdout",
     "output_type": "stream",
     "text": [
      "{'ecdf': -0.0085, 'game_rank': 1.0}\n"
     ]
    }
   ],
   "source": [
    "cv, (train_tensor, test_tensor), test_results = cv\n",
    "print(test_results)"
   ]
  },
  {
   "cell_type": "code",
   "execution_count": 79,
   "metadata": {},
   "outputs": [
    {
     "data": {
      "text/html": [
       "<div>\n",
       "<style scoped>\n",
       "    .dataframe tbody tr th:only-of-type {\n",
       "        vertical-align: middle;\n",
       "    }\n",
       "\n",
       "    .dataframe tbody tr th {\n",
       "        vertical-align: top;\n",
       "    }\n",
       "\n",
       "    .dataframe thead th {\n",
       "        text-align: right;\n",
       "    }\n",
       "</style>\n",
       "<table border=\"1\" class=\"dataframe\">\n",
       "  <thead>\n",
       "    <tr style=\"text-align: right;\">\n",
       "      <th></th>\n",
       "      <th>fitness__batch_size</th>\n",
       "      <th>fitness__k</th>\n",
       "      <th>fitness__loss_function</th>\n",
       "      <th>fitness__lr</th>\n",
       "      <th>fitness__margin</th>\n",
       "      <th>fitness__n_features</th>\n",
       "      <th>fitness__weight_decay</th>\n",
       "      <th>ecdf_mean</th>\n",
       "      <th>ecdf_std</th>\n",
       "      <th>ecdf_rank</th>\n",
       "      <th>game_rank_mean</th>\n",
       "      <th>game_rank_std</th>\n",
       "      <th>game_rank_rank</th>\n",
       "    </tr>\n",
       "  </thead>\n",
       "  <tbody>\n",
       "    <tr>\n",
       "      <th>730</th>\n",
       "      <td>8</td>\n",
       "      <td>8</td>\n",
       "      <td>&lt;function fitness_hinge_loss at 0x16325fd00&gt;</td>\n",
       "      <td>0.03</td>\n",
       "      <td>4</td>\n",
       "      <td>1536</td>\n",
       "      <td>1.00</td>\n",
       "      <td>-0.008186</td>\n",
       "      <td>0.000016</td>\n",
       "      <td>1</td>\n",
       "      <td>1.0</td>\n",
       "      <td>0.0</td>\n",
       "      <td>1</td>\n",
       "    </tr>\n",
       "    <tr>\n",
       "      <th>876</th>\n",
       "      <td>8</td>\n",
       "      <td>32</td>\n",
       "      <td>&lt;function fitness_hinge_loss at 0x16325fd00&gt;</td>\n",
       "      <td>0.01</td>\n",
       "      <td>8</td>\n",
       "      <td>1536</td>\n",
       "      <td>0.00</td>\n",
       "      <td>-0.008186</td>\n",
       "      <td>0.000016</td>\n",
       "      <td>1</td>\n",
       "      <td>1.0</td>\n",
       "      <td>0.0</td>\n",
       "      <td>1</td>\n",
       "    </tr>\n",
       "    <tr>\n",
       "      <th>879</th>\n",
       "      <td>8</td>\n",
       "      <td>32</td>\n",
       "      <td>&lt;function fitness_hinge_loss at 0x16325fd00&gt;</td>\n",
       "      <td>0.01</td>\n",
       "      <td>8</td>\n",
       "      <td>1536</td>\n",
       "      <td>2.00</td>\n",
       "      <td>-0.008186</td>\n",
       "      <td>0.000016</td>\n",
       "      <td>1</td>\n",
       "      <td>1.0</td>\n",
       "      <td>0.0</td>\n",
       "      <td>1</td>\n",
       "    </tr>\n",
       "    <tr>\n",
       "      <th>897</th>\n",
       "      <td>8</td>\n",
       "      <td>64</td>\n",
       "      <td>&lt;function fitness_hinge_loss at 0x16325fd00&gt;</td>\n",
       "      <td>0.10</td>\n",
       "      <td>1</td>\n",
       "      <td>1536</td>\n",
       "      <td>0.25</td>\n",
       "      <td>-0.008186</td>\n",
       "      <td>0.000016</td>\n",
       "      <td>1</td>\n",
       "      <td>1.0</td>\n",
       "      <td>0.0</td>\n",
       "      <td>1</td>\n",
       "    </tr>\n",
       "    <tr>\n",
       "      <th>95</th>\n",
       "      <td>2</td>\n",
       "      <td>8</td>\n",
       "      <td>&lt;function fitness_hinge_loss at 0x16325fd00&gt;</td>\n",
       "      <td>0.03</td>\n",
       "      <td>8</td>\n",
       "      <td>1536</td>\n",
       "      <td>2.00</td>\n",
       "      <td>-0.008186</td>\n",
       "      <td>0.000016</td>\n",
       "      <td>1</td>\n",
       "      <td>1.0</td>\n",
       "      <td>0.0</td>\n",
       "      <td>1</td>\n",
       "    </tr>\n",
       "    <tr>\n",
       "      <th>94</th>\n",
       "      <td>2</td>\n",
       "      <td>8</td>\n",
       "      <td>&lt;function fitness_hinge_loss at 0x16325fd00&gt;</td>\n",
       "      <td>0.03</td>\n",
       "      <td>8</td>\n",
       "      <td>1536</td>\n",
       "      <td>1.00</td>\n",
       "      <td>-0.008186</td>\n",
       "      <td>0.000016</td>\n",
       "      <td>1</td>\n",
       "      <td>1.0</td>\n",
       "      <td>0.0</td>\n",
       "      <td>1</td>\n",
       "    </tr>\n",
       "    <tr>\n",
       "      <th>906</th>\n",
       "      <td>8</td>\n",
       "      <td>64</td>\n",
       "      <td>&lt;function fitness_hinge_loss at 0x16325fd00&gt;</td>\n",
       "      <td>0.10</td>\n",
       "      <td>4</td>\n",
       "      <td>1536</td>\n",
       "      <td>1.00</td>\n",
       "      <td>-0.008186</td>\n",
       "      <td>0.000016</td>\n",
       "      <td>1</td>\n",
       "      <td>1.0</td>\n",
       "      <td>0.0</td>\n",
       "      <td>1</td>\n",
       "    </tr>\n",
       "    <tr>\n",
       "      <th>91</th>\n",
       "      <td>2</td>\n",
       "      <td>8</td>\n",
       "      <td>&lt;function fitness_hinge_loss at 0x16325fd00&gt;</td>\n",
       "      <td>0.03</td>\n",
       "      <td>4</td>\n",
       "      <td>1536</td>\n",
       "      <td>2.00</td>\n",
       "      <td>-0.008186</td>\n",
       "      <td>0.000016</td>\n",
       "      <td>1</td>\n",
       "      <td>1.0</td>\n",
       "      <td>0.0</td>\n",
       "      <td>1</td>\n",
       "    </tr>\n",
       "    <tr>\n",
       "      <th>237</th>\n",
       "      <td>2</td>\n",
       "      <td>32</td>\n",
       "      <td>&lt;function fitness_hinge_loss at 0x16325fd00&gt;</td>\n",
       "      <td>0.01</td>\n",
       "      <td>8</td>\n",
       "      <td>1536</td>\n",
       "      <td>0.25</td>\n",
       "      <td>-0.008186</td>\n",
       "      <td>0.000016</td>\n",
       "      <td>1</td>\n",
       "      <td>1.0</td>\n",
       "      <td>0.0</td>\n",
       "      <td>1</td>\n",
       "    </tr>\n",
       "    <tr>\n",
       "      <th>227</th>\n",
       "      <td>2</td>\n",
       "      <td>32</td>\n",
       "      <td>&lt;function fitness_hinge_loss at 0x16325fd00&gt;</td>\n",
       "      <td>0.01</td>\n",
       "      <td>1</td>\n",
       "      <td>1536</td>\n",
       "      <td>2.00</td>\n",
       "      <td>-0.008186</td>\n",
       "      <td>0.000016</td>\n",
       "      <td>1</td>\n",
       "      <td>1.0</td>\n",
       "      <td>0.0</td>\n",
       "      <td>1</td>\n",
       "    </tr>\n",
       "  </tbody>\n",
       "</table>\n",
       "</div>"
      ],
      "text/plain": [
       "     fitness__batch_size  fitness__k  \\\n",
       "730                    8           8   \n",
       "876                    8          32   \n",
       "879                    8          32   \n",
       "897                    8          64   \n",
       "95                     2           8   \n",
       "94                     2           8   \n",
       "906                    8          64   \n",
       "91                     2           8   \n",
       "237                    2          32   \n",
       "227                    2          32   \n",
       "\n",
       "                           fitness__loss_function  fitness__lr  \\\n",
       "730  <function fitness_hinge_loss at 0x16325fd00>         0.03   \n",
       "876  <function fitness_hinge_loss at 0x16325fd00>         0.01   \n",
       "879  <function fitness_hinge_loss at 0x16325fd00>         0.01   \n",
       "897  <function fitness_hinge_loss at 0x16325fd00>         0.10   \n",
       "95   <function fitness_hinge_loss at 0x16325fd00>         0.03   \n",
       "94   <function fitness_hinge_loss at 0x16325fd00>         0.03   \n",
       "906  <function fitness_hinge_loss at 0x16325fd00>         0.10   \n",
       "91   <function fitness_hinge_loss at 0x16325fd00>         0.03   \n",
       "237  <function fitness_hinge_loss at 0x16325fd00>         0.01   \n",
       "227  <function fitness_hinge_loss at 0x16325fd00>         0.01   \n",
       "\n",
       "     fitness__margin  fitness__n_features  fitness__weight_decay  ecdf_mean  \\\n",
       "730                4                 1536                   1.00  -0.008186   \n",
       "876                8                 1536                   0.00  -0.008186   \n",
       "879                8                 1536                   2.00  -0.008186   \n",
       "897                1                 1536                   0.25  -0.008186   \n",
       "95                 8                 1536                   2.00  -0.008186   \n",
       "94                 8                 1536                   1.00  -0.008186   \n",
       "906                4                 1536                   1.00  -0.008186   \n",
       "91                 4                 1536                   2.00  -0.008186   \n",
       "237                8                 1536                   0.25  -0.008186   \n",
       "227                1                 1536                   2.00  -0.008186   \n",
       "\n",
       "     ecdf_std  ecdf_rank  game_rank_mean  game_rank_std  game_rank_rank  \n",
       "730  0.000016          1             1.0            0.0               1  \n",
       "876  0.000016          1             1.0            0.0               1  \n",
       "879  0.000016          1             1.0            0.0               1  \n",
       "897  0.000016          1             1.0            0.0               1  \n",
       "95   0.000016          1             1.0            0.0               1  \n",
       "94   0.000016          1             1.0            0.0               1  \n",
       "906  0.000016          1             1.0            0.0               1  \n",
       "91   0.000016          1             1.0            0.0               1  \n",
       "237  0.000016          1             1.0            0.0               1  \n",
       "227  0.000016          1             1.0            0.0               1  "
      ]
     },
     "execution_count": 79,
     "metadata": {},
     "output_type": "execute_result"
    }
   ],
   "source": [
    "cv_df = pd.concat([\n",
    "    pd.DataFrame(cv.cv_results_[\"params\"]), \n",
    "    pd.DataFrame(cv.cv_results_[\"mean_test_overall_ecdf\"], columns=['ecdf_mean']), \n",
    "    pd.DataFrame(cv.cv_results_[\"std_test_overall_ecdf\"], columns=['ecdf_std']), \n",
    "    pd.DataFrame(cv.cv_results_[\"rank_test_overall_ecdf\"], columns=['ecdf_rank']),\n",
    "    pd.DataFrame(cv.cv_results_[\"mean_test_single_game_rank\"], columns=['game_rank_mean']), \n",
    "    pd.DataFrame(cv.cv_results_[\"std_test_single_game_rank\"], columns=['game_rank_std']), \n",
    "    pd.DataFrame(cv.cv_results_[\"rank_test_single_game_rank\"], columns=['game_rank_rank']),\n",
    "],axis=1)\n",
    "\n",
    "cv_df.sort_values(by='ecdf_rank').head(10)"
   ]
  },
  {
   "cell_type": "code",
   "execution_count": 80,
   "metadata": {},
   "outputs": [
    {
     "data": {
      "text/html": [
       "<div>\n",
       "<style scoped>\n",
       "    .dataframe tbody tr th:only-of-type {\n",
       "        vertical-align: middle;\n",
       "    }\n",
       "\n",
       "    .dataframe tbody tr th {\n",
       "        vertical-align: top;\n",
       "    }\n",
       "\n",
       "    .dataframe thead th {\n",
       "        text-align: right;\n",
       "    }\n",
       "</style>\n",
       "<table border=\"1\" class=\"dataframe\">\n",
       "  <thead>\n",
       "    <tr style=\"text-align: right;\">\n",
       "      <th></th>\n",
       "      <th>fitness__batch_size</th>\n",
       "      <th>fitness__k</th>\n",
       "      <th>fitness__loss_function</th>\n",
       "      <th>fitness__lr</th>\n",
       "      <th>fitness__margin</th>\n",
       "      <th>fitness__n_features</th>\n",
       "      <th>fitness__weight_decay</th>\n",
       "      <th>ecdf_mean</th>\n",
       "      <th>ecdf_std</th>\n",
       "      <th>ecdf_rank</th>\n",
       "      <th>game_rank_mean</th>\n",
       "      <th>game_rank_std</th>\n",
       "      <th>game_rank_rank</th>\n",
       "    </tr>\n",
       "  </thead>\n",
       "  <tbody>\n",
       "    <tr>\n",
       "      <th>0</th>\n",
       "      <td>2</td>\n",
       "      <td>4</td>\n",
       "      <td>&lt;function fitness_hinge_loss at 0x16325fd00&gt;</td>\n",
       "      <td>0.10</td>\n",
       "      <td>1</td>\n",
       "      <td>1536</td>\n",
       "      <td>0.00</td>\n",
       "      <td>-0.011278</td>\n",
       "      <td>0.003368</td>\n",
       "      <td>762</td>\n",
       "      <td>1.0</td>\n",
       "      <td>0.0</td>\n",
       "      <td>1</td>\n",
       "    </tr>\n",
       "    <tr>\n",
       "      <th>780</th>\n",
       "      <td>8</td>\n",
       "      <td>16</td>\n",
       "      <td>&lt;function fitness_hinge_loss at 0x16325fd00&gt;</td>\n",
       "      <td>0.10</td>\n",
       "      <td>8</td>\n",
       "      <td>1536</td>\n",
       "      <td>0.00</td>\n",
       "      <td>-0.008210</td>\n",
       "      <td>0.000044</td>\n",
       "      <td>429</td>\n",
       "      <td>1.0</td>\n",
       "      <td>0.0</td>\n",
       "      <td>1</td>\n",
       "    </tr>\n",
       "    <tr>\n",
       "      <th>781</th>\n",
       "      <td>8</td>\n",
       "      <td>16</td>\n",
       "      <td>&lt;function fitness_hinge_loss at 0x16325fd00&gt;</td>\n",
       "      <td>0.10</td>\n",
       "      <td>8</td>\n",
       "      <td>1536</td>\n",
       "      <td>0.25</td>\n",
       "      <td>-0.008186</td>\n",
       "      <td>0.000016</td>\n",
       "      <td>61</td>\n",
       "      <td>1.0</td>\n",
       "      <td>0.0</td>\n",
       "      <td>1</td>\n",
       "    </tr>\n",
       "    <tr>\n",
       "      <th>782</th>\n",
       "      <td>8</td>\n",
       "      <td>16</td>\n",
       "      <td>&lt;function fitness_hinge_loss at 0x16325fd00&gt;</td>\n",
       "      <td>0.10</td>\n",
       "      <td>8</td>\n",
       "      <td>1536</td>\n",
       "      <td>1.00</td>\n",
       "      <td>-0.008186</td>\n",
       "      <td>0.000016</td>\n",
       "      <td>61</td>\n",
       "      <td>1.0</td>\n",
       "      <td>0.0</td>\n",
       "      <td>1</td>\n",
       "    </tr>\n",
       "    <tr>\n",
       "      <th>783</th>\n",
       "      <td>8</td>\n",
       "      <td>16</td>\n",
       "      <td>&lt;function fitness_hinge_loss at 0x16325fd00&gt;</td>\n",
       "      <td>0.10</td>\n",
       "      <td>8</td>\n",
       "      <td>1536</td>\n",
       "      <td>2.00</td>\n",
       "      <td>-0.008186</td>\n",
       "      <td>0.000016</td>\n",
       "      <td>61</td>\n",
       "      <td>1.0</td>\n",
       "      <td>0.0</td>\n",
       "      <td>1</td>\n",
       "    </tr>\n",
       "    <tr>\n",
       "      <th>786</th>\n",
       "      <td>8</td>\n",
       "      <td>16</td>\n",
       "      <td>&lt;function fitness_hinge_loss at 0x16325fd00&gt;</td>\n",
       "      <td>0.03</td>\n",
       "      <td>1</td>\n",
       "      <td>1536</td>\n",
       "      <td>1.00</td>\n",
       "      <td>-0.051370</td>\n",
       "      <td>0.028947</td>\n",
       "      <td>1087</td>\n",
       "      <td>1.0</td>\n",
       "      <td>0.0</td>\n",
       "      <td>1</td>\n",
       "    </tr>\n",
       "    <tr>\n",
       "      <th>787</th>\n",
       "      <td>8</td>\n",
       "      <td>16</td>\n",
       "      <td>&lt;function fitness_hinge_loss at 0x16325fd00&gt;</td>\n",
       "      <td>0.03</td>\n",
       "      <td>1</td>\n",
       "      <td>1536</td>\n",
       "      <td>2.00</td>\n",
       "      <td>-0.008222</td>\n",
       "      <td>0.000067</td>\n",
       "      <td>447</td>\n",
       "      <td>1.0</td>\n",
       "      <td>0.0</td>\n",
       "      <td>1</td>\n",
       "    </tr>\n",
       "    <tr>\n",
       "      <th>788</th>\n",
       "      <td>8</td>\n",
       "      <td>16</td>\n",
       "      <td>&lt;function fitness_hinge_loss at 0x16325fd00&gt;</td>\n",
       "      <td>0.03</td>\n",
       "      <td>2</td>\n",
       "      <td>1536</td>\n",
       "      <td>0.00</td>\n",
       "      <td>-0.052475</td>\n",
       "      <td>0.023741</td>\n",
       "      <td>1092</td>\n",
       "      <td>1.0</td>\n",
       "      <td>0.0</td>\n",
       "      <td>1</td>\n",
       "    </tr>\n",
       "    <tr>\n",
       "      <th>789</th>\n",
       "      <td>8</td>\n",
       "      <td>16</td>\n",
       "      <td>&lt;function fitness_hinge_loss at 0x16325fd00&gt;</td>\n",
       "      <td>0.03</td>\n",
       "      <td>2</td>\n",
       "      <td>1536</td>\n",
       "      <td>0.25</td>\n",
       "      <td>-0.038735</td>\n",
       "      <td>0.020569</td>\n",
       "      <td>1019</td>\n",
       "      <td>1.0</td>\n",
       "      <td>0.0</td>\n",
       "      <td>1</td>\n",
       "    </tr>\n",
       "    <tr>\n",
       "      <th>790</th>\n",
       "      <td>8</td>\n",
       "      <td>16</td>\n",
       "      <td>&lt;function fitness_hinge_loss at 0x16325fd00&gt;</td>\n",
       "      <td>0.03</td>\n",
       "      <td>2</td>\n",
       "      <td>1536</td>\n",
       "      <td>1.00</td>\n",
       "      <td>-0.008186</td>\n",
       "      <td>0.000016</td>\n",
       "      <td>61</td>\n",
       "      <td>1.0</td>\n",
       "      <td>0.0</td>\n",
       "      <td>1</td>\n",
       "    </tr>\n",
       "  </tbody>\n",
       "</table>\n",
       "</div>"
      ],
      "text/plain": [
       "     fitness__batch_size  fitness__k  \\\n",
       "0                      2           4   \n",
       "780                    8          16   \n",
       "781                    8          16   \n",
       "782                    8          16   \n",
       "783                    8          16   \n",
       "786                    8          16   \n",
       "787                    8          16   \n",
       "788                    8          16   \n",
       "789                    8          16   \n",
       "790                    8          16   \n",
       "\n",
       "                           fitness__loss_function  fitness__lr  \\\n",
       "0    <function fitness_hinge_loss at 0x16325fd00>         0.10   \n",
       "780  <function fitness_hinge_loss at 0x16325fd00>         0.10   \n",
       "781  <function fitness_hinge_loss at 0x16325fd00>         0.10   \n",
       "782  <function fitness_hinge_loss at 0x16325fd00>         0.10   \n",
       "783  <function fitness_hinge_loss at 0x16325fd00>         0.10   \n",
       "786  <function fitness_hinge_loss at 0x16325fd00>         0.03   \n",
       "787  <function fitness_hinge_loss at 0x16325fd00>         0.03   \n",
       "788  <function fitness_hinge_loss at 0x16325fd00>         0.03   \n",
       "789  <function fitness_hinge_loss at 0x16325fd00>         0.03   \n",
       "790  <function fitness_hinge_loss at 0x16325fd00>         0.03   \n",
       "\n",
       "     fitness__margin  fitness__n_features  fitness__weight_decay  ecdf_mean  \\\n",
       "0                  1                 1536                   0.00  -0.011278   \n",
       "780                8                 1536                   0.00  -0.008210   \n",
       "781                8                 1536                   0.25  -0.008186   \n",
       "782                8                 1536                   1.00  -0.008186   \n",
       "783                8                 1536                   2.00  -0.008186   \n",
       "786                1                 1536                   1.00  -0.051370   \n",
       "787                1                 1536                   2.00  -0.008222   \n",
       "788                2                 1536                   0.00  -0.052475   \n",
       "789                2                 1536                   0.25  -0.038735   \n",
       "790                2                 1536                   1.00  -0.008186   \n",
       "\n",
       "     ecdf_std  ecdf_rank  game_rank_mean  game_rank_std  game_rank_rank  \n",
       "0    0.003368        762             1.0            0.0               1  \n",
       "780  0.000044        429             1.0            0.0               1  \n",
       "781  0.000016         61             1.0            0.0               1  \n",
       "782  0.000016         61             1.0            0.0               1  \n",
       "783  0.000016         61             1.0            0.0               1  \n",
       "786  0.028947       1087             1.0            0.0               1  \n",
       "787  0.000067        447             1.0            0.0               1  \n",
       "788  0.023741       1092             1.0            0.0               1  \n",
       "789  0.020569       1019             1.0            0.0               1  \n",
       "790  0.000016         61             1.0            0.0               1  "
      ]
     },
     "execution_count": 80,
     "metadata": {},
     "output_type": "execute_result"
    }
   ],
   "source": [
    "cv_df.sort_values(by='game_rank_rank').head(10)"
   ]
  },
  {
   "cell_type": "code",
   "execution_count": 95,
   "metadata": {},
   "outputs": [
    {
     "data": {
      "text/plain": [
       "fitness__weight_decay\n",
       "0.00   -0.030315\n",
       "0.25   -0.028234\n",
       "1.00   -0.022054\n",
       "2.00   -0.016997\n",
       "Name: ecdf_mean, dtype: float64"
      ]
     },
     "execution_count": 95,
     "metadata": {},
     "output_type": "execute_result"
    }
   ],
   "source": [
    "cv_df.groupby('fitness__weight_decay').ecdf_mean.mean()"
   ]
  },
  {
   "cell_type": "code",
   "execution_count": 84,
   "metadata": {},
   "outputs": [],
   "source": [
    "cv.best_estimator_.fit(embeddings_for_fitness)\n",
    "cv_fitness_model = cv.best_estimator_\n",
    "\n",
    "output_path = '../models/cv_fitness_model_2023_01_16_from_embeddings.pkl.gz'\n",
    "original_output_path = output_path[:]\n",
    "i = 0\n",
    "while os.path.exists(output_path):\n",
    "    output_path = original_output_path + f'_{i}'\n",
    "    i += 1\n",
    "\n",
    "with gzip.open(output_path, 'wb') as f:\n",
    "    pickle.dump(cv_fitness_model, f, protocol=pickle.HIGHEST_PROTOCOL)\n",
    "\n"
   ]
  },
  {
   "cell_type": "code",
   "execution_count": 81,
   "metadata": {},
   "outputs": [],
   "source": [
    "# cv_fitness_model = pickle.load(gzip.open('../models/cv_fitness_model_2023_01_16_from_embeddings.pkl.gz', 'rb'))\n",
    "cv_fitness_model = cv.best_estimator_"
   ]
  },
  {
   "cell_type": "code",
   "execution_count": 82,
   "metadata": {},
   "outputs": [],
   "source": [
    "train_positive_scores = cv.best_estimator_.transform(train_tensor[:, 0, :]).detach().squeeze().numpy()\n",
    "train_negative_scores = cv.best_estimator_.transform(train_tensor[:, 1:, :]).detach().squeeze().numpy()\n",
    "\n",
    "test_positive_scores = cv.best_estimator_.transform(test_tensor[:, 0, :]).detach().squeeze().numpy()\n",
    "test_negative_scores = cv.best_estimator_.transform(test_tensor[:, 1:, :]).detach().squeeze().numpy()"
   ]
  },
  {
   "cell_type": "code",
   "execution_count": 83,
   "metadata": {},
   "outputs": [
    {
     "data": {
      "text/plain": [
       "<matplotlib.legend.Legend at 0x17a5d3d30>"
      ]
     },
     "execution_count": 83,
     "metadata": {},
     "output_type": "execute_result"
    },
    {
     "data": {
      "image/png": "[encoded data removed]",
      "text/plain": [
       "<Figure size 640x480 with 1 Axes>"
      ]
     },
     "metadata": {},
     "output_type": "display_data"
    }
   ],
   "source": [
    "cm = plt.get_cmap('tab20')\n",
    "plt.hist([train_positive_scores, test_positive_scores, train_negative_scores.flatten(), test_negative_scores.flatten()], \n",
    "    stacked=True, bins=100, label=['Real (train)', 'Real (test)', 'Negatives (train)', 'Negatives (test)'],\n",
    "    color=cm.colors[:4])\n",
    "plt.title('Fitness energy scores of all games -- embeddings')\n",
    "plt.xlabel('Energy score')\n",
    "plt.ylabel('log(Count)')\n",
    "plt.semilogy()\n",
    "plt.legend(loc='best')\n",
    "\n"
   ]
  },
  {
   "cell_type": "code",
   "execution_count": 74,
   "metadata": {},
   "outputs": [
    {
     "name": "stdout",
     "output_type": "stream",
     "text": [
      "5.1561572e-05 0.011656938 2.6330941e-05\n"
     ]
    },
    {
     "data": {
      "text/plain": [
       "Text(0, 0.5, 'Count')"
      ]
     },
     "execution_count": 74,
     "metadata": {},
     "output_type": "execute_result"
    },
    {
     "data": {
      "image/png": "[encoded data removed]",
      "text/plain": [
       "<Figure size 640x480 with 1 Axes>"
      ]
     },
     "metadata": {},
     "output_type": "display_data"
    }
   ],
   "source": [
    "weights = cv.best_estimator_.named_steps['fitness'].model.fc1.weight.data.detach().numpy().squeeze()\n",
    "bias = cv.best_estimator_.named_steps['fitness'].model.fc1.bias.data.detach().numpy().squeeze()\n",
    "print(weights.mean(), weights.std(), bias)\n",
    "\n",
    "plt.hist(weights, bins=100)\n",
    "plt.title('Fitness Model Weights -- embeddings')\n",
    "plt.xlabel('Weight magnitude')\n",
    "plt.ylabel('Count')"
   ]
  },
  {
   "attachments": {},
   "cell_type": "markdown",
   "metadata": {},
   "source": [
    "## What if I concatante my features and the embeddings?"
   ]
  },
  {
   "cell_type": "code",
   "execution_count": null,
   "metadata": {},
   "outputs": [],
   "source": [
    "fitness_features_tensor = torch.load('../data/interactive-beta-and-regrowth-fitness-features-2023-01-09.pt')\n",
    "print(fitness_features_tensor.shape, embeddings_for_fitness.shape)\n",
    "\n",
    "features_and_embeddings = torch.cat([fitness_features_tensor, embeddings_for_fitness], dim=-1)\n",
    "features_and_embeddings.shape"
   ]
  },
  {
   "cell_type": "code",
   "execution_count": null,
   "metadata": {},
   "outputs": [],
   "source": [
    "test_param_grid = [\n",
    "    {\n",
    "        'fitness__loss_function': [utils.fitness_hinge_loss], # [utils.fitness_hinge_loss_with_cross_example],\n",
    "        'fitness__weight_decay': [0.0, 0.25, 1, 2],  \n",
    "        'fitness__margin': [1, 2, 4, 8],\n",
    "        'fitness__lr':  [1e-1, 3e-2, 1e-2, 3e-3],  # [1e-1, 3e-2, 1e-2, 3e-3],\n",
    "        'fitness__k': [4, 8, 16, 32, 64],\n",
    "        'fitness__batch_size': [2, 4, 8, 16],  # [1, 4, 8, 16],\n",
    "        # 'fitness__alpha': [0, 0.25, 0.5, 0.75, 1], # [0, 0.1, 0.2, 0.3],  #\n",
    "    },\n",
    "]\n",
    "\n",
    "model_kwargs = dict(output_activation=nn.Identity())\n",
    "train_kwargs = dict()\n",
    "cv_kwargs = dict(refit='overall_ecdf')\n",
    "scoring = utils.build_multiple_scoring_function(\n",
    "    [utils.evaluate_fitness_overall_ecdf, utils.evaluate_fitness_single_game_rank],\n",
    "    ['overall_ecdf', 'single_game_rank'],\n",
    ")\n",
    "\n",
    "cv_with_features = model_fitting_experiment(features_and_embeddings, test_param_grid,\n",
    "    scoring_function=scoring, verbose=1, \n",
    "    model_kwargs=model_kwargs, train_kwargs=train_kwargs, cv_kwargs=cv_kwargs)\n"
   ]
  },
  {
   "cell_type": "code",
   "execution_count": null,
   "metadata": {},
   "outputs": [],
   "source": [
    "cv_with_features_df = pd.concat([\n",
    "    pd.DataFrame(cv_with_features.cv_results_[\"params\"]), \n",
    "    pd.DataFrame(cv_with_features.cv_results_[\"mean_test_overall_ecdf\"], columns=['ecdf_mean']), \n",
    "    pd.DataFrame(cv_with_features.cv_results_[\"std_test_overall_ecdf\"], columns=['ecdf_std']), \n",
    "    pd.DataFrame(cv_with_features.cv_results_[\"rank_test_overall_ecdf\"], columns=['ecdf_rank']),\n",
    "    pd.DataFrame(cv_with_features.cv_results_[\"mean_test_single_game_rank\"], columns=['game_rank_mean']), \n",
    "    pd.DataFrame(cv_with_features.cv_results_[\"std_test_single_game_rank\"], columns=['game_rank_std']), \n",
    "    pd.DataFrame(cv_with_features.cv_results_[\"rank_test_single_game_rank\"], columns=['game_rank_rank']),\n",
    "],axis=1)\n",
    "\n",
    "cv_with_features_df.sort_values(by='ecdf_rank').head(10)"
   ]
  },
  {
   "cell_type": "code",
   "execution_count": null,
   "metadata": {},
   "outputs": [],
   "source": [
    "cv_with_features_df.sort_values(by='game_rank_rank').head(10)"
   ]
  },
  {
   "cell_type": "code",
   "execution_count": null,
   "metadata": {},
   "outputs": [],
   "source": [
    "cv_with_features.best_estimator_.fit(features_and_embeddings)\n",
    "cv_fitness_model_with_features = cv_with_features.best_estimator_\n",
    "\n",
    "real_scores = cv_fitness_model_with_features.transform(features_and_embeddings[:, 0, :]).detach().squeeze().numpy()\n",
    "negative_scores = cv_fitness_model_with_features.transform(features_and_embeddings[:, 1:, :]).detach().squeeze().numpy()\n",
    "real_scores.mean(), real_scores.std()"
   ]
  },
  {
   "cell_type": "code",
   "execution_count": null,
   "metadata": {},
   "outputs": [],
   "source": [
    "plt.hist([real_scores, negative_scores.flatten()], stacked=True, bins=100,\n",
    "    label=['Real games', 'Negatives'])\n",
    "plt.title('Fitness energy scores of all games -- embeddings + features')\n",
    "plt.xlabel('Energy score')\n",
    "plt.ylabel('log(Count)')\n",
    "plt.semilogy()\n",
    "plt.legend(loc='best')"
   ]
  },
  {
   "cell_type": "code",
   "execution_count": null,
   "metadata": {},
   "outputs": [],
   "source": [
    "from sklearn.model_selection import train_test_split"
   ]
  },
  {
   "cell_type": "code",
   "execution_count": null,
   "metadata": {},
   "outputs": [],
   "source": [
    "tts = train_test_split(embeddings_for_fitness, train_size=utils.DEFAULT_TRAINING_PROP)"
   ]
  },
  {
   "cell_type": "code",
   "execution_count": null,
   "metadata": {},
   "outputs": [],
   "source": [
    "[t.shape for t in tts]"
   ]
  }
 ],
 "metadata": {
  "kernelspec": {
   "display_name": "game-gen",
   "language": "python",
   "name": "python3"
  },
  "language_info": {
   "codemirror_mode": {
    "name": "ipython",
    "version": 3
   },
   "file_extension": ".py",
   "mimetype": "text/x-python",
   "name": "python",
   "nbconvert_exporter": "python",
   "pygments_lexer": "ipython3",
   "version": "3.10.8"
  },
  "orig_nbformat": 4,
  "vscode": {
   "interpreter": {
    "hash": "d207b42274502bc006609ff0f580407f35ab20e7889cda7ddd92e73aeb06c569"
   }
  }
 },
 "nbformat": 4,
 "nbformat_minor": 2
}
