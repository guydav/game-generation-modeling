{
 "cells": [
  {
   "cell_type": "code",
   "execution_count": 1,
   "metadata": {},
   "outputs": [],
   "source": [
    "%autoreload 2"
   ]
  },
  {
   "cell_type": "code",
   "execution_count": 2,
   "metadata": {},
   "outputs": [],
   "source": [
    "from collections import defaultdict\n",
    "from argparse import Namespace\n",
    "import copy\n",
    "import gzip\n",
    "import itertools\n",
    "import os\n",
    "import pickle\n",
    "import sys\n",
    "import typing\n",
    "\n",
    "import matplotlib\n",
    "import matplotlib.pyplot as plt\n",
    "import numpy as np\n",
    "import pandas as pd\n",
    "import tatsu\n",
    "import tatsu.ast\n",
    "import torch\n",
    "import torch.nn as nn\n",
    "import torch.nn.functional as F\n",
    "from torch.utils.data import TensorDataset, DataLoader\n",
    "import tqdm\n",
    "import sklearn\n",
    "from sklearn.model_selection import GridSearchCV, train_test_split, KFold\n",
    "from sklearn.pipeline import Pipeline\n",
    "\n",
    "sys.path.append(os.path.abspath('..'))\n",
    "sys.path.append(os.path.abspath('../src'))\n",
    "from src.ast_utils import _extract_game_id\n",
    "from src import fitness_energy_utils as utils\n",
    "from src.fitness_energy_utils import NON_FEATURE_COLUMNS\n",
    "from src.fitness_features import *\n",
    "from src.ast_counter_sampler import *\n",
    "from src.ast_mcmc_regrowth import *"
   ]
  },
  {
   "cell_type": "code",
   "execution_count": 3,
   "metadata": {},
   "outputs": [
    {
     "name": "stdout",
     "output_type": "stream",
     "text": [
      "98 6272 64.0 100352 1024.0\n"
     ]
    }
   ],
   "source": [
    "grammar = open('../dsl/dsl.ebnf').read()\n",
    "grammar_parser = tatsu.compile(grammar)\n",
    "game_asts = list(cached_load_and_parse_games_from_file('../dsl/interactive-beta.pddl', grammar_parser, False, relative_path='..'))\n",
    "real_game_texts = [ast_printer.ast_to_string(ast, '\\n') for ast in game_asts]\n",
    "regrown_game_texts = list(load_games_from_file('../dsl/ast-real-regrowth-samples.pddl'))\n",
    "regrown_game_1024_texts = list(load_games_from_file('../dsl/ast-real-regrowth-samples-1024.pddl'))\n",
    "print(len(real_game_texts), len(regrown_game_texts), len(regrown_game_texts) / 98, len(regrown_game_1024_texts), len(regrown_game_1024_texts) / 98)\n"
   ]
  },
  {
   "cell_type": "code",
   "execution_count": 4,
   "metadata": {},
   "outputs": [
    {
     "name": "stdout",
     "output_type": "stream",
     "text": [
      "['interactive-beta.pddl' 'ast-real-regrowth-samples-1024.pddl']\n"
     ]
    },
    {
     "data": {
      "text/html": [
       "<div>\n",
       "<style scoped>\n",
       "    .dataframe tbody tr th:only-of-type {\n",
       "        vertical-align: middle;\n",
       "    }\n",
       "\n",
       "    .dataframe tbody tr th {\n",
       "        vertical-align: top;\n",
       "    }\n",
       "\n",
       "    .dataframe thead th {\n",
       "        text-align: right;\n",
       "    }\n",
       "</style>\n",
       "<table border=\"1\" class=\"dataframe\">\n",
       "  <thead>\n",
       "    <tr style=\"text-align: right;\">\n",
       "      <th></th>\n",
       "      <th>Index</th>\n",
       "      <th>src_file</th>\n",
       "      <th>game_name</th>\n",
       "      <th>domain_name</th>\n",
       "      <th>original_game_name</th>\n",
       "      <th>real</th>\n",
       "      <th>all_variables_defined</th>\n",
       "      <th>all_variables_used</th>\n",
       "      <th>all_preferences_used</th>\n",
       "      <th>setup_objects_used</th>\n",
       "      <th>...</th>\n",
       "      <th>ast_ngram_constraints_n_6_score</th>\n",
       "      <th>ast_ngram_constraints_n_7_score</th>\n",
       "      <th>ast_ngram_terminal_n_2_score</th>\n",
       "      <th>ast_ngram_terminal_n_3_score</th>\n",
       "      <th>ast_ngram_terminal_n_4_score</th>\n",
       "      <th>ast_ngram_terminal_n_5_score</th>\n",
       "      <th>ast_ngram_scoring_n_2_score</th>\n",
       "      <th>ast_ngram_scoring_n_3_score</th>\n",
       "      <th>ast_ngram_scoring_n_4_score</th>\n",
       "      <th>ast_ngram_scoring_n_5_score</th>\n",
       "    </tr>\n",
       "  </thead>\n",
       "  <tbody>\n",
       "    <tr>\n",
       "      <th>0</th>\n",
       "      <td>0</td>\n",
       "      <td>interactive-beta.pddl</td>\n",
       "      <td>6172feb1665491d1efbce164-0</td>\n",
       "      <td>medium-objects-room-v1</td>\n",
       "      <td>6172feb1665491d1efbce164-0</td>\n",
       "      <td>1</td>\n",
       "      <td>1</td>\n",
       "      <td>1</td>\n",
       "      <td>1</td>\n",
       "      <td>1.00</td>\n",
       "      <td>...</td>\n",
       "      <td>0.976714</td>\n",
       "      <td>0.984956</td>\n",
       "      <td>0.942266</td>\n",
       "      <td>0.970180</td>\n",
       "      <td>0.973574</td>\n",
       "      <td>0.978002</td>\n",
       "      <td>0.725160</td>\n",
       "      <td>0.761936</td>\n",
       "      <td>0.942521</td>\n",
       "      <td>0.975955</td>\n",
       "    </tr>\n",
       "    <tr>\n",
       "      <th>1</th>\n",
       "      <td>1</td>\n",
       "      <td>interactive-beta.pddl</td>\n",
       "      <td>5f77754ba932fb2c4ba181d8-2</td>\n",
       "      <td>many-objects-room-v1</td>\n",
       "      <td>5f77754ba932fb2c4ba181d8-2</td>\n",
       "      <td>1</td>\n",
       "      <td>1</td>\n",
       "      <td>1</td>\n",
       "      <td>1</td>\n",
       "      <td>1.00</td>\n",
       "      <td>...</td>\n",
       "      <td>0.986443</td>\n",
       "      <td>0.986721</td>\n",
       "      <td>0.935275</td>\n",
       "      <td>0.965656</td>\n",
       "      <td>0.967074</td>\n",
       "      <td>0.978883</td>\n",
       "      <td>0.670913</td>\n",
       "      <td>0.801850</td>\n",
       "      <td>0.870098</td>\n",
       "      <td>0.924083</td>\n",
       "    </tr>\n",
       "    <tr>\n",
       "      <th>2</th>\n",
       "      <td>2</td>\n",
       "      <td>interactive-beta.pddl</td>\n",
       "      <td>614b603d4da88384282967a7-3</td>\n",
       "      <td>many-objects-room-v1</td>\n",
       "      <td>614b603d4da88384282967a7-3</td>\n",
       "      <td>1</td>\n",
       "      <td>1</td>\n",
       "      <td>1</td>\n",
       "      <td>1</td>\n",
       "      <td>0.00</td>\n",
       "      <td>...</td>\n",
       "      <td>0.976849</td>\n",
       "      <td>0.981247</td>\n",
       "      <td>0.000000</td>\n",
       "      <td>0.000000</td>\n",
       "      <td>0.000000</td>\n",
       "      <td>0.000000</td>\n",
       "      <td>0.452633</td>\n",
       "      <td>0.593800</td>\n",
       "      <td>0.814709</td>\n",
       "      <td>0.883131</td>\n",
       "    </tr>\n",
       "    <tr>\n",
       "      <th>3</th>\n",
       "      <td>3</td>\n",
       "      <td>interactive-beta.pddl</td>\n",
       "      <td>5bc79f652885710001a0e82a-5</td>\n",
       "      <td>few-objects-room-v1</td>\n",
       "      <td>5bc79f652885710001a0e82a-5</td>\n",
       "      <td>1</td>\n",
       "      <td>1</td>\n",
       "      <td>1</td>\n",
       "      <td>1</td>\n",
       "      <td>0.00</td>\n",
       "      <td>...</td>\n",
       "      <td>0.986600</td>\n",
       "      <td>0.986476</td>\n",
       "      <td>0.000000</td>\n",
       "      <td>0.000000</td>\n",
       "      <td>0.000000</td>\n",
       "      <td>0.000000</td>\n",
       "      <td>0.725160</td>\n",
       "      <td>0.761936</td>\n",
       "      <td>0.942521</td>\n",
       "      <td>0.975955</td>\n",
       "    </tr>\n",
       "    <tr>\n",
       "      <th>4</th>\n",
       "      <td>4</td>\n",
       "      <td>interactive-beta.pddl</td>\n",
       "      <td>614dec67f6eb129c3a77defd-6</td>\n",
       "      <td>medium-objects-room-v1</td>\n",
       "      <td>614dec67f6eb129c3a77defd-6</td>\n",
       "      <td>1</td>\n",
       "      <td>1</td>\n",
       "      <td>1</td>\n",
       "      <td>1</td>\n",
       "      <td>0.25</td>\n",
       "      <td>...</td>\n",
       "      <td>0.985217</td>\n",
       "      <td>0.983768</td>\n",
       "      <td>0.000000</td>\n",
       "      <td>0.000000</td>\n",
       "      <td>0.000000</td>\n",
       "      <td>0.000000</td>\n",
       "      <td>0.937248</td>\n",
       "      <td>0.947704</td>\n",
       "      <td>0.933456</td>\n",
       "      <td>0.976437</td>\n",
       "    </tr>\n",
       "  </tbody>\n",
       "</table>\n",
       "<p>5 rows × 348 columns</p>\n",
       "</div>"
      ],
      "text/plain": [
       "   Index               src_file                   game_name  \\\n",
       "0      0  interactive-beta.pddl  6172feb1665491d1efbce164-0   \n",
       "1      1  interactive-beta.pddl  5f77754ba932fb2c4ba181d8-2   \n",
       "2      2  interactive-beta.pddl  614b603d4da88384282967a7-3   \n",
       "3      3  interactive-beta.pddl  5bc79f652885710001a0e82a-5   \n",
       "4      4  interactive-beta.pddl  614dec67f6eb129c3a77defd-6   \n",
       "\n",
       "              domain_name          original_game_name  real  \\\n",
       "0  medium-objects-room-v1  6172feb1665491d1efbce164-0     1   \n",
       "1    many-objects-room-v1  5f77754ba932fb2c4ba181d8-2     1   \n",
       "2    many-objects-room-v1  614b603d4da88384282967a7-3     1   \n",
       "3     few-objects-room-v1  5bc79f652885710001a0e82a-5     1   \n",
       "4  medium-objects-room-v1  614dec67f6eb129c3a77defd-6     1   \n",
       "\n",
       "   all_variables_defined  all_variables_used  all_preferences_used  \\\n",
       "0                      1                   1                     1   \n",
       "1                      1                   1                     1   \n",
       "2                      1                   1                     1   \n",
       "3                      1                   1                     1   \n",
       "4                      1                   1                     1   \n",
       "\n",
       "   setup_objects_used  ...  ast_ngram_constraints_n_6_score  \\\n",
       "0                1.00  ...                         0.976714   \n",
       "1                1.00  ...                         0.986443   \n",
       "2                0.00  ...                         0.976849   \n",
       "3                0.00  ...                         0.986600   \n",
       "4                0.25  ...                         0.985217   \n",
       "\n",
       "   ast_ngram_constraints_n_7_score  ast_ngram_terminal_n_2_score  \\\n",
       "0                         0.984956                      0.942266   \n",
       "1                         0.986721                      0.935275   \n",
       "2                         0.981247                      0.000000   \n",
       "3                         0.986476                      0.000000   \n",
       "4                         0.983768                      0.000000   \n",
       "\n",
       "   ast_ngram_terminal_n_3_score  ast_ngram_terminal_n_4_score  \\\n",
       "0                      0.970180                      0.973574   \n",
       "1                      0.965656                      0.967074   \n",
       "2                      0.000000                      0.000000   \n",
       "3                      0.000000                      0.000000   \n",
       "4                      0.000000                      0.000000   \n",
       "\n",
       "   ast_ngram_terminal_n_5_score  ast_ngram_scoring_n_2_score  \\\n",
       "0                      0.978002                     0.725160   \n",
       "1                      0.978883                     0.670913   \n",
       "2                      0.000000                     0.452633   \n",
       "3                      0.000000                     0.725160   \n",
       "4                      0.000000                     0.937248   \n",
       "\n",
       "   ast_ngram_scoring_n_3_score  ast_ngram_scoring_n_4_score  \\\n",
       "0                     0.761936                     0.942521   \n",
       "1                     0.801850                     0.870098   \n",
       "2                     0.593800                     0.814709   \n",
       "3                     0.761936                     0.942521   \n",
       "4                     0.947704                     0.933456   \n",
       "\n",
       "   ast_ngram_scoring_n_5_score  \n",
       "0                     0.975955  \n",
       "1                     0.924083  \n",
       "2                     0.883131  \n",
       "3                     0.975955  \n",
       "4                     0.976437  \n",
       "\n",
       "[5 rows x 348 columns]"
      ]
     },
     "execution_count": 4,
     "metadata": {},
     "output_type": "execute_result"
    }
   ],
   "source": [
    "fitness_df = utils.load_fitness_data('../data/fitness_features_1024_regrowths.csv.gz')\n",
    "print(fitness_df.src_file.unique())\n",
    "fitness_df.head()"
   ]
  },
  {
   "cell_type": "markdown",
   "metadata": {},
   "source": [
    "# Plan of attack\n",
    "* Use the code in `ast_counter_sampler.py` to generate a sample from the MLE\n",
    "* Score it with a fitness function adapted to working with a single example at a time\n",
    "* At each subsequent iteration, regrow the game from a random node, and score the regrowth\n",
    "* Since we have energy scores before and after, we can either accept greedily if $E_{new} < E_{old}$, or accept with probability $\\exp(\\beta (E_{old} - E_{new} ))$"
   ]
  },
  {
   "cell_type": "code",
   "execution_count": 5,
   "metadata": {},
   "outputs": [],
   "source": [
    "DEFAULT_ARGS = argparse.Namespace(\n",
    "    grammar_file=os.path.join('..', DEFAULT_GRAMMAR_FILE),\n",
    "    parse_counter=False,\n",
    "    counter_output_path=os.path.join('..', DEFAULT_COUNTER_OUTPUT_PATH),\n",
    "    random_seed=DEFUALT_RANDOM_SEED,\n",
    ")"
   ]
  },
  {
   "cell_type": "code",
   "execution_count": 6,
   "metadata": {},
   "outputs": [],
   "source": [
    "FITNESS_MODEL_DATE_ID = '2023_03_22_1'\n",
    "FITNESS_FEATURIZER_PATH = '../models/fitness_featurizer_2023_03_22.pkl.gz'\n",
    "\n",
    "\n",
    "mcmc = MCMCRegrowthSampler(DEFAULT_ARGS,\n",
    "    FITNESS_MODEL_DATE_ID, FITNESS_FEATURIZER_PATH, greedy_acceptance=True, \n",
    "    plateau_patience_steps=1000, max_steps=20000,\n",
    "    fitness_function_relative_path='..')  #   acceptance_temperature=10.0, "
   ]
  },
  {
   "cell_type": "code",
   "execution_count": null,
   "metadata": {},
   "outputs": [],
   "source": [
    "n_samples = 20\n",
    "mcmc.multiple_samples(n_samples, verbose=1, should_tqdm=True)"
   ]
  },
  {
   "cell_type": "code",
   "execution_count": null,
   "metadata": {},
   "outputs": [],
   "source": [
    "from argparse import Namespace\n",
    "from src.fitness_features import *\n",
    "args = Namespace(no_binarize=False, no_merge=True)\n",
    "featurizer = build_fitness_featurizer(args)\n",
    "r = featurizer.parse(mcmc.samples[4][0], '', return_row=True, preprocess_row=False)"
   ]
  },
  {
   "cell_type": "code",
   "execution_count": null,
   "metadata": {},
   "outputs": [],
   "source": []
  },
  {
   "attachments": {},
   "cell_type": "markdown",
   "metadata": {},
   "source": [
    "## Regrwoth from existing games"
   ]
  },
  {
   "cell_type": "code",
   "execution_count": 7,
   "metadata": {},
   "outputs": [
    {
     "name": "stdout",
     "output_type": "stream",
     "text": [
      "Generating samples starting from original index 5 (id 615b40bb6cdb0f1f6f291f45-8)\n",
      "Plateaued at step 1858 with energy -74.55762 (initial proposal energy: -74.37625)\n",
      "Plateaued at step 1001 with energy -74.37625 (initial proposal energy: -74.37625)\n",
      "Plateaued at step 1001 with energy -74.37625 (initial proposal energy: -74.37625)\n",
      "Plateaued at step 1001 with energy -74.37625 (initial proposal energy: -74.37625)\n",
      "Plateaued at step 1001 with energy -74.37625 (initial proposal energy: -74.37625)\n",
      "Generating samples starting from original index 6 (id 615452aaabb932ada88ef3ca-9)\n",
      "Plateaued at step 2419 with energy -77.46062 (initial proposal energy: -74.68936)\n",
      "Plateaued at step 2674 with energy -77.42605 (initial proposal energy: -74.68936)\n",
      "Plateaued at step 2309 with energy -77.43309 (initial proposal energy: -74.68936)\n",
      "Plateaued at step 1132 with energy -76.38680 (initial proposal energy: -74.68936)\n",
      "Plateaued at step 2214 with energy -76.39244 (initial proposal energy: -74.68936)\n",
      "Generating samples starting from original index 7 (id 57aa430b4cda6e00018420e9-10)\n",
      "Plateaued at step 1001 with energy -75.60009 (initial proposal energy: -75.60009)\n",
      "Plateaued at step 1001 with energy -75.60009 (initial proposal energy: -75.60009)\n",
      "Plateaued at step 1001 with energy -75.60009 (initial proposal energy: -75.60009)\n",
      "Plateaued at step 1001 with energy -75.60009 (initial proposal energy: -75.60009)\n",
      "Plateaued at step 1001 with energy -75.60009 (initial proposal energy: -75.60009)\n",
      "Generating samples starting from original index 8 (id 5d29412ab711e9001ab74ece-11)\n",
      "Plateaued at step 1001 with energy -74.67530 (initial proposal energy: -74.67530)\n",
      "Plateaued at step 1001 with energy -74.67530 (initial proposal energy: -74.67530)\n",
      "Plateaued at step 1001 with energy -74.67530 (initial proposal energy: -74.67530)\n",
      "Plateaued at step 1001 with energy -74.67530 (initial proposal energy: -74.67530)\n",
      "Plateaued at step 1001 with energy -74.67530 (initial proposal energy: -74.67530)\n",
      "Generating samples starting from original index 9 (id 613bb29f16252362f4dc11a3-12)\n",
      "Plateaued at step 1363 with energy -75.95825 (initial proposal energy: -74.36622)\n",
      "Plateaued at step 1167 with energy -74.91682 (initial proposal energy: -74.36622)\n",
      "Plateaued at step 1738 with energy -74.91682 (initial proposal energy: -74.36622)\n",
      "Plateaued at step 1084 with energy -74.91682 (initial proposal energy: -74.36622)\n",
      "Plateaued at step 1186 with energy -75.14204 (initial proposal energy: -74.36622)\n",
      "Generating samples starting from original index 10 (id 616e5ae706e970fe0aff99b6-13)\n",
      "Plateaued at step 1718 with energy -75.04888 (initial proposal energy: -74.97653)\n",
      "Plateaued at step 1305 with energy -76.40481 (initial proposal energy: -74.97653)\n",
      "Plateaued at step 1153 with energy -75.35414 (initial proposal energy: -74.97653)\n",
      "Plateaued at step 2114 with energy -75.35414 (initial proposal energy: -74.97653)\n",
      "Plateaued at step 1908 with energy -75.35414 (initial proposal energy: -74.97653)\n",
      "Generating samples starting from original index 11 (id 609c15fd6888b88a23312c4-14)\n",
      "Plateaued at step 1001 with energy -76.26812 (initial proposal energy: -76.26812)\n",
      "Plateaued at step 1001 with energy -76.26812 (initial proposal energy: -76.26812)\n",
      "Plateaued at step 1001 with energy -76.26812 (initial proposal energy: -76.26812)\n",
      "Plateaued at step 1001 with energy -76.26812 (initial proposal energy: -76.26812)\n",
      "Plateaued at step 1001 with energy -76.26812 (initial proposal energy: -76.26812)\n",
      "Generating samples starting from original index 12 (id 5f5d6c3cbacc025bf0a03440-15)\n",
      "Plateaued at step 1120 with energy -74.32761 (initial proposal energy: -74.30650)\n",
      "Plateaued at step 2152 with energy -75.15148 (initial proposal energy: -74.30650)\n",
      "Plateaued at step 1265 with energy -74.32761 (initial proposal energy: -74.30650)\n",
      "Plateaued at step 1001 with energy -74.30650 (initial proposal energy: -74.30650)\n",
      "Plateaued at step 1001 with energy -74.30650 (initial proposal energy: -74.30650)\n",
      "Generating samples starting from original index 13 (id 616e4f7a16145200573161a6-16)\n",
      "Plateaued at step 1284 with energy -74.33938 (initial proposal energy: -74.10909)\n",
      "Plateaued at step 1254 with energy -74.33938 (initial proposal energy: -74.10909)\n",
      "Plateaued at step 2104 with energy -74.52361 (initial proposal energy: -74.10909)\n",
      "Plateaued at step 1299 with energy -74.33938 (initial proposal energy: -74.10909)\n",
      "Plateaued at step 1079 with energy -74.33938 (initial proposal energy: -74.10909)\n",
      "Generating samples starting from original index 14 (id 613e4bf960ca68f8de00e5e7-17)\n",
      "Plateaued at step 1054 with energy -73.84727 (initial proposal energy: -73.84229)\n",
      "Plateaued at step 1872 with energy -73.84727 (initial proposal energy: -73.84229)\n",
      "Plateaued at step 1001 with energy -73.84229 (initial proposal energy: -73.84229)\n",
      "Plateaued at step 1001 with energy -73.84229 (initial proposal energy: -73.84229)\n",
      "Plateaued at step 1193 with energy -73.84727 (initial proposal energy: -73.84229)\n"
     ]
    }
   ],
   "source": [
    "n_samples = 5\n",
    "n_games = 10\n",
    "start = 5\n",
    "end = start + n_games\n",
    "\n",
    "\n",
    "for original_index in range(start, end):\n",
    "    print(f'Generating samples starting from original index {original_index} (id {_extract_game_id(real_game_texts[original_index])})')\n",
    "    mcmc.multiple_samples(n_samples, verbose=1, should_tqdm=False, initial_proposal=game_asts[original_index], postprocess=False)\n",
    "\n",
    "    # print()\n",
    "    # for i in range(n_samples * (original_index - start), n_samples * (original_index - start + 1)):\n",
    "    #     print(i, mcmc.samples[i][2])"
   ]
  },
  {
   "cell_type": "code",
   "execution_count": 120,
   "metadata": {},
   "outputs": [
    {
     "data": {
      "text/markdown": [
       "### Energy of real game: -74.307 | Energy of regrown game: -74.307 | Difference: 0.000"
      ],
      "text/plain": [
       "<IPython.core.display.Markdown object>"
      ]
     },
     "metadata": {},
     "output_type": "display_data"
    },
    {
     "data": {
      "text/markdown": [
       "### Top features changing the game's energy\n",
       "feature name: **value** = (original feature value => regrown feature value) * weight"
      ],
      "text/plain": [
       "<IPython.core.display.Markdown object>"
      ]
     },
     "metadata": {},
     "output_type": "display_data"
    },
    {
     "data": {
      "text/markdown": [
       "| Features increasing energy (= more fake)   | Features decreasing energy (= more real)   |\n",
       "|--------------------------------------------|--------------------------------------------|"
      ],
      "text/plain": [
       "<IPython.core.display.Markdown object>"
      ]
     },
     "metadata": {},
     "output_type": "display_data"
    },
    {
     "data": {
      "text/markdown": [
       "### Game Diffs"
      ],
      "text/plain": [
       "<IPython.core.display.Markdown object>"
      ]
     },
     "metadata": {},
     "output_type": "display_data"
    },
    {
     "data": {
      "text/html": [
       "\n",
       "<!DOCTYPE html PUBLIC \"-//W3C//DTD XHTML 1.0 Transitional//EN\"\n",
       "          \"http://www.w3.org/TR/xhtml1/DTD/xhtml1-transitional.dtd\">\n",
       "\n",
       "<html>\n",
       "\n",
       "<head>\n",
       "    <meta http-equiv=\"Content-Type\"\n",
       "          content=\"text/html; charset=utf-8\" />\n",
       "    <title></title>\n",
       "    <style type=\"text/css\">\n",
       "        table.diff {font-family:Courier; border:medium;}\n",
       "        .diff_header {background-color:#e0e0e0}\n",
       "        .diff td {text-align: left !important}\n",
       ".diff th {text-align: center!important }\n",
       ".diff td.diff_header {text-align:right !important}\n",
       "        .diff_next {background-color:#c0c0c0}\n",
       "        .diff_add {background-color: #6fa66f !important; font-weight: bold !important}\n",
       "        .diff_chg {background-color: #999949 !important; font-weight: bold !important}\n",
       "        .diff_sub {background-color: #a66f6f !important; font-weight: bold !important}\n",
       "    </style>\n",
       "</head>\n",
       "\n",
       "<body>\n",
       "    \n",
       "    <table class=\"diff\" id=\"difflib_chg_to54__top\"\n",
       "           cellspacing=\"0\" cellpadding=\"0\" rules=\"groups\" >\n",
       "        <colgroup></colgroup> <colgroup></colgroup> <colgroup></colgroup>\n",
       "        <colgroup></colgroup> <colgroup></colgroup> <colgroup></colgroup>\n",
       "        \n",
       "        <tbody>\n",
       "            <tr><td class=\"diff_next\"><a href=\"#difflib_chg_to54__top\">t</a></td><td class=\"diff_header\" id=\"from54_1\">1</td><td nowrap=\"nowrap\">(define&nbsp;(game&nbsp;5f5d6c3cbacc025bf0a03440-15)&nbsp;(:domain&nbsp;few-objects-room-v1)</td><td class=\"diff_next\"><a href=\"#difflib_chg_to54__top\">t</a></td><td class=\"diff_header\" id=\"to54_1\">1</td><td nowrap=\"nowrap\">(define&nbsp;(game&nbsp;5f5d6c3cbacc025bf0a03440-15)&nbsp;(:domain&nbsp;few-objects-room-v1)</td></tr>\n",
       "            <tr><td class=\"diff_next\"></td><td class=\"diff_header\" id=\"from54_2\">2</td><td nowrap=\"nowrap\">(:setup</td><td class=\"diff_next\"></td><td class=\"diff_header\" id=\"to54_2\">2</td><td nowrap=\"nowrap\">(:setup</td></tr>\n",
       "            <tr><td class=\"diff_next\"></td><td class=\"diff_header\" id=\"from54_3\">3</td><td nowrap=\"nowrap\">&nbsp;&nbsp;(and</td><td class=\"diff_next\"></td><td class=\"diff_header\" id=\"to54_3\">3</td><td nowrap=\"nowrap\">&nbsp;&nbsp;(and</td></tr>\n",
       "            <tr><td class=\"diff_next\"></td><td class=\"diff_header\" id=\"from54_4\">4</td><td nowrap=\"nowrap\">&nbsp;&nbsp;&nbsp;&nbsp;(exists&nbsp;(?h&nbsp;-&nbsp;hexagonal_bin&nbsp;?b&nbsp;-&nbsp;building)</td><td class=\"diff_next\"></td><td class=\"diff_header\" id=\"to54_4\">4</td><td nowrap=\"nowrap\">&nbsp;&nbsp;&nbsp;&nbsp;(exists&nbsp;(?h&nbsp;-&nbsp;hexagonal_bin&nbsp;?b&nbsp;-&nbsp;building)</td></tr>\n",
       "            <tr><td class=\"diff_next\"></td><td class=\"diff_header\" id=\"from54_5\">5</td><td nowrap=\"nowrap\">&nbsp;&nbsp;&nbsp;&nbsp;&nbsp;&nbsp;(and</td><td class=\"diff_next\"></td><td class=\"diff_header\" id=\"to54_5\">5</td><td nowrap=\"nowrap\">&nbsp;&nbsp;&nbsp;&nbsp;&nbsp;&nbsp;(and</td></tr>\n",
       "            <tr><td class=\"diff_next\"></td><td class=\"diff_header\" id=\"from54_6\">6</td><td nowrap=\"nowrap\">&nbsp;&nbsp;&nbsp;&nbsp;&nbsp;&nbsp;&nbsp;&nbsp;(game-conserved</td><td class=\"diff_next\"></td><td class=\"diff_header\" id=\"to54_6\">6</td><td nowrap=\"nowrap\">&nbsp;&nbsp;&nbsp;&nbsp;&nbsp;&nbsp;&nbsp;&nbsp;(game-conserved</td></tr>\n",
       "            <tr><td class=\"diff_next\"></td><td class=\"diff_header\" id=\"from54_7\">7</td><td nowrap=\"nowrap\">&nbsp;&nbsp;&nbsp;&nbsp;&nbsp;&nbsp;&nbsp;&nbsp;&nbsp;&nbsp;(adjacent&nbsp;?h&nbsp;bed)</td><td class=\"diff_next\"></td><td class=\"diff_header\" id=\"to54_7\">7</td><td nowrap=\"nowrap\">&nbsp;&nbsp;&nbsp;&nbsp;&nbsp;&nbsp;&nbsp;&nbsp;&nbsp;&nbsp;(adjacent&nbsp;?h&nbsp;bed)</td></tr>\n",
       "            <tr><td class=\"diff_next\"></td><td class=\"diff_header\" id=\"from54_8\">8</td><td nowrap=\"nowrap\">&nbsp;&nbsp;&nbsp;&nbsp;&nbsp;&nbsp;&nbsp;&nbsp;)</td><td class=\"diff_next\"></td><td class=\"diff_header\" id=\"to54_8\">8</td><td nowrap=\"nowrap\">&nbsp;&nbsp;&nbsp;&nbsp;&nbsp;&nbsp;&nbsp;&nbsp;)</td></tr>\n",
       "            <tr><td class=\"diff_next\"></td><td class=\"diff_header\" id=\"from54_9\">9</td><td nowrap=\"nowrap\">&nbsp;&nbsp;&nbsp;&nbsp;&nbsp;&nbsp;&nbsp;&nbsp;(game-conserved</td><td class=\"diff_next\"></td><td class=\"diff_header\" id=\"to54_9\">9</td><td nowrap=\"nowrap\">&nbsp;&nbsp;&nbsp;&nbsp;&nbsp;&nbsp;&nbsp;&nbsp;(game-conserved</td></tr>\n",
       "            <tr><td class=\"diff_next\"></td><td class=\"diff_header\" id=\"from54_10\">10</td><td nowrap=\"nowrap\">&nbsp;&nbsp;&nbsp;&nbsp;&nbsp;&nbsp;&nbsp;&nbsp;&nbsp;&nbsp;(object_orientation&nbsp;?h&nbsp;upside_down)</td><td class=\"diff_next\"></td><td class=\"diff_header\" id=\"to54_10\">10</td><td nowrap=\"nowrap\">&nbsp;&nbsp;&nbsp;&nbsp;&nbsp;&nbsp;&nbsp;&nbsp;&nbsp;&nbsp;(object_orientation&nbsp;?h&nbsp;upside_down)</td></tr>\n",
       "            <tr><td class=\"diff_next\"></td><td class=\"diff_header\" id=\"from54_11\">11</td><td nowrap=\"nowrap\">&nbsp;&nbsp;&nbsp;&nbsp;&nbsp;&nbsp;&nbsp;&nbsp;)</td><td class=\"diff_next\"></td><td class=\"diff_header\" id=\"to54_11\">11</td><td nowrap=\"nowrap\">&nbsp;&nbsp;&nbsp;&nbsp;&nbsp;&nbsp;&nbsp;&nbsp;)</td></tr>\n",
       "            <tr><td class=\"diff_next\"></td><td class=\"diff_header\" id=\"from54_12\">12</td><td nowrap=\"nowrap\">&nbsp;&nbsp;&nbsp;&nbsp;&nbsp;&nbsp;&nbsp;&nbsp;(game-optional</td><td class=\"diff_next\"></td><td class=\"diff_header\" id=\"to54_12\">12</td><td nowrap=\"nowrap\">&nbsp;&nbsp;&nbsp;&nbsp;&nbsp;&nbsp;&nbsp;&nbsp;(game-optional</td></tr>\n",
       "            <tr><td class=\"diff_next\"></td><td class=\"diff_header\" id=\"from54_13\">13</td><td nowrap=\"nowrap\">&nbsp;&nbsp;&nbsp;&nbsp;&nbsp;&nbsp;&nbsp;&nbsp;&nbsp;&nbsp;(on&nbsp;?h&nbsp;?b)</td><td class=\"diff_next\"></td><td class=\"diff_header\" id=\"to54_13\">13</td><td nowrap=\"nowrap\">&nbsp;&nbsp;&nbsp;&nbsp;&nbsp;&nbsp;&nbsp;&nbsp;&nbsp;&nbsp;(on&nbsp;?h&nbsp;?b)</td></tr>\n",
       "            <tr><td class=\"diff_next\"></td><td class=\"diff_header\" id=\"from54_14\">14</td><td nowrap=\"nowrap\">&nbsp;&nbsp;&nbsp;&nbsp;&nbsp;&nbsp;&nbsp;&nbsp;)</td><td class=\"diff_next\"></td><td class=\"diff_header\" id=\"to54_14\">14</td><td nowrap=\"nowrap\">&nbsp;&nbsp;&nbsp;&nbsp;&nbsp;&nbsp;&nbsp;&nbsp;)</td></tr>\n",
       "            <tr><td class=\"diff_next\"></td><td class=\"diff_header\" id=\"from54_15\">15</td><td nowrap=\"nowrap\">&nbsp;&nbsp;&nbsp;&nbsp;&nbsp;&nbsp;&nbsp;&nbsp;(forall&nbsp;(?c&nbsp;-&nbsp;cube_block)</td><td class=\"diff_next\"></td><td class=\"diff_header\" id=\"to54_15\">15</td><td nowrap=\"nowrap\">&nbsp;&nbsp;&nbsp;&nbsp;&nbsp;&nbsp;&nbsp;&nbsp;(forall&nbsp;(?c&nbsp;-&nbsp;cube_block)</td></tr>\n",
       "            <tr><td class=\"diff_next\"></td><td class=\"diff_header\" id=\"from54_16\">16</td><td nowrap=\"nowrap\">&nbsp;&nbsp;&nbsp;&nbsp;&nbsp;&nbsp;&nbsp;&nbsp;&nbsp;&nbsp;(game-optional</td><td class=\"diff_next\"></td><td class=\"diff_header\" id=\"to54_16\">16</td><td nowrap=\"nowrap\">&nbsp;&nbsp;&nbsp;&nbsp;&nbsp;&nbsp;&nbsp;&nbsp;&nbsp;&nbsp;(game-optional</td></tr>\n",
       "            <tr><td class=\"diff_next\"></td><td class=\"diff_header\" id=\"from54_17\">17</td><td nowrap=\"nowrap\">&nbsp;&nbsp;&nbsp;&nbsp;&nbsp;&nbsp;&nbsp;&nbsp;&nbsp;&nbsp;&nbsp;&nbsp;(in&nbsp;?b&nbsp;?c)</td><td class=\"diff_next\"></td><td class=\"diff_header\" id=\"to54_17\">17</td><td nowrap=\"nowrap\">&nbsp;&nbsp;&nbsp;&nbsp;&nbsp;&nbsp;&nbsp;&nbsp;&nbsp;&nbsp;&nbsp;&nbsp;(in&nbsp;?b&nbsp;?c)</td></tr>\n",
       "            <tr><td class=\"diff_next\"></td><td class=\"diff_header\" id=\"from54_18\">18</td><td nowrap=\"nowrap\">&nbsp;&nbsp;&nbsp;&nbsp;&nbsp;&nbsp;&nbsp;&nbsp;&nbsp;&nbsp;)</td><td class=\"diff_next\"></td><td class=\"diff_header\" id=\"to54_18\">18</td><td nowrap=\"nowrap\">&nbsp;&nbsp;&nbsp;&nbsp;&nbsp;&nbsp;&nbsp;&nbsp;&nbsp;&nbsp;)</td></tr>\n",
       "            <tr><td class=\"diff_next\"></td><td class=\"diff_header\" id=\"from54_19\">19</td><td nowrap=\"nowrap\">&nbsp;&nbsp;&nbsp;&nbsp;&nbsp;&nbsp;&nbsp;&nbsp;)</td><td class=\"diff_next\"></td><td class=\"diff_header\" id=\"to54_19\">19</td><td nowrap=\"nowrap\">&nbsp;&nbsp;&nbsp;&nbsp;&nbsp;&nbsp;&nbsp;&nbsp;)</td></tr>\n",
       "            <tr><td class=\"diff_next\"></td><td class=\"diff_header\" id=\"from54_20\">20</td><td nowrap=\"nowrap\">&nbsp;&nbsp;&nbsp;&nbsp;&nbsp;&nbsp;&nbsp;&nbsp;(exists&nbsp;(?c1&nbsp;?c2&nbsp;?c3&nbsp;?c4&nbsp;?c5&nbsp;?c6&nbsp;-&nbsp;cube_block)</td><td class=\"diff_next\"></td><td class=\"diff_header\" id=\"to54_20\">20</td><td nowrap=\"nowrap\">&nbsp;&nbsp;&nbsp;&nbsp;&nbsp;&nbsp;&nbsp;&nbsp;(exists&nbsp;(?c1&nbsp;?c2&nbsp;?c3&nbsp;?c4&nbsp;?c5&nbsp;?c6&nbsp;-&nbsp;cube_block)</td></tr>\n",
       "            <tr><td class=\"diff_next\"></td><td class=\"diff_header\" id=\"from54_21\">21</td><td nowrap=\"nowrap\">&nbsp;&nbsp;&nbsp;&nbsp;&nbsp;&nbsp;&nbsp;&nbsp;&nbsp;&nbsp;(game-optional</td><td class=\"diff_next\"></td><td class=\"diff_header\" id=\"to54_21\">21</td><td nowrap=\"nowrap\">&nbsp;&nbsp;&nbsp;&nbsp;&nbsp;&nbsp;&nbsp;&nbsp;&nbsp;&nbsp;(game-optional</td></tr>\n",
       "            <tr><td class=\"diff_next\"></td><td class=\"diff_header\" id=\"from54_22\">22</td><td nowrap=\"nowrap\">&nbsp;&nbsp;&nbsp;&nbsp;&nbsp;&nbsp;&nbsp;&nbsp;&nbsp;&nbsp;&nbsp;&nbsp;(and</td><td class=\"diff_next\"></td><td class=\"diff_header\" id=\"to54_22\">22</td><td nowrap=\"nowrap\">&nbsp;&nbsp;&nbsp;&nbsp;&nbsp;&nbsp;&nbsp;&nbsp;&nbsp;&nbsp;&nbsp;&nbsp;(and</td></tr>\n",
       "            <tr><td class=\"diff_next\"></td><td class=\"diff_header\" id=\"from54_23\">23</td><td nowrap=\"nowrap\">&nbsp;&nbsp;&nbsp;&nbsp;&nbsp;&nbsp;&nbsp;&nbsp;&nbsp;&nbsp;&nbsp;&nbsp;&nbsp;&nbsp;(on&nbsp;?h&nbsp;?c1)</td><td class=\"diff_next\"></td><td class=\"diff_header\" id=\"to54_23\">23</td><td nowrap=\"nowrap\">&nbsp;&nbsp;&nbsp;&nbsp;&nbsp;&nbsp;&nbsp;&nbsp;&nbsp;&nbsp;&nbsp;&nbsp;&nbsp;&nbsp;(on&nbsp;?h&nbsp;?c1)</td></tr>\n",
       "            <tr><td class=\"diff_next\"></td><td class=\"diff_header\" id=\"from54_24\">24</td><td nowrap=\"nowrap\">&nbsp;&nbsp;&nbsp;&nbsp;&nbsp;&nbsp;&nbsp;&nbsp;&nbsp;&nbsp;&nbsp;&nbsp;&nbsp;&nbsp;(on&nbsp;?h&nbsp;?c2)</td><td class=\"diff_next\"></td><td class=\"diff_header\" id=\"to54_24\">24</td><td nowrap=\"nowrap\">&nbsp;&nbsp;&nbsp;&nbsp;&nbsp;&nbsp;&nbsp;&nbsp;&nbsp;&nbsp;&nbsp;&nbsp;&nbsp;&nbsp;(on&nbsp;?h&nbsp;?c2)</td></tr>\n",
       "            <tr><td class=\"diff_next\"></td><td class=\"diff_header\" id=\"from54_25\">25</td><td nowrap=\"nowrap\">&nbsp;&nbsp;&nbsp;&nbsp;&nbsp;&nbsp;&nbsp;&nbsp;&nbsp;&nbsp;&nbsp;&nbsp;&nbsp;&nbsp;(on&nbsp;?h&nbsp;?c3)</td><td class=\"diff_next\"></td><td class=\"diff_header\" id=\"to54_25\">25</td><td nowrap=\"nowrap\">&nbsp;&nbsp;&nbsp;&nbsp;&nbsp;&nbsp;&nbsp;&nbsp;&nbsp;&nbsp;&nbsp;&nbsp;&nbsp;&nbsp;(on&nbsp;?h&nbsp;?c3)</td></tr>\n",
       "            <tr><td class=\"diff_next\"></td><td class=\"diff_header\" id=\"from54_26\">26</td><td nowrap=\"nowrap\">&nbsp;&nbsp;&nbsp;&nbsp;&nbsp;&nbsp;&nbsp;&nbsp;&nbsp;&nbsp;&nbsp;&nbsp;&nbsp;&nbsp;(on&nbsp;?c1&nbsp;?c4)</td><td class=\"diff_next\"></td><td class=\"diff_header\" id=\"to54_26\">26</td><td nowrap=\"nowrap\">&nbsp;&nbsp;&nbsp;&nbsp;&nbsp;&nbsp;&nbsp;&nbsp;&nbsp;&nbsp;&nbsp;&nbsp;&nbsp;&nbsp;(on&nbsp;?c1&nbsp;?c4)</td></tr>\n",
       "            <tr><td class=\"diff_next\"></td><td class=\"diff_header\" id=\"from54_27\">27</td><td nowrap=\"nowrap\">&nbsp;&nbsp;&nbsp;&nbsp;&nbsp;&nbsp;&nbsp;&nbsp;&nbsp;&nbsp;&nbsp;&nbsp;&nbsp;&nbsp;(on&nbsp;?c2&nbsp;?c5)</td><td class=\"diff_next\"></td><td class=\"diff_header\" id=\"to54_27\">27</td><td nowrap=\"nowrap\">&nbsp;&nbsp;&nbsp;&nbsp;&nbsp;&nbsp;&nbsp;&nbsp;&nbsp;&nbsp;&nbsp;&nbsp;&nbsp;&nbsp;(on&nbsp;?c2&nbsp;?c5)</td></tr>\n",
       "            <tr><td class=\"diff_next\"></td><td class=\"diff_header\" id=\"from54_28\">28</td><td nowrap=\"nowrap\">&nbsp;&nbsp;&nbsp;&nbsp;&nbsp;&nbsp;&nbsp;&nbsp;&nbsp;&nbsp;&nbsp;&nbsp;&nbsp;&nbsp;(on&nbsp;?c4&nbsp;?c6)</td><td class=\"diff_next\"></td><td class=\"diff_header\" id=\"to54_28\">28</td><td nowrap=\"nowrap\">&nbsp;&nbsp;&nbsp;&nbsp;&nbsp;&nbsp;&nbsp;&nbsp;&nbsp;&nbsp;&nbsp;&nbsp;&nbsp;&nbsp;(on&nbsp;?c4&nbsp;?c6)</td></tr>\n",
       "            <tr><td class=\"diff_next\"></td><td class=\"diff_header\" id=\"from54_29\">29</td><td nowrap=\"nowrap\">&nbsp;&nbsp;&nbsp;&nbsp;&nbsp;&nbsp;&nbsp;&nbsp;&nbsp;&nbsp;&nbsp;&nbsp;)</td><td class=\"diff_next\"></td><td class=\"diff_header\" id=\"to54_29\">29</td><td nowrap=\"nowrap\">&nbsp;&nbsp;&nbsp;&nbsp;&nbsp;&nbsp;&nbsp;&nbsp;&nbsp;&nbsp;&nbsp;&nbsp;)</td></tr>\n",
       "            <tr><td class=\"diff_next\"></td><td class=\"diff_header\" id=\"from54_30\">30</td><td nowrap=\"nowrap\">&nbsp;&nbsp;&nbsp;&nbsp;&nbsp;&nbsp;&nbsp;&nbsp;&nbsp;&nbsp;)</td><td class=\"diff_next\"></td><td class=\"diff_header\" id=\"to54_30\">30</td><td nowrap=\"nowrap\">&nbsp;&nbsp;&nbsp;&nbsp;&nbsp;&nbsp;&nbsp;&nbsp;&nbsp;&nbsp;)</td></tr>\n",
       "            <tr><td class=\"diff_next\"></td><td class=\"diff_header\" id=\"from54_31\">31</td><td nowrap=\"nowrap\">&nbsp;&nbsp;&nbsp;&nbsp;&nbsp;&nbsp;&nbsp;&nbsp;)</td><td class=\"diff_next\"></td><td class=\"diff_header\" id=\"to54_31\">31</td><td nowrap=\"nowrap\">&nbsp;&nbsp;&nbsp;&nbsp;&nbsp;&nbsp;&nbsp;&nbsp;)</td></tr>\n",
       "            <tr><td class=\"diff_next\"></td><td class=\"diff_header\" id=\"from54_32\">32</td><td nowrap=\"nowrap\">&nbsp;&nbsp;&nbsp;&nbsp;&nbsp;&nbsp;)</td><td class=\"diff_next\"></td><td class=\"diff_header\" id=\"to54_32\">32</td><td nowrap=\"nowrap\">&nbsp;&nbsp;&nbsp;&nbsp;&nbsp;&nbsp;)</td></tr>\n",
       "            <tr><td class=\"diff_next\"></td><td class=\"diff_header\" id=\"from54_33\">33</td><td nowrap=\"nowrap\">&nbsp;&nbsp;&nbsp;&nbsp;)</td><td class=\"diff_next\"></td><td class=\"diff_header\" id=\"to54_33\">33</td><td nowrap=\"nowrap\">&nbsp;&nbsp;&nbsp;&nbsp;)</td></tr>\n",
       "            <tr><td class=\"diff_next\"></td><td class=\"diff_header\" id=\"from54_34\">34</td><td nowrap=\"nowrap\">&nbsp;&nbsp;)</td><td class=\"diff_next\"></td><td class=\"diff_header\" id=\"to54_34\">34</td><td nowrap=\"nowrap\">&nbsp;&nbsp;)</td></tr>\n",
       "            <tr><td class=\"diff_next\"></td><td class=\"diff_header\" id=\"from54_35\">35</td><td nowrap=\"nowrap\">)</td><td class=\"diff_next\"></td><td class=\"diff_header\" id=\"to54_35\">35</td><td nowrap=\"nowrap\">)</td></tr>\n",
       "            <tr><td class=\"diff_next\"></td><td class=\"diff_header\" id=\"from54_36\">36</td><td nowrap=\"nowrap\">(:constraints</td><td class=\"diff_next\"></td><td class=\"diff_header\" id=\"to54_36\">36</td><td nowrap=\"nowrap\">(:constraints</td></tr>\n",
       "            <tr><td class=\"diff_next\"></td><td class=\"diff_header\" id=\"from54_37\">37</td><td nowrap=\"nowrap\">&nbsp;&nbsp;(and</td><td class=\"diff_next\"></td><td class=\"diff_header\" id=\"to54_37\">37</td><td nowrap=\"nowrap\">&nbsp;&nbsp;(and</td></tr>\n",
       "            <tr><td class=\"diff_next\"></td><td class=\"diff_header\" id=\"from54_38\">38</td><td nowrap=\"nowrap\">&nbsp;&nbsp;&nbsp;&nbsp;(preference&nbsp;blockInTowerKnockedByDodgeball</td><td class=\"diff_next\"></td><td class=\"diff_header\" id=\"to54_38\">38</td><td nowrap=\"nowrap\">&nbsp;&nbsp;&nbsp;&nbsp;(preference&nbsp;blockInTowerKnockedByDodgeball</td></tr>\n",
       "            <tr><td class=\"diff_next\"></td><td class=\"diff_header\" id=\"from54_39\">39</td><td nowrap=\"nowrap\">&nbsp;&nbsp;&nbsp;&nbsp;&nbsp;&nbsp;(exists&nbsp;(?b&nbsp;-&nbsp;building&nbsp;?c&nbsp;-&nbsp;cube_block&nbsp;?d&nbsp;-&nbsp;dodgeball&nbsp;?h&nbsp;-&nbsp;hexagonal_bin&nbsp;?r&nbsp;-&nbsp;chair)</td><td class=\"diff_next\"></td><td class=\"diff_header\" id=\"to54_39\">39</td><td nowrap=\"nowrap\">&nbsp;&nbsp;&nbsp;&nbsp;&nbsp;&nbsp;(exists&nbsp;(?b&nbsp;-&nbsp;building&nbsp;?c&nbsp;-&nbsp;cube_block&nbsp;?d&nbsp;-&nbsp;dodgeball&nbsp;?h&nbsp;-&nbsp;hexagonal_bin&nbsp;?r&nbsp;-&nbsp;chair)</td></tr>\n",
       "            <tr><td class=\"diff_next\"></td><td class=\"diff_header\" id=\"from54_40\">40</td><td nowrap=\"nowrap\">&nbsp;&nbsp;&nbsp;&nbsp;&nbsp;&nbsp;&nbsp;&nbsp;(then</td><td class=\"diff_next\"></td><td class=\"diff_header\" id=\"to54_40\">40</td><td nowrap=\"nowrap\">&nbsp;&nbsp;&nbsp;&nbsp;&nbsp;&nbsp;&nbsp;&nbsp;(then</td></tr>\n",
       "            <tr><td class=\"diff_next\"></td><td class=\"diff_header\" id=\"from54_41\">41</td><td nowrap=\"nowrap\">&nbsp;&nbsp;&nbsp;&nbsp;&nbsp;&nbsp;&nbsp;&nbsp;&nbsp;&nbsp;(once&nbsp;(and&nbsp;(agent_holds&nbsp;?d)&nbsp;(adjacent&nbsp;?r&nbsp;agent)&nbsp;(on&nbsp;?h&nbsp;?b)&nbsp;(in&nbsp;?b&nbsp;?c)&nbsp;)&nbsp;)</td><td class=\"diff_next\"></td><td class=\"diff_header\" id=\"to54_41\">41</td><td nowrap=\"nowrap\">&nbsp;&nbsp;&nbsp;&nbsp;&nbsp;&nbsp;&nbsp;&nbsp;&nbsp;&nbsp;(once&nbsp;(and&nbsp;(agent_holds&nbsp;?d)&nbsp;(adjacent&nbsp;?r&nbsp;agent)&nbsp;(on&nbsp;?h&nbsp;?b)&nbsp;(in&nbsp;?b&nbsp;?c)&nbsp;)&nbsp;)</td></tr>\n",
       "            <tr><td class=\"diff_next\"></td><td class=\"diff_header\" id=\"from54_42\">42</td><td nowrap=\"nowrap\">&nbsp;&nbsp;&nbsp;&nbsp;&nbsp;&nbsp;&nbsp;&nbsp;&nbsp;&nbsp;(hold-while&nbsp;(and&nbsp;(not&nbsp;(agent_holds&nbsp;?d)&nbsp;)&nbsp;(in_motion&nbsp;?d)&nbsp;)&nbsp;(or&nbsp;(touch&nbsp;?c&nbsp;?d)&nbsp;(exists&nbsp;(?c2&nbsp;-</td><td class=\"diff_next\"></td><td class=\"diff_header\" id=\"to54_42\">42</td><td nowrap=\"nowrap\">&nbsp;&nbsp;&nbsp;&nbsp;&nbsp;&nbsp;&nbsp;&nbsp;&nbsp;&nbsp;(hold-while&nbsp;(and&nbsp;(not&nbsp;(agent_holds&nbsp;?d)&nbsp;)&nbsp;(in_motion&nbsp;?d)&nbsp;)&nbsp;(or&nbsp;(touch&nbsp;?c&nbsp;?d)&nbsp;(exists&nbsp;(?c2&nbsp;-</td></tr>\n",
       "            <tr><td class=\"diff_next\"></td><td class=\"diff_header\">></td><td nowrap=\"nowrap\">&nbsp;cube_block)&nbsp;(touch&nbsp;?c2&nbsp;?c)&nbsp;)&nbsp;)&nbsp;(in_motion&nbsp;?c)&nbsp;)</td><td class=\"diff_next\"></td><td class=\"diff_header\">></td><td nowrap=\"nowrap\">&nbsp;cube_block)&nbsp;(touch&nbsp;?c2&nbsp;?c)&nbsp;)&nbsp;)&nbsp;(in_motion&nbsp;?c)&nbsp;)</td></tr>\n",
       "            <tr><td class=\"diff_next\"></td><td class=\"diff_header\" id=\"from54_43\">43</td><td nowrap=\"nowrap\">&nbsp;&nbsp;&nbsp;&nbsp;&nbsp;&nbsp;&nbsp;&nbsp;&nbsp;&nbsp;(once&nbsp;(not&nbsp;(in_motion&nbsp;?c)&nbsp;)&nbsp;)</td><td class=\"diff_next\"></td><td class=\"diff_header\" id=\"to54_43\">43</td><td nowrap=\"nowrap\">&nbsp;&nbsp;&nbsp;&nbsp;&nbsp;&nbsp;&nbsp;&nbsp;&nbsp;&nbsp;(once&nbsp;(not&nbsp;(in_motion&nbsp;?c)&nbsp;)&nbsp;)</td></tr>\n",
       "            <tr><td class=\"diff_next\"></td><td class=\"diff_header\" id=\"from54_44\">44</td><td nowrap=\"nowrap\">&nbsp;&nbsp;&nbsp;&nbsp;&nbsp;&nbsp;&nbsp;&nbsp;)</td><td class=\"diff_next\"></td><td class=\"diff_header\" id=\"to54_44\">44</td><td nowrap=\"nowrap\">&nbsp;&nbsp;&nbsp;&nbsp;&nbsp;&nbsp;&nbsp;&nbsp;)</td></tr>\n",
       "            <tr><td class=\"diff_next\"></td><td class=\"diff_header\" id=\"from54_45\">45</td><td nowrap=\"nowrap\">&nbsp;&nbsp;&nbsp;&nbsp;&nbsp;&nbsp;)</td><td class=\"diff_next\"></td><td class=\"diff_header\" id=\"to54_45\">45</td><td nowrap=\"nowrap\">&nbsp;&nbsp;&nbsp;&nbsp;&nbsp;&nbsp;)</td></tr>\n",
       "            <tr><td class=\"diff_next\"></td><td class=\"diff_header\" id=\"from54_46\">46</td><td nowrap=\"nowrap\">&nbsp;&nbsp;&nbsp;&nbsp;)</td><td class=\"diff_next\"></td><td class=\"diff_header\" id=\"to54_46\">46</td><td nowrap=\"nowrap\">&nbsp;&nbsp;&nbsp;&nbsp;)</td></tr>\n",
       "            <tr><td class=\"diff_next\"></td><td class=\"diff_header\" id=\"from54_47\">47</td><td nowrap=\"nowrap\">&nbsp;&nbsp;&nbsp;&nbsp;(preference&nbsp;throwAttempt</td><td class=\"diff_next\"></td><td class=\"diff_header\" id=\"to54_47\">47</td><td nowrap=\"nowrap\">&nbsp;&nbsp;&nbsp;&nbsp;(preference&nbsp;throwAttempt</td></tr>\n",
       "            <tr><td class=\"diff_next\"></td><td class=\"diff_header\" id=\"from54_48\">48</td><td nowrap=\"nowrap\">&nbsp;&nbsp;&nbsp;&nbsp;&nbsp;&nbsp;(exists&nbsp;(?d&nbsp;-&nbsp;dodgeball)</td><td class=\"diff_next\"></td><td class=\"diff_header\" id=\"to54_48\">48</td><td nowrap=\"nowrap\">&nbsp;&nbsp;&nbsp;&nbsp;&nbsp;&nbsp;(exists&nbsp;(?d&nbsp;-&nbsp;dodgeball)</td></tr>\n",
       "            <tr><td class=\"diff_next\"></td><td class=\"diff_header\" id=\"from54_49\">49</td><td nowrap=\"nowrap\">&nbsp;&nbsp;&nbsp;&nbsp;&nbsp;&nbsp;&nbsp;&nbsp;(then</td><td class=\"diff_next\"></td><td class=\"diff_header\" id=\"to54_49\">49</td><td nowrap=\"nowrap\">&nbsp;&nbsp;&nbsp;&nbsp;&nbsp;&nbsp;&nbsp;&nbsp;(then</td></tr>\n",
       "            <tr><td class=\"diff_next\"></td><td class=\"diff_header\" id=\"from54_50\">50</td><td nowrap=\"nowrap\">&nbsp;&nbsp;&nbsp;&nbsp;&nbsp;&nbsp;&nbsp;&nbsp;&nbsp;&nbsp;(once&nbsp;(agent_holds&nbsp;?d)&nbsp;)</td><td class=\"diff_next\"></td><td class=\"diff_header\" id=\"to54_50\">50</td><td nowrap=\"nowrap\">&nbsp;&nbsp;&nbsp;&nbsp;&nbsp;&nbsp;&nbsp;&nbsp;&nbsp;&nbsp;(once&nbsp;(agent_holds&nbsp;?d)&nbsp;)</td></tr>\n",
       "            <tr><td class=\"diff_next\"></td><td class=\"diff_header\" id=\"from54_51\">51</td><td nowrap=\"nowrap\">&nbsp;&nbsp;&nbsp;&nbsp;&nbsp;&nbsp;&nbsp;&nbsp;&nbsp;&nbsp;(hold&nbsp;(and&nbsp;(not&nbsp;(agent_holds&nbsp;?d)&nbsp;)&nbsp;(in_motion&nbsp;?d)&nbsp;)&nbsp;)</td><td class=\"diff_next\"></td><td class=\"diff_header\" id=\"to54_51\">51</td><td nowrap=\"nowrap\">&nbsp;&nbsp;&nbsp;&nbsp;&nbsp;&nbsp;&nbsp;&nbsp;&nbsp;&nbsp;(hold&nbsp;(and&nbsp;(not&nbsp;(agent_holds&nbsp;?d)&nbsp;)&nbsp;(in_motion&nbsp;?d)&nbsp;)&nbsp;)</td></tr>\n",
       "            <tr><td class=\"diff_next\"></td><td class=\"diff_header\" id=\"from54_52\">52</td><td nowrap=\"nowrap\">&nbsp;&nbsp;&nbsp;&nbsp;&nbsp;&nbsp;&nbsp;&nbsp;&nbsp;&nbsp;(once&nbsp;(not&nbsp;(in_motion&nbsp;?d)&nbsp;)&nbsp;)</td><td class=\"diff_next\"></td><td class=\"diff_header\" id=\"to54_52\">52</td><td nowrap=\"nowrap\">&nbsp;&nbsp;&nbsp;&nbsp;&nbsp;&nbsp;&nbsp;&nbsp;&nbsp;&nbsp;(once&nbsp;(not&nbsp;(in_motion&nbsp;?d)&nbsp;)&nbsp;)</td></tr>\n",
       "            <tr><td class=\"diff_next\"></td><td class=\"diff_header\" id=\"from54_53\">53</td><td nowrap=\"nowrap\">&nbsp;&nbsp;&nbsp;&nbsp;&nbsp;&nbsp;&nbsp;&nbsp;)</td><td class=\"diff_next\"></td><td class=\"diff_header\" id=\"to54_53\">53</td><td nowrap=\"nowrap\">&nbsp;&nbsp;&nbsp;&nbsp;&nbsp;&nbsp;&nbsp;&nbsp;)</td></tr>\n",
       "            <tr><td class=\"diff_next\"></td><td class=\"diff_header\" id=\"from54_54\">54</td><td nowrap=\"nowrap\">&nbsp;&nbsp;&nbsp;&nbsp;&nbsp;&nbsp;)</td><td class=\"diff_next\"></td><td class=\"diff_header\" id=\"to54_54\">54</td><td nowrap=\"nowrap\">&nbsp;&nbsp;&nbsp;&nbsp;&nbsp;&nbsp;)</td></tr>\n",
       "            <tr><td class=\"diff_next\"></td><td class=\"diff_header\" id=\"from54_55\">55</td><td nowrap=\"nowrap\">&nbsp;&nbsp;&nbsp;&nbsp;)</td><td class=\"diff_next\"></td><td class=\"diff_header\" id=\"to54_55\">55</td><td nowrap=\"nowrap\">&nbsp;&nbsp;&nbsp;&nbsp;)</td></tr>\n",
       "            <tr><td class=\"diff_next\"></td><td class=\"diff_header\" id=\"from54_56\">56</td><td nowrap=\"nowrap\">&nbsp;&nbsp;)</td><td class=\"diff_next\"></td><td class=\"diff_header\" id=\"to54_56\">56</td><td nowrap=\"nowrap\">&nbsp;&nbsp;)</td></tr>\n",
       "            <tr><td class=\"diff_next\"></td><td class=\"diff_header\" id=\"from54_57\">57</td><td nowrap=\"nowrap\">)</td><td class=\"diff_next\"></td><td class=\"diff_header\" id=\"to54_57\">57</td><td nowrap=\"nowrap\">)</td></tr>\n",
       "            <tr><td class=\"diff_next\"></td><td class=\"diff_header\" id=\"from54_58\">58</td><td nowrap=\"nowrap\">(:terminal</td><td class=\"diff_next\"></td><td class=\"diff_header\" id=\"to54_58\">58</td><td nowrap=\"nowrap\">(:terminal</td></tr>\n",
       "            <tr><td class=\"diff_next\"></td><td class=\"diff_header\" id=\"from54_59\">59</td><td nowrap=\"nowrap\">&nbsp;&nbsp;(&gt;=&nbsp;(count-once-per-objects&nbsp;throwAttempt)&nbsp;2&nbsp;)</td><td class=\"diff_next\"></td><td class=\"diff_header\" id=\"to54_59\">59</td><td nowrap=\"nowrap\">&nbsp;&nbsp;(&gt;=&nbsp;(count-once-per-objects&nbsp;throwAttempt)&nbsp;2&nbsp;)</td></tr>\n",
       "            <tr><td class=\"diff_next\"></td><td class=\"diff_header\" id=\"from54_60\">60</td><td nowrap=\"nowrap\">)</td><td class=\"diff_next\"></td><td class=\"diff_header\" id=\"to54_60\">60</td><td nowrap=\"nowrap\">)</td></tr>\n",
       "            <tr><td class=\"diff_next\"></td><td class=\"diff_header\" id=\"from54_61\">61</td><td nowrap=\"nowrap\">(:scoring</td><td class=\"diff_next\"></td><td class=\"diff_header\" id=\"to54_61\">61</td><td nowrap=\"nowrap\">(:scoring</td></tr>\n",
       "            <tr><td class=\"diff_next\"></td><td class=\"diff_header\" id=\"from54_62\">62</td><td nowrap=\"nowrap\">&nbsp;&nbsp;(count-once-per-objects&nbsp;blockInTowerKnockedByDodgeball)</td><td class=\"diff_next\"></td><td class=\"diff_header\" id=\"to54_62\">62</td><td nowrap=\"nowrap\">&nbsp;&nbsp;(count-once-per-objects&nbsp;blockInTowerKnockedByDodgeball)</td></tr>\n",
       "            <tr><td class=\"diff_next\"></td><td class=\"diff_header\" id=\"from54_63\">63</td><td nowrap=\"nowrap\">)</td><td class=\"diff_next\"></td><td class=\"diff_header\" id=\"to54_63\">63</td><td nowrap=\"nowrap\">)</td></tr>\n",
       "            <tr><td class=\"diff_next\"></td><td class=\"diff_header\" id=\"from54_64\">64</td><td nowrap=\"nowrap\">)</td><td class=\"diff_next\"></td><td class=\"diff_header\" id=\"to54_64\">64</td><td nowrap=\"nowrap\">)</td></tr>\n",
       "        </tbody>\n",
       "    </table>\n",
       "    <table class=\"diff\" summary=\"Legends\">\n",
       "        <tr> <th colspan=\"2\"> Legends </th> </tr>\n",
       "        <tr> <td> <table border=\"\" summary=\"Colors\">\n",
       "                      <tr><th> Colors </th> </tr>\n",
       "                      <tr><td class=\"diff_add\">&nbsp;Added&nbsp;</td></tr>\n",
       "                      <tr><td class=\"diff_chg\">Changed</td> </tr>\n",
       "                      <tr><td class=\"diff_sub\">Deleted</td> </tr>\n",
       "                  </table></td>\n",
       "             <td> <table border=\"\" summary=\"Links\">\n",
       "                      <tr><th colspan=\"2\"> Links </th> </tr>\n",
       "                      <tr><td>(f)irst change</td> </tr>\n",
       "                      <tr><td>(n)ext change</td> </tr>\n",
       "                      <tr><td>(t)op</td> </tr>\n",
       "                  </table></td> </tr>\n",
       "    </table>\n",
       "</body>\n",
       "\n",
       "</html>"
      ],
      "text/plain": [
       "<IPython.core.display.HTML object>"
      ]
     },
     "metadata": {},
     "output_type": "display_data"
    },
    {
     "data": {
      "text/markdown": [
       "### Feature Diffs"
      ],
      "text/plain": [
       "<IPython.core.display.Markdown object>"
      ]
     },
     "metadata": {},
     "output_type": "display_data"
    },
    {
     "name": "stdout",
     "output_type": "stream",
     "text": [
      "No features changed\n"
     ]
    }
   ],
   "source": [
    "mcmc.visualize_sample(39)"
   ]
  },
  {
   "cell_type": "code",
   "execution_count": 71,
   "metadata": {},
   "outputs": [
    {
     "data": {
      "text/plain": [
       "[{'pred': {'pred': {'arg_1': {'term': '?h', 'parseinfo': {'tokenizer': None, 'rule': 'predicate_or_function_term', 'pos': 432, 'endpos': 435, 'line': 8, 'endline': 8, 'alerts': []}}, 'arg_2': {'term': '?c1', 'parseinfo': {'tokenizer': None, 'rule': 'predicate_or_function_term', 'pos': 435, 'endpos': 439, 'line': 8, 'endline': 8, 'alerts': []}}, 'parseinfo': {'tokenizer': None, 'rule': 'predicate_on', 'pos': 429, 'endpos': 440, 'line': 8, 'endline': 8, 'alerts': []}}, 'parseinfo': {'tokenizer': None, 'rule': 'predicate', 'pos': 429, 'endpos': 440, 'line': 8, 'endline': 8, 'alerts': []}}, 'parseinfo': {'tokenizer': None, 'rule': 'super_predicate', 'pos': 416, 'endpos': 440, 'line': 7, 'endline': 8, 'alerts': []}},\n",
       " {'pred': {'pred': {'arg_1': {'term': '?h', 'parseinfo': {'tokenizer': None, 'rule': 'predicate_or_function_term', 'pos': 455, 'endpos': 458, 'line': 9, 'endline': 9, 'alerts': []}}, 'arg_2': {'term': '?c2', 'parseinfo': {'tokenizer': None, 'rule': 'predicate_or_function_term', 'pos': 458, 'endpos': 462, 'line': 9, 'endline': 9, 'alerts': []}}, 'parseinfo': {'tokenizer': None, 'rule': 'predicate_on', 'pos': 452, 'endpos': 463, 'line': 9, 'endline': 9, 'alerts': []}}, 'parseinfo': {'tokenizer': None, 'rule': 'predicate', 'pos': 452, 'endpos': 463, 'line': 9, 'endline': 9, 'alerts': []}}, 'parseinfo': {'tokenizer': None, 'rule': 'super_predicate', 'pos': 440, 'endpos': 463, 'line': 8, 'endline': 9, 'alerts': []}},\n",
       " {'pred': {'pred': {'arg_1': {'term': '?h', 'parseinfo': {'tokenizer': None, 'rule': 'predicate_or_function_term', 'pos': 478, 'endpos': 481, 'line': 10, 'endline': 10, 'alerts': []}}, 'arg_2': {'term': '?c3', 'parseinfo': {'tokenizer': None, 'rule': 'predicate_or_function_term', 'pos': 481, 'endpos': 485, 'line': 10, 'endline': 10, 'alerts': []}}, 'parseinfo': {'tokenizer': None, 'rule': 'predicate_on', 'pos': 475, 'endpos': 486, 'line': 10, 'endline': 10, 'alerts': []}}, 'parseinfo': {'tokenizer': None, 'rule': 'predicate', 'pos': 475, 'endpos': 486, 'line': 10, 'endline': 10, 'alerts': []}}, 'parseinfo': {'tokenizer': None, 'rule': 'super_predicate', 'pos': 463, 'endpos': 486, 'line': 9, 'endline': 10, 'alerts': []}},\n",
       " {'pred': {'pred': {'arg_1': {'term': '?h', 'parseinfo': {'tokenizer': None, 'rule': 'predicate_or_function_term', 'pos': 643997, 'endpos': 643997, 'line': 643997, 'endline': 643997, 'alerts': []}}, 'arg_2': {'term': '?c', 'parseinfo': {'tokenizer': None, 'rule': 'predicate_or_function_term', 'pos': 643998, 'endpos': 643998, 'line': 643998, 'endline': 643998, 'alerts': []}}, 'parseinfo': {'tokenizer': None, 'rule': 'predicate_on', 'pos': 643999, 'endpos': 643999, 'line': 643999, 'endline': 643999, 'alerts': []}}, 'parseinfo': {'tokenizer': None, 'rule': 'predicate', 'pos': 644000, 'endpos': 644000, 'line': 644000, 'endline': 644000, 'alerts': []}}, 'parseinfo': {'tokenizer': None, 'rule': 'super_predicate', 'pos': 644001, 'endpos': 644001, 'line': 644001, 'endline': 644001, 'alerts': []}},\n",
       " {'pred': {'pred': {'arg_1': {'term': '?c2', 'parseinfo': {'tokenizer': None, 'rule': 'predicate_or_function_term', 'pos': 525, 'endpos': 529, 'line': 12, 'endline': 12, 'alerts': []}}, 'arg_2': {'term': '?c5', 'parseinfo': {'tokenizer': None, 'rule': 'predicate_or_function_term', 'pos': 529, 'endpos': 533, 'line': 12, 'endline': 12, 'alerts': []}}, 'parseinfo': {'tokenizer': None, 'rule': 'predicate_on', 'pos': 522, 'endpos': 534, 'line': 12, 'endline': 12, 'alerts': []}}, 'parseinfo': {'tokenizer': None, 'rule': 'predicate', 'pos': 522, 'endpos': 534, 'line': 12, 'endline': 12, 'alerts': []}}, 'parseinfo': {'tokenizer': None, 'rule': 'super_predicate', 'pos': 510, 'endpos': 534, 'line': 11, 'endline': 12, 'alerts': []}},\n",
       " {'pred': {'pred': {'arg_1': {'term': '?c4', 'parseinfo': {'tokenizer': None, 'rule': 'predicate_or_function_term', 'pos': 549, 'endpos': 553, 'line': 13, 'endline': 13, 'alerts': []}}, 'arg_2': {'term': '?c6', 'parseinfo': {'tokenizer': None, 'rule': 'predicate_or_function_term', 'pos': 553, 'endpos': 557, 'line': 13, 'endline': 13, 'alerts': []}}, 'parseinfo': {'tokenizer': None, 'rule': 'predicate_on', 'pos': 546, 'endpos': 558, 'line': 13, 'endline': 13, 'alerts': []}}, 'parseinfo': {'tokenizer': None, 'rule': 'predicate', 'pos': 546, 'endpos': 558, 'line': 13, 'endline': 13, 'alerts': []}}, 'parseinfo': {'tokenizer': None, 'rule': 'super_predicate', 'pos': 534, 'endpos': 558, 'line': 12, 'endline': 13, 'alerts': []}}]"
      ]
     },
     "execution_count": 71,
     "metadata": {},
     "output_type": "execute_result"
    }
   ],
   "source": [
    "mcmc.samples[37][0][3][1].setup.and_args.setup.exists_args.setup.and_args[-1].setup.exists_args.setup.statement.optional_pred.pred.and_args"
   ]
  },
  {
   "cell_type": "code",
   "execution_count": 72,
   "metadata": {},
   "outputs": [
    {
     "data": {
      "text/plain": [
       "{'all_variables_defined': 1,\n",
       " 'all_variables_used': 1,\n",
       " 'max_number_variables_types_quantified_types_1': 1,\n",
       " 'max_number_variables_types_quantified_types_2': 0,\n",
       " 'max_number_variables_types_quantified_types_3': 0,\n",
       " 'max_number_variables_types_quantified_types_4': 0,\n",
       " 'max_number_variables_types_quantified_types_5': 0,\n",
       " 'max_number_variables_types_quantified_types_6': 0,\n",
       " 'max_number_variables_types_quantified_types_7': 0,\n",
       " 'max_number_variables_types_quantified_types_8': 0,\n",
       " 'max_number_variables_types_quantified_variables_1': 0,\n",
       " 'max_number_variables_types_quantified_variables_2': 0,\n",
       " 'max_number_variables_types_quantified_variables_3': 0,\n",
       " 'max_number_variables_types_quantified_variables_4': 0,\n",
       " 'max_number_variables_types_quantified_variables_5': 0,\n",
       " 'max_number_variables_types_quantified_variables_6': 1,\n",
       " 'max_number_variables_types_quantified_variables_7': 0,\n",
       " 'max_number_variables_types_quantified_variables_8': 0,\n",
       " 'repeated_variables_found': 0}"
      ]
     },
     "execution_count": 72,
     "metadata": {},
     "output_type": "execute_result"
    }
   ],
   "source": [
    "{k: v for k, v in mcmc.samples[37][1].items() if 'variables' in k}"
   ]
  },
  {
   "cell_type": "code",
   "execution_count": 9,
   "metadata": {},
   "outputs": [
    {
     "data": {
      "text/plain": [
       "50"
      ]
     },
     "execution_count": 9,
     "metadata": {},
     "output_type": "execute_result"
    }
   ],
   "source": [
    "len(mcmc.samples)"
   ]
  },
  {
   "cell_type": "code",
   "execution_count": 84,
   "metadata": {},
   "outputs": [],
   "source": [
    "from argparse import Namespace\n",
    "from src.fitness_features import *\n",
    "args = Namespace(no_binarize=False, no_merge=False)\n",
    "featurizer = build_fitness_featurizer(args)"
   ]
  },
  {
   "cell_type": "code",
   "execution_count": 85,
   "metadata": {},
   "outputs": [
    {
     "data": {
      "text/plain": [
       "{'all_variables_defined': 0, 'all_variables_used': 1}"
      ]
     },
     "execution_count": 85,
     "metadata": {},
     "output_type": "execute_result"
    }
   ],
   "source": [
    "ps = {k:v for k, v in featurizer.parse(mcmc.samples[37][0], 'mcmc', True, False).items() if 'all_variables' in k}\n",
    "ps"
   ]
  },
  {
   "cell_type": "code",
   "execution_count": 76,
   "metadata": {},
   "outputs": [
    {
     "data": {
      "text/plain": [
       "{'all_variables_defined': 1,\n",
       " 'all_variables_used': 1,\n",
       " 'max_number_variables_types_quantified_types_1': 1,\n",
       " 'max_number_variables_types_quantified_variables_6': 1}"
      ]
     },
     "execution_count": 76,
     "metadata": {},
     "output_type": "execute_result"
    }
   ],
   "source": [
    "{k:v for k, v in ps.items() if v > 0}"
   ]
  },
  {
   "cell_type": "code",
   "execution_count": 122,
   "metadata": {},
   "outputs": [
    {
     "data": {
      "text/plain": [
       "{'seq_func': {'once_pred': {'pred': {'and_args': [{'pred': {'pred': {'arg_1': {'term': '?d', 'parseinfo': {'tokenizer': None, 'rule': 'predicate_or_function_term', 'pos': 805, 'endpos': 808, 'line': 22, 'endline': 22, 'alerts': []}}, 'parseinfo': {'tokenizer': None, 'rule': 'predicate_agent_holds', 'pos': 793, 'endpos': 809, 'line': 22, 'endline': 22, 'alerts': []}}, 'parseinfo': {'tokenizer': None, 'rule': 'predicate', 'pos': 793, 'endpos': 809, 'line': 22, 'endline': 22, 'alerts': []}}, 'parseinfo': {'tokenizer': None, 'rule': 'super_predicate', 'pos': 776, 'endpos': 809, 'line': 21, 'endline': 22, 'alerts': []}}, {'pred': {'pred': {'arg_1': {'term': '?r', 'parseinfo': {'tokenizer': None, 'rule': 'predicate_or_function_location_term', 'pos': 835, 'endpos': 838, 'line': 23, 'endline': 23, 'alerts': []}}, 'arg_2': {'term': 'agent', 'parseinfo': {'tokenizer': None, 'rule': 'predicate_or_function_term', 'pos': 838, 'endpos': 844, 'line': 23, 'endline': 23, 'alerts': []}}, 'parseinfo': {'tokenizer': None, 'rule': 'predicate_adjacent', 'pos': 826, 'endpos': 845, 'line': 23, 'endline': 23, 'alerts': []}}, 'parseinfo': {'tokenizer': None, 'rule': 'predicate', 'pos': 826, 'endpos': 845, 'line': 23, 'endline': 23, 'alerts': []}}, 'parseinfo': {'tokenizer': None, 'rule': 'super_predicate', 'pos': 809, 'endpos': 845, 'line': 22, 'endline': 23, 'alerts': []}}, {'pred': {'pred': {'arg_1': {'term': '?h', 'parseinfo': {'tokenizer': None, 'rule': 'predicate_or_function_term', 'pos': 865, 'endpos': 868, 'line': 24, 'endline': 24, 'alerts': []}}, 'arg_2': {'term': '?b', 'parseinfo': {'tokenizer': None, 'rule': 'predicate_or_function_term', 'pos': 868, 'endpos': 871, 'line': 24, 'endline': 24, 'alerts': []}}, 'parseinfo': {'tokenizer': None, 'rule': 'predicate_on', 'pos': 862, 'endpos': 872, 'line': 24, 'endline': 24, 'alerts': []}}, 'parseinfo': {'tokenizer': None, 'rule': 'predicate', 'pos': 862, 'endpos': 872, 'line': 24, 'endline': 24, 'alerts': []}}, 'parseinfo': {'tokenizer': None, 'rule': 'super_predicate', 'pos': 845, 'endpos': 872, 'line': 23, 'endline': 24, 'alerts': []}}, {'pred': {'pred': {'arg_1': {'term': '?b', 'parseinfo': {'tokenizer': None, 'rule': 'predicate_or_function_term', 'pos': 892, 'endpos': 895, 'line': 25, 'endline': 25, 'alerts': []}}, 'arg_2': {'term': '?c', 'parseinfo': {'tokenizer': None, 'rule': 'predicate_or_function_term', 'pos': 895, 'endpos': 898, 'line': 25, 'endline': 25, 'alerts': []}}, 'parseinfo': {'tokenizer': None, 'rule': 'predicate_in', 'pos': 889, 'endpos': 899, 'line': 25, 'endline': 25, 'alerts': []}}, 'parseinfo': {'tokenizer': None, 'rule': 'predicate', 'pos': 889, 'endpos': 899, 'line': 25, 'endline': 25, 'alerts': []}}, 'parseinfo': {'tokenizer': None, 'rule': 'super_predicate', 'pos': 872, 'endpos': 899, 'line': 24, 'endline': 25, 'alerts': []}}], 'parseinfo': {'tokenizer': None, 'rule': 'super_predicate_and', 'pos': 772, 'endpos': 913, 'line': 21, 'endline': 26, 'alerts': []}}, 'parseinfo': {'tokenizer': None, 'rule': 'super_predicate', 'pos': 772, 'endpos': 913, 'line': 21, 'endline': 26, 'alerts': []}}, 'parseinfo': {'tokenizer': None, 'rule': 'once', 'pos': 766, 'endpos': 914, 'line': 21, 'endline': 26, 'alerts': []}}, 'parseinfo': {'tokenizer': None, 'rule': 'seq_func', 'pos': 753, 'endpos': 914, 'line': 20, 'endline': 26, 'alerts': []}}"
      ]
     },
     "execution_count": 122,
     "metadata": {},
     "output_type": "execute_result"
    }
   ],
   "source": [
    "mcmc.samples[39][0][4][1].preferences[0].definition.pref_body.body.exists_args.then_funcs[0]"
   ]
  },
  {
   "cell_type": "code",
   "execution_count": 111,
   "metadata": {},
   "outputs": [
    {
     "data": {
      "text/plain": [
       "{'(agent_holds ?d)': Symbol('(agent_holds_d)'),\n",
       " '(once (agent_holds ?d) )': Symbol('(agent_holds_d)')}"
      ]
     },
     "execution_count": 111,
     "metadata": {},
     "output_type": "execute_result"
    }
   ],
   "source": [
    "boolean_parser.str_to_expression_mapping"
   ]
  },
  {
   "cell_type": "code",
   "execution_count": null,
   "metadata": {},
   "outputs": [],
   "source": [
    "# %prun -r \n",
    "n_samples = 5\n",
    "start = 0\n",
    "end = start + n_samples\n",
    "\n",
    "for original_index in range(start, end):\n",
    "    print(f'Generating samples starting from original index {original_index} (id {_extract_game_id(real_game_texts[original_index])})')\n",
    "    mcmc.multiple_samples(n_samples, verbose=1, should_tqdm=True, initial_proposal=game_asts[original_index])\n",
    "\n",
    "    print()\n",
    "    for i in range(n_samples * (original_index - start), n_samples * (original_index - start + 1)):\n",
    "        print(i, mcmc.samples[i][2])"
   ]
  },
  {
   "cell_type": "code",
   "execution_count": null,
   "metadata": {},
   "outputs": [],
   "source": [
    "mcmc.visualize_sample(14)"
   ]
  },
  {
   "cell_type": "code",
   "execution_count": null,
   "metadata": {},
   "outputs": [],
   "source": [
    "mcmc.fitness_featurizer.full_text_registry[0].n_gram_model.models[-1].score(ast_printer.ast_to_string(mcmc.samples[14][0], ' '))"
   ]
  },
  {
   "cell_type": "code",
   "execution_count": null,
   "metadata": {},
   "outputs": [],
   "source": [
    "mcmc.fitness_featurizer.full_text_registry[0].n_gram_model.models[-1].score(ast_printer.ast_to_string(mcmc.samples[14][3], ' '))"
   ]
  },
  {
   "cell_type": "code",
   "execution_count": null,
   "metadata": {},
   "outputs": [],
   "source": [
    "ngram_model = mcmc.fitness_featurizer.full_text_registry[0].n_gram_model.models[-1]\n",
    "\n",
    "sample_ngrams = [('constraints', 'and', 'forall', 'wall', 'and'), ('and', 'forall', 'wall', 'and', 'preference'), ('forall', 'wall', 'and', 'preference', 'preferenceName'), ('wall', 'and', 'preference', 'preferenceName', 'exists'), ('and', 'preference', 'preferenceName', 'exists', 'block'), ('preference', 'preferenceName', 'exists', 'block', 'atend'), ('preferenceName', 'exists', 'block', 'atend', 'in'), ('exists', 'block', 'atend', 'in', 'scoring'), ('block', 'atend', 'in', 'scoring', 'externalforallmaximize'), ('atend', 'in', 'scoring', 'externalforallmaximize', 'countonceperobjects'), ('in', 'scoring', 'externalforallmaximize', 'countonceperobjects', 'preferenceName')]\n",
    "original_ngrams = [('constraints', 'and', 'forall', 'building', 'and'), ('and', 'forall', 'building', 'and', 'preference'), ('forall', 'building', 'and', 'preference', 'preferenceName'), ('building', 'and', 'preference', 'preferenceName', 'exists'), ('and', 'preference', 'preferenceName', 'exists', 'block'), ('preference', 'preferenceName', 'exists', 'block', 'atend'), ('preferenceName', 'exists', 'block', 'atend', 'in'), ('exists', 'block', 'atend', 'in', 'scoring'), ('block', 'atend', 'in', 'scoring', 'externalforallmaximize'), ('atend', 'in', 'scoring', 'externalforallmaximize', 'countonceperobjects'), ('in', 'scoring', 'externalforallmaximize', 'countonceperobjects', 'preferenceName')]\n",
    "\n",
    "print(f'Sample ngrams: {np.mean([ngram_model.ngram_logprobs[s] for s in sample_ngrams])} | ')\n",
    "for s in sample_ngrams:\n",
    "    print(s, ngram_model.ngram_counts[s], ngram_model.ngram_logprobs[s])\n",
    "\n",
    "print()\n",
    "print(f'Original ngrams: {np.mean([ngram_model.ngram_logprobs[s] for s in original_ngrams])}')\n",
    "for s in original_ngrams:\n",
    "    print(s, ngram_model.ngram_counts[s], ngram_model.ngram_logprobs[s])\n",
    "print()\n",
    "\n",
    "for s in sample_ngrams[:]:\n",
    "    if s in original_ngrams:\n",
    "        sample_ngrams.remove(s)\n",
    "        original_ngrams.remove(s)\n",
    "\n",
    "print('Sample remaining ngrams')\n",
    "for s in sample_ngrams:\n",
    "    print(s, ngram_model.ngram_counts[s], ngram_model.ngram_logprobs[s])\n",
    "\n",
    "print()\n",
    "print('Original remaining ngrams')\n",
    "for s in original_ngrams:\n",
    "    print(s, ngram_model.ngram_counts[s], ngram_model.ngram_logprobs[s])"
   ]
  },
  {
   "cell_type": "code",
   "execution_count": null,
   "metadata": {},
   "outputs": [],
   "source": [
    "original_ngrams = [('constraints', 'and', 'forall', 'building', 'and'), ('and', 'forall', 'building', 'and', 'preference'), ('forall', 'building', 'and', 'preference', 'preferenceName'), ('building', 'and', 'preference', 'preferenceName', 'exists'), ('and', 'preference', 'preferenceName', 'exists', 'block'), ('preference', 'preferenceName', 'exists', 'block', 'atend'), ('preferenceName', 'exists', 'block', 'atend', 'in'), ('exists', 'block', 'atend', 'in', 'scoring'), ('block', 'atend', 'in', 'scoring', 'externalforallmaximize'), ('atend', 'in', 'scoring', 'externalforallmaximize', 'countonceperobjects'), ('in', 'scoring', 'externalforallmaximize', 'countonceperobjects', 'preferenceName')]\n",
    "print('Original ngrams')\n",
    "for s in original_ngrams:\n",
    "    print(s, mcmc.fitness_featurizer.full_text_registry[0].n_gram_model.models[-1].ngram_counts[s], mcmc.fitness_featurizer.full_text_registry[0].n_gram_model.models[-1].ngram_logprobs[s])"
   ]
  },
  {
   "cell_type": "code",
   "execution_count": null,
   "metadata": {},
   "outputs": [],
   "source": [
    "mcmc.visualize_sample(7)"
   ]
  },
  {
   "cell_type": "code",
   "execution_count": null,
   "metadata": {},
   "outputs": [],
   "source": [
    "mcmc.visualize_sample(15)"
   ]
  },
  {
   "cell_type": "code",
   "execution_count": null,
   "metadata": {},
   "outputs": [],
   "source": []
  },
  {
   "attachments": {},
   "cell_type": "markdown",
   "metadata": {},
   "source": [
    "### Notes from looking at these games\n",
    "* **TODO:** debug the 'section-without' logic, it seems to not work\n",
    "* **TODO:** add features for preferences with different lengths of modals"
   ]
  },
  {
   "cell_type": "code",
   "execution_count": null,
   "metadata": {},
   "outputs": [],
   "source": []
  },
  {
   "cell_type": "code",
   "execution_count": null,
   "metadata": {},
   "outputs": [],
   "source": [
    "print(ast_printer.ast_to_string(samples[8][0], '\\n'))"
   ]
  },
  {
   "cell_type": "code",
   "execution_count": null,
   "metadata": {},
   "outputs": [],
   "source": [
    "fitness_featurizer = build_fitness_featurizer(DEFAULT_ARGS)\n",
    "features = fitness_featurizer.parse(samples[7][0], 'mcmc', True)\n",
    "{k: v for k, v in features.items() if 'correctly' in k or 'forall' in k or 'no' in k}"
   ]
  },
  {
   "cell_type": "code",
   "execution_count": null,
   "metadata": {},
   "outputs": [],
   "source": [
    "with gzip.open(DEFAULT_FITNESS_FUNCTION_PATH, 'rb') as f:\n",
    "    cv_fitness_model = pickle.load(f)"
   ]
  },
  {
   "cell_type": "code",
   "execution_count": null,
   "metadata": {},
   "outputs": [],
   "source": [
    "weights = cv_fitness_model.named_steps['fitness'].model.fc1.weight.data.detach().numpy().squeeze()\n",
    "bias = cv_fitness_model.named_steps['fitness'].model.fc1.bias.data.detach().numpy().squeeze()\n",
    "print(weights.mean(), bias)"
   ]
  },
  {
   "cell_type": "code",
   "execution_count": null,
   "metadata": {},
   "outputs": [],
   "source": [
    "plt.hist(weights, bins=100)\n",
    "plt.title('Fitness Model Weights')\n",
    "plt.xlabel('Weight magnitude')\n",
    "plt.ylabel('Count')"
   ]
  },
  {
   "cell_type": "code",
   "execution_count": null,
   "metadata": {},
   "outputs": [],
   "source": [
    "import ast_crossover_sampler\n",
    "asts = [ast for ast in cached_load_and_parse_games_from_file('../dsl/interactive-beta.pddl', \n",
    "    mcmc.grammar_parser, False, relative_path='..')]\n",
    "\n",
    "mcmc_with_crossover = MCMCRegrowthCrossoverSampler(DEFAULT_ARGS, \n",
    "    ast_crossover_sampler.CrossoverType.SAME_RULE, asts, 0.25,\n",
    "    '../models/cv_fitness_model_2022_12_26.pkl.gz', \n",
    "    greedy_acceptance=True, plateau_patience_steps=20, acceptance_temperature=10.0, max_steps=1000)"
   ]
  },
  {
   "cell_type": "code",
   "execution_count": null,
   "metadata": {},
   "outputs": [],
   "source": [
    "mcmc_with_crossover.multiple_samples(10, verbose=2, should_tqdm=True)\n",
    "print([x[2] for x in mcmc_with_crossover.samples])"
   ]
  },
  {
   "cell_type": "code",
   "execution_count": null,
   "metadata": {},
   "outputs": [],
   "source": [
    "print([x[2] for x in mcmc_with_crossover.samples])"
   ]
  },
  {
   "cell_type": "code",
   "execution_count": null,
   "metadata": {},
   "outputs": [],
   "source": []
  }
 ],
 "metadata": {
  "kernelspec": {
   "display_name": "game-gen",
   "language": "python",
   "name": "python3"
  },
  "language_info": {
   "codemirror_mode": {
    "name": "ipython",
    "version": 3
   },
   "file_extension": ".py",
   "mimetype": "text/x-python",
   "name": "python",
   "nbconvert_exporter": "python",
   "pygments_lexer": "ipython3",
   "version": "3.10.8"
  },
  "orig_nbformat": 4,
  "vscode": {
   "interpreter": {
    "hash": "a8b8c8d5c21b7aee7bd0053f69e9c255c013bbea7031fbef7e66d58dd46c0fa6"
   }
  }
 },
 "nbformat": 4,
 "nbformat_minor": 2
}
