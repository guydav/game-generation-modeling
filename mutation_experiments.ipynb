{
 "metadata": {
  "language_info": {
   "codemirror_mode": {
    "name": "ipython",
    "version": 3
   },
   "file_extension": ".py",
   "mimetype": "text/x-python",
   "name": "python",
   "nbconvert_exporter": "python",
   "pygments_lexer": "ipython3",
   "version": "3.8.5"
  },
  "orig_nbformat": 4,
  "kernelspec": {
   "name": "python3",
   "display_name": "Python 3.8.5 64-bit ('torch': conda)"
  },
  "interpreter": {
   "hash": "a100aa1876e5ac3363f19f1f1b65f414bec22fc629749747bbf4df88caa32aa2"
  }
 },
 "nbformat": 4,
 "nbformat_minor": 2,
 "cells": [
  {
   "cell_type": "code",
   "execution_count": 1,
   "metadata": {},
   "outputs": [],
   "source": [
    "%autoreload 2"
   ]
  },
  {
   "cell_type": "code",
   "execution_count": 2,
   "metadata": {},
   "outputs": [],
   "source": [
    "import random\n",
    "\n",
    "from IPython.core.display import display, HTML\n",
    "from tqdm.notebook import tnrange\n",
    "from mutation_experiments import *\n",
    "import ast_printer"
   ]
  },
  {
   "cell_type": "code",
   "execution_count": 3,
   "metadata": {},
   "outputs": [],
   "source": [
    "args = parser.parse_args([])\n",
    "\n",
    "grammar = open(args.grammar_file).read()\n",
    "grammar_parser = tatsu.compile(grammar) \n",
    "\n",
    "asts = load_asts(args, grammar_parser)"
   ]
  },
  {
   "cell_type": "code",
   "execution_count": 4,
   "metadata": {},
   "outputs": [
    {
     "output_type": "display_data",
     "data": {
      "text/plain": "HBox(children=(FloatProgress(value=0.0), HTML(value='')))",
      "application/vnd.jupyter.widget-view+json": {
       "version_major": 2,
       "version_minor": 0,
       "model_id": "8e0f1d355f3748759a6cabbc580b48b0"
      }
     },
     "metadata": {}
    },
    {
     "output_type": "stream",
     "name": "stdout",
     "text": [
      "\n"
     ]
    }
   ],
   "source": [
    "NUM_GAMES = 100\n",
    "\n",
    "regrwoth_mutated_asts = []\n",
    "\n",
    "for seed in tnrange(NUM_GAMES):\n",
    "    validators = [ASTVariableValidator(), ASTScoringPreferenceValidator()]\n",
    "    sampler = ASTRegrowthSampler(grammar_parser, asts, mutation_prob=0.5, validators=validators)\n",
    "    random.seed(seed)\n",
    "    try:\n",
    "        mutated_ast = sampler.sample_regrowth()\n",
    "    except SamplingFailedException:\n",
    "        continue\n",
    "    regrwoth_mutated_asts.append((mutated_ast, seed))\n",
    "        \n"
   ]
  },
  {
   "cell_type": "code",
   "execution_count": 83,
   "metadata": {},
   "outputs": [
    {
     "output_type": "display_data",
     "data": {
      "text/plain": "HBox(children=(FloatProgress(value=0.0), HTML(value='')))",
      "application/vnd.jupyter.widget-view+json": {
       "version_major": 2,
       "version_minor": 0,
       "model_id": "d825e2dee36d4585a50d0ff569e4e49d"
      }
     },
     "metadata": {}
    },
    {
     "output_type": "stream",
     "name": "stdout",
     "text": [
      "\n"
     ]
    }
   ],
   "source": [
    "NUM_GAMES = 100\n",
    "START = 100\n",
    "single_step_mutated_asts = []\n",
    "\n",
    "for seed in tnrange(NUM_GAMES):\n",
    "    validators = [ASTVariableValidator(), ASTScoringPreferenceValidator()]\n",
    "    sampler = ASTRegrowthSampler(grammar_parser, asts, mutation_prob=0.5, validators=validators)\n",
    "    random.seed(START + seed)\n",
    "    try:\n",
    "        mutated_ast = sampler.sample_single_step()\n",
    "    except:\n",
    "        continue\n",
    "    single_step_mutated_asts.append((mutated_ast, START + seed))\n",
    "        \n"
   ]
  },
  {
   "cell_type": "code",
   "execution_count": 6,
   "metadata": {},
   "outputs": [],
   "source": [
    "def new_ast_to_buffer(new_asts, index):\n",
    "    mutated_ast, seed = new_asts[index]\n",
    "    ast_printer.reset_buffers(True)\n",
    "    ast_printer.pretty_print_ast(mutated_ast, context=dict(html=True))\n",
    "\n",
    "\n",
    "def visualize(new_asts, index):\n",
    "    mutated_ast, seed = new_asts[index]\n",
    "    print(f'With random seed {seed}, mutated:\\r\\n')\n",
    "    new_ast_to_buffer(new_asts, index)\n",
    "    display(HTML('\\r\\n'.join(ast_printer.BUFFER)))\n"
   ]
  },
  {
   "source": [
    "# Games generated with full regrwoth\n",
    "\n",
    "I'll pring out some interesting games, and try to explain the game and the change that was made. \n",
    "\n",
    "The color-coding on these is perhaps not the most informative, but:\n",
    "* <span style=\"color: #AA00FF;\">Purple:</span> the original node substituted in\n",
    "* <span style=\"color: #FF6A00;\">Orange:</span> any nodes sampled under the original node from another game\n",
    "* <span style=\"color: #00FF80;\">Green:</span> nodes from the substituted subtree (the purple one) where we replaced at least one value under the node, but not the entire node.\n",
    "\n",
    "**TL;DR: if it's colored, it was't in the original game**\n"
   ],
   "cell_type": "markdown",
   "metadata": {}
  },
  {
   "source": [
    "In the game below, it changed the quantification and type from `?g - game_object` to `?g - dodgeball`.\n",
    "\n",
    "Originally, that clause was marking keeping the beachball (`?b`) in the air for 20 counts -- by providing it's not or touching any other object.\n",
    "\n",
    "Now it stipulates the beachball can't touch or be in the dodgeball, which is rather more trivial\n"
   ],
   "cell_type": "markdown",
   "metadata": {}
  },
  {
   "cell_type": "code",
   "execution_count": 14,
   "metadata": {},
   "outputs": [
    {
     "output_type": "stream",
     "name": "stdout",
     "text": [
      "With random seed 0, mutated:\n\n"
     ]
    },
    {
     "output_type": "display_data",
     "data": {
      "text/plain": "<IPython.core.display.HTML object>",
      "text/html": "<div style=\"margin-left: 0px\">(define (game many-objects-7) (:domain many-objects-room-v1) </div>\r\n<div style=\"margin-left: 0px\">(:setup </div>\r\n<div style=\"margin-left: 20px\">(and </div>\r\n<div style=\"margin-left: 40px\">(exists (<span style=\"\">?r1 ?r2 - large_triangular_ramp</span>) </div>\r\n<div style=\"margin-left: 60px\">(game-conserved </div>\r\n<div style=\"margin-left: 80px\">(and </div>\r\n<div style=\"margin-left: 100px\">(<= <span style=\"\">(distance ?r1 ?r2)</span> 0.5) </div>\r\n<div style=\"margin-left: 80px\">) </div>\r\n<div style=\"margin-left: 60px\">) </div>\r\n<div style=\"margin-left: 40px\">) </div>\r\n<div style=\"margin-left: 20px\">) </div>\r\n<div style=\"margin-left: 0px\">) </div>\r\n<div style=\"margin-left: 0px\">(:constraints </div>\r\n<div style=\"margin-left: 20px\">(and </div>\r\n<div style=\"margin-left: 40px\">(preference circuit </div>\r\n<div style=\"margin-left: 60px\">(exists (<span style=\"\">?r1 - large_triangular_ramp</span> <span style=\"\">?r2 - large_triangular_ramp</span> <span style=\"\">?c - chair</span> <span style=\"\">?h - hexagonal_bin</span> <span style=\"\">?b - beachball</span>) </div>\r\n<div style=\"margin-left: 80px\">(then </div>\r\n<div style=\"margin-left: 100px\">(once <span style=\"\"> (not <span style=\"\">(between ?r1 agent ?r2)</span> ) </span> ) </div>\r\n<div style=\"margin-left: 100px\">(any) </div>\r\n<div style=\"margin-left: 100px\">(once <span style=\"\">(between ?r1 agent ?r2)</span> ) </div>\r\n<div style=\"margin-left: 100px\">(any) </div>\r\n<div style=\"margin-left: 100px\">(once <span style=\"\"> (not <span style=\"\">(between ?r1 agent ?r2)</span> ) </span> ) </div>\r\n<div style=\"margin-left: 100px\">(any) </div>\r\n<div style=\"margin-left: 100px\">(hold-while <span style=\"\">(on ?c agent)</span> <span style=\"\">(agent_finished_spin )</span> <span style=\"\">(agent_finished_spin )</span> <span style=\"\">(agent_finished_spin )</span> <span style=\"\">(agent_finished_spin )</span> ) </div>\r\n<div style=\"margin-left: 100px\">(any) </div>\r\n<div style=\"margin-left: 100px\">(forall-sequence (<span style=\"\">?d - dodgeball</span>) </div>\r\n<div style=\"margin-left: 120px\">(then </div>\r\n<div style=\"margin-left: 140px\">(once <span style=\"\">(agent_holds ?d)</span> ) </div>\r\n<div style=\"margin-left: 140px\">(hold <span style=\"\"> (and <span style=\"\"> (not <span style=\"\">(agent_holds ?d)</span> ) </span> <span style=\"\">(in_motion ?d)</span> ) </span> ) </div>\r\n<div style=\"margin-left: 140px\">(once <span style=\"\"> (and <span style=\"\">(on ?h ?d)</span> <span style=\"\"> (not <span style=\"\">(in_motion ?d)</span> ) </span> ) </span> ) </div>\r\n<div style=\"margin-left: 140px\">(any) </div>\r\n<div style=\"margin-left: 120px\">) </div>\r\n<div style=\"margin-left: 100px\">) </div>\r\n<div style=\"margin-left: 100px\">(hold-for 20 <span style=\"\"> (not (exists (<span style=\"color: #AA00FF\">?g - dodgeball</span>) <span style=\"\"> (or <span style=\"\">(on ?g ?b)</span> <span style=\"\">(touch ?g ?b)</span> ) </span> ) ) </span> ) </div>\r\n<div style=\"margin-left: 80px\">) </div>\r\n<div style=\"margin-left: 60px\">) </div>\r\n<div style=\"margin-left: 40px\">) </div>\r\n<div style=\"margin-left: 20px\">) </div>\r\n<div style=\"margin-left: 0px\">) </div>\r\n<div style=\"margin-left: 0px\">(:scoring </div>\r\n<div style=\"margin-left: 20px\">maximize </div>\r\n<div style=\"margin-left: 40px\">(+ (* 13 <span style=\"\">(count-once circuit)</span> ) </div>\r\n<div style=\"margin-left: 60px\">(* 2 (<= <span style=\"\">(count-shortest circuit)</span> 60 ) </div>\r\n<div style=\"margin-left: 60px\">) </div>\r\n<div style=\"margin-left: 60px\">(* 3 (<= <span style=\"\">(count-shortest circuit)</span> 50 ) </div>\r\n<div style=\"margin-left: 60px\">) </div>\r\n<div style=\"margin-left: 60px\">(* 2 (<= <span style=\"\">(count-shortest circuit)</span> 40 ) </div>\r\n<div style=\"margin-left: 60px\">) </div>\r\n<div style=\"margin-left: 40px\">) </div>\r\n<div style=\"margin-left: 0px\">) </div>\r\n<div style=\"margin-left: 0px\">) </div>"
     },
     "metadata": {}
    }
   ],
   "source": [
    "visualize(regrwoth_mutated_asts, 0)"
   ]
  },
  {
   "source": [
    "This is another similar change. Originally, this quantified `?b - bed` like in the previous game, to mark that the player should make the throw from the bed. \n",
    "\n",
    "With this change, it marks that the player should make the throw while standing on a block, which is cute."
   ],
   "cell_type": "markdown",
   "metadata": {}
  },
  {
   "cell_type": "code",
   "execution_count": 15,
   "metadata": {},
   "outputs": [
    {
     "output_type": "stream",
     "name": "stdout",
     "text": [
      "With random seed 2, mutated:\n\n"
     ]
    },
    {
     "output_type": "display_data",
     "data": {
      "text/plain": "<IPython.core.display.HTML object>",
      "text/html": "<div style=\"margin-left: 0px\">(define (game few-objects-10) (:domain few-objects-room-v1) </div>\r\n<div style=\"margin-left: 0px\">(:setup </div>\r\n<div style=\"margin-left: 20px\">) </div>\r\n<div style=\"margin-left: 0px\">(:constraints </div>\r\n<div style=\"margin-left: 20px\">(and </div>\r\n<div style=\"margin-left: 40px\">(preference chairHitFromBedWithDoggieBed </div>\r\n<div style=\"margin-left: 60px\">(exists (<span style=\"color: #AA00FF\">?x1 ?x2 - block</span> <span style=\"\">?c - chair</span> <span style=\"\">?d - doggie_bed</span>) </div>\r\n<div style=\"margin-left: 80px\">(then </div>\r\n<div style=\"margin-left: 100px\">(once <span style=\"\"> (and <span style=\"\">(agent_holds ?d)</span> <span style=\"\">(on ?x1 agent)</span> ) </span> ) </div>\r\n<div style=\"margin-left: 100px\">(hold <span style=\"\"> (and <span style=\"\"> (not <span style=\"\">(agent_holds ?d)</span> ) </span> <span style=\"\">(in_motion ?d)</span> ) </span> ) </div>\r\n<div style=\"margin-left: 100px\">(once <span style=\"\">(touch ?d ?c)</span> ) </div>\r\n<div style=\"margin-left: 80px\">) </div>\r\n<div style=\"margin-left: 60px\">) </div>\r\n<div style=\"margin-left: 40px\">) </div>\r\n<div style=\"margin-left: 40px\">(preference chairHitFromBedWithPillow </div>\r\n<div style=\"margin-left: 60px\">(exists (<span style=\"\">?b - bed</span> <span style=\"\">?c - chair</span> <span style=\"\">?p - pillow</span>) </div>\r\n<div style=\"margin-left: 80px\">(then </div>\r\n<div style=\"margin-left: 100px\">(once <span style=\"\"> (and <span style=\"\">(agent_holds ?p)</span> <span style=\"\">(on ?b agent)</span> ) </span> ) </div>\r\n<div style=\"margin-left: 100px\">(hold <span style=\"\"> (and <span style=\"\"> (not <span style=\"\">(agent_holds ?p)</span> ) </span> <span style=\"\">(in_motion ?p)</span> ) </span> ) </div>\r\n<div style=\"margin-left: 100px\">(once <span style=\"\">(touch ?p ?c)</span> ) </div>\r\n<div style=\"margin-left: 80px\">) </div>\r\n<div style=\"margin-left: 60px\">) </div>\r\n<div style=\"margin-left: 40px\">) </div>\r\n<div style=\"margin-left: 20px\">) </div>\r\n<div style=\"margin-left: 0px\">) </div>\r\n<div style=\"margin-left: 0px\">(:scoring </div>\r\n<div style=\"margin-left: 20px\">maximize </div>\r\n<div style=\"margin-left: 40px\">(+ (* 20 <span style=\"\">(count-nonoverlapping chairHitFromBedWithDoggieBed)</span> ) </div>\r\n<div style=\"margin-left: 60px\">(* 20 <span style=\"\">(count-nonoverlapping chairHitFromBedWithPillow)</span> ) </div>\r\n<div style=\"margin-left: 40px\">) </div>\r\n<div style=\"margin-left: 0px\">) </div>\r\n<div style=\"margin-left: 0px\">) </div>"
     },
     "metadata": {}
    }
   ],
   "source": [
    "visualize(regrwoth_mutated_asts, 2)"
   ]
  },
  {
   "source": [
    "Funny failure mode -- regardless of what this attempted to convey originally, this can never occur, obviously."
   ],
   "cell_type": "markdown",
   "metadata": {}
  },
  {
   "cell_type": "code",
   "execution_count": 16,
   "metadata": {},
   "outputs": [
    {
     "output_type": "stream",
     "name": "stdout",
     "text": [
      "With random seed 4, mutated:\n\n"
     ]
    },
    {
     "output_type": "display_data",
     "data": {
      "text/plain": "<IPython.core.display.HTML object>",
      "text/html": "<div style=\"margin-left: 0px\">(define (game medium-objects-8) (:domain medium-objects-room-v1) </div>\r\n<div style=\"margin-left: 0px\">(:setup </div>\r\n<div style=\"margin-left: 20px\">(and </div>\r\n<div style=\"margin-left: 40px\">(exists (<span style=\"\">?t1 ?t2 - tall_cylindrical_block</span> <span style=\"\">?tb - teddy_bear</span>) </div>\r\n<div style=\"margin-left: 60px\">(game-conserved </div>\r\n<div style=\"margin-left: 80px\">(and </div>\r\n<div style=\"margin-left: 100px\">(<= <span style=\"\">(distance ?t1 ?t2)</span> 2) </div>\r\n<div style=\"margin-left: 100px\">(= <span style=\"\">(distance ?tb ?t1)</span> <span style=\"\">(distance ?tb ?t2)</span>) </div>\r\n<div style=\"margin-left: 80px\">) </div>\r\n<div style=\"margin-left: 60px\">) </div>\r\n<div style=\"margin-left: 40px\">) </div>\r\n<div style=\"margin-left: 20px\">) </div>\r\n<div style=\"margin-left: 0px\">) </div>\r\n<div style=\"margin-left: 0px\">(:constraints </div>\r\n<div style=\"margin-left: 20px\">(and </div>\r\n<div style=\"margin-left: 40px\">(preference throwBetweenBlocksToBear </div>\r\n<div style=\"margin-left: 60px\">(exists (<span style=\"\">?b - basketball</span> <span style=\"\">?t1 - tall_cylindrical_block</span> <span style=\"\">?t2 - tall_cylindrical_block</span> <span style=\"\">?tb - teddy_bear</span>) </div>\r\n<div style=\"margin-left: 80px\">(then </div>\r\n<div style=\"margin-left: 100px\">(once <span style=\"\">(agent_holds ?b)</span> ) </div>\r\n<div style=\"margin-left: 100px\">(hold-while <span style=\"\"> (and <span style=\"\"> (not <span style=\"\">(agent_holds ?b)</span> ) </span> <span style=\"\">(in_motion ?b)</span> ) </span> <span style=\"\">(between ?t1 ?b ?t2)</span> ) </div>\r\n<div style=\"margin-left: 100px\">(once <span style=\"\">(touch ?b ?tb)</span> ) </div>\r\n<div style=\"margin-left: 80px\">) </div>\r\n<div style=\"margin-left: 60px\">) </div>\r\n<div style=\"margin-left: 40px\">) </div>\r\n<div style=\"margin-left: 40px\">(preference thrownBallHitBlock </div>\r\n<div style=\"margin-left: 60px\">(exists (<span style=\"\">?b - basketball</span> <span style=\"\">?t - tall_cylindrical_block</span>) </div>\r\n<div style=\"margin-left: 80px\">(then </div>\r\n<div style=\"margin-left: 100px; color: #AA00FF\">(once <span style=\"color: #FF6A00\"> (and <span style=\"color: #FF6A00\"> (not <span style=\"color: #00FF80\">(in_motion ?t)</span> ) </span> <span style=\"color: #FF6A00\">(in_motion ?t)</span> ) </span> ) </div>\r\n<div style=\"margin-left: 100px\">(hold <span style=\"\"> (and <span style=\"\"> (not <span style=\"\">(agent_holds ?b)</span> ) </span> <span style=\"\">(in_motion ?b)</span> ) </span> ) </div>\r\n<div style=\"margin-left: 100px\">(once <span style=\"\">(touch ?b ?t)</span> ) </div>\r\n<div style=\"margin-left: 80px\">) </div>\r\n<div style=\"margin-left: 60px\">) </div>\r\n<div style=\"margin-left: 40px\">) </div>\r\n<div style=\"margin-left: 40px\">(preference throwAttempt </div>\r\n<div style=\"margin-left: 60px\">(exists (<span style=\"\">?b - basketball</span>) </div>\r\n<div style=\"margin-left: 80px\">(then </div>\r\n<div style=\"margin-left: 100px\">(once <span style=\"\">(agent_holds ?b)</span> ) </div>\r\n<div style=\"margin-left: 100px\">(hold <span style=\"\"> (and <span style=\"\"> (not <span style=\"\">(agent_holds ?b)</span> ) </span> <span style=\"\">(in_motion ?b)</span> ) </span> ) </div>\r\n<div style=\"margin-left: 100px\">(once <span style=\"\"> (not <span style=\"\">(in_motion ?b)</span> ) </span> ) </div>\r\n<div style=\"margin-left: 80px\">) </div>\r\n<div style=\"margin-left: 60px\">) </div>\r\n<div style=\"margin-left: 40px\">) </div>\r\n<div style=\"margin-left: 20px\">) </div>\r\n<div style=\"margin-left: 0px\">) </div>\r\n<div style=\"margin-left: 0px\">(:terminal </div>\r\n<div style=\"margin-left: 20px\">(>= <span style=\"\">(count-nonoverlapping throwAttempt)</span> 5 ) </div>\r\n<div style=\"margin-left: 0px\">) </div>\r\n<div style=\"margin-left: 0px\">(:scoring </div>\r\n<div style=\"margin-left: 20px\">maximize </div>\r\n<div style=\"margin-left: 40px\">(+ (* 15 <span style=\"\">(count-nonoverlapping throwBetweenBlocksToBear)</span> ) </div>\r\n<div style=\"margin-left: 60px\">(* (- 5 ) </div>\r\n<div style=\"margin-left: 80px\"><span style=\"\">(count-nonoverlapping thrownBallHitBlock)</span> </div>\r\n<div style=\"margin-left: 60px\">) </div>\r\n<div style=\"margin-left: 40px\">) </div>\r\n<div style=\"margin-left: 0px\">) </div>\r\n<div style=\"margin-left: 0px\">) </div>"
     },
     "metadata": {}
    }
   ],
   "source": [
    "visualize(regrwoth_mutated_asts, 4)"
   ]
  },
  {
   "source": [
    "Another amusing failure mode -- ths mutation performed substituted in the predicate `(on ?1 ?2)`, and renaming variables to match the local context created an identical predicate to the one that's already there. "
   ],
   "cell_type": "markdown",
   "metadata": {}
  },
  {
   "cell_type": "code",
   "execution_count": 17,
   "metadata": {},
   "outputs": [
    {
     "output_type": "stream",
     "name": "stdout",
     "text": [
      "With random seed 9, mutated:\n\n"
     ]
    },
    {
     "output_type": "display_data",
     "data": {
      "text/plain": "<IPython.core.display.HTML object>",
      "text/html": "<div style=\"margin-left: 0px\">(define (game many-objects-22) (:domain many-objects-room-v1) </div>\r\n<div style=\"margin-left: 0px\">(:setup </div>\r\n<div style=\"margin-left: 20px\">) </div>\r\n<div style=\"margin-left: 0px\">(:constraints </div>\r\n<div style=\"margin-left: 20px\">(and </div>\r\n<div style=\"margin-left: 40px\">(preference beachballMovesSquareBlock </div>\r\n<div style=\"margin-left: 60px\">(exists (<span style=\"\">?b - beachball</span> <span style=\"\">?c - (either flat_block bridge_block)</span> <span style=\"\">?f - floor</span>) </div>\r\n<div style=\"margin-left: 80px\">(then </div>\r\n<div style=\"margin-left: 100px\">(once <span style=\"\"> (and <span style=\"\">(agent_holds ?b)</span> <span style=\"\">(on ?f ?c)</span> ) </span> ) </div>\r\n<div style=\"margin-left: 100px\">(hold-while <span style=\"\"> (and <span style=\"\"> (not <span style=\"\">(agent_holds ?b)</span> ) </span> <span style=\"\">(in_motion ?b)</span> <span style=\"\"> (not <span style=\"\">(agent_holds ?c)</span> ) </span> ) </span> <span style=\"\">(touch ?b ?c)</span> <span style=\"\">(in_motion ?c)</span> ) </div>\r\n<div style=\"margin-left: 80px\">) </div>\r\n<div style=\"margin-left: 60px\">) </div>\r\n<div style=\"margin-left: 40px\">) </div>\r\n<div style=\"margin-left: 40px\">(preference beachballMovesTallBlock </div>\r\n<div style=\"margin-left: 60px\">(exists (<span style=\"\">?b - beachball</span> <span style=\"\">?c - (either pyramid_block tall_cylindrical_block)</span> <span style=\"\">?f - floor</span>) </div>\r\n<div style=\"margin-left: 80px\">(then </div>\r\n<div style=\"margin-left: 100px\">(once <span style=\"\"> (and <span style=\"\">(agent_holds ?b)</span> <span style=\"\">(on ?f ?c)</span> ) </span> ) </div>\r\n<div style=\"margin-left: 100px\">(hold-while <span style=\"\"> (and <span style=\"\"> (not <span style=\"\">(agent_holds ?b)</span> ) </span> <span style=\"\">(in_motion ?b)</span> <span style=\"\"> (not <span style=\"\">(agent_holds ?c)</span> ) </span> ) </span> <span style=\"\">(touch ?b ?c)</span> <span style=\"\">(in_motion ?c)</span> ) </div>\r\n<div style=\"margin-left: 80px\">) </div>\r\n<div style=\"margin-left: 60px\">) </div>\r\n<div style=\"margin-left: 40px\">) </div>\r\n<div style=\"margin-left: 40px\">(preference beachballMovesShortBlock </div>\r\n<div style=\"margin-left: 60px\">(exists (<span style=\"\">?b - beachball</span> <span style=\"\">?c - short_cylindrical_block</span> <span style=\"\">?f - floor</span>) </div>\r\n<div style=\"margin-left: 80px\">(then </div>\r\n<div style=\"margin-left: 100px\">(once <span style=\"\"> (and <span style=\"\">(agent_holds ?b)</span> <span style=\"\">(on ?f ?c)</span> ) </span> ) </div>\r\n<div style=\"margin-left: 100px\">(hold-while <span style=\"\"> (and <span style=\"\"> (not <span style=\"\">(agent_holds ?b)</span> ) </span> <span style=\"\">(in_motion ?b)</span> <span style=\"\"> (not <span style=\"\">(agent_holds ?c)</span> ) </span> ) </span> <span style=\"\">(touch ?b ?c)</span> <span style=\"\">(in_motion ?c)</span> ) </div>\r\n<div style=\"margin-left: 80px\">) </div>\r\n<div style=\"margin-left: 60px\">) </div>\r\n<div style=\"margin-left: 40px\">) </div>\r\n<div style=\"margin-left: 40px\">(preference dodgeballMovesSquareBlock </div>\r\n<div style=\"margin-left: 60px\">(exists (<span style=\"\">?b - dodgeball</span> <span style=\"\">?c - (either flat_block bridge_block)</span> <span style=\"\">?f - floor</span>) </div>\r\n<div style=\"margin-left: 80px\">(then </div>\r\n<div style=\"margin-left: 100px\">(once <span style=\"\"> (and <span style=\"\">(agent_holds ?b)</span> <span style=\"\">(on ?f ?c)</span> ) </span> ) </div>\r\n<div style=\"margin-left: 100px\">(hold-while <span style=\"\"> (and <span style=\"\"> (not <span style=\"\">(agent_holds ?b)</span> ) </span> <span style=\"\">(in_motion ?b)</span> <span style=\"\"> (not <span style=\"\">(agent_holds ?c)</span> ) </span> ) </span> <span style=\"\">(touch ?b ?c)</span> <span style=\"\">(in_motion ?c)</span> ) </div>\r\n<div style=\"margin-left: 80px\">) </div>\r\n<div style=\"margin-left: 60px\">) </div>\r\n<div style=\"margin-left: 40px\">) </div>\r\n<div style=\"margin-left: 40px\">(preference dodgeballMovesTallBlock </div>\r\n<div style=\"margin-left: 60px\">(exists (<span style=\"\">?b - dodgeball</span> <span style=\"\">?c - (either pyramid_block tall_cylindrical_block)</span> <span style=\"\">?f - floor</span>) </div>\r\n<div style=\"margin-left: 80px\">(then </div>\r\n<div style=\"margin-left: 100px\">(once <span style=\"\"> (and <span style=\"\">(agent_holds ?b)</span> <span style=\"\">(on ?f ?c)</span> ) </span> ) </div>\r\n<div style=\"margin-left: 100px\">(hold-while <span style=\"\"> (and <span style=\"\"> (not <span style=\"\">(agent_holds ?b)</span> ) </span> <span style=\"\">(in_motion ?b)</span> <span style=\"\"> (not <span style=\"\">(agent_holds ?c)</span> ) </span> ) </span> <span style=\"\">(touch ?b ?c)</span> <span style=\"\">(in_motion ?c)</span> ) </div>\r\n<div style=\"margin-left: 80px\">) </div>\r\n<div style=\"margin-left: 60px\">) </div>\r\n<div style=\"margin-left: 40px\">) </div>\r\n<div style=\"margin-left: 40px\">(preference dodgeballMovesShortBlock </div>\r\n<div style=\"margin-left: 60px\">(exists (<span style=\"\">?b - dodgeball</span> <span style=\"\">?c - short_cylindrical_block</span>) </div>\r\n<div style=\"margin-left: 80px\">(then </div>\r\n<div style=\"margin-left: 100px\">(once <span style=\"\"> (and <span style=\"\">(agent_holds ?b)</span> <span style=\"\">(on floor ?c)</span> ) </span> ) </div>\r\n<div style=\"margin-left: 100px\">(hold-while <span style=\"\"> (and <span style=\"\"> (not <span style=\"\">(agent_holds ?b)</span> ) </span> <span style=\"\">(in_motion ?b)</span> <span style=\"\"> (not <span style=\"\">(agent_holds ?c)</span> ) </span> ) </span> <span style=\"\">(touch ?b ?c)</span> <span style=\"\">(in_motion ?c)</span> ) </div>\r\n<div style=\"margin-left: 80px\">) </div>\r\n<div style=\"margin-left: 60px\">) </div>\r\n<div style=\"margin-left: 40px\">) </div>\r\n<div style=\"margin-left: 40px\">(preference golfballMovesSquareBlock </div>\r\n<div style=\"margin-left: 60px\">(exists (<span style=\"\">?b - golfball</span> <span style=\"\">?c - (either flat_block bridge_block)</span> <span style=\"\">?f - floor</span>) </div>\r\n<div style=\"margin-left: 80px\">(then </div>\r\n<div style=\"margin-left: 100px\">(once <span style=\"\"> (and <span style=\"\">(agent_holds ?b)</span> <span style=\"\">(on ?f ?c)</span> ) </span> ) </div>\r\n<div style=\"margin-left: 100px\">(hold-while <span style=\"\"> (and <span style=\"\"> (not <span style=\"\">(agent_holds ?b)</span> ) </span> <span style=\"\">(in_motion ?b)</span> <span style=\"\"> (not <span style=\"\">(agent_holds ?c)</span> ) </span> ) </span> <span style=\"\">(touch ?b ?c)</span> <span style=\"\">(in_motion ?c)</span> ) </div>\r\n<div style=\"margin-left: 80px\">) </div>\r\n<div style=\"margin-left: 60px\">) </div>\r\n<div style=\"margin-left: 40px\">) </div>\r\n<div style=\"margin-left: 40px\">(preference golfballMovesTallBlock </div>\r\n<div style=\"margin-left: 60px\">(exists (<span style=\"\">?b - golfball</span> <span style=\"\">?c - (either pyramid_block tall_cylindrical_block)</span> <span style=\"\">?f - floor</span>) </div>\r\n<div style=\"margin-left: 80px\">(then </div>\r\n<div style=\"margin-left: 100px\">(once <span style=\"\"> (and <span style=\"color: #AA00FF\">(on ?f ?c)</span> <span style=\"\">(on ?f ?c)</span> ) </span> ) </div>\r\n<div style=\"margin-left: 100px\">(hold-while <span style=\"\"> (and <span style=\"\"> (not <span style=\"\">(agent_holds ?b)</span> ) </span> <span style=\"\">(in_motion ?b)</span> <span style=\"\"> (not <span style=\"\">(agent_holds ?c)</span> ) </span> ) </span> <span style=\"\">(touch ?b ?c)</span> <span style=\"\">(in_motion ?c)</span> ) </div>\r\n<div style=\"margin-left: 80px\">) </div>\r\n<div style=\"margin-left: 60px\">) </div>\r\n<div style=\"margin-left: 40px\">) </div>\r\n<div style=\"margin-left: 40px\">(preference golfballMovesShortBlock </div>\r\n<div style=\"margin-left: 60px\">(exists (<span style=\"\">?b - golfball</span> <span style=\"\">?c - short_cylindrical_block</span> <span style=\"\">?f - floor</span>) </div>\r\n<div style=\"margin-left: 80px\">(then </div>\r\n<div style=\"margin-left: 100px\">(once <span style=\"\"> (and <span style=\"\">(agent_holds ?b)</span> <span style=\"\">(on ?f ?c)</span> ) </span> ) </div>\r\n<div style=\"margin-left: 100px\">(hold-while <span style=\"\"> (and <span style=\"\"> (not <span style=\"\">(agent_holds ?b)</span> ) </span> <span style=\"\">(in_motion ?b)</span> <span style=\"\"> (not <span style=\"\">(agent_holds ?c)</span> ) </span> ) </span> <span style=\"\">(touch ?b ?c)</span> <span style=\"\">(in_motion ?c)</span> ) </div>\r\n<div style=\"margin-left: 80px\">) </div>\r\n<div style=\"margin-left: 60px\">) </div>\r\n<div style=\"margin-left: 40px\">) </div>\r\n<div style=\"margin-left: 20px\">) </div>\r\n<div style=\"margin-left: 0px\">) </div>\r\n<div style=\"margin-left: 0px\">(:scoring </div>\r\n<div style=\"margin-left: 20px\">maximize </div>\r\n<div style=\"margin-left: 40px\">(+ (* 1 <span style=\"\">(count-nonoverlapping beachballMovesSquareBlock)</span> ) </div>\r\n<div style=\"margin-left: 60px\">(* 3 <span style=\"\">(count-nonoverlapping beachballMovesTallBlock)</span> ) </div>\r\n<div style=\"margin-left: 60px\">(* 5 <span style=\"\">(count-nonoverlapping beachballMovesShortBlock)</span> ) </div>\r\n<div style=\"margin-left: 60px\">(* 2 <span style=\"\">(count-nonoverlapping golfballMovesSquareBlock)</span> ) </div>\r\n<div style=\"margin-left: 60px\">(* 6 <span style=\"\">(count-nonoverlapping dodgeballMovesTallBlock)</span> ) </div>\r\n<div style=\"margin-left: 60px\">(* 10 <span style=\"\">(count-nonoverlapping dodgeballMovesShortBlock)</span> ) </div>\r\n<div style=\"margin-left: 60px\">(* 3 <span style=\"\">(count-nonoverlapping golfballMovesSquareBlock)</span> ) </div>\r\n<div style=\"margin-left: 60px\">(* 9 <span style=\"\">(count-nonoverlapping golfballMovesTallBlock)</span> ) </div>\r\n<div style=\"margin-left: 60px\">(* 15 <span style=\"\">(count-nonoverlapping golfballMovesShortBlock)</span> ) </div>\r\n<div style=\"margin-left: 40px\">) </div>\r\n<div style=\"margin-left: 0px\">) </div>\r\n<div style=\"margin-left: 0px\">) </div>"
     },
     "metadata": {}
    }
   ],
   "source": [
    "visualize(regrwoth_mutated_asts, 9)"
   ]
  },
  {
   "source": [
    "Changes the scoring from awarding five points for each succesful throw (`throwLandsInTarget`) to five points for each throw. Makes the game easier?"
   ],
   "cell_type": "markdown",
   "metadata": {}
  },
  {
   "cell_type": "code",
   "execution_count": 18,
   "metadata": {},
   "outputs": [
    {
     "output_type": "stream",
     "name": "stdout",
     "text": [
      "With random seed 11, mutated:\n\n"
     ]
    },
    {
     "output_type": "display_data",
     "data": {
      "text/plain": "<IPython.core.display.HTML object>",
      "text/html": "<div style=\"margin-left: 0px\">(define (game many-objects-20) (:domain many-objects-room-v1) </div>\r\n<div style=\"margin-left: 0px\">(:setup </div>\r\n<div style=\"margin-left: 20px\">(and </div>\r\n<div style=\"margin-left: 40px\">(exists (<span style=\"\">?t1 ?t2 ?t3 - triangular_block</span>) </div>\r\n<div style=\"margin-left: 60px\">(game-conserved </div>\r\n<div style=\"margin-left: 80px\">(and </div>\r\n<div style=\"margin-left: 100px\">(= <span style=\"\">(distance ?t1 ?t2)</span> <span style=\"\">(distance ?t1 ?t3)</span>) </div>\r\n<div style=\"margin-left: 100px\">(= <span style=\"\">(distance ?t1 ?t2)</span> <span style=\"\">(distance ?t2 ?t3)</span>) </div>\r\n<div style=\"margin-left: 80px\">) </div>\r\n<div style=\"margin-left: 60px\">) </div>\r\n<div style=\"margin-left: 40px\">) </div>\r\n<div style=\"margin-left: 40px\">(forall (<span style=\"\">?b - bridge_block</span>) </div>\r\n<div style=\"margin-left: 60px\">(forall (<span style=\"\">?b2 - bridge_block</span> <span style=\"\">?t - triangular_block</span>) </div>\r\n<div style=\"margin-left: 80px\">(game-conserved </div>\r\n<div style=\"margin-left: 100px\">(and </div>\r\n<div style=\"margin-left: 120px\">(not </div>\r\n<div style=\"margin-left: 140px\"><span style=\"\">(= ?b ?b2)</span> </div>\r\n<div style=\"margin-left: 120px\">) </div>\r\n<div style=\"margin-left: 120px\">(< <span style=\"\">(distance ?b ?t)</span> <span style=\"\">(distance ?b ?b2)</span>) </div>\r\n<div style=\"margin-left: 100px\">) </div>\r\n<div style=\"margin-left: 80px\">) </div>\r\n<div style=\"margin-left: 60px\">) </div>\r\n<div style=\"margin-left: 40px\">) </div>\r\n<div style=\"margin-left: 40px\">(exists (<span style=\"\">?r - large_triangular_ramp</span> <span style=\"\">?b - bridge_block</span> <span style=\"\">?t - triangular_block</span>) </div>\r\n<div style=\"margin-left: 60px\">(game-conserved </div>\r\n<div style=\"margin-left: 80px\"><span style=\"\">(between ?r ?b ?t)</span> </div>\r\n<div style=\"margin-left: 60px\">) </div>\r\n<div style=\"margin-left: 40px\">) </div>\r\n<div style=\"margin-left: 20px\">) </div>\r\n<div style=\"margin-left: 0px\">) </div>\r\n<div style=\"margin-left: 0px\">(:constraints </div>\r\n<div style=\"margin-left: 20px\">(and </div>\r\n<div style=\"margin-left: 40px\">(preference throwLandsInTarget </div>\r\n<div style=\"margin-left: 60px\">(exists (<span style=\"\">?g - golfball</span> <span style=\"\">?r - large_triangular_ramp</span>) </div>\r\n<div style=\"margin-left: 80px\">(then </div>\r\n<div style=\"margin-left: 100px\">(once <span style=\"\"> (and <span style=\"\">(agent_holds ?g)</span> (exists (<span style=\"\">?t - triangular_block</span>) <span style=\"\">(between agent ?r ?t)</span> ) ) </span> ) </div>\r\n<div style=\"margin-left: 100px\">(hold-while <span style=\"\"> (and <span style=\"\"> (not <span style=\"\">(agent_holds ?g)</span> ) </span> <span style=\"\">(in_motion ?g)</span> ) </span> <span style=\"\">(touch ?r ?g)</span> ) </div>\r\n<div style=\"margin-left: 100px\">(once <span style=\"\"> (and <span style=\"\"> (not <span style=\"\">(in_motion ?g)</span> ) </span> <span style=\"\">(on floor ?g)</span> (exists (<span style=\"\">?t1 ?t2 - triangular_block</span>) <span style=\"\">(between ?t1 ?r ?t2)</span> ) ) </span> ) </div>\r\n<div style=\"margin-left: 80px\">) </div>\r\n<div style=\"margin-left: 60px\">) </div>\r\n<div style=\"margin-left: 40px\">) </div>\r\n<div style=\"margin-left: 40px\">(preference throwLandsInPerimeter </div>\r\n<div style=\"margin-left: 60px\">(exists (<span style=\"\">?g - golfball</span> <span style=\"\">?r - large_triangular_ramp</span>) </div>\r\n<div style=\"margin-left: 80px\">(then </div>\r\n<div style=\"margin-left: 100px\">(once <span style=\"\"> (and <span style=\"\">(agent_holds ?g)</span> (exists (<span style=\"\">?t - triangular_block</span>) <span style=\"\">(between agent ?r ?t)</span> ) ) </span> ) </div>\r\n<div style=\"margin-left: 100px\">(hold-while <span style=\"\"> (and <span style=\"\"> (not <span style=\"\">(agent_holds ?g)</span> ) </span> <span style=\"\">(in_motion ?g)</span> ) </span> <span style=\"\">(touch ?r ?g)</span> ) </div>\r\n<div style=\"margin-left: 100px\">(once <span style=\"\"> (and <span style=\"\"> (not <span style=\"\">(in_motion ?g)</span> ) </span> <span style=\"\">(on floor ?g)</span> (exists (<span style=\"\">?b1 ?b2 - bridge_block</span>) <span style=\"\">(between ?b1 ?r ?b2)</span> ) ) </span> ) </div>\r\n<div style=\"margin-left: 80px\">) </div>\r\n<div style=\"margin-left: 60px\">) </div>\r\n<div style=\"margin-left: 40px\">) </div>\r\n<div style=\"margin-left: 40px\">(preference throwAttempt </div>\r\n<div style=\"margin-left: 60px\">(exists (<span style=\"\">?g - golfball</span>) </div>\r\n<div style=\"margin-left: 80px\">(then </div>\r\n<div style=\"margin-left: 100px\">(once <span style=\"\">(agent_holds ?g)</span> ) </div>\r\n<div style=\"margin-left: 100px\">(hold <span style=\"\"> (and <span style=\"\"> (not <span style=\"\">(agent_holds ?g)</span> ) </span> <span style=\"\">(in_motion ?g)</span> ) </span> ) </div>\r\n<div style=\"margin-left: 100px\">(once <span style=\"\"> (not <span style=\"\">(in_motion ?g)</span> ) </span> ) </div>\r\n<div style=\"margin-left: 80px\">) </div>\r\n<div style=\"margin-left: 60px\">) </div>\r\n<div style=\"margin-left: 40px\">) </div>\r\n<div style=\"margin-left: 20px\">) </div>\r\n<div style=\"margin-left: 0px\">) </div>\r\n<div style=\"margin-left: 0px\">(:terminal </div>\r\n<div style=\"margin-left: 20px\">(>= <span style=\"\">(count-nonoverlapping throwAttempt)</span> 3 ) </div>\r\n<div style=\"margin-left: 0px\">) </div>\r\n<div style=\"margin-left: 0px\">(:scoring </div>\r\n<div style=\"margin-left: 20px\">maximize </div>\r\n<div style=\"margin-left: 40px\">(+ (* 5 <span style=\"color: #AA00FF\">(count-nonoverlapping throwAttempt)</span> ) </div>\r\n<div style=\"margin-left: 60px\">(* 2 <span style=\"\">(count-nonoverlapping throwLandsInPerimeter)</span> ) </div>\r\n<div style=\"margin-left: 40px\">) </div>\r\n<div style=\"margin-left: 0px\">) </div>\r\n<div style=\"margin-left: 0px\">) </div>"
     },
     "metadata": {}
    }
   ],
   "source": [
    "visualize(regrwoth_mutated_asts, 11)"
   ]
  },
  {
   "source": [
    "Another amusing failure mode that occurs a bunch -- a predicate being called with the wrong number of arguments as result of a mutation.\n",
    "\n",
    "Semantically, I considered `(agent_holds ?1)` to accept one argument, and `(on ?1 ?2)` to accept two, and here they ended up flipped."
   ],
   "cell_type": "markdown",
   "metadata": {}
  },
  {
   "cell_type": "code",
   "execution_count": 19,
   "metadata": {},
   "outputs": [
    {
     "output_type": "stream",
     "name": "stdout",
     "text": [
      "With random seed 15, mutated:\n\n"
     ]
    },
    {
     "output_type": "display_data",
     "data": {
      "text/plain": "<IPython.core.display.HTML object>",
      "text/html": "<div style=\"margin-left: 0px\">(define (game medium-objects-3) (:domain medium-objects-room-v1) </div>\r\n<div style=\"margin-left: 0px\">(:setup </div>\r\n<div style=\"margin-left: 20px\">(and </div>\r\n<div style=\"margin-left: 40px\">(exists (<span style=\"\">?s - shelf</span> <span style=\"\">?h - hexagonal_bin</span> <span style=\"\">?d - desk</span>) </div>\r\n<div style=\"margin-left: 60px\">(and </div>\r\n<div style=\"margin-left: 80px\">(game-conserved </div>\r\n<div style=\"margin-left: 100px\"><span style=\"\">(on ?s ?h)</span> </div>\r\n<div style=\"margin-left: 80px\">) </div>\r\n<div style=\"margin-left: 80px\">(forall (<span style=\"\">?s2 - shelf</span>) </div>\r\n<div style=\"margin-left: 100px\">(game-conserved </div>\r\n<div style=\"margin-left: 120px\">(>= <span style=\"\">(distance ?s d)</span> <span style=\"\">(distance ?s2 ?d)</span>) </div>\r\n<div style=\"margin-left: 100px\">) </div>\r\n<div style=\"margin-left: 80px\">) </div>\r\n<div style=\"margin-left: 60px\">) </div>\r\n<div style=\"margin-left: 40px\">) </div>\r\n<div style=\"margin-left: 20px\">) </div>\r\n<div style=\"margin-left: 0px\">) </div>\r\n<div style=\"margin-left: 0px\">(:constraints </div>\r\n<div style=\"margin-left: 20px\">(and </div>\r\n<div style=\"margin-left: 40px\">(preference throwBallFromChairToBin </div>\r\n<div style=\"margin-left: 60px\">(exists (<span style=\"\">?b - basketball</span> <span style=\"\">?c - chair</span> <span style=\"\">?h - hexagonal_bin</span> <span style=\"\">?d - desk</span>) </div>\r\n<div style=\"margin-left: 80px\">(then </div>\r\n<div style=\"margin-left: 100px\">(once <span style=\"\"> (and <span style=\"\">(agent_holds ?b)</span> <span style=\"\">(on ?c agent)</span> <span style=\"\">(adjacent ?c ?d)</span> <span style=\"\">(agent_perspective looking_upside_down)</span> ) </span> ) </div>\r\n<div style=\"margin-left: 100px\">(hold <span style=\"color: #AA00FF\"> (and <span style=\"color: #FF6A00\"> (not <span style=\"color: #00FF80\">(agent_holds ?h ?b)</span> ) </span> <span style=\"color: #00FF80\">(on ?d)</span> ) </span> ) </div>\r\n<div style=\"margin-left: 100px\">(once <span style=\"\"> (and <span style=\"\">(on ?h ?b)</span> <span style=\"\"> (not <span style=\"\">(in_motion ?b)</span> ) </span> ) </span> ) </div>\r\n<div style=\"margin-left: 80px\">) </div>\r\n<div style=\"margin-left: 60px\">) </div>\r\n<div style=\"margin-left: 40px\">) </div>\r\n<div style=\"margin-left: 20px\">) </div>\r\n<div style=\"margin-left: 0px\">) </div>\r\n<div style=\"margin-left: 0px\">(:scoring </div>\r\n<div style=\"margin-left: 20px\">maximize </div>\r\n<div style=\"margin-left: 40px\"><span style=\"\">(count-nonoverlapping throwBallFromChairToBin)</span> </div>\r\n<div style=\"margin-left: 0px\">) </div>\r\n<div style=\"margin-left: 0px\">) </div>"
     },
     "metadata": {}
    }
   ],
   "source": [
    "visualize(regrwoth_mutated_asts, 15)"
   ]
  },
  {
   "source": [
    "This game originally was something like \"consturct a a tunnel from the flat and bridge blocks, then throw the ball under the bridge.\n",
    "\n",
    "The change essentially makes it such that you have to construct a tunnel from the ramp and bridge blocks, but it doesn't enforce the first setup term, which was designed to make sure this bridge is constructed on the floor."
   ],
   "cell_type": "markdown",
   "metadata": {}
  },
  {
   "cell_type": "code",
   "execution_count": 29,
   "metadata": {},
   "outputs": [
    {
     "output_type": "stream",
     "name": "stdout",
     "text": [
      "With random seed 26, mutated:\n\n"
     ]
    },
    {
     "output_type": "display_data",
     "data": {
      "text/plain": "<IPython.core.display.HTML object>",
      "text/html": "<div style=\"margin-left: 0px\">(define (game medium-objects-2) (:domain medium-objects-room-v1) </div>\r\n<div style=\"margin-left: 0px\">(:setup </div>\r\n<div style=\"margin-left: 20px\">(and </div>\r\n<div style=\"margin-left: 40px\">(forall (<span style=\"\">?f - flat_block</span>) </div>\r\n<div style=\"margin-left: 60px\">(game-conserved </div>\r\n<div style=\"margin-left: 80px\"><span style=\"\">(on floor ?f)</span> </div>\r\n<div style=\"margin-left: 60px\">) </div>\r\n<div style=\"margin-left: 40px\">) </div>\r\n<div style=\"margin-left: 40px\">(forall (<span style=\"\">?b - bridge_block</span>) </div>\r\n<div style=\"margin-left: 60px\">(exists (<span style=\"color: #AA00FF\">?h - large_triangular_ramp</span>) </div>\r\n<div style=\"margin-left: 80px\">(game-conserved </div>\r\n<div style=\"margin-left: 100px\"><span style=\"\">(on ?h ?b)</span> </div>\r\n<div style=\"margin-left: 80px\">) </div>\r\n<div style=\"margin-left: 60px\">) </div>\r\n<div style=\"margin-left: 40px\">) </div>\r\n<div style=\"margin-left: 20px\">) </div>\r\n<div style=\"margin-left: 0px\">) </div>\r\n<div style=\"margin-left: 0px\">(:constraints </div>\r\n<div style=\"margin-left: 20px\">(and </div>\r\n<div style=\"margin-left: 40px\">(preference throwBallUnderBridge </div>\r\n<div style=\"margin-left: 60px\">(exists (<span style=\"\">?b - basketball</span> <span style=\"\">?bb - bridge_block</span>) </div>\r\n<div style=\"margin-left: 80px\">(then </div>\r\n<div style=\"margin-left: 100px\">(once <span style=\"\"> (and <span style=\"\">(agent_holds ?b)</span> <span style=\"\"> (not <span style=\"\">(under ?bb ?b)</span> ) </span> ) </span> ) </div>\r\n<div style=\"margin-left: 100px\">(hold-while <span style=\"\"> (and <span style=\"\">(in_motion ?b)</span> <span style=\"\"> (not <span style=\"\">(agent_holds ?b)</span> ) </span> <span style=\"\"> (not <span style=\"\">(agent_holds ?bb)</span> ) </span> ) </span> <span style=\"\">(under ?bb ?b)</span> ) </div>\r\n<div style=\"margin-left: 100px\">(once <span style=\"\"> (not <span style=\"\">(under ?bb ?b)</span> ) </span> ) </div>\r\n<div style=\"margin-left: 80px\">) </div>\r\n<div style=\"margin-left: 60px\">) </div>\r\n<div style=\"margin-left: 40px\">) </div>\r\n<div style=\"margin-left: 20px\">) </div>\r\n<div style=\"margin-left: 0px\">) </div>\r\n<div style=\"margin-left: 0px\">(:scoring </div>\r\n<div style=\"margin-left: 20px\">maximize </div>\r\n<div style=\"margin-left: 40px\"><span style=\"\">(count-nonoverlapping throwBallUnderBridge)</span> </div>\r\n<div style=\"margin-left: 0px\">) </div>\r\n<div style=\"margin-left: 0px\">) </div>"
     },
     "metadata": {}
    }
   ],
   "source": [
    "visualize(regrwoth_mutated_asts, 25)"
   ]
  },
  {
   "source": [
    "Changes the terminal conditions, which were originally `chairStoppedRotating` happening once (that is, the chair stops rotating), to `objectLandsOnRotatingChair` happening once, that is, ending at the first succesful shot. \n",
    "\n",
    "Not nonsense, but doesn't make too much sense either."
   ],
   "cell_type": "markdown",
   "metadata": {}
  },
  {
   "cell_type": "code",
   "execution_count": 32,
   "metadata": {},
   "outputs": [
    {
     "output_type": "stream",
     "name": "stdout",
     "text": [
      "With random seed 28, mutated:\n\n"
     ]
    },
    {
     "output_type": "display_data",
     "data": {
      "text/plain": "<IPython.core.display.HTML object>",
      "text/html": "<div style=\"margin-left: 0px\">(define (game few-objects-18) (:domain few-objects-room-v1) </div>\r\n<div style=\"margin-left: 0px\">(:setup </div>\r\n<div style=\"margin-left: 20px\">) </div>\r\n<div style=\"margin-left: 0px\">(:constraints </div>\r\n<div style=\"margin-left: 20px\">(and </div>\r\n<div style=\"margin-left: 40px\">(preference objectLandsOnRotatingChair </div>\r\n<div style=\"margin-left: 60px\">(exists (<span style=\"\">?o - game_object</span> <span style=\"\">?c - chair</span>) </div>\r\n<div style=\"margin-left: 80px\">(then </div>\r\n<div style=\"margin-left: 100px\">(once <span style=\"\"> (and <span style=\"\">(agent_holds ?o)</span> <span style=\"\">(is_rotating ?c)</span> ) </span> ) </div>\r\n<div style=\"margin-left: 100px\">(hold <span style=\"\"> (and <span style=\"\"> (not <span style=\"\">(agent_holds ?o)</span> ) </span> <span style=\"\">(in_motion ?o)</span> <span style=\"\">(is_rotating ?c)</span> ) </span> ) </div>\r\n<div style=\"margin-left: 100px\">(once <span style=\"\"> (and <span style=\"\">(is_rotating ?c)</span> <span style=\"\"> (not <span style=\"\">(in_motion ?o)</span> ) </span> <span style=\"\"> (or <span style=\"\">(on ?c ?o)</span> (exists (<span style=\"\">?o2 - game_object</span>) <span style=\"\"> (and <span style=\"\"> (not <span style=\"\">(= ?o ?o2)</span> ) </span> <span style=\"\">(in_building ?o2)</span> <span style=\"\">(on ?o2 ?o)</span> ) </span> ) ) </span> ) </span> ) </div>\r\n<div style=\"margin-left: 80px\">) </div>\r\n<div style=\"margin-left: 60px\">) </div>\r\n<div style=\"margin-left: 40px\">) </div>\r\n<div style=\"margin-left: 40px\">(preference chairStoppedRotating </div>\r\n<div style=\"margin-left: 60px\">(exists (<span style=\"\">?c - chair</span>) </div>\r\n<div style=\"margin-left: 80px\">(then </div>\r\n<div style=\"margin-left: 100px\">(once <span style=\"\"> (not <span style=\"\">(is_rotating ?c)</span> ) </span> ) </div>\r\n<div style=\"margin-left: 100px\">(hold <span style=\"\">(is_rotating ?c)</span> ) </div>\r\n<div style=\"margin-left: 100px\">(once <span style=\"\"> (not <span style=\"\">(is_rotating ?c)</span> ) </span> ) </div>\r\n<div style=\"margin-left: 80px\">) </div>\r\n<div style=\"margin-left: 60px\">) </div>\r\n<div style=\"margin-left: 40px\">) </div>\r\n<div style=\"margin-left: 20px\">) </div>\r\n<div style=\"margin-left: 0px\">) </div>\r\n<div style=\"margin-left: 0px\">(:terminal </div>\r\n<div style=\"margin-left: 20px\">(> <span style=\"color: #AA00FF\">(count-once objectLandsOnRotatingChair)</span> 0 ) </div>\r\n<div style=\"margin-left: 0px\">) </div>\r\n<div style=\"margin-left: 0px\">(:scoring </div>\r\n<div style=\"margin-left: 20px\">maximize </div>\r\n<div style=\"margin-left: 40px\">(* 10 <span style=\"\">(count-once-per-objects objectLandsOnRotatingChair)</span> ) </div>\r\n<div style=\"margin-left: 0px\">) </div>\r\n<div style=\"margin-left: 0px\">) </div>"
     },
     "metadata": {}
    }
   ],
   "source": [
    "visualize(regrwoth_mutated_asts, 27)"
   ]
  },
  {
   "source": [
    "Changes this game from balancing on the large triangular ramp (what it was before) to balancing on a cube block, which sounds like it would be rather harder?"
   ],
   "cell_type": "markdown",
   "metadata": {}
  },
  {
   "cell_type": "code",
   "execution_count": 43,
   "metadata": {},
   "outputs": [
    {
     "output_type": "stream",
     "name": "stdout",
     "text": [
      "With random seed 41, mutated:\n\n"
     ]
    },
    {
     "output_type": "display_data",
     "data": {
      "text/plain": "<IPython.core.display.HTML object>",
      "text/html": "<div style=\"margin-left: 0px\">(define (game many-objects-5) (:domain many-objects-room-v1) </div>\r\n<div style=\"margin-left: 0px\">(:setup </div>\r\n<div style=\"margin-left: 20px\">) </div>\r\n<div style=\"margin-left: 0px\">(:constraints </div>\r\n<div style=\"margin-left: 20px\">(and </div>\r\n<div style=\"margin-left: 40px\">(preference agentOnRampOnEdge </div>\r\n<div style=\"margin-left: 60px\">(exists (<span style=\"color: #AA00FF\">?h - cube_block</span>) </div>\r\n<div style=\"margin-left: 80px\">(then </div>\r\n<div style=\"margin-left: 100px\">(hold <span style=\"\"> (and <span style=\"\">(object_orientation ?h edge)</span> <span style=\"\">(on ?h agent)</span> ) </span> ) </div>\r\n<div style=\"margin-left: 80px\">) </div>\r\n<div style=\"margin-left: 60px\">) </div>\r\n<div style=\"margin-left: 40px\">) </div>\r\n<div style=\"margin-left: 20px\">) </div>\r\n<div style=\"margin-left: 0px\">) </div>\r\n<div style=\"margin-left: 0px\">(:scoring </div>\r\n<div style=\"margin-left: 20px\">maximize </div>\r\n<div style=\"margin-left: 40px\"><span style=\"\">(count-longest agentOnRampOnEdge)</span> </div>\r\n<div style=\"margin-left: 0px\">) </div>\r\n<div style=\"margin-left: 0px\">) </div>"
     },
     "metadata": {}
    }
   ],
   "source": [
    "visualize(regrwoth_mutated_asts, 40)"
   ]
  },
  {
   "source": [
    "Game changed from bowling a dodgeball to bowling a cube block"
   ],
   "cell_type": "markdown",
   "metadata": {}
  },
  {
   "cell_type": "code",
   "execution_count": 45,
   "metadata": {},
   "outputs": [
    {
     "output_type": "stream",
     "name": "stdout",
     "text": [
      "With random seed 43, mutated:\n\n"
     ]
    },
    {
     "output_type": "display_data",
     "data": {
      "text/plain": "<IPython.core.display.HTML object>",
      "text/html": "<div style=\"margin-left: 0px\">(define (game few-objects-7) (:domain few-objects-room-v1) </div>\r\n<div style=\"margin-left: 0px\">(:setup </div>\r\n<div style=\"margin-left: 20px\">(and </div>\r\n<div style=\"margin-left: 40px\">(exists (<span style=\"\">?c - curved_wooden_ramp</span> <span style=\"\">?h - hexagonal_bin</span>) </div>\r\n<div style=\"margin-left: 60px\">(and </div>\r\n<div style=\"margin-left: 80px\">(game-conserved </div>\r\n<div style=\"margin-left: 100px\"><span style=\"\">(adjacent <span style=\"\">(side ?h front)</span> <span style=\"\">(side ?c back)</span>)</span> </div>\r\n<div style=\"margin-left: 80px\">) </div>\r\n<div style=\"margin-left: 80px\">(game-conserved </div>\r\n<div style=\"margin-left: 100px\">(= <span style=\"\">(distance ?c room_center)</span> 1) </div>\r\n<div style=\"margin-left: 80px\">) </div>\r\n<div style=\"margin-left: 60px\">) </div>\r\n<div style=\"margin-left: 40px\">) </div>\r\n<div style=\"margin-left: 20px\">) </div>\r\n<div style=\"margin-left: 0px\">) </div>\r\n<div style=\"margin-left: 0px\">(:constraints </div>\r\n<div style=\"margin-left: 20px\">(and </div>\r\n<div style=\"margin-left: 40px\">(preference bowlBallToBin </div>\r\n<div style=\"margin-left: 60px\">(exists (<span style=\"color: #AA00FF\">?d - cube_block</span> <span style=\"\">?r - curved_wooden_ramp</span> <span style=\"\">?h - hexagonal_bin</span>) </div>\r\n<div style=\"margin-left: 80px\">(then </div>\r\n<div style=\"margin-left: 100px\">(once <span style=\"\">(agent_holds ?d)</span> ) </div>\r\n<div style=\"margin-left: 100px\">(hold-while <span style=\"\"> (and <span style=\"\"> (not <span style=\"\">(agent_holds ?d)</span> ) </span> <span style=\"\">(in_motion ?d)</span> ) </span> <span style=\"\">(on ?r ?d)</span> ) </div>\r\n<div style=\"margin-left: 100px\">(once <span style=\"\"> (and <span style=\"\">(on ?h ?d)</span> <span style=\"\"> (not <span style=\"\">(in_motion ?d)</span> ) </span> ) </span> ) </div>\r\n<div style=\"margin-left: 80px\">) </div>\r\n<div style=\"margin-left: 60px\">) </div>\r\n<div style=\"margin-left: 40px\">) </div>\r\n<div style=\"margin-left: 20px\">) </div>\r\n<div style=\"margin-left: 0px\">) </div>\r\n<div style=\"margin-left: 0px\">(:scoring </div>\r\n<div style=\"margin-left: 20px\">maximize </div>\r\n<div style=\"margin-left: 40px\">(* 5 <span style=\"\">(count-nonoverlapping bowlBallToBin)</span> ) </div>\r\n<div style=\"margin-left: 0px\">) </div>\r\n<div style=\"margin-left: 0px\">) </div>"
     },
     "metadata": {}
    }
   ],
   "source": [
    "visualize(regrwoth_mutated_asts, 42)"
   ]
  },
  {
   "source": [
    "Another minor semantic change, from bouncing a ball off the wall and catching it, to bouncing a ball off the curved wooden ramp and catching it."
   ],
   "cell_type": "markdown",
   "metadata": {}
  },
  {
   "cell_type": "code",
   "execution_count": 64,
   "metadata": {},
   "outputs": [
    {
     "output_type": "stream",
     "name": "stdout",
     "text": [
      "With random seed 55, mutated:\n\n"
     ]
    },
    {
     "output_type": "display_data",
     "data": {
      "text/plain": "<IPython.core.display.HTML object>",
      "text/html": "<div style=\"margin-left: 0px\">(define (game few-objects-15) (:domain few-objects-room-v1) </div>\r\n<div style=\"margin-left: 0px\">(:setup </div>\r\n<div style=\"margin-left: 20px\">) </div>\r\n<div style=\"margin-left: 0px\">(:constraints </div>\r\n<div style=\"margin-left: 20px\">(and </div>\r\n<div style=\"margin-left: 40px\">(preference throwToWallAndBack </div>\r\n<div style=\"margin-left: 60px\">(exists (<span style=\"\">?d - dodgeball</span> <span style=\"color: #AA00FF\">?r - curved_wooden_ramp</span>) </div>\r\n<div style=\"margin-left: 80px\">(then </div>\r\n<div style=\"margin-left: 100px\">(once <span style=\"\">(agent_holds ?d)</span> ) </div>\r\n<div style=\"margin-left: 100px\">(hold-while <span style=\"\"> (and <span style=\"\"> (not <span style=\"\">(agent_holds ?d)</span> ) </span> <span style=\"\">(in_motion ?d)</span> ) </span> <span style=\"\">(touch ?d ?r)</span> ) </div>\r\n<div style=\"margin-left: 100px\">(once-measure <span style=\"\">(agent_holds ?d)</span> <span style=\"\">(distance agent ?d)</span> ) </div>\r\n<div style=\"margin-left: 80px\">) </div>\r\n<div style=\"margin-left: 60px\">) </div>\r\n<div style=\"margin-left: 40px\">) </div>\r\n<div style=\"margin-left: 20px\">) </div>\r\n<div style=\"margin-left: 0px\">) </div>\r\n<div style=\"margin-left: 0px\">(:scoring </div>\r\n<div style=\"margin-left: 20px\">maximize </div>\r\n<div style=\"margin-left: 40px\"><span style=\"\">(count-increasing-measure throwToWallAndBack)</span> </div>\r\n<div style=\"margin-left: 0px\">) </div>\r\n<div style=\"margin-left: 0px\">) </div>"
     },
     "metadata": {}
    }
   ],
   "source": [
    "visualize(regrwoth_mutated_asts, 53)"
   ]
  },
  {
   "source": [
    "# Games generated by making a single step\n",
    "\n",
    "In these the color scheme is simpler -- the mutation is in blue (first color in a equential colormap, assuming I might want to eventually mark each mutation, or something)"
   ],
   "cell_type": "markdown",
   "metadata": {}
  },
  {
   "source": [
    "Changed the setup slightly -- before it was `(game-conserved (= (distance ?b ?r) 2))`, that is, the ramp is 2 meters from the bed, and now it's that the ramp is on the bed. This works."
   ],
   "cell_type": "markdown",
   "metadata": {}
  },
  {
   "cell_type": "code",
   "execution_count": 89,
   "metadata": {},
   "outputs": [
    {
     "output_type": "stream",
     "name": "stdout",
     "text": [
      "With random seed 3, mutated:\n\n"
     ]
    },
    {
     "output_type": "display_data",
     "data": {
      "text/plain": "<IPython.core.display.HTML object>",
      "text/html": "<div style=\"margin-left: 0px\">(define (game many-objects-21) (:domain many-objects-room-v1) </div>\r\n<div style=\"margin-left: 0px\">(:setup </div>\r\n<div style=\"margin-left: 20px\">(and </div>\r\n<div style=\"margin-left: 40px\">(exists (<span style=\"\">?h - hexagonal_bin</span> <span style=\"\">?b - bed</span>) </div>\r\n<div style=\"margin-left: 60px\">(game-conserved </div>\r\n<div style=\"margin-left: 80px\"><span style=\"\">(on ?b ?h)</span> </div>\r\n<div style=\"margin-left: 60px\">) </div>\r\n<div style=\"margin-left: 40px\">) </div>\r\n<div style=\"margin-left: 40px\">(exists (<span style=\"\">?r - curved_wooden_ramp</span> <span style=\"\">?b - bed</span>) </div>\r\n<div style=\"margin-left: 60px; color: #1f77b4\">(game-conserved </div>\r\n<div style=\"margin-left: 80px; color: #1f77b4\"><span style=\"color: #1f77b4\">(on ?b ?r)</span> </div>\r\n<div style=\"margin-left: 60px; color: #1f77b4\">) </div>\r\n<div style=\"margin-left: 40px\">) </div>\r\n<div style=\"margin-left: 20px\">) </div>\r\n<div style=\"margin-left: 0px\">) </div>\r\n<div style=\"margin-left: 0px\">(:constraints </div>\r\n<div style=\"margin-left: 20px\">(and </div>\r\n<div style=\"margin-left: 40px\">(preference throwBallToBinThroughRamp </div>\r\n<div style=\"margin-left: 60px\">(exists (<span style=\"\">?d - dodgeball</span> <span style=\"\">?h - hexagonal_bin</span> <span style=\"\">?r - curved_wooden_ramp</span> <span style=\"\">?w - north_wall</span>) </div>\r\n<div style=\"margin-left: 80px\">(then </div>\r\n<div style=\"margin-left: 100px\">(once <span style=\"\"> (and <span style=\"\">(agent_holds ?d)</span> (< <span style=\"\">(distance agent ?w)</span> 1) ) </span> ) </div>\r\n<div style=\"margin-left: 100px\">(hold-while <span style=\"\"> (and <span style=\"\"> (not <span style=\"\">(agent_holds ?d)</span> ) </span> <span style=\"\">(in_motion ?d)</span> ) </span> <span style=\"\">(touch ?d ?r)</span> ) </div>\r\n<div style=\"margin-left: 100px\">(once <span style=\"\"> (and <span style=\"\">(on ?h ?d)</span> <span style=\"\"> (not <span style=\"\">(in_motion ?d)</span> ) </span> ) </span> ) </div>\r\n<div style=\"margin-left: 80px\">) </div>\r\n<div style=\"margin-left: 60px\">) </div>\r\n<div style=\"margin-left: 40px\">) </div>\r\n<div style=\"margin-left: 20px\">) </div>\r\n<div style=\"margin-left: 0px\">) </div>\r\n<div style=\"margin-left: 0px\">(:scoring </div>\r\n<div style=\"margin-left: 20px\">maximize </div>\r\n<div style=\"margin-left: 40px\"><span style=\"\">(count-nonoverlapping throwBallToBinThroughRamp)</span> </div>\r\n<div style=\"margin-left: 0px\">) </div>\r\n<div style=\"margin-left: 0px\">) </div>"
     },
     "metadata": {}
    }
   ],
   "source": [
    "visualize(single_step_mutated_asts, 3)"
   ]
  },
  {
   "source": [
    "Another minor semantic difference -- from ending the game after three roll attempts, to ending it after three succesful rolls."
   ],
   "cell_type": "markdown",
   "metadata": {}
  },
  {
   "cell_type": "code",
   "execution_count": 93,
   "metadata": {},
   "outputs": [
    {
     "output_type": "stream",
     "name": "stdout",
     "text": [
      "With random seed 6, mutated:\n\n"
     ]
    },
    {
     "output_type": "display_data",
     "data": {
      "text/plain": "<IPython.core.display.HTML object>",
      "text/html": "<div style=\"margin-left: 0px\">(define (game many-objects-24) (:domain many-objects-room-v1) </div>\r\n<div style=\"margin-left: 0px\">(:setup </div>\r\n<div style=\"margin-left: 20px\">(and </div>\r\n<div style=\"margin-left: 40px\">(exists (<span style=\"\">?h - hexagonal_bin</span>) </div>\r\n<div style=\"margin-left: 60px\">(forall (<span style=\"\">?b - block</span>) </div>\r\n<div style=\"margin-left: 80px\">(or </div>\r\n<div style=\"margin-left: 100px\">(game-optional </div>\r\n<div style=\"margin-left: 120px\"><span style=\"\">(adjacent ?b bed)</span> </div>\r\n<div style=\"margin-left: 100px\">) </div>\r\n<div style=\"margin-left: 100px\">(game-optional </div>\r\n<div style=\"margin-left: 120px\"><span style=\"\">(adjacent ?b ?h)</span> </div>\r\n<div style=\"margin-left: 100px\">) </div>\r\n<div style=\"margin-left: 100px\">(exists (<span style=\"\">?b2 - block</span>) </div>\r\n<div style=\"margin-left: 120px\">(game-optional </div>\r\n<div style=\"margin-left: 140px\">(and </div>\r\n<div style=\"margin-left: 160px\">(not </div>\r\n<div style=\"margin-left: 180px\"><span style=\"\">(= ?b ?b2)</span> </div>\r\n<div style=\"margin-left: 160px\">) </div>\r\n<div style=\"margin-left: 160px\">(or </div>\r\n<div style=\"margin-left: 180px\"><span style=\"\">(on ?b2 ?b)</span> </div>\r\n<div style=\"margin-left: 180px\"><span style=\"\">(adjacent ?b2 ?b)</span> </div>\r\n<div style=\"margin-left: 160px\">) </div>\r\n<div style=\"margin-left: 140px\">) </div>\r\n<div style=\"margin-left: 120px\">) </div>\r\n<div style=\"margin-left: 100px\">) </div>\r\n<div style=\"margin-left: 80px\">) </div>\r\n<div style=\"margin-left: 60px\">) </div>\r\n<div style=\"margin-left: 40px\">) </div>\r\n<div style=\"margin-left: 20px\">) </div>\r\n<div style=\"margin-left: 0px\">) </div>\r\n<div style=\"margin-left: 0px\">(:constraints </div>\r\n<div style=\"margin-left: 20px\">(and </div>\r\n<div style=\"margin-left: 40px\">(preference rollBallToBin </div>\r\n<div style=\"margin-left: 60px\">(exists (<span style=\"\">?g - golfball</span> <span style=\"\">?h - hexagonal_bin</span> <span style=\"\">?b - bed</span> <span style=\"\">?f - floor</span>) </div>\r\n<div style=\"margin-left: 80px\">(then </div>\r\n<div style=\"margin-left: 100px\">(once <span style=\"\"> (and <span style=\"\">(agent_holds ?g)</span> <span style=\"\">(on ?b agent)</span> ) </span> ) </div>\r\n<div style=\"margin-left: 100px\">(hold <span style=\"\"> (and <span style=\"\">(in_motion ?g)</span> <span style=\"\"> (not <span style=\"\">(agent_holds ?g)</span> ) </span> (exists (<span style=\"\">?z - block</span>) <span style=\"\">(touch ?g ?b)</span> ) ) </span> ) </div>\r\n<div style=\"margin-left: 100px\">(once <span style=\"\"> (and <span style=\"\"> (or <span style=\"\">(on ?h ?g)</span> <span style=\"\">(on ?f ?g)</span> ) </span> <span style=\"\"> (not <span style=\"\">(in_motion ?g)</span> ) </span> ) </span> ) </div>\r\n<div style=\"margin-left: 80px\">) </div>\r\n<div style=\"margin-left: 60px\">) </div>\r\n<div style=\"margin-left: 40px\">) </div>\r\n<div style=\"margin-left: 40px\">(preference rollAttempt </div>\r\n<div style=\"margin-left: 60px\">(exists (<span style=\"\">?g - golfball</span> <span style=\"\">?b - block</span> <span style=\"\">?c - bed</span>) </div>\r\n<div style=\"margin-left: 80px\">(then </div>\r\n<div style=\"margin-left: 100px\">(once <span style=\"\"> (and <span style=\"\">(agent_holds ?g)</span> <span style=\"\">(on ?b agent)</span> ) </span> ) </div>\r\n<div style=\"margin-left: 100px\">(hold <span style=\"\"> (and <span style=\"\">(in_motion ?g)</span> <span style=\"\"> (not <span style=\"\">(agent_holds ?g)</span> ) </span> ) </span> ) </div>\r\n<div style=\"margin-left: 100px\">(once <span style=\"\">(touch ?g ?b)</span> ) </div>\r\n<div style=\"margin-left: 80px\">) </div>\r\n<div style=\"margin-left: 60px\">) </div>\r\n<div style=\"margin-left: 40px\">) </div>\r\n<div style=\"margin-left: 20px\">) </div>\r\n<div style=\"margin-left: 0px\">) </div>\r\n<div style=\"margin-left: 0px\">(:terminal </div>\r\n<div style=\"margin-left: 20px\">(>= <span style=\"color: #1f77b4\">(count-nonoverlapping rollBallToBin)</span> 3 ) </div>\r\n<div style=\"margin-left: 0px\">) </div>\r\n<div style=\"margin-left: 0px\">(:scoring </div>\r\n<div style=\"margin-left: 20px\">maximize </div>\r\n<div style=\"margin-left: 40px\">(* 10 <span style=\"\">(count-total rollBallToBin)</span> ) </div>\r\n<div style=\"margin-left: 0px\">) </div>\r\n<div style=\"margin-left: 0px\">) </div>"
     },
     "metadata": {}
    }
   ],
   "source": [
    "visualize(single_step_mutated_asts, 6)"
   ]
  },
  {
   "source": [
    "I think the other substitution method also did something like this -- though it bounced it off the curved ramp, and this bounces it off the hexagonal bin"
   ],
   "cell_type": "markdown",
   "metadata": {}
  },
  {
   "cell_type": "code",
   "execution_count": 115,
   "metadata": {},
   "outputs": [
    {
     "output_type": "stream",
     "name": "stdout",
     "text": [
      "With random seed 21, mutated:\n\n"
     ]
    },
    {
     "output_type": "display_data",
     "data": {
      "text/plain": "<IPython.core.display.HTML object>",
      "text/html": "<div style=\"margin-left: 0px\">(define (game few-objects-15) (:domain few-objects-room-v1) </div>\r\n<div style=\"margin-left: 0px\">(:setup </div>\r\n<div style=\"margin-left: 20px\">) </div>\r\n<div style=\"margin-left: 0px\">(:constraints </div>\r\n<div style=\"margin-left: 20px\">(and </div>\r\n<div style=\"margin-left: 40px\">(preference throwToWallAndBack </div>\r\n<div style=\"margin-left: 60px\">(exists (<span style=\"\">?d - dodgeball</span> <span style=\"color: #1f77b4\">?w - hexagonal_bin</span>) </div>\r\n<div style=\"margin-left: 80px\">(then </div>\r\n<div style=\"margin-left: 100px\">(once <span style=\"\">(agent_holds ?d)</span> ) </div>\r\n<div style=\"margin-left: 100px\">(hold-while <span style=\"\"> (and <span style=\"\"> (not <span style=\"\">(agent_holds ?d)</span> ) </span> <span style=\"\">(in_motion ?d)</span> ) </span> <span style=\"\">(touch ?d ?w)</span> ) </div>\r\n<div style=\"margin-left: 100px\">(once-measure <span style=\"\">(agent_holds ?d)</span> <span style=\"\">(distance agent ?w)</span> ) </div>\r\n<div style=\"margin-left: 80px\">) </div>\r\n<div style=\"margin-left: 60px\">) </div>\r\n<div style=\"margin-left: 40px\">) </div>\r\n<div style=\"margin-left: 20px\">) </div>\r\n<div style=\"margin-left: 0px\">) </div>\r\n<div style=\"margin-left: 0px\">(:scoring </div>\r\n<div style=\"margin-left: 20px\">maximize </div>\r\n<div style=\"margin-left: 40px\"><span style=\"\">(count-increasing-measure throwToWallAndBack)</span> </div>\r\n<div style=\"margin-left: 0px\">) </div>\r\n<div style=\"margin-left: 0px\">) </div>"
     },
     "metadata": {}
    }
   ],
   "source": [
    "visualize(single_step_mutated_asts, 19)"
   ]
  },
  {
   "source": [
    "Throw the cellphone such that it is adjacent to the doggie bed, rather than such that it lands on it. Cute and valid.m"
   ],
   "cell_type": "markdown",
   "metadata": {}
  },
  {
   "cell_type": "code",
   "execution_count": 117,
   "metadata": {},
   "outputs": [
    {
     "output_type": "stream",
     "name": "stdout",
     "text": [
      "With random seed 23, mutated:\n\n"
     ]
    },
    {
     "output_type": "display_data",
     "data": {
      "text/plain": "<IPython.core.display.HTML object>",
      "text/html": "<div style=\"margin-left: 0px\">(define (game few-objects-9) (:domain few-objects-room-v1) </div>\r\n<div style=\"margin-left: 0px\">(:setup </div>\r\n<div style=\"margin-left: 20px\">) </div>\r\n<div style=\"margin-left: 0px\">(:constraints </div>\r\n<div style=\"margin-left: 20px\">(and </div>\r\n<div style=\"margin-left: 40px\">(preference cellPhoneThrownOnDoggieBed </div>\r\n<div style=\"margin-left: 60px\">(exists (<span style=\"\">?d - doggie_bed</span> <span style=\"\">?c - cellphone</span>) </div>\r\n<div style=\"margin-left: 80px\">(then </div>\r\n<div style=\"margin-left: 100px\">(once <span style=\"\">(agent_holds ?c)</span> ) </div>\r\n<div style=\"margin-left: 100px\">(hold <span style=\"\"> (and <span style=\"\"> (not <span style=\"\">(agent_holds ?c)</span> ) </span> <span style=\"\">(in_motion ?c)</span> ) </span> ) </div>\r\n<div style=\"margin-left: 100px\">(once <span style=\"\"> (and <span style=\"color: #1f77b4\">(adjacent ?d ?c)</span> <span style=\"\"> (not <span style=\"\">(in_motion ?c)</span> ) </span> ) </span> ) </div>\r\n<div style=\"margin-left: 80px\">) </div>\r\n<div style=\"margin-left: 60px\">) </div>\r\n<div style=\"margin-left: 40px\">) </div>\r\n<div style=\"margin-left: 40px\">(preference textbookThrownOnDoggieBed </div>\r\n<div style=\"margin-left: 60px\">(exists (<span style=\"\">?d - doggie_bed</span> <span style=\"\">?t - textbook</span>) </div>\r\n<div style=\"margin-left: 80px\">(then </div>\r\n<div style=\"margin-left: 100px\">(once <span style=\"\">(agent_holds ?t)</span> ) </div>\r\n<div style=\"margin-left: 100px\">(hold <span style=\"\"> (and <span style=\"\"> (not <span style=\"\">(agent_holds ?t)</span> ) </span> <span style=\"\">(in_motion ?t)</span> ) </span> ) </div>\r\n<div style=\"margin-left: 100px\">(once <span style=\"\"> (and <span style=\"\">(on ?d ?t)</span> <span style=\"\"> (not <span style=\"\">(in_motion ?t)</span> ) </span> ) </span> ) </div>\r\n<div style=\"margin-left: 80px\">) </div>\r\n<div style=\"margin-left: 60px\">) </div>\r\n<div style=\"margin-left: 40px\">) </div>\r\n<div style=\"margin-left: 40px\">(preference laptopThrownOnDoggieBed </div>\r\n<div style=\"margin-left: 60px\">(exists (<span style=\"\">?d - doggie_bed</span> <span style=\"\">?l - laptop</span>) </div>\r\n<div style=\"margin-left: 80px\">(then </div>\r\n<div style=\"margin-left: 100px\">(once <span style=\"\">(agent_holds ?l)</span> ) </div>\r\n<div style=\"margin-left: 100px\">(hold <span style=\"\"> (and <span style=\"\"> (not <span style=\"\">(agent_holds ?l)</span> ) </span> <span style=\"\">(in_motion ?l)</span> ) </span> ) </div>\r\n<div style=\"margin-left: 100px\">(once <span style=\"\"> (and <span style=\"\">(on ?d ?l)</span> <span style=\"\"> (not <span style=\"\">(in_motion ?d)</span> ) </span> ) </span> ) </div>\r\n<div style=\"margin-left: 80px\">) </div>\r\n<div style=\"margin-left: 60px\">) </div>\r\n<div style=\"margin-left: 40px\">) </div>\r\n<div style=\"margin-left: 20px\">) </div>\r\n<div style=\"margin-left: 0px\">) </div>\r\n<div style=\"margin-left: 0px\">(:scoring </div>\r\n<div style=\"margin-left: 20px\">maximize </div>\r\n<div style=\"margin-left: 40px\">(+ (* 15 <span style=\"\">(count-nonoverlapping cellPhoneThrownOnDoggieBed)</span> ) </div>\r\n<div style=\"margin-left: 60px\">(* 10 <span style=\"\">(count-nonoverlapping textbookThrownOnDoggieBed)</span> ) </div>\r\n<div style=\"margin-left: 60px\">(* 5 <span style=\"\">(count-nonoverlapping laptopThrownOnDoggieBed)</span> ) </div>\r\n<div style=\"margin-left: 40px\">) </div>\r\n<div style=\"margin-left: 0px\">) </div>\r\n<div style=\"margin-left: 0px\">) </div>"
     },
     "metadata": {}
    }
   ],
   "source": [
    "visualize(single_step_mutated_asts, 21)"
   ]
  },
  {
   "source": [
    "Originally, that preference asked to to the chair with the pillow. Now it asks that after throwing the pillow, and before the pillow stops moving (or the agent picks it up again), the chair will move. Presumably this could happen because the agent moves it, or the pillow hits it. Totally valid."
   ],
   "cell_type": "markdown",
   "metadata": {}
  },
  {
   "cell_type": "code",
   "execution_count": 121,
   "metadata": {},
   "outputs": [
    {
     "output_type": "stream",
     "name": "stdout",
     "text": [
      "With random seed 26, mutated:\n\n"
     ]
    },
    {
     "output_type": "display_data",
     "data": {
      "text/plain": "<IPython.core.display.HTML object>",
      "text/html": "<div style=\"margin-left: 0px\">(define (game few-objects-10) (:domain few-objects-room-v1) </div>\r\n<div style=\"margin-left: 0px\">(:setup </div>\r\n<div style=\"margin-left: 20px\">) </div>\r\n<div style=\"margin-left: 0px\">(:constraints </div>\r\n<div style=\"margin-left: 20px\">(and </div>\r\n<div style=\"margin-left: 40px\">(preference chairHitFromBedWithDoggieBed </div>\r\n<div style=\"margin-left: 60px\">(exists (<span style=\"\">?b - bed</span> <span style=\"\">?c - chair</span> <span style=\"\">?d - doggie_bed</span>) </div>\r\n<div style=\"margin-left: 80px\">(then </div>\r\n<div style=\"margin-left: 100px\">(once <span style=\"\"> (and <span style=\"\">(agent_holds ?d)</span> <span style=\"\">(on ?b agent)</span> ) </span> ) </div>\r\n<div style=\"margin-left: 100px\">(hold <span style=\"\"> (and <span style=\"\"> (not <span style=\"\">(agent_holds ?d)</span> ) </span> <span style=\"\">(in_motion ?d)</span> ) </span> ) </div>\r\n<div style=\"margin-left: 100px\">(once <span style=\"\">(touch ?d ?c)</span> ) </div>\r\n<div style=\"margin-left: 80px\">) </div>\r\n<div style=\"margin-left: 60px\">) </div>\r\n<div style=\"margin-left: 40px\">) </div>\r\n<div style=\"margin-left: 40px\">(preference chairHitFromBedWithPillow </div>\r\n<div style=\"margin-left: 60px\">(exists (<span style=\"\">?b - bed</span> <span style=\"\">?c - chair</span> <span style=\"\">?p - pillow</span>) </div>\r\n<div style=\"margin-left: 80px\">(then </div>\r\n<div style=\"margin-left: 100px\">(once <span style=\"\"> (and <span style=\"\">(agent_holds ?p)</span> <span style=\"\">(on ?b agent)</span> ) </span> ) </div>\r\n<div style=\"margin-left: 100px\">(hold <span style=\"\"> (and <span style=\"\"> (not <span style=\"\">(agent_holds ?p)</span> ) </span> <span style=\"\">(in_motion ?p)</span> ) </span> ) </div>\r\n<div style=\"margin-left: 100px\">(once <span style=\"color: #1f77b4\">(in_motion ?c)</span> ) </div>\r\n<div style=\"margin-left: 80px\">) </div>\r\n<div style=\"margin-left: 60px\">) </div>\r\n<div style=\"margin-left: 40px\">) </div>\r\n<div style=\"margin-left: 20px\">) </div>\r\n<div style=\"margin-left: 0px\">) </div>\r\n<div style=\"margin-left: 0px\">(:scoring </div>\r\n<div style=\"margin-left: 20px\">maximize </div>\r\n<div style=\"margin-left: 40px\">(+ (* 20 <span style=\"\">(count-nonoverlapping chairHitFromBedWithDoggieBed)</span> ) </div>\r\n<div style=\"margin-left: 60px\">(* 20 <span style=\"\">(count-nonoverlapping chairHitFromBedWithPillow)</span> ) </div>\r\n<div style=\"margin-left: 40px\">) </div>\r\n<div style=\"margin-left: 0px\">) </div>\r\n<div style=\"margin-left: 0px\">) </div>"
     },
     "metadata": {}
    }
   ],
   "source": [
    "visualize(single_step_mutated_asts, 24)"
   ]
  },
  {
   "source": [
    "I'm mildly stunned this worked, but it worked -- this is what was there before: `(exists (?b2 - (either cube_block tall_cylindrical_block short_cylindrical_block)) (on ?b1 ?b2))`\n",
    "\n",
    "\n",
    "Now it asks if there's another game object, that is in the building, and `?b1` is on the game object `?o2` -- it basically changes the game from \"build a tower with the blocks\" to \"build a tower, starting from a block, and using any object you want, but you only get points for each block you use\" -- so you could use other objects to stabilize, for example."
   ],
   "cell_type": "markdown",
   "metadata": {}
  },
  {
   "cell_type": "code",
   "execution_count": 137,
   "metadata": {},
   "outputs": [
    {
     "output_type": "stream",
     "name": "stdout",
     "text": [
      "With random seed 45, mutated:\n\n"
     ]
    },
    {
     "output_type": "display_data",
     "data": {
      "text/plain": "<IPython.core.display.HTML object>",
      "text/html": "<div style=\"margin-left: 0px\">(define (game many-objects-15) (:domain many-objects-room-v1) </div>\r\n<div style=\"margin-left: 0px\">(:setup </div>\r\n<div style=\"margin-left: 20px\">(and </div>\r\n<div style=\"margin-left: 40px\">(forall (<span style=\"\">?b - (either cube_block tall_cylindrical_block short_cylindrical_block)</span> <span style=\"\">?r - room_center</span>) </div>\r\n<div style=\"margin-left: 60px\">(game-optional </div>\r\n<div style=\"margin-left: 80px\">(< <span style=\"\">(distance ?r ?b)</span> 1) </div>\r\n<div style=\"margin-left: 60px\">) </div>\r\n<div style=\"margin-left: 40px\">) </div>\r\n<div style=\"margin-left: 20px\">) </div>\r\n<div style=\"margin-left: 0px\">) </div>\r\n<div style=\"margin-left: 0px\">(:constraints </div>\r\n<div style=\"margin-left: 20px\">(and </div>\r\n<div style=\"margin-left: 40px\">(preference blockOnFloor </div>\r\n<div style=\"margin-left: 60px\">(exists (<span style=\"\">?b - (either cube_block tall_cylindrical_block short_cylindrical_block)</span>) </div>\r\n<div style=\"margin-left: 80px\">(at-end </div>\r\n<div style=\"margin-left: 100px\">(and </div>\r\n<div style=\"margin-left: 120px\"><span style=\"\">(in_building ?b)</span> </div>\r\n<div style=\"margin-left: 120px\"><span style=\"\">(on floor ?b)</span> </div>\r\n<div style=\"margin-left: 100px\">) </div>\r\n<div style=\"margin-left: 80px\">) </div>\r\n<div style=\"margin-left: 60px\">) </div>\r\n<div style=\"margin-left: 40px\">) </div>\r\n<div style=\"margin-left: 40px\">(preference blockOnBlock </div>\r\n<div style=\"margin-left: 60px\">(exists (<span style=\"\">?b1 - (either cube_block tall_cylindrical_block short_cylindrical_block)</span>) </div>\r\n<div style=\"margin-left: 80px\">(at-end </div>\r\n<div style=\"margin-left: 100px\">(and </div>\r\n<div style=\"margin-left: 120px\"><span style=\"\">(in_building ?b1)</span> </div>\r\n<div style=\"margin-left: 120px; color: #1f77b4\">(exists (<span style=\"color: #1f77b4\">?o2 - game_object</span>) </div>\r\n<div style=\"margin-left: 140px; color: #1f77b4\">(and </div>\r\n<div style=\"margin-left: 160px; color: #1f77b4\">(not </div>\r\n<div style=\"margin-left: 180px; color: #1f77b4\"><span style=\"color: #1f77b4\">(= ?b1 ?o2)</span> </div>\r\n<div style=\"margin-left: 160px; color: #1f77b4\">) </div>\r\n<div style=\"margin-left: 160px; color: #1f77b4\"><span style=\"color: #1f77b4\">(in_building ?o2)</span> </div>\r\n<div style=\"margin-left: 160px; color: #1f77b4\"><span style=\"color: #1f77b4\">(on ?o2 ?b1)</span> </div>\r\n<div style=\"margin-left: 140px; color: #1f77b4\">) </div>\r\n<div style=\"margin-left: 120px; color: #1f77b4\">) </div>\r\n<div style=\"margin-left: 100px\">) </div>\r\n<div style=\"margin-left: 80px\">) </div>\r\n<div style=\"margin-left: 60px\">) </div>\r\n<div style=\"margin-left: 40px\">) </div>\r\n<div style=\"margin-left: 20px\">) </div>\r\n<div style=\"margin-left: 0px\">) </div>\r\n<div style=\"margin-left: 0px\">(:scoring </div>\r\n<div style=\"margin-left: 20px\">maximize </div>\r\n<div style=\"margin-left: 40px\">(+ <span style=\"\">(count-once blockOnFloor)</span> <span style=\"\">(count-once-per-objects blockOnBlock)</span> ) </div>\r\n<div style=\"margin-left: 0px\">) </div>\r\n<div style=\"margin-left: 0px\">) </div>"
     },
     "metadata": {}
    }
   ],
   "source": [
    "visualize(single_step_mutated_asts, 38)"
   ]
  },
  {
   "cell_type": "code",
   "execution_count": null,
   "metadata": {},
   "outputs": [],
   "source": []
  },
  {
   "cell_type": "code",
   "execution_count": null,
   "metadata": {},
   "outputs": [],
   "source": []
  },
  {
   "cell_type": "code",
   "execution_count": null,
   "metadata": {},
   "outputs": [],
   "source": []
  },
  {
   "cell_type": "code",
   "execution_count": null,
   "metadata": {},
   "outputs": [],
   "source": []
  },
  {
   "cell_type": "code",
   "execution_count": null,
   "metadata": {},
   "outputs": [],
   "source": []
  },
  {
   "cell_type": "code",
   "execution_count": null,
   "metadata": {},
   "outputs": [],
   "source": []
  },
  {
   "source": [
    "# Debugging\n",
    "\n",
    "### TODO:\n",
    "* Handle `either_types` printing, scoring arithmetic expressions, cases where only the variable list is new.\n",
    "* Do all of this by changing the high-level handling of mutations to a decorator in the printing function."
   ],
   "cell_type": "markdown",
   "metadata": {}
  },
  {
   "cell_type": "code",
   "execution_count": 123,
   "metadata": {},
   "outputs": [
    {
     "output_type": "stream",
     "name": "stdout",
     "text": [
      "{'type_names': ['baseketball', 'dodgeball', 'beachball'], 'parseinfo': [None, 'either_types', 723, 763, 0, 0], 'mutation': 0}\n"
     ]
    }
   ],
   "source": [
    "import mutation_experiments\n",
    "mutation_experiments._find_mutations(single_step_mutated_asts[25])"
   ]
  },
  {
   "cell_type": "code",
   "execution_count": 50,
   "metadata": {},
   "outputs": [
    {
     "output_type": "execute_result",
     "data": {
      "text/plain": [
       "[]"
      ]
     },
     "metadata": {},
     "execution_count": 50
    }
   ],
   "source": [
    "new_ast_to_buffer(regrwoth_mutated_asts, 45)\n",
    "[line for line in ast_printer.BUFFER if 'color' in line]"
   ]
  },
  {
   "cell_type": "code",
   "execution_count": 27,
   "metadata": {},
   "outputs": [],
   "source": [
    "for idx, ast in enumerate(mutated_asts):\n",
    "    new_ast_to_buffer(mutated_asts, idx)\n",
    "    if sum(['color' in line for line in ast_printer.BUFFER]) == 0:\n",
    "        print(idx)"
   ]
  }
 ]
}