{
 "cells": [
  {
   "cell_type": "code",
   "execution_count": 1,
   "metadata": {},
   "outputs": [],
   "source": [
    "%autoreload 2\n"
   ]
  },
  {
   "cell_type": "code",
   "execution_count": 2,
   "metadata": {},
   "outputs": [],
   "source": [
    "from argparse import Namespace\n",
    "from collections import defaultdict\n",
    "import copy\n",
    "import difflib\n",
    "import gzip\n",
    "import itertools\n",
    "import os\n",
    "import pickle\n",
    "import sys\n",
    "import typing\n",
    "\n",
    "from IPython.display import display, Markdown, HTML\n",
    "import matplotlib\n",
    "import matplotlib.pyplot as plt\n",
    "import numpy as np\n",
    "import pandas as pd\n",
    "import sklearn\n",
    "from sklearn.model_selection import GridSearchCV, train_test_split, KFold\n",
    "from sklearn.pipeline import Pipeline\n",
    "import tatsu\n",
    "import torch\n",
    "import torch.nn as nn\n",
    "import torch.nn.functional as F\n",
    "from torch.utils.data import TensorDataset, DataLoader\n",
    "import tqdm.notebook as tqdm\n",
    "\n",
    "\n",
    "sys.path.append(os.path.abspath('..'))\n",
    "sys.path.append(os.path.abspath('../src'))\n",
    "from src import fitness_energy_utils as utils\n",
    "from src.fitness_energy_utils import NON_FEATURE_COLUMNS\n",
    "from src.ast_counter_sampler import *\n",
    "from src.ast_utils import cached_load_and_parse_games_from_file, load_games_from_file, _extract_game_id\n",
    "from src import ast_printer"
   ]
  },
  {
   "cell_type": "code",
   "execution_count": 3,
   "metadata": {},
   "outputs": [
    {
     "name": "stdout",
     "output_type": "stream",
     "text": [
      "98 6272 64.0 100352 1024.0\n"
     ]
    }
   ],
   "source": [
    "grammar = open('../dsl/dsl.ebnf').read()\n",
    "grammar_parser = tatsu.compile(grammar)\n",
    "game_asts = list(cached_load_and_parse_games_from_file('../dsl/interactive-beta.pddl', grammar_parser, False, relative_path='..'))\n",
    "real_game_texts = [ast_printer.ast_to_string(ast, '\\n') for ast in game_asts]\n",
    "regrown_game_texts = list(load_games_from_file('../dsl/ast-real-regrowth-samples.pddl'))\n",
    "regrown_game_1024_texts = list(load_games_from_file('../dsl/ast-real-regrowth-samples-1024.pddl'))\n",
    "print(len(real_game_texts), len(regrown_game_texts), len(regrown_game_texts) / 98, len(regrown_game_1024_texts), len(regrown_game_1024_texts) / 98)\n"
   ]
  },
  {
   "cell_type": "code",
   "execution_count": 4,
   "metadata": {},
   "outputs": [
    {
     "name": "stdout",
     "output_type": "stream",
     "text": [
      "['interactive-beta.pddl' 'ast-real-regrowth-samples-1024.pddl']\n"
     ]
    },
    {
     "data": {
      "text/html": [
       "<div>\n",
       "<style scoped>\n",
       "    .dataframe tbody tr th:only-of-type {\n",
       "        vertical-align: middle;\n",
       "    }\n",
       "\n",
       "    .dataframe tbody tr th {\n",
       "        vertical-align: top;\n",
       "    }\n",
       "\n",
       "    .dataframe thead th {\n",
       "        text-align: right;\n",
       "    }\n",
       "</style>\n",
       "<table border=\"1\" class=\"dataframe\">\n",
       "  <thead>\n",
       "    <tr style=\"text-align: right;\">\n",
       "      <th></th>\n",
       "      <th>Index</th>\n",
       "      <th>src_file</th>\n",
       "      <th>game_name</th>\n",
       "      <th>domain_name</th>\n",
       "      <th>original_game_name</th>\n",
       "      <th>real</th>\n",
       "      <th>all_variables_defined</th>\n",
       "      <th>all_variables_used</th>\n",
       "      <th>all_preferences_used</th>\n",
       "      <th>setup_objects_used</th>\n",
       "      <th>...</th>\n",
       "      <th>ast_ngram_constraints_n_6_score</th>\n",
       "      <th>ast_ngram_constraints_n_7_score</th>\n",
       "      <th>ast_ngram_terminal_n_2_score</th>\n",
       "      <th>ast_ngram_terminal_n_3_score</th>\n",
       "      <th>ast_ngram_terminal_n_4_score</th>\n",
       "      <th>ast_ngram_terminal_n_5_score</th>\n",
       "      <th>ast_ngram_scoring_n_2_score</th>\n",
       "      <th>ast_ngram_scoring_n_3_score</th>\n",
       "      <th>ast_ngram_scoring_n_4_score</th>\n",
       "      <th>ast_ngram_scoring_n_5_score</th>\n",
       "    </tr>\n",
       "  </thead>\n",
       "  <tbody>\n",
       "    <tr>\n",
       "      <th>0</th>\n",
       "      <td>0</td>\n",
       "      <td>interactive-beta.pddl</td>\n",
       "      <td>6172feb1665491d1efbce164-0</td>\n",
       "      <td>medium-objects-room-v1</td>\n",
       "      <td>6172feb1665491d1efbce164-0</td>\n",
       "      <td>1</td>\n",
       "      <td>1</td>\n",
       "      <td>1</td>\n",
       "      <td>1</td>\n",
       "      <td>1.00</td>\n",
       "      <td>...</td>\n",
       "      <td>0.977468</td>\n",
       "      <td>0.984682</td>\n",
       "      <td>0.970248</td>\n",
       "      <td>0.981414</td>\n",
       "      <td>0.981920</td>\n",
       "      <td>0.983617</td>\n",
       "      <td>0.918779</td>\n",
       "      <td>0.915870</td>\n",
       "      <td>0.975457</td>\n",
       "      <td>0.987465</td>\n",
       "    </tr>\n",
       "    <tr>\n",
       "      <th>1</th>\n",
       "      <td>1</td>\n",
       "      <td>interactive-beta.pddl</td>\n",
       "      <td>5f77754ba932fb2c4ba181d8-2</td>\n",
       "      <td>many-objects-room-v1</td>\n",
       "      <td>5f77754ba932fb2c4ba181d8-2</td>\n",
       "      <td>1</td>\n",
       "      <td>1</td>\n",
       "      <td>1</td>\n",
       "      <td>1</td>\n",
       "      <td>1.00</td>\n",
       "      <td>...</td>\n",
       "      <td>0.966900</td>\n",
       "      <td>0.956570</td>\n",
       "      <td>0.966645</td>\n",
       "      <td>0.978594</td>\n",
       "      <td>0.977472</td>\n",
       "      <td>0.984273</td>\n",
       "      <td>0.918982</td>\n",
       "      <td>0.914855</td>\n",
       "      <td>0.921927</td>\n",
       "      <td>0.926536</td>\n",
       "    </tr>\n",
       "    <tr>\n",
       "      <th>2</th>\n",
       "      <td>2</td>\n",
       "      <td>interactive-beta.pddl</td>\n",
       "      <td>614b603d4da88384282967a7-3</td>\n",
       "      <td>many-objects-room-v1</td>\n",
       "      <td>614b603d4da88384282967a7-3</td>\n",
       "      <td>1</td>\n",
       "      <td>1</td>\n",
       "      <td>1</td>\n",
       "      <td>1</td>\n",
       "      <td>0.00</td>\n",
       "      <td>...</td>\n",
       "      <td>0.977608</td>\n",
       "      <td>0.980905</td>\n",
       "      <td>0.000000</td>\n",
       "      <td>0.000000</td>\n",
       "      <td>0.000000</td>\n",
       "      <td>0.000000</td>\n",
       "      <td>0.844515</td>\n",
       "      <td>0.859086</td>\n",
       "      <td>0.923877</td>\n",
       "      <td>0.942661</td>\n",
       "    </tr>\n",
       "    <tr>\n",
       "      <th>3</th>\n",
       "      <td>3</td>\n",
       "      <td>interactive-beta.pddl</td>\n",
       "      <td>5bc79f652885710001a0e82a-5</td>\n",
       "      <td>few-objects-room-v1</td>\n",
       "      <td>5bc79f652885710001a0e82a-5</td>\n",
       "      <td>1</td>\n",
       "      <td>1</td>\n",
       "      <td>1</td>\n",
       "      <td>1</td>\n",
       "      <td>0.00</td>\n",
       "      <td>...</td>\n",
       "      <td>0.987675</td>\n",
       "      <td>0.986230</td>\n",
       "      <td>0.000000</td>\n",
       "      <td>0.000000</td>\n",
       "      <td>0.000000</td>\n",
       "      <td>0.000000</td>\n",
       "      <td>0.918779</td>\n",
       "      <td>0.915870</td>\n",
       "      <td>0.975457</td>\n",
       "      <td>0.987465</td>\n",
       "    </tr>\n",
       "    <tr>\n",
       "      <th>4</th>\n",
       "      <td>4</td>\n",
       "      <td>interactive-beta.pddl</td>\n",
       "      <td>614dec67f6eb129c3a77defd-6</td>\n",
       "      <td>medium-objects-room-v1</td>\n",
       "      <td>614dec67f6eb129c3a77defd-6</td>\n",
       "      <td>1</td>\n",
       "      <td>1</td>\n",
       "      <td>1</td>\n",
       "      <td>1</td>\n",
       "      <td>0.25</td>\n",
       "      <td>...</td>\n",
       "      <td>0.986246</td>\n",
       "      <td>0.983472</td>\n",
       "      <td>0.000000</td>\n",
       "      <td>0.000000</td>\n",
       "      <td>0.000000</td>\n",
       "      <td>0.000000</td>\n",
       "      <td>0.976573</td>\n",
       "      <td>0.978610</td>\n",
       "      <td>0.971799</td>\n",
       "      <td>0.987698</td>\n",
       "    </tr>\n",
       "  </tbody>\n",
       "</table>\n",
       "<p>5 rows × 352 columns</p>\n",
       "</div>"
      ],
      "text/plain": [
       "   Index               src_file                   game_name  \\\n",
       "0      0  interactive-beta.pddl  6172feb1665491d1efbce164-0   \n",
       "1      1  interactive-beta.pddl  5f77754ba932fb2c4ba181d8-2   \n",
       "2      2  interactive-beta.pddl  614b603d4da88384282967a7-3   \n",
       "3      3  interactive-beta.pddl  5bc79f652885710001a0e82a-5   \n",
       "4      4  interactive-beta.pddl  614dec67f6eb129c3a77defd-6   \n",
       "\n",
       "              domain_name          original_game_name  real  \\\n",
       "0  medium-objects-room-v1  6172feb1665491d1efbce164-0     1   \n",
       "1    many-objects-room-v1  5f77754ba932fb2c4ba181d8-2     1   \n",
       "2    many-objects-room-v1  614b603d4da88384282967a7-3     1   \n",
       "3     few-objects-room-v1  5bc79f652885710001a0e82a-5     1   \n",
       "4  medium-objects-room-v1  614dec67f6eb129c3a77defd-6     1   \n",
       "\n",
       "   all_variables_defined  all_variables_used  all_preferences_used  \\\n",
       "0                      1                   1                     1   \n",
       "1                      1                   1                     1   \n",
       "2                      1                   1                     1   \n",
       "3                      1                   1                     1   \n",
       "4                      1                   1                     1   \n",
       "\n",
       "   setup_objects_used  ...  ast_ngram_constraints_n_6_score  \\\n",
       "0                1.00  ...                         0.977468   \n",
       "1                1.00  ...                         0.966900   \n",
       "2                0.00  ...                         0.977608   \n",
       "3                0.00  ...                         0.987675   \n",
       "4                0.25  ...                         0.986246   \n",
       "\n",
       "   ast_ngram_constraints_n_7_score  ast_ngram_terminal_n_2_score  \\\n",
       "0                         0.984682                      0.970248   \n",
       "1                         0.956570                      0.966645   \n",
       "2                         0.980905                      0.000000   \n",
       "3                         0.986230                      0.000000   \n",
       "4                         0.983472                      0.000000   \n",
       "\n",
       "   ast_ngram_terminal_n_3_score  ast_ngram_terminal_n_4_score  \\\n",
       "0                      0.981414                      0.981920   \n",
       "1                      0.978594                      0.977472   \n",
       "2                      0.000000                      0.000000   \n",
       "3                      0.000000                      0.000000   \n",
       "4                      0.000000                      0.000000   \n",
       "\n",
       "   ast_ngram_terminal_n_5_score  ast_ngram_scoring_n_2_score  \\\n",
       "0                      0.983617                     0.918779   \n",
       "1                      0.984273                     0.918982   \n",
       "2                      0.000000                     0.844515   \n",
       "3                      0.000000                     0.918779   \n",
       "4                      0.000000                     0.976573   \n",
       "\n",
       "   ast_ngram_scoring_n_3_score  ast_ngram_scoring_n_4_score  \\\n",
       "0                     0.915870                     0.975457   \n",
       "1                     0.914855                     0.921927   \n",
       "2                     0.859086                     0.923877   \n",
       "3                     0.915870                     0.975457   \n",
       "4                     0.978610                     0.971799   \n",
       "\n",
       "   ast_ngram_scoring_n_5_score  \n",
       "0                     0.987465  \n",
       "1                     0.926536  \n",
       "2                     0.942661  \n",
       "3                     0.987465  \n",
       "4                     0.987698  \n",
       "\n",
       "[5 rows x 352 columns]"
      ]
     },
     "execution_count": 4,
     "metadata": {},
     "output_type": "execute_result"
    }
   ],
   "source": [
    "def extract_game_index(game_name: str):\n",
    "    first_dash = game_name.find('-')\n",
    "    second_dash = game_name.find('-', first_dash + 1)\n",
    "    index = game_name[first_dash + 1:second_dash] if second_dash != -1 else game_name[first_dash + 1:]\n",
    "    return int(index)\n",
    "\n",
    "\n",
    "def extract_negative_index(game_name: str):\n",
    "    first_dash = game_name.find('-')\n",
    "    second_dash = game_name.find('-', first_dash + 1)\n",
    "    if second_dash == -1:\n",
    "        return -1\n",
    "    \n",
    "    third_dash = game_name.find('-', second_dash + 1)\n",
    "    index = game_name[second_dash + 1:third_dash]\n",
    "    return int(index)\n",
    "\n",
    "\n",
    "fitness_df = utils.load_fitness_data('../data/fitness_features_1024_regrowths.csv.gz')\n",
    "\n",
    "# fitness_df = fitness_df.assign(real=fitness_df.real.astype('int'), game_index=fitness_df.game_name.apply(extract_game_index), \n",
    "#                                negative_index= fitness_df.game_name.apply(extract_negative_index), fake=~fitness_df.real.astype('int'))\n",
    "# fitness_df = fitness_df.sort_values(by=['fake', 'game_index', 'negative_index'], ignore_index=True).reset_index(drop=True)\n",
    "# fitness_df.drop(columns=['Index', 'fake', 'game_index', 'negative_index'], inplace=True)\n",
    "print(fitness_df.src_file.unique())\n",
    "fitness_df.head()"
   ]
  },
  {
   "cell_type": "code",
   "execution_count": 22,
   "metadata": {},
   "outputs": [
    {
     "name": "stdout",
     "output_type": "stream",
     "text": [
      "327\n"
     ]
    }
   ],
   "source": [
    "# USE_BINARIZED_FEATURES_MODEL = True\n",
    "\n",
    "# if USE_BINARIZED_FEATURES_MODEL:\n",
    "#     model_path = '../models/cv_binarized_model_2023_01_20.pkl.gz'\n",
    "#     data_df = binarized_df\n",
    "# else:\n",
    "#     model_path = '../models/cv_fitness_model_2023_01_20.pkl.gz'\n",
    "#     data_df = filtered_fitness_df\n",
    "\n",
    "model_date_id = 'full_features_2023_04_06'\n",
    "data_df = fitness_df\n",
    "cv_energy_model, feature_columns = utils.load_model_and_feature_columns(model_date_id)\n",
    "print(len(feature_columns))\n",
    "\n"
   ]
  },
  {
   "attachments": {},
   "cell_type": "markdown",
   "metadata": {},
   "source": [
    "## Histogram the weights to get a sense of what we're dealing with"
   ]
  },
  {
   "cell_type": "code",
   "execution_count": 23,
   "metadata": {},
   "outputs": [
    {
     "name": "stdout",
     "output_type": "stream",
     "text": [
      "Weights mean: 0.0686, std: 0.9828, bias: 0.0100\n"
     ]
    },
    {
     "data": {
      "image/png": "[encoded data removed]",
      "text/plain": [
       "<Figure size 640x480 with 1 Axes>"
      ]
     },
     "metadata": {},
     "output_type": "display_data"
    }
   ],
   "source": [
    "weights = cv_energy_model.named_steps['fitness'].model.fc1.weight.data.detach().squeeze()  # type: ignore\n",
    "bias = cv_energy_model.named_steps['fitness'].model.fc1.bias.data.detach().squeeze()  # type: ignore\n",
    "print(f'Weights mean: {weights.mean():.4f}, std: {weights.std():.4f}, bias: {bias:.4f}')\n",
    "\n",
    "plt.hist(weights, bins=30)\n",
    "plt.title('Energy model weights')\n",
    "plt.xlabel('Weight magnitude')\n",
    "plt.ylabel('Count')\n",
    "plt.show()"
   ]
  },
  {
   "cell_type": "code",
   "execution_count": 24,
   "metadata": {},
   "outputs": [
    {
     "name": "stdout",
     "output_type": "stream",
     "text": [
      "Approximately 10.0% (33, 10.09%) of the weights have magnitude < 0.0490\n",
      "Approximately 25.0% (82, 25.08%) of the weights have magnitude < 0.1198\n",
      "Approximately 50.0% (164, 50.15%) of the weights have magnitude < 0.2559\n",
      "Approximately 75.0% (246, 75.23%) of the weights have magnitude < 0.5717\n",
      "Approximately 90.0% (295, 90.21%) of the weights have magnitude < 1.0582\n",
      "Approximately 95.0% (311, 95.11%) of the weights have magnitude < 1.5700\n",
      "Approximately 99.0% (324, 99.08%) of the weights have magnitude < 3.7354\n"
     ]
    }
   ],
   "source": [
    "quantiles = [0.1, 0.25, 0.5, 0.75, 0.9, 0.95, 0.99]\n",
    "quantile_index = 0\n",
    "\n",
    "abs_weights = weights.abs()\n",
    "\n",
    "for magnitude in torch.linspace(0,abs_weights.max(), 5000):\n",
    "    n = torch.sum(abs_weights < magnitude).item()\n",
    "    if n / len(weights) >= quantiles[quantile_index]:\n",
    "        print(f'Approximately {quantiles[quantile_index] * 100}% ({n}, {n / len(weights) * 100:.2f}%) of the weights have magnitude < {magnitude:.4f}')\n",
    "        quantile_index += 1\n",
    "\n",
    "    if quantile_index >= len(quantiles):\n",
    "        break"
   ]
  },
  {
   "attachments": {},
   "cell_type": "markdown",
   "metadata": {},
   "source": [
    "## Print the top K features most and least predictive of real games"
   ]
  },
  {
   "cell_type": "code",
   "execution_count": 25,
   "metadata": {},
   "outputs": [
    {
     "data": {
      "text/markdown": [
       "### Features with largest negative weights (most predictive of real games):\n",
       "1. ast_ngram_full_n_7_score (-9.0735)\n",
       "2. ast_ngram_constraints_n_7_score (-7.1470)\n",
       "3. all_variables_used (-3.7337)\n",
       "4. all_preferences_used (-2.5619)\n",
       "5. ast_ngram_setup_n_5_score (-2.5329)\n",
       "6. all_variables_defined (-1.4909)\n",
       "7. ast_ngram_scoring_n_5_score (-1.4870)\n",
       "8. setup_quantified_objects_used (-1.3534)\n",
       "9. pref_forall_pref_forall_correct_arity_correct (-1.1451)\n",
       "10. ast_ngram_terminal_n_5_score (-1.0543)\n",
       "11. on_arg_types_furniture_furniture_constraints (-0.9732)\n",
       "12. in_motion_arg_types_small_objects_constraints (-0.9028)\n",
       "13. distance_arg_types_agent_receptacles_constraints (-0.8814)\n",
       "14. on_arg_types_room_features_agent_constraints (-0.8807)\n",
       "15. in_arg_types_building_any_object_constraints (-0.8771)\n",
       "16. on_arg_types_any_object_any_object_constraints (-0.8729)\n",
       "17. max_quantification_count_setup_0 (-0.8373)\n",
       "18. touch_arg_types_agent_blocks_constraints (-0.8194)\n",
       "19. object_orientation_arg_types_receptacles_orientations_setup (-0.8108)\n",
       "20. in_arg_types_any_object_any_object_constraints (-0.8069)\n",
       "### Features with largest positive weights (most predictive of fake games):\n",
       "1. pref_forall_used_incorrect (4.1593)\n",
       "2. repeated_variables_found (3.4779)\n",
       "3. pref_forall_pref_forall_correct_types_incorrect (3.4074)\n",
       "4. two_number_operation_found (2.7975)\n",
       "5. disjoint_seq_funcs_found (2.7963)\n",
       "6. in_arg_types_other_constraints (2.6994)\n",
       "7. redundant_expression_found (2.1848)\n",
       "8. pref_forall_pref_forall_correct_arity_incorrect (2.1488)\n",
       "9. distance_arg_types_other_constraints (2.0060)\n",
       "10. nested_logicals_found (1.8015)\n",
       "11. in_motion_arg_types_room_features_constraints (1.6033)\n",
       "12. in_motion_arg_types_other_setup (1.5692)\n",
       "13. agent_holds_arg_types_other_setup (1.4926)\n",
       "14. agent_holds_arg_types_room_features_constraints (1.4777)\n",
       "15. in_motion_arg_types_agent_constraints (1.4184)\n",
       "16. adjacent_arg_types_other_constraints (1.3816)\n",
       "17. agent_holds_arg_types_agent_constraints (1.3608)\n",
       "18. length_of_then_modals_3 (1.2687)\n",
       "19. in_motion_arg_types_other_constraints (1.2402)\n",
       "20. in_motion_arg_types_receptacles_constraints (1.2390)"
      ],
      "text/plain": [
       "<IPython.core.display.Markdown object>"
      ]
     },
     "metadata": {},
     "output_type": "display_data"
    }
   ],
   "source": [
    "K = 20\n",
    "top_features = torch.topk(weights, K)\n",
    "bottom_features = torch.topk(weights, K, largest=False)\n",
    "\n",
    "lines = []\n",
    "\n",
    "lines.append('### Features with largest negative weights (most predictive of real games):')\n",
    "for i in range(K):\n",
    "    lines.append(f'{i+1}. {feature_columns[bottom_features.indices[i]]} ({bottom_features.values[i]:.4f})')\n",
    "\n",
    "lines.append('### Features with largest positive weights (most predictive of fake games):')\n",
    "for i in range(K):\n",
    "    lines.append((f'{i+1}. {feature_columns[top_features.indices[i]]} ({top_features.values[i]:.4f})'))\n",
    "\n",
    "display(Markdown('\\n'.join(lines)))\n"
   ]
  },
  {
   "cell_type": "code",
   "execution_count": null,
   "metadata": {},
   "outputs": [],
   "source": [
    "[(c, weights[feature_columns.index(c)]) for c in feature_columns if 'distance_arg_types' in c]"
   ]
  },
  {
   "cell_type": "code",
   "execution_count": null,
   "metadata": {},
   "outputs": [],
   "source": [
    "data_df.groupby('real').distance_arg_types_furniture_receptacles_setup.describe()"
   ]
  },
  {
   "cell_type": "code",
   "execution_count": null,
   "metadata": {},
   "outputs": [],
   "source": [
    "[(c, weights[feature_columns.index(c)]) for c in feature_columns if 'disjoint_seq_funcs_found' in c]"
   ]
  },
  {
   "cell_type": "code",
   "execution_count": null,
   "metadata": {},
   "outputs": [],
   "source": [
    "[(c, weights[feature_columns.index(c)]) for c in feature_columns if c.startswith('ast_ngram') and c.endswith('score')]"
   ]
  },
  {
   "attachments": {},
   "cell_type": "markdown",
   "metadata": {},
   "source": [
    "## Plot a histogram of the values for each of the and bottom K features"
   ]
  },
  {
   "cell_type": "code",
   "execution_count": 26,
   "metadata": {},
   "outputs": [],
   "source": [
    "def plot_value_histograms(df: pd.DataFrame, weights: torch.Tensor, k: int = 10,\n",
    "    largest: bool = True, bins: int = 100, histogram_log_y: bool = True, \n",
    "    histogram_density: bool = True, layout: typing.Optional[typing.Tuple[int, int]] = None,\n",
    "    figsize: typing.Optional[typing.Tuple[float, float]] = None, \n",
    "    panel_width: float = 4, panel_height: float = 4, ylabel_once_per_row: bool = True,\n",
    "    subplots_adjust_params: typing.Optional[typing.Dict[str, float]] = None,\n",
    "    title_fontsize: int = 12, title_split_threshold: int = 25,\n",
    "    cm: plt.get_cmap('tab20') = plt.get_cmap('tab20')):  # type: ignore\n",
    "    \n",
    "    if layout is None:\n",
    "        largest_div = int(np.floor(k ** 0.5))\n",
    "        while k % largest_div != 0:\n",
    "            largest_div -= 1\n",
    "\n",
    "        layout = (largest_div, k // largest_div)\n",
    "\n",
    "    if figsize is None:\n",
    "        figsize = (layout[1] * panel_width, layout[0] * panel_height)\n",
    "\n",
    "    fig, axes = plt.subplots(*layout, figsize=figsize)\n",
    "\n",
    "    top_k = torch.topk(weights, k, largest=largest)\n",
    "\n",
    "    for i in range(k):\n",
    "        feature_index = top_k.indices[i]\n",
    "        ax = axes[i // layout[1]][i % layout[1]]\n",
    "\n",
    "        real_values = df[df.real == 1][feature_columns[feature_index]].to_numpy()\n",
    "        synthetic_values = df[df.real == 0][feature_columns[feature_index]].to_numpy()\n",
    "\n",
    "        # print(f'Feature = 0 {(real_values == 0).mean() * 100:.2f}% of the time in real games, {(synthetic_values == 0).mean() * 100:.2f}% of the time in synthetic games')\n",
    "\n",
    "        ax.hist([real_values, synthetic_values], label=['Real games', 'Regrown games'], \n",
    "            stacked=False, density=histogram_density, bins=bins, color=[cm.colors[0], cm.colors[2]])  # type: ignore\n",
    "        ax.set_xlabel('Feature value')\n",
    "\n",
    "        if not ylabel_once_per_row or i % layout[1] == 0:\n",
    "            if histogram_density:\n",
    "                if histogram_log_y:\n",
    "                    ax.set_ylabel('log(Density)')\n",
    "                else:\n",
    "                    ax.set_ylabel('Density')\n",
    "            elif histogram_log_y:\n",
    "                ax.set_ylabel('log(Count)')\n",
    "            else:\n",
    "                ax.set_ylabel('Count')\n",
    "\n",
    "        if histogram_log_y:\n",
    "            ax.semilogy()\n",
    "        \n",
    "        title_feature = f'#{i + 1}: {feature_columns[feature_index]}'\n",
    "        title_weight = f'(weight: {top_k.values[i]:.4f})'\n",
    "        if len(title_feature) > title_split_threshold:\n",
    "            title_split_index = title_feature.find('_', title_split_threshold) + 1\n",
    "            if title_split_index == 0:\n",
    "                title_split_index = len(title_feature)\n",
    "            title = f'{title_feature[:title_split_index]}\\n{title_feature[title_split_index:]} {title_weight}'\n",
    "        else:\n",
    "            title = f'{title_feature}\\n{title_weight}'\n",
    "\n",
    "        ax.set_title(title, fontdict=dict(fontsize=title_fontsize))\n",
    "        ax.legend(loc='best')\n",
    "\n",
    "    if subplots_adjust_params is not None:\n",
    "        plt.subplots_adjust(**subplots_adjust_params)\n",
    "        \n",
    "    plt.show()\n",
    "\n",
    "        "
   ]
  },
  {
   "attachments": {},
   "cell_type": "markdown",
   "metadata": {},
   "source": [
    "## For the 20 features with the largest negative weights, that is, most predictive of real games"
   ]
  },
  {
   "cell_type": "code",
   "execution_count": 27,
   "metadata": {},
   "outputs": [
    {
     "data": {
      "image/png": "[encoded data removed]",
      "text/plain": [
       "<Figure size 2000x1600 with 20 Axes>"
      ]
     },
     "metadata": {},
     "output_type": "display_data"
    }
   ],
   "source": [
    "k = 20\n",
    "plot_value_histograms(data_df, weights, k=k, largest=False, bins=20, histogram_log_y=False, histogram_density=True,\n",
    "    subplots_adjust_params=dict(hspace=0.4), title_fontsize=10)"
   ]
  },
  {
   "attachments": {},
   "cell_type": "markdown",
   "metadata": {},
   "source": [
    "## For the 20 features with largest weights, that is, most predictive of a fake game"
   ]
  },
  {
   "cell_type": "code",
   "execution_count": 28,
   "metadata": {},
   "outputs": [
    {
     "data": {
      "image/png": "[encoded data removed]",
      "text/plain": [
       "<Figure size 2000x1600 with 20 Axes>"
      ]
     },
     "metadata": {},
     "output_type": "display_data"
    }
   ],
   "source": [
    "plot_value_histograms(data_df, weights, k=k, largest=True, bins=20,  histogram_log_y=False, histogram_density=True,\n",
    "    subplots_adjust_params=dict(hspace=0.4), title_fontsize=10)"
   ]
  },
  {
   "attachments": {},
   "cell_type": "markdown",
   "metadata": {},
   "source": [
    "## Experiment with knocking out features below a threshold"
   ]
  },
  {
   "cell_type": "code",
   "execution_count": null,
   "metadata": {},
   "outputs": [],
   "source": [
    "full_tensor = utils.df_to_tensor(data_df, feature_columns)\n",
    "\n",
    "\n",
    "for threshold in (0, 0.1, 0.2, 0.3):\n",
    "    weights = cv_energy_model.named_steps['fitness'].model.fc1.weight.data.detach().squeeze()  # type: ignore\n",
    "    weights[weights.abs() < threshold] = 0\n",
    "    model_copy = copy.deepcopy(cv_energy_model)\n",
    "    model_copy.named_steps['fitness'].model.fc1.weight.data = weights.unsqueeze(0)  # type: ignore\n",
    "\n",
    "    print(f'With threshold = {threshold}:')\n",
    "    print(utils.evaluate_trained_model(model_copy, full_tensor, utils.default_multiple_scoring)) \n",
    "    print()"
   ]
  },
  {
   "cell_type": "code",
   "execution_count": null,
   "metadata": {},
   "outputs": [],
   "source": []
  },
  {
   "attachments": {},
   "cell_type": "markdown",
   "metadata": {},
   "source": [
    "## Visualizing some top negatives"
   ]
  },
  {
   "cell_type": "code",
   "execution_count": 29,
   "metadata": {},
   "outputs": [],
   "source": [
    "full_tensor = utils.df_to_tensor(data_df, feature_columns)\n",
    "if 'wrapper' in cv_energy_model.named_steps: cv_energy_model.named_steps['wrapper'].eval()\n",
    "full_tensor_scores = cv_energy_model.transform(full_tensor).detach()"
   ]
  },
  {
   "cell_type": "code",
   "execution_count": 30,
   "metadata": {},
   "outputs": [
    {
     "name": "stdout",
     "output_type": "stream",
     "text": [
      "Real game scores: -29.5438 ± 0.9241, min = -32.6154, max = -26.0575\n"
     ]
    }
   ],
   "source": [
    "real_game_scores = full_tensor_scores[:, 0]\n",
    "print(f'Real game scores: {real_game_scores.mean():.4f} ± {real_game_scores.std():.4f}, min = {real_game_scores.min():.4f}, max = {real_game_scores.max():.4f}')"
   ]
  },
  {
   "cell_type": "code",
   "execution_count": 31,
   "metadata": {},
   "outputs": [
    {
     "name": "stderr",
     "output_type": "stream",
     "text": [
      "2023-04-06 12:56:51 DEBUG    vmin 0.6377665032744292 vmax 12650.397847138678\n",
      "2023-04-06 12:56:51 DEBUG    ticklocs array([1.e-02, 1.e-01, 1.e+00, 1.e+01, 1.e+02, 1.e+03, 1.e+04, 1.e+05,\n",
      "       1.e+06])\n",
      "2023-04-06 12:56:51 DEBUG    vmin 0.6377665032744292 vmax 12650.397847138678\n",
      "2023-04-06 12:56:51 DEBUG    ticklocs array([2.e-02, 3.e-02, 4.e-02, 5.e-02, 6.e-02, 7.e-02, 8.e-02, 9.e-02,\n",
      "       2.e-01, 3.e-01, 4.e-01, 5.e-01, 6.e-01, 7.e-01, 8.e-01, 9.e-01,\n",
      "       2.e+00, 3.e+00, 4.e+00, 5.e+00, 6.e+00, 7.e+00, 8.e+00, 9.e+00,\n",
      "       2.e+01, 3.e+01, 4.e+01, 5.e+01, 6.e+01, 7.e+01, 8.e+01, 9.e+01,\n",
      "       2.e+02, 3.e+02, 4.e+02, 5.e+02, 6.e+02, 7.e+02, 8.e+02, 9.e+02,\n",
      "       2.e+03, 3.e+03, 4.e+03, 5.e+03, 6.e+03, 7.e+03, 8.e+03, 9.e+03,\n",
      "       2.e+04, 3.e+04, 4.e+04, 5.e+04, 6.e+04, 7.e+04, 8.e+04, 9.e+04,\n",
      "       2.e+05, 3.e+05, 4.e+05, 5.e+05, 6.e+05, 7.e+05, 8.e+05, 9.e+05,\n",
      "       2.e+06, 3.e+06, 4.e+06, 5.e+06, 6.e+06, 7.e+06, 8.e+06, 9.e+06])\n",
      "2023-04-06 12:56:51 DEBUG    vmin 0.6377665032744292 vmax 12650.397847138678\n",
      "2023-04-06 12:56:51 DEBUG    ticklocs array([1.e-02, 1.e-01, 1.e+00, 1.e+01, 1.e+02, 1.e+03, 1.e+04, 1.e+05,\n",
      "       1.e+06])\n",
      "2023-04-06 12:56:51 DEBUG    vmin 0.6377665032744292 vmax 12650.397847138678\n",
      "2023-04-06 12:56:51 DEBUG    ticklocs array([1.e-02, 1.e-01, 1.e+00, 1.e+01, 1.e+02, 1.e+03, 1.e+04, 1.e+05,\n",
      "       1.e+06])\n",
      "2023-04-06 12:56:51 DEBUG    vmin 0.6377665032744292 vmax 12650.397847138678\n",
      "2023-04-06 12:56:51 DEBUG    ticklocs array([2.e-02, 3.e-02, 4.e-02, 5.e-02, 6.e-02, 7.e-02, 8.e-02, 9.e-02,\n",
      "       2.e-01, 3.e-01, 4.e-01, 5.e-01, 6.e-01, 7.e-01, 8.e-01, 9.e-01,\n",
      "       2.e+00, 3.e+00, 4.e+00, 5.e+00, 6.e+00, 7.e+00, 8.e+00, 9.e+00,\n",
      "       2.e+01, 3.e+01, 4.e+01, 5.e+01, 6.e+01, 7.e+01, 8.e+01, 9.e+01,\n",
      "       2.e+02, 3.e+02, 4.e+02, 5.e+02, 6.e+02, 7.e+02, 8.e+02, 9.e+02,\n",
      "       2.e+03, 3.e+03, 4.e+03, 5.e+03, 6.e+03, 7.e+03, 8.e+03, 9.e+03,\n",
      "       2.e+04, 3.e+04, 4.e+04, 5.e+04, 6.e+04, 7.e+04, 8.e+04, 9.e+04,\n",
      "       2.e+05, 3.e+05, 4.e+05, 5.e+05, 6.e+05, 7.e+05, 8.e+05, 9.e+05,\n",
      "       2.e+06, 3.e+06, 4.e+06, 5.e+06, 6.e+06, 7.e+06, 8.e+06, 9.e+06])\n",
      "2023-04-06 12:56:51 DEBUG    vmin 0.6377665032744292 vmax 12650.397847138678\n",
      "2023-04-06 12:56:51 DEBUG    ticklocs array([1.e-02, 1.e-01, 1.e+00, 1.e+01, 1.e+02, 1.e+03, 1.e+04, 1.e+05,\n",
      "       1.e+06])\n",
      "2023-04-06 12:56:51 DEBUG    vmin 0.6377665032744292 vmax 12650.397847138678\n",
      "2023-04-06 12:56:51 DEBUG    ticklocs array([1.e-02, 1.e-01, 1.e+00, 1.e+01, 1.e+02, 1.e+03, 1.e+04, 1.e+05,\n",
      "       1.e+06])\n",
      "2023-04-06 12:56:51 DEBUG    vmin 0.6377665032744292 vmax 12650.397847138678\n",
      "2023-04-06 12:56:51 DEBUG    ticklocs array([2.e-02, 3.e-02, 4.e-02, 5.e-02, 6.e-02, 7.e-02, 8.e-02, 9.e-02,\n",
      "       2.e-01, 3.e-01, 4.e-01, 5.e-01, 6.e-01, 7.e-01, 8.e-01, 9.e-01,\n",
      "       2.e+00, 3.e+00, 4.e+00, 5.e+00, 6.e+00, 7.e+00, 8.e+00, 9.e+00,\n",
      "       2.e+01, 3.e+01, 4.e+01, 5.e+01, 6.e+01, 7.e+01, 8.e+01, 9.e+01,\n",
      "       2.e+02, 3.e+02, 4.e+02, 5.e+02, 6.e+02, 7.e+02, 8.e+02, 9.e+02,\n",
      "       2.e+03, 3.e+03, 4.e+03, 5.e+03, 6.e+03, 7.e+03, 8.e+03, 9.e+03,\n",
      "       2.e+04, 3.e+04, 4.e+04, 5.e+04, 6.e+04, 7.e+04, 8.e+04, 9.e+04,\n",
      "       2.e+05, 3.e+05, 4.e+05, 5.e+05, 6.e+05, 7.e+05, 8.e+05, 9.e+05,\n",
      "       2.e+06, 3.e+06, 4.e+06, 5.e+06, 6.e+06, 7.e+06, 8.e+06, 9.e+06])\n",
      "2023-04-06 12:56:51 DEBUG    vmin 0.6377665032744292 vmax 12650.397847138678\n",
      "2023-04-06 12:56:51 DEBUG    ticklocs array([1.e-02, 1.e-01, 1.e+00, 1.e+01, 1.e+02, 1.e+03, 1.e+04, 1.e+05,\n",
      "       1.e+06])\n",
      "2023-04-06 12:56:51 DEBUG    vmin 0.6377665032744292 vmax 12650.397847138678\n",
      "2023-04-06 12:56:51 DEBUG    ticklocs array([1.e-02, 1.e-01, 1.e+00, 1.e+01, 1.e+02, 1.e+03, 1.e+04, 1.e+05,\n",
      "       1.e+06])\n",
      "2023-04-06 12:56:51 DEBUG    vmin 0.6377665032744292 vmax 12650.397847138678\n",
      "2023-04-06 12:56:51 DEBUG    ticklocs array([2.e-02, 3.e-02, 4.e-02, 5.e-02, 6.e-02, 7.e-02, 8.e-02, 9.e-02,\n",
      "       2.e-01, 3.e-01, 4.e-01, 5.e-01, 6.e-01, 7.e-01, 8.e-01, 9.e-01,\n",
      "       2.e+00, 3.e+00, 4.e+00, 5.e+00, 6.e+00, 7.e+00, 8.e+00, 9.e+00,\n",
      "       2.e+01, 3.e+01, 4.e+01, 5.e+01, 6.e+01, 7.e+01, 8.e+01, 9.e+01,\n",
      "       2.e+02, 3.e+02, 4.e+02, 5.e+02, 6.e+02, 7.e+02, 8.e+02, 9.e+02,\n",
      "       2.e+03, 3.e+03, 4.e+03, 5.e+03, 6.e+03, 7.e+03, 8.e+03, 9.e+03,\n",
      "       2.e+04, 3.e+04, 4.e+04, 5.e+04, 6.e+04, 7.e+04, 8.e+04, 9.e+04,\n",
      "       2.e+05, 3.e+05, 4.e+05, 5.e+05, 6.e+05, 7.e+05, 8.e+05, 9.e+05,\n",
      "       2.e+06, 3.e+06, 4.e+06, 5.e+06, 6.e+06, 7.e+06, 8.e+06, 9.e+06])\n",
      "2023-04-06 12:56:51 DEBUG    vmin 0.6377665032744292 vmax 12650.397847138678\n",
      "2023-04-06 12:56:51 DEBUG    ticklocs array([1.e-02, 1.e-01, 1.e+00, 1.e+01, 1.e+02, 1.e+03, 1.e+04, 1.e+05,\n",
      "       1.e+06])\n",
      "2023-04-06 12:56:51 DEBUG    vmin 0.6377665032744292 vmax 12650.397847138678\n",
      "2023-04-06 12:56:51 DEBUG    ticklocs array([1.e-02, 1.e-01, 1.e+00, 1.e+01, 1.e+02, 1.e+03, 1.e+04, 1.e+05,\n",
      "       1.e+06])\n",
      "2023-04-06 12:56:51 DEBUG    vmin 0.6377665032744292 vmax 12650.397847138678\n",
      "2023-04-06 12:56:51 DEBUG    ticklocs array([2.e-02, 3.e-02, 4.e-02, 5.e-02, 6.e-02, 7.e-02, 8.e-02, 9.e-02,\n",
      "       2.e-01, 3.e-01, 4.e-01, 5.e-01, 6.e-01, 7.e-01, 8.e-01, 9.e-01,\n",
      "       2.e+00, 3.e+00, 4.e+00, 5.e+00, 6.e+00, 7.e+00, 8.e+00, 9.e+00,\n",
      "       2.e+01, 3.e+01, 4.e+01, 5.e+01, 6.e+01, 7.e+01, 8.e+01, 9.e+01,\n",
      "       2.e+02, 3.e+02, 4.e+02, 5.e+02, 6.e+02, 7.e+02, 8.e+02, 9.e+02,\n",
      "       2.e+03, 3.e+03, 4.e+03, 5.e+03, 6.e+03, 7.e+03, 8.e+03, 9.e+03,\n",
      "       2.e+04, 3.e+04, 4.e+04, 5.e+04, 6.e+04, 7.e+04, 8.e+04, 9.e+04,\n",
      "       2.e+05, 3.e+05, 4.e+05, 5.e+05, 6.e+05, 7.e+05, 8.e+05, 9.e+05,\n",
      "       2.e+06, 3.e+06, 4.e+06, 5.e+06, 6.e+06, 7.e+06, 8.e+06, 9.e+06])\n",
      "2023-04-06 12:56:51 DEBUG    vmin 0.6377665032744292 vmax 12650.397847138678\n",
      "2023-04-06 12:56:51 DEBUG    ticklocs array([1.e-02, 1.e-01, 1.e+00, 1.e+01, 1.e+02, 1.e+03, 1.e+04, 1.e+05,\n",
      "       1.e+06])\n",
      "2023-04-06 12:56:51 DEBUG    vmin 0.6377665032744292 vmax 12650.397847138678\n",
      "2023-04-06 12:56:51 DEBUG    ticklocs array([1.e-02, 1.e-01, 1.e+00, 1.e+01, 1.e+02, 1.e+03, 1.e+04, 1.e+05,\n",
      "       1.e+06])\n",
      "2023-04-06 12:56:51 DEBUG    vmin 0.6377665032744292 vmax 12650.397847138678\n",
      "2023-04-06 12:56:51 DEBUG    ticklocs array([2.e-02, 3.e-02, 4.e-02, 5.e-02, 6.e-02, 7.e-02, 8.e-02, 9.e-02,\n",
      "       2.e-01, 3.e-01, 4.e-01, 5.e-01, 6.e-01, 7.e-01, 8.e-01, 9.e-01,\n",
      "       2.e+00, 3.e+00, 4.e+00, 5.e+00, 6.e+00, 7.e+00, 8.e+00, 9.e+00,\n",
      "       2.e+01, 3.e+01, 4.e+01, 5.e+01, 6.e+01, 7.e+01, 8.e+01, 9.e+01,\n",
      "       2.e+02, 3.e+02, 4.e+02, 5.e+02, 6.e+02, 7.e+02, 8.e+02, 9.e+02,\n",
      "       2.e+03, 3.e+03, 4.e+03, 5.e+03, 6.e+03, 7.e+03, 8.e+03, 9.e+03,\n",
      "       2.e+04, 3.e+04, 4.e+04, 5.e+04, 6.e+04, 7.e+04, 8.e+04, 9.e+04,\n",
      "       2.e+05, 3.e+05, 4.e+05, 5.e+05, 6.e+05, 7.e+05, 8.e+05, 9.e+05,\n",
      "       2.e+06, 3.e+06, 4.e+06, 5.e+06, 6.e+06, 7.e+06, 8.e+06, 9.e+06])\n",
      "2023-04-06 12:56:51 DEBUG    vmin 0.6377665032744292 vmax 12650.397847138678\n",
      "2023-04-06 12:56:51 DEBUG    ticklocs array([1.e-02, 1.e-01, 1.e+00, 1.e+01, 1.e+02, 1.e+03, 1.e+04, 1.e+05,\n",
      "       1.e+06])\n",
      "2023-04-06 12:56:51 DEBUG    vmin 0.6377665032744292 vmax 12650.397847138678\n",
      "2023-04-06 12:56:51 DEBUG    ticklocs array([1.e-02, 1.e-01, 1.e+00, 1.e+01, 1.e+02, 1.e+03, 1.e+04, 1.e+05,\n",
      "       1.e+06])\n",
      "2023-04-06 12:56:51 DEBUG    vmin 0.6377665032744292 vmax 12650.397847138678\n",
      "2023-04-06 12:56:51 DEBUG    ticklocs array([2.e-02, 3.e-02, 4.e-02, 5.e-02, 6.e-02, 7.e-02, 8.e-02, 9.e-02,\n",
      "       2.e-01, 3.e-01, 4.e-01, 5.e-01, 6.e-01, 7.e-01, 8.e-01, 9.e-01,\n",
      "       2.e+00, 3.e+00, 4.e+00, 5.e+00, 6.e+00, 7.e+00, 8.e+00, 9.e+00,\n",
      "       2.e+01, 3.e+01, 4.e+01, 5.e+01, 6.e+01, 7.e+01, 8.e+01, 9.e+01,\n",
      "       2.e+02, 3.e+02, 4.e+02, 5.e+02, 6.e+02, 7.e+02, 8.e+02, 9.e+02,\n",
      "       2.e+03, 3.e+03, 4.e+03, 5.e+03, 6.e+03, 7.e+03, 8.e+03, 9.e+03,\n",
      "       2.e+04, 3.e+04, 4.e+04, 5.e+04, 6.e+04, 7.e+04, 8.e+04, 9.e+04,\n",
      "       2.e+05, 3.e+05, 4.e+05, 5.e+05, 6.e+05, 7.e+05, 8.e+05, 9.e+05,\n",
      "       2.e+06, 3.e+06, 4.e+06, 5.e+06, 6.e+06, 7.e+06, 8.e+06, 9.e+06])\n",
      "2023-04-06 12:56:51 DEBUG    vmin 0.6377665032744292 vmax 12650.397847138678\n",
      "2023-04-06 12:56:51 DEBUG    ticklocs array([1.e-02, 1.e-01, 1.e+00, 1.e+01, 1.e+02, 1.e+03, 1.e+04, 1.e+05,\n",
      "       1.e+06])\n",
      "2023-04-06 12:56:51 DEBUG    vmin 0.6377665032744292 vmax 12650.397847138678\n",
      "2023-04-06 12:56:51 DEBUG    ticklocs array([1.e-02, 1.e-01, 1.e+00, 1.e+01, 1.e+02, 1.e+03, 1.e+04, 1.e+05,\n",
      "       1.e+06])\n",
      "2023-04-06 12:56:51 DEBUG    vmin 0.6377665032744292 vmax 12650.397847138678\n",
      "2023-04-06 12:56:51 DEBUG    ticklocs array([2.e-02, 3.e-02, 4.e-02, 5.e-02, 6.e-02, 7.e-02, 8.e-02, 9.e-02,\n",
      "       2.e-01, 3.e-01, 4.e-01, 5.e-01, 6.e-01, 7.e-01, 8.e-01, 9.e-01,\n",
      "       2.e+00, 3.e+00, 4.e+00, 5.e+00, 6.e+00, 7.e+00, 8.e+00, 9.e+00,\n",
      "       2.e+01, 3.e+01, 4.e+01, 5.e+01, 6.e+01, 7.e+01, 8.e+01, 9.e+01,\n",
      "       2.e+02, 3.e+02, 4.e+02, 5.e+02, 6.e+02, 7.e+02, 8.e+02, 9.e+02,\n",
      "       2.e+03, 3.e+03, 4.e+03, 5.e+03, 6.e+03, 7.e+03, 8.e+03, 9.e+03,\n",
      "       2.e+04, 3.e+04, 4.e+04, 5.e+04, 6.e+04, 7.e+04, 8.e+04, 9.e+04,\n",
      "       2.e+05, 3.e+05, 4.e+05, 5.e+05, 6.e+05, 7.e+05, 8.e+05, 9.e+05,\n",
      "       2.e+06, 3.e+06, 4.e+06, 5.e+06, 6.e+06, 7.e+06, 8.e+06, 9.e+06])\n",
      "2023-04-06 12:56:51 DEBUG    vmin 0.6377665032744292 vmax 12650.397847138678\n",
      "2023-04-06 12:56:51 DEBUG    ticklocs array([1.e-02, 1.e-01, 1.e+00, 1.e+01, 1.e+02, 1.e+03, 1.e+04, 1.e+05,\n",
      "       1.e+06])\n",
      "2023-04-06 12:56:51 DEBUG    vmin 0.6377665032744292 vmax 12650.397847138678\n",
      "2023-04-06 12:56:51 DEBUG    ticklocs array([1.e-02, 1.e-01, 1.e+00, 1.e+01, 1.e+02, 1.e+03, 1.e+04, 1.e+05,\n",
      "       1.e+06])\n",
      "2023-04-06 12:56:51 DEBUG    vmin 0.6377665032744292 vmax 12650.397847138678\n",
      "2023-04-06 12:56:51 DEBUG    ticklocs array([2.e-02, 3.e-02, 4.e-02, 5.e-02, 6.e-02, 7.e-02, 8.e-02, 9.e-02,\n",
      "       2.e-01, 3.e-01, 4.e-01, 5.e-01, 6.e-01, 7.e-01, 8.e-01, 9.e-01,\n",
      "       2.e+00, 3.e+00, 4.e+00, 5.e+00, 6.e+00, 7.e+00, 8.e+00, 9.e+00,\n",
      "       2.e+01, 3.e+01, 4.e+01, 5.e+01, 6.e+01, 7.e+01, 8.e+01, 9.e+01,\n",
      "       2.e+02, 3.e+02, 4.e+02, 5.e+02, 6.e+02, 7.e+02, 8.e+02, 9.e+02,\n",
      "       2.e+03, 3.e+03, 4.e+03, 5.e+03, 6.e+03, 7.e+03, 8.e+03, 9.e+03,\n",
      "       2.e+04, 3.e+04, 4.e+04, 5.e+04, 6.e+04, 7.e+04, 8.e+04, 9.e+04,\n",
      "       2.e+05, 3.e+05, 4.e+05, 5.e+05, 6.e+05, 7.e+05, 8.e+05, 9.e+05,\n",
      "       2.e+06, 3.e+06, 4.e+06, 5.e+06, 6.e+06, 7.e+06, 8.e+06, 9.e+06])\n",
      "2023-04-06 12:56:51 DEBUG    vmin 0.6377665032744292 vmax 12650.397847138678\n",
      "2023-04-06 12:56:51 DEBUG    ticklocs array([1.e-02, 1.e-01, 1.e+00, 1.e+01, 1.e+02, 1.e+03, 1.e+04, 1.e+05,\n",
      "       1.e+06])\n",
      "2023-04-06 12:56:51 DEBUG    vmin 0.6377665032744292 vmax 12650.397847138678\n",
      "2023-04-06 12:56:51 DEBUG    ticklocs array([1.e-02, 1.e-01, 1.e+00, 1.e+01, 1.e+02, 1.e+03, 1.e+04, 1.e+05,\n",
      "       1.e+06])\n",
      "2023-04-06 12:56:51 DEBUG    vmin 0.6377665032744292 vmax 12650.397847138678\n",
      "2023-04-06 12:56:51 DEBUG    ticklocs array([2.e-02, 3.e-02, 4.e-02, 5.e-02, 6.e-02, 7.e-02, 8.e-02, 9.e-02,\n",
      "       2.e-01, 3.e-01, 4.e-01, 5.e-01, 6.e-01, 7.e-01, 8.e-01, 9.e-01,\n",
      "       2.e+00, 3.e+00, 4.e+00, 5.e+00, 6.e+00, 7.e+00, 8.e+00, 9.e+00,\n",
      "       2.e+01, 3.e+01, 4.e+01, 5.e+01, 6.e+01, 7.e+01, 8.e+01, 9.e+01,\n",
      "       2.e+02, 3.e+02, 4.e+02, 5.e+02, 6.e+02, 7.e+02, 8.e+02, 9.e+02,\n",
      "       2.e+03, 3.e+03, 4.e+03, 5.e+03, 6.e+03, 7.e+03, 8.e+03, 9.e+03,\n",
      "       2.e+04, 3.e+04, 4.e+04, 5.e+04, 6.e+04, 7.e+04, 8.e+04, 9.e+04,\n",
      "       2.e+05, 3.e+05, 4.e+05, 5.e+05, 6.e+05, 7.e+05, 8.e+05, 9.e+05,\n",
      "       2.e+06, 3.e+06, 4.e+06, 5.e+06, 6.e+06, 7.e+06, 8.e+06, 9.e+06])\n",
      "2023-04-06 12:56:51 DEBUG    vmin 0.6377665032744292 vmax 12650.397847138678\n",
      "2023-04-06 12:56:51 DEBUG    ticklocs array([1.e-02, 1.e-01, 1.e+00, 1.e+01, 1.e+02, 1.e+03, 1.e+04, 1.e+05,\n",
      "       1.e+06])\n",
      "2023-04-06 12:56:51 DEBUG    vmin 0.6377665032744292 vmax 12650.397847138678\n",
      "2023-04-06 12:56:51 DEBUG    ticklocs array([1.e-02, 1.e-01, 1.e+00, 1.e+01, 1.e+02, 1.e+03, 1.e+04, 1.e+05,\n",
      "       1.e+06])\n",
      "2023-04-06 12:56:51 DEBUG    vmin 0.6377665032744292 vmax 12650.397847138678\n",
      "2023-04-06 12:56:51 DEBUG    ticklocs array([2.e-02, 3.e-02, 4.e-02, 5.e-02, 6.e-02, 7.e-02, 8.e-02, 9.e-02,\n",
      "       2.e-01, 3.e-01, 4.e-01, 5.e-01, 6.e-01, 7.e-01, 8.e-01, 9.e-01,\n",
      "       2.e+00, 3.e+00, 4.e+00, 5.e+00, 6.e+00, 7.e+00, 8.e+00, 9.e+00,\n",
      "       2.e+01, 3.e+01, 4.e+01, 5.e+01, 6.e+01, 7.e+01, 8.e+01, 9.e+01,\n",
      "       2.e+02, 3.e+02, 4.e+02, 5.e+02, 6.e+02, 7.e+02, 8.e+02, 9.e+02,\n",
      "       2.e+03, 3.e+03, 4.e+03, 5.e+03, 6.e+03, 7.e+03, 8.e+03, 9.e+03,\n",
      "       2.e+04, 3.e+04, 4.e+04, 5.e+04, 6.e+04, 7.e+04, 8.e+04, 9.e+04,\n",
      "       2.e+05, 3.e+05, 4.e+05, 5.e+05, 6.e+05, 7.e+05, 8.e+05, 9.e+05,\n",
      "       2.e+06, 3.e+06, 4.e+06, 5.e+06, 6.e+06, 7.e+06, 8.e+06, 9.e+06])\n",
      "2023-04-06 12:56:51 DEBUG    vmin 0.6377665032744292 vmax 12650.397847138678\n",
      "2023-04-06 12:56:51 DEBUG    ticklocs array([1.e-02, 1.e-01, 1.e+00, 1.e+01, 1.e+02, 1.e+03, 1.e+04, 1.e+05,\n",
      "       1.e+06])\n",
      "2023-04-06 12:56:51 DEBUG    vmin 0.6377665032744292 vmax 12650.397847138678\n",
      "2023-04-06 12:56:51 DEBUG    ticklocs array([1.e-02, 1.e-01, 1.e+00, 1.e+01, 1.e+02, 1.e+03, 1.e+04, 1.e+05,\n",
      "       1.e+06])\n",
      "2023-04-06 12:56:51 DEBUG    vmin 0.6377665032744292 vmax 12650.397847138678\n",
      "2023-04-06 12:56:51 DEBUG    ticklocs array([2.e-02, 3.e-02, 4.e-02, 5.e-02, 6.e-02, 7.e-02, 8.e-02, 9.e-02,\n",
      "       2.e-01, 3.e-01, 4.e-01, 5.e-01, 6.e-01, 7.e-01, 8.e-01, 9.e-01,\n",
      "       2.e+00, 3.e+00, 4.e+00, 5.e+00, 6.e+00, 7.e+00, 8.e+00, 9.e+00,\n",
      "       2.e+01, 3.e+01, 4.e+01, 5.e+01, 6.e+01, 7.e+01, 8.e+01, 9.e+01,\n",
      "       2.e+02, 3.e+02, 4.e+02, 5.e+02, 6.e+02, 7.e+02, 8.e+02, 9.e+02,\n",
      "       2.e+03, 3.e+03, 4.e+03, 5.e+03, 6.e+03, 7.e+03, 8.e+03, 9.e+03,\n",
      "       2.e+04, 3.e+04, 4.e+04, 5.e+04, 6.e+04, 7.e+04, 8.e+04, 9.e+04,\n",
      "       2.e+05, 3.e+05, 4.e+05, 5.e+05, 6.e+05, 7.e+05, 8.e+05, 9.e+05,\n",
      "       2.e+06, 3.e+06, 4.e+06, 5.e+06, 6.e+06, 7.e+06, 8.e+06, 9.e+06])\n",
      "2023-04-06 12:56:51 DEBUG    vmin 0.6377665032744292 vmax 12650.397847138678\n",
      "2023-04-06 12:56:51 DEBUG    ticklocs array([1.e-02, 1.e-01, 1.e+00, 1.e+01, 1.e+02, 1.e+03, 1.e+04, 1.e+05,\n",
      "       1.e+06])\n",
      "2023-04-06 12:56:51 DEBUG    vmin 0.6377665032744292 vmax 12650.397847138678\n",
      "2023-04-06 12:56:51 DEBUG    ticklocs array([1.e-02, 1.e-01, 1.e+00, 1.e+01, 1.e+02, 1.e+03, 1.e+04, 1.e+05,\n",
      "       1.e+06])\n",
      "2023-04-06 12:56:51 DEBUG    vmin 0.6377665032744292 vmax 12650.397847138678\n",
      "2023-04-06 12:56:51 DEBUG    ticklocs array([2.e-02, 3.e-02, 4.e-02, 5.e-02, 6.e-02, 7.e-02, 8.e-02, 9.e-02,\n",
      "       2.e-01, 3.e-01, 4.e-01, 5.e-01, 6.e-01, 7.e-01, 8.e-01, 9.e-01,\n",
      "       2.e+00, 3.e+00, 4.e+00, 5.e+00, 6.e+00, 7.e+00, 8.e+00, 9.e+00,\n",
      "       2.e+01, 3.e+01, 4.e+01, 5.e+01, 6.e+01, 7.e+01, 8.e+01, 9.e+01,\n",
      "       2.e+02, 3.e+02, 4.e+02, 5.e+02, 6.e+02, 7.e+02, 8.e+02, 9.e+02,\n",
      "       2.e+03, 3.e+03, 4.e+03, 5.e+03, 6.e+03, 7.e+03, 8.e+03, 9.e+03,\n",
      "       2.e+04, 3.e+04, 4.e+04, 5.e+04, 6.e+04, 7.e+04, 8.e+04, 9.e+04,\n",
      "       2.e+05, 3.e+05, 4.e+05, 5.e+05, 6.e+05, 7.e+05, 8.e+05, 9.e+05,\n",
      "       2.e+06, 3.e+06, 4.e+06, 5.e+06, 6.e+06, 7.e+06, 8.e+06, 9.e+06])\n",
      "2023-04-06 12:56:51 DEBUG    vmin 0.6377665032744292 vmax 12650.397847138678\n",
      "2023-04-06 12:56:51 DEBUG    ticklocs array([1.e-02, 1.e-01, 1.e+00, 1.e+01, 1.e+02, 1.e+03, 1.e+04, 1.e+05,\n",
      "       1.e+06])\n",
      "2023-04-06 12:56:51 DEBUG    vmin 0.6377665032744292 vmax 12650.397847138678\n",
      "2023-04-06 12:56:51 DEBUG    ticklocs array([1.e-02, 1.e-01, 1.e+00, 1.e+01, 1.e+02, 1.e+03, 1.e+04, 1.e+05,\n",
      "       1.e+06])\n",
      "2023-04-06 12:56:51 DEBUG    vmin 0.6377665032744292 vmax 12650.397847138678\n",
      "2023-04-06 12:56:51 DEBUG    ticklocs array([2.e-02, 3.e-02, 4.e-02, 5.e-02, 6.e-02, 7.e-02, 8.e-02, 9.e-02,\n",
      "       2.e-01, 3.e-01, 4.e-01, 5.e-01, 6.e-01, 7.e-01, 8.e-01, 9.e-01,\n",
      "       2.e+00, 3.e+00, 4.e+00, 5.e+00, 6.e+00, 7.e+00, 8.e+00, 9.e+00,\n",
      "       2.e+01, 3.e+01, 4.e+01, 5.e+01, 6.e+01, 7.e+01, 8.e+01, 9.e+01,\n",
      "       2.e+02, 3.e+02, 4.e+02, 5.e+02, 6.e+02, 7.e+02, 8.e+02, 9.e+02,\n",
      "       2.e+03, 3.e+03, 4.e+03, 5.e+03, 6.e+03, 7.e+03, 8.e+03, 9.e+03,\n",
      "       2.e+04, 3.e+04, 4.e+04, 5.e+04, 6.e+04, 7.e+04, 8.e+04, 9.e+04,\n",
      "       2.e+05, 3.e+05, 4.e+05, 5.e+05, 6.e+05, 7.e+05, 8.e+05, 9.e+05,\n",
      "       2.e+06, 3.e+06, 4.e+06, 5.e+06, 6.e+06, 7.e+06, 8.e+06, 9.e+06])\n",
      "2023-04-06 12:56:51 DEBUG    vmin 0.6377665032744292 vmax 12650.397847138678\n",
      "2023-04-06 12:56:51 DEBUG    ticklocs array([1.e-02, 1.e-01, 1.e+00, 1.e+01, 1.e+02, 1.e+03, 1.e+04, 1.e+05,\n",
      "       1.e+06])\n",
      "2023-04-06 12:56:51 DEBUG    vmin 0.6377665032744292 vmax 12650.397847138678\n",
      "2023-04-06 12:56:51 DEBUG    ticklocs array([1.e-02, 1.e-01, 1.e+00, 1.e+01, 1.e+02, 1.e+03, 1.e+04, 1.e+05,\n",
      "       1.e+06])\n",
      "2023-04-06 12:56:51 DEBUG    vmin 0.6377665032744292 vmax 12650.397847138678\n",
      "2023-04-06 12:56:51 DEBUG    ticklocs array([2.e-02, 3.e-02, 4.e-02, 5.e-02, 6.e-02, 7.e-02, 8.e-02, 9.e-02,\n",
      "       2.e-01, 3.e-01, 4.e-01, 5.e-01, 6.e-01, 7.e-01, 8.e-01, 9.e-01,\n",
      "       2.e+00, 3.e+00, 4.e+00, 5.e+00, 6.e+00, 7.e+00, 8.e+00, 9.e+00,\n",
      "       2.e+01, 3.e+01, 4.e+01, 5.e+01, 6.e+01, 7.e+01, 8.e+01, 9.e+01,\n",
      "       2.e+02, 3.e+02, 4.e+02, 5.e+02, 6.e+02, 7.e+02, 8.e+02, 9.e+02,\n",
      "       2.e+03, 3.e+03, 4.e+03, 5.e+03, 6.e+03, 7.e+03, 8.e+03, 9.e+03,\n",
      "       2.e+04, 3.e+04, 4.e+04, 5.e+04, 6.e+04, 7.e+04, 8.e+04, 9.e+04,\n",
      "       2.e+05, 3.e+05, 4.e+05, 5.e+05, 6.e+05, 7.e+05, 8.e+05, 9.e+05,\n",
      "       2.e+06, 3.e+06, 4.e+06, 5.e+06, 6.e+06, 7.e+06, 8.e+06, 9.e+06])\n",
      "2023-04-06 12:56:51 DEBUG    vmin 0.6377665032744292 vmax 12650.397847138678\n",
      "2023-04-06 12:56:51 DEBUG    ticklocs array([1.e-02, 1.e-01, 1.e+00, 1.e+01, 1.e+02, 1.e+03, 1.e+04, 1.e+05,\n",
      "       1.e+06])\n",
      "2023-04-06 12:56:51 DEBUG    vmin 0.6377665032744292 vmax 12650.397847138678\n",
      "2023-04-06 12:56:51 DEBUG    ticklocs array([1.e-02, 1.e-01, 1.e+00, 1.e+01, 1.e+02, 1.e+03, 1.e+04, 1.e+05,\n",
      "       1.e+06])\n",
      "2023-04-06 12:56:51 DEBUG    vmin 0.6377665032744292 vmax 12650.397847138678\n",
      "2023-04-06 12:56:51 DEBUG    ticklocs array([2.e-02, 3.e-02, 4.e-02, 5.e-02, 6.e-02, 7.e-02, 8.e-02, 9.e-02,\n",
      "       2.e-01, 3.e-01, 4.e-01, 5.e-01, 6.e-01, 7.e-01, 8.e-01, 9.e-01,\n",
      "       2.e+00, 3.e+00, 4.e+00, 5.e+00, 6.e+00, 7.e+00, 8.e+00, 9.e+00,\n",
      "       2.e+01, 3.e+01, 4.e+01, 5.e+01, 6.e+01, 7.e+01, 8.e+01, 9.e+01,\n",
      "       2.e+02, 3.e+02, 4.e+02, 5.e+02, 6.e+02, 7.e+02, 8.e+02, 9.e+02,\n",
      "       2.e+03, 3.e+03, 4.e+03, 5.e+03, 6.e+03, 7.e+03, 8.e+03, 9.e+03,\n",
      "       2.e+04, 3.e+04, 4.e+04, 5.e+04, 6.e+04, 7.e+04, 8.e+04, 9.e+04,\n",
      "       2.e+05, 3.e+05, 4.e+05, 5.e+05, 6.e+05, 7.e+05, 8.e+05, 9.e+05,\n",
      "       2.e+06, 3.e+06, 4.e+06, 5.e+06, 6.e+06, 7.e+06, 8.e+06, 9.e+06])\n",
      "2023-04-06 12:56:51 DEBUG    vmin 0.6377665032744292 vmax 12650.397847138678\n",
      "2023-04-06 12:56:51 DEBUG    ticklocs array([1.e-02, 1.e-01, 1.e+00, 1.e+01, 1.e+02, 1.e+03, 1.e+04, 1.e+05,\n",
      "       1.e+06])\n"
     ]
    },
    {
     "data": {
      "image/png": "[encoded data removed]",
      "text/plain": [
       "<Figure size 640x480 with 1 Axes>"
      ]
     },
     "metadata": {},
     "output_type": "display_data"
    }
   ],
   "source": [
    "utils.plot_energy_histogram(cv_energy_model, full_tensor)"
   ]
  },
  {
   "cell_type": "code",
   "execution_count": 32,
   "metadata": {},
   "outputs": [],
   "source": [
    "negatives_scores = full_tensor_scores[:, 1:]"
   ]
  },
  {
   "cell_type": "code",
   "execution_count": 33,
   "metadata": {},
   "outputs": [],
   "source": [
    "positive_scores = full_tensor_scores[:, 0]\n",
    "score_diffs = negatives_scores - positive_scores.unsqueeze(1)"
   ]
  },
  {
   "cell_type": "code",
   "execution_count": 34,
   "metadata": {},
   "outputs": [
    {
     "data": {
      "text/plain": [
       "torch.return_types.topk(\n",
       "values=tensor([-3.0020, -2.9317, -2.2008, -1.9856, -1.8909, -1.6573, -1.6573, -1.5808,\n",
       "        -1.5808, -1.5457]),\n",
       "indices=tensor([27406, 26919, 26658, 26844, 26647, 27325, 27390, 27348, 27310, 26652]))"
      ]
     },
     "execution_count": 34,
     "metadata": {},
     "output_type": "execute_result"
    }
   ],
   "source": [
    "torch.topk(score_diffs.ravel(), 10, largest=False)"
   ]
  },
  {
   "cell_type": "code",
   "execution_count": 35,
   "metadata": {},
   "outputs": [
    {
     "name": "stdout",
     "output_type": "stream",
     "text": [
      "Original game index: 26 | Negative game row: 26 | Negative game col: 782\n"
     ]
    },
    {
     "data": {
      "text/markdown": [
       "### Energy of real game: -26.058 | Energy of regrown game: -29.059 | Difference: -3.002"
      ],
      "text/plain": [
       "<IPython.core.display.Markdown object>"
      ]
     },
     "metadata": {},
     "output_type": "display_data"
    },
    {
     "data": {
      "text/markdown": [
       "### Top features changing the game's energy\n",
       "feature name: **value** = (original feature value => regrown feature value) * weight"
      ],
      "text/plain": [
       "<IPython.core.display.Markdown object>"
      ]
     },
     "metadata": {},
     "output_type": "display_data"
    },
    {
     "data": {
      "text/markdown": [
       "| Features increasing energy (= more fake)   | Features decreasing energy (= more real)                                              |\n",
       "|--------------------------------------------|---------------------------------------------------------------------------------------|\n",
       "|                                            | ast_ngram_constraints_n_7_score: **-1.957** = (0.548 => 0.822) * -7.147               |\n",
       "|                                            | ast_ngram_full_n_7_score: **-0.718** = (0.580 => 0.659) * -9.074                      |\n",
       "|                                            | on_arg_types_furniture_any_object_constraints: **-0.327** = (0.000 => 1.000) * -0.327 |"
      ],
      "text/plain": [
       "<IPython.core.display.Markdown object>"
      ]
     },
     "metadata": {},
     "output_type": "display_data"
    },
    {
     "data": {
      "text/markdown": [
       "### Game Diffs"
      ],
      "text/plain": [
       "<IPython.core.display.Markdown object>"
      ]
     },
     "metadata": {},
     "output_type": "display_data"
    },
    {
     "data": {
      "text/html": [
       "\n",
       "<!DOCTYPE html PUBLIC \"-//W3C//DTD XHTML 1.0 Transitional//EN\"\n",
       "          \"http://www.w3.org/TR/xhtml1/DTD/xhtml1-transitional.dtd\">\n",
       "\n",
       "<html>\n",
       "\n",
       "<head>\n",
       "    <meta http-equiv=\"Content-Type\"\n",
       "          content=\"text/html; charset=utf-8\" />\n",
       "    <title></title>\n",
       "    <style type=\"text/css\">\n",
       "        table.diff {font-family:Courier; border:medium;}\n",
       "        .diff_header {background-color:#e0e0e0}\n",
       "        .diff td {text-align: left !important}\n",
       ".diff th {text-align: center!important }\n",
       ".diff td.diff_header {text-align:right !important}\n",
       "        .diff_next {background-color:#c0c0c0}\n",
       "        .diff_add {background-color: #6fa66f !important; font-weight: bold !important}\n",
       "        .diff_chg {background-color: #999949 !important; font-weight: bold !important}\n",
       "        .diff_sub {background-color: #a66f6f !important; font-weight: bold !important}\n",
       "    </style>\n",
       "</head>\n",
       "\n",
       "<body>\n",
       "    \n",
       "    <table class=\"diff\" id=\"difflib_chg_to20__top\"\n",
       "           cellspacing=\"0\" cellpadding=\"0\" rules=\"groups\" >\n",
       "        <colgroup></colgroup> <colgroup></colgroup> <colgroup></colgroup>\n",
       "        <colgroup></colgroup> <colgroup></colgroup> <colgroup></colgroup>\n",
       "        \n",
       "        <tbody>\n",
       "            <tr><td class=\"diff_next\" id=\"difflib_chg_to20__0\"><a href=\"#difflib_chg_to20__1\">n</a></td><td class=\"diff_header\" id=\"from20_1\">1</td><td nowrap=\"nowrap\">(define&nbsp;(game&nbsp;614e1599db14d8f3a5c1486a-33)&nbsp;(:domain&nbsp;many-objects-room-v1)</td><td class=\"diff_next\"><a href=\"#difflib_chg_to20__1\">n</a></td><td class=\"diff_header\" id=\"to20_1\">1</td><td nowrap=\"nowrap\">(define&nbsp;(game&nbsp;614e1599db14d8f3a5c1486a-33<span class=\"diff_add\">-782-nd-15-rd-3-rs-constraints-sk-prior5</span>)&nbsp;(:domain&nbsp;many-obj</td></tr>\n",
       "            <tr><td class=\"diff_next\"></td><td class=\"diff_header\"></td><td nowrap=\"nowrap\">&nbsp;</td><td class=\"diff_next\"></td><td class=\"diff_header\">></td><td nowrap=\"nowrap\">ects-room-v1)</td></tr>\n",
       "            <tr><td class=\"diff_next\"></td><td class=\"diff_header\" id=\"from20_2\">2</td><td nowrap=\"nowrap\">(:setup</td><td class=\"diff_next\"></td><td class=\"diff_header\" id=\"to20_2\">2</td><td nowrap=\"nowrap\">(:setup</td></tr>\n",
       "            <tr><td class=\"diff_next\"></td><td class=\"diff_header\" id=\"from20_3\">3</td><td nowrap=\"nowrap\">&nbsp;&nbsp;(and</td><td class=\"diff_next\"></td><td class=\"diff_header\" id=\"to20_3\">3</td><td nowrap=\"nowrap\">&nbsp;&nbsp;(and</td></tr>\n",
       "            <tr><td class=\"diff_next\"></td><td class=\"diff_header\" id=\"from20_4\">4</td><td nowrap=\"nowrap\">&nbsp;&nbsp;&nbsp;&nbsp;(forall&nbsp;(?g&nbsp;-&nbsp;game_object)</td><td class=\"diff_next\"></td><td class=\"diff_header\" id=\"to20_4\">4</td><td nowrap=\"nowrap\">&nbsp;&nbsp;&nbsp;&nbsp;(forall&nbsp;(?g&nbsp;-&nbsp;game_object)</td></tr>\n",
       "            <tr><td class=\"diff_next\"></td><td class=\"diff_header\" id=\"from20_5\">5</td><td nowrap=\"nowrap\">&nbsp;&nbsp;&nbsp;&nbsp;&nbsp;&nbsp;(game-optional</td><td class=\"diff_next\"></td><td class=\"diff_header\" id=\"to20_5\">5</td><td nowrap=\"nowrap\">&nbsp;&nbsp;&nbsp;&nbsp;&nbsp;&nbsp;(game-optional</td></tr>\n",
       "            <tr><td class=\"diff_next\"></td><td class=\"diff_header\" id=\"from20_6\">6</td><td nowrap=\"nowrap\">&nbsp;&nbsp;&nbsp;&nbsp;&nbsp;&nbsp;&nbsp;&nbsp;(not</td><td class=\"diff_next\"></td><td class=\"diff_header\" id=\"to20_6\">6</td><td nowrap=\"nowrap\">&nbsp;&nbsp;&nbsp;&nbsp;&nbsp;&nbsp;&nbsp;&nbsp;(not</td></tr>\n",
       "            <tr><td class=\"diff_next\"></td><td class=\"diff_header\" id=\"from20_7\">7</td><td nowrap=\"nowrap\">&nbsp;&nbsp;&nbsp;&nbsp;&nbsp;&nbsp;&nbsp;&nbsp;&nbsp;&nbsp;(in&nbsp;top_drawer&nbsp;?g)</td><td class=\"diff_next\"></td><td class=\"diff_header\" id=\"to20_7\">7</td><td nowrap=\"nowrap\">&nbsp;&nbsp;&nbsp;&nbsp;&nbsp;&nbsp;&nbsp;&nbsp;&nbsp;&nbsp;(in&nbsp;top_drawer&nbsp;?g)</td></tr>\n",
       "            <tr><td class=\"diff_next\"></td><td class=\"diff_header\" id=\"from20_8\">8</td><td nowrap=\"nowrap\">&nbsp;&nbsp;&nbsp;&nbsp;&nbsp;&nbsp;&nbsp;&nbsp;)</td><td class=\"diff_next\"></td><td class=\"diff_header\" id=\"to20_8\">8</td><td nowrap=\"nowrap\">&nbsp;&nbsp;&nbsp;&nbsp;&nbsp;&nbsp;&nbsp;&nbsp;)</td></tr>\n",
       "            <tr><td class=\"diff_next\"></td><td class=\"diff_header\" id=\"from20_9\">9</td><td nowrap=\"nowrap\">&nbsp;&nbsp;&nbsp;&nbsp;&nbsp;&nbsp;)</td><td class=\"diff_next\"></td><td class=\"diff_header\" id=\"to20_9\">9</td><td nowrap=\"nowrap\">&nbsp;&nbsp;&nbsp;&nbsp;&nbsp;&nbsp;)</td></tr>\n",
       "            <tr><td class=\"diff_next\"></td><td class=\"diff_header\" id=\"from20_10\">10</td><td nowrap=\"nowrap\">&nbsp;&nbsp;&nbsp;&nbsp;)</td><td class=\"diff_next\"></td><td class=\"diff_header\" id=\"to20_10\">10</td><td nowrap=\"nowrap\">&nbsp;&nbsp;&nbsp;&nbsp;)</td></tr>\n",
       "            <tr><td class=\"diff_next\"></td><td class=\"diff_header\" id=\"from20_11\">11</td><td nowrap=\"nowrap\">&nbsp;&nbsp;)</td><td class=\"diff_next\"></td><td class=\"diff_header\" id=\"to20_11\">11</td><td nowrap=\"nowrap\">&nbsp;&nbsp;)</td></tr>\n",
       "            <tr><td class=\"diff_next\"></td><td class=\"diff_header\" id=\"from20_12\">12</td><td nowrap=\"nowrap\">)</td><td class=\"diff_next\"></td><td class=\"diff_header\" id=\"to20_12\">12</td><td nowrap=\"nowrap\">)</td></tr>\n",
       "            <tr><td class=\"diff_next\"></td><td class=\"diff_header\" id=\"from20_13\">13</td><td nowrap=\"nowrap\">(:constraints</td><td class=\"diff_next\"></td><td class=\"diff_header\" id=\"to20_13\">13</td><td nowrap=\"nowrap\">(:constraints</td></tr>\n",
       "            <tr><td class=\"diff_next\"></td><td class=\"diff_header\" id=\"from20_14\">14</td><td nowrap=\"nowrap\">&nbsp;&nbsp;(and</td><td class=\"diff_next\"></td><td class=\"diff_header\" id=\"to20_14\">14</td><td nowrap=\"nowrap\">&nbsp;&nbsp;(and</td></tr>\n",
       "            <tr><td class=\"diff_next\"></td><td class=\"diff_header\" id=\"from20_15\">15</td><td nowrap=\"nowrap\">&nbsp;&nbsp;&nbsp;&nbsp;(preference&nbsp;itemInClosedDrawerAtEnd</td><td class=\"diff_next\"></td><td class=\"diff_header\" id=\"to20_15\">15</td><td nowrap=\"nowrap\">&nbsp;&nbsp;&nbsp;&nbsp;(preference&nbsp;itemInClosedDrawerAtEnd</td></tr>\n",
       "            <tr><td class=\"diff_next\" id=\"difflib_chg_to20__1\"></td><td class=\"diff_header\" id=\"from20_16\">16</td><td nowrap=\"nowrap\">&nbsp;&nbsp;&nbsp;&nbsp;&nbsp;&nbsp;(exists&nbsp;(?g&nbsp;-&nbsp;game_object)</td><td class=\"diff_next\"></td><td class=\"diff_header\" id=\"to20_16\">16</td><td nowrap=\"nowrap\">&nbsp;&nbsp;&nbsp;&nbsp;&nbsp;&nbsp;(exists&nbsp;(?g&nbsp;-&nbsp;game_object)</td></tr>\n",
       "            <tr><td class=\"diff_next\"></td><td class=\"diff_header\" id=\"from20_17\">17</td><td nowrap=\"nowrap\">&nbsp;&nbsp;&nbsp;&nbsp;&nbsp;&nbsp;&nbsp;&nbsp;(at-end</td><td class=\"diff_next\"></td><td class=\"diff_header\" id=\"to20_17\">17</td><td nowrap=\"nowrap\">&nbsp;&nbsp;&nbsp;&nbsp;&nbsp;&nbsp;&nbsp;&nbsp;(at-end</td></tr>\n",
       "            <tr><td class=\"diff_next\"></td><td class=\"diff_header\" id=\"from20_18\">18</td><td nowrap=\"nowrap\">&nbsp;&nbsp;&nbsp;&nbsp;&nbsp;&nbsp;&nbsp;&nbsp;&nbsp;&nbsp;(and</td><td class=\"diff_next\"></td><td class=\"diff_header\" id=\"to20_18\">18</td><td nowrap=\"nowrap\">&nbsp;&nbsp;&nbsp;&nbsp;&nbsp;&nbsp;&nbsp;&nbsp;&nbsp;&nbsp;(and</td></tr>\n",
       "            <tr><td class=\"diff_next\"></td><td class=\"diff_header\" id=\"from20_19\">19</td><td nowrap=\"nowrap\">&nbsp;&nbsp;&nbsp;&nbsp;&nbsp;&nbsp;&nbsp;&nbsp;&nbsp;&nbsp;&nbsp;&nbsp;(in&nbsp;top_drawer&nbsp;?g)</td><td class=\"diff_next\"></td><td class=\"diff_header\" id=\"to20_19\">19</td><td nowrap=\"nowrap\">&nbsp;&nbsp;&nbsp;&nbsp;&nbsp;&nbsp;&nbsp;&nbsp;&nbsp;&nbsp;&nbsp;&nbsp;(in&nbsp;top_drawer&nbsp;?g)</td></tr>\n",
       "            <tr><td class=\"diff_next\"></td><td class=\"diff_header\" id=\"from20_20\">20</td><td nowrap=\"nowrap\">&nbsp;&nbsp;&nbsp;&nbsp;&nbsp;&nbsp;&nbsp;&nbsp;&nbsp;&nbsp;&nbsp;&nbsp;(not</td><td class=\"diff_next\"></td><td class=\"diff_header\" id=\"to20_20\">20</td><td nowrap=\"nowrap\">&nbsp;&nbsp;&nbsp;&nbsp;&nbsp;&nbsp;&nbsp;&nbsp;&nbsp;&nbsp;&nbsp;&nbsp;(not</td></tr>\n",
       "            <tr><td class=\"diff_next\"><a href=\"#difflib_chg_to20__top\">t</a></td><td class=\"diff_header\" id=\"from20_21\">21</td><td nowrap=\"nowrap\"><span class=\"diff_sub\">&nbsp;&nbsp;&nbsp;&nbsp;&nbsp;&nbsp;&nbsp;&nbsp;&nbsp;&nbsp;&nbsp;&nbsp;&nbsp;&nbsp;(open&nbsp;top_drawer)</span></td><td class=\"diff_next\"><a href=\"#difflib_chg_to20__top\">t</a></td><td class=\"diff_header\" id=\"to20_21\">21</td><td nowrap=\"nowrap\"><span class=\"diff_add\">&nbsp;&nbsp;&nbsp;&nbsp;&nbsp;&nbsp;&nbsp;&nbsp;&nbsp;&nbsp;&nbsp;&nbsp;&nbsp;&nbsp;(on&nbsp;bed&nbsp;?g)</span></td></tr>\n",
       "            <tr><td class=\"diff_next\"></td><td class=\"diff_header\" id=\"from20_22\">22</td><td nowrap=\"nowrap\">&nbsp;&nbsp;&nbsp;&nbsp;&nbsp;&nbsp;&nbsp;&nbsp;&nbsp;&nbsp;&nbsp;&nbsp;)</td><td class=\"diff_next\"></td><td class=\"diff_header\" id=\"to20_22\">22</td><td nowrap=\"nowrap\">&nbsp;&nbsp;&nbsp;&nbsp;&nbsp;&nbsp;&nbsp;&nbsp;&nbsp;&nbsp;&nbsp;&nbsp;)</td></tr>\n",
       "            <tr><td class=\"diff_next\"></td><td class=\"diff_header\" id=\"from20_23\">23</td><td nowrap=\"nowrap\">&nbsp;&nbsp;&nbsp;&nbsp;&nbsp;&nbsp;&nbsp;&nbsp;&nbsp;&nbsp;)</td><td class=\"diff_next\"></td><td class=\"diff_header\" id=\"to20_23\">23</td><td nowrap=\"nowrap\">&nbsp;&nbsp;&nbsp;&nbsp;&nbsp;&nbsp;&nbsp;&nbsp;&nbsp;&nbsp;)</td></tr>\n",
       "            <tr><td class=\"diff_next\"></td><td class=\"diff_header\" id=\"from20_24\">24</td><td nowrap=\"nowrap\">&nbsp;&nbsp;&nbsp;&nbsp;&nbsp;&nbsp;&nbsp;&nbsp;)</td><td class=\"diff_next\"></td><td class=\"diff_header\" id=\"to20_24\">24</td><td nowrap=\"nowrap\">&nbsp;&nbsp;&nbsp;&nbsp;&nbsp;&nbsp;&nbsp;&nbsp;)</td></tr>\n",
       "            <tr><td class=\"diff_next\"></td><td class=\"diff_header\" id=\"from20_25\">25</td><td nowrap=\"nowrap\">&nbsp;&nbsp;&nbsp;&nbsp;&nbsp;&nbsp;)</td><td class=\"diff_next\"></td><td class=\"diff_header\" id=\"to20_25\">25</td><td nowrap=\"nowrap\">&nbsp;&nbsp;&nbsp;&nbsp;&nbsp;&nbsp;)</td></tr>\n",
       "            <tr><td class=\"diff_next\"></td><td class=\"diff_header\" id=\"from20_26\">26</td><td nowrap=\"nowrap\">&nbsp;&nbsp;&nbsp;&nbsp;)</td><td class=\"diff_next\"></td><td class=\"diff_header\" id=\"to20_26\">26</td><td nowrap=\"nowrap\">&nbsp;&nbsp;&nbsp;&nbsp;)</td></tr>\n",
       "            <tr><td class=\"diff_next\"></td><td class=\"diff_header\" id=\"from20_27\">27</td><td nowrap=\"nowrap\">&nbsp;&nbsp;)</td><td class=\"diff_next\"></td><td class=\"diff_header\" id=\"to20_27\">27</td><td nowrap=\"nowrap\">&nbsp;&nbsp;)</td></tr>\n",
       "            <tr><td class=\"diff_next\"></td><td class=\"diff_header\" id=\"from20_28\">28</td><td nowrap=\"nowrap\">)</td><td class=\"diff_next\"></td><td class=\"diff_header\" id=\"to20_28\">28</td><td nowrap=\"nowrap\">)</td></tr>\n",
       "            <tr><td class=\"diff_next\"></td><td class=\"diff_header\" id=\"from20_29\">29</td><td nowrap=\"nowrap\">(:scoring</td><td class=\"diff_next\"></td><td class=\"diff_header\" id=\"to20_29\">29</td><td nowrap=\"nowrap\">(:scoring</td></tr>\n",
       "            <tr><td class=\"diff_next\"></td><td class=\"diff_header\" id=\"from20_30\">30</td><td nowrap=\"nowrap\">&nbsp;&nbsp;(count-once-per-objects&nbsp;itemInClosedDrawerAtEnd)</td><td class=\"diff_next\"></td><td class=\"diff_header\" id=\"to20_30\">30</td><td nowrap=\"nowrap\">&nbsp;&nbsp;(count-once-per-objects&nbsp;itemInClosedDrawerAtEnd)</td></tr>\n",
       "            <tr><td class=\"diff_next\"></td><td class=\"diff_header\" id=\"from20_31\">31</td><td nowrap=\"nowrap\">)</td><td class=\"diff_next\"></td><td class=\"diff_header\" id=\"to20_31\">31</td><td nowrap=\"nowrap\">)</td></tr>\n",
       "            <tr><td class=\"diff_next\"></td><td class=\"diff_header\" id=\"from20_32\">32</td><td nowrap=\"nowrap\">)</td><td class=\"diff_next\"></td><td class=\"diff_header\" id=\"to20_32\">32</td><td nowrap=\"nowrap\">)</td></tr>\n",
       "        </tbody>\n",
       "    </table>\n",
       "    <table class=\"diff\" summary=\"Legends\">\n",
       "        <tr> <th colspan=\"2\"> Legends </th> </tr>\n",
       "        <tr> <td> <table border=\"\" summary=\"Colors\">\n",
       "                      <tr><th> Colors </th> </tr>\n",
       "                      <tr><td class=\"diff_add\">&nbsp;Added&nbsp;</td></tr>\n",
       "                      <tr><td class=\"diff_chg\">Changed</td> </tr>\n",
       "                      <tr><td class=\"diff_sub\">Deleted</td> </tr>\n",
       "                  </table></td>\n",
       "             <td> <table border=\"\" summary=\"Links\">\n",
       "                      <tr><th colspan=\"2\"> Links </th> </tr>\n",
       "                      <tr><td>(f)irst change</td> </tr>\n",
       "                      <tr><td>(n)ext change</td> </tr>\n",
       "                      <tr><td>(t)op</td> </tr>\n",
       "                  </table></td> </tr>\n",
       "    </table>\n",
       "</body>\n",
       "\n",
       "</html>"
      ],
      "text/plain": [
       "<IPython.core.display.HTML object>"
      ]
     },
     "metadata": {},
     "output_type": "display_data"
    },
    {
     "data": {
      "text/markdown": [
       "---"
      ],
      "text/plain": [
       "<IPython.core.display.Markdown object>"
      ]
     },
     "metadata": {},
     "output_type": "display_data"
    },
    {
     "name": "stdout",
     "output_type": "stream",
     "text": [
      "Original game index: 26 | Negative game row: 26 | Negative game col: 295\n"
     ]
    },
    {
     "data": {
      "text/markdown": [
       "### Energy of real game: -26.058 | Energy of regrown game: -28.989 | Difference: -2.932"
      ],
      "text/plain": [
       "<IPython.core.display.Markdown object>"
      ]
     },
     "metadata": {},
     "output_type": "display_data"
    },
    {
     "data": {
      "text/markdown": [
       "### Top features changing the game's energy\n",
       "feature name: **value** = (original feature value => regrown feature value) * weight"
      ],
      "text/plain": [
       "<IPython.core.display.Markdown object>"
      ]
     },
     "metadata": {},
     "output_type": "display_data"
    },
    {
     "data": {
      "text/markdown": [
       "| Features increasing energy (= more fake)   | Features decreasing energy (= more real)                                |\n",
       "|--------------------------------------------|-------------------------------------------------------------------------|\n",
       "|                                            | ast_ngram_constraints_n_7_score: **-1.886** = (0.548 => 0.812) * -7.147 |\n",
       "|                                            | ast_ngram_full_n_7_score: **-1.046** = (0.580 => 0.695) * -9.074        |"
      ],
      "text/plain": [
       "<IPython.core.display.Markdown object>"
      ]
     },
     "metadata": {},
     "output_type": "display_data"
    },
    {
     "data": {
      "text/markdown": [
       "### Game Diffs"
      ],
      "text/plain": [
       "<IPython.core.display.Markdown object>"
      ]
     },
     "metadata": {},
     "output_type": "display_data"
    },
    {
     "data": {
      "text/html": [
       "\n",
       "<!DOCTYPE html PUBLIC \"-//W3C//DTD XHTML 1.0 Transitional//EN\"\n",
       "          \"http://www.w3.org/TR/xhtml1/DTD/xhtml1-transitional.dtd\">\n",
       "\n",
       "<html>\n",
       "\n",
       "<head>\n",
       "    <meta http-equiv=\"Content-Type\"\n",
       "          content=\"text/html; charset=utf-8\" />\n",
       "    <title></title>\n",
       "    <style type=\"text/css\">\n",
       "        table.diff {font-family:Courier; border:medium;}\n",
       "        .diff_header {background-color:#e0e0e0}\n",
       "        .diff td {text-align: left !important}\n",
       ".diff th {text-align: center!important }\n",
       ".diff td.diff_header {text-align:right !important}\n",
       "        .diff_next {background-color:#c0c0c0}\n",
       "        .diff_add {background-color: #6fa66f !important; font-weight: bold !important}\n",
       "        .diff_chg {background-color: #999949 !important; font-weight: bold !important}\n",
       "        .diff_sub {background-color: #a66f6f !important; font-weight: bold !important}\n",
       "    </style>\n",
       "</head>\n",
       "\n",
       "<body>\n",
       "    \n",
       "    <table class=\"diff\" id=\"difflib_chg_to21__top\"\n",
       "           cellspacing=\"0\" cellpadding=\"0\" rules=\"groups\" >\n",
       "        <colgroup></colgroup> <colgroup></colgroup> <colgroup></colgroup>\n",
       "        <colgroup></colgroup> <colgroup></colgroup> <colgroup></colgroup>\n",
       "        \n",
       "        <tbody>\n",
       "            <tr><td class=\"diff_next\" id=\"difflib_chg_to21__0\"><a href=\"#difflib_chg_to21__1\">n</a></td><td class=\"diff_header\" id=\"from21_1\">1</td><td nowrap=\"nowrap\">(define&nbsp;(game&nbsp;614e1599db14d8f3a5c1486a-33)&nbsp;(:domain&nbsp;many-objects-room-v1)</td><td class=\"diff_next\"><a href=\"#difflib_chg_to21__1\">n</a></td><td class=\"diff_header\" id=\"to21_1\">1</td><td nowrap=\"nowrap\">(define&nbsp;(game&nbsp;614e1599db14d8f3a5c1486a-33<span class=\"diff_add\">-295-nd-16-rd-2-rs-constraints-sk-prior5</span>)&nbsp;(:domain&nbsp;many-obj</td></tr>\n",
       "            <tr><td class=\"diff_next\"></td><td class=\"diff_header\"></td><td nowrap=\"nowrap\">&nbsp;</td><td class=\"diff_next\"></td><td class=\"diff_header\">></td><td nowrap=\"nowrap\">ects-room-v1)</td></tr>\n",
       "            <tr><td class=\"diff_next\"></td><td class=\"diff_header\" id=\"from21_2\">2</td><td nowrap=\"nowrap\">(:setup</td><td class=\"diff_next\"></td><td class=\"diff_header\" id=\"to21_2\">2</td><td nowrap=\"nowrap\">(:setup</td></tr>\n",
       "            <tr><td class=\"diff_next\"></td><td class=\"diff_header\" id=\"from21_3\">3</td><td nowrap=\"nowrap\">&nbsp;&nbsp;(and</td><td class=\"diff_next\"></td><td class=\"diff_header\" id=\"to21_3\">3</td><td nowrap=\"nowrap\">&nbsp;&nbsp;(and</td></tr>\n",
       "            <tr><td class=\"diff_next\"></td><td class=\"diff_header\" id=\"from21_4\">4</td><td nowrap=\"nowrap\">&nbsp;&nbsp;&nbsp;&nbsp;(forall&nbsp;(?g&nbsp;-&nbsp;game_object)</td><td class=\"diff_next\"></td><td class=\"diff_header\" id=\"to21_4\">4</td><td nowrap=\"nowrap\">&nbsp;&nbsp;&nbsp;&nbsp;(forall&nbsp;(?g&nbsp;-&nbsp;game_object)</td></tr>\n",
       "            <tr><td class=\"diff_next\"></td><td class=\"diff_header\" id=\"from21_5\">5</td><td nowrap=\"nowrap\">&nbsp;&nbsp;&nbsp;&nbsp;&nbsp;&nbsp;(game-optional</td><td class=\"diff_next\"></td><td class=\"diff_header\" id=\"to21_5\">5</td><td nowrap=\"nowrap\">&nbsp;&nbsp;&nbsp;&nbsp;&nbsp;&nbsp;(game-optional</td></tr>\n",
       "            <tr><td class=\"diff_next\"></td><td class=\"diff_header\" id=\"from21_6\">6</td><td nowrap=\"nowrap\">&nbsp;&nbsp;&nbsp;&nbsp;&nbsp;&nbsp;&nbsp;&nbsp;(not</td><td class=\"diff_next\"></td><td class=\"diff_header\" id=\"to21_6\">6</td><td nowrap=\"nowrap\">&nbsp;&nbsp;&nbsp;&nbsp;&nbsp;&nbsp;&nbsp;&nbsp;(not</td></tr>\n",
       "            <tr><td class=\"diff_next\"></td><td class=\"diff_header\" id=\"from21_7\">7</td><td nowrap=\"nowrap\">&nbsp;&nbsp;&nbsp;&nbsp;&nbsp;&nbsp;&nbsp;&nbsp;&nbsp;&nbsp;(in&nbsp;top_drawer&nbsp;?g)</td><td class=\"diff_next\"></td><td class=\"diff_header\" id=\"to21_7\">7</td><td nowrap=\"nowrap\">&nbsp;&nbsp;&nbsp;&nbsp;&nbsp;&nbsp;&nbsp;&nbsp;&nbsp;&nbsp;(in&nbsp;top_drawer&nbsp;?g)</td></tr>\n",
       "            <tr><td class=\"diff_next\"></td><td class=\"diff_header\" id=\"from21_8\">8</td><td nowrap=\"nowrap\">&nbsp;&nbsp;&nbsp;&nbsp;&nbsp;&nbsp;&nbsp;&nbsp;)</td><td class=\"diff_next\"></td><td class=\"diff_header\" id=\"to21_8\">8</td><td nowrap=\"nowrap\">&nbsp;&nbsp;&nbsp;&nbsp;&nbsp;&nbsp;&nbsp;&nbsp;)</td></tr>\n",
       "            <tr><td class=\"diff_next\"></td><td class=\"diff_header\" id=\"from21_9\">9</td><td nowrap=\"nowrap\">&nbsp;&nbsp;&nbsp;&nbsp;&nbsp;&nbsp;)</td><td class=\"diff_next\"></td><td class=\"diff_header\" id=\"to21_9\">9</td><td nowrap=\"nowrap\">&nbsp;&nbsp;&nbsp;&nbsp;&nbsp;&nbsp;)</td></tr>\n",
       "            <tr><td class=\"diff_next\"></td><td class=\"diff_header\" id=\"from21_10\">10</td><td nowrap=\"nowrap\">&nbsp;&nbsp;&nbsp;&nbsp;)</td><td class=\"diff_next\"></td><td class=\"diff_header\" id=\"to21_10\">10</td><td nowrap=\"nowrap\">&nbsp;&nbsp;&nbsp;&nbsp;)</td></tr>\n",
       "            <tr><td class=\"diff_next\"></td><td class=\"diff_header\" id=\"from21_11\">11</td><td nowrap=\"nowrap\">&nbsp;&nbsp;)</td><td class=\"diff_next\"></td><td class=\"diff_header\" id=\"to21_11\">11</td><td nowrap=\"nowrap\">&nbsp;&nbsp;)</td></tr>\n",
       "            <tr><td class=\"diff_next\"></td><td class=\"diff_header\" id=\"from21_12\">12</td><td nowrap=\"nowrap\">)</td><td class=\"diff_next\"></td><td class=\"diff_header\" id=\"to21_12\">12</td><td nowrap=\"nowrap\">)</td></tr>\n",
       "            <tr><td class=\"diff_next\"></td><td class=\"diff_header\" id=\"from21_13\">13</td><td nowrap=\"nowrap\">(:constraints</td><td class=\"diff_next\"></td><td class=\"diff_header\" id=\"to21_13\">13</td><td nowrap=\"nowrap\">(:constraints</td></tr>\n",
       "            <tr><td class=\"diff_next\"></td><td class=\"diff_header\" id=\"from21_14\">14</td><td nowrap=\"nowrap\">&nbsp;&nbsp;(and</td><td class=\"diff_next\"></td><td class=\"diff_header\" id=\"to21_14\">14</td><td nowrap=\"nowrap\">&nbsp;&nbsp;(and</td></tr>\n",
       "            <tr><td class=\"diff_next\"></td><td class=\"diff_header\" id=\"from21_15\">15</td><td nowrap=\"nowrap\">&nbsp;&nbsp;&nbsp;&nbsp;(preference&nbsp;itemInClosedDrawerAtEnd</td><td class=\"diff_next\"></td><td class=\"diff_header\" id=\"to21_15\">15</td><td nowrap=\"nowrap\">&nbsp;&nbsp;&nbsp;&nbsp;(preference&nbsp;itemInClosedDrawerAtEnd</td></tr>\n",
       "            <tr><td class=\"diff_next\" id=\"difflib_chg_to21__1\"></td><td class=\"diff_header\" id=\"from21_16\">16</td><td nowrap=\"nowrap\">&nbsp;&nbsp;&nbsp;&nbsp;&nbsp;&nbsp;(exists&nbsp;(?g&nbsp;-&nbsp;game_object)</td><td class=\"diff_next\"></td><td class=\"diff_header\" id=\"to21_16\">16</td><td nowrap=\"nowrap\">&nbsp;&nbsp;&nbsp;&nbsp;&nbsp;&nbsp;(exists&nbsp;(?g&nbsp;-&nbsp;game_object)</td></tr>\n",
       "            <tr><td class=\"diff_next\"></td><td class=\"diff_header\" id=\"from21_17\">17</td><td nowrap=\"nowrap\">&nbsp;&nbsp;&nbsp;&nbsp;&nbsp;&nbsp;&nbsp;&nbsp;(at-end</td><td class=\"diff_next\"></td><td class=\"diff_header\" id=\"to21_17\">17</td><td nowrap=\"nowrap\">&nbsp;&nbsp;&nbsp;&nbsp;&nbsp;&nbsp;&nbsp;&nbsp;(at-end</td></tr>\n",
       "            <tr><td class=\"diff_next\"></td><td class=\"diff_header\" id=\"from21_18\">18</td><td nowrap=\"nowrap\">&nbsp;&nbsp;&nbsp;&nbsp;&nbsp;&nbsp;&nbsp;&nbsp;&nbsp;&nbsp;(and</td><td class=\"diff_next\"></td><td class=\"diff_header\" id=\"to21_18\">18</td><td nowrap=\"nowrap\">&nbsp;&nbsp;&nbsp;&nbsp;&nbsp;&nbsp;&nbsp;&nbsp;&nbsp;&nbsp;(and</td></tr>\n",
       "            <tr><td class=\"diff_next\"></td><td class=\"diff_header\" id=\"from21_19\">19</td><td nowrap=\"nowrap\">&nbsp;&nbsp;&nbsp;&nbsp;&nbsp;&nbsp;&nbsp;&nbsp;&nbsp;&nbsp;&nbsp;&nbsp;(in&nbsp;top_drawer&nbsp;?g)</td><td class=\"diff_next\"></td><td class=\"diff_header\" id=\"to21_19\">19</td><td nowrap=\"nowrap\">&nbsp;&nbsp;&nbsp;&nbsp;&nbsp;&nbsp;&nbsp;&nbsp;&nbsp;&nbsp;&nbsp;&nbsp;(in&nbsp;top_drawer&nbsp;?g)</td></tr>\n",
       "            <tr><td class=\"diff_next\"></td><td class=\"diff_header\" id=\"from21_20\">20</td><td nowrap=\"nowrap\">&nbsp;&nbsp;&nbsp;&nbsp;&nbsp;&nbsp;&nbsp;&nbsp;&nbsp;&nbsp;&nbsp;&nbsp;(not</td><td class=\"diff_next\"></td><td class=\"diff_header\" id=\"to21_20\">20</td><td nowrap=\"nowrap\">&nbsp;&nbsp;&nbsp;&nbsp;&nbsp;&nbsp;&nbsp;&nbsp;&nbsp;&nbsp;&nbsp;&nbsp;(not</td></tr>\n",
       "            <tr><td class=\"diff_next\"><a href=\"#difflib_chg_to21__top\">t</a></td><td class=\"diff_header\" id=\"from21_21\">21</td><td nowrap=\"nowrap\">&nbsp;&nbsp;&nbsp;&nbsp;&nbsp;&nbsp;&nbsp;&nbsp;&nbsp;&nbsp;&nbsp;&nbsp;&nbsp;&nbsp;(open&nbsp;<span class=\"diff_chg\">top_</span>d<span class=\"diff_sub\">rawer</span>)</td><td class=\"diff_next\"><a href=\"#difflib_chg_to21__top\">t</a></td><td class=\"diff_header\" id=\"to21_21\">21</td><td nowrap=\"nowrap\">&nbsp;&nbsp;&nbsp;&nbsp;&nbsp;&nbsp;&nbsp;&nbsp;&nbsp;&nbsp;&nbsp;&nbsp;&nbsp;&nbsp;(open&nbsp;<span class=\"diff_chg\">be</span>d)</td></tr>\n",
       "            <tr><td class=\"diff_next\"></td><td class=\"diff_header\" id=\"from21_22\">22</td><td nowrap=\"nowrap\">&nbsp;&nbsp;&nbsp;&nbsp;&nbsp;&nbsp;&nbsp;&nbsp;&nbsp;&nbsp;&nbsp;&nbsp;)</td><td class=\"diff_next\"></td><td class=\"diff_header\" id=\"to21_22\">22</td><td nowrap=\"nowrap\">&nbsp;&nbsp;&nbsp;&nbsp;&nbsp;&nbsp;&nbsp;&nbsp;&nbsp;&nbsp;&nbsp;&nbsp;)</td></tr>\n",
       "            <tr><td class=\"diff_next\"></td><td class=\"diff_header\" id=\"from21_23\">23</td><td nowrap=\"nowrap\">&nbsp;&nbsp;&nbsp;&nbsp;&nbsp;&nbsp;&nbsp;&nbsp;&nbsp;&nbsp;)</td><td class=\"diff_next\"></td><td class=\"diff_header\" id=\"to21_23\">23</td><td nowrap=\"nowrap\">&nbsp;&nbsp;&nbsp;&nbsp;&nbsp;&nbsp;&nbsp;&nbsp;&nbsp;&nbsp;)</td></tr>\n",
       "            <tr><td class=\"diff_next\"></td><td class=\"diff_header\" id=\"from21_24\">24</td><td nowrap=\"nowrap\">&nbsp;&nbsp;&nbsp;&nbsp;&nbsp;&nbsp;&nbsp;&nbsp;)</td><td class=\"diff_next\"></td><td class=\"diff_header\" id=\"to21_24\">24</td><td nowrap=\"nowrap\">&nbsp;&nbsp;&nbsp;&nbsp;&nbsp;&nbsp;&nbsp;&nbsp;)</td></tr>\n",
       "            <tr><td class=\"diff_next\"></td><td class=\"diff_header\" id=\"from21_25\">25</td><td nowrap=\"nowrap\">&nbsp;&nbsp;&nbsp;&nbsp;&nbsp;&nbsp;)</td><td class=\"diff_next\"></td><td class=\"diff_header\" id=\"to21_25\">25</td><td nowrap=\"nowrap\">&nbsp;&nbsp;&nbsp;&nbsp;&nbsp;&nbsp;)</td></tr>\n",
       "            <tr><td class=\"diff_next\"></td><td class=\"diff_header\" id=\"from21_26\">26</td><td nowrap=\"nowrap\">&nbsp;&nbsp;&nbsp;&nbsp;)</td><td class=\"diff_next\"></td><td class=\"diff_header\" id=\"to21_26\">26</td><td nowrap=\"nowrap\">&nbsp;&nbsp;&nbsp;&nbsp;)</td></tr>\n",
       "            <tr><td class=\"diff_next\"></td><td class=\"diff_header\" id=\"from21_27\">27</td><td nowrap=\"nowrap\">&nbsp;&nbsp;)</td><td class=\"diff_next\"></td><td class=\"diff_header\" id=\"to21_27\">27</td><td nowrap=\"nowrap\">&nbsp;&nbsp;)</td></tr>\n",
       "            <tr><td class=\"diff_next\"></td><td class=\"diff_header\" id=\"from21_28\">28</td><td nowrap=\"nowrap\">)</td><td class=\"diff_next\"></td><td class=\"diff_header\" id=\"to21_28\">28</td><td nowrap=\"nowrap\">)</td></tr>\n",
       "            <tr><td class=\"diff_next\"></td><td class=\"diff_header\" id=\"from21_29\">29</td><td nowrap=\"nowrap\">(:scoring</td><td class=\"diff_next\"></td><td class=\"diff_header\" id=\"to21_29\">29</td><td nowrap=\"nowrap\">(:scoring</td></tr>\n",
       "            <tr><td class=\"diff_next\"></td><td class=\"diff_header\" id=\"from21_30\">30</td><td nowrap=\"nowrap\">&nbsp;&nbsp;(count-once-per-objects&nbsp;itemInClosedDrawerAtEnd)</td><td class=\"diff_next\"></td><td class=\"diff_header\" id=\"to21_30\">30</td><td nowrap=\"nowrap\">&nbsp;&nbsp;(count-once-per-objects&nbsp;itemInClosedDrawerAtEnd)</td></tr>\n",
       "            <tr><td class=\"diff_next\"></td><td class=\"diff_header\" id=\"from21_31\">31</td><td nowrap=\"nowrap\">)</td><td class=\"diff_next\"></td><td class=\"diff_header\" id=\"to21_31\">31</td><td nowrap=\"nowrap\">)</td></tr>\n",
       "            <tr><td class=\"diff_next\"></td><td class=\"diff_header\" id=\"from21_32\">32</td><td nowrap=\"nowrap\">)</td><td class=\"diff_next\"></td><td class=\"diff_header\" id=\"to21_32\">32</td><td nowrap=\"nowrap\">)</td></tr>\n",
       "        </tbody>\n",
       "    </table>\n",
       "    <table class=\"diff\" summary=\"Legends\">\n",
       "        <tr> <th colspan=\"2\"> Legends </th> </tr>\n",
       "        <tr> <td> <table border=\"\" summary=\"Colors\">\n",
       "                      <tr><th> Colors </th> </tr>\n",
       "                      <tr><td class=\"diff_add\">&nbsp;Added&nbsp;</td></tr>\n",
       "                      <tr><td class=\"diff_chg\">Changed</td> </tr>\n",
       "                      <tr><td class=\"diff_sub\">Deleted</td> </tr>\n",
       "                  </table></td>\n",
       "             <td> <table border=\"\" summary=\"Links\">\n",
       "                      <tr><th colspan=\"2\"> Links </th> </tr>\n",
       "                      <tr><td>(f)irst change</td> </tr>\n",
       "                      <tr><td>(n)ext change</td> </tr>\n",
       "                      <tr><td>(t)op</td> </tr>\n",
       "                  </table></td> </tr>\n",
       "    </table>\n",
       "</body>\n",
       "\n",
       "</html>"
      ],
      "text/plain": [
       "<IPython.core.display.HTML object>"
      ]
     },
     "metadata": {},
     "output_type": "display_data"
    },
    {
     "data": {
      "text/markdown": [
       "---"
      ],
      "text/plain": [
       "<IPython.core.display.Markdown object>"
      ]
     },
     "metadata": {},
     "output_type": "display_data"
    },
    {
     "name": "stdout",
     "output_type": "stream",
     "text": [
      "Original game index: 26 | Negative game row: 26 | Negative game col: 34\n"
     ]
    },
    {
     "data": {
      "text/markdown": [
       "### Energy of real game: -26.058 | Energy of regrown game: -28.258 | Difference: -2.201"
      ],
      "text/plain": [
       "<IPython.core.display.Markdown object>"
      ]
     },
     "metadata": {},
     "output_type": "display_data"
    },
    {
     "data": {
      "text/markdown": [
       "### Top features changing the game's energy\n",
       "feature name: **value** = (original feature value => regrown feature value) * weight"
      ],
      "text/plain": [
       "<IPython.core.display.Markdown object>"
      ]
     },
     "metadata": {},
     "output_type": "display_data"
    },
    {
     "data": {
      "text/markdown": [
       "| Features increasing energy (= more fake)                                           | Features decreasing energy (= more real)                                |\n",
       "|------------------------------------------------------------------------------------|-------------------------------------------------------------------------|\n",
       "| agent_holds_arg_types_any_object_constraints: **0.445** = (0.000 => 1.000) * 0.445 | ast_ngram_constraints_n_7_score: **-1.748** = (0.548 => 0.792) * -7.147 |\n",
       "|                                                                                    | ast_ngram_full_n_7_score: **-0.897** = (0.580 => 0.679) * -9.074        |"
      ],
      "text/plain": [
       "<IPython.core.display.Markdown object>"
      ]
     },
     "metadata": {},
     "output_type": "display_data"
    },
    {
     "data": {
      "text/markdown": [
       "### Game Diffs"
      ],
      "text/plain": [
       "<IPython.core.display.Markdown object>"
      ]
     },
     "metadata": {},
     "output_type": "display_data"
    },
    {
     "data": {
      "text/html": [
       "\n",
       "<!DOCTYPE html PUBLIC \"-//W3C//DTD XHTML 1.0 Transitional//EN\"\n",
       "          \"http://www.w3.org/TR/xhtml1/DTD/xhtml1-transitional.dtd\">\n",
       "\n",
       "<html>\n",
       "\n",
       "<head>\n",
       "    <meta http-equiv=\"Content-Type\"\n",
       "          content=\"text/html; charset=utf-8\" />\n",
       "    <title></title>\n",
       "    <style type=\"text/css\">\n",
       "        table.diff {font-family:Courier; border:medium;}\n",
       "        .diff_header {background-color:#e0e0e0}\n",
       "        .diff td {text-align: left !important}\n",
       ".diff th {text-align: center!important }\n",
       ".diff td.diff_header {text-align:right !important}\n",
       "        .diff_next {background-color:#c0c0c0}\n",
       "        .diff_add {background-color: #6fa66f !important; font-weight: bold !important}\n",
       "        .diff_chg {background-color: #999949 !important; font-weight: bold !important}\n",
       "        .diff_sub {background-color: #a66f6f !important; font-weight: bold !important}\n",
       "    </style>\n",
       "</head>\n",
       "\n",
       "<body>\n",
       "    \n",
       "    <table class=\"diff\" id=\"difflib_chg_to22__top\"\n",
       "           cellspacing=\"0\" cellpadding=\"0\" rules=\"groups\" >\n",
       "        <colgroup></colgroup> <colgroup></colgroup> <colgroup></colgroup>\n",
       "        <colgroup></colgroup> <colgroup></colgroup> <colgroup></colgroup>\n",
       "        \n",
       "        <tbody>\n",
       "            <tr><td class=\"diff_next\" id=\"difflib_chg_to22__0\"><a href=\"#difflib_chg_to22__1\">n</a></td><td class=\"diff_header\" id=\"from22_1\">1</td><td nowrap=\"nowrap\">(define&nbsp;(game&nbsp;614e1599db14d8f3a5c1486a-33)&nbsp;(:domain&nbsp;many-objects-room-v1)</td><td class=\"diff_next\"><a href=\"#difflib_chg_to22__1\">n</a></td><td class=\"diff_header\" id=\"to22_1\">1</td><td nowrap=\"nowrap\">(define&nbsp;(game&nbsp;614e1599db14d8f3a5c1486a-33<span class=\"diff_add\">-34-nd-15-rd-3-rs-constraints-sk-prior5</span>)&nbsp;(:domain&nbsp;many-obje</td></tr>\n",
       "            <tr><td class=\"diff_next\"></td><td class=\"diff_header\"></td><td nowrap=\"nowrap\">&nbsp;</td><td class=\"diff_next\"></td><td class=\"diff_header\">></td><td nowrap=\"nowrap\">cts-room-v1)</td></tr>\n",
       "            <tr><td class=\"diff_next\"></td><td class=\"diff_header\" id=\"from22_2\">2</td><td nowrap=\"nowrap\">(:setup</td><td class=\"diff_next\"></td><td class=\"diff_header\" id=\"to22_2\">2</td><td nowrap=\"nowrap\">(:setup</td></tr>\n",
       "            <tr><td class=\"diff_next\"></td><td class=\"diff_header\" id=\"from22_3\">3</td><td nowrap=\"nowrap\">&nbsp;&nbsp;(and</td><td class=\"diff_next\"></td><td class=\"diff_header\" id=\"to22_3\">3</td><td nowrap=\"nowrap\">&nbsp;&nbsp;(and</td></tr>\n",
       "            <tr><td class=\"diff_next\"></td><td class=\"diff_header\" id=\"from22_4\">4</td><td nowrap=\"nowrap\">&nbsp;&nbsp;&nbsp;&nbsp;(forall&nbsp;(?g&nbsp;-&nbsp;game_object)</td><td class=\"diff_next\"></td><td class=\"diff_header\" id=\"to22_4\">4</td><td nowrap=\"nowrap\">&nbsp;&nbsp;&nbsp;&nbsp;(forall&nbsp;(?g&nbsp;-&nbsp;game_object)</td></tr>\n",
       "            <tr><td class=\"diff_next\"></td><td class=\"diff_header\" id=\"from22_5\">5</td><td nowrap=\"nowrap\">&nbsp;&nbsp;&nbsp;&nbsp;&nbsp;&nbsp;(game-optional</td><td class=\"diff_next\"></td><td class=\"diff_header\" id=\"to22_5\">5</td><td nowrap=\"nowrap\">&nbsp;&nbsp;&nbsp;&nbsp;&nbsp;&nbsp;(game-optional</td></tr>\n",
       "            <tr><td class=\"diff_next\"></td><td class=\"diff_header\" id=\"from22_6\">6</td><td nowrap=\"nowrap\">&nbsp;&nbsp;&nbsp;&nbsp;&nbsp;&nbsp;&nbsp;&nbsp;(not</td><td class=\"diff_next\"></td><td class=\"diff_header\" id=\"to22_6\">6</td><td nowrap=\"nowrap\">&nbsp;&nbsp;&nbsp;&nbsp;&nbsp;&nbsp;&nbsp;&nbsp;(not</td></tr>\n",
       "            <tr><td class=\"diff_next\"></td><td class=\"diff_header\" id=\"from22_7\">7</td><td nowrap=\"nowrap\">&nbsp;&nbsp;&nbsp;&nbsp;&nbsp;&nbsp;&nbsp;&nbsp;&nbsp;&nbsp;(in&nbsp;top_drawer&nbsp;?g)</td><td class=\"diff_next\"></td><td class=\"diff_header\" id=\"to22_7\">7</td><td nowrap=\"nowrap\">&nbsp;&nbsp;&nbsp;&nbsp;&nbsp;&nbsp;&nbsp;&nbsp;&nbsp;&nbsp;(in&nbsp;top_drawer&nbsp;?g)</td></tr>\n",
       "            <tr><td class=\"diff_next\"></td><td class=\"diff_header\" id=\"from22_8\">8</td><td nowrap=\"nowrap\">&nbsp;&nbsp;&nbsp;&nbsp;&nbsp;&nbsp;&nbsp;&nbsp;)</td><td class=\"diff_next\"></td><td class=\"diff_header\" id=\"to22_8\">8</td><td nowrap=\"nowrap\">&nbsp;&nbsp;&nbsp;&nbsp;&nbsp;&nbsp;&nbsp;&nbsp;)</td></tr>\n",
       "            <tr><td class=\"diff_next\"></td><td class=\"diff_header\" id=\"from22_9\">9</td><td nowrap=\"nowrap\">&nbsp;&nbsp;&nbsp;&nbsp;&nbsp;&nbsp;)</td><td class=\"diff_next\"></td><td class=\"diff_header\" id=\"to22_9\">9</td><td nowrap=\"nowrap\">&nbsp;&nbsp;&nbsp;&nbsp;&nbsp;&nbsp;)</td></tr>\n",
       "            <tr><td class=\"diff_next\"></td><td class=\"diff_header\" id=\"from22_10\">10</td><td nowrap=\"nowrap\">&nbsp;&nbsp;&nbsp;&nbsp;)</td><td class=\"diff_next\"></td><td class=\"diff_header\" id=\"to22_10\">10</td><td nowrap=\"nowrap\">&nbsp;&nbsp;&nbsp;&nbsp;)</td></tr>\n",
       "            <tr><td class=\"diff_next\"></td><td class=\"diff_header\" id=\"from22_11\">11</td><td nowrap=\"nowrap\">&nbsp;&nbsp;)</td><td class=\"diff_next\"></td><td class=\"diff_header\" id=\"to22_11\">11</td><td nowrap=\"nowrap\">&nbsp;&nbsp;)</td></tr>\n",
       "            <tr><td class=\"diff_next\"></td><td class=\"diff_header\" id=\"from22_12\">12</td><td nowrap=\"nowrap\">)</td><td class=\"diff_next\"></td><td class=\"diff_header\" id=\"to22_12\">12</td><td nowrap=\"nowrap\">)</td></tr>\n",
       "            <tr><td class=\"diff_next\"></td><td class=\"diff_header\" id=\"from22_13\">13</td><td nowrap=\"nowrap\">(:constraints</td><td class=\"diff_next\"></td><td class=\"diff_header\" id=\"to22_13\">13</td><td nowrap=\"nowrap\">(:constraints</td></tr>\n",
       "            <tr><td class=\"diff_next\"></td><td class=\"diff_header\" id=\"from22_14\">14</td><td nowrap=\"nowrap\">&nbsp;&nbsp;(and</td><td class=\"diff_next\"></td><td class=\"diff_header\" id=\"to22_14\">14</td><td nowrap=\"nowrap\">&nbsp;&nbsp;(and</td></tr>\n",
       "            <tr><td class=\"diff_next\"></td><td class=\"diff_header\" id=\"from22_15\">15</td><td nowrap=\"nowrap\">&nbsp;&nbsp;&nbsp;&nbsp;(preference&nbsp;itemInClosedDrawerAtEnd</td><td class=\"diff_next\"></td><td class=\"diff_header\" id=\"to22_15\">15</td><td nowrap=\"nowrap\">&nbsp;&nbsp;&nbsp;&nbsp;(preference&nbsp;itemInClosedDrawerAtEnd</td></tr>\n",
       "            <tr><td class=\"diff_next\" id=\"difflib_chg_to22__1\"></td><td class=\"diff_header\" id=\"from22_16\">16</td><td nowrap=\"nowrap\">&nbsp;&nbsp;&nbsp;&nbsp;&nbsp;&nbsp;(exists&nbsp;(?g&nbsp;-&nbsp;game_object)</td><td class=\"diff_next\"></td><td class=\"diff_header\" id=\"to22_16\">16</td><td nowrap=\"nowrap\">&nbsp;&nbsp;&nbsp;&nbsp;&nbsp;&nbsp;(exists&nbsp;(?g&nbsp;-&nbsp;game_object)</td></tr>\n",
       "            <tr><td class=\"diff_next\"></td><td class=\"diff_header\" id=\"from22_17\">17</td><td nowrap=\"nowrap\">&nbsp;&nbsp;&nbsp;&nbsp;&nbsp;&nbsp;&nbsp;&nbsp;(at-end</td><td class=\"diff_next\"></td><td class=\"diff_header\" id=\"to22_17\">17</td><td nowrap=\"nowrap\">&nbsp;&nbsp;&nbsp;&nbsp;&nbsp;&nbsp;&nbsp;&nbsp;(at-end</td></tr>\n",
       "            <tr><td class=\"diff_next\"></td><td class=\"diff_header\" id=\"from22_18\">18</td><td nowrap=\"nowrap\">&nbsp;&nbsp;&nbsp;&nbsp;&nbsp;&nbsp;&nbsp;&nbsp;&nbsp;&nbsp;(and</td><td class=\"diff_next\"></td><td class=\"diff_header\" id=\"to22_18\">18</td><td nowrap=\"nowrap\">&nbsp;&nbsp;&nbsp;&nbsp;&nbsp;&nbsp;&nbsp;&nbsp;&nbsp;&nbsp;(and</td></tr>\n",
       "            <tr><td class=\"diff_next\"></td><td class=\"diff_header\" id=\"from22_19\">19</td><td nowrap=\"nowrap\">&nbsp;&nbsp;&nbsp;&nbsp;&nbsp;&nbsp;&nbsp;&nbsp;&nbsp;&nbsp;&nbsp;&nbsp;(in&nbsp;top_drawer&nbsp;?g)</td><td class=\"diff_next\"></td><td class=\"diff_header\" id=\"to22_19\">19</td><td nowrap=\"nowrap\">&nbsp;&nbsp;&nbsp;&nbsp;&nbsp;&nbsp;&nbsp;&nbsp;&nbsp;&nbsp;&nbsp;&nbsp;(in&nbsp;top_drawer&nbsp;?g)</td></tr>\n",
       "            <tr><td class=\"diff_next\"></td><td class=\"diff_header\" id=\"from22_20\">20</td><td nowrap=\"nowrap\">&nbsp;&nbsp;&nbsp;&nbsp;&nbsp;&nbsp;&nbsp;&nbsp;&nbsp;&nbsp;&nbsp;&nbsp;(not</td><td class=\"diff_next\"></td><td class=\"diff_header\" id=\"to22_20\">20</td><td nowrap=\"nowrap\">&nbsp;&nbsp;&nbsp;&nbsp;&nbsp;&nbsp;&nbsp;&nbsp;&nbsp;&nbsp;&nbsp;&nbsp;(not</td></tr>\n",
       "            <tr><td class=\"diff_next\"><a href=\"#difflib_chg_to22__top\">t</a></td><td class=\"diff_header\" id=\"from22_21\">21</td><td nowrap=\"nowrap\"><span class=\"diff_sub\">&nbsp;&nbsp;&nbsp;&nbsp;&nbsp;&nbsp;&nbsp;&nbsp;&nbsp;&nbsp;&nbsp;&nbsp;&nbsp;&nbsp;(open&nbsp;top_drawer)</span></td><td class=\"diff_next\"><a href=\"#difflib_chg_to22__top\">t</a></td><td class=\"diff_header\" id=\"to22_21\">21</td><td nowrap=\"nowrap\"><span class=\"diff_add\">&nbsp;&nbsp;&nbsp;&nbsp;&nbsp;&nbsp;&nbsp;&nbsp;&nbsp;&nbsp;&nbsp;&nbsp;&nbsp;&nbsp;(agent_holds&nbsp;?g)</span></td></tr>\n",
       "            <tr><td class=\"diff_next\"></td><td class=\"diff_header\" id=\"from22_22\">22</td><td nowrap=\"nowrap\">&nbsp;&nbsp;&nbsp;&nbsp;&nbsp;&nbsp;&nbsp;&nbsp;&nbsp;&nbsp;&nbsp;&nbsp;)</td><td class=\"diff_next\"></td><td class=\"diff_header\" id=\"to22_22\">22</td><td nowrap=\"nowrap\">&nbsp;&nbsp;&nbsp;&nbsp;&nbsp;&nbsp;&nbsp;&nbsp;&nbsp;&nbsp;&nbsp;&nbsp;)</td></tr>\n",
       "            <tr><td class=\"diff_next\"></td><td class=\"diff_header\" id=\"from22_23\">23</td><td nowrap=\"nowrap\">&nbsp;&nbsp;&nbsp;&nbsp;&nbsp;&nbsp;&nbsp;&nbsp;&nbsp;&nbsp;)</td><td class=\"diff_next\"></td><td class=\"diff_header\" id=\"to22_23\">23</td><td nowrap=\"nowrap\">&nbsp;&nbsp;&nbsp;&nbsp;&nbsp;&nbsp;&nbsp;&nbsp;&nbsp;&nbsp;)</td></tr>\n",
       "            <tr><td class=\"diff_next\"></td><td class=\"diff_header\" id=\"from22_24\">24</td><td nowrap=\"nowrap\">&nbsp;&nbsp;&nbsp;&nbsp;&nbsp;&nbsp;&nbsp;&nbsp;)</td><td class=\"diff_next\"></td><td class=\"diff_header\" id=\"to22_24\">24</td><td nowrap=\"nowrap\">&nbsp;&nbsp;&nbsp;&nbsp;&nbsp;&nbsp;&nbsp;&nbsp;)</td></tr>\n",
       "            <tr><td class=\"diff_next\"></td><td class=\"diff_header\" id=\"from22_25\">25</td><td nowrap=\"nowrap\">&nbsp;&nbsp;&nbsp;&nbsp;&nbsp;&nbsp;)</td><td class=\"diff_next\"></td><td class=\"diff_header\" id=\"to22_25\">25</td><td nowrap=\"nowrap\">&nbsp;&nbsp;&nbsp;&nbsp;&nbsp;&nbsp;)</td></tr>\n",
       "            <tr><td class=\"diff_next\"></td><td class=\"diff_header\" id=\"from22_26\">26</td><td nowrap=\"nowrap\">&nbsp;&nbsp;&nbsp;&nbsp;)</td><td class=\"diff_next\"></td><td class=\"diff_header\" id=\"to22_26\">26</td><td nowrap=\"nowrap\">&nbsp;&nbsp;&nbsp;&nbsp;)</td></tr>\n",
       "            <tr><td class=\"diff_next\"></td><td class=\"diff_header\" id=\"from22_27\">27</td><td nowrap=\"nowrap\">&nbsp;&nbsp;)</td><td class=\"diff_next\"></td><td class=\"diff_header\" id=\"to22_27\">27</td><td nowrap=\"nowrap\">&nbsp;&nbsp;)</td></tr>\n",
       "            <tr><td class=\"diff_next\"></td><td class=\"diff_header\" id=\"from22_28\">28</td><td nowrap=\"nowrap\">)</td><td class=\"diff_next\"></td><td class=\"diff_header\" id=\"to22_28\">28</td><td nowrap=\"nowrap\">)</td></tr>\n",
       "            <tr><td class=\"diff_next\"></td><td class=\"diff_header\" id=\"from22_29\">29</td><td nowrap=\"nowrap\">(:scoring</td><td class=\"diff_next\"></td><td class=\"diff_header\" id=\"to22_29\">29</td><td nowrap=\"nowrap\">(:scoring</td></tr>\n",
       "            <tr><td class=\"diff_next\"></td><td class=\"diff_header\" id=\"from22_30\">30</td><td nowrap=\"nowrap\">&nbsp;&nbsp;(count-once-per-objects&nbsp;itemInClosedDrawerAtEnd)</td><td class=\"diff_next\"></td><td class=\"diff_header\" id=\"to22_30\">30</td><td nowrap=\"nowrap\">&nbsp;&nbsp;(count-once-per-objects&nbsp;itemInClosedDrawerAtEnd)</td></tr>\n",
       "            <tr><td class=\"diff_next\"></td><td class=\"diff_header\" id=\"from22_31\">31</td><td nowrap=\"nowrap\">)</td><td class=\"diff_next\"></td><td class=\"diff_header\" id=\"to22_31\">31</td><td nowrap=\"nowrap\">)</td></tr>\n",
       "            <tr><td class=\"diff_next\"></td><td class=\"diff_header\" id=\"from22_32\">32</td><td nowrap=\"nowrap\">)</td><td class=\"diff_next\"></td><td class=\"diff_header\" id=\"to22_32\">32</td><td nowrap=\"nowrap\">)</td></tr>\n",
       "        </tbody>\n",
       "    </table>\n",
       "    <table class=\"diff\" summary=\"Legends\">\n",
       "        <tr> <th colspan=\"2\"> Legends </th> </tr>\n",
       "        <tr> <td> <table border=\"\" summary=\"Colors\">\n",
       "                      <tr><th> Colors </th> </tr>\n",
       "                      <tr><td class=\"diff_add\">&nbsp;Added&nbsp;</td></tr>\n",
       "                      <tr><td class=\"diff_chg\">Changed</td> </tr>\n",
       "                      <tr><td class=\"diff_sub\">Deleted</td> </tr>\n",
       "                  </table></td>\n",
       "             <td> <table border=\"\" summary=\"Links\">\n",
       "                      <tr><th colspan=\"2\"> Links </th> </tr>\n",
       "                      <tr><td>(f)irst change</td> </tr>\n",
       "                      <tr><td>(n)ext change</td> </tr>\n",
       "                      <tr><td>(t)op</td> </tr>\n",
       "                  </table></td> </tr>\n",
       "    </table>\n",
       "</body>\n",
       "\n",
       "</html>"
      ],
      "text/plain": [
       "<IPython.core.display.HTML object>"
      ]
     },
     "metadata": {},
     "output_type": "display_data"
    },
    {
     "data": {
      "text/markdown": [
       "---"
      ],
      "text/plain": [
       "<IPython.core.display.Markdown object>"
      ]
     },
     "metadata": {},
     "output_type": "display_data"
    },
    {
     "name": "stdout",
     "output_type": "stream",
     "text": [
      "Original game index: 26 | Negative game row: 26 | Negative game col: 220\n"
     ]
    },
    {
     "data": {
      "text/markdown": [
       "### Energy of real game: -26.058 | Energy of regrown game: -28.043 | Difference: -1.986"
      ],
      "text/plain": [
       "<IPython.core.display.Markdown object>"
      ]
     },
     "metadata": {},
     "output_type": "display_data"
    },
    {
     "data": {
      "text/markdown": [
       "### Top features changing the game's energy\n",
       "feature name: **value** = (original feature value => regrown feature value) * weight"
      ],
      "text/plain": [
       "<IPython.core.display.Markdown object>"
      ]
     },
     "metadata": {},
     "output_type": "display_data"
    },
    {
     "data": {
      "text/markdown": [
       "| Features increasing energy (= more fake)                                         | Features decreasing energy (= more real)                                |\n",
       "|----------------------------------------------------------------------------------|-------------------------------------------------------------------------|\n",
       "| in_motion_arg_types_any_object_constraints: **0.192** = (0.000 => 1.000) * 0.192 | ast_ngram_constraints_n_7_score: **-1.674** = (0.548 => 0.782) * -7.147 |\n",
       "|                                                                                  | ast_ngram_full_n_7_score: **-0.504** = (0.580 => 0.635) * -9.074        |"
      ],
      "text/plain": [
       "<IPython.core.display.Markdown object>"
      ]
     },
     "metadata": {},
     "output_type": "display_data"
    },
    {
     "data": {
      "text/markdown": [
       "### Game Diffs"
      ],
      "text/plain": [
       "<IPython.core.display.Markdown object>"
      ]
     },
     "metadata": {},
     "output_type": "display_data"
    },
    {
     "data": {
      "text/html": [
       "\n",
       "<!DOCTYPE html PUBLIC \"-//W3C//DTD XHTML 1.0 Transitional//EN\"\n",
       "          \"http://www.w3.org/TR/xhtml1/DTD/xhtml1-transitional.dtd\">\n",
       "\n",
       "<html>\n",
       "\n",
       "<head>\n",
       "    <meta http-equiv=\"Content-Type\"\n",
       "          content=\"text/html; charset=utf-8\" />\n",
       "    <title></title>\n",
       "    <style type=\"text/css\">\n",
       "        table.diff {font-family:Courier; border:medium;}\n",
       "        .diff_header {background-color:#e0e0e0}\n",
       "        .diff td {text-align: left !important}\n",
       ".diff th {text-align: center!important }\n",
       ".diff td.diff_header {text-align:right !important}\n",
       "        .diff_next {background-color:#c0c0c0}\n",
       "        .diff_add {background-color: #6fa66f !important; font-weight: bold !important}\n",
       "        .diff_chg {background-color: #999949 !important; font-weight: bold !important}\n",
       "        .diff_sub {background-color: #a66f6f !important; font-weight: bold !important}\n",
       "    </style>\n",
       "</head>\n",
       "\n",
       "<body>\n",
       "    \n",
       "    <table class=\"diff\" id=\"difflib_chg_to23__top\"\n",
       "           cellspacing=\"0\" cellpadding=\"0\" rules=\"groups\" >\n",
       "        <colgroup></colgroup> <colgroup></colgroup> <colgroup></colgroup>\n",
       "        <colgroup></colgroup> <colgroup></colgroup> <colgroup></colgroup>\n",
       "        \n",
       "        <tbody>\n",
       "            <tr><td class=\"diff_next\" id=\"difflib_chg_to23__0\"><a href=\"#difflib_chg_to23__1\">n</a></td><td class=\"diff_header\" id=\"from23_1\">1</td><td nowrap=\"nowrap\">(define&nbsp;(game&nbsp;614e1599db14d8f3a5c1486a-33)&nbsp;(:domain&nbsp;many-objects-room-v1)</td><td class=\"diff_next\"><a href=\"#difflib_chg_to23__1\">n</a></td><td class=\"diff_header\" id=\"to23_1\">1</td><td nowrap=\"nowrap\">(define&nbsp;(game&nbsp;614e1599db14d8f3a5c1486a-33<span class=\"diff_add\">-220-nd-12-rd-6-rs-constraints-sk-prior5</span>)&nbsp;(:domain&nbsp;many-obj</td></tr>\n",
       "            <tr><td class=\"diff_next\"></td><td class=\"diff_header\"></td><td nowrap=\"nowrap\">&nbsp;</td><td class=\"diff_next\"></td><td class=\"diff_header\">></td><td nowrap=\"nowrap\">ects-room-v1)</td></tr>\n",
       "            <tr><td class=\"diff_next\"></td><td class=\"diff_header\" id=\"from23_2\">2</td><td nowrap=\"nowrap\">(:setup</td><td class=\"diff_next\"></td><td class=\"diff_header\" id=\"to23_2\">2</td><td nowrap=\"nowrap\">(:setup</td></tr>\n",
       "            <tr><td class=\"diff_next\"></td><td class=\"diff_header\" id=\"from23_3\">3</td><td nowrap=\"nowrap\">&nbsp;&nbsp;(and</td><td class=\"diff_next\"></td><td class=\"diff_header\" id=\"to23_3\">3</td><td nowrap=\"nowrap\">&nbsp;&nbsp;(and</td></tr>\n",
       "            <tr><td class=\"diff_next\"></td><td class=\"diff_header\" id=\"from23_4\">4</td><td nowrap=\"nowrap\">&nbsp;&nbsp;&nbsp;&nbsp;(forall&nbsp;(?g&nbsp;-&nbsp;game_object)</td><td class=\"diff_next\"></td><td class=\"diff_header\" id=\"to23_4\">4</td><td nowrap=\"nowrap\">&nbsp;&nbsp;&nbsp;&nbsp;(forall&nbsp;(?g&nbsp;-&nbsp;game_object)</td></tr>\n",
       "            <tr><td class=\"diff_next\"></td><td class=\"diff_header\" id=\"from23_5\">5</td><td nowrap=\"nowrap\">&nbsp;&nbsp;&nbsp;&nbsp;&nbsp;&nbsp;(game-optional</td><td class=\"diff_next\"></td><td class=\"diff_header\" id=\"to23_5\">5</td><td nowrap=\"nowrap\">&nbsp;&nbsp;&nbsp;&nbsp;&nbsp;&nbsp;(game-optional</td></tr>\n",
       "            <tr><td class=\"diff_next\"></td><td class=\"diff_header\" id=\"from23_6\">6</td><td nowrap=\"nowrap\">&nbsp;&nbsp;&nbsp;&nbsp;&nbsp;&nbsp;&nbsp;&nbsp;(not</td><td class=\"diff_next\"></td><td class=\"diff_header\" id=\"to23_6\">6</td><td nowrap=\"nowrap\">&nbsp;&nbsp;&nbsp;&nbsp;&nbsp;&nbsp;&nbsp;&nbsp;(not</td></tr>\n",
       "            <tr><td class=\"diff_next\"></td><td class=\"diff_header\" id=\"from23_7\">7</td><td nowrap=\"nowrap\">&nbsp;&nbsp;&nbsp;&nbsp;&nbsp;&nbsp;&nbsp;&nbsp;&nbsp;&nbsp;(in&nbsp;top_drawer&nbsp;?g)</td><td class=\"diff_next\"></td><td class=\"diff_header\" id=\"to23_7\">7</td><td nowrap=\"nowrap\">&nbsp;&nbsp;&nbsp;&nbsp;&nbsp;&nbsp;&nbsp;&nbsp;&nbsp;&nbsp;(in&nbsp;top_drawer&nbsp;?g)</td></tr>\n",
       "            <tr><td class=\"diff_next\"></td><td class=\"diff_header\" id=\"from23_8\">8</td><td nowrap=\"nowrap\">&nbsp;&nbsp;&nbsp;&nbsp;&nbsp;&nbsp;&nbsp;&nbsp;)</td><td class=\"diff_next\"></td><td class=\"diff_header\" id=\"to23_8\">8</td><td nowrap=\"nowrap\">&nbsp;&nbsp;&nbsp;&nbsp;&nbsp;&nbsp;&nbsp;&nbsp;)</td></tr>\n",
       "            <tr><td class=\"diff_next\"></td><td class=\"diff_header\" id=\"from23_9\">9</td><td nowrap=\"nowrap\">&nbsp;&nbsp;&nbsp;&nbsp;&nbsp;&nbsp;)</td><td class=\"diff_next\"></td><td class=\"diff_header\" id=\"to23_9\">9</td><td nowrap=\"nowrap\">&nbsp;&nbsp;&nbsp;&nbsp;&nbsp;&nbsp;)</td></tr>\n",
       "            <tr><td class=\"diff_next\"></td><td class=\"diff_header\" id=\"from23_10\">10</td><td nowrap=\"nowrap\">&nbsp;&nbsp;&nbsp;&nbsp;)</td><td class=\"diff_next\"></td><td class=\"diff_header\" id=\"to23_10\">10</td><td nowrap=\"nowrap\">&nbsp;&nbsp;&nbsp;&nbsp;)</td></tr>\n",
       "            <tr><td class=\"diff_next\"></td><td class=\"diff_header\" id=\"from23_11\">11</td><td nowrap=\"nowrap\">&nbsp;&nbsp;)</td><td class=\"diff_next\"></td><td class=\"diff_header\" id=\"to23_11\">11</td><td nowrap=\"nowrap\">&nbsp;&nbsp;)</td></tr>\n",
       "            <tr><td class=\"diff_next\"></td><td class=\"diff_header\" id=\"from23_12\">12</td><td nowrap=\"nowrap\">)</td><td class=\"diff_next\"></td><td class=\"diff_header\" id=\"to23_12\">12</td><td nowrap=\"nowrap\">)</td></tr>\n",
       "            <tr><td class=\"diff_next\"></td><td class=\"diff_header\" id=\"from23_13\">13</td><td nowrap=\"nowrap\">(:constraints</td><td class=\"diff_next\"></td><td class=\"diff_header\" id=\"to23_13\">13</td><td nowrap=\"nowrap\">(:constraints</td></tr>\n",
       "            <tr><td class=\"diff_next\"></td><td class=\"diff_header\" id=\"from23_14\">14</td><td nowrap=\"nowrap\">&nbsp;&nbsp;(and</td><td class=\"diff_next\"></td><td class=\"diff_header\" id=\"to23_14\">14</td><td nowrap=\"nowrap\">&nbsp;&nbsp;(and</td></tr>\n",
       "            <tr><td class=\"diff_next\"></td><td class=\"diff_header\" id=\"from23_15\">15</td><td nowrap=\"nowrap\">&nbsp;&nbsp;&nbsp;&nbsp;(preference&nbsp;itemInClosedDrawerAtEnd</td><td class=\"diff_next\"></td><td class=\"diff_header\" id=\"to23_15\">15</td><td nowrap=\"nowrap\">&nbsp;&nbsp;&nbsp;&nbsp;(preference&nbsp;itemInClosedDrawerAtEnd</td></tr>\n",
       "            <tr><td class=\"diff_next\" id=\"difflib_chg_to23__1\"></td><td class=\"diff_header\" id=\"from23_16\">16</td><td nowrap=\"nowrap\">&nbsp;&nbsp;&nbsp;&nbsp;&nbsp;&nbsp;(exists&nbsp;(?g&nbsp;-&nbsp;game_object)</td><td class=\"diff_next\"></td><td class=\"diff_header\" id=\"to23_16\">16</td><td nowrap=\"nowrap\">&nbsp;&nbsp;&nbsp;&nbsp;&nbsp;&nbsp;(exists&nbsp;(?g&nbsp;-&nbsp;game_object)</td></tr>\n",
       "            <tr><td class=\"diff_next\"></td><td class=\"diff_header\" id=\"from23_17\">17</td><td nowrap=\"nowrap\">&nbsp;&nbsp;&nbsp;&nbsp;&nbsp;&nbsp;&nbsp;&nbsp;(at-end</td><td class=\"diff_next\"></td><td class=\"diff_header\" id=\"to23_17\">17</td><td nowrap=\"nowrap\">&nbsp;&nbsp;&nbsp;&nbsp;&nbsp;&nbsp;&nbsp;&nbsp;(at-end</td></tr>\n",
       "            <tr><td class=\"diff_next\"></td><td class=\"diff_header\" id=\"from23_18\">18</td><td nowrap=\"nowrap\">&nbsp;&nbsp;&nbsp;&nbsp;&nbsp;&nbsp;&nbsp;&nbsp;&nbsp;&nbsp;(and</td><td class=\"diff_next\"></td><td class=\"diff_header\" id=\"to23_18\">18</td><td nowrap=\"nowrap\">&nbsp;&nbsp;&nbsp;&nbsp;&nbsp;&nbsp;&nbsp;&nbsp;&nbsp;&nbsp;(and</td></tr>\n",
       "            <tr><td class=\"diff_next\"></td><td class=\"diff_header\" id=\"from23_19\">19</td><td nowrap=\"nowrap\">&nbsp;&nbsp;&nbsp;&nbsp;&nbsp;&nbsp;&nbsp;&nbsp;&nbsp;&nbsp;&nbsp;&nbsp;(in&nbsp;top_drawer&nbsp;?g)</td><td class=\"diff_next\"></td><td class=\"diff_header\" id=\"to23_19\">19</td><td nowrap=\"nowrap\">&nbsp;&nbsp;&nbsp;&nbsp;&nbsp;&nbsp;&nbsp;&nbsp;&nbsp;&nbsp;&nbsp;&nbsp;(in&nbsp;top_drawer&nbsp;?g)</td></tr>\n",
       "            <tr><td class=\"diff_next\"></td><td class=\"diff_header\" id=\"from23_20\">20</td><td nowrap=\"nowrap\">&nbsp;&nbsp;&nbsp;&nbsp;&nbsp;&nbsp;&nbsp;&nbsp;&nbsp;&nbsp;&nbsp;&nbsp;(not</td><td class=\"diff_next\"></td><td class=\"diff_header\" id=\"to23_20\">20</td><td nowrap=\"nowrap\">&nbsp;&nbsp;&nbsp;&nbsp;&nbsp;&nbsp;&nbsp;&nbsp;&nbsp;&nbsp;&nbsp;&nbsp;(not</td></tr>\n",
       "            <tr><td class=\"diff_next\"><a href=\"#difflib_chg_to23__top\">t</a></td><td class=\"diff_header\" id=\"from23_21\">21</td><td nowrap=\"nowrap\"><span class=\"diff_sub\">&nbsp;&nbsp;&nbsp;&nbsp;&nbsp;&nbsp;&nbsp;&nbsp;&nbsp;&nbsp;&nbsp;&nbsp;&nbsp;&nbsp;(open&nbsp;top_drawer)</span></td><td class=\"diff_next\"><a href=\"#difflib_chg_to23__top\">t</a></td><td class=\"diff_header\" id=\"to23_21\">21</td><td nowrap=\"nowrap\"><span class=\"diff_add\">&nbsp;&nbsp;&nbsp;&nbsp;&nbsp;&nbsp;&nbsp;&nbsp;&nbsp;&nbsp;&nbsp;&nbsp;&nbsp;&nbsp;(in_motion&nbsp;?g)</span></td></tr>\n",
       "            <tr><td class=\"diff_next\"></td><td class=\"diff_header\" id=\"from23_22\">22</td><td nowrap=\"nowrap\">&nbsp;&nbsp;&nbsp;&nbsp;&nbsp;&nbsp;&nbsp;&nbsp;&nbsp;&nbsp;&nbsp;&nbsp;)</td><td class=\"diff_next\"></td><td class=\"diff_header\" id=\"to23_22\">22</td><td nowrap=\"nowrap\">&nbsp;&nbsp;&nbsp;&nbsp;&nbsp;&nbsp;&nbsp;&nbsp;&nbsp;&nbsp;&nbsp;&nbsp;)</td></tr>\n",
       "            <tr><td class=\"diff_next\"></td><td class=\"diff_header\" id=\"from23_23\">23</td><td nowrap=\"nowrap\">&nbsp;&nbsp;&nbsp;&nbsp;&nbsp;&nbsp;&nbsp;&nbsp;&nbsp;&nbsp;)</td><td class=\"diff_next\"></td><td class=\"diff_header\" id=\"to23_23\">23</td><td nowrap=\"nowrap\">&nbsp;&nbsp;&nbsp;&nbsp;&nbsp;&nbsp;&nbsp;&nbsp;&nbsp;&nbsp;)</td></tr>\n",
       "            <tr><td class=\"diff_next\"></td><td class=\"diff_header\" id=\"from23_24\">24</td><td nowrap=\"nowrap\">&nbsp;&nbsp;&nbsp;&nbsp;&nbsp;&nbsp;&nbsp;&nbsp;)</td><td class=\"diff_next\"></td><td class=\"diff_header\" id=\"to23_24\">24</td><td nowrap=\"nowrap\">&nbsp;&nbsp;&nbsp;&nbsp;&nbsp;&nbsp;&nbsp;&nbsp;)</td></tr>\n",
       "            <tr><td class=\"diff_next\"></td><td class=\"diff_header\" id=\"from23_25\">25</td><td nowrap=\"nowrap\">&nbsp;&nbsp;&nbsp;&nbsp;&nbsp;&nbsp;)</td><td class=\"diff_next\"></td><td class=\"diff_header\" id=\"to23_25\">25</td><td nowrap=\"nowrap\">&nbsp;&nbsp;&nbsp;&nbsp;&nbsp;&nbsp;)</td></tr>\n",
       "            <tr><td class=\"diff_next\"></td><td class=\"diff_header\" id=\"from23_26\">26</td><td nowrap=\"nowrap\">&nbsp;&nbsp;&nbsp;&nbsp;)</td><td class=\"diff_next\"></td><td class=\"diff_header\" id=\"to23_26\">26</td><td nowrap=\"nowrap\">&nbsp;&nbsp;&nbsp;&nbsp;)</td></tr>\n",
       "            <tr><td class=\"diff_next\"></td><td class=\"diff_header\" id=\"from23_27\">27</td><td nowrap=\"nowrap\">&nbsp;&nbsp;)</td><td class=\"diff_next\"></td><td class=\"diff_header\" id=\"to23_27\">27</td><td nowrap=\"nowrap\">&nbsp;&nbsp;)</td></tr>\n",
       "            <tr><td class=\"diff_next\"></td><td class=\"diff_header\" id=\"from23_28\">28</td><td nowrap=\"nowrap\">)</td><td class=\"diff_next\"></td><td class=\"diff_header\" id=\"to23_28\">28</td><td nowrap=\"nowrap\">)</td></tr>\n",
       "            <tr><td class=\"diff_next\"></td><td class=\"diff_header\" id=\"from23_29\">29</td><td nowrap=\"nowrap\">(:scoring</td><td class=\"diff_next\"></td><td class=\"diff_header\" id=\"to23_29\">29</td><td nowrap=\"nowrap\">(:scoring</td></tr>\n",
       "            <tr><td class=\"diff_next\"></td><td class=\"diff_header\" id=\"from23_30\">30</td><td nowrap=\"nowrap\">&nbsp;&nbsp;(count-once-per-objects&nbsp;itemInClosedDrawerAtEnd)</td><td class=\"diff_next\"></td><td class=\"diff_header\" id=\"to23_30\">30</td><td nowrap=\"nowrap\">&nbsp;&nbsp;(count-once-per-objects&nbsp;itemInClosedDrawerAtEnd)</td></tr>\n",
       "            <tr><td class=\"diff_next\"></td><td class=\"diff_header\" id=\"from23_31\">31</td><td nowrap=\"nowrap\">)</td><td class=\"diff_next\"></td><td class=\"diff_header\" id=\"to23_31\">31</td><td nowrap=\"nowrap\">)</td></tr>\n",
       "            <tr><td class=\"diff_next\"></td><td class=\"diff_header\" id=\"from23_32\">32</td><td nowrap=\"nowrap\">)</td><td class=\"diff_next\"></td><td class=\"diff_header\" id=\"to23_32\">32</td><td nowrap=\"nowrap\">)</td></tr>\n",
       "        </tbody>\n",
       "    </table>\n",
       "    <table class=\"diff\" summary=\"Legends\">\n",
       "        <tr> <th colspan=\"2\"> Legends </th> </tr>\n",
       "        <tr> <td> <table border=\"\" summary=\"Colors\">\n",
       "                      <tr><th> Colors </th> </tr>\n",
       "                      <tr><td class=\"diff_add\">&nbsp;Added&nbsp;</td></tr>\n",
       "                      <tr><td class=\"diff_chg\">Changed</td> </tr>\n",
       "                      <tr><td class=\"diff_sub\">Deleted</td> </tr>\n",
       "                  </table></td>\n",
       "             <td> <table border=\"\" summary=\"Links\">\n",
       "                      <tr><th colspan=\"2\"> Links </th> </tr>\n",
       "                      <tr><td>(f)irst change</td> </tr>\n",
       "                      <tr><td>(n)ext change</td> </tr>\n",
       "                      <tr><td>(t)op</td> </tr>\n",
       "                  </table></td> </tr>\n",
       "    </table>\n",
       "</body>\n",
       "\n",
       "</html>"
      ],
      "text/plain": [
       "<IPython.core.display.HTML object>"
      ]
     },
     "metadata": {},
     "output_type": "display_data"
    },
    {
     "data": {
      "text/markdown": [
       "---"
      ],
      "text/plain": [
       "<IPython.core.display.Markdown object>"
      ]
     },
     "metadata": {},
     "output_type": "display_data"
    },
    {
     "name": "stdout",
     "output_type": "stream",
     "text": [
      "Original game index: 26 | Negative game row: 26 | Negative game col: 23\n"
     ]
    },
    {
     "data": {
      "text/markdown": [
       "### Energy of real game: -26.058 | Energy of regrown game: -27.948 | Difference: -1.891"
      ],
      "text/plain": [
       "<IPython.core.display.Markdown object>"
      ]
     },
     "metadata": {},
     "output_type": "display_data"
    },
    {
     "data": {
      "text/markdown": [
       "### Top features changing the game's energy\n",
       "feature name: **value** = (original feature value => regrown feature value) * weight"
      ],
      "text/plain": [
       "<IPython.core.display.Markdown object>"
      ]
     },
     "metadata": {},
     "output_type": "display_data"
    },
    {
     "data": {
      "text/markdown": [
       "| Features increasing energy (= more fake)                                         | Features decreasing energy (= more real)                                |\n",
       "|----------------------------------------------------------------------------------|-------------------------------------------------------------------------|\n",
       "| in_motion_arg_types_any_object_constraints: **0.192** = (0.000 => 1.000) * 0.192 | ast_ngram_constraints_n_7_score: **-1.577** = (0.548 => 0.768) * -7.147 |\n",
       "|                                                                                  | ast_ngram_full_n_7_score: **-0.505** = (0.580 => 0.635) * -9.074        |"
      ],
      "text/plain": [
       "<IPython.core.display.Markdown object>"
      ]
     },
     "metadata": {},
     "output_type": "display_data"
    },
    {
     "data": {
      "text/markdown": [
       "### Game Diffs"
      ],
      "text/plain": [
       "<IPython.core.display.Markdown object>"
      ]
     },
     "metadata": {},
     "output_type": "display_data"
    },
    {
     "data": {
      "text/html": [
       "\n",
       "<!DOCTYPE html PUBLIC \"-//W3C//DTD XHTML 1.0 Transitional//EN\"\n",
       "          \"http://www.w3.org/TR/xhtml1/DTD/xhtml1-transitional.dtd\">\n",
       "\n",
       "<html>\n",
       "\n",
       "<head>\n",
       "    <meta http-equiv=\"Content-Type\"\n",
       "          content=\"text/html; charset=utf-8\" />\n",
       "    <title></title>\n",
       "    <style type=\"text/css\">\n",
       "        table.diff {font-family:Courier; border:medium;}\n",
       "        .diff_header {background-color:#e0e0e0}\n",
       "        .diff td {text-align: left !important}\n",
       ".diff th {text-align: center!important }\n",
       ".diff td.diff_header {text-align:right !important}\n",
       "        .diff_next {background-color:#c0c0c0}\n",
       "        .diff_add {background-color: #6fa66f !important; font-weight: bold !important}\n",
       "        .diff_chg {background-color: #999949 !important; font-weight: bold !important}\n",
       "        .diff_sub {background-color: #a66f6f !important; font-weight: bold !important}\n",
       "    </style>\n",
       "</head>\n",
       "\n",
       "<body>\n",
       "    \n",
       "    <table class=\"diff\" id=\"difflib_chg_to24__top\"\n",
       "           cellspacing=\"0\" cellpadding=\"0\" rules=\"groups\" >\n",
       "        <colgroup></colgroup> <colgroup></colgroup> <colgroup></colgroup>\n",
       "        <colgroup></colgroup> <colgroup></colgroup> <colgroup></colgroup>\n",
       "        \n",
       "        <tbody>\n",
       "            <tr><td class=\"diff_next\" id=\"difflib_chg_to24__0\"><a href=\"#difflib_chg_to24__1\">n</a></td><td class=\"diff_header\" id=\"from24_1\">1</td><td nowrap=\"nowrap\">(define&nbsp;(game&nbsp;614e1599db14d8f3a5c1486a-33)&nbsp;(:domain&nbsp;many-objects-room-v1)</td><td class=\"diff_next\"><a href=\"#difflib_chg_to24__1\">n</a></td><td class=\"diff_header\" id=\"to24_1\">1</td><td nowrap=\"nowrap\">(define&nbsp;(game&nbsp;614e1599db14d8f3a5c1486a-33<span class=\"diff_add\">-23-nd-12-rd-6-rs-constraints-sk-prior5</span>)&nbsp;(:domain&nbsp;many-obje</td></tr>\n",
       "            <tr><td class=\"diff_next\"></td><td class=\"diff_header\"></td><td nowrap=\"nowrap\">&nbsp;</td><td class=\"diff_next\"></td><td class=\"diff_header\">></td><td nowrap=\"nowrap\">cts-room-v1)</td></tr>\n",
       "            <tr><td class=\"diff_next\"></td><td class=\"diff_header\" id=\"from24_2\">2</td><td nowrap=\"nowrap\">(:setup</td><td class=\"diff_next\"></td><td class=\"diff_header\" id=\"to24_2\">2</td><td nowrap=\"nowrap\">(:setup</td></tr>\n",
       "            <tr><td class=\"diff_next\"></td><td class=\"diff_header\" id=\"from24_3\">3</td><td nowrap=\"nowrap\">&nbsp;&nbsp;(and</td><td class=\"diff_next\"></td><td class=\"diff_header\" id=\"to24_3\">3</td><td nowrap=\"nowrap\">&nbsp;&nbsp;(and</td></tr>\n",
       "            <tr><td class=\"diff_next\"></td><td class=\"diff_header\" id=\"from24_4\">4</td><td nowrap=\"nowrap\">&nbsp;&nbsp;&nbsp;&nbsp;(forall&nbsp;(?g&nbsp;-&nbsp;game_object)</td><td class=\"diff_next\"></td><td class=\"diff_header\" id=\"to24_4\">4</td><td nowrap=\"nowrap\">&nbsp;&nbsp;&nbsp;&nbsp;(forall&nbsp;(?g&nbsp;-&nbsp;game_object)</td></tr>\n",
       "            <tr><td class=\"diff_next\"></td><td class=\"diff_header\" id=\"from24_5\">5</td><td nowrap=\"nowrap\">&nbsp;&nbsp;&nbsp;&nbsp;&nbsp;&nbsp;(game-optional</td><td class=\"diff_next\"></td><td class=\"diff_header\" id=\"to24_5\">5</td><td nowrap=\"nowrap\">&nbsp;&nbsp;&nbsp;&nbsp;&nbsp;&nbsp;(game-optional</td></tr>\n",
       "            <tr><td class=\"diff_next\"></td><td class=\"diff_header\" id=\"from24_6\">6</td><td nowrap=\"nowrap\">&nbsp;&nbsp;&nbsp;&nbsp;&nbsp;&nbsp;&nbsp;&nbsp;(not</td><td class=\"diff_next\"></td><td class=\"diff_header\" id=\"to24_6\">6</td><td nowrap=\"nowrap\">&nbsp;&nbsp;&nbsp;&nbsp;&nbsp;&nbsp;&nbsp;&nbsp;(not</td></tr>\n",
       "            <tr><td class=\"diff_next\"></td><td class=\"diff_header\" id=\"from24_7\">7</td><td nowrap=\"nowrap\">&nbsp;&nbsp;&nbsp;&nbsp;&nbsp;&nbsp;&nbsp;&nbsp;&nbsp;&nbsp;(in&nbsp;top_drawer&nbsp;?g)</td><td class=\"diff_next\"></td><td class=\"diff_header\" id=\"to24_7\">7</td><td nowrap=\"nowrap\">&nbsp;&nbsp;&nbsp;&nbsp;&nbsp;&nbsp;&nbsp;&nbsp;&nbsp;&nbsp;(in&nbsp;top_drawer&nbsp;?g)</td></tr>\n",
       "            <tr><td class=\"diff_next\"></td><td class=\"diff_header\" id=\"from24_8\">8</td><td nowrap=\"nowrap\">&nbsp;&nbsp;&nbsp;&nbsp;&nbsp;&nbsp;&nbsp;&nbsp;)</td><td class=\"diff_next\"></td><td class=\"diff_header\" id=\"to24_8\">8</td><td nowrap=\"nowrap\">&nbsp;&nbsp;&nbsp;&nbsp;&nbsp;&nbsp;&nbsp;&nbsp;)</td></tr>\n",
       "            <tr><td class=\"diff_next\"></td><td class=\"diff_header\" id=\"from24_9\">9</td><td nowrap=\"nowrap\">&nbsp;&nbsp;&nbsp;&nbsp;&nbsp;&nbsp;)</td><td class=\"diff_next\"></td><td class=\"diff_header\" id=\"to24_9\">9</td><td nowrap=\"nowrap\">&nbsp;&nbsp;&nbsp;&nbsp;&nbsp;&nbsp;)</td></tr>\n",
       "            <tr><td class=\"diff_next\"></td><td class=\"diff_header\" id=\"from24_10\">10</td><td nowrap=\"nowrap\">&nbsp;&nbsp;&nbsp;&nbsp;)</td><td class=\"diff_next\"></td><td class=\"diff_header\" id=\"to24_10\">10</td><td nowrap=\"nowrap\">&nbsp;&nbsp;&nbsp;&nbsp;)</td></tr>\n",
       "            <tr><td class=\"diff_next\"></td><td class=\"diff_header\" id=\"from24_11\">11</td><td nowrap=\"nowrap\">&nbsp;&nbsp;)</td><td class=\"diff_next\"></td><td class=\"diff_header\" id=\"to24_11\">11</td><td nowrap=\"nowrap\">&nbsp;&nbsp;)</td></tr>\n",
       "            <tr><td class=\"diff_next\"></td><td class=\"diff_header\" id=\"from24_12\">12</td><td nowrap=\"nowrap\">)</td><td class=\"diff_next\"></td><td class=\"diff_header\" id=\"to24_12\">12</td><td nowrap=\"nowrap\">)</td></tr>\n",
       "            <tr><td class=\"diff_next\"></td><td class=\"diff_header\" id=\"from24_13\">13</td><td nowrap=\"nowrap\">(:constraints</td><td class=\"diff_next\"></td><td class=\"diff_header\" id=\"to24_13\">13</td><td nowrap=\"nowrap\">(:constraints</td></tr>\n",
       "            <tr><td class=\"diff_next\"></td><td class=\"diff_header\" id=\"from24_14\">14</td><td nowrap=\"nowrap\">&nbsp;&nbsp;(and</td><td class=\"diff_next\"></td><td class=\"diff_header\" id=\"to24_14\">14</td><td nowrap=\"nowrap\">&nbsp;&nbsp;(and</td></tr>\n",
       "            <tr><td class=\"diff_next\" id=\"difflib_chg_to24__1\"></td><td class=\"diff_header\" id=\"from24_15\">15</td><td nowrap=\"nowrap\">&nbsp;&nbsp;&nbsp;&nbsp;(preference&nbsp;itemInClosedDrawerAtEnd</td><td class=\"diff_next\"></td><td class=\"diff_header\" id=\"to24_15\">15</td><td nowrap=\"nowrap\">&nbsp;&nbsp;&nbsp;&nbsp;(preference&nbsp;itemInClosedDrawerAtEnd</td></tr>\n",
       "            <tr><td class=\"diff_next\"></td><td class=\"diff_header\" id=\"from24_16\">16</td><td nowrap=\"nowrap\">&nbsp;&nbsp;&nbsp;&nbsp;&nbsp;&nbsp;(exists&nbsp;(?g&nbsp;-&nbsp;game_object)</td><td class=\"diff_next\"></td><td class=\"diff_header\" id=\"to24_16\">16</td><td nowrap=\"nowrap\">&nbsp;&nbsp;&nbsp;&nbsp;&nbsp;&nbsp;(exists&nbsp;(?g&nbsp;-&nbsp;game_object)</td></tr>\n",
       "            <tr><td class=\"diff_next\"></td><td class=\"diff_header\" id=\"from24_17\">17</td><td nowrap=\"nowrap\">&nbsp;&nbsp;&nbsp;&nbsp;&nbsp;&nbsp;&nbsp;&nbsp;(at-end</td><td class=\"diff_next\"></td><td class=\"diff_header\" id=\"to24_17\">17</td><td nowrap=\"nowrap\">&nbsp;&nbsp;&nbsp;&nbsp;&nbsp;&nbsp;&nbsp;&nbsp;(at-end</td></tr>\n",
       "            <tr><td class=\"diff_next\"></td><td class=\"diff_header\" id=\"from24_18\">18</td><td nowrap=\"nowrap\">&nbsp;&nbsp;&nbsp;&nbsp;&nbsp;&nbsp;&nbsp;&nbsp;&nbsp;&nbsp;(and</td><td class=\"diff_next\"></td><td class=\"diff_header\" id=\"to24_18\">18</td><td nowrap=\"nowrap\">&nbsp;&nbsp;&nbsp;&nbsp;&nbsp;&nbsp;&nbsp;&nbsp;&nbsp;&nbsp;(and</td></tr>\n",
       "            <tr><td class=\"diff_next\"></td><td class=\"diff_header\" id=\"from24_19\">19</td><td nowrap=\"nowrap\">&nbsp;&nbsp;&nbsp;&nbsp;&nbsp;&nbsp;&nbsp;&nbsp;&nbsp;&nbsp;&nbsp;&nbsp;(in&nbsp;top_drawer&nbsp;?g)</td><td class=\"diff_next\"></td><td class=\"diff_header\" id=\"to24_19\">19</td><td nowrap=\"nowrap\">&nbsp;&nbsp;&nbsp;&nbsp;&nbsp;&nbsp;&nbsp;&nbsp;&nbsp;&nbsp;&nbsp;&nbsp;(in&nbsp;top_drawer&nbsp;?g)</td></tr>\n",
       "            <tr><td class=\"diff_next\"><a href=\"#difflib_chg_to24__top\">t</a></td><td class=\"diff_header\" id=\"from24_20\">20</td><td nowrap=\"nowrap\">&nbsp;&nbsp;&nbsp;&nbsp;&nbsp;&nbsp;&nbsp;&nbsp;&nbsp;&nbsp;&nbsp;&nbsp;(not</td><td class=\"diff_next\"><a href=\"#difflib_chg_to24__top\">t</a></td><td class=\"diff_header\" id=\"to24_20\">20</td><td nowrap=\"nowrap\">&nbsp;&nbsp;&nbsp;&nbsp;&nbsp;&nbsp;&nbsp;&nbsp;&nbsp;&nbsp;&nbsp;&nbsp;(<span class=\"diff_add\">i</span>n<span class=\"diff_add\">_m</span>ot<span class=\"diff_add\">ion&nbsp;?g)</span></td></tr>\n",
       "            <tr><td class=\"diff_next\"></td><td class=\"diff_header\" id=\"from24_21\">21</td><td nowrap=\"nowrap\"><span class=\"diff_sub\">&nbsp;&nbsp;&nbsp;&nbsp;&nbsp;&nbsp;&nbsp;&nbsp;&nbsp;&nbsp;&nbsp;&nbsp;&nbsp;&nbsp;(open&nbsp;top_drawer)</span></td><td class=\"diff_next\"></td><td class=\"diff_header\"></td><td nowrap=\"nowrap\"></td></tr>\n",
       "            <tr><td class=\"diff_next\"></td><td class=\"diff_header\" id=\"from24_22\">22</td><td nowrap=\"nowrap\"><span class=\"diff_sub\">&nbsp;&nbsp;&nbsp;&nbsp;&nbsp;&nbsp;&nbsp;&nbsp;&nbsp;&nbsp;&nbsp;&nbsp;)</span></td><td class=\"diff_next\"></td><td class=\"diff_header\"></td><td nowrap=\"nowrap\"></td></tr>\n",
       "            <tr><td class=\"diff_next\"></td><td class=\"diff_header\" id=\"from24_23\">23</td><td nowrap=\"nowrap\">&nbsp;&nbsp;&nbsp;&nbsp;&nbsp;&nbsp;&nbsp;&nbsp;&nbsp;&nbsp;)</td><td class=\"diff_next\"></td><td class=\"diff_header\" id=\"to24_21\">21</td><td nowrap=\"nowrap\">&nbsp;&nbsp;&nbsp;&nbsp;&nbsp;&nbsp;&nbsp;&nbsp;&nbsp;&nbsp;)</td></tr>\n",
       "            <tr><td class=\"diff_next\"></td><td class=\"diff_header\" id=\"from24_24\">24</td><td nowrap=\"nowrap\">&nbsp;&nbsp;&nbsp;&nbsp;&nbsp;&nbsp;&nbsp;&nbsp;)</td><td class=\"diff_next\"></td><td class=\"diff_header\" id=\"to24_22\">22</td><td nowrap=\"nowrap\">&nbsp;&nbsp;&nbsp;&nbsp;&nbsp;&nbsp;&nbsp;&nbsp;)</td></tr>\n",
       "            <tr><td class=\"diff_next\"></td><td class=\"diff_header\" id=\"from24_25\">25</td><td nowrap=\"nowrap\">&nbsp;&nbsp;&nbsp;&nbsp;&nbsp;&nbsp;)</td><td class=\"diff_next\"></td><td class=\"diff_header\" id=\"to24_23\">23</td><td nowrap=\"nowrap\">&nbsp;&nbsp;&nbsp;&nbsp;&nbsp;&nbsp;)</td></tr>\n",
       "            <tr><td class=\"diff_next\"></td><td class=\"diff_header\" id=\"from24_26\">26</td><td nowrap=\"nowrap\">&nbsp;&nbsp;&nbsp;&nbsp;)</td><td class=\"diff_next\"></td><td class=\"diff_header\" id=\"to24_24\">24</td><td nowrap=\"nowrap\">&nbsp;&nbsp;&nbsp;&nbsp;)</td></tr>\n",
       "            <tr><td class=\"diff_next\"></td><td class=\"diff_header\" id=\"from24_27\">27</td><td nowrap=\"nowrap\">&nbsp;&nbsp;)</td><td class=\"diff_next\"></td><td class=\"diff_header\" id=\"to24_25\">25</td><td nowrap=\"nowrap\">&nbsp;&nbsp;)</td></tr>\n",
       "            <tr><td class=\"diff_next\"></td><td class=\"diff_header\" id=\"from24_28\">28</td><td nowrap=\"nowrap\">)</td><td class=\"diff_next\"></td><td class=\"diff_header\" id=\"to24_26\">26</td><td nowrap=\"nowrap\">)</td></tr>\n",
       "            <tr><td class=\"diff_next\"></td><td class=\"diff_header\" id=\"from24_29\">29</td><td nowrap=\"nowrap\">(:scoring</td><td class=\"diff_next\"></td><td class=\"diff_header\" id=\"to24_27\">27</td><td nowrap=\"nowrap\">(:scoring</td></tr>\n",
       "            <tr><td class=\"diff_next\"></td><td class=\"diff_header\" id=\"from24_30\">30</td><td nowrap=\"nowrap\">&nbsp;&nbsp;(count-once-per-objects&nbsp;itemInClosedDrawerAtEnd)</td><td class=\"diff_next\"></td><td class=\"diff_header\" id=\"to24_28\">28</td><td nowrap=\"nowrap\">&nbsp;&nbsp;(count-once-per-objects&nbsp;itemInClosedDrawerAtEnd)</td></tr>\n",
       "            <tr><td class=\"diff_next\"></td><td class=\"diff_header\" id=\"from24_31\">31</td><td nowrap=\"nowrap\">)</td><td class=\"diff_next\"></td><td class=\"diff_header\" id=\"to24_29\">29</td><td nowrap=\"nowrap\">)</td></tr>\n",
       "            <tr><td class=\"diff_next\"></td><td class=\"diff_header\" id=\"from24_32\">32</td><td nowrap=\"nowrap\">)</td><td class=\"diff_next\"></td><td class=\"diff_header\" id=\"to24_30\">30</td><td nowrap=\"nowrap\">)</td></tr>\n",
       "        </tbody>\n",
       "    </table>\n",
       "    <table class=\"diff\" summary=\"Legends\">\n",
       "        <tr> <th colspan=\"2\"> Legends </th> </tr>\n",
       "        <tr> <td> <table border=\"\" summary=\"Colors\">\n",
       "                      <tr><th> Colors </th> </tr>\n",
       "                      <tr><td class=\"diff_add\">&nbsp;Added&nbsp;</td></tr>\n",
       "                      <tr><td class=\"diff_chg\">Changed</td> </tr>\n",
       "                      <tr><td class=\"diff_sub\">Deleted</td> </tr>\n",
       "                  </table></td>\n",
       "             <td> <table border=\"\" summary=\"Links\">\n",
       "                      <tr><th colspan=\"2\"> Links </th> </tr>\n",
       "                      <tr><td>(f)irst change</td> </tr>\n",
       "                      <tr><td>(n)ext change</td> </tr>\n",
       "                      <tr><td>(t)op</td> </tr>\n",
       "                  </table></td> </tr>\n",
       "    </table>\n",
       "</body>\n",
       "\n",
       "</html>"
      ],
      "text/plain": [
       "<IPython.core.display.HTML object>"
      ]
     },
     "metadata": {},
     "output_type": "display_data"
    },
    {
     "data": {
      "text/markdown": [
       "---"
      ],
      "text/plain": [
       "<IPython.core.display.Markdown object>"
      ]
     },
     "metadata": {},
     "output_type": "display_data"
    },
    {
     "name": "stdout",
     "output_type": "stream",
     "text": [
      "Original game index: 26 | Negative game row: 26 | Negative game col: 701\n"
     ]
    },
    {
     "data": {
      "text/markdown": [
       "### Energy of real game: -26.058 | Energy of regrown game: -27.715 | Difference: -1.657"
      ],
      "text/plain": [
       "<IPython.core.display.Markdown object>"
      ]
     },
     "metadata": {},
     "output_type": "display_data"
    },
    {
     "data": {
      "text/markdown": [
       "### Top features changing the game's energy\n",
       "feature name: **value** = (original feature value => regrown feature value) * weight"
      ],
      "text/plain": [
       "<IPython.core.display.Markdown object>"
      ]
     },
     "metadata": {},
     "output_type": "display_data"
    },
    {
     "data": {
      "text/markdown": [
       "| Features increasing energy (= more fake)   | Features decreasing energy (= more real)                                |\n",
       "|--------------------------------------------|-------------------------------------------------------------------------|\n",
       "|                                            | ast_ngram_constraints_n_7_score: **-1.417** = (0.548 => 0.746) * -7.147 |\n",
       "|                                            | ast_ngram_full_n_7_score: **-0.240** = (0.580 => 0.606) * -9.074        |"
      ],
      "text/plain": [
       "<IPython.core.display.Markdown object>"
      ]
     },
     "metadata": {},
     "output_type": "display_data"
    },
    {
     "data": {
      "text/markdown": [
       "### Game Diffs"
      ],
      "text/plain": [
       "<IPython.core.display.Markdown object>"
      ]
     },
     "metadata": {},
     "output_type": "display_data"
    },
    {
     "data": {
      "text/html": [
       "\n",
       "<!DOCTYPE html PUBLIC \"-//W3C//DTD XHTML 1.0 Transitional//EN\"\n",
       "          \"http://www.w3.org/TR/xhtml1/DTD/xhtml1-transitional.dtd\">\n",
       "\n",
       "<html>\n",
       "\n",
       "<head>\n",
       "    <meta http-equiv=\"Content-Type\"\n",
       "          content=\"text/html; charset=utf-8\" />\n",
       "    <title></title>\n",
       "    <style type=\"text/css\">\n",
       "        table.diff {font-family:Courier; border:medium;}\n",
       "        .diff_header {background-color:#e0e0e0}\n",
       "        .diff td {text-align: left !important}\n",
       ".diff th {text-align: center!important }\n",
       ".diff td.diff_header {text-align:right !important}\n",
       "        .diff_next {background-color:#c0c0c0}\n",
       "        .diff_add {background-color: #6fa66f !important; font-weight: bold !important}\n",
       "        .diff_chg {background-color: #999949 !important; font-weight: bold !important}\n",
       "        .diff_sub {background-color: #a66f6f !important; font-weight: bold !important}\n",
       "    </style>\n",
       "</head>\n",
       "\n",
       "<body>\n",
       "    \n",
       "    <table class=\"diff\" id=\"difflib_chg_to25__top\"\n",
       "           cellspacing=\"0\" cellpadding=\"0\" rules=\"groups\" >\n",
       "        <colgroup></colgroup> <colgroup></colgroup> <colgroup></colgroup>\n",
       "        <colgroup></colgroup> <colgroup></colgroup> <colgroup></colgroup>\n",
       "        \n",
       "        <tbody>\n",
       "            <tr><td class=\"diff_next\" id=\"difflib_chg_to25__0\"><a href=\"#difflib_chg_to25__1\">n</a></td><td class=\"diff_header\" id=\"from25_1\">1</td><td nowrap=\"nowrap\">(define&nbsp;(game&nbsp;614e1599db14d8f3a5c1486a-33)&nbsp;(:domain&nbsp;many-objects-room-v1)</td><td class=\"diff_next\"><a href=\"#difflib_chg_to25__1\">n</a></td><td class=\"diff_header\" id=\"to25_1\">1</td><td nowrap=\"nowrap\">(define&nbsp;(game&nbsp;614e1599db14d8f3a5c1486a-33<span class=\"diff_add\">-701-nd-15-rd-3-rs-constraints-sk-prior5</span>)&nbsp;(:domain&nbsp;many-obj</td></tr>\n",
       "            <tr><td class=\"diff_next\"></td><td class=\"diff_header\"></td><td nowrap=\"nowrap\">&nbsp;</td><td class=\"diff_next\"></td><td class=\"diff_header\">></td><td nowrap=\"nowrap\">ects-room-v1)</td></tr>\n",
       "            <tr><td class=\"diff_next\"></td><td class=\"diff_header\" id=\"from25_2\">2</td><td nowrap=\"nowrap\">(:setup</td><td class=\"diff_next\"></td><td class=\"diff_header\" id=\"to25_2\">2</td><td nowrap=\"nowrap\">(:setup</td></tr>\n",
       "            <tr><td class=\"diff_next\"></td><td class=\"diff_header\" id=\"from25_3\">3</td><td nowrap=\"nowrap\">&nbsp;&nbsp;(and</td><td class=\"diff_next\"></td><td class=\"diff_header\" id=\"to25_3\">3</td><td nowrap=\"nowrap\">&nbsp;&nbsp;(and</td></tr>\n",
       "            <tr><td class=\"diff_next\"></td><td class=\"diff_header\" id=\"from25_4\">4</td><td nowrap=\"nowrap\">&nbsp;&nbsp;&nbsp;&nbsp;(forall&nbsp;(?g&nbsp;-&nbsp;game_object)</td><td class=\"diff_next\"></td><td class=\"diff_header\" id=\"to25_4\">4</td><td nowrap=\"nowrap\">&nbsp;&nbsp;&nbsp;&nbsp;(forall&nbsp;(?g&nbsp;-&nbsp;game_object)</td></tr>\n",
       "            <tr><td class=\"diff_next\"></td><td class=\"diff_header\" id=\"from25_5\">5</td><td nowrap=\"nowrap\">&nbsp;&nbsp;&nbsp;&nbsp;&nbsp;&nbsp;(game-optional</td><td class=\"diff_next\"></td><td class=\"diff_header\" id=\"to25_5\">5</td><td nowrap=\"nowrap\">&nbsp;&nbsp;&nbsp;&nbsp;&nbsp;&nbsp;(game-optional</td></tr>\n",
       "            <tr><td class=\"diff_next\"></td><td class=\"diff_header\" id=\"from25_6\">6</td><td nowrap=\"nowrap\">&nbsp;&nbsp;&nbsp;&nbsp;&nbsp;&nbsp;&nbsp;&nbsp;(not</td><td class=\"diff_next\"></td><td class=\"diff_header\" id=\"to25_6\">6</td><td nowrap=\"nowrap\">&nbsp;&nbsp;&nbsp;&nbsp;&nbsp;&nbsp;&nbsp;&nbsp;(not</td></tr>\n",
       "            <tr><td class=\"diff_next\"></td><td class=\"diff_header\" id=\"from25_7\">7</td><td nowrap=\"nowrap\">&nbsp;&nbsp;&nbsp;&nbsp;&nbsp;&nbsp;&nbsp;&nbsp;&nbsp;&nbsp;(in&nbsp;top_drawer&nbsp;?g)</td><td class=\"diff_next\"></td><td class=\"diff_header\" id=\"to25_7\">7</td><td nowrap=\"nowrap\">&nbsp;&nbsp;&nbsp;&nbsp;&nbsp;&nbsp;&nbsp;&nbsp;&nbsp;&nbsp;(in&nbsp;top_drawer&nbsp;?g)</td></tr>\n",
       "            <tr><td class=\"diff_next\"></td><td class=\"diff_header\" id=\"from25_8\">8</td><td nowrap=\"nowrap\">&nbsp;&nbsp;&nbsp;&nbsp;&nbsp;&nbsp;&nbsp;&nbsp;)</td><td class=\"diff_next\"></td><td class=\"diff_header\" id=\"to25_8\">8</td><td nowrap=\"nowrap\">&nbsp;&nbsp;&nbsp;&nbsp;&nbsp;&nbsp;&nbsp;&nbsp;)</td></tr>\n",
       "            <tr><td class=\"diff_next\"></td><td class=\"diff_header\" id=\"from25_9\">9</td><td nowrap=\"nowrap\">&nbsp;&nbsp;&nbsp;&nbsp;&nbsp;&nbsp;)</td><td class=\"diff_next\"></td><td class=\"diff_header\" id=\"to25_9\">9</td><td nowrap=\"nowrap\">&nbsp;&nbsp;&nbsp;&nbsp;&nbsp;&nbsp;)</td></tr>\n",
       "            <tr><td class=\"diff_next\"></td><td class=\"diff_header\" id=\"from25_10\">10</td><td nowrap=\"nowrap\">&nbsp;&nbsp;&nbsp;&nbsp;)</td><td class=\"diff_next\"></td><td class=\"diff_header\" id=\"to25_10\">10</td><td nowrap=\"nowrap\">&nbsp;&nbsp;&nbsp;&nbsp;)</td></tr>\n",
       "            <tr><td class=\"diff_next\"></td><td class=\"diff_header\" id=\"from25_11\">11</td><td nowrap=\"nowrap\">&nbsp;&nbsp;)</td><td class=\"diff_next\"></td><td class=\"diff_header\" id=\"to25_11\">11</td><td nowrap=\"nowrap\">&nbsp;&nbsp;)</td></tr>\n",
       "            <tr><td class=\"diff_next\"></td><td class=\"diff_header\" id=\"from25_12\">12</td><td nowrap=\"nowrap\">)</td><td class=\"diff_next\"></td><td class=\"diff_header\" id=\"to25_12\">12</td><td nowrap=\"nowrap\">)</td></tr>\n",
       "            <tr><td class=\"diff_next\"></td><td class=\"diff_header\" id=\"from25_13\">13</td><td nowrap=\"nowrap\">(:constraints</td><td class=\"diff_next\"></td><td class=\"diff_header\" id=\"to25_13\">13</td><td nowrap=\"nowrap\">(:constraints</td></tr>\n",
       "            <tr><td class=\"diff_next\"></td><td class=\"diff_header\" id=\"from25_14\">14</td><td nowrap=\"nowrap\">&nbsp;&nbsp;(and</td><td class=\"diff_next\"></td><td class=\"diff_header\" id=\"to25_14\">14</td><td nowrap=\"nowrap\">&nbsp;&nbsp;(and</td></tr>\n",
       "            <tr><td class=\"diff_next\"></td><td class=\"diff_header\" id=\"from25_15\">15</td><td nowrap=\"nowrap\">&nbsp;&nbsp;&nbsp;&nbsp;(preference&nbsp;itemInClosedDrawerAtEnd</td><td class=\"diff_next\"></td><td class=\"diff_header\" id=\"to25_15\">15</td><td nowrap=\"nowrap\">&nbsp;&nbsp;&nbsp;&nbsp;(preference&nbsp;itemInClosedDrawerAtEnd</td></tr>\n",
       "            <tr><td class=\"diff_next\" id=\"difflib_chg_to25__1\"></td><td class=\"diff_header\" id=\"from25_16\">16</td><td nowrap=\"nowrap\">&nbsp;&nbsp;&nbsp;&nbsp;&nbsp;&nbsp;(exists&nbsp;(?g&nbsp;-&nbsp;game_object)</td><td class=\"diff_next\"></td><td class=\"diff_header\" id=\"to25_16\">16</td><td nowrap=\"nowrap\">&nbsp;&nbsp;&nbsp;&nbsp;&nbsp;&nbsp;(exists&nbsp;(?g&nbsp;-&nbsp;game_object)</td></tr>\n",
       "            <tr><td class=\"diff_next\"></td><td class=\"diff_header\" id=\"from25_17\">17</td><td nowrap=\"nowrap\">&nbsp;&nbsp;&nbsp;&nbsp;&nbsp;&nbsp;&nbsp;&nbsp;(at-end</td><td class=\"diff_next\"></td><td class=\"diff_header\" id=\"to25_17\">17</td><td nowrap=\"nowrap\">&nbsp;&nbsp;&nbsp;&nbsp;&nbsp;&nbsp;&nbsp;&nbsp;(at-end</td></tr>\n",
       "            <tr><td class=\"diff_next\"></td><td class=\"diff_header\" id=\"from25_18\">18</td><td nowrap=\"nowrap\">&nbsp;&nbsp;&nbsp;&nbsp;&nbsp;&nbsp;&nbsp;&nbsp;&nbsp;&nbsp;(and</td><td class=\"diff_next\"></td><td class=\"diff_header\" id=\"to25_18\">18</td><td nowrap=\"nowrap\">&nbsp;&nbsp;&nbsp;&nbsp;&nbsp;&nbsp;&nbsp;&nbsp;&nbsp;&nbsp;(and</td></tr>\n",
       "            <tr><td class=\"diff_next\"></td><td class=\"diff_header\" id=\"from25_19\">19</td><td nowrap=\"nowrap\">&nbsp;&nbsp;&nbsp;&nbsp;&nbsp;&nbsp;&nbsp;&nbsp;&nbsp;&nbsp;&nbsp;&nbsp;(in&nbsp;top_drawer&nbsp;?g)</td><td class=\"diff_next\"></td><td class=\"diff_header\" id=\"to25_19\">19</td><td nowrap=\"nowrap\">&nbsp;&nbsp;&nbsp;&nbsp;&nbsp;&nbsp;&nbsp;&nbsp;&nbsp;&nbsp;&nbsp;&nbsp;(in&nbsp;top_drawer&nbsp;?g)</td></tr>\n",
       "            <tr><td class=\"diff_next\"></td><td class=\"diff_header\" id=\"from25_20\">20</td><td nowrap=\"nowrap\">&nbsp;&nbsp;&nbsp;&nbsp;&nbsp;&nbsp;&nbsp;&nbsp;&nbsp;&nbsp;&nbsp;&nbsp;(not</td><td class=\"diff_next\"></td><td class=\"diff_header\" id=\"to25_20\">20</td><td nowrap=\"nowrap\">&nbsp;&nbsp;&nbsp;&nbsp;&nbsp;&nbsp;&nbsp;&nbsp;&nbsp;&nbsp;&nbsp;&nbsp;(not</td></tr>\n",
       "            <tr><td class=\"diff_next\"><a href=\"#difflib_chg_to25__top\">t</a></td><td class=\"diff_header\" id=\"from25_21\">21</td><td nowrap=\"nowrap\"><span class=\"diff_sub\">&nbsp;&nbsp;&nbsp;&nbsp;&nbsp;&nbsp;&nbsp;&nbsp;&nbsp;&nbsp;&nbsp;&nbsp;&nbsp;&nbsp;(open&nbsp;top_drawer)</span></td><td class=\"diff_next\"><a href=\"#difflib_chg_to25__top\">t</a></td><td class=\"diff_header\" id=\"to25_21\">21</td><td nowrap=\"nowrap\"><span class=\"diff_add\">&nbsp;&nbsp;&nbsp;&nbsp;&nbsp;&nbsp;&nbsp;&nbsp;&nbsp;&nbsp;&nbsp;&nbsp;&nbsp;&nbsp;(same_type&nbsp;?g&nbsp;block)</span></td></tr>\n",
       "            <tr><td class=\"diff_next\"></td><td class=\"diff_header\" id=\"from25_22\">22</td><td nowrap=\"nowrap\">&nbsp;&nbsp;&nbsp;&nbsp;&nbsp;&nbsp;&nbsp;&nbsp;&nbsp;&nbsp;&nbsp;&nbsp;)</td><td class=\"diff_next\"></td><td class=\"diff_header\" id=\"to25_22\">22</td><td nowrap=\"nowrap\">&nbsp;&nbsp;&nbsp;&nbsp;&nbsp;&nbsp;&nbsp;&nbsp;&nbsp;&nbsp;&nbsp;&nbsp;)</td></tr>\n",
       "            <tr><td class=\"diff_next\"></td><td class=\"diff_header\" id=\"from25_23\">23</td><td nowrap=\"nowrap\">&nbsp;&nbsp;&nbsp;&nbsp;&nbsp;&nbsp;&nbsp;&nbsp;&nbsp;&nbsp;)</td><td class=\"diff_next\"></td><td class=\"diff_header\" id=\"to25_23\">23</td><td nowrap=\"nowrap\">&nbsp;&nbsp;&nbsp;&nbsp;&nbsp;&nbsp;&nbsp;&nbsp;&nbsp;&nbsp;)</td></tr>\n",
       "            <tr><td class=\"diff_next\"></td><td class=\"diff_header\" id=\"from25_24\">24</td><td nowrap=\"nowrap\">&nbsp;&nbsp;&nbsp;&nbsp;&nbsp;&nbsp;&nbsp;&nbsp;)</td><td class=\"diff_next\"></td><td class=\"diff_header\" id=\"to25_24\">24</td><td nowrap=\"nowrap\">&nbsp;&nbsp;&nbsp;&nbsp;&nbsp;&nbsp;&nbsp;&nbsp;)</td></tr>\n",
       "            <tr><td class=\"diff_next\"></td><td class=\"diff_header\" id=\"from25_25\">25</td><td nowrap=\"nowrap\">&nbsp;&nbsp;&nbsp;&nbsp;&nbsp;&nbsp;)</td><td class=\"diff_next\"></td><td class=\"diff_header\" id=\"to25_25\">25</td><td nowrap=\"nowrap\">&nbsp;&nbsp;&nbsp;&nbsp;&nbsp;&nbsp;)</td></tr>\n",
       "            <tr><td class=\"diff_next\"></td><td class=\"diff_header\" id=\"from25_26\">26</td><td nowrap=\"nowrap\">&nbsp;&nbsp;&nbsp;&nbsp;)</td><td class=\"diff_next\"></td><td class=\"diff_header\" id=\"to25_26\">26</td><td nowrap=\"nowrap\">&nbsp;&nbsp;&nbsp;&nbsp;)</td></tr>\n",
       "            <tr><td class=\"diff_next\"></td><td class=\"diff_header\" id=\"from25_27\">27</td><td nowrap=\"nowrap\">&nbsp;&nbsp;)</td><td class=\"diff_next\"></td><td class=\"diff_header\" id=\"to25_27\">27</td><td nowrap=\"nowrap\">&nbsp;&nbsp;)</td></tr>\n",
       "            <tr><td class=\"diff_next\"></td><td class=\"diff_header\" id=\"from25_28\">28</td><td nowrap=\"nowrap\">)</td><td class=\"diff_next\"></td><td class=\"diff_header\" id=\"to25_28\">28</td><td nowrap=\"nowrap\">)</td></tr>\n",
       "            <tr><td class=\"diff_next\"></td><td class=\"diff_header\" id=\"from25_29\">29</td><td nowrap=\"nowrap\">(:scoring</td><td class=\"diff_next\"></td><td class=\"diff_header\" id=\"to25_29\">29</td><td nowrap=\"nowrap\">(:scoring</td></tr>\n",
       "            <tr><td class=\"diff_next\"></td><td class=\"diff_header\" id=\"from25_30\">30</td><td nowrap=\"nowrap\">&nbsp;&nbsp;(count-once-per-objects&nbsp;itemInClosedDrawerAtEnd)</td><td class=\"diff_next\"></td><td class=\"diff_header\" id=\"to25_30\">30</td><td nowrap=\"nowrap\">&nbsp;&nbsp;(count-once-per-objects&nbsp;itemInClosedDrawerAtEnd)</td></tr>\n",
       "            <tr><td class=\"diff_next\"></td><td class=\"diff_header\" id=\"from25_31\">31</td><td nowrap=\"nowrap\">)</td><td class=\"diff_next\"></td><td class=\"diff_header\" id=\"to25_31\">31</td><td nowrap=\"nowrap\">)</td></tr>\n",
       "            <tr><td class=\"diff_next\"></td><td class=\"diff_header\" id=\"from25_32\">32</td><td nowrap=\"nowrap\">)</td><td class=\"diff_next\"></td><td class=\"diff_header\" id=\"to25_32\">32</td><td nowrap=\"nowrap\">)</td></tr>\n",
       "        </tbody>\n",
       "    </table>\n",
       "    <table class=\"diff\" summary=\"Legends\">\n",
       "        <tr> <th colspan=\"2\"> Legends </th> </tr>\n",
       "        <tr> <td> <table border=\"\" summary=\"Colors\">\n",
       "                      <tr><th> Colors </th> </tr>\n",
       "                      <tr><td class=\"diff_add\">&nbsp;Added&nbsp;</td></tr>\n",
       "                      <tr><td class=\"diff_chg\">Changed</td> </tr>\n",
       "                      <tr><td class=\"diff_sub\">Deleted</td> </tr>\n",
       "                  </table></td>\n",
       "             <td> <table border=\"\" summary=\"Links\">\n",
       "                      <tr><th colspan=\"2\"> Links </th> </tr>\n",
       "                      <tr><td>(f)irst change</td> </tr>\n",
       "                      <tr><td>(n)ext change</td> </tr>\n",
       "                      <tr><td>(t)op</td> </tr>\n",
       "                  </table></td> </tr>\n",
       "    </table>\n",
       "</body>\n",
       "\n",
       "</html>"
      ],
      "text/plain": [
       "<IPython.core.display.HTML object>"
      ]
     },
     "metadata": {},
     "output_type": "display_data"
    },
    {
     "data": {
      "text/markdown": [
       "---"
      ],
      "text/plain": [
       "<IPython.core.display.Markdown object>"
      ]
     },
     "metadata": {},
     "output_type": "display_data"
    },
    {
     "name": "stdout",
     "output_type": "stream",
     "text": [
      "Original game index: 26 | Negative game row: 26 | Negative game col: 766\n"
     ]
    },
    {
     "data": {
      "text/markdown": [
       "### Energy of real game: -26.058 | Energy of regrown game: -27.715 | Difference: -1.657"
      ],
      "text/plain": [
       "<IPython.core.display.Markdown object>"
      ]
     },
     "metadata": {},
     "output_type": "display_data"
    },
    {
     "data": {
      "text/markdown": [
       "### Top features changing the game's energy\n",
       "feature name: **value** = (original feature value => regrown feature value) * weight"
      ],
      "text/plain": [
       "<IPython.core.display.Markdown object>"
      ]
     },
     "metadata": {},
     "output_type": "display_data"
    },
    {
     "data": {
      "text/markdown": [
       "| Features increasing energy (= more fake)   | Features decreasing energy (= more real)                                |\n",
       "|--------------------------------------------|-------------------------------------------------------------------------|\n",
       "|                                            | ast_ngram_constraints_n_7_score: **-1.417** = (0.548 => 0.746) * -7.147 |\n",
       "|                                            | ast_ngram_full_n_7_score: **-0.240** = (0.580 => 0.606) * -9.074        |"
      ],
      "text/plain": [
       "<IPython.core.display.Markdown object>"
      ]
     },
     "metadata": {},
     "output_type": "display_data"
    },
    {
     "data": {
      "text/markdown": [
       "### Game Diffs"
      ],
      "text/plain": [
       "<IPython.core.display.Markdown object>"
      ]
     },
     "metadata": {},
     "output_type": "display_data"
    },
    {
     "data": {
      "text/html": [
       "\n",
       "<!DOCTYPE html PUBLIC \"-//W3C//DTD XHTML 1.0 Transitional//EN\"\n",
       "          \"http://www.w3.org/TR/xhtml1/DTD/xhtml1-transitional.dtd\">\n",
       "\n",
       "<html>\n",
       "\n",
       "<head>\n",
       "    <meta http-equiv=\"Content-Type\"\n",
       "          content=\"text/html; charset=utf-8\" />\n",
       "    <title></title>\n",
       "    <style type=\"text/css\">\n",
       "        table.diff {font-family:Courier; border:medium;}\n",
       "        .diff_header {background-color:#e0e0e0}\n",
       "        .diff td {text-align: left !important}\n",
       ".diff th {text-align: center!important }\n",
       ".diff td.diff_header {text-align:right !important}\n",
       "        .diff_next {background-color:#c0c0c0}\n",
       "        .diff_add {background-color: #6fa66f !important; font-weight: bold !important}\n",
       "        .diff_chg {background-color: #999949 !important; font-weight: bold !important}\n",
       "        .diff_sub {background-color: #a66f6f !important; font-weight: bold !important}\n",
       "    </style>\n",
       "</head>\n",
       "\n",
       "<body>\n",
       "    \n",
       "    <table class=\"diff\" id=\"difflib_chg_to26__top\"\n",
       "           cellspacing=\"0\" cellpadding=\"0\" rules=\"groups\" >\n",
       "        <colgroup></colgroup> <colgroup></colgroup> <colgroup></colgroup>\n",
       "        <colgroup></colgroup> <colgroup></colgroup> <colgroup></colgroup>\n",
       "        \n",
       "        <tbody>\n",
       "            <tr><td class=\"diff_next\" id=\"difflib_chg_to26__0\"><a href=\"#difflib_chg_to26__1\">n</a></td><td class=\"diff_header\" id=\"from26_1\">1</td><td nowrap=\"nowrap\">(define&nbsp;(game&nbsp;614e1599db14d8f3a5c1486a-33)&nbsp;(:domain&nbsp;many-objects-room-v1)</td><td class=\"diff_next\"><a href=\"#difflib_chg_to26__1\">n</a></td><td class=\"diff_header\" id=\"to26_1\">1</td><td nowrap=\"nowrap\">(define&nbsp;(game&nbsp;614e1599db14d8f3a5c1486a-33<span class=\"diff_add\">-766-nd-15-rd-3-rs-constraints-sk-prior5</span>)&nbsp;(:domain&nbsp;many-obj</td></tr>\n",
       "            <tr><td class=\"diff_next\"></td><td class=\"diff_header\"></td><td nowrap=\"nowrap\">&nbsp;</td><td class=\"diff_next\"></td><td class=\"diff_header\">></td><td nowrap=\"nowrap\">ects-room-v1)</td></tr>\n",
       "            <tr><td class=\"diff_next\"></td><td class=\"diff_header\" id=\"from26_2\">2</td><td nowrap=\"nowrap\">(:setup</td><td class=\"diff_next\"></td><td class=\"diff_header\" id=\"to26_2\">2</td><td nowrap=\"nowrap\">(:setup</td></tr>\n",
       "            <tr><td class=\"diff_next\"></td><td class=\"diff_header\" id=\"from26_3\">3</td><td nowrap=\"nowrap\">&nbsp;&nbsp;(and</td><td class=\"diff_next\"></td><td class=\"diff_header\" id=\"to26_3\">3</td><td nowrap=\"nowrap\">&nbsp;&nbsp;(and</td></tr>\n",
       "            <tr><td class=\"diff_next\"></td><td class=\"diff_header\" id=\"from26_4\">4</td><td nowrap=\"nowrap\">&nbsp;&nbsp;&nbsp;&nbsp;(forall&nbsp;(?g&nbsp;-&nbsp;game_object)</td><td class=\"diff_next\"></td><td class=\"diff_header\" id=\"to26_4\">4</td><td nowrap=\"nowrap\">&nbsp;&nbsp;&nbsp;&nbsp;(forall&nbsp;(?g&nbsp;-&nbsp;game_object)</td></tr>\n",
       "            <tr><td class=\"diff_next\"></td><td class=\"diff_header\" id=\"from26_5\">5</td><td nowrap=\"nowrap\">&nbsp;&nbsp;&nbsp;&nbsp;&nbsp;&nbsp;(game-optional</td><td class=\"diff_next\"></td><td class=\"diff_header\" id=\"to26_5\">5</td><td nowrap=\"nowrap\">&nbsp;&nbsp;&nbsp;&nbsp;&nbsp;&nbsp;(game-optional</td></tr>\n",
       "            <tr><td class=\"diff_next\"></td><td class=\"diff_header\" id=\"from26_6\">6</td><td nowrap=\"nowrap\">&nbsp;&nbsp;&nbsp;&nbsp;&nbsp;&nbsp;&nbsp;&nbsp;(not</td><td class=\"diff_next\"></td><td class=\"diff_header\" id=\"to26_6\">6</td><td nowrap=\"nowrap\">&nbsp;&nbsp;&nbsp;&nbsp;&nbsp;&nbsp;&nbsp;&nbsp;(not</td></tr>\n",
       "            <tr><td class=\"diff_next\"></td><td class=\"diff_header\" id=\"from26_7\">7</td><td nowrap=\"nowrap\">&nbsp;&nbsp;&nbsp;&nbsp;&nbsp;&nbsp;&nbsp;&nbsp;&nbsp;&nbsp;(in&nbsp;top_drawer&nbsp;?g)</td><td class=\"diff_next\"></td><td class=\"diff_header\" id=\"to26_7\">7</td><td nowrap=\"nowrap\">&nbsp;&nbsp;&nbsp;&nbsp;&nbsp;&nbsp;&nbsp;&nbsp;&nbsp;&nbsp;(in&nbsp;top_drawer&nbsp;?g)</td></tr>\n",
       "            <tr><td class=\"diff_next\"></td><td class=\"diff_header\" id=\"from26_8\">8</td><td nowrap=\"nowrap\">&nbsp;&nbsp;&nbsp;&nbsp;&nbsp;&nbsp;&nbsp;&nbsp;)</td><td class=\"diff_next\"></td><td class=\"diff_header\" id=\"to26_8\">8</td><td nowrap=\"nowrap\">&nbsp;&nbsp;&nbsp;&nbsp;&nbsp;&nbsp;&nbsp;&nbsp;)</td></tr>\n",
       "            <tr><td class=\"diff_next\"></td><td class=\"diff_header\" id=\"from26_9\">9</td><td nowrap=\"nowrap\">&nbsp;&nbsp;&nbsp;&nbsp;&nbsp;&nbsp;)</td><td class=\"diff_next\"></td><td class=\"diff_header\" id=\"to26_9\">9</td><td nowrap=\"nowrap\">&nbsp;&nbsp;&nbsp;&nbsp;&nbsp;&nbsp;)</td></tr>\n",
       "            <tr><td class=\"diff_next\"></td><td class=\"diff_header\" id=\"from26_10\">10</td><td nowrap=\"nowrap\">&nbsp;&nbsp;&nbsp;&nbsp;)</td><td class=\"diff_next\"></td><td class=\"diff_header\" id=\"to26_10\">10</td><td nowrap=\"nowrap\">&nbsp;&nbsp;&nbsp;&nbsp;)</td></tr>\n",
       "            <tr><td class=\"diff_next\"></td><td class=\"diff_header\" id=\"from26_11\">11</td><td nowrap=\"nowrap\">&nbsp;&nbsp;)</td><td class=\"diff_next\"></td><td class=\"diff_header\" id=\"to26_11\">11</td><td nowrap=\"nowrap\">&nbsp;&nbsp;)</td></tr>\n",
       "            <tr><td class=\"diff_next\"></td><td class=\"diff_header\" id=\"from26_12\">12</td><td nowrap=\"nowrap\">)</td><td class=\"diff_next\"></td><td class=\"diff_header\" id=\"to26_12\">12</td><td nowrap=\"nowrap\">)</td></tr>\n",
       "            <tr><td class=\"diff_next\"></td><td class=\"diff_header\" id=\"from26_13\">13</td><td nowrap=\"nowrap\">(:constraints</td><td class=\"diff_next\"></td><td class=\"diff_header\" id=\"to26_13\">13</td><td nowrap=\"nowrap\">(:constraints</td></tr>\n",
       "            <tr><td class=\"diff_next\"></td><td class=\"diff_header\" id=\"from26_14\">14</td><td nowrap=\"nowrap\">&nbsp;&nbsp;(and</td><td class=\"diff_next\"></td><td class=\"diff_header\" id=\"to26_14\">14</td><td nowrap=\"nowrap\">&nbsp;&nbsp;(and</td></tr>\n",
       "            <tr><td class=\"diff_next\"></td><td class=\"diff_header\" id=\"from26_15\">15</td><td nowrap=\"nowrap\">&nbsp;&nbsp;&nbsp;&nbsp;(preference&nbsp;itemInClosedDrawerAtEnd</td><td class=\"diff_next\"></td><td class=\"diff_header\" id=\"to26_15\">15</td><td nowrap=\"nowrap\">&nbsp;&nbsp;&nbsp;&nbsp;(preference&nbsp;itemInClosedDrawerAtEnd</td></tr>\n",
       "            <tr><td class=\"diff_next\" id=\"difflib_chg_to26__1\"></td><td class=\"diff_header\" id=\"from26_16\">16</td><td nowrap=\"nowrap\">&nbsp;&nbsp;&nbsp;&nbsp;&nbsp;&nbsp;(exists&nbsp;(?g&nbsp;-&nbsp;game_object)</td><td class=\"diff_next\"></td><td class=\"diff_header\" id=\"to26_16\">16</td><td nowrap=\"nowrap\">&nbsp;&nbsp;&nbsp;&nbsp;&nbsp;&nbsp;(exists&nbsp;(?g&nbsp;-&nbsp;game_object)</td></tr>\n",
       "            <tr><td class=\"diff_next\"></td><td class=\"diff_header\" id=\"from26_17\">17</td><td nowrap=\"nowrap\">&nbsp;&nbsp;&nbsp;&nbsp;&nbsp;&nbsp;&nbsp;&nbsp;(at-end</td><td class=\"diff_next\"></td><td class=\"diff_header\" id=\"to26_17\">17</td><td nowrap=\"nowrap\">&nbsp;&nbsp;&nbsp;&nbsp;&nbsp;&nbsp;&nbsp;&nbsp;(at-end</td></tr>\n",
       "            <tr><td class=\"diff_next\"></td><td class=\"diff_header\" id=\"from26_18\">18</td><td nowrap=\"nowrap\">&nbsp;&nbsp;&nbsp;&nbsp;&nbsp;&nbsp;&nbsp;&nbsp;&nbsp;&nbsp;(and</td><td class=\"diff_next\"></td><td class=\"diff_header\" id=\"to26_18\">18</td><td nowrap=\"nowrap\">&nbsp;&nbsp;&nbsp;&nbsp;&nbsp;&nbsp;&nbsp;&nbsp;&nbsp;&nbsp;(and</td></tr>\n",
       "            <tr><td class=\"diff_next\"></td><td class=\"diff_header\" id=\"from26_19\">19</td><td nowrap=\"nowrap\">&nbsp;&nbsp;&nbsp;&nbsp;&nbsp;&nbsp;&nbsp;&nbsp;&nbsp;&nbsp;&nbsp;&nbsp;(in&nbsp;top_drawer&nbsp;?g)</td><td class=\"diff_next\"></td><td class=\"diff_header\" id=\"to26_19\">19</td><td nowrap=\"nowrap\">&nbsp;&nbsp;&nbsp;&nbsp;&nbsp;&nbsp;&nbsp;&nbsp;&nbsp;&nbsp;&nbsp;&nbsp;(in&nbsp;top_drawer&nbsp;?g)</td></tr>\n",
       "            <tr><td class=\"diff_next\"></td><td class=\"diff_header\" id=\"from26_20\">20</td><td nowrap=\"nowrap\">&nbsp;&nbsp;&nbsp;&nbsp;&nbsp;&nbsp;&nbsp;&nbsp;&nbsp;&nbsp;&nbsp;&nbsp;(not</td><td class=\"diff_next\"></td><td class=\"diff_header\" id=\"to26_20\">20</td><td nowrap=\"nowrap\">&nbsp;&nbsp;&nbsp;&nbsp;&nbsp;&nbsp;&nbsp;&nbsp;&nbsp;&nbsp;&nbsp;&nbsp;(not</td></tr>\n",
       "            <tr><td class=\"diff_next\"><a href=\"#difflib_chg_to26__top\">t</a></td><td class=\"diff_header\" id=\"from26_21\">21</td><td nowrap=\"nowrap\"><span class=\"diff_sub\">&nbsp;&nbsp;&nbsp;&nbsp;&nbsp;&nbsp;&nbsp;&nbsp;&nbsp;&nbsp;&nbsp;&nbsp;&nbsp;&nbsp;(open&nbsp;top_drawer)</span></td><td class=\"diff_next\"><a href=\"#difflib_chg_to26__top\">t</a></td><td class=\"diff_header\" id=\"to26_21\">21</td><td nowrap=\"nowrap\"><span class=\"diff_add\">&nbsp;&nbsp;&nbsp;&nbsp;&nbsp;&nbsp;&nbsp;&nbsp;&nbsp;&nbsp;&nbsp;&nbsp;&nbsp;&nbsp;(same_type&nbsp;?g&nbsp;blinds)</span></td></tr>\n",
       "            <tr><td class=\"diff_next\"></td><td class=\"diff_header\" id=\"from26_22\">22</td><td nowrap=\"nowrap\">&nbsp;&nbsp;&nbsp;&nbsp;&nbsp;&nbsp;&nbsp;&nbsp;&nbsp;&nbsp;&nbsp;&nbsp;)</td><td class=\"diff_next\"></td><td class=\"diff_header\" id=\"to26_22\">22</td><td nowrap=\"nowrap\">&nbsp;&nbsp;&nbsp;&nbsp;&nbsp;&nbsp;&nbsp;&nbsp;&nbsp;&nbsp;&nbsp;&nbsp;)</td></tr>\n",
       "            <tr><td class=\"diff_next\"></td><td class=\"diff_header\" id=\"from26_23\">23</td><td nowrap=\"nowrap\">&nbsp;&nbsp;&nbsp;&nbsp;&nbsp;&nbsp;&nbsp;&nbsp;&nbsp;&nbsp;)</td><td class=\"diff_next\"></td><td class=\"diff_header\" id=\"to26_23\">23</td><td nowrap=\"nowrap\">&nbsp;&nbsp;&nbsp;&nbsp;&nbsp;&nbsp;&nbsp;&nbsp;&nbsp;&nbsp;)</td></tr>\n",
       "            <tr><td class=\"diff_next\"></td><td class=\"diff_header\" id=\"from26_24\">24</td><td nowrap=\"nowrap\">&nbsp;&nbsp;&nbsp;&nbsp;&nbsp;&nbsp;&nbsp;&nbsp;)</td><td class=\"diff_next\"></td><td class=\"diff_header\" id=\"to26_24\">24</td><td nowrap=\"nowrap\">&nbsp;&nbsp;&nbsp;&nbsp;&nbsp;&nbsp;&nbsp;&nbsp;)</td></tr>\n",
       "            <tr><td class=\"diff_next\"></td><td class=\"diff_header\" id=\"from26_25\">25</td><td nowrap=\"nowrap\">&nbsp;&nbsp;&nbsp;&nbsp;&nbsp;&nbsp;)</td><td class=\"diff_next\"></td><td class=\"diff_header\" id=\"to26_25\">25</td><td nowrap=\"nowrap\">&nbsp;&nbsp;&nbsp;&nbsp;&nbsp;&nbsp;)</td></tr>\n",
       "            <tr><td class=\"diff_next\"></td><td class=\"diff_header\" id=\"from26_26\">26</td><td nowrap=\"nowrap\">&nbsp;&nbsp;&nbsp;&nbsp;)</td><td class=\"diff_next\"></td><td class=\"diff_header\" id=\"to26_26\">26</td><td nowrap=\"nowrap\">&nbsp;&nbsp;&nbsp;&nbsp;)</td></tr>\n",
       "            <tr><td class=\"diff_next\"></td><td class=\"diff_header\" id=\"from26_27\">27</td><td nowrap=\"nowrap\">&nbsp;&nbsp;)</td><td class=\"diff_next\"></td><td class=\"diff_header\" id=\"to26_27\">27</td><td nowrap=\"nowrap\">&nbsp;&nbsp;)</td></tr>\n",
       "            <tr><td class=\"diff_next\"></td><td class=\"diff_header\" id=\"from26_28\">28</td><td nowrap=\"nowrap\">)</td><td class=\"diff_next\"></td><td class=\"diff_header\" id=\"to26_28\">28</td><td nowrap=\"nowrap\">)</td></tr>\n",
       "            <tr><td class=\"diff_next\"></td><td class=\"diff_header\" id=\"from26_29\">29</td><td nowrap=\"nowrap\">(:scoring</td><td class=\"diff_next\"></td><td class=\"diff_header\" id=\"to26_29\">29</td><td nowrap=\"nowrap\">(:scoring</td></tr>\n",
       "            <tr><td class=\"diff_next\"></td><td class=\"diff_header\" id=\"from26_30\">30</td><td nowrap=\"nowrap\">&nbsp;&nbsp;(count-once-per-objects&nbsp;itemInClosedDrawerAtEnd)</td><td class=\"diff_next\"></td><td class=\"diff_header\" id=\"to26_30\">30</td><td nowrap=\"nowrap\">&nbsp;&nbsp;(count-once-per-objects&nbsp;itemInClosedDrawerAtEnd)</td></tr>\n",
       "            <tr><td class=\"diff_next\"></td><td class=\"diff_header\" id=\"from26_31\">31</td><td nowrap=\"nowrap\">)</td><td class=\"diff_next\"></td><td class=\"diff_header\" id=\"to26_31\">31</td><td nowrap=\"nowrap\">)</td></tr>\n",
       "            <tr><td class=\"diff_next\"></td><td class=\"diff_header\" id=\"from26_32\">32</td><td nowrap=\"nowrap\">)</td><td class=\"diff_next\"></td><td class=\"diff_header\" id=\"to26_32\">32</td><td nowrap=\"nowrap\">)</td></tr>\n",
       "        </tbody>\n",
       "    </table>\n",
       "    <table class=\"diff\" summary=\"Legends\">\n",
       "        <tr> <th colspan=\"2\"> Legends </th> </tr>\n",
       "        <tr> <td> <table border=\"\" summary=\"Colors\">\n",
       "                      <tr><th> Colors </th> </tr>\n",
       "                      <tr><td class=\"diff_add\">&nbsp;Added&nbsp;</td></tr>\n",
       "                      <tr><td class=\"diff_chg\">Changed</td> </tr>\n",
       "                      <tr><td class=\"diff_sub\">Deleted</td> </tr>\n",
       "                  </table></td>\n",
       "             <td> <table border=\"\" summary=\"Links\">\n",
       "                      <tr><th colspan=\"2\"> Links </th> </tr>\n",
       "                      <tr><td>(f)irst change</td> </tr>\n",
       "                      <tr><td>(n)ext change</td> </tr>\n",
       "                      <tr><td>(t)op</td> </tr>\n",
       "                  </table></td> </tr>\n",
       "    </table>\n",
       "</body>\n",
       "\n",
       "</html>"
      ],
      "text/plain": [
       "<IPython.core.display.HTML object>"
      ]
     },
     "metadata": {},
     "output_type": "display_data"
    },
    {
     "data": {
      "text/markdown": [
       "---"
      ],
      "text/plain": [
       "<IPython.core.display.Markdown object>"
      ]
     },
     "metadata": {},
     "output_type": "display_data"
    },
    {
     "name": "stdout",
     "output_type": "stream",
     "text": [
      "Original game index: 26 | Negative game row: 26 | Negative game col: 686\n"
     ]
    },
    {
     "data": {
      "text/markdown": [
       "### Energy of real game: -26.058 | Energy of regrown game: -27.638 | Difference: -1.581"
      ],
      "text/plain": [
       "<IPython.core.display.Markdown object>"
      ]
     },
     "metadata": {},
     "output_type": "display_data"
    },
    {
     "data": {
      "text/markdown": [
       "### Top features changing the game's energy\n",
       "feature name: **value** = (original feature value => regrown feature value) * weight"
      ],
      "text/plain": [
       "<IPython.core.display.Markdown object>"
      ]
     },
     "metadata": {},
     "output_type": "display_data"
    },
    {
     "data": {
      "text/markdown": [
       "| Features increasing energy (= more fake)                  | Features decreasing energy (= more real)                          |\n",
       "|-----------------------------------------------------------|-------------------------------------------------------------------|\n",
       "| setup_objects_used: **0.310** = (1.000 => 0.500) * -0.620 | ast_ngram_full_n_7_score: **-1.328** = (0.580 => 0.726) * -9.074  |\n",
       "|                                                           | ast_ngram_setup_n_5_score: **-0.563** = (0.741 => 0.964) * -2.533 |"
      ],
      "text/plain": [
       "<IPython.core.display.Markdown object>"
      ]
     },
     "metadata": {},
     "output_type": "display_data"
    },
    {
     "data": {
      "text/markdown": [
       "### Game Diffs"
      ],
      "text/plain": [
       "<IPython.core.display.Markdown object>"
      ]
     },
     "metadata": {},
     "output_type": "display_data"
    },
    {
     "data": {
      "text/html": [
       "\n",
       "<!DOCTYPE html PUBLIC \"-//W3C//DTD XHTML 1.0 Transitional//EN\"\n",
       "          \"http://www.w3.org/TR/xhtml1/DTD/xhtml1-transitional.dtd\">\n",
       "\n",
       "<html>\n",
       "\n",
       "<head>\n",
       "    <meta http-equiv=\"Content-Type\"\n",
       "          content=\"text/html; charset=utf-8\" />\n",
       "    <title></title>\n",
       "    <style type=\"text/css\">\n",
       "        table.diff {font-family:Courier; border:medium;}\n",
       "        .diff_header {background-color:#e0e0e0}\n",
       "        .diff td {text-align: left !important}\n",
       ".diff th {text-align: center!important }\n",
       ".diff td.diff_header {text-align:right !important}\n",
       "        .diff_next {background-color:#c0c0c0}\n",
       "        .diff_add {background-color: #6fa66f !important; font-weight: bold !important}\n",
       "        .diff_chg {background-color: #999949 !important; font-weight: bold !important}\n",
       "        .diff_sub {background-color: #a66f6f !important; font-weight: bold !important}\n",
       "    </style>\n",
       "</head>\n",
       "\n",
       "<body>\n",
       "    \n",
       "    <table class=\"diff\" id=\"difflib_chg_to27__top\"\n",
       "           cellspacing=\"0\" cellpadding=\"0\" rules=\"groups\" >\n",
       "        <colgroup></colgroup> <colgroup></colgroup> <colgroup></colgroup>\n",
       "        <colgroup></colgroup> <colgroup></colgroup> <colgroup></colgroup>\n",
       "        \n",
       "        <tbody>\n",
       "            <tr><td class=\"diff_next\" id=\"difflib_chg_to27__0\"><a href=\"#difflib_chg_to27__1\">n</a></td><td class=\"diff_header\" id=\"from27_1\">1</td><td nowrap=\"nowrap\">(define&nbsp;(game&nbsp;614e1599db14d8f3a5c1486a-33)&nbsp;(:domain&nbsp;many-objects-room-v1)</td><td class=\"diff_next\"><a href=\"#difflib_chg_to27__1\">n</a></td><td class=\"diff_header\" id=\"to27_1\">1</td><td nowrap=\"nowrap\">(define&nbsp;(game&nbsp;614e1599db14d8f3a5c1486a-33<span class=\"diff_add\">-686-nd-14-rd-2-rs-setup-sk-prior5</span>)&nbsp;(:domain&nbsp;many-objects-r</td></tr>\n",
       "            <tr><td class=\"diff_next\"></td><td class=\"diff_header\"></td><td nowrap=\"nowrap\">&nbsp;</td><td class=\"diff_next\"></td><td class=\"diff_header\">></td><td nowrap=\"nowrap\">oom-v1)</td></tr>\n",
       "            <tr><td class=\"diff_next\" id=\"difflib_chg_to27__1\"></td><td class=\"diff_header\" id=\"from27_2\">2</td><td nowrap=\"nowrap\">(:setup</td><td class=\"diff_next\"></td><td class=\"diff_header\" id=\"to27_2\">2</td><td nowrap=\"nowrap\">(:setup</td></tr>\n",
       "            <tr><td class=\"diff_next\"></td><td class=\"diff_header\" id=\"from27_3\">3</td><td nowrap=\"nowrap\">&nbsp;&nbsp;(and</td><td class=\"diff_next\"></td><td class=\"diff_header\" id=\"to27_3\">3</td><td nowrap=\"nowrap\">&nbsp;&nbsp;(and</td></tr>\n",
       "            <tr><td class=\"diff_next\"></td><td class=\"diff_header\" id=\"from27_4\">4</td><td nowrap=\"nowrap\">&nbsp;&nbsp;&nbsp;&nbsp;(forall&nbsp;(?g&nbsp;-&nbsp;game_object)</td><td class=\"diff_next\"></td><td class=\"diff_header\" id=\"to27_4\">4</td><td nowrap=\"nowrap\">&nbsp;&nbsp;&nbsp;&nbsp;(forall&nbsp;(?g&nbsp;-&nbsp;game_object)</td></tr>\n",
       "            <tr><td class=\"diff_next\"></td><td class=\"diff_header\" id=\"from27_5\">5</td><td nowrap=\"nowrap\">&nbsp;&nbsp;&nbsp;&nbsp;&nbsp;&nbsp;(game-optional</td><td class=\"diff_next\"></td><td class=\"diff_header\" id=\"to27_5\">5</td><td nowrap=\"nowrap\">&nbsp;&nbsp;&nbsp;&nbsp;&nbsp;&nbsp;(game-optional</td></tr>\n",
       "            <tr><td class=\"diff_next\"></td><td class=\"diff_header\" id=\"from27_6\">6</td><td nowrap=\"nowrap\">&nbsp;&nbsp;&nbsp;&nbsp;&nbsp;&nbsp;&nbsp;&nbsp;(not</td><td class=\"diff_next\"></td><td class=\"diff_header\" id=\"to27_6\">6</td><td nowrap=\"nowrap\">&nbsp;&nbsp;&nbsp;&nbsp;&nbsp;&nbsp;&nbsp;&nbsp;(not</td></tr>\n",
       "            <tr><td class=\"diff_next\"><a href=\"#difflib_chg_to27__top\">t</a></td><td class=\"diff_header\" id=\"from27_7\">7</td><td nowrap=\"nowrap\">&nbsp;&nbsp;&nbsp;&nbsp;&nbsp;&nbsp;&nbsp;&nbsp;&nbsp;&nbsp;(in&nbsp;<span class=\"diff_chg\">top_</span>d<span class=\"diff_sub\">rawer</span>&nbsp;?g)</td><td class=\"diff_next\"><a href=\"#difflib_chg_to27__top\">t</a></td><td class=\"diff_header\" id=\"to27_7\">7</td><td nowrap=\"nowrap\">&nbsp;&nbsp;&nbsp;&nbsp;&nbsp;&nbsp;&nbsp;&nbsp;&nbsp;&nbsp;(in&nbsp;<span class=\"diff_chg\">be</span>d&nbsp;?g)</td></tr>\n",
       "            <tr><td class=\"diff_next\"></td><td class=\"diff_header\" id=\"from27_8\">8</td><td nowrap=\"nowrap\">&nbsp;&nbsp;&nbsp;&nbsp;&nbsp;&nbsp;&nbsp;&nbsp;)</td><td class=\"diff_next\"></td><td class=\"diff_header\" id=\"to27_8\">8</td><td nowrap=\"nowrap\">&nbsp;&nbsp;&nbsp;&nbsp;&nbsp;&nbsp;&nbsp;&nbsp;)</td></tr>\n",
       "            <tr><td class=\"diff_next\"></td><td class=\"diff_header\" id=\"from27_9\">9</td><td nowrap=\"nowrap\">&nbsp;&nbsp;&nbsp;&nbsp;&nbsp;&nbsp;)</td><td class=\"diff_next\"></td><td class=\"diff_header\" id=\"to27_9\">9</td><td nowrap=\"nowrap\">&nbsp;&nbsp;&nbsp;&nbsp;&nbsp;&nbsp;)</td></tr>\n",
       "            <tr><td class=\"diff_next\"></td><td class=\"diff_header\" id=\"from27_10\">10</td><td nowrap=\"nowrap\">&nbsp;&nbsp;&nbsp;&nbsp;)</td><td class=\"diff_next\"></td><td class=\"diff_header\" id=\"to27_10\">10</td><td nowrap=\"nowrap\">&nbsp;&nbsp;&nbsp;&nbsp;)</td></tr>\n",
       "            <tr><td class=\"diff_next\"></td><td class=\"diff_header\" id=\"from27_11\">11</td><td nowrap=\"nowrap\">&nbsp;&nbsp;)</td><td class=\"diff_next\"></td><td class=\"diff_header\" id=\"to27_11\">11</td><td nowrap=\"nowrap\">&nbsp;&nbsp;)</td></tr>\n",
       "            <tr><td class=\"diff_next\"></td><td class=\"diff_header\" id=\"from27_12\">12</td><td nowrap=\"nowrap\">)</td><td class=\"diff_next\"></td><td class=\"diff_header\" id=\"to27_12\">12</td><td nowrap=\"nowrap\">)</td></tr>\n",
       "            <tr><td class=\"diff_next\"></td><td class=\"diff_header\" id=\"from27_13\">13</td><td nowrap=\"nowrap\">(:constraints</td><td class=\"diff_next\"></td><td class=\"diff_header\" id=\"to27_13\">13</td><td nowrap=\"nowrap\">(:constraints</td></tr>\n",
       "            <tr><td class=\"diff_next\"></td><td class=\"diff_header\" id=\"from27_14\">14</td><td nowrap=\"nowrap\">&nbsp;&nbsp;(and</td><td class=\"diff_next\"></td><td class=\"diff_header\" id=\"to27_14\">14</td><td nowrap=\"nowrap\">&nbsp;&nbsp;(and</td></tr>\n",
       "            <tr><td class=\"diff_next\"></td><td class=\"diff_header\" id=\"from27_15\">15</td><td nowrap=\"nowrap\">&nbsp;&nbsp;&nbsp;&nbsp;(preference&nbsp;itemInClosedDrawerAtEnd</td><td class=\"diff_next\"></td><td class=\"diff_header\" id=\"to27_15\">15</td><td nowrap=\"nowrap\">&nbsp;&nbsp;&nbsp;&nbsp;(preference&nbsp;itemInClosedDrawerAtEnd</td></tr>\n",
       "            <tr><td class=\"diff_next\"></td><td class=\"diff_header\" id=\"from27_16\">16</td><td nowrap=\"nowrap\">&nbsp;&nbsp;&nbsp;&nbsp;&nbsp;&nbsp;(exists&nbsp;(?g&nbsp;-&nbsp;game_object)</td><td class=\"diff_next\"></td><td class=\"diff_header\" id=\"to27_16\">16</td><td nowrap=\"nowrap\">&nbsp;&nbsp;&nbsp;&nbsp;&nbsp;&nbsp;(exists&nbsp;(?g&nbsp;-&nbsp;game_object)</td></tr>\n",
       "            <tr><td class=\"diff_next\"></td><td class=\"diff_header\" id=\"from27_17\">17</td><td nowrap=\"nowrap\">&nbsp;&nbsp;&nbsp;&nbsp;&nbsp;&nbsp;&nbsp;&nbsp;(at-end</td><td class=\"diff_next\"></td><td class=\"diff_header\" id=\"to27_17\">17</td><td nowrap=\"nowrap\">&nbsp;&nbsp;&nbsp;&nbsp;&nbsp;&nbsp;&nbsp;&nbsp;(at-end</td></tr>\n",
       "            <tr><td class=\"diff_next\"></td><td class=\"diff_header\" id=\"from27_18\">18</td><td nowrap=\"nowrap\">&nbsp;&nbsp;&nbsp;&nbsp;&nbsp;&nbsp;&nbsp;&nbsp;&nbsp;&nbsp;(and</td><td class=\"diff_next\"></td><td class=\"diff_header\" id=\"to27_18\">18</td><td nowrap=\"nowrap\">&nbsp;&nbsp;&nbsp;&nbsp;&nbsp;&nbsp;&nbsp;&nbsp;&nbsp;&nbsp;(and</td></tr>\n",
       "            <tr><td class=\"diff_next\"></td><td class=\"diff_header\" id=\"from27_19\">19</td><td nowrap=\"nowrap\">&nbsp;&nbsp;&nbsp;&nbsp;&nbsp;&nbsp;&nbsp;&nbsp;&nbsp;&nbsp;&nbsp;&nbsp;(in&nbsp;top_drawer&nbsp;?g)</td><td class=\"diff_next\"></td><td class=\"diff_header\" id=\"to27_19\">19</td><td nowrap=\"nowrap\">&nbsp;&nbsp;&nbsp;&nbsp;&nbsp;&nbsp;&nbsp;&nbsp;&nbsp;&nbsp;&nbsp;&nbsp;(in&nbsp;top_drawer&nbsp;?g)</td></tr>\n",
       "            <tr><td class=\"diff_next\"></td><td class=\"diff_header\" id=\"from27_20\">20</td><td nowrap=\"nowrap\">&nbsp;&nbsp;&nbsp;&nbsp;&nbsp;&nbsp;&nbsp;&nbsp;&nbsp;&nbsp;&nbsp;&nbsp;(not</td><td class=\"diff_next\"></td><td class=\"diff_header\" id=\"to27_20\">20</td><td nowrap=\"nowrap\">&nbsp;&nbsp;&nbsp;&nbsp;&nbsp;&nbsp;&nbsp;&nbsp;&nbsp;&nbsp;&nbsp;&nbsp;(not</td></tr>\n",
       "            <tr><td class=\"diff_next\"></td><td class=\"diff_header\" id=\"from27_21\">21</td><td nowrap=\"nowrap\">&nbsp;&nbsp;&nbsp;&nbsp;&nbsp;&nbsp;&nbsp;&nbsp;&nbsp;&nbsp;&nbsp;&nbsp;&nbsp;&nbsp;(open&nbsp;top_drawer)</td><td class=\"diff_next\"></td><td class=\"diff_header\" id=\"to27_21\">21</td><td nowrap=\"nowrap\">&nbsp;&nbsp;&nbsp;&nbsp;&nbsp;&nbsp;&nbsp;&nbsp;&nbsp;&nbsp;&nbsp;&nbsp;&nbsp;&nbsp;(open&nbsp;top_drawer)</td></tr>\n",
       "            <tr><td class=\"diff_next\"></td><td class=\"diff_header\" id=\"from27_22\">22</td><td nowrap=\"nowrap\">&nbsp;&nbsp;&nbsp;&nbsp;&nbsp;&nbsp;&nbsp;&nbsp;&nbsp;&nbsp;&nbsp;&nbsp;)</td><td class=\"diff_next\"></td><td class=\"diff_header\" id=\"to27_22\">22</td><td nowrap=\"nowrap\">&nbsp;&nbsp;&nbsp;&nbsp;&nbsp;&nbsp;&nbsp;&nbsp;&nbsp;&nbsp;&nbsp;&nbsp;)</td></tr>\n",
       "            <tr><td class=\"diff_next\"></td><td class=\"diff_header\" id=\"from27_23\">23</td><td nowrap=\"nowrap\">&nbsp;&nbsp;&nbsp;&nbsp;&nbsp;&nbsp;&nbsp;&nbsp;&nbsp;&nbsp;)</td><td class=\"diff_next\"></td><td class=\"diff_header\" id=\"to27_23\">23</td><td nowrap=\"nowrap\">&nbsp;&nbsp;&nbsp;&nbsp;&nbsp;&nbsp;&nbsp;&nbsp;&nbsp;&nbsp;)</td></tr>\n",
       "            <tr><td class=\"diff_next\"></td><td class=\"diff_header\" id=\"from27_24\">24</td><td nowrap=\"nowrap\">&nbsp;&nbsp;&nbsp;&nbsp;&nbsp;&nbsp;&nbsp;&nbsp;)</td><td class=\"diff_next\"></td><td class=\"diff_header\" id=\"to27_24\">24</td><td nowrap=\"nowrap\">&nbsp;&nbsp;&nbsp;&nbsp;&nbsp;&nbsp;&nbsp;&nbsp;)</td></tr>\n",
       "            <tr><td class=\"diff_next\"></td><td class=\"diff_header\" id=\"from27_25\">25</td><td nowrap=\"nowrap\">&nbsp;&nbsp;&nbsp;&nbsp;&nbsp;&nbsp;)</td><td class=\"diff_next\"></td><td class=\"diff_header\" id=\"to27_25\">25</td><td nowrap=\"nowrap\">&nbsp;&nbsp;&nbsp;&nbsp;&nbsp;&nbsp;)</td></tr>\n",
       "            <tr><td class=\"diff_next\"></td><td class=\"diff_header\" id=\"from27_26\">26</td><td nowrap=\"nowrap\">&nbsp;&nbsp;&nbsp;&nbsp;)</td><td class=\"diff_next\"></td><td class=\"diff_header\" id=\"to27_26\">26</td><td nowrap=\"nowrap\">&nbsp;&nbsp;&nbsp;&nbsp;)</td></tr>\n",
       "            <tr><td class=\"diff_next\"></td><td class=\"diff_header\" id=\"from27_27\">27</td><td nowrap=\"nowrap\">&nbsp;&nbsp;)</td><td class=\"diff_next\"></td><td class=\"diff_header\" id=\"to27_27\">27</td><td nowrap=\"nowrap\">&nbsp;&nbsp;)</td></tr>\n",
       "            <tr><td class=\"diff_next\"></td><td class=\"diff_header\" id=\"from27_28\">28</td><td nowrap=\"nowrap\">)</td><td class=\"diff_next\"></td><td class=\"diff_header\" id=\"to27_28\">28</td><td nowrap=\"nowrap\">)</td></tr>\n",
       "            <tr><td class=\"diff_next\"></td><td class=\"diff_header\" id=\"from27_29\">29</td><td nowrap=\"nowrap\">(:scoring</td><td class=\"diff_next\"></td><td class=\"diff_header\" id=\"to27_29\">29</td><td nowrap=\"nowrap\">(:scoring</td></tr>\n",
       "            <tr><td class=\"diff_next\"></td><td class=\"diff_header\" id=\"from27_30\">30</td><td nowrap=\"nowrap\">&nbsp;&nbsp;(count-once-per-objects&nbsp;itemInClosedDrawerAtEnd)</td><td class=\"diff_next\"></td><td class=\"diff_header\" id=\"to27_30\">30</td><td nowrap=\"nowrap\">&nbsp;&nbsp;(count-once-per-objects&nbsp;itemInClosedDrawerAtEnd)</td></tr>\n",
       "            <tr><td class=\"diff_next\"></td><td class=\"diff_header\" id=\"from27_31\">31</td><td nowrap=\"nowrap\">)</td><td class=\"diff_next\"></td><td class=\"diff_header\" id=\"to27_31\">31</td><td nowrap=\"nowrap\">)</td></tr>\n",
       "            <tr><td class=\"diff_next\"></td><td class=\"diff_header\" id=\"from27_32\">32</td><td nowrap=\"nowrap\">)</td><td class=\"diff_next\"></td><td class=\"diff_header\" id=\"to27_32\">32</td><td nowrap=\"nowrap\">)</td></tr>\n",
       "        </tbody>\n",
       "    </table>\n",
       "    <table class=\"diff\" summary=\"Legends\">\n",
       "        <tr> <th colspan=\"2\"> Legends </th> </tr>\n",
       "        <tr> <td> <table border=\"\" summary=\"Colors\">\n",
       "                      <tr><th> Colors </th> </tr>\n",
       "                      <tr><td class=\"diff_add\">&nbsp;Added&nbsp;</td></tr>\n",
       "                      <tr><td class=\"diff_chg\">Changed</td> </tr>\n",
       "                      <tr><td class=\"diff_sub\">Deleted</td> </tr>\n",
       "                  </table></td>\n",
       "             <td> <table border=\"\" summary=\"Links\">\n",
       "                      <tr><th colspan=\"2\"> Links </th> </tr>\n",
       "                      <tr><td>(f)irst change</td> </tr>\n",
       "                      <tr><td>(n)ext change</td> </tr>\n",
       "                      <tr><td>(t)op</td> </tr>\n",
       "                  </table></td> </tr>\n",
       "    </table>\n",
       "</body>\n",
       "\n",
       "</html>"
      ],
      "text/plain": [
       "<IPython.core.display.HTML object>"
      ]
     },
     "metadata": {},
     "output_type": "display_data"
    },
    {
     "data": {
      "text/markdown": [
       "---"
      ],
      "text/plain": [
       "<IPython.core.display.Markdown object>"
      ]
     },
     "metadata": {},
     "output_type": "display_data"
    },
    {
     "name": "stdout",
     "output_type": "stream",
     "text": [
      "Original game index: 26 | Negative game row: 26 | Negative game col: 724\n"
     ]
    },
    {
     "data": {
      "text/markdown": [
       "### Energy of real game: -26.058 | Energy of regrown game: -27.638 | Difference: -1.581"
      ],
      "text/plain": [
       "<IPython.core.display.Markdown object>"
      ]
     },
     "metadata": {},
     "output_type": "display_data"
    },
    {
     "data": {
      "text/markdown": [
       "### Top features changing the game's energy\n",
       "feature name: **value** = (original feature value => regrown feature value) * weight"
      ],
      "text/plain": [
       "<IPython.core.display.Markdown object>"
      ]
     },
     "metadata": {},
     "output_type": "display_data"
    },
    {
     "data": {
      "text/markdown": [
       "| Features increasing energy (= more fake)                  | Features decreasing energy (= more real)                          |\n",
       "|-----------------------------------------------------------|-------------------------------------------------------------------|\n",
       "| setup_objects_used: **0.310** = (1.000 => 0.500) * -0.620 | ast_ngram_full_n_7_score: **-1.328** = (0.580 => 0.726) * -9.074  |\n",
       "|                                                           | ast_ngram_setup_n_5_score: **-0.563** = (0.741 => 0.964) * -2.533 |"
      ],
      "text/plain": [
       "<IPython.core.display.Markdown object>"
      ]
     },
     "metadata": {},
     "output_type": "display_data"
    },
    {
     "data": {
      "text/markdown": [
       "### Game Diffs"
      ],
      "text/plain": [
       "<IPython.core.display.Markdown object>"
      ]
     },
     "metadata": {},
     "output_type": "display_data"
    },
    {
     "data": {
      "text/html": [
       "\n",
       "<!DOCTYPE html PUBLIC \"-//W3C//DTD XHTML 1.0 Transitional//EN\"\n",
       "          \"http://www.w3.org/TR/xhtml1/DTD/xhtml1-transitional.dtd\">\n",
       "\n",
       "<html>\n",
       "\n",
       "<head>\n",
       "    <meta http-equiv=\"Content-Type\"\n",
       "          content=\"text/html; charset=utf-8\" />\n",
       "    <title></title>\n",
       "    <style type=\"text/css\">\n",
       "        table.diff {font-family:Courier; border:medium;}\n",
       "        .diff_header {background-color:#e0e0e0}\n",
       "        .diff td {text-align: left !important}\n",
       ".diff th {text-align: center!important }\n",
       ".diff td.diff_header {text-align:right !important}\n",
       "        .diff_next {background-color:#c0c0c0}\n",
       "        .diff_add {background-color: #6fa66f !important; font-weight: bold !important}\n",
       "        .diff_chg {background-color: #999949 !important; font-weight: bold !important}\n",
       "        .diff_sub {background-color: #a66f6f !important; font-weight: bold !important}\n",
       "    </style>\n",
       "</head>\n",
       "\n",
       "<body>\n",
       "    \n",
       "    <table class=\"diff\" id=\"difflib_chg_to28__top\"\n",
       "           cellspacing=\"0\" cellpadding=\"0\" rules=\"groups\" >\n",
       "        <colgroup></colgroup> <colgroup></colgroup> <colgroup></colgroup>\n",
       "        <colgroup></colgroup> <colgroup></colgroup> <colgroup></colgroup>\n",
       "        \n",
       "        <tbody>\n",
       "            <tr><td class=\"diff_next\" id=\"difflib_chg_to28__0\"><a href=\"#difflib_chg_to28__1\">n</a></td><td class=\"diff_header\" id=\"from28_1\">1</td><td nowrap=\"nowrap\">(define&nbsp;(game&nbsp;614e1599db14d8f3a5c1486a-33)&nbsp;(:domain&nbsp;many-objects-room-v1)</td><td class=\"diff_next\"><a href=\"#difflib_chg_to28__1\">n</a></td><td class=\"diff_header\" id=\"to28_1\">1</td><td nowrap=\"nowrap\">(define&nbsp;(game&nbsp;614e1599db14d8f3a5c1486a-33<span class=\"diff_add\">-724-nd-15-rd-1-rs-setup-sk-prior5</span>)&nbsp;(:domain&nbsp;many-objects-r</td></tr>\n",
       "            <tr><td class=\"diff_next\"></td><td class=\"diff_header\"></td><td nowrap=\"nowrap\">&nbsp;</td><td class=\"diff_next\"></td><td class=\"diff_header\">></td><td nowrap=\"nowrap\">oom-v1)</td></tr>\n",
       "            <tr><td class=\"diff_next\" id=\"difflib_chg_to28__1\"></td><td class=\"diff_header\" id=\"from28_2\">2</td><td nowrap=\"nowrap\">(:setup</td><td class=\"diff_next\"></td><td class=\"diff_header\" id=\"to28_2\">2</td><td nowrap=\"nowrap\">(:setup</td></tr>\n",
       "            <tr><td class=\"diff_next\"></td><td class=\"diff_header\" id=\"from28_3\">3</td><td nowrap=\"nowrap\">&nbsp;&nbsp;(and</td><td class=\"diff_next\"></td><td class=\"diff_header\" id=\"to28_3\">3</td><td nowrap=\"nowrap\">&nbsp;&nbsp;(and</td></tr>\n",
       "            <tr><td class=\"diff_next\"></td><td class=\"diff_header\" id=\"from28_4\">4</td><td nowrap=\"nowrap\">&nbsp;&nbsp;&nbsp;&nbsp;(forall&nbsp;(?g&nbsp;-&nbsp;game_object)</td><td class=\"diff_next\"></td><td class=\"diff_header\" id=\"to28_4\">4</td><td nowrap=\"nowrap\">&nbsp;&nbsp;&nbsp;&nbsp;(forall&nbsp;(?g&nbsp;-&nbsp;game_object)</td></tr>\n",
       "            <tr><td class=\"diff_next\"></td><td class=\"diff_header\" id=\"from28_5\">5</td><td nowrap=\"nowrap\">&nbsp;&nbsp;&nbsp;&nbsp;&nbsp;&nbsp;(game-optional</td><td class=\"diff_next\"></td><td class=\"diff_header\" id=\"to28_5\">5</td><td nowrap=\"nowrap\">&nbsp;&nbsp;&nbsp;&nbsp;&nbsp;&nbsp;(game-optional</td></tr>\n",
       "            <tr><td class=\"diff_next\"></td><td class=\"diff_header\" id=\"from28_6\">6</td><td nowrap=\"nowrap\">&nbsp;&nbsp;&nbsp;&nbsp;&nbsp;&nbsp;&nbsp;&nbsp;(not</td><td class=\"diff_next\"></td><td class=\"diff_header\" id=\"to28_6\">6</td><td nowrap=\"nowrap\">&nbsp;&nbsp;&nbsp;&nbsp;&nbsp;&nbsp;&nbsp;&nbsp;(not</td></tr>\n",
       "            <tr><td class=\"diff_next\"><a href=\"#difflib_chg_to28__top\">t</a></td><td class=\"diff_header\" id=\"from28_7\">7</td><td nowrap=\"nowrap\">&nbsp;&nbsp;&nbsp;&nbsp;&nbsp;&nbsp;&nbsp;&nbsp;&nbsp;&nbsp;(in&nbsp;<span class=\"diff_sub\">top_</span>d<span class=\"diff_sub\">raw</span>e<span class=\"diff_chg\">r</span>&nbsp;?g)</td><td class=\"diff_next\"><a href=\"#difflib_chg_to28__top\">t</a></td><td class=\"diff_header\" id=\"to28_7\">7</td><td nowrap=\"nowrap\">&nbsp;&nbsp;&nbsp;&nbsp;&nbsp;&nbsp;&nbsp;&nbsp;&nbsp;&nbsp;(in&nbsp;de<span class=\"diff_chg\">sk</span>&nbsp;?g)</td></tr>\n",
       "            <tr><td class=\"diff_next\"></td><td class=\"diff_header\" id=\"from28_8\">8</td><td nowrap=\"nowrap\">&nbsp;&nbsp;&nbsp;&nbsp;&nbsp;&nbsp;&nbsp;&nbsp;)</td><td class=\"diff_next\"></td><td class=\"diff_header\" id=\"to28_8\">8</td><td nowrap=\"nowrap\">&nbsp;&nbsp;&nbsp;&nbsp;&nbsp;&nbsp;&nbsp;&nbsp;)</td></tr>\n",
       "            <tr><td class=\"diff_next\"></td><td class=\"diff_header\" id=\"from28_9\">9</td><td nowrap=\"nowrap\">&nbsp;&nbsp;&nbsp;&nbsp;&nbsp;&nbsp;)</td><td class=\"diff_next\"></td><td class=\"diff_header\" id=\"to28_9\">9</td><td nowrap=\"nowrap\">&nbsp;&nbsp;&nbsp;&nbsp;&nbsp;&nbsp;)</td></tr>\n",
       "            <tr><td class=\"diff_next\"></td><td class=\"diff_header\" id=\"from28_10\">10</td><td nowrap=\"nowrap\">&nbsp;&nbsp;&nbsp;&nbsp;)</td><td class=\"diff_next\"></td><td class=\"diff_header\" id=\"to28_10\">10</td><td nowrap=\"nowrap\">&nbsp;&nbsp;&nbsp;&nbsp;)</td></tr>\n",
       "            <tr><td class=\"diff_next\"></td><td class=\"diff_header\" id=\"from28_11\">11</td><td nowrap=\"nowrap\">&nbsp;&nbsp;)</td><td class=\"diff_next\"></td><td class=\"diff_header\" id=\"to28_11\">11</td><td nowrap=\"nowrap\">&nbsp;&nbsp;)</td></tr>\n",
       "            <tr><td class=\"diff_next\"></td><td class=\"diff_header\" id=\"from28_12\">12</td><td nowrap=\"nowrap\">)</td><td class=\"diff_next\"></td><td class=\"diff_header\" id=\"to28_12\">12</td><td nowrap=\"nowrap\">)</td></tr>\n",
       "            <tr><td class=\"diff_next\"></td><td class=\"diff_header\" id=\"from28_13\">13</td><td nowrap=\"nowrap\">(:constraints</td><td class=\"diff_next\"></td><td class=\"diff_header\" id=\"to28_13\">13</td><td nowrap=\"nowrap\">(:constraints</td></tr>\n",
       "            <tr><td class=\"diff_next\"></td><td class=\"diff_header\" id=\"from28_14\">14</td><td nowrap=\"nowrap\">&nbsp;&nbsp;(and</td><td class=\"diff_next\"></td><td class=\"diff_header\" id=\"to28_14\">14</td><td nowrap=\"nowrap\">&nbsp;&nbsp;(and</td></tr>\n",
       "            <tr><td class=\"diff_next\"></td><td class=\"diff_header\" id=\"from28_15\">15</td><td nowrap=\"nowrap\">&nbsp;&nbsp;&nbsp;&nbsp;(preference&nbsp;itemInClosedDrawerAtEnd</td><td class=\"diff_next\"></td><td class=\"diff_header\" id=\"to28_15\">15</td><td nowrap=\"nowrap\">&nbsp;&nbsp;&nbsp;&nbsp;(preference&nbsp;itemInClosedDrawerAtEnd</td></tr>\n",
       "            <tr><td class=\"diff_next\"></td><td class=\"diff_header\" id=\"from28_16\">16</td><td nowrap=\"nowrap\">&nbsp;&nbsp;&nbsp;&nbsp;&nbsp;&nbsp;(exists&nbsp;(?g&nbsp;-&nbsp;game_object)</td><td class=\"diff_next\"></td><td class=\"diff_header\" id=\"to28_16\">16</td><td nowrap=\"nowrap\">&nbsp;&nbsp;&nbsp;&nbsp;&nbsp;&nbsp;(exists&nbsp;(?g&nbsp;-&nbsp;game_object)</td></tr>\n",
       "            <tr><td class=\"diff_next\"></td><td class=\"diff_header\" id=\"from28_17\">17</td><td nowrap=\"nowrap\">&nbsp;&nbsp;&nbsp;&nbsp;&nbsp;&nbsp;&nbsp;&nbsp;(at-end</td><td class=\"diff_next\"></td><td class=\"diff_header\" id=\"to28_17\">17</td><td nowrap=\"nowrap\">&nbsp;&nbsp;&nbsp;&nbsp;&nbsp;&nbsp;&nbsp;&nbsp;(at-end</td></tr>\n",
       "            <tr><td class=\"diff_next\"></td><td class=\"diff_header\" id=\"from28_18\">18</td><td nowrap=\"nowrap\">&nbsp;&nbsp;&nbsp;&nbsp;&nbsp;&nbsp;&nbsp;&nbsp;&nbsp;&nbsp;(and</td><td class=\"diff_next\"></td><td class=\"diff_header\" id=\"to28_18\">18</td><td nowrap=\"nowrap\">&nbsp;&nbsp;&nbsp;&nbsp;&nbsp;&nbsp;&nbsp;&nbsp;&nbsp;&nbsp;(and</td></tr>\n",
       "            <tr><td class=\"diff_next\"></td><td class=\"diff_header\" id=\"from28_19\">19</td><td nowrap=\"nowrap\">&nbsp;&nbsp;&nbsp;&nbsp;&nbsp;&nbsp;&nbsp;&nbsp;&nbsp;&nbsp;&nbsp;&nbsp;(in&nbsp;top_drawer&nbsp;?g)</td><td class=\"diff_next\"></td><td class=\"diff_header\" id=\"to28_19\">19</td><td nowrap=\"nowrap\">&nbsp;&nbsp;&nbsp;&nbsp;&nbsp;&nbsp;&nbsp;&nbsp;&nbsp;&nbsp;&nbsp;&nbsp;(in&nbsp;top_drawer&nbsp;?g)</td></tr>\n",
       "            <tr><td class=\"diff_next\"></td><td class=\"diff_header\" id=\"from28_20\">20</td><td nowrap=\"nowrap\">&nbsp;&nbsp;&nbsp;&nbsp;&nbsp;&nbsp;&nbsp;&nbsp;&nbsp;&nbsp;&nbsp;&nbsp;(not</td><td class=\"diff_next\"></td><td class=\"diff_header\" id=\"to28_20\">20</td><td nowrap=\"nowrap\">&nbsp;&nbsp;&nbsp;&nbsp;&nbsp;&nbsp;&nbsp;&nbsp;&nbsp;&nbsp;&nbsp;&nbsp;(not</td></tr>\n",
       "            <tr><td class=\"diff_next\"></td><td class=\"diff_header\" id=\"from28_21\">21</td><td nowrap=\"nowrap\">&nbsp;&nbsp;&nbsp;&nbsp;&nbsp;&nbsp;&nbsp;&nbsp;&nbsp;&nbsp;&nbsp;&nbsp;&nbsp;&nbsp;(open&nbsp;top_drawer)</td><td class=\"diff_next\"></td><td class=\"diff_header\" id=\"to28_21\">21</td><td nowrap=\"nowrap\">&nbsp;&nbsp;&nbsp;&nbsp;&nbsp;&nbsp;&nbsp;&nbsp;&nbsp;&nbsp;&nbsp;&nbsp;&nbsp;&nbsp;(open&nbsp;top_drawer)</td></tr>\n",
       "            <tr><td class=\"diff_next\"></td><td class=\"diff_header\" id=\"from28_22\">22</td><td nowrap=\"nowrap\">&nbsp;&nbsp;&nbsp;&nbsp;&nbsp;&nbsp;&nbsp;&nbsp;&nbsp;&nbsp;&nbsp;&nbsp;)</td><td class=\"diff_next\"></td><td class=\"diff_header\" id=\"to28_22\">22</td><td nowrap=\"nowrap\">&nbsp;&nbsp;&nbsp;&nbsp;&nbsp;&nbsp;&nbsp;&nbsp;&nbsp;&nbsp;&nbsp;&nbsp;)</td></tr>\n",
       "            <tr><td class=\"diff_next\"></td><td class=\"diff_header\" id=\"from28_23\">23</td><td nowrap=\"nowrap\">&nbsp;&nbsp;&nbsp;&nbsp;&nbsp;&nbsp;&nbsp;&nbsp;&nbsp;&nbsp;)</td><td class=\"diff_next\"></td><td class=\"diff_header\" id=\"to28_23\">23</td><td nowrap=\"nowrap\">&nbsp;&nbsp;&nbsp;&nbsp;&nbsp;&nbsp;&nbsp;&nbsp;&nbsp;&nbsp;)</td></tr>\n",
       "            <tr><td class=\"diff_next\"></td><td class=\"diff_header\" id=\"from28_24\">24</td><td nowrap=\"nowrap\">&nbsp;&nbsp;&nbsp;&nbsp;&nbsp;&nbsp;&nbsp;&nbsp;)</td><td class=\"diff_next\"></td><td class=\"diff_header\" id=\"to28_24\">24</td><td nowrap=\"nowrap\">&nbsp;&nbsp;&nbsp;&nbsp;&nbsp;&nbsp;&nbsp;&nbsp;)</td></tr>\n",
       "            <tr><td class=\"diff_next\"></td><td class=\"diff_header\" id=\"from28_25\">25</td><td nowrap=\"nowrap\">&nbsp;&nbsp;&nbsp;&nbsp;&nbsp;&nbsp;)</td><td class=\"diff_next\"></td><td class=\"diff_header\" id=\"to28_25\">25</td><td nowrap=\"nowrap\">&nbsp;&nbsp;&nbsp;&nbsp;&nbsp;&nbsp;)</td></tr>\n",
       "            <tr><td class=\"diff_next\"></td><td class=\"diff_header\" id=\"from28_26\">26</td><td nowrap=\"nowrap\">&nbsp;&nbsp;&nbsp;&nbsp;)</td><td class=\"diff_next\"></td><td class=\"diff_header\" id=\"to28_26\">26</td><td nowrap=\"nowrap\">&nbsp;&nbsp;&nbsp;&nbsp;)</td></tr>\n",
       "            <tr><td class=\"diff_next\"></td><td class=\"diff_header\" id=\"from28_27\">27</td><td nowrap=\"nowrap\">&nbsp;&nbsp;)</td><td class=\"diff_next\"></td><td class=\"diff_header\" id=\"to28_27\">27</td><td nowrap=\"nowrap\">&nbsp;&nbsp;)</td></tr>\n",
       "            <tr><td class=\"diff_next\"></td><td class=\"diff_header\" id=\"from28_28\">28</td><td nowrap=\"nowrap\">)</td><td class=\"diff_next\"></td><td class=\"diff_header\" id=\"to28_28\">28</td><td nowrap=\"nowrap\">)</td></tr>\n",
       "            <tr><td class=\"diff_next\"></td><td class=\"diff_header\" id=\"from28_29\">29</td><td nowrap=\"nowrap\">(:scoring</td><td class=\"diff_next\"></td><td class=\"diff_header\" id=\"to28_29\">29</td><td nowrap=\"nowrap\">(:scoring</td></tr>\n",
       "            <tr><td class=\"diff_next\"></td><td class=\"diff_header\" id=\"from28_30\">30</td><td nowrap=\"nowrap\">&nbsp;&nbsp;(count-once-per-objects&nbsp;itemInClosedDrawerAtEnd)</td><td class=\"diff_next\"></td><td class=\"diff_header\" id=\"to28_30\">30</td><td nowrap=\"nowrap\">&nbsp;&nbsp;(count-once-per-objects&nbsp;itemInClosedDrawerAtEnd)</td></tr>\n",
       "            <tr><td class=\"diff_next\"></td><td class=\"diff_header\" id=\"from28_31\">31</td><td nowrap=\"nowrap\">)</td><td class=\"diff_next\"></td><td class=\"diff_header\" id=\"to28_31\">31</td><td nowrap=\"nowrap\">)</td></tr>\n",
       "            <tr><td class=\"diff_next\"></td><td class=\"diff_header\" id=\"from28_32\">32</td><td nowrap=\"nowrap\">)</td><td class=\"diff_next\"></td><td class=\"diff_header\" id=\"to28_32\">32</td><td nowrap=\"nowrap\">)</td></tr>\n",
       "        </tbody>\n",
       "    </table>\n",
       "    <table class=\"diff\" summary=\"Legends\">\n",
       "        <tr> <th colspan=\"2\"> Legends </th> </tr>\n",
       "        <tr> <td> <table border=\"\" summary=\"Colors\">\n",
       "                      <tr><th> Colors </th> </tr>\n",
       "                      <tr><td class=\"diff_add\">&nbsp;Added&nbsp;</td></tr>\n",
       "                      <tr><td class=\"diff_chg\">Changed</td> </tr>\n",
       "                      <tr><td class=\"diff_sub\">Deleted</td> </tr>\n",
       "                  </table></td>\n",
       "             <td> <table border=\"\" summary=\"Links\">\n",
       "                      <tr><th colspan=\"2\"> Links </th> </tr>\n",
       "                      <tr><td>(f)irst change</td> </tr>\n",
       "                      <tr><td>(n)ext change</td> </tr>\n",
       "                      <tr><td>(t)op</td> </tr>\n",
       "                  </table></td> </tr>\n",
       "    </table>\n",
       "</body>\n",
       "\n",
       "</html>"
      ],
      "text/plain": [
       "<IPython.core.display.HTML object>"
      ]
     },
     "metadata": {},
     "output_type": "display_data"
    },
    {
     "data": {
      "text/markdown": [
       "---"
      ],
      "text/plain": [
       "<IPython.core.display.Markdown object>"
      ]
     },
     "metadata": {},
     "output_type": "display_data"
    },
    {
     "name": "stdout",
     "output_type": "stream",
     "text": [
      "Original game index: 26 | Negative game row: 26 | Negative game col: 28\n"
     ]
    },
    {
     "data": {
      "text/markdown": [
       "### Energy of real game: -26.058 | Energy of regrown game: -27.603 | Difference: -1.546"
      ],
      "text/plain": [
       "<IPython.core.display.Markdown object>"
      ]
     },
     "metadata": {},
     "output_type": "display_data"
    },
    {
     "data": {
      "text/markdown": [
       "### Top features changing the game's energy\n",
       "feature name: **value** = (original feature value => regrown feature value) * weight"
      ],
      "text/plain": [
       "<IPython.core.display.Markdown object>"
      ]
     },
     "metadata": {},
     "output_type": "display_data"
    },
    {
     "data": {
      "text/markdown": [
       "| Features increasing energy (= more fake)                                           | Features decreasing energy (= more real)                                |\n",
       "|------------------------------------------------------------------------------------|-------------------------------------------------------------------------|\n",
       "| agent_holds_arg_types_any_object_constraints: **0.445** = (0.000 => 1.000) * 0.445 | ast_ngram_constraints_n_7_score: **-1.343** = (0.548 => 0.736) * -7.147 |\n",
       "|                                                                                    | ast_ngram_full_n_7_score: **-0.648** = (0.580 => 0.651) * -9.074        |"
      ],
      "text/plain": [
       "<IPython.core.display.Markdown object>"
      ]
     },
     "metadata": {},
     "output_type": "display_data"
    },
    {
     "data": {
      "text/markdown": [
       "### Game Diffs"
      ],
      "text/plain": [
       "<IPython.core.display.Markdown object>"
      ]
     },
     "metadata": {},
     "output_type": "display_data"
    },
    {
     "data": {
      "text/html": [
       "\n",
       "<!DOCTYPE html PUBLIC \"-//W3C//DTD XHTML 1.0 Transitional//EN\"\n",
       "          \"http://www.w3.org/TR/xhtml1/DTD/xhtml1-transitional.dtd\">\n",
       "\n",
       "<html>\n",
       "\n",
       "<head>\n",
       "    <meta http-equiv=\"Content-Type\"\n",
       "          content=\"text/html; charset=utf-8\" />\n",
       "    <title></title>\n",
       "    <style type=\"text/css\">\n",
       "        table.diff {font-family:Courier; border:medium;}\n",
       "        .diff_header {background-color:#e0e0e0}\n",
       "        .diff td {text-align: left !important}\n",
       ".diff th {text-align: center!important }\n",
       ".diff td.diff_header {text-align:right !important}\n",
       "        .diff_next {background-color:#c0c0c0}\n",
       "        .diff_add {background-color: #6fa66f !important; font-weight: bold !important}\n",
       "        .diff_chg {background-color: #999949 !important; font-weight: bold !important}\n",
       "        .diff_sub {background-color: #a66f6f !important; font-weight: bold !important}\n",
       "    </style>\n",
       "</head>\n",
       "\n",
       "<body>\n",
       "    \n",
       "    <table class=\"diff\" id=\"difflib_chg_to29__top\"\n",
       "           cellspacing=\"0\" cellpadding=\"0\" rules=\"groups\" >\n",
       "        <colgroup></colgroup> <colgroup></colgroup> <colgroup></colgroup>\n",
       "        <colgroup></colgroup> <colgroup></colgroup> <colgroup></colgroup>\n",
       "        \n",
       "        <tbody>\n",
       "            <tr><td class=\"diff_next\" id=\"difflib_chg_to29__0\"><a href=\"#difflib_chg_to29__1\">n</a></td><td class=\"diff_header\" id=\"from29_1\">1</td><td nowrap=\"nowrap\">(define&nbsp;(game&nbsp;614e1599db14d8f3a5c1486a-33)&nbsp;(:domain&nbsp;many-objects-room-v1)</td><td class=\"diff_next\"><a href=\"#difflib_chg_to29__1\">n</a></td><td class=\"diff_header\" id=\"to29_1\">1</td><td nowrap=\"nowrap\">(define&nbsp;(game&nbsp;614e1599db14d8f3a5c1486a-33<span class=\"diff_add\">-28-nd-12-rd-6-rs-constraints-sk-prior5</span>)&nbsp;(:domain&nbsp;many-obje</td></tr>\n",
       "            <tr><td class=\"diff_next\"></td><td class=\"diff_header\"></td><td nowrap=\"nowrap\">&nbsp;</td><td class=\"diff_next\"></td><td class=\"diff_header\">></td><td nowrap=\"nowrap\">cts-room-v1)</td></tr>\n",
       "            <tr><td class=\"diff_next\"></td><td class=\"diff_header\" id=\"from29_2\">2</td><td nowrap=\"nowrap\">(:setup</td><td class=\"diff_next\"></td><td class=\"diff_header\" id=\"to29_2\">2</td><td nowrap=\"nowrap\">(:setup</td></tr>\n",
       "            <tr><td class=\"diff_next\"></td><td class=\"diff_header\" id=\"from29_3\">3</td><td nowrap=\"nowrap\">&nbsp;&nbsp;(and</td><td class=\"diff_next\"></td><td class=\"diff_header\" id=\"to29_3\">3</td><td nowrap=\"nowrap\">&nbsp;&nbsp;(and</td></tr>\n",
       "            <tr><td class=\"diff_next\"></td><td class=\"diff_header\" id=\"from29_4\">4</td><td nowrap=\"nowrap\">&nbsp;&nbsp;&nbsp;&nbsp;(forall&nbsp;(?g&nbsp;-&nbsp;game_object)</td><td class=\"diff_next\"></td><td class=\"diff_header\" id=\"to29_4\">4</td><td nowrap=\"nowrap\">&nbsp;&nbsp;&nbsp;&nbsp;(forall&nbsp;(?g&nbsp;-&nbsp;game_object)</td></tr>\n",
       "            <tr><td class=\"diff_next\"></td><td class=\"diff_header\" id=\"from29_5\">5</td><td nowrap=\"nowrap\">&nbsp;&nbsp;&nbsp;&nbsp;&nbsp;&nbsp;(game-optional</td><td class=\"diff_next\"></td><td class=\"diff_header\" id=\"to29_5\">5</td><td nowrap=\"nowrap\">&nbsp;&nbsp;&nbsp;&nbsp;&nbsp;&nbsp;(game-optional</td></tr>\n",
       "            <tr><td class=\"diff_next\"></td><td class=\"diff_header\" id=\"from29_6\">6</td><td nowrap=\"nowrap\">&nbsp;&nbsp;&nbsp;&nbsp;&nbsp;&nbsp;&nbsp;&nbsp;(not</td><td class=\"diff_next\"></td><td class=\"diff_header\" id=\"to29_6\">6</td><td nowrap=\"nowrap\">&nbsp;&nbsp;&nbsp;&nbsp;&nbsp;&nbsp;&nbsp;&nbsp;(not</td></tr>\n",
       "            <tr><td class=\"diff_next\"></td><td class=\"diff_header\" id=\"from29_7\">7</td><td nowrap=\"nowrap\">&nbsp;&nbsp;&nbsp;&nbsp;&nbsp;&nbsp;&nbsp;&nbsp;&nbsp;&nbsp;(in&nbsp;top_drawer&nbsp;?g)</td><td class=\"diff_next\"></td><td class=\"diff_header\" id=\"to29_7\">7</td><td nowrap=\"nowrap\">&nbsp;&nbsp;&nbsp;&nbsp;&nbsp;&nbsp;&nbsp;&nbsp;&nbsp;&nbsp;(in&nbsp;top_drawer&nbsp;?g)</td></tr>\n",
       "            <tr><td class=\"diff_next\"></td><td class=\"diff_header\" id=\"from29_8\">8</td><td nowrap=\"nowrap\">&nbsp;&nbsp;&nbsp;&nbsp;&nbsp;&nbsp;&nbsp;&nbsp;)</td><td class=\"diff_next\"></td><td class=\"diff_header\" id=\"to29_8\">8</td><td nowrap=\"nowrap\">&nbsp;&nbsp;&nbsp;&nbsp;&nbsp;&nbsp;&nbsp;&nbsp;)</td></tr>\n",
       "            <tr><td class=\"diff_next\"></td><td class=\"diff_header\" id=\"from29_9\">9</td><td nowrap=\"nowrap\">&nbsp;&nbsp;&nbsp;&nbsp;&nbsp;&nbsp;)</td><td class=\"diff_next\"></td><td class=\"diff_header\" id=\"to29_9\">9</td><td nowrap=\"nowrap\">&nbsp;&nbsp;&nbsp;&nbsp;&nbsp;&nbsp;)</td></tr>\n",
       "            <tr><td class=\"diff_next\"></td><td class=\"diff_header\" id=\"from29_10\">10</td><td nowrap=\"nowrap\">&nbsp;&nbsp;&nbsp;&nbsp;)</td><td class=\"diff_next\"></td><td class=\"diff_header\" id=\"to29_10\">10</td><td nowrap=\"nowrap\">&nbsp;&nbsp;&nbsp;&nbsp;)</td></tr>\n",
       "            <tr><td class=\"diff_next\"></td><td class=\"diff_header\" id=\"from29_11\">11</td><td nowrap=\"nowrap\">&nbsp;&nbsp;)</td><td class=\"diff_next\"></td><td class=\"diff_header\" id=\"to29_11\">11</td><td nowrap=\"nowrap\">&nbsp;&nbsp;)</td></tr>\n",
       "            <tr><td class=\"diff_next\"></td><td class=\"diff_header\" id=\"from29_12\">12</td><td nowrap=\"nowrap\">)</td><td class=\"diff_next\"></td><td class=\"diff_header\" id=\"to29_12\">12</td><td nowrap=\"nowrap\">)</td></tr>\n",
       "            <tr><td class=\"diff_next\"></td><td class=\"diff_header\" id=\"from29_13\">13</td><td nowrap=\"nowrap\">(:constraints</td><td class=\"diff_next\"></td><td class=\"diff_header\" id=\"to29_13\">13</td><td nowrap=\"nowrap\">(:constraints</td></tr>\n",
       "            <tr><td class=\"diff_next\"></td><td class=\"diff_header\" id=\"from29_14\">14</td><td nowrap=\"nowrap\">&nbsp;&nbsp;(and</td><td class=\"diff_next\"></td><td class=\"diff_header\" id=\"to29_14\">14</td><td nowrap=\"nowrap\">&nbsp;&nbsp;(and</td></tr>\n",
       "            <tr><td class=\"diff_next\" id=\"difflib_chg_to29__1\"></td><td class=\"diff_header\" id=\"from29_15\">15</td><td nowrap=\"nowrap\">&nbsp;&nbsp;&nbsp;&nbsp;(preference&nbsp;itemInClosedDrawerAtEnd</td><td class=\"diff_next\"></td><td class=\"diff_header\" id=\"to29_15\">15</td><td nowrap=\"nowrap\">&nbsp;&nbsp;&nbsp;&nbsp;(preference&nbsp;itemInClosedDrawerAtEnd</td></tr>\n",
       "            <tr><td class=\"diff_next\"></td><td class=\"diff_header\" id=\"from29_16\">16</td><td nowrap=\"nowrap\">&nbsp;&nbsp;&nbsp;&nbsp;&nbsp;&nbsp;(exists&nbsp;(?g&nbsp;-&nbsp;game_object)</td><td class=\"diff_next\"></td><td class=\"diff_header\" id=\"to29_16\">16</td><td nowrap=\"nowrap\">&nbsp;&nbsp;&nbsp;&nbsp;&nbsp;&nbsp;(exists&nbsp;(?g&nbsp;-&nbsp;game_object)</td></tr>\n",
       "            <tr><td class=\"diff_next\"></td><td class=\"diff_header\" id=\"from29_17\">17</td><td nowrap=\"nowrap\">&nbsp;&nbsp;&nbsp;&nbsp;&nbsp;&nbsp;&nbsp;&nbsp;(at-end</td><td class=\"diff_next\"></td><td class=\"diff_header\" id=\"to29_17\">17</td><td nowrap=\"nowrap\">&nbsp;&nbsp;&nbsp;&nbsp;&nbsp;&nbsp;&nbsp;&nbsp;(at-end</td></tr>\n",
       "            <tr><td class=\"diff_next\"></td><td class=\"diff_header\" id=\"from29_18\">18</td><td nowrap=\"nowrap\">&nbsp;&nbsp;&nbsp;&nbsp;&nbsp;&nbsp;&nbsp;&nbsp;&nbsp;&nbsp;(and</td><td class=\"diff_next\"></td><td class=\"diff_header\" id=\"to29_18\">18</td><td nowrap=\"nowrap\">&nbsp;&nbsp;&nbsp;&nbsp;&nbsp;&nbsp;&nbsp;&nbsp;&nbsp;&nbsp;(and</td></tr>\n",
       "            <tr><td class=\"diff_next\"></td><td class=\"diff_header\" id=\"from29_19\">19</td><td nowrap=\"nowrap\">&nbsp;&nbsp;&nbsp;&nbsp;&nbsp;&nbsp;&nbsp;&nbsp;&nbsp;&nbsp;&nbsp;&nbsp;(in&nbsp;top_drawer&nbsp;?g)</td><td class=\"diff_next\"></td><td class=\"diff_header\" id=\"to29_19\">19</td><td nowrap=\"nowrap\">&nbsp;&nbsp;&nbsp;&nbsp;&nbsp;&nbsp;&nbsp;&nbsp;&nbsp;&nbsp;&nbsp;&nbsp;(in&nbsp;top_drawer&nbsp;?g)</td></tr>\n",
       "            <tr><td class=\"diff_next\"><a href=\"#difflib_chg_to29__top\">t</a></td><td class=\"diff_header\" id=\"from29_20\">20</td><td nowrap=\"nowrap\"><span class=\"diff_sub\">&nbsp;&nbsp;&nbsp;&nbsp;&nbsp;&nbsp;&nbsp;&nbsp;&nbsp;&nbsp;&nbsp;&nbsp;(not</span></td><td class=\"diff_next\"><a href=\"#difflib_chg_to29__top\">t</a></td><td class=\"diff_header\" id=\"to29_20\">20</td><td nowrap=\"nowrap\"><span class=\"diff_add\">&nbsp;&nbsp;&nbsp;&nbsp;&nbsp;&nbsp;&nbsp;&nbsp;&nbsp;&nbsp;&nbsp;&nbsp;(agent_holds&nbsp;?g)</span></td></tr>\n",
       "            <tr><td class=\"diff_next\"></td><td class=\"diff_header\" id=\"from29_21\">21</td><td nowrap=\"nowrap\"><span class=\"diff_sub\">&nbsp;&nbsp;&nbsp;&nbsp;&nbsp;&nbsp;&nbsp;&nbsp;&nbsp;&nbsp;&nbsp;&nbsp;&nbsp;&nbsp;(open&nbsp;top_drawer)</span></td><td class=\"diff_next\"></td><td class=\"diff_header\"></td><td nowrap=\"nowrap\"></td></tr>\n",
       "            <tr><td class=\"diff_next\"></td><td class=\"diff_header\" id=\"from29_22\">22</td><td nowrap=\"nowrap\"><span class=\"diff_sub\">&nbsp;&nbsp;&nbsp;&nbsp;&nbsp;&nbsp;&nbsp;&nbsp;&nbsp;&nbsp;&nbsp;&nbsp;)</span></td><td class=\"diff_next\"></td><td class=\"diff_header\"></td><td nowrap=\"nowrap\"></td></tr>\n",
       "            <tr><td class=\"diff_next\"></td><td class=\"diff_header\" id=\"from29_23\">23</td><td nowrap=\"nowrap\">&nbsp;&nbsp;&nbsp;&nbsp;&nbsp;&nbsp;&nbsp;&nbsp;&nbsp;&nbsp;)</td><td class=\"diff_next\"></td><td class=\"diff_header\" id=\"to29_21\">21</td><td nowrap=\"nowrap\">&nbsp;&nbsp;&nbsp;&nbsp;&nbsp;&nbsp;&nbsp;&nbsp;&nbsp;&nbsp;)</td></tr>\n",
       "            <tr><td class=\"diff_next\"></td><td class=\"diff_header\" id=\"from29_24\">24</td><td nowrap=\"nowrap\">&nbsp;&nbsp;&nbsp;&nbsp;&nbsp;&nbsp;&nbsp;&nbsp;)</td><td class=\"diff_next\"></td><td class=\"diff_header\" id=\"to29_22\">22</td><td nowrap=\"nowrap\">&nbsp;&nbsp;&nbsp;&nbsp;&nbsp;&nbsp;&nbsp;&nbsp;)</td></tr>\n",
       "            <tr><td class=\"diff_next\"></td><td class=\"diff_header\" id=\"from29_25\">25</td><td nowrap=\"nowrap\">&nbsp;&nbsp;&nbsp;&nbsp;&nbsp;&nbsp;)</td><td class=\"diff_next\"></td><td class=\"diff_header\" id=\"to29_23\">23</td><td nowrap=\"nowrap\">&nbsp;&nbsp;&nbsp;&nbsp;&nbsp;&nbsp;)</td></tr>\n",
       "            <tr><td class=\"diff_next\"></td><td class=\"diff_header\" id=\"from29_26\">26</td><td nowrap=\"nowrap\">&nbsp;&nbsp;&nbsp;&nbsp;)</td><td class=\"diff_next\"></td><td class=\"diff_header\" id=\"to29_24\">24</td><td nowrap=\"nowrap\">&nbsp;&nbsp;&nbsp;&nbsp;)</td></tr>\n",
       "            <tr><td class=\"diff_next\"></td><td class=\"diff_header\" id=\"from29_27\">27</td><td nowrap=\"nowrap\">&nbsp;&nbsp;)</td><td class=\"diff_next\"></td><td class=\"diff_header\" id=\"to29_25\">25</td><td nowrap=\"nowrap\">&nbsp;&nbsp;)</td></tr>\n",
       "            <tr><td class=\"diff_next\"></td><td class=\"diff_header\" id=\"from29_28\">28</td><td nowrap=\"nowrap\">)</td><td class=\"diff_next\"></td><td class=\"diff_header\" id=\"to29_26\">26</td><td nowrap=\"nowrap\">)</td></tr>\n",
       "            <tr><td class=\"diff_next\"></td><td class=\"diff_header\" id=\"from29_29\">29</td><td nowrap=\"nowrap\">(:scoring</td><td class=\"diff_next\"></td><td class=\"diff_header\" id=\"to29_27\">27</td><td nowrap=\"nowrap\">(:scoring</td></tr>\n",
       "            <tr><td class=\"diff_next\"></td><td class=\"diff_header\" id=\"from29_30\">30</td><td nowrap=\"nowrap\">&nbsp;&nbsp;(count-once-per-objects&nbsp;itemInClosedDrawerAtEnd)</td><td class=\"diff_next\"></td><td class=\"diff_header\" id=\"to29_28\">28</td><td nowrap=\"nowrap\">&nbsp;&nbsp;(count-once-per-objects&nbsp;itemInClosedDrawerAtEnd)</td></tr>\n",
       "            <tr><td class=\"diff_next\"></td><td class=\"diff_header\" id=\"from29_31\">31</td><td nowrap=\"nowrap\">)</td><td class=\"diff_next\"></td><td class=\"diff_header\" id=\"to29_29\">29</td><td nowrap=\"nowrap\">)</td></tr>\n",
       "            <tr><td class=\"diff_next\"></td><td class=\"diff_header\" id=\"from29_32\">32</td><td nowrap=\"nowrap\">)</td><td class=\"diff_next\"></td><td class=\"diff_header\" id=\"to29_30\">30</td><td nowrap=\"nowrap\">)</td></tr>\n",
       "        </tbody>\n",
       "    </table>\n",
       "    <table class=\"diff\" summary=\"Legends\">\n",
       "        <tr> <th colspan=\"2\"> Legends </th> </tr>\n",
       "        <tr> <td> <table border=\"\" summary=\"Colors\">\n",
       "                      <tr><th> Colors </th> </tr>\n",
       "                      <tr><td class=\"diff_add\">&nbsp;Added&nbsp;</td></tr>\n",
       "                      <tr><td class=\"diff_chg\">Changed</td> </tr>\n",
       "                      <tr><td class=\"diff_sub\">Deleted</td> </tr>\n",
       "                  </table></td>\n",
       "             <td> <table border=\"\" summary=\"Links\">\n",
       "                      <tr><th colspan=\"2\"> Links </th> </tr>\n",
       "                      <tr><td>(f)irst change</td> </tr>\n",
       "                      <tr><td>(n)ext change</td> </tr>\n",
       "                      <tr><td>(t)op</td> </tr>\n",
       "                  </table></td> </tr>\n",
       "    </table>\n",
       "</body>\n",
       "\n",
       "</html>"
      ],
      "text/plain": [
       "<IPython.core.display.HTML object>"
      ]
     },
     "metadata": {},
     "output_type": "display_data"
    },
    {
     "data": {
      "text/markdown": [
       "---"
      ],
      "text/plain": [
       "<IPython.core.display.Markdown object>"
      ]
     },
     "metadata": {},
     "output_type": "display_data"
    },
    {
     "name": "stdout",
     "output_type": "stream",
     "text": [
      "Original game index: 26 | Negative game row: 26 | Negative game col: 499\n"
     ]
    },
    {
     "data": {
      "text/markdown": [
       "### Energy of real game: -26.058 | Energy of regrown game: -27.504 | Difference: -1.446"
      ],
      "text/plain": [
       "<IPython.core.display.Markdown object>"
      ]
     },
     "metadata": {},
     "output_type": "display_data"
    },
    {
     "data": {
      "text/markdown": [
       "### Top features changing the game's energy\n",
       "feature name: **value** = (original feature value => regrown feature value) * weight"
      ],
      "text/plain": [
       "<IPython.core.display.Markdown object>"
      ]
     },
     "metadata": {},
     "output_type": "display_data"
    },
    {
     "data": {
      "text/markdown": [
       "| Features increasing energy (= more fake)                                                      | Features decreasing energy (= more real)                                |\n",
       "|-----------------------------------------------------------------------------------------------|-------------------------------------------------------------------------|\n",
       "| in_arg_types_receptacles_any_object_constraints: **0.502** = (1.000 => 0.000) * -0.502        | ast_ngram_constraints_n_7_score: **-1.883** = (0.548 => 0.811) * -7.147 |\n",
       "| setup_objects_used: **0.310** = (1.000 => 0.500) * -0.620                                     | ast_ngram_full_n_7_score: **-0.639** = (0.580 => 0.650) * -9.074        |\n",
       "| distance_arg_types_any_object_room_features_constraints: **0.263** = (0.000 => 1.000) * 0.263 |                                                                         |"
      ],
      "text/plain": [
       "<IPython.core.display.Markdown object>"
      ]
     },
     "metadata": {},
     "output_type": "display_data"
    },
    {
     "data": {
      "text/markdown": [
       "### Game Diffs"
      ],
      "text/plain": [
       "<IPython.core.display.Markdown object>"
      ]
     },
     "metadata": {},
     "output_type": "display_data"
    },
    {
     "data": {
      "text/html": [
       "\n",
       "<!DOCTYPE html PUBLIC \"-//W3C//DTD XHTML 1.0 Transitional//EN\"\n",
       "          \"http://www.w3.org/TR/xhtml1/DTD/xhtml1-transitional.dtd\">\n",
       "\n",
       "<html>\n",
       "\n",
       "<head>\n",
       "    <meta http-equiv=\"Content-Type\"\n",
       "          content=\"text/html; charset=utf-8\" />\n",
       "    <title></title>\n",
       "    <style type=\"text/css\">\n",
       "        table.diff {font-family:Courier; border:medium;}\n",
       "        .diff_header {background-color:#e0e0e0}\n",
       "        .diff td {text-align: left !important}\n",
       ".diff th {text-align: center!important }\n",
       ".diff td.diff_header {text-align:right !important}\n",
       "        .diff_next {background-color:#c0c0c0}\n",
       "        .diff_add {background-color: #6fa66f !important; font-weight: bold !important}\n",
       "        .diff_chg {background-color: #999949 !important; font-weight: bold !important}\n",
       "        .diff_sub {background-color: #a66f6f !important; font-weight: bold !important}\n",
       "    </style>\n",
       "</head>\n",
       "\n",
       "<body>\n",
       "    \n",
       "    <table class=\"diff\" id=\"difflib_chg_to30__top\"\n",
       "           cellspacing=\"0\" cellpadding=\"0\" rules=\"groups\" >\n",
       "        <colgroup></colgroup> <colgroup></colgroup> <colgroup></colgroup>\n",
       "        <colgroup></colgroup> <colgroup></colgroup> <colgroup></colgroup>\n",
       "        \n",
       "        <tbody>\n",
       "            <tr><td class=\"diff_next\" id=\"difflib_chg_to30__0\"><a href=\"#difflib_chg_to30__1\">n</a></td><td class=\"diff_header\" id=\"from30_1\">1</td><td nowrap=\"nowrap\">(define&nbsp;(game&nbsp;614e1599db14d8f3a5c1486a-33)&nbsp;(:domain&nbsp;many-objects-room-v1)</td><td class=\"diff_next\"><a href=\"#difflib_chg_to30__1\">n</a></td><td class=\"diff_header\" id=\"to30_1\">1</td><td nowrap=\"nowrap\">(define&nbsp;(game&nbsp;614e1599db14d8f3a5c1486a-33<span class=\"diff_add\">-499-nd-8-rd-10-rs-constraints-sk-prior5</span>)&nbsp;(:domain&nbsp;many-obj</td></tr>\n",
       "            <tr><td class=\"diff_next\"></td><td class=\"diff_header\"></td><td nowrap=\"nowrap\">&nbsp;</td><td class=\"diff_next\"></td><td class=\"diff_header\">></td><td nowrap=\"nowrap\">ects-room-v1)</td></tr>\n",
       "            <tr><td class=\"diff_next\"></td><td class=\"diff_header\" id=\"from30_2\">2</td><td nowrap=\"nowrap\">(:setup</td><td class=\"diff_next\"></td><td class=\"diff_header\" id=\"to30_2\">2</td><td nowrap=\"nowrap\">(:setup</td></tr>\n",
       "            <tr><td class=\"diff_next\"></td><td class=\"diff_header\" id=\"from30_3\">3</td><td nowrap=\"nowrap\">&nbsp;&nbsp;(and</td><td class=\"diff_next\"></td><td class=\"diff_header\" id=\"to30_3\">3</td><td nowrap=\"nowrap\">&nbsp;&nbsp;(and</td></tr>\n",
       "            <tr><td class=\"diff_next\"></td><td class=\"diff_header\" id=\"from30_4\">4</td><td nowrap=\"nowrap\">&nbsp;&nbsp;&nbsp;&nbsp;(forall&nbsp;(?g&nbsp;-&nbsp;game_object)</td><td class=\"diff_next\"></td><td class=\"diff_header\" id=\"to30_4\">4</td><td nowrap=\"nowrap\">&nbsp;&nbsp;&nbsp;&nbsp;(forall&nbsp;(?g&nbsp;-&nbsp;game_object)</td></tr>\n",
       "            <tr><td class=\"diff_next\"></td><td class=\"diff_header\" id=\"from30_5\">5</td><td nowrap=\"nowrap\">&nbsp;&nbsp;&nbsp;&nbsp;&nbsp;&nbsp;(game-optional</td><td class=\"diff_next\"></td><td class=\"diff_header\" id=\"to30_5\">5</td><td nowrap=\"nowrap\">&nbsp;&nbsp;&nbsp;&nbsp;&nbsp;&nbsp;(game-optional</td></tr>\n",
       "            <tr><td class=\"diff_next\"></td><td class=\"diff_header\" id=\"from30_6\">6</td><td nowrap=\"nowrap\">&nbsp;&nbsp;&nbsp;&nbsp;&nbsp;&nbsp;&nbsp;&nbsp;(not</td><td class=\"diff_next\"></td><td class=\"diff_header\" id=\"to30_6\">6</td><td nowrap=\"nowrap\">&nbsp;&nbsp;&nbsp;&nbsp;&nbsp;&nbsp;&nbsp;&nbsp;(not</td></tr>\n",
       "            <tr><td class=\"diff_next\"></td><td class=\"diff_header\" id=\"from30_7\">7</td><td nowrap=\"nowrap\">&nbsp;&nbsp;&nbsp;&nbsp;&nbsp;&nbsp;&nbsp;&nbsp;&nbsp;&nbsp;(in&nbsp;top_drawer&nbsp;?g)</td><td class=\"diff_next\"></td><td class=\"diff_header\" id=\"to30_7\">7</td><td nowrap=\"nowrap\">&nbsp;&nbsp;&nbsp;&nbsp;&nbsp;&nbsp;&nbsp;&nbsp;&nbsp;&nbsp;(in&nbsp;top_drawer&nbsp;?g)</td></tr>\n",
       "            <tr><td class=\"diff_next\"></td><td class=\"diff_header\" id=\"from30_8\">8</td><td nowrap=\"nowrap\">&nbsp;&nbsp;&nbsp;&nbsp;&nbsp;&nbsp;&nbsp;&nbsp;)</td><td class=\"diff_next\"></td><td class=\"diff_header\" id=\"to30_8\">8</td><td nowrap=\"nowrap\">&nbsp;&nbsp;&nbsp;&nbsp;&nbsp;&nbsp;&nbsp;&nbsp;)</td></tr>\n",
       "            <tr><td class=\"diff_next\"></td><td class=\"diff_header\" id=\"from30_9\">9</td><td nowrap=\"nowrap\">&nbsp;&nbsp;&nbsp;&nbsp;&nbsp;&nbsp;)</td><td class=\"diff_next\"></td><td class=\"diff_header\" id=\"to30_9\">9</td><td nowrap=\"nowrap\">&nbsp;&nbsp;&nbsp;&nbsp;&nbsp;&nbsp;)</td></tr>\n",
       "            <tr><td class=\"diff_next\"></td><td class=\"diff_header\" id=\"from30_10\">10</td><td nowrap=\"nowrap\">&nbsp;&nbsp;&nbsp;&nbsp;)</td><td class=\"diff_next\"></td><td class=\"diff_header\" id=\"to30_10\">10</td><td nowrap=\"nowrap\">&nbsp;&nbsp;&nbsp;&nbsp;)</td></tr>\n",
       "            <tr><td class=\"diff_next\"></td><td class=\"diff_header\" id=\"from30_11\">11</td><td nowrap=\"nowrap\">&nbsp;&nbsp;)</td><td class=\"diff_next\"></td><td class=\"diff_header\" id=\"to30_11\">11</td><td nowrap=\"nowrap\">&nbsp;&nbsp;)</td></tr>\n",
       "            <tr><td class=\"diff_next\"></td><td class=\"diff_header\" id=\"from30_12\">12</td><td nowrap=\"nowrap\">)</td><td class=\"diff_next\"></td><td class=\"diff_header\" id=\"to30_12\">12</td><td nowrap=\"nowrap\">)</td></tr>\n",
       "            <tr><td class=\"diff_next\" id=\"difflib_chg_to30__1\"></td><td class=\"diff_header\" id=\"from30_13\">13</td><td nowrap=\"nowrap\">(:constraints</td><td class=\"diff_next\"></td><td class=\"diff_header\" id=\"to30_13\">13</td><td nowrap=\"nowrap\">(:constraints</td></tr>\n",
       "            <tr><td class=\"diff_next\"></td><td class=\"diff_header\" id=\"from30_14\">14</td><td nowrap=\"nowrap\">&nbsp;&nbsp;(and</td><td class=\"diff_next\"></td><td class=\"diff_header\" id=\"to30_14\">14</td><td nowrap=\"nowrap\">&nbsp;&nbsp;(and</td></tr>\n",
       "            <tr><td class=\"diff_next\"></td><td class=\"diff_header\" id=\"from30_15\">15</td><td nowrap=\"nowrap\">&nbsp;&nbsp;&nbsp;&nbsp;(preference&nbsp;itemInClosedDrawerAtEnd</td><td class=\"diff_next\"></td><td class=\"diff_header\" id=\"to30_15\">15</td><td nowrap=\"nowrap\">&nbsp;&nbsp;&nbsp;&nbsp;(preference&nbsp;itemInClosedDrawerAtEnd</td></tr>\n",
       "            <tr><td class=\"diff_next\"></td><td class=\"diff_header\" id=\"from30_16\">16</td><td nowrap=\"nowrap\">&nbsp;&nbsp;&nbsp;&nbsp;&nbsp;&nbsp;(exists&nbsp;(?g&nbsp;-&nbsp;game_object)</td><td class=\"diff_next\"></td><td class=\"diff_header\" id=\"to30_16\">16</td><td nowrap=\"nowrap\">&nbsp;&nbsp;&nbsp;&nbsp;&nbsp;&nbsp;(exists&nbsp;(?g&nbsp;-&nbsp;game_object)</td></tr>\n",
       "            <tr><td class=\"diff_next\"></td><td class=\"diff_header\" id=\"from30_17\">17</td><td nowrap=\"nowrap\">&nbsp;&nbsp;&nbsp;&nbsp;&nbsp;&nbsp;&nbsp;&nbsp;(at-end</td><td class=\"diff_next\"></td><td class=\"diff_header\" id=\"to30_17\">17</td><td nowrap=\"nowrap\">&nbsp;&nbsp;&nbsp;&nbsp;&nbsp;&nbsp;&nbsp;&nbsp;(at-end</td></tr>\n",
       "            <tr><td class=\"diff_next\"><a href=\"#difflib_chg_to30__top\">t</a></td><td class=\"diff_header\" id=\"from30_18\">18</td><td nowrap=\"nowrap\"><span class=\"diff_sub\">&nbsp;&nbsp;&nbsp;&nbsp;&nbsp;&nbsp;&nbsp;&nbsp;&nbsp;&nbsp;(and</span></td><td class=\"diff_next\"><a href=\"#difflib_chg_to30__top\">t</a></td><td class=\"diff_header\" id=\"to30_18\">18</td><td nowrap=\"nowrap\"><span class=\"diff_add\">&nbsp;&nbsp;&nbsp;&nbsp;&nbsp;&nbsp;&nbsp;&nbsp;&nbsp;&nbsp;(&lt;&nbsp;(distance&nbsp;door&nbsp;?g)&nbsp;1)</span></td></tr>\n",
       "            <tr><td class=\"diff_next\"></td><td class=\"diff_header\" id=\"from30_19\">19</td><td nowrap=\"nowrap\"><span class=\"diff_sub\">&nbsp;&nbsp;&nbsp;&nbsp;&nbsp;&nbsp;&nbsp;&nbsp;&nbsp;&nbsp;&nbsp;&nbsp;(in&nbsp;top_drawer&nbsp;?g)</span></td><td class=\"diff_next\"></td><td class=\"diff_header\"></td><td nowrap=\"nowrap\"></td></tr>\n",
       "            <tr><td class=\"diff_next\"></td><td class=\"diff_header\" id=\"from30_20\">20</td><td nowrap=\"nowrap\"><span class=\"diff_sub\">&nbsp;&nbsp;&nbsp;&nbsp;&nbsp;&nbsp;&nbsp;&nbsp;&nbsp;&nbsp;&nbsp;&nbsp;(not</span></td><td class=\"diff_next\"></td><td class=\"diff_header\"></td><td nowrap=\"nowrap\"></td></tr>\n",
       "            <tr><td class=\"diff_next\"></td><td class=\"diff_header\" id=\"from30_21\">21</td><td nowrap=\"nowrap\"><span class=\"diff_sub\">&nbsp;&nbsp;&nbsp;&nbsp;&nbsp;&nbsp;&nbsp;&nbsp;&nbsp;&nbsp;&nbsp;&nbsp;&nbsp;&nbsp;(open&nbsp;top_drawer)</span></td><td class=\"diff_next\"></td><td class=\"diff_header\"></td><td nowrap=\"nowrap\"></td></tr>\n",
       "            <tr><td class=\"diff_next\"></td><td class=\"diff_header\" id=\"from30_22\">22</td><td nowrap=\"nowrap\"><span class=\"diff_sub\">&nbsp;&nbsp;&nbsp;&nbsp;&nbsp;&nbsp;&nbsp;&nbsp;&nbsp;&nbsp;&nbsp;&nbsp;)</span></td><td class=\"diff_next\"></td><td class=\"diff_header\"></td><td nowrap=\"nowrap\"></td></tr>\n",
       "            <tr><td class=\"diff_next\"></td><td class=\"diff_header\" id=\"from30_23\">23</td><td nowrap=\"nowrap\"><span class=\"diff_sub\">&nbsp;&nbsp;&nbsp;&nbsp;&nbsp;&nbsp;&nbsp;&nbsp;&nbsp;&nbsp;)</span></td><td class=\"diff_next\"></td><td class=\"diff_header\"></td><td nowrap=\"nowrap\"></td></tr>\n",
       "            <tr><td class=\"diff_next\"></td><td class=\"diff_header\" id=\"from30_24\">24</td><td nowrap=\"nowrap\">&nbsp;&nbsp;&nbsp;&nbsp;&nbsp;&nbsp;&nbsp;&nbsp;)</td><td class=\"diff_next\"></td><td class=\"diff_header\" id=\"to30_19\">19</td><td nowrap=\"nowrap\">&nbsp;&nbsp;&nbsp;&nbsp;&nbsp;&nbsp;&nbsp;&nbsp;)</td></tr>\n",
       "            <tr><td class=\"diff_next\"></td><td class=\"diff_header\" id=\"from30_25\">25</td><td nowrap=\"nowrap\">&nbsp;&nbsp;&nbsp;&nbsp;&nbsp;&nbsp;)</td><td class=\"diff_next\"></td><td class=\"diff_header\" id=\"to30_20\">20</td><td nowrap=\"nowrap\">&nbsp;&nbsp;&nbsp;&nbsp;&nbsp;&nbsp;)</td></tr>\n",
       "            <tr><td class=\"diff_next\"></td><td class=\"diff_header\" id=\"from30_26\">26</td><td nowrap=\"nowrap\">&nbsp;&nbsp;&nbsp;&nbsp;)</td><td class=\"diff_next\"></td><td class=\"diff_header\" id=\"to30_21\">21</td><td nowrap=\"nowrap\">&nbsp;&nbsp;&nbsp;&nbsp;)</td></tr>\n",
       "            <tr><td class=\"diff_next\"></td><td class=\"diff_header\" id=\"from30_27\">27</td><td nowrap=\"nowrap\">&nbsp;&nbsp;)</td><td class=\"diff_next\"></td><td class=\"diff_header\" id=\"to30_22\">22</td><td nowrap=\"nowrap\">&nbsp;&nbsp;)</td></tr>\n",
       "            <tr><td class=\"diff_next\"></td><td class=\"diff_header\" id=\"from30_28\">28</td><td nowrap=\"nowrap\">)</td><td class=\"diff_next\"></td><td class=\"diff_header\" id=\"to30_23\">23</td><td nowrap=\"nowrap\">)</td></tr>\n",
       "            <tr><td class=\"diff_next\"></td><td class=\"diff_header\" id=\"from30_29\">29</td><td nowrap=\"nowrap\">(:scoring</td><td class=\"diff_next\"></td><td class=\"diff_header\" id=\"to30_24\">24</td><td nowrap=\"nowrap\">(:scoring</td></tr>\n",
       "            <tr><td class=\"diff_next\"></td><td class=\"diff_header\" id=\"from30_30\">30</td><td nowrap=\"nowrap\">&nbsp;&nbsp;(count-once-per-objects&nbsp;itemInClosedDrawerAtEnd)</td><td class=\"diff_next\"></td><td class=\"diff_header\" id=\"to30_25\">25</td><td nowrap=\"nowrap\">&nbsp;&nbsp;(count-once-per-objects&nbsp;itemInClosedDrawerAtEnd)</td></tr>\n",
       "            <tr><td class=\"diff_next\"></td><td class=\"diff_header\" id=\"from30_31\">31</td><td nowrap=\"nowrap\">)</td><td class=\"diff_next\"></td><td class=\"diff_header\" id=\"to30_26\">26</td><td nowrap=\"nowrap\">)</td></tr>\n",
       "            <tr><td class=\"diff_next\"></td><td class=\"diff_header\" id=\"from30_32\">32</td><td nowrap=\"nowrap\">)</td><td class=\"diff_next\"></td><td class=\"diff_header\" id=\"to30_27\">27</td><td nowrap=\"nowrap\">)</td></tr>\n",
       "        </tbody>\n",
       "    </table>\n",
       "    <table class=\"diff\" summary=\"Legends\">\n",
       "        <tr> <th colspan=\"2\"> Legends </th> </tr>\n",
       "        <tr> <td> <table border=\"\" summary=\"Colors\">\n",
       "                      <tr><th> Colors </th> </tr>\n",
       "                      <tr><td class=\"diff_add\">&nbsp;Added&nbsp;</td></tr>\n",
       "                      <tr><td class=\"diff_chg\">Changed</td> </tr>\n",
       "                      <tr><td class=\"diff_sub\">Deleted</td> </tr>\n",
       "                  </table></td>\n",
       "             <td> <table border=\"\" summary=\"Links\">\n",
       "                      <tr><th colspan=\"2\"> Links </th> </tr>\n",
       "                      <tr><td>(f)irst change</td> </tr>\n",
       "                      <tr><td>(n)ext change</td> </tr>\n",
       "                      <tr><td>(t)op</td> </tr>\n",
       "                  </table></td> </tr>\n",
       "    </table>\n",
       "</body>\n",
       "\n",
       "</html>"
      ],
      "text/plain": [
       "<IPython.core.display.HTML object>"
      ]
     },
     "metadata": {},
     "output_type": "display_data"
    },
    {
     "data": {
      "text/markdown": [
       "---"
      ],
      "text/plain": [
       "<IPython.core.display.Markdown object>"
      ]
     },
     "metadata": {},
     "output_type": "display_data"
    },
    {
     "name": "stdout",
     "output_type": "stream",
     "text": [
      "Original game index: 63 | Negative game row: 63 | Negative game col: 531\n"
     ]
    },
    {
     "data": {
      "text/markdown": [
       "### Energy of real game: -28.611 | Energy of regrown game: -30.004 | Difference: -1.392"
      ],
      "text/plain": [
       "<IPython.core.display.Markdown object>"
      ]
     },
     "metadata": {},
     "output_type": "display_data"
    },
    {
     "data": {
      "text/markdown": [
       "### Top features changing the game's energy\n",
       "feature name: **value** = (original feature value => regrown feature value) * weight"
      ],
      "text/plain": [
       "<IPython.core.display.Markdown object>"
      ]
     },
     "metadata": {},
     "output_type": "display_data"
    },
    {
     "data": {
      "text/markdown": [
       "| Features increasing energy (= more fake)   | Features decreasing energy (= more real)                                               |\n",
       "|--------------------------------------------|----------------------------------------------------------------------------------------|\n",
       "|                                            | adjacent_arg_types_other_constraints: **-1.382** = (1.000 => 0.000) * 1.382            |\n",
       "|                                            | adjacent_arg_types_agent_furniture_constraints: **-0.011** = (0.000 => 1.000) * -0.011 |"
      ],
      "text/plain": [
       "<IPython.core.display.Markdown object>"
      ]
     },
     "metadata": {},
     "output_type": "display_data"
    },
    {
     "data": {
      "text/markdown": [
       "### Game Diffs"
      ],
      "text/plain": [
       "<IPython.core.display.Markdown object>"
      ]
     },
     "metadata": {},
     "output_type": "display_data"
    },
    {
     "data": {
      "text/html": [
       "\n",
       "<!DOCTYPE html PUBLIC \"-//W3C//DTD XHTML 1.0 Transitional//EN\"\n",
       "          \"http://www.w3.org/TR/xhtml1/DTD/xhtml1-transitional.dtd\">\n",
       "\n",
       "<html>\n",
       "\n",
       "<head>\n",
       "    <meta http-equiv=\"Content-Type\"\n",
       "          content=\"text/html; charset=utf-8\" />\n",
       "    <title></title>\n",
       "    <style type=\"text/css\">\n",
       "        table.diff {font-family:Courier; border:medium;}\n",
       "        .diff_header {background-color:#e0e0e0}\n",
       "        .diff td {text-align: left !important}\n",
       ".diff th {text-align: center!important }\n",
       ".diff td.diff_header {text-align:right !important}\n",
       "        .diff_next {background-color:#c0c0c0}\n",
       "        .diff_add {background-color: #6fa66f !important; font-weight: bold !important}\n",
       "        .diff_chg {background-color: #999949 !important; font-weight: bold !important}\n",
       "        .diff_sub {background-color: #a66f6f !important; font-weight: bold !important}\n",
       "    </style>\n",
       "</head>\n",
       "\n",
       "<body>\n",
       "    \n",
       "    <table class=\"diff\" id=\"difflib_chg_to31__top\"\n",
       "           cellspacing=\"0\" cellpadding=\"0\" rules=\"groups\" >\n",
       "        <colgroup></colgroup> <colgroup></colgroup> <colgroup></colgroup>\n",
       "        <colgroup></colgroup> <colgroup></colgroup> <colgroup></colgroup>\n",
       "        \n",
       "        <tbody>\n",
       "            <tr><td class=\"diff_next\" id=\"difflib_chg_to31__0\"><a href=\"#difflib_chg_to31__1\">n</a></td><td class=\"diff_header\" id=\"from31_1\">1</td><td nowrap=\"nowrap\">(define&nbsp;(game&nbsp;613bd3a683a2ac56a4119aa6-74)&nbsp;(:domain&nbsp;many-objects-room-v1)</td><td class=\"diff_next\"><a href=\"#difflib_chg_to31__1\">n</a></td><td class=\"diff_header\" id=\"to31_1\">1</td><td nowrap=\"nowrap\">(define&nbsp;(game&nbsp;613bd3a683a2ac56a4119aa6-74<span class=\"diff_add\">-531-nd-18-rd-1-rs-constraints-sk-prior5</span>)&nbsp;(:domain&nbsp;many-obj</td></tr>\n",
       "            <tr><td class=\"diff_next\"></td><td class=\"diff_header\"></td><td nowrap=\"nowrap\">&nbsp;</td><td class=\"diff_next\"></td><td class=\"diff_header\">></td><td nowrap=\"nowrap\">ects-room-v1)</td></tr>\n",
       "            <tr><td class=\"diff_next\"></td><td class=\"diff_header\" id=\"from31_2\">2</td><td nowrap=\"nowrap\">(:setup</td><td class=\"diff_next\"></td><td class=\"diff_header\" id=\"to31_2\">2</td><td nowrap=\"nowrap\">(:setup</td></tr>\n",
       "            <tr><td class=\"diff_next\"></td><td class=\"diff_header\" id=\"from31_3\">3</td><td nowrap=\"nowrap\">&nbsp;&nbsp;(and</td><td class=\"diff_next\"></td><td class=\"diff_header\" id=\"to31_3\">3</td><td nowrap=\"nowrap\">&nbsp;&nbsp;(and</td></tr>\n",
       "            <tr><td class=\"diff_next\"></td><td class=\"diff_header\" id=\"from31_4\">4</td><td nowrap=\"nowrap\">&nbsp;&nbsp;&nbsp;&nbsp;(game-conserved</td><td class=\"diff_next\"></td><td class=\"diff_header\" id=\"to31_4\">4</td><td nowrap=\"nowrap\">&nbsp;&nbsp;&nbsp;&nbsp;(game-conserved</td></tr>\n",
       "            <tr><td class=\"diff_next\"></td><td class=\"diff_header\" id=\"from31_5\">5</td><td nowrap=\"nowrap\">&nbsp;&nbsp;&nbsp;&nbsp;&nbsp;&nbsp;(exists&nbsp;(?h&nbsp;-&nbsp;hexagonal_bin&nbsp;?p&nbsp;-&nbsp;pillow)</td><td class=\"diff_next\"></td><td class=\"diff_header\" id=\"to31_5\">5</td><td nowrap=\"nowrap\">&nbsp;&nbsp;&nbsp;&nbsp;&nbsp;&nbsp;(exists&nbsp;(?h&nbsp;-&nbsp;hexagonal_bin&nbsp;?p&nbsp;-&nbsp;pillow)</td></tr>\n",
       "            <tr><td class=\"diff_next\"></td><td class=\"diff_header\" id=\"from31_6\">6</td><td nowrap=\"nowrap\">&nbsp;&nbsp;&nbsp;&nbsp;&nbsp;&nbsp;&nbsp;&nbsp;(&lt;&nbsp;(distance&nbsp;?h&nbsp;?p)&nbsp;3)</td><td class=\"diff_next\"></td><td class=\"diff_header\" id=\"to31_6\">6</td><td nowrap=\"nowrap\">&nbsp;&nbsp;&nbsp;&nbsp;&nbsp;&nbsp;&nbsp;&nbsp;(&lt;&nbsp;(distance&nbsp;?h&nbsp;?p)&nbsp;3)</td></tr>\n",
       "            <tr><td class=\"diff_next\"></td><td class=\"diff_header\" id=\"from31_7\">7</td><td nowrap=\"nowrap\">&nbsp;&nbsp;&nbsp;&nbsp;&nbsp;&nbsp;)</td><td class=\"diff_next\"></td><td class=\"diff_header\" id=\"to31_7\">7</td><td nowrap=\"nowrap\">&nbsp;&nbsp;&nbsp;&nbsp;&nbsp;&nbsp;)</td></tr>\n",
       "            <tr><td class=\"diff_next\"></td><td class=\"diff_header\" id=\"from31_8\">8</td><td nowrap=\"nowrap\">&nbsp;&nbsp;&nbsp;&nbsp;)</td><td class=\"diff_next\"></td><td class=\"diff_header\" id=\"to31_8\">8</td><td nowrap=\"nowrap\">&nbsp;&nbsp;&nbsp;&nbsp;)</td></tr>\n",
       "            <tr><td class=\"diff_next\"></td><td class=\"diff_header\" id=\"from31_9\">9</td><td nowrap=\"nowrap\">&nbsp;&nbsp;)</td><td class=\"diff_next\"></td><td class=\"diff_header\" id=\"to31_9\">9</td><td nowrap=\"nowrap\">&nbsp;&nbsp;)</td></tr>\n",
       "            <tr><td class=\"diff_next\"></td><td class=\"diff_header\" id=\"from31_10\">10</td><td nowrap=\"nowrap\">)</td><td class=\"diff_next\"></td><td class=\"diff_header\" id=\"to31_10\">10</td><td nowrap=\"nowrap\">)</td></tr>\n",
       "            <tr><td class=\"diff_next\" id=\"difflib_chg_to31__1\"></td><td class=\"diff_header\" id=\"from31_11\">11</td><td nowrap=\"nowrap\">(:constraints</td><td class=\"diff_next\"></td><td class=\"diff_header\" id=\"to31_11\">11</td><td nowrap=\"nowrap\">(:constraints</td></tr>\n",
       "            <tr><td class=\"diff_next\"></td><td class=\"diff_header\" id=\"from31_12\">12</td><td nowrap=\"nowrap\">&nbsp;&nbsp;(and</td><td class=\"diff_next\"></td><td class=\"diff_header\" id=\"to31_12\">12</td><td nowrap=\"nowrap\">&nbsp;&nbsp;(and</td></tr>\n",
       "            <tr><td class=\"diff_next\"></td><td class=\"diff_header\" id=\"from31_13\">13</td><td nowrap=\"nowrap\">&nbsp;&nbsp;&nbsp;&nbsp;(preference&nbsp;golfballInBinFromPillow</td><td class=\"diff_next\"></td><td class=\"diff_header\" id=\"to31_13\">13</td><td nowrap=\"nowrap\">&nbsp;&nbsp;&nbsp;&nbsp;(preference&nbsp;golfballInBinFromPillow</td></tr>\n",
       "            <tr><td class=\"diff_next\"></td><td class=\"diff_header\" id=\"from31_14\">14</td><td nowrap=\"nowrap\">&nbsp;&nbsp;&nbsp;&nbsp;&nbsp;&nbsp;(exists&nbsp;(?g&nbsp;-&nbsp;golfball&nbsp;?h&nbsp;-&nbsp;hexagonal_bin&nbsp;?p&nbsp;-&nbsp;pillow)</td><td class=\"diff_next\"></td><td class=\"diff_header\" id=\"to31_14\">14</td><td nowrap=\"nowrap\">&nbsp;&nbsp;&nbsp;&nbsp;&nbsp;&nbsp;(exists&nbsp;(?g&nbsp;-&nbsp;golfball&nbsp;?h&nbsp;-&nbsp;hexagonal_bin&nbsp;?p&nbsp;-&nbsp;pillow)</td></tr>\n",
       "            <tr><td class=\"diff_next\"></td><td class=\"diff_header\" id=\"from31_15\">15</td><td nowrap=\"nowrap\">&nbsp;&nbsp;&nbsp;&nbsp;&nbsp;&nbsp;&nbsp;&nbsp;(then</td><td class=\"diff_next\"></td><td class=\"diff_header\" id=\"to31_15\">15</td><td nowrap=\"nowrap\">&nbsp;&nbsp;&nbsp;&nbsp;&nbsp;&nbsp;&nbsp;&nbsp;(then</td></tr>\n",
       "            <tr><td class=\"diff_next\"><a href=\"#difflib_chg_to31__top\">t</a></td><td class=\"diff_header\" id=\"from31_16\">16</td><td nowrap=\"nowrap\">&nbsp;&nbsp;&nbsp;&nbsp;&nbsp;&nbsp;&nbsp;&nbsp;&nbsp;&nbsp;(once&nbsp;(and&nbsp;(adjacent&nbsp;<span class=\"diff_chg\">?p</span>&nbsp;agent)&nbsp;(agent_holds&nbsp;?g)&nbsp;(is_setup_object&nbsp;?p)&nbsp;)&nbsp;)</td><td class=\"diff_next\"><a href=\"#difflib_chg_to31__top\">t</a></td><td class=\"diff_header\" id=\"to31_16\">16</td><td nowrap=\"nowrap\">&nbsp;&nbsp;&nbsp;&nbsp;&nbsp;&nbsp;&nbsp;&nbsp;&nbsp;&nbsp;(once&nbsp;(and&nbsp;(adjacent&nbsp;<span class=\"diff_chg\">desk</span>&nbsp;agent)&nbsp;(agent_holds&nbsp;?g)&nbsp;(is_setup_object&nbsp;?p)&nbsp;)&nbsp;)</td></tr>\n",
       "            <tr><td class=\"diff_next\"></td><td class=\"diff_header\" id=\"from31_17\">17</td><td nowrap=\"nowrap\">&nbsp;&nbsp;&nbsp;&nbsp;&nbsp;&nbsp;&nbsp;&nbsp;&nbsp;&nbsp;(hold&nbsp;(and&nbsp;(in_motion&nbsp;?g)&nbsp;(not&nbsp;(agent_holds&nbsp;?g)&nbsp;)&nbsp;)&nbsp;)</td><td class=\"diff_next\"></td><td class=\"diff_header\" id=\"to31_17\">17</td><td nowrap=\"nowrap\">&nbsp;&nbsp;&nbsp;&nbsp;&nbsp;&nbsp;&nbsp;&nbsp;&nbsp;&nbsp;(hold&nbsp;(and&nbsp;(in_motion&nbsp;?g)&nbsp;(not&nbsp;(agent_holds&nbsp;?g)&nbsp;)&nbsp;)&nbsp;)</td></tr>\n",
       "            <tr><td class=\"diff_next\"></td><td class=\"diff_header\" id=\"from31_18\">18</td><td nowrap=\"nowrap\">&nbsp;&nbsp;&nbsp;&nbsp;&nbsp;&nbsp;&nbsp;&nbsp;&nbsp;&nbsp;(once&nbsp;(and&nbsp;(not&nbsp;(in_motion&nbsp;?g)&nbsp;)&nbsp;(in&nbsp;?h&nbsp;?g)&nbsp;)&nbsp;)</td><td class=\"diff_next\"></td><td class=\"diff_header\" id=\"to31_18\">18</td><td nowrap=\"nowrap\">&nbsp;&nbsp;&nbsp;&nbsp;&nbsp;&nbsp;&nbsp;&nbsp;&nbsp;&nbsp;(once&nbsp;(and&nbsp;(not&nbsp;(in_motion&nbsp;?g)&nbsp;)&nbsp;(in&nbsp;?h&nbsp;?g)&nbsp;)&nbsp;)</td></tr>\n",
       "            <tr><td class=\"diff_next\"></td><td class=\"diff_header\" id=\"from31_19\">19</td><td nowrap=\"nowrap\">&nbsp;&nbsp;&nbsp;&nbsp;&nbsp;&nbsp;&nbsp;&nbsp;)</td><td class=\"diff_next\"></td><td class=\"diff_header\" id=\"to31_19\">19</td><td nowrap=\"nowrap\">&nbsp;&nbsp;&nbsp;&nbsp;&nbsp;&nbsp;&nbsp;&nbsp;)</td></tr>\n",
       "            <tr><td class=\"diff_next\"></td><td class=\"diff_header\" id=\"from31_20\">20</td><td nowrap=\"nowrap\">&nbsp;&nbsp;&nbsp;&nbsp;&nbsp;&nbsp;)</td><td class=\"diff_next\"></td><td class=\"diff_header\" id=\"to31_20\">20</td><td nowrap=\"nowrap\">&nbsp;&nbsp;&nbsp;&nbsp;&nbsp;&nbsp;)</td></tr>\n",
       "            <tr><td class=\"diff_next\"></td><td class=\"diff_header\" id=\"from31_21\">21</td><td nowrap=\"nowrap\">&nbsp;&nbsp;&nbsp;&nbsp;)</td><td class=\"diff_next\"></td><td class=\"diff_header\" id=\"to31_21\">21</td><td nowrap=\"nowrap\">&nbsp;&nbsp;&nbsp;&nbsp;)</td></tr>\n",
       "            <tr><td class=\"diff_next\"></td><td class=\"diff_header\" id=\"from31_22\">22</td><td nowrap=\"nowrap\">&nbsp;&nbsp;&nbsp;&nbsp;(preference&nbsp;throwAttempt</td><td class=\"diff_next\"></td><td class=\"diff_header\" id=\"to31_22\">22</td><td nowrap=\"nowrap\">&nbsp;&nbsp;&nbsp;&nbsp;(preference&nbsp;throwAttempt</td></tr>\n",
       "            <tr><td class=\"diff_next\"></td><td class=\"diff_header\" id=\"from31_23\">23</td><td nowrap=\"nowrap\">&nbsp;&nbsp;&nbsp;&nbsp;&nbsp;&nbsp;(exists&nbsp;(?g&nbsp;-&nbsp;golfball)</td><td class=\"diff_next\"></td><td class=\"diff_header\" id=\"to31_23\">23</td><td nowrap=\"nowrap\">&nbsp;&nbsp;&nbsp;&nbsp;&nbsp;&nbsp;(exists&nbsp;(?g&nbsp;-&nbsp;golfball)</td></tr>\n",
       "            <tr><td class=\"diff_next\"></td><td class=\"diff_header\" id=\"from31_24\">24</td><td nowrap=\"nowrap\">&nbsp;&nbsp;&nbsp;&nbsp;&nbsp;&nbsp;&nbsp;&nbsp;(then</td><td class=\"diff_next\"></td><td class=\"diff_header\" id=\"to31_24\">24</td><td nowrap=\"nowrap\">&nbsp;&nbsp;&nbsp;&nbsp;&nbsp;&nbsp;&nbsp;&nbsp;(then</td></tr>\n",
       "            <tr><td class=\"diff_next\"></td><td class=\"diff_header\" id=\"from31_25\">25</td><td nowrap=\"nowrap\">&nbsp;&nbsp;&nbsp;&nbsp;&nbsp;&nbsp;&nbsp;&nbsp;&nbsp;&nbsp;(once&nbsp;(agent_holds&nbsp;?g)&nbsp;)</td><td class=\"diff_next\"></td><td class=\"diff_header\" id=\"to31_25\">25</td><td nowrap=\"nowrap\">&nbsp;&nbsp;&nbsp;&nbsp;&nbsp;&nbsp;&nbsp;&nbsp;&nbsp;&nbsp;(once&nbsp;(agent_holds&nbsp;?g)&nbsp;)</td></tr>\n",
       "            <tr><td class=\"diff_next\"></td><td class=\"diff_header\" id=\"from31_26\">26</td><td nowrap=\"nowrap\">&nbsp;&nbsp;&nbsp;&nbsp;&nbsp;&nbsp;&nbsp;&nbsp;&nbsp;&nbsp;(hold&nbsp;(and&nbsp;(in_motion&nbsp;?g)&nbsp;(not&nbsp;(agent_holds&nbsp;?g)&nbsp;)&nbsp;)&nbsp;)</td><td class=\"diff_next\"></td><td class=\"diff_header\" id=\"to31_26\">26</td><td nowrap=\"nowrap\">&nbsp;&nbsp;&nbsp;&nbsp;&nbsp;&nbsp;&nbsp;&nbsp;&nbsp;&nbsp;(hold&nbsp;(and&nbsp;(in_motion&nbsp;?g)&nbsp;(not&nbsp;(agent_holds&nbsp;?g)&nbsp;)&nbsp;)&nbsp;)</td></tr>\n",
       "            <tr><td class=\"diff_next\"></td><td class=\"diff_header\" id=\"from31_27\">27</td><td nowrap=\"nowrap\">&nbsp;&nbsp;&nbsp;&nbsp;&nbsp;&nbsp;&nbsp;&nbsp;&nbsp;&nbsp;(once&nbsp;(not&nbsp;(in_motion&nbsp;?g)&nbsp;)&nbsp;)</td><td class=\"diff_next\"></td><td class=\"diff_header\" id=\"to31_27\">27</td><td nowrap=\"nowrap\">&nbsp;&nbsp;&nbsp;&nbsp;&nbsp;&nbsp;&nbsp;&nbsp;&nbsp;&nbsp;(once&nbsp;(not&nbsp;(in_motion&nbsp;?g)&nbsp;)&nbsp;)</td></tr>\n",
       "            <tr><td class=\"diff_next\"></td><td class=\"diff_header\" id=\"from31_28\">28</td><td nowrap=\"nowrap\">&nbsp;&nbsp;&nbsp;&nbsp;&nbsp;&nbsp;&nbsp;&nbsp;)</td><td class=\"diff_next\"></td><td class=\"diff_header\" id=\"to31_28\">28</td><td nowrap=\"nowrap\">&nbsp;&nbsp;&nbsp;&nbsp;&nbsp;&nbsp;&nbsp;&nbsp;)</td></tr>\n",
       "            <tr><td class=\"diff_next\"></td><td class=\"diff_header\" id=\"from31_29\">29</td><td nowrap=\"nowrap\">&nbsp;&nbsp;&nbsp;&nbsp;&nbsp;&nbsp;)</td><td class=\"diff_next\"></td><td class=\"diff_header\" id=\"to31_29\">29</td><td nowrap=\"nowrap\">&nbsp;&nbsp;&nbsp;&nbsp;&nbsp;&nbsp;)</td></tr>\n",
       "            <tr><td class=\"diff_next\"></td><td class=\"diff_header\" id=\"from31_30\">30</td><td nowrap=\"nowrap\">&nbsp;&nbsp;&nbsp;&nbsp;)</td><td class=\"diff_next\"></td><td class=\"diff_header\" id=\"to31_30\">30</td><td nowrap=\"nowrap\">&nbsp;&nbsp;&nbsp;&nbsp;)</td></tr>\n",
       "            <tr><td class=\"diff_next\"></td><td class=\"diff_header\" id=\"from31_31\">31</td><td nowrap=\"nowrap\">&nbsp;&nbsp;)</td><td class=\"diff_next\"></td><td class=\"diff_header\" id=\"to31_31\">31</td><td nowrap=\"nowrap\">&nbsp;&nbsp;)</td></tr>\n",
       "            <tr><td class=\"diff_next\"></td><td class=\"diff_header\" id=\"from31_32\">32</td><td nowrap=\"nowrap\">)</td><td class=\"diff_next\"></td><td class=\"diff_header\" id=\"to31_32\">32</td><td nowrap=\"nowrap\">)</td></tr>\n",
       "            <tr><td class=\"diff_next\"></td><td class=\"diff_header\" id=\"from31_33\">33</td><td nowrap=\"nowrap\">(:terminal</td><td class=\"diff_next\"></td><td class=\"diff_header\" id=\"to31_33\">33</td><td nowrap=\"nowrap\">(:terminal</td></tr>\n",
       "            <tr><td class=\"diff_next\"></td><td class=\"diff_header\" id=\"from31_34\">34</td><td nowrap=\"nowrap\">&nbsp;&nbsp;(&gt;=&nbsp;(count&nbsp;throwAttempt)&nbsp;10&nbsp;)</td><td class=\"diff_next\"></td><td class=\"diff_header\" id=\"to31_34\">34</td><td nowrap=\"nowrap\">&nbsp;&nbsp;(&gt;=&nbsp;(count&nbsp;throwAttempt)&nbsp;10&nbsp;)</td></tr>\n",
       "            <tr><td class=\"diff_next\"></td><td class=\"diff_header\" id=\"from31_35\">35</td><td nowrap=\"nowrap\">)</td><td class=\"diff_next\"></td><td class=\"diff_header\" id=\"to31_35\">35</td><td nowrap=\"nowrap\">)</td></tr>\n",
       "            <tr><td class=\"diff_next\"></td><td class=\"diff_header\" id=\"from31_36\">36</td><td nowrap=\"nowrap\">(:scoring</td><td class=\"diff_next\"></td><td class=\"diff_header\" id=\"to31_36\">36</td><td nowrap=\"nowrap\">(:scoring</td></tr>\n",
       "            <tr><td class=\"diff_next\"></td><td class=\"diff_header\" id=\"from31_37\">37</td><td nowrap=\"nowrap\">&nbsp;&nbsp;(*&nbsp;5&nbsp;(count&nbsp;golfballInBinFromPillow)&nbsp;)</td><td class=\"diff_next\"></td><td class=\"diff_header\" id=\"to31_37\">37</td><td nowrap=\"nowrap\">&nbsp;&nbsp;(*&nbsp;5&nbsp;(count&nbsp;golfballInBinFromPillow)&nbsp;)</td></tr>\n",
       "            <tr><td class=\"diff_next\"></td><td class=\"diff_header\" id=\"from31_38\">38</td><td nowrap=\"nowrap\">)</td><td class=\"diff_next\"></td><td class=\"diff_header\" id=\"to31_38\">38</td><td nowrap=\"nowrap\">)</td></tr>\n",
       "            <tr><td class=\"diff_next\"></td><td class=\"diff_header\" id=\"from31_39\">39</td><td nowrap=\"nowrap\">)</td><td class=\"diff_next\"></td><td class=\"diff_header\" id=\"to31_39\">39</td><td nowrap=\"nowrap\">)</td></tr>\n",
       "        </tbody>\n",
       "    </table>\n",
       "    <table class=\"diff\" summary=\"Legends\">\n",
       "        <tr> <th colspan=\"2\"> Legends </th> </tr>\n",
       "        <tr> <td> <table border=\"\" summary=\"Colors\">\n",
       "                      <tr><th> Colors </th> </tr>\n",
       "                      <tr><td class=\"diff_add\">&nbsp;Added&nbsp;</td></tr>\n",
       "                      <tr><td class=\"diff_chg\">Changed</td> </tr>\n",
       "                      <tr><td class=\"diff_sub\">Deleted</td> </tr>\n",
       "                  </table></td>\n",
       "             <td> <table border=\"\" summary=\"Links\">\n",
       "                      <tr><th colspan=\"2\"> Links </th> </tr>\n",
       "                      <tr><td>(f)irst change</td> </tr>\n",
       "                      <tr><td>(n)ext change</td> </tr>\n",
       "                      <tr><td>(t)op</td> </tr>\n",
       "                  </table></td> </tr>\n",
       "    </table>\n",
       "</body>\n",
       "\n",
       "</html>"
      ],
      "text/plain": [
       "<IPython.core.display.HTML object>"
      ]
     },
     "metadata": {},
     "output_type": "display_data"
    },
    {
     "data": {
      "text/markdown": [
       "---"
      ],
      "text/plain": [
       "<IPython.core.display.Markdown object>"
      ]
     },
     "metadata": {},
     "output_type": "display_data"
    },
    {
     "name": "stdout",
     "output_type": "stream",
     "text": [
      "Original game index: 63 | Negative game row: 63 | Negative game col: 253\n"
     ]
    },
    {
     "data": {
      "text/markdown": [
       "### Energy of real game: -28.611 | Energy of regrown game: -30.004 | Difference: -1.392"
      ],
      "text/plain": [
       "<IPython.core.display.Markdown object>"
      ]
     },
     "metadata": {},
     "output_type": "display_data"
    },
    {
     "data": {
      "text/markdown": [
       "### Top features changing the game's energy\n",
       "feature name: **value** = (original feature value => regrown feature value) * weight"
      ],
      "text/plain": [
       "<IPython.core.display.Markdown object>"
      ]
     },
     "metadata": {},
     "output_type": "display_data"
    },
    {
     "data": {
      "text/markdown": [
       "| Features increasing energy (= more fake)   | Features decreasing energy (= more real)                                               |\n",
       "|--------------------------------------------|----------------------------------------------------------------------------------------|\n",
       "|                                            | adjacent_arg_types_other_constraints: **-1.382** = (1.000 => 0.000) * 1.382            |\n",
       "|                                            | adjacent_arg_types_agent_furniture_constraints: **-0.011** = (0.000 => 1.000) * -0.011 |"
      ],
      "text/plain": [
       "<IPython.core.display.Markdown object>"
      ]
     },
     "metadata": {},
     "output_type": "display_data"
    },
    {
     "data": {
      "text/markdown": [
       "### Game Diffs"
      ],
      "text/plain": [
       "<IPython.core.display.Markdown object>"
      ]
     },
     "metadata": {},
     "output_type": "display_data"
    },
    {
     "data": {
      "text/html": [
       "\n",
       "<!DOCTYPE html PUBLIC \"-//W3C//DTD XHTML 1.0 Transitional//EN\"\n",
       "          \"http://www.w3.org/TR/xhtml1/DTD/xhtml1-transitional.dtd\">\n",
       "\n",
       "<html>\n",
       "\n",
       "<head>\n",
       "    <meta http-equiv=\"Content-Type\"\n",
       "          content=\"text/html; charset=utf-8\" />\n",
       "    <title></title>\n",
       "    <style type=\"text/css\">\n",
       "        table.diff {font-family:Courier; border:medium;}\n",
       "        .diff_header {background-color:#e0e0e0}\n",
       "        .diff td {text-align: left !important}\n",
       ".diff th {text-align: center!important }\n",
       ".diff td.diff_header {text-align:right !important}\n",
       "        .diff_next {background-color:#c0c0c0}\n",
       "        .diff_add {background-color: #6fa66f !important; font-weight: bold !important}\n",
       "        .diff_chg {background-color: #999949 !important; font-weight: bold !important}\n",
       "        .diff_sub {background-color: #a66f6f !important; font-weight: bold !important}\n",
       "    </style>\n",
       "</head>\n",
       "\n",
       "<body>\n",
       "    \n",
       "    <table class=\"diff\" id=\"difflib_chg_to32__top\"\n",
       "           cellspacing=\"0\" cellpadding=\"0\" rules=\"groups\" >\n",
       "        <colgroup></colgroup> <colgroup></colgroup> <colgroup></colgroup>\n",
       "        <colgroup></colgroup> <colgroup></colgroup> <colgroup></colgroup>\n",
       "        \n",
       "        <tbody>\n",
       "            <tr><td class=\"diff_next\" id=\"difflib_chg_to32__0\"><a href=\"#difflib_chg_to32__1\">n</a></td><td class=\"diff_header\" id=\"from32_1\">1</td><td nowrap=\"nowrap\">(define&nbsp;(game&nbsp;613bd3a683a2ac56a4119aa6-74)&nbsp;(:domain&nbsp;many-objects-room-v1)</td><td class=\"diff_next\"><a href=\"#difflib_chg_to32__1\">n</a></td><td class=\"diff_header\" id=\"to32_1\">1</td><td nowrap=\"nowrap\">(define&nbsp;(game&nbsp;613bd3a683a2ac56a4119aa6-74<span class=\"diff_add\">-253-nd-18-rd-1-rs-constraints-sk-prior5</span>)&nbsp;(:domain&nbsp;many-obj</td></tr>\n",
       "            <tr><td class=\"diff_next\"></td><td class=\"diff_header\"></td><td nowrap=\"nowrap\">&nbsp;</td><td class=\"diff_next\"></td><td class=\"diff_header\">></td><td nowrap=\"nowrap\">ects-room-v1)</td></tr>\n",
       "            <tr><td class=\"diff_next\"></td><td class=\"diff_header\" id=\"from32_2\">2</td><td nowrap=\"nowrap\">(:setup</td><td class=\"diff_next\"></td><td class=\"diff_header\" id=\"to32_2\">2</td><td nowrap=\"nowrap\">(:setup</td></tr>\n",
       "            <tr><td class=\"diff_next\"></td><td class=\"diff_header\" id=\"from32_3\">3</td><td nowrap=\"nowrap\">&nbsp;&nbsp;(and</td><td class=\"diff_next\"></td><td class=\"diff_header\" id=\"to32_3\">3</td><td nowrap=\"nowrap\">&nbsp;&nbsp;(and</td></tr>\n",
       "            <tr><td class=\"diff_next\"></td><td class=\"diff_header\" id=\"from32_4\">4</td><td nowrap=\"nowrap\">&nbsp;&nbsp;&nbsp;&nbsp;(game-conserved</td><td class=\"diff_next\"></td><td class=\"diff_header\" id=\"to32_4\">4</td><td nowrap=\"nowrap\">&nbsp;&nbsp;&nbsp;&nbsp;(game-conserved</td></tr>\n",
       "            <tr><td class=\"diff_next\"></td><td class=\"diff_header\" id=\"from32_5\">5</td><td nowrap=\"nowrap\">&nbsp;&nbsp;&nbsp;&nbsp;&nbsp;&nbsp;(exists&nbsp;(?h&nbsp;-&nbsp;hexagonal_bin&nbsp;?p&nbsp;-&nbsp;pillow)</td><td class=\"diff_next\"></td><td class=\"diff_header\" id=\"to32_5\">5</td><td nowrap=\"nowrap\">&nbsp;&nbsp;&nbsp;&nbsp;&nbsp;&nbsp;(exists&nbsp;(?h&nbsp;-&nbsp;hexagonal_bin&nbsp;?p&nbsp;-&nbsp;pillow)</td></tr>\n",
       "            <tr><td class=\"diff_next\"></td><td class=\"diff_header\" id=\"from32_6\">6</td><td nowrap=\"nowrap\">&nbsp;&nbsp;&nbsp;&nbsp;&nbsp;&nbsp;&nbsp;&nbsp;(&lt;&nbsp;(distance&nbsp;?h&nbsp;?p)&nbsp;3)</td><td class=\"diff_next\"></td><td class=\"diff_header\" id=\"to32_6\">6</td><td nowrap=\"nowrap\">&nbsp;&nbsp;&nbsp;&nbsp;&nbsp;&nbsp;&nbsp;&nbsp;(&lt;&nbsp;(distance&nbsp;?h&nbsp;?p)&nbsp;3)</td></tr>\n",
       "            <tr><td class=\"diff_next\"></td><td class=\"diff_header\" id=\"from32_7\">7</td><td nowrap=\"nowrap\">&nbsp;&nbsp;&nbsp;&nbsp;&nbsp;&nbsp;)</td><td class=\"diff_next\"></td><td class=\"diff_header\" id=\"to32_7\">7</td><td nowrap=\"nowrap\">&nbsp;&nbsp;&nbsp;&nbsp;&nbsp;&nbsp;)</td></tr>\n",
       "            <tr><td class=\"diff_next\"></td><td class=\"diff_header\" id=\"from32_8\">8</td><td nowrap=\"nowrap\">&nbsp;&nbsp;&nbsp;&nbsp;)</td><td class=\"diff_next\"></td><td class=\"diff_header\" id=\"to32_8\">8</td><td nowrap=\"nowrap\">&nbsp;&nbsp;&nbsp;&nbsp;)</td></tr>\n",
       "            <tr><td class=\"diff_next\"></td><td class=\"diff_header\" id=\"from32_9\">9</td><td nowrap=\"nowrap\">&nbsp;&nbsp;)</td><td class=\"diff_next\"></td><td class=\"diff_header\" id=\"to32_9\">9</td><td nowrap=\"nowrap\">&nbsp;&nbsp;)</td></tr>\n",
       "            <tr><td class=\"diff_next\"></td><td class=\"diff_header\" id=\"from32_10\">10</td><td nowrap=\"nowrap\">)</td><td class=\"diff_next\"></td><td class=\"diff_header\" id=\"to32_10\">10</td><td nowrap=\"nowrap\">)</td></tr>\n",
       "            <tr><td class=\"diff_next\" id=\"difflib_chg_to32__1\"></td><td class=\"diff_header\" id=\"from32_11\">11</td><td nowrap=\"nowrap\">(:constraints</td><td class=\"diff_next\"></td><td class=\"diff_header\" id=\"to32_11\">11</td><td nowrap=\"nowrap\">(:constraints</td></tr>\n",
       "            <tr><td class=\"diff_next\"></td><td class=\"diff_header\" id=\"from32_12\">12</td><td nowrap=\"nowrap\">&nbsp;&nbsp;(and</td><td class=\"diff_next\"></td><td class=\"diff_header\" id=\"to32_12\">12</td><td nowrap=\"nowrap\">&nbsp;&nbsp;(and</td></tr>\n",
       "            <tr><td class=\"diff_next\"></td><td class=\"diff_header\" id=\"from32_13\">13</td><td nowrap=\"nowrap\">&nbsp;&nbsp;&nbsp;&nbsp;(preference&nbsp;golfballInBinFromPillow</td><td class=\"diff_next\"></td><td class=\"diff_header\" id=\"to32_13\">13</td><td nowrap=\"nowrap\">&nbsp;&nbsp;&nbsp;&nbsp;(preference&nbsp;golfballInBinFromPillow</td></tr>\n",
       "            <tr><td class=\"diff_next\"></td><td class=\"diff_header\" id=\"from32_14\">14</td><td nowrap=\"nowrap\">&nbsp;&nbsp;&nbsp;&nbsp;&nbsp;&nbsp;(exists&nbsp;(?g&nbsp;-&nbsp;golfball&nbsp;?h&nbsp;-&nbsp;hexagonal_bin&nbsp;?p&nbsp;-&nbsp;pillow)</td><td class=\"diff_next\"></td><td class=\"diff_header\" id=\"to32_14\">14</td><td nowrap=\"nowrap\">&nbsp;&nbsp;&nbsp;&nbsp;&nbsp;&nbsp;(exists&nbsp;(?g&nbsp;-&nbsp;golfball&nbsp;?h&nbsp;-&nbsp;hexagonal_bin&nbsp;?p&nbsp;-&nbsp;pillow)</td></tr>\n",
       "            <tr><td class=\"diff_next\"></td><td class=\"diff_header\" id=\"from32_15\">15</td><td nowrap=\"nowrap\">&nbsp;&nbsp;&nbsp;&nbsp;&nbsp;&nbsp;&nbsp;&nbsp;(then</td><td class=\"diff_next\"></td><td class=\"diff_header\" id=\"to32_15\">15</td><td nowrap=\"nowrap\">&nbsp;&nbsp;&nbsp;&nbsp;&nbsp;&nbsp;&nbsp;&nbsp;(then</td></tr>\n",
       "            <tr><td class=\"diff_next\"><a href=\"#difflib_chg_to32__top\">t</a></td><td class=\"diff_header\" id=\"from32_16\">16</td><td nowrap=\"nowrap\">&nbsp;&nbsp;&nbsp;&nbsp;&nbsp;&nbsp;&nbsp;&nbsp;&nbsp;&nbsp;(once&nbsp;(and&nbsp;(adjacent&nbsp;<span class=\"diff_chg\">?p</span>&nbsp;agent)&nbsp;(agent_holds&nbsp;?g)&nbsp;(is_setup_object&nbsp;?p)&nbsp;)&nbsp;)</td><td class=\"diff_next\"><a href=\"#difflib_chg_to32__top\">t</a></td><td class=\"diff_header\" id=\"to32_16\">16</td><td nowrap=\"nowrap\">&nbsp;&nbsp;&nbsp;&nbsp;&nbsp;&nbsp;&nbsp;&nbsp;&nbsp;&nbsp;(once&nbsp;(and&nbsp;(adjacent&nbsp;<span class=\"diff_chg\">bed</span>&nbsp;agent)&nbsp;(agent_holds&nbsp;?g)&nbsp;(is_setup_object&nbsp;?p)&nbsp;)&nbsp;)</td></tr>\n",
       "            <tr><td class=\"diff_next\"></td><td class=\"diff_header\" id=\"from32_17\">17</td><td nowrap=\"nowrap\">&nbsp;&nbsp;&nbsp;&nbsp;&nbsp;&nbsp;&nbsp;&nbsp;&nbsp;&nbsp;(hold&nbsp;(and&nbsp;(in_motion&nbsp;?g)&nbsp;(not&nbsp;(agent_holds&nbsp;?g)&nbsp;)&nbsp;)&nbsp;)</td><td class=\"diff_next\"></td><td class=\"diff_header\" id=\"to32_17\">17</td><td nowrap=\"nowrap\">&nbsp;&nbsp;&nbsp;&nbsp;&nbsp;&nbsp;&nbsp;&nbsp;&nbsp;&nbsp;(hold&nbsp;(and&nbsp;(in_motion&nbsp;?g)&nbsp;(not&nbsp;(agent_holds&nbsp;?g)&nbsp;)&nbsp;)&nbsp;)</td></tr>\n",
       "            <tr><td class=\"diff_next\"></td><td class=\"diff_header\" id=\"from32_18\">18</td><td nowrap=\"nowrap\">&nbsp;&nbsp;&nbsp;&nbsp;&nbsp;&nbsp;&nbsp;&nbsp;&nbsp;&nbsp;(once&nbsp;(and&nbsp;(not&nbsp;(in_motion&nbsp;?g)&nbsp;)&nbsp;(in&nbsp;?h&nbsp;?g)&nbsp;)&nbsp;)</td><td class=\"diff_next\"></td><td class=\"diff_header\" id=\"to32_18\">18</td><td nowrap=\"nowrap\">&nbsp;&nbsp;&nbsp;&nbsp;&nbsp;&nbsp;&nbsp;&nbsp;&nbsp;&nbsp;(once&nbsp;(and&nbsp;(not&nbsp;(in_motion&nbsp;?g)&nbsp;)&nbsp;(in&nbsp;?h&nbsp;?g)&nbsp;)&nbsp;)</td></tr>\n",
       "            <tr><td class=\"diff_next\"></td><td class=\"diff_header\" id=\"from32_19\">19</td><td nowrap=\"nowrap\">&nbsp;&nbsp;&nbsp;&nbsp;&nbsp;&nbsp;&nbsp;&nbsp;)</td><td class=\"diff_next\"></td><td class=\"diff_header\" id=\"to32_19\">19</td><td nowrap=\"nowrap\">&nbsp;&nbsp;&nbsp;&nbsp;&nbsp;&nbsp;&nbsp;&nbsp;)</td></tr>\n",
       "            <tr><td class=\"diff_next\"></td><td class=\"diff_header\" id=\"from32_20\">20</td><td nowrap=\"nowrap\">&nbsp;&nbsp;&nbsp;&nbsp;&nbsp;&nbsp;)</td><td class=\"diff_next\"></td><td class=\"diff_header\" id=\"to32_20\">20</td><td nowrap=\"nowrap\">&nbsp;&nbsp;&nbsp;&nbsp;&nbsp;&nbsp;)</td></tr>\n",
       "            <tr><td class=\"diff_next\"></td><td class=\"diff_header\" id=\"from32_21\">21</td><td nowrap=\"nowrap\">&nbsp;&nbsp;&nbsp;&nbsp;)</td><td class=\"diff_next\"></td><td class=\"diff_header\" id=\"to32_21\">21</td><td nowrap=\"nowrap\">&nbsp;&nbsp;&nbsp;&nbsp;)</td></tr>\n",
       "            <tr><td class=\"diff_next\"></td><td class=\"diff_header\" id=\"from32_22\">22</td><td nowrap=\"nowrap\">&nbsp;&nbsp;&nbsp;&nbsp;(preference&nbsp;throwAttempt</td><td class=\"diff_next\"></td><td class=\"diff_header\" id=\"to32_22\">22</td><td nowrap=\"nowrap\">&nbsp;&nbsp;&nbsp;&nbsp;(preference&nbsp;throwAttempt</td></tr>\n",
       "            <tr><td class=\"diff_next\"></td><td class=\"diff_header\" id=\"from32_23\">23</td><td nowrap=\"nowrap\">&nbsp;&nbsp;&nbsp;&nbsp;&nbsp;&nbsp;(exists&nbsp;(?g&nbsp;-&nbsp;golfball)</td><td class=\"diff_next\"></td><td class=\"diff_header\" id=\"to32_23\">23</td><td nowrap=\"nowrap\">&nbsp;&nbsp;&nbsp;&nbsp;&nbsp;&nbsp;(exists&nbsp;(?g&nbsp;-&nbsp;golfball)</td></tr>\n",
       "            <tr><td class=\"diff_next\"></td><td class=\"diff_header\" id=\"from32_24\">24</td><td nowrap=\"nowrap\">&nbsp;&nbsp;&nbsp;&nbsp;&nbsp;&nbsp;&nbsp;&nbsp;(then</td><td class=\"diff_next\"></td><td class=\"diff_header\" id=\"to32_24\">24</td><td nowrap=\"nowrap\">&nbsp;&nbsp;&nbsp;&nbsp;&nbsp;&nbsp;&nbsp;&nbsp;(then</td></tr>\n",
       "            <tr><td class=\"diff_next\"></td><td class=\"diff_header\" id=\"from32_25\">25</td><td nowrap=\"nowrap\">&nbsp;&nbsp;&nbsp;&nbsp;&nbsp;&nbsp;&nbsp;&nbsp;&nbsp;&nbsp;(once&nbsp;(agent_holds&nbsp;?g)&nbsp;)</td><td class=\"diff_next\"></td><td class=\"diff_header\" id=\"to32_25\">25</td><td nowrap=\"nowrap\">&nbsp;&nbsp;&nbsp;&nbsp;&nbsp;&nbsp;&nbsp;&nbsp;&nbsp;&nbsp;(once&nbsp;(agent_holds&nbsp;?g)&nbsp;)</td></tr>\n",
       "            <tr><td class=\"diff_next\"></td><td class=\"diff_header\" id=\"from32_26\">26</td><td nowrap=\"nowrap\">&nbsp;&nbsp;&nbsp;&nbsp;&nbsp;&nbsp;&nbsp;&nbsp;&nbsp;&nbsp;(hold&nbsp;(and&nbsp;(in_motion&nbsp;?g)&nbsp;(not&nbsp;(agent_holds&nbsp;?g)&nbsp;)&nbsp;)&nbsp;)</td><td class=\"diff_next\"></td><td class=\"diff_header\" id=\"to32_26\">26</td><td nowrap=\"nowrap\">&nbsp;&nbsp;&nbsp;&nbsp;&nbsp;&nbsp;&nbsp;&nbsp;&nbsp;&nbsp;(hold&nbsp;(and&nbsp;(in_motion&nbsp;?g)&nbsp;(not&nbsp;(agent_holds&nbsp;?g)&nbsp;)&nbsp;)&nbsp;)</td></tr>\n",
       "            <tr><td class=\"diff_next\"></td><td class=\"diff_header\" id=\"from32_27\">27</td><td nowrap=\"nowrap\">&nbsp;&nbsp;&nbsp;&nbsp;&nbsp;&nbsp;&nbsp;&nbsp;&nbsp;&nbsp;(once&nbsp;(not&nbsp;(in_motion&nbsp;?g)&nbsp;)&nbsp;)</td><td class=\"diff_next\"></td><td class=\"diff_header\" id=\"to32_27\">27</td><td nowrap=\"nowrap\">&nbsp;&nbsp;&nbsp;&nbsp;&nbsp;&nbsp;&nbsp;&nbsp;&nbsp;&nbsp;(once&nbsp;(not&nbsp;(in_motion&nbsp;?g)&nbsp;)&nbsp;)</td></tr>\n",
       "            <tr><td class=\"diff_next\"></td><td class=\"diff_header\" id=\"from32_28\">28</td><td nowrap=\"nowrap\">&nbsp;&nbsp;&nbsp;&nbsp;&nbsp;&nbsp;&nbsp;&nbsp;)</td><td class=\"diff_next\"></td><td class=\"diff_header\" id=\"to32_28\">28</td><td nowrap=\"nowrap\">&nbsp;&nbsp;&nbsp;&nbsp;&nbsp;&nbsp;&nbsp;&nbsp;)</td></tr>\n",
       "            <tr><td class=\"diff_next\"></td><td class=\"diff_header\" id=\"from32_29\">29</td><td nowrap=\"nowrap\">&nbsp;&nbsp;&nbsp;&nbsp;&nbsp;&nbsp;)</td><td class=\"diff_next\"></td><td class=\"diff_header\" id=\"to32_29\">29</td><td nowrap=\"nowrap\">&nbsp;&nbsp;&nbsp;&nbsp;&nbsp;&nbsp;)</td></tr>\n",
       "            <tr><td class=\"diff_next\"></td><td class=\"diff_header\" id=\"from32_30\">30</td><td nowrap=\"nowrap\">&nbsp;&nbsp;&nbsp;&nbsp;)</td><td class=\"diff_next\"></td><td class=\"diff_header\" id=\"to32_30\">30</td><td nowrap=\"nowrap\">&nbsp;&nbsp;&nbsp;&nbsp;)</td></tr>\n",
       "            <tr><td class=\"diff_next\"></td><td class=\"diff_header\" id=\"from32_31\">31</td><td nowrap=\"nowrap\">&nbsp;&nbsp;)</td><td class=\"diff_next\"></td><td class=\"diff_header\" id=\"to32_31\">31</td><td nowrap=\"nowrap\">&nbsp;&nbsp;)</td></tr>\n",
       "            <tr><td class=\"diff_next\"></td><td class=\"diff_header\" id=\"from32_32\">32</td><td nowrap=\"nowrap\">)</td><td class=\"diff_next\"></td><td class=\"diff_header\" id=\"to32_32\">32</td><td nowrap=\"nowrap\">)</td></tr>\n",
       "            <tr><td class=\"diff_next\"></td><td class=\"diff_header\" id=\"from32_33\">33</td><td nowrap=\"nowrap\">(:terminal</td><td class=\"diff_next\"></td><td class=\"diff_header\" id=\"to32_33\">33</td><td nowrap=\"nowrap\">(:terminal</td></tr>\n",
       "            <tr><td class=\"diff_next\"></td><td class=\"diff_header\" id=\"from32_34\">34</td><td nowrap=\"nowrap\">&nbsp;&nbsp;(&gt;=&nbsp;(count&nbsp;throwAttempt)&nbsp;10&nbsp;)</td><td class=\"diff_next\"></td><td class=\"diff_header\" id=\"to32_34\">34</td><td nowrap=\"nowrap\">&nbsp;&nbsp;(&gt;=&nbsp;(count&nbsp;throwAttempt)&nbsp;10&nbsp;)</td></tr>\n",
       "            <tr><td class=\"diff_next\"></td><td class=\"diff_header\" id=\"from32_35\">35</td><td nowrap=\"nowrap\">)</td><td class=\"diff_next\"></td><td class=\"diff_header\" id=\"to32_35\">35</td><td nowrap=\"nowrap\">)</td></tr>\n",
       "            <tr><td class=\"diff_next\"></td><td class=\"diff_header\" id=\"from32_36\">36</td><td nowrap=\"nowrap\">(:scoring</td><td class=\"diff_next\"></td><td class=\"diff_header\" id=\"to32_36\">36</td><td nowrap=\"nowrap\">(:scoring</td></tr>\n",
       "            <tr><td class=\"diff_next\"></td><td class=\"diff_header\" id=\"from32_37\">37</td><td nowrap=\"nowrap\">&nbsp;&nbsp;(*&nbsp;5&nbsp;(count&nbsp;golfballInBinFromPillow)&nbsp;)</td><td class=\"diff_next\"></td><td class=\"diff_header\" id=\"to32_37\">37</td><td nowrap=\"nowrap\">&nbsp;&nbsp;(*&nbsp;5&nbsp;(count&nbsp;golfballInBinFromPillow)&nbsp;)</td></tr>\n",
       "            <tr><td class=\"diff_next\"></td><td class=\"diff_header\" id=\"from32_38\">38</td><td nowrap=\"nowrap\">)</td><td class=\"diff_next\"></td><td class=\"diff_header\" id=\"to32_38\">38</td><td nowrap=\"nowrap\">)</td></tr>\n",
       "            <tr><td class=\"diff_next\"></td><td class=\"diff_header\" id=\"from32_39\">39</td><td nowrap=\"nowrap\">)</td><td class=\"diff_next\"></td><td class=\"diff_header\" id=\"to32_39\">39</td><td nowrap=\"nowrap\">)</td></tr>\n",
       "        </tbody>\n",
       "    </table>\n",
       "    <table class=\"diff\" summary=\"Legends\">\n",
       "        <tr> <th colspan=\"2\"> Legends </th> </tr>\n",
       "        <tr> <td> <table border=\"\" summary=\"Colors\">\n",
       "                      <tr><th> Colors </th> </tr>\n",
       "                      <tr><td class=\"diff_add\">&nbsp;Added&nbsp;</td></tr>\n",
       "                      <tr><td class=\"diff_chg\">Changed</td> </tr>\n",
       "                      <tr><td class=\"diff_sub\">Deleted</td> </tr>\n",
       "                  </table></td>\n",
       "             <td> <table border=\"\" summary=\"Links\">\n",
       "                      <tr><th colspan=\"2\"> Links </th> </tr>\n",
       "                      <tr><td>(f)irst change</td> </tr>\n",
       "                      <tr><td>(n)ext change</td> </tr>\n",
       "                      <tr><td>(t)op</td> </tr>\n",
       "                  </table></td> </tr>\n",
       "    </table>\n",
       "</body>\n",
       "\n",
       "</html>"
      ],
      "text/plain": [
       "<IPython.core.display.HTML object>"
      ]
     },
     "metadata": {},
     "output_type": "display_data"
    },
    {
     "data": {
      "text/markdown": [
       "---"
      ],
      "text/plain": [
       "<IPython.core.display.Markdown object>"
      ]
     },
     "metadata": {},
     "output_type": "display_data"
    },
    {
     "name": "stdout",
     "output_type": "stream",
     "text": [
      "Original game index: 63 | Negative game row: 63 | Negative game col: 774\n"
     ]
    },
    {
     "data": {
      "text/markdown": [
       "### Energy of real game: -28.611 | Energy of regrown game: -29.906 | Difference: -1.295"
      ],
      "text/plain": [
       "<IPython.core.display.Markdown object>"
      ]
     },
     "metadata": {},
     "output_type": "display_data"
    },
    {
     "data": {
      "text/markdown": [
       "### Top features changing the game's energy\n",
       "feature name: **value** = (original feature value => regrown feature value) * weight"
      ],
      "text/plain": [
       "<IPython.core.display.Markdown object>"
      ]
     },
     "metadata": {},
     "output_type": "display_data"
    },
    {
     "data": {
      "text/markdown": [
       "| Features increasing energy (= more fake)                                                 | Features decreasing energy (= more real)                                    |\n",
       "|------------------------------------------------------------------------------------------|-----------------------------------------------------------------------------|\n",
       "| adjacent_arg_types_agent_room_features_constraints: **0.087** = (0.000 => 1.000) * 0.087 | adjacent_arg_types_other_constraints: **-1.382** = (1.000 => 0.000) * 1.382 |"
      ],
      "text/plain": [
       "<IPython.core.display.Markdown object>"
      ]
     },
     "metadata": {},
     "output_type": "display_data"
    },
    {
     "data": {
      "text/markdown": [
       "### Game Diffs"
      ],
      "text/plain": [
       "<IPython.core.display.Markdown object>"
      ]
     },
     "metadata": {},
     "output_type": "display_data"
    },
    {
     "data": {
      "text/html": [
       "\n",
       "<!DOCTYPE html PUBLIC \"-//W3C//DTD XHTML 1.0 Transitional//EN\"\n",
       "          \"http://www.w3.org/TR/xhtml1/DTD/xhtml1-transitional.dtd\">\n",
       "\n",
       "<html>\n",
       "\n",
       "<head>\n",
       "    <meta http-equiv=\"Content-Type\"\n",
       "          content=\"text/html; charset=utf-8\" />\n",
       "    <title></title>\n",
       "    <style type=\"text/css\">\n",
       "        table.diff {font-family:Courier; border:medium;}\n",
       "        .diff_header {background-color:#e0e0e0}\n",
       "        .diff td {text-align: left !important}\n",
       ".diff th {text-align: center!important }\n",
       ".diff td.diff_header {text-align:right !important}\n",
       "        .diff_next {background-color:#c0c0c0}\n",
       "        .diff_add {background-color: #6fa66f !important; font-weight: bold !important}\n",
       "        .diff_chg {background-color: #999949 !important; font-weight: bold !important}\n",
       "        .diff_sub {background-color: #a66f6f !important; font-weight: bold !important}\n",
       "    </style>\n",
       "</head>\n",
       "\n",
       "<body>\n",
       "    \n",
       "    <table class=\"diff\" id=\"difflib_chg_to33__top\"\n",
       "           cellspacing=\"0\" cellpadding=\"0\" rules=\"groups\" >\n",
       "        <colgroup></colgroup> <colgroup></colgroup> <colgroup></colgroup>\n",
       "        <colgroup></colgroup> <colgroup></colgroup> <colgroup></colgroup>\n",
       "        \n",
       "        <tbody>\n",
       "            <tr><td class=\"diff_next\" id=\"difflib_chg_to33__0\"><a href=\"#difflib_chg_to33__1\">n</a></td><td class=\"diff_header\" id=\"from33_1\">1</td><td nowrap=\"nowrap\">(define&nbsp;(game&nbsp;613bd3a683a2ac56a4119aa6-74)&nbsp;(:domain&nbsp;many-objects-room-v1)</td><td class=\"diff_next\"><a href=\"#difflib_chg_to33__1\">n</a></td><td class=\"diff_header\" id=\"to33_1\">1</td><td nowrap=\"nowrap\">(define&nbsp;(game&nbsp;613bd3a683a2ac56a4119aa6-74<span class=\"diff_add\">-774-nd-18-rd-1-rs-constraints-sk-prior5</span>)&nbsp;(:domain&nbsp;many-obj</td></tr>\n",
       "            <tr><td class=\"diff_next\"></td><td class=\"diff_header\"></td><td nowrap=\"nowrap\">&nbsp;</td><td class=\"diff_next\"></td><td class=\"diff_header\">></td><td nowrap=\"nowrap\">ects-room-v1)</td></tr>\n",
       "            <tr><td class=\"diff_next\"></td><td class=\"diff_header\" id=\"from33_2\">2</td><td nowrap=\"nowrap\">(:setup</td><td class=\"diff_next\"></td><td class=\"diff_header\" id=\"to33_2\">2</td><td nowrap=\"nowrap\">(:setup</td></tr>\n",
       "            <tr><td class=\"diff_next\"></td><td class=\"diff_header\" id=\"from33_3\">3</td><td nowrap=\"nowrap\">&nbsp;&nbsp;(and</td><td class=\"diff_next\"></td><td class=\"diff_header\" id=\"to33_3\">3</td><td nowrap=\"nowrap\">&nbsp;&nbsp;(and</td></tr>\n",
       "            <tr><td class=\"diff_next\"></td><td class=\"diff_header\" id=\"from33_4\">4</td><td nowrap=\"nowrap\">&nbsp;&nbsp;&nbsp;&nbsp;(game-conserved</td><td class=\"diff_next\"></td><td class=\"diff_header\" id=\"to33_4\">4</td><td nowrap=\"nowrap\">&nbsp;&nbsp;&nbsp;&nbsp;(game-conserved</td></tr>\n",
       "            <tr><td class=\"diff_next\"></td><td class=\"diff_header\" id=\"from33_5\">5</td><td nowrap=\"nowrap\">&nbsp;&nbsp;&nbsp;&nbsp;&nbsp;&nbsp;(exists&nbsp;(?h&nbsp;-&nbsp;hexagonal_bin&nbsp;?p&nbsp;-&nbsp;pillow)</td><td class=\"diff_next\"></td><td class=\"diff_header\" id=\"to33_5\">5</td><td nowrap=\"nowrap\">&nbsp;&nbsp;&nbsp;&nbsp;&nbsp;&nbsp;(exists&nbsp;(?h&nbsp;-&nbsp;hexagonal_bin&nbsp;?p&nbsp;-&nbsp;pillow)</td></tr>\n",
       "            <tr><td class=\"diff_next\"></td><td class=\"diff_header\" id=\"from33_6\">6</td><td nowrap=\"nowrap\">&nbsp;&nbsp;&nbsp;&nbsp;&nbsp;&nbsp;&nbsp;&nbsp;(&lt;&nbsp;(distance&nbsp;?h&nbsp;?p)&nbsp;3)</td><td class=\"diff_next\"></td><td class=\"diff_header\" id=\"to33_6\">6</td><td nowrap=\"nowrap\">&nbsp;&nbsp;&nbsp;&nbsp;&nbsp;&nbsp;&nbsp;&nbsp;(&lt;&nbsp;(distance&nbsp;?h&nbsp;?p)&nbsp;3)</td></tr>\n",
       "            <tr><td class=\"diff_next\"></td><td class=\"diff_header\" id=\"from33_7\">7</td><td nowrap=\"nowrap\">&nbsp;&nbsp;&nbsp;&nbsp;&nbsp;&nbsp;)</td><td class=\"diff_next\"></td><td class=\"diff_header\" id=\"to33_7\">7</td><td nowrap=\"nowrap\">&nbsp;&nbsp;&nbsp;&nbsp;&nbsp;&nbsp;)</td></tr>\n",
       "            <tr><td class=\"diff_next\"></td><td class=\"diff_header\" id=\"from33_8\">8</td><td nowrap=\"nowrap\">&nbsp;&nbsp;&nbsp;&nbsp;)</td><td class=\"diff_next\"></td><td class=\"diff_header\" id=\"to33_8\">8</td><td nowrap=\"nowrap\">&nbsp;&nbsp;&nbsp;&nbsp;)</td></tr>\n",
       "            <tr><td class=\"diff_next\"></td><td class=\"diff_header\" id=\"from33_9\">9</td><td nowrap=\"nowrap\">&nbsp;&nbsp;)</td><td class=\"diff_next\"></td><td class=\"diff_header\" id=\"to33_9\">9</td><td nowrap=\"nowrap\">&nbsp;&nbsp;)</td></tr>\n",
       "            <tr><td class=\"diff_next\"></td><td class=\"diff_header\" id=\"from33_10\">10</td><td nowrap=\"nowrap\">)</td><td class=\"diff_next\"></td><td class=\"diff_header\" id=\"to33_10\">10</td><td nowrap=\"nowrap\">)</td></tr>\n",
       "            <tr><td class=\"diff_next\" id=\"difflib_chg_to33__1\"></td><td class=\"diff_header\" id=\"from33_11\">11</td><td nowrap=\"nowrap\">(:constraints</td><td class=\"diff_next\"></td><td class=\"diff_header\" id=\"to33_11\">11</td><td nowrap=\"nowrap\">(:constraints</td></tr>\n",
       "            <tr><td class=\"diff_next\"></td><td class=\"diff_header\" id=\"from33_12\">12</td><td nowrap=\"nowrap\">&nbsp;&nbsp;(and</td><td class=\"diff_next\"></td><td class=\"diff_header\" id=\"to33_12\">12</td><td nowrap=\"nowrap\">&nbsp;&nbsp;(and</td></tr>\n",
       "            <tr><td class=\"diff_next\"></td><td class=\"diff_header\" id=\"from33_13\">13</td><td nowrap=\"nowrap\">&nbsp;&nbsp;&nbsp;&nbsp;(preference&nbsp;golfballInBinFromPillow</td><td class=\"diff_next\"></td><td class=\"diff_header\" id=\"to33_13\">13</td><td nowrap=\"nowrap\">&nbsp;&nbsp;&nbsp;&nbsp;(preference&nbsp;golfballInBinFromPillow</td></tr>\n",
       "            <tr><td class=\"diff_next\"></td><td class=\"diff_header\" id=\"from33_14\">14</td><td nowrap=\"nowrap\">&nbsp;&nbsp;&nbsp;&nbsp;&nbsp;&nbsp;(exists&nbsp;(?g&nbsp;-&nbsp;golfball&nbsp;?h&nbsp;-&nbsp;hexagonal_bin&nbsp;?p&nbsp;-&nbsp;pillow)</td><td class=\"diff_next\"></td><td class=\"diff_header\" id=\"to33_14\">14</td><td nowrap=\"nowrap\">&nbsp;&nbsp;&nbsp;&nbsp;&nbsp;&nbsp;(exists&nbsp;(?g&nbsp;-&nbsp;golfball&nbsp;?h&nbsp;-&nbsp;hexagonal_bin&nbsp;?p&nbsp;-&nbsp;pillow)</td></tr>\n",
       "            <tr><td class=\"diff_next\"></td><td class=\"diff_header\" id=\"from33_15\">15</td><td nowrap=\"nowrap\">&nbsp;&nbsp;&nbsp;&nbsp;&nbsp;&nbsp;&nbsp;&nbsp;(then</td><td class=\"diff_next\"></td><td class=\"diff_header\" id=\"to33_15\">15</td><td nowrap=\"nowrap\">&nbsp;&nbsp;&nbsp;&nbsp;&nbsp;&nbsp;&nbsp;&nbsp;(then</td></tr>\n",
       "            <tr><td class=\"diff_next\"><a href=\"#difflib_chg_to33__top\">t</a></td><td class=\"diff_header\" id=\"from33_16\">16</td><td nowrap=\"nowrap\">&nbsp;&nbsp;&nbsp;&nbsp;&nbsp;&nbsp;&nbsp;&nbsp;&nbsp;&nbsp;(once&nbsp;(and&nbsp;(adjacent&nbsp;<span class=\"diff_chg\">?p</span>&nbsp;agent)&nbsp;(agent_holds&nbsp;?g)&nbsp;(is_setup_object&nbsp;?p)&nbsp;)&nbsp;)</td><td class=\"diff_next\"><a href=\"#difflib_chg_to33__top\">t</a></td><td class=\"diff_header\" id=\"to33_16\">16</td><td nowrap=\"nowrap\">&nbsp;&nbsp;&nbsp;&nbsp;&nbsp;&nbsp;&nbsp;&nbsp;&nbsp;&nbsp;(once&nbsp;(and&nbsp;(adjacent&nbsp;<span class=\"diff_chg\">rug</span>&nbsp;agent)&nbsp;(agent_holds&nbsp;?g)&nbsp;(is_setup_object&nbsp;?p)&nbsp;)&nbsp;)</td></tr>\n",
       "            <tr><td class=\"diff_next\"></td><td class=\"diff_header\" id=\"from33_17\">17</td><td nowrap=\"nowrap\">&nbsp;&nbsp;&nbsp;&nbsp;&nbsp;&nbsp;&nbsp;&nbsp;&nbsp;&nbsp;(hold&nbsp;(and&nbsp;(in_motion&nbsp;?g)&nbsp;(not&nbsp;(agent_holds&nbsp;?g)&nbsp;)&nbsp;)&nbsp;)</td><td class=\"diff_next\"></td><td class=\"diff_header\" id=\"to33_17\">17</td><td nowrap=\"nowrap\">&nbsp;&nbsp;&nbsp;&nbsp;&nbsp;&nbsp;&nbsp;&nbsp;&nbsp;&nbsp;(hold&nbsp;(and&nbsp;(in_motion&nbsp;?g)&nbsp;(not&nbsp;(agent_holds&nbsp;?g)&nbsp;)&nbsp;)&nbsp;)</td></tr>\n",
       "            <tr><td class=\"diff_next\"></td><td class=\"diff_header\" id=\"from33_18\">18</td><td nowrap=\"nowrap\">&nbsp;&nbsp;&nbsp;&nbsp;&nbsp;&nbsp;&nbsp;&nbsp;&nbsp;&nbsp;(once&nbsp;(and&nbsp;(not&nbsp;(in_motion&nbsp;?g)&nbsp;)&nbsp;(in&nbsp;?h&nbsp;?g)&nbsp;)&nbsp;)</td><td class=\"diff_next\"></td><td class=\"diff_header\" id=\"to33_18\">18</td><td nowrap=\"nowrap\">&nbsp;&nbsp;&nbsp;&nbsp;&nbsp;&nbsp;&nbsp;&nbsp;&nbsp;&nbsp;(once&nbsp;(and&nbsp;(not&nbsp;(in_motion&nbsp;?g)&nbsp;)&nbsp;(in&nbsp;?h&nbsp;?g)&nbsp;)&nbsp;)</td></tr>\n",
       "            <tr><td class=\"diff_next\"></td><td class=\"diff_header\" id=\"from33_19\">19</td><td nowrap=\"nowrap\">&nbsp;&nbsp;&nbsp;&nbsp;&nbsp;&nbsp;&nbsp;&nbsp;)</td><td class=\"diff_next\"></td><td class=\"diff_header\" id=\"to33_19\">19</td><td nowrap=\"nowrap\">&nbsp;&nbsp;&nbsp;&nbsp;&nbsp;&nbsp;&nbsp;&nbsp;)</td></tr>\n",
       "            <tr><td class=\"diff_next\"></td><td class=\"diff_header\" id=\"from33_20\">20</td><td nowrap=\"nowrap\">&nbsp;&nbsp;&nbsp;&nbsp;&nbsp;&nbsp;)</td><td class=\"diff_next\"></td><td class=\"diff_header\" id=\"to33_20\">20</td><td nowrap=\"nowrap\">&nbsp;&nbsp;&nbsp;&nbsp;&nbsp;&nbsp;)</td></tr>\n",
       "            <tr><td class=\"diff_next\"></td><td class=\"diff_header\" id=\"from33_21\">21</td><td nowrap=\"nowrap\">&nbsp;&nbsp;&nbsp;&nbsp;)</td><td class=\"diff_next\"></td><td class=\"diff_header\" id=\"to33_21\">21</td><td nowrap=\"nowrap\">&nbsp;&nbsp;&nbsp;&nbsp;)</td></tr>\n",
       "            <tr><td class=\"diff_next\"></td><td class=\"diff_header\" id=\"from33_22\">22</td><td nowrap=\"nowrap\">&nbsp;&nbsp;&nbsp;&nbsp;(preference&nbsp;throwAttempt</td><td class=\"diff_next\"></td><td class=\"diff_header\" id=\"to33_22\">22</td><td nowrap=\"nowrap\">&nbsp;&nbsp;&nbsp;&nbsp;(preference&nbsp;throwAttempt</td></tr>\n",
       "            <tr><td class=\"diff_next\"></td><td class=\"diff_header\" id=\"from33_23\">23</td><td nowrap=\"nowrap\">&nbsp;&nbsp;&nbsp;&nbsp;&nbsp;&nbsp;(exists&nbsp;(?g&nbsp;-&nbsp;golfball)</td><td class=\"diff_next\"></td><td class=\"diff_header\" id=\"to33_23\">23</td><td nowrap=\"nowrap\">&nbsp;&nbsp;&nbsp;&nbsp;&nbsp;&nbsp;(exists&nbsp;(?g&nbsp;-&nbsp;golfball)</td></tr>\n",
       "            <tr><td class=\"diff_next\"></td><td class=\"diff_header\" id=\"from33_24\">24</td><td nowrap=\"nowrap\">&nbsp;&nbsp;&nbsp;&nbsp;&nbsp;&nbsp;&nbsp;&nbsp;(then</td><td class=\"diff_next\"></td><td class=\"diff_header\" id=\"to33_24\">24</td><td nowrap=\"nowrap\">&nbsp;&nbsp;&nbsp;&nbsp;&nbsp;&nbsp;&nbsp;&nbsp;(then</td></tr>\n",
       "            <tr><td class=\"diff_next\"></td><td class=\"diff_header\" id=\"from33_25\">25</td><td nowrap=\"nowrap\">&nbsp;&nbsp;&nbsp;&nbsp;&nbsp;&nbsp;&nbsp;&nbsp;&nbsp;&nbsp;(once&nbsp;(agent_holds&nbsp;?g)&nbsp;)</td><td class=\"diff_next\"></td><td class=\"diff_header\" id=\"to33_25\">25</td><td nowrap=\"nowrap\">&nbsp;&nbsp;&nbsp;&nbsp;&nbsp;&nbsp;&nbsp;&nbsp;&nbsp;&nbsp;(once&nbsp;(agent_holds&nbsp;?g)&nbsp;)</td></tr>\n",
       "            <tr><td class=\"diff_next\"></td><td class=\"diff_header\" id=\"from33_26\">26</td><td nowrap=\"nowrap\">&nbsp;&nbsp;&nbsp;&nbsp;&nbsp;&nbsp;&nbsp;&nbsp;&nbsp;&nbsp;(hold&nbsp;(and&nbsp;(in_motion&nbsp;?g)&nbsp;(not&nbsp;(agent_holds&nbsp;?g)&nbsp;)&nbsp;)&nbsp;)</td><td class=\"diff_next\"></td><td class=\"diff_header\" id=\"to33_26\">26</td><td nowrap=\"nowrap\">&nbsp;&nbsp;&nbsp;&nbsp;&nbsp;&nbsp;&nbsp;&nbsp;&nbsp;&nbsp;(hold&nbsp;(and&nbsp;(in_motion&nbsp;?g)&nbsp;(not&nbsp;(agent_holds&nbsp;?g)&nbsp;)&nbsp;)&nbsp;)</td></tr>\n",
       "            <tr><td class=\"diff_next\"></td><td class=\"diff_header\" id=\"from33_27\">27</td><td nowrap=\"nowrap\">&nbsp;&nbsp;&nbsp;&nbsp;&nbsp;&nbsp;&nbsp;&nbsp;&nbsp;&nbsp;(once&nbsp;(not&nbsp;(in_motion&nbsp;?g)&nbsp;)&nbsp;)</td><td class=\"diff_next\"></td><td class=\"diff_header\" id=\"to33_27\">27</td><td nowrap=\"nowrap\">&nbsp;&nbsp;&nbsp;&nbsp;&nbsp;&nbsp;&nbsp;&nbsp;&nbsp;&nbsp;(once&nbsp;(not&nbsp;(in_motion&nbsp;?g)&nbsp;)&nbsp;)</td></tr>\n",
       "            <tr><td class=\"diff_next\"></td><td class=\"diff_header\" id=\"from33_28\">28</td><td nowrap=\"nowrap\">&nbsp;&nbsp;&nbsp;&nbsp;&nbsp;&nbsp;&nbsp;&nbsp;)</td><td class=\"diff_next\"></td><td class=\"diff_header\" id=\"to33_28\">28</td><td nowrap=\"nowrap\">&nbsp;&nbsp;&nbsp;&nbsp;&nbsp;&nbsp;&nbsp;&nbsp;)</td></tr>\n",
       "            <tr><td class=\"diff_next\"></td><td class=\"diff_header\" id=\"from33_29\">29</td><td nowrap=\"nowrap\">&nbsp;&nbsp;&nbsp;&nbsp;&nbsp;&nbsp;)</td><td class=\"diff_next\"></td><td class=\"diff_header\" id=\"to33_29\">29</td><td nowrap=\"nowrap\">&nbsp;&nbsp;&nbsp;&nbsp;&nbsp;&nbsp;)</td></tr>\n",
       "            <tr><td class=\"diff_next\"></td><td class=\"diff_header\" id=\"from33_30\">30</td><td nowrap=\"nowrap\">&nbsp;&nbsp;&nbsp;&nbsp;)</td><td class=\"diff_next\"></td><td class=\"diff_header\" id=\"to33_30\">30</td><td nowrap=\"nowrap\">&nbsp;&nbsp;&nbsp;&nbsp;)</td></tr>\n",
       "            <tr><td class=\"diff_next\"></td><td class=\"diff_header\" id=\"from33_31\">31</td><td nowrap=\"nowrap\">&nbsp;&nbsp;)</td><td class=\"diff_next\"></td><td class=\"diff_header\" id=\"to33_31\">31</td><td nowrap=\"nowrap\">&nbsp;&nbsp;)</td></tr>\n",
       "            <tr><td class=\"diff_next\"></td><td class=\"diff_header\" id=\"from33_32\">32</td><td nowrap=\"nowrap\">)</td><td class=\"diff_next\"></td><td class=\"diff_header\" id=\"to33_32\">32</td><td nowrap=\"nowrap\">)</td></tr>\n",
       "            <tr><td class=\"diff_next\"></td><td class=\"diff_header\" id=\"from33_33\">33</td><td nowrap=\"nowrap\">(:terminal</td><td class=\"diff_next\"></td><td class=\"diff_header\" id=\"to33_33\">33</td><td nowrap=\"nowrap\">(:terminal</td></tr>\n",
       "            <tr><td class=\"diff_next\"></td><td class=\"diff_header\" id=\"from33_34\">34</td><td nowrap=\"nowrap\">&nbsp;&nbsp;(&gt;=&nbsp;(count&nbsp;throwAttempt)&nbsp;10&nbsp;)</td><td class=\"diff_next\"></td><td class=\"diff_header\" id=\"to33_34\">34</td><td nowrap=\"nowrap\">&nbsp;&nbsp;(&gt;=&nbsp;(count&nbsp;throwAttempt)&nbsp;10&nbsp;)</td></tr>\n",
       "            <tr><td class=\"diff_next\"></td><td class=\"diff_header\" id=\"from33_35\">35</td><td nowrap=\"nowrap\">)</td><td class=\"diff_next\"></td><td class=\"diff_header\" id=\"to33_35\">35</td><td nowrap=\"nowrap\">)</td></tr>\n",
       "            <tr><td class=\"diff_next\"></td><td class=\"diff_header\" id=\"from33_36\">36</td><td nowrap=\"nowrap\">(:scoring</td><td class=\"diff_next\"></td><td class=\"diff_header\" id=\"to33_36\">36</td><td nowrap=\"nowrap\">(:scoring</td></tr>\n",
       "            <tr><td class=\"diff_next\"></td><td class=\"diff_header\" id=\"from33_37\">37</td><td nowrap=\"nowrap\">&nbsp;&nbsp;(*&nbsp;5&nbsp;(count&nbsp;golfballInBinFromPillow)&nbsp;)</td><td class=\"diff_next\"></td><td class=\"diff_header\" id=\"to33_37\">37</td><td nowrap=\"nowrap\">&nbsp;&nbsp;(*&nbsp;5&nbsp;(count&nbsp;golfballInBinFromPillow)&nbsp;)</td></tr>\n",
       "            <tr><td class=\"diff_next\"></td><td class=\"diff_header\" id=\"from33_38\">38</td><td nowrap=\"nowrap\">)</td><td class=\"diff_next\"></td><td class=\"diff_header\" id=\"to33_38\">38</td><td nowrap=\"nowrap\">)</td></tr>\n",
       "            <tr><td class=\"diff_next\"></td><td class=\"diff_header\" id=\"from33_39\">39</td><td nowrap=\"nowrap\">)</td><td class=\"diff_next\"></td><td class=\"diff_header\" id=\"to33_39\">39</td><td nowrap=\"nowrap\">)</td></tr>\n",
       "        </tbody>\n",
       "    </table>\n",
       "    <table class=\"diff\" summary=\"Legends\">\n",
       "        <tr> <th colspan=\"2\"> Legends </th> </tr>\n",
       "        <tr> <td> <table border=\"\" summary=\"Colors\">\n",
       "                      <tr><th> Colors </th> </tr>\n",
       "                      <tr><td class=\"diff_add\">&nbsp;Added&nbsp;</td></tr>\n",
       "                      <tr><td class=\"diff_chg\">Changed</td> </tr>\n",
       "                      <tr><td class=\"diff_sub\">Deleted</td> </tr>\n",
       "                  </table></td>\n",
       "             <td> <table border=\"\" summary=\"Links\">\n",
       "                      <tr><th colspan=\"2\"> Links </th> </tr>\n",
       "                      <tr><td>(f)irst change</td> </tr>\n",
       "                      <tr><td>(n)ext change</td> </tr>\n",
       "                      <tr><td>(t)op</td> </tr>\n",
       "                  </table></td> </tr>\n",
       "    </table>\n",
       "</body>\n",
       "\n",
       "</html>"
      ],
      "text/plain": [
       "<IPython.core.display.HTML object>"
      ]
     },
     "metadata": {},
     "output_type": "display_data"
    },
    {
     "data": {
      "text/markdown": [
       "---"
      ],
      "text/plain": [
       "<IPython.core.display.Markdown object>"
      ]
     },
     "metadata": {},
     "output_type": "display_data"
    },
    {
     "name": "stdout",
     "output_type": "stream",
     "text": [
      "Original game index: 63 | Negative game row: 63 | Negative game col: 129\n"
     ]
    },
    {
     "data": {
      "text/markdown": [
       "### Energy of real game: -28.611 | Energy of regrown game: -29.906 | Difference: -1.295"
      ],
      "text/plain": [
       "<IPython.core.display.Markdown object>"
      ]
     },
     "metadata": {},
     "output_type": "display_data"
    },
    {
     "data": {
      "text/markdown": [
       "### Top features changing the game's energy\n",
       "feature name: **value** = (original feature value => regrown feature value) * weight"
      ],
      "text/plain": [
       "<IPython.core.display.Markdown object>"
      ]
     },
     "metadata": {},
     "output_type": "display_data"
    },
    {
     "data": {
      "text/markdown": [
       "| Features increasing energy (= more fake)                                                 | Features decreasing energy (= more real)                                    |\n",
       "|------------------------------------------------------------------------------------------|-----------------------------------------------------------------------------|\n",
       "| adjacent_arg_types_agent_room_features_constraints: **0.087** = (0.000 => 1.000) * 0.087 | adjacent_arg_types_other_constraints: **-1.382** = (1.000 => 0.000) * 1.382 |"
      ],
      "text/plain": [
       "<IPython.core.display.Markdown object>"
      ]
     },
     "metadata": {},
     "output_type": "display_data"
    },
    {
     "data": {
      "text/markdown": [
       "### Game Diffs"
      ],
      "text/plain": [
       "<IPython.core.display.Markdown object>"
      ]
     },
     "metadata": {},
     "output_type": "display_data"
    },
    {
     "data": {
      "text/html": [
       "\n",
       "<!DOCTYPE html PUBLIC \"-//W3C//DTD XHTML 1.0 Transitional//EN\"\n",
       "          \"http://www.w3.org/TR/xhtml1/DTD/xhtml1-transitional.dtd\">\n",
       "\n",
       "<html>\n",
       "\n",
       "<head>\n",
       "    <meta http-equiv=\"Content-Type\"\n",
       "          content=\"text/html; charset=utf-8\" />\n",
       "    <title></title>\n",
       "    <style type=\"text/css\">\n",
       "        table.diff {font-family:Courier; border:medium;}\n",
       "        .diff_header {background-color:#e0e0e0}\n",
       "        .diff td {text-align: left !important}\n",
       ".diff th {text-align: center!important }\n",
       ".diff td.diff_header {text-align:right !important}\n",
       "        .diff_next {background-color:#c0c0c0}\n",
       "        .diff_add {background-color: #6fa66f !important; font-weight: bold !important}\n",
       "        .diff_chg {background-color: #999949 !important; font-weight: bold !important}\n",
       "        .diff_sub {background-color: #a66f6f !important; font-weight: bold !important}\n",
       "    </style>\n",
       "</head>\n",
       "\n",
       "<body>\n",
       "    \n",
       "    <table class=\"diff\" id=\"difflib_chg_to34__top\"\n",
       "           cellspacing=\"0\" cellpadding=\"0\" rules=\"groups\" >\n",
       "        <colgroup></colgroup> <colgroup></colgroup> <colgroup></colgroup>\n",
       "        <colgroup></colgroup> <colgroup></colgroup> <colgroup></colgroup>\n",
       "        \n",
       "        <tbody>\n",
       "            <tr><td class=\"diff_next\" id=\"difflib_chg_to34__0\"><a href=\"#difflib_chg_to34__1\">n</a></td><td class=\"diff_header\" id=\"from34_1\">1</td><td nowrap=\"nowrap\">(define&nbsp;(game&nbsp;613bd3a683a2ac56a4119aa6-74)&nbsp;(:domain&nbsp;many-objects-room-v1)</td><td class=\"diff_next\"><a href=\"#difflib_chg_to34__1\">n</a></td><td class=\"diff_header\" id=\"to34_1\">1</td><td nowrap=\"nowrap\">(define&nbsp;(game&nbsp;613bd3a683a2ac56a4119aa6-74<span class=\"diff_add\">-129-nd-18-rd-1-rs-constraints-sk-prior5</span>)&nbsp;(:domain&nbsp;many-obj</td></tr>\n",
       "            <tr><td class=\"diff_next\"></td><td class=\"diff_header\"></td><td nowrap=\"nowrap\">&nbsp;</td><td class=\"diff_next\"></td><td class=\"diff_header\">></td><td nowrap=\"nowrap\">ects-room-v1)</td></tr>\n",
       "            <tr><td class=\"diff_next\"></td><td class=\"diff_header\" id=\"from34_2\">2</td><td nowrap=\"nowrap\">(:setup</td><td class=\"diff_next\"></td><td class=\"diff_header\" id=\"to34_2\">2</td><td nowrap=\"nowrap\">(:setup</td></tr>\n",
       "            <tr><td class=\"diff_next\"></td><td class=\"diff_header\" id=\"from34_3\">3</td><td nowrap=\"nowrap\">&nbsp;&nbsp;(and</td><td class=\"diff_next\"></td><td class=\"diff_header\" id=\"to34_3\">3</td><td nowrap=\"nowrap\">&nbsp;&nbsp;(and</td></tr>\n",
       "            <tr><td class=\"diff_next\"></td><td class=\"diff_header\" id=\"from34_4\">4</td><td nowrap=\"nowrap\">&nbsp;&nbsp;&nbsp;&nbsp;(game-conserved</td><td class=\"diff_next\"></td><td class=\"diff_header\" id=\"to34_4\">4</td><td nowrap=\"nowrap\">&nbsp;&nbsp;&nbsp;&nbsp;(game-conserved</td></tr>\n",
       "            <tr><td class=\"diff_next\"></td><td class=\"diff_header\" id=\"from34_5\">5</td><td nowrap=\"nowrap\">&nbsp;&nbsp;&nbsp;&nbsp;&nbsp;&nbsp;(exists&nbsp;(?h&nbsp;-&nbsp;hexagonal_bin&nbsp;?p&nbsp;-&nbsp;pillow)</td><td class=\"diff_next\"></td><td class=\"diff_header\" id=\"to34_5\">5</td><td nowrap=\"nowrap\">&nbsp;&nbsp;&nbsp;&nbsp;&nbsp;&nbsp;(exists&nbsp;(?h&nbsp;-&nbsp;hexagonal_bin&nbsp;?p&nbsp;-&nbsp;pillow)</td></tr>\n",
       "            <tr><td class=\"diff_next\"></td><td class=\"diff_header\" id=\"from34_6\">6</td><td nowrap=\"nowrap\">&nbsp;&nbsp;&nbsp;&nbsp;&nbsp;&nbsp;&nbsp;&nbsp;(&lt;&nbsp;(distance&nbsp;?h&nbsp;?p)&nbsp;3)</td><td class=\"diff_next\"></td><td class=\"diff_header\" id=\"to34_6\">6</td><td nowrap=\"nowrap\">&nbsp;&nbsp;&nbsp;&nbsp;&nbsp;&nbsp;&nbsp;&nbsp;(&lt;&nbsp;(distance&nbsp;?h&nbsp;?p)&nbsp;3)</td></tr>\n",
       "            <tr><td class=\"diff_next\"></td><td class=\"diff_header\" id=\"from34_7\">7</td><td nowrap=\"nowrap\">&nbsp;&nbsp;&nbsp;&nbsp;&nbsp;&nbsp;)</td><td class=\"diff_next\"></td><td class=\"diff_header\" id=\"to34_7\">7</td><td nowrap=\"nowrap\">&nbsp;&nbsp;&nbsp;&nbsp;&nbsp;&nbsp;)</td></tr>\n",
       "            <tr><td class=\"diff_next\"></td><td class=\"diff_header\" id=\"from34_8\">8</td><td nowrap=\"nowrap\">&nbsp;&nbsp;&nbsp;&nbsp;)</td><td class=\"diff_next\"></td><td class=\"diff_header\" id=\"to34_8\">8</td><td nowrap=\"nowrap\">&nbsp;&nbsp;&nbsp;&nbsp;)</td></tr>\n",
       "            <tr><td class=\"diff_next\"></td><td class=\"diff_header\" id=\"from34_9\">9</td><td nowrap=\"nowrap\">&nbsp;&nbsp;)</td><td class=\"diff_next\"></td><td class=\"diff_header\" id=\"to34_9\">9</td><td nowrap=\"nowrap\">&nbsp;&nbsp;)</td></tr>\n",
       "            <tr><td class=\"diff_next\"></td><td class=\"diff_header\" id=\"from34_10\">10</td><td nowrap=\"nowrap\">)</td><td class=\"diff_next\"></td><td class=\"diff_header\" id=\"to34_10\">10</td><td nowrap=\"nowrap\">)</td></tr>\n",
       "            <tr><td class=\"diff_next\" id=\"difflib_chg_to34__1\"></td><td class=\"diff_header\" id=\"from34_11\">11</td><td nowrap=\"nowrap\">(:constraints</td><td class=\"diff_next\"></td><td class=\"diff_header\" id=\"to34_11\">11</td><td nowrap=\"nowrap\">(:constraints</td></tr>\n",
       "            <tr><td class=\"diff_next\"></td><td class=\"diff_header\" id=\"from34_12\">12</td><td nowrap=\"nowrap\">&nbsp;&nbsp;(and</td><td class=\"diff_next\"></td><td class=\"diff_header\" id=\"to34_12\">12</td><td nowrap=\"nowrap\">&nbsp;&nbsp;(and</td></tr>\n",
       "            <tr><td class=\"diff_next\"></td><td class=\"diff_header\" id=\"from34_13\">13</td><td nowrap=\"nowrap\">&nbsp;&nbsp;&nbsp;&nbsp;(preference&nbsp;golfballInBinFromPillow</td><td class=\"diff_next\"></td><td class=\"diff_header\" id=\"to34_13\">13</td><td nowrap=\"nowrap\">&nbsp;&nbsp;&nbsp;&nbsp;(preference&nbsp;golfballInBinFromPillow</td></tr>\n",
       "            <tr><td class=\"diff_next\"></td><td class=\"diff_header\" id=\"from34_14\">14</td><td nowrap=\"nowrap\">&nbsp;&nbsp;&nbsp;&nbsp;&nbsp;&nbsp;(exists&nbsp;(?g&nbsp;-&nbsp;golfball&nbsp;?h&nbsp;-&nbsp;hexagonal_bin&nbsp;?p&nbsp;-&nbsp;pillow)</td><td class=\"diff_next\"></td><td class=\"diff_header\" id=\"to34_14\">14</td><td nowrap=\"nowrap\">&nbsp;&nbsp;&nbsp;&nbsp;&nbsp;&nbsp;(exists&nbsp;(?g&nbsp;-&nbsp;golfball&nbsp;?h&nbsp;-&nbsp;hexagonal_bin&nbsp;?p&nbsp;-&nbsp;pillow)</td></tr>\n",
       "            <tr><td class=\"diff_next\"></td><td class=\"diff_header\" id=\"from34_15\">15</td><td nowrap=\"nowrap\">&nbsp;&nbsp;&nbsp;&nbsp;&nbsp;&nbsp;&nbsp;&nbsp;(then</td><td class=\"diff_next\"></td><td class=\"diff_header\" id=\"to34_15\">15</td><td nowrap=\"nowrap\">&nbsp;&nbsp;&nbsp;&nbsp;&nbsp;&nbsp;&nbsp;&nbsp;(then</td></tr>\n",
       "            <tr><td class=\"diff_next\"><a href=\"#difflib_chg_to34__top\">t</a></td><td class=\"diff_header\" id=\"from34_16\">16</td><td nowrap=\"nowrap\">&nbsp;&nbsp;&nbsp;&nbsp;&nbsp;&nbsp;&nbsp;&nbsp;&nbsp;&nbsp;(once&nbsp;(and&nbsp;(adjacent&nbsp;<span class=\"diff_chg\">?p</span>&nbsp;agent)&nbsp;(agent_holds&nbsp;?g)&nbsp;(is_setup_object&nbsp;?p)&nbsp;)&nbsp;)</td><td class=\"diff_next\"><a href=\"#difflib_chg_to34__top\">t</a></td><td class=\"diff_header\" id=\"to34_16\">16</td><td nowrap=\"nowrap\">&nbsp;&nbsp;&nbsp;&nbsp;&nbsp;&nbsp;&nbsp;&nbsp;&nbsp;&nbsp;(once&nbsp;(and&nbsp;(adjacent&nbsp;<span class=\"diff_chg\">room_center</span>&nbsp;agent)&nbsp;(agent_holds&nbsp;?g)&nbsp;(is_setup_object&nbsp;?p)&nbsp;)&nbsp;)</td></tr>\n",
       "            <tr><td class=\"diff_next\"></td><td class=\"diff_header\" id=\"from34_17\">17</td><td nowrap=\"nowrap\">&nbsp;&nbsp;&nbsp;&nbsp;&nbsp;&nbsp;&nbsp;&nbsp;&nbsp;&nbsp;(hold&nbsp;(and&nbsp;(in_motion&nbsp;?g)&nbsp;(not&nbsp;(agent_holds&nbsp;?g)&nbsp;)&nbsp;)&nbsp;)</td><td class=\"diff_next\"></td><td class=\"diff_header\" id=\"to34_17\">17</td><td nowrap=\"nowrap\">&nbsp;&nbsp;&nbsp;&nbsp;&nbsp;&nbsp;&nbsp;&nbsp;&nbsp;&nbsp;(hold&nbsp;(and&nbsp;(in_motion&nbsp;?g)&nbsp;(not&nbsp;(agent_holds&nbsp;?g)&nbsp;)&nbsp;)&nbsp;)</td></tr>\n",
       "            <tr><td class=\"diff_next\"></td><td class=\"diff_header\" id=\"from34_18\">18</td><td nowrap=\"nowrap\">&nbsp;&nbsp;&nbsp;&nbsp;&nbsp;&nbsp;&nbsp;&nbsp;&nbsp;&nbsp;(once&nbsp;(and&nbsp;(not&nbsp;(in_motion&nbsp;?g)&nbsp;)&nbsp;(in&nbsp;?h&nbsp;?g)&nbsp;)&nbsp;)</td><td class=\"diff_next\"></td><td class=\"diff_header\" id=\"to34_18\">18</td><td nowrap=\"nowrap\">&nbsp;&nbsp;&nbsp;&nbsp;&nbsp;&nbsp;&nbsp;&nbsp;&nbsp;&nbsp;(once&nbsp;(and&nbsp;(not&nbsp;(in_motion&nbsp;?g)&nbsp;)&nbsp;(in&nbsp;?h&nbsp;?g)&nbsp;)&nbsp;)</td></tr>\n",
       "            <tr><td class=\"diff_next\"></td><td class=\"diff_header\" id=\"from34_19\">19</td><td nowrap=\"nowrap\">&nbsp;&nbsp;&nbsp;&nbsp;&nbsp;&nbsp;&nbsp;&nbsp;)</td><td class=\"diff_next\"></td><td class=\"diff_header\" id=\"to34_19\">19</td><td nowrap=\"nowrap\">&nbsp;&nbsp;&nbsp;&nbsp;&nbsp;&nbsp;&nbsp;&nbsp;)</td></tr>\n",
       "            <tr><td class=\"diff_next\"></td><td class=\"diff_header\" id=\"from34_20\">20</td><td nowrap=\"nowrap\">&nbsp;&nbsp;&nbsp;&nbsp;&nbsp;&nbsp;)</td><td class=\"diff_next\"></td><td class=\"diff_header\" id=\"to34_20\">20</td><td nowrap=\"nowrap\">&nbsp;&nbsp;&nbsp;&nbsp;&nbsp;&nbsp;)</td></tr>\n",
       "            <tr><td class=\"diff_next\"></td><td class=\"diff_header\" id=\"from34_21\">21</td><td nowrap=\"nowrap\">&nbsp;&nbsp;&nbsp;&nbsp;)</td><td class=\"diff_next\"></td><td class=\"diff_header\" id=\"to34_21\">21</td><td nowrap=\"nowrap\">&nbsp;&nbsp;&nbsp;&nbsp;)</td></tr>\n",
       "            <tr><td class=\"diff_next\"></td><td class=\"diff_header\" id=\"from34_22\">22</td><td nowrap=\"nowrap\">&nbsp;&nbsp;&nbsp;&nbsp;(preference&nbsp;throwAttempt</td><td class=\"diff_next\"></td><td class=\"diff_header\" id=\"to34_22\">22</td><td nowrap=\"nowrap\">&nbsp;&nbsp;&nbsp;&nbsp;(preference&nbsp;throwAttempt</td></tr>\n",
       "            <tr><td class=\"diff_next\"></td><td class=\"diff_header\" id=\"from34_23\">23</td><td nowrap=\"nowrap\">&nbsp;&nbsp;&nbsp;&nbsp;&nbsp;&nbsp;(exists&nbsp;(?g&nbsp;-&nbsp;golfball)</td><td class=\"diff_next\"></td><td class=\"diff_header\" id=\"to34_23\">23</td><td nowrap=\"nowrap\">&nbsp;&nbsp;&nbsp;&nbsp;&nbsp;&nbsp;(exists&nbsp;(?g&nbsp;-&nbsp;golfball)</td></tr>\n",
       "            <tr><td class=\"diff_next\"></td><td class=\"diff_header\" id=\"from34_24\">24</td><td nowrap=\"nowrap\">&nbsp;&nbsp;&nbsp;&nbsp;&nbsp;&nbsp;&nbsp;&nbsp;(then</td><td class=\"diff_next\"></td><td class=\"diff_header\" id=\"to34_24\">24</td><td nowrap=\"nowrap\">&nbsp;&nbsp;&nbsp;&nbsp;&nbsp;&nbsp;&nbsp;&nbsp;(then</td></tr>\n",
       "            <tr><td class=\"diff_next\"></td><td class=\"diff_header\" id=\"from34_25\">25</td><td nowrap=\"nowrap\">&nbsp;&nbsp;&nbsp;&nbsp;&nbsp;&nbsp;&nbsp;&nbsp;&nbsp;&nbsp;(once&nbsp;(agent_holds&nbsp;?g)&nbsp;)</td><td class=\"diff_next\"></td><td class=\"diff_header\" id=\"to34_25\">25</td><td nowrap=\"nowrap\">&nbsp;&nbsp;&nbsp;&nbsp;&nbsp;&nbsp;&nbsp;&nbsp;&nbsp;&nbsp;(once&nbsp;(agent_holds&nbsp;?g)&nbsp;)</td></tr>\n",
       "            <tr><td class=\"diff_next\"></td><td class=\"diff_header\" id=\"from34_26\">26</td><td nowrap=\"nowrap\">&nbsp;&nbsp;&nbsp;&nbsp;&nbsp;&nbsp;&nbsp;&nbsp;&nbsp;&nbsp;(hold&nbsp;(and&nbsp;(in_motion&nbsp;?g)&nbsp;(not&nbsp;(agent_holds&nbsp;?g)&nbsp;)&nbsp;)&nbsp;)</td><td class=\"diff_next\"></td><td class=\"diff_header\" id=\"to34_26\">26</td><td nowrap=\"nowrap\">&nbsp;&nbsp;&nbsp;&nbsp;&nbsp;&nbsp;&nbsp;&nbsp;&nbsp;&nbsp;(hold&nbsp;(and&nbsp;(in_motion&nbsp;?g)&nbsp;(not&nbsp;(agent_holds&nbsp;?g)&nbsp;)&nbsp;)&nbsp;)</td></tr>\n",
       "            <tr><td class=\"diff_next\"></td><td class=\"diff_header\" id=\"from34_27\">27</td><td nowrap=\"nowrap\">&nbsp;&nbsp;&nbsp;&nbsp;&nbsp;&nbsp;&nbsp;&nbsp;&nbsp;&nbsp;(once&nbsp;(not&nbsp;(in_motion&nbsp;?g)&nbsp;)&nbsp;)</td><td class=\"diff_next\"></td><td class=\"diff_header\" id=\"to34_27\">27</td><td nowrap=\"nowrap\">&nbsp;&nbsp;&nbsp;&nbsp;&nbsp;&nbsp;&nbsp;&nbsp;&nbsp;&nbsp;(once&nbsp;(not&nbsp;(in_motion&nbsp;?g)&nbsp;)&nbsp;)</td></tr>\n",
       "            <tr><td class=\"diff_next\"></td><td class=\"diff_header\" id=\"from34_28\">28</td><td nowrap=\"nowrap\">&nbsp;&nbsp;&nbsp;&nbsp;&nbsp;&nbsp;&nbsp;&nbsp;)</td><td class=\"diff_next\"></td><td class=\"diff_header\" id=\"to34_28\">28</td><td nowrap=\"nowrap\">&nbsp;&nbsp;&nbsp;&nbsp;&nbsp;&nbsp;&nbsp;&nbsp;)</td></tr>\n",
       "            <tr><td class=\"diff_next\"></td><td class=\"diff_header\" id=\"from34_29\">29</td><td nowrap=\"nowrap\">&nbsp;&nbsp;&nbsp;&nbsp;&nbsp;&nbsp;)</td><td class=\"diff_next\"></td><td class=\"diff_header\" id=\"to34_29\">29</td><td nowrap=\"nowrap\">&nbsp;&nbsp;&nbsp;&nbsp;&nbsp;&nbsp;)</td></tr>\n",
       "            <tr><td class=\"diff_next\"></td><td class=\"diff_header\" id=\"from34_30\">30</td><td nowrap=\"nowrap\">&nbsp;&nbsp;&nbsp;&nbsp;)</td><td class=\"diff_next\"></td><td class=\"diff_header\" id=\"to34_30\">30</td><td nowrap=\"nowrap\">&nbsp;&nbsp;&nbsp;&nbsp;)</td></tr>\n",
       "            <tr><td class=\"diff_next\"></td><td class=\"diff_header\" id=\"from34_31\">31</td><td nowrap=\"nowrap\">&nbsp;&nbsp;)</td><td class=\"diff_next\"></td><td class=\"diff_header\" id=\"to34_31\">31</td><td nowrap=\"nowrap\">&nbsp;&nbsp;)</td></tr>\n",
       "            <tr><td class=\"diff_next\"></td><td class=\"diff_header\" id=\"from34_32\">32</td><td nowrap=\"nowrap\">)</td><td class=\"diff_next\"></td><td class=\"diff_header\" id=\"to34_32\">32</td><td nowrap=\"nowrap\">)</td></tr>\n",
       "            <tr><td class=\"diff_next\"></td><td class=\"diff_header\" id=\"from34_33\">33</td><td nowrap=\"nowrap\">(:terminal</td><td class=\"diff_next\"></td><td class=\"diff_header\" id=\"to34_33\">33</td><td nowrap=\"nowrap\">(:terminal</td></tr>\n",
       "            <tr><td class=\"diff_next\"></td><td class=\"diff_header\" id=\"from34_34\">34</td><td nowrap=\"nowrap\">&nbsp;&nbsp;(&gt;=&nbsp;(count&nbsp;throwAttempt)&nbsp;10&nbsp;)</td><td class=\"diff_next\"></td><td class=\"diff_header\" id=\"to34_34\">34</td><td nowrap=\"nowrap\">&nbsp;&nbsp;(&gt;=&nbsp;(count&nbsp;throwAttempt)&nbsp;10&nbsp;)</td></tr>\n",
       "            <tr><td class=\"diff_next\"></td><td class=\"diff_header\" id=\"from34_35\">35</td><td nowrap=\"nowrap\">)</td><td class=\"diff_next\"></td><td class=\"diff_header\" id=\"to34_35\">35</td><td nowrap=\"nowrap\">)</td></tr>\n",
       "            <tr><td class=\"diff_next\"></td><td class=\"diff_header\" id=\"from34_36\">36</td><td nowrap=\"nowrap\">(:scoring</td><td class=\"diff_next\"></td><td class=\"diff_header\" id=\"to34_36\">36</td><td nowrap=\"nowrap\">(:scoring</td></tr>\n",
       "            <tr><td class=\"diff_next\"></td><td class=\"diff_header\" id=\"from34_37\">37</td><td nowrap=\"nowrap\">&nbsp;&nbsp;(*&nbsp;5&nbsp;(count&nbsp;golfballInBinFromPillow)&nbsp;)</td><td class=\"diff_next\"></td><td class=\"diff_header\" id=\"to34_37\">37</td><td nowrap=\"nowrap\">&nbsp;&nbsp;(*&nbsp;5&nbsp;(count&nbsp;golfballInBinFromPillow)&nbsp;)</td></tr>\n",
       "            <tr><td class=\"diff_next\"></td><td class=\"diff_header\" id=\"from34_38\">38</td><td nowrap=\"nowrap\">)</td><td class=\"diff_next\"></td><td class=\"diff_header\" id=\"to34_38\">38</td><td nowrap=\"nowrap\">)</td></tr>\n",
       "            <tr><td class=\"diff_next\"></td><td class=\"diff_header\" id=\"from34_39\">39</td><td nowrap=\"nowrap\">)</td><td class=\"diff_next\"></td><td class=\"diff_header\" id=\"to34_39\">39</td><td nowrap=\"nowrap\">)</td></tr>\n",
       "        </tbody>\n",
       "    </table>\n",
       "    <table class=\"diff\" summary=\"Legends\">\n",
       "        <tr> <th colspan=\"2\"> Legends </th> </tr>\n",
       "        <tr> <td> <table border=\"\" summary=\"Colors\">\n",
       "                      <tr><th> Colors </th> </tr>\n",
       "                      <tr><td class=\"diff_add\">&nbsp;Added&nbsp;</td></tr>\n",
       "                      <tr><td class=\"diff_chg\">Changed</td> </tr>\n",
       "                      <tr><td class=\"diff_sub\">Deleted</td> </tr>\n",
       "                  </table></td>\n",
       "             <td> <table border=\"\" summary=\"Links\">\n",
       "                      <tr><th colspan=\"2\"> Links </th> </tr>\n",
       "                      <tr><td>(f)irst change</td> </tr>\n",
       "                      <tr><td>(n)ext change</td> </tr>\n",
       "                      <tr><td>(t)op</td> </tr>\n",
       "                  </table></td> </tr>\n",
       "    </table>\n",
       "</body>\n",
       "\n",
       "</html>"
      ],
      "text/plain": [
       "<IPython.core.display.HTML object>"
      ]
     },
     "metadata": {},
     "output_type": "display_data"
    },
    {
     "data": {
      "text/markdown": [
       "---"
      ],
      "text/plain": [
       "<IPython.core.display.Markdown object>"
      ]
     },
     "metadata": {},
     "output_type": "display_data"
    },
    {
     "name": "stdout",
     "output_type": "stream",
     "text": [
      "Original game index: 63 | Negative game row: 63 | Negative game col: 950\n"
     ]
    },
    {
     "data": {
      "text/markdown": [
       "### Energy of real game: -28.611 | Energy of regrown game: -29.906 | Difference: -1.295"
      ],
      "text/plain": [
       "<IPython.core.display.Markdown object>"
      ]
     },
     "metadata": {},
     "output_type": "display_data"
    },
    {
     "data": {
      "text/markdown": [
       "### Top features changing the game's energy\n",
       "feature name: **value** = (original feature value => regrown feature value) * weight"
      ],
      "text/plain": [
       "<IPython.core.display.Markdown object>"
      ]
     },
     "metadata": {},
     "output_type": "display_data"
    },
    {
     "data": {
      "text/markdown": [
       "| Features increasing energy (= more fake)                                                 | Features decreasing energy (= more real)                                    |\n",
       "|------------------------------------------------------------------------------------------|-----------------------------------------------------------------------------|\n",
       "| adjacent_arg_types_agent_room_features_constraints: **0.087** = (0.000 => 1.000) * 0.087 | adjacent_arg_types_other_constraints: **-1.382** = (1.000 => 0.000) * 1.382 |"
      ],
      "text/plain": [
       "<IPython.core.display.Markdown object>"
      ]
     },
     "metadata": {},
     "output_type": "display_data"
    },
    {
     "data": {
      "text/markdown": [
       "### Game Diffs"
      ],
      "text/plain": [
       "<IPython.core.display.Markdown object>"
      ]
     },
     "metadata": {},
     "output_type": "display_data"
    },
    {
     "data": {
      "text/html": [
       "\n",
       "<!DOCTYPE html PUBLIC \"-//W3C//DTD XHTML 1.0 Transitional//EN\"\n",
       "          \"http://www.w3.org/TR/xhtml1/DTD/xhtml1-transitional.dtd\">\n",
       "\n",
       "<html>\n",
       "\n",
       "<head>\n",
       "    <meta http-equiv=\"Content-Type\"\n",
       "          content=\"text/html; charset=utf-8\" />\n",
       "    <title></title>\n",
       "    <style type=\"text/css\">\n",
       "        table.diff {font-family:Courier; border:medium;}\n",
       "        .diff_header {background-color:#e0e0e0}\n",
       "        .diff td {text-align: left !important}\n",
       ".diff th {text-align: center!important }\n",
       ".diff td.diff_header {text-align:right !important}\n",
       "        .diff_next {background-color:#c0c0c0}\n",
       "        .diff_add {background-color: #6fa66f !important; font-weight: bold !important}\n",
       "        .diff_chg {background-color: #999949 !important; font-weight: bold !important}\n",
       "        .diff_sub {background-color: #a66f6f !important; font-weight: bold !important}\n",
       "    </style>\n",
       "</head>\n",
       "\n",
       "<body>\n",
       "    \n",
       "    <table class=\"diff\" id=\"difflib_chg_to35__top\"\n",
       "           cellspacing=\"0\" cellpadding=\"0\" rules=\"groups\" >\n",
       "        <colgroup></colgroup> <colgroup></colgroup> <colgroup></colgroup>\n",
       "        <colgroup></colgroup> <colgroup></colgroup> <colgroup></colgroup>\n",
       "        \n",
       "        <tbody>\n",
       "            <tr><td class=\"diff_next\" id=\"difflib_chg_to35__0\"><a href=\"#difflib_chg_to35__1\">n</a></td><td class=\"diff_header\" id=\"from35_1\">1</td><td nowrap=\"nowrap\">(define&nbsp;(game&nbsp;613bd3a683a2ac56a4119aa6-74)&nbsp;(:domain&nbsp;many-objects-room-v1)</td><td class=\"diff_next\"><a href=\"#difflib_chg_to35__1\">n</a></td><td class=\"diff_header\" id=\"to35_1\">1</td><td nowrap=\"nowrap\">(define&nbsp;(game&nbsp;613bd3a683a2ac56a4119aa6-74<span class=\"diff_add\">-950-nd-18-rd-1-rs-constraints-sk-prior5</span>)&nbsp;(:domain&nbsp;many-obj</td></tr>\n",
       "            <tr><td class=\"diff_next\"></td><td class=\"diff_header\"></td><td nowrap=\"nowrap\">&nbsp;</td><td class=\"diff_next\"></td><td class=\"diff_header\">></td><td nowrap=\"nowrap\">ects-room-v1)</td></tr>\n",
       "            <tr><td class=\"diff_next\"></td><td class=\"diff_header\" id=\"from35_2\">2</td><td nowrap=\"nowrap\">(:setup</td><td class=\"diff_next\"></td><td class=\"diff_header\" id=\"to35_2\">2</td><td nowrap=\"nowrap\">(:setup</td></tr>\n",
       "            <tr><td class=\"diff_next\"></td><td class=\"diff_header\" id=\"from35_3\">3</td><td nowrap=\"nowrap\">&nbsp;&nbsp;(and</td><td class=\"diff_next\"></td><td class=\"diff_header\" id=\"to35_3\">3</td><td nowrap=\"nowrap\">&nbsp;&nbsp;(and</td></tr>\n",
       "            <tr><td class=\"diff_next\"></td><td class=\"diff_header\" id=\"from35_4\">4</td><td nowrap=\"nowrap\">&nbsp;&nbsp;&nbsp;&nbsp;(game-conserved</td><td class=\"diff_next\"></td><td class=\"diff_header\" id=\"to35_4\">4</td><td nowrap=\"nowrap\">&nbsp;&nbsp;&nbsp;&nbsp;(game-conserved</td></tr>\n",
       "            <tr><td class=\"diff_next\"></td><td class=\"diff_header\" id=\"from35_5\">5</td><td nowrap=\"nowrap\">&nbsp;&nbsp;&nbsp;&nbsp;&nbsp;&nbsp;(exists&nbsp;(?h&nbsp;-&nbsp;hexagonal_bin&nbsp;?p&nbsp;-&nbsp;pillow)</td><td class=\"diff_next\"></td><td class=\"diff_header\" id=\"to35_5\">5</td><td nowrap=\"nowrap\">&nbsp;&nbsp;&nbsp;&nbsp;&nbsp;&nbsp;(exists&nbsp;(?h&nbsp;-&nbsp;hexagonal_bin&nbsp;?p&nbsp;-&nbsp;pillow)</td></tr>\n",
       "            <tr><td class=\"diff_next\"></td><td class=\"diff_header\" id=\"from35_6\">6</td><td nowrap=\"nowrap\">&nbsp;&nbsp;&nbsp;&nbsp;&nbsp;&nbsp;&nbsp;&nbsp;(&lt;&nbsp;(distance&nbsp;?h&nbsp;?p)&nbsp;3)</td><td class=\"diff_next\"></td><td class=\"diff_header\" id=\"to35_6\">6</td><td nowrap=\"nowrap\">&nbsp;&nbsp;&nbsp;&nbsp;&nbsp;&nbsp;&nbsp;&nbsp;(&lt;&nbsp;(distance&nbsp;?h&nbsp;?p)&nbsp;3)</td></tr>\n",
       "            <tr><td class=\"diff_next\"></td><td class=\"diff_header\" id=\"from35_7\">7</td><td nowrap=\"nowrap\">&nbsp;&nbsp;&nbsp;&nbsp;&nbsp;&nbsp;)</td><td class=\"diff_next\"></td><td class=\"diff_header\" id=\"to35_7\">7</td><td nowrap=\"nowrap\">&nbsp;&nbsp;&nbsp;&nbsp;&nbsp;&nbsp;)</td></tr>\n",
       "            <tr><td class=\"diff_next\"></td><td class=\"diff_header\" id=\"from35_8\">8</td><td nowrap=\"nowrap\">&nbsp;&nbsp;&nbsp;&nbsp;)</td><td class=\"diff_next\"></td><td class=\"diff_header\" id=\"to35_8\">8</td><td nowrap=\"nowrap\">&nbsp;&nbsp;&nbsp;&nbsp;)</td></tr>\n",
       "            <tr><td class=\"diff_next\"></td><td class=\"diff_header\" id=\"from35_9\">9</td><td nowrap=\"nowrap\">&nbsp;&nbsp;)</td><td class=\"diff_next\"></td><td class=\"diff_header\" id=\"to35_9\">9</td><td nowrap=\"nowrap\">&nbsp;&nbsp;)</td></tr>\n",
       "            <tr><td class=\"diff_next\"></td><td class=\"diff_header\" id=\"from35_10\">10</td><td nowrap=\"nowrap\">)</td><td class=\"diff_next\"></td><td class=\"diff_header\" id=\"to35_10\">10</td><td nowrap=\"nowrap\">)</td></tr>\n",
       "            <tr><td class=\"diff_next\" id=\"difflib_chg_to35__1\"></td><td class=\"diff_header\" id=\"from35_11\">11</td><td nowrap=\"nowrap\">(:constraints</td><td class=\"diff_next\"></td><td class=\"diff_header\" id=\"to35_11\">11</td><td nowrap=\"nowrap\">(:constraints</td></tr>\n",
       "            <tr><td class=\"diff_next\"></td><td class=\"diff_header\" id=\"from35_12\">12</td><td nowrap=\"nowrap\">&nbsp;&nbsp;(and</td><td class=\"diff_next\"></td><td class=\"diff_header\" id=\"to35_12\">12</td><td nowrap=\"nowrap\">&nbsp;&nbsp;(and</td></tr>\n",
       "            <tr><td class=\"diff_next\"></td><td class=\"diff_header\" id=\"from35_13\">13</td><td nowrap=\"nowrap\">&nbsp;&nbsp;&nbsp;&nbsp;(preference&nbsp;golfballInBinFromPillow</td><td class=\"diff_next\"></td><td class=\"diff_header\" id=\"to35_13\">13</td><td nowrap=\"nowrap\">&nbsp;&nbsp;&nbsp;&nbsp;(preference&nbsp;golfballInBinFromPillow</td></tr>\n",
       "            <tr><td class=\"diff_next\"></td><td class=\"diff_header\" id=\"from35_14\">14</td><td nowrap=\"nowrap\">&nbsp;&nbsp;&nbsp;&nbsp;&nbsp;&nbsp;(exists&nbsp;(?g&nbsp;-&nbsp;golfball&nbsp;?h&nbsp;-&nbsp;hexagonal_bin&nbsp;?p&nbsp;-&nbsp;pillow)</td><td class=\"diff_next\"></td><td class=\"diff_header\" id=\"to35_14\">14</td><td nowrap=\"nowrap\">&nbsp;&nbsp;&nbsp;&nbsp;&nbsp;&nbsp;(exists&nbsp;(?g&nbsp;-&nbsp;golfball&nbsp;?h&nbsp;-&nbsp;hexagonal_bin&nbsp;?p&nbsp;-&nbsp;pillow)</td></tr>\n",
       "            <tr><td class=\"diff_next\"></td><td class=\"diff_header\" id=\"from35_15\">15</td><td nowrap=\"nowrap\">&nbsp;&nbsp;&nbsp;&nbsp;&nbsp;&nbsp;&nbsp;&nbsp;(then</td><td class=\"diff_next\"></td><td class=\"diff_header\" id=\"to35_15\">15</td><td nowrap=\"nowrap\">&nbsp;&nbsp;&nbsp;&nbsp;&nbsp;&nbsp;&nbsp;&nbsp;(then</td></tr>\n",
       "            <tr><td class=\"diff_next\"><a href=\"#difflib_chg_to35__top\">t</a></td><td class=\"diff_header\" id=\"from35_16\">16</td><td nowrap=\"nowrap\">&nbsp;&nbsp;&nbsp;&nbsp;&nbsp;&nbsp;&nbsp;&nbsp;&nbsp;&nbsp;(once&nbsp;(and&nbsp;(adjacent&nbsp;<span class=\"diff_chg\">?p</span>&nbsp;agent)&nbsp;(agent_holds&nbsp;?g)&nbsp;(is_setup_object&nbsp;?p)&nbsp;)&nbsp;)</td><td class=\"diff_next\"><a href=\"#difflib_chg_to35__top\">t</a></td><td class=\"diff_header\" id=\"to35_16\">16</td><td nowrap=\"nowrap\">&nbsp;&nbsp;&nbsp;&nbsp;&nbsp;&nbsp;&nbsp;&nbsp;&nbsp;&nbsp;(once&nbsp;(and&nbsp;(adjacent&nbsp;<span class=\"diff_chg\">door</span>&nbsp;agent)&nbsp;(agent_holds&nbsp;?g)&nbsp;(is_setup_object&nbsp;?p)&nbsp;)&nbsp;)</td></tr>\n",
       "            <tr><td class=\"diff_next\"></td><td class=\"diff_header\" id=\"from35_17\">17</td><td nowrap=\"nowrap\">&nbsp;&nbsp;&nbsp;&nbsp;&nbsp;&nbsp;&nbsp;&nbsp;&nbsp;&nbsp;(hold&nbsp;(and&nbsp;(in_motion&nbsp;?g)&nbsp;(not&nbsp;(agent_holds&nbsp;?g)&nbsp;)&nbsp;)&nbsp;)</td><td class=\"diff_next\"></td><td class=\"diff_header\" id=\"to35_17\">17</td><td nowrap=\"nowrap\">&nbsp;&nbsp;&nbsp;&nbsp;&nbsp;&nbsp;&nbsp;&nbsp;&nbsp;&nbsp;(hold&nbsp;(and&nbsp;(in_motion&nbsp;?g)&nbsp;(not&nbsp;(agent_holds&nbsp;?g)&nbsp;)&nbsp;)&nbsp;)</td></tr>\n",
       "            <tr><td class=\"diff_next\"></td><td class=\"diff_header\" id=\"from35_18\">18</td><td nowrap=\"nowrap\">&nbsp;&nbsp;&nbsp;&nbsp;&nbsp;&nbsp;&nbsp;&nbsp;&nbsp;&nbsp;(once&nbsp;(and&nbsp;(not&nbsp;(in_motion&nbsp;?g)&nbsp;)&nbsp;(in&nbsp;?h&nbsp;?g)&nbsp;)&nbsp;)</td><td class=\"diff_next\"></td><td class=\"diff_header\" id=\"to35_18\">18</td><td nowrap=\"nowrap\">&nbsp;&nbsp;&nbsp;&nbsp;&nbsp;&nbsp;&nbsp;&nbsp;&nbsp;&nbsp;(once&nbsp;(and&nbsp;(not&nbsp;(in_motion&nbsp;?g)&nbsp;)&nbsp;(in&nbsp;?h&nbsp;?g)&nbsp;)&nbsp;)</td></tr>\n",
       "            <tr><td class=\"diff_next\"></td><td class=\"diff_header\" id=\"from35_19\">19</td><td nowrap=\"nowrap\">&nbsp;&nbsp;&nbsp;&nbsp;&nbsp;&nbsp;&nbsp;&nbsp;)</td><td class=\"diff_next\"></td><td class=\"diff_header\" id=\"to35_19\">19</td><td nowrap=\"nowrap\">&nbsp;&nbsp;&nbsp;&nbsp;&nbsp;&nbsp;&nbsp;&nbsp;)</td></tr>\n",
       "            <tr><td class=\"diff_next\"></td><td class=\"diff_header\" id=\"from35_20\">20</td><td nowrap=\"nowrap\">&nbsp;&nbsp;&nbsp;&nbsp;&nbsp;&nbsp;)</td><td class=\"diff_next\"></td><td class=\"diff_header\" id=\"to35_20\">20</td><td nowrap=\"nowrap\">&nbsp;&nbsp;&nbsp;&nbsp;&nbsp;&nbsp;)</td></tr>\n",
       "            <tr><td class=\"diff_next\"></td><td class=\"diff_header\" id=\"from35_21\">21</td><td nowrap=\"nowrap\">&nbsp;&nbsp;&nbsp;&nbsp;)</td><td class=\"diff_next\"></td><td class=\"diff_header\" id=\"to35_21\">21</td><td nowrap=\"nowrap\">&nbsp;&nbsp;&nbsp;&nbsp;)</td></tr>\n",
       "            <tr><td class=\"diff_next\"></td><td class=\"diff_header\" id=\"from35_22\">22</td><td nowrap=\"nowrap\">&nbsp;&nbsp;&nbsp;&nbsp;(preference&nbsp;throwAttempt</td><td class=\"diff_next\"></td><td class=\"diff_header\" id=\"to35_22\">22</td><td nowrap=\"nowrap\">&nbsp;&nbsp;&nbsp;&nbsp;(preference&nbsp;throwAttempt</td></tr>\n",
       "            <tr><td class=\"diff_next\"></td><td class=\"diff_header\" id=\"from35_23\">23</td><td nowrap=\"nowrap\">&nbsp;&nbsp;&nbsp;&nbsp;&nbsp;&nbsp;(exists&nbsp;(?g&nbsp;-&nbsp;golfball)</td><td class=\"diff_next\"></td><td class=\"diff_header\" id=\"to35_23\">23</td><td nowrap=\"nowrap\">&nbsp;&nbsp;&nbsp;&nbsp;&nbsp;&nbsp;(exists&nbsp;(?g&nbsp;-&nbsp;golfball)</td></tr>\n",
       "            <tr><td class=\"diff_next\"></td><td class=\"diff_header\" id=\"from35_24\">24</td><td nowrap=\"nowrap\">&nbsp;&nbsp;&nbsp;&nbsp;&nbsp;&nbsp;&nbsp;&nbsp;(then</td><td class=\"diff_next\"></td><td class=\"diff_header\" id=\"to35_24\">24</td><td nowrap=\"nowrap\">&nbsp;&nbsp;&nbsp;&nbsp;&nbsp;&nbsp;&nbsp;&nbsp;(then</td></tr>\n",
       "            <tr><td class=\"diff_next\"></td><td class=\"diff_header\" id=\"from35_25\">25</td><td nowrap=\"nowrap\">&nbsp;&nbsp;&nbsp;&nbsp;&nbsp;&nbsp;&nbsp;&nbsp;&nbsp;&nbsp;(once&nbsp;(agent_holds&nbsp;?g)&nbsp;)</td><td class=\"diff_next\"></td><td class=\"diff_header\" id=\"to35_25\">25</td><td nowrap=\"nowrap\">&nbsp;&nbsp;&nbsp;&nbsp;&nbsp;&nbsp;&nbsp;&nbsp;&nbsp;&nbsp;(once&nbsp;(agent_holds&nbsp;?g)&nbsp;)</td></tr>\n",
       "            <tr><td class=\"diff_next\"></td><td class=\"diff_header\" id=\"from35_26\">26</td><td nowrap=\"nowrap\">&nbsp;&nbsp;&nbsp;&nbsp;&nbsp;&nbsp;&nbsp;&nbsp;&nbsp;&nbsp;(hold&nbsp;(and&nbsp;(in_motion&nbsp;?g)&nbsp;(not&nbsp;(agent_holds&nbsp;?g)&nbsp;)&nbsp;)&nbsp;)</td><td class=\"diff_next\"></td><td class=\"diff_header\" id=\"to35_26\">26</td><td nowrap=\"nowrap\">&nbsp;&nbsp;&nbsp;&nbsp;&nbsp;&nbsp;&nbsp;&nbsp;&nbsp;&nbsp;(hold&nbsp;(and&nbsp;(in_motion&nbsp;?g)&nbsp;(not&nbsp;(agent_holds&nbsp;?g)&nbsp;)&nbsp;)&nbsp;)</td></tr>\n",
       "            <tr><td class=\"diff_next\"></td><td class=\"diff_header\" id=\"from35_27\">27</td><td nowrap=\"nowrap\">&nbsp;&nbsp;&nbsp;&nbsp;&nbsp;&nbsp;&nbsp;&nbsp;&nbsp;&nbsp;(once&nbsp;(not&nbsp;(in_motion&nbsp;?g)&nbsp;)&nbsp;)</td><td class=\"diff_next\"></td><td class=\"diff_header\" id=\"to35_27\">27</td><td nowrap=\"nowrap\">&nbsp;&nbsp;&nbsp;&nbsp;&nbsp;&nbsp;&nbsp;&nbsp;&nbsp;&nbsp;(once&nbsp;(not&nbsp;(in_motion&nbsp;?g)&nbsp;)&nbsp;)</td></tr>\n",
       "            <tr><td class=\"diff_next\"></td><td class=\"diff_header\" id=\"from35_28\">28</td><td nowrap=\"nowrap\">&nbsp;&nbsp;&nbsp;&nbsp;&nbsp;&nbsp;&nbsp;&nbsp;)</td><td class=\"diff_next\"></td><td class=\"diff_header\" id=\"to35_28\">28</td><td nowrap=\"nowrap\">&nbsp;&nbsp;&nbsp;&nbsp;&nbsp;&nbsp;&nbsp;&nbsp;)</td></tr>\n",
       "            <tr><td class=\"diff_next\"></td><td class=\"diff_header\" id=\"from35_29\">29</td><td nowrap=\"nowrap\">&nbsp;&nbsp;&nbsp;&nbsp;&nbsp;&nbsp;)</td><td class=\"diff_next\"></td><td class=\"diff_header\" id=\"to35_29\">29</td><td nowrap=\"nowrap\">&nbsp;&nbsp;&nbsp;&nbsp;&nbsp;&nbsp;)</td></tr>\n",
       "            <tr><td class=\"diff_next\"></td><td class=\"diff_header\" id=\"from35_30\">30</td><td nowrap=\"nowrap\">&nbsp;&nbsp;&nbsp;&nbsp;)</td><td class=\"diff_next\"></td><td class=\"diff_header\" id=\"to35_30\">30</td><td nowrap=\"nowrap\">&nbsp;&nbsp;&nbsp;&nbsp;)</td></tr>\n",
       "            <tr><td class=\"diff_next\"></td><td class=\"diff_header\" id=\"from35_31\">31</td><td nowrap=\"nowrap\">&nbsp;&nbsp;)</td><td class=\"diff_next\"></td><td class=\"diff_header\" id=\"to35_31\">31</td><td nowrap=\"nowrap\">&nbsp;&nbsp;)</td></tr>\n",
       "            <tr><td class=\"diff_next\"></td><td class=\"diff_header\" id=\"from35_32\">32</td><td nowrap=\"nowrap\">)</td><td class=\"diff_next\"></td><td class=\"diff_header\" id=\"to35_32\">32</td><td nowrap=\"nowrap\">)</td></tr>\n",
       "            <tr><td class=\"diff_next\"></td><td class=\"diff_header\" id=\"from35_33\">33</td><td nowrap=\"nowrap\">(:terminal</td><td class=\"diff_next\"></td><td class=\"diff_header\" id=\"to35_33\">33</td><td nowrap=\"nowrap\">(:terminal</td></tr>\n",
       "            <tr><td class=\"diff_next\"></td><td class=\"diff_header\" id=\"from35_34\">34</td><td nowrap=\"nowrap\">&nbsp;&nbsp;(&gt;=&nbsp;(count&nbsp;throwAttempt)&nbsp;10&nbsp;)</td><td class=\"diff_next\"></td><td class=\"diff_header\" id=\"to35_34\">34</td><td nowrap=\"nowrap\">&nbsp;&nbsp;(&gt;=&nbsp;(count&nbsp;throwAttempt)&nbsp;10&nbsp;)</td></tr>\n",
       "            <tr><td class=\"diff_next\"></td><td class=\"diff_header\" id=\"from35_35\">35</td><td nowrap=\"nowrap\">)</td><td class=\"diff_next\"></td><td class=\"diff_header\" id=\"to35_35\">35</td><td nowrap=\"nowrap\">)</td></tr>\n",
       "            <tr><td class=\"diff_next\"></td><td class=\"diff_header\" id=\"from35_36\">36</td><td nowrap=\"nowrap\">(:scoring</td><td class=\"diff_next\"></td><td class=\"diff_header\" id=\"to35_36\">36</td><td nowrap=\"nowrap\">(:scoring</td></tr>\n",
       "            <tr><td class=\"diff_next\"></td><td class=\"diff_header\" id=\"from35_37\">37</td><td nowrap=\"nowrap\">&nbsp;&nbsp;(*&nbsp;5&nbsp;(count&nbsp;golfballInBinFromPillow)&nbsp;)</td><td class=\"diff_next\"></td><td class=\"diff_header\" id=\"to35_37\">37</td><td nowrap=\"nowrap\">&nbsp;&nbsp;(*&nbsp;5&nbsp;(count&nbsp;golfballInBinFromPillow)&nbsp;)</td></tr>\n",
       "            <tr><td class=\"diff_next\"></td><td class=\"diff_header\" id=\"from35_38\">38</td><td nowrap=\"nowrap\">)</td><td class=\"diff_next\"></td><td class=\"diff_header\" id=\"to35_38\">38</td><td nowrap=\"nowrap\">)</td></tr>\n",
       "            <tr><td class=\"diff_next\"></td><td class=\"diff_header\" id=\"from35_39\">39</td><td nowrap=\"nowrap\">)</td><td class=\"diff_next\"></td><td class=\"diff_header\" id=\"to35_39\">39</td><td nowrap=\"nowrap\">)</td></tr>\n",
       "        </tbody>\n",
       "    </table>\n",
       "    <table class=\"diff\" summary=\"Legends\">\n",
       "        <tr> <th colspan=\"2\"> Legends </th> </tr>\n",
       "        <tr> <td> <table border=\"\" summary=\"Colors\">\n",
       "                      <tr><th> Colors </th> </tr>\n",
       "                      <tr><td class=\"diff_add\">&nbsp;Added&nbsp;</td></tr>\n",
       "                      <tr><td class=\"diff_chg\">Changed</td> </tr>\n",
       "                      <tr><td class=\"diff_sub\">Deleted</td> </tr>\n",
       "                  </table></td>\n",
       "             <td> <table border=\"\" summary=\"Links\">\n",
       "                      <tr><th colspan=\"2\"> Links </th> </tr>\n",
       "                      <tr><td>(f)irst change</td> </tr>\n",
       "                      <tr><td>(n)ext change</td> </tr>\n",
       "                      <tr><td>(t)op</td> </tr>\n",
       "                  </table></td> </tr>\n",
       "    </table>\n",
       "</body>\n",
       "\n",
       "</html>"
      ],
      "text/plain": [
       "<IPython.core.display.HTML object>"
      ]
     },
     "metadata": {},
     "output_type": "display_data"
    },
    {
     "data": {
      "text/markdown": [
       "---"
      ],
      "text/plain": [
       "<IPython.core.display.Markdown object>"
      ]
     },
     "metadata": {},
     "output_type": "display_data"
    },
    {
     "name": "stdout",
     "output_type": "stream",
     "text": [
      "Original game index: 63 | Negative game row: 63 | Negative game col: 948\n"
     ]
    },
    {
     "data": {
      "text/markdown": [
       "### Energy of real game: -28.611 | Energy of regrown game: -29.868 | Difference: -1.256"
      ],
      "text/plain": [
       "<IPython.core.display.Markdown object>"
      ]
     },
     "metadata": {},
     "output_type": "display_data"
    },
    {
     "data": {
      "text/markdown": [
       "### Top features changing the game's energy\n",
       "feature name: **value** = (original feature value => regrown feature value) * weight"
      ],
      "text/plain": [
       "<IPython.core.display.Markdown object>"
      ]
     },
     "metadata": {},
     "output_type": "display_data"
    },
    {
     "data": {
      "text/markdown": [
       "| Features increasing energy (= more fake)                                         | Features decreasing energy (= more real)                                    |\n",
       "|----------------------------------------------------------------------------------|-----------------------------------------------------------------------------|\n",
       "| adjacent_arg_types_agent_balls_constraints: **0.125** = (0.000 => 1.000) * 0.125 | adjacent_arg_types_other_constraints: **-1.382** = (1.000 => 0.000) * 1.382 |"
      ],
      "text/plain": [
       "<IPython.core.display.Markdown object>"
      ]
     },
     "metadata": {},
     "output_type": "display_data"
    },
    {
     "data": {
      "text/markdown": [
       "### Game Diffs"
      ],
      "text/plain": [
       "<IPython.core.display.Markdown object>"
      ]
     },
     "metadata": {},
     "output_type": "display_data"
    },
    {
     "data": {
      "text/html": [
       "\n",
       "<!DOCTYPE html PUBLIC \"-//W3C//DTD XHTML 1.0 Transitional//EN\"\n",
       "          \"http://www.w3.org/TR/xhtml1/DTD/xhtml1-transitional.dtd\">\n",
       "\n",
       "<html>\n",
       "\n",
       "<head>\n",
       "    <meta http-equiv=\"Content-Type\"\n",
       "          content=\"text/html; charset=utf-8\" />\n",
       "    <title></title>\n",
       "    <style type=\"text/css\">\n",
       "        table.diff {font-family:Courier; border:medium;}\n",
       "        .diff_header {background-color:#e0e0e0}\n",
       "        .diff td {text-align: left !important}\n",
       ".diff th {text-align: center!important }\n",
       ".diff td.diff_header {text-align:right !important}\n",
       "        .diff_next {background-color:#c0c0c0}\n",
       "        .diff_add {background-color: #6fa66f !important; font-weight: bold !important}\n",
       "        .diff_chg {background-color: #999949 !important; font-weight: bold !important}\n",
       "        .diff_sub {background-color: #a66f6f !important; font-weight: bold !important}\n",
       "    </style>\n",
       "</head>\n",
       "\n",
       "<body>\n",
       "    \n",
       "    <table class=\"diff\" id=\"difflib_chg_to36__top\"\n",
       "           cellspacing=\"0\" cellpadding=\"0\" rules=\"groups\" >\n",
       "        <colgroup></colgroup> <colgroup></colgroup> <colgroup></colgroup>\n",
       "        <colgroup></colgroup> <colgroup></colgroup> <colgroup></colgroup>\n",
       "        \n",
       "        <tbody>\n",
       "            <tr><td class=\"diff_next\" id=\"difflib_chg_to36__0\"><a href=\"#difflib_chg_to36__1\">n</a></td><td class=\"diff_header\" id=\"from36_1\">1</td><td nowrap=\"nowrap\">(define&nbsp;(game&nbsp;613bd3a683a2ac56a4119aa6-74)&nbsp;(:domain&nbsp;many-objects-room-v1)</td><td class=\"diff_next\"><a href=\"#difflib_chg_to36__1\">n</a></td><td class=\"diff_header\" id=\"to36_1\">1</td><td nowrap=\"nowrap\">(define&nbsp;(game&nbsp;613bd3a683a2ac56a4119aa6-74<span class=\"diff_add\">-948-nd-18-rd-1-rs-constraints-sk-prior5</span>)&nbsp;(:domain&nbsp;many-obj</td></tr>\n",
       "            <tr><td class=\"diff_next\"></td><td class=\"diff_header\"></td><td nowrap=\"nowrap\">&nbsp;</td><td class=\"diff_next\"></td><td class=\"diff_header\">></td><td nowrap=\"nowrap\">ects-room-v1)</td></tr>\n",
       "            <tr><td class=\"diff_next\"></td><td class=\"diff_header\" id=\"from36_2\">2</td><td nowrap=\"nowrap\">(:setup</td><td class=\"diff_next\"></td><td class=\"diff_header\" id=\"to36_2\">2</td><td nowrap=\"nowrap\">(:setup</td></tr>\n",
       "            <tr><td class=\"diff_next\"></td><td class=\"diff_header\" id=\"from36_3\">3</td><td nowrap=\"nowrap\">&nbsp;&nbsp;(and</td><td class=\"diff_next\"></td><td class=\"diff_header\" id=\"to36_3\">3</td><td nowrap=\"nowrap\">&nbsp;&nbsp;(and</td></tr>\n",
       "            <tr><td class=\"diff_next\"></td><td class=\"diff_header\" id=\"from36_4\">4</td><td nowrap=\"nowrap\">&nbsp;&nbsp;&nbsp;&nbsp;(game-conserved</td><td class=\"diff_next\"></td><td class=\"diff_header\" id=\"to36_4\">4</td><td nowrap=\"nowrap\">&nbsp;&nbsp;&nbsp;&nbsp;(game-conserved</td></tr>\n",
       "            <tr><td class=\"diff_next\"></td><td class=\"diff_header\" id=\"from36_5\">5</td><td nowrap=\"nowrap\">&nbsp;&nbsp;&nbsp;&nbsp;&nbsp;&nbsp;(exists&nbsp;(?h&nbsp;-&nbsp;hexagonal_bin&nbsp;?p&nbsp;-&nbsp;pillow)</td><td class=\"diff_next\"></td><td class=\"diff_header\" id=\"to36_5\">5</td><td nowrap=\"nowrap\">&nbsp;&nbsp;&nbsp;&nbsp;&nbsp;&nbsp;(exists&nbsp;(?h&nbsp;-&nbsp;hexagonal_bin&nbsp;?p&nbsp;-&nbsp;pillow)</td></tr>\n",
       "            <tr><td class=\"diff_next\"></td><td class=\"diff_header\" id=\"from36_6\">6</td><td nowrap=\"nowrap\">&nbsp;&nbsp;&nbsp;&nbsp;&nbsp;&nbsp;&nbsp;&nbsp;(&lt;&nbsp;(distance&nbsp;?h&nbsp;?p)&nbsp;3)</td><td class=\"diff_next\"></td><td class=\"diff_header\" id=\"to36_6\">6</td><td nowrap=\"nowrap\">&nbsp;&nbsp;&nbsp;&nbsp;&nbsp;&nbsp;&nbsp;&nbsp;(&lt;&nbsp;(distance&nbsp;?h&nbsp;?p)&nbsp;3)</td></tr>\n",
       "            <tr><td class=\"diff_next\"></td><td class=\"diff_header\" id=\"from36_7\">7</td><td nowrap=\"nowrap\">&nbsp;&nbsp;&nbsp;&nbsp;&nbsp;&nbsp;)</td><td class=\"diff_next\"></td><td class=\"diff_header\" id=\"to36_7\">7</td><td nowrap=\"nowrap\">&nbsp;&nbsp;&nbsp;&nbsp;&nbsp;&nbsp;)</td></tr>\n",
       "            <tr><td class=\"diff_next\"></td><td class=\"diff_header\" id=\"from36_8\">8</td><td nowrap=\"nowrap\">&nbsp;&nbsp;&nbsp;&nbsp;)</td><td class=\"diff_next\"></td><td class=\"diff_header\" id=\"to36_8\">8</td><td nowrap=\"nowrap\">&nbsp;&nbsp;&nbsp;&nbsp;)</td></tr>\n",
       "            <tr><td class=\"diff_next\"></td><td class=\"diff_header\" id=\"from36_9\">9</td><td nowrap=\"nowrap\">&nbsp;&nbsp;)</td><td class=\"diff_next\"></td><td class=\"diff_header\" id=\"to36_9\">9</td><td nowrap=\"nowrap\">&nbsp;&nbsp;)</td></tr>\n",
       "            <tr><td class=\"diff_next\"></td><td class=\"diff_header\" id=\"from36_10\">10</td><td nowrap=\"nowrap\">)</td><td class=\"diff_next\"></td><td class=\"diff_header\" id=\"to36_10\">10</td><td nowrap=\"nowrap\">)</td></tr>\n",
       "            <tr><td class=\"diff_next\" id=\"difflib_chg_to36__1\"></td><td class=\"diff_header\" id=\"from36_11\">11</td><td nowrap=\"nowrap\">(:constraints</td><td class=\"diff_next\"></td><td class=\"diff_header\" id=\"to36_11\">11</td><td nowrap=\"nowrap\">(:constraints</td></tr>\n",
       "            <tr><td class=\"diff_next\"></td><td class=\"diff_header\" id=\"from36_12\">12</td><td nowrap=\"nowrap\">&nbsp;&nbsp;(and</td><td class=\"diff_next\"></td><td class=\"diff_header\" id=\"to36_12\">12</td><td nowrap=\"nowrap\">&nbsp;&nbsp;(and</td></tr>\n",
       "            <tr><td class=\"diff_next\"></td><td class=\"diff_header\" id=\"from36_13\">13</td><td nowrap=\"nowrap\">&nbsp;&nbsp;&nbsp;&nbsp;(preference&nbsp;golfballInBinFromPillow</td><td class=\"diff_next\"></td><td class=\"diff_header\" id=\"to36_13\">13</td><td nowrap=\"nowrap\">&nbsp;&nbsp;&nbsp;&nbsp;(preference&nbsp;golfballInBinFromPillow</td></tr>\n",
       "            <tr><td class=\"diff_next\"></td><td class=\"diff_header\" id=\"from36_14\">14</td><td nowrap=\"nowrap\">&nbsp;&nbsp;&nbsp;&nbsp;&nbsp;&nbsp;(exists&nbsp;(?g&nbsp;-&nbsp;golfball&nbsp;?h&nbsp;-&nbsp;hexagonal_bin&nbsp;?p&nbsp;-&nbsp;pillow)</td><td class=\"diff_next\"></td><td class=\"diff_header\" id=\"to36_14\">14</td><td nowrap=\"nowrap\">&nbsp;&nbsp;&nbsp;&nbsp;&nbsp;&nbsp;(exists&nbsp;(?g&nbsp;-&nbsp;golfball&nbsp;?h&nbsp;-&nbsp;hexagonal_bin&nbsp;?p&nbsp;-&nbsp;pillow)</td></tr>\n",
       "            <tr><td class=\"diff_next\"></td><td class=\"diff_header\" id=\"from36_15\">15</td><td nowrap=\"nowrap\">&nbsp;&nbsp;&nbsp;&nbsp;&nbsp;&nbsp;&nbsp;&nbsp;(then</td><td class=\"diff_next\"></td><td class=\"diff_header\" id=\"to36_15\">15</td><td nowrap=\"nowrap\">&nbsp;&nbsp;&nbsp;&nbsp;&nbsp;&nbsp;&nbsp;&nbsp;(then</td></tr>\n",
       "            <tr><td class=\"diff_next\"><a href=\"#difflib_chg_to36__top\">t</a></td><td class=\"diff_header\" id=\"from36_16\">16</td><td nowrap=\"nowrap\">&nbsp;&nbsp;&nbsp;&nbsp;&nbsp;&nbsp;&nbsp;&nbsp;&nbsp;&nbsp;(once&nbsp;(and&nbsp;(adjacent&nbsp;?<span class=\"diff_chg\">p</span>&nbsp;agent)&nbsp;(agent_holds&nbsp;?g)&nbsp;(is_setup_object&nbsp;?p)&nbsp;)&nbsp;)</td><td class=\"diff_next\"><a href=\"#difflib_chg_to36__top\">t</a></td><td class=\"diff_header\" id=\"to36_16\">16</td><td nowrap=\"nowrap\">&nbsp;&nbsp;&nbsp;&nbsp;&nbsp;&nbsp;&nbsp;&nbsp;&nbsp;&nbsp;(once&nbsp;(and&nbsp;(adjacent&nbsp;?<span class=\"diff_chg\">g</span>&nbsp;agent)&nbsp;(agent_holds&nbsp;?g)&nbsp;(is_setup_object&nbsp;?p)&nbsp;)&nbsp;)</td></tr>\n",
       "            <tr><td class=\"diff_next\"></td><td class=\"diff_header\" id=\"from36_17\">17</td><td nowrap=\"nowrap\">&nbsp;&nbsp;&nbsp;&nbsp;&nbsp;&nbsp;&nbsp;&nbsp;&nbsp;&nbsp;(hold&nbsp;(and&nbsp;(in_motion&nbsp;?g)&nbsp;(not&nbsp;(agent_holds&nbsp;?g)&nbsp;)&nbsp;)&nbsp;)</td><td class=\"diff_next\"></td><td class=\"diff_header\" id=\"to36_17\">17</td><td nowrap=\"nowrap\">&nbsp;&nbsp;&nbsp;&nbsp;&nbsp;&nbsp;&nbsp;&nbsp;&nbsp;&nbsp;(hold&nbsp;(and&nbsp;(in_motion&nbsp;?g)&nbsp;(not&nbsp;(agent_holds&nbsp;?g)&nbsp;)&nbsp;)&nbsp;)</td></tr>\n",
       "            <tr><td class=\"diff_next\"></td><td class=\"diff_header\" id=\"from36_18\">18</td><td nowrap=\"nowrap\">&nbsp;&nbsp;&nbsp;&nbsp;&nbsp;&nbsp;&nbsp;&nbsp;&nbsp;&nbsp;(once&nbsp;(and&nbsp;(not&nbsp;(in_motion&nbsp;?g)&nbsp;)&nbsp;(in&nbsp;?h&nbsp;?g)&nbsp;)&nbsp;)</td><td class=\"diff_next\"></td><td class=\"diff_header\" id=\"to36_18\">18</td><td nowrap=\"nowrap\">&nbsp;&nbsp;&nbsp;&nbsp;&nbsp;&nbsp;&nbsp;&nbsp;&nbsp;&nbsp;(once&nbsp;(and&nbsp;(not&nbsp;(in_motion&nbsp;?g)&nbsp;)&nbsp;(in&nbsp;?h&nbsp;?g)&nbsp;)&nbsp;)</td></tr>\n",
       "            <tr><td class=\"diff_next\"></td><td class=\"diff_header\" id=\"from36_19\">19</td><td nowrap=\"nowrap\">&nbsp;&nbsp;&nbsp;&nbsp;&nbsp;&nbsp;&nbsp;&nbsp;)</td><td class=\"diff_next\"></td><td class=\"diff_header\" id=\"to36_19\">19</td><td nowrap=\"nowrap\">&nbsp;&nbsp;&nbsp;&nbsp;&nbsp;&nbsp;&nbsp;&nbsp;)</td></tr>\n",
       "            <tr><td class=\"diff_next\"></td><td class=\"diff_header\" id=\"from36_20\">20</td><td nowrap=\"nowrap\">&nbsp;&nbsp;&nbsp;&nbsp;&nbsp;&nbsp;)</td><td class=\"diff_next\"></td><td class=\"diff_header\" id=\"to36_20\">20</td><td nowrap=\"nowrap\">&nbsp;&nbsp;&nbsp;&nbsp;&nbsp;&nbsp;)</td></tr>\n",
       "            <tr><td class=\"diff_next\"></td><td class=\"diff_header\" id=\"from36_21\">21</td><td nowrap=\"nowrap\">&nbsp;&nbsp;&nbsp;&nbsp;)</td><td class=\"diff_next\"></td><td class=\"diff_header\" id=\"to36_21\">21</td><td nowrap=\"nowrap\">&nbsp;&nbsp;&nbsp;&nbsp;)</td></tr>\n",
       "            <tr><td class=\"diff_next\"></td><td class=\"diff_header\" id=\"from36_22\">22</td><td nowrap=\"nowrap\">&nbsp;&nbsp;&nbsp;&nbsp;(preference&nbsp;throwAttempt</td><td class=\"diff_next\"></td><td class=\"diff_header\" id=\"to36_22\">22</td><td nowrap=\"nowrap\">&nbsp;&nbsp;&nbsp;&nbsp;(preference&nbsp;throwAttempt</td></tr>\n",
       "            <tr><td class=\"diff_next\"></td><td class=\"diff_header\" id=\"from36_23\">23</td><td nowrap=\"nowrap\">&nbsp;&nbsp;&nbsp;&nbsp;&nbsp;&nbsp;(exists&nbsp;(?g&nbsp;-&nbsp;golfball)</td><td class=\"diff_next\"></td><td class=\"diff_header\" id=\"to36_23\">23</td><td nowrap=\"nowrap\">&nbsp;&nbsp;&nbsp;&nbsp;&nbsp;&nbsp;(exists&nbsp;(?g&nbsp;-&nbsp;golfball)</td></tr>\n",
       "            <tr><td class=\"diff_next\"></td><td class=\"diff_header\" id=\"from36_24\">24</td><td nowrap=\"nowrap\">&nbsp;&nbsp;&nbsp;&nbsp;&nbsp;&nbsp;&nbsp;&nbsp;(then</td><td class=\"diff_next\"></td><td class=\"diff_header\" id=\"to36_24\">24</td><td nowrap=\"nowrap\">&nbsp;&nbsp;&nbsp;&nbsp;&nbsp;&nbsp;&nbsp;&nbsp;(then</td></tr>\n",
       "            <tr><td class=\"diff_next\"></td><td class=\"diff_header\" id=\"from36_25\">25</td><td nowrap=\"nowrap\">&nbsp;&nbsp;&nbsp;&nbsp;&nbsp;&nbsp;&nbsp;&nbsp;&nbsp;&nbsp;(once&nbsp;(agent_holds&nbsp;?g)&nbsp;)</td><td class=\"diff_next\"></td><td class=\"diff_header\" id=\"to36_25\">25</td><td nowrap=\"nowrap\">&nbsp;&nbsp;&nbsp;&nbsp;&nbsp;&nbsp;&nbsp;&nbsp;&nbsp;&nbsp;(once&nbsp;(agent_holds&nbsp;?g)&nbsp;)</td></tr>\n",
       "            <tr><td class=\"diff_next\"></td><td class=\"diff_header\" id=\"from36_26\">26</td><td nowrap=\"nowrap\">&nbsp;&nbsp;&nbsp;&nbsp;&nbsp;&nbsp;&nbsp;&nbsp;&nbsp;&nbsp;(hold&nbsp;(and&nbsp;(in_motion&nbsp;?g)&nbsp;(not&nbsp;(agent_holds&nbsp;?g)&nbsp;)&nbsp;)&nbsp;)</td><td class=\"diff_next\"></td><td class=\"diff_header\" id=\"to36_26\">26</td><td nowrap=\"nowrap\">&nbsp;&nbsp;&nbsp;&nbsp;&nbsp;&nbsp;&nbsp;&nbsp;&nbsp;&nbsp;(hold&nbsp;(and&nbsp;(in_motion&nbsp;?g)&nbsp;(not&nbsp;(agent_holds&nbsp;?g)&nbsp;)&nbsp;)&nbsp;)</td></tr>\n",
       "            <tr><td class=\"diff_next\"></td><td class=\"diff_header\" id=\"from36_27\">27</td><td nowrap=\"nowrap\">&nbsp;&nbsp;&nbsp;&nbsp;&nbsp;&nbsp;&nbsp;&nbsp;&nbsp;&nbsp;(once&nbsp;(not&nbsp;(in_motion&nbsp;?g)&nbsp;)&nbsp;)</td><td class=\"diff_next\"></td><td class=\"diff_header\" id=\"to36_27\">27</td><td nowrap=\"nowrap\">&nbsp;&nbsp;&nbsp;&nbsp;&nbsp;&nbsp;&nbsp;&nbsp;&nbsp;&nbsp;(once&nbsp;(not&nbsp;(in_motion&nbsp;?g)&nbsp;)&nbsp;)</td></tr>\n",
       "            <tr><td class=\"diff_next\"></td><td class=\"diff_header\" id=\"from36_28\">28</td><td nowrap=\"nowrap\">&nbsp;&nbsp;&nbsp;&nbsp;&nbsp;&nbsp;&nbsp;&nbsp;)</td><td class=\"diff_next\"></td><td class=\"diff_header\" id=\"to36_28\">28</td><td nowrap=\"nowrap\">&nbsp;&nbsp;&nbsp;&nbsp;&nbsp;&nbsp;&nbsp;&nbsp;)</td></tr>\n",
       "            <tr><td class=\"diff_next\"></td><td class=\"diff_header\" id=\"from36_29\">29</td><td nowrap=\"nowrap\">&nbsp;&nbsp;&nbsp;&nbsp;&nbsp;&nbsp;)</td><td class=\"diff_next\"></td><td class=\"diff_header\" id=\"to36_29\">29</td><td nowrap=\"nowrap\">&nbsp;&nbsp;&nbsp;&nbsp;&nbsp;&nbsp;)</td></tr>\n",
       "            <tr><td class=\"diff_next\"></td><td class=\"diff_header\" id=\"from36_30\">30</td><td nowrap=\"nowrap\">&nbsp;&nbsp;&nbsp;&nbsp;)</td><td class=\"diff_next\"></td><td class=\"diff_header\" id=\"to36_30\">30</td><td nowrap=\"nowrap\">&nbsp;&nbsp;&nbsp;&nbsp;)</td></tr>\n",
       "            <tr><td class=\"diff_next\"></td><td class=\"diff_header\" id=\"from36_31\">31</td><td nowrap=\"nowrap\">&nbsp;&nbsp;)</td><td class=\"diff_next\"></td><td class=\"diff_header\" id=\"to36_31\">31</td><td nowrap=\"nowrap\">&nbsp;&nbsp;)</td></tr>\n",
       "            <tr><td class=\"diff_next\"></td><td class=\"diff_header\" id=\"from36_32\">32</td><td nowrap=\"nowrap\">)</td><td class=\"diff_next\"></td><td class=\"diff_header\" id=\"to36_32\">32</td><td nowrap=\"nowrap\">)</td></tr>\n",
       "            <tr><td class=\"diff_next\"></td><td class=\"diff_header\" id=\"from36_33\">33</td><td nowrap=\"nowrap\">(:terminal</td><td class=\"diff_next\"></td><td class=\"diff_header\" id=\"to36_33\">33</td><td nowrap=\"nowrap\">(:terminal</td></tr>\n",
       "            <tr><td class=\"diff_next\"></td><td class=\"diff_header\" id=\"from36_34\">34</td><td nowrap=\"nowrap\">&nbsp;&nbsp;(&gt;=&nbsp;(count&nbsp;throwAttempt)&nbsp;10&nbsp;)</td><td class=\"diff_next\"></td><td class=\"diff_header\" id=\"to36_34\">34</td><td nowrap=\"nowrap\">&nbsp;&nbsp;(&gt;=&nbsp;(count&nbsp;throwAttempt)&nbsp;10&nbsp;)</td></tr>\n",
       "            <tr><td class=\"diff_next\"></td><td class=\"diff_header\" id=\"from36_35\">35</td><td nowrap=\"nowrap\">)</td><td class=\"diff_next\"></td><td class=\"diff_header\" id=\"to36_35\">35</td><td nowrap=\"nowrap\">)</td></tr>\n",
       "            <tr><td class=\"diff_next\"></td><td class=\"diff_header\" id=\"from36_36\">36</td><td nowrap=\"nowrap\">(:scoring</td><td class=\"diff_next\"></td><td class=\"diff_header\" id=\"to36_36\">36</td><td nowrap=\"nowrap\">(:scoring</td></tr>\n",
       "            <tr><td class=\"diff_next\"></td><td class=\"diff_header\" id=\"from36_37\">37</td><td nowrap=\"nowrap\">&nbsp;&nbsp;(*&nbsp;5&nbsp;(count&nbsp;golfballInBinFromPillow)&nbsp;)</td><td class=\"diff_next\"></td><td class=\"diff_header\" id=\"to36_37\">37</td><td nowrap=\"nowrap\">&nbsp;&nbsp;(*&nbsp;5&nbsp;(count&nbsp;golfballInBinFromPillow)&nbsp;)</td></tr>\n",
       "            <tr><td class=\"diff_next\"></td><td class=\"diff_header\" id=\"from36_38\">38</td><td nowrap=\"nowrap\">)</td><td class=\"diff_next\"></td><td class=\"diff_header\" id=\"to36_38\">38</td><td nowrap=\"nowrap\">)</td></tr>\n",
       "            <tr><td class=\"diff_next\"></td><td class=\"diff_header\" id=\"from36_39\">39</td><td nowrap=\"nowrap\">)</td><td class=\"diff_next\"></td><td class=\"diff_header\" id=\"to36_39\">39</td><td nowrap=\"nowrap\">)</td></tr>\n",
       "        </tbody>\n",
       "    </table>\n",
       "    <table class=\"diff\" summary=\"Legends\">\n",
       "        <tr> <th colspan=\"2\"> Legends </th> </tr>\n",
       "        <tr> <td> <table border=\"\" summary=\"Colors\">\n",
       "                      <tr><th> Colors </th> </tr>\n",
       "                      <tr><td class=\"diff_add\">&nbsp;Added&nbsp;</td></tr>\n",
       "                      <tr><td class=\"diff_chg\">Changed</td> </tr>\n",
       "                      <tr><td class=\"diff_sub\">Deleted</td> </tr>\n",
       "                  </table></td>\n",
       "             <td> <table border=\"\" summary=\"Links\">\n",
       "                      <tr><th colspan=\"2\"> Links </th> </tr>\n",
       "                      <tr><td>(f)irst change</td> </tr>\n",
       "                      <tr><td>(n)ext change</td> </tr>\n",
       "                      <tr><td>(t)op</td> </tr>\n",
       "                  </table></td> </tr>\n",
       "    </table>\n",
       "</body>\n",
       "\n",
       "</html>"
      ],
      "text/plain": [
       "<IPython.core.display.HTML object>"
      ]
     },
     "metadata": {},
     "output_type": "display_data"
    },
    {
     "data": {
      "text/markdown": [
       "---"
      ],
      "text/plain": [
       "<IPython.core.display.Markdown object>"
      ]
     },
     "metadata": {},
     "output_type": "display_data"
    },
    {
     "name": "stdout",
     "output_type": "stream",
     "text": [
      "Original game index: 26 | Negative game row: 26 | Negative game col: 12\n"
     ]
    },
    {
     "data": {
      "text/markdown": [
       "### Energy of real game: -26.058 | Energy of regrown game: -27.284 | Difference: -1.226"
      ],
      "text/plain": [
       "<IPython.core.display.Markdown object>"
      ]
     },
     "metadata": {},
     "output_type": "display_data"
    },
    {
     "data": {
      "text/markdown": [
       "### Top features changing the game's energy\n",
       "feature name: **value** = (original feature value => regrown feature value) * weight"
      ],
      "text/plain": [
       "<IPython.core.display.Markdown object>"
      ]
     },
     "metadata": {},
     "output_type": "display_data"
    },
    {
     "data": {
      "text/markdown": [
       "| Features increasing energy (= more fake)   | Features decreasing energy (= more real)                                |\n",
       "|--------------------------------------------|-------------------------------------------------------------------------|\n",
       "|                                            | ast_ngram_constraints_n_7_score: **-1.001** = (0.548 => 0.688) * -7.147 |\n",
       "|                                            | ast_ngram_full_n_7_score: **-0.226** = (0.580 => 0.605) * -9.074        |"
      ],
      "text/plain": [
       "<IPython.core.display.Markdown object>"
      ]
     },
     "metadata": {},
     "output_type": "display_data"
    },
    {
     "data": {
      "text/markdown": [
       "### Game Diffs"
      ],
      "text/plain": [
       "<IPython.core.display.Markdown object>"
      ]
     },
     "metadata": {},
     "output_type": "display_data"
    },
    {
     "data": {
      "text/html": [
       "\n",
       "<!DOCTYPE html PUBLIC \"-//W3C//DTD XHTML 1.0 Transitional//EN\"\n",
       "          \"http://www.w3.org/TR/xhtml1/DTD/xhtml1-transitional.dtd\">\n",
       "\n",
       "<html>\n",
       "\n",
       "<head>\n",
       "    <meta http-equiv=\"Content-Type\"\n",
       "          content=\"text/html; charset=utf-8\" />\n",
       "    <title></title>\n",
       "    <style type=\"text/css\">\n",
       "        table.diff {font-family:Courier; border:medium;}\n",
       "        .diff_header {background-color:#e0e0e0}\n",
       "        .diff td {text-align: left !important}\n",
       ".diff th {text-align: center!important }\n",
       ".diff td.diff_header {text-align:right !important}\n",
       "        .diff_next {background-color:#c0c0c0}\n",
       "        .diff_add {background-color: #6fa66f !important; font-weight: bold !important}\n",
       "        .diff_chg {background-color: #999949 !important; font-weight: bold !important}\n",
       "        .diff_sub {background-color: #a66f6f !important; font-weight: bold !important}\n",
       "    </style>\n",
       "</head>\n",
       "\n",
       "<body>\n",
       "    \n",
       "    <table class=\"diff\" id=\"difflib_chg_to37__top\"\n",
       "           cellspacing=\"0\" cellpadding=\"0\" rules=\"groups\" >\n",
       "        <colgroup></colgroup> <colgroup></colgroup> <colgroup></colgroup>\n",
       "        <colgroup></colgroup> <colgroup></colgroup> <colgroup></colgroup>\n",
       "        \n",
       "        <tbody>\n",
       "            <tr><td class=\"diff_next\" id=\"difflib_chg_to37__0\"><a href=\"#difflib_chg_to37__1\">n</a></td><td class=\"diff_header\" id=\"from37_1\">1</td><td nowrap=\"nowrap\">(define&nbsp;(game&nbsp;614e1599db14d8f3a5c1486a-33)&nbsp;(:domain&nbsp;many-objects-room-v1)</td><td class=\"diff_next\"><a href=\"#difflib_chg_to37__1\">n</a></td><td class=\"diff_header\" id=\"to37_1\">1</td><td nowrap=\"nowrap\">(define&nbsp;(game&nbsp;614e1599db14d8f3a5c1486a-33<span class=\"diff_add\">-12-nd-16-rd-2-rs-constraints-sk-prior5</span>)&nbsp;(:domain&nbsp;many-obje</td></tr>\n",
       "            <tr><td class=\"diff_next\"></td><td class=\"diff_header\"></td><td nowrap=\"nowrap\">&nbsp;</td><td class=\"diff_next\"></td><td class=\"diff_header\">></td><td nowrap=\"nowrap\">cts-room-v1)</td></tr>\n",
       "            <tr><td class=\"diff_next\"></td><td class=\"diff_header\" id=\"from37_2\">2</td><td nowrap=\"nowrap\">(:setup</td><td class=\"diff_next\"></td><td class=\"diff_header\" id=\"to37_2\">2</td><td nowrap=\"nowrap\">(:setup</td></tr>\n",
       "            <tr><td class=\"diff_next\"></td><td class=\"diff_header\" id=\"from37_3\">3</td><td nowrap=\"nowrap\">&nbsp;&nbsp;(and</td><td class=\"diff_next\"></td><td class=\"diff_header\" id=\"to37_3\">3</td><td nowrap=\"nowrap\">&nbsp;&nbsp;(and</td></tr>\n",
       "            <tr><td class=\"diff_next\"></td><td class=\"diff_header\" id=\"from37_4\">4</td><td nowrap=\"nowrap\">&nbsp;&nbsp;&nbsp;&nbsp;(forall&nbsp;(?g&nbsp;-&nbsp;game_object)</td><td class=\"diff_next\"></td><td class=\"diff_header\" id=\"to37_4\">4</td><td nowrap=\"nowrap\">&nbsp;&nbsp;&nbsp;&nbsp;(forall&nbsp;(?g&nbsp;-&nbsp;game_object)</td></tr>\n",
       "            <tr><td class=\"diff_next\"></td><td class=\"diff_header\" id=\"from37_5\">5</td><td nowrap=\"nowrap\">&nbsp;&nbsp;&nbsp;&nbsp;&nbsp;&nbsp;(game-optional</td><td class=\"diff_next\"></td><td class=\"diff_header\" id=\"to37_5\">5</td><td nowrap=\"nowrap\">&nbsp;&nbsp;&nbsp;&nbsp;&nbsp;&nbsp;(game-optional</td></tr>\n",
       "            <tr><td class=\"diff_next\"></td><td class=\"diff_header\" id=\"from37_6\">6</td><td nowrap=\"nowrap\">&nbsp;&nbsp;&nbsp;&nbsp;&nbsp;&nbsp;&nbsp;&nbsp;(not</td><td class=\"diff_next\"></td><td class=\"diff_header\" id=\"to37_6\">6</td><td nowrap=\"nowrap\">&nbsp;&nbsp;&nbsp;&nbsp;&nbsp;&nbsp;&nbsp;&nbsp;(not</td></tr>\n",
       "            <tr><td class=\"diff_next\"></td><td class=\"diff_header\" id=\"from37_7\">7</td><td nowrap=\"nowrap\">&nbsp;&nbsp;&nbsp;&nbsp;&nbsp;&nbsp;&nbsp;&nbsp;&nbsp;&nbsp;(in&nbsp;top_drawer&nbsp;?g)</td><td class=\"diff_next\"></td><td class=\"diff_header\" id=\"to37_7\">7</td><td nowrap=\"nowrap\">&nbsp;&nbsp;&nbsp;&nbsp;&nbsp;&nbsp;&nbsp;&nbsp;&nbsp;&nbsp;(in&nbsp;top_drawer&nbsp;?g)</td></tr>\n",
       "            <tr><td class=\"diff_next\"></td><td class=\"diff_header\" id=\"from37_8\">8</td><td nowrap=\"nowrap\">&nbsp;&nbsp;&nbsp;&nbsp;&nbsp;&nbsp;&nbsp;&nbsp;)</td><td class=\"diff_next\"></td><td class=\"diff_header\" id=\"to37_8\">8</td><td nowrap=\"nowrap\">&nbsp;&nbsp;&nbsp;&nbsp;&nbsp;&nbsp;&nbsp;&nbsp;)</td></tr>\n",
       "            <tr><td class=\"diff_next\"></td><td class=\"diff_header\" id=\"from37_9\">9</td><td nowrap=\"nowrap\">&nbsp;&nbsp;&nbsp;&nbsp;&nbsp;&nbsp;)</td><td class=\"diff_next\"></td><td class=\"diff_header\" id=\"to37_9\">9</td><td nowrap=\"nowrap\">&nbsp;&nbsp;&nbsp;&nbsp;&nbsp;&nbsp;)</td></tr>\n",
       "            <tr><td class=\"diff_next\"></td><td class=\"diff_header\" id=\"from37_10\">10</td><td nowrap=\"nowrap\">&nbsp;&nbsp;&nbsp;&nbsp;)</td><td class=\"diff_next\"></td><td class=\"diff_header\" id=\"to37_10\">10</td><td nowrap=\"nowrap\">&nbsp;&nbsp;&nbsp;&nbsp;)</td></tr>\n",
       "            <tr><td class=\"diff_next\"></td><td class=\"diff_header\" id=\"from37_11\">11</td><td nowrap=\"nowrap\">&nbsp;&nbsp;)</td><td class=\"diff_next\"></td><td class=\"diff_header\" id=\"to37_11\">11</td><td nowrap=\"nowrap\">&nbsp;&nbsp;)</td></tr>\n",
       "            <tr><td class=\"diff_next\"></td><td class=\"diff_header\" id=\"from37_12\">12</td><td nowrap=\"nowrap\">)</td><td class=\"diff_next\"></td><td class=\"diff_header\" id=\"to37_12\">12</td><td nowrap=\"nowrap\">)</td></tr>\n",
       "            <tr><td class=\"diff_next\"></td><td class=\"diff_header\" id=\"from37_13\">13</td><td nowrap=\"nowrap\">(:constraints</td><td class=\"diff_next\"></td><td class=\"diff_header\" id=\"to37_13\">13</td><td nowrap=\"nowrap\">(:constraints</td></tr>\n",
       "            <tr><td class=\"diff_next\"></td><td class=\"diff_header\" id=\"from37_14\">14</td><td nowrap=\"nowrap\">&nbsp;&nbsp;(and</td><td class=\"diff_next\"></td><td class=\"diff_header\" id=\"to37_14\">14</td><td nowrap=\"nowrap\">&nbsp;&nbsp;(and</td></tr>\n",
       "            <tr><td class=\"diff_next\"></td><td class=\"diff_header\" id=\"from37_15\">15</td><td nowrap=\"nowrap\">&nbsp;&nbsp;&nbsp;&nbsp;(preference&nbsp;itemInClosedDrawerAtEnd</td><td class=\"diff_next\"></td><td class=\"diff_header\" id=\"to37_15\">15</td><td nowrap=\"nowrap\">&nbsp;&nbsp;&nbsp;&nbsp;(preference&nbsp;itemInClosedDrawerAtEnd</td></tr>\n",
       "            <tr><td class=\"diff_next\" id=\"difflib_chg_to37__1\"></td><td class=\"diff_header\" id=\"from37_16\">16</td><td nowrap=\"nowrap\">&nbsp;&nbsp;&nbsp;&nbsp;&nbsp;&nbsp;(exists&nbsp;(?g&nbsp;-&nbsp;game_object)</td><td class=\"diff_next\"></td><td class=\"diff_header\" id=\"to37_16\">16</td><td nowrap=\"nowrap\">&nbsp;&nbsp;&nbsp;&nbsp;&nbsp;&nbsp;(exists&nbsp;(?g&nbsp;-&nbsp;game_object)</td></tr>\n",
       "            <tr><td class=\"diff_next\"></td><td class=\"diff_header\" id=\"from37_17\">17</td><td nowrap=\"nowrap\">&nbsp;&nbsp;&nbsp;&nbsp;&nbsp;&nbsp;&nbsp;&nbsp;(at-end</td><td class=\"diff_next\"></td><td class=\"diff_header\" id=\"to37_17\">17</td><td nowrap=\"nowrap\">&nbsp;&nbsp;&nbsp;&nbsp;&nbsp;&nbsp;&nbsp;&nbsp;(at-end</td></tr>\n",
       "            <tr><td class=\"diff_next\"></td><td class=\"diff_header\" id=\"from37_18\">18</td><td nowrap=\"nowrap\">&nbsp;&nbsp;&nbsp;&nbsp;&nbsp;&nbsp;&nbsp;&nbsp;&nbsp;&nbsp;(and</td><td class=\"diff_next\"></td><td class=\"diff_header\" id=\"to37_18\">18</td><td nowrap=\"nowrap\">&nbsp;&nbsp;&nbsp;&nbsp;&nbsp;&nbsp;&nbsp;&nbsp;&nbsp;&nbsp;(and</td></tr>\n",
       "            <tr><td class=\"diff_next\"></td><td class=\"diff_header\" id=\"from37_19\">19</td><td nowrap=\"nowrap\">&nbsp;&nbsp;&nbsp;&nbsp;&nbsp;&nbsp;&nbsp;&nbsp;&nbsp;&nbsp;&nbsp;&nbsp;(in&nbsp;top_drawer&nbsp;?g)</td><td class=\"diff_next\"></td><td class=\"diff_header\" id=\"to37_19\">19</td><td nowrap=\"nowrap\">&nbsp;&nbsp;&nbsp;&nbsp;&nbsp;&nbsp;&nbsp;&nbsp;&nbsp;&nbsp;&nbsp;&nbsp;(in&nbsp;top_drawer&nbsp;?g)</td></tr>\n",
       "            <tr><td class=\"diff_next\"></td><td class=\"diff_header\" id=\"from37_20\">20</td><td nowrap=\"nowrap\">&nbsp;&nbsp;&nbsp;&nbsp;&nbsp;&nbsp;&nbsp;&nbsp;&nbsp;&nbsp;&nbsp;&nbsp;(not</td><td class=\"diff_next\"></td><td class=\"diff_header\" id=\"to37_20\">20</td><td nowrap=\"nowrap\">&nbsp;&nbsp;&nbsp;&nbsp;&nbsp;&nbsp;&nbsp;&nbsp;&nbsp;&nbsp;&nbsp;&nbsp;(not</td></tr>\n",
       "            <tr><td class=\"diff_next\"><a href=\"#difflib_chg_to37__top\">t</a></td><td class=\"diff_header\" id=\"from37_21\">21</td><td nowrap=\"nowrap\">&nbsp;&nbsp;&nbsp;&nbsp;&nbsp;&nbsp;&nbsp;&nbsp;&nbsp;&nbsp;&nbsp;&nbsp;&nbsp;&nbsp;(open&nbsp;<span class=\"diff_chg\">top_drawer</span>)</td><td class=\"diff_next\"><a href=\"#difflib_chg_to37__top\">t</a></td><td class=\"diff_header\" id=\"to37_21\">21</td><td nowrap=\"nowrap\">&nbsp;&nbsp;&nbsp;&nbsp;&nbsp;&nbsp;&nbsp;&nbsp;&nbsp;&nbsp;&nbsp;&nbsp;&nbsp;&nbsp;(open&nbsp;<span class=\"diff_chg\">?g</span>)</td></tr>\n",
       "            <tr><td class=\"diff_next\"></td><td class=\"diff_header\" id=\"from37_22\">22</td><td nowrap=\"nowrap\">&nbsp;&nbsp;&nbsp;&nbsp;&nbsp;&nbsp;&nbsp;&nbsp;&nbsp;&nbsp;&nbsp;&nbsp;)</td><td class=\"diff_next\"></td><td class=\"diff_header\" id=\"to37_22\">22</td><td nowrap=\"nowrap\">&nbsp;&nbsp;&nbsp;&nbsp;&nbsp;&nbsp;&nbsp;&nbsp;&nbsp;&nbsp;&nbsp;&nbsp;)</td></tr>\n",
       "            <tr><td class=\"diff_next\"></td><td class=\"diff_header\" id=\"from37_23\">23</td><td nowrap=\"nowrap\">&nbsp;&nbsp;&nbsp;&nbsp;&nbsp;&nbsp;&nbsp;&nbsp;&nbsp;&nbsp;)</td><td class=\"diff_next\"></td><td class=\"diff_header\" id=\"to37_23\">23</td><td nowrap=\"nowrap\">&nbsp;&nbsp;&nbsp;&nbsp;&nbsp;&nbsp;&nbsp;&nbsp;&nbsp;&nbsp;)</td></tr>\n",
       "            <tr><td class=\"diff_next\"></td><td class=\"diff_header\" id=\"from37_24\">24</td><td nowrap=\"nowrap\">&nbsp;&nbsp;&nbsp;&nbsp;&nbsp;&nbsp;&nbsp;&nbsp;)</td><td class=\"diff_next\"></td><td class=\"diff_header\" id=\"to37_24\">24</td><td nowrap=\"nowrap\">&nbsp;&nbsp;&nbsp;&nbsp;&nbsp;&nbsp;&nbsp;&nbsp;)</td></tr>\n",
       "            <tr><td class=\"diff_next\"></td><td class=\"diff_header\" id=\"from37_25\">25</td><td nowrap=\"nowrap\">&nbsp;&nbsp;&nbsp;&nbsp;&nbsp;&nbsp;)</td><td class=\"diff_next\"></td><td class=\"diff_header\" id=\"to37_25\">25</td><td nowrap=\"nowrap\">&nbsp;&nbsp;&nbsp;&nbsp;&nbsp;&nbsp;)</td></tr>\n",
       "            <tr><td class=\"diff_next\"></td><td class=\"diff_header\" id=\"from37_26\">26</td><td nowrap=\"nowrap\">&nbsp;&nbsp;&nbsp;&nbsp;)</td><td class=\"diff_next\"></td><td class=\"diff_header\" id=\"to37_26\">26</td><td nowrap=\"nowrap\">&nbsp;&nbsp;&nbsp;&nbsp;)</td></tr>\n",
       "            <tr><td class=\"diff_next\"></td><td class=\"diff_header\" id=\"from37_27\">27</td><td nowrap=\"nowrap\">&nbsp;&nbsp;)</td><td class=\"diff_next\"></td><td class=\"diff_header\" id=\"to37_27\">27</td><td nowrap=\"nowrap\">&nbsp;&nbsp;)</td></tr>\n",
       "            <tr><td class=\"diff_next\"></td><td class=\"diff_header\" id=\"from37_28\">28</td><td nowrap=\"nowrap\">)</td><td class=\"diff_next\"></td><td class=\"diff_header\" id=\"to37_28\">28</td><td nowrap=\"nowrap\">)</td></tr>\n",
       "            <tr><td class=\"diff_next\"></td><td class=\"diff_header\" id=\"from37_29\">29</td><td nowrap=\"nowrap\">(:scoring</td><td class=\"diff_next\"></td><td class=\"diff_header\" id=\"to37_29\">29</td><td nowrap=\"nowrap\">(:scoring</td></tr>\n",
       "            <tr><td class=\"diff_next\"></td><td class=\"diff_header\" id=\"from37_30\">30</td><td nowrap=\"nowrap\">&nbsp;&nbsp;(count-once-per-objects&nbsp;itemInClosedDrawerAtEnd)</td><td class=\"diff_next\"></td><td class=\"diff_header\" id=\"to37_30\">30</td><td nowrap=\"nowrap\">&nbsp;&nbsp;(count-once-per-objects&nbsp;itemInClosedDrawerAtEnd)</td></tr>\n",
       "            <tr><td class=\"diff_next\"></td><td class=\"diff_header\" id=\"from37_31\">31</td><td nowrap=\"nowrap\">)</td><td class=\"diff_next\"></td><td class=\"diff_header\" id=\"to37_31\">31</td><td nowrap=\"nowrap\">)</td></tr>\n",
       "            <tr><td class=\"diff_next\"></td><td class=\"diff_header\" id=\"from37_32\">32</td><td nowrap=\"nowrap\">)</td><td class=\"diff_next\"></td><td class=\"diff_header\" id=\"to37_32\">32</td><td nowrap=\"nowrap\">)</td></tr>\n",
       "        </tbody>\n",
       "    </table>\n",
       "    <table class=\"diff\" summary=\"Legends\">\n",
       "        <tr> <th colspan=\"2\"> Legends </th> </tr>\n",
       "        <tr> <td> <table border=\"\" summary=\"Colors\">\n",
       "                      <tr><th> Colors </th> </tr>\n",
       "                      <tr><td class=\"diff_add\">&nbsp;Added&nbsp;</td></tr>\n",
       "                      <tr><td class=\"diff_chg\">Changed</td> </tr>\n",
       "                      <tr><td class=\"diff_sub\">Deleted</td> </tr>\n",
       "                  </table></td>\n",
       "             <td> <table border=\"\" summary=\"Links\">\n",
       "                      <tr><th colspan=\"2\"> Links </th> </tr>\n",
       "                      <tr><td>(f)irst change</td> </tr>\n",
       "                      <tr><td>(n)ext change</td> </tr>\n",
       "                      <tr><td>(t)op</td> </tr>\n",
       "                  </table></td> </tr>\n",
       "    </table>\n",
       "</body>\n",
       "\n",
       "</html>"
      ],
      "text/plain": [
       "<IPython.core.display.HTML object>"
      ]
     },
     "metadata": {},
     "output_type": "display_data"
    },
    {
     "data": {
      "text/markdown": [
       "---"
      ],
      "text/plain": [
       "<IPython.core.display.Markdown object>"
      ]
     },
     "metadata": {},
     "output_type": "display_data"
    },
    {
     "name": "stdout",
     "output_type": "stream",
     "text": [
      "Original game index: 26 | Negative game row: 26 | Negative game col: 146\n"
     ]
    },
    {
     "data": {
      "text/markdown": [
       "### Energy of real game: -26.058 | Energy of regrown game: -27.204 | Difference: -1.146"
      ],
      "text/plain": [
       "<IPython.core.display.Markdown object>"
      ]
     },
     "metadata": {},
     "output_type": "display_data"
    },
    {
     "data": {
      "text/markdown": [
       "### Top features changing the game's energy\n",
       "feature name: **value** = (original feature value => regrown feature value) * weight"
      ],
      "text/plain": [
       "<IPython.core.display.Markdown object>"
      ]
     },
     "metadata": {},
     "output_type": "display_data"
    },
    {
     "data": {
      "text/markdown": [
       "| Features increasing energy (= more fake)   | Features decreasing energy (= more real)                                |\n",
       "|--------------------------------------------|-------------------------------------------------------------------------|\n",
       "|                                            | ast_ngram_constraints_n_7_score: **-0.865** = (0.548 => 0.669) * -7.147 |\n",
       "|                                            | ast_ngram_full_n_7_score: **-0.282** = (0.580 => 0.611) * -9.074        |"
      ],
      "text/plain": [
       "<IPython.core.display.Markdown object>"
      ]
     },
     "metadata": {},
     "output_type": "display_data"
    },
    {
     "data": {
      "text/markdown": [
       "### Game Diffs"
      ],
      "text/plain": [
       "<IPython.core.display.Markdown object>"
      ]
     },
     "metadata": {},
     "output_type": "display_data"
    },
    {
     "data": {
      "text/html": [
       "\n",
       "<!DOCTYPE html PUBLIC \"-//W3C//DTD XHTML 1.0 Transitional//EN\"\n",
       "          \"http://www.w3.org/TR/xhtml1/DTD/xhtml1-transitional.dtd\">\n",
       "\n",
       "<html>\n",
       "\n",
       "<head>\n",
       "    <meta http-equiv=\"Content-Type\"\n",
       "          content=\"text/html; charset=utf-8\" />\n",
       "    <title></title>\n",
       "    <style type=\"text/css\">\n",
       "        table.diff {font-family:Courier; border:medium;}\n",
       "        .diff_header {background-color:#e0e0e0}\n",
       "        .diff td {text-align: left !important}\n",
       ".diff th {text-align: center!important }\n",
       ".diff td.diff_header {text-align:right !important}\n",
       "        .diff_next {background-color:#c0c0c0}\n",
       "        .diff_add {background-color: #6fa66f !important; font-weight: bold !important}\n",
       "        .diff_chg {background-color: #999949 !important; font-weight: bold !important}\n",
       "        .diff_sub {background-color: #a66f6f !important; font-weight: bold !important}\n",
       "    </style>\n",
       "</head>\n",
       "\n",
       "<body>\n",
       "    \n",
       "    <table class=\"diff\" id=\"difflib_chg_to38__top\"\n",
       "           cellspacing=\"0\" cellpadding=\"0\" rules=\"groups\" >\n",
       "        <colgroup></colgroup> <colgroup></colgroup> <colgroup></colgroup>\n",
       "        <colgroup></colgroup> <colgroup></colgroup> <colgroup></colgroup>\n",
       "        \n",
       "        <tbody>\n",
       "            <tr><td class=\"diff_next\" id=\"difflib_chg_to38__0\"><a href=\"#difflib_chg_to38__1\">n</a></td><td class=\"diff_header\" id=\"from38_1\">1</td><td nowrap=\"nowrap\">(define&nbsp;(game&nbsp;614e1599db14d8f3a5c1486a-33)&nbsp;(:domain&nbsp;many-objects-room-v1)</td><td class=\"diff_next\"><a href=\"#difflib_chg_to38__1\">n</a></td><td class=\"diff_header\" id=\"to38_1\">1</td><td nowrap=\"nowrap\">(define&nbsp;(game&nbsp;614e1599db14d8f3a5c1486a-33<span class=\"diff_add\">-146-nd-12-rd-6-rs-constraints-sk-prior5</span>)&nbsp;(:domain&nbsp;many-obj</td></tr>\n",
       "            <tr><td class=\"diff_next\"></td><td class=\"diff_header\"></td><td nowrap=\"nowrap\">&nbsp;</td><td class=\"diff_next\"></td><td class=\"diff_header\">></td><td nowrap=\"nowrap\">ects-room-v1)</td></tr>\n",
       "            <tr><td class=\"diff_next\"></td><td class=\"diff_header\" id=\"from38_2\">2</td><td nowrap=\"nowrap\">(:setup</td><td class=\"diff_next\"></td><td class=\"diff_header\" id=\"to38_2\">2</td><td nowrap=\"nowrap\">(:setup</td></tr>\n",
       "            <tr><td class=\"diff_next\"></td><td class=\"diff_header\" id=\"from38_3\">3</td><td nowrap=\"nowrap\">&nbsp;&nbsp;(and</td><td class=\"diff_next\"></td><td class=\"diff_header\" id=\"to38_3\">3</td><td nowrap=\"nowrap\">&nbsp;&nbsp;(and</td></tr>\n",
       "            <tr><td class=\"diff_next\"></td><td class=\"diff_header\" id=\"from38_4\">4</td><td nowrap=\"nowrap\">&nbsp;&nbsp;&nbsp;&nbsp;(forall&nbsp;(?g&nbsp;-&nbsp;game_object)</td><td class=\"diff_next\"></td><td class=\"diff_header\" id=\"to38_4\">4</td><td nowrap=\"nowrap\">&nbsp;&nbsp;&nbsp;&nbsp;(forall&nbsp;(?g&nbsp;-&nbsp;game_object)</td></tr>\n",
       "            <tr><td class=\"diff_next\"></td><td class=\"diff_header\" id=\"from38_5\">5</td><td nowrap=\"nowrap\">&nbsp;&nbsp;&nbsp;&nbsp;&nbsp;&nbsp;(game-optional</td><td class=\"diff_next\"></td><td class=\"diff_header\" id=\"to38_5\">5</td><td nowrap=\"nowrap\">&nbsp;&nbsp;&nbsp;&nbsp;&nbsp;&nbsp;(game-optional</td></tr>\n",
       "            <tr><td class=\"diff_next\"></td><td class=\"diff_header\" id=\"from38_6\">6</td><td nowrap=\"nowrap\">&nbsp;&nbsp;&nbsp;&nbsp;&nbsp;&nbsp;&nbsp;&nbsp;(not</td><td class=\"diff_next\"></td><td class=\"diff_header\" id=\"to38_6\">6</td><td nowrap=\"nowrap\">&nbsp;&nbsp;&nbsp;&nbsp;&nbsp;&nbsp;&nbsp;&nbsp;(not</td></tr>\n",
       "            <tr><td class=\"diff_next\"></td><td class=\"diff_header\" id=\"from38_7\">7</td><td nowrap=\"nowrap\">&nbsp;&nbsp;&nbsp;&nbsp;&nbsp;&nbsp;&nbsp;&nbsp;&nbsp;&nbsp;(in&nbsp;top_drawer&nbsp;?g)</td><td class=\"diff_next\"></td><td class=\"diff_header\" id=\"to38_7\">7</td><td nowrap=\"nowrap\">&nbsp;&nbsp;&nbsp;&nbsp;&nbsp;&nbsp;&nbsp;&nbsp;&nbsp;&nbsp;(in&nbsp;top_drawer&nbsp;?g)</td></tr>\n",
       "            <tr><td class=\"diff_next\"></td><td class=\"diff_header\" id=\"from38_8\">8</td><td nowrap=\"nowrap\">&nbsp;&nbsp;&nbsp;&nbsp;&nbsp;&nbsp;&nbsp;&nbsp;)</td><td class=\"diff_next\"></td><td class=\"diff_header\" id=\"to38_8\">8</td><td nowrap=\"nowrap\">&nbsp;&nbsp;&nbsp;&nbsp;&nbsp;&nbsp;&nbsp;&nbsp;)</td></tr>\n",
       "            <tr><td class=\"diff_next\"></td><td class=\"diff_header\" id=\"from38_9\">9</td><td nowrap=\"nowrap\">&nbsp;&nbsp;&nbsp;&nbsp;&nbsp;&nbsp;)</td><td class=\"diff_next\"></td><td class=\"diff_header\" id=\"to38_9\">9</td><td nowrap=\"nowrap\">&nbsp;&nbsp;&nbsp;&nbsp;&nbsp;&nbsp;)</td></tr>\n",
       "            <tr><td class=\"diff_next\"></td><td class=\"diff_header\" id=\"from38_10\">10</td><td nowrap=\"nowrap\">&nbsp;&nbsp;&nbsp;&nbsp;)</td><td class=\"diff_next\"></td><td class=\"diff_header\" id=\"to38_10\">10</td><td nowrap=\"nowrap\">&nbsp;&nbsp;&nbsp;&nbsp;)</td></tr>\n",
       "            <tr><td class=\"diff_next\"></td><td class=\"diff_header\" id=\"from38_11\">11</td><td nowrap=\"nowrap\">&nbsp;&nbsp;)</td><td class=\"diff_next\"></td><td class=\"diff_header\" id=\"to38_11\">11</td><td nowrap=\"nowrap\">&nbsp;&nbsp;)</td></tr>\n",
       "            <tr><td class=\"diff_next\"></td><td class=\"diff_header\" id=\"from38_12\">12</td><td nowrap=\"nowrap\">)</td><td class=\"diff_next\"></td><td class=\"diff_header\" id=\"to38_12\">12</td><td nowrap=\"nowrap\">)</td></tr>\n",
       "            <tr><td class=\"diff_next\"></td><td class=\"diff_header\" id=\"from38_13\">13</td><td nowrap=\"nowrap\">(:constraints</td><td class=\"diff_next\"></td><td class=\"diff_header\" id=\"to38_13\">13</td><td nowrap=\"nowrap\">(:constraints</td></tr>\n",
       "            <tr><td class=\"diff_next\"></td><td class=\"diff_header\" id=\"from38_14\">14</td><td nowrap=\"nowrap\">&nbsp;&nbsp;(and</td><td class=\"diff_next\"></td><td class=\"diff_header\" id=\"to38_14\">14</td><td nowrap=\"nowrap\">&nbsp;&nbsp;(and</td></tr>\n",
       "            <tr><td class=\"diff_next\" id=\"difflib_chg_to38__1\"></td><td class=\"diff_header\" id=\"from38_15\">15</td><td nowrap=\"nowrap\">&nbsp;&nbsp;&nbsp;&nbsp;(preference&nbsp;itemInClosedDrawerAtEnd</td><td class=\"diff_next\"></td><td class=\"diff_header\" id=\"to38_15\">15</td><td nowrap=\"nowrap\">&nbsp;&nbsp;&nbsp;&nbsp;(preference&nbsp;itemInClosedDrawerAtEnd</td></tr>\n",
       "            <tr><td class=\"diff_next\"></td><td class=\"diff_header\" id=\"from38_16\">16</td><td nowrap=\"nowrap\">&nbsp;&nbsp;&nbsp;&nbsp;&nbsp;&nbsp;(exists&nbsp;(?g&nbsp;-&nbsp;game_object)</td><td class=\"diff_next\"></td><td class=\"diff_header\" id=\"to38_16\">16</td><td nowrap=\"nowrap\">&nbsp;&nbsp;&nbsp;&nbsp;&nbsp;&nbsp;(exists&nbsp;(?g&nbsp;-&nbsp;game_object)</td></tr>\n",
       "            <tr><td class=\"diff_next\"></td><td class=\"diff_header\" id=\"from38_17\">17</td><td nowrap=\"nowrap\">&nbsp;&nbsp;&nbsp;&nbsp;&nbsp;&nbsp;&nbsp;&nbsp;(at-end</td><td class=\"diff_next\"></td><td class=\"diff_header\" id=\"to38_17\">17</td><td nowrap=\"nowrap\">&nbsp;&nbsp;&nbsp;&nbsp;&nbsp;&nbsp;&nbsp;&nbsp;(at-end</td></tr>\n",
       "            <tr><td class=\"diff_next\"></td><td class=\"diff_header\" id=\"from38_18\">18</td><td nowrap=\"nowrap\">&nbsp;&nbsp;&nbsp;&nbsp;&nbsp;&nbsp;&nbsp;&nbsp;&nbsp;&nbsp;(and</td><td class=\"diff_next\"></td><td class=\"diff_header\" id=\"to38_18\">18</td><td nowrap=\"nowrap\">&nbsp;&nbsp;&nbsp;&nbsp;&nbsp;&nbsp;&nbsp;&nbsp;&nbsp;&nbsp;(and</td></tr>\n",
       "            <tr><td class=\"diff_next\"></td><td class=\"diff_header\" id=\"from38_19\">19</td><td nowrap=\"nowrap\">&nbsp;&nbsp;&nbsp;&nbsp;&nbsp;&nbsp;&nbsp;&nbsp;&nbsp;&nbsp;&nbsp;&nbsp;(in&nbsp;top_drawer&nbsp;?g)</td><td class=\"diff_next\"></td><td class=\"diff_header\" id=\"to38_19\">19</td><td nowrap=\"nowrap\">&nbsp;&nbsp;&nbsp;&nbsp;&nbsp;&nbsp;&nbsp;&nbsp;&nbsp;&nbsp;&nbsp;&nbsp;(in&nbsp;top_drawer&nbsp;?g)</td></tr>\n",
       "            <tr><td class=\"diff_next\"><a href=\"#difflib_chg_to38__top\">t</a></td><td class=\"diff_header\" id=\"from38_20\">20</td><td nowrap=\"nowrap\"><span class=\"diff_sub\">&nbsp;&nbsp;&nbsp;&nbsp;&nbsp;&nbsp;&nbsp;&nbsp;&nbsp;&nbsp;&nbsp;&nbsp;(not</span></td><td class=\"diff_next\"><a href=\"#difflib_chg_to38__top\">t</a></td><td class=\"diff_header\" id=\"to38_20\">20</td><td nowrap=\"nowrap\"><span class=\"diff_add\">&nbsp;&nbsp;&nbsp;&nbsp;&nbsp;&nbsp;&nbsp;&nbsp;&nbsp;&nbsp;&nbsp;&nbsp;(is_setup_object&nbsp;?g)</span></td></tr>\n",
       "            <tr><td class=\"diff_next\"></td><td class=\"diff_header\" id=\"from38_21\">21</td><td nowrap=\"nowrap\"><span class=\"diff_sub\">&nbsp;&nbsp;&nbsp;&nbsp;&nbsp;&nbsp;&nbsp;&nbsp;&nbsp;&nbsp;&nbsp;&nbsp;&nbsp;&nbsp;(open&nbsp;top_drawer)</span></td><td class=\"diff_next\"></td><td class=\"diff_header\"></td><td nowrap=\"nowrap\"></td></tr>\n",
       "            <tr><td class=\"diff_next\"></td><td class=\"diff_header\" id=\"from38_22\">22</td><td nowrap=\"nowrap\"><span class=\"diff_sub\">&nbsp;&nbsp;&nbsp;&nbsp;&nbsp;&nbsp;&nbsp;&nbsp;&nbsp;&nbsp;&nbsp;&nbsp;)</span></td><td class=\"diff_next\"></td><td class=\"diff_header\"></td><td nowrap=\"nowrap\"></td></tr>\n",
       "            <tr><td class=\"diff_next\"></td><td class=\"diff_header\" id=\"from38_23\">23</td><td nowrap=\"nowrap\">&nbsp;&nbsp;&nbsp;&nbsp;&nbsp;&nbsp;&nbsp;&nbsp;&nbsp;&nbsp;)</td><td class=\"diff_next\"></td><td class=\"diff_header\" id=\"to38_21\">21</td><td nowrap=\"nowrap\">&nbsp;&nbsp;&nbsp;&nbsp;&nbsp;&nbsp;&nbsp;&nbsp;&nbsp;&nbsp;)</td></tr>\n",
       "            <tr><td class=\"diff_next\"></td><td class=\"diff_header\" id=\"from38_24\">24</td><td nowrap=\"nowrap\">&nbsp;&nbsp;&nbsp;&nbsp;&nbsp;&nbsp;&nbsp;&nbsp;)</td><td class=\"diff_next\"></td><td class=\"diff_header\" id=\"to38_22\">22</td><td nowrap=\"nowrap\">&nbsp;&nbsp;&nbsp;&nbsp;&nbsp;&nbsp;&nbsp;&nbsp;)</td></tr>\n",
       "            <tr><td class=\"diff_next\"></td><td class=\"diff_header\" id=\"from38_25\">25</td><td nowrap=\"nowrap\">&nbsp;&nbsp;&nbsp;&nbsp;&nbsp;&nbsp;)</td><td class=\"diff_next\"></td><td class=\"diff_header\" id=\"to38_23\">23</td><td nowrap=\"nowrap\">&nbsp;&nbsp;&nbsp;&nbsp;&nbsp;&nbsp;)</td></tr>\n",
       "            <tr><td class=\"diff_next\"></td><td class=\"diff_header\" id=\"from38_26\">26</td><td nowrap=\"nowrap\">&nbsp;&nbsp;&nbsp;&nbsp;)</td><td class=\"diff_next\"></td><td class=\"diff_header\" id=\"to38_24\">24</td><td nowrap=\"nowrap\">&nbsp;&nbsp;&nbsp;&nbsp;)</td></tr>\n",
       "            <tr><td class=\"diff_next\"></td><td class=\"diff_header\" id=\"from38_27\">27</td><td nowrap=\"nowrap\">&nbsp;&nbsp;)</td><td class=\"diff_next\"></td><td class=\"diff_header\" id=\"to38_25\">25</td><td nowrap=\"nowrap\">&nbsp;&nbsp;)</td></tr>\n",
       "            <tr><td class=\"diff_next\"></td><td class=\"diff_header\" id=\"from38_28\">28</td><td nowrap=\"nowrap\">)</td><td class=\"diff_next\"></td><td class=\"diff_header\" id=\"to38_26\">26</td><td nowrap=\"nowrap\">)</td></tr>\n",
       "            <tr><td class=\"diff_next\"></td><td class=\"diff_header\" id=\"from38_29\">29</td><td nowrap=\"nowrap\">(:scoring</td><td class=\"diff_next\"></td><td class=\"diff_header\" id=\"to38_27\">27</td><td nowrap=\"nowrap\">(:scoring</td></tr>\n",
       "            <tr><td class=\"diff_next\"></td><td class=\"diff_header\" id=\"from38_30\">30</td><td nowrap=\"nowrap\">&nbsp;&nbsp;(count-once-per-objects&nbsp;itemInClosedDrawerAtEnd)</td><td class=\"diff_next\"></td><td class=\"diff_header\" id=\"to38_28\">28</td><td nowrap=\"nowrap\">&nbsp;&nbsp;(count-once-per-objects&nbsp;itemInClosedDrawerAtEnd)</td></tr>\n",
       "            <tr><td class=\"diff_next\"></td><td class=\"diff_header\" id=\"from38_31\">31</td><td nowrap=\"nowrap\">)</td><td class=\"diff_next\"></td><td class=\"diff_header\" id=\"to38_29\">29</td><td nowrap=\"nowrap\">)</td></tr>\n",
       "            <tr><td class=\"diff_next\"></td><td class=\"diff_header\" id=\"from38_32\">32</td><td nowrap=\"nowrap\">)</td><td class=\"diff_next\"></td><td class=\"diff_header\" id=\"to38_30\">30</td><td nowrap=\"nowrap\">)</td></tr>\n",
       "        </tbody>\n",
       "    </table>\n",
       "    <table class=\"diff\" summary=\"Legends\">\n",
       "        <tr> <th colspan=\"2\"> Legends </th> </tr>\n",
       "        <tr> <td> <table border=\"\" summary=\"Colors\">\n",
       "                      <tr><th> Colors </th> </tr>\n",
       "                      <tr><td class=\"diff_add\">&nbsp;Added&nbsp;</td></tr>\n",
       "                      <tr><td class=\"diff_chg\">Changed</td> </tr>\n",
       "                      <tr><td class=\"diff_sub\">Deleted</td> </tr>\n",
       "                  </table></td>\n",
       "             <td> <table border=\"\" summary=\"Links\">\n",
       "                      <tr><th colspan=\"2\"> Links </th> </tr>\n",
       "                      <tr><td>(f)irst change</td> </tr>\n",
       "                      <tr><td>(n)ext change</td> </tr>\n",
       "                      <tr><td>(t)op</td> </tr>\n",
       "                  </table></td> </tr>\n",
       "    </table>\n",
       "</body>\n",
       "\n",
       "</html>"
      ],
      "text/plain": [
       "<IPython.core.display.HTML object>"
      ]
     },
     "metadata": {},
     "output_type": "display_data"
    },
    {
     "data": {
      "text/markdown": [
       "---"
      ],
      "text/plain": [
       "<IPython.core.display.Markdown object>"
      ]
     },
     "metadata": {},
     "output_type": "display_data"
    },
    {
     "name": "stdout",
     "output_type": "stream",
     "text": [
      "Original game index: 25 | Negative game row: 25 | Negative game col: 936\n"
     ]
    },
    {
     "data": {
      "text/markdown": [
       "### Energy of real game: -28.694 | Energy of regrown game: -29.754 | Difference: -1.060"
      ],
      "text/plain": [
       "<IPython.core.display.Markdown object>"
      ]
     },
     "metadata": {},
     "output_type": "display_data"
    },
    {
     "data": {
      "text/markdown": [
       "### Top features changing the game's energy\n",
       "feature name: **value** = (original feature value => regrown feature value) * weight"
      ],
      "text/plain": [
       "<IPython.core.display.Markdown object>"
      ]
     },
     "metadata": {},
     "output_type": "display_data"
    },
    {
     "data": {
      "text/markdown": [
       "| Features increasing energy (= more fake)                               | Features decreasing energy (= more real)                                         |\n",
       "|------------------------------------------------------------------------|----------------------------------------------------------------------------------|\n",
       "| ast_ngram_constraints_n_7_score: **0.272** = (0.912 => 0.874) * -7.147 | on_arg_types_other_constraints: **-1.174** = (1.000 => 0.000) * 1.174            |\n",
       "| ast_ngram_full_n_7_score: **0.226** = (0.929 => 0.905) * -9.074        | on_arg_types_furniture_agent_constraints: **-0.384** = (0.000 => 1.000) * -0.384 |"
      ],
      "text/plain": [
       "<IPython.core.display.Markdown object>"
      ]
     },
     "metadata": {},
     "output_type": "display_data"
    },
    {
     "data": {
      "text/markdown": [
       "### Game Diffs"
      ],
      "text/plain": [
       "<IPython.core.display.Markdown object>"
      ]
     },
     "metadata": {},
     "output_type": "display_data"
    },
    {
     "data": {
      "text/html": [
       "\n",
       "<!DOCTYPE html PUBLIC \"-//W3C//DTD XHTML 1.0 Transitional//EN\"\n",
       "          \"http://www.w3.org/TR/xhtml1/DTD/xhtml1-transitional.dtd\">\n",
       "\n",
       "<html>\n",
       "\n",
       "<head>\n",
       "    <meta http-equiv=\"Content-Type\"\n",
       "          content=\"text/html; charset=utf-8\" />\n",
       "    <title></title>\n",
       "    <style type=\"text/css\">\n",
       "        table.diff {font-family:Courier; border:medium;}\n",
       "        .diff_header {background-color:#e0e0e0}\n",
       "        .diff td {text-align: left !important}\n",
       ".diff th {text-align: center!important }\n",
       ".diff td.diff_header {text-align:right !important}\n",
       "        .diff_next {background-color:#c0c0c0}\n",
       "        .diff_add {background-color: #6fa66f !important; font-weight: bold !important}\n",
       "        .diff_chg {background-color: #999949 !important; font-weight: bold !important}\n",
       "        .diff_sub {background-color: #a66f6f !important; font-weight: bold !important}\n",
       "    </style>\n",
       "</head>\n",
       "\n",
       "<body>\n",
       "    \n",
       "    <table class=\"diff\" id=\"difflib_chg_to39__top\"\n",
       "           cellspacing=\"0\" cellpadding=\"0\" rules=\"groups\" >\n",
       "        <colgroup></colgroup> <colgroup></colgroup> <colgroup></colgroup>\n",
       "        <colgroup></colgroup> <colgroup></colgroup> <colgroup></colgroup>\n",
       "        \n",
       "        <tbody>\n",
       "            <tr><td class=\"diff_next\" id=\"difflib_chg_to39__0\"><a href=\"#difflib_chg_to39__1\">n</a></td><td class=\"diff_header\" id=\"from39_1\">1</td><td nowrap=\"nowrap\">(define&nbsp;(game&nbsp;56cb8858edf8da000b6df354-32)&nbsp;(:domain&nbsp;many-objects-room-v1)</td><td class=\"diff_next\"><a href=\"#difflib_chg_to39__1\">n</a></td><td class=\"diff_header\" id=\"to39_1\">1</td><td nowrap=\"nowrap\">(define&nbsp;(game&nbsp;56cb8858edf8da000b6df354-32<span class=\"diff_add\">-936-nd-21-rd-1-rs-constraints-sk-prior5</span>)&nbsp;(:domain&nbsp;many-obj</td></tr>\n",
       "            <tr><td class=\"diff_next\"></td><td class=\"diff_header\"></td><td nowrap=\"nowrap\">&nbsp;</td><td class=\"diff_next\"></td><td class=\"diff_header\">></td><td nowrap=\"nowrap\">ects-room-v1)</td></tr>\n",
       "            <tr><td class=\"diff_next\"></td><td class=\"diff_header\" id=\"from39_2\">2</td><td nowrap=\"nowrap\">(:setup</td><td class=\"diff_next\"></td><td class=\"diff_header\" id=\"to39_2\">2</td><td nowrap=\"nowrap\">(:setup</td></tr>\n",
       "            <tr><td class=\"diff_next\"></td><td class=\"diff_header\" id=\"from39_3\">3</td><td nowrap=\"nowrap\">&nbsp;&nbsp;(and</td><td class=\"diff_next\"></td><td class=\"diff_header\" id=\"to39_3\">3</td><td nowrap=\"nowrap\">&nbsp;&nbsp;(and</td></tr>\n",
       "            <tr><td class=\"diff_next\"></td><td class=\"diff_header\" id=\"from39_4\">4</td><td nowrap=\"nowrap\">&nbsp;&nbsp;&nbsp;&nbsp;(exists&nbsp;(?b1&nbsp;?b2&nbsp;?b3&nbsp;?b4&nbsp;?b5&nbsp;?b6&nbsp;-&nbsp;(either&nbsp;cube_block&nbsp;cylindrical_block&nbsp;pyramid_block))</td><td class=\"diff_next\"></td><td class=\"diff_header\" id=\"to39_4\">4</td><td nowrap=\"nowrap\">&nbsp;&nbsp;&nbsp;&nbsp;(exists&nbsp;(?b1&nbsp;?b2&nbsp;?b3&nbsp;?b4&nbsp;?b5&nbsp;?b6&nbsp;-&nbsp;(either&nbsp;cube_block&nbsp;cylindrical_block&nbsp;pyramid_block))</td></tr>\n",
       "            <tr><td class=\"diff_next\"></td><td class=\"diff_header\" id=\"from39_5\">5</td><td nowrap=\"nowrap\">&nbsp;&nbsp;&nbsp;&nbsp;&nbsp;&nbsp;(game-optional</td><td class=\"diff_next\"></td><td class=\"diff_header\" id=\"to39_5\">5</td><td nowrap=\"nowrap\">&nbsp;&nbsp;&nbsp;&nbsp;&nbsp;&nbsp;(game-optional</td></tr>\n",
       "            <tr><td class=\"diff_next\"></td><td class=\"diff_header\" id=\"from39_6\">6</td><td nowrap=\"nowrap\">&nbsp;&nbsp;&nbsp;&nbsp;&nbsp;&nbsp;&nbsp;&nbsp;(and</td><td class=\"diff_next\"></td><td class=\"diff_header\" id=\"to39_6\">6</td><td nowrap=\"nowrap\">&nbsp;&nbsp;&nbsp;&nbsp;&nbsp;&nbsp;&nbsp;&nbsp;(and</td></tr>\n",
       "            <tr><td class=\"diff_next\"></td><td class=\"diff_header\" id=\"from39_7\">7</td><td nowrap=\"nowrap\">&nbsp;&nbsp;&nbsp;&nbsp;&nbsp;&nbsp;&nbsp;&nbsp;&nbsp;&nbsp;(on&nbsp;desk&nbsp;?b1)</td><td class=\"diff_next\"></td><td class=\"diff_header\" id=\"to39_7\">7</td><td nowrap=\"nowrap\">&nbsp;&nbsp;&nbsp;&nbsp;&nbsp;&nbsp;&nbsp;&nbsp;&nbsp;&nbsp;(on&nbsp;desk&nbsp;?b1)</td></tr>\n",
       "            <tr><td class=\"diff_next\"></td><td class=\"diff_header\" id=\"from39_8\">8</td><td nowrap=\"nowrap\">&nbsp;&nbsp;&nbsp;&nbsp;&nbsp;&nbsp;&nbsp;&nbsp;&nbsp;&nbsp;(on&nbsp;desk&nbsp;?b2)</td><td class=\"diff_next\"></td><td class=\"diff_header\" id=\"to39_8\">8</td><td nowrap=\"nowrap\">&nbsp;&nbsp;&nbsp;&nbsp;&nbsp;&nbsp;&nbsp;&nbsp;&nbsp;&nbsp;(on&nbsp;desk&nbsp;?b2)</td></tr>\n",
       "            <tr><td class=\"diff_next\"></td><td class=\"diff_header\" id=\"from39_9\">9</td><td nowrap=\"nowrap\">&nbsp;&nbsp;&nbsp;&nbsp;&nbsp;&nbsp;&nbsp;&nbsp;&nbsp;&nbsp;(on&nbsp;desk&nbsp;?b3)</td><td class=\"diff_next\"></td><td class=\"diff_header\" id=\"to39_9\">9</td><td nowrap=\"nowrap\">&nbsp;&nbsp;&nbsp;&nbsp;&nbsp;&nbsp;&nbsp;&nbsp;&nbsp;&nbsp;(on&nbsp;desk&nbsp;?b3)</td></tr>\n",
       "            <tr><td class=\"diff_next\"></td><td class=\"diff_header\" id=\"from39_10\">10</td><td nowrap=\"nowrap\">&nbsp;&nbsp;&nbsp;&nbsp;&nbsp;&nbsp;&nbsp;&nbsp;&nbsp;&nbsp;(on&nbsp;?b1&nbsp;?b4)</td><td class=\"diff_next\"></td><td class=\"diff_header\" id=\"to39_10\">10</td><td nowrap=\"nowrap\">&nbsp;&nbsp;&nbsp;&nbsp;&nbsp;&nbsp;&nbsp;&nbsp;&nbsp;&nbsp;(on&nbsp;?b1&nbsp;?b4)</td></tr>\n",
       "            <tr><td class=\"diff_next\"></td><td class=\"diff_header\" id=\"from39_11\">11</td><td nowrap=\"nowrap\">&nbsp;&nbsp;&nbsp;&nbsp;&nbsp;&nbsp;&nbsp;&nbsp;&nbsp;&nbsp;(on&nbsp;?b2&nbsp;?b5)</td><td class=\"diff_next\"></td><td class=\"diff_header\" id=\"to39_11\">11</td><td nowrap=\"nowrap\">&nbsp;&nbsp;&nbsp;&nbsp;&nbsp;&nbsp;&nbsp;&nbsp;&nbsp;&nbsp;(on&nbsp;?b2&nbsp;?b5)</td></tr>\n",
       "            <tr><td class=\"diff_next\"></td><td class=\"diff_header\" id=\"from39_12\">12</td><td nowrap=\"nowrap\">&nbsp;&nbsp;&nbsp;&nbsp;&nbsp;&nbsp;&nbsp;&nbsp;&nbsp;&nbsp;(on&nbsp;?b4&nbsp;?b6)</td><td class=\"diff_next\"></td><td class=\"diff_header\" id=\"to39_12\">12</td><td nowrap=\"nowrap\">&nbsp;&nbsp;&nbsp;&nbsp;&nbsp;&nbsp;&nbsp;&nbsp;&nbsp;&nbsp;(on&nbsp;?b4&nbsp;?b6)</td></tr>\n",
       "            <tr><td class=\"diff_next\"></td><td class=\"diff_header\" id=\"from39_13\">13</td><td nowrap=\"nowrap\">&nbsp;&nbsp;&nbsp;&nbsp;&nbsp;&nbsp;&nbsp;&nbsp;)</td><td class=\"diff_next\"></td><td class=\"diff_header\" id=\"to39_13\">13</td><td nowrap=\"nowrap\">&nbsp;&nbsp;&nbsp;&nbsp;&nbsp;&nbsp;&nbsp;&nbsp;)</td></tr>\n",
       "            <tr><td class=\"diff_next\"></td><td class=\"diff_header\" id=\"from39_14\">14</td><td nowrap=\"nowrap\">&nbsp;&nbsp;&nbsp;&nbsp;&nbsp;&nbsp;)</td><td class=\"diff_next\"></td><td class=\"diff_header\" id=\"to39_14\">14</td><td nowrap=\"nowrap\">&nbsp;&nbsp;&nbsp;&nbsp;&nbsp;&nbsp;)</td></tr>\n",
       "            <tr><td class=\"diff_next\"></td><td class=\"diff_header\" id=\"from39_15\">15</td><td nowrap=\"nowrap\">&nbsp;&nbsp;&nbsp;&nbsp;)</td><td class=\"diff_next\"></td><td class=\"diff_header\" id=\"to39_15\">15</td><td nowrap=\"nowrap\">&nbsp;&nbsp;&nbsp;&nbsp;)</td></tr>\n",
       "            <tr><td class=\"diff_next\"></td><td class=\"diff_header\" id=\"from39_16\">16</td><td nowrap=\"nowrap\">&nbsp;&nbsp;&nbsp;&nbsp;(exists&nbsp;(?w1&nbsp;?w2&nbsp;-&nbsp;wall&nbsp;?h&nbsp;-&nbsp;hexagonal_bin)</td><td class=\"diff_next\"></td><td class=\"diff_header\" id=\"to39_16\">16</td><td nowrap=\"nowrap\">&nbsp;&nbsp;&nbsp;&nbsp;(exists&nbsp;(?w1&nbsp;?w2&nbsp;-&nbsp;wall&nbsp;?h&nbsp;-&nbsp;hexagonal_bin)</td></tr>\n",
       "            <tr><td class=\"diff_next\"></td><td class=\"diff_header\" id=\"from39_17\">17</td><td nowrap=\"nowrap\">&nbsp;&nbsp;&nbsp;&nbsp;&nbsp;&nbsp;(game-conserved</td><td class=\"diff_next\"></td><td class=\"diff_header\" id=\"to39_17\">17</td><td nowrap=\"nowrap\">&nbsp;&nbsp;&nbsp;&nbsp;&nbsp;&nbsp;(game-conserved</td></tr>\n",
       "            <tr><td class=\"diff_next\"></td><td class=\"diff_header\" id=\"from39_18\">18</td><td nowrap=\"nowrap\">&nbsp;&nbsp;&nbsp;&nbsp;&nbsp;&nbsp;&nbsp;&nbsp;(and</td><td class=\"diff_next\"></td><td class=\"diff_header\" id=\"to39_18\">18</td><td nowrap=\"nowrap\">&nbsp;&nbsp;&nbsp;&nbsp;&nbsp;&nbsp;&nbsp;&nbsp;(and</td></tr>\n",
       "            <tr><td class=\"diff_next\"></td><td class=\"diff_header\" id=\"from39_19\">19</td><td nowrap=\"nowrap\">&nbsp;&nbsp;&nbsp;&nbsp;&nbsp;&nbsp;&nbsp;&nbsp;&nbsp;&nbsp;(adjacent&nbsp;?h&nbsp;?w1)</td><td class=\"diff_next\"></td><td class=\"diff_header\" id=\"to39_19\">19</td><td nowrap=\"nowrap\">&nbsp;&nbsp;&nbsp;&nbsp;&nbsp;&nbsp;&nbsp;&nbsp;&nbsp;&nbsp;(adjacent&nbsp;?h&nbsp;?w1)</td></tr>\n",
       "            <tr><td class=\"diff_next\"></td><td class=\"diff_header\" id=\"from39_20\">20</td><td nowrap=\"nowrap\">&nbsp;&nbsp;&nbsp;&nbsp;&nbsp;&nbsp;&nbsp;&nbsp;&nbsp;&nbsp;(adjacent&nbsp;?h&nbsp;?w2)</td><td class=\"diff_next\"></td><td class=\"diff_header\" id=\"to39_20\">20</td><td nowrap=\"nowrap\">&nbsp;&nbsp;&nbsp;&nbsp;&nbsp;&nbsp;&nbsp;&nbsp;&nbsp;&nbsp;(adjacent&nbsp;?h&nbsp;?w2)</td></tr>\n",
       "            <tr><td class=\"diff_next\"></td><td class=\"diff_header\" id=\"from39_21\">21</td><td nowrap=\"nowrap\">&nbsp;&nbsp;&nbsp;&nbsp;&nbsp;&nbsp;&nbsp;&nbsp;)</td><td class=\"diff_next\"></td><td class=\"diff_header\" id=\"to39_21\">21</td><td nowrap=\"nowrap\">&nbsp;&nbsp;&nbsp;&nbsp;&nbsp;&nbsp;&nbsp;&nbsp;)</td></tr>\n",
       "            <tr><td class=\"diff_next\"></td><td class=\"diff_header\" id=\"from39_22\">22</td><td nowrap=\"nowrap\">&nbsp;&nbsp;&nbsp;&nbsp;&nbsp;&nbsp;)</td><td class=\"diff_next\"></td><td class=\"diff_header\" id=\"to39_22\">22</td><td nowrap=\"nowrap\">&nbsp;&nbsp;&nbsp;&nbsp;&nbsp;&nbsp;)</td></tr>\n",
       "            <tr><td class=\"diff_next\"></td><td class=\"diff_header\" id=\"from39_23\">23</td><td nowrap=\"nowrap\">&nbsp;&nbsp;&nbsp;&nbsp;)</td><td class=\"diff_next\"></td><td class=\"diff_header\" id=\"to39_23\">23</td><td nowrap=\"nowrap\">&nbsp;&nbsp;&nbsp;&nbsp;)</td></tr>\n",
       "            <tr><td class=\"diff_next\"></td><td class=\"diff_header\" id=\"from39_24\">24</td><td nowrap=\"nowrap\">&nbsp;&nbsp;)</td><td class=\"diff_next\"></td><td class=\"diff_header\" id=\"to39_24\">24</td><td nowrap=\"nowrap\">&nbsp;&nbsp;)</td></tr>\n",
       "            <tr><td class=\"diff_next\"></td><td class=\"diff_header\" id=\"from39_25\">25</td><td nowrap=\"nowrap\">)</td><td class=\"diff_next\"></td><td class=\"diff_header\" id=\"to39_25\">25</td><td nowrap=\"nowrap\">)</td></tr>\n",
       "            <tr><td class=\"diff_next\"></td><td class=\"diff_header\" id=\"from39_26\">26</td><td nowrap=\"nowrap\">(:constraints</td><td class=\"diff_next\"></td><td class=\"diff_header\" id=\"to39_26\">26</td><td nowrap=\"nowrap\">(:constraints</td></tr>\n",
       "            <tr><td class=\"diff_next\"></td><td class=\"diff_header\" id=\"from39_27\">27</td><td nowrap=\"nowrap\">&nbsp;&nbsp;(and</td><td class=\"diff_next\"></td><td class=\"diff_header\" id=\"to39_27\">27</td><td nowrap=\"nowrap\">&nbsp;&nbsp;(and</td></tr>\n",
       "            <tr><td class=\"diff_next\"></td><td class=\"diff_header\" id=\"from39_28\">28</td><td nowrap=\"nowrap\">&nbsp;&nbsp;&nbsp;&nbsp;(forall&nbsp;(?b&nbsp;-&nbsp;(either&nbsp;dodgeball&nbsp;golfball))</td><td class=\"diff_next\"></td><td class=\"diff_header\" id=\"to39_28\">28</td><td nowrap=\"nowrap\">&nbsp;&nbsp;&nbsp;&nbsp;(forall&nbsp;(?b&nbsp;-&nbsp;(either&nbsp;dodgeball&nbsp;golfball))</td></tr>\n",
       "            <tr><td class=\"diff_next\"></td><td class=\"diff_header\" id=\"from39_29\">29</td><td nowrap=\"nowrap\">&nbsp;&nbsp;&nbsp;&nbsp;&nbsp;&nbsp;(and</td><td class=\"diff_next\"></td><td class=\"diff_header\" id=\"to39_29\">29</td><td nowrap=\"nowrap\">&nbsp;&nbsp;&nbsp;&nbsp;&nbsp;&nbsp;(and</td></tr>\n",
       "            <tr><td class=\"diff_next\"></td><td class=\"diff_header\" id=\"from39_30\">30</td><td nowrap=\"nowrap\">&nbsp;&nbsp;&nbsp;&nbsp;&nbsp;&nbsp;&nbsp;&nbsp;(preference&nbsp;ballThrownToBin</td><td class=\"diff_next\"></td><td class=\"diff_header\" id=\"to39_30\">30</td><td nowrap=\"nowrap\">&nbsp;&nbsp;&nbsp;&nbsp;&nbsp;&nbsp;&nbsp;&nbsp;(preference&nbsp;ballThrownToBin</td></tr>\n",
       "            <tr><td class=\"diff_next\"></td><td class=\"diff_header\" id=\"from39_31\">31</td><td nowrap=\"nowrap\">&nbsp;&nbsp;&nbsp;&nbsp;&nbsp;&nbsp;&nbsp;&nbsp;&nbsp;&nbsp;(exists&nbsp;(?h&nbsp;-&nbsp;hexagonal_bin)</td><td class=\"diff_next\"></td><td class=\"diff_header\" id=\"to39_31\">31</td><td nowrap=\"nowrap\">&nbsp;&nbsp;&nbsp;&nbsp;&nbsp;&nbsp;&nbsp;&nbsp;&nbsp;&nbsp;(exists&nbsp;(?h&nbsp;-&nbsp;hexagonal_bin)</td></tr>\n",
       "            <tr><td class=\"diff_next\"></td><td class=\"diff_header\" id=\"from39_32\">32</td><td nowrap=\"nowrap\">&nbsp;&nbsp;&nbsp;&nbsp;&nbsp;&nbsp;&nbsp;&nbsp;&nbsp;&nbsp;&nbsp;&nbsp;(then</td><td class=\"diff_next\"></td><td class=\"diff_header\" id=\"to39_32\">32</td><td nowrap=\"nowrap\">&nbsp;&nbsp;&nbsp;&nbsp;&nbsp;&nbsp;&nbsp;&nbsp;&nbsp;&nbsp;&nbsp;&nbsp;(then</td></tr>\n",
       "            <tr><td class=\"diff_next\"></td><td class=\"diff_header\" id=\"from39_33\">33</td><td nowrap=\"nowrap\">&nbsp;&nbsp;&nbsp;&nbsp;&nbsp;&nbsp;&nbsp;&nbsp;&nbsp;&nbsp;&nbsp;&nbsp;&nbsp;&nbsp;(once&nbsp;(agent_holds&nbsp;?b)&nbsp;)</td><td class=\"diff_next\"></td><td class=\"diff_header\" id=\"to39_33\">33</td><td nowrap=\"nowrap\">&nbsp;&nbsp;&nbsp;&nbsp;&nbsp;&nbsp;&nbsp;&nbsp;&nbsp;&nbsp;&nbsp;&nbsp;&nbsp;&nbsp;(once&nbsp;(agent_holds&nbsp;?b)&nbsp;)</td></tr>\n",
       "            <tr><td class=\"diff_next\"></td><td class=\"diff_header\" id=\"from39_34\">34</td><td nowrap=\"nowrap\">&nbsp;&nbsp;&nbsp;&nbsp;&nbsp;&nbsp;&nbsp;&nbsp;&nbsp;&nbsp;&nbsp;&nbsp;&nbsp;&nbsp;(hold&nbsp;(and&nbsp;(not&nbsp;(agent_holds&nbsp;?b)&nbsp;)&nbsp;(in_motion&nbsp;?b)&nbsp;)&nbsp;)</td><td class=\"diff_next\"></td><td class=\"diff_header\" id=\"to39_34\">34</td><td nowrap=\"nowrap\">&nbsp;&nbsp;&nbsp;&nbsp;&nbsp;&nbsp;&nbsp;&nbsp;&nbsp;&nbsp;&nbsp;&nbsp;&nbsp;&nbsp;(hold&nbsp;(and&nbsp;(not&nbsp;(agent_holds&nbsp;?b)&nbsp;)&nbsp;(in_motion&nbsp;?b)&nbsp;)&nbsp;)</td></tr>\n",
       "            <tr><td class=\"diff_next\"></td><td class=\"diff_header\" id=\"from39_35\">35</td><td nowrap=\"nowrap\">&nbsp;&nbsp;&nbsp;&nbsp;&nbsp;&nbsp;&nbsp;&nbsp;&nbsp;&nbsp;&nbsp;&nbsp;&nbsp;&nbsp;(once&nbsp;(and&nbsp;(not&nbsp;(in_motion&nbsp;?b)&nbsp;)&nbsp;(in&nbsp;?h&nbsp;?b)&nbsp;)&nbsp;)</td><td class=\"diff_next\"></td><td class=\"diff_header\" id=\"to39_35\">35</td><td nowrap=\"nowrap\">&nbsp;&nbsp;&nbsp;&nbsp;&nbsp;&nbsp;&nbsp;&nbsp;&nbsp;&nbsp;&nbsp;&nbsp;&nbsp;&nbsp;(once&nbsp;(and&nbsp;(not&nbsp;(in_motion&nbsp;?b)&nbsp;)&nbsp;(in&nbsp;?h&nbsp;?b)&nbsp;)&nbsp;)</td></tr>\n",
       "            <tr><td class=\"diff_next\"></td><td class=\"diff_header\" id=\"from39_36\">36</td><td nowrap=\"nowrap\">&nbsp;&nbsp;&nbsp;&nbsp;&nbsp;&nbsp;&nbsp;&nbsp;&nbsp;&nbsp;&nbsp;&nbsp;)</td><td class=\"diff_next\"></td><td class=\"diff_header\" id=\"to39_36\">36</td><td nowrap=\"nowrap\">&nbsp;&nbsp;&nbsp;&nbsp;&nbsp;&nbsp;&nbsp;&nbsp;&nbsp;&nbsp;&nbsp;&nbsp;)</td></tr>\n",
       "            <tr><td class=\"diff_next\" id=\"difflib_chg_to39__1\"></td><td class=\"diff_header\" id=\"from39_37\">37</td><td nowrap=\"nowrap\">&nbsp;&nbsp;&nbsp;&nbsp;&nbsp;&nbsp;&nbsp;&nbsp;&nbsp;&nbsp;)</td><td class=\"diff_next\"></td><td class=\"diff_header\" id=\"to39_37\">37</td><td nowrap=\"nowrap\">&nbsp;&nbsp;&nbsp;&nbsp;&nbsp;&nbsp;&nbsp;&nbsp;&nbsp;&nbsp;)</td></tr>\n",
       "            <tr><td class=\"diff_next\"></td><td class=\"diff_header\" id=\"from39_38\">38</td><td nowrap=\"nowrap\">&nbsp;&nbsp;&nbsp;&nbsp;&nbsp;&nbsp;&nbsp;&nbsp;)</td><td class=\"diff_next\"></td><td class=\"diff_header\" id=\"to39_38\">38</td><td nowrap=\"nowrap\">&nbsp;&nbsp;&nbsp;&nbsp;&nbsp;&nbsp;&nbsp;&nbsp;)</td></tr>\n",
       "            <tr><td class=\"diff_next\"></td><td class=\"diff_header\" id=\"from39_39\">39</td><td nowrap=\"nowrap\">&nbsp;&nbsp;&nbsp;&nbsp;&nbsp;&nbsp;&nbsp;&nbsp;(preference&nbsp;blockInTowerKnocked</td><td class=\"diff_next\"></td><td class=\"diff_header\" id=\"to39_39\">39</td><td nowrap=\"nowrap\">&nbsp;&nbsp;&nbsp;&nbsp;&nbsp;&nbsp;&nbsp;&nbsp;(preference&nbsp;blockInTowerKnocked</td></tr>\n",
       "            <tr><td class=\"diff_next\"></td><td class=\"diff_header\" id=\"from39_40\">40</td><td nowrap=\"nowrap\">&nbsp;&nbsp;&nbsp;&nbsp;&nbsp;&nbsp;&nbsp;&nbsp;&nbsp;&nbsp;(exists&nbsp;(?bl&nbsp;-&nbsp;building&nbsp;?c&nbsp;-&nbsp;(either&nbsp;cube_block&nbsp;cylindrical_block&nbsp;pyramid_block))</td><td class=\"diff_next\"></td><td class=\"diff_header\" id=\"to39_40\">40</td><td nowrap=\"nowrap\">&nbsp;&nbsp;&nbsp;&nbsp;&nbsp;&nbsp;&nbsp;&nbsp;&nbsp;&nbsp;(exists&nbsp;(?bl&nbsp;-&nbsp;building&nbsp;?c&nbsp;-&nbsp;(either&nbsp;cube_block&nbsp;cylindrical_block&nbsp;pyramid_block))</td></tr>\n",
       "            <tr><td class=\"diff_next\"></td><td class=\"diff_header\" id=\"from39_41\">41</td><td nowrap=\"nowrap\">&nbsp;&nbsp;&nbsp;&nbsp;&nbsp;&nbsp;&nbsp;&nbsp;&nbsp;&nbsp;&nbsp;&nbsp;(then</td><td class=\"diff_next\"></td><td class=\"diff_header\" id=\"to39_41\">41</td><td nowrap=\"nowrap\">&nbsp;&nbsp;&nbsp;&nbsp;&nbsp;&nbsp;&nbsp;&nbsp;&nbsp;&nbsp;&nbsp;&nbsp;(then</td></tr>\n",
       "            <tr><td class=\"diff_next\"><a href=\"#difflib_chg_to39__top\">t</a></td><td class=\"diff_header\" id=\"from39_42\">42</td><td nowrap=\"nowrap\">&nbsp;&nbsp;&nbsp;&nbsp;&nbsp;&nbsp;&nbsp;&nbsp;&nbsp;&nbsp;&nbsp;&nbsp;&nbsp;&nbsp;(once&nbsp;(and&nbsp;(agent_holds&nbsp;?b)&nbsp;(on&nbsp;desk&nbsp;?bl<span class=\"diff_sub\">)&nbsp;(in&nbsp;?bl</span>&nbsp;?c)&nbsp;)&nbsp;)</td><td class=\"diff_next\"><a href=\"#difflib_chg_to39__top\">t</a></td><td class=\"diff_header\" id=\"to39_42\">42</td><td nowrap=\"nowrap\">&nbsp;&nbsp;&nbsp;&nbsp;&nbsp;&nbsp;&nbsp;&nbsp;&nbsp;&nbsp;&nbsp;&nbsp;&nbsp;&nbsp;(once&nbsp;(and&nbsp;(agent_holds&nbsp;?b)&nbsp;(on&nbsp;desk&nbsp;<span class=\"diff_add\">agent)&nbsp;(in&nbsp;</span>?bl&nbsp;?c)&nbsp;)&nbsp;)</td></tr>\n",
       "            <tr><td class=\"diff_next\"></td><td class=\"diff_header\" id=\"from39_43\">43</td><td nowrap=\"nowrap\">&nbsp;&nbsp;&nbsp;&nbsp;&nbsp;&nbsp;&nbsp;&nbsp;&nbsp;&nbsp;&nbsp;&nbsp;&nbsp;&nbsp;(hold-while&nbsp;(and&nbsp;(not&nbsp;(agent_holds&nbsp;?b)&nbsp;)&nbsp;(in_motion&nbsp;?b)&nbsp;(not&nbsp;(or&nbsp;(agent_holds&nbsp;?c)&nbsp;(tou</td><td class=\"diff_next\"></td><td class=\"diff_header\" id=\"to39_43\">43</td><td nowrap=\"nowrap\">&nbsp;&nbsp;&nbsp;&nbsp;&nbsp;&nbsp;&nbsp;&nbsp;&nbsp;&nbsp;&nbsp;&nbsp;&nbsp;&nbsp;(hold-while&nbsp;(and&nbsp;(not&nbsp;(agent_holds&nbsp;?b)&nbsp;)&nbsp;(in_motion&nbsp;?b)&nbsp;(not&nbsp;(or&nbsp;(agent_holds&nbsp;?c)&nbsp;(tou</td></tr>\n",
       "            <tr><td class=\"diff_next\"></td><td class=\"diff_header\">></td><td nowrap=\"nowrap\">ch&nbsp;agent&nbsp;?c)&nbsp;)&nbsp;)&nbsp;)&nbsp;(in_motion&nbsp;?c)&nbsp;)</td><td class=\"diff_next\"></td><td class=\"diff_header\">></td><td nowrap=\"nowrap\">ch&nbsp;agent&nbsp;?c)&nbsp;)&nbsp;)&nbsp;)&nbsp;(in_motion&nbsp;?c)&nbsp;)</td></tr>\n",
       "            <tr><td class=\"diff_next\"></td><td class=\"diff_header\" id=\"from39_44\">44</td><td nowrap=\"nowrap\">&nbsp;&nbsp;&nbsp;&nbsp;&nbsp;&nbsp;&nbsp;&nbsp;&nbsp;&nbsp;&nbsp;&nbsp;&nbsp;&nbsp;(once&nbsp;(not&nbsp;(in_motion&nbsp;?c)&nbsp;)&nbsp;)</td><td class=\"diff_next\"></td><td class=\"diff_header\" id=\"to39_44\">44</td><td nowrap=\"nowrap\">&nbsp;&nbsp;&nbsp;&nbsp;&nbsp;&nbsp;&nbsp;&nbsp;&nbsp;&nbsp;&nbsp;&nbsp;&nbsp;&nbsp;(once&nbsp;(not&nbsp;(in_motion&nbsp;?c)&nbsp;)&nbsp;)</td></tr>\n",
       "            <tr><td class=\"diff_next\"></td><td class=\"diff_header\" id=\"from39_45\">45</td><td nowrap=\"nowrap\">&nbsp;&nbsp;&nbsp;&nbsp;&nbsp;&nbsp;&nbsp;&nbsp;&nbsp;&nbsp;&nbsp;&nbsp;)</td><td class=\"diff_next\"></td><td class=\"diff_header\" id=\"to39_45\">45</td><td nowrap=\"nowrap\">&nbsp;&nbsp;&nbsp;&nbsp;&nbsp;&nbsp;&nbsp;&nbsp;&nbsp;&nbsp;&nbsp;&nbsp;)</td></tr>\n",
       "            <tr><td class=\"diff_next\"></td><td class=\"diff_header\" id=\"from39_46\">46</td><td nowrap=\"nowrap\">&nbsp;&nbsp;&nbsp;&nbsp;&nbsp;&nbsp;&nbsp;&nbsp;&nbsp;&nbsp;)</td><td class=\"diff_next\"></td><td class=\"diff_header\" id=\"to39_46\">46</td><td nowrap=\"nowrap\">&nbsp;&nbsp;&nbsp;&nbsp;&nbsp;&nbsp;&nbsp;&nbsp;&nbsp;&nbsp;)</td></tr>\n",
       "            <tr><td class=\"diff_next\"></td><td class=\"diff_header\" id=\"from39_47\">47</td><td nowrap=\"nowrap\">&nbsp;&nbsp;&nbsp;&nbsp;&nbsp;&nbsp;&nbsp;&nbsp;)</td><td class=\"diff_next\"></td><td class=\"diff_header\" id=\"to39_47\">47</td><td nowrap=\"nowrap\">&nbsp;&nbsp;&nbsp;&nbsp;&nbsp;&nbsp;&nbsp;&nbsp;)</td></tr>\n",
       "            <tr><td class=\"diff_next\"></td><td class=\"diff_header\" id=\"from39_48\">48</td><td nowrap=\"nowrap\">&nbsp;&nbsp;&nbsp;&nbsp;&nbsp;&nbsp;&nbsp;&nbsp;(preference&nbsp;throwAttempt</td><td class=\"diff_next\"></td><td class=\"diff_header\" id=\"to39_48\">48</td><td nowrap=\"nowrap\">&nbsp;&nbsp;&nbsp;&nbsp;&nbsp;&nbsp;&nbsp;&nbsp;(preference&nbsp;throwAttempt</td></tr>\n",
       "            <tr><td class=\"diff_next\"></td><td class=\"diff_header\" id=\"from39_49\">49</td><td nowrap=\"nowrap\">&nbsp;&nbsp;&nbsp;&nbsp;&nbsp;&nbsp;&nbsp;&nbsp;&nbsp;&nbsp;(then</td><td class=\"diff_next\"></td><td class=\"diff_header\" id=\"to39_49\">49</td><td nowrap=\"nowrap\">&nbsp;&nbsp;&nbsp;&nbsp;&nbsp;&nbsp;&nbsp;&nbsp;&nbsp;&nbsp;(then</td></tr>\n",
       "            <tr><td class=\"diff_next\"></td><td class=\"diff_header\" id=\"from39_50\">50</td><td nowrap=\"nowrap\">&nbsp;&nbsp;&nbsp;&nbsp;&nbsp;&nbsp;&nbsp;&nbsp;&nbsp;&nbsp;&nbsp;&nbsp;(once&nbsp;(agent_holds&nbsp;?b)&nbsp;)</td><td class=\"diff_next\"></td><td class=\"diff_header\" id=\"to39_50\">50</td><td nowrap=\"nowrap\">&nbsp;&nbsp;&nbsp;&nbsp;&nbsp;&nbsp;&nbsp;&nbsp;&nbsp;&nbsp;&nbsp;&nbsp;(once&nbsp;(agent_holds&nbsp;?b)&nbsp;)</td></tr>\n",
       "            <tr><td class=\"diff_next\"></td><td class=\"diff_header\" id=\"from39_51\">51</td><td nowrap=\"nowrap\">&nbsp;&nbsp;&nbsp;&nbsp;&nbsp;&nbsp;&nbsp;&nbsp;&nbsp;&nbsp;&nbsp;&nbsp;(hold&nbsp;(and&nbsp;(not&nbsp;(agent_holds&nbsp;?b)&nbsp;)&nbsp;(in_motion&nbsp;?b)&nbsp;)&nbsp;)</td><td class=\"diff_next\"></td><td class=\"diff_header\" id=\"to39_51\">51</td><td nowrap=\"nowrap\">&nbsp;&nbsp;&nbsp;&nbsp;&nbsp;&nbsp;&nbsp;&nbsp;&nbsp;&nbsp;&nbsp;&nbsp;(hold&nbsp;(and&nbsp;(not&nbsp;(agent_holds&nbsp;?b)&nbsp;)&nbsp;(in_motion&nbsp;?b)&nbsp;)&nbsp;)</td></tr>\n",
       "            <tr><td class=\"diff_next\"></td><td class=\"diff_header\" id=\"from39_52\">52</td><td nowrap=\"nowrap\">&nbsp;&nbsp;&nbsp;&nbsp;&nbsp;&nbsp;&nbsp;&nbsp;&nbsp;&nbsp;&nbsp;&nbsp;(once&nbsp;(not&nbsp;(in_motion&nbsp;?b)&nbsp;)&nbsp;)</td><td class=\"diff_next\"></td><td class=\"diff_header\" id=\"to39_52\">52</td><td nowrap=\"nowrap\">&nbsp;&nbsp;&nbsp;&nbsp;&nbsp;&nbsp;&nbsp;&nbsp;&nbsp;&nbsp;&nbsp;&nbsp;(once&nbsp;(not&nbsp;(in_motion&nbsp;?b)&nbsp;)&nbsp;)</td></tr>\n",
       "            <tr><td class=\"diff_next\"></td><td class=\"diff_header\" id=\"from39_53\">53</td><td nowrap=\"nowrap\">&nbsp;&nbsp;&nbsp;&nbsp;&nbsp;&nbsp;&nbsp;&nbsp;&nbsp;&nbsp;)</td><td class=\"diff_next\"></td><td class=\"diff_header\" id=\"to39_53\">53</td><td nowrap=\"nowrap\">&nbsp;&nbsp;&nbsp;&nbsp;&nbsp;&nbsp;&nbsp;&nbsp;&nbsp;&nbsp;)</td></tr>\n",
       "            <tr><td class=\"diff_next\"></td><td class=\"diff_header\" id=\"from39_54\">54</td><td nowrap=\"nowrap\">&nbsp;&nbsp;&nbsp;&nbsp;&nbsp;&nbsp;&nbsp;&nbsp;)</td><td class=\"diff_next\"></td><td class=\"diff_header\" id=\"to39_54\">54</td><td nowrap=\"nowrap\">&nbsp;&nbsp;&nbsp;&nbsp;&nbsp;&nbsp;&nbsp;&nbsp;)</td></tr>\n",
       "            <tr><td class=\"diff_next\"></td><td class=\"diff_header\" id=\"from39_55\">55</td><td nowrap=\"nowrap\">&nbsp;&nbsp;&nbsp;&nbsp;&nbsp;&nbsp;&nbsp;&nbsp;(preference&nbsp;ballNeverThrown</td><td class=\"diff_next\"></td><td class=\"diff_header\" id=\"to39_55\">55</td><td nowrap=\"nowrap\">&nbsp;&nbsp;&nbsp;&nbsp;&nbsp;&nbsp;&nbsp;&nbsp;(preference&nbsp;ballNeverThrown</td></tr>\n",
       "            <tr><td class=\"diff_next\"></td><td class=\"diff_header\" id=\"from39_56\">56</td><td nowrap=\"nowrap\">&nbsp;&nbsp;&nbsp;&nbsp;&nbsp;&nbsp;&nbsp;&nbsp;&nbsp;&nbsp;(then</td><td class=\"diff_next\"></td><td class=\"diff_header\" id=\"to39_56\">56</td><td nowrap=\"nowrap\">&nbsp;&nbsp;&nbsp;&nbsp;&nbsp;&nbsp;&nbsp;&nbsp;&nbsp;&nbsp;(then</td></tr>\n",
       "            <tr><td class=\"diff_next\"></td><td class=\"diff_header\" id=\"from39_57\">57</td><td nowrap=\"nowrap\">&nbsp;&nbsp;&nbsp;&nbsp;&nbsp;&nbsp;&nbsp;&nbsp;&nbsp;&nbsp;&nbsp;&nbsp;(once&nbsp;(game_start&nbsp;)&nbsp;)</td><td class=\"diff_next\"></td><td class=\"diff_header\" id=\"to39_57\">57</td><td nowrap=\"nowrap\">&nbsp;&nbsp;&nbsp;&nbsp;&nbsp;&nbsp;&nbsp;&nbsp;&nbsp;&nbsp;&nbsp;&nbsp;(once&nbsp;(game_start&nbsp;)&nbsp;)</td></tr>\n",
       "            <tr><td class=\"diff_next\"></td><td class=\"diff_header\" id=\"from39_58\">58</td><td nowrap=\"nowrap\">&nbsp;&nbsp;&nbsp;&nbsp;&nbsp;&nbsp;&nbsp;&nbsp;&nbsp;&nbsp;&nbsp;&nbsp;(hold&nbsp;(not&nbsp;(agent_holds&nbsp;?b)&nbsp;)&nbsp;)</td><td class=\"diff_next\"></td><td class=\"diff_header\" id=\"to39_58\">58</td><td nowrap=\"nowrap\">&nbsp;&nbsp;&nbsp;&nbsp;&nbsp;&nbsp;&nbsp;&nbsp;&nbsp;&nbsp;&nbsp;&nbsp;(hold&nbsp;(not&nbsp;(agent_holds&nbsp;?b)&nbsp;)&nbsp;)</td></tr>\n",
       "            <tr><td class=\"diff_next\"></td><td class=\"diff_header\" id=\"from39_59\">59</td><td nowrap=\"nowrap\">&nbsp;&nbsp;&nbsp;&nbsp;&nbsp;&nbsp;&nbsp;&nbsp;&nbsp;&nbsp;&nbsp;&nbsp;(once&nbsp;(game_over&nbsp;)&nbsp;)</td><td class=\"diff_next\"></td><td class=\"diff_header\" id=\"to39_59\">59</td><td nowrap=\"nowrap\">&nbsp;&nbsp;&nbsp;&nbsp;&nbsp;&nbsp;&nbsp;&nbsp;&nbsp;&nbsp;&nbsp;&nbsp;(once&nbsp;(game_over&nbsp;)&nbsp;)</td></tr>\n",
       "            <tr><td class=\"diff_next\"></td><td class=\"diff_header\" id=\"from39_60\">60</td><td nowrap=\"nowrap\">&nbsp;&nbsp;&nbsp;&nbsp;&nbsp;&nbsp;&nbsp;&nbsp;&nbsp;&nbsp;)</td><td class=\"diff_next\"></td><td class=\"diff_header\" id=\"to39_60\">60</td><td nowrap=\"nowrap\">&nbsp;&nbsp;&nbsp;&nbsp;&nbsp;&nbsp;&nbsp;&nbsp;&nbsp;&nbsp;)</td></tr>\n",
       "            <tr><td class=\"diff_next\"></td><td class=\"diff_header\" id=\"from39_61\">61</td><td nowrap=\"nowrap\">&nbsp;&nbsp;&nbsp;&nbsp;&nbsp;&nbsp;&nbsp;&nbsp;)</td><td class=\"diff_next\"></td><td class=\"diff_header\" id=\"to39_61\">61</td><td nowrap=\"nowrap\">&nbsp;&nbsp;&nbsp;&nbsp;&nbsp;&nbsp;&nbsp;&nbsp;)</td></tr>\n",
       "            <tr><td class=\"diff_next\"></td><td class=\"diff_header\" id=\"from39_62\">62</td><td nowrap=\"nowrap\">&nbsp;&nbsp;&nbsp;&nbsp;&nbsp;&nbsp;)</td><td class=\"diff_next\"></td><td class=\"diff_header\" id=\"to39_62\">62</td><td nowrap=\"nowrap\">&nbsp;&nbsp;&nbsp;&nbsp;&nbsp;&nbsp;)</td></tr>\n",
       "            <tr><td class=\"diff_next\"></td><td class=\"diff_header\" id=\"from39_63\">63</td><td nowrap=\"nowrap\">&nbsp;&nbsp;&nbsp;&nbsp;)</td><td class=\"diff_next\"></td><td class=\"diff_header\" id=\"to39_63\">63</td><td nowrap=\"nowrap\">&nbsp;&nbsp;&nbsp;&nbsp;)</td></tr>\n",
       "            <tr><td class=\"diff_next\"></td><td class=\"diff_header\" id=\"from39_64\">64</td><td nowrap=\"nowrap\">&nbsp;&nbsp;)</td><td class=\"diff_next\"></td><td class=\"diff_header\" id=\"to39_64\">64</td><td nowrap=\"nowrap\">&nbsp;&nbsp;)</td></tr>\n",
       "            <tr><td class=\"diff_next\"></td><td class=\"diff_header\" id=\"from39_65\">65</td><td nowrap=\"nowrap\">)</td><td class=\"diff_next\"></td><td class=\"diff_header\" id=\"to39_65\">65</td><td nowrap=\"nowrap\">)</td></tr>\n",
       "            <tr><td class=\"diff_next\"></td><td class=\"diff_header\" id=\"from39_66\">66</td><td nowrap=\"nowrap\">(:terminal</td><td class=\"diff_next\"></td><td class=\"diff_header\" id=\"to39_66\">66</td><td nowrap=\"nowrap\">(:terminal</td></tr>\n",
       "            <tr><td class=\"diff_next\"></td><td class=\"diff_header\" id=\"from39_67\">67</td><td nowrap=\"nowrap\">&nbsp;&nbsp;(or</td><td class=\"diff_next\"></td><td class=\"diff_header\" id=\"to39_67\">67</td><td nowrap=\"nowrap\">&nbsp;&nbsp;(or</td></tr>\n",
       "            <tr><td class=\"diff_next\"></td><td class=\"diff_header\" id=\"from39_68\">68</td><td nowrap=\"nowrap\">&nbsp;&nbsp;&nbsp;&nbsp;(&gt;&nbsp;(external-forall-maximize&nbsp;(count&nbsp;throwAttempt)&nbsp;)&nbsp;2&nbsp;)</td><td class=\"diff_next\"></td><td class=\"diff_header\" id=\"to39_68\">68</td><td nowrap=\"nowrap\">&nbsp;&nbsp;&nbsp;&nbsp;(&gt;&nbsp;(external-forall-maximize&nbsp;(count&nbsp;throwAttempt)&nbsp;)&nbsp;2&nbsp;)</td></tr>\n",
       "            <tr><td class=\"diff_next\"></td><td class=\"diff_header\" id=\"from39_69\">69</td><td nowrap=\"nowrap\">&nbsp;&nbsp;&nbsp;&nbsp;(&gt;=&nbsp;(count&nbsp;throwAttempt)&nbsp;12&nbsp;)</td><td class=\"diff_next\"></td><td class=\"diff_header\" id=\"to39_69\">69</td><td nowrap=\"nowrap\">&nbsp;&nbsp;&nbsp;&nbsp;(&gt;=&nbsp;(count&nbsp;throwAttempt)&nbsp;12&nbsp;)</td></tr>\n",
       "            <tr><td class=\"diff_next\"></td><td class=\"diff_header\" id=\"from39_70\">70</td><td nowrap=\"nowrap\">&nbsp;&nbsp;)</td><td class=\"diff_next\"></td><td class=\"diff_header\" id=\"to39_70\">70</td><td nowrap=\"nowrap\">&nbsp;&nbsp;)</td></tr>\n",
       "            <tr><td class=\"diff_next\"></td><td class=\"diff_header\" id=\"from39_71\">71</td><td nowrap=\"nowrap\">)</td><td class=\"diff_next\"></td><td class=\"diff_header\" id=\"to39_71\">71</td><td nowrap=\"nowrap\">)</td></tr>\n",
       "            <tr><td class=\"diff_next\"></td><td class=\"diff_header\" id=\"from39_72\">72</td><td nowrap=\"nowrap\">(:scoring</td><td class=\"diff_next\"></td><td class=\"diff_header\" id=\"to39_72\">72</td><td nowrap=\"nowrap\">(:scoring</td></tr>\n",
       "            <tr><td class=\"diff_next\"></td><td class=\"diff_header\" id=\"from39_73\">73</td><td nowrap=\"nowrap\">&nbsp;&nbsp;(*&nbsp;(&gt;=&nbsp;(+&nbsp;(count&nbsp;ballThrownToBin:dodgeball)&nbsp;(*&nbsp;2&nbsp;(count&nbsp;ballThrownToBin:golfball)&nbsp;)</td><td class=\"diff_next\"></td><td class=\"diff_header\" id=\"to39_73\">73</td><td nowrap=\"nowrap\">&nbsp;&nbsp;(*&nbsp;(&gt;=&nbsp;(+&nbsp;(count&nbsp;ballThrownToBin:dodgeball)&nbsp;(*&nbsp;2&nbsp;(count&nbsp;ballThrownToBin:golfball)&nbsp;)</td></tr>\n",
       "            <tr><td class=\"diff_next\"></td><td class=\"diff_header\" id=\"from39_74\">74</td><td nowrap=\"nowrap\">&nbsp;&nbsp;&nbsp;&nbsp;&nbsp;&nbsp;)</td><td class=\"diff_next\"></td><td class=\"diff_header\" id=\"to39_74\">74</td><td nowrap=\"nowrap\">&nbsp;&nbsp;&nbsp;&nbsp;&nbsp;&nbsp;)</td></tr>\n",
       "            <tr><td class=\"diff_next\"></td><td class=\"diff_header\" id=\"from39_75\">75</td><td nowrap=\"nowrap\">&nbsp;&nbsp;&nbsp;&nbsp;&nbsp;&nbsp;2</td><td class=\"diff_next\"></td><td class=\"diff_header\" id=\"to39_75\">75</td><td nowrap=\"nowrap\">&nbsp;&nbsp;&nbsp;&nbsp;&nbsp;&nbsp;2</td></tr>\n",
       "            <tr><td class=\"diff_next\"></td><td class=\"diff_header\" id=\"from39_76\">76</td><td nowrap=\"nowrap\">&nbsp;&nbsp;&nbsp;&nbsp;)</td><td class=\"diff_next\"></td><td class=\"diff_header\" id=\"to39_76\">76</td><td nowrap=\"nowrap\">&nbsp;&nbsp;&nbsp;&nbsp;)</td></tr>\n",
       "            <tr><td class=\"diff_next\"></td><td class=\"diff_header\" id=\"from39_77\">77</td><td nowrap=\"nowrap\">&nbsp;&nbsp;&nbsp;&nbsp;(+&nbsp;(count-once-per-objects&nbsp;blockInTowerKnocked)&nbsp;(count-once-per-objects&nbsp;ballNeverThrown:golfball</td><td class=\"diff_next\"></td><td class=\"diff_header\" id=\"to39_77\">77</td><td nowrap=\"nowrap\">&nbsp;&nbsp;&nbsp;&nbsp;(+&nbsp;(count-once-per-objects&nbsp;blockInTowerKnocked)&nbsp;(count-once-per-objects&nbsp;ballNeverThrown:golfball</td></tr>\n",
       "            <tr><td class=\"diff_next\"></td><td class=\"diff_header\">></td><td nowrap=\"nowrap\">)&nbsp;(*&nbsp;2&nbsp;(count-once-per-objects&nbsp;ballNeverThrown:dodgeball)&nbsp;)</td><td class=\"diff_next\"></td><td class=\"diff_header\">></td><td nowrap=\"nowrap\">)&nbsp;(*&nbsp;2&nbsp;(count-once-per-objects&nbsp;ballNeverThrown:dodgeball)&nbsp;)</td></tr>\n",
       "            <tr><td class=\"diff_next\"></td><td class=\"diff_header\" id=\"from39_78\">78</td><td nowrap=\"nowrap\">&nbsp;&nbsp;&nbsp;&nbsp;)</td><td class=\"diff_next\"></td><td class=\"diff_header\" id=\"to39_78\">78</td><td nowrap=\"nowrap\">&nbsp;&nbsp;&nbsp;&nbsp;)</td></tr>\n",
       "            <tr><td class=\"diff_next\"></td><td class=\"diff_header\" id=\"from39_79\">79</td><td nowrap=\"nowrap\">&nbsp;&nbsp;)</td><td class=\"diff_next\"></td><td class=\"diff_header\" id=\"to39_79\">79</td><td nowrap=\"nowrap\">&nbsp;&nbsp;)</td></tr>\n",
       "            <tr><td class=\"diff_next\"></td><td class=\"diff_header\" id=\"from39_80\">80</td><td nowrap=\"nowrap\">)</td><td class=\"diff_next\"></td><td class=\"diff_header\" id=\"to39_80\">80</td><td nowrap=\"nowrap\">)</td></tr>\n",
       "            <tr><td class=\"diff_next\"></td><td class=\"diff_header\" id=\"from39_81\">81</td><td nowrap=\"nowrap\">)</td><td class=\"diff_next\"></td><td class=\"diff_header\" id=\"to39_81\">81</td><td nowrap=\"nowrap\">)</td></tr>\n",
       "        </tbody>\n",
       "    </table>\n",
       "    <table class=\"diff\" summary=\"Legends\">\n",
       "        <tr> <th colspan=\"2\"> Legends </th> </tr>\n",
       "        <tr> <td> <table border=\"\" summary=\"Colors\">\n",
       "                      <tr><th> Colors </th> </tr>\n",
       "                      <tr><td class=\"diff_add\">&nbsp;Added&nbsp;</td></tr>\n",
       "                      <tr><td class=\"diff_chg\">Changed</td> </tr>\n",
       "                      <tr><td class=\"diff_sub\">Deleted</td> </tr>\n",
       "                  </table></td>\n",
       "             <td> <table border=\"\" summary=\"Links\">\n",
       "                      <tr><th colspan=\"2\"> Links </th> </tr>\n",
       "                      <tr><td>(f)irst change</td> </tr>\n",
       "                      <tr><td>(n)ext change</td> </tr>\n",
       "                      <tr><td>(t)op</td> </tr>\n",
       "                  </table></td> </tr>\n",
       "    </table>\n",
       "</body>\n",
       "\n",
       "</html>"
      ],
      "text/plain": [
       "<IPython.core.display.HTML object>"
      ]
     },
     "metadata": {},
     "output_type": "display_data"
    },
    {
     "data": {
      "text/markdown": [
       "---"
      ],
      "text/plain": [
       "<IPython.core.display.Markdown object>"
      ]
     },
     "metadata": {},
     "output_type": "display_data"
    }
   ],
   "source": [
    "N_NEGATIVES = 20\n",
    "for index in torch.topk(score_diffs.ravel(), N_NEGATIVES, largest=False).indices:\n",
    "    utils.evaluate_energy_contributions(cv_energy_model, full_tensor, index, \n",
    "        feature_columns, full_tensor, real_game_texts, regrown_game_1024_texts, display_features_diff=False, min_display_threshold=0.001)\n",
    "    \n",
    "    display(Markdown('---'))"
   ]
  },
  {
   "cell_type": "code",
   "execution_count": null,
   "metadata": {},
   "outputs": [],
   "source": [
    "data_df.loc[data_df.game_name == '5fefd5b2173bfbe890bc98ed-88-1012-nd-4-rd-14-rs-setup-sk-prior1', 'agent_holds_arg_types_other_setup']"
   ]
  },
  {
   "cell_type": "code",
   "execution_count": null,
   "metadata": {},
   "outputs": [],
   "source": [
    "print(regrown_game_1024_texts[75 * 1024 + 1012])"
   ]
  },
  {
   "attachments": {},
   "cell_type": "markdown",
   "metadata": {},
   "source": [
    "## If we never need to load a featurizer for anything\n"
   ]
  },
  {
   "cell_type": "code",
   "execution_count": null,
   "metadata": {},
   "outputs": [],
   "source": [
    "from src.fitness_features import *\n",
    "with gzip.open('../models/fitness_featurizer_2023_03_22.pkl.gz', 'rb') as f:\n",
    "    featurizer = pickle.load(f)  # type: ignore"
   ]
  },
  {
   "cell_type": "code",
   "execution_count": null,
   "metadata": {},
   "outputs": [],
   "source": [
    "ast = grammar_parser.parse(regrown_game_1024_texts[75 * 1024 + 1012])\n",
    "r = featurizer.parse(ast, '', True, False)\n",
    "{k: v for k, v in r.items() if k.startswith('agent_holds') and k.endswith('setup')}"
   ]
  },
  {
   "cell_type": "code",
   "execution_count": null,
   "metadata": {},
   "outputs": [],
   "source": [
    "r = featurizer.parse(ast, '', True, True)\n",
    "{k: v for k, v in r.items() if k.startswith('agent_holds') and k.endswith('setup')}"
   ]
  },
  {
   "attachments": {},
   "cell_type": "markdown",
   "metadata": {},
   "source": [
    "## Analyzing the role of different variables on the difficulty of the negative"
   ]
  },
  {
   "cell_type": "code",
   "execution_count": null,
   "metadata": {},
   "outputs": [],
   "source": [
    "NEGATIVE_DIFFICULTY_COLUMNS = [\n",
    "    'game_name', 'regrowth_index', \n",
    "    'original_game_name', 'original_game_index', \n",
    "    'node_depth', 'regrowth_depth', \n",
    "    'regrowth_section', 'regrowth_sampler', \n",
    "    'score_diff'\n",
    "]\n",
    "\n",
    "def apply_and_concat(dataframe, field, func, column_names):\n",
    "    return pd.concat((\n",
    "        dataframe,\n",
    "        dataframe[field].apply(\n",
    "            lambda cell: pd.Series(func(cell), index=column_names))), axis=1)\n",
    "\n",
    "\n",
    "game_name_to_index = {game_name: i for i, game_name in enumerate(data_df.loc[data_df.real == 1, 'game_name'])}\n",
    "\n",
    "\n",
    "def extract_info_from_game_name(game_name: str):\n",
    "    i = utils._find_nth(game_name, '-', 2)\n",
    "    original_game_name, regrowth_info = game_name[:i], game_name[i + 1:]\n",
    "    regrowth_index, _, node_depth, _, regrowth_depth, _, regrowth_section, _, regrowth_sampler = regrowth_info.split('-')\n",
    "    regrowth_index = int(regrowth_index)\n",
    "    node_depth = int(node_depth)\n",
    "    regrowth_depth = int(regrowth_depth)\n",
    "    original_game_index = game_name_to_index[original_game_name]\n",
    "    score_diff = score_diffs[original_game_index, regrowth_index].item()\n",
    "    return [regrowth_index, original_game_name, original_game_index, node_depth, regrowth_depth, regrowth_section, regrowth_sampler, score_diff]\n",
    "\n",
    "\n",
    "negative_difficulty_df = data_df.loc[data_df.real == 0, ['game_name']]\n",
    "negative_difficulty_df = apply_and_concat(negative_difficulty_df, 'game_name', extract_info_from_game_name, NEGATIVE_DIFFICULTY_COLUMNS[1:])\n",
    "\n",
    "\n"
   ]
  },
  {
   "cell_type": "code",
   "execution_count": null,
   "metadata": {},
   "outputs": [],
   "source": [
    "negative_difficulty_df.head()"
   ]
  },
  {
   "cell_type": "code",
   "execution_count": null,
   "metadata": {},
   "outputs": [],
   "source": [
    "negative_difficulty_df.groupby('regrowth_sampler').score_diff.describe()"
   ]
  },
  {
   "cell_type": "code",
   "execution_count": null,
   "metadata": {},
   "outputs": [],
   "source": [
    "negative_difficulty_df.groupby('regrowth_section').score_diff.describe()"
   ]
  },
  {
   "cell_type": "code",
   "execution_count": null,
   "metadata": {},
   "outputs": [],
   "source": [
    "def sem(x):\n",
    "    return np.std(x) / np.sqrt(len(x))\n",
    "\n",
    "regrowth_depth_impact = negative_difficulty_df.groupby('regrowth_depth').score_diff.agg(['mean', sem])"
   ]
  },
  {
   "cell_type": "code",
   "execution_count": null,
   "metadata": {},
   "outputs": [],
   "source": [
    "\n",
    "plt.plot(regrowth_depth_impact.index.values, regrowth_depth_impact['mean'].values, 'o', linestyle='-')\n",
    "plt.errorbar(regrowth_depth_impact.index.values, regrowth_depth_impact['mean'].values, regrowth_depth_impact['sem'].values, linestyle='None')\n",
    "plt.xlabel('Regrown tree depth')\n",
    "plt.ylabel('Mean energy difference (lower is harder)')\n",
    "plt.title('Mean energy difference by regrown tree depth')\n",
    "# regrowth_depth_impact['mean']"
   ]
  }
 ],
 "metadata": {
  "kernelspec": {
   "display_name": "game-gen",
   "language": "python",
   "name": "python3"
  },
  "language_info": {
   "codemirror_mode": {
    "name": "ipython",
    "version": 3
   },
   "file_extension": ".py",
   "mimetype": "text/x-python",
   "name": "python",
   "nbconvert_exporter": "python",
   "pygments_lexer": "ipython3",
   "version": "3.10.8"
  },
  "orig_nbformat": 4,
  "vscode": {
   "interpreter": {
    "hash": "a8b8c8d5c21b7aee7bd0053f69e9c255c013bbea7031fbef7e66d58dd46c0fa6"
   }
  }
 },
 "nbformat": 4,
 "nbformat_minor": 2
}
