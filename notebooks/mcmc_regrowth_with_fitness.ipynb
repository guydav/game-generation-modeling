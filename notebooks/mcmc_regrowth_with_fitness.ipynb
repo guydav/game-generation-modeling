{
 "cells": [
  {
   "cell_type": "code",
   "execution_count": 2,
   "metadata": {},
   "outputs": [],
   "source": [
    "%autoreload 2"
   ]
  },
  {
   "cell_type": "code",
   "execution_count": 3,
   "metadata": {},
   "outputs": [],
   "source": [
    "from collections import defaultdict\n",
    "from argparse import Namespace\n",
    "import copy\n",
    "import gzip\n",
    "import itertools\n",
    "import os\n",
    "import pickle\n",
    "import sys\n",
    "import typing\n",
    "\n",
    "import matplotlib\n",
    "import matplotlib.pyplot as plt\n",
    "import numpy as np\n",
    "import pandas as pd\n",
    "import tatsu\n",
    "import tatsu.ast\n",
    "import torch\n",
    "import torch.nn as nn\n",
    "import torch.nn.functional as F\n",
    "from torch.utils.data import TensorDataset, DataLoader\n",
    "import tqdm\n",
    "import sklearn\n",
    "from sklearn.model_selection import GridSearchCV, train_test_split, KFold\n",
    "from sklearn.pipeline import Pipeline\n",
    "\n",
    "sys.path.append(os.path.abspath('..'))\n",
    "sys.path.append(os.path.abspath('../src'))\n",
    "from src import fitness_energy_utils as utils\n",
    "from src.fitness_energy_utils import NON_FEATURE_COLUMNS\n",
    "from src.fitness_features import *\n",
    "from src.ast_counter_sampler import *\n",
    "from src.ast_mcmc_regrowth import *"
   ]
  },
  {
   "cell_type": "code",
   "execution_count": 4,
   "metadata": {},
   "outputs": [
    {
     "name": "stdout",
     "output_type": "stream",
     "text": [
      "['interactive-beta.pddl' 'ast-real-regrowth-samples.pddl']\n"
     ]
    },
    {
     "data": {
      "text/html": [
       "<div>\n",
       "<style scoped>\n",
       "    .dataframe tbody tr th:only-of-type {\n",
       "        vertical-align: middle;\n",
       "    }\n",
       "\n",
       "    .dataframe tbody tr th {\n",
       "        vertical-align: top;\n",
       "    }\n",
       "\n",
       "    .dataframe thead th {\n",
       "        text-align: right;\n",
       "    }\n",
       "</style>\n",
       "<table border=\"1\" class=\"dataframe\">\n",
       "  <thead>\n",
       "    <tr style=\"text-align: right;\">\n",
       "      <th></th>\n",
       "      <th>Index</th>\n",
       "      <th>src_file</th>\n",
       "      <th>game_name</th>\n",
       "      <th>domain_name</th>\n",
       "      <th>real</th>\n",
       "      <th>original_game_name</th>\n",
       "      <th>all_variables_defined</th>\n",
       "      <th>all_variables_used</th>\n",
       "      <th>all_preferences_used</th>\n",
       "      <th>setup_objects_used</th>\n",
       "      <th>...</th>\n",
       "      <th>ast_ngram_n_5_0</th>\n",
       "      <th>ast_ngram_n_5_1</th>\n",
       "      <th>ast_ngram_n_5_2</th>\n",
       "      <th>ast_ngram_n_5_3</th>\n",
       "      <th>ast_ngram_n_5_4</th>\n",
       "      <th>ast_ngram_n_5_5</th>\n",
       "      <th>ast_ngram_n_5_6</th>\n",
       "      <th>ast_ngram_n_5_7</th>\n",
       "      <th>ast_ngram_n_5_8</th>\n",
       "      <th>ast_ngram_n_5_9</th>\n",
       "    </tr>\n",
       "  </thead>\n",
       "  <tbody>\n",
       "    <tr>\n",
       "      <th>0</th>\n",
       "      <td>0</td>\n",
       "      <td>interactive-beta.pddl</td>\n",
       "      <td>6172feb1665491d1efbce164-0</td>\n",
       "      <td>medium-objects-room-v1</td>\n",
       "      <td>1</td>\n",
       "      <td>6172feb1665491d1efbce164-0</td>\n",
       "      <td>1</td>\n",
       "      <td>1</td>\n",
       "      <td>1</td>\n",
       "      <td>1.00</td>\n",
       "      <td>...</td>\n",
       "      <td>1</td>\n",
       "      <td>1</td>\n",
       "      <td>1</td>\n",
       "      <td>1</td>\n",
       "      <td>1</td>\n",
       "      <td>1</td>\n",
       "      <td>1</td>\n",
       "      <td>1</td>\n",
       "      <td>1</td>\n",
       "      <td>1</td>\n",
       "    </tr>\n",
       "    <tr>\n",
       "      <th>1</th>\n",
       "      <td>1</td>\n",
       "      <td>interactive-beta.pddl</td>\n",
       "      <td>5f77754ba932fb2c4ba181d8-2</td>\n",
       "      <td>many-objects-room-v1</td>\n",
       "      <td>1</td>\n",
       "      <td>5f77754ba932fb2c4ba181d8-2</td>\n",
       "      <td>1</td>\n",
       "      <td>1</td>\n",
       "      <td>1</td>\n",
       "      <td>1.00</td>\n",
       "      <td>...</td>\n",
       "      <td>1</td>\n",
       "      <td>1</td>\n",
       "      <td>0</td>\n",
       "      <td>1</td>\n",
       "      <td>0</td>\n",
       "      <td>1</td>\n",
       "      <td>0</td>\n",
       "      <td>1</td>\n",
       "      <td>1</td>\n",
       "      <td>1</td>\n",
       "    </tr>\n",
       "    <tr>\n",
       "      <th>2</th>\n",
       "      <td>2</td>\n",
       "      <td>interactive-beta.pddl</td>\n",
       "      <td>614b603d4da88384282967a7-3</td>\n",
       "      <td>many-objects-room-v1</td>\n",
       "      <td>1</td>\n",
       "      <td>614b603d4da88384282967a7-3</td>\n",
       "      <td>1</td>\n",
       "      <td>1</td>\n",
       "      <td>1</td>\n",
       "      <td>0.00</td>\n",
       "      <td>...</td>\n",
       "      <td>1</td>\n",
       "      <td>0</td>\n",
       "      <td>0</td>\n",
       "      <td>0</td>\n",
       "      <td>0</td>\n",
       "      <td>0</td>\n",
       "      <td>0</td>\n",
       "      <td>0</td>\n",
       "      <td>0</td>\n",
       "      <td>0</td>\n",
       "    </tr>\n",
       "    <tr>\n",
       "      <th>3</th>\n",
       "      <td>3</td>\n",
       "      <td>interactive-beta.pddl</td>\n",
       "      <td>5bc79f652885710001a0e82a-5</td>\n",
       "      <td>few-objects-room-v1</td>\n",
       "      <td>1</td>\n",
       "      <td>5bc79f652885710001a0e82a-5</td>\n",
       "      <td>1</td>\n",
       "      <td>1</td>\n",
       "      <td>1</td>\n",
       "      <td>0.00</td>\n",
       "      <td>...</td>\n",
       "      <td>1</td>\n",
       "      <td>1</td>\n",
       "      <td>1</td>\n",
       "      <td>1</td>\n",
       "      <td>1</td>\n",
       "      <td>1</td>\n",
       "      <td>1</td>\n",
       "      <td>1</td>\n",
       "      <td>1</td>\n",
       "      <td>1</td>\n",
       "    </tr>\n",
       "    <tr>\n",
       "      <th>4</th>\n",
       "      <td>4</td>\n",
       "      <td>interactive-beta.pddl</td>\n",
       "      <td>614dec67f6eb129c3a77defd-6</td>\n",
       "      <td>medium-objects-room-v1</td>\n",
       "      <td>1</td>\n",
       "      <td>614dec67f6eb129c3a77defd-6</td>\n",
       "      <td>1</td>\n",
       "      <td>1</td>\n",
       "      <td>1</td>\n",
       "      <td>0.25</td>\n",
       "      <td>...</td>\n",
       "      <td>1</td>\n",
       "      <td>1</td>\n",
       "      <td>0</td>\n",
       "      <td>1</td>\n",
       "      <td>1</td>\n",
       "      <td>1</td>\n",
       "      <td>1</td>\n",
       "      <td>1</td>\n",
       "      <td>1</td>\n",
       "      <td>1</td>\n",
       "    </tr>\n",
       "  </tbody>\n",
       "</table>\n",
       "<p>5 rows × 611 columns</p>\n",
       "</div>"
      ],
      "text/plain": [
       "   Index               src_file                   game_name  \\\n",
       "0      0  interactive-beta.pddl  6172feb1665491d1efbce164-0   \n",
       "1      1  interactive-beta.pddl  5f77754ba932fb2c4ba181d8-2   \n",
       "2      2  interactive-beta.pddl  614b603d4da88384282967a7-3   \n",
       "3      3  interactive-beta.pddl  5bc79f652885710001a0e82a-5   \n",
       "4      4  interactive-beta.pddl  614dec67f6eb129c3a77defd-6   \n",
       "\n",
       "              domain_name  real          original_game_name  \\\n",
       "0  medium-objects-room-v1     1  6172feb1665491d1efbce164-0   \n",
       "1    many-objects-room-v1     1  5f77754ba932fb2c4ba181d8-2   \n",
       "2    many-objects-room-v1     1  614b603d4da88384282967a7-3   \n",
       "3     few-objects-room-v1     1  5bc79f652885710001a0e82a-5   \n",
       "4  medium-objects-room-v1     1  614dec67f6eb129c3a77defd-6   \n",
       "\n",
       "   all_variables_defined  all_variables_used  all_preferences_used  \\\n",
       "0                      1                   1                     1   \n",
       "1                      1                   1                     1   \n",
       "2                      1                   1                     1   \n",
       "3                      1                   1                     1   \n",
       "4                      1                   1                     1   \n",
       "\n",
       "   setup_objects_used  ...  ast_ngram_n_5_0  ast_ngram_n_5_1  ast_ngram_n_5_2  \\\n",
       "0                1.00  ...                1                1                1   \n",
       "1                1.00  ...                1                1                0   \n",
       "2                0.00  ...                1                0                0   \n",
       "3                0.00  ...                1                1                1   \n",
       "4                0.25  ...                1                1                0   \n",
       "\n",
       "   ast_ngram_n_5_3  ast_ngram_n_5_4  ast_ngram_n_5_5  ast_ngram_n_5_6  \\\n",
       "0                1                1                1                1   \n",
       "1                1                0                1                0   \n",
       "2                0                0                0                0   \n",
       "3                1                1                1                1   \n",
       "4                1                1                1                1   \n",
       "\n",
       "   ast_ngram_n_5_7  ast_ngram_n_5_8  ast_ngram_n_5_9  \n",
       "0                1                1                1  \n",
       "1                1                1                1  \n",
       "2                0                0                0  \n",
       "3                1                1                1  \n",
       "4                1                1                1  \n",
       "\n",
       "[5 rows x 611 columns]"
      ]
     },
     "execution_count": 4,
     "metadata": {},
     "output_type": "execute_result"
    }
   ],
   "source": [
    "fitness_df = utils.load_fitness_data()\n",
    "print(fitness_df.src_file.unique())\n",
    "fitness_df.head()"
   ]
  },
  {
   "cell_type": "markdown",
   "metadata": {},
   "source": [
    "# Plan of attack\n",
    "* Use the code in `ast_counter_sampler.py` to generate a sample from the MLE\n",
    "* Score it with a fitness function adapted to working with a single example at a time\n",
    "* At each subsequent iteration, regrow the game from a random node, and score the regrowth\n",
    "* Since we have energy scores before and after, we can either accept greedily if $E_{new} < E_{old}$, or accept with probability $\\exp(\\beta (E_{old} - E_{new} ))$"
   ]
  },
  {
   "cell_type": "code",
   "execution_count": 5,
   "metadata": {},
   "outputs": [],
   "source": [
    "DEFAULT_ARGS = argparse.Namespace(\n",
    "    grammar_file=os.path.join('..', DEFAULT_GRAMMAR_FILE),\n",
    "    parse_counter=False,\n",
    "    counter_output_path=os.path.join('..', DEFAULT_COUNTER_OUTPUT_PATH),\n",
    "    random_seed=DEFUALT_RANDOM_SEED,\n",
    ")"
   ]
  },
  {
   "cell_type": "code",
   "execution_count": 6,
   "metadata": {},
   "outputs": [],
   "source": [
    "FITNESS_MODEL_PATH = '../models/cv_fitness_model_2023_02_07.pkl.gz'\n",
    "FITNESS_FEATURIZER_PATH = '../models/fitness_featurizer_2023_02_07.pkl.gz'\n",
    "\n",
    "feature_names = [c for c in fitness_df.columns if c not in NON_FEATURE_COLUMNS]\n",
    "\n",
    "mcmc = MCMCRegrowthSampler(DEFAULT_ARGS, feature_names,\n",
    "    FITNESS_MODEL_PATH, FITNESS_FEATURIZER_PATH, greedy_acceptance=True, \n",
    "    plateau_patience_steps=100, max_steps=5000)  #   acceptance_temperature=10.0, "
   ]
  },
  {
   "cell_type": "code",
   "execution_count": 7,
   "metadata": {},
   "outputs": [
    {
     "data": {
      "application/vnd.jupyter.widget-view+json": {
       "model_id": "33512a76547f47188262b0e54128136d",
       "version_major": 2,
       "version_minor": 0
      },
      "text/plain": [
       "  0%|          | 0/10 [00:00<?, ?it/s]"
      ]
     },
     "metadata": {},
     "output_type": "display_data"
    },
    {
     "name": "stdout",
     "output_type": "stream",
     "text": [
      "Plateaued at step 391 with energy 5.492209434509277\n",
      "Plateaued at step 664 with energy 4.709176540374756\n",
      "Plateaued at step 262 with energy 1.2346500158309937\n",
      "Plateaued at step 456 with energy 5.406106472015381\n",
      "Plateaued at step 511 with energy 4.750307559967041\n",
      "Plateaued at step 440 with energy 7.373414993286133\n",
      "Plateaued at step 580 with energy 5.522914886474609\n",
      "Plateaued at step 389 with energy 4.819112300872803\n",
      "Plateaued at step 421 with energy 5.609058856964111\n",
      "Plateaued at step 597 with energy 7.6075873374938965\n",
      "0 5.492209434509277\n",
      "1 4.709176540374756\n",
      "2 1.2346500158309937\n",
      "3 5.406106472015381\n",
      "4 4.750307559967041\n",
      "5 7.373414993286133\n",
      "6 5.522914886474609\n",
      "7 4.819112300872803\n",
      "8 5.609058856964111\n",
      "9 7.6075873374938965\n"
     ]
    }
   ],
   "source": [
    "# %prun -r \n",
    "n_samples = 10\n",
    "mcmc.multiple_samples(n_samples, verbose=1, should_tqdm=True)\n",
    "\n",
    "for i in range(n_samples):\n",
    "    print(i, mcmc.samples[i][2])"
   ]
  },
  {
   "cell_type": "code",
   "execution_count": 8,
   "metadata": {},
   "outputs": [
    {
     "data": {
      "text/markdown": [
       "### Energy of visualized game: 1.235"
      ],
      "text/plain": [
       "<IPython.core.display.Markdown object>"
      ]
     },
     "metadata": {},
     "output_type": "display_data"
    },
    {
     "data": {
      "text/markdown": [
       "### Top features contributing to the game's energy\n",
       "feature name: **value** = (original feature value => regrown feature value) * weight"
      ],
      "text/plain": [
       "<IPython.core.display.Markdown object>"
      ]
     },
     "metadata": {},
     "output_type": "display_data"
    },
    {
     "data": {
      "text/markdown": [
       "| Features increasing energy (= more fake)                             | Features decreasing energy (= more real)                                     |\n",
       "|----------------------------------------------------------------------|------------------------------------------------------------------------------|\n",
       "| text_ngram_n_5_score: **0.990** = (0.643) * 1.539                    | all_variables_used: **-1.848** = (1.000) * -1.848                            |\n",
       "| text_ngram_n_4_score: **0.660** = (0.524) * 1.259                    | variable_not_repeated: **-1.619** = (1.000) * -1.619                         |\n",
       "| text_ngram_n_2_9: **0.415** = (1.000) * 0.415                        | all_variables_defined: **-0.569** = (1.000) * -0.569                         |\n",
       "| ast_ngram_n_2_1: **0.411** = (1.000) * 0.411                         | no_nested_logicals: **-0.479** = (1.000) * -0.479                            |\n",
       "| ast_ngram_n_2_0: **0.394** = (1.000) * 0.394                         | all_preferences_used: **-0.415** = (1.000) * -0.415                          |\n",
       "| text_ngram_n_3_score: **0.378** = (0.394) * 0.959                    | no_adjacent_same_modal: **-0.398** = (1.000) * -0.398                        |\n",
       "| correct_predicate_function_arity: **0.375** = (1.000) * 0.375        | pref_forall_pref_forall_correct_types_correct: **-0.359** = (1.000) * -0.359 |\n",
       "| ast_ngram_n_3_0: **0.373** = (1.000) * 0.373                         | no_two_number_operations: **-0.206** = (1.000) * -0.206                      |\n",
       "| text_ngram_n_2_2: **0.361** = (1.000) * 0.361                        | pref_forall_pref_forall_correct_arity_correct: **-0.153** = (1.000) * -0.153 |\n",
       "| ast_ngram_n_2_2: **0.350** = (1.000) * 0.350                         | ast_ngram_n_3_9: **-0.140** = (1.000) * -0.140                               |\n",
       "| text_ngram_n_3_1: **0.340** = (1.000) * 0.340                        | max_depth_constraints_1: **-0.120** = (1.000) * -0.120                       |\n",
       "| ast_ngram_n_2_4: **0.337** = (1.000) * 0.337                         | text_ngram_n_2_4: **-0.111** = (1.000) * -0.111                              |\n",
       "| ast_ngram_n_2_5: **0.265** = (1.000) * 0.265                         | node_count_scoring_0: **-0.096** = (1.000) * -0.096                          |\n",
       "| node_count_terminal_2: **0.212** = (1.000) * 0.212                   | on_arg_types_room_features_balls_setup: **-0.062** = (1.000) * -0.062        |\n",
       "| no_identical_logical_children: **0.198** = (1.000) * 0.198           | setup_objects_used: **-0.043** = (0.500) * -0.086                            |\n",
       "| text_ngram_n_2_score: **0.167** = (0.289) * 0.577                    | max_depth_terminal_2: **-0.032** = (1.000) * -0.032                          |\n",
       "| agent_holds_arg_types_balls_constraints: **0.166** = (1.000) * 0.166 | no_adjacent_once: **-0.006** = (1.000) * -0.006                              |\n",
       "| text_ngram_n_2_5: **0.141** = (1.000) * 0.141                        | ast_ngram_n_5_score: **-0.003** = (-0.006) * 0.506                           |\n",
       "| mean_depth_constraints_1: **0.135** = (1.000) * 0.135                |                                                                              |\n",
       "| mean_depth_setup_2: **0.125** = (1.000) * 0.125                      |                                                                              |"
      ],
      "text/plain": [
       "<IPython.core.display.Markdown object>"
      ]
     },
     "metadata": {},
     "output_type": "display_data"
    },
    {
     "data": {
      "text/markdown": [
       "### Game:"
      ],
      "text/plain": [
       "<IPython.core.display.Markdown object>"
      ]
     },
     "metadata": {},
     "output_type": "display_data"
    },
    {
     "data": {
      "text/markdown": [
       "```pddl\n",
       "(define (game mcmc-2) (:domain medium-objects-room-v1)\n",
       "(:setup\n",
       "  (exists (?o - dodgeball)\n",
       "    (game-conserved\n",
       "      (on rug ?o)\n",
       "    )\n",
       "  )\n",
       ")\n",
       "(:constraints\n",
       "  (and\n",
       "    (forall (?ob ?t1 - dodgeball)\n",
       "      (and\n",
       "        (preference ballThrownFromDoor\n",
       "          (then\n",
       "            (once (agent_holds ?t1) )\n",
       "            (hold (not (agent_holds ?ob) ) )\n",
       "          )\n",
       "        )\n",
       "      )\n",
       "    )\n",
       "  )\n",
       ")\n",
       "(:terminal\n",
       "  (>= (count ballThrownFromDoor:dodgeball) 40 )\n",
       ")\n",
       "(:scoring\n",
       "  2\n",
       ")\n",
       ")\n",
       "```"
      ],
      "text/plain": [
       "<IPython.core.display.Markdown object>"
      ]
     },
     "metadata": {},
     "output_type": "display_data"
    }
   ],
   "source": [
    "mcmc.visualize_sample(2)"
   ]
  },
  {
   "cell_type": "code",
   "execution_count": 9,
   "metadata": {},
   "outputs": [
    {
     "data": {
      "text/markdown": [
       "### Energy of visualized game: 2.761"
      ],
      "text/plain": [
       "<IPython.core.display.Markdown object>"
      ]
     },
     "metadata": {},
     "output_type": "display_data"
    },
    {
     "data": {
      "text/markdown": [
       "### Top features contributing to the game's energy\n",
       "feature name: **value** = (original feature value => regrown feature value) * weight"
      ],
      "text/plain": [
       "<IPython.core.display.Markdown object>"
      ]
     },
     "metadata": {},
     "output_type": "display_data"
    },
    {
     "data": {
      "text/markdown": [
       "| Features increasing energy (= more fake)                      | Features decreasing energy (= more real)                                          |\n",
       "|---------------------------------------------------------------|-----------------------------------------------------------------------------------|\n",
       "| text_ngram_n_5_score: **1.196** = (0.777) * 1.539             | all_variables_used: **-1.848** = (1.000) * -1.848                                 |\n",
       "| text_ngram_n_4_score: **0.881** = (0.700) * 1.259             | variable_not_repeated: **-1.619** = (1.000) * -1.619                              |\n",
       "| text_ngram_n_3_score: **0.480** = (0.501) * 0.959             | all_variables_defined: **-0.569** = (1.000) * -0.569                              |\n",
       "| text_ngram_n_2_9: **0.415** = (1.000) * 0.415                 | no_nested_logicals: **-0.479** = (1.000) * -0.479                                 |\n",
       "| ast_ngram_n_2_1: **0.411** = (1.000) * 0.411                  | all_preferences_used: **-0.415** = (1.000) * -0.415                               |\n",
       "| ast_ngram_n_2_0: **0.394** = (1.000) * 0.394                  | no_two_number_operations: **-0.206** = (1.000) * -0.206                           |\n",
       "| correct_predicate_function_arity: **0.375** = (1.000) * 0.375 | distance_arg_types_room_features_receptacles_setup: **-0.143** = (1.000) * -0.143 |\n",
       "| ast_ngram_n_3_0: **0.373** = (1.000) * 0.373                  | node_count_scoring_0: **-0.096** = (1.000) * -0.096                               |\n",
       "| text_ngram_n_2_2: **0.361** = (1.000) * 0.361                 | text_ngram_n_4_7: **-0.095** = (1.000) * -0.095                                   |\n",
       "| ast_ngram_n_5_score: **0.355** = (0.701) * 0.506              | max_depth_terminal_2: **-0.032** = (1.000) * -0.032                               |\n",
       "| text_ngram_n_3_1: **0.340** = (1.000) * 0.340                 | ast_ngram_n_5_2: **-0.002** = (1.000) * -0.002                                    |\n",
       "| ast_ngram_n_4_score: **0.254** = (0.523) * 0.486              | ast_ngram_n_4_3: **-0.002** = (1.000) * -0.002                                    |\n",
       "| ast_ngram_n_3_score: **0.245** = (0.603) * 0.406              |                                                                                   |\n",
       "| text_ngram_n_2_score: **0.233** = (0.404) * 0.577             |                                                                                   |\n",
       "| node_count_terminal_2: **0.212** = (1.000) * 0.212            |                                                                                   |\n",
       "| no_identical_logical_children: **0.198** = (1.000) * 0.198    |                                                                                   |\n",
       "| ast_ngram_n_3_6: **0.141** = (1.000) * 0.141                  |                                                                                   |\n",
       "| ast_ngram_n_2_score: **0.134** = (0.529) * 0.253              |                                                                                   |\n",
       "| mean_depth_setup_2: **0.125** = (1.000) * 0.125               |                                                                                   |\n",
       "| max_depth_setup_2: **0.123** = (1.000) * 0.123                |                                                                                   |"
      ],
      "text/plain": [
       "<IPython.core.display.Markdown object>"
      ]
     },
     "metadata": {},
     "output_type": "display_data"
    },
    {
     "data": {
      "text/markdown": [
       "### Game:"
      ],
      "text/plain": [
       "<IPython.core.display.Markdown object>"
      ]
     },
     "metadata": {},
     "output_type": "display_data"
    },
    {
     "data": {
      "text/markdown": [
       "```pddl\n",
       "(define (game mcmc-11) (:domain few-objects-room-v1)\n",
       "(:setup\n",
       "  (exists (?h - wall)\n",
       "    (game-conserved\n",
       "      (exists (?d - hexagonal_bin)\n",
       "        (and\n",
       "          (adjacent agent ?d)\n",
       "          (< (distance ?h ?d) 1)\n",
       "        )\n",
       "      )\n",
       "    )\n",
       "  )\n",
       ")\n",
       "(:constraints\n",
       "  (and\n",
       "    (preference ballOnBedAtEnd\n",
       "      (at-end\n",
       "        (game_over )\n",
       "      )\n",
       "    )\n",
       "  )\n",
       ")\n",
       "(:terminal\n",
       "  (>= (count ballOnBedAtEnd) 3 )\n",
       ")\n",
       "(:scoring\n",
       "  10\n",
       ")\n",
       ")\n",
       "```"
      ],
      "text/plain": [
       "<IPython.core.display.Markdown object>"
      ]
     },
     "metadata": {},
     "output_type": "display_data"
    }
   ],
   "source": [
    "mcmc.visualize_sample(11)"
   ]
  },
  {
   "cell_type": "code",
   "execution_count": 10,
   "metadata": {},
   "outputs": [
    {
     "data": {
      "text/markdown": [
       "### Energy of visualized game: 4.728"
      ],
      "text/plain": [
       "<IPython.core.display.Markdown object>"
      ]
     },
     "metadata": {},
     "output_type": "display_data"
    },
    {
     "data": {
      "text/markdown": [
       "### Top features contributing to the game's energy\n",
       "feature name: **value** = (original feature value => regrown feature value) * weight"
      ],
      "text/plain": [
       "<IPython.core.display.Markdown object>"
      ]
     },
     "metadata": {},
     "output_type": "display_data"
    },
    {
     "data": {
      "text/markdown": [
       "| Features increasing energy (= more fake)                      | Features decreasing energy (= more real)                                      |\n",
       "|---------------------------------------------------------------|-------------------------------------------------------------------------------|\n",
       "| text_ngram_n_5_score: **1.139** = (0.740) * 1.539             | all_variables_used: **-1.848** = (1.000) * -1.848                             |\n",
       "| text_ngram_n_4_score: **0.848** = (0.674) * 1.259             | variable_not_repeated: **-1.619** = (1.000) * -1.619                          |\n",
       "| text_ngram_n_3_score: **0.518** = (0.540) * 0.959             | all_variables_defined: **-0.569** = (1.000) * -0.569                          |\n",
       "| text_ngram_n_2_9: **0.415** = (1.000) * 0.415                 | no_nested_logicals: **-0.479** = (1.000) * -0.479                             |\n",
       "| ast_ngram_n_2_1: **0.411** = (1.000) * 0.411                  | in_arg_types_receptacles_balls_constraints: **-0.474** = (1.000) * -0.474     |\n",
       "| ast_ngram_n_2_0: **0.394** = (1.000) * 0.394                  | no_adjacent_same_modal: **-0.398** = (1.000) * -0.398                         |\n",
       "| ast_ngram_n_3_8: **0.386** = (1.000) * 0.386                  | pref_forall_pref_forall_correct_types_correct: **-0.359** = (1.000) * -0.359  |\n",
       "| ast_ngram_n_5_0: **0.385** = (1.000) * 0.385                  | no_two_number_operations: **-0.206** = (1.000) * -0.206                       |\n",
       "| ast_ngram_n_4_0: **0.382** = (1.000) * 0.382                  | pref_forall_pref_forall_correct_arity_correct: **-0.153** = (1.000) * -0.153  |\n",
       "| ast_ngram_n_2_7: **0.376** = (1.000) * 0.376                  | max_depth_constraints_1: **-0.120** = (1.000) * -0.120                        |\n",
       "| correct_predicate_function_arity: **0.375** = (1.000) * 0.375 | node_count_scoring_0: **-0.096** = (1.000) * -0.096                           |\n",
       "| ast_ngram_n_3_0: **0.373** = (1.000) * 0.373                  | text_ngram_n_4_7: **-0.095** = (1.000) * -0.095                               |\n",
       "| ast_ngram_n_4_1: **0.367** = (1.000) * 0.367                  | text_ngram_n_5_2: **-0.068** = (1.000) * -0.068                               |\n",
       "| text_ngram_n_2_2: **0.361** = (1.000) * 0.361                 | adjacent_arg_types_receptacles_furniture_setup: **-0.063** = (1.000) * -0.063 |\n",
       "| ast_ngram_n_3_1: **0.361** = (1.000) * 0.361                  | max_depth_terminal_2: **-0.032** = (1.000) * -0.032                           |\n",
       "| text_ngram_n_3_0: **0.359** = (1.000) * 0.359                 | setup_objects_used: **-0.029** = (0.333) * -0.086                             |\n",
       "| ast_ngram_n_2_2: **0.350** = (1.000) * 0.350                  | no_adjacent_once: **-0.006** = (1.000) * -0.006                               |\n",
       "| text_ngram_n_3_1: **0.340** = (1.000) * 0.340                 |                                                                               |\n",
       "| text_ngram_n_2_3: **0.329** = (1.000) * 0.329                 |                                                                               |\n",
       "| text_ngram_n_4_0: **0.244** = (1.000) * 0.244                 |                                                                               |"
      ],
      "text/plain": [
       "<IPython.core.display.Markdown object>"
      ]
     },
     "metadata": {},
     "output_type": "display_data"
    },
    {
     "data": {
      "text/markdown": [
       "### Game:"
      ],
      "text/plain": [
       "<IPython.core.display.Markdown object>"
      ]
     },
     "metadata": {},
     "output_type": "display_data"
    },
    {
     "data": {
      "text/markdown": [
       "```pddl\n",
       "(define (game mcmc-6) (:domain medium-objects-room-v1)\n",
       "(:setup\n",
       "  (forall (?b - ball)\n",
       "    (exists (?b - hexagonal_bin)\n",
       "      (game-conserved\n",
       "        (adjacent ?b bed)\n",
       "      )\n",
       "    )\n",
       "  )\n",
       ")\n",
       "(:constraints\n",
       "  (and\n",
       "    (preference basketMadeFromRug\n",
       "      (exists (?c1 - block)\n",
       "        (at-end\n",
       "          (on ?c1 bed)\n",
       "        )\n",
       "      )\n",
       "    )\n",
       "    (forall (?b2 - dodgeball)\n",
       "      (and\n",
       "        (preference ballThrownToBin\n",
       "          (exists (?l4 - doggie_bed)\n",
       "            (then\n",
       "              (hold (in ?l4 ?b2) )\n",
       "              (any)\n",
       "              (hold (not (toggled_on ?l4) ) )\n",
       "            )\n",
       "          )\n",
       "        )\n",
       "      )\n",
       "    )\n",
       "  )\n",
       ")\n",
       "(:terminal\n",
       "  (>= (count-once-per-objects ballThrownToBin:dodgeball) 3 )\n",
       ")\n",
       "(:scoring\n",
       "  (total-score)\n",
       ")\n",
       ")\n",
       "```"
      ],
      "text/plain": [
       "<IPython.core.display.Markdown object>"
      ]
     },
     "metadata": {},
     "output_type": "display_data"
    }
   ],
   "source": [
    "mcmc.visualize_sample(6)"
   ]
  },
  {
   "cell_type": "code",
   "execution_count": null,
   "metadata": {},
   "outputs": [],
   "source": []
  },
  {
   "attachments": {},
   "cell_type": "markdown",
   "metadata": {},
   "source": [
    "### Notes from looking at these games\n",
    "* **TODO:** debug the 'section-without' logic, it seems to not work\n",
    "* **TODO:** add features for preferences with different lengths of modals"
   ]
  },
  {
   "cell_type": "code",
   "execution_count": null,
   "metadata": {},
   "outputs": [],
   "source": []
  },
  {
   "cell_type": "code",
   "execution_count": 2,
   "metadata": {},
   "outputs": [
    {
     "ename": "NameError",
     "evalue": "name 'ast_printer' is not defined",
     "output_type": "error",
     "traceback": [
      "\u001b[0;31m---------------------------------------------------------------------------\u001b[0m",
      "\u001b[0;31mNameError\u001b[0m                                 Traceback (most recent call last)",
      "Cell \u001b[0;32mIn[2], line 1\u001b[0m\n\u001b[0;32m----> 1\u001b[0m \u001b[39mprint\u001b[39m(ast_printer\u001b[39m.\u001b[39mast_to_string(samples[\u001b[39m8\u001b[39m][\u001b[39m0\u001b[39m], \u001b[39m'\u001b[39m\u001b[39m\\n\u001b[39;00m\u001b[39m'\u001b[39m))\n",
      "\u001b[0;31mNameError\u001b[0m: name 'ast_printer' is not defined"
     ]
    }
   ],
   "source": [
    "print(ast_printer.ast_to_string(samples[8][0], '\\n'))"
   ]
  },
  {
   "cell_type": "code",
   "execution_count": null,
   "metadata": {},
   "outputs": [],
   "source": [
    "fitness_featurizer = build_fitness_featurizer(DEFAULT_ARGS)\n",
    "features = fitness_featurizer.parse(samples[7][0], 'mcmc', True)\n",
    "{k: v for k, v in features.items() if 'correctly' in k or 'forall' in k or 'no' in k}"
   ]
  },
  {
   "cell_type": "code",
   "execution_count": null,
   "metadata": {},
   "outputs": [],
   "source": [
    "with gzip.open(DEFAULT_FITNESS_FUNCTION_PATH, 'rb') as f:\n",
    "    cv_fitness_model = pickle.load(f)"
   ]
  },
  {
   "cell_type": "code",
   "execution_count": null,
   "metadata": {},
   "outputs": [],
   "source": [
    "weights = cv_fitness_model.named_steps['fitness'].model.fc1.weight.data.detach().numpy().squeeze()\n",
    "bias = cv_fitness_model.named_steps['fitness'].model.fc1.bias.data.detach().numpy().squeeze()\n",
    "print(weights.mean(), bias)"
   ]
  },
  {
   "cell_type": "code",
   "execution_count": null,
   "metadata": {},
   "outputs": [],
   "source": [
    "plt.hist(weights, bins=100)\n",
    "plt.title('Fitness Model Weights')\n",
    "plt.xlabel('Weight magnitude')\n",
    "plt.ylabel('Count')"
   ]
  },
  {
   "cell_type": "code",
   "execution_count": 12,
   "metadata": {},
   "outputs": [],
   "source": [
    "import ast_crossover_sampler\n",
    "asts = [ast for ast in cached_load_and_parse_games_from_file('../dsl/interactive-beta.pddl', \n",
    "    mcmc.grammar_parser, False, relative_path='..')]\n",
    "\n",
    "mcmc_with_crossover = MCMCRegrowthCrossoverSampler(DEFAULT_ARGS, \n",
    "    ast_crossover_sampler.CrossoverType.SAME_RULE, asts, 0.25,\n",
    "    '../models/cv_fitness_model_2022_12_26.pkl.gz', \n",
    "    greedy_acceptance=True, plateau_patience_steps=20, acceptance_temperature=10.0, max_steps=1000)"
   ]
  },
  {
   "cell_type": "code",
   "execution_count": 13,
   "metadata": {},
   "outputs": [
    {
     "data": {
      "application/vnd.jupyter.widget-view+json": {
       "model_id": "504d7837cbaf4c778034c522316a834c",
       "version_major": 2,
       "version_minor": 0
      },
      "text/plain": [
       "  0%|          | 0/10 [00:00<?, ?it/s]"
      ]
     },
     "metadata": {},
     "output_type": "display_data"
    },
    {
     "name": "stdout",
     "output_type": "stream",
     "text": [
      "Sampling exception, skipping sample\n",
      "Regrowth generated identical games, repeating\n",
      "Accepted step 1 with fitness 7.857532501220703\n",
      "Accepted step 2 with fitness 7.784302711486816\n",
      "Accepted step 3 with fitness 7.775148391723633\n",
      "Accepted step 4 with fitness 7.692765235900879\n",
      "Accepted step 6 with fitness 7.536055564880371\n",
      "Regrowth generated identical games, repeating\n",
      "Accepted step 8 with fitness 7.5235395431518555\n",
      "Accepted step 10 with fitness 7.4317522048950195\n",
      "Accepted step 11 with fitness 6.490839004516602\n",
      "Accepted step 17 with fitness 5.810407638549805\n",
      "Accepted step 19 with fitness 5.400604248046875\n",
      "Accepted step 28 with fitness 5.354710578918457\n",
      "Accepted step 44 with fitness 4.757689476013184\n",
      "Accepted step 49 with fitness 4.688848495483398\n",
      "Accepted step 68 with fitness 4.574114799499512\n",
      "Accepted step 75 with fitness 4.34464693069458\n",
      "Regrowth generated identical games, repeating\n",
      "Accepted step 93 with fitness 3.9308552742004395\n",
      "Regrowth generated identical games, repeating\n",
      "Accepted step 100 with fitness 3.891624927520752\n",
      "Accepted step 101 with fitness 3.8166251182556152\n",
      "Accepted step 112 with fitness 3.5812437534332275\n",
      "Accepted step 119 with fitness 3.1669018268585205\n",
      "Accepted step 126 with fitness 1.582802176475525\n",
      "Accepted step 136 with fitness 0.4186060130596161\n",
      "Regrowth generated identical games, repeating\n",
      "Regrowth generated identical games, repeating\n",
      "Regrowth generated identical games, repeating\n",
      "Accepted step 156 with fitness -0.3749939501285553\n",
      "Accepted step 162 with fitness -0.4303964376449585\n",
      "Accepted step 165 with fitness -0.5954062938690186\n",
      "Regrowth generated identical games, repeating\n",
      "Plateaued at step 186 with fitness -0.5954062938690186\n",
      "Sampling exception, skipping sample\n",
      "Sampling exception, skipping sample\n",
      "Accepted step 4 with fitness 5.354079723358154\n",
      "Accepted step 5 with fitness 4.97187614440918\n",
      "Accepted step 7 with fitness 4.118456840515137\n",
      "Accepted step 17 with fitness 3.8881304264068604\n",
      "Accepted step 18 with fitness 2.8375558853149414\n",
      "Accepted step 20 with fitness 2.5998194217681885\n",
      "Regrowth generated identical games, repeating\n",
      "Accepted step 22 with fitness 2.4077253341674805\n",
      "Regrowth generated identical games, repeating\n",
      "Regrowth generated identical games, repeating\n",
      "Regrowth generated identical games, repeating\n",
      "Regrowth generated identical games, repeating\n",
      "Accepted step 29 with fitness 1.7174071073532104\n",
      "Regrowth generated identical games, repeating\n",
      "Regrowth generated identical games, repeating\n",
      "Accepted step 38 with fitness 1.5460082292556763\n",
      "Sampling exception, skipping sample\n",
      "Accepted step 47 with fitness 1.1638044118881226\n",
      "Accepted step 48 with fitness 0.5462826490402222\n",
      "Accepted step 68 with fitness -0.22956793010234833\n",
      "Regrowth generated identical games, repeating\n",
      "Regrowth generated identical games, repeating\n",
      "Regrowth generated identical games, repeating\n",
      "Accepted step 70 with fitness -0.3435009717941284\n",
      "Regrowth generated identical games, repeating\n",
      "Regrowth generated identical games, repeating\n",
      "Accepted step 89 with fitness -0.37955039739608765\n",
      "Accepted step 93 with fitness -0.39083099365234375\n",
      "Regrowth generated identical games, repeating\n",
      "Accepted step 94 with fitness -0.45440566539764404\n",
      "Regrowth generated identical games, repeating\n",
      "Regrowth generated identical games, repeating\n",
      "Accepted step 101 with fitness -0.4696420133113861\n",
      "Regrowth generated identical games, repeating\n",
      "Regrowth generated identical games, repeating\n",
      "Plateaued at step 122 with fitness -0.4696420133113861\n",
      "Sampling exception, skipping sample\n",
      "Accepted step 2 with fitness 14.142976760864258\n",
      "Regrowth generated identical games, repeating\n",
      "Accepted step 4 with fitness 12.79985237121582\n",
      "Accepted step 6 with fitness 12.214326858520508\n",
      "Accepted step 7 with fitness 12.134391784667969\n",
      "Accepted step 8 with fitness 12.072993278503418\n",
      "Accepted step 9 with fitness 10.750027656555176\n",
      "Regrowth generated identical games, repeating\n",
      "Accepted step 10 with fitness 10.627676963806152\n",
      "Accepted step 15 with fitness 10.131712913513184\n",
      "Regrowth generated identical games, repeating\n",
      "Accepted step 21 with fitness 8.611666679382324\n",
      "Regrowth generated identical games, repeating\n",
      "Regrowth generated identical games, repeating\n",
      "Accepted step 28 with fitness 6.989829063415527\n",
      "Regrowth generated identical games, repeating\n",
      "Accepted step 38 with fitness 6.98841667175293\n",
      "Accepted step 41 with fitness 6.839105606079102\n",
      "Regrowth generated identical games, repeating\n",
      "Accepted step 42 with fitness 6.487910270690918\n",
      "Accepted step 43 with fitness 5.878007888793945\n",
      "Accepted step 48 with fitness 5.809959411621094\n",
      "Accepted step 60 with fitness 5.712705612182617\n",
      "Accepted step 66 with fitness 5.381417274475098\n",
      "Regrowth generated identical games, repeating\n",
      "Accepted step 68 with fitness 4.953930854797363\n",
      "Accepted step 69 with fitness 4.600273132324219\n",
      "Accepted step 73 with fitness 4.3957061767578125\n",
      "Sampling exception, skipping sample\n",
      "Accepted step 85 with fitness 4.39177942276001\n",
      "Accepted step 86 with fitness 3.9079432487487793\n",
      "Sampling exception, skipping sample\n",
      "Accepted step 90 with fitness 3.6090126037597656\n",
      "Accepted step 92 with fitness 3.5547075271606445\n",
      "Regrowth generated identical games, repeating\n",
      "Regrowth generated identical games, repeating\n",
      "Accepted step 108 with fitness 3.1036438941955566\n",
      "Regrowth generated identical games, repeating\n",
      "Accepted step 114 with fitness 2.789712905883789\n",
      "Accepted step 116 with fitness 2.64223051071167\n",
      "Regrowth generated identical games, repeating\n",
      "Regrowth generated identical games, repeating\n",
      "Accepted step 136 with fitness 2.5748722553253174\n",
      "Regrowth generated identical games, repeating\n",
      "Accepted step 147 with fitness 2.493852376937866\n",
      "Accepted step 161 with fitness 2.420196056365967\n",
      "Regrowth generated identical games, repeating\n",
      "Accepted step 167 with fitness 2.2247960567474365\n",
      "Accepted step 173 with fitness 1.9206602573394775\n",
      "Regrowth generated identical games, repeating\n",
      "Accepted step 178 with fitness 1.7651313543319702\n",
      "Regrowth generated identical games, repeating\n",
      "Plateaued at step 199 with fitness 1.7651313543319702\n",
      "Accepted step 2 with fitness 13.524382591247559\n",
      "Sampling exception, skipping sample\n",
      "Accepted step 7 with fitness 13.480805397033691\n",
      "Accepted step 9 with fitness 13.39976978302002\n",
      "Accepted step 10 with fitness 13.358628273010254\n",
      "Accepted step 11 with fitness 13.049342155456543\n",
      "Sampling exception, skipping sample\n",
      "Regrowth generated identical games, repeating\n",
      "Sampling exception, skipping sample\n",
      "Accepted step 15 with fitness 12.11268138885498\n",
      "Accepted step 26 with fitness 9.495596885681152\n",
      "Accepted step 27 with fitness 8.964848518371582\n",
      "Regrowth generated identical games, repeating\n",
      "Accepted step 36 with fitness 8.947417259216309\n",
      "Accepted step 39 with fitness 8.818668365478516\n",
      "Regrowth generated identical games, repeating\n",
      "Regrowth generated identical games, repeating\n",
      "Accepted step 44 with fitness 8.466219902038574\n",
      "Accepted step 45 with fitness 7.073418140411377\n",
      "Accepted step 48 with fitness 7.038557052612305\n",
      "Accepted step 54 with fitness 6.790688514709473\n",
      "Accepted step 55 with fitness 6.636929035186768\n",
      "Accepted step 57 with fitness 6.631551265716553\n",
      "Regrowth generated identical games, repeating\n",
      "Accepted step 60 with fitness 5.908283710479736\n",
      "Accepted step 64 with fitness 5.737532138824463\n",
      "Accepted step 66 with fitness 5.720505237579346\n",
      "Accepted step 68 with fitness 5.5985188484191895\n",
      "Sampling exception, skipping sample\n",
      "Accepted step 73 with fitness 5.2624006271362305\n",
      "Sampling exception, skipping sample\n",
      "Sampling exception, skipping sample\n",
      "Sampling exception, skipping sample\n",
      "Plateaued at step 94 with fitness 5.2624006271362305\n",
      "Sampling exception, skipping sample\n",
      "Accepted step 0 with fitness 7.88816499710083\n",
      "Accepted step 5 with fitness 7.2559428215026855\n",
      "Accepted step 6 with fitness 6.572350025177002\n",
      "Regrowth generated identical games, repeating\n",
      "Accepted step 20 with fitness 6.3486833572387695\n",
      "Regrowth generated identical games, repeating\n",
      "Regrowth generated identical games, repeating\n",
      "Accepted step 29 with fitness 6.075480937957764\n",
      "Accepted step 33 with fitness 4.201766014099121\n",
      "Regrowth generated identical games, repeating\n",
      "Accepted step 35 with fitness 4.197839260101318\n",
      "Accepted step 37 with fitness 4.126315593719482\n",
      "Regrowth generated identical games, repeating\n",
      "Accepted step 38 with fitness 3.834568977355957\n",
      "Accepted step 46 with fitness 3.7012743949890137\n",
      "Accepted step 50 with fitness 2.9073314666748047\n",
      "Accepted step 55 with fitness 1.9833101034164429\n",
      "Accepted step 67 with fitness 1.9793835878372192\n",
      "Accepted step 74 with fitness 1.5293444395065308\n",
      "Regrowth generated identical games, repeating\n",
      "Accepted step 94 with fitness 1.147140622138977\n",
      "Regrowth generated identical games, repeating\n",
      "Accepted step 110 with fitness 0.8746525049209595\n",
      "Sampling exception, skipping sample\n",
      "Regrowth generated identical games, repeating\n",
      "Plateaued at step 131 with fitness 0.8746525049209595\n",
      "Sampling exception, skipping sample\n",
      "Sampling exception, skipping sample\n",
      "Sampling exception, skipping sample\n",
      "Accepted step 3 with fitness 3.272235870361328\n",
      "Accepted step 4 with fitness 2.8624320030212402\n",
      "Sampling exception, skipping sample\n",
      "Regrowth generated identical games, repeating\n",
      "Accepted step 9 with fitness 2.8181464672088623\n",
      "Regrowth generated identical games, repeating\n",
      "Accepted step 12 with fitness 2.653379440307617\n",
      "Accepted step 15 with fitness 2.406229257583618\n",
      "Sampling exception, skipping sample\n",
      "Accepted step 17 with fitness 1.9943119287490845\n",
      "Sampling exception, skipping sample\n",
      "Sampling exception, skipping sample\n",
      "Sampling exception, skipping sample\n",
      "Regrowth generated identical games, repeating\n",
      "Sampling exception, skipping sample\n",
      "Accepted step 26 with fitness 1.4591673612594604\n",
      "Sampling exception, skipping sample\n",
      "Regrowth generated identical games, repeating\n",
      "Accepted step 36 with fitness 1.2288413047790527\n",
      "Sampling exception, skipping sample\n",
      "Sampling exception, skipping sample\n",
      "Sampling exception, skipping sample\n",
      "Sampling exception, skipping sample\n",
      "Sampling exception, skipping sample\n",
      "Sampling exception, skipping sample\n",
      "Sampling exception, skipping sample\n",
      "Sampling exception, skipping sample\n",
      "Sampling exception, skipping sample\n",
      "Sampling exception, skipping sample\n",
      "Sampling exception, skipping sample\n",
      "Plateaued at step 57 with fitness 1.2288413047790527\n",
      "Sampling exception, skipping sample\n",
      "Sampling exception, skipping sample\n",
      "Sampling exception, skipping sample\n",
      "Sampling exception, skipping sample\n",
      "Sampling exception, skipping sample\n",
      "Accepted step 2 with fitness 7.653304576873779\n",
      "Accepted step 4 with fitness 7.038599014282227\n",
      "Accepted step 5 with fitness 6.702853679656982\n",
      "Accepted step 7 with fitness 6.601943492889404\n",
      "Accepted step 8 with fitness 4.289561748504639\n",
      "Accepted step 10 with fitness 4.060492992401123\n",
      "Accepted step 24 with fitness 3.4570600986480713\n",
      "Regrowth generated identical games, repeating\n",
      "Regrowth generated identical games, repeating\n",
      "Regrowth generated identical games, repeating\n",
      "Accepted step 32 with fitness 3.032423973083496\n",
      "Regrowth generated identical games, repeating\n",
      "Regrowth generated identical games, repeating\n",
      "Regrowth generated identical games, repeating\n",
      "Accepted step 45 with fitness 2.483200788497925\n",
      "Regrowth generated identical games, repeating\n",
      "Regrowth generated identical games, repeating\n",
      "Regrowth generated identical games, repeating\n",
      "Regrowth generated identical games, repeating\n",
      "Accepted step 61 with fitness 1.8684951066970825\n",
      "Sampling exception, skipping sample\n",
      "Accepted step 62 with fitness 1.041662573814392\n",
      "Accepted step 63 with fitness 0.9797189235687256\n",
      "Regrowth generated identical games, repeating\n",
      "Accepted step 69 with fitness 0.9395236968994141\n",
      "Regrowth generated identical games, repeating\n",
      "Regrowth generated identical games, repeating\n",
      "Regrowth generated identical games, repeating\n",
      "Plateaued at step 90 with fitness 0.9395236968994141\n",
      "Sampling exception, skipping sample\n",
      "Sampling exception, skipping sample\n",
      "Sampling exception, skipping sample\n",
      "Sampling exception, skipping sample\n",
      "Accepted step 5 with fitness 6.789217472076416\n",
      "Accepted step 6 with fitness 6.666046142578125\n",
      "Accepted step 7 with fitness 4.762271404266357\n",
      "Accepted step 8 with fitness 4.663128852844238\n",
      "Accepted step 9 with fitness 3.3013408184051514\n",
      "Regrowth generated identical games, repeating\n",
      "Regrowth generated identical games, repeating\n",
      "Accepted step 19 with fitness 2.9507830142974854\n",
      "Accepted step 21 with fitness 2.4647607803344727\n",
      "Regrowth generated identical games, repeating\n",
      "Accepted step 23 with fitness 1.8448952436447144\n",
      "Regrowth generated identical games, repeating\n",
      "Plateaued at step 44 with fitness 1.8448952436447144\n",
      "Sampling exception, skipping sample\n",
      "Sampling exception, skipping sample\n",
      "Accepted step 0 with fitness 29.540218353271484\n",
      "Accepted step 2 with fitness 28.9871883392334\n",
      "Accepted step 4 with fitness 28.37427520751953\n",
      "Accepted step 6 with fitness 28.359024047851562\n",
      "Accepted step 8 with fitness 28.19510269165039\n",
      "Accepted step 10 with fitness 26.215831756591797\n",
      "Accepted step 12 with fitness 24.8515625\n",
      "Accepted step 13 with fitness 24.514238357543945\n",
      "Accepted step 15 with fitness 23.61456298828125\n",
      "Accepted step 21 with fitness 23.13623809814453\n",
      "Accepted step 23 with fitness 22.891950607299805\n",
      "Accepted step 27 with fitness 16.433687210083008\n",
      "Accepted step 29 with fitness 14.533061027526855\n",
      "Accepted step 30 with fitness 4.544361591339111\n",
      "Accepted step 31 with fitness 4.070838451385498\n",
      "Accepted step 39 with fitness 2.9080300331115723\n",
      "Regrowth generated identical games, repeating\n",
      "Accepted step 42 with fitness 1.3596304655075073\n",
      "Regrowth generated identical games, repeating\n",
      "Regrowth generated identical games, repeating\n",
      "Accepted step 50 with fitness 1.1433700323104858\n",
      "Regrowth generated identical games, repeating\n",
      "Accepted step 60 with fitness 1.113407850265503\n",
      "Accepted step 71 with fitness 0.9435285329818726\n",
      "Accepted step 75 with fitness 0.8919482231140137\n",
      "Regrowth generated identical games, repeating\n",
      "Plateaued at step 96 with fitness 0.8919482231140137\n",
      "Sampling exception, skipping sample\n",
      "Accepted step 1 with fitness 8.22070026397705\n",
      "Accepted step 3 with fitness 6.275301933288574\n",
      "Regrowth generated identical games, repeating\n",
      "Accepted step 7 with fitness 5.117291450500488\n",
      "Accepted step 9 with fitness 4.615976333618164\n",
      "Accepted step 10 with fitness 4.1334309577941895\n",
      "Accepted step 12 with fitness 3.3655338287353516\n",
      "Accepted step 14 with fitness 3.3364827632904053\n",
      "Accepted step 16 with fitness 3.274643659591675\n",
      "Regrowth generated identical games, repeating\n",
      "Accepted step 21 with fitness 2.8863584995269775\n",
      "Accepted step 22 with fitness 2.2518084049224854\n",
      "Accepted step 29 with fitness 2.1898648738861084\n",
      "Accepted step 34 with fitness 1.8234943151474\n",
      "Regrowth generated identical games, repeating\n",
      "Accepted step 41 with fitness 1.8150454759597778\n",
      "Accepted step 43 with fitness 1.750975251197815\n",
      "Accepted step 45 with fitness 1.4526692628860474\n",
      "Accepted step 54 with fitness 1.4442203044891357\n",
      "Regrowth generated identical games, repeating\n",
      "Accepted step 59 with fitness 1.3392081260681152\n",
      "Regrowth generated identical games, repeating\n",
      "Accepted step 67 with fitness 1.2992336750030518\n",
      "Accepted step 68 with fitness 1.2082358598709106\n",
      "Regrowth generated identical games, repeating\n",
      "Regrowth generated identical games, repeating\n",
      "Plateaued at step 89 with fitness 1.2082358598709106\n",
      "[-0.5954062938690186, -0.4696420133113861, 1.7651313543319702, 5.2624006271362305, 0.8746525049209595, 1.2288413047790527, 0.9395236968994141, 1.8448952436447144, 0.8919482231140137, 1.2082358598709106]\n"
     ]
    }
   ],
   "source": [
    "mcmc_with_crossover.multiple_samples(10, verbose=2, should_tqdm=True)\n",
    "print([x[2] for x in mcmc_with_crossover.samples])"
   ]
  },
  {
   "cell_type": "code",
   "execution_count": 14,
   "metadata": {},
   "outputs": [
    {
     "name": "stdout",
     "output_type": "stream",
     "text": [
      "[-0.5954062938690186, -0.4696420133113861, 1.7651313543319702, 5.2624006271362305, 0.8746525049209595, 1.2288413047790527, 0.9395236968994141, 1.8448952436447144, 0.8919482231140137, 1.2082358598709106]\n"
     ]
    }
   ],
   "source": [
    "print([x[2] for x in mcmc_with_crossover.samples])"
   ]
  },
  {
   "cell_type": "code",
   "execution_count": null,
   "metadata": {},
   "outputs": [],
   "source": []
  }
 ],
 "metadata": {
  "kernelspec": {
   "display_name": "game-gen",
   "language": "python",
   "name": "python3"
  },
  "language_info": {
   "codemirror_mode": {
    "name": "ipython",
    "version": 3
   },
   "file_extension": ".py",
   "mimetype": "text/x-python",
   "name": "python",
   "nbconvert_exporter": "python",
   "pygments_lexer": "ipython3",
   "version": "3.10.8"
  },
  "orig_nbformat": 4,
  "vscode": {
   "interpreter": {
    "hash": "a8b8c8d5c21b7aee7bd0053f69e9c255c013bbea7031fbef7e66d58dd46c0fa6"
   }
  }
 },
 "nbformat": 4,
 "nbformat_minor": 2
}
