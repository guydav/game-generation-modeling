{
 "cells": [
  {
   "cell_type": "code",
   "execution_count": 1,
   "metadata": {},
   "outputs": [],
   "source": [
    "%autoreload 2"
   ]
  },
  {
   "cell_type": "code",
   "execution_count": 2,
   "metadata": {},
   "outputs": [
    {
     "name": "stderr",
     "output_type": "stream",
     "text": [
      "2023-05-14 18:46:42 - ast_utils - DEBUG    - Using cache folder: /misc/vlgscratch4/LakeGroup/guy/game_generation_cache\n",
      "2023-05-14 18:46:43 - src.ast_utils - DEBUG    - Using cache folder: /misc/vlgscratch4/LakeGroup/guy/game_generation_cache\n",
      "2023-05-14 18:46:43 - git.cmd - DEBUG    - Popen(['git', 'version'], cwd=/home/gd1279/projects/game-generation-modeling/notebooks, universal_newlines=False, shell=None, istream=None)\n",
      "2023-05-14 18:46:43 - git.cmd - DEBUG    - Popen(['git', 'version'], cwd=/home/gd1279/projects/game-generation-modeling/notebooks, universal_newlines=False, shell=None, istream=None)\n"
     ]
    }
   ],
   "source": [
    "from argparse import Namespace\n",
    "from collections import defaultdict\n",
    "import copy\n",
    "from datetime import datetime\n",
    "import difflib\n",
    "import gzip\n",
    "import itertools\n",
    "import os\n",
    "import pickle\n",
    "import sys\n",
    "import typing\n",
    "\n",
    "from IPython.display import display, Markdown, HTML  # type: ignore\n",
    "import matplotlib\n",
    "import matplotlib.pyplot as plt\n",
    "import numpy as np\n",
    "import pandas as pd\n",
    "import swifter\n",
    "import sklearn\n",
    "from sklearn.model_selection import GridSearchCV, train_test_split, KFold\n",
    "from sklearn.pipeline import Pipeline\n",
    "import tatsu\n",
    "import torch\n",
    "import torch.nn as nn\n",
    "import torch.nn.functional as F\n",
    "from torch.utils.data import TensorDataset, DataLoader\n",
    "import tqdm.notebook as tqdmn\n",
    "\n",
    "\n",
    "sys.path.append(os.path.abspath('..'))\n",
    "sys.path.append(os.path.abspath('../src'))\n",
    "from src import fitness_energy_utils as utils\n",
    "from src.ast_mcmc_regrowth import _load_pickle_gzip\n",
    "from src.fitness_features import *\n",
    "from src.fitness_energy_utils import NON_FEATURE_COLUMNS\n",
    "from src.latest_model_paths import LATEST_FITNESS_FEATURIZER_PATH, LATEST_FITNESS_FUNCTION_DATE_ID, LATEST_FITNESS_FEATURES\n",
    "from src.ast_counter_sampler import *\n",
    "from src.ast_utils import cached_load_and_parse_games_from_file, load_games_from_file, _extract_game_id\n",
    "from src import ast_printer\n",
    "from src.fitness_features_preprocessing import NGRAM_SCORE_PATTERN\n",
    "from src.evolutionary_sampler import *"
   ]
  },
  {
   "cell_type": "code",
   "execution_count": 3,
   "metadata": {},
   "outputs": [],
   "source": [
    "grammar = open('../dsl/dsl.ebnf').read()\n",
    "grammar_parser = tatsu.compile(grammar)\n",
    "real_game_asts = list(cached_load_and_parse_games_from_file('../dsl/interactive-beta.pddl', grammar_parser, False, relative_path='..'))  # type: ignore\n",
    "\n",
    "FEATURIZER_PATH = LATEST_FITNESS_FEATURIZER_PATH\n",
    "MODEL_DATE_ID = LATEST_FITNESS_FUNCTION_DATE_ID\n",
    "MODEL_NAME = DEFAULT_SAVE_MODEL_NAME\n",
    "MAP_ELITES_PATH_SPECS = [\n",
    "    ('2023_05_13', 'samples', 'evo_sampler_map_elites_fitness_rank_node_count_objects_setup_final'),\n",
    "    ('2023_05_13', 'samples', 'evo_sampler_map_elites_fitness_rank_node_count_predicates_setup_final'),\n",
    "    ('2023_05_13', 'samples', 'evo_sampler_map_elites_ucb_node_count_objects_setup_final'),\n",
    "    ('2023_05_13', 'samples', 'evo_sampler_map_elites_ucb_node_count_predicates_setup_final'),   \n",
    "]\n",
    "\n",
    "fitness_featurizer = _load_pickle_gzip(FEATURIZER_PATH)\n",
    "fitness_function, feature_names = load_model_and_feature_columns(MODEL_DATE_ID, name=MODEL_NAME, relative_path='..')  # type: ignore\n",
    "original_fitness_function, _ = load_model_and_feature_columns(MODEL_DATE_ID, name=MODEL_NAME, relative_path='..')  # type: ignore"
   ]
  },
  {
   "cell_type": "code",
   "execution_count": 4,
   "metadata": {},
   "outputs": [],
   "source": [
    "DEFAULT_MIN_FITNESS = 0.0\n",
    "\n",
    "def load_map_elites_games(map_elites_path_specs: typing.List[typing.Tuple[str, str, str]], min_fitness: float = DEFAULT_MIN_FITNESS):\n",
    "    map_elites_games = []\n",
    "    for date_id, folder, filename in map_elites_path_specs:\n",
    "        map_elites = typing.cast(MAPElitesSampler, utils.load_data(date_id, folder, filename))\n",
    "        for key in map_elites.population:\n",
    "            if map_elites.fitness_values[key] > min_fitness:\n",
    "                map_elites_games.append((map_elites.population[key], filename))\n",
    "        \n",
    "    return map_elites_games\n",
    "\n",
    "\n",
    "MAP_ELITES_GAMES = load_map_elites_games(MAP_ELITES_PATH_SPECS)"
   ]
  },
  {
   "cell_type": "code",
   "execution_count": 5,
   "metadata": {},
   "outputs": [
    {
     "name": "stdout",
     "output_type": "stream",
     "text": [
      "['interactive-beta.pddl' 'ast-real-regrowth-samples-1024.pddl']\n",
      "(100450, 391)\n"
     ]
    }
   ],
   "source": [
    "fitness_df = utils.load_fitness_data(LATEST_FITNESS_FEATURES)\n",
    "print(fitness_df.src_file.unique())\n",
    "print(fitness_df.shape)\n",
    "\n",
    "fitness_featurizer.preprocessors[1].forced_output_keys = set([c for c in fitness_df.columns if 'arg_types' in c])"
   ]
  },
  {
   "cell_type": "code",
   "execution_count": 6,
   "metadata": {},
   "outputs": [],
   "source": [
    "def create_fitness_df_with_map_elites_games(\n",
    "    current_fitness_df: pd.DataFrame,\n",
    "    fitness_featurizer: ASTFitnessFeaturizer,\n",
    "    real_games: typing.List,\n",
    "    map_elites_games: typing.List[tuple], \n",
    "):\n",
    "\n",
    "    for game in real_games:\n",
    "        fitness_featurizer.parse(game, 'interactive-beta.pddl')\n",
    "\n",
    "    for game, filename in tqdmn.tqdm(map_elites_games):\n",
    "        fitness_featurizer.parse(game, filename)\n",
    "\n",
    "    map_elites_fitness_df = fitness_featurizer.to_df(use_prior_values=[True, False])\n",
    "    return utils.process_fitness_df(pd.concat([map_elites_fitness_df], ignore_index=True))"
   ]
  },
  {
   "cell_type": "code",
   "execution_count": 7,
   "metadata": {},
   "outputs": [
    {
     "data": {
      "application/vnd.jupyter.widget-view+json": {
       "model_id": "00aa3eb314e24189b4cc692f6463da22",
       "version_major": 2,
       "version_minor": 0
      },
      "text/plain": [
       "  0%|          | 0/743 [00:00<?, ?it/s]"
      ]
     },
     "metadata": {},
     "output_type": "display_data"
    },
    {
     "name": "stderr",
     "output_type": "stream",
     "text": [
      "2023-05-14 18:47:07 - root - INFO     - No features found for prefix agent_holds_arg_types and suffix setup\n",
      "2023-05-14 18:47:07 - root - INFO     - No features found for prefix in_motion_arg_types and suffix setup\n",
      "2023-05-14 18:47:07 - root - INFO     - No features to merge for prefix object_orientation_arg_types and suffix setup\n",
      "2023-05-14 18:47:07 - root - INFO     - No features found for prefix touch_arg_types and suffix setup\n",
      "2023-05-14 18:47:07 - root - INFO     - No features found for prefix adjacent_side_3_arg_types and suffix constraints\n",
      "2023-05-14 18:47:07 - root - INFO     - No features to merge for prefix agent_holds_arg_types and suffix constraints\n",
      "2023-05-14 18:47:07 - root - INFO     - No features found for prefix between_arg_types and suffix constraints\n",
      "2023-05-14 18:47:07 - root - INFO     - No features to merge for prefix distance_arg_types and suffix constraints\n",
      "2023-05-14 18:47:07 - root - INFO     - No features to merge for prefix in_arg_types and suffix constraints\n",
      "2023-05-14 18:47:07 - root - INFO     - No features to merge for prefix in_motion_arg_types and suffix constraints\n",
      "2023-05-14 18:47:07 - root - INFO     - No features to merge for prefix object_orientation_arg_types and suffix constraints\n"
     ]
    },
    {
     "name": "stdout",
     "output_type": "stream",
     "text": [
      "(841, 374) (100450, 391)\n",
      "Missing columns: {'in_arg_types_other_constraints', 'in_arg_types_balls_balls_constraints', 'agent_holds_arg_types_furniture_constraints', 'object_orientation_arg_types_other_constraints', 'agent_holds_arg_types_agent_constraints', 'Index', 'in_arg_types_receptacles_receptacles_constraints', 'object_orientation_arg_types_other_setup', 'distance_arg_types_other_constraints', 'on_arg_types_balls_balls_constraints', 'on_arg_types_receptacles_receptacles_constraints', 'agent_holds_arg_types_other_constraints', 'in_arg_types_blocks_blocks_constraints', 'agent_holds_arg_types_room_features_constraints', 'in_motion_arg_types_agent_constraints', 'in_motion_arg_types_other_constraints', 'in_motion_arg_types_room_features_constraints'}\n",
      "0    743\n",
      "1     98\n",
      "Name: real, dtype: int64\n",
      "0\n"
     ]
    }
   ],
   "source": [
    "map_elites_fitness_df = create_fitness_df_with_map_elites_games(fitness_df, fitness_featurizer, real_game_asts, MAP_ELITES_GAMES)\n",
    "print(map_elites_fitness_df.shape, fitness_df.shape)\n",
    "\n",
    "unexpected_columns = set(map_elites_fitness_df.columns) - set(fitness_df.columns)\n",
    "missing_columns = set(fitness_df.columns) - set(map_elites_fitness_df.columns)\n",
    "\n",
    "if len(unexpected_columns) > 0:\n",
    "    raise ValueError(f'Unexpected columns: {unexpected_columns}')\n",
    "\n",
    "if len(missing_columns) > 0:\n",
    "    print(f'Missing columns: {missing_columns}')\n",
    "    map_elites_fitness_df = map_elites_fitness_df.reindex(columns=fitness_df.columns, fill_value=0.0)\n",
    "\n",
    "missing_columns = set(fitness_df.columns) - set(map_elites_fitness_df.columns)\n",
    "if len(missing_columns) > 0:\n",
    "    raise ValueError(f'Failed to fill missing columns: {missing_columns}')\n",
    "\n",
    "print(map_elites_fitness_df.real.value_counts())\n",
    "print(map_elites_fitness_df.isna().sum().sum())"
   ]
  },
  {
   "attachments": {},
   "cell_type": "markdown",
   "metadata": {},
   "source": [
    "## TODO:\n",
    "* Split this dataset into train and test\n",
    "* Fine-tune the existing energy function on this (probably adjusting the value of `k`)\n",
    "* Evaluate the fine-tuned model\n",
    "* Print the changes in feature weights?"
   ]
  },
  {
   "cell_type": "code",
   "execution_count": 8,
   "metadata": {},
   "outputs": [
    {
     "name": "stdout",
     "output_type": "stream",
     "text": [
      "Train tensor shape: torch.Size([78, 8, 366]) | Test tensor shape: torch.Size([20, 8, 366])\n",
      "Using k=7 for fitness function\n"
     ]
    }
   ],
   "source": [
    "RANDOM_SEED = DEFAULT_RANDOM_SEED \n",
    "\n",
    "\n",
    "data_tensor, _ = utils._input_data_to_train_test_tensors(input_data=map_elites_fitness_df, feature_columns=feature_names,\n",
    "        split_test_set=False, random_seed=RANDOM_SEED, train_prop=utils.DEFAULT_TRAINING_PROP, ignore_original_game=True)\n",
    "\n",
    "train_tensor, test_tensor = utils.train_test_split(data_tensor, random_state=RANDOM_SEED,\n",
    "                train_size=utils.DEFAULT_TRAINING_PROP)\n",
    "\n",
    "\n",
    "if test_tensor is not None:\n",
    "    print(f'Train tensor shape: {train_tensor.shape} | Test tensor shape: {test_tensor.shape}')  # type: ignore\n",
    "else:\n",
    "    print(f'Train tensor shape: {train_tensor.shape}')\n",
    "\n",
    "k = train_tensor.shape[1] - 1\n",
    "print(f'Using k={k} for fitness function')\n",
    "fitness_function.named_steps['fitness'].train_kwargs['k'] = k  # type: ignore\n",
    "fitness_function.named_steps['fitness'].train_kwargs['device'] = 'cpu'  # type: ignore\n",
    "\n",
    "fine_tuned_fitness_function = fitness_function.fit(train_tensor)"
   ]
  },
  {
   "cell_type": "code",
   "execution_count": 9,
   "metadata": {},
   "outputs": [
    {
     "name": "stdout",
     "output_type": "stream",
     "text": [
      "Before tuning, training set:\n",
      "{'loss': -1.578116536140442, 'overall_ecdf': -0.19241042077580536, 'single_game_rank': 0.8443223834037781, 'single_game_min_rank': 0.4285714328289032, 'energy_of_negative@1%': 79.01666259765625, 'energy_of_negative@5%': 76.26824951171875}\n",
      "After tuning, training set:\n",
      "{'loss': -0.015177130699157715, 'overall_ecdf': -0.06332182774490468, 'single_game_rank': 1.0, 'single_game_min_rank': 1.0, 'energy_of_negative@1%': -0.9931230545043945, 'energy_of_negative@5%': -2.4131953716278076}\n",
      "Before tuning, test set:\n",
      "{'loss': -1.6508722305297852, 'overall_ecdf': -0.19437500000000002, 'single_game_rank': 0.8642856478691101, 'single_game_min_rank': 0.5714285969734192, 'energy_of_negative@1%': 79.46068572998047, 'energy_of_negative@5%': 77.41535186767578}\n",
      "After tuning, test set:\n",
      "{'loss': -0.007171182427555323, 'overall_ecdf': -0.065625, 'single_game_rank': 1.0, 'single_game_min_rank': 1.0, 'energy_of_negative@1%': -0.7277530431747437, 'energy_of_negative@5%': -2.2415642738342285}\n"
     ]
    }
   ],
   "source": [
    "print('Before tuning, training set:')\n",
    "print(utils.default_multiple_scoring(original_fitness_function, train_tensor))\n",
    "\n",
    "print('After tuning, training set:')\n",
    "print(utils.default_multiple_scoring(fitness_function, train_tensor))\n",
    "\n",
    "if test_tensor is not None:\n",
    "    print('Before tuning, test set:')\n",
    "    print(utils.default_multiple_scoring(original_fitness_function, test_tensor))\n",
    "\n",
    "    print('After tuning, test set:')\n",
    "    print(utils.default_multiple_scoring(fitness_function, test_tensor))\n"
   ]
  },
  {
   "cell_type": "code",
   "execution_count": 11,
   "metadata": {},
   "outputs": [
    {
     "name": "stdout",
     "output_type": "stream",
     "text": [
      "torch.Size([98, 1025, 366])\n",
      "Before tuning, original full dataset:\n",
      "{'loss': -3.5341789722442627, 'overall_ecdf': -0.009690982415863308, 'single_game_rank': 0.9801897406578064, 'single_game_min_rank': 0.9296875, 'energy_of_negative@1%': 74.36898803710938, 'energy_of_negative@5%': 72.7696762084961}\n",
      "After tuning, original full  set:\n",
      "{'loss': -6.980717658996582, 'overall_ecdf': -0.44103676313731066, 'single_game_rank': 0.6973652839660645, 'single_game_min_rank': 0.3642578125, 'energy_of_negative@1%': 7.561910152435303, 'energy_of_negative@5%': 6.620471954345703}\n"
     ]
    }
   ],
   "source": [
    "original_data_tensor, _ = utils._input_data_to_train_test_tensors(input_data=fitness_df, feature_columns=feature_names,\n",
    "        split_test_set=False, random_seed=RANDOM_SEED, train_prop=utils.DEFAULT_TRAINING_PROP, ignore_original_game=True)\n",
    "\n",
    "print(original_data_tensor.shape)\n",
    "\n",
    "print('Before tuning, original full dataset:')\n",
    "print(utils.default_multiple_scoring(original_fitness_function, original_data_tensor))\n",
    "\n",
    "print('After tuning, original full  set:')\n",
    "print(utils.default_multiple_scoring(fitness_function, original_data_tensor))"
   ]
  }
 ],
 "metadata": {
  "kernelspec": {
   "display_name": "game-gen",
   "language": "python",
   "name": "python3"
  },
  "language_info": {
   "codemirror_mode": {
    "name": "ipython",
    "version": 3
   },
   "file_extension": ".py",
   "mimetype": "text/x-python",
   "name": "python",
   "nbconvert_exporter": "python",
   "pygments_lexer": "ipython3",
   "version": "3.10.8"
  },
  "orig_nbformat": 4
 },
 "nbformat": 4,
 "nbformat_minor": 2
}
