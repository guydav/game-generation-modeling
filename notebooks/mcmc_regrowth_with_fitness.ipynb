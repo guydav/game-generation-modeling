{
 "cells": [
  {
   "cell_type": "code",
   "execution_count": 1,
   "metadata": {},
   "outputs": [],
   "source": [
    "%autoreload 2"
   ]
  },
  {
   "cell_type": "code",
   "execution_count": 2,
   "metadata": {},
   "outputs": [],
   "source": [
    "from collections import defaultdict\n",
    "from argparse import Namespace\n",
    "import copy\n",
    "import gzip\n",
    "import itertools\n",
    "import os\n",
    "import pickle\n",
    "import sys\n",
    "import typing\n",
    "\n",
    "import matplotlib\n",
    "import matplotlib.pyplot as plt\n",
    "import numpy as np\n",
    "import pandas as pd\n",
    "import tatsu\n",
    "import tatsu.ast\n",
    "import torch\n",
    "import torch.nn as nn\n",
    "import torch.nn.functional as F\n",
    "from torch.utils.data import TensorDataset, DataLoader\n",
    "import tqdm\n",
    "import sklearn\n",
    "from sklearn.model_selection import GridSearchCV, train_test_split, KFold\n",
    "from sklearn.pipeline import Pipeline\n",
    "\n",
    "sys.path.append(os.path.abspath('..'))\n",
    "sys.path.append(os.path.abspath('../src'))\n",
    "from src.ast_utils import _extract_game_id\n",
    "from src import fitness_energy_utils as utils\n",
    "from src.fitness_energy_utils import NON_FEATURE_COLUMNS\n",
    "from src.fitness_features import *\n",
    "from src.ast_counter_sampler import *\n",
    "from src.ast_mcmc_regrowth import *"
   ]
  },
  {
   "cell_type": "code",
   "execution_count": 3,
   "metadata": {},
   "outputs": [
    {
     "name": "stdout",
     "output_type": "stream",
     "text": [
      "98 6272 64.0 100352 1024.0\n"
     ]
    }
   ],
   "source": [
    "grammar = open('../dsl/dsl.ebnf').read()\n",
    "grammar_parser = tatsu.compile(grammar)\n",
    "game_asts = list(cached_load_and_parse_games_from_file('../dsl/interactive-beta.pddl', grammar_parser, False, relative_path='..'))\n",
    "real_game_texts = [ast_printer.ast_to_string(ast, '\\n') for ast in game_asts]\n",
    "regrown_game_texts = list(load_games_from_file('../dsl/ast-real-regrowth-samples.pddl'))\n",
    "regrown_game_1024_texts = list(load_games_from_file('../dsl/ast-real-regrowth-samples-1024.pddl'))\n",
    "print(len(real_game_texts), len(regrown_game_texts), len(regrown_game_texts) / 98, len(regrown_game_1024_texts), len(regrown_game_1024_texts) / 98)\n"
   ]
  },
  {
   "cell_type": "code",
   "execution_count": 4,
   "metadata": {},
   "outputs": [
    {
     "name": "stdout",
     "output_type": "stream",
     "text": [
      "['interactive-beta.pddl' 'ast-real-regrowth-samples-1024.pddl']\n"
     ]
    },
    {
     "data": {
      "text/html": [
       "<div>\n",
       "<style scoped>\n",
       "    .dataframe tbody tr th:only-of-type {\n",
       "        vertical-align: middle;\n",
       "    }\n",
       "\n",
       "    .dataframe tbody tr th {\n",
       "        vertical-align: top;\n",
       "    }\n",
       "\n",
       "    .dataframe thead th {\n",
       "        text-align: right;\n",
       "    }\n",
       "</style>\n",
       "<table border=\"1\" class=\"dataframe\">\n",
       "  <thead>\n",
       "    <tr style=\"text-align: right;\">\n",
       "      <th></th>\n",
       "      <th>Index</th>\n",
       "      <th>src_file</th>\n",
       "      <th>game_name</th>\n",
       "      <th>domain_name</th>\n",
       "      <th>original_game_name</th>\n",
       "      <th>real</th>\n",
       "      <th>all_variables_defined</th>\n",
       "      <th>all_variables_used</th>\n",
       "      <th>all_preferences_used</th>\n",
       "      <th>setup_objects_used</th>\n",
       "      <th>...</th>\n",
       "      <th>ast_ngram_constraints_n_6_score</th>\n",
       "      <th>ast_ngram_constraints_n_7_score</th>\n",
       "      <th>ast_ngram_terminal_n_2_score</th>\n",
       "      <th>ast_ngram_terminal_n_3_score</th>\n",
       "      <th>ast_ngram_terminal_n_4_score</th>\n",
       "      <th>ast_ngram_terminal_n_5_score</th>\n",
       "      <th>ast_ngram_scoring_n_2_score</th>\n",
       "      <th>ast_ngram_scoring_n_3_score</th>\n",
       "      <th>ast_ngram_scoring_n_4_score</th>\n",
       "      <th>ast_ngram_scoring_n_5_score</th>\n",
       "    </tr>\n",
       "  </thead>\n",
       "  <tbody>\n",
       "    <tr>\n",
       "      <th>0</th>\n",
       "      <td>0</td>\n",
       "      <td>interactive-beta.pddl</td>\n",
       "      <td>6172feb1665491d1efbce164-0</td>\n",
       "      <td>medium-objects-room-v1</td>\n",
       "      <td>6172feb1665491d1efbce164-0</td>\n",
       "      <td>1</td>\n",
       "      <td>1</td>\n",
       "      <td>1</td>\n",
       "      <td>1</td>\n",
       "      <td>1.00</td>\n",
       "      <td>...</td>\n",
       "      <td>0.976714</td>\n",
       "      <td>0.984956</td>\n",
       "      <td>0.942266</td>\n",
       "      <td>0.970180</td>\n",
       "      <td>0.973574</td>\n",
       "      <td>0.978002</td>\n",
       "      <td>0.725160</td>\n",
       "      <td>0.761936</td>\n",
       "      <td>0.942521</td>\n",
       "      <td>0.975955</td>\n",
       "    </tr>\n",
       "    <tr>\n",
       "      <th>1</th>\n",
       "      <td>1</td>\n",
       "      <td>interactive-beta.pddl</td>\n",
       "      <td>5f77754ba932fb2c4ba181d8-2</td>\n",
       "      <td>many-objects-room-v1</td>\n",
       "      <td>5f77754ba932fb2c4ba181d8-2</td>\n",
       "      <td>1</td>\n",
       "      <td>1</td>\n",
       "      <td>1</td>\n",
       "      <td>1</td>\n",
       "      <td>1.00</td>\n",
       "      <td>...</td>\n",
       "      <td>0.986443</td>\n",
       "      <td>0.986721</td>\n",
       "      <td>0.935275</td>\n",
       "      <td>0.965656</td>\n",
       "      <td>0.967074</td>\n",
       "      <td>0.978883</td>\n",
       "      <td>0.670913</td>\n",
       "      <td>0.801850</td>\n",
       "      <td>0.870098</td>\n",
       "      <td>0.924083</td>\n",
       "    </tr>\n",
       "    <tr>\n",
       "      <th>2</th>\n",
       "      <td>2</td>\n",
       "      <td>interactive-beta.pddl</td>\n",
       "      <td>614b603d4da88384282967a7-3</td>\n",
       "      <td>many-objects-room-v1</td>\n",
       "      <td>614b603d4da88384282967a7-3</td>\n",
       "      <td>1</td>\n",
       "      <td>1</td>\n",
       "      <td>1</td>\n",
       "      <td>1</td>\n",
       "      <td>0.00</td>\n",
       "      <td>...</td>\n",
       "      <td>0.976849</td>\n",
       "      <td>0.981247</td>\n",
       "      <td>0.000000</td>\n",
       "      <td>0.000000</td>\n",
       "      <td>0.000000</td>\n",
       "      <td>0.000000</td>\n",
       "      <td>0.452633</td>\n",
       "      <td>0.593800</td>\n",
       "      <td>0.814709</td>\n",
       "      <td>0.883131</td>\n",
       "    </tr>\n",
       "    <tr>\n",
       "      <th>3</th>\n",
       "      <td>3</td>\n",
       "      <td>interactive-beta.pddl</td>\n",
       "      <td>5bc79f652885710001a0e82a-5</td>\n",
       "      <td>few-objects-room-v1</td>\n",
       "      <td>5bc79f652885710001a0e82a-5</td>\n",
       "      <td>1</td>\n",
       "      <td>1</td>\n",
       "      <td>1</td>\n",
       "      <td>1</td>\n",
       "      <td>0.00</td>\n",
       "      <td>...</td>\n",
       "      <td>0.986600</td>\n",
       "      <td>0.986476</td>\n",
       "      <td>0.000000</td>\n",
       "      <td>0.000000</td>\n",
       "      <td>0.000000</td>\n",
       "      <td>0.000000</td>\n",
       "      <td>0.725160</td>\n",
       "      <td>0.761936</td>\n",
       "      <td>0.942521</td>\n",
       "      <td>0.975955</td>\n",
       "    </tr>\n",
       "    <tr>\n",
       "      <th>4</th>\n",
       "      <td>4</td>\n",
       "      <td>interactive-beta.pddl</td>\n",
       "      <td>614dec67f6eb129c3a77defd-6</td>\n",
       "      <td>medium-objects-room-v1</td>\n",
       "      <td>614dec67f6eb129c3a77defd-6</td>\n",
       "      <td>1</td>\n",
       "      <td>1</td>\n",
       "      <td>1</td>\n",
       "      <td>1</td>\n",
       "      <td>0.25</td>\n",
       "      <td>...</td>\n",
       "      <td>0.985217</td>\n",
       "      <td>0.983768</td>\n",
       "      <td>0.000000</td>\n",
       "      <td>0.000000</td>\n",
       "      <td>0.000000</td>\n",
       "      <td>0.000000</td>\n",
       "      <td>0.937248</td>\n",
       "      <td>0.947704</td>\n",
       "      <td>0.933456</td>\n",
       "      <td>0.976437</td>\n",
       "    </tr>\n",
       "  </tbody>\n",
       "</table>\n",
       "<p>5 rows × 345 columns</p>\n",
       "</div>"
      ],
      "text/plain": [
       "   Index               src_file                   game_name  \\\n",
       "0      0  interactive-beta.pddl  6172feb1665491d1efbce164-0   \n",
       "1      1  interactive-beta.pddl  5f77754ba932fb2c4ba181d8-2   \n",
       "2      2  interactive-beta.pddl  614b603d4da88384282967a7-3   \n",
       "3      3  interactive-beta.pddl  5bc79f652885710001a0e82a-5   \n",
       "4      4  interactive-beta.pddl  614dec67f6eb129c3a77defd-6   \n",
       "\n",
       "              domain_name          original_game_name  real  \\\n",
       "0  medium-objects-room-v1  6172feb1665491d1efbce164-0     1   \n",
       "1    many-objects-room-v1  5f77754ba932fb2c4ba181d8-2     1   \n",
       "2    many-objects-room-v1  614b603d4da88384282967a7-3     1   \n",
       "3     few-objects-room-v1  5bc79f652885710001a0e82a-5     1   \n",
       "4  medium-objects-room-v1  614dec67f6eb129c3a77defd-6     1   \n",
       "\n",
       "   all_variables_defined  all_variables_used  all_preferences_used  \\\n",
       "0                      1                   1                     1   \n",
       "1                      1                   1                     1   \n",
       "2                      1                   1                     1   \n",
       "3                      1                   1                     1   \n",
       "4                      1                   1                     1   \n",
       "\n",
       "   setup_objects_used  ...  ast_ngram_constraints_n_6_score  \\\n",
       "0                1.00  ...                         0.976714   \n",
       "1                1.00  ...                         0.986443   \n",
       "2                0.00  ...                         0.976849   \n",
       "3                0.00  ...                         0.986600   \n",
       "4                0.25  ...                         0.985217   \n",
       "\n",
       "   ast_ngram_constraints_n_7_score  ast_ngram_terminal_n_2_score  \\\n",
       "0                         0.984956                      0.942266   \n",
       "1                         0.986721                      0.935275   \n",
       "2                         0.981247                      0.000000   \n",
       "3                         0.986476                      0.000000   \n",
       "4                         0.983768                      0.000000   \n",
       "\n",
       "   ast_ngram_terminal_n_3_score  ast_ngram_terminal_n_4_score  \\\n",
       "0                      0.970180                      0.973574   \n",
       "1                      0.965656                      0.967074   \n",
       "2                      0.000000                      0.000000   \n",
       "3                      0.000000                      0.000000   \n",
       "4                      0.000000                      0.000000   \n",
       "\n",
       "   ast_ngram_terminal_n_5_score  ast_ngram_scoring_n_2_score  \\\n",
       "0                      0.978002                     0.725160   \n",
       "1                      0.978883                     0.670913   \n",
       "2                      0.000000                     0.452633   \n",
       "3                      0.000000                     0.725160   \n",
       "4                      0.000000                     0.937248   \n",
       "\n",
       "   ast_ngram_scoring_n_3_score  ast_ngram_scoring_n_4_score  \\\n",
       "0                     0.761936                     0.942521   \n",
       "1                     0.801850                     0.870098   \n",
       "2                     0.593800                     0.814709   \n",
       "3                     0.761936                     0.942521   \n",
       "4                     0.947704                     0.933456   \n",
       "\n",
       "   ast_ngram_scoring_n_5_score  \n",
       "0                     0.975955  \n",
       "1                     0.924083  \n",
       "2                     0.883131  \n",
       "3                     0.975955  \n",
       "4                     0.976437  \n",
       "\n",
       "[5 rows x 345 columns]"
      ]
     },
     "execution_count": 4,
     "metadata": {},
     "output_type": "execute_result"
    }
   ],
   "source": [
    "fitness_df = utils.load_fitness_data('../data/fitness_features_1024_regrowths.csv.gz')\n",
    "print(fitness_df.src_file.unique())\n",
    "fitness_df.head()"
   ]
  },
  {
   "cell_type": "markdown",
   "metadata": {},
   "source": [
    "# Plan of attack\n",
    "* Use the code in `ast_counter_sampler.py` to generate a sample from the MLE\n",
    "* Score it with a fitness function adapted to working with a single example at a time\n",
    "* At each subsequent iteration, regrow the game from a random node, and score the regrowth\n",
    "* Since we have energy scores before and after, we can either accept greedily if $E_{new} < E_{old}$, or accept with probability $\\exp(\\beta (E_{old} - E_{new} ))$"
   ]
  },
  {
   "cell_type": "code",
   "execution_count": 5,
   "metadata": {},
   "outputs": [],
   "source": [
    "DEFAULT_ARGS = argparse.Namespace(\n",
    "    grammar_file=os.path.join('..', DEFAULT_GRAMMAR_FILE),\n",
    "    parse_counter=False,\n",
    "    counter_output_path=os.path.join('..', DEFAULT_COUNTER_OUTPUT_PATH),\n",
    "    random_seed=DEFUALT_RANDOM_SEED,\n",
    ")"
   ]
  },
  {
   "cell_type": "code",
   "execution_count": 6,
   "metadata": {},
   "outputs": [],
   "source": [
    "FITNESS_MODEL_DATE_ID = 'full_features_2023_03_29'\n",
    "FITNESS_FEATURIZER_PATH = '../models/fitness_featurizer_2023_03_29.pkl.gz'\n",
    "\n",
    "\n",
    "mcmc = MCMCRegrowthSampler(DEFAULT_ARGS,\n",
    "    FITNESS_MODEL_DATE_ID, FITNESS_FEATURIZER_PATH, greedy_acceptance=True, \n",
    "    plateau_patience_steps=1000, max_steps=20000,\n",
    "    relative_path='..')  #   acceptance_temperature=10.0, "
   ]
  },
  {
   "cell_type": "code",
   "execution_count": 7,
   "metadata": {},
   "outputs": [
    {
     "data": {
      "text/plain": [
       "980"
      ]
     },
     "execution_count": 7,
     "metadata": {},
     "output_type": "execute_result"
    }
   ],
   "source": [
    "mcmc = utils.load_data('2023_03_31', 'samples', 'mcmc_larger_features')\n",
    "len(mcmc.samples)"
   ]
  },
  {
   "cell_type": "code",
   "execution_count": 17,
   "metadata": {},
   "outputs": [
    {
     "name": "stdout",
     "output_type": "stream",
     "text": [
      "-0.45692035130092074 0.7415544446216207\n",
      "621 0.6336734693877552\n"
     ]
    },
    {
     "data": {
      "image/png": "[encoded data removed]",
      "text/plain": [
       "<Figure size 640x480 with 1 Axes>"
      ]
     },
     "metadata": {},
     "output_type": "display_data"
    }
   ],
   "source": [
    "energy_differences = np.array([sample[2] - sample[5] for sample in mcmc.samples])\n",
    "print(np.mean(energy_differences), np.std(energy_differences))\n",
    "n_changes = (energy_differences != 0).sum()\n",
    "print(n_changes, n_changes / len(energy_differences))\n",
    "plt.hist(energy_differences, bins=50)\n",
    "plt.title('Energy Differences')\n",
    "plt.show()"
   ]
  },
  {
   "cell_type": "code",
   "execution_count": 38,
   "metadata": {},
   "outputs": [
    {
     "data": {
      "image/png": "[encoded data removed]",
      "text/plain": [
       "<Figure size 640x480 with 1 Axes>"
      ]
     },
     "metadata": {},
     "output_type": "display_data"
    }
   ],
   "source": [
    "n_samples_per_game = 10\n",
    "energy_differences_by_game = energy_differences.reshape(-1, n_samples_per_game)\n",
    "number_of_changes_by_game = (energy_differences_by_game != 0).sum(axis=1)\n",
    "plt.hist(number_of_changes_by_game, bins=10)\n",
    "plt.title('Number of Samples with Energy Difference by Game')\n",
    "plt.show()"
   ]
  },
  {
   "cell_type": "code",
   "execution_count": 40,
   "metadata": {},
   "outputs": [
    {
     "data": {
      "image/png": "[encoded data removed]",
      "text/plain": [
       "<Figure size 640x480 with 1 Axes>"
      ]
     },
     "metadata": {},
     "output_type": "display_data"
    }
   ],
   "source": [
    "unique_differences_by_game = np.sort(energy_differences_by_game, axis=1)\n",
    "unique_differences_by_game = (unique_differences_by_game[:,1:] != unique_differences_by_game[:,:-1]).sum(axis=1)+1\n",
    "# unique_differences_by_game[number_of_changes_by_game > 0]\n",
    "plt.hist(unique_differences_by_game, bins=10)\n",
    "plt.title('Number of Unique Energy Differences by Game')\n",
    "plt.show()"
   ]
  },
  {
   "cell_type": "code",
   "execution_count": 54,
   "metadata": {},
   "outputs": [
    {
     "data": {
      "text/plain": [
       "array([ 0,  2,  7,  8, 11, 21, 23, 26, 30, 31, 37, 42, 43, 45, 48, 55, 68,\n",
       "       71, 72, 88, 90])"
      ]
     },
     "execution_count": 54,
     "metadata": {},
     "output_type": "execute_result"
    }
   ],
   "source": [
    "np.argwhere((energy_differences_by_game == 0).sum(axis=1) == 10).squeeze()"
   ]
  },
  {
   "cell_type": "code",
   "execution_count": 42,
   "metadata": {},
   "outputs": [
    {
     "data": {
      "text/plain": [
       "{29, 41, 46, 47, 93}"
      ]
     },
     "execution_count": 42,
     "metadata": {},
     "output_type": "execute_result"
    }
   ],
   "source": [
    "set(np.argwhere(unique_differences_by_game == 1).squeeze()) - set(np.argwhere((energy_differences_by_game == 0).sum(axis=1) == 10).squeeze())"
   ]
  },
  {
   "cell_type": "code",
   "execution_count": 170,
   "metadata": {},
   "outputs": [
    {
     "data": {
      "text/plain": [
       "array([467, 549, 548, 547, 546, 544, 542, 545, 254, 732, 322, 325, 327,\n",
       "       328, 274, 272, 122,  51,  56,  58])"
      ]
     },
     "execution_count": 170,
     "metadata": {},
     "output_type": "execute_result"
    }
   ],
   "source": [
    "start_index = -440\n",
    "n_indices = 20\n",
    "energy_differences.argsort()[start_index:start_index + n_indices]"
   ]
  },
  {
   "cell_type": "code",
   "execution_count": 177,
   "metadata": {},
   "outputs": [
    {
     "data": {
      "text/markdown": [
       "### Energy of real game: -68.050 | Energy of regrown game: -68.122 | Difference: -0.072"
      ],
      "text/plain": [
       "<IPython.core.display.Markdown object>"
      ]
     },
     "metadata": {},
     "output_type": "display_data"
    },
    {
     "data": {
      "text/markdown": [
       "### Top features changing the game's energy\n",
       "feature name: **value** = (original feature value => regrown feature value) * weight"
      ],
      "text/plain": [
       "<IPython.core.display.Markdown object>"
      ]
     },
     "metadata": {},
     "output_type": "display_data"
    },
    {
     "data": {
      "text/markdown": [
       "| Features increasing energy (= more fake)                                                 | Features decreasing energy (= more real)                             |\n",
       "|------------------------------------------------------------------------------------------|----------------------------------------------------------------------|\n",
       "| adjacent_arg_types_agent_room_features_constraints: **0.117** = (0.000 => 1.000) * 0.117 | compositionality_structure_4: **-0.382** = (0.000 => 1.000) * -0.382 |\n",
       "| ast_ngram_full_n_7_score: **0.099** = (0.976 => 0.973) * -29.594                         |                                                                      |\n",
       "| ast_ngram_constraints_n_7_score: **0.094** = (0.990 => 0.986) * -20.734                  |                                                                      |"
      ],
      "text/plain": [
       "<IPython.core.display.Markdown object>"
      ]
     },
     "metadata": {},
     "output_type": "display_data"
    },
    {
     "data": {
      "text/markdown": [
       "### Game Diffs"
      ],
      "text/plain": [
       "<IPython.core.display.Markdown object>"
      ]
     },
     "metadata": {},
     "output_type": "display_data"
    },
    {
     "data": {
      "text/html": [
       "\n",
       "<!DOCTYPE html PUBLIC \"-//W3C//DTD XHTML 1.0 Transitional//EN\"\n",
       "          \"http://www.w3.org/TR/xhtml1/DTD/xhtml1-transitional.dtd\">\n",
       "\n",
       "<html>\n",
       "\n",
       "<head>\n",
       "    <meta http-equiv=\"Content-Type\"\n",
       "          content=\"text/html; charset=utf-8\" />\n",
       "    <title></title>\n",
       "    <style type=\"text/css\">\n",
       "        table.diff {font-family:Courier; border:medium;}\n",
       "        .diff_header {background-color:#e0e0e0}\n",
       "        .diff td {text-align: left !important}\n",
       ".diff th {text-align: center!important }\n",
       ".diff td.diff_header {text-align:right !important}\n",
       "        .diff_next {background-color:#c0c0c0}\n",
       "        .diff_add {background-color: #6fa66f !important; font-weight: bold !important}\n",
       "        .diff_chg {background-color: #999949 !important; font-weight: bold !important}\n",
       "        .diff_sub {background-color: #a66f6f !important; font-weight: bold !important}\n",
       "    </style>\n",
       "</head>\n",
       "\n",
       "<body>\n",
       "    \n",
       "    <table class=\"diff\" id=\"difflib_chg_to99__top\"\n",
       "           cellspacing=\"0\" cellpadding=\"0\" rules=\"groups\" >\n",
       "        <colgroup></colgroup> <colgroup></colgroup> <colgroup></colgroup>\n",
       "        <colgroup></colgroup> <colgroup></colgroup> <colgroup></colgroup>\n",
       "        \n",
       "        <tbody>\n",
       "            <tr><td class=\"diff_next\"><a href=\"#difflib_chg_to99__0\">f</a></td><td class=\"diff_header\" id=\"from99_1\">1</td><td nowrap=\"nowrap\">(define&nbsp;(game&nbsp;61272733b6c8fe076880e02c-85)&nbsp;(:domain&nbsp;few-objects-room-v1)</td><td class=\"diff_next\"><a href=\"#difflib_chg_to99__0\">f</a></td><td class=\"diff_header\" id=\"to99_1\">1</td><td nowrap=\"nowrap\">(define&nbsp;(game&nbsp;61272733b6c8fe076880e02c-85)&nbsp;(:domain&nbsp;few-objects-room-v1)</td></tr>\n",
       "            <tr><td class=\"diff_next\"></td><td class=\"diff_header\" id=\"from99_2\">2</td><td nowrap=\"nowrap\">(:constraints</td><td class=\"diff_next\"></td><td class=\"diff_header\" id=\"to99_2\">2</td><td nowrap=\"nowrap\">(:constraints</td></tr>\n",
       "            <tr><td class=\"diff_next\"></td><td class=\"diff_header\" id=\"from99_3\">3</td><td nowrap=\"nowrap\">&nbsp;&nbsp;(and</td><td class=\"diff_next\"></td><td class=\"diff_header\" id=\"to99_3\">3</td><td nowrap=\"nowrap\">&nbsp;&nbsp;(and</td></tr>\n",
       "            <tr><td class=\"diff_next\"></td><td class=\"diff_header\" id=\"from99_4\">4</td><td nowrap=\"nowrap\">&nbsp;&nbsp;&nbsp;&nbsp;(forall&nbsp;(?c&nbsp;-&nbsp;color)</td><td class=\"diff_next\"></td><td class=\"diff_header\" id=\"to99_4\">4</td><td nowrap=\"nowrap\">&nbsp;&nbsp;&nbsp;&nbsp;(forall&nbsp;(?c&nbsp;-&nbsp;color)</td></tr>\n",
       "            <tr><td class=\"diff_next\"></td><td class=\"diff_header\" id=\"from99_5\">5</td><td nowrap=\"nowrap\">&nbsp;&nbsp;&nbsp;&nbsp;&nbsp;&nbsp;(and</td><td class=\"diff_next\"></td><td class=\"diff_header\" id=\"to99_5\">5</td><td nowrap=\"nowrap\">&nbsp;&nbsp;&nbsp;&nbsp;&nbsp;&nbsp;(and</td></tr>\n",
       "            <tr><td class=\"diff_next\"></td><td class=\"diff_header\" id=\"from99_6\">6</td><td nowrap=\"nowrap\">&nbsp;&nbsp;&nbsp;&nbsp;&nbsp;&nbsp;&nbsp;&nbsp;(preference&nbsp;cubeThrownToBin</td><td class=\"diff_next\"></td><td class=\"diff_header\" id=\"to99_6\">6</td><td nowrap=\"nowrap\">&nbsp;&nbsp;&nbsp;&nbsp;&nbsp;&nbsp;&nbsp;&nbsp;(preference&nbsp;cubeThrownToBin</td></tr>\n",
       "            <tr><td class=\"diff_next\"></td><td class=\"diff_header\" id=\"from99_7\">7</td><td nowrap=\"nowrap\">&nbsp;&nbsp;&nbsp;&nbsp;&nbsp;&nbsp;&nbsp;&nbsp;&nbsp;&nbsp;(exists&nbsp;(?h&nbsp;-&nbsp;hexagonal_bin&nbsp;?b&nbsp;-&nbsp;cube_block)</td><td class=\"diff_next\"></td><td class=\"diff_header\" id=\"to99_7\">7</td><td nowrap=\"nowrap\">&nbsp;&nbsp;&nbsp;&nbsp;&nbsp;&nbsp;&nbsp;&nbsp;&nbsp;&nbsp;(exists&nbsp;(?h&nbsp;-&nbsp;hexagonal_bin&nbsp;?b&nbsp;-&nbsp;cube_block)</td></tr>\n",
       "            <tr><td class=\"diff_next\"></td><td class=\"diff_header\" id=\"from99_8\">8</td><td nowrap=\"nowrap\">&nbsp;&nbsp;&nbsp;&nbsp;&nbsp;&nbsp;&nbsp;&nbsp;&nbsp;&nbsp;&nbsp;&nbsp;(then</td><td class=\"diff_next\"></td><td class=\"diff_header\" id=\"to99_8\">8</td><td nowrap=\"nowrap\">&nbsp;&nbsp;&nbsp;&nbsp;&nbsp;&nbsp;&nbsp;&nbsp;&nbsp;&nbsp;&nbsp;&nbsp;(then</td></tr>\n",
       "            <tr><td class=\"diff_next\"></td><td class=\"diff_header\" id=\"from99_9\">9</td><td nowrap=\"nowrap\">&nbsp;&nbsp;&nbsp;&nbsp;&nbsp;&nbsp;&nbsp;&nbsp;&nbsp;&nbsp;&nbsp;&nbsp;&nbsp;&nbsp;(once&nbsp;(and&nbsp;(agent_holds&nbsp;?b)&nbsp;(rug_color_under&nbsp;agent&nbsp;pink)&nbsp;(same_color&nbsp;?b&nbsp;?c)&nbsp;(not&nbsp;(exis</td><td class=\"diff_next\"></td><td class=\"diff_header\" id=\"to99_9\">9</td><td nowrap=\"nowrap\">&nbsp;&nbsp;&nbsp;&nbsp;&nbsp;&nbsp;&nbsp;&nbsp;&nbsp;&nbsp;&nbsp;&nbsp;&nbsp;&nbsp;(once&nbsp;(and&nbsp;(agent_holds&nbsp;?b)&nbsp;(rug_color_under&nbsp;agent&nbsp;pink)&nbsp;(same_color&nbsp;?b&nbsp;?c)&nbsp;(not&nbsp;(exis</td></tr>\n",
       "            <tr><td class=\"diff_next\"></td><td class=\"diff_header\">></td><td nowrap=\"nowrap\">ts&nbsp;(?ob&nbsp;-&nbsp;cube_block)&nbsp;(in&nbsp;?h&nbsp;?ob)&nbsp;)&nbsp;)&nbsp;)&nbsp;)</td><td class=\"diff_next\"></td><td class=\"diff_header\">></td><td nowrap=\"nowrap\">ts&nbsp;(?ob&nbsp;-&nbsp;cube_block)&nbsp;(in&nbsp;?h&nbsp;?ob)&nbsp;)&nbsp;)&nbsp;)&nbsp;)</td></tr>\n",
       "            <tr><td class=\"diff_next\"></td><td class=\"diff_header\" id=\"from99_10\">10</td><td nowrap=\"nowrap\">&nbsp;&nbsp;&nbsp;&nbsp;&nbsp;&nbsp;&nbsp;&nbsp;&nbsp;&nbsp;&nbsp;&nbsp;&nbsp;&nbsp;(hold&nbsp;(and&nbsp;(in_motion&nbsp;?b)&nbsp;(not&nbsp;(agent_holds&nbsp;?b)&nbsp;)&nbsp;)&nbsp;)</td><td class=\"diff_next\"></td><td class=\"diff_header\" id=\"to99_10\">10</td><td nowrap=\"nowrap\">&nbsp;&nbsp;&nbsp;&nbsp;&nbsp;&nbsp;&nbsp;&nbsp;&nbsp;&nbsp;&nbsp;&nbsp;&nbsp;&nbsp;(hold&nbsp;(and&nbsp;(in_motion&nbsp;?b)&nbsp;(not&nbsp;(agent_holds&nbsp;?b)&nbsp;)&nbsp;)&nbsp;)</td></tr>\n",
       "            <tr><td class=\"diff_next\"></td><td class=\"diff_header\" id=\"from99_11\">11</td><td nowrap=\"nowrap\">&nbsp;&nbsp;&nbsp;&nbsp;&nbsp;&nbsp;&nbsp;&nbsp;&nbsp;&nbsp;&nbsp;&nbsp;&nbsp;&nbsp;(once&nbsp;(and&nbsp;(not&nbsp;(in_motion&nbsp;?b)&nbsp;)&nbsp;(in&nbsp;?h&nbsp;?b)&nbsp;)&nbsp;)</td><td class=\"diff_next\"></td><td class=\"diff_header\" id=\"to99_11\">11</td><td nowrap=\"nowrap\">&nbsp;&nbsp;&nbsp;&nbsp;&nbsp;&nbsp;&nbsp;&nbsp;&nbsp;&nbsp;&nbsp;&nbsp;&nbsp;&nbsp;(once&nbsp;(and&nbsp;(not&nbsp;(in_motion&nbsp;?b)&nbsp;)&nbsp;(in&nbsp;?h&nbsp;?b)&nbsp;)&nbsp;)</td></tr>\n",
       "            <tr><td class=\"diff_next\"></td><td class=\"diff_header\" id=\"from99_12\">12</td><td nowrap=\"nowrap\">&nbsp;&nbsp;&nbsp;&nbsp;&nbsp;&nbsp;&nbsp;&nbsp;&nbsp;&nbsp;&nbsp;&nbsp;)</td><td class=\"diff_next\"></td><td class=\"diff_header\" id=\"to99_12\">12</td><td nowrap=\"nowrap\">&nbsp;&nbsp;&nbsp;&nbsp;&nbsp;&nbsp;&nbsp;&nbsp;&nbsp;&nbsp;&nbsp;&nbsp;)</td></tr>\n",
       "            <tr><td class=\"diff_next\"></td><td class=\"diff_header\" id=\"from99_13\">13</td><td nowrap=\"nowrap\">&nbsp;&nbsp;&nbsp;&nbsp;&nbsp;&nbsp;&nbsp;&nbsp;&nbsp;&nbsp;)</td><td class=\"diff_next\"></td><td class=\"diff_header\" id=\"to99_13\">13</td><td nowrap=\"nowrap\">&nbsp;&nbsp;&nbsp;&nbsp;&nbsp;&nbsp;&nbsp;&nbsp;&nbsp;&nbsp;)</td></tr>\n",
       "            <tr><td class=\"diff_next\"></td><td class=\"diff_header\" id=\"from99_14\">14</td><td nowrap=\"nowrap\">&nbsp;&nbsp;&nbsp;&nbsp;&nbsp;&nbsp;&nbsp;&nbsp;)</td><td class=\"diff_next\"></td><td class=\"diff_header\" id=\"to99_14\">14</td><td nowrap=\"nowrap\">&nbsp;&nbsp;&nbsp;&nbsp;&nbsp;&nbsp;&nbsp;&nbsp;)</td></tr>\n",
       "            <tr><td class=\"diff_next\"></td><td class=\"diff_header\" id=\"from99_15\">15</td><td nowrap=\"nowrap\">&nbsp;&nbsp;&nbsp;&nbsp;&nbsp;&nbsp;)</td><td class=\"diff_next\"></td><td class=\"diff_header\" id=\"to99_15\">15</td><td nowrap=\"nowrap\">&nbsp;&nbsp;&nbsp;&nbsp;&nbsp;&nbsp;)</td></tr>\n",
       "            <tr><td class=\"diff_next\" id=\"difflib_chg_to99__0\"></td><td class=\"diff_header\" id=\"from99_16\">16</td><td nowrap=\"nowrap\">&nbsp;&nbsp;&nbsp;&nbsp;)</td><td class=\"diff_next\"></td><td class=\"diff_header\" id=\"to99_16\">16</td><td nowrap=\"nowrap\">&nbsp;&nbsp;&nbsp;&nbsp;)</td></tr>\n",
       "            <tr><td class=\"diff_next\"></td><td class=\"diff_header\" id=\"from99_17\">17</td><td nowrap=\"nowrap\">&nbsp;&nbsp;&nbsp;&nbsp;(forall&nbsp;(?b&nbsp;-&nbsp;cube_block)</td><td class=\"diff_next\"></td><td class=\"diff_header\" id=\"to99_17\">17</td><td nowrap=\"nowrap\">&nbsp;&nbsp;&nbsp;&nbsp;(forall&nbsp;(?b&nbsp;-&nbsp;cube_block)</td></tr>\n",
       "            <tr><td class=\"diff_next\"></td><td class=\"diff_header\" id=\"from99_18\">18</td><td nowrap=\"nowrap\">&nbsp;&nbsp;&nbsp;&nbsp;&nbsp;&nbsp;(and</td><td class=\"diff_next\"></td><td class=\"diff_header\" id=\"to99_18\">18</td><td nowrap=\"nowrap\">&nbsp;&nbsp;&nbsp;&nbsp;&nbsp;&nbsp;(and</td></tr>\n",
       "            <tr><td class=\"diff_next\"></td><td class=\"diff_header\" id=\"from99_19\">19</td><td nowrap=\"nowrap\">&nbsp;&nbsp;&nbsp;&nbsp;&nbsp;&nbsp;&nbsp;&nbsp;(preference&nbsp;throwAttempt</td><td class=\"diff_next\"></td><td class=\"diff_header\" id=\"to99_19\">19</td><td nowrap=\"nowrap\">&nbsp;&nbsp;&nbsp;&nbsp;&nbsp;&nbsp;&nbsp;&nbsp;(preference&nbsp;throwAttempt</td></tr>\n",
       "            <tr><td class=\"diff_next\"></td><td class=\"diff_header\" id=\"from99_20\">20</td><td nowrap=\"nowrap\">&nbsp;&nbsp;&nbsp;&nbsp;&nbsp;&nbsp;&nbsp;&nbsp;&nbsp;&nbsp;(then</td><td class=\"diff_next\"></td><td class=\"diff_header\" id=\"to99_20\">20</td><td nowrap=\"nowrap\">&nbsp;&nbsp;&nbsp;&nbsp;&nbsp;&nbsp;&nbsp;&nbsp;&nbsp;&nbsp;(then</td></tr>\n",
       "            <tr><td class=\"diff_next\"><a href=\"#difflib_chg_to99__1\">n</a></td><td class=\"diff_header\" id=\"from99_21\">21</td><td nowrap=\"nowrap\">&nbsp;&nbsp;&nbsp;&nbsp;&nbsp;&nbsp;&nbsp;&nbsp;&nbsp;&nbsp;&nbsp;&nbsp;(once&nbsp;(and&nbsp;(agent_holds&nbsp;?b)&nbsp;(r<span class=\"diff_chg\">ug</span>_c<span class=\"diff_chg\">olor_u</span>n<span class=\"diff_chg\">d</span>er&nbsp;agent<span class=\"diff_sub\">&nbsp;pink</span>)&nbsp;)&nbsp;)</td><td class=\"diff_next\"><a href=\"#difflib_chg_to99__1\">n</a></td><td class=\"diff_header\" id=\"to99_21\">21</td><td nowrap=\"nowrap\">&nbsp;&nbsp;&nbsp;&nbsp;&nbsp;&nbsp;&nbsp;&nbsp;&nbsp;&nbsp;&nbsp;&nbsp;(once&nbsp;(and&nbsp;(agent_holds&nbsp;?b)&nbsp;(<span class=\"diff_add\">adjacent&nbsp;</span>r<span class=\"diff_chg\">oom</span>_c<span class=\"diff_chg\">e</span>n<span class=\"diff_chg\">t</span>er&nbsp;agent)&nbsp;)&nbsp;)</td></tr>\n",
       "            <tr><td class=\"diff_next\"></td><td class=\"diff_header\" id=\"from99_22\">22</td><td nowrap=\"nowrap\">&nbsp;&nbsp;&nbsp;&nbsp;&nbsp;&nbsp;&nbsp;&nbsp;&nbsp;&nbsp;&nbsp;&nbsp;(hold&nbsp;(and&nbsp;(in_motion&nbsp;?b)&nbsp;(not&nbsp;(agent_holds&nbsp;?b)&nbsp;)&nbsp;)&nbsp;)</td><td class=\"diff_next\"></td><td class=\"diff_header\" id=\"to99_22\">22</td><td nowrap=\"nowrap\">&nbsp;&nbsp;&nbsp;&nbsp;&nbsp;&nbsp;&nbsp;&nbsp;&nbsp;&nbsp;&nbsp;&nbsp;(hold&nbsp;(and&nbsp;(in_motion&nbsp;?b)&nbsp;(not&nbsp;(agent_holds&nbsp;?b)&nbsp;)&nbsp;)&nbsp;)</td></tr>\n",
       "            <tr><td class=\"diff_next\"></td><td class=\"diff_header\" id=\"from99_23\">23</td><td nowrap=\"nowrap\">&nbsp;&nbsp;&nbsp;&nbsp;&nbsp;&nbsp;&nbsp;&nbsp;&nbsp;&nbsp;&nbsp;&nbsp;(once&nbsp;(not&nbsp;(in_motion&nbsp;?b)&nbsp;)&nbsp;)</td><td class=\"diff_next\"></td><td class=\"diff_header\" id=\"to99_23\">23</td><td nowrap=\"nowrap\">&nbsp;&nbsp;&nbsp;&nbsp;&nbsp;&nbsp;&nbsp;&nbsp;&nbsp;&nbsp;&nbsp;&nbsp;(once&nbsp;(not&nbsp;(in_motion&nbsp;?b)&nbsp;)&nbsp;)</td></tr>\n",
       "            <tr><td class=\"diff_next\"></td><td class=\"diff_header\" id=\"from99_24\">24</td><td nowrap=\"nowrap\">&nbsp;&nbsp;&nbsp;&nbsp;&nbsp;&nbsp;&nbsp;&nbsp;&nbsp;&nbsp;)</td><td class=\"diff_next\"></td><td class=\"diff_header\" id=\"to99_24\">24</td><td nowrap=\"nowrap\">&nbsp;&nbsp;&nbsp;&nbsp;&nbsp;&nbsp;&nbsp;&nbsp;&nbsp;&nbsp;)</td></tr>\n",
       "            <tr><td class=\"diff_next\"></td><td class=\"diff_header\" id=\"from99_25\">25</td><td nowrap=\"nowrap\">&nbsp;&nbsp;&nbsp;&nbsp;&nbsp;&nbsp;&nbsp;&nbsp;)</td><td class=\"diff_next\"></td><td class=\"diff_header\" id=\"to99_25\">25</td><td nowrap=\"nowrap\">&nbsp;&nbsp;&nbsp;&nbsp;&nbsp;&nbsp;&nbsp;&nbsp;)</td></tr>\n",
       "            <tr><td class=\"diff_next\"></td><td class=\"diff_header\" id=\"from99_26\">26</td><td nowrap=\"nowrap\">&nbsp;&nbsp;&nbsp;&nbsp;&nbsp;&nbsp;)</td><td class=\"diff_next\"></td><td class=\"diff_header\" id=\"to99_26\">26</td><td nowrap=\"nowrap\">&nbsp;&nbsp;&nbsp;&nbsp;&nbsp;&nbsp;)</td></tr>\n",
       "            <tr><td class=\"diff_next\"></td><td class=\"diff_header\" id=\"from99_27\">27</td><td nowrap=\"nowrap\">&nbsp;&nbsp;&nbsp;&nbsp;)</td><td class=\"diff_next\"></td><td class=\"diff_header\" id=\"to99_27\">27</td><td nowrap=\"nowrap\">&nbsp;&nbsp;&nbsp;&nbsp;)</td></tr>\n",
       "            <tr><td class=\"diff_next\"></td><td class=\"diff_header\" id=\"from99_28\">28</td><td nowrap=\"nowrap\">&nbsp;&nbsp;)</td><td class=\"diff_next\"></td><td class=\"diff_header\" id=\"to99_28\">28</td><td nowrap=\"nowrap\">&nbsp;&nbsp;)</td></tr>\n",
       "            <tr><td class=\"diff_next\"></td><td class=\"diff_header\" id=\"from99_29\">29</td><td nowrap=\"nowrap\">)</td><td class=\"diff_next\"></td><td class=\"diff_header\" id=\"to99_29\">29</td><td nowrap=\"nowrap\">)</td></tr>\n",
       "            <tr><td class=\"diff_next\"></td><td class=\"diff_header\" id=\"from99_30\">30</td><td nowrap=\"nowrap\">(:terminal</td><td class=\"diff_next\"></td><td class=\"diff_header\" id=\"to99_30\">30</td><td nowrap=\"nowrap\">(:terminal</td></tr>\n",
       "            <tr><td class=\"diff_next\"></td><td class=\"diff_header\" id=\"from99_31\">31</td><td nowrap=\"nowrap\">&nbsp;&nbsp;(or</td><td class=\"diff_next\"></td><td class=\"diff_header\" id=\"to99_31\">31</td><td nowrap=\"nowrap\">&nbsp;&nbsp;(or</td></tr>\n",
       "            <tr><td class=\"diff_next\" id=\"difflib_chg_to99__1\"></td><td class=\"diff_header\" id=\"from99_32\">32</td><td nowrap=\"nowrap\">&nbsp;&nbsp;&nbsp;&nbsp;(&gt;&nbsp;(external-forall-maximize&nbsp;(count&nbsp;throwAttempt)&nbsp;)&nbsp;1&nbsp;)</td><td class=\"diff_next\"></td><td class=\"diff_header\" id=\"to99_32\">32</td><td nowrap=\"nowrap\">&nbsp;&nbsp;&nbsp;&nbsp;(&gt;&nbsp;(external-forall-maximize&nbsp;(count&nbsp;throwAttempt)&nbsp;)&nbsp;1&nbsp;)</td></tr>\n",
       "            <tr><td class=\"diff_next\"></td><td class=\"diff_header\" id=\"from99_33\">33</td><td nowrap=\"nowrap\">&nbsp;&nbsp;&nbsp;&nbsp;(&gt;=&nbsp;(count-once-per-objects&nbsp;throwAttempt)&nbsp;6&nbsp;)</td><td class=\"diff_next\"></td><td class=\"diff_header\" id=\"to99_33\">33</td><td nowrap=\"nowrap\">&nbsp;&nbsp;&nbsp;&nbsp;(&gt;=&nbsp;(count-once-per-objects&nbsp;throwAttempt)&nbsp;6&nbsp;)</td></tr>\n",
       "            <tr><td class=\"diff_next\"></td><td class=\"diff_header\" id=\"from99_34\">34</td><td nowrap=\"nowrap\">&nbsp;&nbsp;)</td><td class=\"diff_next\"></td><td class=\"diff_header\" id=\"to99_34\">34</td><td nowrap=\"nowrap\">&nbsp;&nbsp;)</td></tr>\n",
       "            <tr><td class=\"diff_next\"></td><td class=\"diff_header\" id=\"from99_35\">35</td><td nowrap=\"nowrap\">)</td><td class=\"diff_next\"></td><td class=\"diff_header\" id=\"to99_35\">35</td><td nowrap=\"nowrap\">)</td></tr>\n",
       "            <tr><td class=\"diff_next\"></td><td class=\"diff_header\" id=\"from99_36\">36</td><td nowrap=\"nowrap\">(:scoring</td><td class=\"diff_next\"></td><td class=\"diff_header\" id=\"to99_36\">36</td><td nowrap=\"nowrap\">(:scoring</td></tr>\n",
       "            <tr><td class=\"diff_next\"><a href=\"#difflib_chg_to99__top\">t</a></td><td class=\"diff_header\" id=\"from99_37\">37</td><td nowrap=\"nowrap\">&nbsp;&nbsp;(+&nbsp;(count-once-per-objects&nbsp;cubeThrownToBin:yellow)&nbsp;(*&nbsp;2&nbsp;(count<span class=\"diff_sub\">-once-per-objects</span>&nbsp;cubeThrownToBin:<span class=\"diff_chg\">ta</span></td><td class=\"diff_next\"><a href=\"#difflib_chg_to99__top\">t</a></td><td class=\"diff_header\" id=\"to99_37\">37</td><td nowrap=\"nowrap\">&nbsp;&nbsp;(+&nbsp;(count-once-per-objects&nbsp;cubeThrownToBin:yellow)&nbsp;(*&nbsp;2&nbsp;(count&nbsp;cubeThrownToBin:<span class=\"diff_chg\">gree</span>n)&nbsp;)</td></tr>\n",
       "            <tr><td class=\"diff_next\"></td><td class=\"diff_header\">></td><td nowrap=\"nowrap\"><span class=\"diff_chg\"></span>n)&nbsp;)</td><td class=\"diff_next\"></td><td class=\"diff_header\"></td><td nowrap=\"nowrap\">&nbsp;</td></tr>\n",
       "            <tr><td class=\"diff_next\"></td><td class=\"diff_header\" id=\"from99_38\">38</td><td nowrap=\"nowrap\">&nbsp;&nbsp;&nbsp;&nbsp;(*&nbsp;3&nbsp;(count-once-per-objects&nbsp;cubeThrownToBin:blue)&nbsp;)</td><td class=\"diff_next\"></td><td class=\"diff_header\" id=\"to99_38\">38</td><td nowrap=\"nowrap\">&nbsp;&nbsp;&nbsp;&nbsp;(*&nbsp;3&nbsp;(count-once-per-objects&nbsp;cubeThrownToBin:blue)&nbsp;)</td></tr>\n",
       "            <tr><td class=\"diff_next\"></td><td class=\"diff_header\" id=\"from99_39\">39</td><td nowrap=\"nowrap\">&nbsp;&nbsp;&nbsp;&nbsp;(-&nbsp;(count-once-per-objects&nbsp;throwAttempt)&nbsp;)</td><td class=\"diff_next\"></td><td class=\"diff_header\" id=\"to99_39\">39</td><td nowrap=\"nowrap\">&nbsp;&nbsp;&nbsp;&nbsp;(-&nbsp;(count-once-per-objects&nbsp;throwAttempt)&nbsp;)</td></tr>\n",
       "            <tr><td class=\"diff_next\"></td><td class=\"diff_header\" id=\"from99_40\">40</td><td nowrap=\"nowrap\">&nbsp;&nbsp;)</td><td class=\"diff_next\"></td><td class=\"diff_header\" id=\"to99_40\">40</td><td nowrap=\"nowrap\">&nbsp;&nbsp;)</td></tr>\n",
       "            <tr><td class=\"diff_next\"></td><td class=\"diff_header\" id=\"from99_41\">41</td><td nowrap=\"nowrap\">)</td><td class=\"diff_next\"></td><td class=\"diff_header\" id=\"to99_41\">41</td><td nowrap=\"nowrap\">)</td></tr>\n",
       "            <tr><td class=\"diff_next\"></td><td class=\"diff_header\" id=\"from99_42\">42</td><td nowrap=\"nowrap\">)</td><td class=\"diff_next\"></td><td class=\"diff_header\" id=\"to99_42\">42</td><td nowrap=\"nowrap\">)</td></tr>\n",
       "        </tbody>\n",
       "    </table>\n",
       "    <table class=\"diff\" summary=\"Legends\">\n",
       "        <tr> <th colspan=\"2\"> Legends </th> </tr>\n",
       "        <tr> <td> <table border=\"\" summary=\"Colors\">\n",
       "                      <tr><th> Colors </th> </tr>\n",
       "                      <tr><td class=\"diff_add\">&nbsp;Added&nbsp;</td></tr>\n",
       "                      <tr><td class=\"diff_chg\">Changed</td> </tr>\n",
       "                      <tr><td class=\"diff_sub\">Deleted</td> </tr>\n",
       "                  </table></td>\n",
       "             <td> <table border=\"\" summary=\"Links\">\n",
       "                      <tr><th colspan=\"2\"> Links </th> </tr>\n",
       "                      <tr><td>(f)irst change</td> </tr>\n",
       "                      <tr><td>(n)ext change</td> </tr>\n",
       "                      <tr><td>(t)op</td> </tr>\n",
       "                  </table></td> </tr>\n",
       "    </table>\n",
       "</body>\n",
       "\n",
       "</html>"
      ],
      "text/plain": [
       "<IPython.core.display.HTML object>"
      ]
     },
     "metadata": {},
     "output_type": "display_data"
    },
    {
     "data": {
      "text/markdown": [
       "### Feature Diffs"
      ],
      "text/plain": [
       "<IPython.core.display.Markdown object>"
      ]
     },
     "metadata": {},
     "output_type": "display_data"
    },
    {
     "name": "stdout",
     "output_type": "stream",
     "text": [
      "ast_ngram_constraints_n_7_score: -0.005 (0.990 => 0.986)\n",
      "ast_ngram_full_n_7_score: -0.003 (0.976 => 0.973)\n",
      "adjacent_arg_types_agent_room_features_constraints: 1.000 (0.000 => 1.000)\n",
      "compositionality_structure_4: 1.000 (0.000 => 1.000)\n"
     ]
    }
   ],
   "source": [
    "mcmc.visualize_sample(732)"
   ]
  },
  {
   "cell_type": "code",
   "execution_count": null,
   "metadata": {},
   "outputs": [],
   "source": []
  },
  {
   "cell_type": "code",
   "execution_count": null,
   "metadata": {},
   "outputs": [],
   "source": []
  },
  {
   "cell_type": "code",
   "execution_count": 91,
   "metadata": {},
   "outputs": [
    {
     "data": {
      "text/plain": [
       "real\n",
       "0    0.086107\n",
       "1    0.051020\n",
       "Name: in_arg_types_other_constraints, dtype: float64"
      ]
     },
     "execution_count": 91,
     "metadata": {},
     "output_type": "execute_result"
    }
   ],
   "source": [
    "m = fitness_df.groupby('real').in_arg_types_other_constraints.mean()\n",
    "m\n",
    "# m.loc[1] - m.loc[0]"
   ]
  },
  {
   "cell_type": "code",
   "execution_count": 92,
   "metadata": {},
   "outputs": [
    {
     "data": {
      "text/html": [
       "<div>\n",
       "<style scoped>\n",
       "    .dataframe tbody tr th:only-of-type {\n",
       "        vertical-align: middle;\n",
       "    }\n",
       "\n",
       "    .dataframe tbody tr th {\n",
       "        vertical-align: top;\n",
       "    }\n",
       "\n",
       "    .dataframe thead th {\n",
       "        text-align: right;\n",
       "    }\n",
       "</style>\n",
       "<table border=\"1\" class=\"dataframe\">\n",
       "  <thead>\n",
       "    <tr style=\"text-align: right;\">\n",
       "      <th></th>\n",
       "      <th>Index</th>\n",
       "      <th>src_file</th>\n",
       "      <th>game_name</th>\n",
       "      <th>domain_name</th>\n",
       "      <th>original_game_name</th>\n",
       "      <th>real</th>\n",
       "      <th>all_variables_defined</th>\n",
       "      <th>all_variables_used</th>\n",
       "      <th>all_preferences_used</th>\n",
       "      <th>setup_objects_used</th>\n",
       "      <th>...</th>\n",
       "      <th>ast_ngram_constraints_n_6_score</th>\n",
       "      <th>ast_ngram_constraints_n_7_score</th>\n",
       "      <th>ast_ngram_terminal_n_2_score</th>\n",
       "      <th>ast_ngram_terminal_n_3_score</th>\n",
       "      <th>ast_ngram_terminal_n_4_score</th>\n",
       "      <th>ast_ngram_terminal_n_5_score</th>\n",
       "      <th>ast_ngram_scoring_n_2_score</th>\n",
       "      <th>ast_ngram_scoring_n_3_score</th>\n",
       "      <th>ast_ngram_scoring_n_4_score</th>\n",
       "      <th>ast_ngram_scoring_n_5_score</th>\n",
       "    </tr>\n",
       "  </thead>\n",
       "  <tbody>\n",
       "    <tr>\n",
       "      <th>1</th>\n",
       "      <td>1</td>\n",
       "      <td>interactive-beta.pddl</td>\n",
       "      <td>5f77754ba932fb2c4ba181d8-2</td>\n",
       "      <td>many-objects-room-v1</td>\n",
       "      <td>5f77754ba932fb2c4ba181d8-2</td>\n",
       "      <td>1</td>\n",
       "      <td>1</td>\n",
       "      <td>1</td>\n",
       "      <td>1</td>\n",
       "      <td>1.0</td>\n",
       "      <td>...</td>\n",
       "      <td>0.986443</td>\n",
       "      <td>0.986721</td>\n",
       "      <td>0.935275</td>\n",
       "      <td>0.965656</td>\n",
       "      <td>0.967074</td>\n",
       "      <td>0.978883</td>\n",
       "      <td>0.670913</td>\n",
       "      <td>0.801850</td>\n",
       "      <td>0.870098</td>\n",
       "      <td>0.924083</td>\n",
       "    </tr>\n",
       "    <tr>\n",
       "      <th>26</th>\n",
       "      <td>26</td>\n",
       "      <td>interactive-beta.pddl</td>\n",
       "      <td>614e1599db14d8f3a5c1486a-33</td>\n",
       "      <td>many-objects-room-v1</td>\n",
       "      <td>614e1599db14d8f3a5c1486a-33</td>\n",
       "      <td>1</td>\n",
       "      <td>1</td>\n",
       "      <td>1</td>\n",
       "      <td>1</td>\n",
       "      <td>1.0</td>\n",
       "      <td>...</td>\n",
       "      <td>0.980035</td>\n",
       "      <td>0.984207</td>\n",
       "      <td>0.000000</td>\n",
       "      <td>0.000000</td>\n",
       "      <td>0.000000</td>\n",
       "      <td>0.000000</td>\n",
       "      <td>0.481030</td>\n",
       "      <td>0.620774</td>\n",
       "      <td>0.859334</td>\n",
       "      <td>0.919593</td>\n",
       "    </tr>\n",
       "    <tr>\n",
       "      <th>53</th>\n",
       "      <td>53</td>\n",
       "      <td>interactive-beta.pddl</td>\n",
       "      <td>60bb3b463887c2f9d1385cce-63</td>\n",
       "      <td>medium-objects-room-v1</td>\n",
       "      <td>60bb3b463887c2f9d1385cce-63</td>\n",
       "      <td>1</td>\n",
       "      <td>1</td>\n",
       "      <td>1</td>\n",
       "      <td>1</td>\n",
       "      <td>0.0</td>\n",
       "      <td>...</td>\n",
       "      <td>0.915466</td>\n",
       "      <td>0.906318</td>\n",
       "      <td>0.942266</td>\n",
       "      <td>0.970180</td>\n",
       "      <td>0.973574</td>\n",
       "      <td>0.978002</td>\n",
       "      <td>0.305843</td>\n",
       "      <td>0.563343</td>\n",
       "      <td>0.785392</td>\n",
       "      <td>0.878183</td>\n",
       "    </tr>\n",
       "    <tr>\n",
       "      <th>93</th>\n",
       "      <td>93</td>\n",
       "      <td>interactive-beta.pddl</td>\n",
       "      <td>61087e4fc006ee7d6be38641-114</td>\n",
       "      <td>medium-objects-room-v1</td>\n",
       "      <td>61087e4fc006ee7d6be38641-114</td>\n",
       "      <td>1</td>\n",
       "      <td>1</td>\n",
       "      <td>1</td>\n",
       "      <td>1</td>\n",
       "      <td>1.0</td>\n",
       "      <td>...</td>\n",
       "      <td>0.997551</td>\n",
       "      <td>0.996790</td>\n",
       "      <td>0.000000</td>\n",
       "      <td>0.000000</td>\n",
       "      <td>0.000000</td>\n",
       "      <td>0.000000</td>\n",
       "      <td>0.481030</td>\n",
       "      <td>0.620774</td>\n",
       "      <td>0.859334</td>\n",
       "      <td>0.919593</td>\n",
       "    </tr>\n",
       "    <tr>\n",
       "      <th>97</th>\n",
       "      <td>97</td>\n",
       "      <td>interactive-beta.pddl</td>\n",
       "      <td>5e73ded1027e893642055f86-118</td>\n",
       "      <td>medium-objects-room-v1</td>\n",
       "      <td>5e73ded1027e893642055f86-118</td>\n",
       "      <td>1</td>\n",
       "      <td>1</td>\n",
       "      <td>1</td>\n",
       "      <td>1</td>\n",
       "      <td>0.0</td>\n",
       "      <td>...</td>\n",
       "      <td>0.999784</td>\n",
       "      <td>0.998978</td>\n",
       "      <td>0.000000</td>\n",
       "      <td>0.000000</td>\n",
       "      <td>0.000000</td>\n",
       "      <td>0.000000</td>\n",
       "      <td>0.903856</td>\n",
       "      <td>0.936975</td>\n",
       "      <td>0.927856</td>\n",
       "      <td>0.935323</td>\n",
       "    </tr>\n",
       "  </tbody>\n",
       "</table>\n",
       "<p>5 rows × 345 columns</p>\n",
       "</div>"
      ],
      "text/plain": [
       "    Index               src_file                     game_name  \\\n",
       "1       1  interactive-beta.pddl    5f77754ba932fb2c4ba181d8-2   \n",
       "26     26  interactive-beta.pddl   614e1599db14d8f3a5c1486a-33   \n",
       "53     53  interactive-beta.pddl   60bb3b463887c2f9d1385cce-63   \n",
       "93     93  interactive-beta.pddl  61087e4fc006ee7d6be38641-114   \n",
       "97     97  interactive-beta.pddl  5e73ded1027e893642055f86-118   \n",
       "\n",
       "               domain_name            original_game_name  real  \\\n",
       "1     many-objects-room-v1    5f77754ba932fb2c4ba181d8-2     1   \n",
       "26    many-objects-room-v1   614e1599db14d8f3a5c1486a-33     1   \n",
       "53  medium-objects-room-v1   60bb3b463887c2f9d1385cce-63     1   \n",
       "93  medium-objects-room-v1  61087e4fc006ee7d6be38641-114     1   \n",
       "97  medium-objects-room-v1  5e73ded1027e893642055f86-118     1   \n",
       "\n",
       "    all_variables_defined  all_variables_used  all_preferences_used  \\\n",
       "1                       1                   1                     1   \n",
       "26                      1                   1                     1   \n",
       "53                      1                   1                     1   \n",
       "93                      1                   1                     1   \n",
       "97                      1                   1                     1   \n",
       "\n",
       "    setup_objects_used  ...  ast_ngram_constraints_n_6_score  \\\n",
       "1                  1.0  ...                         0.986443   \n",
       "26                 1.0  ...                         0.980035   \n",
       "53                 0.0  ...                         0.915466   \n",
       "93                 1.0  ...                         0.997551   \n",
       "97                 0.0  ...                         0.999784   \n",
       "\n",
       "    ast_ngram_constraints_n_7_score  ast_ngram_terminal_n_2_score  \\\n",
       "1                          0.986721                      0.935275   \n",
       "26                         0.984207                      0.000000   \n",
       "53                         0.906318                      0.942266   \n",
       "93                         0.996790                      0.000000   \n",
       "97                         0.998978                      0.000000   \n",
       "\n",
       "    ast_ngram_terminal_n_3_score  ast_ngram_terminal_n_4_score  \\\n",
       "1                       0.965656                      0.967074   \n",
       "26                      0.000000                      0.000000   \n",
       "53                      0.970180                      0.973574   \n",
       "93                      0.000000                      0.000000   \n",
       "97                      0.000000                      0.000000   \n",
       "\n",
       "    ast_ngram_terminal_n_5_score  ast_ngram_scoring_n_2_score  \\\n",
       "1                       0.978883                     0.670913   \n",
       "26                      0.000000                     0.481030   \n",
       "53                      0.978002                     0.305843   \n",
       "93                      0.000000                     0.481030   \n",
       "97                      0.000000                     0.903856   \n",
       "\n",
       "    ast_ngram_scoring_n_3_score  ast_ngram_scoring_n_4_score  \\\n",
       "1                      0.801850                     0.870098   \n",
       "26                     0.620774                     0.859334   \n",
       "53                     0.563343                     0.785392   \n",
       "93                     0.620774                     0.859334   \n",
       "97                     0.936975                     0.927856   \n",
       "\n",
       "    ast_ngram_scoring_n_5_score  \n",
       "1                      0.924083  \n",
       "26                     0.919593  \n",
       "53                     0.878183  \n",
       "93                     0.919593  \n",
       "97                     0.935323  \n",
       "\n",
       "[5 rows x 345 columns]"
      ]
     },
     "execution_count": 92,
     "metadata": {},
     "output_type": "execute_result"
    }
   ],
   "source": [
    "fitness_df[(fitness_df.real == 1) & (fitness_df.in_arg_types_other_constraints == 1)]"
   ]
  },
  {
   "attachments": {},
   "cell_type": "markdown",
   "metadata": {},
   "source": [
    "## Regrwoth from existing games"
   ]
  },
  {
   "cell_type": "code",
   "execution_count": null,
   "metadata": {},
   "outputs": [],
   "source": [
    "n_samples = 5\n",
    "n_games = 10\n",
    "start = 25\n",
    "end = start + n_games\n",
    "\n",
    "\n",
    "for original_index in range(start, end):\n",
    "    print(f'Generating samples starting from original index {original_index} (id {_extract_game_id(real_game_texts[original_index])})')\n",
    "    mcmc.multiple_samples(n_samples, verbose=1, should_tqdm=False, initial_proposal=game_asts[original_index], postprocess=False)\n",
    "\n",
    "    # print()\n",
    "    # for i in range(n_samples * (original_index - start), n_samples * (original_index - start + 1)):\n",
    "    #     print(i, mcmc.samples[i][2])"
   ]
  },
  {
   "cell_type": "code",
   "execution_count": null,
   "metadata": {},
   "outputs": [],
   "source": [
    "len(mcmc.samples)"
   ]
  },
  {
   "cell_type": "code",
   "execution_count": null,
   "metadata": {},
   "outputs": [],
   "source": [
    "mcmc.visualize_sample(11)"
   ]
  },
  {
   "cell_type": "code",
   "execution_count": null,
   "metadata": {},
   "outputs": [],
   "source": [
    "mcmc.samples[75][0][4][1].preferences.definition.forall_pref.preferences.pref_body.body.exists_args.then_funcs[0].seq_func.once_pred.pred.and_args[-1].pred"
   ]
  },
  {
   "cell_type": "code",
   "execution_count": null,
   "metadata": {},
   "outputs": [],
   "source": [
    "mcmc.samples[11][0][5][1]"
   ]
  },
  {
   "cell_type": "code",
   "execution_count": null,
   "metadata": {},
   "outputs": [],
   "source": [
    "from ast_parser import ASTBooleanParser\n",
    "bp = ASTBooleanParser()\n",
    "bp.evaluate_tautology(bp(mcmc.samples[11][0][5][1], section='(:terminal'))\n",
    "# bp(mcmc.samples[75][0][4][1].preferences.definition.forall_pref.preferences.pref_body.body.exists_args.then_funcs[0].seq_func.once_pred.pred.and_args[-1].pred, section='(:constraints')"
   ]
  },
  {
   "cell_type": "code",
   "execution_count": null,
   "metadata": {},
   "outputs": [],
   "source": [
    "import ast_utils\n",
    "terminal = copy.deepcopy(mcmc.samples[11][3][5][1])\n",
    "ast_utils.replace_child(terminal.terminal, 'expr_1', '400')\n",
    "bp.game_start()\n",
    "bp(terminal, section='(:terminal')"
   ]
  },
  {
   "cell_type": "code",
   "execution_count": null,
   "metadata": {},
   "outputs": [],
   "source": [
    "from argparse import Namespace\n",
    "from src.fitness_features import *\n",
    "args = Namespace(no_binarize=False, no_merge=False)\n",
    "featurizer = build_fitness_featurizer(args)"
   ]
  },
  {
   "cell_type": "code",
   "execution_count": null,
   "metadata": {},
   "outputs": [],
   "source": [
    "mcmc.fitness_featurizer.parse(mcmc.samples[50][0], 'mcmc', True, True)['ast_ngram_scoring_n_5_score']"
   ]
  },
  {
   "cell_type": "code",
   "execution_count": null,
   "metadata": {},
   "outputs": [],
   "source": [
    "ps = {k:v for k, v in featurizer.parse(mcmc.samples[37][0], 'mcmc', True, False).items() if 'all_variables' in k}\n",
    "ps"
   ]
  },
  {
   "cell_type": "code",
   "execution_count": null,
   "metadata": {},
   "outputs": [],
   "source": [
    "# %prun -r \n",
    "n_samples = 5\n",
    "start = 0\n",
    "end = start + n_samples\n",
    "\n",
    "for original_index in range(start, end):\n",
    "    print(f'Generating samples starting from original index {original_index} (id {_extract_game_id(real_game_texts[original_index])})')\n",
    "    mcmc.multiple_samples(n_samples, verbose=1, should_tqdm=True, initial_proposal=game_asts[original_index])\n",
    "\n",
    "    print()\n",
    "    for i in range(n_samples * (original_index - start), n_samples * (original_index - start + 1)):\n",
    "        print(i, mcmc.samples[i][2])"
   ]
  },
  {
   "cell_type": "code",
   "execution_count": null,
   "metadata": {},
   "outputs": [],
   "source": [
    "mcmc.visualize_sample(14)"
   ]
  },
  {
   "cell_type": "code",
   "execution_count": null,
   "metadata": {},
   "outputs": [],
   "source": [
    "mcmc.fitness_featurizer.full_text_registry[0].n_gram_model.models[-1].score(ast_printer.ast_to_string(mcmc.samples[14][0], ' '))"
   ]
  },
  {
   "cell_type": "code",
   "execution_count": null,
   "metadata": {},
   "outputs": [],
   "source": [
    "mcmc.fitness_featurizer.full_text_registry[0].n_gram_model.models[-1].score(ast_printer.ast_to_string(mcmc.samples[14][3], ' '))"
   ]
  },
  {
   "cell_type": "code",
   "execution_count": null,
   "metadata": {},
   "outputs": [],
   "source": [
    "ngram_model = mcmc.fitness_featurizer.full_text_registry[0].n_gram_model.models[-1]\n",
    "\n",
    "sample_ngrams = [('constraints', 'and', 'forall', 'wall', 'and'), ('and', 'forall', 'wall', 'and', 'preference'), ('forall', 'wall', 'and', 'preference', 'preferenceName'), ('wall', 'and', 'preference', 'preferenceName', 'exists'), ('and', 'preference', 'preferenceName', 'exists', 'block'), ('preference', 'preferenceName', 'exists', 'block', 'atend'), ('preferenceName', 'exists', 'block', 'atend', 'in'), ('exists', 'block', 'atend', 'in', 'scoring'), ('block', 'atend', 'in', 'scoring', 'externalforallmaximize'), ('atend', 'in', 'scoring', 'externalforallmaximize', 'countonceperobjects'), ('in', 'scoring', 'externalforallmaximize', 'countonceperobjects', 'preferenceName')]\n",
    "original_ngrams = [('constraints', 'and', 'forall', 'building', 'and'), ('and', 'forall', 'building', 'and', 'preference'), ('forall', 'building', 'and', 'preference', 'preferenceName'), ('building', 'and', 'preference', 'preferenceName', 'exists'), ('and', 'preference', 'preferenceName', 'exists', 'block'), ('preference', 'preferenceName', 'exists', 'block', 'atend'), ('preferenceName', 'exists', 'block', 'atend', 'in'), ('exists', 'block', 'atend', 'in', 'scoring'), ('block', 'atend', 'in', 'scoring', 'externalforallmaximize'), ('atend', 'in', 'scoring', 'externalforallmaximize', 'countonceperobjects'), ('in', 'scoring', 'externalforallmaximize', 'countonceperobjects', 'preferenceName')]\n",
    "\n",
    "print(f'Sample ngrams: {np.mean([ngram_model.ngram_logprobs[s] for s in sample_ngrams])} | ')\n",
    "for s in sample_ngrams:\n",
    "    print(s, ngram_model.ngram_counts[s], ngram_model.ngram_logprobs[s])\n",
    "\n",
    "print()\n",
    "print(f'Original ngrams: {np.mean([ngram_model.ngram_logprobs[s] for s in original_ngrams])}')\n",
    "for s in original_ngrams:\n",
    "    print(s, ngram_model.ngram_counts[s], ngram_model.ngram_logprobs[s])\n",
    "print()\n",
    "\n",
    "for s in sample_ngrams[:]:\n",
    "    if s in original_ngrams:\n",
    "        sample_ngrams.remove(s)\n",
    "        original_ngrams.remove(s)\n",
    "\n",
    "print('Sample remaining ngrams')\n",
    "for s in sample_ngrams:\n",
    "    print(s, ngram_model.ngram_counts[s], ngram_model.ngram_logprobs[s])\n",
    "\n",
    "print()\n",
    "print('Original remaining ngrams')\n",
    "for s in original_ngrams:\n",
    "    print(s, ngram_model.ngram_counts[s], ngram_model.ngram_logprobs[s])"
   ]
  },
  {
   "cell_type": "code",
   "execution_count": null,
   "metadata": {},
   "outputs": [],
   "source": [
    "original_ngrams = [('constraints', 'and', 'forall', 'building', 'and'), ('and', 'forall', 'building', 'and', 'preference'), ('forall', 'building', 'and', 'preference', 'preferenceName'), ('building', 'and', 'preference', 'preferenceName', 'exists'), ('and', 'preference', 'preferenceName', 'exists', 'block'), ('preference', 'preferenceName', 'exists', 'block', 'atend'), ('preferenceName', 'exists', 'block', 'atend', 'in'), ('exists', 'block', 'atend', 'in', 'scoring'), ('block', 'atend', 'in', 'scoring', 'externalforallmaximize'), ('atend', 'in', 'scoring', 'externalforallmaximize', 'countonceperobjects'), ('in', 'scoring', 'externalforallmaximize', 'countonceperobjects', 'preferenceName')]\n",
    "print('Original ngrams')\n",
    "for s in original_ngrams:\n",
    "    print(s, mcmc.fitness_featurizer.full_text_registry[0].n_gram_model.models[-1].ngram_counts[s], mcmc.fitness_featurizer.full_text_registry[0].n_gram_model.models[-1].ngram_logprobs[s])"
   ]
  },
  {
   "cell_type": "code",
   "execution_count": null,
   "metadata": {},
   "outputs": [],
   "source": [
    "mcmc.visualize_sample(7)"
   ]
  },
  {
   "cell_type": "code",
   "execution_count": null,
   "metadata": {},
   "outputs": [],
   "source": [
    "mcmc.visualize_sample(15)"
   ]
  },
  {
   "cell_type": "code",
   "execution_count": null,
   "metadata": {},
   "outputs": [],
   "source": []
  },
  {
   "attachments": {},
   "cell_type": "markdown",
   "metadata": {},
   "source": [
    "### Notes from looking at these games\n",
    "* **TODO:** debug the 'section-without' logic, it seems to not work\n",
    "* **TODO:** add features for preferences with different lengths of modals"
   ]
  },
  {
   "cell_type": "code",
   "execution_count": null,
   "metadata": {},
   "outputs": [],
   "source": []
  },
  {
   "cell_type": "code",
   "execution_count": null,
   "metadata": {},
   "outputs": [],
   "source": [
    "print(ast_printer.ast_to_string(samples[8][0], '\\n'))"
   ]
  },
  {
   "cell_type": "code",
   "execution_count": null,
   "metadata": {},
   "outputs": [],
   "source": [
    "fitness_featurizer = build_fitness_featurizer(DEFAULT_ARGS)\n",
    "features = fitness_featurizer.parse(samples[7][0], 'mcmc', True)\n",
    "{k: v for k, v in features.items() if 'correctly' in k or 'forall' in k or 'no' in k}"
   ]
  },
  {
   "cell_type": "code",
   "execution_count": null,
   "metadata": {},
   "outputs": [],
   "source": [
    "with gzip.open(DEFAULT_FITNESS_FUNCTION_PATH, 'rb') as f:\n",
    "    cv_fitness_model = pickle.load(f)"
   ]
  },
  {
   "cell_type": "code",
   "execution_count": null,
   "metadata": {},
   "outputs": [],
   "source": [
    "weights = cv_fitness_model.named_steps['fitness'].model.fc1.weight.data.detach().numpy().squeeze()\n",
    "bias = cv_fitness_model.named_steps['fitness'].model.fc1.bias.data.detach().numpy().squeeze()\n",
    "print(weights.mean(), bias)"
   ]
  },
  {
   "cell_type": "code",
   "execution_count": null,
   "metadata": {},
   "outputs": [],
   "source": [
    "plt.hist(weights, bins=100)\n",
    "plt.title('Fitness Model Weights')\n",
    "plt.xlabel('Weight magnitude')\n",
    "plt.ylabel('Count')"
   ]
  },
  {
   "cell_type": "code",
   "execution_count": null,
   "metadata": {},
   "outputs": [],
   "source": [
    "import ast_crossover_sampler\n",
    "asts = [ast for ast in cached_load_and_parse_games_from_file('../dsl/interactive-beta.pddl', \n",
    "    mcmc.grammar_parser, False, relative_path='..')]\n",
    "\n",
    "mcmc_with_crossover = MCMCRegrowthCrossoverSampler(DEFAULT_ARGS, \n",
    "    ast_crossover_sampler.CrossoverType.SAME_RULE, asts, 0.25,\n",
    "    '../models/cv_fitness_model_2022_12_26.pkl.gz', \n",
    "    greedy_acceptance=True, plateau_patience_steps=20, acceptance_temperature=10.0, max_steps=1000)"
   ]
  },
  {
   "cell_type": "code",
   "execution_count": null,
   "metadata": {},
   "outputs": [],
   "source": [
    "mcmc_with_crossover.multiple_samples(10, verbose=2, should_tqdm=True)\n",
    "print([x[2] for x in mcmc_with_crossover.samples])"
   ]
  },
  {
   "cell_type": "code",
   "execution_count": null,
   "metadata": {},
   "outputs": [],
   "source": [
    "print([x[2] for x in mcmc_with_crossover.samples])"
   ]
  },
  {
   "cell_type": "code",
   "execution_count": null,
   "metadata": {},
   "outputs": [],
   "source": []
  }
 ],
 "metadata": {
  "kernelspec": {
   "display_name": "game-gen",
   "language": "python",
   "name": "python3"
  },
  "language_info": {
   "codemirror_mode": {
    "name": "ipython",
    "version": 3
   },
   "file_extension": ".py",
   "mimetype": "text/x-python",
   "name": "python",
   "nbconvert_exporter": "python",
   "pygments_lexer": "ipython3",
   "version": "3.10.8"
  },
  "orig_nbformat": 4,
  "vscode": {
   "interpreter": {
    "hash": "a8b8c8d5c21b7aee7bd0053f69e9c255c013bbea7031fbef7e66d58dd46c0fa6"
   }
  }
 },
 "nbformat": 4,
 "nbformat_minor": 2
}
