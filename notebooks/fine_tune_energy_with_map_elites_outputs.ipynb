{
 "cells": [
  {
   "cell_type": "code",
   "execution_count": 1,
   "metadata": {},
   "outputs": [],
   "source": [
    "%autoreload 2"
   ]
  },
  {
   "cell_type": "code",
   "execution_count": 2,
   "metadata": {},
   "outputs": [
    {
     "name": "stderr",
     "output_type": "stream",
     "text": [
      "2023-05-14 16:44:34 - ast_utils - DEBUG    - Using cache folder: /misc/vlgscratch4/LakeGroup/guy/game_generation_cache\n",
      "2023-05-14 16:44:35 - src.ast_utils - DEBUG    - Using cache folder: /misc/vlgscratch4/LakeGroup/guy/game_generation_cache\n",
      "2023-05-14 16:44:35 - git.cmd - DEBUG    - Popen(['git', 'version'], cwd=/home/gd1279/projects/game-generation-modeling/notebooks, universal_newlines=False, shell=None, istream=None)\n",
      "2023-05-14 16:44:35 - git.cmd - DEBUG    - Popen(['git', 'version'], cwd=/home/gd1279/projects/game-generation-modeling/notebooks, universal_newlines=False, shell=None, istream=None)\n"
     ]
    }
   ],
   "source": [
    "from argparse import Namespace\n",
    "from collections import defaultdict\n",
    "import copy\n",
    "from datetime import datetime\n",
    "import difflib\n",
    "import gzip\n",
    "import itertools\n",
    "import os\n",
    "import pickle\n",
    "import sys\n",
    "import typing\n",
    "\n",
    "from IPython.display import display, Markdown, HTML  # type: ignore\n",
    "import matplotlib\n",
    "import matplotlib.pyplot as plt\n",
    "import numpy as np\n",
    "import pandas as pd\n",
    "import swifter\n",
    "import sklearn\n",
    "from sklearn.model_selection import GridSearchCV, train_test_split, KFold\n",
    "from sklearn.pipeline import Pipeline\n",
    "import tatsu\n",
    "import torch\n",
    "import torch.nn as nn\n",
    "import torch.nn.functional as F\n",
    "from torch.utils.data import TensorDataset, DataLoader\n",
    "import tqdm.notebook as tqdmn\n",
    "\n",
    "\n",
    "sys.path.append(os.path.abspath('..'))\n",
    "sys.path.append(os.path.abspath('../src'))\n",
    "from src import fitness_energy_utils as utils\n",
    "from src.ast_mcmc_regrowth import _load_pickle_gzip\n",
    "from src.fitness_features import *\n",
    "from src.fitness_energy_utils import NON_FEATURE_COLUMNS\n",
    "from src.latest_model_paths import LATEST_FITNESS_FEATURIZER_PATH, LATEST_FITNESS_FUNCTION_DATE_ID, LATEST_FITNESS_FEATURES\n",
    "from src.ast_counter_sampler import *\n",
    "from src.ast_utils import cached_load_and_parse_games_from_file, load_games_from_file, _extract_game_id\n",
    "from src import ast_printer\n",
    "from src.fitness_features_preprocessing import NGRAM_SCORE_PATTERN\n",
    "from src.evolutionary_sampler import *"
   ]
  },
  {
   "cell_type": "code",
   "execution_count": 3,
   "metadata": {},
   "outputs": [],
   "source": [
    "grammar = open('../dsl/dsl.ebnf').read()\n",
    "grammar_parser = tatsu.compile(grammar)\n",
    "real_game_asts = list(cached_load_and_parse_games_from_file('../dsl/interactive-beta.pddl', grammar_parser, False, relative_path='..'))  # type: ignore\n",
    "\n",
    "FEATURIZER_PATH = LATEST_FITNESS_FEATURIZER_PATH\n",
    "MODEL_PATH = LATEST_FITNESS_FUNCTION_DATE_ID\n",
    "MAP_ELITES_PATH_SPECS = [\n",
    "    ('2023_05_13', 'samples', 'evo_sampler_map_elites_fitness_rank_node_count_objects_setup_final'),\n",
    "    ('2023_05_13', 'samples', 'evo_sampler_map_elites_fitness_rank_node_count_predicates_setup_final'),\n",
    "    ('2023_05_13', 'samples', 'evo_sampler_map_elites_ucb_node_count_objects_setup_final'),\n",
    "    ('2023_05_13', 'samples', 'evo_sampler_map_elites_ucb_node_count_predicates_setup_final'),   \n",
    "]\n",
    "\n",
    "fitness_featurizer = _load_pickle_gzip(FEATURIZER_PATH)"
   ]
  },
  {
   "cell_type": "code",
   "execution_count": 4,
   "metadata": {},
   "outputs": [],
   "source": [
    "DEFAULT_MIN_FITNESS = 0.0\n",
    "\n",
    "def load_map_elites_games(map_elites_path_specs: typing.List[typing.Tuple[str, str, str]], min_fitness: float = DEFAULT_MIN_FITNESS):\n",
    "    map_elites_games = []\n",
    "    for date_id, folder, filename in map_elites_path_specs:\n",
    "        map_elites = typing.cast(MAPElitesSampler, utils.load_data(date_id, folder, filename))\n",
    "        for key in map_elites.population:\n",
    "            if map_elites.fitness_values[key] > min_fitness:\n",
    "                map_elites_games.append((map_elites.population[key], filename))\n",
    "        \n",
    "    return map_elites_games\n",
    "\n",
    "\n",
    "MAP_ELITES_GAMES = load_map_elites_games(MAP_ELITES_PATH_SPECS)"
   ]
  },
  {
   "cell_type": "code",
   "execution_count": 5,
   "metadata": {},
   "outputs": [
    {
     "name": "stdout",
     "output_type": "stream",
     "text": [
      "['interactive-beta.pddl' 'ast-real-regrowth-samples-1024.pddl']\n",
      "(100450, 391)\n"
     ]
    }
   ],
   "source": [
    "fitness_df = utils.load_fitness_data(LATEST_FITNESS_FEATURES)\n",
    "print(fitness_df.src_file.unique())\n",
    "print(fitness_df.shape)\n",
    "\n",
    "fitness_featurizer.preprocessors[1].forced_output_keys = set([c for c in fitness_df.columns if 'arg_types' in c])"
   ]
  },
  {
   "cell_type": "code",
   "execution_count": 6,
   "metadata": {},
   "outputs": [],
   "source": [
    "def create_fitness_df_with_map_elites_games(\n",
    "    current_fitness_df: pd.DataFrame,\n",
    "    fitness_featurizer: ASTFitnessFeaturizer,\n",
    "    real_games: typing.List,\n",
    "    map_elites_games: typing.List[tuple], \n",
    "):\n",
    "\n",
    "    for game in real_games:\n",
    "        fitness_featurizer.parse(game, 'interactive_beta.pddl')\n",
    "\n",
    "    for game, filename in tqdmn.tqdm(map_elites_games):\n",
    "        fitness_featurizer.parse(game, filename)\n",
    "\n",
    "    map_elites_fitness_df = fitness_featurizer.to_df()\n",
    "    current_fitness_real_df = current_fitness_df[current_fitness_df.real == 1]\n",
    "\n",
    "    return pd.concat([current_fitness_real_df, map_elites_fitness_df], ignore_index=True)"
   ]
  },
  {
   "cell_type": "code",
   "execution_count": 7,
   "metadata": {},
   "outputs": [
    {
     "data": {
      "application/vnd.jupyter.widget-view+json": {
       "model_id": "5cfacd8de28142c0b807d9badd9edc2d",
       "version_major": 2,
       "version_minor": 0
      },
      "text/plain": [
       "  0%|          | 0/743 [00:00<?, ?it/s]"
      ]
     },
     "metadata": {},
     "output_type": "display_data"
    },
    {
     "name": "stderr",
     "output_type": "stream",
     "text": [
      "2023-05-14 16:45:04 - root - INFO     - No features found for prefix agent_holds_arg_types and suffix setup\n",
      "2023-05-14 16:45:05 - root - INFO     - No features found for prefix in_motion_arg_types and suffix setup\n",
      "2023-05-14 16:45:05 - root - INFO     - No features to merge for prefix object_orientation_arg_types and suffix setup\n",
      "2023-05-14 16:45:05 - root - INFO     - No features found for prefix touch_arg_types and suffix setup\n",
      "2023-05-14 16:45:05 - root - INFO     - No features found for prefix adjacent_side_3_arg_types and suffix constraints\n",
      "2023-05-14 16:45:05 - root - INFO     - No features to merge for prefix agent_holds_arg_types and suffix constraints\n",
      "2023-05-14 16:45:05 - root - INFO     - No features found for prefix between_arg_types and suffix constraints\n",
      "2023-05-14 16:45:05 - root - INFO     - No features to merge for prefix distance_arg_types and suffix constraints\n",
      "2023-05-14 16:45:05 - root - INFO     - No features to merge for prefix in_arg_types and suffix constraints\n",
      "2023-05-14 16:45:05 - root - INFO     - No features to merge for prefix in_motion_arg_types and suffix constraints\n",
      "2023-05-14 16:45:05 - root - INFO     - No features to merge for prefix object_orientation_arg_types and suffix constraints\n"
     ]
    },
    {
     "name": "stdout",
     "output_type": "stream",
     "text": [
      "Merging 8 features for prefix adjacent_arg_types and suffix setup\n",
      "Merging 4 features for prefix adjacent_side_3_arg_types and suffix setup\n",
      "Merging 6 features for prefix between_arg_types and suffix setup\n",
      "Merging 5 features for prefix distance_arg_types and suffix setup\n",
      "Merging 3 features for prefix in_arg_types and suffix setup\n",
      "Merging 9 features for prefix on_arg_types and suffix setup\n",
      "Merging 1 features for prefix adjacent_arg_types and suffix constraints\n",
      "Merging 14 features for prefix on_arg_types and suffix constraints\n",
      "Merging 9 features for prefix touch_arg_types and suffix constraints\n",
      "(939, 391) (100450, 391)\n",
      "set()\n"
     ]
    }
   ],
   "source": [
    "map_elites_fitness_df = create_fitness_df_with_map_elites_games(fitness_df, fitness_featurizer, real_game_asts, MAP_ELITES_GAMES)\n",
    "print(map_elites_fitness_df.shape, fitness_df.shape)\n",
    "print(set(map_elites_fitness_df.columns).symmetric_difference(set(fitness_df.columns)))"
   ]
  },
  {
   "attachments": {},
   "cell_type": "markdown",
   "metadata": {},
   "source": [
    "## TODO:\n",
    "* Split this dataset into train and test\n",
    "* Fine-tune the existing energy function on this (probably adjusting the value of `k`)\n",
    "* Evaluate the fine-tuned model\n",
    "* Print the changes in feature weights?"
   ]
  },
  {
   "cell_type": "code",
   "execution_count": null,
   "metadata": {},
   "outputs": [],
   "source": []
  }
 ],
 "metadata": {
  "kernelspec": {
   "display_name": "game-gen",
   "language": "python",
   "name": "python3"
  },
  "language_info": {
   "codemirror_mode": {
    "name": "ipython",
    "version": 3
   },
   "file_extension": ".py",
   "mimetype": "text/x-python",
   "name": "python",
   "nbconvert_exporter": "python",
   "pygments_lexer": "ipython3",
   "version": "3.10.8"
  },
  "orig_nbformat": 4
 },
 "nbformat": 4,
 "nbformat_minor": 2
}
