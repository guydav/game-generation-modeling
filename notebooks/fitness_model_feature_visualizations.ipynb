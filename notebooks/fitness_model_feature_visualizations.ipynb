{
 "cells": [
  {
   "cell_type": "code",
   "execution_count": 1,
   "metadata": {},
   "outputs": [],
   "source": [
    "%autoreload 2\n"
   ]
  },
  {
   "cell_type": "code",
   "execution_count": 2,
   "metadata": {},
   "outputs": [
    {
     "name": "stderr",
     "output_type": "stream",
     "text": [
      "2023-06-26 13:55:26 - ast_utils - DEBUG    - Using cache folder: /tmp/game_generation_cache\n",
      "2023-06-26 13:55:26 - src.ast_utils - DEBUG    - Using cache folder: /tmp/game_generation_cache\n"
     ]
    }
   ],
   "source": [
    "from argparse import Namespace\n",
    "from collections import defaultdict\n",
    "import copy\n",
    "import difflib\n",
    "import gzip\n",
    "import itertools\n",
    "import os\n",
    "import pickle\n",
    "import sys\n",
    "import typing\n",
    "\n",
    "import logging\n",
    "logging.getLogger('matplotlib').setLevel(logging.WARNING)\n",
    "\n",
    "from IPython.display import display, Markdown, HTML\n",
    "import matplotlib\n",
    "import matplotlib.pyplot as plt\n",
    "import numpy as np\n",
    "import pandas as pd\n",
    "import sklearn\n",
    "from sklearn.model_selection import GridSearchCV, train_test_split, KFold\n",
    "from sklearn.pipeline import Pipeline\n",
    "import tatsu\n",
    "import torch\n",
    "import torch.nn as nn\n",
    "import torch.nn.functional as F\n",
    "from torch.utils.data import TensorDataset, DataLoader\n",
    "import tqdm.notebook as tqdm\n",
    "\n",
    "\n",
    "sys.path.append(os.path.abspath('..'))\n",
    "sys.path.append(os.path.abspath('../src'))\n",
    "from src import fitness_energy_utils as utils\n",
    "from src.fitness_energy_utils import NON_FEATURE_COLUMNS\n",
    "from src.ast_counter_sampler import *\n",
    "from src.ast_utils import cached_load_and_parse_games_from_file, load_games_from_file, _extract_game_id\n",
    "from src import ast_printer"
   ]
  },
  {
   "cell_type": "code",
   "execution_count": 3,
   "metadata": {},
   "outputs": [
    {
     "name": "stderr",
     "output_type": "stream",
     "text": [
      "2023-06-26 13:55:27 - src.ast_utils - DEBUG    - Game not found in cache: 6172feb1665491d1efbce164-0\n",
      "2023-06-26 13:55:27 - src.ast_utils - DEBUG    - Game not found in cache: 5f77754ba932fb2c4ba181d8-2\n",
      "2023-06-26 13:55:27 - src.ast_utils - DEBUG    - Game not found in cache: 614b603d4da88384282967a7-3\n",
      "2023-06-26 13:55:27 - src.ast_utils - DEBUG    - Game not found in cache: 5bc79f652885710001a0e82a-5\n",
      "2023-06-26 13:55:27 - src.ast_utils - DEBUG    - Game not found in cache: 614dec67f6eb129c3a77defd-6\n",
      "2023-06-26 13:55:27 - src.ast_utils - DEBUG    - Game not found in cache: 615b40bb6cdb0f1f6f291f45-8\n",
      "2023-06-26 13:55:27 - src.ast_utils - DEBUG    - Game not found in cache: 615452aaabb932ada88ef3ca-9\n",
      "2023-06-26 13:55:28 - src.ast_utils - DEBUG    - Game not found in cache: 57aa430b4cda6e00018420e9-10\n",
      "2023-06-26 13:55:28 - src.ast_utils - DEBUG    - Game not found in cache: 5d29412ab711e9001ab74ece-11\n",
      "2023-06-26 13:55:28 - src.ast_utils - DEBUG    - Game not found in cache: 613bb29f16252362f4dc11a3-12\n",
      "2023-06-26 13:55:28 - src.ast_utils - DEBUG    - Game not found in cache: 616e5ae706e970fe0aff99b6-13\n",
      "2023-06-26 13:55:28 - src.ast_utils - DEBUG    - Game not found in cache: 609c15fd6888b88a23312c4-14\n",
      "2023-06-26 13:55:28 - src.ast_utils - DEBUG    - Game not found in cache: 5f5d6c3cbacc025bf0a03440-15\n",
      "2023-06-26 13:55:28 - src.ast_utils - DEBUG    - Game not found in cache: 616e4f7a16145200573161a6-16\n",
      "2023-06-26 13:55:28 - src.ast_utils - DEBUG    - Game not found in cache: 613e4bf960ca68f8de00e5e7-17\n",
      "2023-06-26 13:55:28 - src.ast_utils - DEBUG    - Game not found in cache: 60e93f64ec69ecdac3107555-19\n",
      "2023-06-26 13:55:28 - src.ast_utils - DEBUG    - Game not found in cache: 5e2df2855e01ef3e5d01ab58-20\n",
      "2023-06-26 13:55:28 - src.ast_utils - DEBUG    - Game not found in cache: 5c79bc94d454af00160e2eee-21\n",
      "2023-06-26 13:55:28 - src.ast_utils - DEBUG    - Game not found in cache: 60d432ce6e413e7509dd4b78-22\n",
      "2023-06-26 13:55:29 - src.ast_utils - DEBUG    - Game not found in cache: 61267978e96853d3b974ca53-23\n",
      "2023-06-26 13:55:29 - src.ast_utils - DEBUG    - Game not found in cache: 5996d2256b939900012d9f22-24\n",
      "2023-06-26 13:55:29 - src.ast_utils - DEBUG    - Game not found in cache: 606e4eb2a56685e5593304cd-27\n",
      "2023-06-26 13:55:29 - src.ast_utils - DEBUG    - Game not found in cache: 610aaf651f5e36d3a76b199f-28\n",
      "2023-06-26 13:55:29 - src.ast_utils - DEBUG    - Game not found in cache: 5bb511c6689fc5000149c703-29\n",
      "2023-06-26 13:55:29 - src.ast_utils - DEBUG    - Game not found in cache: 5b8c8e7d0c740e00019d55c3-31\n",
      "2023-06-26 13:55:29 - src.ast_utils - DEBUG    - Game not found in cache: 56cb8858edf8da000b6df354-32\n",
      "2023-06-26 13:55:29 - src.ast_utils - DEBUG    - Game not found in cache: 614e1599db14d8f3a5c1486a-33\n",
      "2023-06-26 13:55:29 - src.ast_utils - DEBUG    - Game not found in cache: 615dd68523c38ecff40b29b4-35\n",
      "2023-06-26 13:55:29 - src.ast_utils - DEBUG    - Game not found in cache: 5ef4c07dc8437809ba661613-36\n",
      "2023-06-26 13:55:29 - src.ast_utils - DEBUG    - Game not found in cache: 5fa45dc96da3af0b7dcba9a8-37\n",
      "2023-06-26 13:55:29 - src.ast_utils - DEBUG    - Game not found in cache: 616abb33ebe1d6112545f76d-38\n",
      "2023-06-26 13:55:29 - src.ast_utils - DEBUG    - Game not found in cache: 614fb15adc48d3f9ffcadd41-39\n",
      "2023-06-26 13:55:29 - src.ast_utils - DEBUG    - Game not found in cache: 5c71bdec87f8cd0001b458f5-40\n",
      "2023-06-26 13:55:29 - src.ast_utils - DEBUG    - Game not found in cache: 5f8d77f0b348950659f1919e-41\n",
      "2023-06-26 13:55:30 - src.ast_utils - DEBUG    - Game not found in cache: 5edc195a95d5090e1c3f91b-42\n",
      "2023-06-26 13:55:30 - src.ast_utils - DEBUG    - Game not found in cache: 617378aeffbba11d8971051c-43\n",
      "2023-06-26 13:55:30 - src.ast_utils - DEBUG    - Game not found in cache: 60e7044ddc2523fab6cbc0cd-45\n",
      "2023-06-26 13:55:30 - src.ast_utils - DEBUG    - Game not found in cache: 5d5b0dd7c032a2001ad7cf5d-46\n",
      "2023-06-26 13:55:30 - src.ast_utils - DEBUG    - Game not found in cache: 5d470786da637a00014ba26f-47\n",
      "2023-06-26 13:55:30 - src.ast_utils - DEBUG    - Game not found in cache: 61254c5a6facc8ed023a64de-48\n",
      "2023-06-26 13:55:30 - src.ast_utils - DEBUG    - Game not found in cache: 60ddfb3db6a71ad9ba75e387-49\n",
      "2023-06-26 13:55:30 - src.ast_utils - DEBUG    - Game not found in cache: 5f3aee04e30eac7cb73b416e-50\n",
      "2023-06-26 13:55:30 - src.ast_utils - DEBUG    - Game not found in cache: 5ff4a242cbe069bc27d9278b-51\n",
      "2023-06-26 13:55:30 - src.ast_utils - DEBUG    - Game not found in cache: 602d84f17cdd707e9caed37a-52\n",
      "2023-06-26 13:55:30 - src.ast_utils - DEBUG    - Game not found in cache: 5f0cc31363e0816c1b0db7e1-53\n",
      "2023-06-26 13:55:30 - src.ast_utils - DEBUG    - Game not found in cache: 61541833a06877a656163b10-54\n",
      "2023-06-26 13:55:30 - src.ast_utils - DEBUG    - Game not found in cache: 5f7654f879a4420e6d20971b-55\n",
      "2023-06-26 13:55:30 - src.ast_utils - DEBUG    - Game not found in cache: 604a7e9f84bf0e7937200df5-56\n",
      "2023-06-26 13:55:30 - src.ast_utils - DEBUG    - Game not found in cache: 61623853a4ccad551beeb11a-57\n",
      "2023-06-26 13:55:30 - src.ast_utils - DEBUG    - Game not found in cache: 5f0a5a99dbbf721316f118e2-58\n",
      "2023-06-26 13:55:31 - src.ast_utils - DEBUG    - Game not found in cache: 602a1735bf92e79a5e7cb632-59\n",
      "2023-06-26 13:55:31 - src.ast_utils - DEBUG    - Game not found in cache: 6086efbd71dc51bb8d6a1a5e-61\n",
      "2023-06-26 13:55:31 - src.ast_utils - DEBUG    - Game not found in cache: 601c84e07ab4907ded068d0d-62\n",
      "2023-06-26 13:55:31 - src.ast_utils - DEBUG    - Game not found in cache: 60bb3b463887c2f9d1385cce-63\n",
      "2023-06-26 13:55:31 - src.ast_utils - DEBUG    - Game not found in cache: 5aeb24e22bd17300018779f2-64\n",
      "2023-06-26 13:55:31 - src.ast_utils - DEBUG    - Game not found in cache: 56cf6e8d31a5bc0006e1cdf5-65\n",
      "2023-06-26 13:55:31 - src.ast_utils - DEBUG    - Game not found in cache: 5f806f22e8159d0913945e35-66\n",
      "2023-06-26 13:55:31 - src.ast_utils - DEBUG    - Game not found in cache: 60feca537ed1de34c8ddbbab-67\n",
      "2023-06-26 13:55:31 - src.ast_utils - DEBUG    - Game not found in cache: 61262b36d0426eaefdb70725-69\n",
      "2023-06-26 13:55:31 - src.ast_utils - DEBUG    - Game not found in cache: 5fbbf3f438be4c025df6cdd4-70\n",
      "2023-06-26 13:55:31 - src.ast_utils - DEBUG    - Game not found in cache: 60a696c3afad1b7f16b0c744-71\n",
      "2023-06-26 13:55:32 - src.ast_utils - DEBUG    - Game not found in cache: 5fa23c9b64b18a4067cc842e-72\n",
      "2023-06-26 13:55:32 - src.ast_utils - DEBUG    - Game not found in cache: 60ef5b1cf52939a80af77543-73\n",
      "2023-06-26 13:55:32 - src.ast_utils - DEBUG    - Game not found in cache: 613bd3a683a2ac56a4119aa6-74\n",
      "2023-06-26 13:55:32 - src.ast_utils - DEBUG    - Game not found in cache: 612fc78547802a3f177e0d53-75\n",
      "2023-06-26 13:55:32 - src.ast_utils - DEBUG    - Game not found in cache: 5d0ba121619661001a7f4fe6-76\n",
      "2023-06-26 13:55:32 - src.ast_utils - DEBUG    - Game not found in cache: 616da508e4014f74f43c8433-77\n",
      "2023-06-26 13:55:32 - src.ast_utils - DEBUG    - Game not found in cache: 5eeb326764eb142830aa5cfb-78\n",
      "2023-06-26 13:55:32 - src.ast_utils - DEBUG    - Game not found in cache: 5ba855d47c0ebe0001272f70-79\n",
      "2023-06-26 13:55:32 - src.ast_utils - DEBUG    - Game not found in cache: 5ea3a20ac30a773368592f9e-80\n",
      "2023-06-26 13:55:32 - src.ast_utils - DEBUG    - Game not found in cache: 5fdee4d96a36576ca62e4518-81\n",
      "2023-06-26 13:55:32 - src.ast_utils - DEBUG    - Game not found in cache: 6172378d423fdf1acdc2d212-82\n",
      "2023-06-26 13:55:32 - src.ast_utils - DEBUG    - Game not found in cache: 5bdfb648484288000130dad0-83\n",
      "2023-06-26 13:55:32 - src.ast_utils - DEBUG    - Game not found in cache: 61272733b6c8fe076880e02c-85\n",
      "2023-06-26 13:55:33 - src.ast_utils - DEBUG    - Game not found in cache: 6158d01f302cf46b673dd597-87\n",
      "2023-06-26 13:55:33 - src.ast_utils - DEBUG    - Game not found in cache: 5fefd5b2173bfbe890bc98ed-88\n",
      "2023-06-26 13:55:33 - src.ast_utils - DEBUG    - Game not found in cache: 6103ec2bf88328284fd894bc-89\n",
      "2023-06-26 13:55:33 - src.ast_utils - DEBUG    - Game not found in cache: 5f511e9381da7d30c91a46a2-90\n",
      "2023-06-26 13:55:33 - src.ast_utils - DEBUG    - Game not found in cache: 60a6ba026f8bd75b67b23c97-93\n",
      "2023-06-26 13:55:33 - src.ast_utils - DEBUG    - Game not found in cache: 5cdad620eae6f70019d4e950-94\n",
      "2023-06-26 13:55:33 - src.ast_utils - DEBUG    - Game not found in cache: 5b6a87d2cda8590001db8e07097-97\n",
      "2023-06-26 13:55:33 - src.ast_utils - DEBUG    - Game not found in cache: 5f038dc85819b15b08840dfd0-98\n",
      "2023-06-26 13:55:33 - src.ast_utils - DEBUG    - Game not found in cache: 5fbd9bcc54453f1b0b28d89a-99\n",
      "2023-06-26 13:55:33 - src.ast_utils - DEBUG    - Game not found in cache: 5c7ceda01d2afc0001f4ad1d-100\n",
      "2023-06-26 13:55:33 - src.ast_utils - DEBUG    - Game not found in cache: 61093eae2bc2e47e6f26c7d7-101\n",
      "2023-06-26 13:55:33 - src.ast_utils - DEBUG    - Game not found in cache: 5b94d723839c0a00010f88d9-103\n",
      "2023-06-26 13:55:33 - src.ast_utils - DEBUG    - Game not found in cache: 6106ac34408681f3b0d07396-104\n",
      "2023-06-26 13:55:33 - src.ast_utils - DEBUG    - Game not found in cache: 61015f63f9a351d3171a0f98-105\n",
      "2023-06-26 13:55:33 - src.ast_utils - DEBUG    - Game not found in cache: 5d67b6d92b7448000173d95a-106\n",
      "2023-06-26 13:55:34 - src.ast_utils - DEBUG    - Game not found in cache: 5f0af097e7d15b3bf7734642-108\n",
      "2023-06-26 13:55:34 - src.ast_utils - DEBUG    - Game not found in cache: 5f9aba6600cdf11f1c9b915c-109\n",
      "2023-06-26 13:55:34 - src.ast_utils - DEBUG    - Game not found in cache: 6123dcdd95e4f8afd71928a3-110\n",
      "2023-06-26 13:55:34 - src.ast_utils - DEBUG    - Game not found in cache: 6005e777d1d8768d5808b5fd-113\n",
      "2023-06-26 13:55:34 - src.ast_utils - DEBUG    - Game not found in cache: 61087e4fc006ee7d6be38641-114\n",
      "2023-06-26 13:55:34 - src.ast_utils - DEBUG    - Game not found in cache: 5e606b1eaf84e83c728748d7-115\n",
      "2023-06-26 13:55:34 - src.ast_utils - DEBUG    - Game not found in cache: 60bb404e01d599dfb1c3d71c-116\n",
      "2023-06-26 13:55:34 - src.ast_utils - DEBUG    - Game not found in cache: 613e18e92e4ed15176362aa2-117\n",
      "2023-06-26 13:55:34 - src.ast_utils - DEBUG    - Game not found in cache: 5e73ded1027e893642055f86-118\n",
      "2023-06-26 13:55:34 - src.ast_utils - DEBUG    - Updating cache with 98 new games\n",
      "2023-06-26 13:55:34 - src.ast_utils - DEBUG    - About to finally update the cache\n"
     ]
    },
    {
     "name": "stdout",
     "output_type": "stream",
     "text": [
      "98 6272 64.0 100352 1024.0\n"
     ]
    }
   ],
   "source": [
    "grammar = open('../dsl/dsl.ebnf').read()\n",
    "grammar_parser = tatsu.compile(grammar)\n",
    "game_asts = list(cached_load_and_parse_games_from_file('../dsl/interactive-beta.pddl', grammar_parser, False, relative_path='..'))\n",
    "real_game_texts = [ast_printer.ast_to_string(ast, '\\n') for ast in game_asts]\n",
    "regrown_game_texts = list(load_games_from_file('../dsl/ast-real-regrowth-samples.pddl'))\n",
    "regrown_game_1024_texts = list(load_games_from_file('../dsl/ast-real-regrowth-samples-1024.pddl'))\n",
    "print(len(real_game_texts), len(regrown_game_texts), len(regrown_game_texts) / 98, len(regrown_game_1024_texts), len(regrown_game_1024_texts) / 98)\n"
   ]
  },
  {
   "cell_type": "code",
   "execution_count": 4,
   "metadata": {},
   "outputs": [
    {
     "name": "stdout",
     "output_type": "stream",
     "text": [
      "['interactive-beta.pddl' 'ast-real-regrowth-samples-1024.pddl.gz']\n"
     ]
    },
    {
     "data": {
      "text/html": [
       "<div>\n",
       "<style scoped>\n",
       "    .dataframe tbody tr th:only-of-type {\n",
       "        vertical-align: middle;\n",
       "    }\n",
       "\n",
       "    .dataframe tbody tr th {\n",
       "        vertical-align: top;\n",
       "    }\n",
       "\n",
       "    .dataframe thead th {\n",
       "        text-align: right;\n",
       "    }\n",
       "</style>\n",
       "<table border=\"1\" class=\"dataframe\">\n",
       "  <thead>\n",
       "    <tr style=\"text-align: right;\">\n",
       "      <th></th>\n",
       "      <th>Index</th>\n",
       "      <th>src_file</th>\n",
       "      <th>game_name</th>\n",
       "      <th>domain_name</th>\n",
       "      <th>original_game_name</th>\n",
       "      <th>real</th>\n",
       "      <th>variables_defined_all</th>\n",
       "      <th>variables_defined_incorrect_count</th>\n",
       "      <th>variables_used_all</th>\n",
       "      <th>variables_used_incorrect_count</th>\n",
       "      <th>...</th>\n",
       "      <th>ast_ngram_constraints_n_6_score</th>\n",
       "      <th>ast_ngram_constraints_n_7_score</th>\n",
       "      <th>ast_ngram_terminal_n_2_score</th>\n",
       "      <th>ast_ngram_terminal_n_3_score</th>\n",
       "      <th>ast_ngram_terminal_n_4_score</th>\n",
       "      <th>ast_ngram_terminal_n_5_score</th>\n",
       "      <th>ast_ngram_scoring_n_2_score</th>\n",
       "      <th>ast_ngram_scoring_n_3_score</th>\n",
       "      <th>ast_ngram_scoring_n_4_score</th>\n",
       "      <th>ast_ngram_scoring_n_5_score</th>\n",
       "    </tr>\n",
       "  </thead>\n",
       "  <tbody>\n",
       "    <tr>\n",
       "      <th>0</th>\n",
       "      <td>0</td>\n",
       "      <td>interactive-beta.pddl</td>\n",
       "      <td>6172feb1665491d1efbce164-0</td>\n",
       "      <td>medium-objects-room-v1</td>\n",
       "      <td>6172feb1665491d1efbce164-0</td>\n",
       "      <td>1</td>\n",
       "      <td>1</td>\n",
       "      <td>0.0</td>\n",
       "      <td>1</td>\n",
       "      <td>0.0</td>\n",
       "      <td>...</td>\n",
       "      <td>0.981622</td>\n",
       "      <td>0.982730</td>\n",
       "      <td>0.972647</td>\n",
       "      <td>0.982941</td>\n",
       "      <td>0.983447</td>\n",
       "      <td>0.985028</td>\n",
       "      <td>0.922134</td>\n",
       "      <td>0.917226</td>\n",
       "      <td>0.975440</td>\n",
       "      <td>0.987710</td>\n",
       "    </tr>\n",
       "    <tr>\n",
       "      <th>1</th>\n",
       "      <td>1</td>\n",
       "      <td>interactive-beta.pddl</td>\n",
       "      <td>5f77754ba932fb2c4ba181d8-2</td>\n",
       "      <td>many-objects-room-v1</td>\n",
       "      <td>5f77754ba932fb2c4ba181d8-2</td>\n",
       "      <td>1</td>\n",
       "      <td>1</td>\n",
       "      <td>0.0</td>\n",
       "      <td>1</td>\n",
       "      <td>0.0</td>\n",
       "      <td>...</td>\n",
       "      <td>0.949317</td>\n",
       "      <td>0.942306</td>\n",
       "      <td>0.969335</td>\n",
       "      <td>0.980352</td>\n",
       "      <td>0.979375</td>\n",
       "      <td>0.985628</td>\n",
       "      <td>0.924614</td>\n",
       "      <td>0.933171</td>\n",
       "      <td>0.947230</td>\n",
       "      <td>0.963873</td>\n",
       "    </tr>\n",
       "    <tr>\n",
       "      <th>2</th>\n",
       "      <td>2</td>\n",
       "      <td>interactive-beta.pddl</td>\n",
       "      <td>614b603d4da88384282967a7-3</td>\n",
       "      <td>many-objects-room-v1</td>\n",
       "      <td>614b603d4da88384282967a7-3</td>\n",
       "      <td>1</td>\n",
       "      <td>1</td>\n",
       "      <td>0.0</td>\n",
       "      <td>1</td>\n",
       "      <td>0.0</td>\n",
       "      <td>...</td>\n",
       "      <td>0.978548</td>\n",
       "      <td>0.982250</td>\n",
       "      <td>0.000000</td>\n",
       "      <td>0.000000</td>\n",
       "      <td>0.000000</td>\n",
       "      <td>0.000000</td>\n",
       "      <td>0.848037</td>\n",
       "      <td>0.861549</td>\n",
       "      <td>0.925661</td>\n",
       "      <td>0.945054</td>\n",
       "    </tr>\n",
       "    <tr>\n",
       "      <th>3</th>\n",
       "      <td>3</td>\n",
       "      <td>interactive-beta.pddl</td>\n",
       "      <td>5bc79f652885710001a0e82a-5</td>\n",
       "      <td>few-objects-room-v1</td>\n",
       "      <td>5bc79f652885710001a0e82a-5</td>\n",
       "      <td>1</td>\n",
       "      <td>1</td>\n",
       "      <td>0.0</td>\n",
       "      <td>1</td>\n",
       "      <td>0.0</td>\n",
       "      <td>...</td>\n",
       "      <td>0.988626</td>\n",
       "      <td>0.988172</td>\n",
       "      <td>0.000000</td>\n",
       "      <td>0.000000</td>\n",
       "      <td>0.000000</td>\n",
       "      <td>0.000000</td>\n",
       "      <td>0.922134</td>\n",
       "      <td>0.917226</td>\n",
       "      <td>0.975440</td>\n",
       "      <td>0.987710</td>\n",
       "    </tr>\n",
       "    <tr>\n",
       "      <th>4</th>\n",
       "      <td>4</td>\n",
       "      <td>interactive-beta.pddl</td>\n",
       "      <td>614dec67f6eb129c3a77defd-6</td>\n",
       "      <td>medium-objects-room-v1</td>\n",
       "      <td>614dec67f6eb129c3a77defd-6</td>\n",
       "      <td>1</td>\n",
       "      <td>1</td>\n",
       "      <td>0.0</td>\n",
       "      <td>1</td>\n",
       "      <td>0.0</td>\n",
       "      <td>...</td>\n",
       "      <td>0.984418</td>\n",
       "      <td>0.982744</td>\n",
       "      <td>0.000000</td>\n",
       "      <td>0.000000</td>\n",
       "      <td>0.000000</td>\n",
       "      <td>0.000000</td>\n",
       "      <td>0.979648</td>\n",
       "      <td>0.978512</td>\n",
       "      <td>0.971713</td>\n",
       "      <td>0.987759</td>\n",
       "    </tr>\n",
       "  </tbody>\n",
       "</table>\n",
       "<p>5 rows × 401 columns</p>\n",
       "</div>"
      ],
      "text/plain": [
       "   Index               src_file                   game_name  \\\n",
       "0      0  interactive-beta.pddl  6172feb1665491d1efbce164-0   \n",
       "1      1  interactive-beta.pddl  5f77754ba932fb2c4ba181d8-2   \n",
       "2      2  interactive-beta.pddl  614b603d4da88384282967a7-3   \n",
       "3      3  interactive-beta.pddl  5bc79f652885710001a0e82a-5   \n",
       "4      4  interactive-beta.pddl  614dec67f6eb129c3a77defd-6   \n",
       "\n",
       "              domain_name          original_game_name  real  \\\n",
       "0  medium-objects-room-v1  6172feb1665491d1efbce164-0     1   \n",
       "1    many-objects-room-v1  5f77754ba932fb2c4ba181d8-2     1   \n",
       "2    many-objects-room-v1  614b603d4da88384282967a7-3     1   \n",
       "3     few-objects-room-v1  5bc79f652885710001a0e82a-5     1   \n",
       "4  medium-objects-room-v1  614dec67f6eb129c3a77defd-6     1   \n",
       "\n",
       "   variables_defined_all  variables_defined_incorrect_count  \\\n",
       "0                      1                                0.0   \n",
       "1                      1                                0.0   \n",
       "2                      1                                0.0   \n",
       "3                      1                                0.0   \n",
       "4                      1                                0.0   \n",
       "\n",
       "   variables_used_all  variables_used_incorrect_count  ...  \\\n",
       "0                   1                             0.0  ...   \n",
       "1                   1                             0.0  ...   \n",
       "2                   1                             0.0  ...   \n",
       "3                   1                             0.0  ...   \n",
       "4                   1                             0.0  ...   \n",
       "\n",
       "   ast_ngram_constraints_n_6_score  ast_ngram_constraints_n_7_score  \\\n",
       "0                         0.981622                         0.982730   \n",
       "1                         0.949317                         0.942306   \n",
       "2                         0.978548                         0.982250   \n",
       "3                         0.988626                         0.988172   \n",
       "4                         0.984418                         0.982744   \n",
       "\n",
       "   ast_ngram_terminal_n_2_score  ast_ngram_terminal_n_3_score  \\\n",
       "0                      0.972647                      0.982941   \n",
       "1                      0.969335                      0.980352   \n",
       "2                      0.000000                      0.000000   \n",
       "3                      0.000000                      0.000000   \n",
       "4                      0.000000                      0.000000   \n",
       "\n",
       "   ast_ngram_terminal_n_4_score  ast_ngram_terminal_n_5_score  \\\n",
       "0                      0.983447                      0.985028   \n",
       "1                      0.979375                      0.985628   \n",
       "2                      0.000000                      0.000000   \n",
       "3                      0.000000                      0.000000   \n",
       "4                      0.000000                      0.000000   \n",
       "\n",
       "   ast_ngram_scoring_n_2_score  ast_ngram_scoring_n_3_score  \\\n",
       "0                     0.922134                     0.917226   \n",
       "1                     0.924614                     0.933171   \n",
       "2                     0.848037                     0.861549   \n",
       "3                     0.922134                     0.917226   \n",
       "4                     0.979648                     0.978512   \n",
       "\n",
       "   ast_ngram_scoring_n_4_score  ast_ngram_scoring_n_5_score  \n",
       "0                     0.975440                     0.987710  \n",
       "1                     0.947230                     0.963873  \n",
       "2                     0.925661                     0.945054  \n",
       "3                     0.975440                     0.987710  \n",
       "4                     0.971713                     0.987759  \n",
       "\n",
       "[5 rows x 401 columns]"
      ]
     },
     "execution_count": 4,
     "metadata": {},
     "output_type": "execute_result"
    }
   ],
   "source": [
    "def extract_game_index(game_name: str):\n",
    "    first_dash = game_name.find('-')\n",
    "    second_dash = game_name.find('-', first_dash + 1)\n",
    "    index = game_name[first_dash + 1:second_dash] if second_dash != -1 else game_name[first_dash + 1:]\n",
    "    return int(index)\n",
    "\n",
    "\n",
    "def extract_negative_index(game_name: str):\n",
    "    first_dash = game_name.find('-')\n",
    "    second_dash = game_name.find('-', first_dash + 1)\n",
    "    if second_dash == -1:\n",
    "        return -1\n",
    "    \n",
    "    third_dash = game_name.find('-', second_dash + 1)\n",
    "    index = game_name[second_dash + 1:third_dash]\n",
    "    return int(index)\n",
    "\n",
    "\n",
    "fitness_df = utils.load_fitness_data('../data/fitness_features_1024_regrowths.csv.gz')\n",
    "\n",
    "# fitness_df = fitness_df.assign(real=fitness_df.real.astype('int'), game_index=fitness_df.game_name.apply(extract_game_index), \n",
    "#                                negative_index= fitness_df.game_name.apply(extract_negative_index), fake=~fitness_df.real.astype('int'))\n",
    "# fitness_df = fitness_df.sort_values(by=['fake', 'game_index', 'negative_index'], ignore_index=True).reset_index(drop=True)\n",
    "# fitness_df.drop(columns=['Index', 'fake', 'game_index', 'negative_index'], inplace=True)\n",
    "print(fitness_df.src_file.unique())\n",
    "fitness_df.head()"
   ]
  },
  {
   "cell_type": "code",
   "execution_count": 5,
   "metadata": {},
   "outputs": [
    {
     "name": "stdout",
     "output_type": "stream",
     "text": [
      "376\n"
     ]
    }
   ],
   "source": [
    "# USE_BINARIZED_FEATURES_MODEL = True\n",
    "\n",
    "# if USE_BINARIZED_FEATURES_MODEL:\n",
    "#     model_path = '../models/cv_binarized_model_2023_01_20.pkl.gz'\n",
    "#     data_df = binarized_df\n",
    "# else:\n",
    "#     model_path = '../models/cv_fitness_model_2023_01_20.pkl.gz'\n",
    "#     data_df = filtered_fitness_df\n",
    "from latest_model_paths import LATEST_FITNESS_FUNCTION_DATE_ID\n",
    "model_date_id = LATEST_FITNESS_FUNCTION_DATE_ID\n",
    "data_df = fitness_df\n",
    "cv_energy_model, feature_columns = utils.load_model_and_feature_columns(model_date_id)\n",
    "print(len(feature_columns))\n",
    "\n"
   ]
  },
  {
   "cell_type": "code",
   "execution_count": 6,
   "metadata": {},
   "outputs": [
    {
     "name": "stdout",
     "output_type": "stream",
     "text": [
      "adjacent: 19, adjacent_side_3: 4, agent_holds: 11, between: 2, distance: 26, in: 16, in_motion: 11, object_orientation: 6, on: 35, touch: 15\n"
     ]
    }
   ],
   "source": [
    "from collections import Counter\n",
    "counter = Counter([c[:c.index('arg_types') - 1] for c in data_df.columns if 'arg_types' in c])\n",
    "print(', '.join(f'{k}: {v}' for k, v in counter.items()))"
   ]
  },
  {
   "cell_type": "code",
   "execution_count": 24,
   "metadata": {},
   "outputs": [
    {
     "data": {
      "text/html": [
       "<div>\n",
       "<style scoped>\n",
       "    .dataframe tbody tr th:only-of-type {\n",
       "        vertical-align: middle;\n",
       "    }\n",
       "\n",
       "    .dataframe tbody tr th {\n",
       "        vertical-align: top;\n",
       "    }\n",
       "\n",
       "    .dataframe thead th {\n",
       "        text-align: right;\n",
       "    }\n",
       "</style>\n",
       "<table border=\"1\" class=\"dataframe\">\n",
       "  <thead>\n",
       "    <tr style=\"text-align: right;\">\n",
       "      <th></th>\n",
       "      <th>scoring_count_expression_repetitions_max</th>\n",
       "    </tr>\n",
       "    <tr>\n",
       "      <th>real</th>\n",
       "      <th></th>\n",
       "    </tr>\n",
       "  </thead>\n",
       "  <tbody>\n",
       "    <tr>\n",
       "      <th>0</th>\n",
       "      <td>0.017423</td>\n",
       "    </tr>\n",
       "    <tr>\n",
       "      <th>1</th>\n",
       "      <td>0.018367</td>\n",
       "    </tr>\n",
       "  </tbody>\n",
       "</table>\n",
       "</div>"
      ],
      "text/plain": [
       "      scoring_count_expression_repetitions_max\n",
       "real                                          \n",
       "0                                     0.017423\n",
       "1                                     0.018367"
      ]
     },
     "execution_count": 24,
     "metadata": {},
     "output_type": "execute_result"
    }
   ],
   "source": [
    "data_df.groupby('real')[[c for c in data_df.columns if 'scoring_count_expression_repetitions' in c]].mean()"
   ]
  },
  {
   "cell_type": "code",
   "execution_count": 19,
   "metadata": {},
   "outputs": [
    {
     "data": {
      "text/html": [
       "<div>\n",
       "<style scoped>\n",
       "    .dataframe tbody tr th:only-of-type {\n",
       "        vertical-align: middle;\n",
       "    }\n",
       "\n",
       "    .dataframe tbody tr th {\n",
       "        vertical-align: top;\n",
       "    }\n",
       "\n",
       "    .dataframe thead tr th {\n",
       "        text-align: left;\n",
       "    }\n",
       "\n",
       "    .dataframe thead tr:last-of-type th {\n",
       "        text-align: right;\n",
       "    }\n",
       "</style>\n",
       "<table border=\"1\" class=\"dataframe\">\n",
       "  <thead>\n",
       "    <tr>\n",
       "      <th></th>\n",
       "      <th colspan=\"8\" halign=\"left\">length_of_then_modals_3</th>\n",
       "    </tr>\n",
       "    <tr>\n",
       "      <th></th>\n",
       "      <th>count</th>\n",
       "      <th>mean</th>\n",
       "      <th>std</th>\n",
       "      <th>min</th>\n",
       "      <th>25%</th>\n",
       "      <th>50%</th>\n",
       "      <th>75%</th>\n",
       "      <th>max</th>\n",
       "    </tr>\n",
       "    <tr>\n",
       "      <th>real</th>\n",
       "      <th></th>\n",
       "      <th></th>\n",
       "      <th></th>\n",
       "      <th></th>\n",
       "      <th></th>\n",
       "      <th></th>\n",
       "      <th></th>\n",
       "      <th></th>\n",
       "    </tr>\n",
       "  </thead>\n",
       "  <tbody>\n",
       "    <tr>\n",
       "      <th>0</th>\n",
       "      <td>100352.0</td>\n",
       "      <td>0.825684</td>\n",
       "      <td>0.379383</td>\n",
       "      <td>0.0</td>\n",
       "      <td>1.0</td>\n",
       "      <td>1.0</td>\n",
       "      <td>1.0</td>\n",
       "      <td>1.0</td>\n",
       "    </tr>\n",
       "    <tr>\n",
       "      <th>1</th>\n",
       "      <td>98.0</td>\n",
       "      <td>0.816327</td>\n",
       "      <td>0.389209</td>\n",
       "      <td>0.0</td>\n",
       "      <td>1.0</td>\n",
       "      <td>1.0</td>\n",
       "      <td>1.0</td>\n",
       "      <td>1.0</td>\n",
       "    </tr>\n",
       "  </tbody>\n",
       "</table>\n",
       "</div>"
      ],
      "text/plain": [
       "     length_of_then_modals_3                                             \n",
       "                       count      mean       std  min  25%  50%  75%  max\n",
       "real                                                                     \n",
       "0                   100352.0  0.825684  0.379383  0.0  1.0  1.0  1.0  1.0\n",
       "1                       98.0  0.816327  0.389209  0.0  1.0  1.0  1.0  1.0"
      ]
     },
     "execution_count": 19,
     "metadata": {},
     "output_type": "execute_result"
    }
   ],
   "source": [
    "\n",
    "data_df.groupby('real')[[c for c in data_df.columns if 'length_of_then_modals_3' in c]].describe()"
   ]
  },
  {
   "cell_type": "code",
   "execution_count": 22,
   "metadata": {},
   "outputs": [
    {
     "data": {
      "text/html": [
       "<div>\n",
       "<style scoped>\n",
       "    .dataframe tbody tr th:only-of-type {\n",
       "        vertical-align: middle;\n",
       "    }\n",
       "\n",
       "    .dataframe tbody tr th {\n",
       "        vertical-align: top;\n",
       "    }\n",
       "\n",
       "    .dataframe thead tr th {\n",
       "        text-align: left;\n",
       "    }\n",
       "\n",
       "    .dataframe thead tr:last-of-type th {\n",
       "        text-align: right;\n",
       "    }\n",
       "</style>\n",
       "<table border=\"1\" class=\"dataframe\">\n",
       "  <thead>\n",
       "    <tr>\n",
       "      <th></th>\n",
       "      <th colspan=\"8\" halign=\"left\">starts_and_ends_once</th>\n",
       "    </tr>\n",
       "    <tr>\n",
       "      <th></th>\n",
       "      <th>count</th>\n",
       "      <th>mean</th>\n",
       "      <th>std</th>\n",
       "      <th>min</th>\n",
       "      <th>25%</th>\n",
       "      <th>50%</th>\n",
       "      <th>75%</th>\n",
       "      <th>max</th>\n",
       "    </tr>\n",
       "    <tr>\n",
       "      <th>real</th>\n",
       "      <th></th>\n",
       "      <th></th>\n",
       "      <th></th>\n",
       "      <th></th>\n",
       "      <th></th>\n",
       "      <th></th>\n",
       "      <th></th>\n",
       "      <th></th>\n",
       "    </tr>\n",
       "  </thead>\n",
       "  <tbody>\n",
       "    <tr>\n",
       "      <th>0</th>\n",
       "      <td>100352.0</td>\n",
       "      <td>0.844156</td>\n",
       "      <td>0.353026</td>\n",
       "      <td>0.0</td>\n",
       "      <td>1.0</td>\n",
       "      <td>1.0</td>\n",
       "      <td>1.0</td>\n",
       "      <td>1.0</td>\n",
       "    </tr>\n",
       "    <tr>\n",
       "      <th>1</th>\n",
       "      <td>98.0</td>\n",
       "      <td>0.877551</td>\n",
       "      <td>0.329489</td>\n",
       "      <td>0.0</td>\n",
       "      <td>1.0</td>\n",
       "      <td>1.0</td>\n",
       "      <td>1.0</td>\n",
       "      <td>1.0</td>\n",
       "    </tr>\n",
       "  </tbody>\n",
       "</table>\n",
       "</div>"
      ],
      "text/plain": [
       "     starts_and_ends_once                                             \n",
       "                    count      mean       std  min  25%  50%  75%  max\n",
       "real                                                                  \n",
       "0                100352.0  0.844156  0.353026  0.0  1.0  1.0  1.0  1.0\n",
       "1                    98.0  0.877551  0.329489  0.0  1.0  1.0  1.0  1.0"
      ]
     },
     "execution_count": 22,
     "metadata": {},
     "output_type": "execute_result"
    }
   ],
   "source": [
    "data_df.groupby('real')[[c for c in data_df.columns if 'starts_and_ends_once' in c]].describe()"
   ]
  },
  {
   "cell_type": "code",
   "execution_count": 27,
   "metadata": {},
   "outputs": [
    {
     "data": {
      "text/plain": [
       "5"
      ]
     },
     "execution_count": 27,
     "metadata": {},
     "output_type": "execute_result"
    }
   ],
   "source": [
    "data_df[(data_df.real == 1)].scoring_count_expression_repetitions_max.argmax()"
   ]
  },
  {
   "attachments": {},
   "cell_type": "markdown",
   "metadata": {},
   "source": [
    "## Histogram the weights to get a sense of what we're dealing with"
   ]
  },
  {
   "cell_type": "code",
   "execution_count": 13,
   "metadata": {},
   "outputs": [
    {
     "name": "stdout",
     "output_type": "stream",
     "text": [
      "Weights mean: 0.0802, std: 1.6895, bias: 0.0100\n"
     ]
    },
    {
     "data": {
      "image/png": "[encoded data removed]",
      "text/plain": [
       "<Figure size 640x480 with 1 Axes>"
      ]
     },
     "metadata": {},
     "output_type": "display_data"
    }
   ],
   "source": [
    "weights = cv_energy_model.named_steps['fitness'].model.fc1.weight.data.detach().squeeze()  # type: ignore\n",
    "bias = cv_energy_model.named_steps['fitness'].model.fc1.bias.data.detach().squeeze()  # type: ignore\n",
    "print(f'Weights mean: {weights.mean():.4f}, std: {weights.std():.4f}, bias: {bias:.4f}')\n",
    "\n",
    "plt.hist(weights, bins=30)\n",
    "plt.title('Energy model weights')\n",
    "plt.xlabel('Weight magnitude')\n",
    "plt.ylabel('Count')\n",
    "plt.show()"
   ]
  },
  {
   "cell_type": "code",
   "execution_count": 14,
   "metadata": {},
   "outputs": [
    {
     "name": "stdout",
     "output_type": "stream",
     "text": [
      "Approximately 10.0% (38, 10.11%) of the weights have magnitude < 0.0623\n",
      "Approximately 25.0% (94, 25.00%) of the weights have magnitude < 0.1870\n",
      "Approximately 50.0% (188, 50.00%) of the weights have magnitude < 0.4322\n",
      "Approximately 75.0% (282, 75.00%) of the weights have magnitude < 0.8311\n",
      "Approximately 90.0% (339, 90.16%) of the weights have magnitude < 1.4586\n",
      "Approximately 95.0% (358, 95.21%) of the weights have magnitude < 2.3812\n",
      "Approximately 99.0% (373, 99.20%) of the weights have magnitude < 5.1613\n"
     ]
    }
   ],
   "source": [
    "quantiles = [0.1, 0.25, 0.5, 0.75, 0.9, 0.95, 0.99]\n",
    "quantile_index = 0\n",
    "\n",
    "abs_weights = weights.abs()\n",
    "\n",
    "for magnitude in torch.linspace(0,abs_weights.max(), 5000):\n",
    "    n = torch.sum(abs_weights < magnitude).item()\n",
    "    if n / len(weights) >= quantiles[quantile_index]:\n",
    "        print(f'Approximately {quantiles[quantile_index] * 100}% ({n}, {n / len(weights) * 100:.2f}%) of the weights have magnitude < {magnitude:.4f}')\n",
    "        quantile_index += 1\n",
    "\n",
    "    if quantile_index >= len(quantiles):\n",
    "        break"
   ]
  },
  {
   "attachments": {},
   "cell_type": "markdown",
   "metadata": {},
   "source": [
    "## Print the top K features most and least predictive of real games"
   ]
  },
  {
   "cell_type": "code",
   "execution_count": 15,
   "metadata": {},
   "outputs": [
    {
     "data": {
      "text/markdown": [
       "### Features with largest negative weights (most predictive of real games):\n",
       "1. ast_ngram_full_n_7_score (-20.7739)\n",
       "2. ast_ngram_constraints_n_7_score (-14.4337)\n",
       "3. ast_ngram_setup_n_5_score (-7.1869)\n",
       "4. variables_used_all (-4.6152)\n",
       "5. preferences_used_all (-3.5814)\n",
       "6. ast_ngram_scoring_n_5_score (-3.0020)\n",
       "7. in_motion_arg_types_small_objects_constraints (-2.4429)\n",
       "8. ast_ngram_terminal_n_5_score (-2.1047)\n",
       "9. max_quantification_count_setup_0 (-1.7084)\n",
       "10. variables_defined_all (-1.6600)\n",
       "11. in_arg_types_receptacles_any_object_constraints (-1.5861)\n",
       "12. max_width_scoring_0 (-1.5689)\n",
       "13. distance_arg_types_balls_balls_setup (-1.5682)\n",
       "14. on_arg_types_furniture_any_object_constraints (-1.5278)\n",
       "15. mean_depth_constraints_4 (-1.4295)\n",
       "16. in_arg_types_receptacles_balls_constraints (-1.3208)\n",
       "17. pref_forall_pref_forall_correct_arity_correct (-1.2953)\n",
       "18. adjacent_arg_types_agent_large_objects_constraints (-1.2566)\n",
       "19. on_arg_types_furniture_large_objects_constraints (-1.2154)\n",
       "20. max_width_constraints_2 (-1.2004)\n",
       "### Features with largest positive weights (most predictive of fake games):\n",
       "1. pref_forall_used_incorrect (5.1597)\n",
       "2. pref_forall_pref_forall_correct_types_incorrect (5.0220)\n",
       "3. repeated_variables_found (4.3051)\n",
       "4. two_number_operation_found (3.7429)\n",
       "5. disjoint_seq_funcs_found (3.5515)\n",
       "6. in_arg_types_other_constraints (3.3543)\n",
       "7. adjacent_arg_types_other_constraints (3.3477)\n",
       "8. pref_forall_pref_forall_correct_arity_incorrect (2.9997)\n",
       "9. redundant_expression_found (2.9645)\n",
       "10. distance_arg_types_other_constraints (2.7155)\n",
       "11. in_motion_arg_types_room_features_constraints (2.4037)\n",
       "12. agent_holds_arg_types_other_setup (2.3802)\n",
       "13. in_motion_arg_types_other_setup (2.2910)\n",
       "14. agent_holds_arg_types_room_features_constraints (2.2677)\n",
       "15. nested_logicals_found (2.2457)\n",
       "16. in_motion_arg_types_agent_constraints (2.1954)\n",
       "17. agent_holds_arg_types_agent_constraints (2.0320)\n",
       "18. agent_holds_arg_types_furniture_constraints (1.9730)\n",
       "19. in_motion_arg_types_other_constraints (1.9705)\n",
       "20. agent_holds_arg_types_other_constraints (1.9516)"
      ],
      "text/plain": [
       "<IPython.core.display.Markdown object>"
      ]
     },
     "metadata": {},
     "output_type": "display_data"
    }
   ],
   "source": [
    "K = 20\n",
    "top_features = torch.topk(weights, K)\n",
    "bottom_features = torch.topk(weights, K, largest=False)\n",
    "\n",
    "lines = []\n",
    "\n",
    "lines.append('### Features with largest negative weights (most predictive of real games):')\n",
    "for i in range(K):\n",
    "    lines.append(f'{i+1}. {feature_columns[bottom_features.indices[i]]} ({bottom_features.values[i]:.4f})')\n",
    "\n",
    "lines.append('### Features with largest positive weights (most predictive of fake games):')\n",
    "for i in range(K):\n",
    "    lines.append((f'{i+1}. {feature_columns[top_features.indices[i]]} ({top_features.values[i]:.4f})'))\n",
    "\n",
    "display(Markdown('\\n'.join(lines)))\n"
   ]
  },
  {
   "cell_type": "code",
   "execution_count": null,
   "metadata": {},
   "outputs": [],
   "source": []
  },
  {
   "cell_type": "code",
   "execution_count": 16,
   "metadata": {},
   "outputs": [
    {
     "data": {
      "text/plain": [
       "[('preferences_used_all', tensor(-3.5814)),\n",
       " ('preferences_used_incorrect_count', tensor(0.4940))]"
      ]
     },
     "execution_count": 16,
     "metadata": {},
     "output_type": "execute_result"
    }
   ],
   "source": [
    "[(c, weights[i]) for i, c in enumerate(feature_columns) if 'preferences_used' in c]"
   ]
  },
  {
   "cell_type": "code",
   "execution_count": 17,
   "metadata": {},
   "outputs": [
    {
     "data": {
      "text/plain": [
       "[('adjacent_once_found', tensor(0.7220)),\n",
       " ('starts_and_ends_once', tensor(0.7131)),\n",
       " ('once_in_middle_of_pref_found', tensor(0.9454)),\n",
       " ('pref_forall_count_once_per_external_objects_used_correct', tensor(0.6007)),\n",
       " ('pref_forall_count_once_per_external_objects_used_incorrect',\n",
       "  tensor(0.2277)),\n",
       " ('pref_forall_count_once_per_external_objects_used_incorrect_count',\n",
       "  tensor(-0.0365)),\n",
       " ('predicate_under_modal_once_measure_in_motion', tensor(0.0534)),\n",
       " ('predicate_under_modal_once_measure_object_orientation', tensor(-0.0442)),\n",
       " ('predicate_under_modal_once_measure_in', tensor(-0.0527)),\n",
       " ('predicate_under_modal_once_measure_between', tensor(0.0186)),\n",
       " ('predicate_under_modal_once_measure_agent_holds', tensor(-0.2547)),\n",
       " ('predicate_under_modal_once_measure_touch', tensor(-0.0031)),\n",
       " ('predicate_under_modal_once_measure_distance', tensor(0.0714)),\n",
       " ('predicate_under_modal_once_measure_on', tensor(-0.0766)),\n",
       " ('predicate_under_modal_once_measure_adjacent', tensor(-0.0891)),\n",
       " ('predicate_under_modal_once_measure_adjacent_side_3', tensor(-0.0373)),\n",
       " ('predicate_under_modal_once_in_motion', tensor(0.1654)),\n",
       " ('predicate_under_modal_once_object_orientation', tensor(0.1608)),\n",
       " ('predicate_under_modal_once_in', tensor(1.0922)),\n",
       " ('predicate_under_modal_once_between', tensor(0.2540)),\n",
       " ('predicate_under_modal_once_agent_holds', tensor(-0.9518)),\n",
       " ('predicate_under_modal_once_touch', tensor(0.3935)),\n",
       " ('predicate_under_modal_once_distance', tensor(0.3838)),\n",
       " ('predicate_under_modal_once_on', tensor(0.2231)),\n",
       " ('predicate_under_modal_once_adjacent', tensor(-0.4239)),\n",
       " ('predicate_under_modal_once_adjacent_side_3', tensor(0.6275))]"
      ]
     },
     "execution_count": 17,
     "metadata": {},
     "output_type": "execute_result"
    }
   ],
   "source": [
    "[(c, weights[i]) for i, c in enumerate(feature_columns) if 'once' in c]"
   ]
  },
  {
   "cell_type": "code",
   "execution_count": null,
   "metadata": {},
   "outputs": [],
   "source": [
    "data_df.groupby('real').variables_used_incorrect_count.describe()"
   ]
  },
  {
   "cell_type": "code",
   "execution_count": null,
   "metadata": {},
   "outputs": [],
   "source": [
    "[(c, weights[feature_columns.index(c)]) for c in feature_columns if 'once' in c]"
   ]
  },
  {
   "cell_type": "code",
   "execution_count": null,
   "metadata": {},
   "outputs": [],
   "source": [
    "[(c, weights[feature_columns.index(c)]) for c in feature_columns if c.startswith('ast_ngram') and c.endswith('score')]"
   ]
  },
  {
   "cell_type": "code",
   "execution_count": null,
   "metadata": {},
   "outputs": [],
   "source": [
    "threshold = 5.0\n",
    "\n",
    "fs = [c for i, c in enumerate(feature_columns) if \n",
    "      (weights[i].abs() < threshold) and ('arg_types' in c  or c.startswith('compositionality') or c.startswith('predicate_under_'))]\n",
    "\n",
    "len(fs)"
   ]
  },
  {
   "cell_type": "code",
   "execution_count": null,
   "metadata": {},
   "outputs": [],
   "source": [
    "p = 0.1\n",
    "s = data_df[data_df.real == 1][fs].mean().sort_values(ascending=False)\n",
    "print(len(s[s > p]))\n",
    "s[s > p].index"
   ]
  },
  {
   "cell_type": "code",
   "execution_count": null,
   "metadata": {},
   "outputs": [],
   "source": []
  },
  {
   "cell_type": "code",
   "execution_count": null,
   "metadata": {},
   "outputs": [],
   "source": []
  },
  {
   "attachments": {},
   "cell_type": "markdown",
   "metadata": {},
   "source": [
    "## Plot a histogram of the values for each of the and bottom K features"
   ]
  },
  {
   "cell_type": "code",
   "execution_count": null,
   "metadata": {},
   "outputs": [],
   "source": [
    "def plot_value_histograms(df: pd.DataFrame, weights: torch.Tensor, k: int = 10,\n",
    "    largest: bool = True, bins: int = 100, histogram_log_y: bool = True, \n",
    "    histogram_density: bool = True, layout: typing.Optional[typing.Tuple[int, int]] = None,\n",
    "    figsize: typing.Optional[typing.Tuple[float, float]] = None, \n",
    "    panel_width: float = 4, panel_height: float = 4, ylabel_once_per_row: bool = True,\n",
    "    subplots_adjust_params: typing.Optional[typing.Dict[str, float]] = None,\n",
    "    title_fontsize: int = 12, title_split_threshold: int = 25,\n",
    "    cm: plt.get_cmap('tab20') = plt.get_cmap('tab20')):  # type: ignore\n",
    "    \n",
    "    if layout is None:\n",
    "        largest_div = int(np.floor(k ** 0.5))\n",
    "        while k % largest_div != 0:\n",
    "            largest_div -= 1\n",
    "\n",
    "        layout = (largest_div, k // largest_div)\n",
    "\n",
    "    if figsize is None:\n",
    "        figsize = (layout[1] * panel_width, layout[0] * panel_height)\n",
    "\n",
    "    fig, axes = plt.subplots(*layout, figsize=figsize)\n",
    "\n",
    "    top_k = torch.topk(weights, k, largest=largest)\n",
    "\n",
    "    for i in range(k):\n",
    "        feature_index = top_k.indices[i]\n",
    "        ax = axes[i // layout[1]][i % layout[1]]\n",
    "\n",
    "        real_values = df[df.real == 1][feature_columns[feature_index]].to_numpy()\n",
    "        synthetic_values = df[df.real == 0][feature_columns[feature_index]].to_numpy()\n",
    "\n",
    "        # print(f'Feature = 0 {(real_values == 0).mean() * 100:.2f}% of the time in real games, {(synthetic_values == 0).mean() * 100:.2f}% of the time in synthetic games')\n",
    "\n",
    "        ax.hist([real_values, synthetic_values], label=['Real games', 'Regrown games'], \n",
    "            stacked=False, density=histogram_density, bins=bins, color=[cm.colors[0], cm.colors[2]])  # type: ignore\n",
    "        ax.set_xlabel('Feature value')\n",
    "\n",
    "        if not ylabel_once_per_row or i % layout[1] == 0:\n",
    "            if histogram_density:\n",
    "                if histogram_log_y:\n",
    "                    ax.set_ylabel('log(Density)')\n",
    "                else:\n",
    "                    ax.set_ylabel('Density')\n",
    "            elif histogram_log_y:\n",
    "                ax.set_ylabel('log(Count)')\n",
    "            else:\n",
    "                ax.set_ylabel('Count')\n",
    "\n",
    "        if histogram_log_y:\n",
    "            ax.semilogy()\n",
    "        \n",
    "        title_feature = f'#{i + 1}: {feature_columns[feature_index]}'\n",
    "        title_weight = f'(weight: {top_k.values[i]:.4f})'\n",
    "        if len(title_feature) > title_split_threshold:\n",
    "            title_split_index = title_feature.find('_', title_split_threshold) + 1\n",
    "            if title_split_index == 0:\n",
    "                title_split_index = len(title_feature)\n",
    "            title = f'{title_feature[:title_split_index]}\\n{title_feature[title_split_index:]} {title_weight}'\n",
    "        else:\n",
    "            title = f'{title_feature}\\n{title_weight}'\n",
    "\n",
    "        ax.set_title(title, fontdict=dict(fontsize=title_fontsize))\n",
    "        ax.legend(loc='best')\n",
    "\n",
    "    if subplots_adjust_params is not None:\n",
    "        plt.subplots_adjust(**subplots_adjust_params)\n",
    "        \n",
    "    plt.show()\n",
    "\n",
    "        "
   ]
  },
  {
   "attachments": {},
   "cell_type": "markdown",
   "metadata": {},
   "source": [
    "## For the 20 features with the largest negative weights, that is, most predictive of real games"
   ]
  },
  {
   "cell_type": "code",
   "execution_count": null,
   "metadata": {},
   "outputs": [],
   "source": [
    "k = 20\n",
    "plot_value_histograms(data_df, weights, k=k, largest=False, bins=20, histogram_log_y=False, histogram_density=True,\n",
    "    subplots_adjust_params=dict(hspace=0.4), title_fontsize=10)"
   ]
  },
  {
   "attachments": {},
   "cell_type": "markdown",
   "metadata": {},
   "source": [
    "## For the 20 features with largest weights, that is, most predictive of a fake game"
   ]
  },
  {
   "cell_type": "code",
   "execution_count": null,
   "metadata": {},
   "outputs": [],
   "source": [
    "plot_value_histograms(data_df, weights, k=k, largest=True, bins=20,  histogram_log_y=False, histogram_density=True,\n",
    "    subplots_adjust_params=dict(hspace=0.4), title_fontsize=10)"
   ]
  },
  {
   "attachments": {},
   "cell_type": "markdown",
   "metadata": {},
   "source": [
    "## Visualizing some top negatives"
   ]
  },
  {
   "cell_type": "code",
   "execution_count": null,
   "metadata": {},
   "outputs": [],
   "source": [
    "full_tensor = utils.df_to_tensor(data_df, feature_columns)\n",
    "if 'wrapper' in cv_energy_model.named_steps: cv_energy_model.named_steps['wrapper'].eval()\n",
    "full_tensor_scores = cv_energy_model.transform(full_tensor).detach()"
   ]
  },
  {
   "cell_type": "code",
   "execution_count": null,
   "metadata": {},
   "outputs": [],
   "source": [
    "real_game_scores = full_tensor_scores[:, 0]\n",
    "print(f'Real game scores: {real_game_scores.mean():.4f} ± {real_game_scores.std():.4f}, min = {real_game_scores.min():.4f}, max = {real_game_scores.max():.4f}')"
   ]
  },
  {
   "cell_type": "code",
   "execution_count": null,
   "metadata": {},
   "outputs": [],
   "source": [
    "utils.plot_energy_histogram(cv_energy_model, full_tensor)"
   ]
  },
  {
   "cell_type": "code",
   "execution_count": null,
   "metadata": {},
   "outputs": [],
   "source": [
    "negatives_scores = full_tensor_scores[:, 1:]\n",
    "torch.quantile(negatives_scores.ravel(), torch.linspace(0, 1, 11))\n",
    "torch.quantile(negatives_scores.ravel(), 0.2)"
   ]
  },
  {
   "cell_type": "code",
   "execution_count": null,
   "metadata": {},
   "outputs": [],
   "source": [
    "positive_scores = full_tensor_scores[:, 0]\n",
    "score_diffs = negatives_scores - positive_scores.unsqueeze(1)"
   ]
  },
  {
   "cell_type": "code",
   "execution_count": null,
   "metadata": {},
   "outputs": [],
   "source": [
    "torch.topk(score_diffs.ravel(), 10, largest=False)"
   ]
  },
  {
   "cell_type": "code",
   "execution_count": null,
   "metadata": {},
   "outputs": [],
   "source": [
    "N_NEGATIVES = 20\n",
    "for index in torch.topk(score_diffs.ravel(), N_NEGATIVES, largest=False).indices:\n",
    "    utils.evaluate_energy_contributions(cv_energy_model, full_tensor, index, \n",
    "        feature_columns, full_tensor, real_game_texts, regrown_game_1024_texts, display_features_diff=False, min_display_threshold=0.001)\n",
    "    \n",
    "    display(Markdown('---'))"
   ]
  },
  {
   "cell_type": "code",
   "execution_count": null,
   "metadata": {},
   "outputs": [],
   "source": [
    "data_df.loc[data_df.game_name == '5fefd5b2173bfbe890bc98ed-88-1012-nd-4-rd-14-rs-setup-sk-prior1', 'agent_holds_arg_types_other_setup']"
   ]
  },
  {
   "cell_type": "code",
   "execution_count": null,
   "metadata": {},
   "outputs": [],
   "source": [
    "print(regrown_game_1024_texts[75 * 1024 + 1012])"
   ]
  },
  {
   "attachments": {},
   "cell_type": "markdown",
   "metadata": {},
   "source": [
    "## If we never need to load a featurizer for anything\n"
   ]
  },
  {
   "cell_type": "code",
   "execution_count": null,
   "metadata": {},
   "outputs": [],
   "source": [
    "from src.fitness_features import *\n",
    "with gzip.open('../models/fitness_featurizer_2023_03_22.pkl.gz', 'rb') as f:\n",
    "    featurizer = pickle.load(f)  # type: ignore"
   ]
  },
  {
   "cell_type": "code",
   "execution_count": null,
   "metadata": {},
   "outputs": [],
   "source": [
    "ast = grammar_parser.parse(regrown_game_1024_texts[75 * 1024 + 1012])\n",
    "r = featurizer.parse(ast, '', True, False)\n",
    "{k: v for k, v in r.items() if k.startswith('agent_holds') and k.endswith('setup')}"
   ]
  },
  {
   "cell_type": "code",
   "execution_count": null,
   "metadata": {},
   "outputs": [],
   "source": [
    "r = featurizer.parse(ast, '', True, True)\n",
    "{k: v for k, v in r.items() if k.startswith('agent_holds') and k.endswith('setup')}"
   ]
  },
  {
   "attachments": {},
   "cell_type": "markdown",
   "metadata": {},
   "source": [
    "## Analyzing the role of different variables on the difficulty of the negative"
   ]
  },
  {
   "cell_type": "code",
   "execution_count": null,
   "metadata": {},
   "outputs": [],
   "source": [
    "NEGATIVE_DIFFICULTY_COLUMNS = [\n",
    "    'game_name', 'regrowth_index', \n",
    "    'original_game_name', 'original_game_index', \n",
    "    'node_depth', 'regrowth_depth', \n",
    "    'regrowth_section', 'regrowth_sampler', \n",
    "    'score_diff'\n",
    "]\n",
    "\n",
    "def apply_and_concat(dataframe, field, func, column_names):\n",
    "    return pd.concat((\n",
    "        dataframe,\n",
    "        dataframe[field].apply(\n",
    "            lambda cell: pd.Series(func(cell), index=column_names))), axis=1)\n",
    "\n",
    "\n",
    "game_name_to_index = {game_name: i for i, game_name in enumerate(data_df.loc[data_df.real == 1, 'game_name'])}\n",
    "\n",
    "\n",
    "def extract_info_from_game_name(game_name: str):\n",
    "    i = utils._find_nth(game_name, '-', 2)\n",
    "    original_game_name, regrowth_info = game_name[:i], game_name[i + 1:]\n",
    "    regrowth_index, _, node_depth, _, regrowth_depth, _, regrowth_section, _, regrowth_sampler = regrowth_info.split('-')\n",
    "    regrowth_index = int(regrowth_index)\n",
    "    node_depth = int(node_depth)\n",
    "    regrowth_depth = int(regrowth_depth)\n",
    "    original_game_index = game_name_to_index[original_game_name]\n",
    "    score_diff = score_diffs[original_game_index, regrowth_index].item()\n",
    "    return [regrowth_index, original_game_name, original_game_index, node_depth, regrowth_depth, regrowth_section, regrowth_sampler, score_diff]\n",
    "\n",
    "\n",
    "negative_difficulty_df = data_df.loc[data_df.real == 0, ['game_name']]\n",
    "negative_difficulty_df = apply_and_concat(negative_difficulty_df, 'game_name', extract_info_from_game_name, NEGATIVE_DIFFICULTY_COLUMNS[1:])\n",
    "\n",
    "\n"
   ]
  },
  {
   "cell_type": "code",
   "execution_count": null,
   "metadata": {},
   "outputs": [],
   "source": [
    "negative_difficulty_df.head()"
   ]
  },
  {
   "cell_type": "code",
   "execution_count": null,
   "metadata": {},
   "outputs": [],
   "source": [
    "negative_difficulty_df.groupby('regrowth_sampler').score_diff.describe()"
   ]
  },
  {
   "cell_type": "code",
   "execution_count": null,
   "metadata": {},
   "outputs": [],
   "source": [
    "negative_difficulty_df.groupby('regrowth_section').score_diff.describe()"
   ]
  },
  {
   "cell_type": "code",
   "execution_count": null,
   "metadata": {},
   "outputs": [],
   "source": [
    "def sem(x):\n",
    "    return np.std(x) / np.sqrt(len(x))\n",
    "\n",
    "regrowth_depth_impact = negative_difficulty_df.groupby('regrowth_depth').score_diff.agg(['mean', sem])"
   ]
  },
  {
   "cell_type": "code",
   "execution_count": null,
   "metadata": {},
   "outputs": [],
   "source": [
    "\n",
    "plt.plot(regrowth_depth_impact.index.values, regrowth_depth_impact['mean'].values, 'o', linestyle='-')\n",
    "plt.errorbar(regrowth_depth_impact.index.values, regrowth_depth_impact['mean'].values, regrowth_depth_impact['sem'].values, linestyle='None')\n",
    "plt.xlabel('Regrown tree depth')\n",
    "plt.ylabel('Mean energy difference (lower is harder)')\n",
    "plt.title('Mean energy difference by regrown tree depth')\n",
    "# regrowth_depth_impact['mean']"
   ]
  },
  {
   "attachments": {},
   "cell_type": "markdown",
   "metadata": {},
   "source": [
    "## Playing around with knocking out weights below some threshold"
   ]
  },
  {
   "cell_type": "code",
   "execution_count": null,
   "metadata": {},
   "outputs": [],
   "source": [
    "full_tensor = utils.df_to_tensor(data_df, feature_columns)\n",
    "\n",
    "\n",
    "for threshold in (0, 0.1, 0.2, 0.3):\n",
    "    weights = cv_energy_model.named_steps['fitness'].model.fc1.weight.data.detach().squeeze()  # type: ignore\n",
    "    weights[weights.abs() < threshold] = 0\n",
    "    model_copy = copy.deepcopy(cv_energy_model)\n",
    "    model_copy.named_steps['fitness'].model.fc1.weight.data = weights.unsqueeze(0)  # type: ignore\n",
    "\n",
    "    print(f'With threshold = {threshold}:')\n",
    "    print(utils.evaluate_trained_model(model_copy, full_tensor, utils.default_multiple_scoring)) \n",
    "    print()"
   ]
  }
 ],
 "metadata": {
  "kernelspec": {
   "display_name": "game-gen",
   "language": "python",
   "name": "python3"
  },
  "language_info": {
   "codemirror_mode": {
    "name": "ipython",
    "version": 3
   },
   "file_extension": ".py",
   "mimetype": "text/x-python",
   "name": "python",
   "nbconvert_exporter": "python",
   "pygments_lexer": "ipython3",
   "version": "3.10.8"
  },
  "orig_nbformat": 4,
  "vscode": {
   "interpreter": {
    "hash": "a8b8c8d5c21b7aee7bd0053f69e9c255c013bbea7031fbef7e66d58dd46c0fa6"
   }
  }
 },
 "nbformat": 4,
 "nbformat_minor": 2
}
