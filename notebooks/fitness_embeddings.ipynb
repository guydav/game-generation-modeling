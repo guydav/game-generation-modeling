{
 "cells": [
  {
   "cell_type": "code",
   "execution_count": 1,
   "metadata": {},
   "outputs": [],
   "source": [
    "%autoreload 2"
   ]
  },
  {
   "cell_type": "code",
   "execution_count": 2,
   "metadata": {},
   "outputs": [],
   "source": [
    "from collections import defaultdict\n",
    "import difflib\n",
    "import gzip\n",
    "import os\n",
    "import pickle\n",
    "import re\n",
    "import string\n",
    "import sys\n",
    "import time\n",
    "import typing\n",
    "\n",
    "from IPython.display import display, Markdown, HTML\n",
    "import matplotlib\n",
    "import matplotlib.pyplot as plt\n",
    "import numpy as np\n",
    "from pactools.grid_search import GridSearchCVProgressBar\n",
    "import pandas as pd\n",
    "import sklearn\n",
    "from sklearn.model_selection import GridSearchCV, train_test_split, KFold\n",
    "from sklearn.pipeline import Pipeline\n",
    "from sklearn.manifold import TSNE\n",
    "from sklearn.decomposition import PCA\n",
    "import tatsu\n",
    "import torch\n",
    "import torch.nn as nn\n",
    "import torch.nn.functional as F\n",
    "import tqdm.notebook as tqdm\n",
    "\n",
    "\n",
    "sys.path.append(os.path.abspath('..'))\n",
    "sys.path.append(os.path.abspath('../src'))\n",
    "from src import fitness_energy_utils as utils\n",
    "from src.ast_utils import load_games_from_file, _extract_game_id, cached_load_and_parse_games_from_file\n",
    "from src import ast_printer\n",
    "from src import room_and_object_types\n",
    "from src import fitness_features\n"
   ]
  },
  {
   "cell_type": "code",
   "execution_count": 3,
   "metadata": {},
   "outputs": [],
   "source": [
    "import openai\n",
    "openai.api_key = os.getenv('OPENAI_API_KEY')"
   ]
  },
  {
   "cell_type": "code",
   "execution_count": 4,
   "metadata": {},
   "outputs": [],
   "source": [
    "f = open('../dsl/dsl.ebnf')\n",
    "grammar = f.read()\n",
    "f.close()\n",
    "grammar_parser = tatsu.compile(grammar)\n",
    "game_asts = cached_load_and_parse_games_from_file('../dsl/interactive-beta.pddl', grammar_parser, False, relative_path='..')\n",
    "game_texts = [ast_printer.ast_to_string(ast, '\\n') for ast in game_asts]"
   ]
  },
  {
   "cell_type": "code",
   "execution_count": 5,
   "metadata": {},
   "outputs": [],
   "source": [
    "whitespace_pattern = re.compile(r'\\s+')\n",
    "\n",
    "def embed_text(text: str, model: str = 'text-embedding-ada-002'):\n",
    "    text = whitespace_pattern.sub(' ', text).strip()\n",
    "    return openai.Embedding.create(input=[text], model=model)\n",
    "\n",
    "\n",
    "def embed_multiple_texts(texts: typing.List[str], model: str = 'text-embedding-ada-002'):\n",
    "    texts = [whitespace_pattern.sub(' ', t).strip() for t in texts]\n",
    "    return openai.Embedding.create(input=texts, model=model)\n"
   ]
  },
  {
   "cell_type": "code",
   "execution_count": 6,
   "metadata": {},
   "outputs": [],
   "source": [
    "regrown_game_texts = list(load_games_from_file('../dsl/ast-real-regrowth-samples.pddl'))\n",
    "REGROWN_GAMES_PER_ORIGINAL = int(len(regrown_game_texts) / len(game_texts))\n",
    "\n",
    "game_id_pattern = re.compile(r'([\\d\\w]+-\\d+)-\\d+')\n",
    "regrown_game_texts = [game_id_pattern.sub(r'\\1', text) for text in regrown_game_texts]"
   ]
  },
  {
   "cell_type": "code",
   "execution_count": 20,
   "metadata": {},
   "outputs": [
    {
     "name": "stdout",
     "output_type": "stream",
     "text": [
      "torch.Size([98, 1536])\n"
     ]
    },
    {
     "data": {
      "application/vnd.jupyter.widget-view+json": {
       "model_id": "cee699d651e64abc924e29cd3357e927",
       "version_major": 2,
       "version_minor": 0
      },
      "text/plain": [
       "  0%|          | 0/98 [00:00<?, ?it/s]"
      ]
     },
     "metadata": {},
     "output_type": "display_data"
    },
    {
     "name": "stdout",
     "output_type": "stream",
     "text": [
      "torch.Size([98, 64, 1536])\n"
     ]
    }
   ],
   "source": [
    "REGENERATE_EMBEDDINGS = False \n",
    "\n",
    "\n",
    "def load_or_generate_embeddings(generate: bool, original_texts: typing.List[str], regrown_texts: typing.List[str], \n",
    "    embeddings_file_suffix: typing.Optional[str] = None,\n",
    "    real_game_embeddings_path: str = '../data/interactive-beta-embeddings.pt', \n",
    "    regrown_game_embeddings_path: str = '../data/ast-real-regrowth-samples-embeddings.pt'):\n",
    "\n",
    "    if embeddings_file_suffix is not None:\n",
    "        real_game_embeddings_path = real_game_embeddings_path.replace('.pt', f'-{embeddings_file_suffix}.pt')\n",
    "        regrown_game_embeddings_path = regrown_game_embeddings_path.replace('.pt', f'-{embeddings_file_suffix}.pt')\n",
    "\n",
    "    if generate:\n",
    "        results = embed_multiple_texts(original_texts)\n",
    "        embeddings = torch.tensor([results.data[i].embedding for i in range(len(results.data))])\n",
    "        print(embeddings.shape)\n",
    "        torch.save(embeddings, real_game_embeddings_path, pickle_protocol=pickle.HIGHEST_PROTOCOL)\n",
    "\n",
    "        embeddings_by_game = []\n",
    "\n",
    "        for i in tqdm.tnrange(len(original_texts)):\n",
    "            game_regrown_games = regrown_texts[i * REGROWN_GAMES_PER_ORIGINAL: (i + 1) * REGROWN_GAMES_PER_ORIGINAL]\n",
    "            game_results = embed_multiple_texts(game_regrown_games)\n",
    "            game_embeddings = torch.tensor([game_results.data[i].embedding for i in range(len(game_results.data))])\n",
    "            embeddings_by_game.append(game_embeddings)\n",
    "            time.sleep(5)\n",
    "\n",
    "        regrowth_embeddings = torch.stack(embeddings_by_game)\n",
    "        print(regrowth_embeddings.shape)\n",
    "        torch.save(regrowth_embeddings, regrown_game_embeddings_path, pickle_protocol=pickle.HIGHEST_PROTOCOL)\n",
    "\n",
    "    else:\n",
    "        embeddings = torch.load(real_game_embeddings_path)\n",
    "        regrowth_embeddings = torch.load(regrown_game_embeddings_path)\n",
    "\n",
    "    return embeddings, regrowth_embeddings\n",
    "\n",
    "\n",
    "embeddings, regrowth_embeddings = load_or_generate_embeddings(REGENERATE_EMBEDDINGS, game_texts, regrown_game_texts)\n"
   ]
  },
  {
   "attachments": {},
   "cell_type": "markdown",
   "metadata": {},
   "source": [
    "## Let's see what the space of these embeddings looks like"
   ]
  },
  {
   "cell_type": "code",
   "execution_count": 21,
   "metadata": {},
   "outputs": [
    {
     "data": {
      "text/plain": [
       "torch.Size([6370, 1536])"
      ]
     },
     "execution_count": 21,
     "metadata": {},
     "output_type": "execute_result"
    }
   ],
   "source": [
    "all_embeddings = torch.cat([embeddings, regrowth_embeddings.reshape(-1, regrowth_embeddings.shape[-1])], dim=0)\n",
    "all_embeddings.shape"
   ]
  },
  {
   "cell_type": "code",
   "execution_count": 22,
   "metadata": {},
   "outputs": [
    {
     "data": {
      "text/html": [
       "<style>#sk-container-id-1 {color: black;background-color: white;}#sk-container-id-1 pre{padding: 0;}#sk-container-id-1 div.sk-toggleable {background-color: white;}#sk-container-id-1 label.sk-toggleable__label {cursor: pointer;display: block;width: 100%;margin-bottom: 0;padding: 0.3em;box-sizing: border-box;text-align: center;}#sk-container-id-1 label.sk-toggleable__label-arrow:before {content: \"▸\";float: left;margin-right: 0.25em;color: #696969;}#sk-container-id-1 label.sk-toggleable__label-arrow:hover:before {color: black;}#sk-container-id-1 div.sk-estimator:hover label.sk-toggleable__label-arrow:before {color: black;}#sk-container-id-1 div.sk-toggleable__content {max-height: 0;max-width: 0;overflow: hidden;text-align: left;background-color: #f0f8ff;}#sk-container-id-1 div.sk-toggleable__content pre {margin: 0.2em;color: black;border-radius: 0.25em;background-color: #f0f8ff;}#sk-container-id-1 input.sk-toggleable__control:checked~div.sk-toggleable__content {max-height: 200px;max-width: 100%;overflow: auto;}#sk-container-id-1 input.sk-toggleable__control:checked~label.sk-toggleable__label-arrow:before {content: \"▾\";}#sk-container-id-1 div.sk-estimator input.sk-toggleable__control:checked~label.sk-toggleable__label {background-color: #d4ebff;}#sk-container-id-1 div.sk-label input.sk-toggleable__control:checked~label.sk-toggleable__label {background-color: #d4ebff;}#sk-container-id-1 input.sk-hidden--visually {border: 0;clip: rect(1px 1px 1px 1px);clip: rect(1px, 1px, 1px, 1px);height: 1px;margin: -1px;overflow: hidden;padding: 0;position: absolute;width: 1px;}#sk-container-id-1 div.sk-estimator {font-family: monospace;background-color: #f0f8ff;border: 1px dotted black;border-radius: 0.25em;box-sizing: border-box;margin-bottom: 0.5em;}#sk-container-id-1 div.sk-estimator:hover {background-color: #d4ebff;}#sk-container-id-1 div.sk-parallel-item::after {content: \"\";width: 100%;border-bottom: 1px solid gray;flex-grow: 1;}#sk-container-id-1 div.sk-label:hover label.sk-toggleable__label {background-color: #d4ebff;}#sk-container-id-1 div.sk-serial::before {content: \"\";position: absolute;border-left: 1px solid gray;box-sizing: border-box;top: 0;bottom: 0;left: 50%;z-index: 0;}#sk-container-id-1 div.sk-serial {display: flex;flex-direction: column;align-items: center;background-color: white;padding-right: 0.2em;padding-left: 0.2em;position: relative;}#sk-container-id-1 div.sk-item {position: relative;z-index: 1;}#sk-container-id-1 div.sk-parallel {display: flex;align-items: stretch;justify-content: center;background-color: white;position: relative;}#sk-container-id-1 div.sk-item::before, #sk-container-id-1 div.sk-parallel-item::before {content: \"\";position: absolute;border-left: 1px solid gray;box-sizing: border-box;top: 0;bottom: 0;left: 50%;z-index: -1;}#sk-container-id-1 div.sk-parallel-item {display: flex;flex-direction: column;z-index: 1;position: relative;background-color: white;}#sk-container-id-1 div.sk-parallel-item:first-child::after {align-self: flex-end;width: 50%;}#sk-container-id-1 div.sk-parallel-item:last-child::after {align-self: flex-start;width: 50%;}#sk-container-id-1 div.sk-parallel-item:only-child::after {width: 0;}#sk-container-id-1 div.sk-dashed-wrapped {border: 1px dashed gray;margin: 0 0.4em 0.5em 0.4em;box-sizing: border-box;padding-bottom: 0.4em;background-color: white;}#sk-container-id-1 div.sk-label label {font-family: monospace;font-weight: bold;display: inline-block;line-height: 1.2em;}#sk-container-id-1 div.sk-label-container {text-align: center;}#sk-container-id-1 div.sk-container {/* jupyter's `normalize.less` sets `[hidden] { display: none; }` but bootstrap.min.css set `[hidden] { display: none !important; }` so we also need the `!important` here to be able to override the default hidden behavior on the sphinx rendered scikit-learn.org. See: https://github.com/scikit-learn/scikit-learn/issues/21755 */display: inline-block !important;position: relative;}#sk-container-id-1 div.sk-text-repr-fallback {display: none;}</style><div id=\"sk-container-id-1\" class=\"sk-top-container\"><div class=\"sk-text-repr-fallback\"><pre>PCA(n_components=100)</pre><b>In a Jupyter environment, please rerun this cell to show the HTML representation or trust the notebook. <br />On GitHub, the HTML representation is unable to render, please try loading this page with nbviewer.org.</b></div><div class=\"sk-container\" hidden><div class=\"sk-item\"><div class=\"sk-estimator sk-toggleable\"><input class=\"sk-toggleable__control sk-hidden--visually\" id=\"sk-estimator-id-1\" type=\"checkbox\" checked><label for=\"sk-estimator-id-1\" class=\"sk-toggleable__label sk-toggleable__label-arrow\">PCA</label><div class=\"sk-toggleable__content\"><pre>PCA(n_components=100)</pre></div></div></div></div></div>"
      ],
      "text/plain": [
       "PCA(n_components=100)"
      ]
     },
     "execution_count": 22,
     "metadata": {},
     "output_type": "execute_result"
    }
   ],
   "source": [
    "pca = PCA(n_components=100)\n",
    "pca.fit(all_embeddings.numpy())"
   ]
  },
  {
   "cell_type": "code",
   "execution_count": 23,
   "metadata": {},
   "outputs": [
    {
     "data": {
      "text/plain": [
       "0.037311997"
      ]
     },
     "execution_count": 23,
     "metadata": {},
     "output_type": "execute_result"
    },
    {
     "data": {
      "image/png": "[encoded data removed]",
      "text/plain": [
       "<Figure size 640x480 with 1 Axes>"
      ]
     },
     "metadata": {},
     "output_type": "display_data"
    }
   ],
   "source": [
    "n_components = 100\n",
    "plt.bar(np.arange(n_components), pca.explained_variance_ratio_[:n_components])\n",
    "pca.explained_variance_ratio_[64:].sum()"
   ]
  },
  {
   "cell_type": "code",
   "execution_count": 24,
   "metadata": {},
   "outputs": [],
   "source": [
    "PCA_N_DIM = 64\n",
    "SEED = 33\n",
    "PCA_KWARGS = dict(random_state=SEED)\n",
    "TSNE_KAWRGS = dict(init='pca', learning_rate='auto', random_state=SEED)\n",
    "\n",
    "def pca_and_tsne(data: np.ndarray, pca_n_dim: int = PCA_N_DIM, \n",
    "    pca_kwargs: typing.Optional[typing.Dict] = None, tsne_kwargs: typing.Optional[typing.Dict] = None):\n",
    "\n",
    "    if pca_kwargs is None:\n",
    "        pca_kwargs = PCA_KWARGS\n",
    "    else:\n",
    "        temp_kwargs = PCA_KWARGS.copy()\n",
    "        temp_kwrags.update(pca_kwargs)\n",
    "        pca_kwargs = temp_kwargs\n",
    "\n",
    "    if tsne_kwargs is None:\n",
    "        tsne_kwargs = TSNE_KAWRGS\n",
    "\n",
    "    else:\n",
    "        temp_kwrags = TSNE_KAWRGS.copy()\n",
    "        temp_kwrags.update(tsne_kwargs)\n",
    "        tsne_kwargs = temp_kwrags\n",
    "\n",
    "    if data.ndim > 2:\n",
    "        data = data.reshape(-1, data.shape[-1])\n",
    "\n",
    "    pca = PCA(n_components=pca_n_dim, **pca_kwargs)\n",
    "    data_pca = pca.fit_transform(data)\n",
    "    tsne = TSNE(n_components=2, **tsne_kwargs)\n",
    "    data_tsne = tsne.fit_transform(data_pca)\n",
    "\n",
    "    return data_tsne"
   ]
  },
  {
   "cell_type": "code",
   "execution_count": 25,
   "metadata": {},
   "outputs": [
    {
     "name": "stderr",
     "output_type": "stream",
     "text": [
      "/Users/guydavidson/opt/anaconda3/envs/game-gen/lib/python3.10/site-packages/sklearn/manifold/_t_sne.py:996: FutureWarning: The PCA initialization in TSNE will change to have the standard deviation of PC1 equal to 1e-4 in 1.2. This will ensure better convergence.\n",
      "  warnings.warn(\n"
     ]
    },
    {
     "data": {
      "text/plain": [
       "(6370, 2)"
      ]
     },
     "execution_count": 25,
     "metadata": {},
     "output_type": "execute_result"
    }
   ],
   "source": [
    "tsne_embedded_data = pca_and_tsne(all_embeddings.numpy())\n",
    "tsne_embedded_data.shape"
   ]
  },
  {
   "cell_type": "code",
   "execution_count": 26,
   "metadata": {},
   "outputs": [
    {
     "data": {
      "text/plain": [
       "<matplotlib.collections.PathCollection at 0x16803eb60>"
      ]
     },
     "execution_count": 26,
     "metadata": {},
     "output_type": "execute_result"
    },
    {
     "data": {
      "image/png": "[encoded data removed]",
      "text/plain": [
       "<Figure size 600x600 with 1 Axes>"
      ]
     },
     "metadata": {},
     "output_type": "display_data"
    }
   ],
   "source": [
    "n_games = len(game_texts)\n",
    "plt.figure(figsize=(6, 6))\n",
    "plt.scatter(tsne_embedded_data[n_games:, 0], tsne_embedded_data[n_games:, 1], s=1, alpha=0.5)\n",
    "plt.scatter(tsne_embedded_data[:n_games, 0], tsne_embedded_data[:n_games, 1], s=13, c='red')\n"
   ]
  },
  {
   "attachments": {},
   "cell_type": "markdown",
   "metadata": {},
   "source": [
    "## Let's see what happens if we try to fit a fitness model based on these embeddings?"
   ]
  },
  {
   "cell_type": "code",
   "execution_count": 27,
   "metadata": {},
   "outputs": [
    {
     "data": {
      "text/plain": [
       "torch.Size([98, 65, 1536])"
      ]
     },
     "execution_count": 27,
     "metadata": {},
     "output_type": "execute_result"
    }
   ],
   "source": [
    "embeddings_for_fitness = torch.cat([embeddings.unsqueeze(1), regrowth_embeddings], dim=1)\n",
    "embeddings_for_fitness.shape"
   ]
  },
  {
   "cell_type": "code",
   "execution_count": 28,
   "metadata": {},
   "outputs": [
    {
     "name": "stdout",
     "output_type": "stream",
     "text": [
      "Fitting 5 folds for each of 1280 candidates, totalling 6400 fits\n"
     ]
    },
    {
     "name": "stderr",
     "output_type": "stream",
     "text": [
      "/Users/guydavidson/opt/anaconda3/envs/game-gen/lib/python3.10/site-packages/joblib/externals/loky/process_executor.py:700: UserWarning: A worker stopped while some jobs were given to the executor. This can be caused by a too short worker timeout or by a memory leak.\n",
      "  warnings.warn(\n"
     ]
    },
    {
     "name": "stdout",
     "output_type": "stream",
     "text": [
      "{'ecdf': -0.41457692307692307, 'game_rank': 0.7515624761581421}\n"
     ]
    }
   ],
   "source": [
    "test_param_grid = [\n",
    "    {\n",
    "        'fitness__loss_function': [utils.fitness_hinge_loss], # [utils.fitness_hinge_loss_with_cross_example],\n",
    "        'fitness__weight_decay': [0.0, 0.25, 1, 2],  \n",
    "        'fitness__margin': [1, 2, 4, 8],\n",
    "        'fitness__lr':  [1e-1, 3e-2, 1e-2, 3e-3],  # [1e-1, 3e-2, 1e-2, 3e-3],\n",
    "        'fitness__k': [4, 8, 16, 32, 64],\n",
    "        'fitness__batch_size': [2, 4, 8, 16],  # [1, 4, 8, 16],\n",
    "        # 'fitness__alpha': [0, 0.25, 0.5, 0.75, 1], # [0, 0.1, 0.2, 0.3],  #\n",
    "    },\n",
    "]\n",
    "\n",
    "model_kwargs = dict(output_activation=nn.Identity())\n",
    "train_kwargs = dict(negative_score_reduction='none')\n",
    "cv_kwargs = dict(refit='overall_ecdf')\n",
    "scoring = utils.build_multiple_scoring_function(\n",
    "    [utils.evaluate_fitness_overall_ecdf, utils.evaluate_fitness_single_game_rank],\n",
    "    ['overall_ecdf', 'single_game_rank'],\n",
    ")\n",
    "\n",
    "cv, (train_tensor, test_tensor), test_results = utils.model_fitting_experiment(embeddings_for_fitness, test_param_grid,\n",
    "    scoring_function=scoring, verbose=1, \n",
    "    model_kwargs=model_kwargs, train_kwargs=train_kwargs, cv_kwargs=cv_kwargs)\n",
    "\n",
    "print(test_results)"
   ]
  },
  {
   "cell_type": "code",
   "execution_count": 31,
   "metadata": {},
   "outputs": [
    {
     "data": {
      "text/markdown": [
       "### Test results:"
      ],
      "text/plain": [
       "<IPython.core.display.Markdown object>"
      ]
     },
     "metadata": {},
     "output_type": "display_data"
    },
    {
     "data": {
      "text/plain": [
       "{'ecdf': -0.41457692307692307, 'game_rank': 0.7515624761581421}"
      ]
     },
     "metadata": {},
     "output_type": "display_data"
    },
    {
     "data": {
      "text/markdown": [
       "### CV results by overall ECDF:"
      ],
      "text/plain": [
       "<IPython.core.display.Markdown object>"
      ]
     },
     "metadata": {},
     "output_type": "display_data"
    },
    {
     "data": {
      "text/html": [
       "<div>\n",
       "<style scoped>\n",
       "    .dataframe tbody tr th:only-of-type {\n",
       "        vertical-align: middle;\n",
       "    }\n",
       "\n",
       "    .dataframe tbody tr th {\n",
       "        vertical-align: top;\n",
       "    }\n",
       "\n",
       "    .dataframe thead th {\n",
       "        text-align: right;\n",
       "    }\n",
       "</style>\n",
       "<table border=\"1\" class=\"dataframe\">\n",
       "  <thead>\n",
       "    <tr style=\"text-align: right;\">\n",
       "      <th></th>\n",
       "      <th>fitness__batch_size</th>\n",
       "      <th>fitness__k</th>\n",
       "      <th>fitness__loss_function</th>\n",
       "      <th>fitness__lr</th>\n",
       "      <th>fitness__margin</th>\n",
       "      <th>fitness__n_features</th>\n",
       "      <th>fitness__weight_decay</th>\n",
       "      <th>ecdf_mean</th>\n",
       "      <th>ecdf_std</th>\n",
       "      <th>ecdf_rank</th>\n",
       "      <th>game_rank_mean</th>\n",
       "      <th>game_rank_std</th>\n",
       "      <th>game_rank_rank</th>\n",
       "    </tr>\n",
       "  </thead>\n",
       "  <tbody>\n",
       "    <tr>\n",
       "      <th>384</th>\n",
       "      <td>4</td>\n",
       "      <td>8</td>\n",
       "      <td>&lt;function fitness_hinge_loss at 0x15e554550&gt;</td>\n",
       "      <td>0.10</td>\n",
       "      <td>1</td>\n",
       "      <td>1536</td>\n",
       "      <td>0.0</td>\n",
       "      <td>-0.413609</td>\n",
       "      <td>0.007887</td>\n",
       "      <td>1</td>\n",
       "      <td>0.750586</td>\n",
       "      <td>0.020210</td>\n",
       "      <td>34</td>\n",
       "    </tr>\n",
       "    <tr>\n",
       "      <th>640</th>\n",
       "      <td>8</td>\n",
       "      <td>4</td>\n",
       "      <td>&lt;function fitness_hinge_loss at 0x15e554550&gt;</td>\n",
       "      <td>0.10</td>\n",
       "      <td>1</td>\n",
       "      <td>1536</td>\n",
       "      <td>0.0</td>\n",
       "      <td>-0.413982</td>\n",
       "      <td>0.006953</td>\n",
       "      <td>2</td>\n",
       "      <td>0.729401</td>\n",
       "      <td>0.024580</td>\n",
       "      <td>121</td>\n",
       "    </tr>\n",
       "    <tr>\n",
       "      <th>128</th>\n",
       "      <td>2</td>\n",
       "      <td>16</td>\n",
       "      <td>&lt;function fitness_hinge_loss at 0x15e554550&gt;</td>\n",
       "      <td>0.10</td>\n",
       "      <td>1</td>\n",
       "      <td>1536</td>\n",
       "      <td>0.0</td>\n",
       "      <td>-0.414837</td>\n",
       "      <td>0.005061</td>\n",
       "      <td>3</td>\n",
       "      <td>0.745339</td>\n",
       "      <td>0.010214</td>\n",
       "      <td>51</td>\n",
       "    </tr>\n",
       "    <tr>\n",
       "      <th>720</th>\n",
       "      <td>8</td>\n",
       "      <td>8</td>\n",
       "      <td>&lt;function fitness_hinge_loss at 0x15e554550&gt;</td>\n",
       "      <td>0.03</td>\n",
       "      <td>1</td>\n",
       "      <td>1536</td>\n",
       "      <td>0.0</td>\n",
       "      <td>-0.414930</td>\n",
       "      <td>0.013171</td>\n",
       "      <td>4</td>\n",
       "      <td>0.729674</td>\n",
       "      <td>0.020982</td>\n",
       "      <td>119</td>\n",
       "    </tr>\n",
       "    <tr>\n",
       "      <th>72</th>\n",
       "      <td>2</td>\n",
       "      <td>8</td>\n",
       "      <td>&lt;function fitness_hinge_loss at 0x15e554550&gt;</td>\n",
       "      <td>0.10</td>\n",
       "      <td>4</td>\n",
       "      <td>1536</td>\n",
       "      <td>0.0</td>\n",
       "      <td>-0.415192</td>\n",
       "      <td>0.010457</td>\n",
       "      <td>5</td>\n",
       "      <td>0.749440</td>\n",
       "      <td>0.020130</td>\n",
       "      <td>39</td>\n",
       "    </tr>\n",
       "    <tr>\n",
       "      <th>832</th>\n",
       "      <td>8</td>\n",
       "      <td>32</td>\n",
       "      <td>&lt;function fitness_hinge_loss at 0x15e554550&gt;</td>\n",
       "      <td>0.10</td>\n",
       "      <td>1</td>\n",
       "      <td>1536</td>\n",
       "      <td>0.0</td>\n",
       "      <td>-0.415630</td>\n",
       "      <td>0.010939</td>\n",
       "      <td>6</td>\n",
       "      <td>0.753867</td>\n",
       "      <td>0.016414</td>\n",
       "      <td>24</td>\n",
       "    </tr>\n",
       "    <tr>\n",
       "      <th>280</th>\n",
       "      <td>2</td>\n",
       "      <td>64</td>\n",
       "      <td>&lt;function fitness_hinge_loss at 0x15e554550&gt;</td>\n",
       "      <td>0.03</td>\n",
       "      <td>4</td>\n",
       "      <td>1536</td>\n",
       "      <td>0.0</td>\n",
       "      <td>-0.415690</td>\n",
       "      <td>0.010907</td>\n",
       "      <td>7</td>\n",
       "      <td>0.756680</td>\n",
       "      <td>0.016762</td>\n",
       "      <td>16</td>\n",
       "    </tr>\n",
       "    <tr>\n",
       "      <th>76</th>\n",
       "      <td>2</td>\n",
       "      <td>8</td>\n",
       "      <td>&lt;function fitness_hinge_loss at 0x15e554550&gt;</td>\n",
       "      <td>0.10</td>\n",
       "      <td>8</td>\n",
       "      <td>1536</td>\n",
       "      <td>0.0</td>\n",
       "      <td>-0.415902</td>\n",
       "      <td>0.009945</td>\n",
       "      <td>8</td>\n",
       "      <td>0.747240</td>\n",
       "      <td>0.019966</td>\n",
       "      <td>45</td>\n",
       "    </tr>\n",
       "    <tr>\n",
       "      <th>448</th>\n",
       "      <td>4</td>\n",
       "      <td>16</td>\n",
       "      <td>&lt;function fitness_hinge_loss at 0x15e554550&gt;</td>\n",
       "      <td>0.10</td>\n",
       "      <td>1</td>\n",
       "      <td>1536</td>\n",
       "      <td>0.0</td>\n",
       "      <td>-0.416083</td>\n",
       "      <td>0.007036</td>\n",
       "      <td>9</td>\n",
       "      <td>0.747943</td>\n",
       "      <td>0.020384</td>\n",
       "      <td>43</td>\n",
       "    </tr>\n",
       "    <tr>\n",
       "      <th>584</th>\n",
       "      <td>4</td>\n",
       "      <td>64</td>\n",
       "      <td>&lt;function fitness_hinge_loss at 0x15e554550&gt;</td>\n",
       "      <td>0.10</td>\n",
       "      <td>4</td>\n",
       "      <td>1536</td>\n",
       "      <td>0.0</td>\n",
       "      <td>-0.416333</td>\n",
       "      <td>0.009819</td>\n",
       "      <td>10</td>\n",
       "      <td>0.762643</td>\n",
       "      <td>0.013156</td>\n",
       "      <td>2</td>\n",
       "    </tr>\n",
       "  </tbody>\n",
       "</table>\n",
       "</div>"
      ],
      "text/plain": [
       "     fitness__batch_size  fitness__k  \\\n",
       "384                    4           8   \n",
       "640                    8           4   \n",
       "128                    2          16   \n",
       "720                    8           8   \n",
       "72                     2           8   \n",
       "832                    8          32   \n",
       "280                    2          64   \n",
       "76                     2           8   \n",
       "448                    4          16   \n",
       "584                    4          64   \n",
       "\n",
       "                           fitness__loss_function  fitness__lr  \\\n",
       "384  <function fitness_hinge_loss at 0x15e554550>         0.10   \n",
       "640  <function fitness_hinge_loss at 0x15e554550>         0.10   \n",
       "128  <function fitness_hinge_loss at 0x15e554550>         0.10   \n",
       "720  <function fitness_hinge_loss at 0x15e554550>         0.03   \n",
       "72   <function fitness_hinge_loss at 0x15e554550>         0.10   \n",
       "832  <function fitness_hinge_loss at 0x15e554550>         0.10   \n",
       "280  <function fitness_hinge_loss at 0x15e554550>         0.03   \n",
       "76   <function fitness_hinge_loss at 0x15e554550>         0.10   \n",
       "448  <function fitness_hinge_loss at 0x15e554550>         0.10   \n",
       "584  <function fitness_hinge_loss at 0x15e554550>         0.10   \n",
       "\n",
       "     fitness__margin  fitness__n_features  fitness__weight_decay  ecdf_mean  \\\n",
       "384                1                 1536                    0.0  -0.413609   \n",
       "640                1                 1536                    0.0  -0.413982   \n",
       "128                1                 1536                    0.0  -0.414837   \n",
       "720                1                 1536                    0.0  -0.414930   \n",
       "72                 4                 1536                    0.0  -0.415192   \n",
       "832                1                 1536                    0.0  -0.415630   \n",
       "280                4                 1536                    0.0  -0.415690   \n",
       "76                 8                 1536                    0.0  -0.415902   \n",
       "448                1                 1536                    0.0  -0.416083   \n",
       "584                4                 1536                    0.0  -0.416333   \n",
       "\n",
       "     ecdf_std  ecdf_rank  game_rank_mean  game_rank_std  game_rank_rank  \n",
       "384  0.007887          1        0.750586       0.020210              34  \n",
       "640  0.006953          2        0.729401       0.024580             121  \n",
       "128  0.005061          3        0.745339       0.010214              51  \n",
       "720  0.013171          4        0.729674       0.020982             119  \n",
       "72   0.010457          5        0.749440       0.020130              39  \n",
       "832  0.010939          6        0.753867       0.016414              24  \n",
       "280  0.010907          7        0.756680       0.016762              16  \n",
       "76   0.009945          8        0.747240       0.019966              45  \n",
       "448  0.007036          9        0.747943       0.020384              43  \n",
       "584  0.009819         10        0.762643       0.013156               2  "
      ]
     },
     "metadata": {},
     "output_type": "display_data"
    },
    {
     "data": {
      "text/markdown": [
       "### CV results by mean single game rank:"
      ],
      "text/plain": [
       "<IPython.core.display.Markdown object>"
      ]
     },
     "metadata": {},
     "output_type": "display_data"
    },
    {
     "data": {
      "text/html": [
       "<div>\n",
       "<style scoped>\n",
       "    .dataframe tbody tr th:only-of-type {\n",
       "        vertical-align: middle;\n",
       "    }\n",
       "\n",
       "    .dataframe tbody tr th {\n",
       "        vertical-align: top;\n",
       "    }\n",
       "\n",
       "    .dataframe thead th {\n",
       "        text-align: right;\n",
       "    }\n",
       "</style>\n",
       "<table border=\"1\" class=\"dataframe\">\n",
       "  <thead>\n",
       "    <tr style=\"text-align: right;\">\n",
       "      <th></th>\n",
       "      <th>fitness__batch_size</th>\n",
       "      <th>fitness__k</th>\n",
       "      <th>fitness__loss_function</th>\n",
       "      <th>fitness__lr</th>\n",
       "      <th>fitness__margin</th>\n",
       "      <th>fitness__n_features</th>\n",
       "      <th>fitness__weight_decay</th>\n",
       "      <th>ecdf_mean</th>\n",
       "      <th>ecdf_std</th>\n",
       "      <th>ecdf_rank</th>\n",
       "      <th>game_rank_mean</th>\n",
       "      <th>game_rank_std</th>\n",
       "      <th>game_rank_rank</th>\n",
       "    </tr>\n",
       "  </thead>\n",
       "  <tbody>\n",
       "    <tr>\n",
       "      <th>580</th>\n",
       "      <td>4</td>\n",
       "      <td>64</td>\n",
       "      <td>&lt;function fitness_hinge_loss at 0x15e554550&gt;</td>\n",
       "      <td>0.1</td>\n",
       "      <td>2</td>\n",
       "      <td>1536</td>\n",
       "      <td>0.0</td>\n",
       "      <td>-0.416793</td>\n",
       "      <td>0.009133</td>\n",
       "      <td>22</td>\n",
       "      <td>0.763229</td>\n",
       "      <td>0.011447</td>\n",
       "      <td>1</td>\n",
       "    </tr>\n",
       "    <tr>\n",
       "      <th>584</th>\n",
       "      <td>4</td>\n",
       "      <td>64</td>\n",
       "      <td>&lt;function fitness_hinge_loss at 0x15e554550&gt;</td>\n",
       "      <td>0.1</td>\n",
       "      <td>4</td>\n",
       "      <td>1536</td>\n",
       "      <td>0.0</td>\n",
       "      <td>-0.416333</td>\n",
       "      <td>0.009819</td>\n",
       "      <td>10</td>\n",
       "      <td>0.762643</td>\n",
       "      <td>0.013156</td>\n",
       "      <td>2</td>\n",
       "    </tr>\n",
       "    <tr>\n",
       "      <th>260</th>\n",
       "      <td>2</td>\n",
       "      <td>64</td>\n",
       "      <td>&lt;function fitness_hinge_loss at 0x15e554550&gt;</td>\n",
       "      <td>0.1</td>\n",
       "      <td>2</td>\n",
       "      <td>1536</td>\n",
       "      <td>0.0</td>\n",
       "      <td>-0.418781</td>\n",
       "      <td>0.007086</td>\n",
       "      <td>54</td>\n",
       "      <td>0.761159</td>\n",
       "      <td>0.012485</td>\n",
       "      <td>3</td>\n",
       "    </tr>\n",
       "    <tr>\n",
       "      <th>200</th>\n",
       "      <td>2</td>\n",
       "      <td>32</td>\n",
       "      <td>&lt;function fitness_hinge_loss at 0x15e554550&gt;</td>\n",
       "      <td>0.1</td>\n",
       "      <td>4</td>\n",
       "      <td>1536</td>\n",
       "      <td>0.0</td>\n",
       "      <td>-0.416446</td>\n",
       "      <td>0.008701</td>\n",
       "      <td>13</td>\n",
       "      <td>0.759961</td>\n",
       "      <td>0.013229</td>\n",
       "      <td>4</td>\n",
       "    </tr>\n",
       "    <tr>\n",
       "      <th>192</th>\n",
       "      <td>2</td>\n",
       "      <td>32</td>\n",
       "      <td>&lt;function fitness_hinge_loss at 0x15e554550&gt;</td>\n",
       "      <td>0.1</td>\n",
       "      <td>1</td>\n",
       "      <td>1536</td>\n",
       "      <td>0.0</td>\n",
       "      <td>-0.420268</td>\n",
       "      <td>0.004823</td>\n",
       "      <td>93</td>\n",
       "      <td>0.759896</td>\n",
       "      <td>0.014131</td>\n",
       "      <td>5</td>\n",
       "    </tr>\n",
       "    <tr>\n",
       "      <th>516</th>\n",
       "      <td>4</td>\n",
       "      <td>32</td>\n",
       "      <td>&lt;function fitness_hinge_loss at 0x15e554550&gt;</td>\n",
       "      <td>0.1</td>\n",
       "      <td>2</td>\n",
       "      <td>1536</td>\n",
       "      <td>0.0</td>\n",
       "      <td>-0.416850</td>\n",
       "      <td>0.009345</td>\n",
       "      <td>23</td>\n",
       "      <td>0.759844</td>\n",
       "      <td>0.011913</td>\n",
       "      <td>6</td>\n",
       "    </tr>\n",
       "    <tr>\n",
       "      <th>268</th>\n",
       "      <td>2</td>\n",
       "      <td>64</td>\n",
       "      <td>&lt;function fitness_hinge_loss at 0x15e554550&gt;</td>\n",
       "      <td>0.1</td>\n",
       "      <td>8</td>\n",
       "      <td>1536</td>\n",
       "      <td>0.0</td>\n",
       "      <td>-0.418793</td>\n",
       "      <td>0.008718</td>\n",
       "      <td>55</td>\n",
       "      <td>0.759557</td>\n",
       "      <td>0.012506</td>\n",
       "      <td>7</td>\n",
       "    </tr>\n",
       "    <tr>\n",
       "      <th>264</th>\n",
       "      <td>2</td>\n",
       "      <td>64</td>\n",
       "      <td>&lt;function fitness_hinge_loss at 0x15e554550&gt;</td>\n",
       "      <td>0.1</td>\n",
       "      <td>4</td>\n",
       "      <td>1536</td>\n",
       "      <td>0.0</td>\n",
       "      <td>-0.418361</td>\n",
       "      <td>0.007949</td>\n",
       "      <td>39</td>\n",
       "      <td>0.758971</td>\n",
       "      <td>0.013623</td>\n",
       "      <td>8</td>\n",
       "    </tr>\n",
       "    <tr>\n",
       "      <th>132</th>\n",
       "      <td>2</td>\n",
       "      <td>16</td>\n",
       "      <td>&lt;function fitness_hinge_loss at 0x15e554550&gt;</td>\n",
       "      <td>0.1</td>\n",
       "      <td>2</td>\n",
       "      <td>1536</td>\n",
       "      <td>0.0</td>\n",
       "      <td>-0.418341</td>\n",
       "      <td>0.006505</td>\n",
       "      <td>38</td>\n",
       "      <td>0.758542</td>\n",
       "      <td>0.011799</td>\n",
       "      <td>9</td>\n",
       "    </tr>\n",
       "    <tr>\n",
       "      <th>588</th>\n",
       "      <td>4</td>\n",
       "      <td>64</td>\n",
       "      <td>&lt;function fitness_hinge_loss at 0x15e554550&gt;</td>\n",
       "      <td>0.1</td>\n",
       "      <td>8</td>\n",
       "      <td>1536</td>\n",
       "      <td>0.0</td>\n",
       "      <td>-0.418461</td>\n",
       "      <td>0.008504</td>\n",
       "      <td>41</td>\n",
       "      <td>0.757995</td>\n",
       "      <td>0.013872</td>\n",
       "      <td>10</td>\n",
       "    </tr>\n",
       "  </tbody>\n",
       "</table>\n",
       "</div>"
      ],
      "text/plain": [
       "     fitness__batch_size  fitness__k  \\\n",
       "580                    4          64   \n",
       "584                    4          64   \n",
       "260                    2          64   \n",
       "200                    2          32   \n",
       "192                    2          32   \n",
       "516                    4          32   \n",
       "268                    2          64   \n",
       "264                    2          64   \n",
       "132                    2          16   \n",
       "588                    4          64   \n",
       "\n",
       "                           fitness__loss_function  fitness__lr  \\\n",
       "580  <function fitness_hinge_loss at 0x15e554550>          0.1   \n",
       "584  <function fitness_hinge_loss at 0x15e554550>          0.1   \n",
       "260  <function fitness_hinge_loss at 0x15e554550>          0.1   \n",
       "200  <function fitness_hinge_loss at 0x15e554550>          0.1   \n",
       "192  <function fitness_hinge_loss at 0x15e554550>          0.1   \n",
       "516  <function fitness_hinge_loss at 0x15e554550>          0.1   \n",
       "268  <function fitness_hinge_loss at 0x15e554550>          0.1   \n",
       "264  <function fitness_hinge_loss at 0x15e554550>          0.1   \n",
       "132  <function fitness_hinge_loss at 0x15e554550>          0.1   \n",
       "588  <function fitness_hinge_loss at 0x15e554550>          0.1   \n",
       "\n",
       "     fitness__margin  fitness__n_features  fitness__weight_decay  ecdf_mean  \\\n",
       "580                2                 1536                    0.0  -0.416793   \n",
       "584                4                 1536                    0.0  -0.416333   \n",
       "260                2                 1536                    0.0  -0.418781   \n",
       "200                4                 1536                    0.0  -0.416446   \n",
       "192                1                 1536                    0.0  -0.420268   \n",
       "516                2                 1536                    0.0  -0.416850   \n",
       "268                8                 1536                    0.0  -0.418793   \n",
       "264                4                 1536                    0.0  -0.418361   \n",
       "132                2                 1536                    0.0  -0.418341   \n",
       "588                8                 1536                    0.0  -0.418461   \n",
       "\n",
       "     ecdf_std  ecdf_rank  game_rank_mean  game_rank_std  game_rank_rank  \n",
       "580  0.009133         22        0.763229       0.011447               1  \n",
       "584  0.009819         10        0.762643       0.013156               2  \n",
       "260  0.007086         54        0.761159       0.012485               3  \n",
       "200  0.008701         13        0.759961       0.013229               4  \n",
       "192  0.004823         93        0.759896       0.014131               5  \n",
       "516  0.009345         23        0.759844       0.011913               6  \n",
       "268  0.008718         55        0.759557       0.012506               7  \n",
       "264  0.007949         39        0.758971       0.013623               8  \n",
       "132  0.006505         38        0.758542       0.011799               9  \n",
       "588  0.008504         41        0.757995       0.013872              10  "
      ]
     },
     "metadata": {},
     "output_type": "display_data"
    },
    {
     "data": {
      "image/png": "[encoded data removed]",
      "text/plain": [
       "<Figure size 640x480 with 1 Axes>"
      ]
     },
     "metadata": {},
     "output_type": "display_data"
    },
    {
     "name": "stdout",
     "output_type": "stream",
     "text": [
      "0.00033931728 0.119732 0.01\n"
     ]
    },
    {
     "data": {
      "image/png": "[encoded data removed]",
      "text/plain": [
       "<Figure size 640x480 with 1 Axes>"
      ]
     },
     "metadata": {},
     "output_type": "display_data"
    }
   ],
   "source": [
    "utils.visualize_cv_outputs(cv, train_tensor, test_tensor, test_results, histogram_title_note='embeddings with fixed whitespace')"
   ]
  },
  {
   "cell_type": "code",
   "execution_count": 30,
   "metadata": {},
   "outputs": [],
   "source": [
    "cv.best_estimator_.fit(embeddings_for_fitness)\n",
    "cv_fitness_model = cv.best_estimator_\n",
    "\n",
    "output_path = '../models/cv_fitness_model_2023_01_18_from_embeddings.pkl.gz'\n",
    "original_output_path = output_path[:]\n",
    "i = 0\n",
    "while os.path.exists(output_path):\n",
    "    output_path = original_output_path + f'_{i}'\n",
    "    i += 1\n",
    "\n",
    "with gzip.open(output_path, 'wb') as f:\n",
    "    pickle.dump(cv_fitness_model, f, protocol=pickle.HIGHEST_PROTOCOL)\n",
    "\n"
   ]
  },
  {
   "attachments": {},
   "cell_type": "markdown",
   "metadata": {},
   "source": [
    "## What if I concatante my features and the embeddings?"
   ]
  },
  {
   "cell_type": "code",
   "execution_count": 32,
   "metadata": {},
   "outputs": [
    {
     "name": "stdout",
     "output_type": "stream",
     "text": [
      "torch.Size([98, 65, 835]) torch.Size([98, 65, 1536])\n"
     ]
    },
    {
     "data": {
      "text/plain": [
       "torch.Size([98, 65, 2371])"
      ]
     },
     "execution_count": 32,
     "metadata": {},
     "output_type": "execute_result"
    }
   ],
   "source": [
    "fitness_features_tensor = torch.load('../data/interactive-beta-and-regrowth-fitness-features-2023-01-19.pt')\n",
    "print(fitness_features_tensor.shape, embeddings_for_fitness.shape)\n",
    "\n",
    "features_and_embeddings = torch.cat([fitness_features_tensor, embeddings_for_fitness], dim=-1)\n",
    "features_and_embeddings.shape"
   ]
  },
  {
   "cell_type": "code",
   "execution_count": 33,
   "metadata": {},
   "outputs": [
    {
     "name": "stdout",
     "output_type": "stream",
     "text": [
      "{'ecdf': -0.41457692307692307, 'game_rank': 0.7515624761581421}\n"
     ]
    }
   ],
   "source": [
    "test_param_grid = [\n",
    "    {\n",
    "        'fitness__loss_function': [utils.fitness_hinge_loss], # [utils.fitness_hinge_loss_with_cross_example],\n",
    "        'fitness__weight_decay': [0.0, 0.25, 1, 2],  \n",
    "        'fitness__margin': [1, 2, 4, 8],\n",
    "        'fitness__lr':  [1e-1, 3e-2, 1e-2, 3e-3],  # [1e-1, 3e-2, 1e-2, 3e-3],\n",
    "        'fitness__k': [4, 8, 16, 32, 64],\n",
    "        'fitness__batch_size': [2, 4, 8, 16],  # [1, 4, 8, 16],\n",
    "        # 'fitness__alpha': [0, 0.25, 0.5, 0.75, 1], # [0, 0.1, 0.2, 0.3],  #\n",
    "    },\n",
    "]\n",
    "\n",
    "model_kwargs = dict(output_activation=nn.Identity())\n",
    "train_kwargs = dict(negative_score_reduction='none')\n",
    "cv_kwargs = dict(refit='overall_ecdf')\n",
    "scoring = utils.build_multiple_scoring_function(\n",
    "    [utils.evaluate_fitness_overall_ecdf, utils.evaluate_fitness_single_game_rank],\n",
    "    ['overall_ecdf', 'single_game_rank'],\n",
    ")\n",
    "\n",
    "cv_with_features, (train_tensor_with_features, test_tensor_with_features), test_results_with_features = utils.model_fitting_experiment(features_and_embeddings, test_param_grid,\n",
    "    scoring_function=scoring, model_kwargs=model_kwargs, train_kwargs=train_kwargs, cv_kwargs=cv_kwargs)\n",
    "\n",
    "print(test_results)\n"
   ]
  },
  {
   "attachments": {},
   "cell_type": "markdown",
   "metadata": {},
   "source": [
    "## Trying to remove more linguistic information from the embeddings"
   ]
  },
  {
   "cell_type": "code",
   "execution_count": 8,
   "metadata": {},
   "outputs": [],
   "source": [
    "RANDOM_SEED = 33\n",
    "rng = np.random.default_rng(RANDOM_SEED)\n",
    "\n",
    "VARIABLE_PATTERN = re.compile(r'(\\?[a-zA-Z0-9_]+)')\n",
    "PREFERENCE_NAME_PATTERN = re.compile(r'\\(preference ([a-zA-Z0-9_]+)')\n",
    "PREFERENCE_COUNT_PATTERN = re.compile(r'\\(count[a-zA-z-]* ([a-zA-Z0-9_]+)')\n",
    "PREDICATE_REMAPPING = {k: f'pred_func{i}' for i, k in enumerate(fitness_features.PREDICATE_FUNCTION_ARITY_MAP.keys())}\n",
    "PREDICATE_REMAPPING_KEYS = list(sorted(PREDICATE_REMAPPING.keys(), key=lambda x: len(x), reverse=True))\n",
    "all_object_type_names = sum([list(v) for k, v in room_and_object_types.CATEGORIES_TO_TYPES.items() if k != room_and_object_types.EMPTY_OBJECT], start=[])\n",
    "all_object_type_names.extend(fitness_features.KNOWN_MISSING_TYPES)\n",
    "rng.shuffle(all_object_type_names)\n",
    "OBJECT_TYPE_REMAPPING = {k: f'obj_type{i}' for i, k in enumerate(all_object_type_names)}\n",
    "\n",
    "\n",
    "def replace_variables(text: str, rng: typing.Optional[np.random.Generator] = None, random_seed: int = RANDOM_SEED):\n",
    "    if rng is None:\n",
    "        rng = np.random.default_rng(random_seed)\n",
    "\n",
    "    unique_variables = set(VARIABLE_PATTERN.findall(text))\n",
    "    valid_new_variables = set([f'?{v}' for v in string.ascii_lowercase] + [f'?{v}1' for v in string.ascii_lowercase]) - unique_variables\n",
    "\n",
    "    if len(valid_new_variables) < len(unique_variables):\n",
    "        print(unique_variables)\n",
    "        print(valid_new_variables)\n",
    "        raise ValueError(f'Not enough valid new variables to replace all variables in text: {text}')\n",
    "    \n",
    "    replacement_variables = rng.choice(list(valid_new_variables), size=len(unique_variables), replace=False)\n",
    "\n",
    "    for old_variable, new_variable in zip(unique_variables, replacement_variables):\n",
    "        text = text.replace(old_variable, new_variable)\n",
    "\n",
    "    return text   \n",
    "\n",
    "\n",
    "def replace_preference_names(text: str):\n",
    "    preference_names = set(PREFERENCE_NAME_PATTERN.findall(text) + PREFERENCE_COUNT_PATTERN.findall(text))\n",
    "    for i, preference_name in enumerate(preference_names):\n",
    "        text = text.replace(preference_name, f'preference{i}')\n",
    "\n",
    "    return text\n",
    "\n",
    "\n",
    "def replace_predicate_names(text: str):\n",
    "    for pred in PREDICATE_REMAPPING_KEYS:\n",
    "        text = text.replace(f'({pred} ', f'({PREDICATE_REMAPPING[pred]} ')\n",
    "\n",
    "    return text\n",
    "\n",
    "\n",
    "def replace_object_type_names(text: str):\n",
    "    for obj_type in OBJECT_TYPE_REMAPPING:\n",
    "        text = text.replace(f' {obj_type}', f' {OBJECT_TYPE_REMAPPING[obj_type]}')\n",
    "        text = text.replace(f':{obj_type}', f':{OBJECT_TYPE_REMAPPING[obj_type]}')\n",
    "\n",
    "    return text\n",
    "\n",
    "\n",
    "def scramble_game_text(game_text: str, rng: typing.Optional[np.random.Generator] = None, random_seed: int = RANDOM_SEED,\n",
    "    update_variables: bool = True, update_preferences: bool = True, \n",
    "    update_predicates: bool = True, update_object_types: bool = True):\n",
    "\n",
    "    if update_variables: game_text = replace_variables(game_text, rng, random_seed)\n",
    "    if update_preferences: game_text = replace_preference_names(game_text)\n",
    "    if update_predicates: game_text = replace_predicate_names(game_text)\n",
    "    if update_object_types: game_text = replace_object_type_names(game_text)\n",
    "\n",
    "    return game_text\n"
   ]
  },
  {
   "cell_type": "code",
   "execution_count": 9,
   "metadata": {},
   "outputs": [],
   "source": [
    "scrambled_game_texts = [scramble_game_text(game) for game in game_texts]\n",
    "scrambled_regrown_game_texts = [scramble_game_text(game) for game in regrown_game_texts]"
   ]
  },
  {
   "cell_type": "code",
   "execution_count": 13,
   "metadata": {},
   "outputs": [
    {
     "name": "stdout",
     "output_type": "stream",
     "text": [
      "torch.Size([98, 1536])\n"
     ]
    },
    {
     "data": {
      "application/vnd.jupyter.widget-view+json": {
       "model_id": "7424449f24a54bceb44ea9e7de768eee",
       "version_major": 2,
       "version_minor": 0
      },
      "text/plain": [
       "  0%|          | 0/98 [00:00<?, ?it/s]"
      ]
     },
     "metadata": {},
     "output_type": "display_data"
    },
    {
     "name": "stdout",
     "output_type": "stream",
     "text": [
      "torch.Size([98, 64, 1536])\n"
     ]
    }
   ],
   "source": [
    "scrambled_original_embeddings, scrambled_regrowth_embeddings = load_or_generate_embeddings(True, scrambled_game_texts, scrambled_regrown_game_texts, 'extra-scrambled')"
   ]
  },
  {
   "cell_type": "code",
   "execution_count": 14,
   "metadata": {},
   "outputs": [
    {
     "data": {
      "text/plain": [
       "torch.Size([6370, 1536])"
      ]
     },
     "execution_count": 14,
     "metadata": {},
     "output_type": "execute_result"
    }
   ],
   "source": [
    "all_scrambled_embeddings = torch.cat([scrambled_original_embeddings, scrambled_regrowth_embeddings.reshape(-1, scrambled_regrowth_embeddings.shape[-1])], dim=0)\n",
    "all_scrambled_embeddings.shape"
   ]
  },
  {
   "cell_type": "code",
   "execution_count": 16,
   "metadata": {},
   "outputs": [
    {
     "name": "stderr",
     "output_type": "stream",
     "text": [
      "/Users/guydavidson/opt/anaconda3/envs/game-gen/lib/python3.10/site-packages/sklearn/manifold/_t_sne.py:996: FutureWarning: The PCA initialization in TSNE will change to have the standard deviation of PC1 equal to 1e-4 in 1.2. This will ensure better convergence.\n",
      "  warnings.warn(\n"
     ]
    },
    {
     "name": "stdout",
     "output_type": "stream",
     "text": [
      "(6370, 2)\n"
     ]
    },
    {
     "data": {
      "text/plain": [
       "<matplotlib.collections.PathCollection at 0x15f093d60>"
      ]
     },
     "execution_count": 16,
     "metadata": {},
     "output_type": "execute_result"
    },
    {
     "data": {
      "image/png": "[encoded data removed]",
      "text/plain": [
       "<Figure size 600x600 with 1 Axes>"
      ]
     },
     "metadata": {},
     "output_type": "display_data"
    }
   ],
   "source": [
    "tsne_embedded_scrambled_data = pca_and_tsne(all_scrambled_embeddings.numpy())\n",
    "print(tsne_embedded_scrambled_data.shape)\n",
    "\n",
    "n_games = len(game_texts)\n",
    "plt.figure(figsize=(6, 6))\n",
    "plt.scatter(tsne_embedded_scrambled_data[n_games:, 0], tsne_embedded_scrambled_data[n_games:, 1], s=1, alpha=0.5)\n",
    "plt.scatter(tsne_embedded_scrambled_data[:n_games, 0], tsne_embedded_scrambled_data[:n_games, 1], s=13, c='red')\n"
   ]
  },
  {
   "cell_type": "code",
   "execution_count": 17,
   "metadata": {},
   "outputs": [
    {
     "data": {
      "text/plain": [
       "torch.Size([98, 65, 1536])"
      ]
     },
     "execution_count": 17,
     "metadata": {},
     "output_type": "execute_result"
    }
   ],
   "source": [
    "scrambled_embeddings_for_fitness = torch.cat([scrambled_original_embeddings.unsqueeze(1), scrambled_regrowth_embeddings], dim=1)\n",
    "scrambled_embeddings_for_fitness.shape"
   ]
  },
  {
   "cell_type": "code",
   "execution_count": 18,
   "metadata": {},
   "outputs": [
    {
     "name": "stdout",
     "output_type": "stream",
     "text": [
      "Fitting 5 folds for each of 1280 candidates, totalling 6400 fits\n"
     ]
    },
    {
     "name": "stderr",
     "output_type": "stream",
     "text": [
      "/Users/guydavidson/opt/anaconda3/envs/game-gen/lib/python3.10/site-packages/joblib/externals/loky/process_executor.py:700: UserWarning: A worker stopped while some jobs were given to the executor. This can be caused by a too short worker timeout or by a memory leak.\n",
      "  warnings.warn(\n"
     ]
    },
    {
     "name": "stdout",
     "output_type": "stream",
     "text": [
      "{'ecdf': -0.4860384615384616, 'game_rank': 0.55859375}\n"
     ]
    }
   ],
   "source": [
    "test_param_grid = [\n",
    "    {\n",
    "        'fitness__loss_function': [utils.fitness_hinge_loss], # [utils.fitness_hinge_loss_with_cross_example],\n",
    "        'fitness__weight_decay': [0.0, 0.25, 1, 2],  \n",
    "        'fitness__margin': [1, 2, 4, 8],\n",
    "        'fitness__lr':  [1e-1, 3e-2, 1e-2, 3e-3],  # [1e-1, 3e-2, 1e-2, 3e-3],\n",
    "        'fitness__k': [4, 8, 16, 32, 64],\n",
    "        'fitness__batch_size': [2, 4, 8, 16],  # [1, 4, 8, 16],\n",
    "        # 'fitness__alpha': [0, 0.25, 0.5, 0.75, 1], # [0, 0.1, 0.2, 0.3],  #\n",
    "    },\n",
    "]\n",
    "\n",
    "model_kwargs = dict(output_activation=nn.Identity())\n",
    "train_kwargs = dict(negative_score_reduction='none')\n",
    "cv_kwargs = dict(refit='overall_ecdf')\n",
    "scoring = utils.build_multiple_scoring_function(\n",
    "    [utils.evaluate_fitness_overall_ecdf, utils.evaluate_fitness_single_game_rank],\n",
    "    ['overall_ecdf', 'single_game_rank'],\n",
    ")\n",
    "\n",
    "scrambled_cv, (scrambled_train_tensor, scrambled_test_tensor), scrambled_test_results = utils.model_fitting_experiment(scrambled_embeddings_for_fitness, test_param_grid,\n",
    "    scoring_function=scoring, verbose=1, \n",
    "    model_kwargs=model_kwargs, train_kwargs=train_kwargs, cv_kwargs=cv_kwargs)\n",
    "\n",
    "print(scrambled_test_results)"
   ]
  },
  {
   "cell_type": "code",
   "execution_count": 19,
   "metadata": {},
   "outputs": [
    {
     "data": {
      "text/markdown": [
       "### Test results:"
      ],
      "text/plain": [
       "<IPython.core.display.Markdown object>"
      ]
     },
     "metadata": {},
     "output_type": "display_data"
    },
    {
     "data": {
      "text/plain": [
       "{'ecdf': -0.4860384615384616, 'game_rank': 0.55859375}"
      ]
     },
     "metadata": {},
     "output_type": "display_data"
    },
    {
     "data": {
      "text/markdown": [
       "### CV results by overall ECDF:"
      ],
      "text/plain": [
       "<IPython.core.display.Markdown object>"
      ]
     },
     "metadata": {},
     "output_type": "display_data"
    },
    {
     "data": {
      "text/html": [
       "<div>\n",
       "<style scoped>\n",
       "    .dataframe tbody tr th:only-of-type {\n",
       "        vertical-align: middle;\n",
       "    }\n",
       "\n",
       "    .dataframe tbody tr th {\n",
       "        vertical-align: top;\n",
       "    }\n",
       "\n",
       "    .dataframe thead th {\n",
       "        text-align: right;\n",
       "    }\n",
       "</style>\n",
       "<table border=\"1\" class=\"dataframe\">\n",
       "  <thead>\n",
       "    <tr style=\"text-align: right;\">\n",
       "      <th></th>\n",
       "      <th>fitness__batch_size</th>\n",
       "      <th>fitness__k</th>\n",
       "      <th>fitness__loss_function</th>\n",
       "      <th>fitness__lr</th>\n",
       "      <th>fitness__margin</th>\n",
       "      <th>fitness__n_features</th>\n",
       "      <th>fitness__weight_decay</th>\n",
       "      <th>ecdf_mean</th>\n",
       "      <th>ecdf_std</th>\n",
       "      <th>ecdf_rank</th>\n",
       "      <th>game_rank_mean</th>\n",
       "      <th>game_rank_std</th>\n",
       "      <th>game_rank_rank</th>\n",
       "    </tr>\n",
       "  </thead>\n",
       "  <tbody>\n",
       "    <tr>\n",
       "      <th>513</th>\n",
       "      <td>4</td>\n",
       "      <td>32</td>\n",
       "      <td>&lt;function fitness_hinge_loss at 0x15e554550&gt;</td>\n",
       "      <td>0.10</td>\n",
       "      <td>1</td>\n",
       "      <td>1536</td>\n",
       "      <td>0.25</td>\n",
       "      <td>-0.434368</td>\n",
       "      <td>0.017746</td>\n",
       "      <td>1</td>\n",
       "      <td>0.657826</td>\n",
       "      <td>0.031302</td>\n",
       "      <td>175</td>\n",
       "    </tr>\n",
       "    <tr>\n",
       "      <th>641</th>\n",
       "      <td>8</td>\n",
       "      <td>4</td>\n",
       "      <td>&lt;function fitness_hinge_loss at 0x15e554550&gt;</td>\n",
       "      <td>0.10</td>\n",
       "      <td>1</td>\n",
       "      <td>1536</td>\n",
       "      <td>0.25</td>\n",
       "      <td>-0.435032</td>\n",
       "      <td>0.031479</td>\n",
       "      <td>2</td>\n",
       "      <td>0.648581</td>\n",
       "      <td>0.037135</td>\n",
       "      <td>487</td>\n",
       "    </tr>\n",
       "    <tr>\n",
       "      <th>784</th>\n",
       "      <td>8</td>\n",
       "      <td>16</td>\n",
       "      <td>&lt;function fitness_hinge_loss at 0x15e554550&gt;</td>\n",
       "      <td>0.03</td>\n",
       "      <td>1</td>\n",
       "      <td>1536</td>\n",
       "      <td>0.00</td>\n",
       "      <td>-0.435364</td>\n",
       "      <td>0.013127</td>\n",
       "      <td>3</td>\n",
       "      <td>0.662487</td>\n",
       "      <td>0.030218</td>\n",
       "      <td>89</td>\n",
       "    </tr>\n",
       "    <tr>\n",
       "      <th>712</th>\n",
       "      <td>8</td>\n",
       "      <td>8</td>\n",
       "      <td>&lt;function fitness_hinge_loss at 0x15e554550&gt;</td>\n",
       "      <td>0.10</td>\n",
       "      <td>4</td>\n",
       "      <td>1536</td>\n",
       "      <td>0.00</td>\n",
       "      <td>-0.435910</td>\n",
       "      <td>0.017954</td>\n",
       "      <td>4</td>\n",
       "      <td>0.661953</td>\n",
       "      <td>0.029062</td>\n",
       "      <td>97</td>\n",
       "    </tr>\n",
       "    <tr>\n",
       "      <th>776</th>\n",
       "      <td>8</td>\n",
       "      <td>16</td>\n",
       "      <td>&lt;function fitness_hinge_loss at 0x15e554550&gt;</td>\n",
       "      <td>0.10</td>\n",
       "      <td>4</td>\n",
       "      <td>1536</td>\n",
       "      <td>0.00</td>\n",
       "      <td>-0.436523</td>\n",
       "      <td>0.015721</td>\n",
       "      <td>5</td>\n",
       "      <td>0.662930</td>\n",
       "      <td>0.028692</td>\n",
       "      <td>81</td>\n",
       "    </tr>\n",
       "    <tr>\n",
       "      <th>72</th>\n",
       "      <td>2</td>\n",
       "      <td>8</td>\n",
       "      <td>&lt;function fitness_hinge_loss at 0x15e554550&gt;</td>\n",
       "      <td>0.10</td>\n",
       "      <td>4</td>\n",
       "      <td>1536</td>\n",
       "      <td>0.00</td>\n",
       "      <td>-0.436748</td>\n",
       "      <td>0.018270</td>\n",
       "      <td>6</td>\n",
       "      <td>0.672969</td>\n",
       "      <td>0.033030</td>\n",
       "      <td>16</td>\n",
       "    </tr>\n",
       "    <tr>\n",
       "      <th>100</th>\n",
       "      <td>2</td>\n",
       "      <td>8</td>\n",
       "      <td>&lt;function fitness_hinge_loss at 0x15e554550&gt;</td>\n",
       "      <td>0.01</td>\n",
       "      <td>2</td>\n",
       "      <td>1536</td>\n",
       "      <td>0.00</td>\n",
       "      <td>-0.436819</td>\n",
       "      <td>0.017737</td>\n",
       "      <td>7</td>\n",
       "      <td>0.674453</td>\n",
       "      <td>0.032788</td>\n",
       "      <td>11</td>\n",
       "    </tr>\n",
       "    <tr>\n",
       "      <th>912</th>\n",
       "      <td>8</td>\n",
       "      <td>64</td>\n",
       "      <td>&lt;function fitness_hinge_loss at 0x15e554550&gt;</td>\n",
       "      <td>0.03</td>\n",
       "      <td>1</td>\n",
       "      <td>1536</td>\n",
       "      <td>0.00</td>\n",
       "      <td>-0.436918</td>\n",
       "      <td>0.020176</td>\n",
       "      <td>8</td>\n",
       "      <td>0.663177</td>\n",
       "      <td>0.029494</td>\n",
       "      <td>77</td>\n",
       "    </tr>\n",
       "    <tr>\n",
       "      <th>616</th>\n",
       "      <td>4</td>\n",
       "      <td>64</td>\n",
       "      <td>&lt;function fitness_hinge_loss at 0x15e554550&gt;</td>\n",
       "      <td>0.01</td>\n",
       "      <td>4</td>\n",
       "      <td>1536</td>\n",
       "      <td>0.00</td>\n",
       "      <td>-0.436953</td>\n",
       "      <td>0.014825</td>\n",
       "      <td>9</td>\n",
       "      <td>0.660820</td>\n",
       "      <td>0.029173</td>\n",
       "      <td>110</td>\n",
       "    </tr>\n",
       "    <tr>\n",
       "      <th>288</th>\n",
       "      <td>2</td>\n",
       "      <td>64</td>\n",
       "      <td>&lt;function fitness_hinge_loss at 0x15e554550&gt;</td>\n",
       "      <td>0.01</td>\n",
       "      <td>1</td>\n",
       "      <td>1536</td>\n",
       "      <td>0.00</td>\n",
       "      <td>-0.436964</td>\n",
       "      <td>0.023492</td>\n",
       "      <td>10</td>\n",
       "      <td>0.672279</td>\n",
       "      <td>0.033885</td>\n",
       "      <td>20</td>\n",
       "    </tr>\n",
       "  </tbody>\n",
       "</table>\n",
       "</div>"
      ],
      "text/plain": [
       "     fitness__batch_size  fitness__k  \\\n",
       "513                    4          32   \n",
       "641                    8           4   \n",
       "784                    8          16   \n",
       "712                    8           8   \n",
       "776                    8          16   \n",
       "72                     2           8   \n",
       "100                    2           8   \n",
       "912                    8          64   \n",
       "616                    4          64   \n",
       "288                    2          64   \n",
       "\n",
       "                           fitness__loss_function  fitness__lr  \\\n",
       "513  <function fitness_hinge_loss at 0x15e554550>         0.10   \n",
       "641  <function fitness_hinge_loss at 0x15e554550>         0.10   \n",
       "784  <function fitness_hinge_loss at 0x15e554550>         0.03   \n",
       "712  <function fitness_hinge_loss at 0x15e554550>         0.10   \n",
       "776  <function fitness_hinge_loss at 0x15e554550>         0.10   \n",
       "72   <function fitness_hinge_loss at 0x15e554550>         0.10   \n",
       "100  <function fitness_hinge_loss at 0x15e554550>         0.01   \n",
       "912  <function fitness_hinge_loss at 0x15e554550>         0.03   \n",
       "616  <function fitness_hinge_loss at 0x15e554550>         0.01   \n",
       "288  <function fitness_hinge_loss at 0x15e554550>         0.01   \n",
       "\n",
       "     fitness__margin  fitness__n_features  fitness__weight_decay  ecdf_mean  \\\n",
       "513                1                 1536                   0.25  -0.434368   \n",
       "641                1                 1536                   0.25  -0.435032   \n",
       "784                1                 1536                   0.00  -0.435364   \n",
       "712                4                 1536                   0.00  -0.435910   \n",
       "776                4                 1536                   0.00  -0.436523   \n",
       "72                 4                 1536                   0.00  -0.436748   \n",
       "100                2                 1536                   0.00  -0.436819   \n",
       "912                1                 1536                   0.00  -0.436918   \n",
       "616                4                 1536                   0.00  -0.436953   \n",
       "288                1                 1536                   0.00  -0.436964   \n",
       "\n",
       "     ecdf_std  ecdf_rank  game_rank_mean  game_rank_std  game_rank_rank  \n",
       "513  0.017746          1        0.657826       0.031302             175  \n",
       "641  0.031479          2        0.648581       0.037135             487  \n",
       "784  0.013127          3        0.662487       0.030218              89  \n",
       "712  0.017954          4        0.661953       0.029062              97  \n",
       "776  0.015721          5        0.662930       0.028692              81  \n",
       "72   0.018270          6        0.672969       0.033030              16  \n",
       "100  0.017737          7        0.674453       0.032788              11  \n",
       "912  0.020176          8        0.663177       0.029494              77  \n",
       "616  0.014825          9        0.660820       0.029173             110  \n",
       "288  0.023492         10        0.672279       0.033885              20  "
      ]
     },
     "metadata": {},
     "output_type": "display_data"
    },
    {
     "data": {
      "text/markdown": [
       "### CV results by mean single game rank:"
      ],
      "text/plain": [
       "<IPython.core.display.Markdown object>"
      ]
     },
     "metadata": {},
     "output_type": "display_data"
    },
    {
     "data": {
      "text/html": [
       "<div>\n",
       "<style scoped>\n",
       "    .dataframe tbody tr th:only-of-type {\n",
       "        vertical-align: middle;\n",
       "    }\n",
       "\n",
       "    .dataframe tbody tr th {\n",
       "        vertical-align: top;\n",
       "    }\n",
       "\n",
       "    .dataframe thead th {\n",
       "        text-align: right;\n",
       "    }\n",
       "</style>\n",
       "<table border=\"1\" class=\"dataframe\">\n",
       "  <thead>\n",
       "    <tr style=\"text-align: right;\">\n",
       "      <th></th>\n",
       "      <th>fitness__batch_size</th>\n",
       "      <th>fitness__k</th>\n",
       "      <th>fitness__loss_function</th>\n",
       "      <th>fitness__lr</th>\n",
       "      <th>fitness__margin</th>\n",
       "      <th>fitness__n_features</th>\n",
       "      <th>fitness__weight_decay</th>\n",
       "      <th>ecdf_mean</th>\n",
       "      <th>ecdf_std</th>\n",
       "      <th>ecdf_rank</th>\n",
       "      <th>game_rank_mean</th>\n",
       "      <th>game_rank_std</th>\n",
       "      <th>game_rank_rank</th>\n",
       "    </tr>\n",
       "  </thead>\n",
       "  <tbody>\n",
       "    <tr>\n",
       "      <th>268</th>\n",
       "      <td>2</td>\n",
       "      <td>64</td>\n",
       "      <td>&lt;function fitness_hinge_loss at 0x15e554550&gt;</td>\n",
       "      <td>0.10</td>\n",
       "      <td>8</td>\n",
       "      <td>1536</td>\n",
       "      <td>0.0</td>\n",
       "      <td>-0.443847</td>\n",
       "      <td>0.015046</td>\n",
       "      <td>182</td>\n",
       "      <td>0.680924</td>\n",
       "      <td>0.033369</td>\n",
       "      <td>1</td>\n",
       "    </tr>\n",
       "    <tr>\n",
       "      <th>264</th>\n",
       "      <td>2</td>\n",
       "      <td>64</td>\n",
       "      <td>&lt;function fitness_hinge_loss at 0x15e554550&gt;</td>\n",
       "      <td>0.10</td>\n",
       "      <td>4</td>\n",
       "      <td>1536</td>\n",
       "      <td>0.0</td>\n",
       "      <td>-0.444803</td>\n",
       "      <td>0.014394</td>\n",
       "      <td>212</td>\n",
       "      <td>0.679049</td>\n",
       "      <td>0.033668</td>\n",
       "      <td>2</td>\n",
       "    </tr>\n",
       "    <tr>\n",
       "      <th>896</th>\n",
       "      <td>8</td>\n",
       "      <td>64</td>\n",
       "      <td>&lt;function fitness_hinge_loss at 0x15e554550&gt;</td>\n",
       "      <td>0.10</td>\n",
       "      <td>1</td>\n",
       "      <td>1536</td>\n",
       "      <td>0.0</td>\n",
       "      <td>-0.441140</td>\n",
       "      <td>0.014072</td>\n",
       "      <td>103</td>\n",
       "      <td>0.678581</td>\n",
       "      <td>0.036083</td>\n",
       "      <td>3</td>\n",
       "    </tr>\n",
       "    <tr>\n",
       "      <th>584</th>\n",
       "      <td>4</td>\n",
       "      <td>64</td>\n",
       "      <td>&lt;function fitness_hinge_loss at 0x15e554550&gt;</td>\n",
       "      <td>0.10</td>\n",
       "      <td>4</td>\n",
       "      <td>1536</td>\n",
       "      <td>0.0</td>\n",
       "      <td>-0.442599</td>\n",
       "      <td>0.015386</td>\n",
       "      <td>143</td>\n",
       "      <td>0.677552</td>\n",
       "      <td>0.034080</td>\n",
       "      <td>4</td>\n",
       "    </tr>\n",
       "    <tr>\n",
       "      <th>576</th>\n",
       "      <td>4</td>\n",
       "      <td>64</td>\n",
       "      <td>&lt;function fitness_hinge_loss at 0x15e554550&gt;</td>\n",
       "      <td>0.10</td>\n",
       "      <td>1</td>\n",
       "      <td>1536</td>\n",
       "      <td>0.0</td>\n",
       "      <td>-0.442603</td>\n",
       "      <td>0.018858</td>\n",
       "      <td>144</td>\n",
       "      <td>0.677148</td>\n",
       "      <td>0.034646</td>\n",
       "      <td>5</td>\n",
       "    </tr>\n",
       "    <tr>\n",
       "      <th>580</th>\n",
       "      <td>4</td>\n",
       "      <td>64</td>\n",
       "      <td>&lt;function fitness_hinge_loss at 0x15e554550&gt;</td>\n",
       "      <td>0.10</td>\n",
       "      <td>2</td>\n",
       "      <td>1536</td>\n",
       "      <td>0.0</td>\n",
       "      <td>-0.442739</td>\n",
       "      <td>0.016522</td>\n",
       "      <td>148</td>\n",
       "      <td>0.676055</td>\n",
       "      <td>0.034125</td>\n",
       "      <td>6</td>\n",
       "    </tr>\n",
       "    <tr>\n",
       "      <th>516</th>\n",
       "      <td>4</td>\n",
       "      <td>32</td>\n",
       "      <td>&lt;function fitness_hinge_loss at 0x15e554550&gt;</td>\n",
       "      <td>0.10</td>\n",
       "      <td>2</td>\n",
       "      <td>1536</td>\n",
       "      <td>0.0</td>\n",
       "      <td>-0.440624</td>\n",
       "      <td>0.014635</td>\n",
       "      <td>89</td>\n",
       "      <td>0.676003</td>\n",
       "      <td>0.033421</td>\n",
       "      <td>7</td>\n",
       "    </tr>\n",
       "    <tr>\n",
       "      <th>280</th>\n",
       "      <td>2</td>\n",
       "      <td>64</td>\n",
       "      <td>&lt;function fitness_hinge_loss at 0x15e554550&gt;</td>\n",
       "      <td>0.03</td>\n",
       "      <td>4</td>\n",
       "      <td>1536</td>\n",
       "      <td>0.0</td>\n",
       "      <td>-0.444359</td>\n",
       "      <td>0.015260</td>\n",
       "      <td>196</td>\n",
       "      <td>0.675690</td>\n",
       "      <td>0.033542</td>\n",
       "      <td>8</td>\n",
       "    </tr>\n",
       "    <tr>\n",
       "      <th>260</th>\n",
       "      <td>2</td>\n",
       "      <td>64</td>\n",
       "      <td>&lt;function fitness_hinge_loss at 0x15e554550&gt;</td>\n",
       "      <td>0.10</td>\n",
       "      <td>2</td>\n",
       "      <td>1536</td>\n",
       "      <td>0.0</td>\n",
       "      <td>-0.442535</td>\n",
       "      <td>0.016339</td>\n",
       "      <td>140</td>\n",
       "      <td>0.675521</td>\n",
       "      <td>0.036834</td>\n",
       "      <td>9</td>\n",
       "    </tr>\n",
       "    <tr>\n",
       "      <th>512</th>\n",
       "      <td>4</td>\n",
       "      <td>32</td>\n",
       "      <td>&lt;function fitness_hinge_loss at 0x15e554550&gt;</td>\n",
       "      <td>0.10</td>\n",
       "      <td>1</td>\n",
       "      <td>1536</td>\n",
       "      <td>0.0</td>\n",
       "      <td>-0.442293</td>\n",
       "      <td>0.017137</td>\n",
       "      <td>132</td>\n",
       "      <td>0.674479</td>\n",
       "      <td>0.045758</td>\n",
       "      <td>10</td>\n",
       "    </tr>\n",
       "  </tbody>\n",
       "</table>\n",
       "</div>"
      ],
      "text/plain": [
       "     fitness__batch_size  fitness__k  \\\n",
       "268                    2          64   \n",
       "264                    2          64   \n",
       "896                    8          64   \n",
       "584                    4          64   \n",
       "576                    4          64   \n",
       "580                    4          64   \n",
       "516                    4          32   \n",
       "280                    2          64   \n",
       "260                    2          64   \n",
       "512                    4          32   \n",
       "\n",
       "                           fitness__loss_function  fitness__lr  \\\n",
       "268  <function fitness_hinge_loss at 0x15e554550>         0.10   \n",
       "264  <function fitness_hinge_loss at 0x15e554550>         0.10   \n",
       "896  <function fitness_hinge_loss at 0x15e554550>         0.10   \n",
       "584  <function fitness_hinge_loss at 0x15e554550>         0.10   \n",
       "576  <function fitness_hinge_loss at 0x15e554550>         0.10   \n",
       "580  <function fitness_hinge_loss at 0x15e554550>         0.10   \n",
       "516  <function fitness_hinge_loss at 0x15e554550>         0.10   \n",
       "280  <function fitness_hinge_loss at 0x15e554550>         0.03   \n",
       "260  <function fitness_hinge_loss at 0x15e554550>         0.10   \n",
       "512  <function fitness_hinge_loss at 0x15e554550>         0.10   \n",
       "\n",
       "     fitness__margin  fitness__n_features  fitness__weight_decay  ecdf_mean  \\\n",
       "268                8                 1536                    0.0  -0.443847   \n",
       "264                4                 1536                    0.0  -0.444803   \n",
       "896                1                 1536                    0.0  -0.441140   \n",
       "584                4                 1536                    0.0  -0.442599   \n",
       "576                1                 1536                    0.0  -0.442603   \n",
       "580                2                 1536                    0.0  -0.442739   \n",
       "516                2                 1536                    0.0  -0.440624   \n",
       "280                4                 1536                    0.0  -0.444359   \n",
       "260                2                 1536                    0.0  -0.442535   \n",
       "512                1                 1536                    0.0  -0.442293   \n",
       "\n",
       "     ecdf_std  ecdf_rank  game_rank_mean  game_rank_std  game_rank_rank  \n",
       "268  0.015046        182        0.680924       0.033369               1  \n",
       "264  0.014394        212        0.679049       0.033668               2  \n",
       "896  0.014072        103        0.678581       0.036083               3  \n",
       "584  0.015386        143        0.677552       0.034080               4  \n",
       "576  0.018858        144        0.677148       0.034646               5  \n",
       "580  0.016522        148        0.676055       0.034125               6  \n",
       "516  0.014635         89        0.676003       0.033421               7  \n",
       "280  0.015260        196        0.675690       0.033542               8  \n",
       "260  0.016339        140        0.675521       0.036834               9  \n",
       "512  0.017137        132        0.674479       0.045758              10  "
      ]
     },
     "metadata": {},
     "output_type": "display_data"
    },
    {
     "data": {
      "image/png": "[encoded data removed]",
      "text/plain": [
       "<Figure size 640x480 with 1 Axes>"
      ]
     },
     "metadata": {},
     "output_type": "display_data"
    },
    {
     "name": "stdout",
     "output_type": "stream",
     "text": [
      "3.016383e-05 0.02876222 0.0013193781\n"
     ]
    },
    {
     "data": {
      "image/png": "[encoded data removed]",
      "text/plain": [
       "<Figure size 640x480 with 1 Axes>"
      ]
     },
     "metadata": {},
     "output_type": "display_data"
    }
   ],
   "source": [
    "utils.visualize_cv_outputs(scrambled_cv, scrambled_train_tensor, scrambled_test_tensor, scrambled_test_results, histogram_title_note='embeddings from extra-scrambled texts')"
   ]
  },
  {
   "cell_type": "code",
   "execution_count": null,
   "metadata": {},
   "outputs": [],
   "source": [
    "k = 20\n",
    "set(torch.topk(scrambled_cv.best_estimator_['fitness'].model.fc1.weight.data, k=k).indices.squeeze().tolist()).intersection(set(torch.topk(cv.best_estimator_['fitness'].model.fc1.weight.data, k=k).indices.squeeze().tolist()))"
   ]
  },
  {
   "cell_type": "code",
   "execution_count": null,
   "metadata": {},
   "outputs": [],
   "source": [
    "set(torch.topk(scrambled_cv.best_estimator_['fitness'].model.fc1.weight.data, k=k, largest=False).indices.squeeze().tolist()).intersection(set(torch.topk(cv.best_estimator_['fitness'].model.fc1.weight.data, k=k, largest=False).indices.squeeze().tolist()))"
   ]
  },
  {
   "cell_type": "code",
   "execution_count": null,
   "metadata": {},
   "outputs": [],
   "source": [
    "game_texts[89]"
   ]
  },
  {
   "cell_type": "code",
   "execution_count": null,
   "metadata": {},
   "outputs": [],
   "source": [
    "scrambled_game_texts[89]"
   ]
  },
  {
   "cell_type": "code",
   "execution_count": null,
   "metadata": {},
   "outputs": [],
   "source": [
    "scrambled_regrown_game_texts[89 * 64 + 10]"
   ]
  },
  {
   "cell_type": "code",
   "execution_count": null,
   "metadata": {},
   "outputs": [],
   "source": [
    "original_game_index = 67\n",
    "regrowth_index = 37\n",
    "utils.display_game_diff_html(scrambled_game_texts[original_game_index], scrambled_regrown_game_texts[original_game_index * 64 + regrowth_index])"
   ]
  },
  {
   "cell_type": "code",
   "execution_count": null,
   "metadata": {},
   "outputs": [],
   "source": [
    "def find_in_train_test_split(full_tensor: torch.Tensor, train_tensor: torch.Tensor, test_tensor: torch.Tensor, index: int):\n",
    "    found_in_train = (full_tensor[index, :2, :] == train_tensor[:, :2, :]).all(dim=-1).all(dim=-1).nonzero()\n",
    "    if found_in_train.ndim > 0:\n",
    "        return 'train', found_in_train.item()\n",
    "    \n",
    "    found_in_test = (full_tensor[index, :2, :] == test_tensor[:, :2, :]).all(dim=-1).all(dim=-1).nonzero()\n",
    "    if found_in_test.ndim > 0:\n",
    "        return 'test', found_in_test.item()\n",
    "    \n",
    "    return None, None"
   ]
  },
  {
   "cell_type": "code",
   "execution_count": null,
   "metadata": {},
   "outputs": [],
   "source": [
    "find_in_train_test_split(scrambled_embeddings_for_fitness, scrambled_train_tensor, scrambled_test_tensor, 67)"
   ]
  },
  {
   "cell_type": "code",
   "execution_count": null,
   "metadata": {},
   "outputs": [],
   "source": [
    "utils.evaluate_energy_contributions(scrambled_cv, scrambled_train_tensor, 70 * 64 + 37, list(range(scrambled_train_tensor.shape[-1])), scrambled_embeddings_for_fitness, scrambled_game_texts, scrambled_regrown_game_texts, top_k=5)"
   ]
  },
  {
   "cell_type": "code",
   "execution_count": null,
   "metadata": {},
   "outputs": [],
   "source": [
    "original_game_index = 20\n",
    "regrowth_index = 3\n",
    "\n",
    "text = scrambled_regrown_game_texts[original_game_index * 64 + regrowth_index]\n",
    "modified_text = text  # text.replace('obj_type65', 'obj_type25')\n",
    "\n",
    "\n",
    "# utils.display_game_diff_html(scrambled_game_texts[original_game_index], scrambled_regrown_game_texts[original_game_index * 64 + regrowth_index])\n",
    "utils.display_game_diff_html(scrambled_game_texts[original_game_index], modified_text)\n",
    "# utils.display_game_diff_html(modified_text, scrambled_regrown_game_texts[original_game_index * 64 + regrowth_index])\n",
    "\n",
    "result = embed_text(modified_text.strip())\n",
    "e_from_regrown = torch.tensor(result.data[0].embedding)\n",
    "scrambled_cv.best_estimator_.transform(e_from_regrown).item()"
   ]
  },
  {
   "cell_type": "code",
   "execution_count": null,
   "metadata": {},
   "outputs": [],
   "source": [
    "text = scrambled_game_texts[67]\n",
    "# text = scrambled_regrown_game_texts[67 * 64 + 37]\n",
    "modified_text = text.replace('obj_type65', 'obj_type25')\n",
    "\n",
    "original_game_index = 67\n",
    "regrowth_index = 37\n",
    "# utils.display_game_diff_html(scrambled_game_texts[original_game_index], scrambled_regrown_game_texts[original_game_index * 64 + regrowth_index])\n",
    "utils.display_game_diff_html(scrambled_game_texts[original_game_index], modified_text)\n",
    "# utils.display_game_diff_html(modified_text, scrambled_regrown_game_texts[original_game_index * 64 + regrowth_index])\n",
    "\n",
    "result = embed_text(modified_text.strip())\n",
    "e_from_original = torch.tensor(result.data[0].embedding)\n",
    "# scrambled_cv.best_estimator_.transform(e).item()"
   ]
  },
  {
   "cell_type": "code",
   "execution_count": null,
   "metadata": {},
   "outputs": [],
   "source": [
    "e_from_original - e_from_regrown"
   ]
  },
  {
   "cell_type": "code",
   "execution_count": null,
   "metadata": {},
   "outputs": [],
   "source": [
    "text = scrambled_regrown_game_texts[67 * 64 + 37]\n",
    "modified_text_from_regrown = text.replace('obj_type65', 'obj_type25')\n",
    "\n",
    "text = scrambled_game_texts[67]\n",
    "modified_text_from_original = text.replace('obj_type65', 'obj_type25')"
   ]
  },
  {
   "cell_type": "code",
   "execution_count": null,
   "metadata": {},
   "outputs": [],
   "source": [
    "modified_text_from_regrown.strip() == modified_text_from_original.strip()"
   ]
  },
  {
   "cell_type": "code",
   "execution_count": null,
   "metadata": {},
   "outputs": [],
   "source": [
    "whitespace_pattern.sub(' ', modified_text_from_regrown) == whitespace_pattern.sub(' ', modified_text_from_original)"
   ]
  },
  {
   "cell_type": "code",
   "execution_count": null,
   "metadata": {},
   "outputs": [],
   "source": [
    "print(modified_text_from_original)"
   ]
  },
  {
   "cell_type": "code",
   "execution_count": null,
   "metadata": {},
   "outputs": [],
   "source": []
  }
 ],
 "metadata": {
  "kernelspec": {
   "display_name": "game-gen",
   "language": "python",
   "name": "python3"
  },
  "language_info": {
   "codemirror_mode": {
    "name": "ipython",
    "version": 3
   },
   "file_extension": ".py",
   "mimetype": "text/x-python",
   "name": "python",
   "nbconvert_exporter": "python",
   "pygments_lexer": "ipython3",
   "version": "3.10.8 | packaged by conda-forge | (main, Nov 22 2022, 08:27:35) [Clang 14.0.6 ]"
  },
  "orig_nbformat": 4,
  "vscode": {
   "interpreter": {
    "hash": "d207b42274502bc006609ff0f580407f35ab20e7889cda7ddd92e73aeb06c569"
   }
  }
 },
 "nbformat": 4,
 "nbformat_minor": 2
}
