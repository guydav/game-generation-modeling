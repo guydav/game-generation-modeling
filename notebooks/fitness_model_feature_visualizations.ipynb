{
 "cells": [
  {
   "cell_type": "code",
   "execution_count": 2,
   "metadata": {},
   "outputs": [],
   "source": [
    "%autoreload 2"
   ]
  },
  {
   "cell_type": "code",
   "execution_count": 3,
   "metadata": {},
   "outputs": [],
   "source": [
    "from argparse import Namespace\n",
    "from collections import defaultdict\n",
    "import copy\n",
    "import difflib\n",
    "import gzip\n",
    "import itertools\n",
    "import os\n",
    "import pickle\n",
    "import sys\n",
    "import typing\n",
    "\n",
    "from IPython.display import display, Markdown, HTML\n",
    "import matplotlib\n",
    "import matplotlib.pyplot as plt\n",
    "import numpy as np\n",
    "import pandas as pd\n",
    "import sklearn\n",
    "from sklearn.model_selection import GridSearchCV, train_test_split, KFold\n",
    "from sklearn.pipeline import Pipeline\n",
    "import tatsu\n",
    "import torch\n",
    "import torch.nn as nn\n",
    "import torch.nn.functional as F\n",
    "from torch.utils.data import TensorDataset, DataLoader\n",
    "import tqdm.notebook as tqdm\n",
    "\n",
    "\n",
    "sys.path.append(os.path.abspath('..'))\n",
    "sys.path.append(os.path.abspath('../src'))\n",
    "from src import fitness_energy_utils as utils\n",
    "from src.fitness_energy_utils import NON_FEATURE_COLUMNS\n",
    "from src.ast_counter_sampler import *\n",
    "from src.ast_utils import cached_load_and_parse_games_from_file, load_games_from_file, _extract_game_id\n",
    "from src import ast_printer"
   ]
  },
  {
   "cell_type": "code",
   "execution_count": 4,
   "metadata": {},
   "outputs": [
    {
     "name": "stdout",
     "output_type": "stream",
     "text": [
      "98 6272 64.0 100352 1024.0\n"
     ]
    }
   ],
   "source": [
    "grammar = open('../dsl/dsl.ebnf').read()\n",
    "grammar_parser = tatsu.compile(grammar)\n",
    "game_asts = list(cached_load_and_parse_games_from_file('../dsl/interactive-beta.pddl', grammar_parser, False, relative_path='..'))\n",
    "real_game_texts = [ast_printer.ast_to_string(ast, '\\n') for ast in game_asts]\n",
    "regrown_game_texts = list(load_games_from_file('../dsl/ast-real-regrowth-samples.pddl'))\n",
    "regrown_game_1024_texts = list(load_games_from_file('../dsl/ast-real-regrowth-samples-1024.pddl'))\n",
    "print(len(real_game_texts), len(regrown_game_texts), len(regrown_game_texts) / 98, len(regrown_game_1024_texts), len(regrown_game_1024_texts) / 98)\n"
   ]
  },
  {
   "cell_type": "code",
   "execution_count": 5,
   "metadata": {},
   "outputs": [
    {
     "name": "stdout",
     "output_type": "stream",
     "text": [
      "['interactive-beta.pddl' 'ast-real-regrowth-samples-1024.pddl']\n"
     ]
    },
    {
     "data": {
      "text/html": [
       "<div>\n",
       "<style scoped>\n",
       "    .dataframe tbody tr th:only-of-type {\n",
       "        vertical-align: middle;\n",
       "    }\n",
       "\n",
       "    .dataframe tbody tr th {\n",
       "        vertical-align: top;\n",
       "    }\n",
       "\n",
       "    .dataframe thead th {\n",
       "        text-align: right;\n",
       "    }\n",
       "</style>\n",
       "<table border=\"1\" class=\"dataframe\">\n",
       "  <thead>\n",
       "    <tr style=\"text-align: right;\">\n",
       "      <th></th>\n",
       "      <th>Index</th>\n",
       "      <th>src_file</th>\n",
       "      <th>game_name</th>\n",
       "      <th>domain_name</th>\n",
       "      <th>original_game_name</th>\n",
       "      <th>real</th>\n",
       "      <th>all_variables_defined</th>\n",
       "      <th>all_variables_used</th>\n",
       "      <th>all_preferences_used</th>\n",
       "      <th>setup_objects_used</th>\n",
       "      <th>...</th>\n",
       "      <th>ast_ngram_constraints_n_6_score</th>\n",
       "      <th>ast_ngram_constraints_n_7_score</th>\n",
       "      <th>ast_ngram_terminal_n_2_score</th>\n",
       "      <th>ast_ngram_terminal_n_3_score</th>\n",
       "      <th>ast_ngram_terminal_n_4_score</th>\n",
       "      <th>ast_ngram_terminal_n_5_score</th>\n",
       "      <th>ast_ngram_scoring_n_2_score</th>\n",
       "      <th>ast_ngram_scoring_n_3_score</th>\n",
       "      <th>ast_ngram_scoring_n_4_score</th>\n",
       "      <th>ast_ngram_scoring_n_5_score</th>\n",
       "    </tr>\n",
       "  </thead>\n",
       "  <tbody>\n",
       "    <tr>\n",
       "      <th>0</th>\n",
       "      <td>0</td>\n",
       "      <td>interactive-beta.pddl</td>\n",
       "      <td>6172feb1665491d1efbce164-0</td>\n",
       "      <td>medium-objects-room-v1</td>\n",
       "      <td>6172feb1665491d1efbce164-0</td>\n",
       "      <td>1</td>\n",
       "      <td>1</td>\n",
       "      <td>1</td>\n",
       "      <td>1</td>\n",
       "      <td>1.00</td>\n",
       "      <td>...</td>\n",
       "      <td>0.978689</td>\n",
       "      <td>0.985999</td>\n",
       "      <td>0.972647</td>\n",
       "      <td>0.982941</td>\n",
       "      <td>0.983447</td>\n",
       "      <td>0.985028</td>\n",
       "      <td>0.923947</td>\n",
       "      <td>0.920410</td>\n",
       "      <td>0.977171</td>\n",
       "      <td>0.988160</td>\n",
       "    </tr>\n",
       "    <tr>\n",
       "      <th>1</th>\n",
       "      <td>1</td>\n",
       "      <td>interactive-beta.pddl</td>\n",
       "      <td>5f77754ba932fb2c4ba181d8-2</td>\n",
       "      <td>many-objects-room-v1</td>\n",
       "      <td>5f77754ba932fb2c4ba181d8-2</td>\n",
       "      <td>1</td>\n",
       "      <td>1</td>\n",
       "      <td>1</td>\n",
       "      <td>1</td>\n",
       "      <td>1.00</td>\n",
       "      <td>...</td>\n",
       "      <td>0.984116</td>\n",
       "      <td>0.984782</td>\n",
       "      <td>0.969335</td>\n",
       "      <td>0.980352</td>\n",
       "      <td>0.979375</td>\n",
       "      <td>0.985628</td>\n",
       "      <td>0.910105</td>\n",
       "      <td>0.933163</td>\n",
       "      <td>0.949498</td>\n",
       "      <td>0.964510</td>\n",
       "    </tr>\n",
       "    <tr>\n",
       "      <th>2</th>\n",
       "      <td>2</td>\n",
       "      <td>interactive-beta.pddl</td>\n",
       "      <td>614b603d4da88384282967a7-3</td>\n",
       "      <td>many-objects-room-v1</td>\n",
       "      <td>614b603d4da88384282967a7-3</td>\n",
       "      <td>1</td>\n",
       "      <td>1</td>\n",
       "      <td>1</td>\n",
       "      <td>1</td>\n",
       "      <td>0.00</td>\n",
       "      <td>...</td>\n",
       "      <td>0.978814</td>\n",
       "      <td>0.982546</td>\n",
       "      <td>0.000000</td>\n",
       "      <td>0.000000</td>\n",
       "      <td>0.000000</td>\n",
       "      <td>0.000000</td>\n",
       "      <td>0.854408</td>\n",
       "      <td>0.866689</td>\n",
       "      <td>0.928334</td>\n",
       "      <td>0.945839</td>\n",
       "    </tr>\n",
       "    <tr>\n",
       "      <th>3</th>\n",
       "      <td>3</td>\n",
       "      <td>interactive-beta.pddl</td>\n",
       "      <td>5bc79f652885710001a0e82a-5</td>\n",
       "      <td>few-objects-room-v1</td>\n",
       "      <td>5bc79f652885710001a0e82a-5</td>\n",
       "      <td>1</td>\n",
       "      <td>1</td>\n",
       "      <td>1</td>\n",
       "      <td>1</td>\n",
       "      <td>0.00</td>\n",
       "      <td>...</td>\n",
       "      <td>0.988970</td>\n",
       "      <td>0.988449</td>\n",
       "      <td>0.000000</td>\n",
       "      <td>0.000000</td>\n",
       "      <td>0.000000</td>\n",
       "      <td>0.000000</td>\n",
       "      <td>0.923947</td>\n",
       "      <td>0.920410</td>\n",
       "      <td>0.977171</td>\n",
       "      <td>0.988160</td>\n",
       "    </tr>\n",
       "    <tr>\n",
       "      <th>4</th>\n",
       "      <td>4</td>\n",
       "      <td>interactive-beta.pddl</td>\n",
       "      <td>614dec67f6eb129c3a77defd-6</td>\n",
       "      <td>medium-objects-room-v1</td>\n",
       "      <td>614dec67f6eb129c3a77defd-6</td>\n",
       "      <td>1</td>\n",
       "      <td>1</td>\n",
       "      <td>1</td>\n",
       "      <td>1</td>\n",
       "      <td>0.25</td>\n",
       "      <td>...</td>\n",
       "      <td>0.984601</td>\n",
       "      <td>0.983148</td>\n",
       "      <td>0.000000</td>\n",
       "      <td>0.000000</td>\n",
       "      <td>0.000000</td>\n",
       "      <td>0.000000</td>\n",
       "      <td>0.978064</td>\n",
       "      <td>0.979764</td>\n",
       "      <td>0.973707</td>\n",
       "      <td>0.988379</td>\n",
       "    </tr>\n",
       "  </tbody>\n",
       "</table>\n",
       "<p>5 rows × 549 columns</p>\n",
       "</div>"
      ],
      "text/plain": [
       "   Index               src_file                   game_name  \\\n",
       "0      0  interactive-beta.pddl  6172feb1665491d1efbce164-0   \n",
       "1      1  interactive-beta.pddl  5f77754ba932fb2c4ba181d8-2   \n",
       "2      2  interactive-beta.pddl  614b603d4da88384282967a7-3   \n",
       "3      3  interactive-beta.pddl  5bc79f652885710001a0e82a-5   \n",
       "4      4  interactive-beta.pddl  614dec67f6eb129c3a77defd-6   \n",
       "\n",
       "              domain_name          original_game_name  real  \\\n",
       "0  medium-objects-room-v1  6172feb1665491d1efbce164-0     1   \n",
       "1    many-objects-room-v1  5f77754ba932fb2c4ba181d8-2     1   \n",
       "2    many-objects-room-v1  614b603d4da88384282967a7-3     1   \n",
       "3     few-objects-room-v1  5bc79f652885710001a0e82a-5     1   \n",
       "4  medium-objects-room-v1  614dec67f6eb129c3a77defd-6     1   \n",
       "\n",
       "   all_variables_defined  all_variables_used  all_preferences_used  \\\n",
       "0                      1                   1                     1   \n",
       "1                      1                   1                     1   \n",
       "2                      1                   1                     1   \n",
       "3                      1                   1                     1   \n",
       "4                      1                   1                     1   \n",
       "\n",
       "   setup_objects_used  ...  ast_ngram_constraints_n_6_score  \\\n",
       "0                1.00  ...                         0.978689   \n",
       "1                1.00  ...                         0.984116   \n",
       "2                0.00  ...                         0.978814   \n",
       "3                0.00  ...                         0.988970   \n",
       "4                0.25  ...                         0.984601   \n",
       "\n",
       "   ast_ngram_constraints_n_7_score  ast_ngram_terminal_n_2_score  \\\n",
       "0                         0.985999                      0.972647   \n",
       "1                         0.984782                      0.969335   \n",
       "2                         0.982546                      0.000000   \n",
       "3                         0.988449                      0.000000   \n",
       "4                         0.983148                      0.000000   \n",
       "\n",
       "   ast_ngram_terminal_n_3_score  ast_ngram_terminal_n_4_score  \\\n",
       "0                      0.982941                      0.983447   \n",
       "1                      0.980352                      0.979375   \n",
       "2                      0.000000                      0.000000   \n",
       "3                      0.000000                      0.000000   \n",
       "4                      0.000000                      0.000000   \n",
       "\n",
       "   ast_ngram_terminal_n_5_score  ast_ngram_scoring_n_2_score  \\\n",
       "0                      0.985028                     0.923947   \n",
       "1                      0.985628                     0.910105   \n",
       "2                      0.000000                     0.854408   \n",
       "3                      0.000000                     0.923947   \n",
       "4                      0.000000                     0.978064   \n",
       "\n",
       "   ast_ngram_scoring_n_3_score  ast_ngram_scoring_n_4_score  \\\n",
       "0                     0.920410                     0.977171   \n",
       "1                     0.933163                     0.949498   \n",
       "2                     0.866689                     0.928334   \n",
       "3                     0.920410                     0.977171   \n",
       "4                     0.979764                     0.973707   \n",
       "\n",
       "   ast_ngram_scoring_n_5_score  \n",
       "0                     0.988160  \n",
       "1                     0.964510  \n",
       "2                     0.945839  \n",
       "3                     0.988160  \n",
       "4                     0.988379  \n",
       "\n",
       "[5 rows x 549 columns]"
      ]
     },
     "execution_count": 5,
     "metadata": {},
     "output_type": "execute_result"
    }
   ],
   "source": [
    "def extract_game_index(game_name: str):\n",
    "    first_dash = game_name.find('-')\n",
    "    second_dash = game_name.find('-', first_dash + 1)\n",
    "    index = game_name[first_dash + 1:second_dash] if second_dash != -1 else game_name[first_dash + 1:]\n",
    "    return int(index)\n",
    "\n",
    "\n",
    "def extract_negative_index(game_name: str):\n",
    "    first_dash = game_name.find('-')\n",
    "    second_dash = game_name.find('-', first_dash + 1)\n",
    "    if second_dash == -1:\n",
    "        return -1\n",
    "    \n",
    "    third_dash = game_name.find('-', second_dash + 1)\n",
    "    index = game_name[second_dash + 1:third_dash]\n",
    "    return int(index)\n",
    "\n",
    "\n",
    "fitness_df = utils.load_fitness_data('../data/fitness_features_1024_regrowths.csv.gz')\n",
    "\n",
    "# fitness_df = fitness_df.assign(real=fitness_df.real.astype('int'), game_index=fitness_df.game_name.apply(extract_game_index), \n",
    "#                                negative_index= fitness_df.game_name.apply(extract_negative_index), fake=~fitness_df.real.astype('int'))\n",
    "# fitness_df = fitness_df.sort_values(by=['fake', 'game_index', 'negative_index'], ignore_index=True).reset_index(drop=True)\n",
    "# fitness_df.drop(columns=['Index', 'fake', 'game_index', 'negative_index'], inplace=True)\n",
    "print(fitness_df.src_file.unique())\n",
    "fitness_df.head()"
   ]
  },
  {
   "cell_type": "code",
   "execution_count": 6,
   "metadata": {},
   "outputs": [],
   "source": [
    "# USE_BINARIZED_FEATURES_MODEL = True\n",
    "\n",
    "# if USE_BINARIZED_FEATURES_MODEL:\n",
    "#     model_path = '../models/cv_binarized_model_2023_01_20.pkl.gz'\n",
    "#     data_df = binarized_df\n",
    "# else:\n",
    "#     model_path = '../models/cv_fitness_model_2023_01_20.pkl.gz'\n",
    "#     data_df = filtered_fitness_df\n",
    "\n",
    "model_name = '2023_03_07_2'\n",
    "data_df = fitness_df\n",
    "cv_energy_model, feature_columns = utils.load_model_and_feature_columns(model_name)\n",
    "\n"
   ]
  },
  {
   "attachments": {},
   "cell_type": "markdown",
   "metadata": {},
   "source": [
    "## Histogram the weights to get a sense of what we're dealing with"
   ]
  },
  {
   "cell_type": "code",
   "execution_count": 7,
   "metadata": {},
   "outputs": [
    {
     "name": "stdout",
     "output_type": "stream",
     "text": [
      "Weights mean: -0.0641, std: 0.7549, bias: 0.0100\n"
     ]
    },
    {
     "data": {
      "image/png": "[encoded data removed]",
      "text/plain": [
       "<Figure size 640x480 with 1 Axes>"
      ]
     },
     "metadata": {},
     "output_type": "display_data"
    }
   ],
   "source": [
    "weights = cv_energy_model.named_steps['fitness'].model.fc1.weight.data.detach().squeeze()  # type: ignore\n",
    "bias = cv_energy_model.named_steps['fitness'].model.fc1.bias.data.detach().squeeze()  # type: ignore\n",
    "print(f'Weights mean: {weights.mean():.4f}, std: {weights.std():.4f}, bias: {bias:.4f}')\n",
    "\n",
    "plt.hist(weights, bins=30)\n",
    "plt.title('Energy model weights')\n",
    "plt.xlabel('Weight magnitude')\n",
    "plt.ylabel('Count')\n",
    "plt.show()"
   ]
  },
  {
   "cell_type": "code",
   "execution_count": 8,
   "metadata": {},
   "outputs": [
    {
     "name": "stdout",
     "output_type": "stream",
     "text": [
      "Approximately 10.0% (9, 10.84%) of the weights have magnitude < 0.0193\n",
      "Approximately 25.0% (21, 25.30%) of the weights have magnitude < 0.0596\n",
      "Approximately 50.0% (42, 50.60%) of the weights have magnitude < 0.1606\n",
      "Approximately 75.0% (63, 75.90%) of the weights have magnitude < 0.3542\n",
      "Approximately 90.0% (75, 90.36%) of the weights have magnitude < 0.8248\n",
      "Approximately 95.0% (79, 95.18%) of the weights have magnitude < 1.1147\n"
     ]
    }
   ],
   "source": [
    "quantiles = [0.1, 0.25, 0.5, 0.75, 0.9, 0.95, 0.99]\n",
    "quantile_index = 0\n",
    "\n",
    "abs_weights = weights.abs()\n",
    "\n",
    "for magnitude in torch.linspace(0,abs_weights.max(), 5000):\n",
    "    n = torch.sum(abs_weights < magnitude).item()\n",
    "    if n / len(weights) >= quantiles[quantile_index]:\n",
    "        print(f'Approximately {quantiles[quantile_index] * 100}% ({n}, {n / len(weights) * 100:.2f}%) of the weights have magnitude < {magnitude:.4f}')\n",
    "        quantile_index += 1\n",
    "\n",
    "    if quantile_index >= len(quantiles):\n",
    "        break"
   ]
  },
  {
   "attachments": {},
   "cell_type": "markdown",
   "metadata": {},
   "source": [
    "## Print the top K features most and least predictive of real games"
   ]
  },
  {
   "cell_type": "code",
   "execution_count": 9,
   "metadata": {},
   "outputs": [
    {
     "data": {
      "text/markdown": [
       "### Features with largest negative weights (most predictive of real games):\n",
       "1. ast_ngram_full_n_7_score (-4.5865)\n",
       "2. ast_ngram_constraints_n_7_score (-3.6889)\n",
       "3. ast_ngram_setup_n_5_score (-1.2646)\n",
       "4. all_variables_used (-1.1078)\n",
       "5. all_preferences_used (-0.9137)\n",
       "6. no_two_number_operations (-0.8245)\n",
       "7. ast_ngram_terminal_n_5_score (-0.6492)\n",
       "8. pref_forall_pref_forall_correct_arity_correct (-0.4309)\n",
       "9. max_depth_setup_0 (-0.4246)\n",
       "10. ast_ngram_scoring_n_5_score (-0.3849)\n",
       "11. mean_depth_setup_0 (-0.2952)\n",
       "12. all_variables_defined (-0.2929)\n",
       "13. mean_depth_scoring_1 (-0.2136)\n",
       "14. mean_depth_constraints_0 (-0.1927)\n",
       "15. max_depth_constraints_1 (-0.1754)\n",
       "16. mean_depth_terminal_0 (-0.1725)\n",
       "17. section_without_pref_or_total_count_scoring (-0.1714)\n",
       "18. compositionality_structure_11 (-0.1325)\n",
       "19. mean_depth_terminal_2 (-0.1079)\n",
       "20. max_depth_scoring_3 (-0.0931)\n",
       "### Features with largest positive weights (most predictive of fake games):\n",
       "1. pref_forall_used_incorrect (1.3986)\n",
       "2. pref_forall_pref_forall_correct_types_incorrect (1.1140)\n",
       "3. repeated_variables_found (1.0275)\n",
       "4. nested_logicals_found (0.5471)\n",
       "5. pref_forall_pref_forall_correct_arity_incorrect (0.5372)\n",
       "6. redundant_expression_found (0.5348)\n",
       "7. adjacent_once_found (0.4247)\n",
       "8. section_exists_setup (0.4062)\n",
       "9. section_exists_terminal (0.3606)\n",
       "10. mean_depth_setup_4 (0.3591)\n",
       "11. pref_forall_used_correct (0.3536)\n",
       "12. tautological_expression_found (0.3150)\n",
       "13. mean_depth_setup_3 (0.3050)\n",
       "14. identical_logical_children_found (0.2911)\n",
       "15. mean_depth_constraints_4 (0.2460)\n",
       "16. mean_depth_terminal_4 (0.2399)\n",
       "17. max_depth_constraints_0 (0.2205)\n",
       "18. max_depth_scoring_0 (0.2163)\n",
       "19. max_depth_terminal_2 (0.2122)\n",
       "20. max_depth_terminal_4 (0.2074)"
      ],
      "text/plain": [
       "<IPython.core.display.Markdown object>"
      ]
     },
     "metadata": {},
     "output_type": "display_data"
    }
   ],
   "source": [
    "K = 20\n",
    "top_features = torch.topk(weights, K)\n",
    "bottom_features = torch.topk(weights, K, largest=False)\n",
    "\n",
    "lines = []\n",
    "\n",
    "lines.append('### Features with largest negative weights (most predictive of real games):')\n",
    "for i in range(K):\n",
    "    lines.append(f'{i+1}. {feature_columns[bottom_features.indices[i]]} ({bottom_features.values[i]:.4f})')\n",
    "\n",
    "lines.append('### Features with largest positive weights (most predictive of fake games):')\n",
    "for i in range(K):\n",
    "    lines.append((f'{i+1}. {feature_columns[top_features.indices[i]]} ({top_features.values[i]:.4f})'))\n",
    "\n",
    "display(Markdown('\\n'.join(lines)))\n"
   ]
  },
  {
   "cell_type": "code",
   "execution_count": null,
   "metadata": {},
   "outputs": [],
   "source": [
    "[(c, weights[feature_columns.index(c)]) for c in feature_columns if 'found' in c]"
   ]
  },
  {
   "cell_type": "code",
   "execution_count": null,
   "metadata": {},
   "outputs": [],
   "source": [
    "data_df.groupby('real').repeated_variables_found.describe()"
   ]
  },
  {
   "cell_type": "code",
   "execution_count": null,
   "metadata": {},
   "outputs": [],
   "source": [
    "data_df.groupby('real').no_identical_logical_children.describe()"
   ]
  },
  {
   "cell_type": "code",
   "execution_count": null,
   "metadata": {},
   "outputs": [],
   "source": [
    "[(c, weights[feature_columns.index(c)]) for c in feature_columns if 'exists' in c]"
   ]
  },
  {
   "cell_type": "code",
   "execution_count": null,
   "metadata": {},
   "outputs": [],
   "source": [
    "[(c, weights[feature_columns.index(c)]) for c in feature_columns if c.startswith('ast_ngram') and c.endswith('score')]"
   ]
  },
  {
   "attachments": {},
   "cell_type": "markdown",
   "metadata": {},
   "source": [
    "## Plot a histogram of the values for each of the and bottom K features"
   ]
  },
  {
   "cell_type": "code",
   "execution_count": 12,
   "metadata": {},
   "outputs": [],
   "source": [
    "def plot_value_histograms(df: pd.DataFrame, weights: torch.Tensor, k: int = 10,\n",
    "    largest: bool = True, bins: int = 100, histogram_log_y: bool = True, \n",
    "    histogram_density: bool = True, layout: typing.Optional[typing.Tuple[int, int]] = None,\n",
    "    figsize: typing.Optional[typing.Tuple[float, float]] = None, \n",
    "    panel_width: float = 4, panel_height: float = 4, ylabel_once_per_row: bool = True,\n",
    "    subplots_adjust_params: typing.Optional[typing.Dict[str, float]] = None,\n",
    "    title_fontsize: int = 12, title_split_threshold: int = 25,\n",
    "    cm: plt.get_cmap('tab20') = plt.get_cmap('tab20')):  # type: ignore\n",
    "    \n",
    "    if layout is None:\n",
    "        largest_div = int(np.floor(k ** 0.5))\n",
    "        while k % largest_div != 0:\n",
    "            largest_div -= 1\n",
    "\n",
    "        layout = (largest_div, k // largest_div)\n",
    "\n",
    "    if figsize is None:\n",
    "        figsize = (layout[1] * panel_width, layout[0] * panel_height)\n",
    "\n",
    "    fig, axes = plt.subplots(*layout, figsize=figsize)\n",
    "\n",
    "    top_k = torch.topk(weights, k, largest=largest)\n",
    "\n",
    "    for i in range(k):\n",
    "        feature_index = top_k.indices[i]\n",
    "        ax = axes[i // layout[1]][i % layout[1]]\n",
    "\n",
    "        real_values = df[df.real == 1][feature_columns[feature_index]].to_numpy()\n",
    "        synthetic_values = df[df.real == 0][feature_columns[feature_index]].to_numpy()\n",
    "\n",
    "        # print(f'Feature = 0 {(real_values == 0).mean() * 100:.2f}% of the time in real games, {(synthetic_values == 0).mean() * 100:.2f}% of the time in synthetic games')\n",
    "\n",
    "        ax.hist([real_values, synthetic_values], label=['Real games', 'Regrown games'], \n",
    "            stacked=False, density=histogram_density, bins=bins, color=[cm.colors[0], cm.colors[2]])  # type: ignore\n",
    "        ax.set_xlabel('Feature value')\n",
    "\n",
    "        if not ylabel_once_per_row or i % layout[1] == 0:\n",
    "            if histogram_density:\n",
    "                if histogram_log_y:\n",
    "                    ax.set_ylabel('log(Density)')\n",
    "                else:\n",
    "                    ax.set_ylabel('Density')\n",
    "            elif histogram_log_y:\n",
    "                ax.set_ylabel('log(Count)')\n",
    "            else:\n",
    "                ax.set_ylabel('Count')\n",
    "\n",
    "        if histogram_log_y:\n",
    "            ax.semilogy()\n",
    "        \n",
    "        title_feature = f'#{i + 1}: {feature_columns[feature_index]}'\n",
    "        title_weight = f'(weight: {top_k.values[i]:.4f})'\n",
    "        if len(title_feature) > title_split_threshold:\n",
    "            title_split_index = title_feature.find('_', title_split_threshold) + 1\n",
    "            if title_split_index == 0:\n",
    "                title_split_index = len(title_feature)\n",
    "            title = f'{title_feature[:title_split_index]}\\n{title_feature[title_split_index:]} {title_weight}'\n",
    "        else:\n",
    "            title = f'{title_feature}\\n{title_weight}'\n",
    "\n",
    "        ax.set_title(title, fontdict=dict(fontsize=title_fontsize))\n",
    "        ax.legend(loc='best')\n",
    "\n",
    "    if subplots_adjust_params is not None:\n",
    "        plt.subplots_adjust(**subplots_adjust_params)\n",
    "        \n",
    "    plt.show()\n",
    "\n",
    "        "
   ]
  },
  {
   "attachments": {},
   "cell_type": "markdown",
   "metadata": {},
   "source": [
    "## For the 20 features with the largest negative weights, that is, most predictive of real games"
   ]
  },
  {
   "cell_type": "code",
   "execution_count": 13,
   "metadata": {},
   "outputs": [
    {
     "data": {
      "image/png": "[encoded data removed]",
      "text/plain": [
       "<Figure size 2000x800 with 10 Axes>"
      ]
     },
     "metadata": {},
     "output_type": "display_data"
    }
   ],
   "source": [
    "k = 10\n",
    "plot_value_histograms(data_df, weights, k=k, largest=False, bins=20, histogram_log_y=False, histogram_density=True,\n",
    "    subplots_adjust_params=dict(hspace=0.4), title_fontsize=10)"
   ]
  },
  {
   "attachments": {},
   "cell_type": "markdown",
   "metadata": {},
   "source": [
    "## For the 20 features with largest weights, that is, most predictive of a fake game"
   ]
  },
  {
   "cell_type": "code",
   "execution_count": 14,
   "metadata": {},
   "outputs": [
    {
     "data": {
      "image/png": "[encoded data removed]",
      "text/plain": [
       "<Figure size 2000x800 with 10 Axes>"
      ]
     },
     "metadata": {},
     "output_type": "display_data"
    }
   ],
   "source": [
    "plot_value_histograms(data_df, weights, k=k, largest=True, bins=20,  histogram_log_y=False, histogram_density=True,\n",
    "    subplots_adjust_params=dict(hspace=0.4), title_fontsize=10)"
   ]
  },
  {
   "attachments": {},
   "cell_type": "markdown",
   "metadata": {},
   "source": [
    "## Visualizing some top negatives"
   ]
  },
  {
   "cell_type": "code",
   "execution_count": 15,
   "metadata": {},
   "outputs": [],
   "source": [
    "full_tensor = utils.df_to_tensor(data_df, feature_columns)\n",
    "if 'wrapper' in cv_energy_model.named_steps: cv_energy_model.named_steps['wrapper'].eval()\n",
    "full_tensor_scores = cv_energy_model.transform(full_tensor).detach()"
   ]
  },
  {
   "cell_type": "code",
   "execution_count": 42,
   "metadata": {},
   "outputs": [
    {
     "name": "stdout",
     "output_type": "stream",
     "text": [
      "Real game scores: -12.6081 ± 0.2395, min = -13.2545, max = -12.1621\n"
     ]
    }
   ],
   "source": [
    "real_game_scores = full_tensor_scores[:, 0]\n",
    "print(f'Real game scores: {real_game_scores.mean():.4f} ± {real_game_scores.std():.4f}, min = {real_game_scores.min():.4f}, max = {real_game_scores.max():.4f}')"
   ]
  },
  {
   "cell_type": "code",
   "execution_count": 17,
   "metadata": {},
   "outputs": [
    {
     "data": {
      "image/png": "[encoded data removed]",
      "text/plain": [
       "<Figure size 640x480 with 1 Axes>"
      ]
     },
     "metadata": {},
     "output_type": "display_data"
    }
   ],
   "source": [
    "utils.plot_energy_histogram(cv_energy_model, full_tensor)"
   ]
  },
  {
   "cell_type": "code",
   "execution_count": 18,
   "metadata": {},
   "outputs": [],
   "source": [
    "negatives_scores = full_tensor_scores[:, 1:]"
   ]
  },
  {
   "cell_type": "code",
   "execution_count": 19,
   "metadata": {},
   "outputs": [],
   "source": [
    "positive_scores = full_tensor_scores[:, 0]\n",
    "score_diffs = negatives_scores - positive_scores.unsqueeze(1)"
   ]
  },
  {
   "cell_type": "code",
   "execution_count": 20,
   "metadata": {},
   "outputs": [
    {
     "data": {
      "text/plain": [
       "torch.return_types.topk(\n",
       "values=tensor([-0.1849, -0.1021, -0.0793, -0.0608, -0.0607, -0.0440, -0.0417, -0.0408,\n",
       "        -0.0355, -0.0273]),\n",
       "indices=tensor([ 3397, 66558, 17963, 67736, 85387, 64353, 35808, 36467, 37892,  9243]))"
      ]
     },
     "execution_count": 20,
     "metadata": {},
     "output_type": "execute_result"
    }
   ],
   "source": [
    "torch.topk(score_diffs.ravel(), 10, largest=False)"
   ]
  },
  {
   "cell_type": "code",
   "execution_count": 21,
   "metadata": {},
   "outputs": [
    {
     "name": "stdout",
     "output_type": "stream",
     "text": [
      "Original game index: 2 | Negative game row: 2 | Negative game col: 187\n"
     ]
    },
    {
     "data": {
      "text/markdown": [
       "### Energy of real game: -13.255 | Energy of regrown game: -13.255 | Difference: 0.000"
      ],
      "text/plain": [
       "<IPython.core.display.Markdown object>"
      ]
     },
     "metadata": {},
     "output_type": "display_data"
    },
    {
     "data": {
      "text/markdown": [
       "### Top features changing the game's energy\n",
       "feature name: **value** = (original feature value => regrown feature value) * weight"
      ],
      "text/plain": [
       "<IPython.core.display.Markdown object>"
      ]
     },
     "metadata": {},
     "output_type": "display_data"
    },
    {
     "data": {
      "text/markdown": [
       "| Features increasing energy (= more fake)   | Features decreasing energy (= more real)   |\n",
       "|--------------------------------------------|--------------------------------------------|"
      ],
      "text/plain": [
       "<IPython.core.display.Markdown object>"
      ]
     },
     "metadata": {},
     "output_type": "display_data"
    },
    {
     "data": {
      "text/markdown": [
       "### Game Diffs"
      ],
      "text/plain": [
       "<IPython.core.display.Markdown object>"
      ]
     },
     "metadata": {},
     "output_type": "display_data"
    },
    {
     "data": {
      "text/html": [
       "\n",
       "<!DOCTYPE html PUBLIC \"-//W3C//DTD XHTML 1.0 Transitional//EN\"\n",
       "          \"http://www.w3.org/TR/xhtml1/DTD/xhtml1-transitional.dtd\">\n",
       "\n",
       "<html>\n",
       "\n",
       "<head>\n",
       "    <meta http-equiv=\"Content-Type\"\n",
       "          content=\"text/html; charset=utf-8\" />\n",
       "    <title></title>\n",
       "    <style type=\"text/css\">\n",
       "        table.diff {font-family:Courier; border:medium;}\n",
       "        .diff_header {background-color:#e0e0e0}\n",
       "        .diff td {text-align: left !important}\n",
       ".diff th {text-align: center!important }\n",
       ".diff td.diff_header {text-align:right !important}\n",
       "        .diff_next {background-color:#c0c0c0}\n",
       "        .diff_add {background-color: #6fa66f !important; font-weight: bold !important}\n",
       "        .diff_chg {background-color: #999949 !important; font-weight: bold !important}\n",
       "        .diff_sub {background-color: #a66f6f !important; font-weight: bold !important}\n",
       "    </style>\n",
       "</head>\n",
       "\n",
       "<body>\n",
       "    \n",
       "    <table class=\"diff\" id=\"difflib_chg_to0__top\"\n",
       "           cellspacing=\"0\" cellpadding=\"0\" rules=\"groups\" >\n",
       "        <colgroup></colgroup> <colgroup></colgroup> <colgroup></colgroup>\n",
       "        <colgroup></colgroup> <colgroup></colgroup> <colgroup></colgroup>\n",
       "        \n",
       "        <tbody>\n",
       "            <tr><td class=\"diff_next\" id=\"difflib_chg_to0__0\"><a href=\"#difflib_chg_to0__1\">n</a></td><td class=\"diff_header\" id=\"from0_1\">1</td><td nowrap=\"nowrap\">(define&nbsp;(game&nbsp;614b603d4da88384282967a7-3)&nbsp;(:domain&nbsp;many-objects-room-v1)</td><td class=\"diff_next\"><a href=\"#difflib_chg_to0__1\">n</a></td><td class=\"diff_header\" id=\"to0_1\">1</td><td nowrap=\"nowrap\">(define&nbsp;(game&nbsp;614b603d4da88384282967a7-3<span class=\"diff_add\">-187-nd-0-rd-1-rs-constraints-sk-prior1</span>)&nbsp;(:domain&nbsp;many-objec</td></tr>\n",
       "            <tr><td class=\"diff_next\"></td><td class=\"diff_header\"></td><td nowrap=\"nowrap\">&nbsp;</td><td class=\"diff_next\"></td><td class=\"diff_header\">></td><td nowrap=\"nowrap\">ts-room-v1)</td></tr>\n",
       "            <tr><td class=\"diff_next\" id=\"difflib_chg_to0__1\"></td><td class=\"diff_header\" id=\"from0_2\">2</td><td nowrap=\"nowrap\">(:constraints</td><td class=\"diff_next\"></td><td class=\"diff_header\" id=\"to0_2\">2</td><td nowrap=\"nowrap\">(:constraints</td></tr>\n",
       "            <tr><td class=\"diff_next\"></td><td class=\"diff_header\" id=\"from0_3\">3</td><td nowrap=\"nowrap\">&nbsp;&nbsp;(and</td><td class=\"diff_next\"></td><td class=\"diff_header\" id=\"to0_3\">3</td><td nowrap=\"nowrap\">&nbsp;&nbsp;(and</td></tr>\n",
       "            <tr><td class=\"diff_next\"></td><td class=\"diff_header\" id=\"from0_4\">4</td><td nowrap=\"nowrap\">&nbsp;&nbsp;&nbsp;&nbsp;(forall&nbsp;(?b&nbsp;-&nbsp;building)</td><td class=\"diff_next\"></td><td class=\"diff_header\" id=\"to0_4\">4</td><td nowrap=\"nowrap\">&nbsp;&nbsp;&nbsp;&nbsp;(forall&nbsp;(?b&nbsp;-&nbsp;building)</td></tr>\n",
       "            <tr><td class=\"diff_next\"></td><td class=\"diff_header\" id=\"from0_5\">5</td><td nowrap=\"nowrap\">&nbsp;&nbsp;&nbsp;&nbsp;&nbsp;&nbsp;(and</td><td class=\"diff_next\"></td><td class=\"diff_header\" id=\"to0_5\">5</td><td nowrap=\"nowrap\">&nbsp;&nbsp;&nbsp;&nbsp;&nbsp;&nbsp;(and</td></tr>\n",
       "            <tr><td class=\"diff_next\"></td><td class=\"diff_header\" id=\"from0_6\">6</td><td nowrap=\"nowrap\">&nbsp;&nbsp;&nbsp;&nbsp;&nbsp;&nbsp;&nbsp;&nbsp;(preference&nbsp;blockInTowerAtEnd</td><td class=\"diff_next\"></td><td class=\"diff_header\" id=\"to0_6\">6</td><td nowrap=\"nowrap\">&nbsp;&nbsp;&nbsp;&nbsp;&nbsp;&nbsp;&nbsp;&nbsp;(preference&nbsp;blockInTowerAtEnd</td></tr>\n",
       "            <tr><td class=\"diff_next\"><a href=\"#difflib_chg_to0__top\">t</a></td><td class=\"diff_header\" id=\"from0_7\">7</td><td nowrap=\"nowrap\">&nbsp;&nbsp;&nbsp;&nbsp;&nbsp;&nbsp;&nbsp;&nbsp;&nbsp;&nbsp;(exists&nbsp;(?l&nbsp;-&nbsp;block)</td><td class=\"diff_next\"><a href=\"#difflib_chg_to0__top\">t</a></td><td class=\"diff_header\" id=\"to0_7\">7</td><td nowrap=\"nowrap\">&nbsp;&nbsp;&nbsp;&nbsp;&nbsp;&nbsp;&nbsp;&nbsp;&nbsp;&nbsp;(exists&nbsp;(?l&nbsp;-&nbsp;<span class=\"diff_add\">tall_cylindrical_</span>block)</td></tr>\n",
       "            <tr><td class=\"diff_next\"></td><td class=\"diff_header\" id=\"from0_8\">8</td><td nowrap=\"nowrap\">&nbsp;&nbsp;&nbsp;&nbsp;&nbsp;&nbsp;&nbsp;&nbsp;&nbsp;&nbsp;&nbsp;&nbsp;(at-end</td><td class=\"diff_next\"></td><td class=\"diff_header\" id=\"to0_8\">8</td><td nowrap=\"nowrap\">&nbsp;&nbsp;&nbsp;&nbsp;&nbsp;&nbsp;&nbsp;&nbsp;&nbsp;&nbsp;&nbsp;&nbsp;(at-end</td></tr>\n",
       "            <tr><td class=\"diff_next\"></td><td class=\"diff_header\" id=\"from0_9\">9</td><td nowrap=\"nowrap\">&nbsp;&nbsp;&nbsp;&nbsp;&nbsp;&nbsp;&nbsp;&nbsp;&nbsp;&nbsp;&nbsp;&nbsp;&nbsp;&nbsp;(in&nbsp;?b&nbsp;?l)</td><td class=\"diff_next\"></td><td class=\"diff_header\" id=\"to0_9\">9</td><td nowrap=\"nowrap\">&nbsp;&nbsp;&nbsp;&nbsp;&nbsp;&nbsp;&nbsp;&nbsp;&nbsp;&nbsp;&nbsp;&nbsp;&nbsp;&nbsp;(in&nbsp;?b&nbsp;?l)</td></tr>\n",
       "            <tr><td class=\"diff_next\"></td><td class=\"diff_header\" id=\"from0_10\">10</td><td nowrap=\"nowrap\">&nbsp;&nbsp;&nbsp;&nbsp;&nbsp;&nbsp;&nbsp;&nbsp;&nbsp;&nbsp;&nbsp;&nbsp;)</td><td class=\"diff_next\"></td><td class=\"diff_header\" id=\"to0_10\">10</td><td nowrap=\"nowrap\">&nbsp;&nbsp;&nbsp;&nbsp;&nbsp;&nbsp;&nbsp;&nbsp;&nbsp;&nbsp;&nbsp;&nbsp;)</td></tr>\n",
       "            <tr><td class=\"diff_next\"></td><td class=\"diff_header\" id=\"from0_11\">11</td><td nowrap=\"nowrap\">&nbsp;&nbsp;&nbsp;&nbsp;&nbsp;&nbsp;&nbsp;&nbsp;&nbsp;&nbsp;)</td><td class=\"diff_next\"></td><td class=\"diff_header\" id=\"to0_11\">11</td><td nowrap=\"nowrap\">&nbsp;&nbsp;&nbsp;&nbsp;&nbsp;&nbsp;&nbsp;&nbsp;&nbsp;&nbsp;)</td></tr>\n",
       "            <tr><td class=\"diff_next\"></td><td class=\"diff_header\" id=\"from0_12\">12</td><td nowrap=\"nowrap\">&nbsp;&nbsp;&nbsp;&nbsp;&nbsp;&nbsp;&nbsp;&nbsp;)</td><td class=\"diff_next\"></td><td class=\"diff_header\" id=\"to0_12\">12</td><td nowrap=\"nowrap\">&nbsp;&nbsp;&nbsp;&nbsp;&nbsp;&nbsp;&nbsp;&nbsp;)</td></tr>\n",
       "            <tr><td class=\"diff_next\"></td><td class=\"diff_header\" id=\"from0_13\">13</td><td nowrap=\"nowrap\">&nbsp;&nbsp;&nbsp;&nbsp;&nbsp;&nbsp;)</td><td class=\"diff_next\"></td><td class=\"diff_header\" id=\"to0_13\">13</td><td nowrap=\"nowrap\">&nbsp;&nbsp;&nbsp;&nbsp;&nbsp;&nbsp;)</td></tr>\n",
       "            <tr><td class=\"diff_next\"></td><td class=\"diff_header\" id=\"from0_14\">14</td><td nowrap=\"nowrap\">&nbsp;&nbsp;&nbsp;&nbsp;)</td><td class=\"diff_next\"></td><td class=\"diff_header\" id=\"to0_14\">14</td><td nowrap=\"nowrap\">&nbsp;&nbsp;&nbsp;&nbsp;)</td></tr>\n",
       "            <tr><td class=\"diff_next\"></td><td class=\"diff_header\" id=\"from0_15\">15</td><td nowrap=\"nowrap\">&nbsp;&nbsp;)</td><td class=\"diff_next\"></td><td class=\"diff_header\" id=\"to0_15\">15</td><td nowrap=\"nowrap\">&nbsp;&nbsp;)</td></tr>\n",
       "            <tr><td class=\"diff_next\"></td><td class=\"diff_header\" id=\"from0_16\">16</td><td nowrap=\"nowrap\">)</td><td class=\"diff_next\"></td><td class=\"diff_header\" id=\"to0_16\">16</td><td nowrap=\"nowrap\">)</td></tr>\n",
       "            <tr><td class=\"diff_next\"></td><td class=\"diff_header\" id=\"from0_17\">17</td><td nowrap=\"nowrap\">(:scoring</td><td class=\"diff_next\"></td><td class=\"diff_header\" id=\"to0_17\">17</td><td nowrap=\"nowrap\">(:scoring</td></tr>\n",
       "            <tr><td class=\"diff_next\"></td><td class=\"diff_header\" id=\"from0_18\">18</td><td nowrap=\"nowrap\">&nbsp;&nbsp;(external-forall-maximize</td><td class=\"diff_next\"></td><td class=\"diff_header\" id=\"to0_18\">18</td><td nowrap=\"nowrap\">&nbsp;&nbsp;(external-forall-maximize</td></tr>\n",
       "            <tr><td class=\"diff_next\"></td><td class=\"diff_header\" id=\"from0_19\">19</td><td nowrap=\"nowrap\">&nbsp;&nbsp;&nbsp;&nbsp;(count-once-per-objects&nbsp;blockInTowerAtEnd)</td><td class=\"diff_next\"></td><td class=\"diff_header\" id=\"to0_19\">19</td><td nowrap=\"nowrap\">&nbsp;&nbsp;&nbsp;&nbsp;(count-once-per-objects&nbsp;blockInTowerAtEnd)</td></tr>\n",
       "            <tr><td class=\"diff_next\"></td><td class=\"diff_header\" id=\"from0_20\">20</td><td nowrap=\"nowrap\">&nbsp;&nbsp;)</td><td class=\"diff_next\"></td><td class=\"diff_header\" id=\"to0_20\">20</td><td nowrap=\"nowrap\">&nbsp;&nbsp;)</td></tr>\n",
       "            <tr><td class=\"diff_next\"></td><td class=\"diff_header\" id=\"from0_21\">21</td><td nowrap=\"nowrap\">)</td><td class=\"diff_next\"></td><td class=\"diff_header\" id=\"to0_21\">21</td><td nowrap=\"nowrap\">)</td></tr>\n",
       "            <tr><td class=\"diff_next\"></td><td class=\"diff_header\" id=\"from0_22\">22</td><td nowrap=\"nowrap\">)</td><td class=\"diff_next\"></td><td class=\"diff_header\" id=\"to0_22\">22</td><td nowrap=\"nowrap\">)</td></tr>\n",
       "        </tbody>\n",
       "    </table>\n",
       "    <table class=\"diff\" summary=\"Legends\">\n",
       "        <tr> <th colspan=\"2\"> Legends </th> </tr>\n",
       "        <tr> <td> <table border=\"\" summary=\"Colors\">\n",
       "                      <tr><th> Colors </th> </tr>\n",
       "                      <tr><td class=\"diff_add\">&nbsp;Added&nbsp;</td></tr>\n",
       "                      <tr><td class=\"diff_chg\">Changed</td> </tr>\n",
       "                      <tr><td class=\"diff_sub\">Deleted</td> </tr>\n",
       "                  </table></td>\n",
       "             <td> <table border=\"\" summary=\"Links\">\n",
       "                      <tr><th colspan=\"2\"> Links </th> </tr>\n",
       "                      <tr><td>(f)irst change</td> </tr>\n",
       "                      <tr><td>(n)ext change</td> </tr>\n",
       "                      <tr><td>(t)op</td> </tr>\n",
       "                  </table></td> </tr>\n",
       "    </table>\n",
       "</body>\n",
       "\n",
       "</html>"
      ],
      "text/plain": [
       "<IPython.core.display.HTML object>"
      ]
     },
     "metadata": {},
     "output_type": "display_data"
    },
    {
     "data": {
      "text/markdown": [
       "---"
      ],
      "text/plain": [
       "<IPython.core.display.Markdown object>"
      ]
     },
     "metadata": {},
     "output_type": "display_data"
    },
    {
     "name": "stdout",
     "output_type": "stream",
     "text": [
      "Original game index: 2 | Negative game row: 2 | Negative game col: 153\n"
     ]
    },
    {
     "data": {
      "text/markdown": [
       "### Energy of real game: -13.255 | Energy of regrown game: -13.255 | Difference: 0.000"
      ],
      "text/plain": [
       "<IPython.core.display.Markdown object>"
      ]
     },
     "metadata": {},
     "output_type": "display_data"
    },
    {
     "data": {
      "text/markdown": [
       "### Top features changing the game's energy\n",
       "feature name: **value** = (original feature value => regrown feature value) * weight"
      ],
      "text/plain": [
       "<IPython.core.display.Markdown object>"
      ]
     },
     "metadata": {},
     "output_type": "display_data"
    },
    {
     "data": {
      "text/markdown": [
       "| Features increasing energy (= more fake)   | Features decreasing energy (= more real)   |\n",
       "|--------------------------------------------|--------------------------------------------|"
      ],
      "text/plain": [
       "<IPython.core.display.Markdown object>"
      ]
     },
     "metadata": {},
     "output_type": "display_data"
    },
    {
     "data": {
      "text/markdown": [
       "### Game Diffs"
      ],
      "text/plain": [
       "<IPython.core.display.Markdown object>"
      ]
     },
     "metadata": {},
     "output_type": "display_data"
    },
    {
     "data": {
      "text/html": [
       "\n",
       "<!DOCTYPE html PUBLIC \"-//W3C//DTD XHTML 1.0 Transitional//EN\"\n",
       "          \"http://www.w3.org/TR/xhtml1/DTD/xhtml1-transitional.dtd\">\n",
       "\n",
       "<html>\n",
       "\n",
       "<head>\n",
       "    <meta http-equiv=\"Content-Type\"\n",
       "          content=\"text/html; charset=utf-8\" />\n",
       "    <title></title>\n",
       "    <style type=\"text/css\">\n",
       "        table.diff {font-family:Courier; border:medium;}\n",
       "        .diff_header {background-color:#e0e0e0}\n",
       "        .diff td {text-align: left !important}\n",
       ".diff th {text-align: center!important }\n",
       ".diff td.diff_header {text-align:right !important}\n",
       "        .diff_next {background-color:#c0c0c0}\n",
       "        .diff_add {background-color: #6fa66f !important; font-weight: bold !important}\n",
       "        .diff_chg {background-color: #999949 !important; font-weight: bold !important}\n",
       "        .diff_sub {background-color: #a66f6f !important; font-weight: bold !important}\n",
       "    </style>\n",
       "</head>\n",
       "\n",
       "<body>\n",
       "    \n",
       "    <table class=\"diff\" id=\"difflib_chg_to1__top\"\n",
       "           cellspacing=\"0\" cellpadding=\"0\" rules=\"groups\" >\n",
       "        <colgroup></colgroup> <colgroup></colgroup> <colgroup></colgroup>\n",
       "        <colgroup></colgroup> <colgroup></colgroup> <colgroup></colgroup>\n",
       "        \n",
       "        <tbody>\n",
       "            <tr><td class=\"diff_next\" id=\"difflib_chg_to1__0\"><a href=\"#difflib_chg_to1__1\">n</a></td><td class=\"diff_header\" id=\"from1_1\">1</td><td nowrap=\"nowrap\">(define&nbsp;(game&nbsp;614b603d4da88384282967a7-3)&nbsp;(:domain&nbsp;many-objects-room-v1)</td><td class=\"diff_next\"><a href=\"#difflib_chg_to1__1\">n</a></td><td class=\"diff_header\" id=\"to1_1\">1</td><td nowrap=\"nowrap\">(define&nbsp;(game&nbsp;614b603d4da88384282967a7-3<span class=\"diff_add\">-153-nd-0-rd-3-rs-constraints-sk-prior11</span>)&nbsp;(:domain&nbsp;many-obje</td></tr>\n",
       "            <tr><td class=\"diff_next\"></td><td class=\"diff_header\"></td><td nowrap=\"nowrap\">&nbsp;</td><td class=\"diff_next\"></td><td class=\"diff_header\">></td><td nowrap=\"nowrap\">cts-room-v1)</td></tr>\n",
       "            <tr><td class=\"diff_next\" id=\"difflib_chg_to1__1\"></td><td class=\"diff_header\" id=\"from1_2\">2</td><td nowrap=\"nowrap\">(:constraints</td><td class=\"diff_next\"></td><td class=\"diff_header\" id=\"to1_2\">2</td><td nowrap=\"nowrap\">(:constraints</td></tr>\n",
       "            <tr><td class=\"diff_next\"></td><td class=\"diff_header\" id=\"from1_3\">3</td><td nowrap=\"nowrap\">&nbsp;&nbsp;(and</td><td class=\"diff_next\"></td><td class=\"diff_header\" id=\"to1_3\">3</td><td nowrap=\"nowrap\">&nbsp;&nbsp;(and</td></tr>\n",
       "            <tr><td class=\"diff_next\"></td><td class=\"diff_header\" id=\"from1_4\">4</td><td nowrap=\"nowrap\">&nbsp;&nbsp;&nbsp;&nbsp;(forall&nbsp;(?b&nbsp;-&nbsp;building)</td><td class=\"diff_next\"></td><td class=\"diff_header\" id=\"to1_4\">4</td><td nowrap=\"nowrap\">&nbsp;&nbsp;&nbsp;&nbsp;(forall&nbsp;(?b&nbsp;-&nbsp;building)</td></tr>\n",
       "            <tr><td class=\"diff_next\"></td><td class=\"diff_header\" id=\"from1_5\">5</td><td nowrap=\"nowrap\">&nbsp;&nbsp;&nbsp;&nbsp;&nbsp;&nbsp;(and</td><td class=\"diff_next\"></td><td class=\"diff_header\" id=\"to1_5\">5</td><td nowrap=\"nowrap\">&nbsp;&nbsp;&nbsp;&nbsp;&nbsp;&nbsp;(and</td></tr>\n",
       "            <tr><td class=\"diff_next\"></td><td class=\"diff_header\" id=\"from1_6\">6</td><td nowrap=\"nowrap\">&nbsp;&nbsp;&nbsp;&nbsp;&nbsp;&nbsp;&nbsp;&nbsp;(preference&nbsp;blockInTowerAtEnd</td><td class=\"diff_next\"></td><td class=\"diff_header\" id=\"to1_6\">6</td><td nowrap=\"nowrap\">&nbsp;&nbsp;&nbsp;&nbsp;&nbsp;&nbsp;&nbsp;&nbsp;(preference&nbsp;blockInTowerAtEnd</td></tr>\n",
       "            <tr><td class=\"diff_next\"><a href=\"#difflib_chg_to1__top\">t</a></td><td class=\"diff_header\" id=\"from1_7\">7</td><td nowrap=\"nowrap\">&nbsp;&nbsp;&nbsp;&nbsp;&nbsp;&nbsp;&nbsp;&nbsp;&nbsp;&nbsp;(exists&nbsp;(?l&nbsp;-&nbsp;block)</td><td class=\"diff_next\"><a href=\"#difflib_chg_to1__top\">t</a></td><td class=\"diff_header\" id=\"to1_7\">7</td><td nowrap=\"nowrap\">&nbsp;&nbsp;&nbsp;&nbsp;&nbsp;&nbsp;&nbsp;&nbsp;&nbsp;&nbsp;(exists&nbsp;(?l&nbsp;-&nbsp;<span class=\"diff_add\">cube_</span>block)</td></tr>\n",
       "            <tr><td class=\"diff_next\"></td><td class=\"diff_header\" id=\"from1_8\">8</td><td nowrap=\"nowrap\">&nbsp;&nbsp;&nbsp;&nbsp;&nbsp;&nbsp;&nbsp;&nbsp;&nbsp;&nbsp;&nbsp;&nbsp;(at-end</td><td class=\"diff_next\"></td><td class=\"diff_header\" id=\"to1_8\">8</td><td nowrap=\"nowrap\">&nbsp;&nbsp;&nbsp;&nbsp;&nbsp;&nbsp;&nbsp;&nbsp;&nbsp;&nbsp;&nbsp;&nbsp;(at-end</td></tr>\n",
       "            <tr><td class=\"diff_next\"></td><td class=\"diff_header\" id=\"from1_9\">9</td><td nowrap=\"nowrap\">&nbsp;&nbsp;&nbsp;&nbsp;&nbsp;&nbsp;&nbsp;&nbsp;&nbsp;&nbsp;&nbsp;&nbsp;&nbsp;&nbsp;(in&nbsp;?b&nbsp;?l)</td><td class=\"diff_next\"></td><td class=\"diff_header\" id=\"to1_9\">9</td><td nowrap=\"nowrap\">&nbsp;&nbsp;&nbsp;&nbsp;&nbsp;&nbsp;&nbsp;&nbsp;&nbsp;&nbsp;&nbsp;&nbsp;&nbsp;&nbsp;(in&nbsp;?b&nbsp;?l)</td></tr>\n",
       "            <tr><td class=\"diff_next\"></td><td class=\"diff_header\" id=\"from1_10\">10</td><td nowrap=\"nowrap\">&nbsp;&nbsp;&nbsp;&nbsp;&nbsp;&nbsp;&nbsp;&nbsp;&nbsp;&nbsp;&nbsp;&nbsp;)</td><td class=\"diff_next\"></td><td class=\"diff_header\" id=\"to1_10\">10</td><td nowrap=\"nowrap\">&nbsp;&nbsp;&nbsp;&nbsp;&nbsp;&nbsp;&nbsp;&nbsp;&nbsp;&nbsp;&nbsp;&nbsp;)</td></tr>\n",
       "            <tr><td class=\"diff_next\"></td><td class=\"diff_header\" id=\"from1_11\">11</td><td nowrap=\"nowrap\">&nbsp;&nbsp;&nbsp;&nbsp;&nbsp;&nbsp;&nbsp;&nbsp;&nbsp;&nbsp;)</td><td class=\"diff_next\"></td><td class=\"diff_header\" id=\"to1_11\">11</td><td nowrap=\"nowrap\">&nbsp;&nbsp;&nbsp;&nbsp;&nbsp;&nbsp;&nbsp;&nbsp;&nbsp;&nbsp;)</td></tr>\n",
       "            <tr><td class=\"diff_next\"></td><td class=\"diff_header\" id=\"from1_12\">12</td><td nowrap=\"nowrap\">&nbsp;&nbsp;&nbsp;&nbsp;&nbsp;&nbsp;&nbsp;&nbsp;)</td><td class=\"diff_next\"></td><td class=\"diff_header\" id=\"to1_12\">12</td><td nowrap=\"nowrap\">&nbsp;&nbsp;&nbsp;&nbsp;&nbsp;&nbsp;&nbsp;&nbsp;)</td></tr>\n",
       "            <tr><td class=\"diff_next\"></td><td class=\"diff_header\" id=\"from1_13\">13</td><td nowrap=\"nowrap\">&nbsp;&nbsp;&nbsp;&nbsp;&nbsp;&nbsp;)</td><td class=\"diff_next\"></td><td class=\"diff_header\" id=\"to1_13\">13</td><td nowrap=\"nowrap\">&nbsp;&nbsp;&nbsp;&nbsp;&nbsp;&nbsp;)</td></tr>\n",
       "            <tr><td class=\"diff_next\"></td><td class=\"diff_header\" id=\"from1_14\">14</td><td nowrap=\"nowrap\">&nbsp;&nbsp;&nbsp;&nbsp;)</td><td class=\"diff_next\"></td><td class=\"diff_header\" id=\"to1_14\">14</td><td nowrap=\"nowrap\">&nbsp;&nbsp;&nbsp;&nbsp;)</td></tr>\n",
       "            <tr><td class=\"diff_next\"></td><td class=\"diff_header\" id=\"from1_15\">15</td><td nowrap=\"nowrap\">&nbsp;&nbsp;)</td><td class=\"diff_next\"></td><td class=\"diff_header\" id=\"to1_15\">15</td><td nowrap=\"nowrap\">&nbsp;&nbsp;)</td></tr>\n",
       "            <tr><td class=\"diff_next\"></td><td class=\"diff_header\" id=\"from1_16\">16</td><td nowrap=\"nowrap\">)</td><td class=\"diff_next\"></td><td class=\"diff_header\" id=\"to1_16\">16</td><td nowrap=\"nowrap\">)</td></tr>\n",
       "            <tr><td class=\"diff_next\"></td><td class=\"diff_header\" id=\"from1_17\">17</td><td nowrap=\"nowrap\">(:scoring</td><td class=\"diff_next\"></td><td class=\"diff_header\" id=\"to1_17\">17</td><td nowrap=\"nowrap\">(:scoring</td></tr>\n",
       "            <tr><td class=\"diff_next\"></td><td class=\"diff_header\" id=\"from1_18\">18</td><td nowrap=\"nowrap\">&nbsp;&nbsp;(external-forall-maximize</td><td class=\"diff_next\"></td><td class=\"diff_header\" id=\"to1_18\">18</td><td nowrap=\"nowrap\">&nbsp;&nbsp;(external-forall-maximize</td></tr>\n",
       "            <tr><td class=\"diff_next\"></td><td class=\"diff_header\" id=\"from1_19\">19</td><td nowrap=\"nowrap\">&nbsp;&nbsp;&nbsp;&nbsp;(count-once-per-objects&nbsp;blockInTowerAtEnd)</td><td class=\"diff_next\"></td><td class=\"diff_header\" id=\"to1_19\">19</td><td nowrap=\"nowrap\">&nbsp;&nbsp;&nbsp;&nbsp;(count-once-per-objects&nbsp;blockInTowerAtEnd)</td></tr>\n",
       "            <tr><td class=\"diff_next\"></td><td class=\"diff_header\" id=\"from1_20\">20</td><td nowrap=\"nowrap\">&nbsp;&nbsp;)</td><td class=\"diff_next\"></td><td class=\"diff_header\" id=\"to1_20\">20</td><td nowrap=\"nowrap\">&nbsp;&nbsp;)</td></tr>\n",
       "            <tr><td class=\"diff_next\"></td><td class=\"diff_header\" id=\"from1_21\">21</td><td nowrap=\"nowrap\">)</td><td class=\"diff_next\"></td><td class=\"diff_header\" id=\"to1_21\">21</td><td nowrap=\"nowrap\">)</td></tr>\n",
       "            <tr><td class=\"diff_next\"></td><td class=\"diff_header\" id=\"from1_22\">22</td><td nowrap=\"nowrap\">)</td><td class=\"diff_next\"></td><td class=\"diff_header\" id=\"to1_22\">22</td><td nowrap=\"nowrap\">)</td></tr>\n",
       "        </tbody>\n",
       "    </table>\n",
       "    <table class=\"diff\" summary=\"Legends\">\n",
       "        <tr> <th colspan=\"2\"> Legends </th> </tr>\n",
       "        <tr> <td> <table border=\"\" summary=\"Colors\">\n",
       "                      <tr><th> Colors </th> </tr>\n",
       "                      <tr><td class=\"diff_add\">&nbsp;Added&nbsp;</td></tr>\n",
       "                      <tr><td class=\"diff_chg\">Changed</td> </tr>\n",
       "                      <tr><td class=\"diff_sub\">Deleted</td> </tr>\n",
       "                  </table></td>\n",
       "             <td> <table border=\"\" summary=\"Links\">\n",
       "                      <tr><th colspan=\"2\"> Links </th> </tr>\n",
       "                      <tr><td>(f)irst change</td> </tr>\n",
       "                      <tr><td>(n)ext change</td> </tr>\n",
       "                      <tr><td>(t)op</td> </tr>\n",
       "                  </table></td> </tr>\n",
       "    </table>\n",
       "</body>\n",
       "\n",
       "</html>"
      ],
      "text/plain": [
       "<IPython.core.display.HTML object>"
      ]
     },
     "metadata": {},
     "output_type": "display_data"
    },
    {
     "data": {
      "text/markdown": [
       "---"
      ],
      "text/plain": [
       "<IPython.core.display.Markdown object>"
      ]
     },
     "metadata": {},
     "output_type": "display_data"
    },
    {
     "name": "stdout",
     "output_type": "stream",
     "text": [
      "Original game index: 55 | Negative game row: 55 | Negative game col: 160\n"
     ]
    },
    {
     "data": {
      "text/markdown": [
       "### Energy of real game: -13.120 | Energy of regrown game: -13.120 | Difference: 0.000"
      ],
      "text/plain": [
       "<IPython.core.display.Markdown object>"
      ]
     },
     "metadata": {},
     "output_type": "display_data"
    },
    {
     "data": {
      "text/markdown": [
       "### Top features changing the game's energy\n",
       "feature name: **value** = (original feature value => regrown feature value) * weight"
      ],
      "text/plain": [
       "<IPython.core.display.Markdown object>"
      ]
     },
     "metadata": {},
     "output_type": "display_data"
    },
    {
     "data": {
      "text/markdown": [
       "| Features increasing energy (= more fake)   | Features decreasing energy (= more real)   |\n",
       "|--------------------------------------------|--------------------------------------------|"
      ],
      "text/plain": [
       "<IPython.core.display.Markdown object>"
      ]
     },
     "metadata": {},
     "output_type": "display_data"
    },
    {
     "data": {
      "text/markdown": [
       "### Game Diffs"
      ],
      "text/plain": [
       "<IPython.core.display.Markdown object>"
      ]
     },
     "metadata": {},
     "output_type": "display_data"
    },
    {
     "data": {
      "text/html": [
       "\n",
       "<!DOCTYPE html PUBLIC \"-//W3C//DTD XHTML 1.0 Transitional//EN\"\n",
       "          \"http://www.w3.org/TR/xhtml1/DTD/xhtml1-transitional.dtd\">\n",
       "\n",
       "<html>\n",
       "\n",
       "<head>\n",
       "    <meta http-equiv=\"Content-Type\"\n",
       "          content=\"text/html; charset=utf-8\" />\n",
       "    <title></title>\n",
       "    <style type=\"text/css\">\n",
       "        table.diff {font-family:Courier; border:medium;}\n",
       "        .diff_header {background-color:#e0e0e0}\n",
       "        .diff td {text-align: left !important}\n",
       ".diff th {text-align: center!important }\n",
       ".diff td.diff_header {text-align:right !important}\n",
       "        .diff_next {background-color:#c0c0c0}\n",
       "        .diff_add {background-color: #6fa66f !important; font-weight: bold !important}\n",
       "        .diff_chg {background-color: #999949 !important; font-weight: bold !important}\n",
       "        .diff_sub {background-color: #a66f6f !important; font-weight: bold !important}\n",
       "    </style>\n",
       "</head>\n",
       "\n",
       "<body>\n",
       "    \n",
       "    <table class=\"diff\" id=\"difflib_chg_to2__top\"\n",
       "           cellspacing=\"0\" cellpadding=\"0\" rules=\"groups\" >\n",
       "        <colgroup></colgroup> <colgroup></colgroup> <colgroup></colgroup>\n",
       "        <colgroup></colgroup> <colgroup></colgroup> <colgroup></colgroup>\n",
       "        \n",
       "        <tbody>\n",
       "            <tr><td class=\"diff_next\" id=\"difflib_chg_to2__1\"><a href=\"#difflib_chg_to2__1\">n</a></td><td class=\"diff_header\" id=\"from2_1\">1</td><td nowrap=\"nowrap\">(define&nbsp;(game&nbsp;56cf6e8d31a5bc0006e1cdf5-65)&nbsp;(:domain&nbsp;many-objects-room-v1)</td><td class=\"diff_next\"><a href=\"#difflib_chg_to2__1\">n</a></td><td class=\"diff_header\" id=\"to2_1\">1</td><td nowrap=\"nowrap\">(define&nbsp;(game&nbsp;56cf6e8d31a5bc0006e1cdf5-65<span class=\"diff_add\">-160-nd-0-rd-1-rs-constraints-sk-prior11</span>)&nbsp;(:domain&nbsp;many-obj</td></tr>\n",
       "            <tr><td class=\"diff_next\"></td><td class=\"diff_header\"></td><td nowrap=\"nowrap\">&nbsp;</td><td class=\"diff_next\"></td><td class=\"diff_header\">></td><td nowrap=\"nowrap\">ects-room-v1)</td></tr>\n",
       "            <tr><td class=\"diff_next\"></td><td class=\"diff_header\" id=\"from2_2\">2</td><td nowrap=\"nowrap\">(:constraints</td><td class=\"diff_next\"></td><td class=\"diff_header\" id=\"to2_2\">2</td><td nowrap=\"nowrap\">(:constraints</td></tr>\n",
       "            <tr><td class=\"diff_next\"></td><td class=\"diff_header\" id=\"from2_3\">3</td><td nowrap=\"nowrap\">&nbsp;&nbsp;(and</td><td class=\"diff_next\"></td><td class=\"diff_header\" id=\"to2_3\">3</td><td nowrap=\"nowrap\">&nbsp;&nbsp;(and</td></tr>\n",
       "            <tr><td class=\"diff_next\"></td><td class=\"diff_header\" id=\"from2_4\">4</td><td nowrap=\"nowrap\">&nbsp;&nbsp;&nbsp;&nbsp;(preference&nbsp;ballOnBedAtEnd</td><td class=\"diff_next\"></td><td class=\"diff_header\" id=\"to2_4\">4</td><td nowrap=\"nowrap\">&nbsp;&nbsp;&nbsp;&nbsp;(preference&nbsp;ballOnBedAtEnd</td></tr>\n",
       "            <tr><td class=\"diff_next\"><a href=\"#difflib_chg_to2__top\">t</a></td><td class=\"diff_header\" id=\"from2_5\">5</td><td nowrap=\"nowrap\">&nbsp;&nbsp;&nbsp;&nbsp;&nbsp;&nbsp;(exists&nbsp;(?b&nbsp;-&nbsp;ball)</td><td class=\"diff_next\"><a href=\"#difflib_chg_to2__top\">t</a></td><td class=\"diff_header\" id=\"to2_5\">5</td><td nowrap=\"nowrap\">&nbsp;&nbsp;&nbsp;&nbsp;&nbsp;&nbsp;(exists&nbsp;(?b&nbsp;-&nbsp;<span class=\"diff_add\">dodge</span>ball)</td></tr>\n",
       "            <tr><td class=\"diff_next\"></td><td class=\"diff_header\" id=\"from2_6\">6</td><td nowrap=\"nowrap\">&nbsp;&nbsp;&nbsp;&nbsp;&nbsp;&nbsp;&nbsp;&nbsp;(at-end</td><td class=\"diff_next\"></td><td class=\"diff_header\" id=\"to2_6\">6</td><td nowrap=\"nowrap\">&nbsp;&nbsp;&nbsp;&nbsp;&nbsp;&nbsp;&nbsp;&nbsp;(at-end</td></tr>\n",
       "            <tr><td class=\"diff_next\"></td><td class=\"diff_header\" id=\"from2_7\">7</td><td nowrap=\"nowrap\">&nbsp;&nbsp;&nbsp;&nbsp;&nbsp;&nbsp;&nbsp;&nbsp;&nbsp;&nbsp;(on&nbsp;bed&nbsp;?b)</td><td class=\"diff_next\"></td><td class=\"diff_header\" id=\"to2_7\">7</td><td nowrap=\"nowrap\">&nbsp;&nbsp;&nbsp;&nbsp;&nbsp;&nbsp;&nbsp;&nbsp;&nbsp;&nbsp;(on&nbsp;bed&nbsp;?b)</td></tr>\n",
       "            <tr><td class=\"diff_next\"></td><td class=\"diff_header\" id=\"from2_8\">8</td><td nowrap=\"nowrap\">&nbsp;&nbsp;&nbsp;&nbsp;&nbsp;&nbsp;&nbsp;&nbsp;)</td><td class=\"diff_next\"></td><td class=\"diff_header\" id=\"to2_8\">8</td><td nowrap=\"nowrap\">&nbsp;&nbsp;&nbsp;&nbsp;&nbsp;&nbsp;&nbsp;&nbsp;)</td></tr>\n",
       "            <tr><td class=\"diff_next\"></td><td class=\"diff_header\" id=\"from2_9\">9</td><td nowrap=\"nowrap\">&nbsp;&nbsp;&nbsp;&nbsp;&nbsp;&nbsp;)</td><td class=\"diff_next\"></td><td class=\"diff_header\" id=\"to2_9\">9</td><td nowrap=\"nowrap\">&nbsp;&nbsp;&nbsp;&nbsp;&nbsp;&nbsp;)</td></tr>\n",
       "            <tr><td class=\"diff_next\"></td><td class=\"diff_header\" id=\"from2_10\">10</td><td nowrap=\"nowrap\">&nbsp;&nbsp;&nbsp;&nbsp;)</td><td class=\"diff_next\"></td><td class=\"diff_header\" id=\"to2_10\">10</td><td nowrap=\"nowrap\">&nbsp;&nbsp;&nbsp;&nbsp;)</td></tr>\n",
       "            <tr><td class=\"diff_next\"></td><td class=\"diff_header\" id=\"from2_11\">11</td><td nowrap=\"nowrap\">&nbsp;&nbsp;)</td><td class=\"diff_next\"></td><td class=\"diff_header\" id=\"to2_11\">11</td><td nowrap=\"nowrap\">&nbsp;&nbsp;)</td></tr>\n",
       "            <tr><td class=\"diff_next\"></td><td class=\"diff_header\" id=\"from2_12\">12</td><td nowrap=\"nowrap\">)</td><td class=\"diff_next\"></td><td class=\"diff_header\" id=\"to2_12\">12</td><td nowrap=\"nowrap\">)</td></tr>\n",
       "            <tr><td class=\"diff_next\"></td><td class=\"diff_header\" id=\"from2_13\">13</td><td nowrap=\"nowrap\">(:scoring</td><td class=\"diff_next\"></td><td class=\"diff_header\" id=\"to2_13\">13</td><td nowrap=\"nowrap\">(:scoring</td></tr>\n",
       "            <tr><td class=\"diff_next\"></td><td class=\"diff_header\" id=\"from2_14\">14</td><td nowrap=\"nowrap\">&nbsp;&nbsp;(count-once-per-objects&nbsp;ballOnBedAtEnd)</td><td class=\"diff_next\"></td><td class=\"diff_header\" id=\"to2_14\">14</td><td nowrap=\"nowrap\">&nbsp;&nbsp;(count-once-per-objects&nbsp;ballOnBedAtEnd)</td></tr>\n",
       "            <tr><td class=\"diff_next\"></td><td class=\"diff_header\" id=\"from2_15\">15</td><td nowrap=\"nowrap\">)</td><td class=\"diff_next\"></td><td class=\"diff_header\" id=\"to2_15\">15</td><td nowrap=\"nowrap\">)</td></tr>\n",
       "            <tr><td class=\"diff_next\"></td><td class=\"diff_header\" id=\"from2_16\">16</td><td nowrap=\"nowrap\">)</td><td class=\"diff_next\"></td><td class=\"diff_header\" id=\"to2_16\">16</td><td nowrap=\"nowrap\">)</td></tr>\n",
       "        </tbody>\n",
       "    </table>\n",
       "    <table class=\"diff\" summary=\"Legends\">\n",
       "        <tr> <th colspan=\"2\"> Legends </th> </tr>\n",
       "        <tr> <td> <table border=\"\" summary=\"Colors\">\n",
       "                      <tr><th> Colors </th> </tr>\n",
       "                      <tr><td class=\"diff_add\">&nbsp;Added&nbsp;</td></tr>\n",
       "                      <tr><td class=\"diff_chg\">Changed</td> </tr>\n",
       "                      <tr><td class=\"diff_sub\">Deleted</td> </tr>\n",
       "                  </table></td>\n",
       "             <td> <table border=\"\" summary=\"Links\">\n",
       "                      <tr><th colspan=\"2\"> Links </th> </tr>\n",
       "                      <tr><td>(f)irst change</td> </tr>\n",
       "                      <tr><td>(n)ext change</td> </tr>\n",
       "                      <tr><td>(t)op</td> </tr>\n",
       "                  </table></td> </tr>\n",
       "    </table>\n",
       "</body>\n",
       "\n",
       "</html>"
      ],
      "text/plain": [
       "<IPython.core.display.HTML object>"
      ]
     },
     "metadata": {},
     "output_type": "display_data"
    },
    {
     "data": {
      "text/markdown": [
       "---"
      ],
      "text/plain": [
       "<IPython.core.display.Markdown object>"
      ]
     },
     "metadata": {},
     "output_type": "display_data"
    },
    {
     "name": "stdout",
     "output_type": "stream",
     "text": [
      "Original game index: 55 | Negative game row: 55 | Negative game col: 504\n"
     ]
    },
    {
     "data": {
      "text/markdown": [
       "### Energy of real game: -13.120 | Energy of regrown game: -13.120 | Difference: 0.000"
      ],
      "text/plain": [
       "<IPython.core.display.Markdown object>"
      ]
     },
     "metadata": {},
     "output_type": "display_data"
    },
    {
     "data": {
      "text/markdown": [
       "### Top features changing the game's energy\n",
       "feature name: **value** = (original feature value => regrown feature value) * weight"
      ],
      "text/plain": [
       "<IPython.core.display.Markdown object>"
      ]
     },
     "metadata": {},
     "output_type": "display_data"
    },
    {
     "data": {
      "text/markdown": [
       "| Features increasing energy (= more fake)   | Features decreasing energy (= more real)   |\n",
       "|--------------------------------------------|--------------------------------------------|"
      ],
      "text/plain": [
       "<IPython.core.display.Markdown object>"
      ]
     },
     "metadata": {},
     "output_type": "display_data"
    },
    {
     "data": {
      "text/markdown": [
       "### Game Diffs"
      ],
      "text/plain": [
       "<IPython.core.display.Markdown object>"
      ]
     },
     "metadata": {},
     "output_type": "display_data"
    },
    {
     "data": {
      "text/html": [
       "\n",
       "<!DOCTYPE html PUBLIC \"-//W3C//DTD XHTML 1.0 Transitional//EN\"\n",
       "          \"http://www.w3.org/TR/xhtml1/DTD/xhtml1-transitional.dtd\">\n",
       "\n",
       "<html>\n",
       "\n",
       "<head>\n",
       "    <meta http-equiv=\"Content-Type\"\n",
       "          content=\"text/html; charset=utf-8\" />\n",
       "    <title></title>\n",
       "    <style type=\"text/css\">\n",
       "        table.diff {font-family:Courier; border:medium;}\n",
       "        .diff_header {background-color:#e0e0e0}\n",
       "        .diff td {text-align: left !important}\n",
       ".diff th {text-align: center!important }\n",
       ".diff td.diff_header {text-align:right !important}\n",
       "        .diff_next {background-color:#c0c0c0}\n",
       "        .diff_add {background-color: #6fa66f !important; font-weight: bold !important}\n",
       "        .diff_chg {background-color: #999949 !important; font-weight: bold !important}\n",
       "        .diff_sub {background-color: #a66f6f !important; font-weight: bold !important}\n",
       "    </style>\n",
       "</head>\n",
       "\n",
       "<body>\n",
       "    \n",
       "    <table class=\"diff\" id=\"difflib_chg_to3__top\"\n",
       "           cellspacing=\"0\" cellpadding=\"0\" rules=\"groups\" >\n",
       "        <colgroup></colgroup> <colgroup></colgroup> <colgroup></colgroup>\n",
       "        <colgroup></colgroup> <colgroup></colgroup> <colgroup></colgroup>\n",
       "        \n",
       "        <tbody>\n",
       "            <tr><td class=\"diff_next\" id=\"difflib_chg_to3__1\"><a href=\"#difflib_chg_to3__1\">n</a></td><td class=\"diff_header\" id=\"from3_1\">1</td><td nowrap=\"nowrap\">(define&nbsp;(game&nbsp;56cf6e8d31a5bc0006e1cdf5-65)&nbsp;(:domain&nbsp;many-objects-room-v1)</td><td class=\"diff_next\"><a href=\"#difflib_chg_to3__1\">n</a></td><td class=\"diff_header\" id=\"to3_1\">1</td><td nowrap=\"nowrap\">(define&nbsp;(game&nbsp;56cf6e8d31a5bc0006e1cdf5-65<span class=\"diff_add\">-504-nd-0-rd-7-rs-constraints-sk-prior11</span>)&nbsp;(:domain&nbsp;many-obj</td></tr>\n",
       "            <tr><td class=\"diff_next\"></td><td class=\"diff_header\"></td><td nowrap=\"nowrap\">&nbsp;</td><td class=\"diff_next\"></td><td class=\"diff_header\">></td><td nowrap=\"nowrap\">ects-room-v1)</td></tr>\n",
       "            <tr><td class=\"diff_next\" id=\"difflib_chg_to3__2\"></td><td class=\"diff_header\" id=\"from3_2\">2</td><td nowrap=\"nowrap\">(:constraints</td><td class=\"diff_next\"></td><td class=\"diff_header\" id=\"to3_2\">2</td><td nowrap=\"nowrap\">(:constraints</td></tr>\n",
       "            <tr><td class=\"diff_next\"></td><td class=\"diff_header\" id=\"from3_3\">3</td><td nowrap=\"nowrap\">&nbsp;&nbsp;(and</td><td class=\"diff_next\"></td><td class=\"diff_header\" id=\"to3_3\">3</td><td nowrap=\"nowrap\">&nbsp;&nbsp;(and</td></tr>\n",
       "            <tr><td class=\"diff_next\"></td><td class=\"diff_header\" id=\"from3_4\">4</td><td nowrap=\"nowrap\">&nbsp;&nbsp;&nbsp;&nbsp;(preference&nbsp;ballOnBedAtEnd</td><td class=\"diff_next\"></td><td class=\"diff_header\" id=\"to3_4\">4</td><td nowrap=\"nowrap\">&nbsp;&nbsp;&nbsp;&nbsp;(preference&nbsp;ballOnBedAtEnd</td></tr>\n",
       "            <tr><td class=\"diff_next\"><a href=\"#difflib_chg_to3__2\">n</a></td><td class=\"diff_header\" id=\"from3_5\">5</td><td nowrap=\"nowrap\">&nbsp;&nbsp;&nbsp;&nbsp;&nbsp;&nbsp;(exists&nbsp;(?b<span class=\"diff_chg\">&nbsp;-&nbsp;</span>ball)</td><td class=\"diff_next\"><a href=\"#difflib_chg_to3__2\">n</a></td><td class=\"diff_header\" id=\"to3_5\">5</td><td nowrap=\"nowrap\">&nbsp;&nbsp;&nbsp;&nbsp;&nbsp;&nbsp;(exists&nbsp;(?<span class=\"diff_add\">c&nbsp;-&nbsp;</span>b<span class=\"diff_chg\">each</span>ball)</td></tr>\n",
       "            <tr><td class=\"diff_next\"></td><td class=\"diff_header\" id=\"from3_6\">6</td><td nowrap=\"nowrap\">&nbsp;&nbsp;&nbsp;&nbsp;&nbsp;&nbsp;&nbsp;&nbsp;(at-end</td><td class=\"diff_next\"></td><td class=\"diff_header\" id=\"to3_6\">6</td><td nowrap=\"nowrap\">&nbsp;&nbsp;&nbsp;&nbsp;&nbsp;&nbsp;&nbsp;&nbsp;(at-end</td></tr>\n",
       "            <tr><td class=\"diff_next\"><a href=\"#difflib_chg_to3__top\">t</a></td><td class=\"diff_header\" id=\"from3_7\">7</td><td nowrap=\"nowrap\">&nbsp;&nbsp;&nbsp;&nbsp;&nbsp;&nbsp;&nbsp;&nbsp;&nbsp;&nbsp;(on&nbsp;bed&nbsp;?<span class=\"diff_chg\">b</span>)</td><td class=\"diff_next\"><a href=\"#difflib_chg_to3__top\">t</a></td><td class=\"diff_header\" id=\"to3_7\">7</td><td nowrap=\"nowrap\">&nbsp;&nbsp;&nbsp;&nbsp;&nbsp;&nbsp;&nbsp;&nbsp;&nbsp;&nbsp;(on&nbsp;bed&nbsp;?<span class=\"diff_chg\">c</span>)</td></tr>\n",
       "            <tr><td class=\"diff_next\"></td><td class=\"diff_header\" id=\"from3_8\">8</td><td nowrap=\"nowrap\">&nbsp;&nbsp;&nbsp;&nbsp;&nbsp;&nbsp;&nbsp;&nbsp;)</td><td class=\"diff_next\"></td><td class=\"diff_header\" id=\"to3_8\">8</td><td nowrap=\"nowrap\">&nbsp;&nbsp;&nbsp;&nbsp;&nbsp;&nbsp;&nbsp;&nbsp;)</td></tr>\n",
       "            <tr><td class=\"diff_next\"></td><td class=\"diff_header\" id=\"from3_9\">9</td><td nowrap=\"nowrap\">&nbsp;&nbsp;&nbsp;&nbsp;&nbsp;&nbsp;)</td><td class=\"diff_next\"></td><td class=\"diff_header\" id=\"to3_9\">9</td><td nowrap=\"nowrap\">&nbsp;&nbsp;&nbsp;&nbsp;&nbsp;&nbsp;)</td></tr>\n",
       "            <tr><td class=\"diff_next\"></td><td class=\"diff_header\" id=\"from3_10\">10</td><td nowrap=\"nowrap\">&nbsp;&nbsp;&nbsp;&nbsp;)</td><td class=\"diff_next\"></td><td class=\"diff_header\" id=\"to3_10\">10</td><td nowrap=\"nowrap\">&nbsp;&nbsp;&nbsp;&nbsp;)</td></tr>\n",
       "            <tr><td class=\"diff_next\"></td><td class=\"diff_header\" id=\"from3_11\">11</td><td nowrap=\"nowrap\">&nbsp;&nbsp;)</td><td class=\"diff_next\"></td><td class=\"diff_header\" id=\"to3_11\">11</td><td nowrap=\"nowrap\">&nbsp;&nbsp;)</td></tr>\n",
       "            <tr><td class=\"diff_next\"></td><td class=\"diff_header\" id=\"from3_12\">12</td><td nowrap=\"nowrap\">)</td><td class=\"diff_next\"></td><td class=\"diff_header\" id=\"to3_12\">12</td><td nowrap=\"nowrap\">)</td></tr>\n",
       "            <tr><td class=\"diff_next\"></td><td class=\"diff_header\" id=\"from3_13\">13</td><td nowrap=\"nowrap\">(:scoring</td><td class=\"diff_next\"></td><td class=\"diff_header\" id=\"to3_13\">13</td><td nowrap=\"nowrap\">(:scoring</td></tr>\n",
       "            <tr><td class=\"diff_next\"></td><td class=\"diff_header\" id=\"from3_14\">14</td><td nowrap=\"nowrap\">&nbsp;&nbsp;(count-once-per-objects&nbsp;ballOnBedAtEnd)</td><td class=\"diff_next\"></td><td class=\"diff_header\" id=\"to3_14\">14</td><td nowrap=\"nowrap\">&nbsp;&nbsp;(count-once-per-objects&nbsp;ballOnBedAtEnd)</td></tr>\n",
       "            <tr><td class=\"diff_next\"></td><td class=\"diff_header\" id=\"from3_15\">15</td><td nowrap=\"nowrap\">)</td><td class=\"diff_next\"></td><td class=\"diff_header\" id=\"to3_15\">15</td><td nowrap=\"nowrap\">)</td></tr>\n",
       "            <tr><td class=\"diff_next\"></td><td class=\"diff_header\" id=\"from3_16\">16</td><td nowrap=\"nowrap\">)</td><td class=\"diff_next\"></td><td class=\"diff_header\" id=\"to3_16\">16</td><td nowrap=\"nowrap\">)</td></tr>\n",
       "        </tbody>\n",
       "    </table>\n",
       "    <table class=\"diff\" summary=\"Legends\">\n",
       "        <tr> <th colspan=\"2\"> Legends </th> </tr>\n",
       "        <tr> <td> <table border=\"\" summary=\"Colors\">\n",
       "                      <tr><th> Colors </th> </tr>\n",
       "                      <tr><td class=\"diff_add\">&nbsp;Added&nbsp;</td></tr>\n",
       "                      <tr><td class=\"diff_chg\">Changed</td> </tr>\n",
       "                      <tr><td class=\"diff_sub\">Deleted</td> </tr>\n",
       "                  </table></td>\n",
       "             <td> <table border=\"\" summary=\"Links\">\n",
       "                      <tr><th colspan=\"2\"> Links </th> </tr>\n",
       "                      <tr><td>(f)irst change</td> </tr>\n",
       "                      <tr><td>(n)ext change</td> </tr>\n",
       "                      <tr><td>(t)op</td> </tr>\n",
       "                  </table></td> </tr>\n",
       "    </table>\n",
       "</body>\n",
       "\n",
       "</html>"
      ],
      "text/plain": [
       "<IPython.core.display.HTML object>"
      ]
     },
     "metadata": {},
     "output_type": "display_data"
    },
    {
     "data": {
      "text/markdown": [
       "---"
      ],
      "text/plain": [
       "<IPython.core.display.Markdown object>"
      ]
     },
     "metadata": {},
     "output_type": "display_data"
    },
    {
     "name": "stdout",
     "output_type": "stream",
     "text": [
      "Original game index: 55 | Negative game row: 55 | Negative game col: 112\n"
     ]
    },
    {
     "data": {
      "text/markdown": [
       "### Energy of real game: -13.120 | Energy of regrown game: -13.120 | Difference: 0.000"
      ],
      "text/plain": [
       "<IPython.core.display.Markdown object>"
      ]
     },
     "metadata": {},
     "output_type": "display_data"
    },
    {
     "data": {
      "text/markdown": [
       "### Top features changing the game's energy\n",
       "feature name: **value** = (original feature value => regrown feature value) * weight"
      ],
      "text/plain": [
       "<IPython.core.display.Markdown object>"
      ]
     },
     "metadata": {},
     "output_type": "display_data"
    },
    {
     "data": {
      "text/markdown": [
       "| Features increasing energy (= more fake)   | Features decreasing energy (= more real)   |\n",
       "|--------------------------------------------|--------------------------------------------|"
      ],
      "text/plain": [
       "<IPython.core.display.Markdown object>"
      ]
     },
     "metadata": {},
     "output_type": "display_data"
    },
    {
     "data": {
      "text/markdown": [
       "### Game Diffs"
      ],
      "text/plain": [
       "<IPython.core.display.Markdown object>"
      ]
     },
     "metadata": {},
     "output_type": "display_data"
    },
    {
     "data": {
      "text/html": [
       "\n",
       "<!DOCTYPE html PUBLIC \"-//W3C//DTD XHTML 1.0 Transitional//EN\"\n",
       "          \"http://www.w3.org/TR/xhtml1/DTD/xhtml1-transitional.dtd\">\n",
       "\n",
       "<html>\n",
       "\n",
       "<head>\n",
       "    <meta http-equiv=\"Content-Type\"\n",
       "          content=\"text/html; charset=utf-8\" />\n",
       "    <title></title>\n",
       "    <style type=\"text/css\">\n",
       "        table.diff {font-family:Courier; border:medium;}\n",
       "        .diff_header {background-color:#e0e0e0}\n",
       "        .diff td {text-align: left !important}\n",
       ".diff th {text-align: center!important }\n",
       ".diff td.diff_header {text-align:right !important}\n",
       "        .diff_next {background-color:#c0c0c0}\n",
       "        .diff_add {background-color: #6fa66f !important; font-weight: bold !important}\n",
       "        .diff_chg {background-color: #999949 !important; font-weight: bold !important}\n",
       "        .diff_sub {background-color: #a66f6f !important; font-weight: bold !important}\n",
       "    </style>\n",
       "</head>\n",
       "\n",
       "<body>\n",
       "    \n",
       "    <table class=\"diff\" id=\"difflib_chg_to4__top\"\n",
       "           cellspacing=\"0\" cellpadding=\"0\" rules=\"groups\" >\n",
       "        <colgroup></colgroup> <colgroup></colgroup> <colgroup></colgroup>\n",
       "        <colgroup></colgroup> <colgroup></colgroup> <colgroup></colgroup>\n",
       "        \n",
       "        <tbody>\n",
       "            <tr><td class=\"diff_next\" id=\"difflib_chg_to4__0\"><a href=\"#difflib_chg_to4__1\">n</a></td><td class=\"diff_header\" id=\"from4_1\">1</td><td nowrap=\"nowrap\">(define&nbsp;(game&nbsp;56cf6e8d31a5bc0006e1cdf5-65)&nbsp;(:domain&nbsp;many-objects-room-v1)</td><td class=\"diff_next\"><a href=\"#difflib_chg_to4__1\">n</a></td><td class=\"diff_header\" id=\"to4_1\">1</td><td nowrap=\"nowrap\">(define&nbsp;(game&nbsp;56cf6e8d31a5bc0006e1cdf5-65<span class=\"diff_add\">-112-nd-0-rd-1-rs-constraints-sk-prior1</span>)&nbsp;(:domain&nbsp;many-obje</td></tr>\n",
       "            <tr><td class=\"diff_next\"></td><td class=\"diff_header\"></td><td nowrap=\"nowrap\">&nbsp;</td><td class=\"diff_next\"></td><td class=\"diff_header\">></td><td nowrap=\"nowrap\">cts-room-v1)</td></tr>\n",
       "            <tr><td class=\"diff_next\" id=\"difflib_chg_to4__1\"></td><td class=\"diff_header\" id=\"from4_2\">2</td><td nowrap=\"nowrap\">(:constraints</td><td class=\"diff_next\"></td><td class=\"diff_header\" id=\"to4_2\">2</td><td nowrap=\"nowrap\">(:constraints</td></tr>\n",
       "            <tr><td class=\"diff_next\"></td><td class=\"diff_header\" id=\"from4_3\">3</td><td nowrap=\"nowrap\">&nbsp;&nbsp;(and</td><td class=\"diff_next\"></td><td class=\"diff_header\" id=\"to4_3\">3</td><td nowrap=\"nowrap\">&nbsp;&nbsp;(and</td></tr>\n",
       "            <tr><td class=\"diff_next\"></td><td class=\"diff_header\" id=\"from4_4\">4</td><td nowrap=\"nowrap\">&nbsp;&nbsp;&nbsp;&nbsp;(preference&nbsp;ballOnBedAtEnd</td><td class=\"diff_next\"></td><td class=\"diff_header\" id=\"to4_4\">4</td><td nowrap=\"nowrap\">&nbsp;&nbsp;&nbsp;&nbsp;(preference&nbsp;ballOnBedAtEnd</td></tr>\n",
       "            <tr><td class=\"diff_next\"></td><td class=\"diff_header\" id=\"from4_5\">5</td><td nowrap=\"nowrap\">&nbsp;&nbsp;&nbsp;&nbsp;&nbsp;&nbsp;(exists&nbsp;(?b&nbsp;-&nbsp;ball)</td><td class=\"diff_next\"></td><td class=\"diff_header\" id=\"to4_5\">5</td><td nowrap=\"nowrap\">&nbsp;&nbsp;&nbsp;&nbsp;&nbsp;&nbsp;(exists&nbsp;(?b&nbsp;-&nbsp;ball)</td></tr>\n",
       "            <tr><td class=\"diff_next\"></td><td class=\"diff_header\" id=\"from4_6\">6</td><td nowrap=\"nowrap\">&nbsp;&nbsp;&nbsp;&nbsp;&nbsp;&nbsp;&nbsp;&nbsp;(at-end</td><td class=\"diff_next\"></td><td class=\"diff_header\" id=\"to4_6\">6</td><td nowrap=\"nowrap\">&nbsp;&nbsp;&nbsp;&nbsp;&nbsp;&nbsp;&nbsp;&nbsp;(at-end</td></tr>\n",
       "            <tr><td class=\"diff_next\"><a href=\"#difflib_chg_to4__top\">t</a></td><td class=\"diff_header\" id=\"from4_7\">7</td><td nowrap=\"nowrap\">&nbsp;&nbsp;&nbsp;&nbsp;&nbsp;&nbsp;&nbsp;&nbsp;&nbsp;&nbsp;(on&nbsp;<span class=\"diff_chg\">b</span>e<span class=\"diff_chg\">d</span>&nbsp;?b)</td><td class=\"diff_next\"><a href=\"#difflib_chg_to4__top\">t</a></td><td class=\"diff_header\" id=\"to4_7\">7</td><td nowrap=\"nowrap\">&nbsp;&nbsp;&nbsp;&nbsp;&nbsp;&nbsp;&nbsp;&nbsp;&nbsp;&nbsp;(on&nbsp;<span class=\"diff_chg\">top_draw</span>e<span class=\"diff_chg\">r</span>&nbsp;?b)</td></tr>\n",
       "            <tr><td class=\"diff_next\"></td><td class=\"diff_header\" id=\"from4_8\">8</td><td nowrap=\"nowrap\">&nbsp;&nbsp;&nbsp;&nbsp;&nbsp;&nbsp;&nbsp;&nbsp;)</td><td class=\"diff_next\"></td><td class=\"diff_header\" id=\"to4_8\">8</td><td nowrap=\"nowrap\">&nbsp;&nbsp;&nbsp;&nbsp;&nbsp;&nbsp;&nbsp;&nbsp;)</td></tr>\n",
       "            <tr><td class=\"diff_next\"></td><td class=\"diff_header\" id=\"from4_9\">9</td><td nowrap=\"nowrap\">&nbsp;&nbsp;&nbsp;&nbsp;&nbsp;&nbsp;)</td><td class=\"diff_next\"></td><td class=\"diff_header\" id=\"to4_9\">9</td><td nowrap=\"nowrap\">&nbsp;&nbsp;&nbsp;&nbsp;&nbsp;&nbsp;)</td></tr>\n",
       "            <tr><td class=\"diff_next\"></td><td class=\"diff_header\" id=\"from4_10\">10</td><td nowrap=\"nowrap\">&nbsp;&nbsp;&nbsp;&nbsp;)</td><td class=\"diff_next\"></td><td class=\"diff_header\" id=\"to4_10\">10</td><td nowrap=\"nowrap\">&nbsp;&nbsp;&nbsp;&nbsp;)</td></tr>\n",
       "            <tr><td class=\"diff_next\"></td><td class=\"diff_header\" id=\"from4_11\">11</td><td nowrap=\"nowrap\">&nbsp;&nbsp;)</td><td class=\"diff_next\"></td><td class=\"diff_header\" id=\"to4_11\">11</td><td nowrap=\"nowrap\">&nbsp;&nbsp;)</td></tr>\n",
       "            <tr><td class=\"diff_next\"></td><td class=\"diff_header\" id=\"from4_12\">12</td><td nowrap=\"nowrap\">)</td><td class=\"diff_next\"></td><td class=\"diff_header\" id=\"to4_12\">12</td><td nowrap=\"nowrap\">)</td></tr>\n",
       "            <tr><td class=\"diff_next\"></td><td class=\"diff_header\" id=\"from4_13\">13</td><td nowrap=\"nowrap\">(:scoring</td><td class=\"diff_next\"></td><td class=\"diff_header\" id=\"to4_13\">13</td><td nowrap=\"nowrap\">(:scoring</td></tr>\n",
       "            <tr><td class=\"diff_next\"></td><td class=\"diff_header\" id=\"from4_14\">14</td><td nowrap=\"nowrap\">&nbsp;&nbsp;(count-once-per-objects&nbsp;ballOnBedAtEnd)</td><td class=\"diff_next\"></td><td class=\"diff_header\" id=\"to4_14\">14</td><td nowrap=\"nowrap\">&nbsp;&nbsp;(count-once-per-objects&nbsp;ballOnBedAtEnd)</td></tr>\n",
       "            <tr><td class=\"diff_next\"></td><td class=\"diff_header\" id=\"from4_15\">15</td><td nowrap=\"nowrap\">)</td><td class=\"diff_next\"></td><td class=\"diff_header\" id=\"to4_15\">15</td><td nowrap=\"nowrap\">)</td></tr>\n",
       "            <tr><td class=\"diff_next\"></td><td class=\"diff_header\" id=\"from4_16\">16</td><td nowrap=\"nowrap\">)</td><td class=\"diff_next\"></td><td class=\"diff_header\" id=\"to4_16\">16</td><td nowrap=\"nowrap\">)</td></tr>\n",
       "        </tbody>\n",
       "    </table>\n",
       "    <table class=\"diff\" summary=\"Legends\">\n",
       "        <tr> <th colspan=\"2\"> Legends </th> </tr>\n",
       "        <tr> <td> <table border=\"\" summary=\"Colors\">\n",
       "                      <tr><th> Colors </th> </tr>\n",
       "                      <tr><td class=\"diff_add\">&nbsp;Added&nbsp;</td></tr>\n",
       "                      <tr><td class=\"diff_chg\">Changed</td> </tr>\n",
       "                      <tr><td class=\"diff_sub\">Deleted</td> </tr>\n",
       "                  </table></td>\n",
       "             <td> <table border=\"\" summary=\"Links\">\n",
       "                      <tr><th colspan=\"2\"> Links </th> </tr>\n",
       "                      <tr><td>(f)irst change</td> </tr>\n",
       "                      <tr><td>(n)ext change</td> </tr>\n",
       "                      <tr><td>(t)op</td> </tr>\n",
       "                  </table></td> </tr>\n",
       "    </table>\n",
       "</body>\n",
       "\n",
       "</html>"
      ],
      "text/plain": [
       "<IPython.core.display.HTML object>"
      ]
     },
     "metadata": {},
     "output_type": "display_data"
    },
    {
     "data": {
      "text/markdown": [
       "---"
      ],
      "text/plain": [
       "<IPython.core.display.Markdown object>"
      ]
     },
     "metadata": {},
     "output_type": "display_data"
    },
    {
     "name": "stdout",
     "output_type": "stream",
     "text": [
      "Original game index: 55 | Negative game row: 55 | Negative game col: 167\n"
     ]
    },
    {
     "data": {
      "text/markdown": [
       "### Energy of real game: -13.120 | Energy of regrown game: -13.120 | Difference: 0.000"
      ],
      "text/plain": [
       "<IPython.core.display.Markdown object>"
      ]
     },
     "metadata": {},
     "output_type": "display_data"
    },
    {
     "data": {
      "text/markdown": [
       "### Top features changing the game's energy\n",
       "feature name: **value** = (original feature value => regrown feature value) * weight"
      ],
      "text/plain": [
       "<IPython.core.display.Markdown object>"
      ]
     },
     "metadata": {},
     "output_type": "display_data"
    },
    {
     "data": {
      "text/markdown": [
       "| Features increasing energy (= more fake)   | Features decreasing energy (= more real)   |\n",
       "|--------------------------------------------|--------------------------------------------|"
      ],
      "text/plain": [
       "<IPython.core.display.Markdown object>"
      ]
     },
     "metadata": {},
     "output_type": "display_data"
    },
    {
     "data": {
      "text/markdown": [
       "### Game Diffs"
      ],
      "text/plain": [
       "<IPython.core.display.Markdown object>"
      ]
     },
     "metadata": {},
     "output_type": "display_data"
    },
    {
     "data": {
      "text/html": [
       "\n",
       "<!DOCTYPE html PUBLIC \"-//W3C//DTD XHTML 1.0 Transitional//EN\"\n",
       "          \"http://www.w3.org/TR/xhtml1/DTD/xhtml1-transitional.dtd\">\n",
       "\n",
       "<html>\n",
       "\n",
       "<head>\n",
       "    <meta http-equiv=\"Content-Type\"\n",
       "          content=\"text/html; charset=utf-8\" />\n",
       "    <title></title>\n",
       "    <style type=\"text/css\">\n",
       "        table.diff {font-family:Courier; border:medium;}\n",
       "        .diff_header {background-color:#e0e0e0}\n",
       "        .diff td {text-align: left !important}\n",
       ".diff th {text-align: center!important }\n",
       ".diff td.diff_header {text-align:right !important}\n",
       "        .diff_next {background-color:#c0c0c0}\n",
       "        .diff_add {background-color: #6fa66f !important; font-weight: bold !important}\n",
       "        .diff_chg {background-color: #999949 !important; font-weight: bold !important}\n",
       "        .diff_sub {background-color: #a66f6f !important; font-weight: bold !important}\n",
       "    </style>\n",
       "</head>\n",
       "\n",
       "<body>\n",
       "    \n",
       "    <table class=\"diff\" id=\"difflib_chg_to5__top\"\n",
       "           cellspacing=\"0\" cellpadding=\"0\" rules=\"groups\" >\n",
       "        <colgroup></colgroup> <colgroup></colgroup> <colgroup></colgroup>\n",
       "        <colgroup></colgroup> <colgroup></colgroup> <colgroup></colgroup>\n",
       "        \n",
       "        <tbody>\n",
       "            <tr><td class=\"diff_next\" id=\"difflib_chg_to5__1\"><a href=\"#difflib_chg_to5__1\">n</a></td><td class=\"diff_header\" id=\"from5_1\">1</td><td nowrap=\"nowrap\">(define&nbsp;(game&nbsp;56cf6e8d31a5bc0006e1cdf5-65)&nbsp;(:domain&nbsp;many-objects-room-v1)</td><td class=\"diff_next\"><a href=\"#difflib_chg_to5__1\">n</a></td><td class=\"diff_header\" id=\"to5_1\">1</td><td nowrap=\"nowrap\">(define&nbsp;(game&nbsp;56cf6e8d31a5bc0006e1cdf5-65<span class=\"diff_add\">-167-nd-0-rd-2-rs-constraints-sk-prior1</span>)&nbsp;(:domain&nbsp;many-obje</td></tr>\n",
       "            <tr><td class=\"diff_next\"></td><td class=\"diff_header\"></td><td nowrap=\"nowrap\">&nbsp;</td><td class=\"diff_next\"></td><td class=\"diff_header\">></td><td nowrap=\"nowrap\">cts-room-v1)</td></tr>\n",
       "            <tr><td class=\"diff_next\"></td><td class=\"diff_header\" id=\"from5_2\">2</td><td nowrap=\"nowrap\">(:constraints</td><td class=\"diff_next\"></td><td class=\"diff_header\" id=\"to5_2\">2</td><td nowrap=\"nowrap\">(:constraints</td></tr>\n",
       "            <tr><td class=\"diff_next\"></td><td class=\"diff_header\" id=\"from5_3\">3</td><td nowrap=\"nowrap\">&nbsp;&nbsp;(and</td><td class=\"diff_next\"></td><td class=\"diff_header\" id=\"to5_3\">3</td><td nowrap=\"nowrap\">&nbsp;&nbsp;(and</td></tr>\n",
       "            <tr><td class=\"diff_next\"></td><td class=\"diff_header\" id=\"from5_4\">4</td><td nowrap=\"nowrap\">&nbsp;&nbsp;&nbsp;&nbsp;(preference&nbsp;ballOnBedAtEnd</td><td class=\"diff_next\"></td><td class=\"diff_header\" id=\"to5_4\">4</td><td nowrap=\"nowrap\">&nbsp;&nbsp;&nbsp;&nbsp;(preference&nbsp;ballOnBedAtEnd</td></tr>\n",
       "            <tr><td class=\"diff_next\"><a href=\"#difflib_chg_to5__top\">t</a></td><td class=\"diff_header\" id=\"from5_5\">5</td><td nowrap=\"nowrap\">&nbsp;&nbsp;&nbsp;&nbsp;&nbsp;&nbsp;(exists&nbsp;(?b&nbsp;-&nbsp;ball)</td><td class=\"diff_next\"><a href=\"#difflib_chg_to5__top\">t</a></td><td class=\"diff_header\" id=\"to5_5\">5</td><td nowrap=\"nowrap\">&nbsp;&nbsp;&nbsp;&nbsp;&nbsp;&nbsp;(exists&nbsp;(?b&nbsp;-&nbsp;<span class=\"diff_add\">red_dodge</span>ball)</td></tr>\n",
       "            <tr><td class=\"diff_next\"></td><td class=\"diff_header\" id=\"from5_6\">6</td><td nowrap=\"nowrap\">&nbsp;&nbsp;&nbsp;&nbsp;&nbsp;&nbsp;&nbsp;&nbsp;(at-end</td><td class=\"diff_next\"></td><td class=\"diff_header\" id=\"to5_6\">6</td><td nowrap=\"nowrap\">&nbsp;&nbsp;&nbsp;&nbsp;&nbsp;&nbsp;&nbsp;&nbsp;(at-end</td></tr>\n",
       "            <tr><td class=\"diff_next\"></td><td class=\"diff_header\" id=\"from5_7\">7</td><td nowrap=\"nowrap\">&nbsp;&nbsp;&nbsp;&nbsp;&nbsp;&nbsp;&nbsp;&nbsp;&nbsp;&nbsp;(on&nbsp;bed&nbsp;?b)</td><td class=\"diff_next\"></td><td class=\"diff_header\" id=\"to5_7\">7</td><td nowrap=\"nowrap\">&nbsp;&nbsp;&nbsp;&nbsp;&nbsp;&nbsp;&nbsp;&nbsp;&nbsp;&nbsp;(on&nbsp;bed&nbsp;?b)</td></tr>\n",
       "            <tr><td class=\"diff_next\"></td><td class=\"diff_header\" id=\"from5_8\">8</td><td nowrap=\"nowrap\">&nbsp;&nbsp;&nbsp;&nbsp;&nbsp;&nbsp;&nbsp;&nbsp;)</td><td class=\"diff_next\"></td><td class=\"diff_header\" id=\"to5_8\">8</td><td nowrap=\"nowrap\">&nbsp;&nbsp;&nbsp;&nbsp;&nbsp;&nbsp;&nbsp;&nbsp;)</td></tr>\n",
       "            <tr><td class=\"diff_next\"></td><td class=\"diff_header\" id=\"from5_9\">9</td><td nowrap=\"nowrap\">&nbsp;&nbsp;&nbsp;&nbsp;&nbsp;&nbsp;)</td><td class=\"diff_next\"></td><td class=\"diff_header\" id=\"to5_9\">9</td><td nowrap=\"nowrap\">&nbsp;&nbsp;&nbsp;&nbsp;&nbsp;&nbsp;)</td></tr>\n",
       "            <tr><td class=\"diff_next\"></td><td class=\"diff_header\" id=\"from5_10\">10</td><td nowrap=\"nowrap\">&nbsp;&nbsp;&nbsp;&nbsp;)</td><td class=\"diff_next\"></td><td class=\"diff_header\" id=\"to5_10\">10</td><td nowrap=\"nowrap\">&nbsp;&nbsp;&nbsp;&nbsp;)</td></tr>\n",
       "            <tr><td class=\"diff_next\"></td><td class=\"diff_header\" id=\"from5_11\">11</td><td nowrap=\"nowrap\">&nbsp;&nbsp;)</td><td class=\"diff_next\"></td><td class=\"diff_header\" id=\"to5_11\">11</td><td nowrap=\"nowrap\">&nbsp;&nbsp;)</td></tr>\n",
       "            <tr><td class=\"diff_next\"></td><td class=\"diff_header\" id=\"from5_12\">12</td><td nowrap=\"nowrap\">)</td><td class=\"diff_next\"></td><td class=\"diff_header\" id=\"to5_12\">12</td><td nowrap=\"nowrap\">)</td></tr>\n",
       "            <tr><td class=\"diff_next\"></td><td class=\"diff_header\" id=\"from5_13\">13</td><td nowrap=\"nowrap\">(:scoring</td><td class=\"diff_next\"></td><td class=\"diff_header\" id=\"to5_13\">13</td><td nowrap=\"nowrap\">(:scoring</td></tr>\n",
       "            <tr><td class=\"diff_next\"></td><td class=\"diff_header\" id=\"from5_14\">14</td><td nowrap=\"nowrap\">&nbsp;&nbsp;(count-once-per-objects&nbsp;ballOnBedAtEnd)</td><td class=\"diff_next\"></td><td class=\"diff_header\" id=\"to5_14\">14</td><td nowrap=\"nowrap\">&nbsp;&nbsp;(count-once-per-objects&nbsp;ballOnBedAtEnd)</td></tr>\n",
       "            <tr><td class=\"diff_next\"></td><td class=\"diff_header\" id=\"from5_15\">15</td><td nowrap=\"nowrap\">)</td><td class=\"diff_next\"></td><td class=\"diff_header\" id=\"to5_15\">15</td><td nowrap=\"nowrap\">)</td></tr>\n",
       "            <tr><td class=\"diff_next\"></td><td class=\"diff_header\" id=\"from5_16\">16</td><td nowrap=\"nowrap\">)</td><td class=\"diff_next\"></td><td class=\"diff_header\" id=\"to5_16\">16</td><td nowrap=\"nowrap\">)</td></tr>\n",
       "        </tbody>\n",
       "    </table>\n",
       "    <table class=\"diff\" summary=\"Legends\">\n",
       "        <tr> <th colspan=\"2\"> Legends </th> </tr>\n",
       "        <tr> <td> <table border=\"\" summary=\"Colors\">\n",
       "                      <tr><th> Colors </th> </tr>\n",
       "                      <tr><td class=\"diff_add\">&nbsp;Added&nbsp;</td></tr>\n",
       "                      <tr><td class=\"diff_chg\">Changed</td> </tr>\n",
       "                      <tr><td class=\"diff_sub\">Deleted</td> </tr>\n",
       "                  </table></td>\n",
       "             <td> <table border=\"\" summary=\"Links\">\n",
       "                      <tr><th colspan=\"2\"> Links </th> </tr>\n",
       "                      <tr><td>(f)irst change</td> </tr>\n",
       "                      <tr><td>(n)ext change</td> </tr>\n",
       "                      <tr><td>(t)op</td> </tr>\n",
       "                  </table></td> </tr>\n",
       "    </table>\n",
       "</body>\n",
       "\n",
       "</html>"
      ],
      "text/plain": [
       "<IPython.core.display.HTML object>"
      ]
     },
     "metadata": {},
     "output_type": "display_data"
    },
    {
     "data": {
      "text/markdown": [
       "---"
      ],
      "text/plain": [
       "<IPython.core.display.Markdown object>"
      ]
     },
     "metadata": {},
     "output_type": "display_data"
    },
    {
     "name": "stdout",
     "output_type": "stream",
     "text": [
      "Original game index: 55 | Negative game row: 55 | Negative game col: 180\n"
     ]
    },
    {
     "data": {
      "text/markdown": [
       "### Energy of real game: -13.120 | Energy of regrown game: -13.120 | Difference: 0.000"
      ],
      "text/plain": [
       "<IPython.core.display.Markdown object>"
      ]
     },
     "metadata": {},
     "output_type": "display_data"
    },
    {
     "data": {
      "text/markdown": [
       "### Top features changing the game's energy\n",
       "feature name: **value** = (original feature value => regrown feature value) * weight"
      ],
      "text/plain": [
       "<IPython.core.display.Markdown object>"
      ]
     },
     "metadata": {},
     "output_type": "display_data"
    },
    {
     "data": {
      "text/markdown": [
       "| Features increasing energy (= more fake)   | Features decreasing energy (= more real)   |\n",
       "|--------------------------------------------|--------------------------------------------|"
      ],
      "text/plain": [
       "<IPython.core.display.Markdown object>"
      ]
     },
     "metadata": {},
     "output_type": "display_data"
    },
    {
     "data": {
      "text/markdown": [
       "### Game Diffs"
      ],
      "text/plain": [
       "<IPython.core.display.Markdown object>"
      ]
     },
     "metadata": {},
     "output_type": "display_data"
    },
    {
     "data": {
      "text/html": [
       "\n",
       "<!DOCTYPE html PUBLIC \"-//W3C//DTD XHTML 1.0 Transitional//EN\"\n",
       "          \"http://www.w3.org/TR/xhtml1/DTD/xhtml1-transitional.dtd\">\n",
       "\n",
       "<html>\n",
       "\n",
       "<head>\n",
       "    <meta http-equiv=\"Content-Type\"\n",
       "          content=\"text/html; charset=utf-8\" />\n",
       "    <title></title>\n",
       "    <style type=\"text/css\">\n",
       "        table.diff {font-family:Courier; border:medium;}\n",
       "        .diff_header {background-color:#e0e0e0}\n",
       "        .diff td {text-align: left !important}\n",
       ".diff th {text-align: center!important }\n",
       ".diff td.diff_header {text-align:right !important}\n",
       "        .diff_next {background-color:#c0c0c0}\n",
       "        .diff_add {background-color: #6fa66f !important; font-weight: bold !important}\n",
       "        .diff_chg {background-color: #999949 !important; font-weight: bold !important}\n",
       "        .diff_sub {background-color: #a66f6f !important; font-weight: bold !important}\n",
       "    </style>\n",
       "</head>\n",
       "\n",
       "<body>\n",
       "    \n",
       "    <table class=\"diff\" id=\"difflib_chg_to6__top\"\n",
       "           cellspacing=\"0\" cellpadding=\"0\" rules=\"groups\" >\n",
       "        <colgroup></colgroup> <colgroup></colgroup> <colgroup></colgroup>\n",
       "        <colgroup></colgroup> <colgroup></colgroup> <colgroup></colgroup>\n",
       "        \n",
       "        <tbody>\n",
       "            <tr><td class=\"diff_next\" id=\"difflib_chg_to6__1\"><a href=\"#difflib_chg_to6__1\">n</a></td><td class=\"diff_header\" id=\"from6_1\">1</td><td nowrap=\"nowrap\">(define&nbsp;(game&nbsp;56cf6e8d31a5bc0006e1cdf5-65)&nbsp;(:domain&nbsp;many-objects-room-v1)</td><td class=\"diff_next\"><a href=\"#difflib_chg_to6__1\">n</a></td><td class=\"diff_header\" id=\"to6_1\">1</td><td nowrap=\"nowrap\">(define&nbsp;(game&nbsp;56cf6e8d31a5bc0006e1cdf5-65<span class=\"diff_add\">-180-nd-0-rd-1-rs-constraints-sk-prior1</span>)&nbsp;(:domain&nbsp;many-obje</td></tr>\n",
       "            <tr><td class=\"diff_next\"></td><td class=\"diff_header\"></td><td nowrap=\"nowrap\">&nbsp;</td><td class=\"diff_next\"></td><td class=\"diff_header\">></td><td nowrap=\"nowrap\">cts-room-v1)</td></tr>\n",
       "            <tr><td class=\"diff_next\"></td><td class=\"diff_header\" id=\"from6_2\">2</td><td nowrap=\"nowrap\">(:constraints</td><td class=\"diff_next\"></td><td class=\"diff_header\" id=\"to6_2\">2</td><td nowrap=\"nowrap\">(:constraints</td></tr>\n",
       "            <tr><td class=\"diff_next\"></td><td class=\"diff_header\" id=\"from6_3\">3</td><td nowrap=\"nowrap\">&nbsp;&nbsp;(and</td><td class=\"diff_next\"></td><td class=\"diff_header\" id=\"to6_3\">3</td><td nowrap=\"nowrap\">&nbsp;&nbsp;(and</td></tr>\n",
       "            <tr><td class=\"diff_next\"></td><td class=\"diff_header\" id=\"from6_4\">4</td><td nowrap=\"nowrap\">&nbsp;&nbsp;&nbsp;&nbsp;(preference&nbsp;ballOnBedAtEnd</td><td class=\"diff_next\"></td><td class=\"diff_header\" id=\"to6_4\">4</td><td nowrap=\"nowrap\">&nbsp;&nbsp;&nbsp;&nbsp;(preference&nbsp;ballOnBedAtEnd</td></tr>\n",
       "            <tr><td class=\"diff_next\"><a href=\"#difflib_chg_to6__top\">t</a></td><td class=\"diff_header\" id=\"from6_5\">5</td><td nowrap=\"nowrap\">&nbsp;&nbsp;&nbsp;&nbsp;&nbsp;&nbsp;(exists&nbsp;(?b&nbsp;-&nbsp;ball)</td><td class=\"diff_next\"><a href=\"#difflib_chg_to6__top\">t</a></td><td class=\"diff_header\" id=\"to6_5\">5</td><td nowrap=\"nowrap\">&nbsp;&nbsp;&nbsp;&nbsp;&nbsp;&nbsp;(exists&nbsp;(?b&nbsp;-&nbsp;<span class=\"diff_add\">beach</span>ball)</td></tr>\n",
       "            <tr><td class=\"diff_next\"></td><td class=\"diff_header\" id=\"from6_6\">6</td><td nowrap=\"nowrap\">&nbsp;&nbsp;&nbsp;&nbsp;&nbsp;&nbsp;&nbsp;&nbsp;(at-end</td><td class=\"diff_next\"></td><td class=\"diff_header\" id=\"to6_6\">6</td><td nowrap=\"nowrap\">&nbsp;&nbsp;&nbsp;&nbsp;&nbsp;&nbsp;&nbsp;&nbsp;(at-end</td></tr>\n",
       "            <tr><td class=\"diff_next\"></td><td class=\"diff_header\" id=\"from6_7\">7</td><td nowrap=\"nowrap\">&nbsp;&nbsp;&nbsp;&nbsp;&nbsp;&nbsp;&nbsp;&nbsp;&nbsp;&nbsp;(on&nbsp;bed&nbsp;?b)</td><td class=\"diff_next\"></td><td class=\"diff_header\" id=\"to6_7\">7</td><td nowrap=\"nowrap\">&nbsp;&nbsp;&nbsp;&nbsp;&nbsp;&nbsp;&nbsp;&nbsp;&nbsp;&nbsp;(on&nbsp;bed&nbsp;?b)</td></tr>\n",
       "            <tr><td class=\"diff_next\"></td><td class=\"diff_header\" id=\"from6_8\">8</td><td nowrap=\"nowrap\">&nbsp;&nbsp;&nbsp;&nbsp;&nbsp;&nbsp;&nbsp;&nbsp;)</td><td class=\"diff_next\"></td><td class=\"diff_header\" id=\"to6_8\">8</td><td nowrap=\"nowrap\">&nbsp;&nbsp;&nbsp;&nbsp;&nbsp;&nbsp;&nbsp;&nbsp;)</td></tr>\n",
       "            <tr><td class=\"diff_next\"></td><td class=\"diff_header\" id=\"from6_9\">9</td><td nowrap=\"nowrap\">&nbsp;&nbsp;&nbsp;&nbsp;&nbsp;&nbsp;)</td><td class=\"diff_next\"></td><td class=\"diff_header\" id=\"to6_9\">9</td><td nowrap=\"nowrap\">&nbsp;&nbsp;&nbsp;&nbsp;&nbsp;&nbsp;)</td></tr>\n",
       "            <tr><td class=\"diff_next\"></td><td class=\"diff_header\" id=\"from6_10\">10</td><td nowrap=\"nowrap\">&nbsp;&nbsp;&nbsp;&nbsp;)</td><td class=\"diff_next\"></td><td class=\"diff_header\" id=\"to6_10\">10</td><td nowrap=\"nowrap\">&nbsp;&nbsp;&nbsp;&nbsp;)</td></tr>\n",
       "            <tr><td class=\"diff_next\"></td><td class=\"diff_header\" id=\"from6_11\">11</td><td nowrap=\"nowrap\">&nbsp;&nbsp;)</td><td class=\"diff_next\"></td><td class=\"diff_header\" id=\"to6_11\">11</td><td nowrap=\"nowrap\">&nbsp;&nbsp;)</td></tr>\n",
       "            <tr><td class=\"diff_next\"></td><td class=\"diff_header\" id=\"from6_12\">12</td><td nowrap=\"nowrap\">)</td><td class=\"diff_next\"></td><td class=\"diff_header\" id=\"to6_12\">12</td><td nowrap=\"nowrap\">)</td></tr>\n",
       "            <tr><td class=\"diff_next\"></td><td class=\"diff_header\" id=\"from6_13\">13</td><td nowrap=\"nowrap\">(:scoring</td><td class=\"diff_next\"></td><td class=\"diff_header\" id=\"to6_13\">13</td><td nowrap=\"nowrap\">(:scoring</td></tr>\n",
       "            <tr><td class=\"diff_next\"></td><td class=\"diff_header\" id=\"from6_14\">14</td><td nowrap=\"nowrap\">&nbsp;&nbsp;(count-once-per-objects&nbsp;ballOnBedAtEnd)</td><td class=\"diff_next\"></td><td class=\"diff_header\" id=\"to6_14\">14</td><td nowrap=\"nowrap\">&nbsp;&nbsp;(count-once-per-objects&nbsp;ballOnBedAtEnd)</td></tr>\n",
       "            <tr><td class=\"diff_next\"></td><td class=\"diff_header\" id=\"from6_15\">15</td><td nowrap=\"nowrap\">)</td><td class=\"diff_next\"></td><td class=\"diff_header\" id=\"to6_15\">15</td><td nowrap=\"nowrap\">)</td></tr>\n",
       "            <tr><td class=\"diff_next\"></td><td class=\"diff_header\" id=\"from6_16\">16</td><td nowrap=\"nowrap\">)</td><td class=\"diff_next\"></td><td class=\"diff_header\" id=\"to6_16\">16</td><td nowrap=\"nowrap\">)</td></tr>\n",
       "        </tbody>\n",
       "    </table>\n",
       "    <table class=\"diff\" summary=\"Legends\">\n",
       "        <tr> <th colspan=\"2\"> Legends </th> </tr>\n",
       "        <tr> <td> <table border=\"\" summary=\"Colors\">\n",
       "                      <tr><th> Colors </th> </tr>\n",
       "                      <tr><td class=\"diff_add\">&nbsp;Added&nbsp;</td></tr>\n",
       "                      <tr><td class=\"diff_chg\">Changed</td> </tr>\n",
       "                      <tr><td class=\"diff_sub\">Deleted</td> </tr>\n",
       "                  </table></td>\n",
       "             <td> <table border=\"\" summary=\"Links\">\n",
       "                      <tr><th colspan=\"2\"> Links </th> </tr>\n",
       "                      <tr><td>(f)irst change</td> </tr>\n",
       "                      <tr><td>(n)ext change</td> </tr>\n",
       "                      <tr><td>(t)op</td> </tr>\n",
       "                  </table></td> </tr>\n",
       "    </table>\n",
       "</body>\n",
       "\n",
       "</html>"
      ],
      "text/plain": [
       "<IPython.core.display.HTML object>"
      ]
     },
     "metadata": {},
     "output_type": "display_data"
    },
    {
     "data": {
      "text/markdown": [
       "---"
      ],
      "text/plain": [
       "<IPython.core.display.Markdown object>"
      ]
     },
     "metadata": {},
     "output_type": "display_data"
    },
    {
     "name": "stdout",
     "output_type": "stream",
     "text": [
      "Original game index: 55 | Negative game row: 55 | Negative game col: 775\n"
     ]
    },
    {
     "data": {
      "text/markdown": [
       "### Energy of real game: -13.120 | Energy of regrown game: -13.120 | Difference: 0.000"
      ],
      "text/plain": [
       "<IPython.core.display.Markdown object>"
      ]
     },
     "metadata": {},
     "output_type": "display_data"
    },
    {
     "data": {
      "text/markdown": [
       "### Top features changing the game's energy\n",
       "feature name: **value** = (original feature value => regrown feature value) * weight"
      ],
      "text/plain": [
       "<IPython.core.display.Markdown object>"
      ]
     },
     "metadata": {},
     "output_type": "display_data"
    },
    {
     "data": {
      "text/markdown": [
       "| Features increasing energy (= more fake)   | Features decreasing energy (= more real)   |\n",
       "|--------------------------------------------|--------------------------------------------|"
      ],
      "text/plain": [
       "<IPython.core.display.Markdown object>"
      ]
     },
     "metadata": {},
     "output_type": "display_data"
    },
    {
     "data": {
      "text/markdown": [
       "### Game Diffs"
      ],
      "text/plain": [
       "<IPython.core.display.Markdown object>"
      ]
     },
     "metadata": {},
     "output_type": "display_data"
    },
    {
     "data": {
      "text/html": [
       "\n",
       "<!DOCTYPE html PUBLIC \"-//W3C//DTD XHTML 1.0 Transitional//EN\"\n",
       "          \"http://www.w3.org/TR/xhtml1/DTD/xhtml1-transitional.dtd\">\n",
       "\n",
       "<html>\n",
       "\n",
       "<head>\n",
       "    <meta http-equiv=\"Content-Type\"\n",
       "          content=\"text/html; charset=utf-8\" />\n",
       "    <title></title>\n",
       "    <style type=\"text/css\">\n",
       "        table.diff {font-family:Courier; border:medium;}\n",
       "        .diff_header {background-color:#e0e0e0}\n",
       "        .diff td {text-align: left !important}\n",
       ".diff th {text-align: center!important }\n",
       ".diff td.diff_header {text-align:right !important}\n",
       "        .diff_next {background-color:#c0c0c0}\n",
       "        .diff_add {background-color: #6fa66f !important; font-weight: bold !important}\n",
       "        .diff_chg {background-color: #999949 !important; font-weight: bold !important}\n",
       "        .diff_sub {background-color: #a66f6f !important; font-weight: bold !important}\n",
       "    </style>\n",
       "</head>\n",
       "\n",
       "<body>\n",
       "    \n",
       "    <table class=\"diff\" id=\"difflib_chg_to7__top\"\n",
       "           cellspacing=\"0\" cellpadding=\"0\" rules=\"groups\" >\n",
       "        <colgroup></colgroup> <colgroup></colgroup> <colgroup></colgroup>\n",
       "        <colgroup></colgroup> <colgroup></colgroup> <colgroup></colgroup>\n",
       "        \n",
       "        <tbody>\n",
       "            <tr><td class=\"diff_next\" id=\"difflib_chg_to7__1\"><a href=\"#difflib_chg_to7__1\">n</a></td><td class=\"diff_header\" id=\"from7_1\">1</td><td nowrap=\"nowrap\">(define&nbsp;(game&nbsp;56cf6e8d31a5bc0006e1cdf5-65)&nbsp;(:domain&nbsp;many-objects-room-v1)</td><td class=\"diff_next\"><a href=\"#difflib_chg_to7__1\">n</a></td><td class=\"diff_header\" id=\"to7_1\">1</td><td nowrap=\"nowrap\">(define&nbsp;(game&nbsp;56cf6e8d31a5bc0006e1cdf5-65<span class=\"diff_add\">-775-nd-0-rd-3-rs-constraints-sk-prior11</span>)&nbsp;(:domain&nbsp;many-obj</td></tr>\n",
       "            <tr><td class=\"diff_next\"></td><td class=\"diff_header\"></td><td nowrap=\"nowrap\">&nbsp;</td><td class=\"diff_next\"></td><td class=\"diff_header\">></td><td nowrap=\"nowrap\">ects-room-v1)</td></tr>\n",
       "            <tr><td class=\"diff_next\"></td><td class=\"diff_header\" id=\"from7_2\">2</td><td nowrap=\"nowrap\">(:constraints</td><td class=\"diff_next\"></td><td class=\"diff_header\" id=\"to7_2\">2</td><td nowrap=\"nowrap\">(:constraints</td></tr>\n",
       "            <tr><td class=\"diff_next\"></td><td class=\"diff_header\" id=\"from7_3\">3</td><td nowrap=\"nowrap\">&nbsp;&nbsp;(and</td><td class=\"diff_next\"></td><td class=\"diff_header\" id=\"to7_3\">3</td><td nowrap=\"nowrap\">&nbsp;&nbsp;(and</td></tr>\n",
       "            <tr><td class=\"diff_next\"></td><td class=\"diff_header\" id=\"from7_4\">4</td><td nowrap=\"nowrap\">&nbsp;&nbsp;&nbsp;&nbsp;(preference&nbsp;ballOnBedAtEnd</td><td class=\"diff_next\"></td><td class=\"diff_header\" id=\"to7_4\">4</td><td nowrap=\"nowrap\">&nbsp;&nbsp;&nbsp;&nbsp;(preference&nbsp;ballOnBedAtEnd</td></tr>\n",
       "            <tr><td class=\"diff_next\"><a href=\"#difflib_chg_to7__top\">t</a></td><td class=\"diff_header\" id=\"from7_5\">5</td><td nowrap=\"nowrap\">&nbsp;&nbsp;&nbsp;&nbsp;&nbsp;&nbsp;(exists&nbsp;(?b&nbsp;-&nbsp;ball)</td><td class=\"diff_next\"><a href=\"#difflib_chg_to7__top\">t</a></td><td class=\"diff_header\" id=\"to7_5\">5</td><td nowrap=\"nowrap\">&nbsp;&nbsp;&nbsp;&nbsp;&nbsp;&nbsp;(exists&nbsp;(?b&nbsp;-&nbsp;<span class=\"diff_add\">golf</span>ball)</td></tr>\n",
       "            <tr><td class=\"diff_next\"></td><td class=\"diff_header\" id=\"from7_6\">6</td><td nowrap=\"nowrap\">&nbsp;&nbsp;&nbsp;&nbsp;&nbsp;&nbsp;&nbsp;&nbsp;(at-end</td><td class=\"diff_next\"></td><td class=\"diff_header\" id=\"to7_6\">6</td><td nowrap=\"nowrap\">&nbsp;&nbsp;&nbsp;&nbsp;&nbsp;&nbsp;&nbsp;&nbsp;(at-end</td></tr>\n",
       "            <tr><td class=\"diff_next\"></td><td class=\"diff_header\" id=\"from7_7\">7</td><td nowrap=\"nowrap\">&nbsp;&nbsp;&nbsp;&nbsp;&nbsp;&nbsp;&nbsp;&nbsp;&nbsp;&nbsp;(on&nbsp;bed&nbsp;?b)</td><td class=\"diff_next\"></td><td class=\"diff_header\" id=\"to7_7\">7</td><td nowrap=\"nowrap\">&nbsp;&nbsp;&nbsp;&nbsp;&nbsp;&nbsp;&nbsp;&nbsp;&nbsp;&nbsp;(on&nbsp;bed&nbsp;?b)</td></tr>\n",
       "            <tr><td class=\"diff_next\"></td><td class=\"diff_header\" id=\"from7_8\">8</td><td nowrap=\"nowrap\">&nbsp;&nbsp;&nbsp;&nbsp;&nbsp;&nbsp;&nbsp;&nbsp;)</td><td class=\"diff_next\"></td><td class=\"diff_header\" id=\"to7_8\">8</td><td nowrap=\"nowrap\">&nbsp;&nbsp;&nbsp;&nbsp;&nbsp;&nbsp;&nbsp;&nbsp;)</td></tr>\n",
       "            <tr><td class=\"diff_next\"></td><td class=\"diff_header\" id=\"from7_9\">9</td><td nowrap=\"nowrap\">&nbsp;&nbsp;&nbsp;&nbsp;&nbsp;&nbsp;)</td><td class=\"diff_next\"></td><td class=\"diff_header\" id=\"to7_9\">9</td><td nowrap=\"nowrap\">&nbsp;&nbsp;&nbsp;&nbsp;&nbsp;&nbsp;)</td></tr>\n",
       "            <tr><td class=\"diff_next\"></td><td class=\"diff_header\" id=\"from7_10\">10</td><td nowrap=\"nowrap\">&nbsp;&nbsp;&nbsp;&nbsp;)</td><td class=\"diff_next\"></td><td class=\"diff_header\" id=\"to7_10\">10</td><td nowrap=\"nowrap\">&nbsp;&nbsp;&nbsp;&nbsp;)</td></tr>\n",
       "            <tr><td class=\"diff_next\"></td><td class=\"diff_header\" id=\"from7_11\">11</td><td nowrap=\"nowrap\">&nbsp;&nbsp;)</td><td class=\"diff_next\"></td><td class=\"diff_header\" id=\"to7_11\">11</td><td nowrap=\"nowrap\">&nbsp;&nbsp;)</td></tr>\n",
       "            <tr><td class=\"diff_next\"></td><td class=\"diff_header\" id=\"from7_12\">12</td><td nowrap=\"nowrap\">)</td><td class=\"diff_next\"></td><td class=\"diff_header\" id=\"to7_12\">12</td><td nowrap=\"nowrap\">)</td></tr>\n",
       "            <tr><td class=\"diff_next\"></td><td class=\"diff_header\" id=\"from7_13\">13</td><td nowrap=\"nowrap\">(:scoring</td><td class=\"diff_next\"></td><td class=\"diff_header\" id=\"to7_13\">13</td><td nowrap=\"nowrap\">(:scoring</td></tr>\n",
       "            <tr><td class=\"diff_next\"></td><td class=\"diff_header\" id=\"from7_14\">14</td><td nowrap=\"nowrap\">&nbsp;&nbsp;(count-once-per-objects&nbsp;ballOnBedAtEnd)</td><td class=\"diff_next\"></td><td class=\"diff_header\" id=\"to7_14\">14</td><td nowrap=\"nowrap\">&nbsp;&nbsp;(count-once-per-objects&nbsp;ballOnBedAtEnd)</td></tr>\n",
       "            <tr><td class=\"diff_next\"></td><td class=\"diff_header\" id=\"from7_15\">15</td><td nowrap=\"nowrap\">)</td><td class=\"diff_next\"></td><td class=\"diff_header\" id=\"to7_15\">15</td><td nowrap=\"nowrap\">)</td></tr>\n",
       "            <tr><td class=\"diff_next\"></td><td class=\"diff_header\" id=\"from7_16\">16</td><td nowrap=\"nowrap\">)</td><td class=\"diff_next\"></td><td class=\"diff_header\" id=\"to7_16\">16</td><td nowrap=\"nowrap\">)</td></tr>\n",
       "        </tbody>\n",
       "    </table>\n",
       "    <table class=\"diff\" summary=\"Legends\">\n",
       "        <tr> <th colspan=\"2\"> Legends </th> </tr>\n",
       "        <tr> <td> <table border=\"\" summary=\"Colors\">\n",
       "                      <tr><th> Colors </th> </tr>\n",
       "                      <tr><td class=\"diff_add\">&nbsp;Added&nbsp;</td></tr>\n",
       "                      <tr><td class=\"diff_chg\">Changed</td> </tr>\n",
       "                      <tr><td class=\"diff_sub\">Deleted</td> </tr>\n",
       "                  </table></td>\n",
       "             <td> <table border=\"\" summary=\"Links\">\n",
       "                      <tr><th colspan=\"2\"> Links </th> </tr>\n",
       "                      <tr><td>(f)irst change</td> </tr>\n",
       "                      <tr><td>(n)ext change</td> </tr>\n",
       "                      <tr><td>(t)op</td> </tr>\n",
       "                  </table></td> </tr>\n",
       "    </table>\n",
       "</body>\n",
       "\n",
       "</html>"
      ],
      "text/plain": [
       "<IPython.core.display.HTML object>"
      ]
     },
     "metadata": {},
     "output_type": "display_data"
    },
    {
     "data": {
      "text/markdown": [
       "---"
      ],
      "text/plain": [
       "<IPython.core.display.Markdown object>"
      ]
     },
     "metadata": {},
     "output_type": "display_data"
    },
    {
     "name": "stdout",
     "output_type": "stream",
     "text": [
      "Original game index: 55 | Negative game row: 55 | Negative game col: 397\n"
     ]
    },
    {
     "data": {
      "text/markdown": [
       "### Energy of real game: -13.120 | Energy of regrown game: -13.120 | Difference: 0.000"
      ],
      "text/plain": [
       "<IPython.core.display.Markdown object>"
      ]
     },
     "metadata": {},
     "output_type": "display_data"
    },
    {
     "data": {
      "text/markdown": [
       "### Top features changing the game's energy\n",
       "feature name: **value** = (original feature value => regrown feature value) * weight"
      ],
      "text/plain": [
       "<IPython.core.display.Markdown object>"
      ]
     },
     "metadata": {},
     "output_type": "display_data"
    },
    {
     "data": {
      "text/markdown": [
       "| Features increasing energy (= more fake)   | Features decreasing energy (= more real)   |\n",
       "|--------------------------------------------|--------------------------------------------|"
      ],
      "text/plain": [
       "<IPython.core.display.Markdown object>"
      ]
     },
     "metadata": {},
     "output_type": "display_data"
    },
    {
     "data": {
      "text/markdown": [
       "### Game Diffs"
      ],
      "text/plain": [
       "<IPython.core.display.Markdown object>"
      ]
     },
     "metadata": {},
     "output_type": "display_data"
    },
    {
     "data": {
      "text/html": [
       "\n",
       "<!DOCTYPE html PUBLIC \"-//W3C//DTD XHTML 1.0 Transitional//EN\"\n",
       "          \"http://www.w3.org/TR/xhtml1/DTD/xhtml1-transitional.dtd\">\n",
       "\n",
       "<html>\n",
       "\n",
       "<head>\n",
       "    <meta http-equiv=\"Content-Type\"\n",
       "          content=\"text/html; charset=utf-8\" />\n",
       "    <title></title>\n",
       "    <style type=\"text/css\">\n",
       "        table.diff {font-family:Courier; border:medium;}\n",
       "        .diff_header {background-color:#e0e0e0}\n",
       "        .diff td {text-align: left !important}\n",
       ".diff th {text-align: center!important }\n",
       ".diff td.diff_header {text-align:right !important}\n",
       "        .diff_next {background-color:#c0c0c0}\n",
       "        .diff_add {background-color: #6fa66f !important; font-weight: bold !important}\n",
       "        .diff_chg {background-color: #999949 !important; font-weight: bold !important}\n",
       "        .diff_sub {background-color: #a66f6f !important; font-weight: bold !important}\n",
       "    </style>\n",
       "</head>\n",
       "\n",
       "<body>\n",
       "    \n",
       "    <table class=\"diff\" id=\"difflib_chg_to8__top\"\n",
       "           cellspacing=\"0\" cellpadding=\"0\" rules=\"groups\" >\n",
       "        <colgroup></colgroup> <colgroup></colgroup> <colgroup></colgroup>\n",
       "        <colgroup></colgroup> <colgroup></colgroup> <colgroup></colgroup>\n",
       "        \n",
       "        <tbody>\n",
       "            <tr><td class=\"diff_next\" id=\"difflib_chg_to8__0\"><a href=\"#difflib_chg_to8__1\">n</a></td><td class=\"diff_header\" id=\"from8_1\">1</td><td nowrap=\"nowrap\">(define&nbsp;(game&nbsp;56cf6e8d31a5bc0006e1cdf5-65)&nbsp;(:domain&nbsp;many-objects-room-v1)</td><td class=\"diff_next\"><a href=\"#difflib_chg_to8__1\">n</a></td><td class=\"diff_header\" id=\"to8_1\">1</td><td nowrap=\"nowrap\">(define&nbsp;(game&nbsp;56cf6e8d31a5bc0006e1cdf5-65<span class=\"diff_add\">-397-nd-0-rd-3-rs-constraints-sk-prior1</span>)&nbsp;(:domain&nbsp;many-obje</td></tr>\n",
       "            <tr><td class=\"diff_next\"></td><td class=\"diff_header\"></td><td nowrap=\"nowrap\">&nbsp;</td><td class=\"diff_next\"></td><td class=\"diff_header\">></td><td nowrap=\"nowrap\">cts-room-v1)</td></tr>\n",
       "            <tr><td class=\"diff_next\" id=\"difflib_chg_to8__1\"></td><td class=\"diff_header\" id=\"from8_2\">2</td><td nowrap=\"nowrap\">(:constraints</td><td class=\"diff_next\"></td><td class=\"diff_header\" id=\"to8_2\">2</td><td nowrap=\"nowrap\">(:constraints</td></tr>\n",
       "            <tr><td class=\"diff_next\"></td><td class=\"diff_header\" id=\"from8_3\">3</td><td nowrap=\"nowrap\">&nbsp;&nbsp;(and</td><td class=\"diff_next\"></td><td class=\"diff_header\" id=\"to8_3\">3</td><td nowrap=\"nowrap\">&nbsp;&nbsp;(and</td></tr>\n",
       "            <tr><td class=\"diff_next\"></td><td class=\"diff_header\" id=\"from8_4\">4</td><td nowrap=\"nowrap\">&nbsp;&nbsp;&nbsp;&nbsp;(preference&nbsp;ballOnBedAtEnd</td><td class=\"diff_next\"></td><td class=\"diff_header\" id=\"to8_4\">4</td><td nowrap=\"nowrap\">&nbsp;&nbsp;&nbsp;&nbsp;(preference&nbsp;ballOnBedAtEnd</td></tr>\n",
       "            <tr><td class=\"diff_next\"></td><td class=\"diff_header\" id=\"from8_5\">5</td><td nowrap=\"nowrap\">&nbsp;&nbsp;&nbsp;&nbsp;&nbsp;&nbsp;(exists&nbsp;(?b&nbsp;-&nbsp;ball)</td><td class=\"diff_next\"></td><td class=\"diff_header\" id=\"to8_5\">5</td><td nowrap=\"nowrap\">&nbsp;&nbsp;&nbsp;&nbsp;&nbsp;&nbsp;(exists&nbsp;(?b&nbsp;-&nbsp;ball)</td></tr>\n",
       "            <tr><td class=\"diff_next\"></td><td class=\"diff_header\" id=\"from8_6\">6</td><td nowrap=\"nowrap\">&nbsp;&nbsp;&nbsp;&nbsp;&nbsp;&nbsp;&nbsp;&nbsp;(at-end</td><td class=\"diff_next\"></td><td class=\"diff_header\" id=\"to8_6\">6</td><td nowrap=\"nowrap\">&nbsp;&nbsp;&nbsp;&nbsp;&nbsp;&nbsp;&nbsp;&nbsp;(at-end</td></tr>\n",
       "            <tr><td class=\"diff_next\"><a href=\"#difflib_chg_to8__top\">t</a></td><td class=\"diff_header\" id=\"from8_7\">7</td><td nowrap=\"nowrap\">&nbsp;&nbsp;&nbsp;&nbsp;&nbsp;&nbsp;&nbsp;&nbsp;&nbsp;&nbsp;(on&nbsp;<span class=\"diff_chg\">b</span>e<span class=\"diff_chg\">d</span>&nbsp;?b)</td><td class=\"diff_next\"><a href=\"#difflib_chg_to8__top\">t</a></td><td class=\"diff_header\" id=\"to8_7\">7</td><td nowrap=\"nowrap\">&nbsp;&nbsp;&nbsp;&nbsp;&nbsp;&nbsp;&nbsp;&nbsp;&nbsp;&nbsp;(on&nbsp;<span class=\"diff_chg\">d</span>e<span class=\"diff_chg\">sk</span>&nbsp;?b)</td></tr>\n",
       "            <tr><td class=\"diff_next\"></td><td class=\"diff_header\" id=\"from8_8\">8</td><td nowrap=\"nowrap\">&nbsp;&nbsp;&nbsp;&nbsp;&nbsp;&nbsp;&nbsp;&nbsp;)</td><td class=\"diff_next\"></td><td class=\"diff_header\" id=\"to8_8\">8</td><td nowrap=\"nowrap\">&nbsp;&nbsp;&nbsp;&nbsp;&nbsp;&nbsp;&nbsp;&nbsp;)</td></tr>\n",
       "            <tr><td class=\"diff_next\"></td><td class=\"diff_header\" id=\"from8_9\">9</td><td nowrap=\"nowrap\">&nbsp;&nbsp;&nbsp;&nbsp;&nbsp;&nbsp;)</td><td class=\"diff_next\"></td><td class=\"diff_header\" id=\"to8_9\">9</td><td nowrap=\"nowrap\">&nbsp;&nbsp;&nbsp;&nbsp;&nbsp;&nbsp;)</td></tr>\n",
       "            <tr><td class=\"diff_next\"></td><td class=\"diff_header\" id=\"from8_10\">10</td><td nowrap=\"nowrap\">&nbsp;&nbsp;&nbsp;&nbsp;)</td><td class=\"diff_next\"></td><td class=\"diff_header\" id=\"to8_10\">10</td><td nowrap=\"nowrap\">&nbsp;&nbsp;&nbsp;&nbsp;)</td></tr>\n",
       "            <tr><td class=\"diff_next\"></td><td class=\"diff_header\" id=\"from8_11\">11</td><td nowrap=\"nowrap\">&nbsp;&nbsp;)</td><td class=\"diff_next\"></td><td class=\"diff_header\" id=\"to8_11\">11</td><td nowrap=\"nowrap\">&nbsp;&nbsp;)</td></tr>\n",
       "            <tr><td class=\"diff_next\"></td><td class=\"diff_header\" id=\"from8_12\">12</td><td nowrap=\"nowrap\">)</td><td class=\"diff_next\"></td><td class=\"diff_header\" id=\"to8_12\">12</td><td nowrap=\"nowrap\">)</td></tr>\n",
       "            <tr><td class=\"diff_next\"></td><td class=\"diff_header\" id=\"from8_13\">13</td><td nowrap=\"nowrap\">(:scoring</td><td class=\"diff_next\"></td><td class=\"diff_header\" id=\"to8_13\">13</td><td nowrap=\"nowrap\">(:scoring</td></tr>\n",
       "            <tr><td class=\"diff_next\"></td><td class=\"diff_header\" id=\"from8_14\">14</td><td nowrap=\"nowrap\">&nbsp;&nbsp;(count-once-per-objects&nbsp;ballOnBedAtEnd)</td><td class=\"diff_next\"></td><td class=\"diff_header\" id=\"to8_14\">14</td><td nowrap=\"nowrap\">&nbsp;&nbsp;(count-once-per-objects&nbsp;ballOnBedAtEnd)</td></tr>\n",
       "            <tr><td class=\"diff_next\"></td><td class=\"diff_header\" id=\"from8_15\">15</td><td nowrap=\"nowrap\">)</td><td class=\"diff_next\"></td><td class=\"diff_header\" id=\"to8_15\">15</td><td nowrap=\"nowrap\">)</td></tr>\n",
       "            <tr><td class=\"diff_next\"></td><td class=\"diff_header\" id=\"from8_16\">16</td><td nowrap=\"nowrap\">)</td><td class=\"diff_next\"></td><td class=\"diff_header\" id=\"to8_16\">16</td><td nowrap=\"nowrap\">)</td></tr>\n",
       "        </tbody>\n",
       "    </table>\n",
       "    <table class=\"diff\" summary=\"Legends\">\n",
       "        <tr> <th colspan=\"2\"> Legends </th> </tr>\n",
       "        <tr> <td> <table border=\"\" summary=\"Colors\">\n",
       "                      <tr><th> Colors </th> </tr>\n",
       "                      <tr><td class=\"diff_add\">&nbsp;Added&nbsp;</td></tr>\n",
       "                      <tr><td class=\"diff_chg\">Changed</td> </tr>\n",
       "                      <tr><td class=\"diff_sub\">Deleted</td> </tr>\n",
       "                  </table></td>\n",
       "             <td> <table border=\"\" summary=\"Links\">\n",
       "                      <tr><th colspan=\"2\"> Links </th> </tr>\n",
       "                      <tr><td>(f)irst change</td> </tr>\n",
       "                      <tr><td>(n)ext change</td> </tr>\n",
       "                      <tr><td>(t)op</td> </tr>\n",
       "                  </table></td> </tr>\n",
       "    </table>\n",
       "</body>\n",
       "\n",
       "</html>"
      ],
      "text/plain": [
       "<IPython.core.display.HTML object>"
      ]
     },
     "metadata": {},
     "output_type": "display_data"
    },
    {
     "data": {
      "text/markdown": [
       "---"
      ],
      "text/plain": [
       "<IPython.core.display.Markdown object>"
      ]
     },
     "metadata": {},
     "output_type": "display_data"
    },
    {
     "name": "stdout",
     "output_type": "stream",
     "text": [
      "Original game index: 47 | Negative game row: 47 | Negative game col: 691\n"
     ]
    },
    {
     "data": {
      "text/markdown": [
       "### Energy of real game: -13.028 | Energy of regrown game: -13.047 | Difference: -0.020"
      ],
      "text/plain": [
       "<IPython.core.display.Markdown object>"
      ]
     },
     "metadata": {},
     "output_type": "display_data"
    },
    {
     "data": {
      "text/markdown": [
       "### Top features changing the game's energy\n",
       "feature name: **value** = (original feature value => regrown feature value) * weight"
      ],
      "text/plain": [
       "<IPython.core.display.Markdown object>"
      ]
     },
     "metadata": {},
     "output_type": "display_data"
    },
    {
     "data": {
      "text/markdown": [
       "| Features increasing energy (= more fake)   | Features decreasing energy (= more real)                                |\n",
       "|--------------------------------------------|-------------------------------------------------------------------------|\n",
       "|                                            | ast_ngram_full_n_7_score: **-0.012** = (0.986 => 0.989) * -4.587        |\n",
       "|                                            | ast_ngram_constraints_n_7_score: **-0.008** = (0.990 => 0.992) * -3.689 |"
      ],
      "text/plain": [
       "<IPython.core.display.Markdown object>"
      ]
     },
     "metadata": {},
     "output_type": "display_data"
    },
    {
     "data": {
      "text/markdown": [
       "### Game Diffs"
      ],
      "text/plain": [
       "<IPython.core.display.Markdown object>"
      ]
     },
     "metadata": {},
     "output_type": "display_data"
    },
    {
     "data": {
      "text/html": [
       "\n",
       "<!DOCTYPE html PUBLIC \"-//W3C//DTD XHTML 1.0 Transitional//EN\"\n",
       "          \"http://www.w3.org/TR/xhtml1/DTD/xhtml1-transitional.dtd\">\n",
       "\n",
       "<html>\n",
       "\n",
       "<head>\n",
       "    <meta http-equiv=\"Content-Type\"\n",
       "          content=\"text/html; charset=utf-8\" />\n",
       "    <title></title>\n",
       "    <style type=\"text/css\">\n",
       "        table.diff {font-family:Courier; border:medium;}\n",
       "        .diff_header {background-color:#e0e0e0}\n",
       "        .diff td {text-align: left !important}\n",
       ".diff th {text-align: center!important }\n",
       ".diff td.diff_header {text-align:right !important}\n",
       "        .diff_next {background-color:#c0c0c0}\n",
       "        .diff_add {background-color: #6fa66f !important; font-weight: bold !important}\n",
       "        .diff_chg {background-color: #999949 !important; font-weight: bold !important}\n",
       "        .diff_sub {background-color: #a66f6f !important; font-weight: bold !important}\n",
       "    </style>\n",
       "</head>\n",
       "\n",
       "<body>\n",
       "    \n",
       "    <table class=\"diff\" id=\"difflib_chg_to9__top\"\n",
       "           cellspacing=\"0\" cellpadding=\"0\" rules=\"groups\" >\n",
       "        <colgroup></colgroup> <colgroup></colgroup> <colgroup></colgroup>\n",
       "        <colgroup></colgroup> <colgroup></colgroup> <colgroup></colgroup>\n",
       "        \n",
       "        <tbody>\n",
       "            <tr><td class=\"diff_next\" id=\"difflib_chg_to9__0\"><a href=\"#difflib_chg_to9__1\">n</a></td><td class=\"diff_header\" id=\"from9_1\">1</td><td nowrap=\"nowrap\">(define&nbsp;(game&nbsp;604a7e9f84bf0e7937200df5-56)&nbsp;(:domain&nbsp;few-objects-room-v1)</td><td class=\"diff_next\"><a href=\"#difflib_chg_to9__1\">n</a></td><td class=\"diff_header\" id=\"to9_1\">1</td><td nowrap=\"nowrap\">(define&nbsp;(game&nbsp;604a7e9f84bf0e7937200df5-56<span class=\"diff_add\">-691-nd-0-rd-1-rs-constraints-sk-prior11</span>)&nbsp;(:domain&nbsp;few-obje</td></tr>\n",
       "            <tr><td class=\"diff_next\"></td><td class=\"diff_header\"></td><td nowrap=\"nowrap\">&nbsp;</td><td class=\"diff_next\"></td><td class=\"diff_header\">></td><td nowrap=\"nowrap\">cts-room-v1)</td></tr>\n",
       "            <tr><td class=\"diff_next\" id=\"difflib_chg_to9__1\"></td><td class=\"diff_header\" id=\"from9_2\">2</td><td nowrap=\"nowrap\">(:constraints</td><td class=\"diff_next\"></td><td class=\"diff_header\" id=\"to9_2\">2</td><td nowrap=\"nowrap\">(:constraints</td></tr>\n",
       "            <tr><td class=\"diff_next\"></td><td class=\"diff_header\" id=\"from9_3\">3</td><td nowrap=\"nowrap\">&nbsp;&nbsp;(and</td><td class=\"diff_next\"></td><td class=\"diff_header\" id=\"to9_3\">3</td><td nowrap=\"nowrap\">&nbsp;&nbsp;(and</td></tr>\n",
       "            <tr><td class=\"diff_next\"></td><td class=\"diff_header\" id=\"from9_4\">4</td><td nowrap=\"nowrap\">&nbsp;&nbsp;&nbsp;&nbsp;(preference&nbsp;throwFromDoorToBin</td><td class=\"diff_next\"></td><td class=\"diff_header\" id=\"to9_4\">4</td><td nowrap=\"nowrap\">&nbsp;&nbsp;&nbsp;&nbsp;(preference&nbsp;throwFromDoorToBin</td></tr>\n",
       "            <tr><td class=\"diff_next\"></td><td class=\"diff_header\" id=\"from9_5\">5</td><td nowrap=\"nowrap\">&nbsp;&nbsp;&nbsp;&nbsp;&nbsp;&nbsp;(exists&nbsp;(?d&nbsp;-&nbsp;dodgeball&nbsp;?h&nbsp;-&nbsp;hexagonal_bin)</td><td class=\"diff_next\"></td><td class=\"diff_header\" id=\"to9_5\">5</td><td nowrap=\"nowrap\">&nbsp;&nbsp;&nbsp;&nbsp;&nbsp;&nbsp;(exists&nbsp;(?d&nbsp;-&nbsp;dodgeball&nbsp;?h&nbsp;-&nbsp;hexagonal_bin)</td></tr>\n",
       "            <tr><td class=\"diff_next\"></td><td class=\"diff_header\" id=\"from9_6\">6</td><td nowrap=\"nowrap\">&nbsp;&nbsp;&nbsp;&nbsp;&nbsp;&nbsp;&nbsp;&nbsp;(then</td><td class=\"diff_next\"></td><td class=\"diff_header\" id=\"to9_6\">6</td><td nowrap=\"nowrap\">&nbsp;&nbsp;&nbsp;&nbsp;&nbsp;&nbsp;&nbsp;&nbsp;(then</td></tr>\n",
       "            <tr><td class=\"diff_next\"><a href=\"#difflib_chg_to9__top\">t</a></td><td class=\"diff_header\" id=\"from9_7\">7</td><td nowrap=\"nowrap\">&nbsp;&nbsp;&nbsp;&nbsp;&nbsp;&nbsp;&nbsp;&nbsp;&nbsp;&nbsp;(once&nbsp;(and&nbsp;(agent_holds&nbsp;?d)&nbsp;(adjacent&nbsp;agent&nbsp;d<span class=\"diff_sub\">oor</span>)&nbsp;)&nbsp;)</td><td class=\"diff_next\"><a href=\"#difflib_chg_to9__top\">t</a></td><td class=\"diff_header\" id=\"to9_7\">7</td><td nowrap=\"nowrap\">&nbsp;&nbsp;&nbsp;&nbsp;&nbsp;&nbsp;&nbsp;&nbsp;&nbsp;&nbsp;(once&nbsp;(and&nbsp;(agent_holds&nbsp;?d)&nbsp;(adjacent&nbsp;agent&nbsp;<span class=\"diff_add\">be</span>d)&nbsp;)&nbsp;)</td></tr>\n",
       "            <tr><td class=\"diff_next\"></td><td class=\"diff_header\" id=\"from9_8\">8</td><td nowrap=\"nowrap\">&nbsp;&nbsp;&nbsp;&nbsp;&nbsp;&nbsp;&nbsp;&nbsp;&nbsp;&nbsp;(hold&nbsp;(and&nbsp;(not&nbsp;(agent_holds&nbsp;?d)&nbsp;)&nbsp;(in_motion&nbsp;?d)&nbsp;)&nbsp;)</td><td class=\"diff_next\"></td><td class=\"diff_header\" id=\"to9_8\">8</td><td nowrap=\"nowrap\">&nbsp;&nbsp;&nbsp;&nbsp;&nbsp;&nbsp;&nbsp;&nbsp;&nbsp;&nbsp;(hold&nbsp;(and&nbsp;(not&nbsp;(agent_holds&nbsp;?d)&nbsp;)&nbsp;(in_motion&nbsp;?d)&nbsp;)&nbsp;)</td></tr>\n",
       "            <tr><td class=\"diff_next\"></td><td class=\"diff_header\" id=\"from9_9\">9</td><td nowrap=\"nowrap\">&nbsp;&nbsp;&nbsp;&nbsp;&nbsp;&nbsp;&nbsp;&nbsp;&nbsp;&nbsp;(once&nbsp;(and&nbsp;(not&nbsp;(in_motion&nbsp;?d)&nbsp;)&nbsp;(in&nbsp;?h&nbsp;?d)&nbsp;)&nbsp;)</td><td class=\"diff_next\"></td><td class=\"diff_header\" id=\"to9_9\">9</td><td nowrap=\"nowrap\">&nbsp;&nbsp;&nbsp;&nbsp;&nbsp;&nbsp;&nbsp;&nbsp;&nbsp;&nbsp;(once&nbsp;(and&nbsp;(not&nbsp;(in_motion&nbsp;?d)&nbsp;)&nbsp;(in&nbsp;?h&nbsp;?d)&nbsp;)&nbsp;)</td></tr>\n",
       "            <tr><td class=\"diff_next\"></td><td class=\"diff_header\" id=\"from9_10\">10</td><td nowrap=\"nowrap\">&nbsp;&nbsp;&nbsp;&nbsp;&nbsp;&nbsp;&nbsp;&nbsp;)</td><td class=\"diff_next\"></td><td class=\"diff_header\" id=\"to9_10\">10</td><td nowrap=\"nowrap\">&nbsp;&nbsp;&nbsp;&nbsp;&nbsp;&nbsp;&nbsp;&nbsp;)</td></tr>\n",
       "            <tr><td class=\"diff_next\"></td><td class=\"diff_header\" id=\"from9_11\">11</td><td nowrap=\"nowrap\">&nbsp;&nbsp;&nbsp;&nbsp;&nbsp;&nbsp;)</td><td class=\"diff_next\"></td><td class=\"diff_header\" id=\"to9_11\">11</td><td nowrap=\"nowrap\">&nbsp;&nbsp;&nbsp;&nbsp;&nbsp;&nbsp;)</td></tr>\n",
       "            <tr><td class=\"diff_next\"></td><td class=\"diff_header\" id=\"from9_12\">12</td><td nowrap=\"nowrap\">&nbsp;&nbsp;&nbsp;&nbsp;)</td><td class=\"diff_next\"></td><td class=\"diff_header\" id=\"to9_12\">12</td><td nowrap=\"nowrap\">&nbsp;&nbsp;&nbsp;&nbsp;)</td></tr>\n",
       "            <tr><td class=\"diff_next\"></td><td class=\"diff_header\" id=\"from9_13\">13</td><td nowrap=\"nowrap\">&nbsp;&nbsp;&nbsp;&nbsp;(preference&nbsp;throwAttempt</td><td class=\"diff_next\"></td><td class=\"diff_header\" id=\"to9_13\">13</td><td nowrap=\"nowrap\">&nbsp;&nbsp;&nbsp;&nbsp;(preference&nbsp;throwAttempt</td></tr>\n",
       "            <tr><td class=\"diff_next\"></td><td class=\"diff_header\" id=\"from9_14\">14</td><td nowrap=\"nowrap\">&nbsp;&nbsp;&nbsp;&nbsp;&nbsp;&nbsp;(exists&nbsp;(?d&nbsp;-&nbsp;dodgeball)</td><td class=\"diff_next\"></td><td class=\"diff_header\" id=\"to9_14\">14</td><td nowrap=\"nowrap\">&nbsp;&nbsp;&nbsp;&nbsp;&nbsp;&nbsp;(exists&nbsp;(?d&nbsp;-&nbsp;dodgeball)</td></tr>\n",
       "            <tr><td class=\"diff_next\"></td><td class=\"diff_header\" id=\"from9_15\">15</td><td nowrap=\"nowrap\">&nbsp;&nbsp;&nbsp;&nbsp;&nbsp;&nbsp;&nbsp;&nbsp;(then</td><td class=\"diff_next\"></td><td class=\"diff_header\" id=\"to9_15\">15</td><td nowrap=\"nowrap\">&nbsp;&nbsp;&nbsp;&nbsp;&nbsp;&nbsp;&nbsp;&nbsp;(then</td></tr>\n",
       "            <tr><td class=\"diff_next\"></td><td class=\"diff_header\" id=\"from9_16\">16</td><td nowrap=\"nowrap\">&nbsp;&nbsp;&nbsp;&nbsp;&nbsp;&nbsp;&nbsp;&nbsp;&nbsp;&nbsp;(once&nbsp;(agent_holds&nbsp;?d)&nbsp;)</td><td class=\"diff_next\"></td><td class=\"diff_header\" id=\"to9_16\">16</td><td nowrap=\"nowrap\">&nbsp;&nbsp;&nbsp;&nbsp;&nbsp;&nbsp;&nbsp;&nbsp;&nbsp;&nbsp;(once&nbsp;(agent_holds&nbsp;?d)&nbsp;)</td></tr>\n",
       "            <tr><td class=\"diff_next\"></td><td class=\"diff_header\" id=\"from9_17\">17</td><td nowrap=\"nowrap\">&nbsp;&nbsp;&nbsp;&nbsp;&nbsp;&nbsp;&nbsp;&nbsp;&nbsp;&nbsp;(hold&nbsp;(and&nbsp;(not&nbsp;(agent_holds&nbsp;?d)&nbsp;)&nbsp;(in_motion&nbsp;?d)&nbsp;)&nbsp;)</td><td class=\"diff_next\"></td><td class=\"diff_header\" id=\"to9_17\">17</td><td nowrap=\"nowrap\">&nbsp;&nbsp;&nbsp;&nbsp;&nbsp;&nbsp;&nbsp;&nbsp;&nbsp;&nbsp;(hold&nbsp;(and&nbsp;(not&nbsp;(agent_holds&nbsp;?d)&nbsp;)&nbsp;(in_motion&nbsp;?d)&nbsp;)&nbsp;)</td></tr>\n",
       "            <tr><td class=\"diff_next\"></td><td class=\"diff_header\" id=\"from9_18\">18</td><td nowrap=\"nowrap\">&nbsp;&nbsp;&nbsp;&nbsp;&nbsp;&nbsp;&nbsp;&nbsp;&nbsp;&nbsp;(once&nbsp;(not&nbsp;(in_motion&nbsp;?d)&nbsp;)&nbsp;)</td><td class=\"diff_next\"></td><td class=\"diff_header\" id=\"to9_18\">18</td><td nowrap=\"nowrap\">&nbsp;&nbsp;&nbsp;&nbsp;&nbsp;&nbsp;&nbsp;&nbsp;&nbsp;&nbsp;(once&nbsp;(not&nbsp;(in_motion&nbsp;?d)&nbsp;)&nbsp;)</td></tr>\n",
       "            <tr><td class=\"diff_next\"></td><td class=\"diff_header\" id=\"from9_19\">19</td><td nowrap=\"nowrap\">&nbsp;&nbsp;&nbsp;&nbsp;&nbsp;&nbsp;&nbsp;&nbsp;)</td><td class=\"diff_next\"></td><td class=\"diff_header\" id=\"to9_19\">19</td><td nowrap=\"nowrap\">&nbsp;&nbsp;&nbsp;&nbsp;&nbsp;&nbsp;&nbsp;&nbsp;)</td></tr>\n",
       "            <tr><td class=\"diff_next\"></td><td class=\"diff_header\" id=\"from9_20\">20</td><td nowrap=\"nowrap\">&nbsp;&nbsp;&nbsp;&nbsp;&nbsp;&nbsp;)</td><td class=\"diff_next\"></td><td class=\"diff_header\" id=\"to9_20\">20</td><td nowrap=\"nowrap\">&nbsp;&nbsp;&nbsp;&nbsp;&nbsp;&nbsp;)</td></tr>\n",
       "            <tr><td class=\"diff_next\"></td><td class=\"diff_header\" id=\"from9_21\">21</td><td nowrap=\"nowrap\">&nbsp;&nbsp;&nbsp;&nbsp;)</td><td class=\"diff_next\"></td><td class=\"diff_header\" id=\"to9_21\">21</td><td nowrap=\"nowrap\">&nbsp;&nbsp;&nbsp;&nbsp;)</td></tr>\n",
       "            <tr><td class=\"diff_next\"></td><td class=\"diff_header\" id=\"from9_22\">22</td><td nowrap=\"nowrap\">&nbsp;&nbsp;)</td><td class=\"diff_next\"></td><td class=\"diff_header\" id=\"to9_22\">22</td><td nowrap=\"nowrap\">&nbsp;&nbsp;)</td></tr>\n",
       "            <tr><td class=\"diff_next\"></td><td class=\"diff_header\" id=\"from9_23\">23</td><td nowrap=\"nowrap\">)</td><td class=\"diff_next\"></td><td class=\"diff_header\" id=\"to9_23\">23</td><td nowrap=\"nowrap\">)</td></tr>\n",
       "            <tr><td class=\"diff_next\"></td><td class=\"diff_header\" id=\"from9_24\">24</td><td nowrap=\"nowrap\">(:terminal</td><td class=\"diff_next\"></td><td class=\"diff_header\" id=\"to9_24\">24</td><td nowrap=\"nowrap\">(:terminal</td></tr>\n",
       "            <tr><td class=\"diff_next\"></td><td class=\"diff_header\" id=\"from9_25\">25</td><td nowrap=\"nowrap\">&nbsp;&nbsp;(&gt;=&nbsp;(count&nbsp;throwAttempt)&nbsp;3&nbsp;)</td><td class=\"diff_next\"></td><td class=\"diff_header\" id=\"to9_25\">25</td><td nowrap=\"nowrap\">&nbsp;&nbsp;(&gt;=&nbsp;(count&nbsp;throwAttempt)&nbsp;3&nbsp;)</td></tr>\n",
       "            <tr><td class=\"diff_next\"></td><td class=\"diff_header\" id=\"from9_26\">26</td><td nowrap=\"nowrap\">)</td><td class=\"diff_next\"></td><td class=\"diff_header\" id=\"to9_26\">26</td><td nowrap=\"nowrap\">)</td></tr>\n",
       "            <tr><td class=\"diff_next\"></td><td class=\"diff_header\" id=\"from9_27\">27</td><td nowrap=\"nowrap\">(:scoring</td><td class=\"diff_next\"></td><td class=\"diff_header\" id=\"to9_27\">27</td><td nowrap=\"nowrap\">(:scoring</td></tr>\n",
       "            <tr><td class=\"diff_next\"></td><td class=\"diff_header\" id=\"from9_28\">28</td><td nowrap=\"nowrap\">&nbsp;&nbsp;(count&nbsp;throwFromDoorToBin)</td><td class=\"diff_next\"></td><td class=\"diff_header\" id=\"to9_28\">28</td><td nowrap=\"nowrap\">&nbsp;&nbsp;(count&nbsp;throwFromDoorToBin)</td></tr>\n",
       "            <tr><td class=\"diff_next\"></td><td class=\"diff_header\" id=\"from9_29\">29</td><td nowrap=\"nowrap\">)</td><td class=\"diff_next\"></td><td class=\"diff_header\" id=\"to9_29\">29</td><td nowrap=\"nowrap\">)</td></tr>\n",
       "            <tr><td class=\"diff_next\"></td><td class=\"diff_header\" id=\"from9_30\">30</td><td nowrap=\"nowrap\">)</td><td class=\"diff_next\"></td><td class=\"diff_header\" id=\"to9_30\">30</td><td nowrap=\"nowrap\">)</td></tr>\n",
       "        </tbody>\n",
       "    </table>\n",
       "    <table class=\"diff\" summary=\"Legends\">\n",
       "        <tr> <th colspan=\"2\"> Legends </th> </tr>\n",
       "        <tr> <td> <table border=\"\" summary=\"Colors\">\n",
       "                      <tr><th> Colors </th> </tr>\n",
       "                      <tr><td class=\"diff_add\">&nbsp;Added&nbsp;</td></tr>\n",
       "                      <tr><td class=\"diff_chg\">Changed</td> </tr>\n",
       "                      <tr><td class=\"diff_sub\">Deleted</td> </tr>\n",
       "                  </table></td>\n",
       "             <td> <table border=\"\" summary=\"Links\">\n",
       "                      <tr><th colspan=\"2\"> Links </th> </tr>\n",
       "                      <tr><td>(f)irst change</td> </tr>\n",
       "                      <tr><td>(n)ext change</td> </tr>\n",
       "                      <tr><td>(t)op</td> </tr>\n",
       "                  </table></td> </tr>\n",
       "    </table>\n",
       "</body>\n",
       "\n",
       "</html>"
      ],
      "text/plain": [
       "<IPython.core.display.HTML object>"
      ]
     },
     "metadata": {},
     "output_type": "display_data"
    },
    {
     "data": {
      "text/markdown": [
       "---"
      ],
      "text/plain": [
       "<IPython.core.display.Markdown object>"
      ]
     },
     "metadata": {},
     "output_type": "display_data"
    }
   ],
   "source": [
    "N_NEGATIVES = 10\n",
    "for index in torch.topk(negatives_scores.ravel(), N_NEGATIVES, largest=False).indices:\n",
    "    utils.evaluate_energy_contributions(cv_energy_model, full_tensor, index, \n",
    "        feature_columns, full_tensor, real_game_texts, regrown_game_1024_texts, display_features_diff=False)\n",
    "    \n",
    "    display(Markdown('---'))"
   ]
  },
  {
   "attachments": {},
   "cell_type": "markdown",
   "metadata": {},
   "source": [
    "## If we never need to load a featurizer for anything\n"
   ]
  },
  {
   "cell_type": "code",
   "execution_count": null,
   "metadata": {},
   "outputs": [],
   "source": [
    "from src.fitness_features import *\n",
    "with gzip.open('../models/fitness_featurizer_2023_02_14.pkl.gz', 'rb') as f:\n",
    "    featurizer = pickle.load(f)  # type: ignore"
   ]
  },
  {
   "attachments": {},
   "cell_type": "markdown",
   "metadata": {},
   "source": [
    "## Analyzing the role of different variables on the difficulty of the negative"
   ]
  },
  {
   "cell_type": "code",
   "execution_count": 22,
   "metadata": {},
   "outputs": [],
   "source": [
    "NEGATIVE_DIFFICULTY_COLUMNS = [\n",
    "    'game_name', 'regrowth_index', \n",
    "    'original_game_name', 'original_game_index', \n",
    "    'node_depth', 'regrowth_depth', \n",
    "    'regrowth_section', 'regrowth_sampler', \n",
    "    'score_diff'\n",
    "]\n",
    "\n",
    "def apply_and_concat(dataframe, field, func, column_names):\n",
    "    return pd.concat((\n",
    "        dataframe,\n",
    "        dataframe[field].apply(\n",
    "            lambda cell: pd.Series(func(cell), index=column_names))), axis=1)\n",
    "\n",
    "\n",
    "game_name_to_index = {game_name: i for i, game_name in enumerate(data_df.loc[data_df.real == 1, 'game_name'])}\n",
    "\n",
    "\n",
    "def extract_info_from_game_name(game_name: str):\n",
    "    i = utils._find_nth(game_name, '-', 2)\n",
    "    original_game_name, regrowth_info = game_name[:i], game_name[i + 1:]\n",
    "    regrowth_index, _, node_depth, _, regrowth_depth, _, regrowth_section, _, regrowth_sampler = regrowth_info.split('-')\n",
    "    regrowth_index = int(regrowth_index)\n",
    "    node_depth = int(node_depth)\n",
    "    regrowth_depth = int(regrowth_depth)\n",
    "    original_game_index = game_name_to_index[original_game_name]\n",
    "    score_diff = score_diffs[original_game_index, regrowth_index].item()\n",
    "    return [regrowth_index, original_game_name, original_game_index, node_depth, regrowth_depth, regrowth_section, regrowth_sampler, score_diff]\n",
    "\n",
    "\n",
    "negative_difficulty_df = data_df.loc[data_df.real == 0, ['game_name']]\n",
    "negative_difficulty_df = apply_and_concat(negative_difficulty_df, 'game_name', extract_info_from_game_name, NEGATIVE_DIFFICULTY_COLUMNS[1:])\n",
    "\n",
    "\n"
   ]
  },
  {
   "cell_type": "code",
   "execution_count": 23,
   "metadata": {},
   "outputs": [
    {
     "data": {
      "text/html": [
       "<div>\n",
       "<style scoped>\n",
       "    .dataframe tbody tr th:only-of-type {\n",
       "        vertical-align: middle;\n",
       "    }\n",
       "\n",
       "    .dataframe tbody tr th {\n",
       "        vertical-align: top;\n",
       "    }\n",
       "\n",
       "    .dataframe thead th {\n",
       "        text-align: right;\n",
       "    }\n",
       "</style>\n",
       "<table border=\"1\" class=\"dataframe\">\n",
       "  <thead>\n",
       "    <tr style=\"text-align: right;\">\n",
       "      <th></th>\n",
       "      <th>game_name</th>\n",
       "      <th>regrowth_index</th>\n",
       "      <th>original_game_name</th>\n",
       "      <th>original_game_index</th>\n",
       "      <th>node_depth</th>\n",
       "      <th>regrowth_depth</th>\n",
       "      <th>regrowth_section</th>\n",
       "      <th>regrowth_sampler</th>\n",
       "      <th>score_diff</th>\n",
       "    </tr>\n",
       "  </thead>\n",
       "  <tbody>\n",
       "    <tr>\n",
       "      <th>98</th>\n",
       "      <td>6172feb1665491d1efbce164-0-0-nd-0-rd-11-rs-con...</td>\n",
       "      <td>0</td>\n",
       "      <td>6172feb1665491d1efbce164-0</td>\n",
       "      <td>0</td>\n",
       "      <td>0</td>\n",
       "      <td>11</td>\n",
       "      <td>constraints</td>\n",
       "      <td>prior6</td>\n",
       "      <td>2.612782</td>\n",
       "    </tr>\n",
       "    <tr>\n",
       "      <th>99</th>\n",
       "      <td>6172feb1665491d1efbce164-0-1-nd-0-rd-2-rs-cons...</td>\n",
       "      <td>1</td>\n",
       "      <td>6172feb1665491d1efbce164-0</td>\n",
       "      <td>0</td>\n",
       "      <td>0</td>\n",
       "      <td>2</td>\n",
       "      <td>constraints</td>\n",
       "      <td>prior11</td>\n",
       "      <td>1.650719</td>\n",
       "    </tr>\n",
       "    <tr>\n",
       "      <th>100</th>\n",
       "      <td>6172feb1665491d1efbce164-0-2-nd-0-rd-6-rs-cons...</td>\n",
       "      <td>2</td>\n",
       "      <td>6172feb1665491d1efbce164-0</td>\n",
       "      <td>0</td>\n",
       "      <td>0</td>\n",
       "      <td>6</td>\n",
       "      <td>constraints</td>\n",
       "      <td>prior11</td>\n",
       "      <td>1.099400</td>\n",
       "    </tr>\n",
       "    <tr>\n",
       "      <th>101</th>\n",
       "      <td>6172feb1665491d1efbce164-0-3-nd-0-rd-2-rs-cons...</td>\n",
       "      <td>3</td>\n",
       "      <td>6172feb1665491d1efbce164-0</td>\n",
       "      <td>0</td>\n",
       "      <td>0</td>\n",
       "      <td>2</td>\n",
       "      <td>constraints</td>\n",
       "      <td>prior1</td>\n",
       "      <td>0.463734</td>\n",
       "    </tr>\n",
       "    <tr>\n",
       "      <th>102</th>\n",
       "      <td>6172feb1665491d1efbce164-0-4-nd-0-rd-2-rs-scor...</td>\n",
       "      <td>4</td>\n",
       "      <td>6172feb1665491d1efbce164-0</td>\n",
       "      <td>0</td>\n",
       "      <td>0</td>\n",
       "      <td>2</td>\n",
       "      <td>scoring</td>\n",
       "      <td>prior11</td>\n",
       "      <td>2.484861</td>\n",
       "    </tr>\n",
       "  </tbody>\n",
       "</table>\n",
       "</div>"
      ],
      "text/plain": [
       "                                             game_name  regrowth_index  \\\n",
       "98   6172feb1665491d1efbce164-0-0-nd-0-rd-11-rs-con...               0   \n",
       "99   6172feb1665491d1efbce164-0-1-nd-0-rd-2-rs-cons...               1   \n",
       "100  6172feb1665491d1efbce164-0-2-nd-0-rd-6-rs-cons...               2   \n",
       "101  6172feb1665491d1efbce164-0-3-nd-0-rd-2-rs-cons...               3   \n",
       "102  6172feb1665491d1efbce164-0-4-nd-0-rd-2-rs-scor...               4   \n",
       "\n",
       "             original_game_name  original_game_index  node_depth  \\\n",
       "98   6172feb1665491d1efbce164-0                    0           0   \n",
       "99   6172feb1665491d1efbce164-0                    0           0   \n",
       "100  6172feb1665491d1efbce164-0                    0           0   \n",
       "101  6172feb1665491d1efbce164-0                    0           0   \n",
       "102  6172feb1665491d1efbce164-0                    0           0   \n",
       "\n",
       "     regrowth_depth regrowth_section regrowth_sampler  score_diff  \n",
       "98               11      constraints           prior6    2.612782  \n",
       "99                2      constraints          prior11    1.650719  \n",
       "100               6      constraints          prior11    1.099400  \n",
       "101               2      constraints           prior1    0.463734  \n",
       "102               2          scoring          prior11    2.484861  "
      ]
     },
     "execution_count": 23,
     "metadata": {},
     "output_type": "execute_result"
    }
   ],
   "source": [
    "negative_difficulty_df.head()"
   ]
  },
  {
   "cell_type": "code",
   "execution_count": 24,
   "metadata": {},
   "outputs": [
    {
     "data": {
      "text/html": [
       "<div>\n",
       "<style scoped>\n",
       "    .dataframe tbody tr th:only-of-type {\n",
       "        vertical-align: middle;\n",
       "    }\n",
       "\n",
       "    .dataframe tbody tr th {\n",
       "        vertical-align: top;\n",
       "    }\n",
       "\n",
       "    .dataframe thead th {\n",
       "        text-align: right;\n",
       "    }\n",
       "</style>\n",
       "<table border=\"1\" class=\"dataframe\">\n",
       "  <thead>\n",
       "    <tr style=\"text-align: right;\">\n",
       "      <th></th>\n",
       "      <th>count</th>\n",
       "      <th>mean</th>\n",
       "      <th>std</th>\n",
       "      <th>min</th>\n",
       "      <th>25%</th>\n",
       "      <th>50%</th>\n",
       "      <th>75%</th>\n",
       "      <th>max</th>\n",
       "    </tr>\n",
       "    <tr>\n",
       "      <th>regrowth_sampler</th>\n",
       "      <th></th>\n",
       "      <th></th>\n",
       "      <th></th>\n",
       "      <th></th>\n",
       "      <th></th>\n",
       "      <th></th>\n",
       "      <th></th>\n",
       "      <th></th>\n",
       "    </tr>\n",
       "  </thead>\n",
       "  <tbody>\n",
       "    <tr>\n",
       "      <th>prior1</th>\n",
       "      <td>33030.0</td>\n",
       "      <td>2.200065</td>\n",
       "      <td>1.877996</td>\n",
       "      <td>-0.102121</td>\n",
       "      <td>1.028222</td>\n",
       "      <td>1.780379</td>\n",
       "      <td>2.682148</td>\n",
       "      <td>14.779183</td>\n",
       "    </tr>\n",
       "    <tr>\n",
       "      <th>prior11</th>\n",
       "      <td>33940.0</td>\n",
       "      <td>2.213680</td>\n",
       "      <td>1.967026</td>\n",
       "      <td>-0.184923</td>\n",
       "      <td>0.993925</td>\n",
       "      <td>1.788311</td>\n",
       "      <td>2.670868</td>\n",
       "      <td>15.547342</td>\n",
       "    </tr>\n",
       "    <tr>\n",
       "      <th>prior6</th>\n",
       "      <td>33382.0</td>\n",
       "      <td>2.232810</td>\n",
       "      <td>1.965424</td>\n",
       "      <td>-0.060670</td>\n",
       "      <td>0.999752</td>\n",
       "      <td>1.794206</td>\n",
       "      <td>2.684148</td>\n",
       "      <td>15.190678</td>\n",
       "    </tr>\n",
       "  </tbody>\n",
       "</table>\n",
       "</div>"
      ],
      "text/plain": [
       "                    count      mean       std       min       25%       50%  \\\n",
       "regrowth_sampler                                                              \n",
       "prior1            33030.0  2.200065  1.877996 -0.102121  1.028222  1.780379   \n",
       "prior11           33940.0  2.213680  1.967026 -0.184923  0.993925  1.788311   \n",
       "prior6            33382.0  2.232810  1.965424 -0.060670  0.999752  1.794206   \n",
       "\n",
       "                       75%        max  \n",
       "regrowth_sampler                       \n",
       "prior1            2.682148  14.779183  \n",
       "prior11           2.670868  15.547342  \n",
       "prior6            2.684148  15.190678  "
      ]
     },
     "execution_count": 24,
     "metadata": {},
     "output_type": "execute_result"
    }
   ],
   "source": [
    "negative_difficulty_df.groupby('regrowth_sampler').score_diff.describe()"
   ]
  },
  {
   "cell_type": "code",
   "execution_count": 25,
   "metadata": {},
   "outputs": [
    {
     "data": {
      "text/html": [
       "<div>\n",
       "<style scoped>\n",
       "    .dataframe tbody tr th:only-of-type {\n",
       "        vertical-align: middle;\n",
       "    }\n",
       "\n",
       "    .dataframe tbody tr th {\n",
       "        vertical-align: top;\n",
       "    }\n",
       "\n",
       "    .dataframe thead th {\n",
       "        text-align: right;\n",
       "    }\n",
       "</style>\n",
       "<table border=\"1\" class=\"dataframe\">\n",
       "  <thead>\n",
       "    <tr style=\"text-align: right;\">\n",
       "      <th></th>\n",
       "      <th>count</th>\n",
       "      <th>mean</th>\n",
       "      <th>std</th>\n",
       "      <th>min</th>\n",
       "      <th>25%</th>\n",
       "      <th>50%</th>\n",
       "      <th>75%</th>\n",
       "      <th>max</th>\n",
       "    </tr>\n",
       "    <tr>\n",
       "      <th>regrowth_section</th>\n",
       "      <th></th>\n",
       "      <th></th>\n",
       "      <th></th>\n",
       "      <th></th>\n",
       "      <th></th>\n",
       "      <th></th>\n",
       "      <th></th>\n",
       "      <th></th>\n",
       "    </tr>\n",
       "  </thead>\n",
       "  <tbody>\n",
       "    <tr>\n",
       "      <th>constraints</th>\n",
       "      <td>53043.0</td>\n",
       "      <td>2.545462</td>\n",
       "      <td>2.410130</td>\n",
       "      <td>-0.184923</td>\n",
       "      <td>0.758720</td>\n",
       "      <td>1.754314</td>\n",
       "      <td>3.489034</td>\n",
       "      <td>15.547342</td>\n",
       "    </tr>\n",
       "    <tr>\n",
       "      <th>scoring</th>\n",
       "      <td>24057.0</td>\n",
       "      <td>1.786961</td>\n",
       "      <td>0.837501</td>\n",
       "      <td>-0.102121</td>\n",
       "      <td>1.228213</td>\n",
       "      <td>1.795181</td>\n",
       "      <td>2.314726</td>\n",
       "      <td>6.539767</td>\n",
       "    </tr>\n",
       "    <tr>\n",
       "      <th>setup</th>\n",
       "      <td>12763.0</td>\n",
       "      <td>1.795387</td>\n",
       "      <td>1.450434</td>\n",
       "      <td>-0.035503</td>\n",
       "      <td>0.626938</td>\n",
       "      <td>1.623821</td>\n",
       "      <td>2.374412</td>\n",
       "      <td>9.703495</td>\n",
       "    </tr>\n",
       "    <tr>\n",
       "      <th>terminal</th>\n",
       "      <td>10489.0</td>\n",
       "      <td>2.041538</td>\n",
       "      <td>1.077643</td>\n",
       "      <td>-0.017662</td>\n",
       "      <td>1.458140</td>\n",
       "      <td>2.017538</td>\n",
       "      <td>2.622710</td>\n",
       "      <td>6.728174</td>\n",
       "    </tr>\n",
       "  </tbody>\n",
       "</table>\n",
       "</div>"
      ],
      "text/plain": [
       "                    count      mean       std       min       25%       50%  \\\n",
       "regrowth_section                                                              \n",
       "constraints       53043.0  2.545462  2.410130 -0.184923  0.758720  1.754314   \n",
       "scoring           24057.0  1.786961  0.837501 -0.102121  1.228213  1.795181   \n",
       "setup             12763.0  1.795387  1.450434 -0.035503  0.626938  1.623821   \n",
       "terminal          10489.0  2.041538  1.077643 -0.017662  1.458140  2.017538   \n",
       "\n",
       "                       75%        max  \n",
       "regrowth_section                       \n",
       "constraints       3.489034  15.547342  \n",
       "scoring           2.314726   6.539767  \n",
       "setup             2.374412   9.703495  \n",
       "terminal          2.622710   6.728174  "
      ]
     },
     "execution_count": 25,
     "metadata": {},
     "output_type": "execute_result"
    }
   ],
   "source": [
    "negative_difficulty_df.groupby('regrowth_section').score_diff.describe()"
   ]
  },
  {
   "cell_type": "code",
   "execution_count": 37,
   "metadata": {},
   "outputs": [],
   "source": [
    "def sem(x):\n",
    "    return np.std(x) / np.sqrt(len(x))\n",
    "\n",
    "regrowth_depth_impact = negative_difficulty_df.groupby('regrowth_depth').score_diff.agg(['mean', sem])"
   ]
  },
  {
   "cell_type": "code",
   "execution_count": 41,
   "metadata": {},
   "outputs": [
    {
     "data": {
      "text/plain": [
       "Text(0.5, 1.0, 'Mean energy difference by regrown tree depth')"
      ]
     },
     "execution_count": 41,
     "metadata": {},
     "output_type": "execute_result"
    },
    {
     "data": {
      "image/png": "[encoded data removed]",
      "text/plain": [
       "<Figure size 640x480 with 1 Axes>"
      ]
     },
     "metadata": {},
     "output_type": "display_data"
    }
   ],
   "source": [
    "\n",
    "plt.plot(regrowth_depth_impact.index.values, regrowth_depth_impact['mean'].values, 'o', linestyle='-')\n",
    "plt.errorbar(regrowth_depth_impact.index.values, regrowth_depth_impact['mean'].values, regrowth_depth_impact['sem'].values, linestyle='None')\n",
    "plt.xlabel('Regrown tree depth')\n",
    "plt.ylabel('Mean energy difference (lower is harder)')\n",
    "plt.title('Mean energy difference by regrown tree depth')\n",
    "# regrowth_depth_impact['mean']"
   ]
  }
 ],
 "metadata": {
  "kernelspec": {
   "display_name": "game-gen",
   "language": "python",
   "name": "python3"
  },
  "language_info": {
   "codemirror_mode": {
    "name": "ipython",
    "version": 3
   },
   "file_extension": ".py",
   "mimetype": "text/x-python",
   "name": "python",
   "nbconvert_exporter": "python",
   "pygments_lexer": "ipython3",
   "version": "3.10.8"
  },
  "orig_nbformat": 4,
  "vscode": {
   "interpreter": {
    "hash": "a8b8c8d5c21b7aee7bd0053f69e9c255c013bbea7031fbef7e66d58dd46c0fa6"
   }
  }
 },
 "nbformat": 4,
 "nbformat_minor": 2
}
