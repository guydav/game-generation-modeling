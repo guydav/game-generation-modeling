{
 "cells": [
  {
   "cell_type": "code",
   "execution_count": 1,
   "metadata": {},
   "outputs": [],
   "source": [
    "%autoreload 2"
   ]
  },
  {
   "cell_type": "code",
   "execution_count": 45,
   "metadata": {},
   "outputs": [],
   "source": [
    "from argparse import Namespace\n",
    "from collections import defaultdict\n",
    "import copy\n",
    "from datetime import datetime\n",
    "import difflib\n",
    "import gzip\n",
    "import itertools\n",
    "import os\n",
    "import pickle\n",
    "import sys\n",
    "import typing\n",
    "\n",
    "from IPython.display import display, Markdown, HTML  # type: ignore\n",
    "import matplotlib\n",
    "import matplotlib.pyplot as plt\n",
    "import numpy as np\n",
    "import pandas as pd\n",
    "import polars as pl\n",
    "import tatsu\n",
    "import tqdm.notebook as tqdmn\n",
    "\n",
    "\n",
    "sys.path.append(os.path.abspath('..'))\n",
    "sys.path.append(os.path.abspath('../reward-machine'))\n",
    "\n",
    "import compile_predicate_statistics\n",
    "import compile_predicate_statistics_split_args"
   ]
  },
  {
   "cell_type": "code",
   "execution_count": 41,
   "metadata": {},
   "outputs": [
    {
     "name": "stdout",
     "output_type": "stream",
     "text": [
      "Loaded data with shape (43521, 6) from /Users/guydavidson/projects/game-generation-modeling/reward-machine/caches/predicate_statistics.pkl\n",
      "Loaded data with shape (43521, 8) from /Users/guydavidson/projects/game-generation-modeling/reward-machine/caches/predicate_statistics_split_args.pkl\n"
     ]
    }
   ],
   "source": [
    "cache_dir = compile_predicate_statistics.get_project_dir() + '/reward-machine/caches'\n",
    "\n",
    "regular_df = pd.read_pickle(os.path.join(cache_dir, 'predicate_statistics.pkl'))\n",
    "split_args_df = pd.read_pickle(os.path.join(cache_dir, 'predicate_statistics_split_args.pkl'))\n",
    "\n",
    "stats = compile_predicate_statistics.CommonSensePredicateStatistics(cache_dir)\n",
    "split_args_stats = compile_predicate_statistics_split_args.CommonSensePredicateStatisticsSplitArgs(cache_dir)"
   ]
  },
  {
   "cell_type": "markdown",
   "metadata": {},
   "source": [
    "Debugging `(and (not (in_motion ?b)) (in ?h ?b)))`"
   ]
  },
  {
   "cell_type": "code",
   "execution_count": 26,
   "metadata": {},
   "outputs": [
    {
     "data": {
      "text/html": [
       "<div>\n",
       "<style scoped>\n",
       "    .dataframe tbody tr th:only-of-type {\n",
       "        vertical-align: middle;\n",
       "    }\n",
       "\n",
       "    .dataframe tbody tr th {\n",
       "        vertical-align: top;\n",
       "    }\n",
       "\n",
       "    .dataframe thead th {\n",
       "        text-align: right;\n",
       "    }\n",
       "</style>\n",
       "<table border=\"1\" class=\"dataframe\">\n",
       "  <thead>\n",
       "    <tr style=\"text-align: right;\">\n",
       "      <th></th>\n",
       "      <th>predicate</th>\n",
       "      <th>arg_ids</th>\n",
       "      <th>arg_types</th>\n",
       "      <th>trace_id</th>\n",
       "      <th>domain</th>\n",
       "      <th>intervals</th>\n",
       "    </tr>\n",
       "  </thead>\n",
       "  <tbody>\n",
       "    <tr>\n",
       "      <th>21566</th>\n",
       "      <td>in</td>\n",
       "      <td>(GarbageCan|+00.75|-00.03|-02.74, Dodgeball|+0...</td>\n",
       "      <td>(garbagecan, dodgeball)</td>\n",
       "      <td>7r4cgxJHzLJooFaMG1Rd-gameplay-attempt-1-rereco...</td>\n",
       "      <td>many</td>\n",
       "      <td>[[3304, 3640]]</td>\n",
       "    </tr>\n",
       "  </tbody>\n",
       "</table>\n",
       "</div>"
      ],
      "text/plain": [
       "      predicate                                            arg_ids  \\\n",
       "21566        in  (GarbageCan|+00.75|-00.03|-02.74, Dodgeball|+0...   \n",
       "\n",
       "                     arg_types  \\\n",
       "21566  (garbagecan, dodgeball)   \n",
       "\n",
       "                                                trace_id domain  \\\n",
       "21566  7r4cgxJHzLJooFaMG1Rd-gameplay-attempt-1-rereco...   many   \n",
       "\n",
       "            intervals  \n",
       "21566  [[3304, 3640]]  "
      ]
     },
     "execution_count": 26,
     "metadata": {},
     "output_type": "execute_result"
    }
   ],
   "source": [
    "trace_id = '7r4cgxJHzLJooFaMG1Rd-gameplay-attempt-1-rerecorded'\n",
    "ball_id = 'Dodgeball|+00.19|+01.13|-02.80'\n",
    "bin_id = 'GarbageCan|+00.75|-00.03|-02.74'\n",
    "arg_ids = (bin_id, ball_id)\n",
    "mapping = {'?b': ['ball'], '?h': ['hexagonal_bin']}\n",
    "arg_types = ('garbagecan' ,'dodgeball')\n",
    "regular_df[(regular_df.trace_id == trace_id) & (regular_df.predicate == 'in') & (regular_df.arg_ids == arg_ids)]"
   ]
  },
  {
   "cell_type": "code",
   "execution_count": 56,
   "metadata": {},
   "outputs": [
    {
     "data": {
      "text/plain": [
       "[[1, 4]]"
      ]
     },
     "execution_count": 56,
     "metadata": {},
     "output_type": "execute_result"
    }
   ],
   "source": [
    "stats._union_intervals([[1, 2], [3, 4]], [])"
   ]
  },
  {
   "cell_type": "code",
   "execution_count": 34,
   "metadata": {},
   "outputs": [
    {
     "data": {
      "text/plain": [
       "[[0, 519],\n",
       " [559, 598],\n",
       " [624, 726],\n",
       " [730, 1190],\n",
       " [1191, 1623],\n",
       " [1679, 1884],\n",
       " [1924, 2081],\n",
       " [2090, 2312],\n",
       " [2367, 2474],\n",
       " [2568, 2946],\n",
       " [2985, 3054],\n",
       " [3118, 3145],\n",
       " [3176, 3200],\n",
       " [3256, 3289],\n",
       " [3311, 3312],\n",
       " [3327, 3537],\n",
       " [3538, 3640]]"
      ]
     },
     "execution_count": 34,
     "metadata": {},
     "output_type": "execute_result"
    }
   ],
   "source": [
    "stats._invert_intervals(regular_df[(regular_df.trace_id == trace_id) & (regular_df.predicate == 'in_motion') & (regular_df.arg_ids == (ball_id,))].intervals.values[0],\n",
    "                        stats.trace_lengths[trace_id])"
   ]
  },
  {
   "cell_type": "code",
   "execution_count": 36,
   "metadata": {},
   "outputs": [
    {
     "data": {
      "text/html": [
       "<div>\n",
       "<style scoped>\n",
       "    .dataframe tbody tr th:only-of-type {\n",
       "        vertical-align: middle;\n",
       "    }\n",
       "\n",
       "    .dataframe tbody tr th {\n",
       "        vertical-align: top;\n",
       "    }\n",
       "\n",
       "    .dataframe thead th {\n",
       "        text-align: right;\n",
       "    }\n",
       "</style>\n",
       "<table border=\"1\" class=\"dataframe\">\n",
       "  <thead>\n",
       "    <tr style=\"text-align: right;\">\n",
       "      <th></th>\n",
       "      <th>predicate</th>\n",
       "      <th>arg_1_id</th>\n",
       "      <th>arg_1_type</th>\n",
       "      <th>arg_2_id</th>\n",
       "      <th>arg_2_type</th>\n",
       "      <th>trace_id</th>\n",
       "      <th>domain</th>\n",
       "      <th>intervals</th>\n",
       "    </tr>\n",
       "  </thead>\n",
       "  <tbody>\n",
       "    <tr>\n",
       "      <th>21566</th>\n",
       "      <td>in</td>\n",
       "      <td>GarbageCan|+00.75|-00.03|-02.74</td>\n",
       "      <td>garbagecan</td>\n",
       "      <td>Dodgeball|+00.19|+01.13|-02.80</td>\n",
       "      <td>dodgeball</td>\n",
       "      <td>7r4cgxJHzLJooFaMG1Rd-gameplay-attempt-1-rereco...</td>\n",
       "      <td>many</td>\n",
       "      <td>[[3304, 3640]]</td>\n",
       "    </tr>\n",
       "  </tbody>\n",
       "</table>\n",
       "</div>"
      ],
      "text/plain": [
       "      predicate                         arg_1_id  arg_1_type  \\\n",
       "21566        in  GarbageCan|+00.75|-00.03|-02.74  garbagecan   \n",
       "\n",
       "                             arg_2_id arg_2_type  \\\n",
       "21566  Dodgeball|+00.19|+01.13|-02.80  dodgeball   \n",
       "\n",
       "                                                trace_id domain  \\\n",
       "21566  7r4cgxJHzLJooFaMG1Rd-gameplay-attempt-1-rereco...   many   \n",
       "\n",
       "            intervals  \n",
       "21566  [[3304, 3640]]  "
      ]
     },
     "execution_count": 36,
     "metadata": {},
     "output_type": "execute_result"
    }
   ],
   "source": [
    "split_args_df[(split_args_df.trace_id == trace_id) & (split_args_df.predicate == 'in') & (split_args_df.arg_1_id == bin_id) & (split_args_df.arg_2_id == ball_id)]"
   ]
  },
  {
   "cell_type": "code",
   "execution_count": 43,
   "metadata": {},
   "outputs": [
    {
     "data": {
      "text/plain": [
       "[[0, 519],\n",
       " [559, 598],\n",
       " [624, 726],\n",
       " [730, 1190],\n",
       " [1191, 1623],\n",
       " [1679, 1884],\n",
       " [1924, 2081],\n",
       " [2090, 2312],\n",
       " [2367, 2474],\n",
       " [2568, 2946],\n",
       " [2985, 3054],\n",
       " [3118, 3145],\n",
       " [3176, 3200],\n",
       " [3256, 3289],\n",
       " [3311, 3312],\n",
       " [3327, 3537],\n",
       " [3538, 3640]]"
      ]
     },
     "execution_count": 43,
     "metadata": {},
     "output_type": "execute_result"
    }
   ],
   "source": [
    "ball_not_in_motion_int = split_args_stats._invert_intervals(\n",
    "    split_args_df[(split_args_df.trace_id == trace_id) & (split_args_df.predicate == 'in_motion') & (split_args_df.arg_1_id == ball_id)].intervals.values[0],\n",
    "    split_args_stats.trace_lengths_and_domains[trace_id][0],\n",
    ")\n",
    "\n",
    "ball_not_in_motion_int"
   ]
  },
  {
   "cell_type": "code",
   "execution_count": 44,
   "metadata": {},
   "outputs": [
    {
     "data": {
      "text/plain": [
       "[[3311, 3312], [3327, 3537], [3538, 3640]]"
      ]
     },
     "execution_count": 44,
     "metadata": {},
     "output_type": "execute_result"
    }
   ],
   "source": [
    "ball_in_bin_int = split_args_df[(split_args_df.trace_id == trace_id) & (split_args_df.predicate == 'in') & (split_args_df.arg_1_id == bin_id) & (split_args_df.arg_2_id == ball_id)].intervals.values[0]\n",
    "\n",
    "split_args_stats._intersect_intervals(ball_in_bin_int, ball_not_in_motion_int)"
   ]
  },
  {
   "cell_type": "code",
   "execution_count": 47,
   "metadata": {},
   "outputs": [
    {
     "name": "stdout",
     "output_type": "stream",
     "text": [
      "Loaded data with shape (43521, 8) from /Users/guydavidson/projects/game-generation-modeling/reward-machine/caches/predicate_statistics_split_args.pkl\n"
     ]
    },
    {
     "data": {
      "text/plain": [
       "(901, 8)"
      ]
     },
     "execution_count": 47,
     "metadata": {},
     "output_type": "execute_result"
    }
   ],
   "source": [
    "single_trace_split_args_df = split_args_df[split_args_df['trace_id'] == trace_id]\n",
    "\n",
    "single_trace_split_args_stats = compile_predicate_statistics_split_args.CommonSensePredicateStatisticsSplitArgs(cache_dir)\n",
    "single_trace_split_args_stats.data = pl.from_pandas(single_trace_split_args_df)\n",
    "single_trace_split_args_stats.data.shape"
   ]
  },
  {
   "cell_type": "code",
   "execution_count": 49,
   "metadata": {},
   "outputs": [],
   "source": [
    "DEFAULT_GRAMMAR_PATH = \"../dsl/dsl.ebnf\"\n",
    "grammar = open(DEFAULT_GRAMMAR_PATH).read()\n",
    "grammar_parser = typing.cast(tatsu.grammars.Grammar, tatsu.compile(grammar))\n",
    "\n",
    "game = open(compile_predicate_statistics.get_project_dir() + '/reward-machine/games/ball_to_bin_from_bed.txt').read()\n",
    "game_ast = grammar_parser.parse(game) \n",
    "\n",
    "test_pred_1 = game_ast[4][1]['preferences'][0]['definition']['forall_pref']['preferences']['pref_body']['body']['exists_args']['then_funcs'][1]['seq_func']['hold_pred']\n",
    "\n",
    "# should be: (and (not (in_motion ?b)) (in ?h ?b)))\n",
    "test_pred_2 = game_ast[4][1]['preferences'][0]['definition']['forall_pref']['preferences']['pref_body']['body']['exists_args']['then_funcs'][2]['seq_func']['once_pred']"
   ]
  },
  {
   "cell_type": "code",
   "execution_count": 55,
   "metadata": {},
   "outputs": [
    {
     "data": {
      "text/plain": [
       "{('7r4cgxJHzLJooFaMG1Rd-gameplay-attempt-1-rerecorded',\n",
       "  ('?b->Dodgeball|+00.19|+01.13|-02.80',\n",
       "   '?h->GarbageCan|+00.75|-00.03|-02.74')): [[3327, 3537], [3538, 3640]],\n",
       " ('7r4cgxJHzLJooFaMG1Rd-gameplay-attempt-1-rerecorded',\n",
       "  ('?b->Dodgeball|+00.70|+01.11|-02.80',\n",
       "   '?h->GarbageCan|+00.75|-00.03|-02.74')): [[2530, 3205],\n",
       "  [3207, 3295],\n",
       "  [3311, 3314],\n",
       "  [3327, 3537],\n",
       "  [3547, 3640]]}"
      ]
     },
     "execution_count": 55,
     "metadata": {},
     "output_type": "execute_result"
    }
   ],
   "source": [
    "test_mapping = {\"?b\": [\"ball\"], \"?h\": [\"hexagonal_bin\"]}\n",
    "test_out = single_trace_split_args_stats.filter(test_pred_2, test_mapping)\n",
    "test_out"
   ]
  }
 ],
 "metadata": {
  "kernelspec": {
   "display_name": "game-gen",
   "language": "python",
   "name": "python3"
  },
  "language_info": {
   "codemirror_mode": {
    "name": "ipython",
    "version": 3
   },
   "file_extension": ".py",
   "mimetype": "text/x-python",
   "name": "python",
   "nbconvert_exporter": "python",
   "pygments_lexer": "ipython3",
   "version": "3.10.8"
  },
  "orig_nbformat": 4
 },
 "nbformat": 4,
 "nbformat_minor": 2
}
