{
 "cells": [
  {
   "cell_type": "code",
   "execution_count": 1,
   "metadata": {},
   "outputs": [],
   "source": [
    "%autoreload 2"
   ]
  },
  {
   "cell_type": "code",
   "execution_count": 2,
   "metadata": {},
   "outputs": [],
   "source": [
    "from collections import defaultdict\n",
    "from argparse import Namespace\n",
    "import copy\n",
    "import gzip\n",
    "import itertools\n",
    "import os\n",
    "import pickle\n",
    "import sys\n",
    "import typing\n",
    "\n",
    "import matplotlib\n",
    "import matplotlib.pyplot as plt\n",
    "import numpy as np\n",
    "import pandas as pd\n",
    "import tatsu\n",
    "import tatsu.ast\n",
    "import torch\n",
    "import torch.nn as nn\n",
    "import torch.nn.functional as F\n",
    "from torch.utils.data import TensorDataset, DataLoader\n",
    "import tqdm\n",
    "import sklearn\n",
    "from sklearn.model_selection import GridSearchCV, train_test_split, KFold\n",
    "from sklearn.pipeline import Pipeline\n",
    "\n",
    "sys.path.append(os.path.abspath('..'))\n",
    "sys.path.append(os.path.abspath('../src'))\n",
    "from src.ast_utils import _extract_game_id\n",
    "from src import fitness_energy_utils as utils\n",
    "from src.fitness_energy_utils import NON_FEATURE_COLUMNS\n",
    "from src.fitness_features import *\n",
    "from src.ast_counter_sampler import *\n",
    "from src.ast_mcmc_regrowth import *"
   ]
  },
  {
   "cell_type": "code",
   "execution_count": 3,
   "metadata": {},
   "outputs": [
    {
     "name": "stdout",
     "output_type": "stream",
     "text": [
      "98 6272 64.0 100352 1024.0\n"
     ]
    }
   ],
   "source": [
    "grammar = open('../dsl/dsl.ebnf').read()\n",
    "grammar_parser = tatsu.compile(grammar)\n",
    "game_asts = list(cached_load_and_parse_games_from_file('../dsl/interactive-beta.pddl', grammar_parser, False, relative_path='..'))\n",
    "real_game_texts = [ast_printer.ast_to_string(ast, '\\n') for ast in game_asts]\n",
    "regrown_game_texts = list(load_games_from_file('../dsl/ast-real-regrowth-samples.pddl'))\n",
    "regrown_game_1024_texts = list(load_games_from_file('../dsl/ast-real-regrowth-samples-1024.pddl'))\n",
    "print(len(real_game_texts), len(regrown_game_texts), len(regrown_game_texts) / 98, len(regrown_game_1024_texts), len(regrown_game_1024_texts) / 98)\n"
   ]
  },
  {
   "cell_type": "code",
   "execution_count": 4,
   "metadata": {},
   "outputs": [
    {
     "name": "stdout",
     "output_type": "stream",
     "text": [
      "['interactive-beta.pddl' 'ast-real-regrowth-samples-1024.pddl']\n"
     ]
    },
    {
     "data": {
      "text/html": [
       "<div>\n",
       "<style scoped>\n",
       "    .dataframe tbody tr th:only-of-type {\n",
       "        vertical-align: middle;\n",
       "    }\n",
       "\n",
       "    .dataframe tbody tr th {\n",
       "        vertical-align: top;\n",
       "    }\n",
       "\n",
       "    .dataframe thead th {\n",
       "        text-align: right;\n",
       "    }\n",
       "</style>\n",
       "<table border=\"1\" class=\"dataframe\">\n",
       "  <thead>\n",
       "    <tr style=\"text-align: right;\">\n",
       "      <th></th>\n",
       "      <th>Index</th>\n",
       "      <th>src_file</th>\n",
       "      <th>game_name</th>\n",
       "      <th>domain_name</th>\n",
       "      <th>original_game_name</th>\n",
       "      <th>real</th>\n",
       "      <th>all_variables_defined</th>\n",
       "      <th>all_variables_used</th>\n",
       "      <th>all_preferences_used</th>\n",
       "      <th>setup_objects_used</th>\n",
       "      <th>...</th>\n",
       "      <th>ast_ngram_constraints_n_6_score</th>\n",
       "      <th>ast_ngram_constraints_n_7_score</th>\n",
       "      <th>ast_ngram_terminal_n_2_score</th>\n",
       "      <th>ast_ngram_terminal_n_3_score</th>\n",
       "      <th>ast_ngram_terminal_n_4_score</th>\n",
       "      <th>ast_ngram_terminal_n_5_score</th>\n",
       "      <th>ast_ngram_scoring_n_2_score</th>\n",
       "      <th>ast_ngram_scoring_n_3_score</th>\n",
       "      <th>ast_ngram_scoring_n_4_score</th>\n",
       "      <th>ast_ngram_scoring_n_5_score</th>\n",
       "    </tr>\n",
       "  </thead>\n",
       "  <tbody>\n",
       "    <tr>\n",
       "      <th>0</th>\n",
       "      <td>0</td>\n",
       "      <td>interactive-beta.pddl</td>\n",
       "      <td>6172feb1665491d1efbce164-0</td>\n",
       "      <td>medium-objects-room-v1</td>\n",
       "      <td>6172feb1665491d1efbce164-0</td>\n",
       "      <td>1</td>\n",
       "      <td>1</td>\n",
       "      <td>1</td>\n",
       "      <td>1</td>\n",
       "      <td>1.00</td>\n",
       "      <td>...</td>\n",
       "      <td>0.976714</td>\n",
       "      <td>0.984956</td>\n",
       "      <td>0.942266</td>\n",
       "      <td>0.970180</td>\n",
       "      <td>0.973574</td>\n",
       "      <td>0.978002</td>\n",
       "      <td>0.725160</td>\n",
       "      <td>0.761936</td>\n",
       "      <td>0.942521</td>\n",
       "      <td>0.975955</td>\n",
       "    </tr>\n",
       "    <tr>\n",
       "      <th>1</th>\n",
       "      <td>1</td>\n",
       "      <td>interactive-beta.pddl</td>\n",
       "      <td>5f77754ba932fb2c4ba181d8-2</td>\n",
       "      <td>many-objects-room-v1</td>\n",
       "      <td>5f77754ba932fb2c4ba181d8-2</td>\n",
       "      <td>1</td>\n",
       "      <td>1</td>\n",
       "      <td>1</td>\n",
       "      <td>1</td>\n",
       "      <td>1.00</td>\n",
       "      <td>...</td>\n",
       "      <td>0.986443</td>\n",
       "      <td>0.986721</td>\n",
       "      <td>0.935275</td>\n",
       "      <td>0.965656</td>\n",
       "      <td>0.967074</td>\n",
       "      <td>0.978883</td>\n",
       "      <td>0.670913</td>\n",
       "      <td>0.801850</td>\n",
       "      <td>0.870098</td>\n",
       "      <td>0.924083</td>\n",
       "    </tr>\n",
       "    <tr>\n",
       "      <th>2</th>\n",
       "      <td>2</td>\n",
       "      <td>interactive-beta.pddl</td>\n",
       "      <td>614b603d4da88384282967a7-3</td>\n",
       "      <td>many-objects-room-v1</td>\n",
       "      <td>614b603d4da88384282967a7-3</td>\n",
       "      <td>1</td>\n",
       "      <td>1</td>\n",
       "      <td>1</td>\n",
       "      <td>1</td>\n",
       "      <td>0.00</td>\n",
       "      <td>...</td>\n",
       "      <td>0.976849</td>\n",
       "      <td>0.981247</td>\n",
       "      <td>0.000000</td>\n",
       "      <td>0.000000</td>\n",
       "      <td>0.000000</td>\n",
       "      <td>0.000000</td>\n",
       "      <td>0.452633</td>\n",
       "      <td>0.593800</td>\n",
       "      <td>0.814709</td>\n",
       "      <td>0.883131</td>\n",
       "    </tr>\n",
       "    <tr>\n",
       "      <th>3</th>\n",
       "      <td>3</td>\n",
       "      <td>interactive-beta.pddl</td>\n",
       "      <td>5bc79f652885710001a0e82a-5</td>\n",
       "      <td>few-objects-room-v1</td>\n",
       "      <td>5bc79f652885710001a0e82a-5</td>\n",
       "      <td>1</td>\n",
       "      <td>1</td>\n",
       "      <td>1</td>\n",
       "      <td>1</td>\n",
       "      <td>0.00</td>\n",
       "      <td>...</td>\n",
       "      <td>0.986600</td>\n",
       "      <td>0.986476</td>\n",
       "      <td>0.000000</td>\n",
       "      <td>0.000000</td>\n",
       "      <td>0.000000</td>\n",
       "      <td>0.000000</td>\n",
       "      <td>0.725160</td>\n",
       "      <td>0.761936</td>\n",
       "      <td>0.942521</td>\n",
       "      <td>0.975955</td>\n",
       "    </tr>\n",
       "    <tr>\n",
       "      <th>4</th>\n",
       "      <td>4</td>\n",
       "      <td>interactive-beta.pddl</td>\n",
       "      <td>614dec67f6eb129c3a77defd-6</td>\n",
       "      <td>medium-objects-room-v1</td>\n",
       "      <td>614dec67f6eb129c3a77defd-6</td>\n",
       "      <td>1</td>\n",
       "      <td>1</td>\n",
       "      <td>1</td>\n",
       "      <td>1</td>\n",
       "      <td>0.25</td>\n",
       "      <td>...</td>\n",
       "      <td>0.985217</td>\n",
       "      <td>0.983768</td>\n",
       "      <td>0.000000</td>\n",
       "      <td>0.000000</td>\n",
       "      <td>0.000000</td>\n",
       "      <td>0.000000</td>\n",
       "      <td>0.937248</td>\n",
       "      <td>0.947704</td>\n",
       "      <td>0.933456</td>\n",
       "      <td>0.976437</td>\n",
       "    </tr>\n",
       "  </tbody>\n",
       "</table>\n",
       "<p>5 rows × 344 columns</p>\n",
       "</div>"
      ],
      "text/plain": [
       "   Index               src_file                   game_name  \\\n",
       "0      0  interactive-beta.pddl  6172feb1665491d1efbce164-0   \n",
       "1      1  interactive-beta.pddl  5f77754ba932fb2c4ba181d8-2   \n",
       "2      2  interactive-beta.pddl  614b603d4da88384282967a7-3   \n",
       "3      3  interactive-beta.pddl  5bc79f652885710001a0e82a-5   \n",
       "4      4  interactive-beta.pddl  614dec67f6eb129c3a77defd-6   \n",
       "\n",
       "              domain_name          original_game_name  real  \\\n",
       "0  medium-objects-room-v1  6172feb1665491d1efbce164-0     1   \n",
       "1    many-objects-room-v1  5f77754ba932fb2c4ba181d8-2     1   \n",
       "2    many-objects-room-v1  614b603d4da88384282967a7-3     1   \n",
       "3     few-objects-room-v1  5bc79f652885710001a0e82a-5     1   \n",
       "4  medium-objects-room-v1  614dec67f6eb129c3a77defd-6     1   \n",
       "\n",
       "   all_variables_defined  all_variables_used  all_preferences_used  \\\n",
       "0                      1                   1                     1   \n",
       "1                      1                   1                     1   \n",
       "2                      1                   1                     1   \n",
       "3                      1                   1                     1   \n",
       "4                      1                   1                     1   \n",
       "\n",
       "   setup_objects_used  ...  ast_ngram_constraints_n_6_score  \\\n",
       "0                1.00  ...                         0.976714   \n",
       "1                1.00  ...                         0.986443   \n",
       "2                0.00  ...                         0.976849   \n",
       "3                0.00  ...                         0.986600   \n",
       "4                0.25  ...                         0.985217   \n",
       "\n",
       "   ast_ngram_constraints_n_7_score  ast_ngram_terminal_n_2_score  \\\n",
       "0                         0.984956                      0.942266   \n",
       "1                         0.986721                      0.935275   \n",
       "2                         0.981247                      0.000000   \n",
       "3                         0.986476                      0.000000   \n",
       "4                         0.983768                      0.000000   \n",
       "\n",
       "   ast_ngram_terminal_n_3_score  ast_ngram_terminal_n_4_score  \\\n",
       "0                      0.970180                      0.973574   \n",
       "1                      0.965656                      0.967074   \n",
       "2                      0.000000                      0.000000   \n",
       "3                      0.000000                      0.000000   \n",
       "4                      0.000000                      0.000000   \n",
       "\n",
       "   ast_ngram_terminal_n_5_score  ast_ngram_scoring_n_2_score  \\\n",
       "0                      0.978002                     0.725160   \n",
       "1                      0.978883                     0.670913   \n",
       "2                      0.000000                     0.452633   \n",
       "3                      0.000000                     0.725160   \n",
       "4                      0.000000                     0.937248   \n",
       "\n",
       "   ast_ngram_scoring_n_3_score  ast_ngram_scoring_n_4_score  \\\n",
       "0                     0.761936                     0.942521   \n",
       "1                     0.801850                     0.870098   \n",
       "2                     0.593800                     0.814709   \n",
       "3                     0.761936                     0.942521   \n",
       "4                     0.947704                     0.933456   \n",
       "\n",
       "   ast_ngram_scoring_n_5_score  \n",
       "0                     0.975955  \n",
       "1                     0.924083  \n",
       "2                     0.883131  \n",
       "3                     0.975955  \n",
       "4                     0.976437  \n",
       "\n",
       "[5 rows x 344 columns]"
      ]
     },
     "execution_count": 4,
     "metadata": {},
     "output_type": "execute_result"
    }
   ],
   "source": [
    "fitness_df = utils.load_fitness_data('../data/fitness_features_1024_regrowths.csv.gz')\n",
    "print(fitness_df.src_file.unique())\n",
    "fitness_df.head()"
   ]
  },
  {
   "cell_type": "markdown",
   "metadata": {},
   "source": [
    "# Plan of attack\n",
    "* Use the code in `ast_counter_sampler.py` to generate a sample from the MLE\n",
    "* Score it with a fitness function adapted to working with a single example at a time\n",
    "* At each subsequent iteration, regrow the game from a random node, and score the regrowth\n",
    "* Since we have energy scores before and after, we can either accept greedily if $E_{new} < E_{old}$, or accept with probability $\\exp(\\beta (E_{old} - E_{new} ))$"
   ]
  },
  {
   "cell_type": "code",
   "execution_count": 5,
   "metadata": {},
   "outputs": [],
   "source": [
    "DEFAULT_ARGS = argparse.Namespace(\n",
    "    grammar_file=os.path.join('..', DEFAULT_GRAMMAR_FILE),\n",
    "    parse_counter=False,\n",
    "    counter_output_path=os.path.join('..', DEFAULT_COUNTER_OUTPUT_PATH),\n",
    "    random_seed=DEFUALT_RANDOM_SEED,\n",
    ")"
   ]
  },
  {
   "cell_type": "code",
   "execution_count": 6,
   "metadata": {},
   "outputs": [],
   "source": [
    "FITNESS_MODEL_DATE_ID = 'full_features_2023_03_28'\n",
    "FITNESS_FEATURIZER_PATH = '../models/fitness_featurizer_2023_03_28.pkl.gz'\n",
    "\n",
    "\n",
    "mcmc = MCMCRegrowthSampler(DEFAULT_ARGS,\n",
    "    FITNESS_MODEL_DATE_ID, FITNESS_FEATURIZER_PATH, greedy_acceptance=True, \n",
    "    plateau_patience_steps=1000, max_steps=20000,\n",
    "    fitness_function_relative_path='..')  #   acceptance_temperature=10.0, "
   ]
  },
  {
   "cell_type": "code",
   "execution_count": 7,
   "metadata": {},
   "outputs": [
    {
     "data": {
      "application/vnd.jupyter.widget-view+json": {
       "model_id": "dce44f82ae9f4686a6f41c22c3d888ed",
       "version_major": 2,
       "version_minor": 0
      },
      "text/plain": [
       "  0%|          | 0/10 [00:00<?, ?it/s]"
      ]
     },
     "metadata": {},
     "output_type": "display_data"
    },
    {
     "name": "stdout",
     "output_type": "stream",
     "text": [
      "Plateaued at step 3055 with energy -59.95831\n",
      "Plateaued at step 3082 with energy -64.96738\n",
      "Plateaued at step 6918 with energy -66.61777\n",
      "Plateaued at step 8497 with energy -54.97644\n",
      "Plateaued at step 2549 with energy -66.70599\n",
      "Plateaued at step 8181 with energy -67.38096\n",
      "Plateaued at step 10663 with energy -59.18020\n",
      "Plateaued at step 9867 with energy -70.90728\n",
      "Plateaued at step 6470 with energy -70.10515\n"
     ]
    }
   ],
   "source": [
    "n_samples = 10\n",
    "mcmc.multiple_samples(n_samples, verbose=1, should_tqdm=True)"
   ]
  },
  {
   "cell_type": "code",
   "execution_count": null,
   "metadata": {},
   "outputs": [],
   "source": [
    "from argparse import Namespace\n",
    "from src.fitness_features import *\n",
    "args = Namespace(no_binarize=False, no_merge=True)\n",
    "featurizer = build_fitness_featurizer(args)\n",
    "r = featurizer.parse(mcmc.samples[4][0], '', return_row=True, preprocess_row=False)"
   ]
  },
  {
   "cell_type": "code",
   "execution_count": null,
   "metadata": {},
   "outputs": [],
   "source": []
  },
  {
   "attachments": {},
   "cell_type": "markdown",
   "metadata": {},
   "source": [
    "## Regrwoth from existing games"
   ]
  },
  {
   "cell_type": "code",
   "execution_count": 9,
   "metadata": {},
   "outputs": [
    {
     "name": "stdout",
     "output_type": "stream",
     "text": [
      "Generating samples starting from original index 25 (id 56cb8858edf8da000b6df354-32)\n",
      "Plateaued at step 1397 with energy -76.33878 (initial proposal energy: -75.47111)\n",
      "Plateaued at step 1756 with energy -77.10758 (initial proposal energy: -75.47111)\n",
      "Plateaued at step 1672 with energy -77.95261 (initial proposal energy: -75.47111)\n",
      "Plateaued at step 1759 with energy -77.75713 (initial proposal energy: -75.47111)\n",
      "Plateaued at step 1338 with energy -77.63092 (initial proposal energy: -75.47111)\n",
      "Generating samples starting from original index 26 (id 614e1599db14d8f3a5c1486a-33)\n",
      "Plateaued at step 1001 with energy -79.68496 (initial proposal energy: -79.68496)\n",
      "Plateaued at step 1001 with energy -79.68496 (initial proposal energy: -79.68496)\n",
      "Plateaued at step 1001 with energy -79.68496 (initial proposal energy: -79.68496)\n",
      "Plateaued at step 1001 with energy -79.68496 (initial proposal energy: -79.68496)\n",
      "Plateaued at step 1001 with energy -79.68496 (initial proposal energy: -79.68496)\n",
      "Generating samples starting from original index 27 (id 615dd68523c38ecff40b29b4-35)\n",
      "Plateaued at step 3413 with energy -80.35104 (initial proposal energy: -77.39202)\n",
      "Plateaued at step 1001 with energy -77.39202 (initial proposal energy: -77.39202)\n",
      "Plateaued at step 1001 with energy -77.39202 (initial proposal energy: -77.39202)\n",
      "Plateaued at step 1597 with energy -77.92374 (initial proposal energy: -77.39202)\n",
      "Plateaued at step 1001 with energy -77.39202 (initial proposal energy: -77.39202)\n",
      "Generating samples starting from original index 28 (id 5ef4c07dc8437809ba661613-36)\n",
      "Plateaued at step 2163 with energy -79.81114 (initial proposal energy: -78.55888)\n",
      "Plateaued at step 1001 with energy -78.55888 (initial proposal energy: -78.55888)\n",
      "Plateaued at step 2380 with energy -79.80266 (initial proposal energy: -78.55888)\n",
      "Plateaued at step 7050 with energy -82.88976 (initial proposal energy: -78.55888)\n",
      "Plateaued at step 1591 with energy -79.31093 (initial proposal energy: -78.55888)\n",
      "Generating samples starting from original index 29 (id 5fa45dc96da3af0b7dcba9a8-37)\n",
      "Plateaued at step 2122 with energy -79.56305 (initial proposal energy: -76.84528)\n",
      "Plateaued at step 1519 with energy -78.23502 (initial proposal energy: -76.84528)\n",
      "Plateaued at step 1598 with energy -78.45126 (initial proposal energy: -76.84528)\n",
      "Plateaued at step 2442 with energy -78.54243 (initial proposal energy: -76.84528)\n",
      "Plateaued at step 1614 with energy -79.56305 (initial proposal energy: -76.84528)\n",
      "Generating samples starting from original index 30 (id 616abb33ebe1d6112545f76d-38)\n",
      "Plateaued at step 1001 with energy -78.04236 (initial proposal energy: -78.04236)\n",
      "Plateaued at step 1001 with energy -78.04236 (initial proposal energy: -78.04236)\n",
      "Plateaued at step 1001 with energy -78.04236 (initial proposal energy: -78.04236)\n",
      "Plateaued at step 1001 with energy -78.04236 (initial proposal energy: -78.04236)\n",
      "Plateaued at step 1001 with energy -78.04236 (initial proposal energy: -78.04236)\n",
      "Generating samples starting from original index 31 (id 614fb15adc48d3f9ffcadd41-39)\n",
      "Plateaued at step 1001 with energy -78.59872 (initial proposal energy: -78.59872)\n",
      "Plateaued at step 1001 with energy -78.59872 (initial proposal energy: -78.59872)\n",
      "Plateaued at step 1001 with energy -78.59872 (initial proposal energy: -78.59872)\n",
      "Plateaued at step 1001 with energy -78.59872 (initial proposal energy: -78.59872)\n",
      "Plateaued at step 1001 with energy -78.59872 (initial proposal energy: -78.59872)\n",
      "Generating samples starting from original index 32 (id 5c71bdec87f8cd0001b458f5-40)\n",
      "Plateaued at step 1001 with energy -78.09901 (initial proposal energy: -78.09901)\n",
      "Plateaued at step 1001 with energy -78.09901 (initial proposal energy: -78.09901)\n",
      "Plateaued at step 1001 with energy -78.09901 (initial proposal energy: -78.09901)\n",
      "Plateaued at step 1527 with energy -78.26182 (initial proposal energy: -78.09901)\n",
      "Plateaued at step 1634 with energy -78.24098 (initial proposal energy: -78.09901)\n",
      "Generating samples starting from original index 33 (id 5f8d77f0b348950659f1919e-41)\n",
      "Plateaued at step 2860 with energy -81.03984 (initial proposal energy: -76.50113)\n",
      "Plateaued at step 1049 with energy -77.50069 (initial proposal energy: -76.50113)\n",
      "Plateaued at step 2295 with energy -79.59822 (initial proposal energy: -76.50113)\n",
      "Plateaued at step 4177 with energy -79.99099 (initial proposal energy: -76.50113)\n",
      "Plateaued at step 2739 with energy -79.51606 (initial proposal energy: -76.50113)\n",
      "Generating samples starting from original index 34 (id 5edc195a95d5090e1c3f91b-42)\n",
      "Plateaued at step 2620 with energy -78.53851 (initial proposal energy: -76.56378)\n",
      "Plateaued at step 1635 with energy -77.37509 (initial proposal energy: -76.56378)\n",
      "Plateaued at step 1128 with energy -77.58272 (initial proposal energy: -76.56378)\n",
      "Plateaued at step 5019 with energy -78.46724 (initial proposal energy: -76.56378)\n",
      "Plateaued at step 1351 with energy -76.57738 (initial proposal energy: -76.56378)\n"
     ]
    }
   ],
   "source": [
    "n_samples = 5\n",
    "n_games = 10\n",
    "start = 25\n",
    "end = start + n_games\n",
    "\n",
    "\n",
    "for original_index in range(start, end):\n",
    "    print(f'Generating samples starting from original index {original_index} (id {_extract_game_id(real_game_texts[original_index])})')\n",
    "    mcmc.multiple_samples(n_samples, verbose=1, should_tqdm=False, initial_proposal=game_asts[original_index], postprocess=False)\n",
    "\n",
    "    # print()\n",
    "    # for i in range(n_samples * (original_index - start), n_samples * (original_index - start + 1)):\n",
    "    #     print(i, mcmc.samples[i][2])"
   ]
  },
  {
   "cell_type": "code",
   "execution_count": 10,
   "metadata": {},
   "outputs": [
    {
     "data": {
      "text/plain": [
       "85"
      ]
     },
     "execution_count": 10,
     "metadata": {},
     "output_type": "execute_result"
    }
   ],
   "source": [
    "len(mcmc.samples)"
   ]
  },
  {
   "cell_type": "code",
   "execution_count": 42,
   "metadata": {},
   "outputs": [
    {
     "data": {
      "text/markdown": [
       "### Energy of real game: -76.363 | Energy of regrown game: -77.092 | Difference: -0.729"
      ],
      "text/plain": [
       "<IPython.core.display.Markdown object>"
      ]
     },
     "metadata": {},
     "output_type": "display_data"
    },
    {
     "data": {
      "text/markdown": [
       "### Top features changing the game's energy\n",
       "feature name: **value** = (original feature value => regrown feature value) * weight"
      ],
      "text/plain": [
       "<IPython.core.display.Markdown object>"
      ]
     },
     "metadata": {},
     "output_type": "display_data"
    },
    {
     "data": {
      "text/markdown": [
       "| Features increasing energy (= more fake)                            | Features decreasing energy (= more real)                                                         |\n",
       "|---------------------------------------------------------------------|--------------------------------------------------------------------------------------------------|\n",
       "| ast_ngram_full_n_7_score: **1.504** = (0.981 => 0.929) * -28.958    | pref_forall_count_once_per_external_objects_used_correct: **-0.805** = (0.000 => 1.000) * -0.805 |\n",
       "| ast_ngram_terminal_n_5_score: **0.084** = (0.958 => 0.027) * -0.090 | node_count_terminal_2: **-0.777** = (1.000 => 0.000) * 0.777                                     |\n",
       "| mean_depth_scoring_3: **0.042** = (0.000 => 1.000) * 0.042          | mean_depth_scoring_4: **-0.564** = (1.000 => 0.000) * 0.564                                      |\n",
       "|                                                                     | ast_ngram_scoring_n_5_score: **-0.142** = (1.000 => 0.954) * 3.063                               |\n",
       "|                                                                     | node_count_terminal_1: **-0.072** = (0.000 => 1.000) * -0.072                                    |"
      ],
      "text/plain": [
       "<IPython.core.display.Markdown object>"
      ]
     },
     "metadata": {},
     "output_type": "display_data"
    },
    {
     "data": {
      "text/markdown": [
       "### Game Diffs"
      ],
      "text/plain": [
       "<IPython.core.display.Markdown object>"
      ]
     },
     "metadata": {},
     "output_type": "display_data"
    },
    {
     "data": {
      "text/html": [
       "\n",
       "<!DOCTYPE html PUBLIC \"-//W3C//DTD XHTML 1.0 Transitional//EN\"\n",
       "          \"http://www.w3.org/TR/xhtml1/DTD/xhtml1-transitional.dtd\">\n",
       "\n",
       "<html>\n",
       "\n",
       "<head>\n",
       "    <meta http-equiv=\"Content-Type\"\n",
       "          content=\"text/html; charset=utf-8\" />\n",
       "    <title></title>\n",
       "    <style type=\"text/css\">\n",
       "        table.diff {font-family:Courier; border:medium;}\n",
       "        .diff_header {background-color:#e0e0e0}\n",
       "        .diff td {text-align: left !important}\n",
       ".diff th {text-align: center!important }\n",
       ".diff td.diff_header {text-align:right !important}\n",
       "        .diff_next {background-color:#c0c0c0}\n",
       "        .diff_add {background-color: #6fa66f !important; font-weight: bold !important}\n",
       "        .diff_chg {background-color: #999949 !important; font-weight: bold !important}\n",
       "        .diff_sub {background-color: #a66f6f !important; font-weight: bold !important}\n",
       "    </style>\n",
       "</head>\n",
       "\n",
       "<body>\n",
       "    \n",
       "    <table class=\"diff\" id=\"difflib_chg_to21__top\"\n",
       "           cellspacing=\"0\" cellpadding=\"0\" rules=\"groups\" >\n",
       "        <colgroup></colgroup> <colgroup></colgroup> <colgroup></colgroup>\n",
       "        <colgroup></colgroup> <colgroup></colgroup> <colgroup></colgroup>\n",
       "        \n",
       "        <tbody>\n",
       "            <tr><td class=\"diff_next\"><a href=\"#difflib_chg_to21__0\">f</a></td><td class=\"diff_header\" id=\"from21_1\">1</td><td nowrap=\"nowrap\">(define&nbsp;(game&nbsp;5996d2256b939900012d9f22-24)&nbsp;(:domain&nbsp;few-objects-room-v1)</td><td class=\"diff_next\"><a href=\"#difflib_chg_to21__0\">f</a></td><td class=\"diff_header\" id=\"to21_1\">1</td><td nowrap=\"nowrap\">(define&nbsp;(game&nbsp;5996d2256b939900012d9f22-24)&nbsp;(:domain&nbsp;few-objects-room-v1)</td></tr>\n",
       "            <tr><td class=\"diff_next\"></td><td class=\"diff_header\" id=\"from21_2\">2</td><td nowrap=\"nowrap\">(:setup</td><td class=\"diff_next\"></td><td class=\"diff_header\" id=\"to21_2\">2</td><td nowrap=\"nowrap\">(:setup</td></tr>\n",
       "            <tr><td class=\"diff_next\"></td><td class=\"diff_header\" id=\"from21_3\">3</td><td nowrap=\"nowrap\">&nbsp;&nbsp;(and</td><td class=\"diff_next\"></td><td class=\"diff_header\" id=\"to21_3\">3</td><td nowrap=\"nowrap\">&nbsp;&nbsp;(and</td></tr>\n",
       "            <tr><td class=\"diff_next\"></td><td class=\"diff_header\" id=\"from21_4\">4</td><td nowrap=\"nowrap\">&nbsp;&nbsp;&nbsp;&nbsp;(exists&nbsp;(?c&nbsp;-&nbsp;chair&nbsp;?h&nbsp;-&nbsp;hexagonal_bin)</td><td class=\"diff_next\"></td><td class=\"diff_header\" id=\"to21_4\">4</td><td nowrap=\"nowrap\">&nbsp;&nbsp;&nbsp;&nbsp;(exists&nbsp;(?c&nbsp;-&nbsp;chair&nbsp;?h&nbsp;-&nbsp;hexagonal_bin)</td></tr>\n",
       "            <tr><td class=\"diff_next\"></td><td class=\"diff_header\" id=\"from21_5\">5</td><td nowrap=\"nowrap\">&nbsp;&nbsp;&nbsp;&nbsp;&nbsp;&nbsp;(game-conserved</td><td class=\"diff_next\"></td><td class=\"diff_header\" id=\"to21_5\">5</td><td nowrap=\"nowrap\">&nbsp;&nbsp;&nbsp;&nbsp;&nbsp;&nbsp;(game-conserved</td></tr>\n",
       "            <tr><td class=\"diff_next\"></td><td class=\"diff_header\" id=\"from21_6\">6</td><td nowrap=\"nowrap\">&nbsp;&nbsp;&nbsp;&nbsp;&nbsp;&nbsp;&nbsp;&nbsp;(on&nbsp;?c&nbsp;?h)</td><td class=\"diff_next\"></td><td class=\"diff_header\" id=\"to21_6\">6</td><td nowrap=\"nowrap\">&nbsp;&nbsp;&nbsp;&nbsp;&nbsp;&nbsp;&nbsp;&nbsp;(on&nbsp;?c&nbsp;?h)</td></tr>\n",
       "            <tr><td class=\"diff_next\"></td><td class=\"diff_header\" id=\"from21_7\">7</td><td nowrap=\"nowrap\">&nbsp;&nbsp;&nbsp;&nbsp;&nbsp;&nbsp;)</td><td class=\"diff_next\"></td><td class=\"diff_header\" id=\"to21_7\">7</td><td nowrap=\"nowrap\">&nbsp;&nbsp;&nbsp;&nbsp;&nbsp;&nbsp;)</td></tr>\n",
       "            <tr><td class=\"diff_next\"></td><td class=\"diff_header\" id=\"from21_8\">8</td><td nowrap=\"nowrap\">&nbsp;&nbsp;&nbsp;&nbsp;)</td><td class=\"diff_next\"></td><td class=\"diff_header\" id=\"to21_8\">8</td><td nowrap=\"nowrap\">&nbsp;&nbsp;&nbsp;&nbsp;)</td></tr>\n",
       "            <tr><td class=\"diff_next\"></td><td class=\"diff_header\" id=\"from21_9\">9</td><td nowrap=\"nowrap\">&nbsp;&nbsp;)</td><td class=\"diff_next\"></td><td class=\"diff_header\" id=\"to21_9\">9</td><td nowrap=\"nowrap\">&nbsp;&nbsp;)</td></tr>\n",
       "            <tr><td class=\"diff_next\"></td><td class=\"diff_header\" id=\"from21_10\">10</td><td nowrap=\"nowrap\">)</td><td class=\"diff_next\"></td><td class=\"diff_header\" id=\"to21_10\">10</td><td nowrap=\"nowrap\">)</td></tr>\n",
       "            <tr><td class=\"diff_next\"></td><td class=\"diff_header\" id=\"from21_11\">11</td><td nowrap=\"nowrap\">(:constraints</td><td class=\"diff_next\"></td><td class=\"diff_header\" id=\"to21_11\">11</td><td nowrap=\"nowrap\">(:constraints</td></tr>\n",
       "            <tr><td class=\"diff_next\"></td><td class=\"diff_header\" id=\"from21_12\">12</td><td nowrap=\"nowrap\">&nbsp;&nbsp;(and</td><td class=\"diff_next\"></td><td class=\"diff_header\" id=\"to21_12\">12</td><td nowrap=\"nowrap\">&nbsp;&nbsp;(and</td></tr>\n",
       "            <tr><td class=\"diff_next\"></td><td class=\"diff_header\" id=\"from21_13\">13</td><td nowrap=\"nowrap\">&nbsp;&nbsp;&nbsp;&nbsp;(forall&nbsp;(?d&nbsp;-&nbsp;dodgeball&nbsp;?c&nbsp;-&nbsp;color)</td><td class=\"diff_next\"></td><td class=\"diff_header\" id=\"to21_13\">13</td><td nowrap=\"nowrap\">&nbsp;&nbsp;&nbsp;&nbsp;(forall&nbsp;(?d&nbsp;-&nbsp;dodgeball&nbsp;?c&nbsp;-&nbsp;color)</td></tr>\n",
       "            <tr><td class=\"diff_next\"></td><td class=\"diff_header\" id=\"from21_14\">14</td><td nowrap=\"nowrap\">&nbsp;&nbsp;&nbsp;&nbsp;&nbsp;&nbsp;(and</td><td class=\"diff_next\"></td><td class=\"diff_header\" id=\"to21_14\">14</td><td nowrap=\"nowrap\">&nbsp;&nbsp;&nbsp;&nbsp;&nbsp;&nbsp;(and</td></tr>\n",
       "            <tr><td class=\"diff_next\"></td><td class=\"diff_header\" id=\"from21_15\">15</td><td nowrap=\"nowrap\">&nbsp;&nbsp;&nbsp;&nbsp;&nbsp;&nbsp;&nbsp;&nbsp;(preference&nbsp;throwBallToBin</td><td class=\"diff_next\"></td><td class=\"diff_header\" id=\"to21_15\">15</td><td nowrap=\"nowrap\">&nbsp;&nbsp;&nbsp;&nbsp;&nbsp;&nbsp;&nbsp;&nbsp;(preference&nbsp;throwBallToBin</td></tr>\n",
       "            <tr><td class=\"diff_next\"></td><td class=\"diff_header\" id=\"from21_16\">16</td><td nowrap=\"nowrap\">&nbsp;&nbsp;&nbsp;&nbsp;&nbsp;&nbsp;&nbsp;&nbsp;&nbsp;&nbsp;(exists&nbsp;(?h&nbsp;-&nbsp;hexagonal_bin)</td><td class=\"diff_next\"></td><td class=\"diff_header\" id=\"to21_16\">16</td><td nowrap=\"nowrap\">&nbsp;&nbsp;&nbsp;&nbsp;&nbsp;&nbsp;&nbsp;&nbsp;&nbsp;&nbsp;(exists&nbsp;(?h&nbsp;-&nbsp;hexagonal_bin)</td></tr>\n",
       "            <tr><td class=\"diff_next\"></td><td class=\"diff_header\" id=\"from21_17\">17</td><td nowrap=\"nowrap\">&nbsp;&nbsp;&nbsp;&nbsp;&nbsp;&nbsp;&nbsp;&nbsp;&nbsp;&nbsp;&nbsp;&nbsp;(then</td><td class=\"diff_next\"></td><td class=\"diff_header\" id=\"to21_17\">17</td><td nowrap=\"nowrap\">&nbsp;&nbsp;&nbsp;&nbsp;&nbsp;&nbsp;&nbsp;&nbsp;&nbsp;&nbsp;&nbsp;&nbsp;(then</td></tr>\n",
       "            <tr><td class=\"diff_next\"></td><td class=\"diff_header\" id=\"from21_18\">18</td><td nowrap=\"nowrap\">&nbsp;&nbsp;&nbsp;&nbsp;&nbsp;&nbsp;&nbsp;&nbsp;&nbsp;&nbsp;&nbsp;&nbsp;&nbsp;&nbsp;(once&nbsp;(and&nbsp;(agent_holds&nbsp;?d)&nbsp;(on&nbsp;rug&nbsp;agent)&nbsp;(rug_color_under&nbsp;agent&nbsp;?c)&nbsp;)&nbsp;)</td><td class=\"diff_next\"></td><td class=\"diff_header\" id=\"to21_18\">18</td><td nowrap=\"nowrap\">&nbsp;&nbsp;&nbsp;&nbsp;&nbsp;&nbsp;&nbsp;&nbsp;&nbsp;&nbsp;&nbsp;&nbsp;&nbsp;&nbsp;(once&nbsp;(and&nbsp;(agent_holds&nbsp;?d)&nbsp;(on&nbsp;rug&nbsp;agent)&nbsp;(rug_color_under&nbsp;agent&nbsp;?c)&nbsp;)&nbsp;)</td></tr>\n",
       "            <tr><td class=\"diff_next\"></td><td class=\"diff_header\" id=\"from21_19\">19</td><td nowrap=\"nowrap\">&nbsp;&nbsp;&nbsp;&nbsp;&nbsp;&nbsp;&nbsp;&nbsp;&nbsp;&nbsp;&nbsp;&nbsp;&nbsp;&nbsp;(hold&nbsp;(and&nbsp;(not&nbsp;(agent_holds&nbsp;?d)&nbsp;)&nbsp;(in_motion&nbsp;?d)&nbsp;)&nbsp;)</td><td class=\"diff_next\"></td><td class=\"diff_header\" id=\"to21_19\">19</td><td nowrap=\"nowrap\">&nbsp;&nbsp;&nbsp;&nbsp;&nbsp;&nbsp;&nbsp;&nbsp;&nbsp;&nbsp;&nbsp;&nbsp;&nbsp;&nbsp;(hold&nbsp;(and&nbsp;(not&nbsp;(agent_holds&nbsp;?d)&nbsp;)&nbsp;(in_motion&nbsp;?d)&nbsp;)&nbsp;)</td></tr>\n",
       "            <tr><td class=\"diff_next\"></td><td class=\"diff_header\" id=\"from21_20\">20</td><td nowrap=\"nowrap\">&nbsp;&nbsp;&nbsp;&nbsp;&nbsp;&nbsp;&nbsp;&nbsp;&nbsp;&nbsp;&nbsp;&nbsp;&nbsp;&nbsp;(once&nbsp;(and&nbsp;(not&nbsp;(in_motion&nbsp;?d)&nbsp;)&nbsp;(in&nbsp;?h&nbsp;?d)&nbsp;)&nbsp;)</td><td class=\"diff_next\"></td><td class=\"diff_header\" id=\"to21_20\">20</td><td nowrap=\"nowrap\">&nbsp;&nbsp;&nbsp;&nbsp;&nbsp;&nbsp;&nbsp;&nbsp;&nbsp;&nbsp;&nbsp;&nbsp;&nbsp;&nbsp;(once&nbsp;(and&nbsp;(not&nbsp;(in_motion&nbsp;?d)&nbsp;)&nbsp;(in&nbsp;?h&nbsp;?d)&nbsp;)&nbsp;)</td></tr>\n",
       "            <tr><td class=\"diff_next\"></td><td class=\"diff_header\" id=\"from21_21\">21</td><td nowrap=\"nowrap\">&nbsp;&nbsp;&nbsp;&nbsp;&nbsp;&nbsp;&nbsp;&nbsp;&nbsp;&nbsp;&nbsp;&nbsp;)</td><td class=\"diff_next\"></td><td class=\"diff_header\" id=\"to21_21\">21</td><td nowrap=\"nowrap\">&nbsp;&nbsp;&nbsp;&nbsp;&nbsp;&nbsp;&nbsp;&nbsp;&nbsp;&nbsp;&nbsp;&nbsp;)</td></tr>\n",
       "            <tr><td class=\"diff_next\"></td><td class=\"diff_header\" id=\"from21_22\">22</td><td nowrap=\"nowrap\">&nbsp;&nbsp;&nbsp;&nbsp;&nbsp;&nbsp;&nbsp;&nbsp;&nbsp;&nbsp;)</td><td class=\"diff_next\"></td><td class=\"diff_header\" id=\"to21_22\">22</td><td nowrap=\"nowrap\">&nbsp;&nbsp;&nbsp;&nbsp;&nbsp;&nbsp;&nbsp;&nbsp;&nbsp;&nbsp;)</td></tr>\n",
       "            <tr><td class=\"diff_next\"></td><td class=\"diff_header\" id=\"from21_23\">23</td><td nowrap=\"nowrap\">&nbsp;&nbsp;&nbsp;&nbsp;&nbsp;&nbsp;&nbsp;&nbsp;)</td><td class=\"diff_next\"></td><td class=\"diff_header\" id=\"to21_23\">23</td><td nowrap=\"nowrap\">&nbsp;&nbsp;&nbsp;&nbsp;&nbsp;&nbsp;&nbsp;&nbsp;)</td></tr>\n",
       "            <tr><td class=\"diff_next\" id=\"difflib_chg_to21__0\"></td><td class=\"diff_header\" id=\"from21_24\">24</td><td nowrap=\"nowrap\">&nbsp;&nbsp;&nbsp;&nbsp;&nbsp;&nbsp;)</td><td class=\"diff_next\"></td><td class=\"diff_header\" id=\"to21_24\">24</td><td nowrap=\"nowrap\">&nbsp;&nbsp;&nbsp;&nbsp;&nbsp;&nbsp;)</td></tr>\n",
       "            <tr><td class=\"diff_next\"></td><td class=\"diff_header\" id=\"from21_25\">25</td><td nowrap=\"nowrap\">&nbsp;&nbsp;&nbsp;&nbsp;)</td><td class=\"diff_next\"></td><td class=\"diff_header\" id=\"to21_25\">25</td><td nowrap=\"nowrap\">&nbsp;&nbsp;&nbsp;&nbsp;)</td></tr>\n",
       "            <tr><td class=\"diff_next\"></td><td class=\"diff_header\" id=\"from21_26\">26</td><td nowrap=\"nowrap\">&nbsp;&nbsp;)</td><td class=\"diff_next\"></td><td class=\"diff_header\" id=\"to21_26\">26</td><td nowrap=\"nowrap\">&nbsp;&nbsp;)</td></tr>\n",
       "            <tr><td class=\"diff_next\" id=\"difflib_chg_to21__1\"></td><td class=\"diff_header\" id=\"from21_27\">27</td><td nowrap=\"nowrap\">)</td><td class=\"diff_next\"></td><td class=\"diff_header\" id=\"to21_27\">27</td><td nowrap=\"nowrap\">)</td></tr>\n",
       "            <tr><td class=\"diff_next\"></td><td class=\"diff_header\" id=\"from21_28\">28</td><td nowrap=\"nowrap\">(:terminal</td><td class=\"diff_next\"></td><td class=\"diff_header\" id=\"to21_28\">28</td><td nowrap=\"nowrap\">(:terminal</td></tr>\n",
       "            <tr><td class=\"diff_next\"><a href=\"#difflib_chg_to21__1\">n</a></td><td class=\"diff_header\" id=\"from21_29\">29</td><td nowrap=\"nowrap\"><span class=\"diff_sub\">&nbsp;&nbsp;(&gt;=&nbsp;(total-score)&nbsp;300&nbsp;)</span></td><td class=\"diff_next\"><a href=\"#difflib_chg_to21__1\">n</a></td><td class=\"diff_header\" id=\"to21_29\">29</td><td nowrap=\"nowrap\"><span class=\"diff_add\">&nbsp;&nbsp;(&gt;=&nbsp;(total-score)&nbsp;(total-score)&nbsp;)</span></td></tr>\n",
       "            <tr><td class=\"diff_next\"></td><td class=\"diff_header\" id=\"from21_30\">30</td><td nowrap=\"nowrap\">)</td><td class=\"diff_next\"></td><td class=\"diff_header\" id=\"to21_30\">30</td><td nowrap=\"nowrap\">)</td></tr>\n",
       "            <tr><td class=\"diff_next\"></td><td class=\"diff_header\" id=\"from21_31\">31</td><td nowrap=\"nowrap\">(:scoring</td><td class=\"diff_next\"></td><td class=\"diff_header\" id=\"to21_31\">31</td><td nowrap=\"nowrap\">(:scoring</td></tr>\n",
       "            <tr><td class=\"diff_next\"><a href=\"#difflib_chg_to21__2\">n</a></td><td class=\"diff_header\" id=\"from21_32\">32</td><td nowrap=\"nowrap\"><span class=\"diff_sub\">&nbsp;&nbsp;(+&nbsp;(*&nbsp;5&nbsp;(count&nbsp;throwBallToBin:blue_dodgeball:red)&nbsp;)</span></td><td class=\"diff_next\"><a href=\"#difflib_chg_to21__2\">n</a></td><td class=\"diff_header\" id=\"to21_32\">32</td><td nowrap=\"nowrap\"><span class=\"diff_add\">&nbsp;&nbsp;(+&nbsp;(count-once-per-external-objects&nbsp;throwBallToBin:dodgeball)&nbsp;(*&nbsp;10&nbsp;(count&nbsp;throwBallToBin:pink_dod</span></td></tr>\n",
       "            <tr><td class=\"diff_next\"></td><td class=\"diff_header\"></td><td nowrap=\"nowrap\">&nbsp;</td><td class=\"diff_next\"></td><td class=\"diff_header\">></td><td nowrap=\"nowrap\"><span class=\"diff_add\">geball:red)&nbsp;)</span></td></tr>\n",
       "            <tr><td class=\"diff_next\"></td><td class=\"diff_header\" id=\"from21_33\">33</td><td nowrap=\"nowrap\"><span class=\"diff_sub\">&nbsp;&nbsp;&nbsp;&nbsp;(*&nbsp;10&nbsp;(count&nbsp;throwBallToBin:pink_dodgeball:red)&nbsp;)</span></td><td class=\"diff_next\"></td><td class=\"diff_header\"></td><td nowrap=\"nowrap\"></td></tr>\n",
       "            <tr><td class=\"diff_next\"></td><td class=\"diff_header\" id=\"from21_34\">34</td><td nowrap=\"nowrap\">&nbsp;&nbsp;&nbsp;&nbsp;(*&nbsp;10&nbsp;(count&nbsp;throwBallToBin:blue_dodgeball:pink)&nbsp;)</td><td class=\"diff_next\"></td><td class=\"diff_header\" id=\"to21_33\">33</td><td nowrap=\"nowrap\">&nbsp;&nbsp;&nbsp;&nbsp;(*&nbsp;10&nbsp;(count&nbsp;throwBallToBin:blue_dodgeball:pink)&nbsp;)</td></tr>\n",
       "            <tr><td class=\"diff_next\" id=\"difflib_chg_to21__2\"></td><td class=\"diff_header\" id=\"from21_35\">35</td><td nowrap=\"nowrap\">&nbsp;&nbsp;&nbsp;&nbsp;(*&nbsp;20&nbsp;(count&nbsp;throwBallToBin:pink_dodgeball:pink)&nbsp;)</td><td class=\"diff_next\"></td><td class=\"diff_header\" id=\"to21_34\">34</td><td nowrap=\"nowrap\">&nbsp;&nbsp;&nbsp;&nbsp;(*&nbsp;20&nbsp;(count&nbsp;throwBallToBin:pink_dodgeball:pink)&nbsp;)</td></tr>\n",
       "            <tr><td class=\"diff_next\"></td><td class=\"diff_header\" id=\"from21_36\">36</td><td nowrap=\"nowrap\">&nbsp;&nbsp;&nbsp;&nbsp;(*&nbsp;15&nbsp;(count&nbsp;throwBallToBin:blue_dodgeball:orange)&nbsp;)</td><td class=\"diff_next\"></td><td class=\"diff_header\" id=\"to21_35\">35</td><td nowrap=\"nowrap\">&nbsp;&nbsp;&nbsp;&nbsp;(*&nbsp;15&nbsp;(count&nbsp;throwBallToBin:blue_dodgeball:orange)&nbsp;)</td></tr>\n",
       "            <tr><td class=\"diff_next\"></td><td class=\"diff_header\" id=\"from21_37\">37</td><td nowrap=\"nowrap\">&nbsp;&nbsp;&nbsp;&nbsp;(*&nbsp;30&nbsp;(count&nbsp;throwBallToBin:pink_dodgeball:orange)&nbsp;)</td><td class=\"diff_next\"></td><td class=\"diff_header\" id=\"to21_36\">36</td><td nowrap=\"nowrap\">&nbsp;&nbsp;&nbsp;&nbsp;(*&nbsp;30&nbsp;(count&nbsp;throwBallToBin:pink_dodgeball:orange)&nbsp;)</td></tr>\n",
       "            <tr><td class=\"diff_next\"></td><td class=\"diff_header\" id=\"from21_38\">38</td><td nowrap=\"nowrap\">&nbsp;&nbsp;&nbsp;&nbsp;(*&nbsp;15&nbsp;(count&nbsp;throwBallToBin:blue_dodgeball:green)&nbsp;)</td><td class=\"diff_next\"></td><td class=\"diff_header\" id=\"to21_37\">37</td><td nowrap=\"nowrap\">&nbsp;&nbsp;&nbsp;&nbsp;(*&nbsp;15&nbsp;(count&nbsp;throwBallToBin:blue_dodgeball:green)&nbsp;)</td></tr>\n",
       "            <tr><td class=\"diff_next\" id=\"difflib_chg_to21__3\"></td><td class=\"diff_header\" id=\"from21_39\">39</td><td nowrap=\"nowrap\">&nbsp;&nbsp;&nbsp;&nbsp;(*&nbsp;30&nbsp;(count&nbsp;throwBallToBin:pink_dodgeball:green)&nbsp;)</td><td class=\"diff_next\"></td><td class=\"diff_header\" id=\"to21_38\">38</td><td nowrap=\"nowrap\">&nbsp;&nbsp;&nbsp;&nbsp;(*&nbsp;30&nbsp;(count&nbsp;throwBallToBin:pink_dodgeball:green)&nbsp;)</td></tr>\n",
       "            <tr><td class=\"diff_next\"><a href=\"#difflib_chg_to21__3\">n</a></td><td class=\"diff_header\"></td><td nowrap=\"nowrap\"></td><td class=\"diff_next\"><a href=\"#difflib_chg_to21__3\">n</a></td><td class=\"diff_header\" id=\"to21_39\">39</td><td nowrap=\"nowrap\"><span class=\"diff_add\">&nbsp;&nbsp;&nbsp;&nbsp;(*&nbsp;6&nbsp;(count&nbsp;throwBallToBin)&nbsp;)</span></td></tr>\n",
       "            <tr><td class=\"diff_next\"></td><td class=\"diff_header\" id=\"from21_40\">40</td><td nowrap=\"nowrap\">&nbsp;&nbsp;&nbsp;<span class=\"diff_sub\">&nbsp;(*&nbsp;20</span>&nbsp;(count&nbsp;throwBallToBin:<span class=\"diff_sub\">blue_</span>dodgeball<span class=\"diff_sub\">:purple</span>)<span class=\"diff_sub\">&nbsp;)</span></td><td class=\"diff_next\"></td><td class=\"diff_header\" id=\"to21_40\">40</td><td nowrap=\"nowrap\">&nbsp;&nbsp;&nbsp;&nbsp;(count&nbsp;throwBallToBin:dodgeball)</td></tr>\n",
       "            <tr><td class=\"diff_next\"></td><td class=\"diff_header\" id=\"from21_41\">41</td><td nowrap=\"nowrap\"><span class=\"diff_sub\">&nbsp;&nbsp;&nbsp;&nbsp;(*&nbsp;40&nbsp;(count&nbsp;throwBallToBin:pink_dodgeball:purple)&nbsp;)</span></td><td class=\"diff_next\"></td><td class=\"diff_header\"></td><td nowrap=\"nowrap\"></td></tr>\n",
       "            <tr><td class=\"diff_next\"></td><td class=\"diff_header\" id=\"from21_42\">42</td><td nowrap=\"nowrap\">&nbsp;&nbsp;&nbsp;&nbsp;(*&nbsp;20&nbsp;(count&nbsp;throwBallToBin:blue_dodgeball:yellow)&nbsp;)</td><td class=\"diff_next\"></td><td class=\"diff_header\" id=\"to21_41\">41</td><td nowrap=\"nowrap\">&nbsp;&nbsp;&nbsp;&nbsp;(*&nbsp;20&nbsp;(count&nbsp;throwBallToBin:blue_dodgeball:yellow)&nbsp;)</td></tr>\n",
       "            <tr><td class=\"diff_next\"><a href=\"#difflib_chg_to21__top\">t</a></td><td class=\"diff_header\" id=\"from21_43\">43</td><td nowrap=\"nowrap\">&nbsp;&nbsp;&nbsp;&nbsp;(*&nbsp;40&nbsp;(count&nbsp;throwBallToBin:<span class=\"diff_sub\">pink_</span>dodgeball<span class=\"diff_sub\">:yellow</span>)&nbsp;)</td><td class=\"diff_next\"><a href=\"#difflib_chg_to21__top\">t</a></td><td class=\"diff_header\" id=\"to21_42\">42</td><td nowrap=\"nowrap\">&nbsp;&nbsp;&nbsp;&nbsp;(*&nbsp;40&nbsp;(count&nbsp;throwBallToBin:dodgeball)&nbsp;)</td></tr>\n",
       "            <tr><td class=\"diff_next\"></td><td class=\"diff_header\" id=\"from21_44\">44</td><td nowrap=\"nowrap\">&nbsp;&nbsp;)</td><td class=\"diff_next\"></td><td class=\"diff_header\" id=\"to21_43\">43</td><td nowrap=\"nowrap\">&nbsp;&nbsp;)</td></tr>\n",
       "            <tr><td class=\"diff_next\"></td><td class=\"diff_header\" id=\"from21_45\">45</td><td nowrap=\"nowrap\">)</td><td class=\"diff_next\"></td><td class=\"diff_header\" id=\"to21_44\">44</td><td nowrap=\"nowrap\">)</td></tr>\n",
       "            <tr><td class=\"diff_next\"></td><td class=\"diff_header\" id=\"from21_46\">46</td><td nowrap=\"nowrap\">)</td><td class=\"diff_next\"></td><td class=\"diff_header\" id=\"to21_45\">45</td><td nowrap=\"nowrap\">)</td></tr>\n",
       "        </tbody>\n",
       "    </table>\n",
       "    <table class=\"diff\" summary=\"Legends\">\n",
       "        <tr> <th colspan=\"2\"> Legends </th> </tr>\n",
       "        <tr> <td> <table border=\"\" summary=\"Colors\">\n",
       "                      <tr><th> Colors </th> </tr>\n",
       "                      <tr><td class=\"diff_add\">&nbsp;Added&nbsp;</td></tr>\n",
       "                      <tr><td class=\"diff_chg\">Changed</td> </tr>\n",
       "                      <tr><td class=\"diff_sub\">Deleted</td> </tr>\n",
       "                  </table></td>\n",
       "             <td> <table border=\"\" summary=\"Links\">\n",
       "                      <tr><th colspan=\"2\"> Links </th> </tr>\n",
       "                      <tr><td>(f)irst change</td> </tr>\n",
       "                      <tr><td>(n)ext change</td> </tr>\n",
       "                      <tr><td>(t)op</td> </tr>\n",
       "                  </table></td> </tr>\n",
       "    </table>\n",
       "</body>\n",
       "\n",
       "</html>"
      ],
      "text/plain": [
       "<IPython.core.display.HTML object>"
      ]
     },
     "metadata": {},
     "output_type": "display_data"
    },
    {
     "data": {
      "text/markdown": [
       "### Feature Diffs"
      ],
      "text/plain": [
       "<IPython.core.display.Markdown object>"
      ]
     },
     "metadata": {},
     "output_type": "display_data"
    },
    {
     "name": "stdout",
     "output_type": "stream",
     "text": [
      "node_count_terminal_2: -1.000 (1.000 => 0.000)\n",
      "mean_depth_scoring_4: -1.000 (1.000 => 0.000)\n",
      "ast_ngram_terminal_n_5_score: -0.931 (0.958 => 0.027)\n",
      "ast_ngram_full_n_7_score: -0.052 (0.981 => 0.929)\n",
      "ast_ngram_scoring_n_5_score: -0.046 (1.000 => 0.954)\n",
      "node_count_terminal_1: 1.000 (0.000 => 1.000)\n",
      "mean_depth_scoring_3: 1.000 (0.000 => 1.000)\n",
      "pref_forall_count_once_per_external_objects_used_correct: 1.000 (0.000 => 1.000)\n"
     ]
    }
   ],
   "source": [
    "mcmc.visualize_sample(11)"
   ]
  },
  {
   "cell_type": "code",
   "execution_count": 72,
   "metadata": {},
   "outputs": [
    {
     "data": {
      "text/plain": [
       "{'comp': {'comp_op': '>', 'arg_1': {'arg': {'func': {'arg_1': {'term': '?w1', 'parseinfo': {'tokenizer': None, 'rule': 'predicate_or_function_location_term', 'pos': 812, 'endpos': 816, 'line': 22, 'endline': 22, 'alerts': []}}, 'arg_2': {'term': '?g', 'parseinfo': {'tokenizer': None, 'rule': 'predicate_or_function_term', 'pos': 816, 'endpos': 819, 'line': 22, 'endline': 22, 'alerts': []}}, 'parseinfo': {'tokenizer': None, 'rule': 'function_distance', 'pos': 803, 'endpos': 820, 'line': 22, 'endline': 22, 'alerts': []}}, 'parseinfo': {'tokenizer': None, 'rule': 'function_eval', 'pos': 803, 'endpos': 820, 'line': 22, 'endline': 22, 'alerts': []}}, 'parseinfo': {'tokenizer': None, 'rule': 'comparison_arg', 'pos': 802, 'endpos': 820, 'line': 22, 'endline': 22, 'alerts': []}}, 'arg_2': {'arg': {'func': {'arg_1': {'term': '?w2', 'parseinfo': {'tokenizer': None, 'rule': 'predicate_or_function_location_term', 'pos': 830, 'endpos': 834, 'line': 22, 'endline': 22, 'alerts': []}}, 'arg_2': {'term': '?g', 'parseinfo': {'tokenizer': None, 'rule': 'predicate_or_function_term', 'pos': 834, 'endpos': 837, 'line': 22, 'endline': 22, 'alerts': []}}, 'parseinfo': {'tokenizer': None, 'rule': 'function_distance', 'pos': 821, 'endpos': 838, 'line': 22, 'endline': 22, 'alerts': []}}, 'parseinfo': {'tokenizer': None, 'rule': 'function_eval', 'pos': 821, 'endpos': 838, 'line': 22, 'endline': 22, 'alerts': []}}, 'parseinfo': {'tokenizer': None, 'rule': 'comparison_arg', 'pos': 820, 'endpos': 838, 'line': 22, 'endline': 22, 'alerts': []}}, 'parseinfo': {'tokenizer': None, 'rule': 'two_arg_comparison', 'pos': 800, 'endpos': 839, 'line': 22, 'endline': 22, 'alerts': []}}, 'parseinfo': {'tokenizer': None, 'rule': 'function_comparison', 'pos': 800, 'endpos': 839, 'line': 22, 'endline': 22, 'alerts': []}}"
      ]
     },
     "execution_count": 72,
     "metadata": {},
     "output_type": "execute_result"
    }
   ],
   "source": [
    "mcmc.samples[75][0][4][1].preferences.definition.forall_pref.preferences.pref_body.body.exists_args.then_funcs[0].seq_func.once_pred.pred.and_args[-1].pred"
   ]
  },
  {
   "cell_type": "code",
   "execution_count": 80,
   "metadata": {},
   "outputs": [
    {
     "data": {
      "text/plain": [
       "{'terminal': {'op': '>=', 'expr_1': {'expr': '(total-score)', 'parseinfo': {'tokenizer': None, 'rule': 'terminal_expr', 'pos': 618, 'endpos': 632, 'line': 18, 'endline': 18, 'alerts': []}}, 'expr_2': {'expr': '(total-score)', 'parseinfo': {'tokenizer': None, 'rule': 'terminal_expr', 'pos': 116146, 'endpos': 116146, 'line': 116146, 'endline': 116146, 'alerts': []}}, 'parseinfo': {'tokenizer': None, 'rule': 'terminal_comp', 'pos': 615, 'endpos': 637, 'line': 18, 'endline': 18, 'alerts': []}}, 'parseinfo': {'tokenizer': None, 'rule': 'terminal', 'pos': 610, 'endpos': 637, 'line': 17, 'endline': 18, 'alerts': []}}"
      ]
     },
     "execution_count": 80,
     "metadata": {},
     "output_type": "execute_result"
    }
   ],
   "source": [
    "mcmc.samples[11][0][5][1]"
   ]
  },
  {
   "cell_type": "code",
   "execution_count": 85,
   "metadata": {},
   "outputs": [
    {
     "data": {
      "text/plain": [
       "True"
      ]
     },
     "execution_count": 85,
     "metadata": {},
     "output_type": "execute_result"
    }
   ],
   "source": [
    "from ast_parser import ASTBooleanParser\n",
    "bp = ASTBooleanParser()\n",
    "bp.evaluate_tautology(bp(mcmc.samples[11][0][5][1], section='(:terminal'))\n",
    "# bp(mcmc.samples[75][0][4][1].preferences.definition.forall_pref.preferences.pref_body.body.exists_args.then_funcs[0].seq_func.once_pred.pred.and_args[-1].pred, section='(:constraints')"
   ]
  },
  {
   "cell_type": "code",
   "execution_count": 94,
   "metadata": {},
   "outputs": [
    {
     "data": {
      "text/plain": [
       "TRUE"
      ]
     },
     "execution_count": 94,
     "metadata": {},
     "output_type": "execute_result"
    }
   ],
   "source": [
    "import ast_utils\n",
    "terminal = copy.deepcopy(mcmc.samples[11][3][5][1])\n",
    "ast_utils.replace_child(terminal.terminal, 'expr_1', '400')\n",
    "bp.game_start()\n",
    "bp(terminal, section='(:terminal')"
   ]
  },
  {
   "cell_type": "code",
   "execution_count": 39,
   "metadata": {},
   "outputs": [],
   "source": [
    "from argparse import Namespace\n",
    "from src.fitness_features import *\n",
    "args = Namespace(no_binarize=False, no_merge=False)\n",
    "featurizer = build_fitness_featurizer(args)"
   ]
  },
  {
   "cell_type": "code",
   "execution_count": 41,
   "metadata": {},
   "outputs": [
    {
     "data": {
      "text/plain": [
       "-1.1492754355700883"
      ]
     },
     "execution_count": 41,
     "metadata": {},
     "output_type": "execute_result"
    }
   ],
   "source": [
    "mcmc.fitness_featurizer.parse(mcmc.samples[50][0], 'mcmc', True, True)['ast_ngram_scoring_n_5_score']"
   ]
  },
  {
   "cell_type": "code",
   "execution_count": null,
   "metadata": {},
   "outputs": [],
   "source": [
    "ps = {k:v for k, v in featurizer.parse(mcmc.samples[37][0], 'mcmc', True, False).items() if 'all_variables' in k}\n",
    "ps"
   ]
  },
  {
   "cell_type": "code",
   "execution_count": null,
   "metadata": {},
   "outputs": [],
   "source": [
    "# %prun -r \n",
    "n_samples = 5\n",
    "start = 0\n",
    "end = start + n_samples\n",
    "\n",
    "for original_index in range(start, end):\n",
    "    print(f'Generating samples starting from original index {original_index} (id {_extract_game_id(real_game_texts[original_index])})')\n",
    "    mcmc.multiple_samples(n_samples, verbose=1, should_tqdm=True, initial_proposal=game_asts[original_index])\n",
    "\n",
    "    print()\n",
    "    for i in range(n_samples * (original_index - start), n_samples * (original_index - start + 1)):\n",
    "        print(i, mcmc.samples[i][2])"
   ]
  },
  {
   "cell_type": "code",
   "execution_count": null,
   "metadata": {},
   "outputs": [],
   "source": [
    "mcmc.visualize_sample(14)"
   ]
  },
  {
   "cell_type": "code",
   "execution_count": null,
   "metadata": {},
   "outputs": [],
   "source": [
    "mcmc.fitness_featurizer.full_text_registry[0].n_gram_model.models[-1].score(ast_printer.ast_to_string(mcmc.samples[14][0], ' '))"
   ]
  },
  {
   "cell_type": "code",
   "execution_count": null,
   "metadata": {},
   "outputs": [],
   "source": [
    "mcmc.fitness_featurizer.full_text_registry[0].n_gram_model.models[-1].score(ast_printer.ast_to_string(mcmc.samples[14][3], ' '))"
   ]
  },
  {
   "cell_type": "code",
   "execution_count": null,
   "metadata": {},
   "outputs": [],
   "source": [
    "ngram_model = mcmc.fitness_featurizer.full_text_registry[0].n_gram_model.models[-1]\n",
    "\n",
    "sample_ngrams = [('constraints', 'and', 'forall', 'wall', 'and'), ('and', 'forall', 'wall', 'and', 'preference'), ('forall', 'wall', 'and', 'preference', 'preferenceName'), ('wall', 'and', 'preference', 'preferenceName', 'exists'), ('and', 'preference', 'preferenceName', 'exists', 'block'), ('preference', 'preferenceName', 'exists', 'block', 'atend'), ('preferenceName', 'exists', 'block', 'atend', 'in'), ('exists', 'block', 'atend', 'in', 'scoring'), ('block', 'atend', 'in', 'scoring', 'externalforallmaximize'), ('atend', 'in', 'scoring', 'externalforallmaximize', 'countonceperobjects'), ('in', 'scoring', 'externalforallmaximize', 'countonceperobjects', 'preferenceName')]\n",
    "original_ngrams = [('constraints', 'and', 'forall', 'building', 'and'), ('and', 'forall', 'building', 'and', 'preference'), ('forall', 'building', 'and', 'preference', 'preferenceName'), ('building', 'and', 'preference', 'preferenceName', 'exists'), ('and', 'preference', 'preferenceName', 'exists', 'block'), ('preference', 'preferenceName', 'exists', 'block', 'atend'), ('preferenceName', 'exists', 'block', 'atend', 'in'), ('exists', 'block', 'atend', 'in', 'scoring'), ('block', 'atend', 'in', 'scoring', 'externalforallmaximize'), ('atend', 'in', 'scoring', 'externalforallmaximize', 'countonceperobjects'), ('in', 'scoring', 'externalforallmaximize', 'countonceperobjects', 'preferenceName')]\n",
    "\n",
    "print(f'Sample ngrams: {np.mean([ngram_model.ngram_logprobs[s] for s in sample_ngrams])} | ')\n",
    "for s in sample_ngrams:\n",
    "    print(s, ngram_model.ngram_counts[s], ngram_model.ngram_logprobs[s])\n",
    "\n",
    "print()\n",
    "print(f'Original ngrams: {np.mean([ngram_model.ngram_logprobs[s] for s in original_ngrams])}')\n",
    "for s in original_ngrams:\n",
    "    print(s, ngram_model.ngram_counts[s], ngram_model.ngram_logprobs[s])\n",
    "print()\n",
    "\n",
    "for s in sample_ngrams[:]:\n",
    "    if s in original_ngrams:\n",
    "        sample_ngrams.remove(s)\n",
    "        original_ngrams.remove(s)\n",
    "\n",
    "print('Sample remaining ngrams')\n",
    "for s in sample_ngrams:\n",
    "    print(s, ngram_model.ngram_counts[s], ngram_model.ngram_logprobs[s])\n",
    "\n",
    "print()\n",
    "print('Original remaining ngrams')\n",
    "for s in original_ngrams:\n",
    "    print(s, ngram_model.ngram_counts[s], ngram_model.ngram_logprobs[s])"
   ]
  },
  {
   "cell_type": "code",
   "execution_count": null,
   "metadata": {},
   "outputs": [],
   "source": [
    "original_ngrams = [('constraints', 'and', 'forall', 'building', 'and'), ('and', 'forall', 'building', 'and', 'preference'), ('forall', 'building', 'and', 'preference', 'preferenceName'), ('building', 'and', 'preference', 'preferenceName', 'exists'), ('and', 'preference', 'preferenceName', 'exists', 'block'), ('preference', 'preferenceName', 'exists', 'block', 'atend'), ('preferenceName', 'exists', 'block', 'atend', 'in'), ('exists', 'block', 'atend', 'in', 'scoring'), ('block', 'atend', 'in', 'scoring', 'externalforallmaximize'), ('atend', 'in', 'scoring', 'externalforallmaximize', 'countonceperobjects'), ('in', 'scoring', 'externalforallmaximize', 'countonceperobjects', 'preferenceName')]\n",
    "print('Original ngrams')\n",
    "for s in original_ngrams:\n",
    "    print(s, mcmc.fitness_featurizer.full_text_registry[0].n_gram_model.models[-1].ngram_counts[s], mcmc.fitness_featurizer.full_text_registry[0].n_gram_model.models[-1].ngram_logprobs[s])"
   ]
  },
  {
   "cell_type": "code",
   "execution_count": null,
   "metadata": {},
   "outputs": [],
   "source": [
    "mcmc.visualize_sample(7)"
   ]
  },
  {
   "cell_type": "code",
   "execution_count": null,
   "metadata": {},
   "outputs": [],
   "source": [
    "mcmc.visualize_sample(15)"
   ]
  },
  {
   "cell_type": "code",
   "execution_count": null,
   "metadata": {},
   "outputs": [],
   "source": []
  },
  {
   "attachments": {},
   "cell_type": "markdown",
   "metadata": {},
   "source": [
    "### Notes from looking at these games\n",
    "* **TODO:** debug the 'section-without' logic, it seems to not work\n",
    "* **TODO:** add features for preferences with different lengths of modals"
   ]
  },
  {
   "cell_type": "code",
   "execution_count": null,
   "metadata": {},
   "outputs": [],
   "source": []
  },
  {
   "cell_type": "code",
   "execution_count": null,
   "metadata": {},
   "outputs": [],
   "source": [
    "print(ast_printer.ast_to_string(samples[8][0], '\\n'))"
   ]
  },
  {
   "cell_type": "code",
   "execution_count": null,
   "metadata": {},
   "outputs": [],
   "source": [
    "fitness_featurizer = build_fitness_featurizer(DEFAULT_ARGS)\n",
    "features = fitness_featurizer.parse(samples[7][0], 'mcmc', True)\n",
    "{k: v for k, v in features.items() if 'correctly' in k or 'forall' in k or 'no' in k}"
   ]
  },
  {
   "cell_type": "code",
   "execution_count": null,
   "metadata": {},
   "outputs": [],
   "source": [
    "with gzip.open(DEFAULT_FITNESS_FUNCTION_PATH, 'rb') as f:\n",
    "    cv_fitness_model = pickle.load(f)"
   ]
  },
  {
   "cell_type": "code",
   "execution_count": null,
   "metadata": {},
   "outputs": [],
   "source": [
    "weights = cv_fitness_model.named_steps['fitness'].model.fc1.weight.data.detach().numpy().squeeze()\n",
    "bias = cv_fitness_model.named_steps['fitness'].model.fc1.bias.data.detach().numpy().squeeze()\n",
    "print(weights.mean(), bias)"
   ]
  },
  {
   "cell_type": "code",
   "execution_count": null,
   "metadata": {},
   "outputs": [],
   "source": [
    "plt.hist(weights, bins=100)\n",
    "plt.title('Fitness Model Weights')\n",
    "plt.xlabel('Weight magnitude')\n",
    "plt.ylabel('Count')"
   ]
  },
  {
   "cell_type": "code",
   "execution_count": null,
   "metadata": {},
   "outputs": [],
   "source": [
    "import ast_crossover_sampler\n",
    "asts = [ast for ast in cached_load_and_parse_games_from_file('../dsl/interactive-beta.pddl', \n",
    "    mcmc.grammar_parser, False, relative_path='..')]\n",
    "\n",
    "mcmc_with_crossover = MCMCRegrowthCrossoverSampler(DEFAULT_ARGS, \n",
    "    ast_crossover_sampler.CrossoverType.SAME_RULE, asts, 0.25,\n",
    "    '../models/cv_fitness_model_2022_12_26.pkl.gz', \n",
    "    greedy_acceptance=True, plateau_patience_steps=20, acceptance_temperature=10.0, max_steps=1000)"
   ]
  },
  {
   "cell_type": "code",
   "execution_count": null,
   "metadata": {},
   "outputs": [],
   "source": [
    "mcmc_with_crossover.multiple_samples(10, verbose=2, should_tqdm=True)\n",
    "print([x[2] for x in mcmc_with_crossover.samples])"
   ]
  },
  {
   "cell_type": "code",
   "execution_count": null,
   "metadata": {},
   "outputs": [],
   "source": [
    "print([x[2] for x in mcmc_with_crossover.samples])"
   ]
  },
  {
   "cell_type": "code",
   "execution_count": null,
   "metadata": {},
   "outputs": [],
   "source": []
  }
 ],
 "metadata": {
  "kernelspec": {
   "display_name": "game-gen",
   "language": "python",
   "name": "python3"
  },
  "language_info": {
   "codemirror_mode": {
    "name": "ipython",
    "version": 3
   },
   "file_extension": ".py",
   "mimetype": "text/x-python",
   "name": "python",
   "nbconvert_exporter": "python",
   "pygments_lexer": "ipython3",
   "version": "3.10.8"
  },
  "orig_nbformat": 4,
  "vscode": {
   "interpreter": {
    "hash": "a8b8c8d5c21b7aee7bd0053f69e9c255c013bbea7031fbef7e66d58dd46c0fa6"
   }
  }
 },
 "nbformat": 4,
 "nbformat_minor": 2
}
