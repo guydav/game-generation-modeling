{
 "cells": [
  {
   "cell_type": "code",
   "execution_count": 4,
   "metadata": {
    "vscode": {
     "languageId": "r"
    }
   },
   "outputs": [],
   "source": [
    "library(lme4)\n",
    "library(lmerTest)\n",
    "library(emmeans)\n",
    "library(repr)\n",
    "library(glue)\n",
    "library(performance)\n",
    "library(IRdisplay)\n",
    "library(comprehenr)\n",
    "library(GLMMadaptive)\n",
    "library(ordinal)\n",
    "library(multilevelTools)"
   ]
  },
  {
   "cell_type": "code",
   "execution_count": 5,
   "metadata": {
    "vscode": {
     "languageId": "r"
    }
   },
   "outputs": [],
   "source": [
    "options(width = 160)"
   ]
  },
  {
   "cell_type": "code",
   "execution_count": 6,
   "metadata": {
    "vscode": {
     "languageId": "r"
    }
   },
   "outputs": [
    {
     "name": "stdout",
     "output_type": "stream",
     "text": [
      "[1] 1292   45\n"
     ]
    },
    {
     "data": {
      "text/html": [
       "<table class=\"dataframe\">\n",
       "<caption>A data.frame: 2 x 45</caption>\n",
       "<thead>\n",
       "\t<tr><th></th><th scope=col>participant_id</th><th scope=col>game_id</th><th scope=col>real</th><th scope=col>matched</th><th scope=col>confident</th><th scope=col>fun_play</th><th scope=col>fun_watch</th><th scope=col>capability</th><th scope=col>goldilocks</th><th scope=col>creativity</th><th scope=col>...</th><th scope=col>centered_goldilocks</th><th scope=col>centered_creativity</th><th scope=col>centered_human_likeness</th><th scope=col>full_normalized_confident</th><th scope=col>full_normalized_fun_play</th><th scope=col>full_normalized_fun_watch</th><th scope=col>full_normalized_capability</th><th scope=col>full_normalized_goldilocks</th><th scope=col>full_normalized_creativity</th><th scope=col>full_normalized_human_likeness</th></tr>\n",
       "\t<tr><th></th><th scope=col>&lt;fct&gt;</th><th scope=col>&lt;fct&gt;</th><th scope=col>&lt;lgl&gt;</th><th scope=col>&lt;lgl&gt;</th><th scope=col>&lt;int&gt;</th><th scope=col>&lt;int&gt;</th><th scope=col>&lt;int&gt;</th><th scope=col>&lt;int&gt;</th><th scope=col>&lt;int&gt;</th><th scope=col>&lt;int&gt;</th><th scope=col>...</th><th scope=col>&lt;dbl&gt;</th><th scope=col>&lt;dbl&gt;</th><th scope=col>&lt;dbl&gt;</th><th scope=col>&lt;dbl&gt;</th><th scope=col>&lt;dbl&gt;</th><th scope=col>&lt;dbl&gt;</th><th scope=col>&lt;dbl&gt;</th><th scope=col>&lt;dbl&gt;</th><th scope=col>&lt;dbl&gt;</th><th scope=col>&lt;dbl&gt;</th></tr>\n",
       "</thead>\n",
       "<tbody>\n",
       "\t<tr><th scope=row>1</th><td>00c9bf44-28f3-469a-8a71-ea972af61bab-p102</td><td>(1, 1, 4, 0, 2, 0, 0, 0, 1, 0, 0, 0)</td><td>FALSE</td><td>FALSE</td><td>4</td><td>3</td><td>3</td><td>5</td><td>3</td><td>2</td><td>...</td><td>0</td><td>-1</td><td>-1</td><td>0.3349299</td><td>0.685856</td><td>0.736462</td><td>1.7028050</td><td>0.3154651</td><td>-0.1941839</td><td>-0.3231405</td></tr>\n",
       "\t<tr><th scope=row>2</th><td>00c9bf44-28f3-469a-8a71-ea972af61bab-p102</td><td>(1, 0, 2, 0, 1, 0, 0, 0, 0, 1, 0, 0)</td><td>FALSE</td><td>FALSE</td><td>4</td><td>3</td><td>3</td><td>4</td><td>3</td><td>3</td><td>...</td><td>0</td><td> 0</td><td>-1</td><td>0.3349299</td><td>0.685856</td><td>0.736462</td><td>0.8894874</td><td>0.3154651</td><td> 0.7489952</td><td>-0.3231405</td></tr>\n",
       "</tbody>\n",
       "</table>\n"
      ],
      "text/latex": [
       "A data.frame: 2 x 45\n",
       "\\begin{tabular}{r|lllllllllllllllllllll}\n",
       "  & participant\\_id & game\\_id & real & matched & confident & fun\\_play & fun\\_watch & capability & goldilocks & creativity & ... & centered\\_goldilocks & centered\\_creativity & centered\\_human\\_likeness & full\\_normalized\\_confident & full\\_normalized\\_fun\\_play & full\\_normalized\\_fun\\_watch & full\\_normalized\\_capability & full\\_normalized\\_goldilocks & full\\_normalized\\_creativity & full\\_normalized\\_human\\_likeness\\\\\n",
       "  & <fct> & <fct> & <lgl> & <lgl> & <int> & <int> & <int> & <int> & <int> & <int> & ... & <dbl> & <dbl> & <dbl> & <dbl> & <dbl> & <dbl> & <dbl> & <dbl> & <dbl> & <dbl>\\\\\n",
       "\\hline\n",
       "\t1 & 00c9bf44-28f3-469a-8a71-ea972af61bab-p102 & (1, 1, 4, 0, 2, 0, 0, 0, 1, 0, 0, 0) & FALSE & FALSE & 4 & 3 & 3 & 5 & 3 & 2 & ... & 0 & -1 & -1 & 0.3349299 & 0.685856 & 0.736462 & 1.7028050 & 0.3154651 & -0.1941839 & -0.3231405\\\\\n",
       "\t2 & 00c9bf44-28f3-469a-8a71-ea972af61bab-p102 & (1, 0, 2, 0, 1, 0, 0, 0, 0, 1, 0, 0) & FALSE & FALSE & 4 & 3 & 3 & 4 & 3 & 3 & ... & 0 &  0 & -1 & 0.3349299 & 0.685856 & 0.736462 & 0.8894874 & 0.3154651 &  0.7489952 & -0.3231405\\\\\n",
       "\\end{tabular}\n"
      ],
      "text/markdown": [
       "\n",
       "A data.frame: 2 x 45\n",
       "\n",
       "| <!--/--> | participant_id &lt;fct&gt; | game_id &lt;fct&gt; | real &lt;lgl&gt; | matched &lt;lgl&gt; | confident &lt;int&gt; | fun_play &lt;int&gt; | fun_watch &lt;int&gt; | capability &lt;int&gt; | goldilocks &lt;int&gt; | creativity &lt;int&gt; | ... ... | centered_goldilocks &lt;dbl&gt; | centered_creativity &lt;dbl&gt; | centered_human_likeness &lt;dbl&gt; | full_normalized_confident &lt;dbl&gt; | full_normalized_fun_play &lt;dbl&gt; | full_normalized_fun_watch &lt;dbl&gt; | full_normalized_capability &lt;dbl&gt; | full_normalized_goldilocks &lt;dbl&gt; | full_normalized_creativity &lt;dbl&gt; | full_normalized_human_likeness &lt;dbl&gt; |\n",
       "|---|---|---|---|---|---|---|---|---|---|---|---|---|---|---|---|---|---|---|---|---|---|\n",
       "| 1 | 00c9bf44-28f3-469a-8a71-ea972af61bab-p102 | (1, 1, 4, 0, 2, 0, 0, 0, 1, 0, 0, 0) | FALSE | FALSE | 4 | 3 | 3 | 5 | 3 | 2 | ... | 0 | -1 | -1 | 0.3349299 | 0.685856 | 0.736462 | 1.7028050 | 0.3154651 | -0.1941839 | -0.3231405 |\n",
       "| 2 | 00c9bf44-28f3-469a-8a71-ea972af61bab-p102 | (1, 0, 2, 0, 1, 0, 0, 0, 0, 1, 0, 0) | FALSE | FALSE | 4 | 3 | 3 | 4 | 3 | 3 | ... | 0 |  0 | -1 | 0.3349299 | 0.685856 | 0.736462 | 0.8894874 | 0.3154651 |  0.7489952 | -0.3231405 |\n",
       "\n"
      ],
      "text/plain": [
       "  participant_id                            game_id                              real  matched confident fun_play fun_watch capability goldilocks creativity\n",
       "1 00c9bf44-28f3-469a-8a71-ea972af61bab-p102 (1, 1, 4, 0, 2, 0, 0, 0, 1, 0, 0, 0) FALSE FALSE   4         3        3         5          3          2         \n",
       "2 00c9bf44-28f3-469a-8a71-ea972af61bab-p102 (1, 0, 2, 0, 1, 0, 0, 0, 0, 1, 0, 0) FALSE FALSE   4         3        3         4          3          3         \n",
       "  ... centered_goldilocks centered_creativity centered_human_likeness full_normalized_confident full_normalized_fun_play full_normalized_fun_watch\n",
       "1 ... 0                   -1                  -1                      0.3349299                 0.685856                 0.736462                 \n",
       "2 ... 0                    0                  -1                      0.3349299                 0.685856                 0.736462                 \n",
       "  full_normalized_capability full_normalized_goldilocks full_normalized_creativity full_normalized_human_likeness\n",
       "1 1.7028050                  0.3154651                  -0.1941839                 -0.3231405                    \n",
       "2 0.8894874                  0.3154651                   0.7489952                 -0.3231405                    "
      ]
     },
     "metadata": {},
     "output_type": "display_data"
    }
   ],
   "source": [
    "current_participants_df <- read.csv('./human_evals_data/current_participants_df.csv')\n",
    "\n",
    "# Set columns as categorical\n",
    "current_participants_df$participant_id <- as.factor(current_participants_df$participant_id)\n",
    "current_participants_df$game_id <- as.factor(current_participants_df$game_id)\n",
    "current_participants_df$game_type <- as.factor(current_participants_df$game_type)\n",
    "current_participants_df$full_game_id <- as.factor(current_participants_df$full_game_id)\n",
    "\n",
    "# Change the order of game_type levels\n",
    "current_participants_df$game_type <- factor(current_participants_df$game_type, levels = c('unmatched', 'unmatched_top_30', 'matched', 'real'))\n",
    "\n",
    "# Set columns as booleans\n",
    "current_participants_df$real <- as.logical(current_participants_df$real)\n",
    "current_participants_df$matched <- as.logical(current_participants_df$matched)\n",
    "\n",
    "ATTRIBUTES <- c(\"confident\", \"fun_play\", \"fun_watch\", \"capability\", \"goldilocks\", \"creativity\", \"human_likeness\")\n",
    "NORMALIZED_ATTRIBUTES <- to_vec(for (attr in ATTRIBUTES) { glue(\"normalized_{attr}\") } )\n",
    "CENTERED_ATTRIBUTES <- to_vec(for (attr in ATTRIBUTES) { glue(\"centered_{attr}\") } )\n",
    "FULL_NORMALIZED_ATTRIBUTES <- to_vec(for (attr in ATTRIBUTES) { glue(\"full_normalized_{attr}\") })\n",
    "\n",
    "for (i in seq_along(CENTERED_ATTRIBUTES)) {\n",
    "    current_participants_df[[CENTERED_ATTRIBUTES[i]]] <- current_participants_df[[ATTRIBUTES[i]]] - 3\n",
    "}\n",
    "\n",
    "for (i in seq_along(FULL_NORMALIZED_ATTRIBUTES)) {\n",
    "    current_participants_df[[FULL_NORMALIZED_ATTRIBUTES[i]]] <- (current_participants_df[[ATTRIBUTES[i]]] - mean(current_participants_df[[ATTRIBUTES[i]]])) / sd(current_participants_df[[ATTRIBUTES[i]]])\n",
    "}\n",
    "\n",
    "\n",
    "\n",
    "print(dim(current_participants_df))\n",
    "head(current_participants_df, 2)"
   ]
  },
  {
   "cell_type": "code",
   "execution_count": 7,
   "metadata": {
    "vscode": {
     "languageId": "r"
    }
   },
   "outputs": [
    {
     "name": "stdout",
     "output_type": "stream",
     "text": [
      "[1] 892  45\n"
     ]
    },
    {
     "data": {
      "text/html": [
       "<table class=\"dataframe\">\n",
       "<caption>A data.frame: 2 x 45</caption>\n",
       "<thead>\n",
       "\t<tr><th></th><th scope=col>participant_id</th><th scope=col>game_id</th><th scope=col>real</th><th scope=col>matched</th><th scope=col>confident</th><th scope=col>fun_play</th><th scope=col>fun_watch</th><th scope=col>capability</th><th scope=col>goldilocks</th><th scope=col>creativity</th><th scope=col>...</th><th scope=col>centered_goldilocks</th><th scope=col>centered_creativity</th><th scope=col>centered_human_likeness</th><th scope=col>full_normalized_confident</th><th scope=col>full_normalized_fun_play</th><th scope=col>full_normalized_fun_watch</th><th scope=col>full_normalized_capability</th><th scope=col>full_normalized_goldilocks</th><th scope=col>full_normalized_creativity</th><th scope=col>full_normalized_human_likeness</th></tr>\n",
       "\t<tr><th></th><th scope=col>&lt;fct&gt;</th><th scope=col>&lt;fct&gt;</th><th scope=col>&lt;lgl&gt;</th><th scope=col>&lt;lgl&gt;</th><th scope=col>&lt;int&gt;</th><th scope=col>&lt;int&gt;</th><th scope=col>&lt;int&gt;</th><th scope=col>&lt;int&gt;</th><th scope=col>&lt;int&gt;</th><th scope=col>&lt;int&gt;</th><th scope=col>...</th><th scope=col>&lt;dbl&gt;</th><th scope=col>&lt;dbl&gt;</th><th scope=col>&lt;dbl&gt;</th><th scope=col>&lt;dbl&gt;</th><th scope=col>&lt;dbl&gt;</th><th scope=col>&lt;dbl&gt;</th><th scope=col>&lt;dbl&gt;</th><th scope=col>&lt;dbl&gt;</th><th scope=col>&lt;dbl&gt;</th><th scope=col>&lt;dbl&gt;</th></tr>\n",
       "</thead>\n",
       "<tbody>\n",
       "\t<tr><th scope=row>3</th><td>00c9bf44-28f3-469a-8a71-ea972af61bab-p102</td><td>(1, 0, 2, 0, 0, 0, 0, 0, 0, 0, 2, 0)</td><td> TRUE</td><td>TRUE</td><td>4</td><td>2</td><td>2</td><td>5</td><td>4</td><td>3</td><td>...</td><td> 1</td><td> 0</td><td>-1</td><td>0.3349299</td><td>-0.2092207</td><td>-0.1445648</td><td>1.70280498</td><td> 1.2524326</td><td> 0.7489952</td><td>-0.3231405</td></tr>\n",
       "\t<tr><th scope=row>4</th><td>00c9bf44-28f3-469a-8a71-ea972af61bab-p102</td><td>(1, 0, 2, 0, 0, 0, 0, 0, 0, 0, 2, 0)</td><td>FALSE</td><td>TRUE</td><td>5</td><td>4</td><td>4</td><td>3</td><td>2</td><td>2</td><td>...</td><td>-1</td><td>-1</td><td>-1</td><td>1.1049113</td><td> 1.5809328</td><td> 1.6174888</td><td>0.07616983</td><td>-0.6215025</td><td>-0.1941839</td><td>-0.3231405</td></tr>\n",
       "</tbody>\n",
       "</table>\n"
      ],
      "text/latex": [
       "A data.frame: 2 x 45\n",
       "\\begin{tabular}{r|lllllllllllllllllllll}\n",
       "  & participant\\_id & game\\_id & real & matched & confident & fun\\_play & fun\\_watch & capability & goldilocks & creativity & ... & centered\\_goldilocks & centered\\_creativity & centered\\_human\\_likeness & full\\_normalized\\_confident & full\\_normalized\\_fun\\_play & full\\_normalized\\_fun\\_watch & full\\_normalized\\_capability & full\\_normalized\\_goldilocks & full\\_normalized\\_creativity & full\\_normalized\\_human\\_likeness\\\\\n",
       "  & <fct> & <fct> & <lgl> & <lgl> & <int> & <int> & <int> & <int> & <int> & <int> & ... & <dbl> & <dbl> & <dbl> & <dbl> & <dbl> & <dbl> & <dbl> & <dbl> & <dbl> & <dbl>\\\\\n",
       "\\hline\n",
       "\t3 & 00c9bf44-28f3-469a-8a71-ea972af61bab-p102 & (1, 0, 2, 0, 0, 0, 0, 0, 0, 0, 2, 0) &  TRUE & TRUE & 4 & 2 & 2 & 5 & 4 & 3 & ... &  1 &  0 & -1 & 0.3349299 & -0.2092207 & -0.1445648 & 1.70280498 &  1.2524326 &  0.7489952 & -0.3231405\\\\\n",
       "\t4 & 00c9bf44-28f3-469a-8a71-ea972af61bab-p102 & (1, 0, 2, 0, 0, 0, 0, 0, 0, 0, 2, 0) & FALSE & TRUE & 5 & 4 & 4 & 3 & 2 & 2 & ... & -1 & -1 & -1 & 1.1049113 &  1.5809328 &  1.6174888 & 0.07616983 & -0.6215025 & -0.1941839 & -0.3231405\\\\\n",
       "\\end{tabular}\n"
      ],
      "text/markdown": [
       "\n",
       "A data.frame: 2 x 45\n",
       "\n",
       "| <!--/--> | participant_id &lt;fct&gt; | game_id &lt;fct&gt; | real &lt;lgl&gt; | matched &lt;lgl&gt; | confident &lt;int&gt; | fun_play &lt;int&gt; | fun_watch &lt;int&gt; | capability &lt;int&gt; | goldilocks &lt;int&gt; | creativity &lt;int&gt; | ... ... | centered_goldilocks &lt;dbl&gt; | centered_creativity &lt;dbl&gt; | centered_human_likeness &lt;dbl&gt; | full_normalized_confident &lt;dbl&gt; | full_normalized_fun_play &lt;dbl&gt; | full_normalized_fun_watch &lt;dbl&gt; | full_normalized_capability &lt;dbl&gt; | full_normalized_goldilocks &lt;dbl&gt; | full_normalized_creativity &lt;dbl&gt; | full_normalized_human_likeness &lt;dbl&gt; |\n",
       "|---|---|---|---|---|---|---|---|---|---|---|---|---|---|---|---|---|---|---|---|---|---|\n",
       "| 3 | 00c9bf44-28f3-469a-8a71-ea972af61bab-p102 | (1, 0, 2, 0, 0, 0, 0, 0, 0, 0, 2, 0) |  TRUE | TRUE | 4 | 2 | 2 | 5 | 4 | 3 | ... |  1 |  0 | -1 | 0.3349299 | -0.2092207 | -0.1445648 | 1.70280498 |  1.2524326 |  0.7489952 | -0.3231405 |\n",
       "| 4 | 00c9bf44-28f3-469a-8a71-ea972af61bab-p102 | (1, 0, 2, 0, 0, 0, 0, 0, 0, 0, 2, 0) | FALSE | TRUE | 5 | 4 | 4 | 3 | 2 | 2 | ... | -1 | -1 | -1 | 1.1049113 |  1.5809328 |  1.6174888 | 0.07616983 | -0.6215025 | -0.1941839 | -0.3231405 |\n",
       "\n"
      ],
      "text/plain": [
       "  participant_id                            game_id                              real  matched confident fun_play fun_watch capability goldilocks creativity\n",
       "3 00c9bf44-28f3-469a-8a71-ea972af61bab-p102 (1, 0, 2, 0, 0, 0, 0, 0, 0, 0, 2, 0)  TRUE TRUE    4         2        2         5          4          3         \n",
       "4 00c9bf44-28f3-469a-8a71-ea972af61bab-p102 (1, 0, 2, 0, 0, 0, 0, 0, 0, 0, 2, 0) FALSE TRUE    5         4        4         3          2          2         \n",
       "  ... centered_goldilocks centered_creativity centered_human_likeness full_normalized_confident full_normalized_fun_play full_normalized_fun_watch\n",
       "3 ...  1                   0                  -1                      0.3349299                 -0.2092207               -0.1445648               \n",
       "4 ... -1                  -1                  -1                      1.1049113                  1.5809328                1.6174888               \n",
       "  full_normalized_capability full_normalized_goldilocks full_normalized_creativity full_normalized_human_likeness\n",
       "3 1.70280498                  1.2524326                  0.7489952                 -0.3231405                    \n",
       "4 0.07616983                 -0.6215025                 -0.1941839                 -0.3231405                    "
      ]
     },
     "metadata": {},
     "output_type": "display_data"
    }
   ],
   "source": [
    "filtered_df <- current_participants_df[current_participants_df$game_type != 'unmatched', ]\n",
    "filtered_df$game_type <- droplevels(filtered_df$game_type)\n",
    "\n",
    "print(dim(filtered_df))\n",
    "head(filtered_df, 2)"
   ]
  },
  {
   "cell_type": "markdown",
   "metadata": {},
   "source": [
    "## Do we need a mixed effects model?"
   ]
  },
  {
   "cell_type": "code",
   "execution_count": 8,
   "metadata": {
    "vscode": {
     "languageId": "r"
    }
   },
   "outputs": [
    {
     "name": "stdout",
     "output_type": "stream",
     "text": [
      "AIC for full_normalized_confident Fixed effects model: 2365.468 | ME with game id: 2310.450 | Difference: 55.0183\n",
      "AIC for full_normalized_fun_play Fixed effects model: 2509.595 | ME with game id: 2284.551 | Difference: 225.0439\n",
      "AIC for full_normalized_fun_watch Fixed effects model: 2541.932 | ME with game id: 2164.678 | Difference: 377.2531\n",
      "AIC for full_normalized_capability Fixed effects model: 2476.032 | ME with game id: 2162.976 | Difference: 313.0557\n",
      "AIC for full_normalized_goldilocks Fixed effects model: 2416.218 | ME with game id: 2376.805 | Difference: 39.41309\n",
      "AIC for full_normalized_creativity Fixed effects model: 2483.085 | ME with game id: 2266.051 | Difference: 217.0344\n",
      "AIC for full_normalized_human_likeness Fixed effects model: 2463.446 | ME with game id: 2310.330 | Difference: 153.1154\n",
      "Mean difference: 197.1334\n"
     ]
    }
   ],
   "source": [
    "# Iterate through attributes\n",
    "differences <- c()\n",
    "for (attr in FULL_NORMALIZED_ATTRIBUTES) {\n",
    "    # Create formula with current attribute\n",
    "    attr.glm <- glm(formula = as.formula(glue(\"{attr} ~ 1 + game_type + normalized_fitness\")), data = filtered_df)\n",
    "    attr.lmer <- lmer(formula = as.formula(glue(\"{attr} ~ 1 + game_type + normalized_fitness + (1 | participant_id)\")), data = filtered_df)\n",
    "    \n",
    "    fixed_effects_aic <- AIC(logLik(attr.glm))\n",
    "    mixed_effects_aic <- AIC(logLik(attr.lmer))\n",
    "    aic_diff <- fixed_effects_aic - mixed_effects_aic\n",
    "    differences <- append(differences, aic_diff)\n",
    "    print(glue(\"AIC for {attr} Fixed effects model: {format(fixed_effects_aic, nsmall=3)} | ME with game id: {format(mixed_effects_aic, nsmall=3)} | Difference: {format(aic_diff, nsmall=3)}\"))\n",
    "}\n",
    "\n",
    "mean_diff <- mean(differences)\n",
    "print(glue(\"Mean difference: {format(mean_diff, nsmall=3)}\"))\n",
    "\n",
    "# anova(conf.model.without, conf.model.with)\n",
    "# summary(confident_model)"
   ]
  },
  {
   "cell_type": "markdown",
   "metadata": {},
   "source": [
    "Conclusion: if we don't normalize scores by participant, we absolutely need a per-participant random effect\n",
    "\n",
    "## Do we need a mixed effect for the games?"
   ]
  },
  {
   "cell_type": "code",
   "execution_count": 9,
   "metadata": {
    "vscode": {
     "languageId": "r"
    }
   },
   "outputs": [
    {
     "name": "stderr",
     "output_type": "stream",
     "text": [
      "Warning message in checkConv(attr(opt, \"derivs\"), opt$par, ctrl = control$checkConv, :\n",
      "\"unable to evaluate scaled gradient\"\n",
      "Warning message in checkConv(attr(opt, \"derivs\"), opt$par, ctrl = control$checkConv, :\n",
      "\"Model failed to converge: degenerate  Hessian with 1 negative eigenvalues\"\n",
      "Warning message:\n",
      "\"Model failed to converge with 1 negative eigenvalue: -6.9e-03\"\n",
      "refitting model(s) with ML (instead of REML)\n",
      "\n"
     ]
    },
    {
     "name": "stdout",
     "output_type": "stream",
     "text": [
      "For full_normalized_confident, adding the game ID random effects results in AIC diff: 54.84572 | Chi-squared: 66.84572 | p-value: 1.809949e-12\n"
     ]
    },
    {
     "name": "stderr",
     "output_type": "stream",
     "text": [
      "Warning message in checkConv(attr(opt, \"derivs\"), opt$par, ctrl = control$checkConv, :\n",
      "\"unable to evaluate scaled gradient\"\n",
      "Warning message in checkConv(attr(opt, \"derivs\"), opt$par, ctrl = control$checkConv, :\n",
      "\"Model failed to converge: degenerate  Hessian with 3 negative eigenvalues\"\n",
      "Warning message:\n",
      "\"Model failed to converge with 3 negative eigenvalues: -1.9e-03 -8.2e-03 -8.5e-03\"\n",
      "refitting model(s) with ML (instead of REML)\n",
      "\n"
     ]
    },
    {
     "name": "stdout",
     "output_type": "stream",
     "text": [
      "For full_normalized_fun_play, adding the game ID random effects results in AIC diff: 31.06281 | Chi-squared: 43.06281 | p-value: 1.133526e-07\n"
     ]
    },
    {
     "name": "stderr",
     "output_type": "stream",
     "text": [
      "Warning message in checkConv(attr(opt, \"derivs\"), opt$par, ctrl = control$checkConv, :\n",
      "\"unable to evaluate scaled gradient\"\n",
      "Warning message in checkConv(attr(opt, \"derivs\"), opt$par, ctrl = control$checkConv, :\n",
      "\"Model failed to converge: degenerate  Hessian with 1 negative eigenvalues\"\n",
      "Warning message:\n",
      "\"Model failed to converge with 1 negative eigenvalue: -5.4e-04\"\n",
      "refitting model(s) with ML (instead of REML)\n",
      "\n"
     ]
    },
    {
     "name": "stdout",
     "output_type": "stream",
     "text": [
      "For full_normalized_fun_watch, adding the game ID random effects results in AIC diff: 14.19172 | Chi-squared: 26.19172 | p-value: 0.0002050567\n"
     ]
    },
    {
     "name": "stderr",
     "output_type": "stream",
     "text": [
      "boundary (singular) fit: see help('isSingular')\n",
      "\n",
      "Warning message:\n",
      "\"Model failed to converge with 2 negative eigenvalues: -1.5e-02 -1.5e-02\"\n",
      "refitting model(s) with ML (instead of REML)\n",
      "\n"
     ]
    },
    {
     "name": "stdout",
     "output_type": "stream",
     "text": [
      "For full_normalized_capability, adding the game ID random effects results in AIC diff: -9.850774 | Chi-squared: 2.149226 | p-value: 0.9054752\n"
     ]
    },
    {
     "name": "stderr",
     "output_type": "stream",
     "text": [
      "Warning message in checkConv(attr(opt, \"derivs\"), opt$par, ctrl = control$checkConv, :\n",
      "\"unable to evaluate scaled gradient\"\n",
      "Warning message in checkConv(attr(opt, \"derivs\"), opt$par, ctrl = control$checkConv, :\n",
      "\"Model failed to converge: degenerate  Hessian with 2 negative eigenvalues\"\n",
      "Warning message:\n",
      "\"Model failed to converge with 2 negative eigenvalues: -6.2e-03 -6.3e-03\"\n",
      "refitting model(s) with ML (instead of REML)\n",
      "\n"
     ]
    },
    {
     "name": "stdout",
     "output_type": "stream",
     "text": [
      "For full_normalized_goldilocks, adding the game ID random effects results in AIC diff: 97.39101 | Chi-squared: 109.391 | p-value: 2.733972e-21\n"
     ]
    },
    {
     "name": "stderr",
     "output_type": "stream",
     "text": [
      "refitting model(s) with ML (instead of REML)\n",
      "\n"
     ]
    },
    {
     "name": "stdout",
     "output_type": "stream",
     "text": [
      "For full_normalized_creativity, adding the game ID random effects results in AIC diff: 46.15622 | Chi-squared: 58.15622 | p-value: 1.065341e-10\n"
     ]
    },
    {
     "name": "stderr",
     "output_type": "stream",
     "text": [
      "Warning message in checkConv(attr(opt, \"derivs\"), opt$par, ctrl = control$checkConv, :\n",
      "\"unable to evaluate scaled gradient\"\n",
      "Warning message in checkConv(attr(opt, \"derivs\"), opt$par, ctrl = control$checkConv, :\n",
      "\"Model failed to converge: degenerate  Hessian with 1 negative eigenvalues\"\n",
      "Warning message:\n",
      "\"Model failed to converge with 1 negative eigenvalue: -3.7e-03\"\n",
      "refitting model(s) with ML (instead of REML)\n",
      "\n"
     ]
    },
    {
     "name": "stdout",
     "output_type": "stream",
     "text": [
      "For full_normalized_human_likeness, adding the game ID random effects results in AIC diff: 22.09407 | Chi-squared: 34.09407 | p-value: 6.451789e-06\n"
     ]
    }
   ],
   "source": [
    "# Iterate through attributes\n",
    "for (attr in FULL_NORMALIZED_ATTRIBUTES) {\n",
    "    # Create formula with current attribute\n",
    "    attr.lmer_no_game_id <- lmer(formula = as.formula(glue(\"{attr} ~ 1 + game_type + normalized_fitness + (1 | participant_id)\")), data = filtered_df)\n",
    "    attr.lmer_with_game_id <- update(attr.lmer_no_game_id, . ~ . + (1 + game_type | full_game_id))\n",
    "    \n",
    "    anova_results <- anova(attr.lmer_no_game_id, attr.lmer_with_game_id)\n",
    "    attr.aic_diff <- anova_results$AIC[[1]] - anova_results$AIC[[2]]\n",
    "    attr.chisq <- anova_results$Chisq[[2]]\n",
    "    attr.pvalue <- anova_results$`Pr(>Chisq)`[[2]] \n",
    "    # fixed_effects_aic <- AIC(logLik(attr.glm))\n",
    "    # mixed_effects_aic <- AIC(logLik(attr.lmer))\n",
    "    # aic_diff <- fixed_effects_aic - mixed_effects_aic\n",
    "    print(glue(\"For {attr}, adding the game ID random effects results in AIC diff: {format(attr.aic_diff, nsmall=3)} | Chi-squared: {format(attr.chisq, nsmall=3)} | p-value: {format(attr.pvalue, nsmall=3)}\"))\n",
    "\n",
    "}\n",
    "\n",
    "# anova(conf.model.without, conf.model.with)\n",
    "# summary(confident_model)"
   ]
  },
  {
   "cell_type": "markdown",
   "metadata": {},
   "source": [
    "Conclusion: we absolutely also need a mixed effect for the participants\n",
    "\n",
    "## Let's analyze these now"
   ]
  },
  {
   "cell_type": "code",
   "execution_count": 10,
   "metadata": {
    "vscode": {
     "languageId": "r"
    }
   },
   "outputs": [
    {
     "data": {
      "text/markdown": [
       "## full_normalized_confident"
      ]
     },
     "metadata": {},
     "output_type": "display_data"
    },
    {
     "name": "stderr",
     "output_type": "stream",
     "text": [
      "Warning message in checkConv(attr(opt, \"derivs\"), opt$par, ctrl = control$checkConv, :\n",
      "\"unable to evaluate scaled gradient\"\n",
      "Warning message in checkConv(attr(opt, \"derivs\"), opt$par, ctrl = control$checkConv, :\n",
      "\"Model failed to converge: degenerate  Hessian with 1 negative eigenvalues\"\n",
      "Warning message:\n",
      "\"Model failed to converge with 1 negative eigenvalue: -6.9e-03\"\n"
     ]
    },
    {
     "data": {
      "text/markdown": [
       "### Mixed Effects Model"
      ]
     },
     "metadata": {},
     "output_type": "display_data"
    },
    {
     "data": {
      "text/plain": [
       "Linear mixed model fit by REML. t-tests use Satterthwaite's method ['lmerModLmerTest']\n",
       "Formula: as.formula(glue(\"{attr} ~ 1 + game_type + normalized_fitness + (1 | participant_id) + (game_type | full_game_id)\"))\n",
       "   Data: filtered_df\n",
       "\n",
       "REML criterion at convergence: 2228.3\n",
       "\n",
       "Scaled residuals: \n",
       "    Min      1Q  Median      3Q     Max \n",
       "-2.7516 -0.5731  0.1287  0.6818  2.0203 \n",
       "\n",
       "Random effects:\n",
       " Groups         Name             Variance Std.Dev. Corr       \n",
       " participant_id (Intercept)      0.15285  0.3910              \n",
       " full_game_id   (Intercept)      0.05024  0.2241              \n",
       "                game_typematched 0.32362  0.5689   -0.87      \n",
       "                game_typereal    0.33333  0.5773   -0.67  0.56\n",
       " Residual                        0.54876  0.7408              \n",
       "Number of obs: 892, groups:  participant_id, 100; full_game_id, 90\n",
       "\n",
       "Fixed effects:\n",
       "                   Estimate Std. Error       df t value Pr(>|t|)    \n",
       "(Intercept)        -0.17962    0.07261 44.37840  -2.474  0.01726 *  \n",
       "game_typematched    0.20311    0.10976 50.43225   1.850  0.07012 .  \n",
       "game_typereal       0.45427    0.11328 44.25942   4.010  0.00023 ***\n",
       "normalized_fitness  0.33704    0.05654 75.69176   5.961 7.43e-08 ***\n",
       "---\n",
       "Signif. codes:  0 '***' 0.001 '**' 0.01 '*' 0.05 '.' 0.1 ' ' 1\n",
       "\n",
       "Correlation of Fixed Effects:\n",
       "            (Intr) gm_typm gm_typr\n",
       "gm_typmtchd -0.467                \n",
       "game_typerl -0.456  0.289         \n",
       "nrmlzd_ftns -0.011 -0.320   0.044 \n",
       "optimizer (nloptwrap) convergence code: 0 (OK)\n",
       "unable to evaluate scaled gradient\n",
       "Model failed to converge: degenerate  Hessian with 1 negative eigenvalues\n"
      ]
     },
     "metadata": {},
     "output_type": "display_data"
    },
    {
     "data": {
      "text/markdown": [
       "### Marginal Means"
      ]
     },
     "metadata": {},
     "output_type": "display_data"
    },
    {
     "data": {
      "text/plain": [
       " contrast                   estimate    SE   df t.ratio p.value\n",
       " matched - unmatched_top_30    0.203 0.110 53.5   1.838  0.1671\n",
       " real - unmatched_top_30       0.454 0.113 46.0   4.004  0.0006\n",
       " real - matched                0.251 0.134 57.9   1.878  0.1541\n",
       "\n",
       "Degrees-of-freedom method: kenward-roger \n",
       "P value adjustment: tukey method for comparing a family of 3 estimates "
      ]
     },
     "metadata": {},
     "output_type": "display_data"
    },
    {
     "data": {
      "text/markdown": [
       "------------------"
      ]
     },
     "metadata": {},
     "output_type": "display_data"
    },
    {
     "data": {
      "text/markdown": [
       "## full_normalized_fun_play"
      ]
     },
     "metadata": {},
     "output_type": "display_data"
    },
    {
     "name": "stderr",
     "output_type": "stream",
     "text": [
      "Warning message in checkConv(attr(opt, \"derivs\"), opt$par, ctrl = control$checkConv, :\n",
      "\"unable to evaluate scaled gradient\"\n",
      "Warning message in checkConv(attr(opt, \"derivs\"), opt$par, ctrl = control$checkConv, :\n",
      "\"Model failed to converge: degenerate  Hessian with 3 negative eigenvalues\"\n",
      "Warning message:\n",
      "\"Model failed to converge with 3 negative eigenvalues: -1.9e-03 -8.2e-03 -8.5e-03\"\n"
     ]
    },
    {
     "data": {
      "text/markdown": [
       "### Mixed Effects Model"
      ]
     },
     "metadata": {},
     "output_type": "display_data"
    },
    {
     "data": {
      "text/plain": [
       "Linear mixed model fit by REML. t-tests use Satterthwaite's method ['lmerModLmerTest']\n",
       "Formula: as.formula(glue(\"{attr} ~ 1 + game_type + normalized_fitness + (1 | participant_id) + (game_type | full_game_id)\"))\n",
       "   Data: filtered_df\n",
       "\n",
       "REML criterion at convergence: 2227\n",
       "\n",
       "Scaled residuals: \n",
       "    Min      1Q  Median      3Q     Max \n",
       "-2.6166 -0.6268 -0.0335  0.5919  3.6290 \n",
       "\n",
       "Random effects:\n",
       " Groups         Name             Variance Std.Dev. Corr       \n",
       " participant_id (Intercept)      0.38038  0.6168              \n",
       " full_game_id   (Intercept)      0.05386  0.2321              \n",
       "                game_typematched 0.06390  0.2528   -0.51      \n",
       "                game_typereal    0.08981  0.2997    0.00 -0.22\n",
       " Residual                        0.51470  0.7174              \n",
       "Number of obs: 892, groups:  participant_id, 100; full_game_id, 90\n",
       "\n",
       "Fixed effects:\n",
       "                   Estimate Std. Error       df t value Pr(>|t|)    \n",
       "(Intercept)        -0.13643    0.08696 86.11797  -1.569 0.120333    \n",
       "game_typematched    0.22021    0.09221 61.49670   2.388 0.020017 *  \n",
       "game_typereal       0.40659    0.10236 49.53956   3.972 0.000231 ***\n",
       "normalized_fitness  0.15444    0.04973 93.18381   3.105 0.002517 ** \n",
       "---\n",
       "Signif. codes:  0 '***' 0.001 '**' 0.01 '*' 0.05 '.' 0.1 ' ' 1\n",
       "\n",
       "Correlation of Fixed Effects:\n",
       "            (Intr) gm_typm gm_typr\n",
       "gm_typmtchd -0.466                \n",
       "game_typerl -0.423  0.387         \n",
       "nrmlzd_ftns -0.008 -0.342   0.038 \n",
       "optimizer (nloptwrap) convergence code: 0 (OK)\n",
       "unable to evaluate scaled gradient\n",
       "Model failed to converge: degenerate  Hessian with 3 negative eigenvalues\n"
      ]
     },
     "metadata": {},
     "output_type": "display_data"
    },
    {
     "data": {
      "text/markdown": [
       "### Marginal Means"
      ]
     },
     "metadata": {},
     "output_type": "display_data"
    },
    {
     "data": {
      "text/plain": [
       " contrast                   estimate    SE   df t.ratio p.value\n",
       " matched - unmatched_top_30    0.220 0.093 54.8   2.369  0.0549\n",
       " real - unmatched_top_30       0.407 0.103 48.6   3.965  0.0007\n",
       " real - matched                0.186 0.109 52.8   1.713  0.2098\n",
       "\n",
       "Degrees-of-freedom method: kenward-roger \n",
       "P value adjustment: tukey method for comparing a family of 3 estimates "
      ]
     },
     "metadata": {},
     "output_type": "display_data"
    },
    {
     "data": {
      "text/markdown": [
       "------------------"
      ]
     },
     "metadata": {},
     "output_type": "display_data"
    },
    {
     "data": {
      "text/markdown": [
       "## full_normalized_fun_watch"
      ]
     },
     "metadata": {},
     "output_type": "display_data"
    },
    {
     "name": "stderr",
     "output_type": "stream",
     "text": [
      "Warning message in checkConv(attr(opt, \"derivs\"), opt$par, ctrl = control$checkConv, :\n",
      "\"unable to evaluate scaled gradient\"\n",
      "Warning message in checkConv(attr(opt, \"derivs\"), opt$par, ctrl = control$checkConv, :\n",
      "\"Model failed to converge: degenerate  Hessian with 1 negative eigenvalues\"\n",
      "Warning message:\n",
      "\"Model failed to converge with 1 negative eigenvalue: -5.4e-04\"\n"
     ]
    },
    {
     "data": {
      "text/markdown": [
       "### Mixed Effects Model"
      ]
     },
     "metadata": {},
     "output_type": "display_data"
    },
    {
     "data": {
      "text/plain": [
       "Linear mixed model fit by REML. t-tests use Satterthwaite's method ['lmerModLmerTest']\n",
       "Formula: as.formula(glue(\"{attr} ~ 1 + game_type + normalized_fitness + (1 | participant_id) + (game_type | full_game_id)\"))\n",
       "   Data: filtered_df\n",
       "\n",
       "REML criterion at convergence: 2124.4\n",
       "\n",
       "Scaled residuals: \n",
       "    Min      1Q  Median      3Q     Max \n",
       "-2.7052 -0.6573 -0.0110  0.5236  3.6905 \n",
       "\n",
       "Random effects:\n",
       " Groups         Name             Variance Std.Dev. Corr       \n",
       " participant_id (Intercept)      0.51623  0.7185              \n",
       " full_game_id   (Intercept)      0.05447  0.2334              \n",
       "                game_typematched 0.03964  0.1991   -0.64      \n",
       "                game_typereal    0.09519  0.3085   -0.51  0.38\n",
       " Residual                        0.44420  0.6665              \n",
       "Number of obs: 892, groups:  participant_id, 100; full_game_id, 90\n",
       "\n",
       "Fixed effects:\n",
       "                    Estimate Std. Error        df t value Pr(>|t|)    \n",
       "(Intercept)         -0.11426    0.09320 100.37916  -1.226 0.223106    \n",
       "game_typematched     0.20047    0.08375  56.55081   2.394 0.020022 *  \n",
       "game_typereal        0.31670    0.08754  50.84708   3.618 0.000683 ***\n",
       "normalized_fitness   0.07208    0.04316  83.60061   1.670 0.098661 .  \n",
       "---\n",
       "Signif. codes:  0 '***' 0.001 '**' 0.01 '*' 0.05 '.' 0.1 ' ' 1\n",
       "\n",
       "Correlation of Fixed Effects:\n",
       "            (Intr) gm_typm gm_typr\n",
       "gm_typmtchd -0.450                \n",
       "game_typerl -0.432  0.471         \n",
       "nrmlzd_ftns -0.006 -0.330   0.034 \n",
       "optimizer (nloptwrap) convergence code: 0 (OK)\n",
       "unable to evaluate scaled gradient\n",
       "Model failed to converge: degenerate  Hessian with 1 negative eigenvalues\n"
      ]
     },
     "metadata": {},
     "output_type": "display_data"
    },
    {
     "data": {
      "text/markdown": [
       "### Marginal Means"
      ]
     },
     "metadata": {},
     "output_type": "display_data"
    },
    {
     "data": {
      "text/plain": [
       " contrast                   estimate     SE   df t.ratio p.value\n",
       " matched - unmatched_top_30    0.200 0.0844 54.1   2.375  0.0542\n",
       " real - unmatched_top_30       0.317 0.0877 50.8   3.610  0.0020\n",
       " real - matched                0.116 0.0888 52.2   1.309  0.3969\n",
       "\n",
       "Degrees-of-freedom method: kenward-roger \n",
       "P value adjustment: tukey method for comparing a family of 3 estimates "
      ]
     },
     "metadata": {},
     "output_type": "display_data"
    },
    {
     "data": {
      "text/markdown": [
       "------------------"
      ]
     },
     "metadata": {},
     "output_type": "display_data"
    },
    {
     "data": {
      "text/markdown": [
       "## full_normalized_capability"
      ]
     },
     "metadata": {},
     "output_type": "display_data"
    },
    {
     "name": "stderr",
     "output_type": "stream",
     "text": [
      "boundary (singular) fit: see help('isSingular')\n",
      "\n",
      "Warning message:\n",
      "\"Model failed to converge with 2 negative eigenvalues: -1.5e-02 -1.5e-02\"\n"
     ]
    },
    {
     "data": {
      "text/markdown": [
       "### Mixed Effects Model"
      ]
     },
     "metadata": {},
     "output_type": "display_data"
    },
    {
     "data": {
      "text/plain": [
       "Linear mixed model fit by REML. t-tests use Satterthwaite's method ['lmerModLmerTest']\n",
       "Formula: as.formula(glue(\"{attr} ~ 1 + game_type + normalized_fitness + (1 | participant_id) + (game_type | full_game_id)\"))\n",
       "   Data: filtered_df\n",
       "\n",
       "REML criterion at convergence: 2148.2\n",
       "\n",
       "Scaled residuals: \n",
       "    Min      1Q  Median      3Q     Max \n",
       "-3.0260 -0.6166  0.0563  0.5654  3.2398 \n",
       "\n",
       "Random effects:\n",
       " Groups         Name             Variance Std.Dev. Corr       \n",
       " participant_id (Intercept)      0.42893  0.6549              \n",
       " full_game_id   (Intercept)      0.02281  0.1510              \n",
       "                game_typematched 0.02281  0.1510   -1.00      \n",
       "                game_typereal    0.02428  0.1558   -0.64  0.64\n",
       " Residual                        0.49370  0.7026              \n",
       "Number of obs: 892, groups:  participant_id, 100; full_game_id, 90\n",
       "\n",
       "Fixed effects:\n",
       "                    Estimate Std. Error        df t value Pr(>|t|)  \n",
       "(Intercept)         -0.03212    0.08287  86.34769  -0.388   0.6993  \n",
       "game_typematched     0.13764    0.06869  65.01206   2.004   0.0493 *\n",
       "game_typereal        0.10568    0.06958  43.78647   1.519   0.1360  \n",
       "normalized_fitness  -0.06064    0.03463 117.49935  -1.751   0.0825 .\n",
       "---\n",
       "Signif. codes:  0 '***' 0.001 '**' 0.01 '*' 0.05 '.' 0.1 ' ' 1\n",
       "\n",
       "Correlation of Fixed Effects:\n",
       "            (Intr) gm_typm gm_typr\n",
       "gm_typmtchd -0.450                \n",
       "game_typerl -0.447  0.531         \n",
       "nrmlzd_ftns -0.008 -0.324   0.025 \n",
       "optimizer (nloptwrap) convergence code: 0 (OK)\n",
       "boundary (singular) fit: see help('isSingular')\n"
      ]
     },
     "metadata": {},
     "output_type": "display_data"
    },
    {
     "data": {
      "text/markdown": [
       "### Marginal Means"
      ]
     },
     "metadata": {},
     "output_type": "display_data"
    },
    {
     "data": {
      "text/plain": [
       " contrast                   estimate     SE   df t.ratio p.value\n",
       " matched - unmatched_top_30    0.138 0.0695 47.8   1.981  0.1280\n",
       " real - unmatched_top_30       0.106 0.0699 46.5   1.511  0.2950\n",
       " real - matched               -0.032 0.0677 46.8  -0.472  0.8848\n",
       "\n",
       "Degrees-of-freedom method: kenward-roger \n",
       "P value adjustment: tukey method for comparing a family of 3 estimates "
      ]
     },
     "metadata": {},
     "output_type": "display_data"
    },
    {
     "data": {
      "text/markdown": [
       "------------------"
      ]
     },
     "metadata": {},
     "output_type": "display_data"
    },
    {
     "data": {
      "text/markdown": [
       "## full_normalized_goldilocks"
      ]
     },
     "metadata": {},
     "output_type": "display_data"
    },
    {
     "name": "stderr",
     "output_type": "stream",
     "text": [
      "Warning message in checkConv(attr(opt, \"derivs\"), opt$par, ctrl = control$checkConv, :\n",
      "\"unable to evaluate scaled gradient\"\n",
      "Warning message in checkConv(attr(opt, \"derivs\"), opt$par, ctrl = control$checkConv, :\n",
      "\"Model failed to converge: degenerate  Hessian with 2 negative eigenvalues\"\n",
      "Warning message:\n",
      "\"Model failed to converge with 2 negative eigenvalues: -6.2e-03 -6.3e-03\"\n"
     ]
    },
    {
     "data": {
      "text/markdown": [
       "### Mixed Effects Model"
      ]
     },
     "metadata": {},
     "output_type": "display_data"
    },
    {
     "data": {
      "text/plain": [
       "Linear mixed model fit by REML. t-tests use Satterthwaite's method ['lmerModLmerTest']\n",
       "Formula: as.formula(glue(\"{attr} ~ 1 + game_type + normalized_fitness + (1 | participant_id) + (game_type | full_game_id)\"))\n",
       "   Data: filtered_df\n",
       "\n",
       "REML criterion at convergence: 2251.4\n",
       "\n",
       "Scaled residuals: \n",
       "    Min      1Q  Median      3Q     Max \n",
       "-2.8763 -0.5907  0.0270  0.5458  3.3107 \n",
       "\n",
       "Random effects:\n",
       " Groups         Name             Variance Std.Dev. Corr       \n",
       " participant_id (Intercept)      0.1496   0.3868              \n",
       " full_game_id   (Intercept)      0.2297   0.4793              \n",
       "                game_typematched 0.6646   0.8152   -1.00      \n",
       "                game_typereal    0.6043   0.7774   -0.85  0.85\n",
       " Residual                        0.5520   0.7430              \n",
       "Number of obs: 892, groups:  participant_id, 100; full_game_id, 90\n",
       "\n",
       "Fixed effects:\n",
       "                   Estimate Std. Error       df t value Pr(>|t|)    \n",
       "(Intercept)         0.01771    0.10668 37.88105   0.166 0.869069    \n",
       "game_typematched    0.11818    0.13167 59.01436   0.898 0.373074    \n",
       "game_typereal      -0.10009    0.13655 56.76224  -0.733 0.466569    \n",
       "normalized_fitness -0.21905    0.06348 85.39653  -3.451 0.000871 ***\n",
       "---\n",
       "Signif. codes:  0 '***' 0.001 '**' 0.01 '*' 0.05 '.' 0.1 ' ' 1\n",
       "\n",
       "Correlation of Fixed Effects:\n",
       "            (Intr) gm_typm gm_typr\n",
       "gm_typmtchd -0.703                \n",
       "game_typerl -0.679  0.540         \n",
       "nrmlzd_ftns -0.004 -0.305   0.037 \n",
       "optimizer (nloptwrap) convergence code: 0 (OK)\n",
       "unable to evaluate scaled gradient\n",
       "Model failed to converge: degenerate  Hessian with 2 negative eigenvalues\n"
      ]
     },
     "metadata": {},
     "output_type": "display_data"
    },
    {
     "data": {
      "text/markdown": [
       "### Marginal Means"
      ]
     },
     "metadata": {},
     "output_type": "display_data"
    },
    {
     "data": {
      "text/plain": [
       " contrast                   estimate    SE   df t.ratio p.value\n",
       " matched - unmatched_top_30    0.118 0.132 56.7   0.893  0.6468\n",
       " real - unmatched_top_30      -0.100 0.137 54.7  -0.732  0.7454\n",
       " real - matched               -0.218 0.130 55.1  -1.684  0.2202\n",
       "\n",
       "Degrees-of-freedom method: kenward-roger \n",
       "P value adjustment: tukey method for comparing a family of 3 estimates "
      ]
     },
     "metadata": {},
     "output_type": "display_data"
    },
    {
     "data": {
      "text/markdown": [
       "------------------"
      ]
     },
     "metadata": {},
     "output_type": "display_data"
    },
    {
     "data": {
      "text/markdown": [
       "## full_normalized_creativity"
      ]
     },
     "metadata": {},
     "output_type": "display_data"
    },
    {
     "data": {
      "text/markdown": [
       "### Mixed Effects Model"
      ]
     },
     "metadata": {},
     "output_type": "display_data"
    },
    {
     "data": {
      "text/plain": [
       "Linear mixed model fit by REML. t-tests use Satterthwaite's method ['lmerModLmerTest']\n",
       "Formula: as.formula(glue(\"{attr} ~ 1 + game_type + normalized_fitness + (1 | participant_id) + (game_type | full_game_id)\"))\n",
       "   Data: filtered_df\n",
       "\n",
       "REML criterion at convergence: 2193.1\n",
       "\n",
       "Scaled residuals: \n",
       "    Min      1Q  Median      3Q     Max \n",
       "-2.9281 -0.6460 -0.0900  0.5867  3.2814 \n",
       "\n",
       "Random effects:\n",
       " Groups         Name             Variance Std.Dev. Corr       \n",
       " participant_id (Intercept)      0.3591   0.5992              \n",
       " full_game_id   (Intercept)      0.1386   0.3723              \n",
       "                game_typematched 0.0451   0.2124   -1.00      \n",
       "                game_typereal    0.2495   0.4995   -0.65  0.65\n",
       " Residual                        0.4909   0.7006              \n",
       "Number of obs: 892, groups:  participant_id, 100; full_game_id, 90\n",
       "\n",
       "Fixed effects:\n",
       "                   Estimate Std. Error       df t value Pr(>|t|)    \n",
       "(Intercept)        -0.04944    0.10085 54.29999  -0.490 0.625976    \n",
       "game_typematched    0.17831    0.10083 46.96079   1.768 0.083497 .  \n",
       "game_typereal       0.16279    0.11530 51.31525   1.412 0.164009    \n",
       "normalized_fitness -0.17949    0.04970 79.36349  -3.611 0.000532 ***\n",
       "---\n",
       "Signif. codes:  0 '***' 0.001 '**' 0.01 '*' 0.05 '.' 0.1 ' ' 1\n",
       "\n",
       "Correlation of Fixed Effects:\n",
       "            (Intr) gm_typm gm_typr\n",
       "gm_typmtchd -0.646                \n",
       "game_typerl -0.566  0.557         \n",
       "nrmlzd_ftns -0.004 -0.319   0.032 "
      ]
     },
     "metadata": {},
     "output_type": "display_data"
    },
    {
     "data": {
      "text/markdown": [
       "### Marginal Means"
      ]
     },
     "metadata": {},
     "output_type": "display_data"
    },
    {
     "data": {
      "text/plain": [
       " contrast                   estimate    SE   df t.ratio p.value\n",
       " matched - unmatched_top_30   0.1783 0.101 49.7   1.757  0.1946\n",
       " real - unmatched_top_30      0.1628 0.115 53.8   1.410  0.3428\n",
       " real - matched              -0.0155 0.103 48.0  -0.150  0.9876\n",
       "\n",
       "Degrees-of-freedom method: kenward-roger \n",
       "P value adjustment: tukey method for comparing a family of 3 estimates "
      ]
     },
     "metadata": {},
     "output_type": "display_data"
    },
    {
     "data": {
      "text/markdown": [
       "------------------"
      ]
     },
     "metadata": {},
     "output_type": "display_data"
    },
    {
     "data": {
      "text/markdown": [
       "## full_normalized_human_likeness"
      ]
     },
     "metadata": {},
     "output_type": "display_data"
    },
    {
     "name": "stderr",
     "output_type": "stream",
     "text": [
      "Warning message in checkConv(attr(opt, \"derivs\"), opt$par, ctrl = control$checkConv, :\n",
      "\"unable to evaluate scaled gradient\"\n",
      "Warning message in checkConv(attr(opt, \"derivs\"), opt$par, ctrl = control$checkConv, :\n",
      "\"Model failed to converge: degenerate  Hessian with 1 negative eigenvalues\"\n",
      "Warning message:\n",
      "\"Model failed to converge with 1 negative eigenvalue: -3.7e-03\"\n"
     ]
    },
    {
     "data": {
      "text/markdown": [
       "### Mixed Effects Model"
      ]
     },
     "metadata": {},
     "output_type": "display_data"
    },
    {
     "data": {
      "text/plain": [
       "Linear mixed model fit by REML. t-tests use Satterthwaite's method ['lmerModLmerTest']\n",
       "Formula: as.formula(glue(\"{attr} ~ 1 + game_type + normalized_fitness + (1 | participant_id) + (game_type | full_game_id)\"))\n",
       "   Data: filtered_df\n",
       "\n",
       "REML criterion at convergence: 2261.9\n",
       "\n",
       "Scaled residuals: \n",
       "     Min       1Q   Median       3Q      Max \n",
       "-2.60218 -0.66011 -0.05462  0.61999  2.90758 \n",
       "\n",
       "Random effects:\n",
       " Groups         Name             Variance Std.Dev. Corr       \n",
       " participant_id (Intercept)      0.29712  0.5451              \n",
       " full_game_id   (Intercept)      0.02357  0.1535              \n",
       "                game_typematched 0.09642  0.3105   -0.31      \n",
       "                game_typereal    0.22700  0.4764   -0.79  0.22\n",
       " Residual                        0.55569  0.7454              \n",
       "Number of obs: 892, groups:  participant_id, 100; full_game_id, 90\n",
       "\n",
       "Fixed effects:\n",
       "                   Estimate Std. Error       df t value Pr(>|t|)    \n",
       "(Intercept)        -0.20740    0.07612 71.33836  -2.725  0.00809 ** \n",
       "game_typematched    0.30070    0.09374 50.03348   3.208  0.00233 ** \n",
       "game_typereal       0.55862    0.09687 41.05898   5.767 9.24e-07 ***\n",
       "normalized_fitness  0.23264    0.04892 76.61083   4.755 9.11e-06 ***\n",
       "---\n",
       "Signif. codes:  0 '***' 0.001 '**' 0.01 '*' 0.05 '.' 0.1 ' ' 1\n",
       "\n",
       "Correlation of Fixed Effects:\n",
       "            (Intr) gm_typm gm_typr\n",
       "gm_typmtchd -0.392                \n",
       "game_typerl -0.384  0.299         \n",
       "nrmlzd_ftns -0.012 -0.326   0.042 \n",
       "optimizer (nloptwrap) convergence code: 0 (OK)\n",
       "unable to evaluate scaled gradient\n",
       "Model failed to converge: degenerate  Hessian with 1 negative eigenvalues\n"
      ]
     },
     "metadata": {},
     "output_type": "display_data"
    },
    {
     "data": {
      "text/markdown": [
       "### Marginal Means"
      ]
     },
     "metadata": {},
     "output_type": "display_data"
    },
    {
     "data": {
      "text/plain": [
       " contrast                   estimate     SE   df t.ratio p.value\n",
       " matched - unmatched_top_30    0.301 0.0945 51.5   3.181  0.0069\n",
       " real - unmatched_top_30       0.559 0.0971 44.8   5.751  <.0001\n",
       " real - matched                0.258 0.1135 56.0   2.272  0.0682\n",
       "\n",
       "Degrees-of-freedom method: kenward-roger \n",
       "P value adjustment: tukey method for comparing a family of 3 estimates "
      ]
     },
     "metadata": {},
     "output_type": "display_data"
    },
    {
     "data": {
      "text/markdown": [
       "------------------"
      ]
     },
     "metadata": {},
     "output_type": "display_data"
    }
   ],
   "source": [
    "for (attr in FULL_NORMALIZED_ATTRIBUTES) {\n",
    "    display_markdown(glue(\"## {attr}\"))\n",
    "\n",
    "    # Create formula with current attribute\n",
    "    attr.lmer <- lmer(formula = as.formula(glue(\"{attr} ~ 1 + game_type + normalized_fitness + (1 | participant_id) + (game_type | full_game_id)\")), data = filtered_df)\n",
    "\n",
    "    display_markdown(\"### Mixed Effects Model\")    \n",
    "    display(summary(attr.lmer))\n",
    "\n",
    "    attr.marginal_means = emmeans(attr.lmer, \"game_type\")\n",
    "    display_markdown(\"### Marginal Means\")\n",
    "    display(pairs(attr.marginal_means, reverse = TRUE))\n",
    "\n",
    "    display_markdown(\"------------------\")\n",
    "\n",
    "    # anova_results <- anova(attr.lmer_no_participant, attr.lmer_with_participant)\n",
    "    # attr.chisq <- anova_results$Chisq[[2]]\n",
    "    # attr.pvalue <- anova_results$`Pr(>Chisq)`[[2]] \n",
    "    # # fixed_effects_aic <- AIC(logLik(attr.glm))\n",
    "    # # mixed_effects_aic <- AIC(logLik(attr.lmer))\n",
    "    # # aic_diff <- fixed_effects_aic - mixed_effects_aic\n",
    "    # print(glue(\"For {attr}, adding the participant ID random effects results in Chi-squared: {format(attr.chisq, nsmall=3)} | p-value: {format(attr.pvalue, nsmall=3)}\"))\n",
    "\n",
    "}\n"
   ]
  },
  {
   "cell_type": "code",
   "execution_count": 17,
   "metadata": {
    "vscode": {
     "languageId": "r"
    }
   },
   "outputs": [
    {
     "data": {
      "text/plain": [
       "Linear mixed model fit by REML. t-tests use Satterthwaite's method ['lmerModLmerTest']\n",
       "Formula: full_normalized_confident ~ 1 + normalized_fitness + (1 | participant_id) +      (1 | game_type/full_game_id)\n",
       "   Data: filtered_df\n",
       "Control: strictControl\n",
       "\n",
       "REML criterion at convergence: 2234.3\n",
       "\n",
       "Scaled residuals: \n",
       "    Min      1Q  Median      3Q     Max \n",
       "-2.7622 -0.5870  0.1217  0.6856  1.9656 \n",
       "\n",
       "Random effects:\n",
       " Groups                 Name        Variance Std.Dev.\n",
       " participant_id         (Intercept) 0.15154  0.3893  \n",
       " full_game_id:game_type (Intercept) 0.13691  0.3700  \n",
       " game_type              (Intercept) 0.04603  0.2145  \n",
       " Residual                           0.54934  0.7412  \n",
       "Number of obs: 892, groups:  participant_id, 100; full_game_id:game_type, 90; game_type, 3\n",
       "\n",
       "Fixed effects:\n",
       "                   Estimate Std. Error       df t value Pr(>|t|)    \n",
       "(Intercept)         0.04398    0.13854  2.38694   0.317    0.777    \n",
       "normalized_fitness  0.31766    0.05771 86.07059   5.504 3.77e-07 ***\n",
       "---\n",
       "Signif. codes:  0 '***' 0.001 '**' 0.01 '*' 0.05 '.' 0.1 ' ' 1\n",
       "\n",
       "Correlation of Fixed Effects:\n",
       "            (Intr)\n",
       "nrmlzd_ftns -0.080"
      ]
     },
     "metadata": {},
     "output_type": "display_data"
    },
    {
     "ename": "ERROR",
     "evalue": "Error in modelDiagnostics(l, ev.perv = 0.001): could not find function \"modelDiagnostics\"\n",
     "output_type": "error",
     "traceback": [
      "Error in modelDiagnostics(l, ev.perv = 0.001): could not find function \"modelDiagnostics\"\nTraceback:\n"
     ]
    }
   ],
   "source": [
    "strictControl <- lmerControl(optCtrl = list(\n",
    "   algorithm = \"NLOPT_LN_NELDERMEAD\",\n",
    "   xtol_abs = 1e-12,\n",
    "   ftol_abs = 1e-12))\n",
    "\n",
    "l <- lmer(formula = full_normalized_confident ~ 1 + normalized_fitness + (1 | participant_id) + (1 | game_type/full_game_id), \n",
    "    data = filtered_df, control = strictControl)\n",
    "\n",
    "summary(l)\n",
    "md <- modelDiagnostics(l, ev.perv = 0.001)\n",
    "plot(md, ask = FALSE)"
   ]
  },
  {
   "cell_type": "code",
   "execution_count": 18,
   "metadata": {
    "vscode": {
     "languageId": "r"
    }
   },
   "outputs": [
    {
     "data": {
      "text/plain": [
       "Linear mixed model fit by REML ['lmerModLmerTest']\n",
       "Formula: full_normalized_confident ~ 1 + normalized_fitness + (1 | participant_id) +      (1 | game_type/full_game_id)\n",
       "   Data: filtered_df\n",
       "REML criterion at convergence: 2234.303\n",
       "Random effects:\n",
       " Groups                 Name        Std.Dev.\n",
       " participant_id         (Intercept) 0.3893  \n",
       " full_game_id:game_type (Intercept) 0.3700  \n",
       " game_type              (Intercept) 0.2145  \n",
       " Residual                           0.7412  \n",
       "Number of obs: 892, groups:  participant_id, 100; full_game_id:game_type, 90; game_type, 3\n",
       "Fixed Effects:\n",
       "       (Intercept)  normalized_fitness  \n",
       "           0.04398             0.31766  "
      ]
     },
     "metadata": {},
     "output_type": "display_data"
    }
   ],
   "source": [
    "l"
   ]
  },
  {
   "cell_type": "code",
   "execution_count": null,
   "metadata": {
    "vscode": {
     "languageId": "r"
    }
   },
   "outputs": [],
   "source": [
    "confident_means = emmeans(confident_model, \"game_type\")\n",
    "print(pairs(confident_means, reverse = TRUE))\n",
    "print(pwpm(confident_means, reverse = TRUE))"
   ]
  },
  {
   "cell_type": "code",
   "execution_count": null,
   "metadata": {
    "vscode": {
     "languageId": "r"
    }
   },
   "outputs": [],
   "source": [
    "mm <- clmm(C(confident) ~ 1+ C(game_type) + normalized_fitness + (1 | participant_id),\n",
    "    # random = d +  , # + (1 | full_game_id), \n",
    "    data = filtered_df,\n",
    "    # Hess = TRUE,\n",
    "    )\n",
    "\n",
    "summary(mm)"
   ]
  },
  {
   "cell_type": "code",
   "execution_count": null,
   "metadata": {
    "vscode": {
     "languageId": "r"
    }
   },
   "outputs": [],
   "source": [
    "mm <- clmm(C(confident) ~ 1+ C(game_type) + normalized_fitness + (1 | participant_id) + (1 | full_game_id),\n",
    "    # random = d +  , # + (1 | full_game_id), \n",
    "    data = filtered_df,\n",
    "    # Hess = TRUE,\n",
    "    )\n",
    "\n",
    "summary(mm)"
   ]
  },
  {
   "cell_type": "code",
   "execution_count": null,
   "metadata": {
    "vscode": {
     "languageId": "r"
    }
   },
   "outputs": [],
   "source": [
    "install.packages(\"multilevelTools\")"
   ]
  }
 ],
 "metadata": {
  "kernelspec": {
   "display_name": "R",
   "language": "R",
   "name": "ir"
  },
  "language_info": {
   "codemirror_mode": "r",
   "file_extension": ".r",
   "mimetype": "text/x-r-source",
   "name": "R",
   "pygments_lexer": "r",
   "version": "4.3.2"
  }
 },
 "nbformat": 4,
 "nbformat_minor": 2
}
