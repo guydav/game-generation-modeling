{
 "cells": [
  {
   "cell_type": "code",
   "execution_count": 1,
   "metadata": {},
   "outputs": [],
   "source": [
    "%autoreload 2"
   ]
  },
  {
   "cell_type": "code",
   "execution_count": 2,
   "metadata": {},
   "outputs": [],
   "source": [
    "from collections import defaultdict\n",
    "from argparse import Namespace\n",
    "import copy\n",
    "import gzip\n",
    "import itertools\n",
    "import os\n",
    "import pickle\n",
    "import sys\n",
    "import typing\n",
    "\n",
    "import matplotlib\n",
    "import matplotlib.pyplot as plt\n",
    "import numpy as np\n",
    "import pandas as pd\n",
    "import tatsu\n",
    "import tatsu.ast\n",
    "import torch\n",
    "import torch.nn as nn\n",
    "import torch.nn.functional as F\n",
    "from torch.utils.data import TensorDataset, DataLoader\n",
    "import tqdm\n",
    "import sklearn\n",
    "from sklearn.model_selection import GridSearchCV, train_test_split, KFold\n",
    "from sklearn.pipeline import Pipeline\n",
    "\n",
    "sys.path.append(os.path.abspath('..'))\n",
    "sys.path.append(os.path.abspath('../src'))\n",
    "from src.ast_utils import _extract_game_id\n",
    "from src import fitness_energy_utils as utils\n",
    "from src.fitness_energy_utils import NON_FEATURE_COLUMNS\n",
    "from src.fitness_features import *\n",
    "from src.ast_counter_sampler import *\n",
    "from src.ast_mcmc_regrowth import *"
   ]
  },
  {
   "cell_type": "code",
   "execution_count": 3,
   "metadata": {},
   "outputs": [],
   "source": [
    "grammar = open('../dsl/dsl.ebnf').read()\n",
    "grammar_parser = tatsu.compile(grammar)\n",
    "game_asts = list(cached_load_and_parse_games_from_file('../dsl/interactive-beta.pddl', grammar_parser, False, relative_path='..'))\n",
    "real_game_texts = [ast_printer.ast_to_string(ast, '\\n') for ast in game_asts]\n",
    "# regrown_game_texts = list(load_games_from_file('../dsl/ast-real-regrowth-samples.pddl'))\n",
    "# regrown_game_1024_texts = list(load_games_from_file('../dsl/ast-real-regrowth-samples-1024.pddl'))\n",
    "# print(len(real_game_texts), len(regrown_game_texts), len(regrown_game_texts) / 98, len(regrown_game_1024_texts), len(regrown_game_1024_texts) / 98)\n"
   ]
  },
  {
   "cell_type": "code",
   "execution_count": 4,
   "metadata": {},
   "outputs": [
    {
     "name": "stdout",
     "output_type": "stream",
     "text": [
      "['interactive-beta.pddl' 'ast-real-regrowth-samples-1024.pddl']\n"
     ]
    },
    {
     "data": {
      "text/html": [
       "<div>\n",
       "<style scoped>\n",
       "    .dataframe tbody tr th:only-of-type {\n",
       "        vertical-align: middle;\n",
       "    }\n",
       "\n",
       "    .dataframe tbody tr th {\n",
       "        vertical-align: top;\n",
       "    }\n",
       "\n",
       "    .dataframe thead th {\n",
       "        text-align: right;\n",
       "    }\n",
       "</style>\n",
       "<table border=\"1\" class=\"dataframe\">\n",
       "  <thead>\n",
       "    <tr style=\"text-align: right;\">\n",
       "      <th></th>\n",
       "      <th>Index</th>\n",
       "      <th>src_file</th>\n",
       "      <th>game_name</th>\n",
       "      <th>domain_name</th>\n",
       "      <th>original_game_name</th>\n",
       "      <th>real</th>\n",
       "      <th>all_variables_defined</th>\n",
       "      <th>all_variables_used</th>\n",
       "      <th>all_preferences_used</th>\n",
       "      <th>setup_objects_used</th>\n",
       "      <th>...</th>\n",
       "      <th>ast_ngram_constraints_n_6_score</th>\n",
       "      <th>ast_ngram_constraints_n_7_score</th>\n",
       "      <th>ast_ngram_terminal_n_2_score</th>\n",
       "      <th>ast_ngram_terminal_n_3_score</th>\n",
       "      <th>ast_ngram_terminal_n_4_score</th>\n",
       "      <th>ast_ngram_terminal_n_5_score</th>\n",
       "      <th>ast_ngram_scoring_n_2_score</th>\n",
       "      <th>ast_ngram_scoring_n_3_score</th>\n",
       "      <th>ast_ngram_scoring_n_4_score</th>\n",
       "      <th>ast_ngram_scoring_n_5_score</th>\n",
       "    </tr>\n",
       "  </thead>\n",
       "  <tbody>\n",
       "    <tr>\n",
       "      <th>0</th>\n",
       "      <td>0</td>\n",
       "      <td>interactive-beta.pddl</td>\n",
       "      <td>6172feb1665491d1efbce164-0</td>\n",
       "      <td>medium-objects-room-v1</td>\n",
       "      <td>6172feb1665491d1efbce164-0</td>\n",
       "      <td>1</td>\n",
       "      <td>1</td>\n",
       "      <td>1</td>\n",
       "      <td>1</td>\n",
       "      <td>1.00</td>\n",
       "      <td>...</td>\n",
       "      <td>0.975856</td>\n",
       "      <td>0.984382</td>\n",
       "      <td>0.970248</td>\n",
       "      <td>0.981414</td>\n",
       "      <td>0.981920</td>\n",
       "      <td>0.983617</td>\n",
       "      <td>0.919078</td>\n",
       "      <td>0.915602</td>\n",
       "      <td>0.974574</td>\n",
       "      <td>0.987096</td>\n",
       "    </tr>\n",
       "    <tr>\n",
       "      <th>1</th>\n",
       "      <td>1</td>\n",
       "      <td>interactive-beta.pddl</td>\n",
       "      <td>5f77754ba932fb2c4ba181d8-2</td>\n",
       "      <td>many-objects-room-v1</td>\n",
       "      <td>5f77754ba932fb2c4ba181d8-2</td>\n",
       "      <td>1</td>\n",
       "      <td>1</td>\n",
       "      <td>1</td>\n",
       "      <td>1</td>\n",
       "      <td>1.00</td>\n",
       "      <td>...</td>\n",
       "      <td>0.985632</td>\n",
       "      <td>0.986181</td>\n",
       "      <td>0.966645</td>\n",
       "      <td>0.978594</td>\n",
       "      <td>0.977472</td>\n",
       "      <td>0.984273</td>\n",
       "      <td>0.921563</td>\n",
       "      <td>0.931860</td>\n",
       "      <td>0.945369</td>\n",
       "      <td>0.962067</td>\n",
       "    </tr>\n",
       "    <tr>\n",
       "      <th>2</th>\n",
       "      <td>2</td>\n",
       "      <td>interactive-beta.pddl</td>\n",
       "      <td>614b603d4da88384282967a7-3</td>\n",
       "      <td>many-objects-room-v1</td>\n",
       "      <td>614b603d4da88384282967a7-3</td>\n",
       "      <td>1</td>\n",
       "      <td>1</td>\n",
       "      <td>1</td>\n",
       "      <td>1</td>\n",
       "      <td>0.00</td>\n",
       "      <td>...</td>\n",
       "      <td>0.975984</td>\n",
       "      <td>0.980604</td>\n",
       "      <td>0.000000</td>\n",
       "      <td>0.000000</td>\n",
       "      <td>0.000000</td>\n",
       "      <td>0.000000</td>\n",
       "      <td>0.844787</td>\n",
       "      <td>0.858832</td>\n",
       "      <td>0.923039</td>\n",
       "      <td>0.942307</td>\n",
       "    </tr>\n",
       "    <tr>\n",
       "      <th>3</th>\n",
       "      <td>3</td>\n",
       "      <td>interactive-beta.pddl</td>\n",
       "      <td>5bc79f652885710001a0e82a-5</td>\n",
       "      <td>few-objects-room-v1</td>\n",
       "      <td>5bc79f652885710001a0e82a-5</td>\n",
       "      <td>1</td>\n",
       "      <td>1</td>\n",
       "      <td>1</td>\n",
       "      <td>1</td>\n",
       "      <td>0.00</td>\n",
       "      <td>...</td>\n",
       "      <td>0.986042</td>\n",
       "      <td>0.985931</td>\n",
       "      <td>0.000000</td>\n",
       "      <td>0.000000</td>\n",
       "      <td>0.000000</td>\n",
       "      <td>0.000000</td>\n",
       "      <td>0.919078</td>\n",
       "      <td>0.915602</td>\n",
       "      <td>0.974574</td>\n",
       "      <td>0.987096</td>\n",
       "    </tr>\n",
       "    <tr>\n",
       "      <th>4</th>\n",
       "      <td>4</td>\n",
       "      <td>interactive-beta.pddl</td>\n",
       "      <td>614dec67f6eb129c3a77defd-6</td>\n",
       "      <td>medium-objects-room-v1</td>\n",
       "      <td>614dec67f6eb129c3a77defd-6</td>\n",
       "      <td>1</td>\n",
       "      <td>1</td>\n",
       "      <td>1</td>\n",
       "      <td>1</td>\n",
       "      <td>0.25</td>\n",
       "      <td>...</td>\n",
       "      <td>0.984624</td>\n",
       "      <td>0.983172</td>\n",
       "      <td>0.000000</td>\n",
       "      <td>0.000000</td>\n",
       "      <td>0.000000</td>\n",
       "      <td>0.000000</td>\n",
       "      <td>0.976741</td>\n",
       "      <td>0.978090</td>\n",
       "      <td>0.970715</td>\n",
       "      <td>0.987147</td>\n",
       "    </tr>\n",
       "  </tbody>\n",
       "</table>\n",
       "<p>5 rows × 356 columns</p>\n",
       "</div>"
      ],
      "text/plain": [
       "   Index               src_file                   game_name  \\\n",
       "0      0  interactive-beta.pddl  6172feb1665491d1efbce164-0   \n",
       "1      1  interactive-beta.pddl  5f77754ba932fb2c4ba181d8-2   \n",
       "2      2  interactive-beta.pddl  614b603d4da88384282967a7-3   \n",
       "3      3  interactive-beta.pddl  5bc79f652885710001a0e82a-5   \n",
       "4      4  interactive-beta.pddl  614dec67f6eb129c3a77defd-6   \n",
       "\n",
       "              domain_name          original_game_name  real  \\\n",
       "0  medium-objects-room-v1  6172feb1665491d1efbce164-0     1   \n",
       "1    many-objects-room-v1  5f77754ba932fb2c4ba181d8-2     1   \n",
       "2    many-objects-room-v1  614b603d4da88384282967a7-3     1   \n",
       "3     few-objects-room-v1  5bc79f652885710001a0e82a-5     1   \n",
       "4  medium-objects-room-v1  614dec67f6eb129c3a77defd-6     1   \n",
       "\n",
       "   all_variables_defined  all_variables_used  all_preferences_used  \\\n",
       "0                      1                   1                     1   \n",
       "1                      1                   1                     1   \n",
       "2                      1                   1                     1   \n",
       "3                      1                   1                     1   \n",
       "4                      1                   1                     1   \n",
       "\n",
       "   setup_objects_used  ...  ast_ngram_constraints_n_6_score  \\\n",
       "0                1.00  ...                         0.975856   \n",
       "1                1.00  ...                         0.985632   \n",
       "2                0.00  ...                         0.975984   \n",
       "3                0.00  ...                         0.986042   \n",
       "4                0.25  ...                         0.984624   \n",
       "\n",
       "   ast_ngram_constraints_n_7_score  ast_ngram_terminal_n_2_score  \\\n",
       "0                         0.984382                      0.970248   \n",
       "1                         0.986181                      0.966645   \n",
       "2                         0.980604                      0.000000   \n",
       "3                         0.985931                      0.000000   \n",
       "4                         0.983172                      0.000000   \n",
       "\n",
       "   ast_ngram_terminal_n_3_score  ast_ngram_terminal_n_4_score  \\\n",
       "0                      0.981414                      0.981920   \n",
       "1                      0.978594                      0.977472   \n",
       "2                      0.000000                      0.000000   \n",
       "3                      0.000000                      0.000000   \n",
       "4                      0.000000                      0.000000   \n",
       "\n",
       "   ast_ngram_terminal_n_5_score  ast_ngram_scoring_n_2_score  \\\n",
       "0                      0.983617                     0.919078   \n",
       "1                      0.984273                     0.921563   \n",
       "2                      0.000000                     0.844787   \n",
       "3                      0.000000                     0.919078   \n",
       "4                      0.000000                     0.976741   \n",
       "\n",
       "   ast_ngram_scoring_n_3_score  ast_ngram_scoring_n_4_score  \\\n",
       "0                     0.915602                     0.974574   \n",
       "1                     0.931860                     0.945369   \n",
       "2                     0.858832                     0.923039   \n",
       "3                     0.915602                     0.974574   \n",
       "4                     0.978090                     0.970715   \n",
       "\n",
       "   ast_ngram_scoring_n_5_score  \n",
       "0                     0.987096  \n",
       "1                     0.962067  \n",
       "2                     0.942307  \n",
       "3                     0.987096  \n",
       "4                     0.987147  \n",
       "\n",
       "[5 rows x 356 columns]"
      ]
     },
     "execution_count": 4,
     "metadata": {},
     "output_type": "execute_result"
    }
   ],
   "source": [
    "fitness_df = utils.load_fitness_data('../data/fitness_features_1024_regrowths.csv.gz')\n",
    "print(fitness_df.src_file.unique())\n",
    "fitness_df.head()"
   ]
  },
  {
   "cell_type": "markdown",
   "metadata": {},
   "source": [
    "# Plan of attack\n",
    "* Use the code in `ast_counter_sampler.py` to generate a sample from the MLE\n",
    "* Score it with a fitness function adapted to working with a single example at a time\n",
    "* At each subsequent iteration, regrow the game from a random node, and score the regrowth\n",
    "* Since we have energy scores before and after, we can either accept greedily if $E_{new} < E_{old}$, or accept with probability $\\exp(\\beta (E_{old} - E_{new} ))$"
   ]
  },
  {
   "cell_type": "code",
   "execution_count": 5,
   "metadata": {},
   "outputs": [],
   "source": [
    "DEFAULT_ARGS = argparse.Namespace(\n",
    "    grammar_file=os.path.join('..', DEFAULT_GRAMMAR_FILE),\n",
    "    parse_counter=False,\n",
    "    counter_output_path=os.path.join('..', DEFAULT_COUNTER_OUTPUT_PATH),\n",
    "    random_seed=DEFUALT_RANDOM_SEED,\n",
    ")"
   ]
  },
  {
   "cell_type": "code",
   "execution_count": 6,
   "metadata": {},
   "outputs": [],
   "source": [
    "# FITNESS_MODEL_DATE_ID = 'full_features_2023_03_29'\n",
    "# FITNESS_FEATURIZER_PATH = '../models/fitness_featurizer_2023_03_29.pkl.gz'\n",
    "\n",
    "\n",
    "# mcmc = MCMCRegrowthSampler(DEFAULT_ARGS,\n",
    "#     FITNESS_MODEL_DATE_ID, FITNESS_FEATURIZER_PATH, greedy_acceptance=True, \n",
    "#     plateau_patience_steps=1000, max_steps=20000,\n",
    "#     relative_path='..')  #   acceptance_temperature=10.0, "
   ]
  },
  {
   "cell_type": "code",
   "execution_count": 8,
   "metadata": {},
   "outputs": [
    {
     "name": "stdout",
     "output_type": "stream",
     "text": [
      "331 20 200\n"
     ]
    }
   ],
   "source": [
    "# map_mcmc = utils.load_data('2023_04_1', 'samples', 'mcmc_full_features_map')\n",
    "section_sampler_mcmc = typing.cast(MCMCRegrowthSampler, utils.load_data('2023_04_24', 'samples', 'mcmc_full_features_section_sampler_non_greedy'))\n",
    "print(len(section_sampler_mcmc.feature_names), \n",
    "      section_sampler_mcmc.n_samples_per_step if hasattr(section_sampler_mcmc, 'n_samples_per_step') else None, \n",
    "      section_sampler_mcmc.plateau_patience_steps)\n",
    "\n",
    "# map_samples_energies = [s[2] for s in map_mcmc.samples]\n",
    "section_sampler_samples_energies = [s[2] for s in section_sampler_mcmc.samples]\n",
    "\n",
    "# np.mean(map_samples_energies), np.std(map_samples_energies), np.mean(section_sampler_samples_energies), np.std(section_sampler_samples_energies)"
   ]
  },
  {
   "cell_type": "code",
   "execution_count": 9,
   "metadata": {},
   "outputs": [
    {
     "data": {
      "text/plain": [
       "(tensor(-74.5803),\n",
       " tensor([-77.4642, -77.0426, -77.0426, -73.9979, -73.7873, -73.5940, -73.4444,\n",
       "         -73.3213, -73.2136, -72.8955]))"
      ]
     },
     "execution_count": 9,
     "metadata": {},
     "output_type": "execute_result"
    }
   ],
   "source": [
    "# map_samples_energies_tensor = torch.tensor(map_samples_energies)\n",
    "section_sampler_samples_energies_tensor = torch.tensor(section_sampler_samples_energies)\n",
    "\n",
    "# top_10_map_energies = map_samples_energies_tensor.topk(10, largest=False)[0]\n",
    "top_10_section_sampler_energies = section_sampler_samples_energies_tensor.topk(10, largest=False)[0]\n",
    "\n",
    "# top_10_map_energies.mean(), \n",
    "top_10_section_sampler_energies.mean(), top_10_section_sampler_energies"
   ]
  },
  {
   "cell_type": "code",
   "execution_count": 10,
   "metadata": {},
   "outputs": [
    {
     "name": "stdout",
     "output_type": "stream",
     "text": [
      "tensor([14, 21, 79, 41, 16, 98, 86, 48, 58, 36])\n"
     ]
    }
   ],
   "source": [
    "lowest_energy_indices = section_sampler_samples_energies_tensor.topk(10, largest=False)[1]\n",
    "print(lowest_energy_indices)"
   ]
  },
  {
   "cell_type": "code",
   "execution_count": 11,
   "metadata": {},
   "outputs": [
    {
     "data": {
      "text/plain": [
       "((0,\n",
       "  1,\n",
       "  2,\n",
       "  3,\n",
       "  4,\n",
       "  5,\n",
       "  6,\n",
       "  7,\n",
       "  8,\n",
       "  12,\n",
       "  13,\n",
       "  14,\n",
       "  15,\n",
       "  18,\n",
       "  19,\n",
       "  20,\n",
       "  22,\n",
       "  30,\n",
       "  32,\n",
       "  42,\n",
       "  44,\n",
       "  48,\n",
       "  50,\n",
       "  60,\n",
       "  62,\n",
       "  70,\n",
       "  86,\n",
       "  110,\n",
       "  112,\n",
       "  113,\n",
       "  116,\n",
       "  117,\n",
       "  147,\n",
       "  148,\n",
       "  149,\n",
       "  157,\n",
       "  163,\n",
       "  182,\n",
       "  185,\n",
       "  194,\n",
       "  195,\n",
       "  196,\n",
       "  208,\n",
       "  211,\n",
       "  218,\n",
       "  223,\n",
       "  231,\n",
       "  235,\n",
       "  245,\n",
       "  268,\n",
       "  269,\n",
       "  331,\n",
       "  424,\n",
       "  467),\n",
       " (0,\n",
       "  1,\n",
       "  2,\n",
       "  3,\n",
       "  4,\n",
       "  5,\n",
       "  6,\n",
       "  7,\n",
       "  8,\n",
       "  9,\n",
       "  10,\n",
       "  12,\n",
       "  13,\n",
       "  14,\n",
       "  15,\n",
       "  16,\n",
       "  18,\n",
       "  19,\n",
       "  20,\n",
       "  22,\n",
       "  23,\n",
       "  29,\n",
       "  30,\n",
       "  32,\n",
       "  34,\n",
       "  37,\n",
       "  38,\n",
       "  40,\n",
       "  42,\n",
       "  43,\n",
       "  44,\n",
       "  46,\n",
       "  48,\n",
       "  49,\n",
       "  50,\n",
       "  53,\n",
       "  56,\n",
       "  57,\n",
       "  58,\n",
       "  60,\n",
       "  61,\n",
       "  62,\n",
       "  64,\n",
       "  65,\n",
       "  67,\n",
       "  68,\n",
       "  70,\n",
       "  73,\n",
       "  76,\n",
       "  77,\n",
       "  78,\n",
       "  79,\n",
       "  81,\n",
       "  83,\n",
       "  85,\n",
       "  86,\n",
       "  91,\n",
       "  94,\n",
       "  96,\n",
       "  99,\n",
       "  101,\n",
       "  103,\n",
       "  110,\n",
       "  112,\n",
       "  113,\n",
       "  114,\n",
       "  116,\n",
       "  117,\n",
       "  122,\n",
       "  128,\n",
       "  135,\n",
       "  136,\n",
       "  139,\n",
       "  141,\n",
       "  142,\n",
       "  143,\n",
       "  144,\n",
       "  147,\n",
       "  148,\n",
       "  149,\n",
       "  151,\n",
       "  152,\n",
       "  154,\n",
       "  155,\n",
       "  157,\n",
       "  160,\n",
       "  163,\n",
       "  164,\n",
       "  166,\n",
       "  167,\n",
       "  168,\n",
       "  174,\n",
       "  176,\n",
       "  182,\n",
       "  183,\n",
       "  185,\n",
       "  187,\n",
       "  192,\n",
       "  194,\n",
       "  195,\n",
       "  196,\n",
       "  198,\n",
       "  201,\n",
       "  202,\n",
       "  204,\n",
       "  205,\n",
       "  207,\n",
       "  208,\n",
       "  211,\n",
       "  214,\n",
       "  216,\n",
       "  218,\n",
       "  221,\n",
       "  223,\n",
       "  227,\n",
       "  228,\n",
       "  229,\n",
       "  230,\n",
       "  231,\n",
       "  235,\n",
       "  237,\n",
       "  238,\n",
       "  239,\n",
       "  240,\n",
       "  245,\n",
       "  248,\n",
       "  249,\n",
       "  252,\n",
       "  255,\n",
       "  256,\n",
       "  257,\n",
       "  258,\n",
       "  259,\n",
       "  260,\n",
       "  261,\n",
       "  262,\n",
       "  264,\n",
       "  265,\n",
       "  268,\n",
       "  269,\n",
       "  272,\n",
       "  283,\n",
       "  285,\n",
       "  289,\n",
       "  291,\n",
       "  294,\n",
       "  302,\n",
       "  310,\n",
       "  313,\n",
       "  317,\n",
       "  322,\n",
       "  328,\n",
       "  331,\n",
       "  332,\n",
       "  339,\n",
       "  340,\n",
       "  341,\n",
       "  343,\n",
       "  347,\n",
       "  352,\n",
       "  359,\n",
       "  360,\n",
       "  362,\n",
       "  366,\n",
       "  367,\n",
       "  371,\n",
       "  391,\n",
       "  393,\n",
       "  395,\n",
       "  396,\n",
       "  397,\n",
       "  402,\n",
       "  405,\n",
       "  408,\n",
       "  414,\n",
       "  415,\n",
       "  417,\n",
       "  419,\n",
       "  424,\n",
       "  431,\n",
       "  435,\n",
       "  449,\n",
       "  451,\n",
       "  460,\n",
       "  461,\n",
       "  465,\n",
       "  467,\n",
       "  470,\n",
       "  474,\n",
       "  476,\n",
       "  478,\n",
       "  483,\n",
       "  489,\n",
       "  490,\n",
       "  495,\n",
       "  502,\n",
       "  507,\n",
       "  513,\n",
       "  520,\n",
       "  521,\n",
       "  522,\n",
       "  523,\n",
       "  524,\n",
       "  528,\n",
       "  529,\n",
       "  532,\n",
       "  534,\n",
       "  536,\n",
       "  539,\n",
       "  546,\n",
       "  548,\n",
       "  549,\n",
       "  551,\n",
       "  552,\n",
       "  573,\n",
       "  575,\n",
       "  576,\n",
       "  577,\n",
       "  582,\n",
       "  585,\n",
       "  587,\n",
       "  599,\n",
       "  618,\n",
       "  623,\n",
       "  624,\n",
       "  625,\n",
       "  642,\n",
       "  646,\n",
       "  654,\n",
       "  655,\n",
       "  658,\n",
       "  661))"
      ]
     },
     "execution_count": 11,
     "metadata": {},
     "output_type": "execute_result"
    }
   ],
   "source": [
    "i = 0\n",
    "section_sampler_mcmc.samples[lowest_energy_indices[i]][-1], section_sampler_mcmc.samples[lowest_energy_indices[i]][-2]"
   ]
  },
  {
   "cell_type": "code",
   "execution_count": 16,
   "metadata": {},
   "outputs": [
    {
     "data": {
      "text/markdown": [
       "### Energy of visualized game: -77.464"
      ],
      "text/plain": [
       "<IPython.core.display.Markdown object>"
      ]
     },
     "metadata": {},
     "output_type": "display_data"
    },
    {
     "data": {
      "text/markdown": [
       "### Top features contributing to the game's energy\n",
       "feature name: **value** = (original feature value => regrown feature value) * weight"
      ],
      "text/plain": [
       "<IPython.core.display.Markdown object>"
      ]
     },
     "metadata": {},
     "output_type": "display_data"
    },
    {
     "data": {
      "text/markdown": [
       "| Features increasing energy (= more fake)                                  | Features decreasing energy (= more real)                                         |\n",
       "|---------------------------------------------------------------------------|----------------------------------------------------------------------------------|\n",
       "| agent_holds_arg_types_balls_constraints: **1.025** = (1.000) * 1.025      | ast_ngram_full_n_7_score: **-25.828** = (0.886) * -29.148                        |\n",
       "| compositionality_structure_0: **0.510** = (1.000) * 0.510                 | ast_ngram_constraints_n_7_score: **-19.763** = (0.924) * -21.388                 |\n",
       "| on_arg_types_room_features_balls_constraints: **0.423** = (1.000) * 0.423 | all_variables_used: **-5.121** = (1.000) * -5.121                                |\n",
       "| mean_depth_constraints_0: **0.159** = (1.000) * 0.159                     | all_preferences_used: **-4.585** = (1.000) * -4.585                              |\n",
       "| node_count_constraints_1: **0.103** = (1.000) * 0.103                     | ast_ngram_scoring_n_5_score: **-3.550** = (0.934) * -3.801                       |\n",
       "|                                                                           | all_variables_defined: **-2.156** = (1.000) * -2.156                             |\n",
       "|                                                                           | mean_depth_setup_0: **-2.025** = (1.000) * -2.025                                |\n",
       "|                                                                           | max_depth_setup_0: **-1.956** = (1.000) * -1.956                                 |\n",
       "|                                                                           | node_count_setup_0: **-1.848** = (1.000) * -1.848                                |\n",
       "|                                                                           | section_doesnt_exist_setup: **-1.837** = (1.000) * -1.837                        |\n",
       "|                                                                           | predicate_under_modal_once_agent_holds: **-1.114** = (1.000) * -1.114            |\n",
       "|                                                                           | length_of_then_modals_2: **-1.012** = (1.000) * -1.012                           |\n",
       "|                                                                           | mean_depth_terminal_0: **-0.917** = (1.000) * -0.917                             |\n",
       "|                                                                           | max_depth_terminal_0: **-0.906** = (1.000) * -0.906                              |\n",
       "|                                                                           | max_quantification_count_setup_0: **-0.857** = (1.000) * -0.857                  |\n",
       "|                                                                           | max_number_variables_types_quantified_variables_1: **-0.771** = (1.000) * -0.771 |\n",
       "|                                                                           | section_doesnt_exist_terminal: **-0.761** = (1.000) * -0.761                     |\n",
       "|                                                                           | max_depth_constraints_1: **-0.732** = (1.000) * -0.732                           |\n",
       "|                                                                           | node_count_terminal_0: **-0.703** = (1.000) * -0.703                             |\n",
       "|                                                                           | predicate_under_modal_hold_agent_holds: **-0.686** = (1.000) * -0.686            |"
      ],
      "text/plain": [
       "<IPython.core.display.Markdown object>"
      ]
     },
     "metadata": {},
     "output_type": "display_data"
    },
    {
     "data": {
      "text/markdown": [
       "### Game:"
      ],
      "text/plain": [
       "<IPython.core.display.Markdown object>"
      ]
     },
     "metadata": {},
     "output_type": "display_data"
    },
    {
     "data": {
      "text/markdown": [
       "```pddl\n",
       "(define (game mcmc-14-4) (:domain many-objects-room-v1)\n",
       "(:constraints\n",
       "  (and\n",
       "    (preference preference0\n",
       "      (exists (?v0 - dodgeball)\n",
       "        (at-end\n",
       "          (on rug ?v0)\n",
       "        )\n",
       "      )\n",
       "    )\n",
       "    (preference preference1\n",
       "      (exists (?v1 - dodgeball)\n",
       "        (at-end\n",
       "          (on rug ?v1)\n",
       "        )\n",
       "      )\n",
       "    )\n",
       "    (preference preference2\n",
       "      (exists (?v2 - (either dodgeball golfball))\n",
       "        (then\n",
       "          (once (agent_holds ?v2) )\n",
       "          (hold (and (not (agent_holds ?v2) ) (in_motion ?v2) ) )\n",
       "        )\n",
       "      )\n",
       "    )\n",
       "  )\n",
       ")\n",
       "(:scoring\n",
       "  (+ (count preference2) (* (- (count preference0) )\n",
       "      (* 6 (count preference1) )\n",
       "    )\n",
       "  )\n",
       ")\n",
       ")\n",
       "```"
      ],
      "text/plain": [
       "<IPython.core.display.Markdown object>"
      ]
     },
     "metadata": {},
     "output_type": "display_data"
    }
   ],
   "source": [
    "section_sampler_mcmc.visualize_sample(lowest_energy_indices[0], postprocess_sample=True)"
   ]
  },
  {
   "cell_type": "code",
   "execution_count": null,
   "metadata": {},
   "outputs": [],
   "source": [
    "samples_date = '2023_04_18'\n",
    "start = 0\n",
    "step = 10\n",
    "end = 20\n",
    "\n",
    "mcmc = None\n",
    "\n",
    "for i in range(start, end, step):\n",
    "    samples_mcmc = utils.load_data(samples_date, 'samples', f'mcmc_full_features_greedy_{i}_{i+step}')\n",
    "    if mcmc is None:\n",
    "        mcmc = samples_mcmc\n",
    "    else:\n",
    "        mcmc.samples.extend(samples_mcmc.samples)\n",
    "\n",
    "len(mcmc.samples)"
   ]
  },
  {
   "cell_type": "code",
   "execution_count": null,
   "metadata": {},
   "outputs": [],
   "source": [
    "energy_differences = np.array([sample[2] - sample[5] for sample in mcmc.samples])\n",
    "print(np.mean(energy_differences), np.std(energy_differences))\n",
    "n_changes = (energy_differences != 0).sum()\n",
    "print(n_changes, n_changes / len(energy_differences))\n",
    "plt.hist(energy_differences, bins=50)\n",
    "plt.title('Energy Differences')\n",
    "plt.show()"
   ]
  },
  {
   "cell_type": "code",
   "execution_count": null,
   "metadata": {},
   "outputs": [],
   "source": [
    "n_samples_per_game = 10\n",
    "energy_differences_by_game = energy_differences.reshape(-1, n_samples_per_game)\n",
    "number_of_changes_by_game = (energy_differences_by_game != 0).sum(axis=1)\n",
    "plt.hist(number_of_changes_by_game, bins=10)\n",
    "plt.title('Number of Samples with Energy Difference by Game')\n",
    "plt.show()"
   ]
  },
  {
   "cell_type": "code",
   "execution_count": null,
   "metadata": {},
   "outputs": [],
   "source": [
    "unique_differences_by_game = np.sort(energy_differences_by_game, axis=1)\n",
    "unique_differences_by_game = (unique_differences_by_game[:,1:] != unique_differences_by_game[:,:-1]).sum(axis=1)+1\n",
    "# unique_differences_by_game[number_of_changes_by_game > 0]\n",
    "plt.hist(unique_differences_by_game, bins=10)\n",
    "plt.title('Number of Unique Energy Differences by Game')\n",
    "plt.show()"
   ]
  },
  {
   "cell_type": "code",
   "execution_count": null,
   "metadata": {},
   "outputs": [],
   "source": [
    "np.argwhere((energy_differences_by_game == 0).sum(axis=1) == 10).squeeze()"
   ]
  },
  {
   "cell_type": "code",
   "execution_count": null,
   "metadata": {},
   "outputs": [],
   "source": [
    "args = Namespace(no_binarize=False, no_merge=False)\n",
    "featurizer = build_fitness_featurizer(args)\n",
    "featurizer.parse(mcmc.samples[130][0], '', return_row=True, preprocess_row=False)['setup_objects_used']"
   ]
  },
  {
   "cell_type": "code",
   "execution_count": null,
   "metadata": {},
   "outputs": [],
   "source": [
    "mcmc.visualize_sample_with_energy_difference(83)"
   ]
  },
  {
   "cell_type": "code",
   "execution_count": null,
   "metadata": {},
   "outputs": [],
   "source": [
    "mcmc.fitness_featurizer.parse(mcmc.samples[10][0], '')"
   ]
  },
  {
   "cell_type": "code",
   "execution_count": null,
   "metadata": {},
   "outputs": [],
   "source": [
    "m = fitness_df.groupby('real').on_arg_types_furniture_furniture_constraints.mean()\n",
    "m\n",
    "# m.loc[1] - m.loc[0]"
   ]
  },
  {
   "cell_type": "code",
   "execution_count": null,
   "metadata": {},
   "outputs": [],
   "source": [
    "fitness_df[(fitness_df.real == 1) & (fitness_df.on_arg_types_furniture_furniture_constraints == 1)]"
   ]
  },
  {
   "attachments": {},
   "cell_type": "markdown",
   "metadata": {},
   "source": [
    "## Regrwoth from existing games"
   ]
  },
  {
   "cell_type": "code",
   "execution_count": null,
   "metadata": {},
   "outputs": [],
   "source": [
    "n_samples = 5\n",
    "n_games = 10\n",
    "start = 25\n",
    "end = start + n_games\n",
    "\n",
    "\n",
    "for original_index in range(start, end):\n",
    "    print(f'Generating samples starting from original index {original_index} (id {_extract_game_id(real_game_texts[original_index])})')\n",
    "    mcmc.multiple_samples(n_samples, verbose=1, should_tqdm=False, initial_proposal=game_asts[original_index], postprocess=False)\n",
    "\n",
    "    # print()\n",
    "    # for i in range(n_samples * (original_index - start), n_samples * (original_index - start + 1)):\n",
    "    #     print(i, mcmc.samples[i][2])"
   ]
  },
  {
   "cell_type": "code",
   "execution_count": null,
   "metadata": {},
   "outputs": [],
   "source": [
    "len(mcmc.samples)"
   ]
  },
  {
   "cell_type": "code",
   "execution_count": null,
   "metadata": {},
   "outputs": [],
   "source": [
    "mcmc.visualize_sample(11)"
   ]
  },
  {
   "cell_type": "code",
   "execution_count": null,
   "metadata": {},
   "outputs": [],
   "source": [
    "mcmc.samples[75][0][4][1].preferences.definition.forall_pref.preferences.pref_body.body.exists_args.then_funcs[0].seq_func.once_pred.pred.and_args[-1].pred"
   ]
  },
  {
   "cell_type": "code",
   "execution_count": null,
   "metadata": {},
   "outputs": [],
   "source": [
    "mcmc.samples[11][0][5][1]"
   ]
  },
  {
   "cell_type": "code",
   "execution_count": null,
   "metadata": {},
   "outputs": [],
   "source": [
    "from ast_parser import ASTBooleanParser\n",
    "bp = ASTBooleanParser()\n",
    "bp.evaluate_tautology(bp(mcmc.samples[11][0][5][1], section='(:terminal'))\n",
    "# bp(mcmc.samples[75][0][4][1].preferences.definition.forall_pref.preferences.pref_body.body.exists_args.then_funcs[0].seq_func.once_pred.pred.and_args[-1].pred, section='(:constraints')"
   ]
  },
  {
   "cell_type": "code",
   "execution_count": null,
   "metadata": {},
   "outputs": [],
   "source": [
    "import ast_utils\n",
    "terminal = copy.deepcopy(mcmc.samples[11][3][5][1])\n",
    "ast_utils.replace_child(terminal.terminal, 'expr_1', '400')\n",
    "bp.game_start()\n",
    "bp(terminal, section='(:terminal')"
   ]
  },
  {
   "cell_type": "code",
   "execution_count": null,
   "metadata": {},
   "outputs": [],
   "source": [
    "from argparse import Namespace\n",
    "from src.fitness_features import *\n",
    "args = Namespace(no_binarize=False, no_merge=False)\n",
    "featurizer = build_fitness_featurizer(args)"
   ]
  },
  {
   "cell_type": "code",
   "execution_count": null,
   "metadata": {},
   "outputs": [],
   "source": [
    "mcmc.fitness_featurizer.parse(mcmc.samples[50][0], 'mcmc', True, True)['ast_ngram_scoring_n_5_score']"
   ]
  },
  {
   "cell_type": "code",
   "execution_count": null,
   "metadata": {},
   "outputs": [],
   "source": [
    "ps = {k:v for k, v in featurizer.parse(mcmc.samples[37][0], 'mcmc', True, False).items() if 'all_variables' in k}\n",
    "ps"
   ]
  },
  {
   "cell_type": "code",
   "execution_count": null,
   "metadata": {},
   "outputs": [],
   "source": [
    "# %prun -r \n",
    "n_samples = 5\n",
    "start = 0\n",
    "end = start + n_samples\n",
    "\n",
    "for original_index in range(start, end):\n",
    "    print(f'Generating samples starting from original index {original_index} (id {_extract_game_id(real_game_texts[original_index])})')\n",
    "    mcmc.multiple_samples(n_samples, verbose=1, should_tqdm=True, initial_proposal=game_asts[original_index])\n",
    "\n",
    "    print()\n",
    "    for i in range(n_samples * (original_index - start), n_samples * (original_index - start + 1)):\n",
    "        print(i, mcmc.samples[i][2])"
   ]
  },
  {
   "cell_type": "code",
   "execution_count": null,
   "metadata": {},
   "outputs": [],
   "source": [
    "mcmc.visualize_sample(14)"
   ]
  },
  {
   "cell_type": "code",
   "execution_count": null,
   "metadata": {},
   "outputs": [],
   "source": [
    "mcmc.fitness_featurizer.full_text_registry[0].n_gram_model.models[-1].score(ast_printer.ast_to_string(mcmc.samples[14][0], ' '))"
   ]
  },
  {
   "cell_type": "code",
   "execution_count": null,
   "metadata": {},
   "outputs": [],
   "source": [
    "mcmc.fitness_featurizer.full_text_registry[0].n_gram_model.models[-1].score(ast_printer.ast_to_string(mcmc.samples[14][3], ' '))"
   ]
  },
  {
   "cell_type": "code",
   "execution_count": null,
   "metadata": {},
   "outputs": [],
   "source": [
    "ngram_model = mcmc.fitness_featurizer.full_text_registry[0].n_gram_model.models[-1]\n",
    "\n",
    "sample_ngrams = [('constraints', 'and', 'forall', 'wall', 'and'), ('and', 'forall', 'wall', 'and', 'preference'), ('forall', 'wall', 'and', 'preference', 'preferenceName'), ('wall', 'and', 'preference', 'preferenceName', 'exists'), ('and', 'preference', 'preferenceName', 'exists', 'block'), ('preference', 'preferenceName', 'exists', 'block', 'atend'), ('preferenceName', 'exists', 'block', 'atend', 'in'), ('exists', 'block', 'atend', 'in', 'scoring'), ('block', 'atend', 'in', 'scoring', 'externalforallmaximize'), ('atend', 'in', 'scoring', 'externalforallmaximize', 'countonceperobjects'), ('in', 'scoring', 'externalforallmaximize', 'countonceperobjects', 'preferenceName')]\n",
    "original_ngrams = [('constraints', 'and', 'forall', 'building', 'and'), ('and', 'forall', 'building', 'and', 'preference'), ('forall', 'building', 'and', 'preference', 'preferenceName'), ('building', 'and', 'preference', 'preferenceName', 'exists'), ('and', 'preference', 'preferenceName', 'exists', 'block'), ('preference', 'preferenceName', 'exists', 'block', 'atend'), ('preferenceName', 'exists', 'block', 'atend', 'in'), ('exists', 'block', 'atend', 'in', 'scoring'), ('block', 'atend', 'in', 'scoring', 'externalforallmaximize'), ('atend', 'in', 'scoring', 'externalforallmaximize', 'countonceperobjects'), ('in', 'scoring', 'externalforallmaximize', 'countonceperobjects', 'preferenceName')]\n",
    "\n",
    "print(f'Sample ngrams: {np.mean([ngram_model.ngram_logprobs[s] for s in sample_ngrams])} | ')\n",
    "for s in sample_ngrams:\n",
    "    print(s, ngram_model.ngram_counts[s], ngram_model.ngram_logprobs[s])\n",
    "\n",
    "print()\n",
    "print(f'Original ngrams: {np.mean([ngram_model.ngram_logprobs[s] for s in original_ngrams])}')\n",
    "for s in original_ngrams:\n",
    "    print(s, ngram_model.ngram_counts[s], ngram_model.ngram_logprobs[s])\n",
    "print()\n",
    "\n",
    "for s in sample_ngrams[:]:\n",
    "    if s in original_ngrams:\n",
    "        sample_ngrams.remove(s)\n",
    "        original_ngrams.remove(s)\n",
    "\n",
    "print('Sample remaining ngrams')\n",
    "for s in sample_ngrams:\n",
    "    print(s, ngram_model.ngram_counts[s], ngram_model.ngram_logprobs[s])\n",
    "\n",
    "print()\n",
    "print('Original remaining ngrams')\n",
    "for s in original_ngrams:\n",
    "    print(s, ngram_model.ngram_counts[s], ngram_model.ngram_logprobs[s])"
   ]
  },
  {
   "cell_type": "code",
   "execution_count": null,
   "metadata": {},
   "outputs": [],
   "source": [
    "original_ngrams = [('constraints', 'and', 'forall', 'building', 'and'), ('and', 'forall', 'building', 'and', 'preference'), ('forall', 'building', 'and', 'preference', 'preferenceName'), ('building', 'and', 'preference', 'preferenceName', 'exists'), ('and', 'preference', 'preferenceName', 'exists', 'block'), ('preference', 'preferenceName', 'exists', 'block', 'atend'), ('preferenceName', 'exists', 'block', 'atend', 'in'), ('exists', 'block', 'atend', 'in', 'scoring'), ('block', 'atend', 'in', 'scoring', 'externalforallmaximize'), ('atend', 'in', 'scoring', 'externalforallmaximize', 'countonceperobjects'), ('in', 'scoring', 'externalforallmaximize', 'countonceperobjects', 'preferenceName')]\n",
    "print('Original ngrams')\n",
    "for s in original_ngrams:\n",
    "    print(s, mcmc.fitness_featurizer.full_text_registry[0].n_gram_model.models[-1].ngram_counts[s], mcmc.fitness_featurizer.full_text_registry[0].n_gram_model.models[-1].ngram_logprobs[s])"
   ]
  },
  {
   "cell_type": "code",
   "execution_count": null,
   "metadata": {},
   "outputs": [],
   "source": [
    "mcmc.visualize_sample(7)"
   ]
  },
  {
   "cell_type": "code",
   "execution_count": null,
   "metadata": {},
   "outputs": [],
   "source": [
    "mcmc.visualize_sample(15)"
   ]
  },
  {
   "cell_type": "code",
   "execution_count": null,
   "metadata": {},
   "outputs": [],
   "source": []
  },
  {
   "attachments": {},
   "cell_type": "markdown",
   "metadata": {},
   "source": [
    "### Notes from looking at these games\n",
    "* **TODO:** debug the 'section-without' logic, it seems to not work\n",
    "* **TODO:** add features for preferences with different lengths of modals"
   ]
  },
  {
   "cell_type": "code",
   "execution_count": null,
   "metadata": {},
   "outputs": [],
   "source": []
  },
  {
   "cell_type": "code",
   "execution_count": null,
   "metadata": {},
   "outputs": [],
   "source": [
    "print(ast_printer.ast_to_string(samples[8][0], '\\n'))"
   ]
  },
  {
   "cell_type": "code",
   "execution_count": null,
   "metadata": {},
   "outputs": [],
   "source": [
    "fitness_featurizer = build_fitness_featurizer(DEFAULT_ARGS)\n",
    "features = fitness_featurizer.parse(samples[7][0], 'mcmc', True)\n",
    "{k: v for k, v in features.items() if 'correctly' in k or 'forall' in k or 'no' in k}"
   ]
  },
  {
   "cell_type": "code",
   "execution_count": null,
   "metadata": {},
   "outputs": [],
   "source": [
    "with gzip.open(DEFAULT_FITNESS_FUNCTION_PATH, 'rb') as f:\n",
    "    cv_fitness_model = pickle.load(f)"
   ]
  },
  {
   "cell_type": "code",
   "execution_count": null,
   "metadata": {},
   "outputs": [],
   "source": [
    "weights = cv_fitness_model.named_steps['fitness'].model.fc1.weight.data.detach().numpy().squeeze()\n",
    "bias = cv_fitness_model.named_steps['fitness'].model.fc1.bias.data.detach().numpy().squeeze()\n",
    "print(weights.mean(), bias)"
   ]
  },
  {
   "cell_type": "code",
   "execution_count": null,
   "metadata": {},
   "outputs": [],
   "source": [
    "plt.hist(weights, bins=100)\n",
    "plt.title('Fitness Model Weights')\n",
    "plt.xlabel('Weight magnitude')\n",
    "plt.ylabel('Count')"
   ]
  },
  {
   "cell_type": "code",
   "execution_count": null,
   "metadata": {},
   "outputs": [],
   "source": [
    "import ast_crossover_sampler\n",
    "asts = [ast for ast in cached_load_and_parse_games_from_file('../dsl/interactive-beta.pddl', \n",
    "    mcmc.grammar_parser, False, relative_path='..')]\n",
    "\n",
    "mcmc_with_crossover = MCMCRegrowthCrossoverSampler(DEFAULT_ARGS, \n",
    "    ast_crossover_sampler.CrossoverType.SAME_RULE, asts, 0.25,\n",
    "    '../models/cv_fitness_model_2022_12_26.pkl.gz', \n",
    "    greedy_acceptance=True, plateau_patience_steps=20, acceptance_temperature=10.0, max_steps=1000)"
   ]
  },
  {
   "cell_type": "code",
   "execution_count": null,
   "metadata": {},
   "outputs": [],
   "source": [
    "mcmc_with_crossover.multiple_samples(10, verbose=2, should_tqdm=True)\n",
    "print([x[2] for x in mcmc_with_crossover.samples])"
   ]
  },
  {
   "cell_type": "code",
   "execution_count": null,
   "metadata": {},
   "outputs": [],
   "source": [
    "print([x[2] for x in mcmc_with_crossover.samples])"
   ]
  },
  {
   "cell_type": "code",
   "execution_count": null,
   "metadata": {},
   "outputs": [],
   "source": []
  }
 ],
 "metadata": {
  "kernelspec": {
   "display_name": "game-gen",
   "language": "python",
   "name": "python3"
  },
  "language_info": {
   "codemirror_mode": {
    "name": "ipython",
    "version": 3
   },
   "file_extension": ".py",
   "mimetype": "text/x-python",
   "name": "python",
   "nbconvert_exporter": "python",
   "pygments_lexer": "ipython3",
   "version": "3.10.8"
  },
  "orig_nbformat": 4,
  "vscode": {
   "interpreter": {
    "hash": "a8b8c8d5c21b7aee7bd0053f69e9c255c013bbea7031fbef7e66d58dd46c0fa6"
   }
  }
 },
 "nbformat": 4,
 "nbformat_minor": 2
}
