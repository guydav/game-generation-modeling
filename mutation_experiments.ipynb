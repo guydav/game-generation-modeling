{
 "metadata": {
  "language_info": {
   "codemirror_mode": {
    "name": "ipython",
    "version": 3
   },
   "file_extension": ".py",
   "mimetype": "text/x-python",
   "name": "python",
   "nbconvert_exporter": "python",
   "pygments_lexer": "ipython3",
   "version": "3.8.5"
  },
  "orig_nbformat": 4,
  "kernelspec": {
   "name": "python3",
   "display_name": "Python 3.8.5 64-bit ('torch': conda)"
  },
  "interpreter": {
   "hash": "a100aa1876e5ac3363f19f1f1b65f414bec22fc629749747bbf4df88caa32aa2"
  }
 },
 "nbformat": 4,
 "nbformat_minor": 2,
 "cells": [
  {
   "cell_type": "code",
   "execution_count": 1,
   "metadata": {},
   "outputs": [],
   "source": [
    "%autoreload 2"
   ]
  },
  {
   "cell_type": "code",
   "execution_count": 2,
   "metadata": {},
   "outputs": [],
   "source": [
    "from IPython.core.display import display, HTML\n",
    "from tqdm.notebook import tnrange\n",
    "from mutation_experiments import *\n",
    "import ast_printer"
   ]
  },
  {
   "cell_type": "code",
   "execution_count": 3,
   "metadata": {},
   "outputs": [],
   "source": [
    "args = parser.parse_args([])\n",
    "\n",
    "grammar = open(args.grammar_file).read()\n",
    "grammar_parser = tatsu.compile(grammar) \n",
    "\n",
    "asts = load_asts(args, grammar_parser)"
   ]
  },
  {
   "cell_type": "code",
   "execution_count": 4,
   "metadata": {},
   "outputs": [
    {
     "output_type": "display_data",
     "data": {
      "text/plain": "HBox(children=(FloatProgress(value=0.0), HTML(value='')))",
      "application/vnd.jupyter.widget-view+json": {
       "version_major": 2,
       "version_minor": 0,
       "model_id": "ed85ca22e4b64e7eb3016fef9ee79605"
      }
     },
     "metadata": {}
    },
    {
     "output_type": "stream",
     "name": "stdout",
     "text": [
      "\n"
     ]
    }
   ],
   "source": [
    "NUM_GAMES = 100\n",
    "\n",
    "mutated_asts = []\n",
    "\n",
    "for i in tnrange(NUM_GAMES):\n",
    "    new_ast, pref_name, seq_func_index, seed = mutate_single_game(grammar_parser, asts, notebook=True, start_seed=i * NUM_GAMES)\n",
    "    mutated_asts.append((new_ast, pref_name, seq_func_index, seed))\n",
    "    # print(f'Mutated sequence function #{seq_func_index} in \"{pref_name}\":\\r\\n')\n",
    "    # ast_printer.reset_buffers(True)\n",
    "    # ast_printer.pretty_print_ast(new_ast, context=dict(html=True))\n",
    "    # display(HTML('\\r\\n'.join(ast_printer.BUFFER)))\n"
   ]
  },
  {
   "cell_type": "code",
   "execution_count": 5,
   "metadata": {},
   "outputs": [],
   "source": [
    "def visualize(new_asts, index):\n",
    "    new_ast, pref_name, seq_func_index, seed = new_asts[index]\n",
    "    print(f'With random seed {seed}, mutated sequence function #{seq_func_index} in \"{pref_name}\":\\r\\n')\n",
    "    ast_printer.reset_buffers(True)\n",
    "    ast_printer.pretty_print_ast(new_ast, context=dict(html=True))\n",
    "    display(HTML('\\r\\n'.join(ast_printer.BUFFER)))\n"
   ]
  },
  {
   "cell_type": "code",
   "execution_count": 6,
   "metadata": {},
   "outputs": [],
   "source": [
    "NONSENSICAL_INDICES = [2, 3, 5, 7, 11, 14, 17, 18, 19, 20, 21, 24, 30]\n",
    "ODD_INDICES = [1, 6, 13, 25, 27, 28]\n",
    "REASONABLE_INDICES = [4, 8, 10, 15, 16, 26, 29]"
   ]
  },
  {
   "cell_type": "code",
   "execution_count": 16,
   "metadata": {},
   "outputs": [
    {
     "output_type": "stream",
     "name": "stdout",
     "text": [
      "With random seed 3002, mutated sequence function #0 in \"throwBallUnderBridge\":\n\n"
     ]
    },
    {
     "output_type": "display_data",
     "data": {
      "text/plain": "<IPython.core.display.HTML object>",
      "text/html": "<div style=\"margin-left: 0px\">(define (game medium-objects-2) (:domain medium-objects-room-v1) </div>\r\n<div style=\"margin-left: 0px\">(:setup </div>\r\n<div style=\"margin-left: 20px\">(and </div>\r\n<div style=\"margin-left: 40px\">(forall (?f - flat_block) </div>\r\n<div style=\"margin-left: 60px\">(game-conserved </div>\r\n<div style=\"margin-left: 80px\">(on floor ?f) </div>\r\n<div style=\"margin-left: 60px\">) </div>\r\n<div style=\"margin-left: 40px\">) </div>\r\n<div style=\"margin-left: 40px\">(forall (?b - bridge_block) </div>\r\n<div style=\"margin-left: 60px\">(exists (?f - flat_block) </div>\r\n<div style=\"margin-left: 80px\">(game-conserved </div>\r\n<div style=\"margin-left: 100px\">(on ?f ?b) </div>\r\n<div style=\"margin-left: 80px\">) </div>\r\n<div style=\"margin-left: 60px\">) </div>\r\n<div style=\"margin-left: 40px\">) </div>\r\n<div style=\"margin-left: 20px\">) </div>\r\n<div style=\"margin-left: 0px\">) </div>\r\n<div style=\"margin-left: 0px\">(:constraints </div>\r\n<div style=\"margin-left: 20px\">(and </div>\r\n<div style=\"margin-left: 40px\">(preference throwBallUnderBridge </div>\r\n<div style=\"margin-left: 60px\">(exists (?b - basketball ?bb - bridge_block) </div>\r\n<div style=\"margin-left: 80px\">(then </div>\r\n<div style=\"text-decoration: line-through; margin-left: 100px\">(once (and (agent_holds ?b) (not (under ?bb ?b) ) ) ) </div>\r\n<div style=\"color: aqua; margin-left: 100px\">(once (and (on ?bb ?b) (not (in_motion ?b) ) ) ) </div>\r\n<div style=\"margin-left: 100px\">(hold-while (and (in_motion ?b) (not (agent_holds ?b) ) (not (agent_holds ?bb) ) ) (under ?bb ?b) ) </div>\r\n<div style=\"margin-left: 100px\">(once (not (under ?bb ?b) ) ) </div>\r\n<div style=\"margin-left: 80px\">) </div>\r\n<div style=\"margin-left: 60px\">) </div>\r\n<div style=\"margin-left: 40px\">) </div>\r\n<div style=\"margin-left: 20px\">) </div>\r\n<div style=\"margin-left: 0px\">) </div>\r\n<div style=\"margin-left: 0px\">(:scoring </div>\r\n<div style=\"margin-left: 20px\">maximize </div>\r\n<div style=\"margin-left: 40px\">(count-nonoverlapping throwBallUnderBridge) </div>\r\n<div style=\"margin-left: 0px\">) </div>\r\n<div style=\"margin-left: 0px\">) </div>"
     },
     "metadata": {}
    }
   ],
   "source": [
    "visualize(mutated_asts, 30)"
   ]
  },
  {
   "source": [
    "for title, indices in zip(('Nonsensical', 'Odd', 'Reasonable'), \n",
    "                          (NONSENSICAL_INDICES, ODD_INDICES, REASONABLE_INDICES)):\n",
    "    display(HTML(f'<h2>{title}</h2>'))\n",
    "    for index in indices:\n",
    "        visualize(mutated_asts, index)\n",
    "\n",
    "    display(HTML(f'<hr>'))\n"
   ],
   "cell_type": "code",
   "metadata": {},
   "execution_count": 21,
   "outputs": [
    {
     "output_type": "display_data",
     "data": {
      "text/plain": "<IPython.core.display.HTML object>",
      "text/html": "<h2>Nonsensical</h2>"
     },
     "metadata": {}
    },
    {
     "output_type": "stream",
     "name": "stdout",
     "text": [
      "With random seed 200, mutated sequence function #0 in \"rollBallToBin\":\n\n"
     ]
    },
    {
     "output_type": "display_data",
     "data": {
      "text/plain": "<IPython.core.display.HTML object>",
      "text/html": "<div style=\"margin-left: 0px\">(define (game few-objects-8) (:domain few-objects-room-v1) </div>\r\n<div style=\"margin-left: 0px\">(:setup </div>\r\n<div style=\"margin-left: 20px\">(and </div>\r\n<div style=\"margin-left: 40px\">(exists (?c - curved_wooden_ramp ?h - hexagonal_bin) </div>\r\n<div style=\"margin-left: 60px\">(game-conserved </div>\r\n<div style=\"margin-left: 80px\">(adjacent_side ?h front ?c back) </div>\r\n<div style=\"margin-left: 60px\">) </div>\r\n<div style=\"margin-left: 40px\">) </div>\r\n<div style=\"margin-left: 20px\">) </div>\r\n<div style=\"margin-left: 0px\">) </div>\r\n<div style=\"margin-left: 0px\">(:constraints </div>\r\n<div style=\"margin-left: 20px\">(and </div>\r\n<div style=\"margin-left: 40px\">(preference rollBallToBin </div>\r\n<div style=\"margin-left: 60px\">(exists (?d - dodgeball ?r - curved_wooden_ramp ?h - hexagonal_bin) </div>\r\n<div style=\"margin-left: 80px\">(then </div>\r\n<div style=\"text-decoration: line-through; margin-left: 100px\">(once (agent_holds ?d) ) </div>\r\n<div style=\"color: aqua; margin-left: 100px\">(once (and (agent_holds ?h) (on ?r agent) (adjacent ?h desk) (agent_perspective looking_upside_down) ) ) </div>\r\n<div style=\"margin-left: 100px\">(hold-while (and (not (agent_holds ?d) ) (in_motion ?d) ) (on ?r ?d) ) </div>\r\n<div style=\"margin-left: 100px\">(once (and (on ?h ?d) (not (in_motion ?d) ) ) ) </div>\r\n<div style=\"margin-left: 80px\">) </div>\r\n<div style=\"margin-left: 60px\">) </div>\r\n<div style=\"margin-left: 40px\">) </div>\r\n<div style=\"margin-left: 40px\">(preference bothBallsThrown </div>\r\n<div style=\"margin-left: 60px\">(forall (?d - dodgeball) </div>\r\n<div style=\"margin-left: 80px\">(then </div>\r\n<div style=\"margin-left: 100px\">(once (agent_holds ?d) ) </div>\r\n<div style=\"margin-left: 100px\">(hold (and (not (agent_holds ?d) ) (in_motion ?d) ) ) </div>\r\n<div style=\"margin-left: 100px\">(once (not (in_motion ?d) ) ) </div>\r\n<div style=\"margin-left: 80px\">) </div>\r\n<div style=\"margin-left: 60px\">) </div>\r\n<div style=\"margin-left: 40px\">) </div>\r\n<div style=\"margin-left: 20px\">) </div>\r\n<div style=\"margin-left: 0px\">) </div>\r\n<div style=\"margin-left: 0px\">(:terminal </div>\r\n<div style=\"margin-left: 20px\">(>= (count-nonoverlapping bothBallsThrown) 5 ) </div>\r\n<div style=\"margin-left: 0px\">) </div>\r\n<div style=\"margin-left: 0px\">(:scoring </div>\r\n<div style=\"margin-left: 20px\">maximize </div>\r\n<div style=\"margin-left: 40px\">(* 5 (count-nonoverlapping rollBallToBin) ) </div>\r\n<div style=\"margin-left: 0px\">) </div>\r\n<div style=\"margin-left: 0px\">) </div>"
     },
     "metadata": {}
    },
    {
     "output_type": "stream",
     "name": "stdout",
     "text": [
      "With random seed 301, mutated sequence function #2 in \"throwBallToHexagonalBinThroughRamp\":\n\n"
     ]
    },
    {
     "output_type": "display_data",
     "data": {
      "text/plain": "<IPython.core.display.HTML object>",
      "text/html": "<div style=\"margin-left: 0px\">(define (game many-objects-9) (:domain many-objects-room-v1) </div>\r\n<div style=\"margin-left: 0px\">(:setup </div>\r\n<div style=\"margin-left: 20px\">) </div>\r\n<div style=\"margin-left: 0px\">(:constraints </div>\r\n<div style=\"margin-left: 20px\">(and </div>\r\n<div style=\"margin-left: 40px\">(preference throwBallToMugThroughRamp </div>\r\n<div style=\"margin-left: 60px\">(exists (?g - golfball ?m - mug ?r - curved_wooden_ramp) </div>\r\n<div style=\"margin-left: 80px\">(then </div>\r\n<div style=\"margin-left: 100px\">(once (agent_holds ?g) ) </div>\r\n<div style=\"margin-left: 100px\">(hold-while (and (not (agent_holds ?g) ) (in_motion ?g) ) (touch ?r ?g) ) </div>\r\n<div style=\"margin-left: 100px\">(once (and (on ?m ?g) (not (in_motion ?g) ) ) ) </div>\r\n<div style=\"margin-left: 80px\">) </div>\r\n<div style=\"margin-left: 60px\">) </div>\r\n<div style=\"margin-left: 40px\">) </div>\r\n<div style=\"margin-left: 40px\">(preference throwBallToHexagonalBinThroughRamp </div>\r\n<div style=\"margin-left: 60px\">(exists (?g - golfball ?h - hexagonal_bin ?r - curved_wooden_ramp) </div>\r\n<div style=\"margin-left: 80px\">(then </div>\r\n<div style=\"margin-left: 100px\">(once (agent_holds ?g) ) </div>\r\n<div style=\"margin-left: 100px\">(hold-while (and (not (agent_holds ?g) ) (in_motion ?g) ) (touch ?r ?g) ) </div>\r\n<div style=\"text-decoration: line-through; margin-left: 100px\">(once (and (on ?h ?g) (not (in_motion ?g) ) ) ) </div>\r\n<div style=\"color: aqua; margin-left: 100px\">(once (and (on ?h ?r) (not (in_motion ?g) ) ) ) </div>\r\n<div style=\"margin-left: 80px\">) </div>\r\n<div style=\"margin-left: 60px\">) </div>\r\n<div style=\"margin-left: 40px\">) </div>\r\n<div style=\"margin-left: 20px\">) </div>\r\n<div style=\"margin-left: 0px\">) </div>\r\n<div style=\"margin-left: 0px\">(:scoring </div>\r\n<div style=\"margin-left: 20px\">maximize </div>\r\n<div style=\"margin-left: 40px\">(+ (* 5 (count-nonoverlapping throwBallToHexagonalBinThroughRamp) ) </div>\r\n<div style=\"margin-left: 60px\">(* 10 (count-nonoverlapping throwBallToHexagonalBinThroughRamp) ) </div>\r\n<div style=\"margin-left: 40px\">) </div>\r\n<div style=\"margin-left: 0px\">) </div>\r\n<div style=\"margin-left: 0px\">) </div>"
     },
     "metadata": {}
    },
    {
     "output_type": "stream",
     "name": "stdout",
     "text": [
      "With random seed 500, mutated sequence function #0 in \"golfballMovesSquareBlock\":\n\n"
     ]
    },
    {
     "output_type": "display_data",
     "data": {
      "text/plain": "<IPython.core.display.HTML object>",
      "text/html": "<div style=\"margin-left: 0px\">(define (game many-objects-22) (:domain many-objects-room-v1) </div>\r\n<div style=\"margin-left: 0px\">(:setup </div>\r\n<div style=\"margin-left: 20px\">) </div>\r\n<div style=\"margin-left: 0px\">(:constraints </div>\r\n<div style=\"margin-left: 20px\">(and </div>\r\n<div style=\"margin-left: 40px\">(preference beachballMovesSquareBlock </div>\r\n<div style=\"margin-left: 60px\">(exists (?b - beachball ?c - (either flat_block bridge_block)) </div>\r\n<div style=\"margin-left: 80px\">(then </div>\r\n<div style=\"margin-left: 100px\">(once (and (agent_holds ?b) (on floor ?c) ) ) </div>\r\n<div style=\"margin-left: 100px\">(hold-while (and (not (agent_holds ?b) ) (in_motion ?b) (not (agent_holds ?c) ) ) (touch ?b ?c) (in_motion ?c) ) </div>\r\n<div style=\"margin-left: 80px\">) </div>\r\n<div style=\"margin-left: 60px\">) </div>\r\n<div style=\"margin-left: 40px\">) </div>\r\n<div style=\"margin-left: 40px\">(preference beachballMovesTallBlock </div>\r\n<div style=\"margin-left: 60px\">(exists (?b - beachball ?c - (either pyramid_block tall_cylindrical_block)) </div>\r\n<div style=\"margin-left: 80px\">(then </div>\r\n<div style=\"margin-left: 100px\">(once (and (agent_holds ?b) (on floor ?c) ) ) </div>\r\n<div style=\"margin-left: 100px\">(hold-while (and (not (agent_holds ?b) ) (in_motion ?b) (not (agent_holds ?c) ) ) (touch ?b ?c) (in_motion ?c) ) </div>\r\n<div style=\"margin-left: 80px\">) </div>\r\n<div style=\"margin-left: 60px\">) </div>\r\n<div style=\"margin-left: 40px\">) </div>\r\n<div style=\"margin-left: 40px\">(preference beachballMovesShortBlock </div>\r\n<div style=\"margin-left: 60px\">(exists (?b - beachball ?c - short_cylindrical_block) </div>\r\n<div style=\"margin-left: 80px\">(then </div>\r\n<div style=\"margin-left: 100px\">(once (and (agent_holds ?b) (on floor ?c) ) ) </div>\r\n<div style=\"margin-left: 100px\">(hold-while (and (not (agent_holds ?b) ) (in_motion ?b) (not (agent_holds ?c) ) ) (touch ?b ?c) (in_motion ?c) ) </div>\r\n<div style=\"margin-left: 80px\">) </div>\r\n<div style=\"margin-left: 60px\">) </div>\r\n<div style=\"margin-left: 40px\">) </div>\r\n<div style=\"margin-left: 40px\">(preference dodgeballMovesSquareBlock </div>\r\n<div style=\"margin-left: 60px\">(exists (?b - dodgeball ?c - (either flat_block bridge_block)) </div>\r\n<div style=\"margin-left: 80px\">(then </div>\r\n<div style=\"margin-left: 100px\">(once (and (agent_holds ?b) (on floor ?c) ) ) </div>\r\n<div style=\"margin-left: 100px\">(hold-while (and (not (agent_holds ?b) ) (in_motion ?b) (not (agent_holds ?c) ) ) (touch ?b ?c) (in_motion ?c) ) </div>\r\n<div style=\"margin-left: 80px\">) </div>\r\n<div style=\"margin-left: 60px\">) </div>\r\n<div style=\"margin-left: 40px\">) </div>\r\n<div style=\"margin-left: 40px\">(preference dodgeballMovesTallBlock </div>\r\n<div style=\"margin-left: 60px\">(exists (?b - dodgeball ?c - (either pyramid_block tall_cylindrical_block)) </div>\r\n<div style=\"margin-left: 80px\">(then </div>\r\n<div style=\"margin-left: 100px\">(once (and (agent_holds ?b) (on floor ?c) ) ) </div>\r\n<div style=\"margin-left: 100px\">(hold-while (and (not (agent_holds ?b) ) (in_motion ?b) (not (agent_holds ?c) ) ) (touch ?b ?c) (in_motion ?c) ) </div>\r\n<div style=\"margin-left: 80px\">) </div>\r\n<div style=\"margin-left: 60px\">) </div>\r\n<div style=\"margin-left: 40px\">) </div>\r\n<div style=\"margin-left: 40px\">(preference dodgeballMovesShortBlock </div>\r\n<div style=\"margin-left: 60px\">(exists (?b - dodgeball ?c - short_cylindrical_block) </div>\r\n<div style=\"margin-left: 80px\">(then </div>\r\n<div style=\"margin-left: 100px\">(once (and (agent_holds ?b) (on floor ?c) ) ) </div>\r\n<div style=\"margin-left: 100px\">(hold-while (and (not (agent_holds ?b) ) (in_motion ?b) (not (agent_holds ?c) ) ) (touch ?b ?c) (in_motion ?c) ) </div>\r\n<div style=\"margin-left: 80px\">) </div>\r\n<div style=\"margin-left: 60px\">) </div>\r\n<div style=\"margin-left: 40px\">) </div>\r\n<div style=\"margin-left: 40px\">(preference golfballMovesSquareBlock </div>\r\n<div style=\"margin-left: 60px\">(exists (?b - golfball ?c - (either flat_block bridge_block)) </div>\r\n<div style=\"margin-left: 80px\">(then </div>\r\n<div style=\"text-decoration: line-through; margin-left: 100px\">(once (and (agent_holds ?b) (on floor ?c) ) ) </div>\r\n<div style=\"color: aqua; margin-left: 100px\">(hold (and (not (agent_holds ?b) ) (in_motion ?b) ) ) </div>\r\n<div style=\"margin-left: 100px\">(hold-while (and (not (agent_holds ?b) ) (in_motion ?b) (not (agent_holds ?c) ) ) (touch ?b ?c) (in_motion ?c) ) </div>\r\n<div style=\"margin-left: 80px\">) </div>\r\n<div style=\"margin-left: 60px\">) </div>\r\n<div style=\"margin-left: 40px\">) </div>\r\n<div style=\"margin-left: 40px\">(preference golfballMovesTallBlock </div>\r\n<div style=\"margin-left: 60px\">(exists (?b - golfball ?c - (either pyramid_block tall_cylindrical_block)) </div>\r\n<div style=\"margin-left: 80px\">(then </div>\r\n<div style=\"margin-left: 100px\">(once (and (agent_holds ?b) (on floor ?c) ) ) </div>\r\n<div style=\"margin-left: 100px\">(hold-while (and (not (agent_holds ?b) ) (in_motion ?b) (not (agent_holds ?c) ) ) (touch ?b ?c) (in_motion ?c) ) </div>\r\n<div style=\"margin-left: 80px\">) </div>\r\n<div style=\"margin-left: 60px\">) </div>\r\n<div style=\"margin-left: 40px\">) </div>\r\n<div style=\"margin-left: 40px\">(preference golfballMovesShortBlock </div>\r\n<div style=\"margin-left: 60px\">(exists (?b - golfball ?c - short_cylindrical_block) </div>\r\n<div style=\"margin-left: 80px\">(then </div>\r\n<div style=\"margin-left: 100px\">(once (and (agent_holds ?b) (on floor ?c) ) ) </div>\r\n<div style=\"margin-left: 100px\">(hold-while (and (not (agent_holds ?b) ) (in_motion ?b) (not (agent_holds ?c) ) ) (touch ?b ?c) (in_motion ?c) ) </div>\r\n<div style=\"margin-left: 80px\">) </div>\r\n<div style=\"margin-left: 60px\">) </div>\r\n<div style=\"margin-left: 40px\">) </div>\r\n<div style=\"margin-left: 20px\">) </div>\r\n<div style=\"margin-left: 0px\">) </div>\r\n<div style=\"margin-left: 0px\">(:scoring </div>\r\n<div style=\"margin-left: 20px\">maximize </div>\r\n<div style=\"margin-left: 40px\">(+ (* 1 (count-nonoverlapping beachballMovesSquareBlock) ) </div>\r\n<div style=\"margin-left: 60px\">(* 3 (count-nonoverlapping beachballMovesTallBlock) ) </div>\r\n<div style=\"margin-left: 60px\">(* 5 (count-nonoverlapping beachballMovesShortBlock) ) </div>\r\n<div style=\"margin-left: 60px\">(* 2 (count-nonoverlapping dodgeballlMovesSquareBlock) ) </div>\r\n<div style=\"margin-left: 60px\">(* 6 (count-nonoverlapping dodgeballMovesTallBlock) ) </div>\r\n<div style=\"margin-left: 60px\">(* 10 (count-nonoverlapping dodgeballMovesShortBlock) ) </div>\r\n<div style=\"margin-left: 60px\">(* 3 (count-nonoverlapping golfballMovesSquareBlock) ) </div>\r\n<div style=\"margin-left: 60px\">(* 9 (count-nonoverlapping golfballMovesTallBlock) ) </div>\r\n<div style=\"margin-left: 60px\">(* 15 (count-nonoverlapping golfballMovesShortBlock) ) </div>\r\n<div style=\"margin-left: 40px\">) </div>\r\n<div style=\"margin-left: 0px\">) </div>\r\n<div style=\"margin-left: 0px\">) </div>"
     },
     "metadata": {}
    },
    {
     "output_type": "stream",
     "name": "stdout",
     "text": [
      "With random seed 700, mutated sequence function #2 in \"throwInBin\":\n\n"
     ]
    },
    {
     "output_type": "display_data",
     "data": {
      "text/plain": "<IPython.core.display.HTML object>",
      "text/html": "<div style=\"margin-left: 0px\">(define (game few-objects-26) (:domain few-objects-room-v1) </div>\r\n<div style=\"margin-left: 0px\">(:setup </div>\r\n<div style=\"margin-left: 20px\">(exists (?b1 ?b2 ?b3 ?b4 ?b5 ?b6 - cube_block ?c - chair ?h - hexagonal_bin) </div>\r\n<div style=\"margin-left: 40px\">(and </div>\r\n<div style=\"margin-left: 60px\">(game-conserved </div>\r\n<div style=\"margin-left: 80px\">(and </div>\r\n<div style=\"margin-left: 100px\">(on bed ?h) </div>\r\n<div style=\"margin-left: 100px\">(adjacent ?c desk) </div>\r\n<div style=\"margin-left: 80px\">) </div>\r\n<div style=\"margin-left: 60px\">) </div>\r\n<div style=\"margin-left: 60px\">(game-optional </div>\r\n<div style=\"margin-left: 80px\">(and </div>\r\n<div style=\"margin-left: 100px\">(adjacent ?b1 bed) </div>\r\n<div style=\"margin-left: 100px\">(on ?b1 ?b2) </div>\r\n<div style=\"margin-left: 100px\">(adjacent ?b3 ?b1) </div>\r\n<div style=\"margin-left: 100px\">(on ?b3 ?b4) </div>\r\n<div style=\"margin-left: 100px\">(adjacent ?b5 ?b3) </div>\r\n<div style=\"margin-left: 100px\">(on ?b5 ?b6) </div>\r\n<div style=\"margin-left: 100px\">(between ?b1 ?b3 ?b5) </div>\r\n<div style=\"margin-left: 80px\">) </div>\r\n<div style=\"margin-left: 60px\">) </div>\r\n<div style=\"margin-left: 40px\">) </div>\r\n<div style=\"margin-left: 20px\">) </div>\r\n<div style=\"margin-left: 0px\">) </div>\r\n<div style=\"margin-left: 0px\">(:constraints </div>\r\n<div style=\"margin-left: 20px\">(and </div>\r\n<div style=\"margin-left: 40px\">(preference throwHitsBlock </div>\r\n<div style=\"margin-left: 60px\">(exists (?d - dodgeball ?b - cube_block ?c - chair) </div>\r\n<div style=\"margin-left: 80px\">(then </div>\r\n<div style=\"margin-left: 100px\">(once (and (on ?c agent) (agent_holds ?d) (is_rotating ?c) ) ) </div>\r\n<div style=\"margin-left: 100px\">(hold (and (not (agent_holds ?d) ) (in_motion ?d) ) ) </div>\r\n<div style=\"margin-left: 100px\">(hold (touch ?d ?b) ) </div>\r\n<div style=\"margin-left: 100px\">(once (in_motion ?b) ) </div>\r\n<div style=\"margin-left: 80px\">) </div>\r\n<div style=\"margin-left: 60px\">) </div>\r\n<div style=\"margin-left: 40px\">) </div>\r\n<div style=\"margin-left: 40px\">(preference throwInBin </div>\r\n<div style=\"margin-left: 60px\">(exists (?d - dodgeball ?h - hexagonal_bin ?c - chair) </div>\r\n<div style=\"margin-left: 80px\">(then </div>\r\n<div style=\"margin-left: 100px\">(once (and (on ?c agent) (agent_holds ?d) (is_rotating ?c) ) ) </div>\r\n<div style=\"margin-left: 100px\">(hold (and (not (agent_holds ?d) ) (in_motion ?d) ) ) </div>\r\n<div style=\"text-decoration: line-through; margin-left: 100px\">(once (and (on ?h ?d) (not (in_motion ?d) ) ) ) </div>\r\n<div style=\"color: aqua; margin-left: 100px\">(hold-to-end (and (on floor ?c) (not (agent_holds ?h) ) ) ) </div>\r\n<div style=\"margin-left: 80px\">) </div>\r\n<div style=\"margin-left: 60px\">) </div>\r\n<div style=\"margin-left: 40px\">) </div>\r\n<div style=\"margin-left: 40px\">(preference throwAttempt </div>\r\n<div style=\"margin-left: 60px\">(exists (?d - dodgeball) </div>\r\n<div style=\"margin-left: 80px\">(then </div>\r\n<div style=\"margin-left: 100px\">(once (agent_holds ?d) ) </div>\r\n<div style=\"margin-left: 100px\">(hold (and (not (agent_holds ?d) ) (in_motion ?d) ) ) </div>\r\n<div style=\"margin-left: 100px\">(once (not (in_motion ?d) ) ) </div>\r\n<div style=\"margin-left: 80px\">) </div>\r\n<div style=\"margin-left: 60px\">) </div>\r\n<div style=\"margin-left: 40px\">) </div>\r\n<div style=\"margin-left: 20px\">) </div>\r\n<div style=\"margin-left: 0px\">) </div>\r\n<div style=\"margin-left: 0px\">(:terminal </div>\r\n<div style=\"margin-left: 20px\">(>= (count-once-per-objects throwAttempt) 2 ) </div>\r\n<div style=\"margin-left: 0px\">) </div>\r\n<div style=\"margin-left: 0px\">(:scoring </div>\r\n<div style=\"margin-left: 20px\">maximize </div>\r\n<div style=\"margin-left: 40px\">(+ (* 1 (count-once-per-objects throwHitsBlock) ) </div>\r\n<div style=\"margin-left: 60px\">(* 5 (count-once-per-objects throwInBin) ) </div>\r\n<div style=\"margin-left: 40px\">) </div>\r\n<div style=\"margin-left: 0px\">) </div>\r\n<div style=\"margin-left: 0px\">) </div>"
     },
     "metadata": {}
    },
    {
     "output_type": "stream",
     "name": "stdout",
     "text": [
      "With random seed 1100, mutated sequence function #0 in \"kickBallToBin\":\n\n"
     ]
    },
    {
     "output_type": "display_data",
     "data": {
      "text/plain": "<IPython.core.display.HTML object>",
      "text/html": "<div style=\"margin-left: 0px\">(define (game few-objects-5) (:domain few-objects-room-v1) </div>\r\n<div style=\"margin-left: 0px\">(:setup </div>\r\n<div style=\"margin-left: 20px\">(and </div>\r\n<div style=\"margin-left: 40px\">(exists (?c - curved_wooden_ramp ?h - hexagonal_bin ?d - dodgeball ?t - textbook) </div>\r\n<div style=\"margin-left: 60px\">(and </div>\r\n<div style=\"margin-left: 80px\">(game-conserved </div>\r\n<div style=\"margin-left: 100px\">(adjacent_side ?h front ?c back) </div>\r\n<div style=\"margin-left: 80px\">) </div>\r\n<div style=\"margin-left: 80px\">(game-conserved </div>\r\n<div style=\"margin-left: 100px\">(= (distance_side ?t center ?c front) 1) </div>\r\n<div style=\"margin-left: 80px\">) </div>\r\n<div style=\"margin-left: 80px\">(game-optional </div>\r\n<div style=\"margin-left: 100px\">(adjacent ?d ?t) </div>\r\n<div style=\"margin-left: 80px\">) </div>\r\n<div style=\"margin-left: 60px\">) </div>\r\n<div style=\"margin-left: 40px\">) </div>\r\n<div style=\"margin-left: 20px\">) </div>\r\n<div style=\"margin-left: 0px\">) </div>\r\n<div style=\"margin-left: 0px\">(:constraints </div>\r\n<div style=\"margin-left: 20px\">(and </div>\r\n<div style=\"margin-left: 40px\">(preference kickBallToBin </div>\r\n<div style=\"margin-left: 60px\">(exists (?d - dodgeball ?r - curved_wooden_ramp ?h - hexagonal_bin ?t - textbook) </div>\r\n<div style=\"margin-left: 80px\">(then </div>\r\n<div style=\"text-decoration: line-through; margin-left: 100px\">(once (and (adjacent agent ?t) (touch agent ?d) ) ) </div>\r\n<div style=\"color: aqua; margin-left: 100px\">(once (agent_holds ?r) ) </div>\r\n<div style=\"margin-left: 100px\">(hold-while (and (not (agent_holds ?d) ) (in_motion ?d) ) (on ?r ?d) ) </div>\r\n<div style=\"margin-left: 100px\">(once (and (on ?h ?d) (not (in_motion ?d) ) ) ) </div>\r\n<div style=\"margin-left: 80px\">) </div>\r\n<div style=\"margin-left: 60px\">) </div>\r\n<div style=\"margin-left: 40px\">) </div>\r\n<div style=\"margin-left: 40px\">(preference ballKicked </div>\r\n<div style=\"margin-left: 60px\">(exists (?d - dodgeball) </div>\r\n<div style=\"margin-left: 80px\">(then </div>\r\n<div style=\"margin-left: 100px\">(once (and (adjacent agent ?t) (touch agent ?d) ) ) </div>\r\n<div style=\"margin-left: 100px\">(hold (and (not (agent_holds ?d) ) (in_motion ?d) ) ) </div>\r\n<div style=\"margin-left: 100px\">(once (not (in_motion ?d) ) ) </div>\r\n<div style=\"margin-left: 80px\">) </div>\r\n<div style=\"margin-left: 60px\">) </div>\r\n<div style=\"margin-left: 40px\">) </div>\r\n<div style=\"margin-left: 20px\">) </div>\r\n<div style=\"margin-left: 0px\">) </div>\r\n<div style=\"margin-left: 0px\">(:terminal </div>\r\n<div style=\"margin-left: 20px\">(>= (count-nonoverlapping ballKicked) 10 ) </div>\r\n<div style=\"margin-left: 0px\">) </div>\r\n<div style=\"margin-left: 0px\">(:scoring </div>\r\n<div style=\"margin-left: 20px\">maximize </div>\r\n<div style=\"margin-left: 40px\">(count-nonoverlapping throwToWallToBin) </div>\r\n<div style=\"margin-left: 0px\">) </div>\r\n<div style=\"margin-left: 0px\">) </div>"
     },
     "metadata": {}
    },
    {
     "output_type": "stream",
     "name": "stdout",
     "text": [
      "With random seed 1400, mutated sequence function #0 in \"throwInBin\":\n\n"
     ]
    },
    {
     "output_type": "display_data",
     "data": {
      "text/plain": "<IPython.core.display.HTML object>",
      "text/html": "<div style=\"margin-left: 0px\">(define (game few-objects-26) (:domain few-objects-room-v1) </div>\r\n<div style=\"margin-left: 0px\">(:setup </div>\r\n<div style=\"margin-left: 20px\">(exists (?b1 ?b2 ?b3 ?b4 ?b5 ?b6 - cube_block ?c - chair ?h - hexagonal_bin) </div>\r\n<div style=\"margin-left: 40px\">(and </div>\r\n<div style=\"margin-left: 60px\">(game-conserved </div>\r\n<div style=\"margin-left: 80px\">(and </div>\r\n<div style=\"margin-left: 100px\">(on bed ?h) </div>\r\n<div style=\"margin-left: 100px\">(adjacent ?c desk) </div>\r\n<div style=\"margin-left: 80px\">) </div>\r\n<div style=\"margin-left: 60px\">) </div>\r\n<div style=\"margin-left: 60px\">(game-optional </div>\r\n<div style=\"margin-left: 80px\">(and </div>\r\n<div style=\"margin-left: 100px\">(adjacent ?b1 bed) </div>\r\n<div style=\"margin-left: 100px\">(on ?b1 ?b2) </div>\r\n<div style=\"margin-left: 100px\">(adjacent ?b3 ?b1) </div>\r\n<div style=\"margin-left: 100px\">(on ?b3 ?b4) </div>\r\n<div style=\"margin-left: 100px\">(adjacent ?b5 ?b3) </div>\r\n<div style=\"margin-left: 100px\">(on ?b5 ?b6) </div>\r\n<div style=\"margin-left: 100px\">(between ?b1 ?b3 ?b5) </div>\r\n<div style=\"margin-left: 80px\">) </div>\r\n<div style=\"margin-left: 60px\">) </div>\r\n<div style=\"margin-left: 40px\">) </div>\r\n<div style=\"margin-left: 20px\">) </div>\r\n<div style=\"margin-left: 0px\">) </div>\r\n<div style=\"margin-left: 0px\">(:constraints </div>\r\n<div style=\"margin-left: 20px\">(and </div>\r\n<div style=\"margin-left: 40px\">(preference throwHitsBlock </div>\r\n<div style=\"margin-left: 60px\">(exists (?d - dodgeball ?b - cube_block ?c - chair) </div>\r\n<div style=\"margin-left: 80px\">(then </div>\r\n<div style=\"margin-left: 100px\">(once (and (on ?c agent) (agent_holds ?d) (is_rotating ?c) ) ) </div>\r\n<div style=\"margin-left: 100px\">(hold (and (not (agent_holds ?d) ) (in_motion ?d) ) ) </div>\r\n<div style=\"margin-left: 100px\">(hold (touch ?d ?b) ) </div>\r\n<div style=\"margin-left: 100px\">(once (in_motion ?b) ) </div>\r\n<div style=\"margin-left: 80px\">) </div>\r\n<div style=\"margin-left: 60px\">) </div>\r\n<div style=\"margin-left: 40px\">) </div>\r\n<div style=\"margin-left: 40px\">(preference throwInBin </div>\r\n<div style=\"margin-left: 60px\">(exists (?d - dodgeball ?h - hexagonal_bin ?c - chair) </div>\r\n<div style=\"margin-left: 80px\">(then </div>\r\n<div style=\"text-decoration: line-through; margin-left: 100px\">(once (and (on ?c agent) (agent_holds ?d) (is_rotating ?c) ) ) </div>\r\n<div style=\"color: aqua; margin-left: 100px\">(hold (and (not (agent_holds ?c) ) (in_motion ?c) ) ) </div>\r\n<div style=\"margin-left: 100px\">(hold (and (not (agent_holds ?d) ) (in_motion ?d) ) ) </div>\r\n<div style=\"margin-left: 100px\">(once (and (on ?h ?d) (not (in_motion ?d) ) ) ) </div>\r\n<div style=\"margin-left: 80px\">) </div>\r\n<div style=\"margin-left: 60px\">) </div>\r\n<div style=\"margin-left: 40px\">) </div>\r\n<div style=\"margin-left: 40px\">(preference throwAttempt </div>\r\n<div style=\"margin-left: 60px\">(exists (?d - dodgeball) </div>\r\n<div style=\"margin-left: 80px\">(then </div>\r\n<div style=\"margin-left: 100px\">(once (agent_holds ?d) ) </div>\r\n<div style=\"margin-left: 100px\">(hold (and (not (agent_holds ?d) ) (in_motion ?d) ) ) </div>\r\n<div style=\"margin-left: 100px\">(once (not (in_motion ?d) ) ) </div>\r\n<div style=\"margin-left: 80px\">) </div>\r\n<div style=\"margin-left: 60px\">) </div>\r\n<div style=\"margin-left: 40px\">) </div>\r\n<div style=\"margin-left: 20px\">) </div>\r\n<div style=\"margin-left: 0px\">) </div>\r\n<div style=\"margin-left: 0px\">(:terminal </div>\r\n<div style=\"margin-left: 20px\">(>= (count-once-per-objects throwAttempt) 2 ) </div>\r\n<div style=\"margin-left: 0px\">) </div>\r\n<div style=\"margin-left: 0px\">(:scoring </div>\r\n<div style=\"margin-left: 20px\">maximize </div>\r\n<div style=\"margin-left: 40px\">(+ (* 1 (count-once-per-objects throwHitsBlock) ) </div>\r\n<div style=\"margin-left: 60px\">(* 5 (count-once-per-objects throwInBin) ) </div>\r\n<div style=\"margin-left: 40px\">) </div>\r\n<div style=\"margin-left: 0px\">) </div>\r\n<div style=\"margin-left: 0px\">) </div>"
     },
     "metadata": {}
    },
    {
     "output_type": "stream",
     "name": "stdout",
     "text": [
      "With random seed 1700, mutated sequence function #1 in \"golfballThrowAttempt\":\n\n"
     ]
    },
    {
     "output_type": "display_data",
     "data": {
      "text/plain": "<IPython.core.display.HTML object>",
      "text/html": "<div style=\"margin-left: 0px\">(define (game many-objects-16) (:domain medium-objects-room-v1) </div>\r\n<div style=\"margin-left: 0px\">(:setup </div>\r\n<div style=\"margin-left: 20px\">(and </div>\r\n<div style=\"margin-left: 40px\">(exists (?r - large_triangular_ramp ?h - hexagonal_bin ?c - chair) </div>\r\n<div style=\"margin-left: 60px\">(game-conserved </div>\r\n<div style=\"margin-left: 80px\">(and </div>\r\n<div style=\"margin-left: 100px\">(< (distance ?c ?r) 1) </div>\r\n<div style=\"margin-left: 100px\">(> (distance ?r ?h) 1) </div>\r\n<div style=\"margin-left: 100px\">(< (distance ?r ?h) 4) </div>\r\n<div style=\"margin-left: 100px\">(between ?c ?r ?h) </div>\r\n<div style=\"margin-left: 80px\">) </div>\r\n<div style=\"margin-left: 60px\">) </div>\r\n<div style=\"margin-left: 40px\">) </div>\r\n<div style=\"margin-left: 20px\">) </div>\r\n<div style=\"margin-left: 0px\">) </div>\r\n<div style=\"margin-left: 0px\">(:constraints </div>\r\n<div style=\"margin-left: 20px\">(and </div>\r\n<div style=\"margin-left: 40px\">(preference dodgeballThrowAttempt </div>\r\n<div style=\"margin-left: 60px\">(exists (?d - dodgeball) </div>\r\n<div style=\"margin-left: 80px\">(then </div>\r\n<div style=\"margin-left: 100px\">(once (agent_holds ?d) ) </div>\r\n<div style=\"margin-left: 100px\">(hold (and (not (agent_holds ?d) ) (in_motion ?d) ) ) </div>\r\n<div style=\"margin-left: 100px\">(once (not (in_motion ?d) ) ) </div>\r\n<div style=\"margin-left: 80px\">) </div>\r\n<div style=\"margin-left: 60px\">) </div>\r\n<div style=\"margin-left: 40px\">) </div>\r\n<div style=\"margin-left: 40px\">(preference dodgeballRollsOnRamp </div>\r\n<div style=\"margin-left: 60px\">(exists (?d - dodgeball ?r - large_triangular_ramp ?c - chair) </div>\r\n<div style=\"margin-left: 80px\">(then </div>\r\n<div style=\"margin-left: 100px\">(once (and (agent_holds ?d) (on ?c agent) ) ) </div>\r\n<div style=\"margin-left: 100px\">(hold-while (and (in_motion ?d) (not (agent_holds ?d) ) ) (touch (None ) ?d) (touch (None ) ?d) ) </div>\r\n<div style=\"margin-left: 80px\">) </div>\r\n<div style=\"margin-left: 60px\">) </div>\r\n<div style=\"margin-left: 40px\">) </div>\r\n<div style=\"margin-left: 40px\">(preference dodgeballOnRampToBin </div>\r\n<div style=\"margin-left: 60px\">(exists (?d - dodgeball ?h - hexagonal_bin ?r - large_triangular_ramp ?c - chair) </div>\r\n<div style=\"margin-left: 80px\">(then </div>\r\n<div style=\"margin-left: 100px\">(once (and (agent_holds ?d) (on ?c agent) ) ) </div>\r\n<div style=\"margin-left: 100px\">(hold-while (and (in_motion ?d) (not (agent_holds ?d) ) ) (touch (None ) ?d) (touch (None ) ?d) ) </div>\r\n<div style=\"margin-left: 100px\">(hold (and (in_motion ?d) (not (agent_holds ?d) ) ) ) </div>\r\n<div style=\"margin-left: 100px\">(once (and (on ?h ?d) (not (in_motion ?d) ) ) ) </div>\r\n<div style=\"margin-left: 80px\">) </div>\r\n<div style=\"margin-left: 60px\">) </div>\r\n<div style=\"margin-left: 40px\">) </div>\r\n<div style=\"margin-left: 40px\">(preference golfballThrowAttempt </div>\r\n<div style=\"margin-left: 60px\">(exists (?g - golfball) </div>\r\n<div style=\"margin-left: 80px\">(then </div>\r\n<div style=\"margin-left: 100px\">(once (agent_holds ?g) ) </div>\r\n<div style=\"text-decoration: line-through; margin-left: 100px\">(hold (and (not (agent_holds ?g) ) (in_motion ?g) ) ) </div>\r\n<div style=\"color: aqua; margin-left: 100px\">(once (agent_holds ?g) ) </div>\r\n<div style=\"margin-left: 100px\">(once (not (in_motion ?g) ) ) </div>\r\n<div style=\"margin-left: 80px\">) </div>\r\n<div style=\"margin-left: 60px\">) </div>\r\n<div style=\"margin-left: 40px\">) </div>\r\n<div style=\"margin-left: 40px\">(preference golfballRollsOnRamp </div>\r\n<div style=\"margin-left: 60px\">(exists (?g - golfball ?r - large_triangular_ramp ?c - chair) </div>\r\n<div style=\"margin-left: 80px\">(then </div>\r\n<div style=\"margin-left: 100px\">(once (and (agent_holds ?g) (on ?c agent) ) ) </div>\r\n<div style=\"margin-left: 100px\">(hold-while (and (in_motion ?g) (not (agent_holds ?g) ) ) (touch (None ) ?g) (touch (None ) ?g) ) </div>\r\n<div style=\"margin-left: 80px\">) </div>\r\n<div style=\"margin-left: 60px\">) </div>\r\n<div style=\"margin-left: 40px\">) </div>\r\n<div style=\"margin-left: 40px\">(preference golfballOnRampToBin </div>\r\n<div style=\"margin-left: 60px\">(exists (?g - dodgeball ?h - hexagonal_bin ?r - large_triangular_ramp ?c - chair) </div>\r\n<div style=\"margin-left: 80px\">(then </div>\r\n<div style=\"margin-left: 100px\">(once (and (agent_holds ?g) (on ?c agent) ) ) </div>\r\n<div style=\"margin-left: 100px\">(hold (and (in_motion ?g) (not (agent_holds ?g) ) ) ) </div>\r\n<div style=\"margin-left: 100px\">(hold-while (and (in_motion ?g) (not (agent_holds ?g) ) ) (touch (None ) ?g) (touch (None ) ?g) ) </div>\r\n<div style=\"margin-left: 100px\">(hold (and (in_motion ?g) (not (agent_holds ?g) ) ) ) </div>\r\n<div style=\"margin-left: 100px\">(once (and (on ?h ?g) (not (in_motion ?g) ) ) ) </div>\r\n<div style=\"margin-left: 80px\">) </div>\r\n<div style=\"margin-left: 60px\">) </div>\r\n<div style=\"margin-left: 40px\">) </div>\r\n<div style=\"margin-left: 20px\">) </div>\r\n<div style=\"margin-left: 0px\">) </div>\r\n<div style=\"margin-left: 0px\">(:terminal </div>\r\n<div style=\"margin-left: 20px\">(or </div>\r\n<div style=\"margin-left: 40px\">(>= (count-nonoverlapping dodgeballThrowAttempt) 3 ) </div>\r\n<div style=\"margin-left: 40px\">(>= (count-nonoverlapping golfballThrowAttempt) 3 ) </div>\r\n<div style=\"margin-left: 40px\">(and </div>\r\n<div style=\"margin-left: 60px\">(> (count-nonoverlapping dodgeballThrowAttempt) 0 ) </div>\r\n<div style=\"margin-left: 60px\">(> (count-nonoverlapping golfballThrowAttempt) 0 ) </div>\r\n<div style=\"margin-left: 40px\">) </div>\r\n<div style=\"margin-left: 20px\">) </div>\r\n<div style=\"margin-left: 0px\">) </div>\r\n<div style=\"margin-left: 0px\">(:scoring </div>\r\n<div style=\"margin-left: 20px\">maximize </div>\r\n<div style=\"margin-left: 40px\">(+ (* 5 (count-nonoverlapping dodgeballRollsOnRamp) (= (count-nonoverlapping golfballThrowAttempt) 0 ) </div>\r\n<div style=\"margin-left: 60px\">) </div>\r\n<div style=\"margin-left: 60px\">(* 10 (count-nonoverlapping dodgeballOnRampToBin) (= (count-nonoverlapping golfballThrowAttempt) 0 ) </div>\r\n<div style=\"margin-left: 60px\">) </div>\r\n<div style=\"margin-left: 60px\">(* 5 (count-nonoverlapping golfballRollsOnRamp) (= (count-nonoverlapping dodgeballThrowAttempt) 0 ) </div>\r\n<div style=\"margin-left: 60px\">) </div>\r\n<div style=\"margin-left: 60px\">(* 10 (count-nonoverlapping golfballOnRampToBin) (= (count-nonoverlapping dodgeballThrowAttempt) 0 ) </div>\r\n<div style=\"margin-left: 60px\">) </div>\r\n<div style=\"margin-left: 40px\">) </div>\r\n<div style=\"margin-left: 0px\">) </div>\r\n<div style=\"margin-left: 0px\">) </div>"
     },
     "metadata": {}
    },
    {
     "output_type": "stream",
     "name": "stdout",
     "text": [
      "With random seed 1800, mutated sequence function #1 in \"bounceBallToMug\":\n\n"
     ]
    },
    {
     "output_type": "display_data",
     "data": {
      "text/plain": "<IPython.core.display.HTML object>",
      "text/html": "<div style=\"margin-left: 0px\">(define (game many-objects-3) (:domain many-objects-room-v1) </div>\r\n<div style=\"margin-left: 0px\">(:setup </div>\r\n<div style=\"margin-left: 20px\">(and </div>\r\n<div style=\"margin-left: 40px\">(forall (?b - (either bridge_block flat_block)) </div>\r\n<div style=\"margin-left: 60px\">(game-optional </div>\r\n<div style=\"margin-left: 80px\">(on floor ?b) </div>\r\n<div style=\"margin-left: 60px\">) </div>\r\n<div style=\"margin-left: 40px\">) </div>\r\n<div style=\"margin-left: 20px\">) </div>\r\n<div style=\"margin-left: 0px\">) </div>\r\n<div style=\"margin-left: 0px\">(:constraints </div>\r\n<div style=\"margin-left: 20px\">(and </div>\r\n<div style=\"margin-left: 40px\">(preference bounceBallToMug </div>\r\n<div style=\"margin-left: 60px\">(exists (?g - golfball ?m - mug ?b - (either bridge_block flat_block)) </div>\r\n<div style=\"margin-left: 80px\">(then </div>\r\n<div style=\"margin-left: 100px\">(once (and (agent_holds ?g) (on bed agent) ) ) </div>\r\n<div style=\"text-decoration: line-through; margin-left: 100px\">(hold-while (and (not (agent_holds ?g) ) (in_motion ?g) ) (touch ?b ?g) ) </div>\r\n<div style=\"color: aqua; margin-left: 100px\">(once (and (on ?m ?b) (not (in_motion ?g) ) ) ) </div>\r\n<div style=\"margin-left: 100px\">(once (and (on ?m ?g) (not (in_motion ?g) ) ) ) </div>\r\n<div style=\"margin-left: 80px\">) </div>\r\n<div style=\"margin-left: 60px\">) </div>\r\n<div style=\"margin-left: 40px\">) </div>\r\n<div style=\"margin-left: 20px\">) </div>\r\n<div style=\"margin-left: 0px\">) </div>\r\n<div style=\"margin-left: 0px\">(:scoring </div>\r\n<div style=\"margin-left: 20px\">maximize </div>\r\n<div style=\"margin-left: 40px\">(count-nonoverlapping bounceBallToMug) </div>\r\n<div style=\"margin-left: 0px\">) </div>\r\n<div style=\"margin-left: 0px\">) </div>"
     },
     "metadata": {}
    },
    {
     "output_type": "stream",
     "name": "stdout",
     "text": [
      "With random seed 1901, mutated sequence function #2 in \"ballLandsOnOrangeOrGreen\":\n\n"
     ]
    },
    {
     "output_type": "display_data",
     "data": {
      "text/plain": "<IPython.core.display.HTML object>",
      "text/html": "<div style=\"margin-left: 0px\">(define (game few-objects-17) (:domain few-objects-room-v1) </div>\r\n<div style=\"margin-left: 0px\">(:setup </div>\r\n<div style=\"margin-left: 20px\">(exists (?c - curved_wooden_ramp) </div>\r\n<div style=\"margin-left: 40px\">(game-conserved </div>\r\n<div style=\"margin-left: 60px\">(adjacent ?c rug) </div>\r\n<div style=\"margin-left: 40px\">) </div>\r\n<div style=\"margin-left: 20px\">) </div>\r\n<div style=\"margin-left: 0px\">) </div>\r\n<div style=\"margin-left: 0px\">(:constraints </div>\r\n<div style=\"margin-left: 20px\">(and </div>\r\n<div style=\"margin-left: 40px\">(preference ballLandsOnRed </div>\r\n<div style=\"margin-left: 60px\">(exists (?d - dodgeball ?c - curved_wooden_ramp) </div>\r\n<div style=\"margin-left: 80px\">(then </div>\r\n<div style=\"margin-left: 100px\">(once (and (agent_holds ?d) (< (distance agent desktop) 0.5) ) ) </div>\r\n<div style=\"margin-left: 100px\">(hold-while (and (not (agent_holds ?d) ) (in_motion ?d) ) (on ?c ?d) ) </div>\r\n<div style=\"margin-left: 100px\">(once (and (on rug ?d) (not (in_motion ?d) ) (rug_color_under ?d red) ) ) </div>\r\n<div style=\"margin-left: 80px\">) </div>\r\n<div style=\"margin-left: 60px\">) </div>\r\n<div style=\"margin-left: 40px\">) </div>\r\n<div style=\"margin-left: 40px\">(preference blueBallLandsOnPink </div>\r\n<div style=\"margin-left: 60px\">(exists (?c - curved_wooden_ramp) </div>\r\n<div style=\"margin-left: 80px\">(then </div>\r\n<div style=\"margin-left: 100px\">(once (and (agent_holds blue_dodgeball) (< (distance agent desktop) 0.5) ) ) </div>\r\n<div style=\"margin-left: 100px\">(hold-while (and (not (agent_holds blue_dodgeball) ) (in_motion blue_dodgeball) ) (on ?c blue_dodgeball) ) </div>\r\n<div style=\"margin-left: 100px\">(once (and (on rug blue_dodgeball) (not (in_motion blue_dodgeball) ) (rug_color_under blue_dodgeball pink) ) ) </div>\r\n<div style=\"margin-left: 80px\">) </div>\r\n<div style=\"margin-left: 60px\">) </div>\r\n<div style=\"margin-left: 40px\">) </div>\r\n<div style=\"margin-left: 40px\">(preference pinkBallLandsOnPink </div>\r\n<div style=\"margin-left: 60px\">(exists (?c - curved_wooden_ramp) </div>\r\n<div style=\"margin-left: 80px\">(then </div>\r\n<div style=\"margin-left: 100px\">(once (and (agent_holds pink_dodgeball) (< (distance agent desktop) 0.5) ) ) </div>\r\n<div style=\"margin-left: 100px\">(hold-while (and (not (agent_holds pink_dodgeball) ) (in_motion pink_dodgeball) ) (on ?c pink_dodgeball) ) </div>\r\n<div style=\"margin-left: 100px\">(once (and (on rug pink_dodgeball) (not (in_motion pink_dodgeball) ) (rug_color_under pink_dodgeball pink) ) ) </div>\r\n<div style=\"margin-left: 80px\">) </div>\r\n<div style=\"margin-left: 60px\">) </div>\r\n<div style=\"margin-left: 40px\">) </div>\r\n<div style=\"margin-left: 40px\">(preference ballLandsOnOrangeOrGreen </div>\r\n<div style=\"margin-left: 60px\">(exists (?d - dodgeball ?c - curved_wooden_ramp) </div>\r\n<div style=\"margin-left: 80px\">(then </div>\r\n<div style=\"margin-left: 100px\">(once (and (agent_holds ?d) (< (distance agent desktop) 0.5) ) ) </div>\r\n<div style=\"margin-left: 100px\">(hold-while (and (not (agent_holds ?d) ) (in_motion ?d) ) (on ?c ?d) ) </div>\r\n<div style=\"text-decoration: line-through; margin-left: 100px\">(once (and (on rug ?d) (not (in_motion ?d) ) (or (rug_color_under ?d green) (rug_color_under ?d orange) ) ) ) </div>\r\n<div style=\"color: aqua; margin-left: 100px\">(once (and (on ?d ?c) (not (in_motion ?d) ) ) ) </div>\r\n<div style=\"margin-left: 80px\">) </div>\r\n<div style=\"margin-left: 60px\">) </div>\r\n<div style=\"margin-left: 40px\">) </div>\r\n<div style=\"margin-left: 40px\">(preference throwAttempt </div>\r\n<div style=\"margin-left: 60px\">(exists (?d - dodgeball) </div>\r\n<div style=\"margin-left: 80px\">(then </div>\r\n<div style=\"margin-left: 100px\">(once (agent_holds ?d) ) </div>\r\n<div style=\"margin-left: 100px\">(hold (and (not (agent_holds ?d) ) (in_motion ?d) ) ) </div>\r\n<div style=\"margin-left: 100px\">(once (not (in_motion ?d) ) ) </div>\r\n<div style=\"margin-left: 80px\">) </div>\r\n<div style=\"margin-left: 60px\">) </div>\r\n<div style=\"margin-left: 40px\">) </div>\r\n<div style=\"margin-left: 20px\">) </div>\r\n<div style=\"margin-left: 0px\">) </div>\r\n<div style=\"margin-left: 0px\">(:terminal </div>\r\n<div style=\"margin-left: 20px\">(> (count-nonoverlapping throwAttempt) (+ (/ (total-score) 30 ) 1 ) </div>\r\n<div style=\"margin-left: 20px\">) </div>\r\n<div style=\"margin-left: 0px\">) </div>\r\n<div style=\"margin-left: 0px\">(:scoring </div>\r\n<div style=\"margin-left: 20px\">maximize </div>\r\n<div style=\"margin-left: 40px\">(+ (* 50 (count-nonoverlapping ballLandsOnRed) ) </div>\r\n<div style=\"margin-left: 60px\">(* 10 (count-nonoverlapping blueBallLandsOnPink) ) </div>\r\n<div style=\"margin-left: 60px\">(* 15 (count-nonoverlapping pinkBallLandsOnPink) ) </div>\r\n<div style=\"margin-left: 60px\">(* 15 (count-nonoverlapping ballLandsOnOrangeOrGreen) ) </div>\r\n<div style=\"margin-left: 40px\">) </div>\r\n<div style=\"margin-left: 0px\">) </div>\r\n<div style=\"margin-left: 0px\">) </div>"
     },
     "metadata": {}
    },
    {
     "output_type": "stream",
     "name": "stdout",
     "text": [
      "With random seed 2000, mutated sequence function #1 in \"throwLandsInPerimeter\":\n\n"
     ]
    },
    {
     "output_type": "display_data",
     "data": {
      "text/plain": "<IPython.core.display.HTML object>",
      "text/html": "<div style=\"margin-left: 0px\">(define (game many-objects-20) (:domain many-objects-room-v1) </div>\r\n<div style=\"margin-left: 0px\">(:setup </div>\r\n<div style=\"margin-left: 20px\">(and </div>\r\n<div style=\"margin-left: 40px\">(exists (?t1 ?t2 ?t3 - triangular_block) </div>\r\n<div style=\"margin-left: 60px\">(game-conserved </div>\r\n<div style=\"margin-left: 80px\">(and </div>\r\n<div style=\"margin-left: 100px\">(= (distance ?t1 ?t2) (distance ?t1 ?t3)) </div>\r\n<div style=\"margin-left: 100px\">(= (distance ?t1 ?t2) (distance ?t2 ?t3)) </div>\r\n<div style=\"margin-left: 80px\">) </div>\r\n<div style=\"margin-left: 60px\">) </div>\r\n<div style=\"margin-left: 40px\">) </div>\r\n<div style=\"margin-left: 40px\">(forall (?b - bridge_block) </div>\r\n<div style=\"margin-left: 60px\">(forall (?b2 - bridge_block ?t - triangular_block) </div>\r\n<div style=\"margin-left: 80px\">(game-conserved </div>\r\n<div style=\"margin-left: 100px\">(and </div>\r\n<div style=\"margin-left: 120px\">(not </div>\r\n<div style=\"margin-left: 140px\">(= ?b ?b2) </div>\r\n<div style=\"margin-left: 120px\">) </div>\r\n<div style=\"margin-left: 120px\">(< (distance ?b ?t) (distance ?b ?b2)) </div>\r\n<div style=\"margin-left: 100px\">) </div>\r\n<div style=\"margin-left: 80px\">) </div>\r\n<div style=\"margin-left: 60px\">) </div>\r\n<div style=\"margin-left: 40px\">) </div>\r\n<div style=\"margin-left: 40px\">(exists (?r - large_triangular_ramp ?b - bridge_block ?t - triangular_block) </div>\r\n<div style=\"margin-left: 60px\">(game-conserved </div>\r\n<div style=\"margin-left: 80px\">(between ?r ?b ?t) </div>\r\n<div style=\"margin-left: 60px\">) </div>\r\n<div style=\"margin-left: 40px\">) </div>\r\n<div style=\"margin-left: 20px\">) </div>\r\n<div style=\"margin-left: 0px\">) </div>\r\n<div style=\"margin-left: 0px\">(:constraints </div>\r\n<div style=\"margin-left: 20px\">(and </div>\r\n<div style=\"margin-left: 40px\">(preference throwLandsInTarget </div>\r\n<div style=\"margin-left: 60px\">(exists (?g - golfball ?r - large_triangular_ramp) </div>\r\n<div style=\"margin-left: 80px\">(then </div>\r\n<div style=\"margin-left: 100px\">(once (and (agent_holds ?g) (exists (?t - triangular_block) (between agent ?r ?t) ) ) ) </div>\r\n<div style=\"margin-left: 100px\">(hold-while (and (not (agent_holds ?g) ) (in_motion ?g) ) (touch ?d ?g) ) </div>\r\n<div style=\"margin-left: 100px\">(once (and (not (in_motion ?g) ) (on floor ?g) (exists (?t1 ?t2 - triangular_block) (between ?t1 ?r ?t2) ) ) ) </div>\r\n<div style=\"margin-left: 80px\">) </div>\r\n<div style=\"margin-left: 60px\">) </div>\r\n<div style=\"margin-left: 40px\">) </div>\r\n<div style=\"margin-left: 40px\">(preference throwLandsInPerimeter </div>\r\n<div style=\"margin-left: 60px\">(exists (?g - golfball ?r - large_triangular_ramp) </div>\r\n<div style=\"margin-left: 80px\">(then </div>\r\n<div style=\"margin-left: 100px\">(once (and (agent_holds ?g) (exists (?t - triangular_block) (between agent ?r ?t) ) ) ) </div>\r\n<div style=\"text-decoration: line-through; margin-left: 100px\">(hold-while (and (not (agent_holds ?g) ) (in_motion ?g) ) (touch ?d ?g) ) </div>\r\n<div style=\"color: aqua; margin-left: 100px\">(once (agent_holds ?g) ) </div>\r\n<div style=\"margin-left: 100px\">(once (and (not (in_motion ?g) ) (on floor ?g) (exists (?b1 ?b2 - bridge_block) (between ?b1 ?r ?b2) ) ) ) </div>\r\n<div style=\"margin-left: 80px\">) </div>\r\n<div style=\"margin-left: 60px\">) </div>\r\n<div style=\"margin-left: 40px\">) </div>\r\n<div style=\"margin-left: 40px\">(preference throwAttempt </div>\r\n<div style=\"margin-left: 60px\">(exists (?g - golfball) </div>\r\n<div style=\"margin-left: 80px\">(then </div>\r\n<div style=\"margin-left: 100px\">(once (agent_holds ?g) ) </div>\r\n<div style=\"margin-left: 100px\">(hold (and (not (agent_holds ?g) ) (in_motion ?g) ) ) </div>\r\n<div style=\"margin-left: 100px\">(once (not (in_motion ?g) ) ) </div>\r\n<div style=\"margin-left: 80px\">) </div>\r\n<div style=\"margin-left: 60px\">) </div>\r\n<div style=\"margin-left: 40px\">) </div>\r\n<div style=\"margin-left: 20px\">) </div>\r\n<div style=\"margin-left: 0px\">) </div>\r\n<div style=\"margin-left: 0px\">(:terminal </div>\r\n<div style=\"margin-left: 20px\">(>= (count-nonoverlapping throwAttempt) 3 ) </div>\r\n<div style=\"margin-left: 0px\">) </div>\r\n<div style=\"margin-left: 0px\">(:scoring </div>\r\n<div style=\"margin-left: 20px\">maximize </div>\r\n<div style=\"margin-left: 40px\">(+ (* 5 (count-nonoverlapping throwLandsInTarget) ) </div>\r\n<div style=\"margin-left: 60px\">(* 2 (count-nonoverlapping throwLandsInPerimeter) ) </div>\r\n<div style=\"margin-left: 40px\">) </div>\r\n<div style=\"margin-left: 0px\">) </div>\r\n<div style=\"margin-left: 0px\">) </div>"
     },
     "metadata": {}
    },
    {
     "output_type": "display_data",
     "data": {
      "text/plain": "<IPython.core.display.HTML object>",
      "text/html": "<hr>"
     },
     "metadata": {}
    },
    {
     "output_type": "display_data",
     "data": {
      "text/plain": "<IPython.core.display.HTML object>",
      "text/html": "<h2>Odd</h2>"
     },
     "metadata": {}
    },
    {
     "output_type": "stream",
     "name": "stdout",
     "text": [
      "With random seed 101, mutated sequence function #0 in \"blockThrownToBlock\":\n\n"
     ]
    },
    {
     "output_type": "display_data",
     "data": {
      "text/plain": "<IPython.core.display.HTML object>",
      "text/html": "<div style=\"margin-left: 0px\">(define (game few-objects-31) (:domain few-objects-room-v1) </div>\r\n<div style=\"margin-left: 0px\">(:setup </div>\r\n<div style=\"margin-left: 20px\">) </div>\r\n<div style=\"margin-left: 0px\">(:constraints </div>\r\n<div style=\"margin-left: 20px\">(and </div>\r\n<div style=\"margin-left: 40px\">(preference blockThrownToGround </div>\r\n<div style=\"margin-left: 60px\">(exists (?b - cube_block) </div>\r\n<div style=\"margin-left: 80px\">(then </div>\r\n<div style=\"margin-left: 100px\">(once (agent_holds ?b) ) </div>\r\n<div style=\"margin-left: 100px\">(hold (and (not (agent_holds ?b) ) (in_motion ?b) ) ) </div>\r\n<div style=\"margin-left: 100px\">(hold-to-end (and (on floor ?b) (not (agent_holds ?b) ) ) ) </div>\r\n<div style=\"margin-left: 80px\">) </div>\r\n<div style=\"margin-left: 60px\">) </div>\r\n<div style=\"margin-left: 40px\">) </div>\r\n<div style=\"margin-left: 40px\">(preference blockThrownToBlock </div>\r\n<div style=\"margin-left: 60px\">(exists (?b1 ?b2 - cube_block) </div>\r\n<div style=\"margin-left: 80px\">(then </div>\r\n<div style=\"text-decoration: line-through; margin-left: 100px\">(once (agent_holds ?b1) ) </div>\r\n<div style=\"color: aqua; margin-left: 100px\">(hold (and (object_orientation ?b2 edge) (on ?b2 agent) ) ) </div>\r\n<div style=\"margin-left: 100px\">(hold (and (not (agent_holds ?b1) ) (in_motion ?b1) ) ) </div>\r\n<div style=\"margin-left: 100px\">(hold-to-end (and (on ?b1 ?b2) (not (agent_holds ?b1) ) (not (agent_holds ?b2) ) ) ) </div>\r\n<div style=\"margin-left: 80px\">) </div>\r\n<div style=\"margin-left: 60px\">) </div>\r\n<div style=\"margin-left: 40px\">) </div>\r\n<div style=\"margin-left: 20px\">) </div>\r\n<div style=\"margin-left: 0px\">) </div>\r\n<div style=\"margin-left: 0px\">(:scoring </div>\r\n<div style=\"margin-left: 20px\">maximize </div>\r\n<div style=\"margin-left: 40px\">(+ (* (count-once-per-objects blockThrownToGround) (+ 1 (count-once-per-objects blockThrownToBlock) ) </div>\r\n<div style=\"margin-left: 60px\">) </div>\r\n<div style=\"margin-left: 40px\">) </div>\r\n<div style=\"margin-left: 0px\">) </div>\r\n<div style=\"margin-left: 0px\">) </div>"
     },
     "metadata": {}
    },
    {
     "output_type": "stream",
     "name": "stdout",
     "text": [
      "With random seed 602, mutated sequence function #2 in \"throwBallToHexagonalBinThroughRamp\":\n\n"
     ]
    },
    {
     "output_type": "display_data",
     "data": {
      "text/plain": "<IPython.core.display.HTML object>",
      "text/html": "<div style=\"margin-left: 0px\">(define (game many-objects-9) (:domain many-objects-room-v1) </div>\r\n<div style=\"margin-left: 0px\">(:setup </div>\r\n<div style=\"margin-left: 20px\">) </div>\r\n<div style=\"margin-left: 0px\">(:constraints </div>\r\n<div style=\"margin-left: 20px\">(and </div>\r\n<div style=\"margin-left: 40px\">(preference throwBallToMugThroughRamp </div>\r\n<div style=\"margin-left: 60px\">(exists (?g - golfball ?m - mug ?r - curved_wooden_ramp) </div>\r\n<div style=\"margin-left: 80px\">(then </div>\r\n<div style=\"margin-left: 100px\">(once (agent_holds ?g) ) </div>\r\n<div style=\"margin-left: 100px\">(hold-while (and (not (agent_holds ?g) ) (in_motion ?g) ) (touch ?r ?g) ) </div>\r\n<div style=\"margin-left: 100px\">(once (and (on ?m ?g) (not (in_motion ?g) ) ) ) </div>\r\n<div style=\"margin-left: 80px\">) </div>\r\n<div style=\"margin-left: 60px\">) </div>\r\n<div style=\"margin-left: 40px\">) </div>\r\n<div style=\"margin-left: 40px\">(preference throwBallToHexagonalBinThroughRamp </div>\r\n<div style=\"margin-left: 60px\">(exists (?g - golfball ?h - hexagonal_bin ?r - curved_wooden_ramp) </div>\r\n<div style=\"margin-left: 80px\">(then </div>\r\n<div style=\"margin-left: 100px\">(once (agent_holds ?g) ) </div>\r\n<div style=\"margin-left: 100px\">(hold-while (and (not (agent_holds ?g) ) (in_motion ?g) ) (touch ?r ?g) ) </div>\r\n<div style=\"text-decoration: line-through; margin-left: 100px\">(once (and (on ?h ?g) (not (in_motion ?g) ) ) ) </div>\r\n<div style=\"color: aqua; margin-left: 100px\">(hold-while (and (on bed agent) (not (agent_holds ?r) ) ) (touch ?r ?h) (not (object_orientation ?h upright) ) ) </div>\r\n<div style=\"margin-left: 80px\">) </div>\r\n<div style=\"margin-left: 60px\">) </div>\r\n<div style=\"margin-left: 40px\">) </div>\r\n<div style=\"margin-left: 20px\">) </div>\r\n<div style=\"margin-left: 0px\">) </div>\r\n<div style=\"margin-left: 0px\">(:scoring </div>\r\n<div style=\"margin-left: 20px\">maximize </div>\r\n<div style=\"margin-left: 40px\">(+ (* 5 (count-nonoverlapping throwBallToHexagonalBinThroughRamp) ) </div>\r\n<div style=\"margin-left: 60px\">(* 10 (count-nonoverlapping throwBallToHexagonalBinThroughRamp) ) </div>\r\n<div style=\"margin-left: 40px\">) </div>\r\n<div style=\"margin-left: 0px\">) </div>\r\n<div style=\"margin-left: 0px\">) </div>"
     },
     "metadata": {}
    },
    {
     "output_type": "stream",
     "name": "stdout",
     "text": [
      "With random seed 1300, mutated sequence function #0 in \"bounceBallToMug\":\n\n"
     ]
    },
    {
     "output_type": "display_data",
     "data": {
      "text/plain": "<IPython.core.display.HTML object>",
      "text/html": "<div style=\"margin-left: 0px\">(define (game many-objects-3) (:domain many-objects-room-v1) </div>\r\n<div style=\"margin-left: 0px\">(:setup </div>\r\n<div style=\"margin-left: 20px\">(and </div>\r\n<div style=\"margin-left: 40px\">(forall (?b - (either bridge_block flat_block)) </div>\r\n<div style=\"margin-left: 60px\">(game-optional </div>\r\n<div style=\"margin-left: 80px\">(on floor ?b) </div>\r\n<div style=\"margin-left: 60px\">) </div>\r\n<div style=\"margin-left: 40px\">) </div>\r\n<div style=\"margin-left: 20px\">) </div>\r\n<div style=\"margin-left: 0px\">) </div>\r\n<div style=\"margin-left: 0px\">(:constraints </div>\r\n<div style=\"margin-left: 20px\">(and </div>\r\n<div style=\"margin-left: 40px\">(preference bounceBallToMug </div>\r\n<div style=\"margin-left: 60px\">(exists (?g - golfball ?m - mug ?b - (either bridge_block flat_block)) </div>\r\n<div style=\"margin-left: 80px\">(then </div>\r\n<div style=\"text-decoration: line-through; margin-left: 100px\">(once (and (agent_holds ?g) (on bed agent) ) ) </div>\r\n<div style=\"color: aqua; margin-left: 100px\">(hold-while (and (not (agent_holds ?m) ) (in_motion ?g) ) (on ?b ?m) ) </div>\r\n<div style=\"margin-left: 100px\">(hold-while (and (not (agent_holds ?g) ) (in_motion ?g) ) (touch ?b ?g) ) </div>\r\n<div style=\"margin-left: 100px\">(once (and (on ?m ?g) (not (in_motion ?g) ) ) ) </div>\r\n<div style=\"margin-left: 80px\">) </div>\r\n<div style=\"margin-left: 60px\">) </div>\r\n<div style=\"margin-left: 40px\">) </div>\r\n<div style=\"margin-left: 20px\">) </div>\r\n<div style=\"margin-left: 0px\">) </div>\r\n<div style=\"margin-left: 0px\">(:scoring </div>\r\n<div style=\"margin-left: 20px\">maximize </div>\r\n<div style=\"margin-left: 40px\">(count-nonoverlapping bounceBallToMug) </div>\r\n<div style=\"margin-left: 0px\">) </div>\r\n<div style=\"margin-left: 0px\">) </div>"
     },
     "metadata": {}
    },
    {
     "output_type": "display_data",
     "data": {
      "text/plain": "<IPython.core.display.HTML object>",
      "text/html": "<hr>"
     },
     "metadata": {}
    },
    {
     "output_type": "display_data",
     "data": {
      "text/plain": "<IPython.core.display.HTML object>",
      "text/html": "<h2>Reasonable</h2>"
     },
     "metadata": {}
    },
    {
     "output_type": "stream",
     "name": "stdout",
     "text": [
      "With random seed 401, mutated sequence function #1 in \"golfballHitsMiddleShelfBlocks\":\n\n"
     ]
    },
    {
     "output_type": "display_data",
     "data": {
      "text/plain": "<IPython.core.display.HTML object>",
      "text/html": "<div style=\"margin-left: 0px\">(define (game many-objects-26) (:domain many-objects-room-v1) </div>\r\n<div style=\"margin-left: 0px\">(:setup </div>\r\n<div style=\"margin-left: 20px\">(and </div>\r\n<div style=\"margin-left: 40px\">(exists (?h - hexagonal_bin) </div>\r\n<div style=\"margin-left: 60px\">(game-conserved </div>\r\n<div style=\"margin-left: 80px\">(< (distance south_wall_shelf ?h) 0.1) </div>\r\n<div style=\"margin-left: 60px\">) </div>\r\n<div style=\"margin-left: 40px\">) </div>\r\n<div style=\"margin-left: 40px\">(forall (?b - (either tall_cylindrical_block bridge_block)) </div>\r\n<div style=\"margin-left: 60px\">(game-optional </div>\r\n<div style=\"margin-left: 80px\">(on south_wall_shelf ?b) </div>\r\n<div style=\"margin-left: 60px\">) </div>\r\n<div style=\"margin-left: 40px\">) </div>\r\n<div style=\"margin-left: 20px\">) </div>\r\n<div style=\"margin-left: 0px\">) </div>\r\n<div style=\"margin-left: 0px\">(:constraints </div>\r\n<div style=\"margin-left: 20px\">(and </div>\r\n<div style=\"margin-left: 40px\">(preference golfballHitsLowerShelfBlocks </div>\r\n<div style=\"margin-left: 60px\">(exists (?g - goflball ?b - (either triangular_block cube_block) ?h - hexagonal_bin) </div>\r\n<div style=\"margin-left: 80px\">(then </div>\r\n<div style=\"margin-left: 100px\">(once (agent_holds ?g) ) </div>\r\n<div style=\"margin-left: 100px\">(hold-while (and (not (agent_holds ?g) ) (in_motion ?g) ) (touch ?g ?b) ) </div>\r\n<div style=\"margin-left: 100px\">(once (and (on ?h ?b) (not (in_motion ?b) ) ) ) </div>\r\n<div style=\"margin-left: 80px\">) </div>\r\n<div style=\"margin-left: 60px\">) </div>\r\n<div style=\"margin-left: 40px\">) </div>\r\n<div style=\"margin-left: 40px\">(preference golfballHitsMiddleShelfBlocks </div>\r\n<div style=\"margin-left: 60px\">(exists (?g - goflball ?b - (either pyramid_block short_cylindrical_block) ?h - hexagonal_bin) </div>\r\n<div style=\"margin-left: 80px\">(then </div>\r\n<div style=\"margin-left: 100px\">(once (agent_holds ?g) ) </div>\r\n<div style=\"text-decoration: line-through; margin-left: 100px\">(hold-while (and (not (agent_holds ?g) ) (in_motion ?g) ) (touch ?g ?b) ) </div>\r\n<div style=\"color: aqua; margin-left: 100px\">(hold (and (not (agent_holds ?b) ) (in_motion ?g) ) ) </div>\r\n<div style=\"margin-left: 100px\">(once (and (on ?h ?b) (not (in_motion ?b) ) ) ) </div>\r\n<div style=\"margin-left: 80px\">) </div>\r\n<div style=\"margin-left: 60px\">) </div>\r\n<div style=\"margin-left: 40px\">) </div>\r\n<div style=\"margin-left: 40px\">(preference golfballHitsTopShelfBlocks </div>\r\n<div style=\"margin-left: 60px\">(exists (?g - goflball ?b - (either flat_block tall_cylindrical_block bridge_block) ?h - hexagonal_bin) </div>\r\n<div style=\"margin-left: 80px\">(then </div>\r\n<div style=\"margin-left: 100px\">(once (agent_holds ?g) ) </div>\r\n<div style=\"margin-left: 100px\">(hold-while (and (not (agent_holds ?g) ) (in_motion ?g) ) (touch ?g ?b) ) </div>\r\n<div style=\"margin-left: 100px\">(once (and (on ?h ?b) (not (in_motion ?b) ) ) ) </div>\r\n<div style=\"margin-left: 80px\">) </div>\r\n<div style=\"margin-left: 60px\">) </div>\r\n<div style=\"margin-left: 40px\">) </div>\r\n<div style=\"margin-left: 20px\">) </div>\r\n<div style=\"margin-left: 0px\">) </div>\r\n<div style=\"margin-left: 0px\">(:scoring </div>\r\n<div style=\"margin-left: 20px\">maximize </div>\r\n<div style=\"margin-left: 40px\">(+ (* 1 (count-once-per-objects golfballHitsLowerShelfBlocks) ) </div>\r\n<div style=\"margin-left: 60px\">(* 2 (count-once-per-objects golfballHitsMiddleShelfBlocks) ) </div>\r\n<div style=\"margin-left: 60px\">(* 3 (count-once-per-objects golfballHitsTopShelfBlocks) ) </div>\r\n<div style=\"margin-left: 40px\">) </div>\r\n<div style=\"margin-left: 0px\">) </div>\r\n<div style=\"margin-left: 0px\">) </div>"
     },
     "metadata": {}
    },
    {
     "output_type": "stream",
     "name": "stdout",
     "text": [
      "With random seed 800, mutated sequence function #1 in \"golfballHitsMiddleShelfBlocks\":\n\n"
     ]
    },
    {
     "output_type": "display_data",
     "data": {
      "text/plain": "<IPython.core.display.HTML object>",
      "text/html": "<div style=\"margin-left: 0px\">(define (game many-objects-26) (:domain many-objects-room-v1) </div>\r\n<div style=\"margin-left: 0px\">(:setup </div>\r\n<div style=\"margin-left: 20px\">(and </div>\r\n<div style=\"margin-left: 40px\">(exists (?h - hexagonal_bin) </div>\r\n<div style=\"margin-left: 60px\">(game-conserved </div>\r\n<div style=\"margin-left: 80px\">(< (distance south_wall_shelf ?h) 0.1) </div>\r\n<div style=\"margin-left: 60px\">) </div>\r\n<div style=\"margin-left: 40px\">) </div>\r\n<div style=\"margin-left: 40px\">(forall (?b - (either tall_cylindrical_block bridge_block)) </div>\r\n<div style=\"margin-left: 60px\">(game-optional </div>\r\n<div style=\"margin-left: 80px\">(on south_wall_shelf ?b) </div>\r\n<div style=\"margin-left: 60px\">) </div>\r\n<div style=\"margin-left: 40px\">) </div>\r\n<div style=\"margin-left: 20px\">) </div>\r\n<div style=\"margin-left: 0px\">) </div>\r\n<div style=\"margin-left: 0px\">(:constraints </div>\r\n<div style=\"margin-left: 20px\">(and </div>\r\n<div style=\"margin-left: 40px\">(preference golfballHitsLowerShelfBlocks </div>\r\n<div style=\"margin-left: 60px\">(exists (?g - goflball ?b - (either triangular_block cube_block) ?h - hexagonal_bin) </div>\r\n<div style=\"margin-left: 80px\">(then </div>\r\n<div style=\"margin-left: 100px\">(once (agent_holds ?g) ) </div>\r\n<div style=\"margin-left: 100px\">(hold-while (and (not (agent_holds ?g) ) (in_motion ?g) ) (touch ?g ?b) ) </div>\r\n<div style=\"margin-left: 100px\">(once (and (on ?h ?b) (not (in_motion ?b) ) ) ) </div>\r\n<div style=\"margin-left: 80px\">) </div>\r\n<div style=\"margin-left: 60px\">) </div>\r\n<div style=\"margin-left: 40px\">) </div>\r\n<div style=\"margin-left: 40px\">(preference golfballHitsMiddleShelfBlocks </div>\r\n<div style=\"margin-left: 60px\">(exists (?g - goflball ?b - (either pyramid_block short_cylindrical_block) ?h - hexagonal_bin) </div>\r\n<div style=\"margin-left: 80px\">(then </div>\r\n<div style=\"margin-left: 100px\">(once (agent_holds ?g) ) </div>\r\n<div style=\"text-decoration: line-through; margin-left: 100px\">(hold-while (and (not (agent_holds ?g) ) (in_motion ?g) ) (touch ?g ?b) ) </div>\r\n<div style=\"color: aqua; margin-left: 100px\">(hold (and (not (agent_holds ?h) ) (in_motion ?g) ) ) </div>\r\n<div style=\"margin-left: 100px\">(once (and (on ?h ?b) (not (in_motion ?b) ) ) ) </div>\r\n<div style=\"margin-left: 80px\">) </div>\r\n<div style=\"margin-left: 60px\">) </div>\r\n<div style=\"margin-left: 40px\">) </div>\r\n<div style=\"margin-left: 40px\">(preference golfballHitsTopShelfBlocks </div>\r\n<div style=\"margin-left: 60px\">(exists (?g - goflball ?b - (either flat_block tall_cylindrical_block bridge_block) ?h - hexagonal_bin) </div>\r\n<div style=\"margin-left: 80px\">(then </div>\r\n<div style=\"margin-left: 100px\">(once (agent_holds ?g) ) </div>\r\n<div style=\"margin-left: 100px\">(hold-while (and (not (agent_holds ?g) ) (in_motion ?g) ) (touch ?g ?b) ) </div>\r\n<div style=\"margin-left: 100px\">(once (and (on ?h ?b) (not (in_motion ?b) ) ) ) </div>\r\n<div style=\"margin-left: 80px\">) </div>\r\n<div style=\"margin-left: 60px\">) </div>\r\n<div style=\"margin-left: 40px\">) </div>\r\n<div style=\"margin-left: 20px\">) </div>\r\n<div style=\"margin-left: 0px\">) </div>\r\n<div style=\"margin-left: 0px\">(:scoring </div>\r\n<div style=\"margin-left: 20px\">maximize </div>\r\n<div style=\"margin-left: 40px\">(+ (* 1 (count-once-per-objects golfballHitsLowerShelfBlocks) ) </div>\r\n<div style=\"margin-left: 60px\">(* 2 (count-once-per-objects golfballHitsMiddleShelfBlocks) ) </div>\r\n<div style=\"margin-left: 60px\">(* 3 (count-once-per-objects golfballHitsTopShelfBlocks) ) </div>\r\n<div style=\"margin-left: 40px\">) </div>\r\n<div style=\"margin-left: 0px\">) </div>\r\n<div style=\"margin-left: 0px\">) </div>"
     },
     "metadata": {}
    },
    {
     "output_type": "stream",
     "name": "stdout",
     "text": [
      "With random seed 1001, mutated sequence function #2 in \"chairHitFromBedWithDoggieBed\":\n\n"
     ]
    },
    {
     "output_type": "display_data",
     "data": {
      "text/plain": "<IPython.core.display.HTML object>",
      "text/html": "<div style=\"margin-left: 0px\">(define (game few-objects-10) (:domain few-objects-room-v1) </div>\r\n<div style=\"margin-left: 0px\">(:setup </div>\r\n<div style=\"margin-left: 20px\">) </div>\r\n<div style=\"margin-left: 0px\">(:constraints </div>\r\n<div style=\"margin-left: 20px\">(and </div>\r\n<div style=\"margin-left: 40px\">(preference chairHitFromBedWithDoggieBed </div>\r\n<div style=\"margin-left: 60px\">(exists (?c - chair ?d - doggie_bed) </div>\r\n<div style=\"margin-left: 80px\">(then </div>\r\n<div style=\"margin-left: 100px\">(once (and (agent_holds ?d) (on bed agent) ) ) </div>\r\n<div style=\"margin-left: 100px\">(hold (and (not (agent_holds ?d) ) (in_motion ?d) ) ) </div>\r\n<div style=\"text-decoration: line-through; margin-left: 100px\">(once (touch ?d ?c) ) </div>\r\n<div style=\"color: aqua; margin-left: 100px\">(once (and (agent_holds ?d) (not (under ?d ?c) ) ) ) </div>\r\n<div style=\"margin-left: 80px\">) </div>\r\n<div style=\"margin-left: 60px\">) </div>\r\n<div style=\"margin-left: 40px\">) </div>\r\n<div style=\"margin-left: 40px\">(preference chairHitFromBedWithPillow </div>\r\n<div style=\"margin-left: 60px\">(exists (?c - chair ?p - pillow) </div>\r\n<div style=\"margin-left: 80px\">(then </div>\r\n<div style=\"margin-left: 100px\">(once (and (agent_holds ?p) (on bed agent) ) ) </div>\r\n<div style=\"margin-left: 100px\">(hold (and (not (agent_holds ?p) ) (in_motion ?p) ) ) </div>\r\n<div style=\"margin-left: 100px\">(once (touch ?p ?c) ) </div>\r\n<div style=\"margin-left: 80px\">) </div>\r\n<div style=\"margin-left: 60px\">) </div>\r\n<div style=\"margin-left: 40px\">) </div>\r\n<div style=\"margin-left: 20px\">) </div>\r\n<div style=\"margin-left: 0px\">) </div>\r\n<div style=\"margin-left: 0px\">(:scoring </div>\r\n<div style=\"margin-left: 20px\">maximize </div>\r\n<div style=\"margin-left: 40px\">(+ (* 20 (count-nonoverlapping chairHitFromBedWithDoggieBed) ) </div>\r\n<div style=\"margin-left: 60px\">(* 20 (count-nonoverlapping chairHitFromBedWithPillow) ) </div>\r\n<div style=\"margin-left: 40px\">) </div>\r\n<div style=\"margin-left: 0px\">) </div>\r\n<div style=\"margin-left: 0px\">) </div>"
     },
     "metadata": {}
    },
    {
     "output_type": "stream",
     "name": "stdout",
     "text": [
      "With random seed 1505, mutated sequence function #0 in \"ballHitsLamp\":\n\n"
     ]
    },
    {
     "output_type": "display_data",
     "data": {
      "text/plain": "<IPython.core.display.HTML object>",
      "text/html": "<div style=\"margin-left: 0px\">(define (game few-objects-19) (:domain few-objects-room-v1) </div>\r\n<div style=\"margin-left: 0px\">(:setup </div>\r\n<div style=\"margin-left: 20px\">(exists (?h - hexagonal_bin ?l - lamp) </div>\r\n<div style=\"margin-left: 40px\">(game-conserved </div>\r\n<div style=\"margin-left: 60px\">(on ?h ?l) </div>\r\n<div style=\"margin-left: 40px\">) </div>\r\n<div style=\"margin-left: 20px\">) </div>\r\n<div style=\"margin-left: 0px\">) </div>\r\n<div style=\"margin-left: 0px\">(:constraints </div>\r\n<div style=\"margin-left: 20px\">(and </div>\r\n<div style=\"margin-left: 40px\">(preference ballHitsLamp </div>\r\n<div style=\"margin-left: 60px\">(exists (?d - dodgeball ?l - lamp ?h - hexagonal_bin) </div>\r\n<div style=\"margin-left: 80px\">(then </div>\r\n<div style=\"text-decoration: line-through; margin-left: 100px\">(once (and (agent_holds ?d) (> (distance agent ?h) 10) ) ) </div>\r\n<div style=\"color: aqua; margin-left: 100px\">(once (adjacent agent ?h) ) </div>\r\n<div style=\"margin-left: 100px\">(hold (and (not (agent_holds ?d) ) (in_motion ?d) ) ) </div>\r\n<div style=\"margin-left: 100px\">(once (and (on ?h ?l) (touch ?d ?l) (not (in_motion ?d) ) ) ) </div>\r\n<div style=\"margin-left: 80px\">) </div>\r\n<div style=\"margin-left: 60px\">) </div>\r\n<div style=\"margin-left: 40px\">) </div>\r\n<div style=\"margin-left: 20px\">) </div>\r\n<div style=\"margin-left: 0px\">) </div>\r\n<div style=\"margin-left: 0px\">(:scoring </div>\r\n<div style=\"margin-left: 20px\">maximize </div>\r\n<div style=\"margin-left: 40px\">(* 10 (count-nonoverlapping ballHitsLamp) ) </div>\r\n<div style=\"margin-left: 0px\">) </div>\r\n<div style=\"margin-left: 0px\">) </div>"
     },
     "metadata": {}
    },
    {
     "output_type": "stream",
     "name": "stdout",
     "text": [
      "With random seed 1601, mutated sequence function #2 in \"throwMissesBin\":\n\n"
     ]
    },
    {
     "output_type": "display_data",
     "data": {
      "text/plain": "<IPython.core.display.HTML object>",
      "text/html": "<div style=\"margin-left: 0px\">(define (game many-objects-8) (:domain many-objects-room-v1) </div>\r\n<div style=\"margin-left: 0px\">(:setup </div>\r\n<div style=\"margin-left: 20px\">(and </div>\r\n<div style=\"margin-left: 40px\">(exists (?t1 ?t2 - tall_cylindrical_block ?r - curved_wooden_ramp ?h - hexagonal_bin) </div>\r\n<div style=\"margin-left: 60px\">(game-conserved </div>\r\n<div style=\"margin-left: 80px\">(and </div>\r\n<div style=\"margin-left: 100px\">(<= (distance ?t1 ?t2) 1) </div>\r\n<div style=\"margin-left: 100px\">(= (distance ?r ?t1) (distance ?r ?t2)) </div>\r\n<div style=\"margin-left: 100px\">(adjacent_side ?h front ?r back) </div>\r\n<div style=\"margin-left: 100px\">(= (distance ?h ?t1) (distance ?h ?t2)) </div>\r\n<div style=\"margin-left: 100px\">(< (distance ?r ?t1) (distance ?h ?t1)) </div>\r\n<div style=\"margin-left: 80px\">) </div>\r\n<div style=\"margin-left: 60px\">) </div>\r\n<div style=\"margin-left: 40px\">) </div>\r\n<div style=\"margin-left: 20px\">) </div>\r\n<div style=\"margin-left: 0px\">) </div>\r\n<div style=\"margin-left: 0px\">(:constraints </div>\r\n<div style=\"margin-left: 20px\">(and </div>\r\n<div style=\"margin-left: 40px\">(preference throwBetweenBlocksToBin </div>\r\n<div style=\"margin-left: 60px\">(exists (?g - golfball ?t1 ?t2 - tall_cylindrical_block ?r - curved_wooden_ramp ?h - hexagonal_bin) </div>\r\n<div style=\"margin-left: 80px\">(then </div>\r\n<div style=\"margin-left: 100px\">(once (agent_holds ?g) ) </div>\r\n<div style=\"margin-left: 100px\">(hold-while (and (not (agent_holds ?g) ) (in_motion ?g) ) (between ?t1 ?g ?t2) (on ?r ?g) ) </div>\r\n<div style=\"margin-left: 100px\">(once (and (on ?h ?g) (not (in_motion ?g) ) ) ) </div>\r\n<div style=\"margin-left: 80px\">) </div>\r\n<div style=\"margin-left: 60px\">) </div>\r\n<div style=\"margin-left: 40px\">) </div>\r\n<div style=\"margin-left: 40px\">(preference thrownBallHitBlock </div>\r\n<div style=\"margin-left: 60px\">(exists (?g - golfball ?t - tall_cylindrical_block) </div>\r\n<div style=\"margin-left: 80px\">(then </div>\r\n<div style=\"margin-left: 100px\">(once (agent_holds ?g) ) </div>\r\n<div style=\"margin-left: 100px\">(hold (and (not (agent_holds ?g) ) (in_motion ?g) ) ) </div>\r\n<div style=\"margin-left: 100px\">(once (touch ?g ?t) ) </div>\r\n<div style=\"margin-left: 80px\">) </div>\r\n<div style=\"margin-left: 60px\">) </div>\r\n<div style=\"margin-left: 40px\">) </div>\r\n<div style=\"margin-left: 40px\">(preference throwMissesBin </div>\r\n<div style=\"margin-left: 60px\">(exists (?g - golfball ?h - hexagonal_bin) </div>\r\n<div style=\"margin-left: 80px\">(then </div>\r\n<div style=\"margin-left: 100px\">(once (agent_holds ?g) ) </div>\r\n<div style=\"margin-left: 100px\">(hold (and (not (agent_holds ?g) ) (in_motion ?g) ) ) </div>\r\n<div style=\"text-decoration: line-through; margin-left: 100px\">(once (and (not (in_motion ?g) ) (not (on ?h ?g) ) ) ) </div>\r\n<div style=\"color: aqua; margin-left: 100px\">(once (and (agent_holds ?h) (< (distance ?h desk) 1) ) ) </div>\r\n<div style=\"margin-left: 80px\">) </div>\r\n<div style=\"margin-left: 60px\">) </div>\r\n<div style=\"margin-left: 40px\">) </div>\r\n<div style=\"margin-left: 40px\">(preference throwAttempt </div>\r\n<div style=\"margin-left: 60px\">(exists (?g - golfball) </div>\r\n<div style=\"margin-left: 80px\">(then </div>\r\n<div style=\"margin-left: 100px\">(once (agent_holds ?g) ) </div>\r\n<div style=\"margin-left: 100px\">(hold (and (not (agent_holds ?g) ) (in_motion ?g) ) ) </div>\r\n<div style=\"margin-left: 100px\">(once (not (in_motion ?g) ) ) </div>\r\n<div style=\"margin-left: 80px\">) </div>\r\n<div style=\"margin-left: 60px\">) </div>\r\n<div style=\"margin-left: 40px\">) </div>\r\n<div style=\"margin-left: 20px\">) </div>\r\n<div style=\"margin-left: 0px\">) </div>\r\n<div style=\"margin-left: 0px\">(:terminal </div>\r\n<div style=\"margin-left: 20px\">(>= (count-nonoverlapping throwAttempt) 15 ) </div>\r\n<div style=\"margin-left: 0px\">) </div>\r\n<div style=\"margin-left: 0px\">(:scoring </div>\r\n<div style=\"margin-left: 20px\">maximize </div>\r\n<div style=\"margin-left: 40px\">(+ (* 5 (count-nonoverlapping throwBetweenBlocksToBin) ) </div>\r\n<div style=\"margin-left: 60px\">(- (count-nonoverlapping thrownBallHitBlock) ) </div>\r\n<div style=\"margin-left: 60px\">(- (* 2 (count-nonoverlapping throwMissesBin) ) </div>\r\n<div style=\"margin-left: 60px\">) </div>\r\n<div style=\"margin-left: 40px\">) </div>\r\n<div style=\"margin-left: 0px\">) </div>\r\n<div style=\"margin-left: 0px\">) </div>"
     },
     "metadata": {}
    },
    {
     "output_type": "display_data",
     "data": {
      "text/plain": "<IPython.core.display.HTML object>",
      "text/html": "<hr>"
     },
     "metadata": {}
    }
   ]
  },
  {
   "cell_type": "code",
   "execution_count": null,
   "metadata": {},
   "outputs": [],
   "source": []
  }
 ]
}