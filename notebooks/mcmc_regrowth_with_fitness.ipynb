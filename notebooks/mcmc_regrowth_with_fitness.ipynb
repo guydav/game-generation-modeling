{
 "cells": [
  {
   "cell_type": "code",
   "execution_count": 2,
   "metadata": {},
   "outputs": [],
   "source": [
    "%autoreload 2"
   ]
  },
  {
   "cell_type": "code",
   "execution_count": 3,
   "metadata": {},
   "outputs": [],
   "source": [
    "from collections import defaultdict\n",
    "from argparse import Namespace\n",
    "import copy\n",
    "import gzip\n",
    "import itertools\n",
    "import os\n",
    "import pickle\n",
    "import sys\n",
    "import typing\n",
    "\n",
    "import matplotlib\n",
    "import matplotlib.pyplot as plt\n",
    "import numpy as np\n",
    "import pandas as pd\n",
    "import tatsu\n",
    "import tatsu.ast\n",
    "import torch\n",
    "import torch.nn as nn\n",
    "import torch.nn.functional as F\n",
    "from torch.utils.data import TensorDataset, DataLoader\n",
    "import tqdm\n",
    "import sklearn\n",
    "from sklearn.model_selection import GridSearchCV, train_test_split, KFold\n",
    "from sklearn.pipeline import Pipeline\n",
    "\n",
    "sys.path.append(os.path.abspath('..'))\n",
    "sys.path.append(os.path.abspath('../src'))\n",
    "from src.ast_utils import _extract_game_id\n",
    "from src import fitness_energy_utils as utils\n",
    "from src.fitness_energy_utils import NON_FEATURE_COLUMNS\n",
    "from src.fitness_features import *\n",
    "from src.ast_counter_sampler import *\n",
    "from src.ast_mcmc_regrowth import *"
   ]
  },
  {
   "cell_type": "code",
   "execution_count": 4,
   "metadata": {},
   "outputs": [],
   "source": [
    "grammar = open('../dsl/dsl.ebnf').read()\n",
    "grammar_parser = tatsu.compile(grammar)\n",
    "game_asts = list(cached_load_and_parse_games_from_file('../dsl/interactive-beta.pddl', grammar_parser, False, relative_path='..'))\n",
    "real_game_texts = [ast_printer.ast_to_string(ast, '\\n') for ast in game_asts]\n",
    "regrown_game_texts = list(load_games_from_file('../dsl/ast-real-regrowth-samples.pddl'))\n"
   ]
  },
  {
   "cell_type": "code",
   "execution_count": 5,
   "metadata": {},
   "outputs": [
    {
     "name": "stdout",
     "output_type": "stream",
     "text": [
      "['interactive-beta.pddl' 'ast-real-regrowth-samples.pddl']\n"
     ]
    },
    {
     "data": {
      "text/html": [
       "<div>\n",
       "<style scoped>\n",
       "    .dataframe tbody tr th:only-of-type {\n",
       "        vertical-align: middle;\n",
       "    }\n",
       "\n",
       "    .dataframe tbody tr th {\n",
       "        vertical-align: top;\n",
       "    }\n",
       "\n",
       "    .dataframe thead th {\n",
       "        text-align: right;\n",
       "    }\n",
       "</style>\n",
       "<table border=\"1\" class=\"dataframe\">\n",
       "  <thead>\n",
       "    <tr style=\"text-align: right;\">\n",
       "      <th></th>\n",
       "      <th>Index</th>\n",
       "      <th>src_file</th>\n",
       "      <th>game_name</th>\n",
       "      <th>domain_name</th>\n",
       "      <th>real</th>\n",
       "      <th>original_game_name</th>\n",
       "      <th>all_variables_defined</th>\n",
       "      <th>all_variables_used</th>\n",
       "      <th>all_preferences_used</th>\n",
       "      <th>setup_objects_used</th>\n",
       "      <th>...</th>\n",
       "      <th>ast_ngram_n_5_0</th>\n",
       "      <th>ast_ngram_n_5_1</th>\n",
       "      <th>ast_ngram_n_5_2</th>\n",
       "      <th>ast_ngram_n_5_3</th>\n",
       "      <th>ast_ngram_n_5_4</th>\n",
       "      <th>ast_ngram_n_5_5</th>\n",
       "      <th>ast_ngram_n_5_6</th>\n",
       "      <th>ast_ngram_n_5_7</th>\n",
       "      <th>ast_ngram_n_5_8</th>\n",
       "      <th>ast_ngram_n_5_9</th>\n",
       "    </tr>\n",
       "  </thead>\n",
       "  <tbody>\n",
       "    <tr>\n",
       "      <th>0</th>\n",
       "      <td>0</td>\n",
       "      <td>interactive-beta.pddl</td>\n",
       "      <td>6172feb1665491d1efbce164-0</td>\n",
       "      <td>medium-objects-room-v1</td>\n",
       "      <td>1</td>\n",
       "      <td>6172feb1665491d1efbce164-0</td>\n",
       "      <td>1</td>\n",
       "      <td>1</td>\n",
       "      <td>1</td>\n",
       "      <td>1.00</td>\n",
       "      <td>...</td>\n",
       "      <td>1</td>\n",
       "      <td>1</td>\n",
       "      <td>1</td>\n",
       "      <td>1</td>\n",
       "      <td>1</td>\n",
       "      <td>1</td>\n",
       "      <td>1</td>\n",
       "      <td>1</td>\n",
       "      <td>1</td>\n",
       "      <td>1</td>\n",
       "    </tr>\n",
       "    <tr>\n",
       "      <th>1</th>\n",
       "      <td>1</td>\n",
       "      <td>interactive-beta.pddl</td>\n",
       "      <td>5f77754ba932fb2c4ba181d8-2</td>\n",
       "      <td>many-objects-room-v1</td>\n",
       "      <td>1</td>\n",
       "      <td>5f77754ba932fb2c4ba181d8-2</td>\n",
       "      <td>1</td>\n",
       "      <td>1</td>\n",
       "      <td>1</td>\n",
       "      <td>1.00</td>\n",
       "      <td>...</td>\n",
       "      <td>1</td>\n",
       "      <td>1</td>\n",
       "      <td>0</td>\n",
       "      <td>1</td>\n",
       "      <td>0</td>\n",
       "      <td>1</td>\n",
       "      <td>0</td>\n",
       "      <td>1</td>\n",
       "      <td>1</td>\n",
       "      <td>1</td>\n",
       "    </tr>\n",
       "    <tr>\n",
       "      <th>2</th>\n",
       "      <td>2</td>\n",
       "      <td>interactive-beta.pddl</td>\n",
       "      <td>614b603d4da88384282967a7-3</td>\n",
       "      <td>many-objects-room-v1</td>\n",
       "      <td>1</td>\n",
       "      <td>614b603d4da88384282967a7-3</td>\n",
       "      <td>1</td>\n",
       "      <td>1</td>\n",
       "      <td>1</td>\n",
       "      <td>0.00</td>\n",
       "      <td>...</td>\n",
       "      <td>1</td>\n",
       "      <td>0</td>\n",
       "      <td>0</td>\n",
       "      <td>0</td>\n",
       "      <td>0</td>\n",
       "      <td>0</td>\n",
       "      <td>0</td>\n",
       "      <td>0</td>\n",
       "      <td>0</td>\n",
       "      <td>0</td>\n",
       "    </tr>\n",
       "    <tr>\n",
       "      <th>3</th>\n",
       "      <td>3</td>\n",
       "      <td>interactive-beta.pddl</td>\n",
       "      <td>5bc79f652885710001a0e82a-5</td>\n",
       "      <td>few-objects-room-v1</td>\n",
       "      <td>1</td>\n",
       "      <td>5bc79f652885710001a0e82a-5</td>\n",
       "      <td>1</td>\n",
       "      <td>1</td>\n",
       "      <td>1</td>\n",
       "      <td>0.00</td>\n",
       "      <td>...</td>\n",
       "      <td>1</td>\n",
       "      <td>1</td>\n",
       "      <td>1</td>\n",
       "      <td>1</td>\n",
       "      <td>1</td>\n",
       "      <td>1</td>\n",
       "      <td>1</td>\n",
       "      <td>1</td>\n",
       "      <td>1</td>\n",
       "      <td>1</td>\n",
       "    </tr>\n",
       "    <tr>\n",
       "      <th>4</th>\n",
       "      <td>4</td>\n",
       "      <td>interactive-beta.pddl</td>\n",
       "      <td>614dec67f6eb129c3a77defd-6</td>\n",
       "      <td>medium-objects-room-v1</td>\n",
       "      <td>1</td>\n",
       "      <td>614dec67f6eb129c3a77defd-6</td>\n",
       "      <td>1</td>\n",
       "      <td>1</td>\n",
       "      <td>1</td>\n",
       "      <td>0.25</td>\n",
       "      <td>...</td>\n",
       "      <td>1</td>\n",
       "      <td>1</td>\n",
       "      <td>0</td>\n",
       "      <td>1</td>\n",
       "      <td>1</td>\n",
       "      <td>1</td>\n",
       "      <td>1</td>\n",
       "      <td>1</td>\n",
       "      <td>1</td>\n",
       "      <td>1</td>\n",
       "    </tr>\n",
       "  </tbody>\n",
       "</table>\n",
       "<p>5 rows × 617 columns</p>\n",
       "</div>"
      ],
      "text/plain": [
       "   Index               src_file                   game_name  \\\n",
       "0      0  interactive-beta.pddl  6172feb1665491d1efbce164-0   \n",
       "1      1  interactive-beta.pddl  5f77754ba932fb2c4ba181d8-2   \n",
       "2      2  interactive-beta.pddl  614b603d4da88384282967a7-3   \n",
       "3      3  interactive-beta.pddl  5bc79f652885710001a0e82a-5   \n",
       "4      4  interactive-beta.pddl  614dec67f6eb129c3a77defd-6   \n",
       "\n",
       "              domain_name  real          original_game_name  \\\n",
       "0  medium-objects-room-v1     1  6172feb1665491d1efbce164-0   \n",
       "1    many-objects-room-v1     1  5f77754ba932fb2c4ba181d8-2   \n",
       "2    many-objects-room-v1     1  614b603d4da88384282967a7-3   \n",
       "3     few-objects-room-v1     1  5bc79f652885710001a0e82a-5   \n",
       "4  medium-objects-room-v1     1  614dec67f6eb129c3a77defd-6   \n",
       "\n",
       "   all_variables_defined  all_variables_used  all_preferences_used  \\\n",
       "0                      1                   1                     1   \n",
       "1                      1                   1                     1   \n",
       "2                      1                   1                     1   \n",
       "3                      1                   1                     1   \n",
       "4                      1                   1                     1   \n",
       "\n",
       "   setup_objects_used  ...  ast_ngram_n_5_0  ast_ngram_n_5_1  ast_ngram_n_5_2  \\\n",
       "0                1.00  ...                1                1                1   \n",
       "1                1.00  ...                1                1                0   \n",
       "2                0.00  ...                1                0                0   \n",
       "3                0.00  ...                1                1                1   \n",
       "4                0.25  ...                1                1                0   \n",
       "\n",
       "   ast_ngram_n_5_3  ast_ngram_n_5_4  ast_ngram_n_5_5  ast_ngram_n_5_6  \\\n",
       "0                1                1                1                1   \n",
       "1                1                0                1                0   \n",
       "2                0                0                0                0   \n",
       "3                1                1                1                1   \n",
       "4                1                1                1                1   \n",
       "\n",
       "   ast_ngram_n_5_7  ast_ngram_n_5_8  ast_ngram_n_5_9  \n",
       "0                1                1                1  \n",
       "1                1                1                1  \n",
       "2                0                0                0  \n",
       "3                1                1                1  \n",
       "4                1                1                1  \n",
       "\n",
       "[5 rows x 617 columns]"
      ]
     },
     "execution_count": 5,
     "metadata": {},
     "output_type": "execute_result"
    }
   ],
   "source": [
    "fitness_df = utils.load_fitness_data()\n",
    "print(fitness_df.src_file.unique())\n",
    "fitness_df.head()"
   ]
  },
  {
   "cell_type": "markdown",
   "metadata": {},
   "source": [
    "# Plan of attack\n",
    "* Use the code in `ast_counter_sampler.py` to generate a sample from the MLE\n",
    "* Score it with a fitness function adapted to working with a single example at a time\n",
    "* At each subsequent iteration, regrow the game from a random node, and score the regrowth\n",
    "* Since we have energy scores before and after, we can either accept greedily if $E_{new} < E_{old}$, or accept with probability $\\exp(\\beta (E_{old} - E_{new} ))$"
   ]
  },
  {
   "cell_type": "code",
   "execution_count": 6,
   "metadata": {},
   "outputs": [],
   "source": [
    "DEFAULT_ARGS = argparse.Namespace(\n",
    "    grammar_file=os.path.join('..', DEFAULT_GRAMMAR_FILE),\n",
    "    parse_counter=False,\n",
    "    counter_output_path=os.path.join('..', DEFAULT_COUNTER_OUTPUT_PATH),\n",
    "    random_seed=DEFUALT_RANDOM_SEED,\n",
    ")"
   ]
  },
  {
   "cell_type": "code",
   "execution_count": 7,
   "metadata": {},
   "outputs": [],
   "source": [
    "FITNESS_MODEL_PATH = '../models/cv_fitness_model_2023_02_08.pkl.gz'\n",
    "FITNESS_FEATURIZER_PATH = '../models/fitness_featurizer_2023_02_08.pkl.gz'\n",
    "\n",
    "feature_names = [c for c in fitness_df.columns if c not in NON_FEATURE_COLUMNS]\n",
    "\n",
    "mcmc = MCMCRegrowthSampler(DEFAULT_ARGS, feature_names,\n",
    "    FITNESS_MODEL_PATH, FITNESS_FEATURIZER_PATH, greedy_acceptance=True, \n",
    "    plateau_patience_steps=500, max_steps=5000)  #   acceptance_temperature=10.0, "
   ]
  },
  {
   "cell_type": "code",
   "execution_count": 9,
   "metadata": {},
   "outputs": [
    {
     "name": "stdout",
     "output_type": "stream",
     "text": [
      "Generating samples starting from original index 1 (id 5f77754ba932fb2c4ba181d8-2)\n"
     ]
    },
    {
     "data": {
      "application/vnd.jupyter.widget-view+json": {
       "model_id": "9dd2276349fb49dc9bf7cb2add3cd428",
       "version_major": 2,
       "version_minor": 0
      },
      "text/plain": [
       "  0%|          | 0/5 [00:00<?, ?it/s]"
      ]
     },
     "metadata": {},
     "output_type": "display_data"
    },
    {
     "name": "stdout",
     "output_type": "stream",
     "text": [
      "Plateaued at step 610 with energy 1.30080 (initial proposal energy: 1.86473)\n",
      "Plateaued at step 1177 with energy 1.20492 (initial proposal energy: 1.86473)\n",
      "Plateaued at step 501 with energy 1.50710 (initial proposal energy: 1.86473)\n",
      "Plateaued at step 720 with energy 1.30080 (initial proposal energy: 1.86473)\n",
      "Plateaued at step 743 with energy 1.30080 (initial proposal energy: 1.86473)\n",
      "\n",
      "0 1.3008042573928833\n",
      "1 1.2919270992279053\n",
      "2 1.2931333780288696\n",
      "3 1.3008042573928833\n",
      "4 1.2846934795379639\n",
      "Generating samples starting from original index 2 (id 614b603d4da88384282967a7-3)\n"
     ]
    },
    {
     "data": {
      "application/vnd.jupyter.widget-view+json": {
       "model_id": "74149923d937458f99ea40f753e8e700",
       "version_major": 2,
       "version_minor": 0
      },
      "text/plain": [
       "  0%|          | 0/5 [00:00<?, ?it/s]"
      ]
     },
     "metadata": {},
     "output_type": "display_data"
    },
    {
     "name": "stdout",
     "output_type": "stream",
     "text": [
      "Plateaued at step 1363 with energy -3.28999 (initial proposal energy: 0.84700)\n",
      "Plateaued at step 501 with energy 0.84700 (initial proposal energy: 0.84700)\n",
      "Plateaued at step 597 with energy 0.49930 (initial proposal energy: 0.84700)\n",
      "Plateaued at step 810 with energy 0.49930 (initial proposal energy: 0.84700)\n",
      "Plateaued at step 879 with energy 0.49930 (initial proposal energy: 0.84700)\n",
      "\n",
      "5 0.847002387046814\n",
      "6 1.3008042573928833\n",
      "7 1.2049205303192139\n",
      "8 1.507095217704773\n",
      "9 1.3008042573928833\n",
      "Generating samples starting from original index 3 (id 5bc79f652885710001a0e82a-5)\n"
     ]
    },
    {
     "data": {
      "application/vnd.jupyter.widget-view+json": {
       "model_id": "d78c6cc0fe4844fd8cdb362765df277e",
       "version_major": 2,
       "version_minor": 0
      },
      "text/plain": [
       "  0%|          | 0/5 [00:00<?, ?it/s]"
      ]
     },
     "metadata": {},
     "output_type": "display_data"
    },
    {
     "name": "stdout",
     "output_type": "stream",
     "text": [
      "Plateaued at step 830 with energy 1.87107 (initial proposal energy: 2.05287)\n",
      "Plateaued at step 501 with energy 2.05287 (initial proposal energy: 2.05287)\n",
      "Plateaued at step 1075 with energy 1.26118 (initial proposal energy: 2.05287)\n",
      "Plateaued at step 501 with energy 2.05287 (initial proposal energy: 2.05287)\n",
      "Plateaued at step 734 with energy 1.62723 (initial proposal energy: 2.05287)\n",
      "\n",
      "10 1.3008042573928833\n",
      "11 -3.2899866104125977\n",
      "12 0.847002387046814\n",
      "13 0.49929893016815186\n",
      "14 0.49929893016815186\n",
      "Generating samples starting from original index 4 (id 614dec67f6eb129c3a77defd-6)\n"
     ]
    },
    {
     "data": {
      "application/vnd.jupyter.widget-view+json": {
       "model_id": "8fd10b8390664ee5b83ac886dda89967",
       "version_major": 2,
       "version_minor": 0
      },
      "text/plain": [
       "  0%|          | 0/5 [00:00<?, ?it/s]"
      ]
     },
     "metadata": {},
     "output_type": "display_data"
    },
    {
     "name": "stdout",
     "output_type": "stream",
     "text": [
      "Plateaued at step 1821 with energy 0.67794 (initial proposal energy: 2.21001)\n",
      "Plateaued at step 780 with energy 1.18416 (initial proposal energy: 2.21001)\n",
      "Plateaued at step 1345 with energy 0.94417 (initial proposal energy: 2.21001)\n",
      "Plateaued at step 763 with energy 1.68948 (initial proposal energy: 2.21001)\n",
      "Plateaued at step 580 with energy 2.14627 (initial proposal energy: 2.21001)\n",
      "\n",
      "15 0.49929893016815186\n",
      "16 1.8710731267929077\n",
      "17 2.0528664588928223\n",
      "18 1.2611806392669678\n",
      "19 2.0528664588928223\n",
      "Generating samples starting from original index 5 (id 615b40bb6cdb0f1f6f291f45-8)\n"
     ]
    },
    {
     "data": {
      "application/vnd.jupyter.widget-view+json": {
       "model_id": "e58933b9033545ada2d72d8fa949603e",
       "version_major": 2,
       "version_minor": 0
      },
      "text/plain": [
       "  0%|          | 0/5 [00:00<?, ?it/s]"
      ]
     },
     "metadata": {},
     "output_type": "display_data"
    },
    {
     "name": "stdout",
     "output_type": "stream",
     "text": [
      "Plateaued at step 939 with energy 2.60935 (initial proposal energy: 3.08689)\n",
      "Plateaued at step 1549 with energy 2.36589 (initial proposal energy: 3.08689)\n",
      "Plateaued at step 635 with energy 2.88885 (initial proposal energy: 3.08689)\n",
      "Plateaued at step 824 with energy 3.04646 (initial proposal energy: 3.08689)\n",
      "Plateaued at step 883 with energy 2.29598 (initial proposal energy: 3.08689)\n",
      "\n",
      "20 1.6272269487380981\n",
      "21 0.6779375076293945\n",
      "22 1.184155821800232\n",
      "23 0.944167971611023\n",
      "24 1.6894773244857788\n"
     ]
    }
   ],
   "source": [
    "# %prun -r \n",
    "n_samples = 5\n",
    "start = 1\n",
    "end = start + 5\n",
    "\n",
    "for original_index in range(start, end):\n",
    "    print(f'Generating samples starting from original index {original_index} (id {_extract_game_id(real_game_texts[original_index])})')\n",
    "    mcmc.multiple_samples(n_samples, verbose=1, should_tqdm=True, initial_proposal=game_asts[original_index])\n",
    "\n",
    "    print()\n",
    "    for i in range(n_samples * (original_index - start), n_samples * (original_index - start + 1)):\n",
    "        print(i, mcmc.samples[i][2])"
   ]
  },
  {
   "cell_type": "code",
   "execution_count": 25,
   "metadata": {},
   "outputs": [
    {
     "data": {
      "text/markdown": [
       "### Energy of real game: 0.847 | Energy of regrown game: 0.499 | Difference: -0.348"
      ],
      "text/plain": [
       "<IPython.core.display.Markdown object>"
      ]
     },
     "metadata": {},
     "output_type": "display_data"
    },
    {
     "data": {
      "text/markdown": [
       "### Top features changing the game's energy\n",
       "feature name: **value** = (original feature value => regrown feature value) * weight"
      ],
      "text/plain": [
       "<IPython.core.display.Markdown object>"
      ]
     },
     "metadata": {},
     "output_type": "display_data"
    },
    {
     "data": {
      "text/markdown": [
       "| Features increasing energy (= more fake)                                        | Features decreasing energy (= more real)                                              |\n",
       "|---------------------------------------------------------------------------------|---------------------------------------------------------------------------------------|\n",
       "| in_arg_types_building_blocks_constraints: **0.228** = (1.000 => 0.000) * -0.228 | text_ngram_n_5_score: **-0.211** = (0.076 => 0.020) * 3.749                           |\n",
       "|                                                                                 | text_ngram_n_4_score: **-0.159** = (0.105 => 0.051) * 2.951                           |\n",
       "|                                                                                 | text_ngram_n_3_score: **-0.091** = (0.129 => 0.087) * 2.189                           |\n",
       "|                                                                                 | in_arg_types_blocks_room_features_constraints: **-0.076** = (0.000 => 1.000) * -0.076 |\n",
       "|                                                                                 | text_ngram_n_2_score: **-0.040** = (0.211 => 0.178) * 1.183                           |"
      ],
      "text/plain": [
       "<IPython.core.display.Markdown object>"
      ]
     },
     "metadata": {},
     "output_type": "display_data"
    },
    {
     "data": {
      "text/markdown": [
       "### Game Diffs"
      ],
      "text/plain": [
       "<IPython.core.display.Markdown object>"
      ]
     },
     "metadata": {},
     "output_type": "display_data"
    },
    {
     "data": {
      "text/html": [
       "\n",
       "<!DOCTYPE html PUBLIC \"-//W3C//DTD XHTML 1.0 Transitional//EN\"\n",
       "          \"http://www.w3.org/TR/xhtml1/DTD/xhtml1-transitional.dtd\">\n",
       "\n",
       "<html>\n",
       "\n",
       "<head>\n",
       "    <meta http-equiv=\"Content-Type\"\n",
       "          content=\"text/html; charset=utf-8\" />\n",
       "    <title></title>\n",
       "    <style type=\"text/css\">\n",
       "        table.diff {font-family:Courier; border:medium;}\n",
       "        .diff_header {background-color:#e0e0e0}\n",
       "        .diff td {text-align: left !important}\n",
       ".diff th {text-align: center!important }\n",
       ".diff td.diff_header {text-align:right !important}\n",
       "        .diff_next {background-color:#c0c0c0}\n",
       "        .diff_add {background-color: #6fa66f !important; font-weight: bold !important}\n",
       "        .diff_chg {background-color: #999949 !important; font-weight: bold !important}\n",
       "        .diff_sub {background-color: #a66f6f !important; font-weight: bold !important}\n",
       "    </style>\n",
       "</head>\n",
       "\n",
       "<body>\n",
       "    \n",
       "    <table class=\"diff\" id=\"difflib_chg_to15__top\"\n",
       "           cellspacing=\"0\" cellpadding=\"0\" rules=\"groups\" >\n",
       "        <colgroup></colgroup> <colgroup></colgroup> <colgroup></colgroup>\n",
       "        <colgroup></colgroup> <colgroup></colgroup> <colgroup></colgroup>\n",
       "        \n",
       "        <tbody>\n",
       "            <tr><td class=\"diff_next\" id=\"difflib_chg_to15__0\"><a href=\"#difflib_chg_to15__0\">f</a></td><td class=\"diff_header\" id=\"from15_1\">1</td><td nowrap=\"nowrap\">(define&nbsp;(game&nbsp;614b603d4da88384282967a7-3)&nbsp;(:domain&nbsp;many-objects-room-v1)</td><td class=\"diff_next\"><a href=\"#difflib_chg_to15__0\">f</a></td><td class=\"diff_header\" id=\"to15_1\">1</td><td nowrap=\"nowrap\">(define&nbsp;(game&nbsp;614b603d4da88384282967a7-3)&nbsp;(:domain&nbsp;many-objects-room-v1)</td></tr>\n",
       "            <tr><td class=\"diff_next\"></td><td class=\"diff_header\" id=\"from15_2\">2</td><td nowrap=\"nowrap\">(:constraints</td><td class=\"diff_next\"></td><td class=\"diff_header\" id=\"to15_2\">2</td><td nowrap=\"nowrap\">(:constraints</td></tr>\n",
       "            <tr><td class=\"diff_next\"></td><td class=\"diff_header\" id=\"from15_3\">3</td><td nowrap=\"nowrap\">&nbsp;&nbsp;(and</td><td class=\"diff_next\"></td><td class=\"diff_header\" id=\"to15_3\">3</td><td nowrap=\"nowrap\">&nbsp;&nbsp;(and</td></tr>\n",
       "            <tr><td class=\"diff_next\" id=\"difflib_chg_to15__1\"><a href=\"#difflib_chg_to15__1\">n</a></td><td class=\"diff_header\" id=\"from15_4\">4</td><td nowrap=\"nowrap\">&nbsp;&nbsp;&nbsp;&nbsp;(forall&nbsp;(?b&nbsp;-&nbsp;<span class=\"diff_chg\">bui</span>l<span class=\"diff_chg\">ding</span>)</td><td class=\"diff_next\"><a href=\"#difflib_chg_to15__1\">n</a></td><td class=\"diff_header\" id=\"to15_4\">4</td><td nowrap=\"nowrap\">&nbsp;&nbsp;&nbsp;&nbsp;(forall&nbsp;(?b&nbsp;-&nbsp;<span class=\"diff_chg\">wa</span>l<span class=\"diff_chg\">l</span>)</td></tr>\n",
       "            <tr><td class=\"diff_next\"></td><td class=\"diff_header\" id=\"from15_5\">5</td><td nowrap=\"nowrap\">&nbsp;&nbsp;&nbsp;&nbsp;&nbsp;&nbsp;(and</td><td class=\"diff_next\"></td><td class=\"diff_header\" id=\"to15_5\">5</td><td nowrap=\"nowrap\">&nbsp;&nbsp;&nbsp;&nbsp;&nbsp;&nbsp;(and</td></tr>\n",
       "            <tr><td class=\"diff_next\"></td><td class=\"diff_header\" id=\"from15_6\">6</td><td nowrap=\"nowrap\">&nbsp;&nbsp;&nbsp;&nbsp;&nbsp;&nbsp;&nbsp;&nbsp;(preference&nbsp;blockInTowerAtEnd</td><td class=\"diff_next\"></td><td class=\"diff_header\" id=\"to15_6\">6</td><td nowrap=\"nowrap\">&nbsp;&nbsp;&nbsp;&nbsp;&nbsp;&nbsp;&nbsp;&nbsp;(preference&nbsp;blockInTowerAtEnd</td></tr>\n",
       "            <tr><td class=\"diff_next\"></td><td class=\"diff_header\" id=\"from15_7\">7</td><td nowrap=\"nowrap\">&nbsp;&nbsp;&nbsp;&nbsp;&nbsp;&nbsp;&nbsp;&nbsp;&nbsp;&nbsp;(exists&nbsp;(?l&nbsp;-&nbsp;block)</td><td class=\"diff_next\"></td><td class=\"diff_header\" id=\"to15_7\">7</td><td nowrap=\"nowrap\">&nbsp;&nbsp;&nbsp;&nbsp;&nbsp;&nbsp;&nbsp;&nbsp;&nbsp;&nbsp;(exists&nbsp;(?l&nbsp;-&nbsp;block)</td></tr>\n",
       "            <tr><td class=\"diff_next\"></td><td class=\"diff_header\" id=\"from15_8\">8</td><td nowrap=\"nowrap\">&nbsp;&nbsp;&nbsp;&nbsp;&nbsp;&nbsp;&nbsp;&nbsp;&nbsp;&nbsp;&nbsp;&nbsp;(at-end</td><td class=\"diff_next\"></td><td class=\"diff_header\" id=\"to15_8\">8</td><td nowrap=\"nowrap\">&nbsp;&nbsp;&nbsp;&nbsp;&nbsp;&nbsp;&nbsp;&nbsp;&nbsp;&nbsp;&nbsp;&nbsp;(at-end</td></tr>\n",
       "            <tr><td class=\"diff_next\"><a href=\"#difflib_chg_to15__top\">t</a></td><td class=\"diff_header\" id=\"from15_9\">9</td><td nowrap=\"nowrap\">&nbsp;&nbsp;&nbsp;&nbsp;&nbsp;&nbsp;&nbsp;&nbsp;&nbsp;&nbsp;&nbsp;&nbsp;&nbsp;&nbsp;(in&nbsp;?b<span class=\"diff_sub\">&nbsp;?l</span>)</td><td class=\"diff_next\"><a href=\"#difflib_chg_to15__top\">t</a></td><td class=\"diff_header\" id=\"to15_9\">9</td><td nowrap=\"nowrap\">&nbsp;&nbsp;&nbsp;&nbsp;&nbsp;&nbsp;&nbsp;&nbsp;&nbsp;&nbsp;&nbsp;&nbsp;&nbsp;&nbsp;(in&nbsp;<span class=\"diff_add\">?l&nbsp;</span>?b)</td></tr>\n",
       "            <tr><td class=\"diff_next\"></td><td class=\"diff_header\" id=\"from15_10\">10</td><td nowrap=\"nowrap\">&nbsp;&nbsp;&nbsp;&nbsp;&nbsp;&nbsp;&nbsp;&nbsp;&nbsp;&nbsp;&nbsp;&nbsp;)</td><td class=\"diff_next\"></td><td class=\"diff_header\" id=\"to15_10\">10</td><td nowrap=\"nowrap\">&nbsp;&nbsp;&nbsp;&nbsp;&nbsp;&nbsp;&nbsp;&nbsp;&nbsp;&nbsp;&nbsp;&nbsp;)</td></tr>\n",
       "            <tr><td class=\"diff_next\"></td><td class=\"diff_header\" id=\"from15_11\">11</td><td nowrap=\"nowrap\">&nbsp;&nbsp;&nbsp;&nbsp;&nbsp;&nbsp;&nbsp;&nbsp;&nbsp;&nbsp;)</td><td class=\"diff_next\"></td><td class=\"diff_header\" id=\"to15_11\">11</td><td nowrap=\"nowrap\">&nbsp;&nbsp;&nbsp;&nbsp;&nbsp;&nbsp;&nbsp;&nbsp;&nbsp;&nbsp;)</td></tr>\n",
       "            <tr><td class=\"diff_next\"></td><td class=\"diff_header\" id=\"from15_12\">12</td><td nowrap=\"nowrap\">&nbsp;&nbsp;&nbsp;&nbsp;&nbsp;&nbsp;&nbsp;&nbsp;)</td><td class=\"diff_next\"></td><td class=\"diff_header\" id=\"to15_12\">12</td><td nowrap=\"nowrap\">&nbsp;&nbsp;&nbsp;&nbsp;&nbsp;&nbsp;&nbsp;&nbsp;)</td></tr>\n",
       "            <tr><td class=\"diff_next\"></td><td class=\"diff_header\" id=\"from15_13\">13</td><td nowrap=\"nowrap\">&nbsp;&nbsp;&nbsp;&nbsp;&nbsp;&nbsp;)</td><td class=\"diff_next\"></td><td class=\"diff_header\" id=\"to15_13\">13</td><td nowrap=\"nowrap\">&nbsp;&nbsp;&nbsp;&nbsp;&nbsp;&nbsp;)</td></tr>\n",
       "            <tr><td class=\"diff_next\"></td><td class=\"diff_header\" id=\"from15_14\">14</td><td nowrap=\"nowrap\">&nbsp;&nbsp;&nbsp;&nbsp;)</td><td class=\"diff_next\"></td><td class=\"diff_header\" id=\"to15_14\">14</td><td nowrap=\"nowrap\">&nbsp;&nbsp;&nbsp;&nbsp;)</td></tr>\n",
       "            <tr><td class=\"diff_next\"></td><td class=\"diff_header\" id=\"from15_15\">15</td><td nowrap=\"nowrap\">&nbsp;&nbsp;)</td><td class=\"diff_next\"></td><td class=\"diff_header\" id=\"to15_15\">15</td><td nowrap=\"nowrap\">&nbsp;&nbsp;)</td></tr>\n",
       "            <tr><td class=\"diff_next\"></td><td class=\"diff_header\" id=\"from15_16\">16</td><td nowrap=\"nowrap\">)</td><td class=\"diff_next\"></td><td class=\"diff_header\" id=\"to15_16\">16</td><td nowrap=\"nowrap\">)</td></tr>\n",
       "            <tr><td class=\"diff_next\"></td><td class=\"diff_header\" id=\"from15_17\">17</td><td nowrap=\"nowrap\">(:scoring</td><td class=\"diff_next\"></td><td class=\"diff_header\" id=\"to15_17\">17</td><td nowrap=\"nowrap\">(:scoring</td></tr>\n",
       "            <tr><td class=\"diff_next\"></td><td class=\"diff_header\" id=\"from15_18\">18</td><td nowrap=\"nowrap\">&nbsp;&nbsp;(external-forall-maximize</td><td class=\"diff_next\"></td><td class=\"diff_header\" id=\"to15_18\">18</td><td nowrap=\"nowrap\">&nbsp;&nbsp;(external-forall-maximize</td></tr>\n",
       "            <tr><td class=\"diff_next\"></td><td class=\"diff_header\" id=\"from15_19\">19</td><td nowrap=\"nowrap\">&nbsp;&nbsp;&nbsp;&nbsp;(count-once-per-objects&nbsp;blockInTowerAtEnd)</td><td class=\"diff_next\"></td><td class=\"diff_header\" id=\"to15_19\">19</td><td nowrap=\"nowrap\">&nbsp;&nbsp;&nbsp;&nbsp;(count-once-per-objects&nbsp;blockInTowerAtEnd)</td></tr>\n",
       "            <tr><td class=\"diff_next\"></td><td class=\"diff_header\" id=\"from15_20\">20</td><td nowrap=\"nowrap\">&nbsp;&nbsp;)</td><td class=\"diff_next\"></td><td class=\"diff_header\" id=\"to15_20\">20</td><td nowrap=\"nowrap\">&nbsp;&nbsp;)</td></tr>\n",
       "            <tr><td class=\"diff_next\"></td><td class=\"diff_header\" id=\"from15_21\">21</td><td nowrap=\"nowrap\">)</td><td class=\"diff_next\"></td><td class=\"diff_header\" id=\"to15_21\">21</td><td nowrap=\"nowrap\">)</td></tr>\n",
       "            <tr><td class=\"diff_next\"></td><td class=\"diff_header\" id=\"from15_22\">22</td><td nowrap=\"nowrap\">)</td><td class=\"diff_next\"></td><td class=\"diff_header\" id=\"to15_22\">22</td><td nowrap=\"nowrap\">)</td></tr>\n",
       "        </tbody>\n",
       "    </table>\n",
       "    <table class=\"diff\" summary=\"Legends\">\n",
       "        <tr> <th colspan=\"2\"> Legends </th> </tr>\n",
       "        <tr> <td> <table border=\"\" summary=\"Colors\">\n",
       "                      <tr><th> Colors </th> </tr>\n",
       "                      <tr><td class=\"diff_add\">&nbsp;Added&nbsp;</td></tr>\n",
       "                      <tr><td class=\"diff_chg\">Changed</td> </tr>\n",
       "                      <tr><td class=\"diff_sub\">Deleted</td> </tr>\n",
       "                  </table></td>\n",
       "             <td> <table border=\"\" summary=\"Links\">\n",
       "                      <tr><th colspan=\"2\"> Links </th> </tr>\n",
       "                      <tr><td>(f)irst change</td> </tr>\n",
       "                      <tr><td>(n)ext change</td> </tr>\n",
       "                      <tr><td>(t)op</td> </tr>\n",
       "                  </table></td> </tr>\n",
       "    </table>\n",
       "</body>\n",
       "\n",
       "</html>"
      ],
      "text/plain": [
       "<IPython.core.display.HTML object>"
      ]
     },
     "metadata": {},
     "output_type": "display_data"
    },
    {
     "data": {
      "text/markdown": [
       "### Feature Diffs"
      ],
      "text/plain": [
       "<IPython.core.display.Markdown object>"
      ]
     },
     "metadata": {},
     "output_type": "display_data"
    },
    {
     "name": "stdout",
     "output_type": "stream",
     "text": [
      "in_arg_types_building_blocks_constraints: -1.000 (1.000 => 0.000)\n",
      "text_ngram_n_5_score: -0.056 (0.076 => 0.020)\n",
      "text_ngram_n_4_score: -0.054 (0.105 => 0.051)\n",
      "text_ngram_n_3_score: -0.041 (0.129 => 0.087)\n",
      "text_ngram_n_2_score: -0.033 (0.211 => 0.178)\n",
      "in_arg_types_blocks_room_features_constraints: 1.000 (0.000 => 1.000)\n"
     ]
    }
   ],
   "source": [
    "mcmc.visualize_sample(14)"
   ]
  },
  {
   "cell_type": "code",
   "execution_count": 34,
   "metadata": {},
   "outputs": [
    {
     "name": "stdout",
     "output_type": "stream",
     "text": [
      "[('constraints', 'and', 'forall', 'wall', 'and'), ('and', 'forall', 'wall', 'and', 'preference'), ('forall', 'wall', 'and', 'preference', 'preferenceName'), ('wall', 'and', 'preference', 'preferenceName', 'exists'), ('and', 'preference', 'preferenceName', 'exists', 'block'), ('preference', 'preferenceName', 'exists', 'block', 'atend'), ('preferenceName', 'exists', 'block', 'atend', 'in'), ('exists', 'block', 'atend', 'in', 'scoring'), ('block', 'atend', 'in', 'scoring', 'externalforallmaximize'), ('atend', 'in', 'scoring', 'externalforallmaximize', 'countonceperobjects'), ('in', 'scoring', 'externalforallmaximize', 'countonceperobjects', 'preferenceName')]\n"
     ]
    },
    {
     "data": {
      "text/plain": [
       "{'score': -8.398438913739634}"
      ]
     },
     "execution_count": 34,
     "metadata": {},
     "output_type": "execute_result"
    }
   ],
   "source": [
    "mcmc.fitness_featurizer.full_text_registry[0].n_gram_model.models[-1].score(ast_printer.ast_to_string(mcmc.samples[14][0], ' '))"
   ]
  },
  {
   "cell_type": "code",
   "execution_count": 33,
   "metadata": {},
   "outputs": [
    {
     "name": "stdout",
     "output_type": "stream",
     "text": [
      "[('constraints', 'and', 'forall', 'building', 'and'), ('and', 'forall', 'building', 'and', 'preference'), ('forall', 'building', 'and', 'preference', 'preferenceName'), ('building', 'and', 'preference', 'preferenceName', 'exists'), ('and', 'preference', 'preferenceName', 'exists', 'block'), ('preference', 'preferenceName', 'exists', 'block', 'atend'), ('preferenceName', 'exists', 'block', 'atend', 'in'), ('exists', 'block', 'atend', 'in', 'scoring'), ('block', 'atend', 'in', 'scoring', 'externalforallmaximize'), ('atend', 'in', 'scoring', 'externalforallmaximize', 'countonceperobjects'), ('in', 'scoring', 'externalforallmaximize', 'countonceperobjects', 'preferenceName')]\n"
     ]
    },
    {
     "data": {
      "text/plain": [
       "{'score': -7.916773698598903}"
      ]
     },
     "execution_count": 33,
     "metadata": {},
     "output_type": "execute_result"
    }
   ],
   "source": [
    "mcmc.fitness_featurizer.full_text_registry[0].n_gram_model.models[-1].score(ast_printer.ast_to_string(mcmc.samples[14][3], ' '))"
   ]
  },
  {
   "cell_type": "code",
   "execution_count": 8,
   "metadata": {},
   "outputs": [
    {
     "name": "stdout",
     "output_type": "stream",
     "text": [
      "Sample ngrams: -8.398438913739634\n",
      "('constraints', 'and', 'forall', 'wall', 'and') 1 -8.750366278367625\n",
      "('and', 'forall', 'wall', 'and', 'preference') 1 -8.750366278367625\n",
      "('forall', 'wall', 'and', 'preference', 'preferenceName') 1 -8.750366278367625\n",
      "('wall', 'and', 'preference', 'preferenceName', 'exists') 2 -8.05721909780768\n",
      "('and', 'preference', 'preferenceName', 'exists', 'block') 6 -6.958606809139571\n",
      "('preference', 'preferenceName', 'exists', 'block', 'atend') 4 -7.364071917247735\n",
      "('preferenceName', 'exists', 'block', 'atend', 'in') 1 -8.750366278367625\n",
      "('exists', 'block', 'atend', 'in', 'scoring') 1 -8.750366278367625\n",
      "('block', 'atend', 'in', 'scoring', 'externalforallmaximize') 1 -8.750366278367625\n",
      "('atend', 'in', 'scoring', 'externalforallmaximize', 'countonceperobjects') 1 -8.750366278367625\n",
      "('in', 'scoring', 'externalforallmaximize', 'countonceperobjects', 'preferenceName') 1 -8.750366278367625\n",
      "\n",
      "Original ngrams: -7.916773698598903\n",
      "('constraints', 'and', 'forall', 'building', 'and') 4 -7.364071917247735\n",
      "('and', 'forall', 'building', 'and', 'preference') 4 -7.364071917247735\n",
      "('forall', 'building', 'and', 'preference', 'preferenceName') 5 -7.140928365933525\n",
      "('building', 'and', 'preference', 'preferenceName', 'exists') 5 -7.140928365933525\n",
      "('and', 'preference', 'preferenceName', 'exists', 'block') 6 -6.958606809139571\n",
      "('preference', 'preferenceName', 'exists', 'block', 'atend') 4 -7.364071917247735\n",
      "('preferenceName', 'exists', 'block', 'atend', 'in') 1 -8.750366278367625\n",
      "('exists', 'block', 'atend', 'in', 'scoring') 1 -8.750366278367625\n",
      "('block', 'atend', 'in', 'scoring', 'externalforallmaximize') 1 -8.750366278367625\n",
      "('atend', 'in', 'scoring', 'externalforallmaximize', 'countonceperobjects') 1 -8.750366278367625\n",
      "('in', 'scoring', 'externalforallmaximize', 'countonceperobjects', 'preferenceName') 1 -8.750366278367625\n",
      "\n",
      "Sample remaining ngrams\n",
      "('constraints', 'and', 'forall', 'wall', 'and') 1 -8.750366278367625\n",
      "('and', 'forall', 'wall', 'and', 'preference') 1 -8.750366278367625\n",
      "('forall', 'wall', 'and', 'preference', 'preferenceName') 1 -8.750366278367625\n",
      "('wall', 'and', 'preference', 'preferenceName', 'exists') 2 -8.05721909780768\n",
      "\n",
      "Original remaining ngrams\n",
      "('constraints', 'and', 'forall', 'building', 'and') 4 -7.364071917247735\n",
      "('and', 'forall', 'building', 'and', 'preference') 4 -7.364071917247735\n",
      "('forall', 'building', 'and', 'preference', 'preferenceName') 5 -7.140928365933525\n",
      "('building', 'and', 'preference', 'preferenceName', 'exists') 5 -7.140928365933525\n"
     ]
    }
   ],
   "source": [
    "ngram_model = mcmc.fitness_featurizer.full_text_registry[0].n_gram_model.models[-1]\n",
    "\n",
    "sample_ngrams = [('constraints', 'and', 'forall', 'wall', 'and'), ('and', 'forall', 'wall', 'and', 'preference'), ('forall', 'wall', 'and', 'preference', 'preferenceName'), ('wall', 'and', 'preference', 'preferenceName', 'exists'), ('and', 'preference', 'preferenceName', 'exists', 'block'), ('preference', 'preferenceName', 'exists', 'block', 'atend'), ('preferenceName', 'exists', 'block', 'atend', 'in'), ('exists', 'block', 'atend', 'in', 'scoring'), ('block', 'atend', 'in', 'scoring', 'externalforallmaximize'), ('atend', 'in', 'scoring', 'externalforallmaximize', 'countonceperobjects'), ('in', 'scoring', 'externalforallmaximize', 'countonceperobjects', 'preferenceName')]\n",
    "original_ngrams = [('constraints', 'and', 'forall', 'building', 'and'), ('and', 'forall', 'building', 'and', 'preference'), ('forall', 'building', 'and', 'preference', 'preferenceName'), ('building', 'and', 'preference', 'preferenceName', 'exists'), ('and', 'preference', 'preferenceName', 'exists', 'block'), ('preference', 'preferenceName', 'exists', 'block', 'atend'), ('preferenceName', 'exists', 'block', 'atend', 'in'), ('exists', 'block', 'atend', 'in', 'scoring'), ('block', 'atend', 'in', 'scoring', 'externalforallmaximize'), ('atend', 'in', 'scoring', 'externalforallmaximize', 'countonceperobjects'), ('in', 'scoring', 'externalforallmaximize', 'countonceperobjects', 'preferenceName')]\n",
    "\n",
    "print(f'Sample ngrams: {np.mean([ngram_model.ngram_logprobs[s] for s in sample_ngrams])} | ')\n",
    "for s in sample_ngrams:\n",
    "    print(s, ngram_model.ngram_counts[s], ngram_model.ngram_logprobs[s])\n",
    "\n",
    "print()\n",
    "print(f'Original ngrams: {np.mean([ngram_model.ngram_logprobs[s] for s in original_ngrams])}')\n",
    "for s in original_ngrams:\n",
    "    print(s, ngram_model.ngram_counts[s], ngram_model.ngram_logprobs[s])\n",
    "print()\n",
    "\n",
    "for s in sample_ngrams[:]:\n",
    "    if s in original_ngrams:\n",
    "        sample_ngrams.remove(s)\n",
    "        original_ngrams.remove(s)\n",
    "\n",
    "print('Sample remaining ngrams')\n",
    "for s in sample_ngrams:\n",
    "    print(s, ngram_model.ngram_counts[s], ngram_model.ngram_logprobs[s])\n",
    "\n",
    "print()\n",
    "print('Original remaining ngrams')\n",
    "for s in original_ngrams:\n",
    "    print(s, ngram_model.ngram_counts[s], ngram_model.ngram_logprobs[s])"
   ]
  },
  {
   "cell_type": "code",
   "execution_count": 39,
   "metadata": {},
   "outputs": [
    {
     "name": "stdout",
     "output_type": "stream",
     "text": [
      "Original ngrams\n",
      "('constraints', 'and', 'forall', 'building', 'and') 4 -7.364071917247735\n",
      "('and', 'forall', 'building', 'and', 'preference') 4 -7.364071917247735\n",
      "('forall', 'building', 'and', 'preference', 'preferenceName') 5 -7.140928365933525\n",
      "('building', 'and', 'preference', 'preferenceName', 'exists') 5 -7.140928365933525\n",
      "('and', 'preference', 'preferenceName', 'exists', 'block') 6 -6.958606809139571\n",
      "('preference', 'preferenceName', 'exists', 'block', 'atend') 4 -7.364071917247735\n",
      "('preferenceName', 'exists', 'block', 'atend', 'in') 1 -8.750366278367625\n",
      "('exists', 'block', 'atend', 'in', 'scoring') 1 -8.750366278367625\n",
      "('block', 'atend', 'in', 'scoring', 'externalforallmaximize') 1 -8.750366278367625\n",
      "('atend', 'in', 'scoring', 'externalforallmaximize', 'countonceperobjects') 1 -8.750366278367625\n",
      "('in', 'scoring', 'externalforallmaximize', 'countonceperobjects', 'preferenceName') 1 -8.750366278367625\n"
     ]
    }
   ],
   "source": [
    "original_ngrams = [('constraints', 'and', 'forall', 'building', 'and'), ('and', 'forall', 'building', 'and', 'preference'), ('forall', 'building', 'and', 'preference', 'preferenceName'), ('building', 'and', 'preference', 'preferenceName', 'exists'), ('and', 'preference', 'preferenceName', 'exists', 'block'), ('preference', 'preferenceName', 'exists', 'block', 'atend'), ('preferenceName', 'exists', 'block', 'atend', 'in'), ('exists', 'block', 'atend', 'in', 'scoring'), ('block', 'atend', 'in', 'scoring', 'externalforallmaximize'), ('atend', 'in', 'scoring', 'externalforallmaximize', 'countonceperobjects'), ('in', 'scoring', 'externalforallmaximize', 'countonceperobjects', 'preferenceName')]\n",
    "print('Original ngrams')\n",
    "for s in original_ngrams:\n",
    "    print(s, mcmc.fitness_featurizer.full_text_registry[0].n_gram_model.models[-1].ngram_counts[s], mcmc.fitness_featurizer.full_text_registry[0].n_gram_model.models[-1].ngram_logprobs[s])"
   ]
  },
  {
   "cell_type": "code",
   "execution_count": 10,
   "metadata": {},
   "outputs": [
    {
     "data": {
      "text/markdown": [
       "### Energy of visualized game: -1.113"
      ],
      "text/plain": [
       "<IPython.core.display.Markdown object>"
      ]
     },
     "metadata": {},
     "output_type": "display_data"
    },
    {
     "data": {
      "text/markdown": [
       "### Top features contributing to the game's energy\n",
       "feature name: **value** = (original feature value => regrown feature value) * weight"
      ],
      "text/plain": [
       "<IPython.core.display.Markdown object>"
      ]
     },
     "metadata": {},
     "output_type": "display_data"
    },
    {
     "data": {
      "text/markdown": [
       "| Features increasing energy (= more fake)                              | Features decreasing energy (= more real)                                     |\n",
       "|-----------------------------------------------------------------------|------------------------------------------------------------------------------|\n",
       "| text_ngram_n_5_score: **2.542** = (0.678) * 3.749                     | all_variables_used: **-3.406** = (1.000) * -3.406                            |\n",
       "| text_ngram_n_4_score: **1.384** = (0.469) * 2.951                     | variable_not_repeated: **-3.239** = (1.000) * -3.239                         |\n",
       "| text_ngram_n_2_9: **0.725** = (1.000) * 0.725                         | all_preferences_used: **-1.335** = (1.000) * -1.335                          |\n",
       "| text_ngram_n_3_1: **0.725** = (1.000) * 0.725                         | all_variables_defined: **-1.076** = (1.000) * -1.076                         |\n",
       "| ast_ngram_n_2_1: **0.661** = (1.000) * 0.661                          | no_nested_logicals: **-0.966** = (1.000) * -0.966                            |\n",
       "| ast_ngram_n_2_4: **0.641** = (1.000) * 0.641                          | no_adjacent_same_modal: **-0.843** = (1.000) * -0.843                        |\n",
       "| ast_ngram_n_2_2: **0.638** = (1.000) * 0.638                          | no_two_number_operations: **-0.740** = (1.000) * -0.740                      |\n",
       "| ast_ngram_n_2_0: **0.635** = (1.000) * 0.635                          | pref_forall_pref_forall_correct_types_correct: **-0.670** = (1.000) * -0.670 |\n",
       "| text_ngram_n_2_2: **0.630** = (1.000) * 0.630                         | text_ngram_n_2_4: **-0.396** = (1.000) * -0.396                              |\n",
       "| ast_ngram_n_3_0: **0.623** = (1.000) * 0.623                          | ast_ngram_n_3_9: **-0.366** = (1.000) * -0.366                               |\n",
       "| text_ngram_n_3_score: **0.585** = (0.267) * 2.189                     | pref_forall_pref_forall_correct_arity_correct: **-0.320** = (1.000) * -0.320 |\n",
       "| ast_ngram_n_2_5: **0.422** = (1.000) * 0.422                          | on_arg_types_room_features_blocks_setup: **-0.285** = (1.000) * -0.285       |\n",
       "| node_count_terminal_2: **0.407** = (1.000) * 0.407                    | starts_and_ends_once: **-0.281** = (1.000) * -0.281                          |\n",
       "| length_of_then_modals_3: **0.372** = (1.000) * 0.372                  | node_count_scoring_0: **-0.261** = (1.000) * -0.261                          |\n",
       "| mean_depth_constraints_1: **0.347** = (1.000) * 0.347                 | mean_depth_scoring_1: **-0.240** = (1.000) * -0.240                          |\n",
       "| text_ngram_n_2_score: **0.257** = (0.218) * 1.183                     | max_depth_terminal_2: **-0.128** = (1.000) * -0.128                          |\n",
       "| mean_depth_setup_2: **0.247** = (1.000) * 0.247                       | max_depth_constraints_1: **-0.112** = (1.000) * -0.112                       |\n",
       "| no_identical_logical_children: **0.203** = (1.000) * 0.203            | setup_objects_used: **-0.093** = (0.500) * -0.186                            |\n",
       "| agent_holds_arg_types_blocks_constraints: **0.166** = (1.000) * 0.166 | compositionality_structure_2: **-0.068** = (1.000) * -0.068                  |\n",
       "| node_count_constraints_1: **0.140** = (1.000) * 0.140                 | no_adjacent_once: **-0.019** = (1.000) * -0.019                              |"
      ],
      "text/plain": [
       "<IPython.core.display.Markdown object>"
      ]
     },
     "metadata": {},
     "output_type": "display_data"
    },
    {
     "data": {
      "text/markdown": [
       "### Game:"
      ],
      "text/plain": [
       "<IPython.core.display.Markdown object>"
      ]
     },
     "metadata": {},
     "output_type": "display_data"
    },
    {
     "data": {
      "text/markdown": [
       "```pddl\n",
       "(define (game mcmc-7) (:domain few-objects-room-v1)\n",
       "(:setup\n",
       "  (and\n",
       "    (forall (?l3 - cube_block)\n",
       "      (game-optional\n",
       "        (on rug ?l3)\n",
       "      )\n",
       "    )\n",
       "  )\n",
       ")\n",
       "(:constraints\n",
       "  (and\n",
       "    (forall (?c5 - cube_block)\n",
       "      (and\n",
       "        (preference cubeBlockFromBedToShelf\n",
       "          (then\n",
       "            (once (agent_holds ?c5) )\n",
       "            (hold (not (agent_holds ?c5) ) )\n",
       "            (once (agent_holds ?c5) )\n",
       "          )\n",
       "        )\n",
       "      )\n",
       "    )\n",
       "  )\n",
       ")\n",
       "(:terminal\n",
       "  (>= (count-once-per-objects cubeBlockFromBedToShelf) 8 )\n",
       ")\n",
       "(:scoring\n",
       "  (count cubeBlockFromBedToShelf:yellow_cube_block)\n",
       ")\n",
       ")\n",
       "```"
      ],
      "text/plain": [
       "<IPython.core.display.Markdown object>"
      ]
     },
     "metadata": {},
     "output_type": "display_data"
    }
   ],
   "source": [
    "mcmc.visualize_sample(7)"
   ]
  },
  {
   "cell_type": "code",
   "execution_count": 11,
   "metadata": {},
   "outputs": [
    {
     "data": {
      "text/markdown": [
       "### Energy of visualized game: 1.592"
      ],
      "text/plain": [
       "<IPython.core.display.Markdown object>"
      ]
     },
     "metadata": {},
     "output_type": "display_data"
    },
    {
     "data": {
      "text/markdown": [
       "### Top features contributing to the game's energy\n",
       "feature name: **value** = (original feature value => regrown feature value) * weight"
      ],
      "text/plain": [
       "<IPython.core.display.Markdown object>"
      ]
     },
     "metadata": {},
     "output_type": "display_data"
    },
    {
     "data": {
      "text/markdown": [
       "| Features increasing energy (= more fake)                   | Features decreasing energy (= more real)                                     |\n",
       "|------------------------------------------------------------|------------------------------------------------------------------------------|\n",
       "| text_ngram_n_5_score: **2.824** = (0.753) * 3.749          | all_variables_used: **-3.406** = (1.000) * -3.406                            |\n",
       "| text_ngram_n_4_score: **1.740** = (0.590) * 2.951          | variable_not_repeated: **-3.239** = (1.000) * -3.239                         |\n",
       "| text_ngram_n_3_score: **1.208** = (0.552) * 2.189          | all_preferences_used: **-1.335** = (1.000) * -1.335                          |\n",
       "| text_ngram_n_2_9: **0.725** = (1.000) * 0.725              | all_variables_defined: **-1.076** = (1.000) * -1.076                         |\n",
       "| text_ngram_n_3_1: **0.725** = (1.000) * 0.725              | no_nested_logicals: **-0.966** = (1.000) * -0.966                            |\n",
       "| ast_ngram_n_2_1: **0.661** = (1.000) * 0.661               | no_two_number_operations: **-0.740** = (1.000) * -0.740                      |\n",
       "| ast_ngram_n_2_2: **0.638** = (1.000) * 0.638               | pref_forall_pref_forall_correct_types_correct: **-0.670** = (1.000) * -0.670 |\n",
       "| ast_ngram_n_2_0: **0.635** = (1.000) * 0.635               | on_arg_types_furniture_large_objects_setup: **-0.401** = (1.000) * -0.401    |\n",
       "| text_ngram_n_2_2: **0.630** = (1.000) * 0.630              | pref_forall_pref_forall_correct_arity_correct: **-0.320** = (1.000) * -0.320 |\n",
       "| ast_ngram_n_3_0: **0.623** = (1.000) * 0.623               | max_depth_scoring_2: **-0.213** = (1.000) * -0.213                           |\n",
       "| text_ngram_n_2_score: **0.518** = (0.438) * 1.183          | pref_forall_external_forall_used_correct: **-0.187** = (1.000) * -0.187      |\n",
       "| node_count_terminal_2: **0.407** = (1.000) * 0.407         | max_depth_terminal_2: **-0.128** = (1.000) * -0.128                          |\n",
       "| ast_ngram_n_5_score: **0.387** = (0.459) * 0.843           | max_depth_constraints_1: **-0.112** = (1.000) * -0.112                       |\n",
       "| ast_ngram_n_4_score: **0.384** = (0.444) * 0.865           | setup_objects_used: **-0.047** = (0.250) * -0.186                            |\n",
       "| mean_depth_setup_2: **0.247** = (1.000) * 0.247            |                                                                              |\n",
       "| ast_ngram_n_3_score: **0.227** = (0.405) * 0.559           |                                                                              |\n",
       "| no_identical_logical_children: **0.203** = (1.000) * 0.203 |                                                                              |\n",
       "| mean_depth_constraints_0: **0.189** = (1.000) * 0.189      |                                                                              |\n",
       "| node_count_constraints_0: **0.127** = (1.000) * 0.127      |                                                                              |\n",
       "| node_count_setup_2: **0.127** = (1.000) * 0.127            |                                                                              |"
      ],
      "text/plain": [
       "<IPython.core.display.Markdown object>"
      ]
     },
     "metadata": {},
     "output_type": "display_data"
    },
    {
     "data": {
      "text/markdown": [
       "### Game:"
      ],
      "text/plain": [
       "<IPython.core.display.Markdown object>"
      ]
     },
     "metadata": {},
     "output_type": "display_data"
    },
    {
     "data": {
      "text/markdown": [
       "```pddl\n",
       "(define (game mcmc-15) (:domain medium-objects-room-v1)\n",
       "(:setup\n",
       "  (exists (?c6 - (either dodgeball basketball book))\n",
       "    (and\n",
       "      (game-optional\n",
       "        (on bed ?c6)\n",
       "      )\n",
       "    )\n",
       "  )\n",
       ")\n",
       "(:constraints\n",
       "  (and\n",
       "    (forall (?c4 - dodgeball)\n",
       "      (and\n",
       "        (preference dodgeballHitsBin\n",
       "          (at-end\n",
       "            (broken ?c4)\n",
       "          )\n",
       "        )\n",
       "      )\n",
       "    )\n",
       "  )\n",
       ")\n",
       "(:terminal\n",
       "  (or\n",
       "    (>= (total-time) 4 )\n",
       "  )\n",
       ")\n",
       "(:scoring\n",
       "  (external-forall-minimize\n",
       "    (count-once-per-objects dodgeballHitsBin:dodgeball)\n",
       "  )\n",
       ")\n",
       ")\n",
       "```"
      ],
      "text/plain": [
       "<IPython.core.display.Markdown object>"
      ]
     },
     "metadata": {},
     "output_type": "display_data"
    }
   ],
   "source": [
    "mcmc.visualize_sample(15)"
   ]
  },
  {
   "cell_type": "code",
   "execution_count": null,
   "metadata": {},
   "outputs": [],
   "source": []
  },
  {
   "attachments": {},
   "cell_type": "markdown",
   "metadata": {},
   "source": [
    "### Notes from looking at these games\n",
    "* Revisit the logic in `pref_forall_correct_types` and `pref_forall_correct_arity` -- it might want to be a 1/0/-1 instead of a 1/0\n",
    "* Index 4 somehow caught onto the fact that `(agent_holds color)` is not penalized heavily, but also the same `pref_forall_...` stuff\n",
    "* Features for different counts of items under a then, and/or for any two consecutive children of a then with the same modal?\n",
    "* This sampler generates oddities that are rare enough in the training set to not get a significant weight -- see the terminal and scoring sections of indices 3 and 8, for examples "
   ]
  },
  {
   "cell_type": "code",
   "execution_count": null,
   "metadata": {},
   "outputs": [],
   "source": []
  },
  {
   "cell_type": "code",
   "execution_count": 2,
   "metadata": {},
   "outputs": [
    {
     "ename": "NameError",
     "evalue": "name 'ast_printer' is not defined",
     "output_type": "error",
     "traceback": [
      "\u001b[0;31m---------------------------------------------------------------------------\u001b[0m",
      "\u001b[0;31mNameError\u001b[0m                                 Traceback (most recent call last)",
      "Cell \u001b[0;32mIn[2], line 1\u001b[0m\n\u001b[0;32m----> 1\u001b[0m \u001b[39mprint\u001b[39m(ast_printer\u001b[39m.\u001b[39mast_to_string(samples[\u001b[39m8\u001b[39m][\u001b[39m0\u001b[39m], \u001b[39m'\u001b[39m\u001b[39m\\n\u001b[39;00m\u001b[39m'\u001b[39m))\n",
      "\u001b[0;31mNameError\u001b[0m: name 'ast_printer' is not defined"
     ]
    }
   ],
   "source": [
    "print(ast_printer.ast_to_string(samples[8][0], '\\n'))"
   ]
  },
  {
   "cell_type": "code",
   "execution_count": null,
   "metadata": {},
   "outputs": [],
   "source": [
    "fitness_featurizer = build_fitness_featurizer(DEFAULT_ARGS)\n",
    "features = fitness_featurizer.parse(samples[7][0], 'mcmc', True)\n",
    "{k: v for k, v in features.items() if 'correctly' in k or 'forall' in k or 'no' in k}"
   ]
  },
  {
   "cell_type": "code",
   "execution_count": null,
   "metadata": {},
   "outputs": [],
   "source": [
    "with gzip.open(DEFAULT_FITNESS_FUNCTION_PATH, 'rb') as f:\n",
    "    cv_fitness_model = pickle.load(f)"
   ]
  },
  {
   "cell_type": "code",
   "execution_count": null,
   "metadata": {},
   "outputs": [],
   "source": [
    "weights = cv_fitness_model.named_steps['fitness'].model.fc1.weight.data.detach().numpy().squeeze()\n",
    "bias = cv_fitness_model.named_steps['fitness'].model.fc1.bias.data.detach().numpy().squeeze()\n",
    "print(weights.mean(), bias)"
   ]
  },
  {
   "cell_type": "code",
   "execution_count": null,
   "metadata": {},
   "outputs": [],
   "source": [
    "plt.hist(weights, bins=100)\n",
    "plt.title('Fitness Model Weights')\n",
    "plt.xlabel('Weight magnitude')\n",
    "plt.ylabel('Count')"
   ]
  },
  {
   "cell_type": "code",
   "execution_count": 12,
   "metadata": {},
   "outputs": [],
   "source": [
    "import ast_crossover_sampler\n",
    "asts = [ast for ast in cached_load_and_parse_games_from_file('../dsl/interactive-beta.pddl', \n",
    "    mcmc.grammar_parser, False, relative_path='..')]\n",
    "\n",
    "mcmc_with_crossover = MCMCRegrowthCrossoverSampler(DEFAULT_ARGS, \n",
    "    ast_crossover_sampler.CrossoverType.SAME_RULE, asts, 0.25,\n",
    "    '../models/cv_fitness_model_2022_12_26.pkl.gz', \n",
    "    greedy_acceptance=True, plateau_patience_steps=20, acceptance_temperature=10.0, max_steps=1000)"
   ]
  },
  {
   "cell_type": "code",
   "execution_count": 13,
   "metadata": {},
   "outputs": [
    {
     "data": {
      "application/vnd.jupyter.widget-view+json": {
       "model_id": "504d7837cbaf4c778034c522316a834c",
       "version_major": 2,
       "version_minor": 0
      },
      "text/plain": [
       "  0%|          | 0/10 [00:00<?, ?it/s]"
      ]
     },
     "metadata": {},
     "output_type": "display_data"
    },
    {
     "name": "stdout",
     "output_type": "stream",
     "text": [
      "Sampling exception, skipping sample\n",
      "Regrowth generated identical games, repeating\n",
      "Accepted step 1 with fitness 7.857532501220703\n",
      "Accepted step 2 with fitness 7.784302711486816\n",
      "Accepted step 3 with fitness 7.775148391723633\n",
      "Accepted step 4 with fitness 7.692765235900879\n",
      "Accepted step 6 with fitness 7.536055564880371\n",
      "Regrowth generated identical games, repeating\n",
      "Accepted step 8 with fitness 7.5235395431518555\n",
      "Accepted step 10 with fitness 7.4317522048950195\n",
      "Accepted step 11 with fitness 6.490839004516602\n",
      "Accepted step 17 with fitness 5.810407638549805\n",
      "Accepted step 19 with fitness 5.400604248046875\n",
      "Accepted step 28 with fitness 5.354710578918457\n",
      "Accepted step 44 with fitness 4.757689476013184\n",
      "Accepted step 49 with fitness 4.688848495483398\n",
      "Accepted step 68 with fitness 4.574114799499512\n",
      "Accepted step 75 with fitness 4.34464693069458\n",
      "Regrowth generated identical games, repeating\n",
      "Accepted step 93 with fitness 3.9308552742004395\n",
      "Regrowth generated identical games, repeating\n",
      "Accepted step 100 with fitness 3.891624927520752\n",
      "Accepted step 101 with fitness 3.8166251182556152\n",
      "Accepted step 112 with fitness 3.5812437534332275\n",
      "Accepted step 119 with fitness 3.1669018268585205\n",
      "Accepted step 126 with fitness 1.582802176475525\n",
      "Accepted step 136 with fitness 0.4186060130596161\n",
      "Regrowth generated identical games, repeating\n",
      "Regrowth generated identical games, repeating\n",
      "Regrowth generated identical games, repeating\n",
      "Accepted step 156 with fitness -0.3749939501285553\n",
      "Accepted step 162 with fitness -0.4303964376449585\n",
      "Accepted step 165 with fitness -0.5954062938690186\n",
      "Regrowth generated identical games, repeating\n",
      "Plateaued at step 186 with fitness -0.5954062938690186\n",
      "Sampling exception, skipping sample\n",
      "Sampling exception, skipping sample\n",
      "Accepted step 4 with fitness 5.354079723358154\n",
      "Accepted step 5 with fitness 4.97187614440918\n",
      "Accepted step 7 with fitness 4.118456840515137\n",
      "Accepted step 17 with fitness 3.8881304264068604\n",
      "Accepted step 18 with fitness 2.8375558853149414\n",
      "Accepted step 20 with fitness 2.5998194217681885\n",
      "Regrowth generated identical games, repeating\n",
      "Accepted step 22 with fitness 2.4077253341674805\n",
      "Regrowth generated identical games, repeating\n",
      "Regrowth generated identical games, repeating\n",
      "Regrowth generated identical games, repeating\n",
      "Regrowth generated identical games, repeating\n",
      "Accepted step 29 with fitness 1.7174071073532104\n",
      "Regrowth generated identical games, repeating\n",
      "Regrowth generated identical games, repeating\n",
      "Accepted step 38 with fitness 1.5460082292556763\n",
      "Sampling exception, skipping sample\n",
      "Accepted step 47 with fitness 1.1638044118881226\n",
      "Accepted step 48 with fitness 0.5462826490402222\n",
      "Accepted step 68 with fitness -0.22956793010234833\n",
      "Regrowth generated identical games, repeating\n",
      "Regrowth generated identical games, repeating\n",
      "Regrowth generated identical games, repeating\n",
      "Accepted step 70 with fitness -0.3435009717941284\n",
      "Regrowth generated identical games, repeating\n",
      "Regrowth generated identical games, repeating\n",
      "Accepted step 89 with fitness -0.37955039739608765\n",
      "Accepted step 93 with fitness -0.39083099365234375\n",
      "Regrowth generated identical games, repeating\n",
      "Accepted step 94 with fitness -0.45440566539764404\n",
      "Regrowth generated identical games, repeating\n",
      "Regrowth generated identical games, repeating\n",
      "Accepted step 101 with fitness -0.4696420133113861\n",
      "Regrowth generated identical games, repeating\n",
      "Regrowth generated identical games, repeating\n",
      "Plateaued at step 122 with fitness -0.4696420133113861\n",
      "Sampling exception, skipping sample\n",
      "Accepted step 2 with fitness 14.142976760864258\n",
      "Regrowth generated identical games, repeating\n",
      "Accepted step 4 with fitness 12.79985237121582\n",
      "Accepted step 6 with fitness 12.214326858520508\n",
      "Accepted step 7 with fitness 12.134391784667969\n",
      "Accepted step 8 with fitness 12.072993278503418\n",
      "Accepted step 9 with fitness 10.750027656555176\n",
      "Regrowth generated identical games, repeating\n",
      "Accepted step 10 with fitness 10.627676963806152\n",
      "Accepted step 15 with fitness 10.131712913513184\n",
      "Regrowth generated identical games, repeating\n",
      "Accepted step 21 with fitness 8.611666679382324\n",
      "Regrowth generated identical games, repeating\n",
      "Regrowth generated identical games, repeating\n",
      "Accepted step 28 with fitness 6.989829063415527\n",
      "Regrowth generated identical games, repeating\n",
      "Accepted step 38 with fitness 6.98841667175293\n",
      "Accepted step 41 with fitness 6.839105606079102\n",
      "Regrowth generated identical games, repeating\n",
      "Accepted step 42 with fitness 6.487910270690918\n",
      "Accepted step 43 with fitness 5.878007888793945\n",
      "Accepted step 48 with fitness 5.809959411621094\n",
      "Accepted step 60 with fitness 5.712705612182617\n",
      "Accepted step 66 with fitness 5.381417274475098\n",
      "Regrowth generated identical games, repeating\n",
      "Accepted step 68 with fitness 4.953930854797363\n",
      "Accepted step 69 with fitness 4.600273132324219\n",
      "Accepted step 73 with fitness 4.3957061767578125\n",
      "Sampling exception, skipping sample\n",
      "Accepted step 85 with fitness 4.39177942276001\n",
      "Accepted step 86 with fitness 3.9079432487487793\n",
      "Sampling exception, skipping sample\n",
      "Accepted step 90 with fitness 3.6090126037597656\n",
      "Accepted step 92 with fitness 3.5547075271606445\n",
      "Regrowth generated identical games, repeating\n",
      "Regrowth generated identical games, repeating\n",
      "Accepted step 108 with fitness 3.1036438941955566\n",
      "Regrowth generated identical games, repeating\n",
      "Accepted step 114 with fitness 2.789712905883789\n",
      "Accepted step 116 with fitness 2.64223051071167\n",
      "Regrowth generated identical games, repeating\n",
      "Regrowth generated identical games, repeating\n",
      "Accepted step 136 with fitness 2.5748722553253174\n",
      "Regrowth generated identical games, repeating\n",
      "Accepted step 147 with fitness 2.493852376937866\n",
      "Accepted step 161 with fitness 2.420196056365967\n",
      "Regrowth generated identical games, repeating\n",
      "Accepted step 167 with fitness 2.2247960567474365\n",
      "Accepted step 173 with fitness 1.9206602573394775\n",
      "Regrowth generated identical games, repeating\n",
      "Accepted step 178 with fitness 1.7651313543319702\n",
      "Regrowth generated identical games, repeating\n",
      "Plateaued at step 199 with fitness 1.7651313543319702\n",
      "Accepted step 2 with fitness 13.524382591247559\n",
      "Sampling exception, skipping sample\n",
      "Accepted step 7 with fitness 13.480805397033691\n",
      "Accepted step 9 with fitness 13.39976978302002\n",
      "Accepted step 10 with fitness 13.358628273010254\n",
      "Accepted step 11 with fitness 13.049342155456543\n",
      "Sampling exception, skipping sample\n",
      "Regrowth generated identical games, repeating\n",
      "Sampling exception, skipping sample\n",
      "Accepted step 15 with fitness 12.11268138885498\n",
      "Accepted step 26 with fitness 9.495596885681152\n",
      "Accepted step 27 with fitness 8.964848518371582\n",
      "Regrowth generated identical games, repeating\n",
      "Accepted step 36 with fitness 8.947417259216309\n",
      "Accepted step 39 with fitness 8.818668365478516\n",
      "Regrowth generated identical games, repeating\n",
      "Regrowth generated identical games, repeating\n",
      "Accepted step 44 with fitness 8.466219902038574\n",
      "Accepted step 45 with fitness 7.073418140411377\n",
      "Accepted step 48 with fitness 7.038557052612305\n",
      "Accepted step 54 with fitness 6.790688514709473\n",
      "Accepted step 55 with fitness 6.636929035186768\n",
      "Accepted step 57 with fitness 6.631551265716553\n",
      "Regrowth generated identical games, repeating\n",
      "Accepted step 60 with fitness 5.908283710479736\n",
      "Accepted step 64 with fitness 5.737532138824463\n",
      "Accepted step 66 with fitness 5.720505237579346\n",
      "Accepted step 68 with fitness 5.5985188484191895\n",
      "Sampling exception, skipping sample\n",
      "Accepted step 73 with fitness 5.2624006271362305\n",
      "Sampling exception, skipping sample\n",
      "Sampling exception, skipping sample\n",
      "Sampling exception, skipping sample\n",
      "Plateaued at step 94 with fitness 5.2624006271362305\n",
      "Sampling exception, skipping sample\n",
      "Accepted step 0 with fitness 7.88816499710083\n",
      "Accepted step 5 with fitness 7.2559428215026855\n",
      "Accepted step 6 with fitness 6.572350025177002\n",
      "Regrowth generated identical games, repeating\n",
      "Accepted step 20 with fitness 6.3486833572387695\n",
      "Regrowth generated identical games, repeating\n",
      "Regrowth generated identical games, repeating\n",
      "Accepted step 29 with fitness 6.075480937957764\n",
      "Accepted step 33 with fitness 4.201766014099121\n",
      "Regrowth generated identical games, repeating\n",
      "Accepted step 35 with fitness 4.197839260101318\n",
      "Accepted step 37 with fitness 4.126315593719482\n",
      "Regrowth generated identical games, repeating\n",
      "Accepted step 38 with fitness 3.834568977355957\n",
      "Accepted step 46 with fitness 3.7012743949890137\n",
      "Accepted step 50 with fitness 2.9073314666748047\n",
      "Accepted step 55 with fitness 1.9833101034164429\n",
      "Accepted step 67 with fitness 1.9793835878372192\n",
      "Accepted step 74 with fitness 1.5293444395065308\n",
      "Regrowth generated identical games, repeating\n",
      "Accepted step 94 with fitness 1.147140622138977\n",
      "Regrowth generated identical games, repeating\n",
      "Accepted step 110 with fitness 0.8746525049209595\n",
      "Sampling exception, skipping sample\n",
      "Regrowth generated identical games, repeating\n",
      "Plateaued at step 131 with fitness 0.8746525049209595\n",
      "Sampling exception, skipping sample\n",
      "Sampling exception, skipping sample\n",
      "Sampling exception, skipping sample\n",
      "Accepted step 3 with fitness 3.272235870361328\n",
      "Accepted step 4 with fitness 2.8624320030212402\n",
      "Sampling exception, skipping sample\n",
      "Regrowth generated identical games, repeating\n",
      "Accepted step 9 with fitness 2.8181464672088623\n",
      "Regrowth generated identical games, repeating\n",
      "Accepted step 12 with fitness 2.653379440307617\n",
      "Accepted step 15 with fitness 2.406229257583618\n",
      "Sampling exception, skipping sample\n",
      "Accepted step 17 with fitness 1.9943119287490845\n",
      "Sampling exception, skipping sample\n",
      "Sampling exception, skipping sample\n",
      "Sampling exception, skipping sample\n",
      "Regrowth generated identical games, repeating\n",
      "Sampling exception, skipping sample\n",
      "Accepted step 26 with fitness 1.4591673612594604\n",
      "Sampling exception, skipping sample\n",
      "Regrowth generated identical games, repeating\n",
      "Accepted step 36 with fitness 1.2288413047790527\n",
      "Sampling exception, skipping sample\n",
      "Sampling exception, skipping sample\n",
      "Sampling exception, skipping sample\n",
      "Sampling exception, skipping sample\n",
      "Sampling exception, skipping sample\n",
      "Sampling exception, skipping sample\n",
      "Sampling exception, skipping sample\n",
      "Sampling exception, skipping sample\n",
      "Sampling exception, skipping sample\n",
      "Sampling exception, skipping sample\n",
      "Sampling exception, skipping sample\n",
      "Plateaued at step 57 with fitness 1.2288413047790527\n",
      "Sampling exception, skipping sample\n",
      "Sampling exception, skipping sample\n",
      "Sampling exception, skipping sample\n",
      "Sampling exception, skipping sample\n",
      "Sampling exception, skipping sample\n",
      "Accepted step 2 with fitness 7.653304576873779\n",
      "Accepted step 4 with fitness 7.038599014282227\n",
      "Accepted step 5 with fitness 6.702853679656982\n",
      "Accepted step 7 with fitness 6.601943492889404\n",
      "Accepted step 8 with fitness 4.289561748504639\n",
      "Accepted step 10 with fitness 4.060492992401123\n",
      "Accepted step 24 with fitness 3.4570600986480713\n",
      "Regrowth generated identical games, repeating\n",
      "Regrowth generated identical games, repeating\n",
      "Regrowth generated identical games, repeating\n",
      "Accepted step 32 with fitness 3.032423973083496\n",
      "Regrowth generated identical games, repeating\n",
      "Regrowth generated identical games, repeating\n",
      "Regrowth generated identical games, repeating\n",
      "Accepted step 45 with fitness 2.483200788497925\n",
      "Regrowth generated identical games, repeating\n",
      "Regrowth generated identical games, repeating\n",
      "Regrowth generated identical games, repeating\n",
      "Regrowth generated identical games, repeating\n",
      "Accepted step 61 with fitness 1.8684951066970825\n",
      "Sampling exception, skipping sample\n",
      "Accepted step 62 with fitness 1.041662573814392\n",
      "Accepted step 63 with fitness 0.9797189235687256\n",
      "Regrowth generated identical games, repeating\n",
      "Accepted step 69 with fitness 0.9395236968994141\n",
      "Regrowth generated identical games, repeating\n",
      "Regrowth generated identical games, repeating\n",
      "Regrowth generated identical games, repeating\n",
      "Plateaued at step 90 with fitness 0.9395236968994141\n",
      "Sampling exception, skipping sample\n",
      "Sampling exception, skipping sample\n",
      "Sampling exception, skipping sample\n",
      "Sampling exception, skipping sample\n",
      "Accepted step 5 with fitness 6.789217472076416\n",
      "Accepted step 6 with fitness 6.666046142578125\n",
      "Accepted step 7 with fitness 4.762271404266357\n",
      "Accepted step 8 with fitness 4.663128852844238\n",
      "Accepted step 9 with fitness 3.3013408184051514\n",
      "Regrowth generated identical games, repeating\n",
      "Regrowth generated identical games, repeating\n",
      "Accepted step 19 with fitness 2.9507830142974854\n",
      "Accepted step 21 with fitness 2.4647607803344727\n",
      "Regrowth generated identical games, repeating\n",
      "Accepted step 23 with fitness 1.8448952436447144\n",
      "Regrowth generated identical games, repeating\n",
      "Plateaued at step 44 with fitness 1.8448952436447144\n",
      "Sampling exception, skipping sample\n",
      "Sampling exception, skipping sample\n",
      "Accepted step 0 with fitness 29.540218353271484\n",
      "Accepted step 2 with fitness 28.9871883392334\n",
      "Accepted step 4 with fitness 28.37427520751953\n",
      "Accepted step 6 with fitness 28.359024047851562\n",
      "Accepted step 8 with fitness 28.19510269165039\n",
      "Accepted step 10 with fitness 26.215831756591797\n",
      "Accepted step 12 with fitness 24.8515625\n",
      "Accepted step 13 with fitness 24.514238357543945\n",
      "Accepted step 15 with fitness 23.61456298828125\n",
      "Accepted step 21 with fitness 23.13623809814453\n",
      "Accepted step 23 with fitness 22.891950607299805\n",
      "Accepted step 27 with fitness 16.433687210083008\n",
      "Accepted step 29 with fitness 14.533061027526855\n",
      "Accepted step 30 with fitness 4.544361591339111\n",
      "Accepted step 31 with fitness 4.070838451385498\n",
      "Accepted step 39 with fitness 2.9080300331115723\n",
      "Regrowth generated identical games, repeating\n",
      "Accepted step 42 with fitness 1.3596304655075073\n",
      "Regrowth generated identical games, repeating\n",
      "Regrowth generated identical games, repeating\n",
      "Accepted step 50 with fitness 1.1433700323104858\n",
      "Regrowth generated identical games, repeating\n",
      "Accepted step 60 with fitness 1.113407850265503\n",
      "Accepted step 71 with fitness 0.9435285329818726\n",
      "Accepted step 75 with fitness 0.8919482231140137\n",
      "Regrowth generated identical games, repeating\n",
      "Plateaued at step 96 with fitness 0.8919482231140137\n",
      "Sampling exception, skipping sample\n",
      "Accepted step 1 with fitness 8.22070026397705\n",
      "Accepted step 3 with fitness 6.275301933288574\n",
      "Regrowth generated identical games, repeating\n",
      "Accepted step 7 with fitness 5.117291450500488\n",
      "Accepted step 9 with fitness 4.615976333618164\n",
      "Accepted step 10 with fitness 4.1334309577941895\n",
      "Accepted step 12 with fitness 3.3655338287353516\n",
      "Accepted step 14 with fitness 3.3364827632904053\n",
      "Accepted step 16 with fitness 3.274643659591675\n",
      "Regrowth generated identical games, repeating\n",
      "Accepted step 21 with fitness 2.8863584995269775\n",
      "Accepted step 22 with fitness 2.2518084049224854\n",
      "Accepted step 29 with fitness 2.1898648738861084\n",
      "Accepted step 34 with fitness 1.8234943151474\n",
      "Regrowth generated identical games, repeating\n",
      "Accepted step 41 with fitness 1.8150454759597778\n",
      "Accepted step 43 with fitness 1.750975251197815\n",
      "Accepted step 45 with fitness 1.4526692628860474\n",
      "Accepted step 54 with fitness 1.4442203044891357\n",
      "Regrowth generated identical games, repeating\n",
      "Accepted step 59 with fitness 1.3392081260681152\n",
      "Regrowth generated identical games, repeating\n",
      "Accepted step 67 with fitness 1.2992336750030518\n",
      "Accepted step 68 with fitness 1.2082358598709106\n",
      "Regrowth generated identical games, repeating\n",
      "Regrowth generated identical games, repeating\n",
      "Plateaued at step 89 with fitness 1.2082358598709106\n",
      "[-0.5954062938690186, -0.4696420133113861, 1.7651313543319702, 5.2624006271362305, 0.8746525049209595, 1.2288413047790527, 0.9395236968994141, 1.8448952436447144, 0.8919482231140137, 1.2082358598709106]\n"
     ]
    }
   ],
   "source": [
    "mcmc_with_crossover.multiple_samples(10, verbose=2, should_tqdm=True)\n",
    "print([x[2] for x in mcmc_with_crossover.samples])"
   ]
  },
  {
   "cell_type": "code",
   "execution_count": 14,
   "metadata": {},
   "outputs": [
    {
     "name": "stdout",
     "output_type": "stream",
     "text": [
      "[-0.5954062938690186, -0.4696420133113861, 1.7651313543319702, 5.2624006271362305, 0.8746525049209595, 1.2288413047790527, 0.9395236968994141, 1.8448952436447144, 0.8919482231140137, 1.2082358598709106]\n"
     ]
    }
   ],
   "source": [
    "print([x[2] for x in mcmc_with_crossover.samples])"
   ]
  },
  {
   "cell_type": "code",
   "execution_count": null,
   "metadata": {},
   "outputs": [],
   "source": []
  }
 ],
 "metadata": {
  "kernelspec": {
   "display_name": "game-gen",
   "language": "python",
   "name": "python3"
  },
  "language_info": {
   "codemirror_mode": {
    "name": "ipython",
    "version": 3
   },
   "file_extension": ".py",
   "mimetype": "text/x-python",
   "name": "python",
   "nbconvert_exporter": "python",
   "pygments_lexer": "ipython3",
   "version": "3.10.8"
  },
  "orig_nbformat": 4,
  "vscode": {
   "interpreter": {
    "hash": "a8b8c8d5c21b7aee7bd0053f69e9c255c013bbea7031fbef7e66d58dd46c0fa6"
   }
  }
 },
 "nbformat": 4,
 "nbformat_minor": 2
}
