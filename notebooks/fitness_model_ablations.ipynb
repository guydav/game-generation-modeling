{
 "cells": [
  {
   "cell_type": "code",
   "execution_count": 1,
   "metadata": {},
   "outputs": [],
   "source": [
    "%autoreload 2\n"
   ]
  },
  {
   "cell_type": "code",
   "execution_count": 2,
   "metadata": {},
   "outputs": [
    {
     "name": "stderr",
     "output_type": "stream",
     "text": [
      "2023-09-19 13:19:15 - ast_utils - DEBUG    - Using cache folder: /misc/vlgscratch4/LakeGroup/guy/game_generation_cache\n",
      "2023-09-19 13:19:15 - src.ast_utils - DEBUG    - Using cache folder: /misc/vlgscratch4/LakeGroup/guy/game_generation_cache\n"
     ]
    }
   ],
   "source": [
    "from argparse import Namespace\n",
    "from collections import defaultdict\n",
    "import copy\n",
    "import difflib\n",
    "import gzip\n",
    "import itertools\n",
    "import os\n",
    "import pickle\n",
    "import sys\n",
    "import typing\n",
    "\n",
    "import logging\n",
    "logging.getLogger('matplotlib').setLevel(logging.WARNING)\n",
    "\n",
    "from IPython.display import display, Markdown, HTML\n",
    "import matplotlib\n",
    "import matplotlib.pyplot as plt\n",
    "import numpy as np\n",
    "import pandas as pd\n",
    "import sklearn\n",
    "from sklearn.model_selection import GridSearchCV, train_test_split, KFold\n",
    "from sklearn.pipeline import Pipeline\n",
    "import tatsu\n",
    "import torch\n",
    "import torch.nn as nn\n",
    "import torch.nn.functional as F\n",
    "from torch.utils.data import TensorDataset, DataLoader\n",
    "import tqdm.notebook as tqdm\n",
    "\n",
    "\n",
    "sys.path.append(os.path.abspath('..'))\n",
    "sys.path.append(os.path.abspath('../src'))\n",
    "from src import fitness_energy_utils as utils\n",
    "from src.fitness_energy_utils import NON_FEATURE_COLUMNS\n",
    "from src.ast_counter_sampler import *\n",
    "from src.ast_utils import cached_load_and_parse_games_from_file, load_games_from_file, _extract_game_id\n",
    "from src import ast_printer\n",
    "from src.fitness_features_by_category import FEATURE_CATEGORIES, PREDICATE_ROLE_FILLER_PATTERN_DICT, COUNTING_FEATURES_PATTERN_DICT"
   ]
  },
  {
   "cell_type": "code",
   "execution_count": 3,
   "metadata": {},
   "outputs": [
    {
     "name": "stderr",
     "output_type": "stream",
     "text": [
      "2023-09-19 13:19:19 - src.ast_utils - INFO     - Loading from cache file: /misc/vlgscratch4/LakeGroup/guy/game_generation_cache/interactive-beta-cache.pkl.gz\n",
      "2023-09-19 13:19:19 - src.ast_utils - INFO     - Finished loading cache file: /misc/vlgscratch4/LakeGroup/guy/game_generation_cache/interactive-beta-cache.pkl.gz\n"
     ]
    },
    {
     "name": "stdout",
     "output_type": "stream",
     "text": [
      "98 100352 1024.0\n"
     ]
    }
   ],
   "source": [
    "grammar = open('../dsl/dsl.ebnf').read()\n",
    "grammar_parser = tatsu.compile(grammar)\n",
    "game_asts = list(cached_load_and_parse_games_from_file('../dsl/interactive-beta.pddl', grammar_parser, False, relative_path='..'))\n",
    "real_game_texts = [ast_printer.ast_to_string(ast, '\\n') for ast in game_asts]\n",
    "regrown_game_1024_texts = list(load_games_from_file('../dsl/ast-real-regrowth-samples-1024.pddl.gz'))\n",
    "print(len(real_game_texts), len(regrown_game_1024_texts), len(regrown_game_1024_texts) / 98)\n"
   ]
  },
  {
   "cell_type": "code",
   "execution_count": 4,
   "metadata": {},
   "outputs": [
    {
     "name": "stdout",
     "output_type": "stream",
     "text": [
      "['interactive-beta.pddl' 'ast-real-regrowth-samples-1024.pddl.gz']\n"
     ]
    },
    {
     "data": {
      "text/html": [
       "<div>\n",
       "<style scoped>\n",
       "    .dataframe tbody tr th:only-of-type {\n",
       "        vertical-align: middle;\n",
       "    }\n",
       "\n",
       "    .dataframe tbody tr th {\n",
       "        vertical-align: top;\n",
       "    }\n",
       "\n",
       "    .dataframe thead th {\n",
       "        text-align: right;\n",
       "    }\n",
       "</style>\n",
       "<table border=\"1\" class=\"dataframe\">\n",
       "  <thead>\n",
       "    <tr style=\"text-align: right;\">\n",
       "      <th></th>\n",
       "      <th>Index</th>\n",
       "      <th>src_file</th>\n",
       "      <th>game_name</th>\n",
       "      <th>domain_name</th>\n",
       "      <th>original_game_name</th>\n",
       "      <th>real</th>\n",
       "      <th>variables_defined_all</th>\n",
       "      <th>variables_defined_prop</th>\n",
       "      <th>variables_used_all</th>\n",
       "      <th>variables_used_prop</th>\n",
       "      <th>...</th>\n",
       "      <th>ast_ngram_constraints_n_4_score</th>\n",
       "      <th>ast_ngram_constraints_n_5_score</th>\n",
       "      <th>ast_ngram_terminal_n_2_score</th>\n",
       "      <th>ast_ngram_terminal_n_3_score</th>\n",
       "      <th>ast_ngram_terminal_n_4_score</th>\n",
       "      <th>ast_ngram_terminal_n_5_score</th>\n",
       "      <th>ast_ngram_scoring_n_2_score</th>\n",
       "      <th>ast_ngram_scoring_n_3_score</th>\n",
       "      <th>ast_ngram_scoring_n_4_score</th>\n",
       "      <th>ast_ngram_scoring_n_5_score</th>\n",
       "    </tr>\n",
       "  </thead>\n",
       "  <tbody>\n",
       "    <tr>\n",
       "      <th>0</th>\n",
       "      <td>0</td>\n",
       "      <td>interactive-beta.pddl</td>\n",
       "      <td>6172feb1665491d1efbce164-0</td>\n",
       "      <td>medium-objects-room-v1</td>\n",
       "      <td>6172feb1665491d1efbce164-0</td>\n",
       "      <td>1</td>\n",
       "      <td>1</td>\n",
       "      <td>1.0</td>\n",
       "      <td>1</td>\n",
       "      <td>1.0</td>\n",
       "      <td>...</td>\n",
       "      <td>0.968048</td>\n",
       "      <td>0.979128</td>\n",
       "      <td>0.968876</td>\n",
       "      <td>0.979584</td>\n",
       "      <td>0.980420</td>\n",
       "      <td>0.982740</td>\n",
       "      <td>0.919068</td>\n",
       "      <td>0.960887</td>\n",
       "      <td>0.998712</td>\n",
       "      <td>1.000000</td>\n",
       "    </tr>\n",
       "    <tr>\n",
       "      <th>1</th>\n",
       "      <td>1</td>\n",
       "      <td>interactive-beta.pddl</td>\n",
       "      <td>5f77754ba932fb2c4ba181d8-2</td>\n",
       "      <td>many-objects-room-v1</td>\n",
       "      <td>5f77754ba932fb2c4ba181d8-2</td>\n",
       "      <td>1</td>\n",
       "      <td>1</td>\n",
       "      <td>1.0</td>\n",
       "      <td>1</td>\n",
       "      <td>1.0</td>\n",
       "      <td>...</td>\n",
       "      <td>0.973823</td>\n",
       "      <td>0.978192</td>\n",
       "      <td>0.965107</td>\n",
       "      <td>0.976486</td>\n",
       "      <td>0.975603</td>\n",
       "      <td>0.983432</td>\n",
       "      <td>0.899002</td>\n",
       "      <td>0.914971</td>\n",
       "      <td>0.965387</td>\n",
       "      <td>0.974323</td>\n",
       "    </tr>\n",
       "    <tr>\n",
       "      <th>2</th>\n",
       "      <td>2</td>\n",
       "      <td>interactive-beta.pddl</td>\n",
       "      <td>614b603d4da88384282967a7-3</td>\n",
       "      <td>many-objects-room-v1</td>\n",
       "      <td>614b603d4da88384282967a7-3</td>\n",
       "      <td>1</td>\n",
       "      <td>1</td>\n",
       "      <td>1.0</td>\n",
       "      <td>1</td>\n",
       "      <td>1.0</td>\n",
       "      <td>...</td>\n",
       "      <td>0.945618</td>\n",
       "      <td>0.972216</td>\n",
       "      <td>0.000000</td>\n",
       "      <td>0.000000</td>\n",
       "      <td>0.000000</td>\n",
       "      <td>0.000000</td>\n",
       "      <td>0.850539</td>\n",
       "      <td>0.904462</td>\n",
       "      <td>0.948491</td>\n",
       "      <td>0.957243</td>\n",
       "    </tr>\n",
       "    <tr>\n",
       "      <th>3</th>\n",
       "      <td>3</td>\n",
       "      <td>interactive-beta.pddl</td>\n",
       "      <td>5bc79f652885710001a0e82a-5</td>\n",
       "      <td>few-objects-room-v1</td>\n",
       "      <td>5bc79f652885710001a0e82a-5</td>\n",
       "      <td>1</td>\n",
       "      <td>1</td>\n",
       "      <td>1.0</td>\n",
       "      <td>1</td>\n",
       "      <td>1.0</td>\n",
       "      <td>...</td>\n",
       "      <td>0.986638</td>\n",
       "      <td>0.980074</td>\n",
       "      <td>0.000000</td>\n",
       "      <td>0.000000</td>\n",
       "      <td>0.000000</td>\n",
       "      <td>0.000000</td>\n",
       "      <td>0.919068</td>\n",
       "      <td>0.960887</td>\n",
       "      <td>0.998712</td>\n",
       "      <td>1.000000</td>\n",
       "    </tr>\n",
       "    <tr>\n",
       "      <th>4</th>\n",
       "      <td>4</td>\n",
       "      <td>interactive-beta.pddl</td>\n",
       "      <td>614dec67f6eb129c3a77defd-6</td>\n",
       "      <td>medium-objects-room-v1</td>\n",
       "      <td>614dec67f6eb129c3a77defd-6</td>\n",
       "      <td>1</td>\n",
       "      <td>1</td>\n",
       "      <td>1.0</td>\n",
       "      <td>1</td>\n",
       "      <td>1.0</td>\n",
       "      <td>...</td>\n",
       "      <td>0.982992</td>\n",
       "      <td>0.979321</td>\n",
       "      <td>0.000000</td>\n",
       "      <td>0.000000</td>\n",
       "      <td>0.000000</td>\n",
       "      <td>0.000000</td>\n",
       "      <td>0.964519</td>\n",
       "      <td>0.971914</td>\n",
       "      <td>0.973287</td>\n",
       "      <td>0.964638</td>\n",
       "    </tr>\n",
       "  </tbody>\n",
       "</table>\n",
       "<p>5 rows × 385 columns</p>\n",
       "</div>"
      ],
      "text/plain": [
       "   Index               src_file                   game_name  \\\n",
       "0      0  interactive-beta.pddl  6172feb1665491d1efbce164-0   \n",
       "1      1  interactive-beta.pddl  5f77754ba932fb2c4ba181d8-2   \n",
       "2      2  interactive-beta.pddl  614b603d4da88384282967a7-3   \n",
       "3      3  interactive-beta.pddl  5bc79f652885710001a0e82a-5   \n",
       "4      4  interactive-beta.pddl  614dec67f6eb129c3a77defd-6   \n",
       "\n",
       "              domain_name          original_game_name  real  \\\n",
       "0  medium-objects-room-v1  6172feb1665491d1efbce164-0     1   \n",
       "1    many-objects-room-v1  5f77754ba932fb2c4ba181d8-2     1   \n",
       "2    many-objects-room-v1  614b603d4da88384282967a7-3     1   \n",
       "3     few-objects-room-v1  5bc79f652885710001a0e82a-5     1   \n",
       "4  medium-objects-room-v1  614dec67f6eb129c3a77defd-6     1   \n",
       "\n",
       "   variables_defined_all  variables_defined_prop  variables_used_all  \\\n",
       "0                      1                     1.0                   1   \n",
       "1                      1                     1.0                   1   \n",
       "2                      1                     1.0                   1   \n",
       "3                      1                     1.0                   1   \n",
       "4                      1                     1.0                   1   \n",
       "\n",
       "   variables_used_prop  ...  ast_ngram_constraints_n_4_score  \\\n",
       "0                  1.0  ...                         0.968048   \n",
       "1                  1.0  ...                         0.973823   \n",
       "2                  1.0  ...                         0.945618   \n",
       "3                  1.0  ...                         0.986638   \n",
       "4                  1.0  ...                         0.982992   \n",
       "\n",
       "   ast_ngram_constraints_n_5_score  ast_ngram_terminal_n_2_score  \\\n",
       "0                         0.979128                      0.968876   \n",
       "1                         0.978192                      0.965107   \n",
       "2                         0.972216                      0.000000   \n",
       "3                         0.980074                      0.000000   \n",
       "4                         0.979321                      0.000000   \n",
       "\n",
       "   ast_ngram_terminal_n_3_score  ast_ngram_terminal_n_4_score  \\\n",
       "0                      0.979584                      0.980420   \n",
       "1                      0.976486                      0.975603   \n",
       "2                      0.000000                      0.000000   \n",
       "3                      0.000000                      0.000000   \n",
       "4                      0.000000                      0.000000   \n",
       "\n",
       "   ast_ngram_terminal_n_5_score  ast_ngram_scoring_n_2_score  \\\n",
       "0                      0.982740                     0.919068   \n",
       "1                      0.983432                     0.899002   \n",
       "2                      0.000000                     0.850539   \n",
       "3                      0.000000                     0.919068   \n",
       "4                      0.000000                     0.964519   \n",
       "\n",
       "   ast_ngram_scoring_n_3_score  ast_ngram_scoring_n_4_score  \\\n",
       "0                     0.960887                     0.998712   \n",
       "1                     0.914971                     0.965387   \n",
       "2                     0.904462                     0.948491   \n",
       "3                     0.960887                     0.998712   \n",
       "4                     0.971914                     0.973287   \n",
       "\n",
       "   ast_ngram_scoring_n_5_score  \n",
       "0                     1.000000  \n",
       "1                     0.974323  \n",
       "2                     0.957243  \n",
       "3                     1.000000  \n",
       "4                     0.964638  \n",
       "\n",
       "[5 rows x 385 columns]"
      ]
     },
     "execution_count": 4,
     "metadata": {},
     "output_type": "execute_result"
    }
   ],
   "source": [
    "def extract_game_index(game_name: str):\n",
    "    first_dash = game_name.find('-')\n",
    "    second_dash = game_name.find('-', first_dash + 1)\n",
    "    index = game_name[first_dash + 1:second_dash] if second_dash != -1 else game_name[first_dash + 1:]\n",
    "    return int(index)\n",
    "\n",
    "\n",
    "def extract_negative_index(game_name: str):\n",
    "    first_dash = game_name.find('-')\n",
    "    second_dash = game_name.find('-', first_dash + 1)\n",
    "    if second_dash == -1:\n",
    "        return -1\n",
    "    \n",
    "    third_dash = game_name.find('-', second_dash + 1)\n",
    "    index = game_name[second_dash + 1:third_dash]\n",
    "    return int(index)\n",
    "\n",
    "\n",
    "fitness_df = utils.load_fitness_data('../data/fitness_features_1024_regrowths.csv.gz')\n",
    "\n",
    "# fitness_df = fitness_df.assign(real=fitness_df.real.astype('int'), game_index=fitness_df.game_name.apply(extract_game_index), \n",
    "#                                negative_index= fitness_df.game_name.apply(extract_negative_index), fake=~fitness_df.real.astype('int'))\n",
    "# fitness_df = fitness_df.sort_values(by=['fake', 'game_index', 'negative_index'], ignore_index=True).reset_index(drop=True)\n",
    "# fitness_df.drop(columns=['Index', 'fake', 'game_index', 'negative_index'], inplace=True)\n",
    "print(fitness_df.src_file.unique())\n",
    "fitness_df.head()"
   ]
  },
  {
   "cell_type": "code",
   "execution_count": 54,
   "metadata": {},
   "outputs": [
    {
     "name": "stdout",
     "output_type": "stream",
     "text": [
      "92\n"
     ]
    }
   ],
   "source": [
    "# USE_BINARIZED_FEATURES_MODEL = True\n",
    "\n",
    "# if USE_BINARIZED_FEATURES_MODEL:\n",
    "#     model_path = '../models/cv_binarized_model_2023_01_20.pkl.gz'\n",
    "#     data_df = binarized_df\n",
    "# else:\n",
    "#     model_path = '../models/cv_fitness_model_2023_01_20.pkl.gz'\n",
    "#     data_df = filtered_fitness_df\n",
    "from latest_model_paths import LATEST_FITNESS_FUNCTION_DATE_ID, LATEST_SPECIFIC_OBJECTS_FITNESS_FUNCTION_DATE_ID\n",
    "# model_date_id = LATEST_FITNESS_FUNCTION_DATE_ID\n",
    "# model_date_id = 'in_data_prop_categories_minimal_counting_grammar_use_seed_42_2023_09_19'\n",
    "# model_date_id = 'cv_fitness_model_in_data_prop_L1_categories_minimal_counting_grammar_use_seed_42_2023_09_19'\n",
    "model_date_id = '1_4_regrowths_in_data_prop_L2_categories_minimal_counting_grammar_use_seed_42_2023_09_19'\n",
    "\n",
    "\n",
    "if '1_4_regrowths' in model_date_id:\n",
    "    data_df = utils.load_fitness_data('../data/fitness_features_1024_regrowths_1_4_regrowths.csv.gz')\n",
    "\n",
    "else:\n",
    "    data_df = fitness_df\n",
    "\n",
    "cv_energy_model, feature_columns = utils.load_model_and_feature_columns(model_date_id)\n",
    "print(len(feature_columns))\n",
    "\n"
   ]
  },
  {
   "cell_type": "code",
   "execution_count": 55,
   "metadata": {},
   "outputs": [],
   "source": [
    "full_tensor = utils.df_to_tensor(data_df, feature_columns)\n",
    "if 'wrapper' in cv_energy_model.named_steps: cv_energy_model.named_steps['wrapper'].eval()\n",
    "full_tensor_scores = cv_energy_model.transform(full_tensor).detach()"
   ]
  },
  {
   "cell_type": "code",
   "execution_count": 56,
   "metadata": {},
   "outputs": [
    {
     "name": "stdout",
     "output_type": "stream",
     "text": [
      "Real game scores: -37.4805 ± 0.7780, min = -39.1366, median = -37.4604, max = -35.5461\n",
      "30th percentile negative energy: -33.27494812011719\n"
     ]
    }
   ],
   "source": [
    "real_game_scores = full_tensor_scores[:, 0]\n",
    "\n",
    "print(f'Real game scores: {real_game_scores.mean():.4f} ± {real_game_scores.std():.4f}, min = {real_game_scores.min():.4f}, median = {torch.median(real_game_scores):.4f}, max = {real_game_scores.max():.4f}')\n",
    "\n",
    "negatives_scores = full_tensor_scores[:, 1:]\n",
    "torch.quantile(negatives_scores.ravel(), torch.linspace(0, 1, 11))\n",
    "print(f'30th percentile negative energy: {torch.quantile(negatives_scores.ravel(), 0.3)}')"
   ]
  },
  {
   "cell_type": "code",
   "execution_count": 57,
   "metadata": {},
   "outputs": [
    {
     "data": {
      "text/plain": [
       "-0.015142775875905365"
      ]
     },
     "execution_count": 57,
     "metadata": {},
     "output_type": "execute_result"
    }
   ],
   "source": [
    "utils.evaluate_fitness_overall_ecdf(cv_energy_model, full_tensor)"
   ]
  },
  {
   "cell_type": "code",
   "execution_count": 58,
   "metadata": {},
   "outputs": [
    {
     "data": {
      "text/plain": [
       "<Figure size 400x400 with 0 Axes>"
      ]
     },
     "metadata": {},
     "output_type": "display_data"
    },
    {
     "data": {
      "image/png": "[encoded data removed]",
      "text/plain": [
       "<Figure size 640x480 with 1 Axes>"
      ]
     },
     "metadata": {},
     "output_type": "display_data"
    },
    {
     "name": "stdout",
     "output_type": "stream",
     "text": [
      "0.07035526693885702\n"
     ]
    }
   ],
   "source": [
    "from sklearn import metrics\n",
    "\n",
    "positive_scores_numpy = real_game_scores.numpy().reshape(-1)\n",
    "negative_scores_numpy = negatives_scores.numpy().reshape(-1)\n",
    "\n",
    "n_positives = len(positive_scores_numpy)\n",
    "n_negatives = len(negative_scores_numpy)\n",
    "\n",
    "labels = np.concatenate([np.ones(n_positives), np.zeros(n_negatives)])\n",
    "scores = np.concatenate([positive_scores_numpy, negative_scores_numpy]) * -1  # flipping the signs of the energies  # type: ignore\n",
    "\n",
    "\n",
    "plt.figure(figsize=(4, 4))\n",
    "metrics.PrecisionRecallDisplay.from_predictions(labels, scores)  # type: ignore\n",
    "plt.legend(loc='best')\n",
    "plt.show()\n",
    "\n",
    "print(metrics.average_precision_score(labels, scores))\n"
   ]
  },
  {
   "cell_type": "code",
   "execution_count": 59,
   "metadata": {},
   "outputs": [
    {
     "data": {
      "text/plain": [
       "<Figure size 400x400 with 0 Axes>"
      ]
     },
     "metadata": {},
     "output_type": "display_data"
    },
    {
     "data": {
      "image/png": "[encoded data removed]",
      "text/plain": [
       "<Figure size 640x480 with 1 Axes>"
      ]
     },
     "metadata": {},
     "output_type": "display_data"
    }
   ],
   "source": [
    "plt.figure(figsize=(4, 4))\n",
    "metrics.RocCurveDisplay.from_predictions(labels, scores)  # type: ignore\n",
    "plt.legend(loc='best')\n",
    "plt.show()"
   ]
  },
  {
   "cell_type": "code",
   "execution_count": 60,
   "metadata": {},
   "outputs": [
    {
     "data": {
      "text/plain": [
       "2.1722929292869533"
      ]
     },
     "execution_count": 60,
     "metadata": {},
     "output_type": "execute_result"
    }
   ],
   "source": [
    "positives_mean, positives_variance = positive_scores_numpy.mean(), positive_scores_numpy.var()\n",
    "negatives_mean, negatives_variance = negative_scores_numpy.mean(), negative_scores_numpy.var()\n",
    "\n",
    "-1 * (positives_mean - negatives_mean) / np.sqrt(0.5 * (positives_variance + negatives_variance))"
   ]
  },
  {
   "cell_type": "code",
   "execution_count": 61,
   "metadata": {},
   "outputs": [
    {
     "name": "stdout",
     "output_type": "stream",
     "text": [
      "tensor([0.0000, 0.1000, 0.2000, 0.3000, 0.4000, 0.5000, 0.6000, 0.7000, 0.8000,\n",
      "        0.9000, 1.0000])\n",
      "Energy deciles: tensor([-39.1366, -35.6089, -34.3544, -33.2749, -32.2417, -31.1149, -29.8624,\n",
      "        -28.3864, -26.5867, -23.8617,  -4.1844])\n"
     ]
    }
   ],
   "source": [
    "steps = torch.linspace(0, 1, 11)\n",
    "deciles = torch.quantile(negatives_scores.ravel(), steps)\n",
    "print(steps)\n",
    "print(f'Energy deciles: {deciles}')"
   ]
  },
  {
   "cell_type": "code",
   "execution_count": 62,
   "metadata": {},
   "outputs": [
    {
     "name": "stdout",
     "output_type": "stream",
     "text": [
      "Weights mean: -0.2463, std: 1.9240, bias: 0.0006\n"
     ]
    },
    {
     "data": {
      "image/png": "[encoded data removed]",
      "text/plain": [
       "<Figure size 640x480 with 1 Axes>"
      ]
     },
     "metadata": {},
     "output_type": "display_data"
    }
   ],
   "source": [
    "weights = cv_energy_model.named_steps['fitness'].model.fc1.weight.data.detach().squeeze()  # type: ignore\n",
    "bias = cv_energy_model.named_steps['fitness'].model.fc1.bias.data.detach().squeeze()  # type: ignore\n",
    "print(f'Weights mean: {weights.mean():.4f}, std: {weights.std():.4f}, bias: {bias:.4f}')\n",
    "\n",
    "plt.hist(weights, bins=30)\n",
    "plt.title('Energy model weights')\n",
    "plt.xlabel('Weight magnitude')\n",
    "plt.ylabel('Count')\n",
    "plt.show()"
   ]
  },
  {
   "cell_type": "code",
   "execution_count": 63,
   "metadata": {},
   "outputs": [
    {
     "data": {
      "text/plain": [
       "['ast_ngram_full_n_5_score',\n",
       " 'ast_ngram_setup_n_5_score',\n",
       " 'ast_ngram_constraints_n_5_score',\n",
       " 'ast_ngram_terminal_n_5_score',\n",
       " 'ast_ngram_scoring_n_5_score']"
      ]
     },
     "execution_count": 63,
     "metadata": {},
     "output_type": "execute_result"
    }
   ],
   "source": [
    "[f for f in feature_columns if 'n_5' in f]"
   ]
  },
  {
   "cell_type": "code",
   "execution_count": 64,
   "metadata": {},
   "outputs": [
    {
     "data": {
      "text/plain": [
       "tensor(0.1702)"
      ]
     },
     "execution_count": 64,
     "metadata": {},
     "output_type": "execute_result"
    }
   ],
   "source": [
    "weights.abs().max() / weights.abs().sum()"
   ]
  },
  {
   "cell_type": "code",
   "execution_count": 65,
   "metadata": {},
   "outputs": [
    {
     "data": {
      "text/markdown": [
       "### Features with largest negative weights (most predictive of real games):\n",
       "1. ast_ngram_full_n_5_score (-12.7858)\n",
       "2. ast_ngram_constraints_n_5_score (-9.3236)\n",
       "3. predicate_found_in_data_prop (-3.7407)\n",
       "4. ast_ngram_setup_n_5_score (-3.6852)\n",
       "5. variables_used_all (-2.2187)\n",
       "6. ast_ngram_scoring_n_5_score (-1.5726)\n",
       "7. preferences_used_all (-1.5595)\n",
       "8. max_depth_setup_0 (-1.4089)\n",
       "9. node_count_setup_0 (-1.4083)\n",
       "10. section_doesnt_exist_setup (-1.4015)\n",
       "11. disjoint_modal_predicates_found (-1.0632)\n",
       "12. ast_ngram_terminal_n_5_score (-0.8048)\n",
       "13. pref_forall_pref_forall_correct_arity_correct (-0.6482)\n",
       "14. preferences_used_prop (-0.5972)\n",
       "15. at_end_found (-0.5775)\n",
       "16. pref_forall_count_once_per_external_objects_used_correct (-0.5247)\n",
       "17. num_preferences_defined_1 (-0.5080)\n",
       "18. any_setup_objects_used (-0.4774)\n",
       "19. variables_used_prop (-0.4437)\n",
       "20. setup_objects_used (-0.4259)\n",
       "### Features with largest positive weights (most predictive of fake games):\n",
       "1. pref_forall_pref_forall_correct_types_incorrect (3.0816)\n",
       "2. pref_forall_used_incorrect (2.8253)\n",
       "3. repeated_variables_found (2.3608)\n",
       "4. disjoint_seq_funcs_found (2.2960)\n",
       "5. redundant_expression_found (2.2376)\n",
       "6. pref_forall_pref_forall_correct_arity_incorrect (1.6621)\n",
       "7. two_number_operation_found (1.4953)\n",
       "8. max_depth_setup_1 (0.9564)\n",
       "9. identical_consecutive_seq_func_predicates_found (0.8239)\n",
       "10. node_count_setup_3 (0.8219)\n",
       "11. pref_forall_used_correct (0.7422)\n",
       "12. num_preferences_defined_6 (0.6738)\n",
       "13. disjoint_preferences_found (0.6177)\n",
       "14. node_count_setup_2 (0.5556)\n",
       "15. redundant_scoring_terminal_expression_found (0.5522)\n",
       "16. node_count_scoring_1 (0.4586)\n",
       "17. repeated_variable_type_in_either (0.4475)\n",
       "18. max_depth_terminal_4 (0.3357)\n",
       "19. section_without_pref_or_total_count_terminal (0.3283)\n",
       "20. max_depth_setup_2 (0.2857)"
      ],
      "text/plain": [
       "<IPython.core.display.Markdown object>"
      ]
     },
     "metadata": {},
     "output_type": "display_data"
    }
   ],
   "source": [
    "K = 20\n",
    "top_features = torch.topk(weights, K)\n",
    "bottom_features = torch.topk(weights, K, largest=False)\n",
    "\n",
    "lines = []\n",
    "\n",
    "lines.append('### Features with largest negative weights (most predictive of real games):')\n",
    "for i in range(K):\n",
    "    lines.append(f'{i+1}. {feature_columns[bottom_features.indices[i]]} ({bottom_features.values[i]:.4f})')\n",
    "\n",
    "lines.append('### Features with largest positive weights (most predictive of fake games):')\n",
    "for i in range(K):\n",
    "    lines.append((f'{i+1}. {feature_columns[top_features.indices[i]]} ({top_features.values[i]:.4f})'))\n",
    "\n",
    "display(Markdown('\\n'.join(lines)))\n"
   ]
  },
  {
   "cell_type": "code",
   "execution_count": null,
   "metadata": {},
   "outputs": [],
   "source": [
    "quantiles = [0.1, 0.25, 0.5, 0.75, 0.9, 0.95, 0.99]\n",
    "quantile_index = 0\n",
    "\n",
    "abs_weights = weights.abs()\n",
    "\n",
    "for magnitude in torch.linspace(0,abs_weights.max(), 5000):\n",
    "    n = torch.sum(abs_weights < magnitude).item()\n",
    "    if n / len(weights) >= quantiles[quantile_index]:\n",
    "        print(f'Approximately {quantiles[quantile_index] * 100}% ({n}, {n / len(weights) * 100:.2f}%) of the weights have magnitude < {magnitude:.4f}')\n",
    "        quantile_index += 1\n",
    "\n",
    "    if quantile_index >= len(quantiles):\n",
    "        break"
   ]
  },
  {
   "cell_type": "code",
   "execution_count": null,
   "metadata": {},
   "outputs": [],
   "source": [
    "from src.fitness_features_by_category import *\n",
    "\n",
    "\n",
    "def print_weights_summary_by_category(model_weights: torch.Tensor, all_feature_columns: typing.List[str], return_lines: bool = False):\n",
    "    abs_weights = model_weights.abs()\n",
    "    sorted_feature_names = [t[1] for t in sorted([(abs_weights[i], all_feature_columns[i]) for i in range(len(all_feature_columns))], key=lambda x: x[0], reverse=True)]\n",
    "\n",
    "    lines = []\n",
    "    all_assigned_features = set()\n",
    "\n",
    "    for category, features in FEATURE_CATEGORIES.items():\n",
    "        category_feature_list = []\n",
    "        for feature in features:\n",
    "            if isinstance(feature, re.Pattern):\n",
    "                category_feature_list.extend([f for f in feature_columns if feature.match(f)])\n",
    "\n",
    "            else:\n",
    "                category_feature_list.append(feature)\n",
    "\n",
    "        all_assigned_features.update(category_feature_list)\n",
    "        \n",
    "        mean_abs_weight = np.mean([abs_weights[feature_columns.index(feature)] for feature in category_feature_list])\n",
    "        sum_abs_weight = np.sum([abs_weights[feature_columns.index(feature)] for feature in category_feature_list])\n",
    "        mean_sorted_index = np.mean([sorted_feature_names.index(feature) for feature in category_feature_list])\n",
    "        prefix = f'For category {category} with {len(category_feature_list)} features'\n",
    "        line = f'{prefix:54} | mean abs weight is {mean_abs_weight:5.2f} | sum abs weight is {sum_abs_weight:6.2f} | mean sorted index is {mean_sorted_index:6.2f}'\n",
    "        if return_lines:\n",
    "            lines.append(line)\n",
    "        else:\n",
    "            print(line)\n",
    "\n",
    "    unassigned_features = [f for f in feature_columns if f not in all_assigned_features]\n",
    "    if len(unassigned_features) > 0:\n",
    "        print(f'Unassigned features: {unassigned_features}')\n",
    "\n",
    "    if return_lines:\n",
    "        return lines\n"
   ]
  },
  {
   "cell_type": "code",
   "execution_count": null,
   "metadata": {},
   "outputs": [],
   "source": [
    "def print_mean_weight_by_category_pattern(model_weights: torch.Tensor, model_feature_columns: typing.List[str], \n",
    "                                          patterns: typing.Dict[str, re.Pattern], top_k: int = 3, prefix_width: int = 40,\n",
    "                                          sort_by: str = 'mean_abs_weight'):\n",
    "    \n",
    "    abs_weights = model_weights.abs()\n",
    "    lines_and_weights = []\n",
    "    for name, pattern in patterns.items():\n",
    "        feature_indices = [i for i, feature in enumerate(model_feature_columns) if pattern.match(feature)]\n",
    "        if len(feature_indices) == 0:\n",
    "            continue\n",
    "        mean_abs_weight = abs_weights[feature_indices].mean().item()\n",
    "        max_abs_weight = abs_weights[feature_indices].max().item()\n",
    "        k = top_k\n",
    "        if k > len(feature_indices):\n",
    "            k = len(feature_indices)\n",
    "        mean_top_k_abs_weight = abs_weights[feature_indices].topk(k).values.mean().item()\n",
    "        prefix = f'For \"{name}\" features'.ljust(prefix_width)\n",
    "        line = f'{prefix} | {len(feature_indices):2} features | mean weight = {mean_abs_weight:2.3f} | mean top {k} weights = {mean_top_k_abs_weight:2.3f} | max weight = {max_abs_weight:2.3f}'\n",
    "        if sort_by == 'mean_abs_weight':\n",
    "            sort_key = mean_abs_weight\n",
    "        elif sort_by == 'mean_top_k_abs_weight':\n",
    "            sort_key = mean_top_k_abs_weight\n",
    "        elif sort_by == 'max_abs_weight':\n",
    "            sort_key = max_abs_weight\n",
    "        else:\n",
    "            raise ValueError(f'Unknown sort_by value {sort_by}')\n",
    "        \n",
    "        lines_and_weights.append((line, sort_key))\n",
    "\n",
    "    lines_and_weights.sort(key=lambda x: x[1], reverse=True)\n",
    "    for line, _ in lines_and_weights:\n",
    "        print(line)\n",
    "\n",
    "\n",
    "\n",
    "def print_top_features_by_category(model_weights: torch.Tensor, model_feature_columns: typing.List[str], category: str, k: int = 10):\n",
    "    category = category.lower()\n",
    "    if category not in FEATURE_CATEGORIES:\n",
    "        raise ValueError(f'Category {category} not found')\n",
    "    \n",
    "    category_features = []\n",
    "    for category_feature_or_pattern in FEATURE_CATEGORIES[category]:\n",
    "        if isinstance(category_feature_or_pattern, re.Pattern):\n",
    "            category_features.extend([f for f in model_feature_columns if category_feature_or_pattern.match(f)])\n",
    "        else:\n",
    "            category_features.append(category_feature_or_pattern)\n",
    "\n",
    "    sorted_features = sorted([(model_weights[i], model_feature_columns[i]) for i in range(len(model_feature_columns))], key=lambda x: x[0], reverse=False)\n",
    "    sorted_category_features = [f for f in sorted_features if f[1] in category_features]\n",
    "\n",
    "    lines = []\n",
    "\n",
    "    lines.append(f'### {category.capitalize()} features with largest negative weights:')\n",
    "    for i in range(k):\n",
    "        lines.append(f'{i+1}. {sorted_category_features[i][1]} ({sorted_category_features[i][0]:.4f})')\n",
    "\n",
    "    lines.append(f'### {category.capitalize()} features with largest positive weights:')\n",
    "    for i in range(k):\n",
    "        lines.append(f'{i+1}. {sorted_category_features[-(i + 1)][1]} ({sorted_category_features[-(i + 1)][0]:.4f})')\n",
    "\n",
    "    display(Markdown('\\n'.join(lines)))\n",
    "\n",
    "\n",
    "def print_weights_in_category(model_weights: torch.Tensor, model_feature_columns: typing.List[str], category: str, model_note: typing.Optional[str] = None, \n",
    "                              small_threshold: float = 1e-2, large_threshold: float = 1e-1):\n",
    "    category = category.lower()\n",
    "    if category not in FEATURE_CATEGORIES:\n",
    "        raise ValueError(f'Category {category} not found')\n",
    "    \n",
    "    category_features = []\n",
    "    for category_feature_or_pattern in FEATURE_CATEGORIES[category]:\n",
    "        if isinstance(category_feature_or_pattern, re.Pattern):\n",
    "            category_features.extend([f for f in model_feature_columns if category_feature_or_pattern.match(f)])\n",
    "        else:\n",
    "            category_features.append(category_feature_or_pattern)\n",
    "\n",
    "    sorted_features = sorted([(model_weights[i], model_feature_columns[i]) for i in range(len(model_feature_columns))], key=lambda x: x[0], reverse=False)\n",
    "    sorted_category_features = [f for f in sorted_features if f[1] in category_features]\n",
    "\n",
    "    lines = []\n",
    "    if model_note is not None:\n",
    "        lines.append(f'### {category.capitalize()} features by weight ({model_note}):')\n",
    "    else:    \n",
    "        lines.append(f'### {category.capitalize()} features by weight:')\n",
    "    for i, (weight, feature) in enumerate(sorted_category_features):\n",
    "        threshold_marker = \"\"\n",
    "        if weight.abs() > large_threshold:\n",
    "            threshold_marker = \"**\"\n",
    "        elif weight.abs() > small_threshold:\n",
    "            threshold_marker = \"*\"\n",
    "        lines.append(f'{i+1}. {feature} ({weight:.4f}){threshold_marker}')\n",
    "\n",
    "    display(Markdown('\\n'.join(lines)))\n",
    "\n",
    "\n",
    "def get_model_weights(model):\n",
    "    return model.named_steps['fitness'].model.fc1.weight.data.detach().squeeze()\n"
   ]
  },
  {
   "cell_type": "code",
   "execution_count": null,
   "metadata": {},
   "outputs": [],
   "source": [
    "print_weights_in_category(get_model_weights(cv_energy_model), feature_columns, 'grammar_use')"
   ]
  },
  {
   "cell_type": "code",
   "execution_count": null,
   "metadata": {},
   "outputs": [],
   "source": [
    "dates_and_names = [\n",
    "    ('2023_09_13', 'fitness_sweep_1_4_regrowths_no_in_data_all_L1_categories_minimal_counting_seed_33'),\n",
    "    ('2023_09_13', 'fitness_sweep_1_4_regrowths_no_in_data_all_L1_categories_minimal_counting_seed_42'),\n",
    "    ('2023_09_13', 'fitness_sweep_1_4_regrowths_no_in_data_all_L1_categories_minimal_counting_seed_66'),\n",
    "]\n",
    "\n",
    "final_model_names = [\n",
    "    '1_4_regrowths_no_in_data_all_L1_categories_minimal_counting_seed_33_2023_09_13',\n",
    "    '1_4_regrowths_no_in_data_all_L1_categories_minimal_counting_seed_42_2023_09_13',\n",
    "    '1_4_regrowths_no_in_data_all_L1_categories_minimal_counting_seed_66_2023_09_13',\n",
    "]\n",
    "\n",
    "\n",
    "for model_identifier in final_model_names:\n",
    "# for model_identifier in dates_and_names:\n",
    "    # display(Markdown(f'## {name}'))\n",
    "    current_cv_data = None\n",
    "    if isinstance(model_identifier, tuple):\n",
    "        date_id, name = model_identifier\n",
    "        current_cv_data = utils.load_data(date_id, 'data/fitness_cv', name)\n",
    "        current_model = current_cv_data['cv'].best_estimator_\n",
    "        current_feature_columns = current_cv_data['feature_columns']\n",
    "\n",
    "    else:\n",
    "        current_model, current_feature_columns = utils.load_model_and_feature_columns(model_identifier)\n",
    "    # print_top_features_by_category(get_model_weights(l1_with_counting_cv_data['cv'].best_estimator_), l1_with_counting_cv_data['feature_columns'], 'counting', k=10)\n",
    "\n",
    "    # print(f'For model {model_identifier}: {current_cv_data[\"cv\"].best_params_}')\n",
    "\n",
    "    model_note = None\n",
    "    if current_cv_data is not None:\n",
    "        model_note = f\"L1 = {current_cv_data['cv'].best_params_['fitness__regularization_weight']:1.2f}\"\n",
    "\n",
    "    print_weights_in_category(get_model_weights(current_model), current_feature_columns, 'grammar_use',\n",
    "                              model_note=model_note)\n",
    "\n",
    "    # print_mean_weight_by_category_pattern(\n",
    "    #     get_model_weights(current_model),\n",
    "    #     current_feature_columns, COUNTING_FEATURES_PATTERN_DICT,\n",
    "    #     sort_by='mean_abs_weight',\n",
    "    # )\n",
    "    # print()"
   ]
  },
  {
   "cell_type": "code",
   "execution_count": null,
   "metadata": {},
   "outputs": [],
   "source": [
    "dates_and_names = [\n",
    "    ('2023_09_13', 'fitness_sweep_no_in_data_all_L1_categories_minimal_counting_seed_33'),\n",
    "    ('2023_09_13', 'fitness_sweep_no_in_data_all_L1_categories_minimal_counting_seed_42'),\n",
    "    ('2023_09_13', 'fitness_sweep_no_in_data_all_L1_categories_minimal_counting_seed_66'),\n",
    "]\n",
    "\n",
    "final_model_names = [\n",
    "    'no_in_data_all_L1_categories_minimal_counting_seed_33_2023_09_13',\n",
    "    'no_in_data_all_L1_categories_minimal_counting_seed_42_2023_09_13',\n",
    "    'no_in_data_all_L1_categories_minimal_counting_seed_66_2023_09_13',\n",
    "]\n",
    "\n",
    "\n",
    "# for model_identifier in final_model_names:\n",
    "for model_identifier in dates_and_names:\n",
    "    # display(Markdown(f'## {name}'))\n",
    "    current_cv_data = None\n",
    "    if isinstance(model_identifier, tuple):\n",
    "        date_id, name = model_identifier\n",
    "        current_cv_data = utils.load_data(date_id, 'data/fitness_cv', name)\n",
    "        current_model = current_cv_data['cv'].best_estimator_\n",
    "        current_feature_columns = current_cv_data['feature_columns']\n",
    "\n",
    "    else:\n",
    "        current_model, current_feature_columns = utils.load_model_and_feature_columns(model_identifier)\n",
    "    # print_top_features_by_category(get_model_weights(l1_with_counting_cv_data['cv'].best_estimator_), l1_with_counting_cv_data['feature_columns'], 'counting', k=10)\n",
    "\n",
    "    # print(f'For model {model_identifier}: {current_cv_data[\"cv\"].best_params_}')\n",
    "\n",
    "    model_note = None\n",
    "    if current_cv_data is not None:\n",
    "        model_note = f\"L1 = {current_cv_data['cv'].best_params_['fitness__regularization_weight']:1.2f}\"\n",
    "\n",
    "    print_weights_in_category(get_model_weights(current_model), current_feature_columns, 'grammar_use',\n",
    "                              model_note=model_note)\n",
    "\n",
    "    # print_mean_weight_by_category_pattern(\n",
    "    #     get_model_weights(current_model),\n",
    "    #     current_feature_columns, COUNTING_FEATURES_PATTERN_DICT,\n",
    "    #     sort_by='mean_abs_weight',\n",
    "    # )\n",
    "    # print()"
   ]
  },
  {
   "cell_type": "code",
   "execution_count": null,
   "metadata": {},
   "outputs": [],
   "source": []
  },
  {
   "cell_type": "code",
   "execution_count": null,
   "metadata": {},
   "outputs": [],
   "source": [
    "with_counting_dates_and_names = [\n",
    "    ('2023_09_05', 'fitness_sweep_full_features_no_in_data_all_L1_categories_with_counting'),\n",
    "    ('2023_09_07_1', 'fitness_sweep_full_features_no_in_data_all_L1_categories_with_role_filler'),  # I mucked up the names here\n",
    "    ('2023_09_07', 'fitness_sweep_full_features_no_in_data_all_L1_categories_with_role_filler'), # I mucked up the names here\n",
    "]\n",
    "\n",
    "with_counting_final_model_date_ids = [\n",
    "    'full_features_no_in_data_all_L1_categories_with_counting_2023_09_05',\n",
    "    'full_features_no_in_data_all_L1_categories_with_role_filler_seed_42_2023_09_07', # I mucked up the names here\n",
    "    'full_features_no_in_data_all_L1_categories_with_role_filler_seed_66_2023_09_07' # I mucked up the names here\n",
    "]\n",
    "\n",
    "# for model_identifier in with_counting_dates_and_names:\n",
    "for model_identifier in with_counting_final_model_date_ids:\n",
    "    # display(Markdown(f'## {name}'))\n",
    "    if isinstance(model_identifier, tuple):\n",
    "        date_id, name = model_identifier\n",
    "        current_cv_data = utils.load_data(date_id, 'data/fitness_cv', name)\n",
    "        current_model = current_cv_data['cv'].best_estimator_\n",
    "        current_feature_columns = current_cv_data['feature_columns']\n",
    "\n",
    "    else:\n",
    "        current_model, current_feature_columns = utils.load_model_and_feature_columns(model_identifier)\n",
    "    # print_top_features_by_category(get_model_weights(l1_with_counting_cv_data['cv'].best_estimator_), l1_with_counting_cv_data['feature_columns'], 'counting', k=10)\n",
    "\n",
    "    print_mean_weight_by_category_pattern(\n",
    "        get_model_weights(current_model),\n",
    "        current_feature_columns, COUNTING_FEATURES_PATTERN_DICT,\n",
    "        sort_by='mean_abs_weight',\n",
    "    )\n",
    "    print()"
   ]
  },
  {
   "cell_type": "code",
   "execution_count": null,
   "metadata": {},
   "outputs": [],
   "source": [
    "with_role_filler_dates_and_names = [\n",
    "    ('2023_09_05', 'fitness_sweep_full_features_no_in_data_all_L1_categories_with_role_filler'),\n",
    "    ('2023_09_07_1', 'fitness_sweep_full_features_no_in_data_all_L1_categories_with_counting'),  # I mucked up the names here\n",
    "    ('2023_09_07', 'fitness_sweep_full_features_no_in_data_all_L1_categories_with_counting'), # I mucked up the names here\n",
    "]\n",
    "\n",
    "with_role_filler_final_model_date_ids = [\n",
    "    'full_features_no_in_data_all_L1_categories_with_role_filler_2023_09_05',\n",
    "    'full_features_no_in_data_all_L1_categories_with_counting_seed_42_2023_09_07', # I mucked up the names here\n",
    "    'full_features_no_in_data_all_L1_categories_with_counting_seed_66_2023_09_07' # I mucked up the names here\n",
    "]\n",
    "\n",
    "# for model_identifier in with_role_filler_dates_and_names:\n",
    "for model_identifier in with_role_filler_final_model_date_ids:\n",
    "    # display(Markdown(f'## {name}'))\n",
    "    if isinstance(model_identifier, tuple):\n",
    "        date_id, name = model_identifier\n",
    "        current_cv_data = utils.load_data(date_id, 'data/fitness_cv', name)\n",
    "        current_model = current_cv_data['cv'].best_estimator_\n",
    "        current_feature_columns = current_cv_data['feature_columns']\n",
    "\n",
    "    else:\n",
    "        current_model, current_feature_columns = utils.load_model_and_feature_columns(model_identifier)\n",
    "    # print_top_features_by_category(get_model_weights(l1_with_counting_cv_data['cv'].best_estimator_), l1_with_counting_cv_data['feature_columns'], 'counting', k=10)\n",
    "\n",
    "    print_mean_weight_by_category_pattern(\n",
    "        get_model_weights(current_model),\n",
    "        current_feature_columns, PREDICATE_ROLE_FILLER_PATTERN_DICT,\n",
    "        sort_by='mean_abs_weight',\n",
    "    )\n",
    "    print()"
   ]
  },
  {
   "cell_type": "code",
   "execution_count": null,
   "metadata": {},
   "outputs": [],
   "source": []
  },
  {
   "cell_type": "code",
   "execution_count": null,
   "metadata": {},
   "outputs": [],
   "source": []
  },
  {
   "cell_type": "code",
   "execution_count": null,
   "metadata": {},
   "outputs": [],
   "source": []
  },
  {
   "cell_type": "code",
   "execution_count": null,
   "metadata": {},
   "outputs": [],
   "source": []
  },
  {
   "cell_type": "markdown",
   "metadata": {},
   "source": [
    "## Looking at comparing the models on the negatives from the test set"
   ]
  },
  {
   "cell_type": "code",
   "execution_count": null,
   "metadata": {},
   "outputs": [],
   "source": []
  },
  {
   "cell_type": "code",
   "execution_count": null,
   "metadata": {},
   "outputs": [],
   "source": []
  },
  {
   "cell_type": "code",
   "execution_count": null,
   "metadata": {},
   "outputs": [],
   "source": [
    "no_reg_sweep_data = utils.load_data('2023_08_29', 'data/fitness_cv', 'fitness_sweep_full_features_no_in_data_all')\n",
    "print(no_reg_sweep_data.keys())\n",
    "no_reg_test_scores = no_reg_sweep_data['cv'].best_estimator_.transform(no_reg_sweep_data['test_tensor'])\n",
    "no_reg_test_real_game_scores = no_reg_test_scores[:, 0]\n",
    "no_reg_test_negatives_scores = no_reg_test_scores[:, 1:]\n",
    "\n",
    "no_reg_argsort = torch.argsort(no_reg_test_negatives_scores.ravel())\n",
    "no_reg_position_to_index = torch.zeros_like(no_reg_argsort)\n",
    "no_reg_position_to_index[no_reg_argsort] = torch.arange(len(no_reg_argsort))\n",
    "\n",
    "no_reg_indices_with_better_negative = set(torch.where((no_reg_test_negatives_scores < no_reg_test_real_game_scores[:, None, :]).ravel())[0].numpy())\n",
    "print(len(no_reg_indices_with_better_negative))\n",
    "\n",
    "\n",
    "\n",
    "l1_sweep_data = utils.load_data('2023_08_29', 'data/fitness_cv', 'fitness_sweep_full_features_no_in_data_all_L1')\n",
    "l1_test_scores = l1_sweep_data['cv'].best_estimator_.transform(l1_sweep_data['test_tensor'])\n",
    "l1_test_real_game_scores = l1_test_scores[:, 0]\n",
    "l1_test_negatives_scores = l1_test_scores[:, 1:]\n",
    "\n",
    "l1_argsort = torch.argsort(l1_test_negatives_scores.ravel())\n",
    "l1_position_to_index = torch.zeros_like(l1_argsort)\n",
    "l1_position_to_index[l1_argsort] = torch.arange(len(l1_argsort))\n",
    "\n",
    "l1_indices_with_better_negative = set(torch.where((l1_test_negatives_scores < l1_test_real_game_scores[:, None, :]).ravel())[0].numpy())\n",
    "print(len(l1_indices_with_better_negative))"
   ]
  },
  {
   "cell_type": "code",
   "execution_count": null,
   "metadata": {},
   "outputs": [],
   "source": [
    "utils.plot_energy_histogram(\n",
    "    no_reg_sweep_data['cv'], \n",
    "    no_reg_sweep_data['train_tensor'], \n",
    "    no_reg_sweep_data['test_tensor'],\n",
    "    histogram_title_note='no regularization')\n",
    "\n",
    "utils.plot_energy_histogram(\n",
    "    l1_sweep_data['cv'],\n",
    "    l1_sweep_data['train_tensor'],\n",
    "    l1_sweep_data['test_tensor'],\n",
    "    histogram_title_note='L1 regularization')"
   ]
  },
  {
   "cell_type": "code",
   "execution_count": null,
   "metadata": {},
   "outputs": [],
   "source": [
    "better_negative_both = no_reg_indices_with_better_negative.intersection(l1_indices_with_better_negative)\n",
    "better_negative_l1_only = l1_indices_with_better_negative.difference(no_reg_indices_with_better_negative)\n",
    "better_negative_no_reg_only = no_reg_indices_with_better_negative.difference(l1_indices_with_better_negative)\n",
    "\n",
    "print(f'Both: {len(better_negative_both)}, L1 only: {len(better_negative_l1_only)}, No reg only: {len(better_negative_no_reg_only)}')"
   ]
  },
  {
   "cell_type": "code",
   "execution_count": null,
   "metadata": {},
   "outputs": [],
   "source": []
  },
  {
   "cell_type": "code",
   "execution_count": null,
   "metadata": {},
   "outputs": [],
   "source": [
    "index_diffs = no_reg_position_to_index - l1_position_to_index\n",
    "index_diffs.topk(10, largest=False)"
   ]
  },
  {
   "cell_type": "code",
   "execution_count": null,
   "metadata": {},
   "outputs": [],
   "source": [
    "utils.evaluate_energy_contributions(cv_energy_model, full_tensor, 987, \n",
    "        feature_columns, full_tensor, real_game_texts, regrown_game_1024_texts, display_features_diff=False, min_display_threshold=0.001)\n",
    "    \n"
   ]
  },
  {
   "cell_type": "code",
   "execution_count": null,
   "metadata": {},
   "outputs": [],
   "source": [
    "utils.evaluate_energy_contributions(l1_model, full_tensor, 987, \n",
    "        feature_columns, full_tensor, real_game_texts, regrown_game_1024_texts, display_features_diff=False, min_display_threshold=0.001)\n",
    "    \n"
   ]
  },
  {
   "cell_type": "code",
   "execution_count": null,
   "metadata": {},
   "outputs": [],
   "source": [
    "l1_categories_sweep_data = utils.load_data('2023_09_01', 'data/fitness_cv', 'fitness_sweep_full_features_no_in_data_all_L1_categories')"
   ]
  },
  {
   "cell_type": "code",
   "execution_count": null,
   "metadata": {},
   "outputs": [],
   "source": [
    "utils.visualize_cv_outputs(\n",
    "    l1_categories_sweep_data['cv'],\n",
    "    l1_categories_sweep_data['train_tensor'],\n",
    "    l1_categories_sweep_data['test_tensor']\n",
    ")\n",
    "\n"
   ]
  }
 ],
 "metadata": {
  "kernelspec": {
   "display_name": "game-gen",
   "language": "python",
   "name": "python3"
  },
  "language_info": {
   "codemirror_mode": {
    "name": "ipython",
    "version": 3
   },
   "file_extension": ".py",
   "mimetype": "text/x-python",
   "name": "python",
   "nbconvert_exporter": "python",
   "pygments_lexer": "ipython3",
   "version": "3.10.8"
  },
  "orig_nbformat": 4
 },
 "nbformat": 4,
 "nbformat_minor": 2
}
