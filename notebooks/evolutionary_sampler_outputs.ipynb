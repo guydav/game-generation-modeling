{
 "cells": [
  {
   "cell_type": "code",
   "execution_count": 2,
   "metadata": {},
   "outputs": [],
   "source": [
    "%autoreload 2"
   ]
  },
  {
   "cell_type": "code",
   "execution_count": 3,
   "metadata": {},
   "outputs": [],
   "source": [
    "from collections import defaultdict\n",
    "from argparse import Namespace\n",
    "import copy\n",
    "import gzip\n",
    "import itertools\n",
    "import os\n",
    "import pickle\n",
    "import sys\n",
    "import typing\n",
    "\n",
    "import matplotlib\n",
    "import matplotlib.pyplot as plt\n",
    "import numpy as np\n",
    "import pandas as pd\n",
    "import tatsu\n",
    "import tatsu.ast\n",
    "import torch\n",
    "import torch.nn as nn\n",
    "import torch.nn.functional as F\n",
    "from torch.utils.data import TensorDataset, DataLoader\n",
    "import tqdm\n",
    "import sklearn\n",
    "from sklearn.model_selection import GridSearchCV, train_test_split, KFold\n",
    "from sklearn.pipeline import Pipeline\n",
    "\n",
    "sys.path.append(os.path.abspath('..'))\n",
    "sys.path.append(os.path.abspath('../src'))\n",
    "from src.ast_utils import _extract_game_id\n",
    "from src import fitness_energy_utils as utils\n",
    "from src.fitness_energy_utils import NON_FEATURE_COLUMNS\n",
    "from src.fitness_features import *\n",
    "from src.ast_counter_sampler import *\n",
    "from src.evolutionary_sampler import *"
   ]
  },
  {
   "cell_type": "code",
   "execution_count": 4,
   "metadata": {},
   "outputs": [],
   "source": [
    "grammar = open('../dsl/dsl.ebnf').read()\n",
    "grammar_parser = tatsu.compile(grammar)\n",
    "game_asts = list(cached_load_and_parse_games_from_file('../dsl/interactive-beta.pddl', grammar_parser, False, relative_path='..'))\n",
    "real_game_texts = [ast_printer.ast_to_string(ast, '\\n') for ast in game_asts]\n",
    "# regrown_game_texts = list(load_games_from_file('../dsl/ast-real-regrowth-samples.pddl'))\n",
    "# regrown_game_1024_texts = list(load_games_from_file('../dsl/ast-real-regrowth-samples-1024.pddl'))\n",
    "# print(len(real_game_texts), len(regrown_game_texts), len(regrown_game_texts) / 98, len(regrown_game_1024_texts), len(regrown_game_1024_texts) / 98)\n"
   ]
  },
  {
   "cell_type": "code",
   "execution_count": 5,
   "metadata": {},
   "outputs": [
    {
     "name": "stdout",
     "output_type": "stream",
     "text": [
      "['interactive-beta.pddl' 'ast-real-regrowth-samples-1024.pddl']\n"
     ]
    },
    {
     "data": {
      "text/html": [
       "<div>\n",
       "<style scoped>\n",
       "    .dataframe tbody tr th:only-of-type {\n",
       "        vertical-align: middle;\n",
       "    }\n",
       "\n",
       "    .dataframe tbody tr th {\n",
       "        vertical-align: top;\n",
       "    }\n",
       "\n",
       "    .dataframe thead th {\n",
       "        text-align: right;\n",
       "    }\n",
       "</style>\n",
       "<table border=\"1\" class=\"dataframe\">\n",
       "  <thead>\n",
       "    <tr style=\"text-align: right;\">\n",
       "      <th></th>\n",
       "      <th>Index</th>\n",
       "      <th>src_file</th>\n",
       "      <th>game_name</th>\n",
       "      <th>domain_name</th>\n",
       "      <th>original_game_name</th>\n",
       "      <th>real</th>\n",
       "      <th>all_variables_defined</th>\n",
       "      <th>all_variables_used</th>\n",
       "      <th>all_preferences_used</th>\n",
       "      <th>setup_objects_used</th>\n",
       "      <th>...</th>\n",
       "      <th>ast_ngram_constraints_n_6_score</th>\n",
       "      <th>ast_ngram_constraints_n_7_score</th>\n",
       "      <th>ast_ngram_terminal_n_2_score</th>\n",
       "      <th>ast_ngram_terminal_n_3_score</th>\n",
       "      <th>ast_ngram_terminal_n_4_score</th>\n",
       "      <th>ast_ngram_terminal_n_5_score</th>\n",
       "      <th>ast_ngram_scoring_n_2_score</th>\n",
       "      <th>ast_ngram_scoring_n_3_score</th>\n",
       "      <th>ast_ngram_scoring_n_4_score</th>\n",
       "      <th>ast_ngram_scoring_n_5_score</th>\n",
       "    </tr>\n",
       "  </thead>\n",
       "  <tbody>\n",
       "    <tr>\n",
       "      <th>0</th>\n",
       "      <td>0</td>\n",
       "      <td>interactive-beta.pddl</td>\n",
       "      <td>6172feb1665491d1efbce164-0</td>\n",
       "      <td>medium-objects-room-v1</td>\n",
       "      <td>6172feb1665491d1efbce164-0</td>\n",
       "      <td>1</td>\n",
       "      <td>1</td>\n",
       "      <td>1</td>\n",
       "      <td>1</td>\n",
       "      <td>1.00</td>\n",
       "      <td>...</td>\n",
       "      <td>0.975856</td>\n",
       "      <td>0.984382</td>\n",
       "      <td>0.970248</td>\n",
       "      <td>0.981414</td>\n",
       "      <td>0.981920</td>\n",
       "      <td>0.983617</td>\n",
       "      <td>0.919078</td>\n",
       "      <td>0.915602</td>\n",
       "      <td>0.974574</td>\n",
       "      <td>0.987096</td>\n",
       "    </tr>\n",
       "    <tr>\n",
       "      <th>1</th>\n",
       "      <td>1</td>\n",
       "      <td>interactive-beta.pddl</td>\n",
       "      <td>5f77754ba932fb2c4ba181d8-2</td>\n",
       "      <td>many-objects-room-v1</td>\n",
       "      <td>5f77754ba932fb2c4ba181d8-2</td>\n",
       "      <td>1</td>\n",
       "      <td>1</td>\n",
       "      <td>1</td>\n",
       "      <td>1</td>\n",
       "      <td>1.00</td>\n",
       "      <td>...</td>\n",
       "      <td>0.985632</td>\n",
       "      <td>0.986181</td>\n",
       "      <td>0.966645</td>\n",
       "      <td>0.978594</td>\n",
       "      <td>0.977472</td>\n",
       "      <td>0.984273</td>\n",
       "      <td>0.921563</td>\n",
       "      <td>0.931860</td>\n",
       "      <td>0.945369</td>\n",
       "      <td>0.962067</td>\n",
       "    </tr>\n",
       "    <tr>\n",
       "      <th>2</th>\n",
       "      <td>2</td>\n",
       "      <td>interactive-beta.pddl</td>\n",
       "      <td>614b603d4da88384282967a7-3</td>\n",
       "      <td>many-objects-room-v1</td>\n",
       "      <td>614b603d4da88384282967a7-3</td>\n",
       "      <td>1</td>\n",
       "      <td>1</td>\n",
       "      <td>1</td>\n",
       "      <td>1</td>\n",
       "      <td>0.00</td>\n",
       "      <td>...</td>\n",
       "      <td>0.975984</td>\n",
       "      <td>0.980604</td>\n",
       "      <td>0.000000</td>\n",
       "      <td>0.000000</td>\n",
       "      <td>0.000000</td>\n",
       "      <td>0.000000</td>\n",
       "      <td>0.844787</td>\n",
       "      <td>0.858832</td>\n",
       "      <td>0.923039</td>\n",
       "      <td>0.942307</td>\n",
       "    </tr>\n",
       "    <tr>\n",
       "      <th>3</th>\n",
       "      <td>3</td>\n",
       "      <td>interactive-beta.pddl</td>\n",
       "      <td>5bc79f652885710001a0e82a-5</td>\n",
       "      <td>few-objects-room-v1</td>\n",
       "      <td>5bc79f652885710001a0e82a-5</td>\n",
       "      <td>1</td>\n",
       "      <td>1</td>\n",
       "      <td>1</td>\n",
       "      <td>1</td>\n",
       "      <td>0.00</td>\n",
       "      <td>...</td>\n",
       "      <td>0.986042</td>\n",
       "      <td>0.985931</td>\n",
       "      <td>0.000000</td>\n",
       "      <td>0.000000</td>\n",
       "      <td>0.000000</td>\n",
       "      <td>0.000000</td>\n",
       "      <td>0.919078</td>\n",
       "      <td>0.915602</td>\n",
       "      <td>0.974574</td>\n",
       "      <td>0.987096</td>\n",
       "    </tr>\n",
       "    <tr>\n",
       "      <th>4</th>\n",
       "      <td>4</td>\n",
       "      <td>interactive-beta.pddl</td>\n",
       "      <td>614dec67f6eb129c3a77defd-6</td>\n",
       "      <td>medium-objects-room-v1</td>\n",
       "      <td>614dec67f6eb129c3a77defd-6</td>\n",
       "      <td>1</td>\n",
       "      <td>1</td>\n",
       "      <td>1</td>\n",
       "      <td>1</td>\n",
       "      <td>0.25</td>\n",
       "      <td>...</td>\n",
       "      <td>0.984624</td>\n",
       "      <td>0.983172</td>\n",
       "      <td>0.000000</td>\n",
       "      <td>0.000000</td>\n",
       "      <td>0.000000</td>\n",
       "      <td>0.000000</td>\n",
       "      <td>0.976741</td>\n",
       "      <td>0.978090</td>\n",
       "      <td>0.970715</td>\n",
       "      <td>0.987147</td>\n",
       "    </tr>\n",
       "  </tbody>\n",
       "</table>\n",
       "<p>5 rows × 356 columns</p>\n",
       "</div>"
      ],
      "text/plain": [
       "   Index               src_file                   game_name  \\\n",
       "0      0  interactive-beta.pddl  6172feb1665491d1efbce164-0   \n",
       "1      1  interactive-beta.pddl  5f77754ba932fb2c4ba181d8-2   \n",
       "2      2  interactive-beta.pddl  614b603d4da88384282967a7-3   \n",
       "3      3  interactive-beta.pddl  5bc79f652885710001a0e82a-5   \n",
       "4      4  interactive-beta.pddl  614dec67f6eb129c3a77defd-6   \n",
       "\n",
       "              domain_name          original_game_name  real  \\\n",
       "0  medium-objects-room-v1  6172feb1665491d1efbce164-0     1   \n",
       "1    many-objects-room-v1  5f77754ba932fb2c4ba181d8-2     1   \n",
       "2    many-objects-room-v1  614b603d4da88384282967a7-3     1   \n",
       "3     few-objects-room-v1  5bc79f652885710001a0e82a-5     1   \n",
       "4  medium-objects-room-v1  614dec67f6eb129c3a77defd-6     1   \n",
       "\n",
       "   all_variables_defined  all_variables_used  all_preferences_used  \\\n",
       "0                      1                   1                     1   \n",
       "1                      1                   1                     1   \n",
       "2                      1                   1                     1   \n",
       "3                      1                   1                     1   \n",
       "4                      1                   1                     1   \n",
       "\n",
       "   setup_objects_used  ...  ast_ngram_constraints_n_6_score  \\\n",
       "0                1.00  ...                         0.975856   \n",
       "1                1.00  ...                         0.985632   \n",
       "2                0.00  ...                         0.975984   \n",
       "3                0.00  ...                         0.986042   \n",
       "4                0.25  ...                         0.984624   \n",
       "\n",
       "   ast_ngram_constraints_n_7_score  ast_ngram_terminal_n_2_score  \\\n",
       "0                         0.984382                      0.970248   \n",
       "1                         0.986181                      0.966645   \n",
       "2                         0.980604                      0.000000   \n",
       "3                         0.985931                      0.000000   \n",
       "4                         0.983172                      0.000000   \n",
       "\n",
       "   ast_ngram_terminal_n_3_score  ast_ngram_terminal_n_4_score  \\\n",
       "0                      0.981414                      0.981920   \n",
       "1                      0.978594                      0.977472   \n",
       "2                      0.000000                      0.000000   \n",
       "3                      0.000000                      0.000000   \n",
       "4                      0.000000                      0.000000   \n",
       "\n",
       "   ast_ngram_terminal_n_5_score  ast_ngram_scoring_n_2_score  \\\n",
       "0                      0.983617                     0.919078   \n",
       "1                      0.984273                     0.921563   \n",
       "2                      0.000000                     0.844787   \n",
       "3                      0.000000                     0.919078   \n",
       "4                      0.000000                     0.976741   \n",
       "\n",
       "   ast_ngram_scoring_n_3_score  ast_ngram_scoring_n_4_score  \\\n",
       "0                     0.915602                     0.974574   \n",
       "1                     0.931860                     0.945369   \n",
       "2                     0.858832                     0.923039   \n",
       "3                     0.915602                     0.974574   \n",
       "4                     0.978090                     0.970715   \n",
       "\n",
       "   ast_ngram_scoring_n_5_score  \n",
       "0                     0.987096  \n",
       "1                     0.962067  \n",
       "2                     0.942307  \n",
       "3                     0.987096  \n",
       "4                     0.987147  \n",
       "\n",
       "[5 rows x 356 columns]"
      ]
     },
     "execution_count": 5,
     "metadata": {},
     "output_type": "execute_result"
    }
   ],
   "source": [
    "fitness_df = utils.load_fitness_data('../data/fitness_features_1024_regrowths.csv.gz')\n",
    "print(fitness_df.src_file.unique())\n",
    "fitness_df.head()"
   ]
  },
  {
   "cell_type": "code",
   "execution_count": 6,
   "metadata": {},
   "outputs": [],
   "source": [
    "evo_sampler = typing.cast(PopulationBasedSampler, utils.load_data('2023_04_27_1', 'samples', 'evo_sampler_microbial_ga'))"
   ]
  },
  {
   "cell_type": "code",
   "execution_count": 10,
   "metadata": {},
   "outputs": [
    {
     "ename": "NameError",
     "evalue": "name 'evo_sampler' is not defined",
     "output_type": "error",
     "traceback": [
      "\u001b[0;31m---------------------------------------------------------------------------\u001b[0m",
      "\u001b[0;31mNameError\u001b[0m                                 Traceback (most recent call last)",
      "Cell \u001b[0;32mIn[10], line 21\u001b[0m\n\u001b[1;32m     16\u001b[0m     plt\u001b[39m.\u001b[39mlegend(loc\u001b[39m=\u001b[39m\u001b[39m'\u001b[39m\u001b[39mbest\u001b[39m\u001b[39m'\u001b[39m)\n\u001b[1;32m     18\u001b[0m     plt\u001b[39m.\u001b[39mshow()\n\u001b[0;32m---> 21\u001b[0m plot_sampler_fitness_trajectory(evo_sampler, \u001b[39m'\u001b[39m\u001b[39mMicrobial GA\u001b[39m\u001b[39m'\u001b[39m)\n",
      "\u001b[0;31mNameError\u001b[0m: name 'evo_sampler' is not defined"
     ]
    }
   ],
   "source": [
    "def plot_sampler_fitness_trajectory(evo: PopulationBasedSampler, title: typing.Optional[str] = None, figsize: typing.Tuple[int, int] = (8, 6),\n",
    "                                    min_real_game_fitness: float =  74.9304, max_real_game_fitness: float = 80.0098):\n",
    "    plt.figure(figsize=figsize)\n",
    "\n",
    "    plt.plot(evo.mean_fitness_history, label='mean fitness')\n",
    "    plt.plot(evo.best_fitness_history, label='max fitness')\n",
    "\n",
    "    plt.hlines(min_real_game_fitness, 0, len(evo.mean_fitness_history), label='min real game fitness', color='black', ls='--')\n",
    "    plt.hlines(max_real_game_fitness, 0, len(evo.mean_fitness_history), label='max real game fitness', color='black', ls='--')\n",
    "\n",
    "    if title is not None:\n",
    "        plt.title(title)\n",
    "\n",
    "    plt.xlabel('Generation')\n",
    "    plt.ylabel('Fitness')\n",
    "    plt.legend(loc='best')\n",
    "\n",
    "    plt.show()\n",
    "\n",
    "\n",
    "plot_sampler_fitness_trajectory(evo_sampler, 'Microbial GA')"
   ]
  },
  {
   "cell_type": "code",
   "execution_count": 15,
   "metadata": {},
   "outputs": [
    {
     "data": {
      "image/png": "[encoded data removed]",
      "text/plain": [
       "<Figure size 800x600 with 1 Axes>"
      ]
     },
     "metadata": {},
     "output_type": "display_data"
    }
   ],
   "source": [
    "beam_sampler = typing.cast(PopulationBasedSampler, utils.load_data('2023_04_27', 'samples', 'evo_sampler_weighted_beam'))\n",
    "plot_sampler_fitness_trajectory(beam_sampler, 'Weighted Beam Search')"
   ]
  },
  {
   "cell_type": "code",
   "execution_count": 12,
   "metadata": {},
   "outputs": [
    {
     "data": {
      "image/png": "[encoded data removed]",
      "text/plain": [
       "<Figure size 800x600 with 1 Axes>"
      ]
     },
     "metadata": {},
     "output_type": "display_data"
    }
   ],
   "source": [
    "evo_sampler_pop_1000 = typing.cast(PopulationBasedSampler, utils.load_data('2023_04_28', 'samples', 'evo_sampler_microbial_ga'))\n",
    "plot_sampler_fitness_trajectory(evo_sampler_pop_1000, 'Microbial GA (N = 1000)')"
   ]
  },
  {
   "cell_type": "code",
   "execution_count": 39,
   "metadata": {},
   "outputs": [
    {
     "data": {
      "text/markdown": [
       "### Energy of visualized game: -75.430"
      ],
      "text/plain": [
       "<IPython.core.display.Markdown object>"
      ]
     },
     "metadata": {},
     "output_type": "display_data"
    },
    {
     "data": {
      "text/markdown": [
       "### Top features contributing to the game's energy\n",
       "feature name: **value** = (original feature value => regrown feature value) * weight"
      ],
      "text/plain": [
       "<IPython.core.display.Markdown object>"
      ]
     },
     "metadata": {},
     "output_type": "display_data"
    },
    {
     "data": {
      "text/markdown": [
       "| Features increasing energy (= more fake)                                   | Features decreasing energy (= more real)                                         |\n",
       "|----------------------------------------------------------------------------|----------------------------------------------------------------------------------|\n",
       "| mean_depth_scoring_2: **0.751** = (1.000) * 0.751                          | ast_ngram_full_n_7_score: **-26.024** = (0.893) * -29.148                        |\n",
       "| max_number_variables_types_quantified_types_1: **0.738** = (1.000) * 0.738 | ast_ngram_constraints_n_7_score: **-20.892** = (0.977) * -21.388                 |\n",
       "| on_arg_types_furniture_balls_constraints: **0.311** = (1.000) * 0.311      | all_variables_used: **-5.121** = (1.000) * -5.121                                |\n",
       "| mean_depth_constraints_0: **0.159** = (1.000) * 0.159                      | all_preferences_used: **-4.585** = (1.000) * -4.585                              |\n",
       "| max_depth_constraints_0: **0.007** = (1.000) * 0.007                       | ast_ngram_scoring_n_5_score: **-3.531** = (0.929) * -3.801                       |\n",
       "|                                                                            | all_variables_defined: **-2.156** = (1.000) * -2.156                             |\n",
       "|                                                                            | mean_depth_setup_0: **-2.025** = (1.000) * -2.025                                |\n",
       "|                                                                            | max_depth_setup_0: **-1.956** = (1.000) * -1.956                                 |\n",
       "|                                                                            | node_count_setup_0: **-1.848** = (1.000) * -1.848                                |\n",
       "|                                                                            | section_doesnt_exist_setup: **-1.837** = (1.000) * -1.837                        |\n",
       "|                                                                            | max_depth_scoring_2: **-1.025** = (1.000) * -1.025                               |\n",
       "|                                                                            | mean_depth_terminal_0: **-0.917** = (1.000) * -0.917                             |\n",
       "|                                                                            | max_depth_terminal_0: **-0.906** = (1.000) * -0.906                              |\n",
       "|                                                                            | max_quantification_count_setup_0: **-0.857** = (1.000) * -0.857                  |\n",
       "|                                                                            | max_number_variables_types_quantified_variables_1: **-0.771** = (1.000) * -0.771 |\n",
       "|                                                                            | section_doesnt_exist_terminal: **-0.761** = (1.000) * -0.761                     |\n",
       "|                                                                            | node_count_terminal_0: **-0.703** = (1.000) * -0.703                             |\n",
       "|                                                                            | node_count_constraints_0: **-0.547** = (1.000) * -0.547                          |\n",
       "|                                                                            | node_count_scoring_2: **-0.516** = (1.000) * -0.516                              |\n",
       "|                                                                            | max_quantification_count_constraints_1: **-0.428** = (1.000) * -0.428            |"
      ],
      "text/plain": [
       "<IPython.core.display.Markdown object>"
      ]
     },
     "metadata": {},
     "output_type": "display_data"
    },
    {
     "data": {
      "text/markdown": [
       "### Game:"
      ],
      "text/plain": [
       "<IPython.core.display.Markdown object>"
      ]
     },
     "metadata": {},
     "output_type": "display_data"
    },
    {
     "data": {
      "text/markdown": [
       "```pddl\n",
       "(define (game evo-963-963) (:domain few-objects-room-v1)\n",
       "(:constraints\n",
       "  (and\n",
       "    (preference preference0\n",
       "      (exists (?v0 - dodgeball)\n",
       "        (at-end\n",
       "          (on bed ?v0)\n",
       "        )\n",
       "      )\n",
       "    )\n",
       "  )\n",
       ")\n",
       "(:scoring\n",
       "  (* 5 (count preference0) (count preference0) (count preference0) )\n",
       ")\n",
       ")\n",
       "```"
      ],
      "text/plain": [
       "<IPython.core.display.Markdown object>"
      ]
     },
     "metadata": {},
     "output_type": "display_data"
    }
   ],
   "source": [
    "evo_sampler_pop_1000.visualize_top_sample(100, postprocess_sample=True)"
   ]
  },
  {
   "cell_type": "code",
   "execution_count": 41,
   "metadata": {},
   "outputs": [],
   "source": [
    "ast = copy.deepcopy(game_asts[0])"
   ]
  },
  {
   "cell_type": "code",
   "execution_count": 42,
   "metadata": {},
   "outputs": [],
   "source": [
    "from ast_utils import replace_child"
   ]
  },
  {
   "cell_type": "code",
   "execution_count": 45,
   "metadata": {},
   "outputs": [],
   "source": [
    "replace_child(ast[1], ['game_name'], 'test')"
   ]
  },
  {
   "cell_type": "code",
   "execution_count": 48,
   "metadata": {},
   "outputs": [],
   "source": [
    "import ast_printer"
   ]
  },
  {
   "cell_type": "code",
   "execution_count": 50,
   "metadata": {},
   "outputs": [],
   "source": [
    "s = ast_printer.ast_to_string(ast)"
   ]
  },
  {
   "cell_type": "code",
   "execution_count": null,
   "metadata": {},
   "outputs": [],
   "source": []
  },
  {
   "cell_type": "code",
   "execution_count": 55,
   "metadata": {},
   "outputs": [
    {
     "name": "stdout",
     "output_type": "stream",
     "text": [
      "(and  (exists (?h - hexagonal_bin ?r - triangular_ramp)    (game-conserved      (< (distance ?h ?r) 1)    )  ))\n",
      "\n",
      "(and  (preference throwToRampToBin    (exists (?b - ball ?r - triangular_ramp ?h - hexagonal_bin)      (then        (once (agent_holds ?b) )        (hold-while (and (not (agent_holds ?b) ) (in_motion ?b) ) (touch ?b ?r) )        (once (and (not (in_motion ?b) ) (in ?h ?b) ) )      )    )  )  (preference binKnockedOver    (exists (?h - hexagonal_bin)      (then        (hold (and (not (touch agent ?h) ) (not (agent_holds ?h) ) ) )        (once (not (object_orientation ?h upright) ) )      )    )  ))\n",
      "\n",
      "(>= (count-once binKnockedOver) 1 )\n",
      "\n",
      "(count throwToRampToBin)\n",
      "\n"
     ]
    }
   ],
   "source": []
  }
 ],
 "metadata": {
  "kernelspec": {
   "display_name": "game-gen",
   "language": "python",
   "name": "python3"
  },
  "language_info": {
   "codemirror_mode": {
    "name": "ipython",
    "version": 3
   },
   "file_extension": ".py",
   "mimetype": "text/x-python",
   "name": "python",
   "nbconvert_exporter": "python",
   "pygments_lexer": "ipython3",
   "version": "3.10.8"
  },
  "orig_nbformat": 4
 },
 "nbformat": 4,
 "nbformat_minor": 2
}
