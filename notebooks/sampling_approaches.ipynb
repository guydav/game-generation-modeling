{
 "cells": [
  {
   "cell_type": "code",
   "execution_count": 1,
   "metadata": {},
   "outputs": [],
   "source": [
    "import os\n",
    "import sys\n",
    "\n",
    "sys.path.append(os.path.abspath('../'))\n",
    "sys.path.append(os.path.abspath('../src'))\n",
    "\n",
    "import pickle\n",
    "\n",
    "import tatsu"
   ]
  },
  {
   "cell_type": "code",
   "execution_count": 2,
   "metadata": {},
   "outputs": [],
   "source": [
    "from ast_counter import *\n",
    "from parse_dsl import load_tests_from_file\n",
    "from collections import Counter"
   ]
  },
  {
   "cell_type": "code",
   "execution_count": 3,
   "metadata": {},
   "outputs": [],
   "source": [
    "COUNTER_PATH = '../data/ast_counter.pickle'\n",
    "\n",
    "with open(COUNTER_PATH, 'rb') as f:\n",
    "    counter = pickle.load(f)\n",
    "\n",
    "GAMES_PATH = '../dsl/interactive-beta.pddl'\n",
    "GRAMMAR_FILE = '../dsl/dsl.ebnf'\n",
    "\n",
    "game_strings = load_tests_from_file(GAMES_PATH)\n",
    "grammar = open(GRAMMAR_FILE).read()\n",
    "grammar_parser = tatsu.compile(grammar)\n",
    "asts = [grammar_parser.parse(game) for game in game_strings]"
   ]
  },
  {
   "cell_type": "code",
   "execution_count": 5,
   "metadata": {},
   "outputs": [
    {
     "data": {
      "text/plain": [
       "dict_keys(['setup', 'setup_and', 'setup_exists', 'variable_list', 'variable_type_def', 'type_definition', 'setup_statement', 'setup_game_conserved', 'super_predicate', 'function_comparison', 'two_arg_comparison', 'comparison_arg', 'function_eval', 'function_term', 'predicate', 'predicate_term', 'setup_forall', 'either_types', 'super_predicate_not', 'super_predicate_or', 'super_predicate_exists', 'super_predicate_and', 'setup_game_optional', 'super_predicate_forall', 'setup_or', 'multiple_args_equal_comparison'])"
      ]
     },
     "execution_count": 5,
     "metadata": {},
     "output_type": "execute_result"
    }
   ],
   "source": [
    "counter.counters_by_section['setup'].keys()"
   ]
  },
  {
   "cell_type": "code",
   "execution_count": 7,
   "metadata": {},
   "outputs": [],
   "source": [
    "s = counter.counters_by_section['setup']['setup']['setup']"
   ]
  },
  {
   "cell_type": "code",
   "execution_count": 8,
   "metadata": {},
   "outputs": [
    {
     "data": {
      "text/plain": [
       "defaultdict(int,\n",
       "            {'setup_and': 64,\n",
       "             'setup_exists': 54,\n",
       "             'setup_statement': 98,\n",
       "             'setup_forall': 33,\n",
       "             'setup_or': 1})"
      ]
     },
     "execution_count": 8,
     "metadata": {},
     "output_type": "execute_result"
    }
   ],
   "source": [
    "s.rule_counts"
   ]
  },
  {
   "cell_type": "code",
   "execution_count": 9,
   "metadata": {},
   "outputs": [
    {
     "data": {
      "text/plain": [
       "{'setup': <Counter for setup.setup: 250 rules counted | 0 values counted | 0 lengths counted>}"
      ]
     },
     "execution_count": 9,
     "metadata": {},
     "output_type": "execute_result"
    }
   ],
   "source": [
    "counter.counters_by_section['setup']['setup']"
   ]
  },
  {
   "cell_type": "code",
   "execution_count": 10,
   "metadata": {},
   "outputs": [
    {
     "data": {
      "text/plain": [
       "defaultdict(int,\n",
       "            {'open': 1,\n",
       "             'adjacent': 17,\n",
       "             'on': 72,\n",
       "             'object_orientation': 8,\n",
       "             'in': 6,\n",
       "             'adjacent_side': 14,\n",
       "             'faces': 4,\n",
       "             'toggled_on': 2,\n",
       "             'opposite': 1,\n",
       "             'type': 1,\n",
       "             'equal_z_position': 4,\n",
       "             'same_type': 1,\n",
       "             'between': 7,\n",
       "             'above': 2,\n",
       "             'equal_x_position': 2})"
      ]
     },
     "execution_count": 10,
     "metadata": {},
     "output_type": "execute_result"
    }
   ],
   "source": [
    "counter.counters_by_section['setup']['predicate']['pred_name'].value_counts"
   ]
  },
  {
   "cell_type": "code",
   "execution_count": 11,
   "metadata": {},
   "outputs": [
    {
     "data": {
      "text/plain": [
       "<Counter for variable_type_def.var_names: 0 rules counted | 601 values counted | 33 lengths counted>"
      ]
     },
     "execution_count": 11,
     "metadata": {},
     "output_type": "execute_result"
    }
   ],
   "source": [
    "counter.counters['variable_type_def']['var_names']"
   ]
  },
  {
   "cell_type": "code",
   "execution_count": 12,
   "metadata": {},
   "outputs": [
    {
     "data": {
      "text/plain": [
       "defaultdict(int,\n",
       "            {'1': 27,\n",
       "             '6': 11,\n",
       "             '2': 35,\n",
       "             '3': 39,\n",
       "             '10': 30,\n",
       "             '20': 6,\n",
       "             '30': 6,\n",
       "             '5': 33,\n",
       "             '4': 13,\n",
       "             '(total-score)': 10,\n",
       "             '8': 3,\n",
       "             '300': 3,\n",
       "             '15': 8,\n",
       "             '40': 2,\n",
       "             '(total-time)': 6,\n",
       "             '180': 2,\n",
       "             '50': 4,\n",
       "             '12': 1,\n",
       "             '7': 2,\n",
       "             '100': 4,\n",
       "             '25': 1,\n",
       "             '16': 1,\n",
       "             '0.7': 1,\n",
       "             '0.5': 1,\n",
       "             '18': 2,\n",
       "             '60': 1})"
      ]
     },
     "execution_count": 12,
     "metadata": {},
     "output_type": "execute_result"
    }
   ],
   "source": [
    "counter.counters['scoring_expr']['expr'].value_counts"
   ]
  },
  {
   "cell_type": "code",
   "execution_count": 13,
   "metadata": {},
   "outputs": [
    {
     "data": {
      "text/plain": [
       "<Counter for preferences.preferences: 175 rules counted | 0 values counted | 47 lengths counted>"
      ]
     },
     "execution_count": 13,
     "metadata": {},
     "output_type": "execute_result"
    }
   ],
   "source": [
    "counter.counters['preferences']['preferences']"
   ]
  },
  {
   "cell_type": "code",
   "execution_count": 14,
   "metadata": {},
   "outputs": [
    {
     "data": {
      "text/plain": [
       "178"
      ]
     },
     "execution_count": 14,
     "metadata": {},
     "output_type": "execute_result"
    }
   ],
   "source": [
    "sum(counter.counters['either_types']['type_names'].length_counts)"
   ]
  },
  {
   "cell_type": "code",
   "execution_count": 15,
   "metadata": {},
   "outputs": [
    {
     "data": {
      "text/plain": [
       "{'type_name': <Counter for pref_object_type.type_name: 0 rules counted | 159 values counted | 0 lengths counted>}"
      ]
     },
     "execution_count": 15,
     "metadata": {},
     "output_type": "execute_result"
    }
   ],
   "source": [
    "counter.counters['pref_object_type']"
   ]
  },
  {
   "cell_type": "markdown",
   "metadata": {},
   "source": [
    "* *game_def game_name id*\n",
    "* *domain_def domain_name id*\n",
    "* *variable_type_def var_names variable*\n",
    "* **type_definition *** ['type_name', 'either_types']**\n",
    "* either_types type_names type_name\n",
    "    * **TODO**: figure out why the lengths look weird\n",
    "* **comparison_arg *** ['number', 'name', 'variable']**\n",
    "* **comparison_arg *** ['number', 'name', 'variable']**\n",
    "* *function_eval func_name func_name*\n",
    "* predicate_term *** ['type_name', 'variable']\n",
    "* predicate_term *** ['type_name', 'variable']\n",
    "    * **TODO:** Check what happens when an empty predicate is called\n",
    "* *preference pref_name preference_name*\n",
    "* *hold_for num_to_hold number*\n",
    "* **scoring_expr expr ['scoring_multi_expr', 'scoring_binary_expr' 'scoring_neg_expr', 'scoring_and', 'scoring_or', 'scoring_not' 'total_time', 'total_score', 'number', 'preference_eval' 'scoring_comparison', 'function_eval']**\n",
    "* *pref_name_and_types pref_name preference_name*\n",
    "* *pref_object_type type_name type_name*\n",
    "\n"
   ]
  },
  {
   "cell_type": "code",
   "execution_count": 16,
   "metadata": {},
   "outputs": [],
   "source": [
    "from collections import defaultdict"
   ]
  },
  {
   "cell_type": "code",
   "execution_count": 17,
   "metadata": {},
   "outputs": [
    {
     "data": {
      "text/plain": [
       "0"
      ]
     },
     "execution_count": 17,
     "metadata": {},
     "output_type": "execute_result"
    }
   ],
   "source": [
    "defaultdict(int, a=5)['b']"
   ]
  },
  {
   "cell_type": "code",
   "execution_count": 18,
   "metadata": {},
   "outputs": [
    {
     "data": {
      "text/plain": [
       "{}"
      ]
     },
     "execution_count": 18,
     "metadata": {},
     "output_type": "execute_result"
    }
   ],
   "source": [
    "counter.counters['test']"
   ]
  },
  {
   "cell_type": "code",
   "execution_count": 21,
   "metadata": {},
   "outputs": [
    {
     "name": "stdout",
     "output_type": "stream",
     "text": [
      "type_definition type 39 1\n",
      "comparison_arg arg 61 1\n",
      "scoring_expr expr 26 5\n"
     ]
    }
   ],
   "source": [
    "for rule in counter.counters:\n",
    "    for field, field_counter in counter.counters[rule].items():\n",
    "        if len(field_counter.value_counts) > 0 and len(field_counter.rule_counts) > 0:\n",
    "            print(rule, field, len(field_counter.value_counts), len(field_counter.rule_counts))"
   ]
  },
  {
   "cell_type": "code",
   "execution_count": 22,
   "metadata": {},
   "outputs": [
    {
     "name": "stdout",
     "output_type": "stream",
     "text": [
      "setup_and and_args 25 0 1\n",
      "variable_list variables 125 0 1\n",
      "variable_type_def var_names 33 54 0\n",
      "function_eval func_args 119 0 1\n",
      "preferences preferences 47 0 1\n",
      "then then_funcs 158 0 1\n",
      "predicate pred_args 492 0 1\n",
      "while_hold while_preds 8 0 1\n",
      "super_predicate_and and_args 423 0 1\n",
      "pref_name_and_types object_types 30 0 1\n",
      "either_types type_names 67 46 0\n",
      "pref_forall_prefs preferences 14 0 1\n",
      "scoring_multi_expr expr 216 0 1\n",
      "super_predicate_or or_args 29 0 1\n",
      "terminal_or or_args 14 0 1\n",
      "setup_or or_args 1 0 1\n",
      "multiple_args_equal_comparison equal_comp_funcs 2 0 1\n",
      "terminal_and and_args 1 0 1\n"
     ]
    }
   ],
   "source": [
    "for rule in counter.counters:\n",
    "    for field, field_counter in counter.counters[rule].items():\n",
    "        if len(field_counter.length_counts) > 0:\n",
    "            print(rule, field, len(field_counter.length_counts), len(field_counter.value_counts), len(field_counter.rule_counts))"
   ]
  },
  {
   "cell_type": "code",
   "execution_count": 23,
   "metadata": {},
   "outputs": [
    {
     "data": {
      "text/plain": [
       "[2,\n",
       " 2,\n",
       " 2,\n",
       " 2,\n",
       " 2,\n",
       " 2,\n",
       " 2,\n",
       " 2,\n",
       " 2,\n",
       " 2,\n",
       " 2,\n",
       " 2,\n",
       " 2,\n",
       " 2,\n",
       " 2,\n",
       " 2,\n",
       " 2,\n",
       " 2,\n",
       " 2,\n",
       " 2,\n",
       " 2,\n",
       " 2,\n",
       " 2,\n",
       " 2,\n",
       " 2,\n",
       " 2,\n",
       " 2,\n",
       " 2,\n",
       " 2,\n",
       " 2,\n",
       " 2,\n",
       " 2,\n",
       " 2,\n",
       " 2,\n",
       " 2,\n",
       " 2,\n",
       " 2,\n",
       " 2,\n",
       " 2,\n",
       " 2,\n",
       " 2,\n",
       " 2,\n",
       " 2,\n",
       " 2,\n",
       " 2,\n",
       " 2,\n",
       " 2,\n",
       " 2,\n",
       " 2,\n",
       " 2,\n",
       " 2,\n",
       " 2,\n",
       " 2,\n",
       " 2,\n",
       " 2,\n",
       " 2,\n",
       " 2,\n",
       " 2,\n",
       " 2,\n",
       " 2,\n",
       " 2,\n",
       " 2,\n",
       " 4,\n",
       " 2,\n",
       " 3,\n",
       " 2,\n",
       " 2,\n",
       " 3,\n",
       " 2,\n",
       " 2,\n",
       " 2,\n",
       " 2,\n",
       " 2,\n",
       " 2,\n",
       " 2,\n",
       " 2,\n",
       " 2,\n",
       " 3,\n",
       " 2,\n",
       " 2,\n",
       " 2,\n",
       " 2,\n",
       " 2,\n",
       " 2,\n",
       " 2,\n",
       " 2,\n",
       " 2,\n",
       " 2,\n",
       " 2,\n",
       " 2,\n",
       " 2,\n",
       " 2,\n",
       " 2,\n",
       " 2,\n",
       " 2,\n",
       " 2,\n",
       " 2,\n",
       " 2,\n",
       " 2,\n",
       " 2,\n",
       " 2,\n",
       " 2,\n",
       " 2,\n",
       " 2,\n",
       " 2,\n",
       " 2,\n",
       " 2,\n",
       " 2,\n",
       " 2,\n",
       " 2,\n",
       " 2,\n",
       " 2,\n",
       " 2,\n",
       " 2,\n",
       " 2,\n",
       " 2,\n",
       " 2,\n",
       " 2,\n",
       " 2,\n",
       " 2,\n",
       " 2,\n",
       " 2,\n",
       " 2,\n",
       " 2,\n",
       " 2,\n",
       " 2,\n",
       " 2,\n",
       " 2,\n",
       " 2,\n",
       " 2,\n",
       " 2,\n",
       " 2,\n",
       " 2,\n",
       " 2,\n",
       " 2,\n",
       " 2,\n",
       " 2,\n",
       " 2,\n",
       " 2,\n",
       " 2,\n",
       " 2,\n",
       " 2,\n",
       " 2,\n",
       " 2,\n",
       " 2,\n",
       " 2,\n",
       " 2,\n",
       " 2,\n",
       " 2,\n",
       " 2,\n",
       " 2,\n",
       " 2,\n",
       " 2,\n",
       " 2,\n",
       " 2,\n",
       " 2,\n",
       " 2,\n",
       " 2,\n",
       " 2,\n",
       " 2,\n",
       " 2,\n",
       " 2,\n",
       " 2,\n",
       " 2,\n",
       " 2,\n",
       " 2,\n",
       " 2,\n",
       " 2,\n",
       " 2,\n",
       " 2,\n",
       " 2,\n",
       " 2,\n",
       " 2,\n",
       " 2,\n",
       " 2,\n",
       " 2,\n",
       " 2,\n",
       " 2,\n",
       " 2,\n",
       " 2,\n",
       " 2,\n",
       " 2,\n",
       " 2,\n",
       " 2,\n",
       " 2,\n",
       " 2,\n",
       " 2,\n",
       " 2,\n",
       " 2,\n",
       " 2,\n",
       " 2,\n",
       " 2,\n",
       " 2,\n",
       " 2,\n",
       " 2,\n",
       " 2,\n",
       " 2,\n",
       " 2,\n",
       " 2,\n",
       " 2,\n",
       " 2,\n",
       " 2,\n",
       " 2,\n",
       " 2,\n",
       " 2,\n",
       " 2,\n",
       " 2,\n",
       " 2,\n",
       " 2,\n",
       " 2,\n",
       " 2,\n",
       " 2,\n",
       " 2,\n",
       " 2,\n",
       " 2,\n",
       " 2,\n",
       " 2,\n",
       " 2,\n",
       " 2,\n",
       " 2,\n",
       " 2,\n",
       " 2,\n",
       " 2,\n",
       " 2,\n",
       " 2,\n",
       " 2,\n",
       " 2,\n",
       " 2,\n",
       " 2,\n",
       " 2,\n",
       " 2,\n",
       " 2,\n",
       " 2,\n",
       " 2,\n",
       " 2,\n",
       " 2,\n",
       " 2,\n",
       " 2,\n",
       " 2,\n",
       " 2,\n",
       " 2,\n",
       " 2,\n",
       " 2,\n",
       " 2,\n",
       " 2,\n",
       " 2,\n",
       " 2,\n",
       " 2,\n",
       " 2,\n",
       " 2,\n",
       " 2,\n",
       " 2,\n",
       " 2,\n",
       " 2,\n",
       " 2,\n",
       " 2,\n",
       " 2,\n",
       " 2,\n",
       " 2,\n",
       " 2,\n",
       " 2,\n",
       " 2,\n",
       " 2,\n",
       " 2,\n",
       " 2,\n",
       " 2,\n",
       " 2,\n",
       " 2,\n",
       " 2,\n",
       " 2,\n",
       " 2,\n",
       " 2,\n",
       " 2,\n",
       " 2,\n",
       " 2,\n",
       " 2,\n",
       " 2,\n",
       " 2,\n",
       " 2,\n",
       " 2,\n",
       " 2,\n",
       " 2,\n",
       " 2,\n",
       " 2,\n",
       " 2,\n",
       " 2,\n",
       " 2,\n",
       " 2,\n",
       " 3,\n",
       " 2,\n",
       " 2,\n",
       " 2,\n",
       " 2,\n",
       " 2,\n",
       " 2,\n",
       " 3,\n",
       " 3,\n",
       " 4,\n",
       " 2,\n",
       " 2,\n",
       " 2,\n",
       " 2,\n",
       " 2,\n",
       " 2,\n",
       " 2,\n",
       " 2,\n",
       " 2,\n",
       " 2,\n",
       " 2,\n",
       " 2,\n",
       " 2,\n",
       " 2,\n",
       " 2,\n",
       " 2,\n",
       " 2,\n",
       " 2,\n",
       " 2,\n",
       " 2,\n",
       " 2,\n",
       " 2,\n",
       " 2,\n",
       " 2,\n",
       " 2,\n",
       " 2,\n",
       " 2,\n",
       " 2,\n",
       " 2,\n",
       " 2,\n",
       " 2,\n",
       " 2,\n",
       " 2,\n",
       " 2,\n",
       " 2,\n",
       " 2,\n",
       " 2,\n",
       " 2,\n",
       " 2,\n",
       " 2,\n",
       " 2,\n",
       " 2,\n",
       " 3,\n",
       " 2,\n",
       " 2,\n",
       " 2,\n",
       " 2,\n",
       " 2,\n",
       " 2,\n",
       " 2,\n",
       " 2,\n",
       " 2,\n",
       " 3,\n",
       " 2,\n",
       " 2,\n",
       " 2,\n",
       " 2,\n",
       " 3,\n",
       " 2,\n",
       " 2,\n",
       " 2,\n",
       " 2,\n",
       " 2,\n",
       " 2,\n",
       " 2,\n",
       " 2,\n",
       " 2,\n",
       " 2,\n",
       " 2,\n",
       " 2,\n",
       " 2,\n",
       " 2,\n",
       " 3,\n",
       " 2,\n",
       " 2,\n",
       " 2,\n",
       " 3,\n",
       " 2,\n",
       " 2,\n",
       " 2,\n",
       " 2,\n",
       " 2,\n",
       " 2,\n",
       " 2,\n",
       " 2,\n",
       " 2,\n",
       " 2,\n",
       " 2,\n",
       " 2,\n",
       " 2,\n",
       " 2,\n",
       " 2,\n",
       " 2,\n",
       " 2,\n",
       " 2,\n",
       " 2,\n",
       " 2,\n",
       " 2,\n",
       " 2,\n",
       " 2,\n",
       " 2,\n",
       " 2,\n",
       " 2,\n",
       " 2,\n",
       " 2,\n",
       " 2,\n",
       " 2,\n",
       " 2,\n",
       " 2,\n",
       " 2,\n",
       " 2,\n",
       " 2,\n",
       " 2,\n",
       " 2,\n",
       " 2,\n",
       " 2,\n",
       " 2,\n",
       " 2,\n",
       " 2,\n",
       " 3,\n",
       " 3,\n",
       " 2,\n",
       " 2,\n",
       " 2,\n",
       " 2,\n",
       " 2,\n",
       " 2,\n",
       " 2,\n",
       " 2,\n",
       " 2,\n",
       " 2,\n",
       " 2,\n",
       " 2,\n",
       " 2,\n",
       " 2,\n",
       " 2,\n",
       " 2,\n",
       " 2,\n",
       " 2,\n",
       " 2,\n",
       " 2,\n",
       " 2,\n",
       " 2,\n",
       " 2,\n",
       " 2,\n",
       " 2,\n",
       " 2,\n",
       " 3,\n",
       " 2,\n",
       " 2,\n",
       " 2,\n",
       " 2,\n",
       " 2,\n",
       " 2,\n",
       " 2,\n",
       " 2,\n",
       " 2,\n",
       " 2,\n",
       " 2,\n",
       " 2,\n",
       " 2,\n",
       " 2,\n",
       " 3,\n",
       " 2,\n",
       " 3,\n",
       " 2,\n",
       " 2,\n",
       " 3,\n",
       " 3,\n",
       " 2,\n",
       " 2,\n",
       " 2,\n",
       " 2,\n",
       " 2,\n",
       " 2,\n",
       " 2,\n",
       " 2,\n",
       " 2,\n",
       " 3,\n",
       " 3,\n",
       " 2,\n",
       " 2,\n",
       " 2,\n",
       " 2,\n",
       " 2,\n",
       " 2,\n",
       " 2,\n",
       " 2,\n",
       " 2,\n",
       " 2,\n",
       " 2,\n",
       " 2,\n",
       " 2,\n",
       " 2]"
      ]
     },
     "execution_count": 23,
     "metadata": {},
     "output_type": "execute_result"
    }
   ],
   "source": [
    "counter.counters['predicate']['pred_args'].length_counts"
   ]
  },
  {
   "cell_type": "code",
   "execution_count": 24,
   "metadata": {},
   "outputs": [
    {
     "ename": "NameError",
     "evalue": "name 'c' is not defined",
     "output_type": "error",
     "traceback": [
      "\u001b[0;31m---------------------------------------------------------------------------\u001b[0m",
      "\u001b[0;31mNameError\u001b[0m                                 Traceback (most recent call last)",
      "\u001b[1;32m/Users/guydavidson/projects/game-generation-modeling/notebooks/sampling_approaches.ipynb Cell 21'\u001b[0m in \u001b[0;36m<cell line: 1>\u001b[0;34m()\u001b[0m\n\u001b[0;32m----> <a href='vscode-notebook-cell:/Users/guydavidson/projects/game-generation-modeling/notebooks/sampling_approaches.ipynb#ch0000020?line=0'>1</a>\u001b[0m \u001b[39misinstance\u001b[39m(c, \u001b[39mdict\u001b[39m)\n",
      "\u001b[0;31mNameError\u001b[0m: name 'c' is not defined"
     ]
    }
   ],
   "source": [
    "isinstance(c, dict)"
   ]
  },
  {
   "cell_type": "code",
   "execution_count": null,
   "metadata": {},
   "outputs": [
    {
     "data": {
      "text/plain": [
       "Counter({2: 477, 4: 2, 3: 20})"
      ]
     },
     "execution_count": 85,
     "metadata": {},
     "output_type": "execute_result"
    }
   ],
   "source": [
    "c"
   ]
  },
  {
   "cell_type": "code",
   "execution_count": null,
   "metadata": {},
   "outputs": [],
   "source": [
    "c[1] += 10"
   ]
  },
  {
   "cell_type": "code",
   "execution_count": 25,
   "metadata": {},
   "outputs": [
    {
     "ename": "NameError",
     "evalue": "name 'c' is not defined",
     "output_type": "error",
     "traceback": [
      "\u001b[0;31m---------------------------------------------------------------------------\u001b[0m",
      "\u001b[0;31mNameError\u001b[0m                                 Traceback (most recent call last)",
      "\u001b[1;32m/Users/guydavidson/projects/game-generation-modeling/notebooks/sampling_approaches.ipynb Cell 24'\u001b[0m in \u001b[0;36m<cell line: 1>\u001b[0;34m()\u001b[0m\n\u001b[0;32m----> <a href='vscode-notebook-cell:/Users/guydavidson/projects/game-generation-modeling/notebooks/sampling_approaches.ipynb#ch0000023?line=0'>1</a>\u001b[0m c\n",
      "\u001b[0;31mNameError\u001b[0m: name 'c' is not defined"
     ]
    }
   ],
   "source": [
    "c"
   ]
  },
  {
   "cell_type": "code",
   "execution_count": 26,
   "metadata": {},
   "outputs": [
    {
     "data": {
      "text/plain": [
       "Counter({1: 11, 2: 2})"
      ]
     },
     "execution_count": 26,
     "metadata": {},
     "output_type": "execute_result"
    }
   ],
   "source": [
    "Counter({1: 11, 2: 2})"
   ]
  },
  {
   "cell_type": "code",
   "execution_count": null,
   "metadata": {},
   "outputs": [
    {
     "name": "stdout",
     "output_type": "stream",
     "text": [
      "\u001b[0;31mInit signature:\u001b[0m \u001b[0mfilter\u001b[0m\u001b[0;34m(\u001b[0m\u001b[0mself\u001b[0m\u001b[0;34m,\u001b[0m \u001b[0;34m/\u001b[0m\u001b[0;34m,\u001b[0m \u001b[0;34m*\u001b[0m\u001b[0margs\u001b[0m\u001b[0;34m,\u001b[0m \u001b[0;34m**\u001b[0m\u001b[0mkwargs\u001b[0m\u001b[0;34m)\u001b[0m\u001b[0;34m\u001b[0m\u001b[0;34m\u001b[0m\u001b[0m\n",
      "\u001b[0;31mDocstring:\u001b[0m     \n",
      "filter(function or None, iterable) --> filter object\n",
      "\n",
      "Return an iterator yielding those items of iterable for which function(item)\n",
      "is true. If function is None, return the items that are true.\n",
      "\u001b[0;31mType:\u001b[0m           type\n",
      "\u001b[0;31mSubclasses:\u001b[0m     \n"
     ]
    }
   ],
   "source": [
    "filter?"
   ]
  },
  {
   "cell_type": "code",
   "execution_count": 21,
   "metadata": {},
   "outputs": [
    {
     "data": {
      "text/plain": [
       "<Counter for variable_type_def.var_type: 538 rules counted | 0 values counted | 0 lengths counted>"
      ]
     },
     "execution_count": 21,
     "metadata": {},
     "output_type": "execute_result"
    }
   ],
   "source": [
    "counter.counters['variable_type_def']['var_type']"
   ]
  },
  {
   "cell_type": "code",
   "execution_count": 22,
   "metadata": {},
   "outputs": [
    {
     "data": {
      "text/plain": [
       "defaultdict(int, {'type_definition': 538})"
      ]
     },
     "execution_count": 22,
     "metadata": {},
     "output_type": "execute_result"
    }
   ],
   "source": [
    "counter.counters['variable_type_def']['var_type'].rule_counts"
   ]
  },
  {
   "cell_type": "code",
   "execution_count": 23,
   "metadata": {},
   "outputs": [
    {
     "data": {
      "text/plain": [
       "defaultdict(int, {})"
      ]
     },
     "execution_count": 23,
     "metadata": {},
     "output_type": "execute_result"
    }
   ],
   "source": [
    "counter.counters['variable_type_def']['var_type'].value_counts"
   ]
  },
  {
   "cell_type": "code",
   "execution_count": 24,
   "metadata": {},
   "outputs": [
    {
     "data": {
      "text/plain": [
       "defaultdict(int, {})"
      ]
     },
     "execution_count": 24,
     "metadata": {},
     "output_type": "execute_result"
    }
   ],
   "source": [
    "counter.counters['function_eval']['func_args'].value_counts"
   ]
  },
  {
   "cell_type": "code",
   "execution_count": 25,
   "metadata": {},
   "outputs": [],
   "source": [
    "import re\n",
    "p = re.compile('total_time')"
   ]
  },
  {
   "cell_type": "code",
   "execution_count": 26,
   "metadata": {},
   "outputs": [
    {
     "data": {
      "text/plain": [
       "<re.Match object; span=(0, 10), match='total_time'>"
      ]
     },
     "execution_count": 26,
     "metadata": {},
     "output_type": "execute_result"
    }
   ],
   "source": [
    "p.match('total_time')"
   ]
  },
  {
   "cell_type": "code",
   "execution_count": 27,
   "metadata": {},
   "outputs": [
    {
     "data": {
      "text/plain": [
       "'\\\\(total_time\\\\)'"
      ]
     },
     "execution_count": 27,
     "metadata": {},
     "output_type": "execute_result"
    }
   ],
   "source": [
    "re.escape('(total_time)')"
   ]
  },
  {
   "cell_type": "code",
   "execution_count": 28,
   "metadata": {},
   "outputs": [
    {
     "data": {
      "text/plain": [
       "'(define'"
      ]
     },
     "execution_count": 28,
     "metadata": {},
     "output_type": "execute_result"
    }
   ],
   "source": [
    "asts[0][0]"
   ]
  },
  {
   "cell_type": "code",
   "execution_count": 29,
   "metadata": {},
   "outputs": [],
   "source": [
    "start_rule = grammar_parser.rules[0]"
   ]
  },
  {
   "cell_type": "code",
   "execution_count": 30,
   "metadata": {},
   "outputs": [
    {
     "data": {
      "text/plain": [
       "[<tatsu.grammars.Token at 0x7fd7d846fc10>,\n",
       " <tatsu.grammars.RuleRef at 0x7fd7d841ec10>,\n",
       " <tatsu.grammars.RuleRef at 0x7fd7d84874f0>,\n",
       " <tatsu.grammars.RuleRef at 0x7fd7d8487b20>,\n",
       " <tatsu.grammars.RuleRef at 0x7fd7b8b0f400>,\n",
       " <tatsu.grammars.RuleRef at 0x7fd7b8b0f880>,\n",
       " <tatsu.grammars.RuleRef at 0x7fd7b8b0feb0>,\n",
       " <tatsu.grammars.Token at 0x7fd7b8b0fc40>,\n",
       " <tatsu.grammars.EOF at 0x7fd7b8b0f0d0>]"
      ]
     },
     "execution_count": 30,
     "metadata": {},
     "output_type": "execute_result"
    }
   ],
   "source": [
    "start_rule.children()[0].children()"
   ]
  },
  {
   "cell_type": "code",
   "execution_count": 31,
   "metadata": {},
   "outputs": [
    {
     "data": {
      "text/plain": [
       "Counter({tatsu.grammars.Sequence: 69,\n",
       "         tatsu.grammars.Choice: 8,\n",
       "         tatsu.grammars.Pattern: 4,\n",
       "         tatsu.grammars.Named: 17,\n",
       "         tatsu.grammars.RuleRef: 3,\n",
       "         tatsu.grammars.Token: 3})"
      ]
     },
     "execution_count": 31,
     "metadata": {},
     "output_type": "execute_result"
    }
   ],
   "source": [
    "Counter([type(r.children()[0]) for r in grammar_parser.rules])"
   ]
  },
  {
   "cell_type": "code",
   "execution_count": 32,
   "metadata": {},
   "outputs": [],
   "source": [
    "named_rules = [r for r in grammar_parser.rules if isinstance(r.children()[0], tatsu.grammars.Named)]"
   ]
  },
  {
   "cell_type": "code",
   "execution_count": 33,
   "metadata": {},
   "outputs": [
    {
     "data": {
      "text/plain": [
       "['type_definition',\n",
       " 'function_comparison',\n",
       " 'comparison_arg',\n",
       " 'function_term',\n",
       " 'predicate_term',\n",
       " 'setup',\n",
       " 'setup_statement',\n",
       " 'super_predicate',\n",
       " 'pref_def',\n",
       " 'pref_body',\n",
       " 'seq_func',\n",
       " 'terminal',\n",
       " 'terminal_expr',\n",
       " 'scoring_expr',\n",
       " 'scoring_comparison',\n",
       " 'preference_eval',\n",
       " 'scoring']"
      ]
     },
     "execution_count": 33,
     "metadata": {},
     "output_type": "execute_result"
    }
   ],
   "source": [
    "[n.name for n in named_rules]"
   ]
  },
  {
   "cell_type": "code",
   "execution_count": 34,
   "metadata": {},
   "outputs": [],
   "source": [
    "seq_rules = [r for r in grammar_parser.rules if isinstance(r.children()[0], tatsu.grammars.Sequence)]"
   ]
  },
  {
   "cell_type": "code",
   "execution_count": 35,
   "metadata": {},
   "outputs": [
    {
     "data": {
      "text/plain": [
       "[[tatsu.grammars.Token,\n",
       "  tatsu.grammars.RuleRef,\n",
       "  tatsu.grammars.RuleRef,\n",
       "  tatsu.grammars.RuleRef,\n",
       "  tatsu.grammars.RuleRef,\n",
       "  tatsu.grammars.RuleRef,\n",
       "  tatsu.grammars.RuleRef,\n",
       "  tatsu.grammars.Token,\n",
       "  tatsu.grammars.EOF],\n",
       " [tatsu.grammars.Token, tatsu.grammars.Named, tatsu.grammars.Token],\n",
       " [tatsu.grammars.Token, tatsu.grammars.Named, tatsu.grammars.Token],\n",
       " [tatsu.grammars.Token, tatsu.grammars.RuleRef, tatsu.grammars.Token],\n",
       " [tatsu.grammars.Token, tatsu.grammars.RuleRef, tatsu.grammars.Token],\n",
       " [tatsu.grammars.Token, tatsu.grammars.PositiveClosure, tatsu.grammars.Token],\n",
       " [tatsu.grammars.PositiveClosure, tatsu.grammars.Token, tatsu.grammars.Named],\n",
       " [tatsu.grammars.Token, tatsu.grammars.PositiveClosure, tatsu.grammars.Token],\n",
       " [tatsu.grammars.Token,\n",
       "  tatsu.grammars.Named,\n",
       "  tatsu.grammars.Named,\n",
       "  tatsu.grammars.Named,\n",
       "  tatsu.grammars.Token],\n",
       " [tatsu.grammars.Token, tatsu.grammars.PositiveClosure, tatsu.grammars.Token],\n",
       " [tatsu.grammars.Token,\n",
       "  tatsu.grammars.Named,\n",
       "  tatsu.grammars.Closure,\n",
       "  tatsu.grammars.Token],\n",
       " [tatsu.grammars.Token,\n",
       "  tatsu.grammars.Named,\n",
       "  tatsu.grammars.Closure,\n",
       "  tatsu.grammars.Token],\n",
       " [tatsu.grammars.Token, tatsu.grammars.PositiveClosure, tatsu.grammars.Token],\n",
       " [tatsu.grammars.Token, tatsu.grammars.PositiveClosure, tatsu.grammars.Token],\n",
       " [tatsu.grammars.Token, tatsu.grammars.Named, tatsu.grammars.Token],\n",
       " [tatsu.grammars.Token,\n",
       "  tatsu.grammars.Named,\n",
       "  tatsu.grammars.Named,\n",
       "  tatsu.grammars.Token],\n",
       " [tatsu.grammars.Token,\n",
       "  tatsu.grammars.Named,\n",
       "  tatsu.grammars.Named,\n",
       "  tatsu.grammars.Token],\n",
       " [tatsu.grammars.Token, tatsu.grammars.Named, tatsu.grammars.Token],\n",
       " [tatsu.grammars.Token, tatsu.grammars.Named, tatsu.grammars.Token],\n",
       " [tatsu.grammars.Token, tatsu.grammars.PositiveClosure, tatsu.grammars.Token],\n",
       " [tatsu.grammars.Token, tatsu.grammars.PositiveClosure, tatsu.grammars.Token],\n",
       " [tatsu.grammars.Token, tatsu.grammars.Named, tatsu.grammars.Token],\n",
       " [tatsu.grammars.Token,\n",
       "  tatsu.grammars.Named,\n",
       "  tatsu.grammars.Named,\n",
       "  tatsu.grammars.Token],\n",
       " [tatsu.grammars.Token,\n",
       "  tatsu.grammars.Named,\n",
       "  tatsu.grammars.Named,\n",
       "  tatsu.grammars.Token],\n",
       " [tatsu.grammars.Token,\n",
       "  tatsu.grammars.Named,\n",
       "  tatsu.grammars.Named,\n",
       "  tatsu.grammars.Token],\n",
       " [tatsu.grammars.Token,\n",
       "  tatsu.grammars.Named,\n",
       "  tatsu.grammars.Named,\n",
       "  tatsu.grammars.Token],\n",
       " [tatsu.grammars.Token,\n",
       "  tatsu.grammars.Named,\n",
       "  tatsu.grammars.Named,\n",
       "  tatsu.grammars.Token],\n",
       " [tatsu.grammars.Token,\n",
       "  tatsu.grammars.Named,\n",
       "  tatsu.grammars.Named,\n",
       "  tatsu.grammars.Token],\n",
       " [tatsu.grammars.Token, tatsu.grammars.Named, tatsu.grammars.Token],\n",
       " [tatsu.grammars.Token, tatsu.grammars.PositiveClosure, tatsu.grammars.Token],\n",
       " [tatsu.grammars.Token, tatsu.grammars.Named, tatsu.grammars.Token],\n",
       " [tatsu.grammars.Token,\n",
       "  tatsu.grammars.Named,\n",
       "  tatsu.grammars.Named,\n",
       "  tatsu.grammars.Token],\n",
       " [tatsu.grammars.Token, tatsu.grammars.Named, tatsu.grammars.Token],\n",
       " [tatsu.grammars.Token,\n",
       "  tatsu.grammars.Named,\n",
       "  tatsu.grammars.PositiveClosure,\n",
       "  tatsu.grammars.Token],\n",
       " [tatsu.grammars.Token,\n",
       "  tatsu.grammars.Named,\n",
       "  tatsu.grammars.Named,\n",
       "  tatsu.grammars.Token],\n",
       " [tatsu.grammars.Token, tatsu.grammars.Named, tatsu.grammars.Token],\n",
       " [tatsu.grammars.Token,\n",
       "  tatsu.grammars.Named,\n",
       "  tatsu.grammars.Named,\n",
       "  tatsu.grammars.Token],\n",
       " [tatsu.grammars.Token, tatsu.grammars.PositiveClosure, tatsu.grammars.Token],\n",
       " [tatsu.grammars.Token, tatsu.grammars.PositiveClosure, tatsu.grammars.Token],\n",
       " [tatsu.grammars.Token, tatsu.grammars.Named, tatsu.grammars.Token],\n",
       " [tatsu.grammars.Token,\n",
       "  tatsu.grammars.Named,\n",
       "  tatsu.grammars.Named,\n",
       "  tatsu.grammars.Named,\n",
       "  tatsu.grammars.Token],\n",
       " [tatsu.grammars.Token,\n",
       "  tatsu.grammars.Named,\n",
       "  tatsu.grammars.PositiveClosure,\n",
       "  tatsu.grammars.Token],\n",
       " [tatsu.grammars.Token,\n",
       "  tatsu.grammars.Named,\n",
       "  tatsu.grammars.Named,\n",
       "  tatsu.grammars.Named,\n",
       "  tatsu.grammars.Token],\n",
       " [tatsu.grammars.Token, tatsu.grammars.Named, tatsu.grammars.Token],\n",
       " [tatsu.grammars.Token, tatsu.grammars.PositiveClosure, tatsu.grammars.Token],\n",
       " [tatsu.grammars.Token, tatsu.grammars.PositiveClosure, tatsu.grammars.Token],\n",
       " [tatsu.grammars.Token, tatsu.grammars.Named, tatsu.grammars.Token],\n",
       " [tatsu.grammars.Token,\n",
       "  tatsu.grammars.Named,\n",
       "  tatsu.grammars.Named,\n",
       "  tatsu.grammars.Named,\n",
       "  tatsu.grammars.Token],\n",
       " [tatsu.grammars.Token, tatsu.grammars.PositiveClosure, tatsu.grammars.Token],\n",
       " [tatsu.grammars.Token, tatsu.grammars.Named, tatsu.grammars.Token],\n",
       " [tatsu.grammars.Token, tatsu.grammars.Named, tatsu.grammars.Token],\n",
       " [tatsu.grammars.Token, tatsu.grammars.Named, tatsu.grammars.Token],\n",
       " [tatsu.grammars.Token, tatsu.grammars.Named, tatsu.grammars.Token],\n",
       " [tatsu.grammars.Token, tatsu.grammars.Named, tatsu.grammars.Token],\n",
       " [tatsu.grammars.Token, tatsu.grammars.Named, tatsu.grammars.Token],\n",
       " [tatsu.grammars.Token, tatsu.grammars.Named, tatsu.grammars.Token],\n",
       " [tatsu.grammars.Token, tatsu.grammars.Named, tatsu.grammars.Token],\n",
       " [tatsu.grammars.Token, tatsu.grammars.Named, tatsu.grammars.Token],\n",
       " [tatsu.grammars.Token, tatsu.grammars.Named, tatsu.grammars.Token],\n",
       " [tatsu.grammars.Token, tatsu.grammars.Named, tatsu.grammars.Token],\n",
       " [tatsu.grammars.Token, tatsu.grammars.Named, tatsu.grammars.Token],\n",
       " [tatsu.grammars.Token, tatsu.grammars.Named, tatsu.grammars.Token],\n",
       " [tatsu.grammars.Token, tatsu.grammars.Named, tatsu.grammars.Token],\n",
       " [tatsu.grammars.Token, tatsu.grammars.Named, tatsu.grammars.Token],\n",
       " [tatsu.grammars.Token, tatsu.grammars.Named, tatsu.grammars.Token],\n",
       " [tatsu.grammars.Named, tatsu.grammars.Closure],\n",
       " [tatsu.grammars.Token, tatsu.grammars.Named],\n",
       " [tatsu.grammars.Token, tatsu.grammars.Named],\n",
       " [tatsu.grammars.Token, tatsu.grammars.Named]]"
      ]
     },
     "execution_count": 35,
     "metadata": {},
     "output_type": "execute_result"
    }
   ],
   "source": [
    "[[type(r) for r in sr.children()[0].children()] for sr in seq_rules]"
   ]
  },
  {
   "cell_type": "code",
   "execution_count": 36,
   "metadata": {},
   "outputs": [
    {
     "data": {
      "text/plain": [
       "[<tatsu.grammars.Named at 0x7fd7b8b1f340>]"
      ]
     },
     "execution_count": 36,
     "metadata": {},
     "output_type": "execute_result"
    }
   ],
   "source": [
    "seq_rules[5].children()[0].children()[1].children()"
   ]
  },
  {
   "cell_type": "code",
   "execution_count": 37,
   "metadata": {},
   "outputs": [],
   "source": [
    "type_def_rule = [r for r in grammar_parser.rules if r.name == 'type_definition'][0]\n",
    "type_name_rule = [r for r in grammar_parser.rules if r.name == 'type_name'][0]"
   ]
  },
  {
   "cell_type": "code",
   "execution_count": 38,
   "metadata": {},
   "outputs": [
    {
     "data": {
      "text/plain": [
       "[<tatsu.grammars.RuleRef at 0x7fd7b8aac340>]"
      ]
     },
     "execution_count": 38,
     "metadata": {},
     "output_type": "execute_result"
    }
   ],
   "source": [
    "type_name_rule.children()"
   ]
  },
  {
   "cell_type": "code",
   "execution_count": 39,
   "metadata": {},
   "outputs": [
    {
     "data": {
      "text/plain": [
       "[<tatsu.grammars.Named at 0x7fd7d8487a90>]"
      ]
     },
     "execution_count": 39,
     "metadata": {},
     "output_type": "execute_result"
    }
   ],
   "source": [
    "type_def_rule.children()"
   ]
  },
  {
   "cell_type": "code",
   "execution_count": 40,
   "metadata": {},
   "outputs": [
    {
     "data": {
      "text/plain": [
       "tatsu.infos.ParseInfo"
      ]
     },
     "execution_count": 40,
     "metadata": {},
     "output_type": "execute_result"
    }
   ],
   "source": [
    "type(asts[0][1].parseinfo)"
   ]
  },
  {
   "cell_type": "code",
   "execution_count": 41,
   "metadata": {},
   "outputs": [
    {
     "name": "stdout",
     "output_type": "stream",
     "text": [
      "\u001b[0;31mInit signature:\u001b[0m \u001b[0mtatsu\u001b[0m\u001b[0;34m.\u001b[0m\u001b[0minfos\u001b[0m\u001b[0;34m.\u001b[0m\u001b[0mParseInfo\u001b[0m\u001b[0;34m(\u001b[0m\u001b[0mtokenizer\u001b[0m\u001b[0;34m,\u001b[0m \u001b[0mrule\u001b[0m\u001b[0;34m,\u001b[0m \u001b[0mpos\u001b[0m\u001b[0;34m,\u001b[0m \u001b[0mendpos\u001b[0m\u001b[0;34m,\u001b[0m \u001b[0mline\u001b[0m\u001b[0;34m,\u001b[0m \u001b[0mendline\u001b[0m\u001b[0;34m)\u001b[0m\u001b[0;34m\u001b[0m\u001b[0;34m\u001b[0m\u001b[0m\n",
      "\u001b[0;31mDocstring:\u001b[0m      _ParseInfo(tokenizer, rule, pos, endpos, line, endline)\n",
      "\u001b[0;31mFile:\u001b[0m           ~/opt/anaconda3/envs/torch/lib/python3.8/site-packages/tatsu/infos.py\n",
      "\u001b[0;31mType:\u001b[0m           type\n",
      "\u001b[0;31mSubclasses:\u001b[0m     \n"
     ]
    }
   ],
   "source": [
    "tatsu.infos.ParseInfo?"
   ]
  },
  {
   "cell_type": "code",
   "execution_count": 42,
   "metadata": {},
   "outputs": [
    {
     "name": "stdout",
     "output_type": "stream",
     "text": [
      "\u001b[0;31mInit signature:\u001b[0m \u001b[0mtatsu\u001b[0m\u001b[0;34m.\u001b[0m\u001b[0mast\u001b[0m\u001b[0;34m.\u001b[0m\u001b[0mAST\u001b[0m\u001b[0;34m(\u001b[0m\u001b[0;34m*\u001b[0m\u001b[0margs\u001b[0m\u001b[0;34m,\u001b[0m \u001b[0;34m**\u001b[0m\u001b[0mkwargs\u001b[0m\u001b[0;34m)\u001b[0m\u001b[0;34m\u001b[0m\u001b[0;34m\u001b[0m\u001b[0m\n",
      "\u001b[0;31mDocstring:\u001b[0m     \n",
      "dict() -> new empty dictionary\n",
      "dict(mapping) -> new dictionary initialized from a mapping object's\n",
      "    (key, value) pairs\n",
      "dict(iterable) -> new dictionary initialized as if via:\n",
      "    d = {}\n",
      "    for k, v in iterable:\n",
      "        d[k] = v\n",
      "dict(**kwargs) -> new dictionary initialized with the name=value pairs\n",
      "    in the keyword argument list.  For example:  dict(one=1, two=2)\n",
      "\u001b[0;31mFile:\u001b[0m           ~/opt/anaconda3/envs/torch/lib/python3.8/site-packages/tatsu/ast.py\n",
      "\u001b[0;31mType:\u001b[0m           type\n",
      "\u001b[0;31mSubclasses:\u001b[0m     \n"
     ]
    }
   ],
   "source": [
    "tatsu.ast.AST?"
   ]
  },
  {
   "cell_type": "code",
   "execution_count": 43,
   "metadata": {},
   "outputs": [
    {
     "data": {
      "text/plain": [
       "[<tatsu.grammars.Named at 0x7fd7d8487a90>]"
      ]
     },
     "execution_count": 43,
     "metadata": {},
     "output_type": "execute_result"
    }
   ],
   "source": [
    "type_def_rule.children()"
   ]
  },
  {
   "cell_type": "code",
   "execution_count": 57,
   "metadata": {},
   "outputs": [],
   "source": [
    "ast = asts[0]"
   ]
  },
  {
   "cell_type": "code",
   "execution_count": 55,
   "metadata": {},
   "outputs": [
    {
     "data": {
      "text/plain": [
       "{'variables': [{'var_names': '?h', 'var_type': {'type': 'hexagonal_bin', 'parseinfo': [None, 'type_definition', 108, 122, 2, 2]}, 'parseinfo': [None, 'variable_type_def', 104, 122, 2, 2]}, {'var_names': '?r', 'var_type': {'type': 'triangular_ramp', 'parseinfo': [None, 'type_definition', 127, 143, 2, 2]}, 'parseinfo': [None, 'variable_type_def', 122, 143, 2, 2]}], 'parseinfo': [None, 'variable_list', 102, 144, 2, 2]}"
      ]
     },
     "execution_count": 55,
     "metadata": {},
     "output_type": "execute_result"
    }
   ],
   "source": [
    "ast[3][1].setup.and_args.setup.exists_vars"
   ]
  },
  {
   "cell_type": "code",
   "execution_count": 73,
   "metadata": {},
   "outputs": [
    {
     "data": {
      "text/plain": [
       "'hexagonal_bin'"
      ]
     },
     "execution_count": 73,
     "metadata": {},
     "output_type": "execute_result"
    }
   ],
   "source": [
    "ast[4][1].preferences[1].definition.pref_body.body.exists_vars.variables.var_type.type"
   ]
  },
  {
   "cell_type": "code",
   "execution_count": 9,
   "metadata": {},
   "outputs": [
    {
     "data": {
      "text/plain": [
       "{'preferences': {'preferences': [{'definition': {'pref_name': 'throwToRampToBin', 'pref_body': {'body': {'exists_vars': {'variables': [{'var_names': '?b', 'var_type': {'type': 'ball', 'parseinfo': [None, 'type_definition', 276, 281, 8, 8]}, 'parseinfo': [None, 'variable_type_def', 272, 281, 8, 8]}, {'var_names': '?r', 'var_type': {'type': 'triangular_ramp', 'parseinfo': [None, 'type_definition', 286, 302, 8, 8]}, 'parseinfo': [None, 'variable_type_def', 281, 302, 8, 8]}, {'var_names': '?h', 'var_type': {'type': 'hexagonal_bin', 'parseinfo': [None, 'type_definition', 307, 321, 8, 8]}, 'parseinfo': [None, 'variable_type_def', 302, 321, 8, 8]}], 'parseinfo': [None, 'variable_list', 270, 322, 8, 8]}, 'exists_args': {'body': {'then_funcs': [{'seq_func': {'once_pred': {'pred': {'pred_name': 'agent_holds', 'pred_args': {'term': '?b', 'parseinfo': [None, 'predicate_term', 377, 380, 10, 10]}, 'parseinfo': [None, 'predicate', 365, 381, 10, 10]}, 'parseinfo': [None, 'super_predicate', 365, 381, 10, 10]}, 'parseinfo': [None, 'once', 359, 382, 10, 10]}, 'parseinfo': [None, 'seq_func', 341, 382, 9, 10]}, {'seq_func': {'hold_pred': {'pred': {'and_args': [{'pred': {'not_args': {'pred': {'pred_name': 'agent_holds', 'pred_args': {'term': '?b', 'parseinfo': [None, 'predicate_term', 455, 458, 12, 12]}, 'parseinfo': [None, 'predicate', 443, 459, 12, 12]}, 'parseinfo': [None, 'super_predicate', 442, 459, 12, 12]}, 'parseinfo': [None, 'super_predicate_not', 438, 460, 12, 12]}, 'parseinfo': [None, 'super_predicate', 437, 460, 12, 12]}, {'pred': {'pred_name': 'in_motion', 'pred_args': {'term': '?b', 'parseinfo': [None, 'predicate_term', 471, 474, 12, 12]}, 'parseinfo': [None, 'predicate', 461, 475, 12, 12]}, 'parseinfo': [None, 'super_predicate', 460, 475, 12, 12]}], 'parseinfo': [None, 'super_predicate_and', 433, 476, 12, 12]}, 'parseinfo': [None, 'super_predicate', 411, 476, 11, 12]}, 'while_preds': {'pred': {'pred_name': 'touch', 'pred_args': [{'term': '?b', 'parseinfo': [None, 'predicate_term', 503, 506, 13, 13]}, {'term': '?r', 'parseinfo': [None, 'predicate_term', 506, 509, 13, 13]}], 'parseinfo': [None, 'predicate', 497, 510, 13, 13]}, 'parseinfo': [None, 'super_predicate', 476, 510, 12, 13]}, 'parseinfo': [None, 'while_hold', 400, 528, 11, 14]}, 'parseinfo': [None, 'seq_func', 382, 528, 10, 14]}, {'seq_func': {'once_pred': {'pred': {'and_args': [{'pred': {'pred_name': 'in', 'pred_args': [{'term': '?h', 'parseinfo': [None, 'predicate_term', 561, 564, 15, 15]}, {'term': '?b', 'parseinfo': [None, 'predicate_term', 564, 567, 15, 15]}], 'parseinfo': [None, 'predicate', 558, 568, 15, 15]}, 'parseinfo': [None, 'super_predicate', 557, 568, 15, 15]}, {'pred': {'not_args': {'pred': {'pred_name': 'in_motion', 'pred_args': {'term': '?b', 'parseinfo': [None, 'predicate_term', 584, 587, 15, 15]}, 'parseinfo': [None, 'predicate', 574, 588, 15, 15]}, 'parseinfo': [None, 'super_predicate', 573, 588, 15, 15]}, 'parseinfo': [None, 'super_predicate_not', 569, 589, 15, 15]}, 'parseinfo': [None, 'super_predicate', 568, 589, 15, 15]}], 'parseinfo': [None, 'super_predicate_and', 553, 590, 15, 15]}, 'parseinfo': [None, 'super_predicate', 552, 590, 15, 15]}, 'parseinfo': [None, 'once', 546, 591, 15, 15]}, 'parseinfo': [None, 'seq_func', 528, 591, 14, 15]}], 'parseinfo': [None, 'then', 336, 606, 9, 16]}, 'parseinfo': [None, 'pref_body', 322, 606, 8, 16]}, 'parseinfo': [None, 'pref_body_exists', 263, 616, 8, 17]}, 'parseinfo': [None, 'pref_body', 254, 616, 7, 17]}, 'parseinfo': [None, 'preference', 226, 622, 7, 18]}, 'parseinfo': [None, 'pref_def', 220, 622, 6, 18]}, {'definition': {'pref_name': 'binKnockedOver', 'pref_body': {'body': {'exists_vars': {'variables': {'var_names': '?h', 'var_type': {'type': 'hexagonal_bin', 'parseinfo': [None, 'type_definition', 675, 689, 20, 20]}, 'parseinfo': [None, 'variable_type_def', 671, 689, 20, 20]}, 'parseinfo': [None, 'variable_list', 669, 690, 20, 20]}, 'exists_args': {'body': {'then_funcs': [{'seq_func': {'hold_pred': {'pred': {'and_args': [{'pred': {'not_args': {'pred': {'pred_name': 'touch', 'pred_args': [{'term': 'agent', 'parseinfo': [None, 'predicate_term', 749, 755, 22, 22]}, {'term': '?h', 'parseinfo': [None, 'predicate_term', 755, 758, 22, 22]}], 'parseinfo': [None, 'predicate', 743, 759, 22, 22]}, 'parseinfo': [None, 'super_predicate', 742, 759, 22, 22]}, 'parseinfo': [None, 'super_predicate_not', 738, 760, 22, 22]}, 'parseinfo': [None, 'super_predicate', 737, 760, 22, 22]}, {'pred': {'not_args': {'pred': {'pred_name': 'agent_holds', 'pred_args': {'term': '?h', 'parseinfo': [None, 'predicate_term', 778, 781, 22, 22]}, 'parseinfo': [None, 'predicate', 766, 782, 22, 22]}, 'parseinfo': [None, 'super_predicate', 765, 782, 22, 22]}, 'parseinfo': [None, 'super_predicate_not', 761, 783, 22, 22]}, 'parseinfo': [None, 'super_predicate', 760, 783, 22, 22]}], 'parseinfo': [None, 'super_predicate_and', 733, 784, 22, 22]}, 'parseinfo': [None, 'super_predicate', 732, 784, 22, 22]}, 'parseinfo': [None, 'hold', 727, 785, 22, 22]}, 'parseinfo': [None, 'seq_func', 709, 785, 21, 22]}, {'seq_func': {'once_pred': {'pred': {'not_args': {'pred': {'pred_name': 'object_orientation', 'pred_args': [{'term': '?h', 'parseinfo': [None, 'predicate_term', 832, 835, 23, 23]}, {'term': 'upright', 'parseinfo': [None, 'predicate_term', 835, 843, 23, 23]}], 'parseinfo': [None, 'predicate', 813, 844, 23, 23]}, 'parseinfo': [None, 'super_predicate', 812, 844, 23, 23]}, 'parseinfo': [None, 'super_predicate_not', 808, 845, 23, 23]}, 'parseinfo': [None, 'super_predicate', 808, 845, 23, 23]}, 'parseinfo': [None, 'once', 802, 846, 23, 23]}, 'parseinfo': [None, 'seq_func', 785, 846, 22, 23]}], 'parseinfo': [None, 'then', 704, 860, 21, 24]}, 'parseinfo': [None, 'pref_body', 690, 860, 20, 24]}, 'parseinfo': [None, 'pref_body_exists', 662, 870, 20, 25]}, 'parseinfo': [None, 'pref_body', 653, 870, 19, 25]}, 'parseinfo': [None, 'preference', 627, 876, 19, 26]}, 'parseinfo': [None, 'pref_def', 622, 876, 18, 26]}], 'parseinfo': [None, 'preferences', 215, 878, 6, 27]}, 'parseinfo': [None, 'constraints_def', 201, 879, 5, 27]}"
      ]
     },
     "execution_count": 9,
     "metadata": {},
     "output_type": "execute_result"
    }
   ],
   "source": [
    "asts[0][4]"
   ]
  },
  {
   "cell_type": "code",
   "execution_count": 11,
   "metadata": {},
   "outputs": [
    {
     "data": {
      "text/plain": [
       "'(define'"
      ]
     },
     "execution_count": 11,
     "metadata": {},
     "output_type": "execute_result"
    }
   ],
   "source": [
    "asts[0][0]"
   ]
  },
  {
   "cell_type": "code",
   "execution_count": 13,
   "metadata": {},
   "outputs": [
    {
     "data": {
      "text/plain": [
       "{'game_name': '6172feb1665491d1efbce164-0', 'parseinfo': [None, 'game_def', 7, 41, 0, 0]}"
      ]
     },
     "execution_count": 13,
     "metadata": {},
     "output_type": "execute_result"
    }
   ],
   "source": [
    "asts[0][1]"
   ]
  },
  {
   "cell_type": "code",
   "execution_count": null,
   "metadata": {},
   "outputs": [],
   "source": []
  }
 ],
 "metadata": {
  "interpreter": {
   "hash": "c7f8e00f851a7185e5345342178c14041451eaa6562c62790473e641b6de40ed"
  },
  "kernelspec": {
   "display_name": "Python 3.8.2 ('torch')",
   "language": "python",
   "name": "python3"
  },
  "language_info": {
   "codemirror_mode": {
    "name": "ipython",
    "version": 3
   },
   "file_extension": ".py",
   "mimetype": "text/x-python",
   "name": "python",
   "nbconvert_exporter": "python",
   "pygments_lexer": "ipython3",
   "version": "3.9.7"
  },
  "orig_nbformat": 4
 },
 "nbformat": 4,
 "nbformat_minor": 2
}
