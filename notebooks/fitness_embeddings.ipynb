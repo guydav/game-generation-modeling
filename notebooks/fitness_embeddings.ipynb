{
 "cells": [
  {
   "cell_type": "code",
   "execution_count": 1,
   "metadata": {},
   "outputs": [],
   "source": [
    "%autoreload 2"
   ]
  },
  {
   "cell_type": "code",
   "execution_count": 90,
   "metadata": {},
   "outputs": [],
   "source": [
    "from collections import defaultdict\n",
    "import difflib\n",
    "import gzip\n",
    "import os\n",
    "import pickle\n",
    "import sys\n",
    "import time\n",
    "import typing\n",
    "\n",
    "from IPython.display import display, Markdown, HTML\n",
    "import matplotlib\n",
    "import matplotlib.pyplot as plt\n",
    "import numpy as np\n",
    "from pactools.grid_search import GridSearchCVProgressBar\n",
    "import pandas as pd\n",
    "import sklearn\n",
    "from sklearn.model_selection import GridSearchCV, train_test_split, KFold\n",
    "from sklearn.pipeline import Pipeline\n",
    "from sklearn.manifold import TSNE\n",
    "from sklearn.decomposition import PCA\n",
    "import torch\n",
    "import torch.nn as nn\n",
    "import torch.nn.functional as F\n",
    "import tqdm.notebook as tqdm\n",
    "\n",
    "\n",
    "sys.path.append(os.path.abspath('..'))\n",
    "sys.path.append(os.path.abspath('../src'))\n",
    "from src import fitness_energy_utils as utils\n",
    "from src.ast_utils import load_games_from_file, _extract_game_id"
   ]
  },
  {
   "cell_type": "code",
   "execution_count": 3,
   "metadata": {},
   "outputs": [],
   "source": [
    "import openai\n",
    "openai.api_key = os.getenv('OPENAI_API_KEY')"
   ]
  },
  {
   "cell_type": "code",
   "execution_count": 4,
   "metadata": {},
   "outputs": [],
   "source": [
    "game_texts = list(load_games_from_file('../dsl/interactive-beta.pddl'))"
   ]
  },
  {
   "cell_type": "code",
   "execution_count": 26,
   "metadata": {},
   "outputs": [],
   "source": [
    "def embed_text(text: str, model: str = 'text-embedding-ada-002'):\n",
    "    text = text.replace(\"\\n\", \" \")\n",
    "    return openai.Embedding.create(input = [text], model=model)\n",
    "\n",
    "\n",
    "def embed_multiple_texts(texts: typing.List[str], model: str = 'text-embedding-ada-002'):\n",
    "    texts = [t.replace(\"\\n\", \" \") for t in texts]\n",
    "    return openai.Embedding.create(input = texts, model=model)\n"
   ]
  },
  {
   "cell_type": "code",
   "execution_count": 39,
   "metadata": {},
   "outputs": [],
   "source": [
    "REGENERATE_EMBEDDINGS = False \n",
    "\n",
    "if REGENERATE_EMBEDDINGS:\n",
    "    result = embed_multiple_texts(game_texts)\n",
    "    # embeddings = np.array([result.data[i].embedding for i in range(len(result.data))])\n",
    "    embeddings = torch.tensor([result.data[i].embedding for i in range(len(result.data))])\n",
    "    torch.save(embeddings, '../data/interactive-beta-embeddings.pt', pickle_protocol=pickle.HIGHEST_PROTOCOL)\n",
    "\n",
    "else:\n",
    "    embeddings = torch.load('../data/interactive-beta-embeddings.pt')"
   ]
  },
  {
   "cell_type": "code",
   "execution_count": 47,
   "metadata": {},
   "outputs": [],
   "source": [
    "regrown_game_texts = list(load_games_from_file('../dsl/ast-real-regrowth-samples.pddl'))\n",
    "REGROWN_GAMES_PER_ORIGINAL = int(len(regrown_game_texts) / len(game_texts))\n",
    "embeddings_by_original_game = []\n"
   ]
  },
  {
   "cell_type": "code",
   "execution_count": 51,
   "metadata": {},
   "outputs": [],
   "source": [
    "REGENERATE_REGROWTH_EMBEDDINGS = False\n",
    "\n",
    "if REGENERATE_REGROWTH_EMBEDDINGS:\n",
    "    start_index = len(embeddings_by_original_game)\n",
    "\n",
    "    for i in tqdm.tnrange(len(game_texts)):\n",
    "        game_regrown_games = regrown_game_texts[i * REGROWN_GAMES_PER_ORIGINAL: (i + 1) * REGROWN_GAMES_PER_ORIGINAL]\n",
    "        game_results = embed_multiple_texts(game_regrown_games)\n",
    "        game_embeddings = torch.tensor([game_results.data[i].embedding for i in range(len(game_results.data))])\n",
    "        embeddings_by_original_game.append(game_embeddings)\n",
    "        time.sleep(5)\n",
    "\n",
    "    regrown_embeddings = torch.stack(embeddings_by_original_game)\n",
    "    print(regrown_embeddings.shape)\n",
    "    torch.save(regrown_embeddings, '../data/ast-real-regrowth-samples-embeddings.pt', pickle_protocol=pickle.HIGHEST_PROTOCOL)\n",
    "\n",
    "else:\n",
    "    regrowth_embeddings = torch.load('../data/ast-real-regrowth-samples-embeddings.pt')"
   ]
  },
  {
   "attachments": {},
   "cell_type": "markdown",
   "metadata": {},
   "source": [
    "## Let's see what the space of these embeddings looks like"
   ]
  },
  {
   "cell_type": "code",
   "execution_count": 55,
   "metadata": {},
   "outputs": [
    {
     "data": {
      "text/plain": [
       "torch.Size([6370, 1536])"
      ]
     },
     "execution_count": 55,
     "metadata": {},
     "output_type": "execute_result"
    }
   ],
   "source": [
    "all_embeddings = torch.cat([embeddings, regrowth_embeddings.reshape(-1, regrowth_embeddings.shape[-1])], dim=0)\n",
    "all_embeddings.shape"
   ]
  },
  {
   "cell_type": "code",
   "execution_count": 59,
   "metadata": {},
   "outputs": [
    {
     "data": {
      "text/html": [
       "<style>#sk-container-id-1 {color: black;background-color: white;}#sk-container-id-1 pre{padding: 0;}#sk-container-id-1 div.sk-toggleable {background-color: white;}#sk-container-id-1 label.sk-toggleable__label {cursor: pointer;display: block;width: 100%;margin-bottom: 0;padding: 0.3em;box-sizing: border-box;text-align: center;}#sk-container-id-1 label.sk-toggleable__label-arrow:before {content: \"▸\";float: left;margin-right: 0.25em;color: #696969;}#sk-container-id-1 label.sk-toggleable__label-arrow:hover:before {color: black;}#sk-container-id-1 div.sk-estimator:hover label.sk-toggleable__label-arrow:before {color: black;}#sk-container-id-1 div.sk-toggleable__content {max-height: 0;max-width: 0;overflow: hidden;text-align: left;background-color: #f0f8ff;}#sk-container-id-1 div.sk-toggleable__content pre {margin: 0.2em;color: black;border-radius: 0.25em;background-color: #f0f8ff;}#sk-container-id-1 input.sk-toggleable__control:checked~div.sk-toggleable__content {max-height: 200px;max-width: 100%;overflow: auto;}#sk-container-id-1 input.sk-toggleable__control:checked~label.sk-toggleable__label-arrow:before {content: \"▾\";}#sk-container-id-1 div.sk-estimator input.sk-toggleable__control:checked~label.sk-toggleable__label {background-color: #d4ebff;}#sk-container-id-1 div.sk-label input.sk-toggleable__control:checked~label.sk-toggleable__label {background-color: #d4ebff;}#sk-container-id-1 input.sk-hidden--visually {border: 0;clip: rect(1px 1px 1px 1px);clip: rect(1px, 1px, 1px, 1px);height: 1px;margin: -1px;overflow: hidden;padding: 0;position: absolute;width: 1px;}#sk-container-id-1 div.sk-estimator {font-family: monospace;background-color: #f0f8ff;border: 1px dotted black;border-radius: 0.25em;box-sizing: border-box;margin-bottom: 0.5em;}#sk-container-id-1 div.sk-estimator:hover {background-color: #d4ebff;}#sk-container-id-1 div.sk-parallel-item::after {content: \"\";width: 100%;border-bottom: 1px solid gray;flex-grow: 1;}#sk-container-id-1 div.sk-label:hover label.sk-toggleable__label {background-color: #d4ebff;}#sk-container-id-1 div.sk-serial::before {content: \"\";position: absolute;border-left: 1px solid gray;box-sizing: border-box;top: 0;bottom: 0;left: 50%;z-index: 0;}#sk-container-id-1 div.sk-serial {display: flex;flex-direction: column;align-items: center;background-color: white;padding-right: 0.2em;padding-left: 0.2em;position: relative;}#sk-container-id-1 div.sk-item {position: relative;z-index: 1;}#sk-container-id-1 div.sk-parallel {display: flex;align-items: stretch;justify-content: center;background-color: white;position: relative;}#sk-container-id-1 div.sk-item::before, #sk-container-id-1 div.sk-parallel-item::before {content: \"\";position: absolute;border-left: 1px solid gray;box-sizing: border-box;top: 0;bottom: 0;left: 50%;z-index: -1;}#sk-container-id-1 div.sk-parallel-item {display: flex;flex-direction: column;z-index: 1;position: relative;background-color: white;}#sk-container-id-1 div.sk-parallel-item:first-child::after {align-self: flex-end;width: 50%;}#sk-container-id-1 div.sk-parallel-item:last-child::after {align-self: flex-start;width: 50%;}#sk-container-id-1 div.sk-parallel-item:only-child::after {width: 0;}#sk-container-id-1 div.sk-dashed-wrapped {border: 1px dashed gray;margin: 0 0.4em 0.5em 0.4em;box-sizing: border-box;padding-bottom: 0.4em;background-color: white;}#sk-container-id-1 div.sk-label label {font-family: monospace;font-weight: bold;display: inline-block;line-height: 1.2em;}#sk-container-id-1 div.sk-label-container {text-align: center;}#sk-container-id-1 div.sk-container {/* jupyter's `normalize.less` sets `[hidden] { display: none; }` but bootstrap.min.css set `[hidden] { display: none !important; }` so we also need the `!important` here to be able to override the default hidden behavior on the sphinx rendered scikit-learn.org. See: https://github.com/scikit-learn/scikit-learn/issues/21755 */display: inline-block !important;position: relative;}#sk-container-id-1 div.sk-text-repr-fallback {display: none;}</style><div id=\"sk-container-id-1\" class=\"sk-top-container\"><div class=\"sk-text-repr-fallback\"><pre>PCA(n_components=100)</pre><b>In a Jupyter environment, please rerun this cell to show the HTML representation or trust the notebook. <br />On GitHub, the HTML representation is unable to render, please try loading this page with nbviewer.org.</b></div><div class=\"sk-container\" hidden><div class=\"sk-item\"><div class=\"sk-estimator sk-toggleable\"><input class=\"sk-toggleable__control sk-hidden--visually\" id=\"sk-estimator-id-1\" type=\"checkbox\" checked><label for=\"sk-estimator-id-1\" class=\"sk-toggleable__label sk-toggleable__label-arrow\">PCA</label><div class=\"sk-toggleable__content\"><pre>PCA(n_components=100)</pre></div></div></div></div></div>"
      ],
      "text/plain": [
       "PCA(n_components=100)"
      ]
     },
     "execution_count": 59,
     "metadata": {},
     "output_type": "execute_result"
    }
   ],
   "source": [
    "pca = PCA(n_components=100)\n",
    "pca.fit(all_embeddings.numpy())"
   ]
  },
  {
   "cell_type": "code",
   "execution_count": 68,
   "metadata": {},
   "outputs": [
    {
     "data": {
      "text/plain": [
       "0.036825716"
      ]
     },
     "execution_count": 68,
     "metadata": {},
     "output_type": "execute_result"
    },
    {
     "data": {
      "image/png": "[encoded data removed]",
      "text/plain": [
       "<Figure size 640x480 with 1 Axes>"
      ]
     },
     "metadata": {},
     "output_type": "display_data"
    }
   ],
   "source": [
    "n_components = 100\n",
    "plt.bar(np.arange(n_components), pca.explained_variance_ratio_[:n_components])\n",
    "pca.explained_variance_ratio_[64:].sum()"
   ]
  },
  {
   "cell_type": "code",
   "execution_count": 69,
   "metadata": {},
   "outputs": [],
   "source": [
    "PCA_N_DIM = 64\n",
    "SEED = 33\n",
    "PCA_KWARGS = dict(random_state=SEED)\n",
    "TSNE_KAWRGS = dict(init='pca', learning_rate='auto', random_state=SEED)\n",
    "\n",
    "def pca_and_tsne(data: np.ndarray, pca_n_dim: int = PCA_N_DIM, \n",
    "    pca_kwargs: typing.Optional[typing.Dict] = None, tsne_kwargs: typing.Optional[typing.Dict] = None):\n",
    "\n",
    "    if pca_kwargs is None:\n",
    "        pca_kwargs = PCA_KWARGS\n",
    "    else:\n",
    "        temp_kwargs = PCA_KWARGS.copy()\n",
    "        temp_kwrags.update(pca_kwargs)\n",
    "        pca_kwargs = temp_kwargs\n",
    "\n",
    "    if tsne_kwargs is None:\n",
    "        tsne_kwargs = TSNE_KAWRGS\n",
    "\n",
    "    else:\n",
    "        temp_kwrags = TSNE_KAWRGS.copy()\n",
    "        temp_kwrags.update(tsne_kwargs)\n",
    "        tsne_kwargs = temp_kwrags\n",
    "\n",
    "    if data.ndim > 2:\n",
    "        data = data.reshape(-1, data.shape[-1])\n",
    "\n",
    "    pca = PCA(n_components=pca_n_dim, **pca_kwargs)\n",
    "    data_pca = pca.fit_transform(data)\n",
    "    tsne = TSNE(n_components=2, **tsne_kwargs)\n",
    "    data_tsne = tsne.fit_transform(data_pca)\n",
    "\n",
    "    return data_tsne"
   ]
  },
  {
   "cell_type": "code",
   "execution_count": 71,
   "metadata": {},
   "outputs": [
    {
     "name": "stderr",
     "output_type": "stream",
     "text": [
      "/Users/guydavidson/opt/anaconda3/envs/game-gen/lib/python3.10/site-packages/sklearn/manifold/_t_sne.py:996: FutureWarning: The PCA initialization in TSNE will change to have the standard deviation of PC1 equal to 1e-4 in 1.2. This will ensure better convergence.\n",
      "  warnings.warn(\n"
     ]
    },
    {
     "data": {
      "text/plain": [
       "(6370, 2)"
      ]
     },
     "execution_count": 71,
     "metadata": {},
     "output_type": "execute_result"
    }
   ],
   "source": [
    "tsne_embedded_data = pca_and_tsne(all_embeddings.numpy())\n",
    "tsne_embedded_data.shape"
   ]
  },
  {
   "cell_type": "code",
   "execution_count": 80,
   "metadata": {},
   "outputs": [
    {
     "data": {
      "text/plain": [
       "<matplotlib.collections.PathCollection at 0x1933c5ae0>"
      ]
     },
     "execution_count": 80,
     "metadata": {},
     "output_type": "execute_result"
    },
    {
     "data": {
      "image/png": "[encoded data removed]",
      "text/plain": [
       "<Figure size 600x600 with 1 Axes>"
      ]
     },
     "metadata": {},
     "output_type": "display_data"
    }
   ],
   "source": [
    "n_games = len(game_texts)\n",
    "plt.figure(figsize=(6, 6))\n",
    "plt.scatter(tsne_embedded_data[n_games:, 0], tsne_embedded_data[n_games:, 1], s=1, alpha=0.5)\n",
    "plt.scatter(tsne_embedded_data[:n_games, 0], tsne_embedded_data[:n_games, 1], s=13, c='red')\n"
   ]
  },
  {
   "attachments": {},
   "cell_type": "markdown",
   "metadata": {},
   "source": [
    "## Let's see what happens if we try to fit a fitness model based on these embeddings?"
   ]
  },
  {
   "cell_type": "code",
   "execution_count": 83,
   "metadata": {},
   "outputs": [],
   "source": [
    "def cross_validate(embeddings_tensor: torch.Tensor,\n",
    "    param_grid: typing.Union[typing.List[typing.Dict[str, typing.Any]], typing.Dict[str, typing.Any]],\n",
    "    scoring_function: typing.Callable = utils.evaluate_fitness,\n",
    "    model_kwargs: typing.Optional[typing.Dict[str, typing.Any]] = None,\n",
    "    train_kwargs: typing.Optional[typing.Dict[str, typing.Any]] = None, \n",
    "    cv_kwargs: typing.Optional[typing.Dict[str, typing.Any]] = None,\n",
    "    n_folds: int = 5, verbose: int = 0):\n",
    "\n",
    "    if model_kwargs is None:\n",
    "        model_kwargs = {}\n",
    "\n",
    "    if train_kwargs is None:\n",
    "        train_kwargs = {}\n",
    "\n",
    "    if cv_kwargs is None:\n",
    "        cv_kwargs = {}\n",
    "\n",
    "    if 'n_jobs' not in cv_kwargs: \n",
    "        cv_kwargs['n_jobs'] = -1\n",
    "    if 'verbose' not in cv_kwargs:\n",
    "        cv_kwargs['verbose'] = verbose\n",
    "\n",
    "    pipeline = Pipeline(steps=[('scaler', utils.CustomSklearnScaler()), ('fitness', utils.SklearnFitnessWrapper(model_kwargs=model_kwargs, train_kwargs=train_kwargs))])\n",
    "\n",
    "    if isinstance(param_grid, list):\n",
    "        for param_grid_dict in param_grid:\n",
    "            param_grid_dict['fitness__n_features'] = [embeddings_tensor.shape[-1]]\n",
    "    else:\n",
    "        param_grid['fitness__n_features'] = [embeddings_tensor.shape[-1]]        \n",
    "\n",
    "    random_seed = train_kwargs['random_seed'] if 'random_seed' in train_kwargs else None\n",
    "\n",
    "    cv = GridSearchCVProgressBar(pipeline, param_grid, scoring=scoring_function, \n",
    "        cv=KFold(n_folds, shuffle=True, random_state=random_seed), \n",
    "        **cv_kwargs)\n",
    "    return cv.fit(embeddings_tensor, None)\n",
    "\n",
    "\n",
    "def model_fitting_experiment(embeddings_tensor: torch.Tensor,\n",
    "    param_grid: typing.Union[typing.List[typing.Dict[str, typing.Any]], typing.Dict[str, typing.Any]], \n",
    "    feature_columns: typing.Optional[typing.List[str]] = None, \n",
    "    random_seed: int = utils.DEFAULT_RANDOM_SEED,\n",
    "    scoring_function: typing.Callable = utils.evaluate_fitness,\n",
    "    model_kwargs: typing.Optional[typing.Dict[str, typing.Any]] = None,\n",
    "    train_kwargs: typing.Optional[typing.Dict[str, typing.Any]] = None,\n",
    "    cv_kwargs: typing.Optional[typing.Dict[str, typing.Any]] = None,\n",
    "    n_folds: int = 5, verbose: int = 0\n",
    "    ):\n",
    "\n",
    "    if model_kwargs is None:\n",
    "        model_kwargs = {}\n",
    "\n",
    "    if train_kwargs is None:\n",
    "        train_kwargs = {}\n",
    "\n",
    "    cv = cross_validate(embeddings_tensor, param_grid,\n",
    "        scoring_function=scoring_function,\n",
    "        train_kwargs={'random_seed': random_seed, **train_kwargs}, \n",
    "        model_kwargs=model_kwargs, cv_kwargs=cv_kwargs, n_folds=n_folds, verbose=verbose)\n",
    "    # best_model = cv.best_estimator_.named_steps['fitness'].model  # type: ignore\n",
    "\n",
    "    # TODO: add evaluation on the held-out part of the dataset here\n",
    "    return cv\n",
    "\n"
   ]
  },
  {
   "cell_type": "code",
   "execution_count": 88,
   "metadata": {},
   "outputs": [
    {
     "data": {
      "text/plain": [
       "torch.Size([98, 65, 1536])"
      ]
     },
     "execution_count": 88,
     "metadata": {},
     "output_type": "execute_result"
    }
   ],
   "source": [
    "embeddings_for_fitness = torch.cat([embeddings.unsqueeze(1), regrowth_embeddings], dim=1)\n",
    "embeddings_for_fitness.shape"
   ]
  },
  {
   "cell_type": "code",
   "execution_count": 96,
   "metadata": {},
   "outputs": [
    {
     "name": "stdout",
     "output_type": "stream",
     "text": [
      "Fitting 5 folds for each of 1280 candidates, totalling 6400 fits\n"
     ]
    }
   ],
   "source": [
    "test_param_grid = [\n",
    "    {\n",
    "        'fitness__loss_function': [utils.fitness_hinge_loss], # [utils.fitness_hinge_loss_with_cross_example],\n",
    "        'fitness__weight_decay': [0.0, 0.25, 1, 2],  \n",
    "        'fitness__margin': [1, 2, 4, 8],\n",
    "        'fitness__lr':  [1e-1, 3e-2, 1e-2, 3e-3],  # [1e-1, 3e-2, 1e-2, 3e-3],\n",
    "        'fitness__k': [4, 8, 16, 32, 64],\n",
    "        'fitness__batch_size': [2, 4, 8, 16],  # [1, 4, 8, 16],\n",
    "        # 'fitness__alpha': [0, 0.25, 0.5, 0.75, 1], # [0, 0.1, 0.2, 0.3],  #\n",
    "    },\n",
    "]\n",
    "\n",
    "model_kwargs = dict(output_activation=nn.Identity())\n",
    "train_kwargs = dict()\n",
    "cv_kwargs = dict(refit='overall_ecdf')\n",
    "scoring = utils.build_multiple_scoring_function(\n",
    "    [utils.evaluate_fitness_overall_ecdf, utils.evaluate_fitness_single_game_rank],\n",
    "    ['overall_ecdf', 'single_game_rank'],\n",
    ")\n",
    "\n",
    "cv = model_fitting_experiment(embeddings_for_fitness, test_param_grid,\n",
    "    scoring_function=scoring, verbose=1, \n",
    "    model_kwargs=model_kwargs, train_kwargs=train_kwargs, cv_kwargs=cv_kwargs)\n"
   ]
  },
  {
   "cell_type": "code",
   "execution_count": 97,
   "metadata": {},
   "outputs": [
    {
     "data": {
      "text/html": [
       "<div>\n",
       "<style scoped>\n",
       "    .dataframe tbody tr th:only-of-type {\n",
       "        vertical-align: middle;\n",
       "    }\n",
       "\n",
       "    .dataframe tbody tr th {\n",
       "        vertical-align: top;\n",
       "    }\n",
       "\n",
       "    .dataframe thead th {\n",
       "        text-align: right;\n",
       "    }\n",
       "</style>\n",
       "<table border=\"1\" class=\"dataframe\">\n",
       "  <thead>\n",
       "    <tr style=\"text-align: right;\">\n",
       "      <th></th>\n",
       "      <th>fitness__batch_size</th>\n",
       "      <th>fitness__k</th>\n",
       "      <th>fitness__loss_function</th>\n",
       "      <th>fitness__lr</th>\n",
       "      <th>fitness__margin</th>\n",
       "      <th>fitness__n_features</th>\n",
       "      <th>fitness__weight_decay</th>\n",
       "      <th>ecdf_mean</th>\n",
       "      <th>ecdf_std</th>\n",
       "      <th>ecdf_rank</th>\n",
       "      <th>game_rank_mean</th>\n",
       "      <th>game_rank_std</th>\n",
       "      <th>game_rank_rank</th>\n",
       "    </tr>\n",
       "  </thead>\n",
       "  <tbody>\n",
       "    <tr>\n",
       "      <th>670</th>\n",
       "      <td>8</td>\n",
       "      <td>4</td>\n",
       "      <td>&lt;function fitness_hinge_loss at 0x192dd9fc0&gt;</td>\n",
       "      <td>0.03</td>\n",
       "      <td>8</td>\n",
       "      <td>1536</td>\n",
       "      <td>1.00</td>\n",
       "      <td>-0.023171</td>\n",
       "      <td>0.009461</td>\n",
       "      <td>1</td>\n",
       "      <td>1.00000</td>\n",
       "      <td>0.000000</td>\n",
       "      <td>1</td>\n",
       "    </tr>\n",
       "    <tr>\n",
       "      <th>346</th>\n",
       "      <td>4</td>\n",
       "      <td>4</td>\n",
       "      <td>&lt;function fitness_hinge_loss at 0x192dd9fc0&gt;</td>\n",
       "      <td>0.03</td>\n",
       "      <td>4</td>\n",
       "      <td>1536</td>\n",
       "      <td>1.00</td>\n",
       "      <td>-0.024840</td>\n",
       "      <td>0.011443</td>\n",
       "      <td>2</td>\n",
       "      <td>1.00000</td>\n",
       "      <td>0.000000</td>\n",
       "      <td>1</td>\n",
       "    </tr>\n",
       "    <tr>\n",
       "      <th>366</th>\n",
       "      <td>4</td>\n",
       "      <td>4</td>\n",
       "      <td>&lt;function fitness_hinge_loss at 0x192dd9fc0&gt;</td>\n",
       "      <td>0.01</td>\n",
       "      <td>8</td>\n",
       "      <td>1536</td>\n",
       "      <td>1.00</td>\n",
       "      <td>-0.025588</td>\n",
       "      <td>0.008913</td>\n",
       "      <td>3</td>\n",
       "      <td>1.00000</td>\n",
       "      <td>0.000000</td>\n",
       "      <td>1</td>\n",
       "    </tr>\n",
       "    <tr>\n",
       "      <th>46</th>\n",
       "      <td>2</td>\n",
       "      <td>4</td>\n",
       "      <td>&lt;function fitness_hinge_loss at 0x192dd9fc0&gt;</td>\n",
       "      <td>0.01</td>\n",
       "      <td>8</td>\n",
       "      <td>1536</td>\n",
       "      <td>1.00</td>\n",
       "      <td>-0.025630</td>\n",
       "      <td>0.012883</td>\n",
       "      <td>4</td>\n",
       "      <td>1.00000</td>\n",
       "      <td>0.000000</td>\n",
       "      <td>1</td>\n",
       "    </tr>\n",
       "    <tr>\n",
       "      <th>987</th>\n",
       "      <td>16</td>\n",
       "      <td>4</td>\n",
       "      <td>&lt;function fitness_hinge_loss at 0x192dd9fc0&gt;</td>\n",
       "      <td>0.03</td>\n",
       "      <td>4</td>\n",
       "      <td>1536</td>\n",
       "      <td>2.00</td>\n",
       "      <td>-0.025947</td>\n",
       "      <td>0.013846</td>\n",
       "      <td>5</td>\n",
       "      <td>1.00000</td>\n",
       "      <td>0.000000</td>\n",
       "      <td>1</td>\n",
       "    </tr>\n",
       "    <tr>\n",
       "      <th>458</th>\n",
       "      <td>4</td>\n",
       "      <td>16</td>\n",
       "      <td>&lt;function fitness_hinge_loss at 0x192dd9fc0&gt;</td>\n",
       "      <td>0.10</td>\n",
       "      <td>4</td>\n",
       "      <td>1536</td>\n",
       "      <td>1.00</td>\n",
       "      <td>-0.026207</td>\n",
       "      <td>0.005214</td>\n",
       "      <td>6</td>\n",
       "      <td>0.99935</td>\n",
       "      <td>0.000958</td>\n",
       "      <td>877</td>\n",
       "    </tr>\n",
       "    <tr>\n",
       "      <th>990</th>\n",
       "      <td>16</td>\n",
       "      <td>4</td>\n",
       "      <td>&lt;function fitness_hinge_loss at 0x192dd9fc0&gt;</td>\n",
       "      <td>0.03</td>\n",
       "      <td>8</td>\n",
       "      <td>1536</td>\n",
       "      <td>1.00</td>\n",
       "      <td>-0.026636</td>\n",
       "      <td>0.009649</td>\n",
       "      <td>7</td>\n",
       "      <td>1.00000</td>\n",
       "      <td>0.000000</td>\n",
       "      <td>1</td>\n",
       "    </tr>\n",
       "    <tr>\n",
       "      <th>653</th>\n",
       "      <td>8</td>\n",
       "      <td>4</td>\n",
       "      <td>&lt;function fitness_hinge_loss at 0x192dd9fc0&gt;</td>\n",
       "      <td>0.10</td>\n",
       "      <td>8</td>\n",
       "      <td>1536</td>\n",
       "      <td>0.25</td>\n",
       "      <td>-0.026676</td>\n",
       "      <td>0.016422</td>\n",
       "      <td>8</td>\n",
       "      <td>1.00000</td>\n",
       "      <td>0.000000</td>\n",
       "      <td>1</td>\n",
       "    </tr>\n",
       "    <tr>\n",
       "      <th>350</th>\n",
       "      <td>4</td>\n",
       "      <td>4</td>\n",
       "      <td>&lt;function fitness_hinge_loss at 0x192dd9fc0&gt;</td>\n",
       "      <td>0.03</td>\n",
       "      <td>8</td>\n",
       "      <td>1536</td>\n",
       "      <td>1.00</td>\n",
       "      <td>-0.026706</td>\n",
       "      <td>0.014943</td>\n",
       "      <td>9</td>\n",
       "      <td>1.00000</td>\n",
       "      <td>0.000000</td>\n",
       "      <td>1</td>\n",
       "    </tr>\n",
       "    <tr>\n",
       "      <th>1038</th>\n",
       "      <td>16</td>\n",
       "      <td>8</td>\n",
       "      <td>&lt;function fitness_hinge_loss at 0x192dd9fc0&gt;</td>\n",
       "      <td>0.10</td>\n",
       "      <td>8</td>\n",
       "      <td>1536</td>\n",
       "      <td>1.00</td>\n",
       "      <td>-0.027275</td>\n",
       "      <td>0.008138</td>\n",
       "      <td>10</td>\n",
       "      <td>1.00000</td>\n",
       "      <td>0.000000</td>\n",
       "      <td>1</td>\n",
       "    </tr>\n",
       "  </tbody>\n",
       "</table>\n",
       "</div>"
      ],
      "text/plain": [
       "      fitness__batch_size  fitness__k  \\\n",
       "670                     8           4   \n",
       "346                     4           4   \n",
       "366                     4           4   \n",
       "46                      2           4   \n",
       "987                    16           4   \n",
       "458                     4          16   \n",
       "990                    16           4   \n",
       "653                     8           4   \n",
       "350                     4           4   \n",
       "1038                   16           8   \n",
       "\n",
       "                            fitness__loss_function  fitness__lr  \\\n",
       "670   <function fitness_hinge_loss at 0x192dd9fc0>         0.03   \n",
       "346   <function fitness_hinge_loss at 0x192dd9fc0>         0.03   \n",
       "366   <function fitness_hinge_loss at 0x192dd9fc0>         0.01   \n",
       "46    <function fitness_hinge_loss at 0x192dd9fc0>         0.01   \n",
       "987   <function fitness_hinge_loss at 0x192dd9fc0>         0.03   \n",
       "458   <function fitness_hinge_loss at 0x192dd9fc0>         0.10   \n",
       "990   <function fitness_hinge_loss at 0x192dd9fc0>         0.03   \n",
       "653   <function fitness_hinge_loss at 0x192dd9fc0>         0.10   \n",
       "350   <function fitness_hinge_loss at 0x192dd9fc0>         0.03   \n",
       "1038  <function fitness_hinge_loss at 0x192dd9fc0>         0.10   \n",
       "\n",
       "      fitness__margin  fitness__n_features  fitness__weight_decay  ecdf_mean  \\\n",
       "670                 8                 1536                   1.00  -0.023171   \n",
       "346                 4                 1536                   1.00  -0.024840   \n",
       "366                 8                 1536                   1.00  -0.025588   \n",
       "46                  8                 1536                   1.00  -0.025630   \n",
       "987                 4                 1536                   2.00  -0.025947   \n",
       "458                 4                 1536                   1.00  -0.026207   \n",
       "990                 8                 1536                   1.00  -0.026636   \n",
       "653                 8                 1536                   0.25  -0.026676   \n",
       "350                 8                 1536                   1.00  -0.026706   \n",
       "1038                8                 1536                   1.00  -0.027275   \n",
       "\n",
       "      ecdf_std  ecdf_rank  game_rank_mean  game_rank_std  game_rank_rank  \n",
       "670   0.009461          1         1.00000       0.000000               1  \n",
       "346   0.011443          2         1.00000       0.000000               1  \n",
       "366   0.008913          3         1.00000       0.000000               1  \n",
       "46    0.012883          4         1.00000       0.000000               1  \n",
       "987   0.013846          5         1.00000       0.000000               1  \n",
       "458   0.005214          6         0.99935       0.000958             877  \n",
       "990   0.009649          7         1.00000       0.000000               1  \n",
       "653   0.016422          8         1.00000       0.000000               1  \n",
       "350   0.014943          9         1.00000       0.000000               1  \n",
       "1038  0.008138         10         1.00000       0.000000               1  "
      ]
     },
     "execution_count": 97,
     "metadata": {},
     "output_type": "execute_result"
    }
   ],
   "source": [
    "cv_df = pd.concat([\n",
    "    pd.DataFrame(cv.cv_results_[\"params\"]), \n",
    "    pd.DataFrame(cv.cv_results_[\"mean_test_overall_ecdf\"], columns=['ecdf_mean']), \n",
    "    pd.DataFrame(cv.cv_results_[\"std_test_overall_ecdf\"], columns=['ecdf_std']), \n",
    "    pd.DataFrame(cv.cv_results_[\"rank_test_overall_ecdf\"], columns=['ecdf_rank']),\n",
    "    pd.DataFrame(cv.cv_results_[\"mean_test_single_game_rank\"], columns=['game_rank_mean']), \n",
    "    pd.DataFrame(cv.cv_results_[\"std_test_single_game_rank\"], columns=['game_rank_std']), \n",
    "    pd.DataFrame(cv.cv_results_[\"rank_test_single_game_rank\"], columns=['game_rank_rank']),\n",
    "],axis=1)\n",
    "\n",
    "cv_df.sort_values(by='ecdf_rank').head(10)"
   ]
  },
  {
   "cell_type": "code",
   "execution_count": 98,
   "metadata": {},
   "outputs": [
    {
     "data": {
      "text/html": [
       "<div>\n",
       "<style scoped>\n",
       "    .dataframe tbody tr th:only-of-type {\n",
       "        vertical-align: middle;\n",
       "    }\n",
       "\n",
       "    .dataframe tbody tr th {\n",
       "        vertical-align: top;\n",
       "    }\n",
       "\n",
       "    .dataframe thead th {\n",
       "        text-align: right;\n",
       "    }\n",
       "</style>\n",
       "<table border=\"1\" class=\"dataframe\">\n",
       "  <thead>\n",
       "    <tr style=\"text-align: right;\">\n",
       "      <th></th>\n",
       "      <th>fitness__batch_size</th>\n",
       "      <th>fitness__k</th>\n",
       "      <th>fitness__loss_function</th>\n",
       "      <th>fitness__lr</th>\n",
       "      <th>fitness__margin</th>\n",
       "      <th>fitness__n_features</th>\n",
       "      <th>fitness__weight_decay</th>\n",
       "      <th>ecdf_mean</th>\n",
       "      <th>ecdf_std</th>\n",
       "      <th>ecdf_rank</th>\n",
       "      <th>game_rank_mean</th>\n",
       "      <th>game_rank_std</th>\n",
       "      <th>game_rank_rank</th>\n",
       "    </tr>\n",
       "  </thead>\n",
       "  <tbody>\n",
       "    <tr>\n",
       "      <th>639</th>\n",
       "      <td>4</td>\n",
       "      <td>64</td>\n",
       "      <td>&lt;function fitness_hinge_loss at 0x192dd9fc0&gt;</td>\n",
       "      <td>0.003</td>\n",
       "      <td>8</td>\n",
       "      <td>1536</td>\n",
       "      <td>2.00</td>\n",
       "      <td>-0.043906</td>\n",
       "      <td>0.013856</td>\n",
       "      <td>251</td>\n",
       "      <td>1.0</td>\n",
       "      <td>0.0</td>\n",
       "      <td>1</td>\n",
       "    </tr>\n",
       "    <tr>\n",
       "      <th>678</th>\n",
       "      <td>8</td>\n",
       "      <td>4</td>\n",
       "      <td>&lt;function fitness_hinge_loss at 0x192dd9fc0&gt;</td>\n",
       "      <td>0.010</td>\n",
       "      <td>2</td>\n",
       "      <td>1536</td>\n",
       "      <td>1.00</td>\n",
       "      <td>-0.044587</td>\n",
       "      <td>0.016356</td>\n",
       "      <td>270</td>\n",
       "      <td>1.0</td>\n",
       "      <td>0.0</td>\n",
       "      <td>1</td>\n",
       "    </tr>\n",
       "    <tr>\n",
       "      <th>679</th>\n",
       "      <td>8</td>\n",
       "      <td>4</td>\n",
       "      <td>&lt;function fitness_hinge_loss at 0x192dd9fc0&gt;</td>\n",
       "      <td>0.010</td>\n",
       "      <td>2</td>\n",
       "      <td>1536</td>\n",
       "      <td>2.00</td>\n",
       "      <td>-0.033988</td>\n",
       "      <td>0.014592</td>\n",
       "      <td>56</td>\n",
       "      <td>1.0</td>\n",
       "      <td>0.0</td>\n",
       "      <td>1</td>\n",
       "    </tr>\n",
       "    <tr>\n",
       "      <th>680</th>\n",
       "      <td>8</td>\n",
       "      <td>4</td>\n",
       "      <td>&lt;function fitness_hinge_loss at 0x192dd9fc0&gt;</td>\n",
       "      <td>0.010</td>\n",
       "      <td>4</td>\n",
       "      <td>1536</td>\n",
       "      <td>0.00</td>\n",
       "      <td>-0.069889</td>\n",
       "      <td>0.032041</td>\n",
       "      <td>654</td>\n",
       "      <td>1.0</td>\n",
       "      <td>0.0</td>\n",
       "      <td>1</td>\n",
       "    </tr>\n",
       "    <tr>\n",
       "      <th>681</th>\n",
       "      <td>8</td>\n",
       "      <td>4</td>\n",
       "      <td>&lt;function fitness_hinge_loss at 0x192dd9fc0&gt;</td>\n",
       "      <td>0.010</td>\n",
       "      <td>4</td>\n",
       "      <td>1536</td>\n",
       "      <td>0.25</td>\n",
       "      <td>-0.054322</td>\n",
       "      <td>0.017499</td>\n",
       "      <td>458</td>\n",
       "      <td>1.0</td>\n",
       "      <td>0.0</td>\n",
       "      <td>1</td>\n",
       "    </tr>\n",
       "    <tr>\n",
       "      <th>682</th>\n",
       "      <td>8</td>\n",
       "      <td>4</td>\n",
       "      <td>&lt;function fitness_hinge_loss at 0x192dd9fc0&gt;</td>\n",
       "      <td>0.010</td>\n",
       "      <td>4</td>\n",
       "      <td>1536</td>\n",
       "      <td>1.00</td>\n",
       "      <td>-0.030396</td>\n",
       "      <td>0.014469</td>\n",
       "      <td>28</td>\n",
       "      <td>1.0</td>\n",
       "      <td>0.0</td>\n",
       "      <td>1</td>\n",
       "    </tr>\n",
       "    <tr>\n",
       "      <th>683</th>\n",
       "      <td>8</td>\n",
       "      <td>4</td>\n",
       "      <td>&lt;function fitness_hinge_loss at 0x192dd9fc0&gt;</td>\n",
       "      <td>0.010</td>\n",
       "      <td>4</td>\n",
       "      <td>1536</td>\n",
       "      <td>2.00</td>\n",
       "      <td>-0.040365</td>\n",
       "      <td>0.018872</td>\n",
       "      <td>150</td>\n",
       "      <td>1.0</td>\n",
       "      <td>0.0</td>\n",
       "      <td>1</td>\n",
       "    </tr>\n",
       "    <tr>\n",
       "      <th>684</th>\n",
       "      <td>8</td>\n",
       "      <td>4</td>\n",
       "      <td>&lt;function fitness_hinge_loss at 0x192dd9fc0&gt;</td>\n",
       "      <td>0.010</td>\n",
       "      <td>8</td>\n",
       "      <td>1536</td>\n",
       "      <td>0.00</td>\n",
       "      <td>-0.041125</td>\n",
       "      <td>0.020809</td>\n",
       "      <td>175</td>\n",
       "      <td>1.0</td>\n",
       "      <td>0.0</td>\n",
       "      <td>1</td>\n",
       "    </tr>\n",
       "    <tr>\n",
       "      <th>685</th>\n",
       "      <td>8</td>\n",
       "      <td>4</td>\n",
       "      <td>&lt;function fitness_hinge_loss at 0x192dd9fc0&gt;</td>\n",
       "      <td>0.010</td>\n",
       "      <td>8</td>\n",
       "      <td>1536</td>\n",
       "      <td>0.25</td>\n",
       "      <td>-0.046839</td>\n",
       "      <td>0.017575</td>\n",
       "      <td>328</td>\n",
       "      <td>1.0</td>\n",
       "      <td>0.0</td>\n",
       "      <td>1</td>\n",
       "    </tr>\n",
       "    <tr>\n",
       "      <th>686</th>\n",
       "      <td>8</td>\n",
       "      <td>4</td>\n",
       "      <td>&lt;function fitness_hinge_loss at 0x192dd9fc0&gt;</td>\n",
       "      <td>0.010</td>\n",
       "      <td>8</td>\n",
       "      <td>1536</td>\n",
       "      <td>1.00</td>\n",
       "      <td>-0.032599</td>\n",
       "      <td>0.013168</td>\n",
       "      <td>46</td>\n",
       "      <td>1.0</td>\n",
       "      <td>0.0</td>\n",
       "      <td>1</td>\n",
       "    </tr>\n",
       "  </tbody>\n",
       "</table>\n",
       "</div>"
      ],
      "text/plain": [
       "     fitness__batch_size  fitness__k  \\\n",
       "639                    4          64   \n",
       "678                    8           4   \n",
       "679                    8           4   \n",
       "680                    8           4   \n",
       "681                    8           4   \n",
       "682                    8           4   \n",
       "683                    8           4   \n",
       "684                    8           4   \n",
       "685                    8           4   \n",
       "686                    8           4   \n",
       "\n",
       "                           fitness__loss_function  fitness__lr  \\\n",
       "639  <function fitness_hinge_loss at 0x192dd9fc0>        0.003   \n",
       "678  <function fitness_hinge_loss at 0x192dd9fc0>        0.010   \n",
       "679  <function fitness_hinge_loss at 0x192dd9fc0>        0.010   \n",
       "680  <function fitness_hinge_loss at 0x192dd9fc0>        0.010   \n",
       "681  <function fitness_hinge_loss at 0x192dd9fc0>        0.010   \n",
       "682  <function fitness_hinge_loss at 0x192dd9fc0>        0.010   \n",
       "683  <function fitness_hinge_loss at 0x192dd9fc0>        0.010   \n",
       "684  <function fitness_hinge_loss at 0x192dd9fc0>        0.010   \n",
       "685  <function fitness_hinge_loss at 0x192dd9fc0>        0.010   \n",
       "686  <function fitness_hinge_loss at 0x192dd9fc0>        0.010   \n",
       "\n",
       "     fitness__margin  fitness__n_features  fitness__weight_decay  ecdf_mean  \\\n",
       "639                8                 1536                   2.00  -0.043906   \n",
       "678                2                 1536                   1.00  -0.044587   \n",
       "679                2                 1536                   2.00  -0.033988   \n",
       "680                4                 1536                   0.00  -0.069889   \n",
       "681                4                 1536                   0.25  -0.054322   \n",
       "682                4                 1536                   1.00  -0.030396   \n",
       "683                4                 1536                   2.00  -0.040365   \n",
       "684                8                 1536                   0.00  -0.041125   \n",
       "685                8                 1536                   0.25  -0.046839   \n",
       "686                8                 1536                   1.00  -0.032599   \n",
       "\n",
       "     ecdf_std  ecdf_rank  game_rank_mean  game_rank_std  game_rank_rank  \n",
       "639  0.013856        251             1.0            0.0               1  \n",
       "678  0.016356        270             1.0            0.0               1  \n",
       "679  0.014592         56             1.0            0.0               1  \n",
       "680  0.032041        654             1.0            0.0               1  \n",
       "681  0.017499        458             1.0            0.0               1  \n",
       "682  0.014469         28             1.0            0.0               1  \n",
       "683  0.018872        150             1.0            0.0               1  \n",
       "684  0.020809        175             1.0            0.0               1  \n",
       "685  0.017575        328             1.0            0.0               1  \n",
       "686  0.013168         46             1.0            0.0               1  "
      ]
     },
     "execution_count": 98,
     "metadata": {},
     "output_type": "execute_result"
    }
   ],
   "source": [
    "cv_df.sort_values(by='game_rank_rank').head(10)"
   ]
  },
  {
   "cell_type": "code",
   "execution_count": 100,
   "metadata": {},
   "outputs": [],
   "source": [
    "cv.best_estimator_.fit(embeddings_for_fitness)\n",
    "cv_fitness_model = cv.best_estimator_\n",
    "\n",
    "output_path = '../models/cv_fitness_model_2023_01_05_from_embeddings.pkl.gz'\n",
    "original_output_path = output_path[:]\n",
    "i = 0\n",
    "while os.path.exists(output_path):\n",
    "    output_path = original_output_path + f'_{i}'\n",
    "    i += 1\n",
    "\n",
    "with gzip.open(output_path, 'wb') as f:\n",
    "    pickle.dump(cv_fitness_model, f, protocol=pickle.HIGHEST_PROTOCOL)\n",
    "\n"
   ]
  },
  {
   "cell_type": "code",
   "execution_count": 101,
   "metadata": {},
   "outputs": [
    {
     "data": {
      "text/plain": [
       "(-8.76208, 2.4813685)"
      ]
     },
     "execution_count": 101,
     "metadata": {},
     "output_type": "execute_result"
    }
   ],
   "source": [
    "real_scores = cv_fitness_model.transform(embeddings_for_fitness[:, 0, :]).detach().squeeze().numpy()\n",
    "negative_scores = cv_fitness_model.transform(embeddings_for_fitness[:, 1:, :]).detach().squeeze().numpy()\n",
    "real_scores.mean(), real_scores.std()"
   ]
  },
  {
   "cell_type": "code",
   "execution_count": 102,
   "metadata": {},
   "outputs": [
    {
     "data": {
      "text/plain": [
       "Text(0, 0.5, 'Count')"
      ]
     },
     "execution_count": 102,
     "metadata": {},
     "output_type": "execute_result"
    },
    {
     "data": {
      "image/png": "[encoded data removed]",
      "text/plain": [
       "<Figure size 640x480 with 1 Axes>"
      ]
     },
     "metadata": {},
     "output_type": "display_data"
    }
   ],
   "source": [
    "plt.hist(real_scores)\n",
    "plt.title('Fitness energy scores of real games')\n",
    "plt.xlabel('Energy score')\n",
    "plt.ylabel('Count')"
   ]
  },
  {
   "cell_type": "code",
   "execution_count": 103,
   "metadata": {},
   "outputs": [
    {
     "data": {
      "text/plain": [
       "<matplotlib.legend.Legend at 0x19309c4c0>"
      ]
     },
     "execution_count": 103,
     "metadata": {},
     "output_type": "execute_result"
    },
    {
     "data": {
      "image/png": "[encoded data removed]",
      "text/plain": [
       "<Figure size 640x480 with 1 Axes>"
      ]
     },
     "metadata": {},
     "output_type": "display_data"
    }
   ],
   "source": [
    "plt.hist([real_scores, negative_scores.flatten()], stacked=True, bins=100,\n",
    "    label=['Real games', 'Negatives'])\n",
    "plt.title('Fitness energy scores of all games')\n",
    "plt.xlabel('Energy score')\n",
    "plt.ylabel('log(Count)')\n",
    "plt.semilogy()\n",
    "plt.legend(loc='best')"
   ]
  },
  {
   "cell_type": "code",
   "execution_count": 104,
   "metadata": {},
   "outputs": [
    {
     "data": {
      "text/plain": [
       "(-3.50901e-05, 0.028054424, array(0.00042098, dtype=float32))"
      ]
     },
     "execution_count": 104,
     "metadata": {},
     "output_type": "execute_result"
    }
   ],
   "source": [
    "weights = cv.best_estimator_.named_steps['fitness'].model.fc1.weight.data.detach().numpy().squeeze()\n",
    "bias = cv.best_estimator_.named_steps['fitness'].model.fc1.bias.data.detach().numpy().squeeze()\n",
    "weights.mean(), weights.std(), bias"
   ]
  },
  {
   "cell_type": "code",
   "execution_count": 105,
   "metadata": {},
   "outputs": [
    {
     "data": {
      "text/plain": [
       "Text(0, 0.5, 'Count')"
      ]
     },
     "execution_count": 105,
     "metadata": {},
     "output_type": "execute_result"
    },
    {
     "data": {
      "image/png": "[encoded data removed]",
      "text/plain": [
       "<Figure size 640x480 with 1 Axes>"
      ]
     },
     "metadata": {},
     "output_type": "display_data"
    }
   ],
   "source": [
    "plt.hist(weights, bins=100)\n",
    "plt.title('Fitness Model Weights')\n",
    "plt.xlabel('Weight magnitude')\n",
    "plt.ylabel('Count')"
   ]
  },
  {
   "cell_type": "code",
   "execution_count": null,
   "metadata": {},
   "outputs": [],
   "source": []
  }
 ],
 "metadata": {
  "kernelspec": {
   "display_name": "game-gen",
   "language": "python",
   "name": "python3"
  },
  "language_info": {
   "codemirror_mode": {
    "name": "ipython",
    "version": 3
   },
   "file_extension": ".py",
   "mimetype": "text/x-python",
   "name": "python",
   "nbconvert_exporter": "python",
   "pygments_lexer": "ipython3",
   "version": "3.10.8"
  },
  "orig_nbformat": 4,
  "vscode": {
   "interpreter": {
    "hash": "d207b42274502bc006609ff0f580407f35ab20e7889cda7ddd92e73aeb06c569"
   }
  }
 },
 "nbformat": 4,
 "nbformat_minor": 2
}
