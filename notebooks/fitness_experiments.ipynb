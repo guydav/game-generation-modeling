{
 "cells": [
  {
   "cell_type": "code",
   "execution_count": 2,
   "metadata": {},
   "outputs": [],
   "source": [
    "%autoreload 2"
   ]
  },
  {
   "cell_type": "code",
   "execution_count": 3,
   "metadata": {},
   "outputs": [],
   "source": [
    "from collections import defaultdict\n",
    "import copy\n",
    "import os\n",
    "import sys\n",
    "import typing\n",
    "\n",
    "import matplotlib\n",
    "import matplotlib.pyplot as plt\n",
    "import numpy as np\n",
    "import pandas as pd\n",
    "import torch\n",
    "import torch.nn as nn\n",
    "import torch.nn.functional as F\n",
    "from torch.utils.data import TensorDataset, DataLoader\n",
    "import sklearn\n",
    "from sklearn.model_selection import GridSearchCV, train_test_split\n",
    "from sklearn.pipeline import Pipeline\n",
    "\n",
    "sys.path.append(os.path.abspath('..'))\n",
    "from src import fitness_energy_utils as utils\n",
    "from src.fitness_energy_utils import NON_FEATURE_COLUMNS\n"
   ]
  },
  {
   "cell_type": "code",
   "execution_count": 4,
   "metadata": {},
   "outputs": [
    {
     "name": "stdout",
     "output_type": "stream",
     "text": [
      "Index(['Index', 'src_file', 'game_name', 'domain_name', 'variables_defined',\n",
      "       'all_preferences_used', 'setup_objects_used', 'no_adjacent_once',\n",
      "       'starts_and_ends_once', 'variable_not_repeated', 'no_nested_logicals',\n",
      "       'pref_forall_correct', 'real', 'original_game_name'],\n",
      "      dtype='object')\n"
     ]
    },
    {
     "data": {
      "text/html": [
       "<div>\n",
       "<style scoped>\n",
       "    .dataframe tbody tr th:only-of-type {\n",
       "        vertical-align: middle;\n",
       "    }\n",
       "\n",
       "    .dataframe tbody tr th {\n",
       "        vertical-align: top;\n",
       "    }\n",
       "\n",
       "    .dataframe thead th {\n",
       "        text-align: right;\n",
       "    }\n",
       "</style>\n",
       "<table border=\"1\" class=\"dataframe\">\n",
       "  <thead>\n",
       "    <tr style=\"text-align: right;\">\n",
       "      <th></th>\n",
       "      <th>Index</th>\n",
       "      <th>src_file</th>\n",
       "      <th>game_name</th>\n",
       "      <th>domain_name</th>\n",
       "      <th>variables_defined</th>\n",
       "      <th>all_preferences_used</th>\n",
       "      <th>setup_objects_used</th>\n",
       "      <th>no_adjacent_once</th>\n",
       "      <th>starts_and_ends_once</th>\n",
       "      <th>variable_not_repeated</th>\n",
       "      <th>no_nested_logicals</th>\n",
       "      <th>pref_forall_correct</th>\n",
       "      <th>real</th>\n",
       "      <th>original_game_name</th>\n",
       "    </tr>\n",
       "  </thead>\n",
       "  <tbody>\n",
       "    <tr>\n",
       "      <th>0</th>\n",
       "      <td>0</td>\n",
       "      <td>interactive-beta.pddl</td>\n",
       "      <td>6172feb1665491d1efbce164-0</td>\n",
       "      <td>medium-objects-room-v1</td>\n",
       "      <td>1.0</td>\n",
       "      <td>1.0</td>\n",
       "      <td>1.00</td>\n",
       "      <td>1.0</td>\n",
       "      <td>0.5</td>\n",
       "      <td>1.0</td>\n",
       "      <td>1.0</td>\n",
       "      <td>1.0</td>\n",
       "      <td>True</td>\n",
       "      <td>6172feb1665491d1efbce164-0</td>\n",
       "    </tr>\n",
       "    <tr>\n",
       "      <th>1</th>\n",
       "      <td>1</td>\n",
       "      <td>interactive-beta.pddl</td>\n",
       "      <td>5f77754ba932fb2c4ba181d8-2</td>\n",
       "      <td>many-objects-room-v1</td>\n",
       "      <td>1.0</td>\n",
       "      <td>1.0</td>\n",
       "      <td>1.00</td>\n",
       "      <td>1.0</td>\n",
       "      <td>1.0</td>\n",
       "      <td>1.0</td>\n",
       "      <td>1.0</td>\n",
       "      <td>1.0</td>\n",
       "      <td>True</td>\n",
       "      <td>5f77754ba932fb2c4ba181d8-2</td>\n",
       "    </tr>\n",
       "    <tr>\n",
       "      <th>2</th>\n",
       "      <td>2</td>\n",
       "      <td>interactive-beta.pddl</td>\n",
       "      <td>614b603d4da88384282967a7-3</td>\n",
       "      <td>many-objects-room-v1</td>\n",
       "      <td>1.0</td>\n",
       "      <td>1.0</td>\n",
       "      <td>0.00</td>\n",
       "      <td>0.0</td>\n",
       "      <td>0.0</td>\n",
       "      <td>1.0</td>\n",
       "      <td>0.0</td>\n",
       "      <td>0.0</td>\n",
       "      <td>True</td>\n",
       "      <td>614b603d4da88384282967a7-3</td>\n",
       "    </tr>\n",
       "    <tr>\n",
       "      <th>3</th>\n",
       "      <td>3</td>\n",
       "      <td>interactive-beta.pddl</td>\n",
       "      <td>5bc79f652885710001a0e82a-5</td>\n",
       "      <td>few-objects-room-v1</td>\n",
       "      <td>1.0</td>\n",
       "      <td>1.0</td>\n",
       "      <td>0.00</td>\n",
       "      <td>1.0</td>\n",
       "      <td>1.0</td>\n",
       "      <td>1.0</td>\n",
       "      <td>1.0</td>\n",
       "      <td>1.0</td>\n",
       "      <td>True</td>\n",
       "      <td>5bc79f652885710001a0e82a-5</td>\n",
       "    </tr>\n",
       "    <tr>\n",
       "      <th>4</th>\n",
       "      <td>4</td>\n",
       "      <td>interactive-beta.pddl</td>\n",
       "      <td>614dec67f6eb129c3a77defd-6</td>\n",
       "      <td>medium-objects-room-v1</td>\n",
       "      <td>1.0</td>\n",
       "      <td>1.0</td>\n",
       "      <td>0.25</td>\n",
       "      <td>1.0</td>\n",
       "      <td>1.0</td>\n",
       "      <td>1.0</td>\n",
       "      <td>1.0</td>\n",
       "      <td>1.0</td>\n",
       "      <td>True</td>\n",
       "      <td>614dec67f6eb129c3a77defd-6</td>\n",
       "    </tr>\n",
       "  </tbody>\n",
       "</table>\n",
       "</div>"
      ],
      "text/plain": [
       "   Index               src_file                   game_name  \\\n",
       "0      0  interactive-beta.pddl  6172feb1665491d1efbce164-0   \n",
       "1      1  interactive-beta.pddl  5f77754ba932fb2c4ba181d8-2   \n",
       "2      2  interactive-beta.pddl  614b603d4da88384282967a7-3   \n",
       "3      3  interactive-beta.pddl  5bc79f652885710001a0e82a-5   \n",
       "4      4  interactive-beta.pddl  614dec67f6eb129c3a77defd-6   \n",
       "\n",
       "              domain_name  variables_defined  all_preferences_used  \\\n",
       "0  medium-objects-room-v1                1.0                   1.0   \n",
       "1    many-objects-room-v1                1.0                   1.0   \n",
       "2    many-objects-room-v1                1.0                   1.0   \n",
       "3     few-objects-room-v1                1.0                   1.0   \n",
       "4  medium-objects-room-v1                1.0                   1.0   \n",
       "\n",
       "   setup_objects_used  no_adjacent_once  starts_and_ends_once  \\\n",
       "0                1.00               1.0                   0.5   \n",
       "1                1.00               1.0                   1.0   \n",
       "2                0.00               0.0                   0.0   \n",
       "3                0.00               1.0                   1.0   \n",
       "4                0.25               1.0                   1.0   \n",
       "\n",
       "   variable_not_repeated  no_nested_logicals  pref_forall_correct  real  \\\n",
       "0                    1.0                 1.0                  1.0  True   \n",
       "1                    1.0                 1.0                  1.0  True   \n",
       "2                    1.0                 0.0                  0.0  True   \n",
       "3                    1.0                 1.0                  1.0  True   \n",
       "4                    1.0                 1.0                  1.0  True   \n",
       "\n",
       "           original_game_name  \n",
       "0  6172feb1665491d1efbce164-0  \n",
       "1  5f77754ba932fb2c4ba181d8-2  \n",
       "2  614b603d4da88384282967a7-3  \n",
       "3  5bc79f652885710001a0e82a-5  \n",
       "4  614dec67f6eb129c3a77defd-6  "
      ]
     },
     "execution_count": 4,
     "metadata": {},
     "output_type": "execute_result"
    }
   ],
   "source": [
    "fitness_df = utils.load_fitness_data()\n",
    "print(fitness_df.columns)\n",
    "fitness_df.head()"
   ]
  },
  {
   "cell_type": "code",
   "execution_count": 6,
   "metadata": {},
   "outputs": [
    {
     "data": {
      "text/html": [
       "<div>\n",
       "<style scoped>\n",
       "    .dataframe tbody tr th:only-of-type {\n",
       "        vertical-align: middle;\n",
       "    }\n",
       "\n",
       "    .dataframe tbody tr th {\n",
       "        vertical-align: top;\n",
       "    }\n",
       "\n",
       "    .dataframe thead th {\n",
       "        text-align: right;\n",
       "    }\n",
       "</style>\n",
       "<table border=\"1\" class=\"dataframe\">\n",
       "  <thead>\n",
       "    <tr style=\"text-align: right;\">\n",
       "      <th></th>\n",
       "      <th>Index</th>\n",
       "      <th>src_file</th>\n",
       "      <th>game_name</th>\n",
       "      <th>domain_name</th>\n",
       "      <th>variables_defined</th>\n",
       "      <th>all_preferences_used</th>\n",
       "      <th>setup_objects_used</th>\n",
       "      <th>no_adjacent_once</th>\n",
       "      <th>starts_and_ends_once</th>\n",
       "      <th>variable_not_repeated</th>\n",
       "      <th>no_nested_logicals</th>\n",
       "      <th>pref_forall_correct</th>\n",
       "      <th>real</th>\n",
       "      <th>original_game_name</th>\n",
       "    </tr>\n",
       "  </thead>\n",
       "  <tbody>\n",
       "    <tr>\n",
       "      <th>359</th>\n",
       "      <td>359</td>\n",
       "      <td>ast-regrowth-samples.pddl</td>\n",
       "      <td>6172feb1665491d1efbce164-0-5</td>\n",
       "      <td>medium-objects-room-v1</td>\n",
       "      <td>1.0</td>\n",
       "      <td>1.0</td>\n",
       "      <td>1.0</td>\n",
       "      <td>1.0</td>\n",
       "      <td>0.5</td>\n",
       "      <td>0.786885</td>\n",
       "      <td>1.0</td>\n",
       "      <td>1.0</td>\n",
       "      <td>False</td>\n",
       "      <td>6172feb1665491d1efbce164-0</td>\n",
       "    </tr>\n",
       "  </tbody>\n",
       "</table>\n",
       "</div>"
      ],
      "text/plain": [
       "     Index                   src_file                     game_name  \\\n",
       "359    359  ast-regrowth-samples.pddl  6172feb1665491d1efbce164-0-5   \n",
       "\n",
       "                domain_name  variables_defined  all_preferences_used  \\\n",
       "359  medium-objects-room-v1                1.0                   1.0   \n",
       "\n",
       "     setup_objects_used  no_adjacent_once  starts_and_ends_once  \\\n",
       "359                 1.0               1.0                   0.5   \n",
       "\n",
       "     variable_not_repeated  no_nested_logicals  pref_forall_correct   real  \\\n",
       "359               0.786885                 1.0                  1.0  False   \n",
       "\n",
       "             original_game_name  \n",
       "359  6172feb1665491d1efbce164-0  "
      ]
     },
     "execution_count": 6,
     "metadata": {},
     "output_type": "execute_result"
    }
   ],
   "source": [
    "fitness_df[fitness_df.game_name == '6172feb1665491d1efbce164-0-5']"
   ]
  },
  {
   "cell_type": "code",
   "execution_count": 4,
   "metadata": {},
   "outputs": [
    {
     "data": {
      "image/png": "[encoded data removed]",
      "text/plain": [
       "<Figure size 1440x720 with 8 Axes>"
      ]
     },
     "metadata": {
      "needs_background": "light"
     },
     "output_type": "display_data"
    },
    {
     "name": "stdout",
     "output_type": "stream",
     "text": [
      "In 50.13% of the games, the regrown game was identical to the original game.\n"
     ]
    }
   ],
   "source": [
    "fake_games = fitness_df[fitness_df.src_file == 'ast-regrowth-samples.pddl'].reset_index()\n",
    "broadcasted_original = fitness_df.loc[[fitness_df.index[(fitness_df.game_name == original_name)][0] for original_name in fake_games.original_game_name], :].reset_index()\n",
    "\n",
    "original_regrown_diffs = (broadcasted_original.drop(NON_FEATURE_COLUMNS, axis=1) - fake_games.drop(NON_FEATURE_COLUMNS, axis=1))\n",
    "\n",
    "fig, axes = plt.subplots(2, 4, figsize=(20, 10))\n",
    "index = 0\n",
    "for column in original_regrown_diffs.columns:\n",
    "    if column in ('index', 'Index', 'real'):\n",
    "        continue\n",
    "\n",
    "    ax = axes[index // 4][index % 4]\n",
    "    ax.hist(original_regrown_diffs[column], bins=20)\n",
    "    ax.set_title(f'{column} diff real minus regrown')\n",
    "    index += 1\n",
    "\n",
    "plt.show()\n",
    "unchanged_games_prop = (original_regrown_diffs.drop('index', axis=1) == 0).all(axis=1).sum() / len(original_regrown_diffs)\n",
    "print(f'In {unchanged_games_prop * 100:.2f}% of the games, the regrown game was identical to the original game.')"
   ]
  },
  {
   "cell_type": "markdown",
   "metadata": {},
   "source": [
    "# Approach\n",
    "* In each batch, sample some number of real games, and for each of them, subsample some number of the corrupted games.\n",
    "* Learn a regressor to the fitness (maybe with a hidden layer?)\n",
    "* Try different regularization approaches/strengths (L1, L2, both)\n",
    "* Evaluate on held-out validation set, see that it doesn't collapse\n",
    "\n",
    "## Loss function\n",
    "I'm inspired by the way Chris Dyer (in https://arxiv.org/abs/1410.8251) writes down the NCE loss:\n",
    "$$ \\mathcal{L}_{NCE_k}^{MC} = \\sum_{(w,c) \\in \\mathcal{D}} \\left( \\log p (D = 1 \\mid c, w) - \\sum_{i=1, \\bar{w} \\sim q}^k \\log p (D = 0 \\mid c, \\bar{w}) \\right) $$\n",
    "where: \n",
    "* $\\mathcal{D}$ is the dataset comprised of pairs $(c, w)$ of context and the correct continuation $w$\n",
    "* $D$ is the label, where $D = 1$ indicates true data and $D = $ indicates noise\n",
    "* $q$ is a noise proposal distribution from which to sample $\\bar{w}$, the noise foil examples for the current context.\n",
    "\n",
    "In our case: \n",
    "* I think of the context $c$ as some game id, where the correct production $w$ is the true game\n",
    "* Tha labels $D$ behave as they do above, $D = 1$ for a correct game and $D = 0$ for an incorrect one. \n",
    "* Our regrowth sampler is the proposal distribution $q$ (from which we could eventually generate as many samples as we want, but currently I pre-generate some number of samples per game).\n",
    "* Given that my fitness model produces a single output, which I currently pass through a sigmoid, we can think about it as outputting $P(D = 1 \\mid c, w)$, and taking 1 - its output as $P(D = 0 \\mid \\cdot)$\n",
    "\n",
    "Thus, the procedure becomes:\n",
    "1. In each batch, sample some number $B$ of true games.\n",
    "2. For each of those, sample $k$ correuptions of the game. \n",
    "3. Compute the loss for this example, and then average over the minibatch.\n",
    "4. Take a gradient step in this direction.\n"
   ]
  },
  {
   "cell_type": "markdown",
   "metadata": {},
   "source": [
    "# Reworking the above logic to support cross-validation\n",
    "\n",
    "## Data splitting approach\n",
    "Under the NCE-style thing I want to try, I basically want to take the real games and split them train/val/test, and then use the regrowth samples corresponding to each game for negative examples and for the normalization."
   ]
  },
  {
   "cell_type": "code",
   "execution_count": 5,
   "metadata": {},
   "outputs": [],
   "source": [
    "all_features = [\n",
    "    'variables_defined',\n",
    "    'all_preferences_used', 'setup_objects_used', 'no_adjacent_once',\n",
    "    'starts_and_ends_once', 'variable_not_repeated', 'no_nested_logicals',\n",
    "    'pref_forall_correct']\n",
    "\n",
    "def cross_validate(train: pd.DataFrame, feature_columns: typing.List[str], param_grid: typing.Dict[str, typing.Any],\n",
    "    train_kwargs: typing.Optional[typing.Dict[str, typing.Any]] = None):\n",
    "    train_tensor = utils.df_to_tensor(train, feature_columns)\n",
    "    pipeline = Pipeline(steps=[('scaler', utils.CustomSklearnScaler()), ('fitness', utils.SklearnFitnessWrapper(train_kwargs=train_kwargs))])\n",
    "\n",
    "    param_grid['fitness__n_features'] = [len(feature_columns)]\n",
    "\n",
    "    cv = GridSearchCV(pipeline, param_grid, scoring=utils.evaluate_fitness, cv=5, n_jobs=-1, verbose=1)\n",
    "    cv.fit(train_tensor, None)\n",
    "    return cv\n",
    "\n"
   ]
  },
  {
   "cell_type": "code",
   "execution_count": 6,
   "metadata": {},
   "outputs": [],
   "source": [
    "train_df, test_df = utils.train_test_split_by_game_name(fitness_df)"
   ]
  },
  {
   "cell_type": "code",
   "execution_count": 7,
   "metadata": {},
   "outputs": [
    {
     "name": "stdout",
     "output_type": "stream",
     "text": [
      "Fitting 5 folds for each of 12 candidates, totalling 60 fits\n"
     ]
    },
    {
     "data": {
      "text/html": [
       "<div>\n",
       "<style scoped>\n",
       "    .dataframe tbody tr th:only-of-type {\n",
       "        vertical-align: middle;\n",
       "    }\n",
       "\n",
       "    .dataframe tbody tr th {\n",
       "        vertical-align: top;\n",
       "    }\n",
       "\n",
       "    .dataframe thead th {\n",
       "        text-align: right;\n",
       "    }\n",
       "</style>\n",
       "<table border=\"1\" class=\"dataframe\">\n",
       "  <thead>\n",
       "    <tr style=\"text-align: right;\">\n",
       "      <th></th>\n",
       "      <th>fitness__hidden_size</th>\n",
       "      <th>fitness__n_features</th>\n",
       "      <th>fitness__n_outputs</th>\n",
       "      <th>fitness__weight_decay</th>\n",
       "      <th>score_mean</th>\n",
       "      <th>score_std</th>\n",
       "      <th>score_rank</th>\n",
       "    </tr>\n",
       "  </thead>\n",
       "  <tbody>\n",
       "    <tr>\n",
       "      <th>1</th>\n",
       "      <td>NaN</td>\n",
       "      <td>8</td>\n",
       "      <td>1</td>\n",
       "      <td>0.01</td>\n",
       "      <td>0.073656</td>\n",
       "      <td>0.005602</td>\n",
       "      <td>1</td>\n",
       "    </tr>\n",
       "    <tr>\n",
       "      <th>0</th>\n",
       "      <td>NaN</td>\n",
       "      <td>8</td>\n",
       "      <td>1</td>\n",
       "      <td>0.00</td>\n",
       "      <td>0.071151</td>\n",
       "      <td>0.008782</td>\n",
       "      <td>2</td>\n",
       "    </tr>\n",
       "    <tr>\n",
       "      <th>2</th>\n",
       "      <td>NaN</td>\n",
       "      <td>8</td>\n",
       "      <td>1</td>\n",
       "      <td>0.05</td>\n",
       "      <td>0.068247</td>\n",
       "      <td>0.010311</td>\n",
       "      <td>3</td>\n",
       "    </tr>\n",
       "    <tr>\n",
       "      <th>3</th>\n",
       "      <td>NaN</td>\n",
       "      <td>8</td>\n",
       "      <td>1</td>\n",
       "      <td>0.10</td>\n",
       "      <td>0.062703</td>\n",
       "      <td>0.008151</td>\n",
       "      <td>4</td>\n",
       "    </tr>\n",
       "    <tr>\n",
       "      <th>9</th>\n",
       "      <td>4.0</td>\n",
       "      <td>8</td>\n",
       "      <td>1</td>\n",
       "      <td>0.01</td>\n",
       "      <td>0.026015</td>\n",
       "      <td>0.033376</td>\n",
       "      <td>5</td>\n",
       "    </tr>\n",
       "    <tr>\n",
       "      <th>11</th>\n",
       "      <td>4.0</td>\n",
       "      <td>8</td>\n",
       "      <td>1</td>\n",
       "      <td>0.10</td>\n",
       "      <td>0.019402</td>\n",
       "      <td>0.037478</td>\n",
       "      <td>6</td>\n",
       "    </tr>\n",
       "    <tr>\n",
       "      <th>4</th>\n",
       "      <td>2.0</td>\n",
       "      <td>8</td>\n",
       "      <td>1</td>\n",
       "      <td>0.00</td>\n",
       "      <td>0.010163</td>\n",
       "      <td>0.011931</td>\n",
       "      <td>7</td>\n",
       "    </tr>\n",
       "    <tr>\n",
       "      <th>10</th>\n",
       "      <td>4.0</td>\n",
       "      <td>8</td>\n",
       "      <td>1</td>\n",
       "      <td>0.05</td>\n",
       "      <td>0.007857</td>\n",
       "      <td>0.016155</td>\n",
       "      <td>8</td>\n",
       "    </tr>\n",
       "    <tr>\n",
       "      <th>5</th>\n",
       "      <td>2.0</td>\n",
       "      <td>8</td>\n",
       "      <td>1</td>\n",
       "      <td>0.01</td>\n",
       "      <td>0.005212</td>\n",
       "      <td>0.014007</td>\n",
       "      <td>9</td>\n",
       "    </tr>\n",
       "    <tr>\n",
       "      <th>6</th>\n",
       "      <td>2.0</td>\n",
       "      <td>8</td>\n",
       "      <td>1</td>\n",
       "      <td>0.05</td>\n",
       "      <td>0.004115</td>\n",
       "      <td>0.031188</td>\n",
       "      <td>10</td>\n",
       "    </tr>\n",
       "  </tbody>\n",
       "</table>\n",
       "</div>"
      ],
      "text/plain": [
       "    fitness__hidden_size  fitness__n_features  fitness__n_outputs  \\\n",
       "1                    NaN                    8                   1   \n",
       "0                    NaN                    8                   1   \n",
       "2                    NaN                    8                   1   \n",
       "3                    NaN                    8                   1   \n",
       "9                    4.0                    8                   1   \n",
       "11                   4.0                    8                   1   \n",
       "4                    2.0                    8                   1   \n",
       "10                   4.0                    8                   1   \n",
       "5                    2.0                    8                   1   \n",
       "6                    2.0                    8                   1   \n",
       "\n",
       "    fitness__weight_decay  score_mean  score_std  score_rank  \n",
       "1                    0.01    0.073656   0.005602           1  \n",
       "0                    0.00    0.071151   0.008782           2  \n",
       "2                    0.05    0.068247   0.010311           3  \n",
       "3                    0.10    0.062703   0.008151           4  \n",
       "9                    0.01    0.026015   0.033376           5  \n",
       "11                   0.10    0.019402   0.037478           6  \n",
       "4                    0.00    0.010163   0.011931           7  \n",
       "10                   0.05    0.007857   0.016155           8  \n",
       "5                    0.01    0.005212   0.014007           9  \n",
       "6                    0.05    0.004115   0.031188          10  "
      ]
     },
     "execution_count": 7,
     "metadata": {},
     "output_type": "execute_result"
    }
   ],
   "source": [
    "test_param_grid = {\n",
    "    'fitness__n_outputs': [1], \n",
    "    'fitness__weight_decay': [0.0, 0.01, 0.05, 0.1], \n",
    "    'fitness__hidden_size': [None, 2, 4]   \n",
    "}\n",
    "cv = cross_validate(train_df, all_features, test_param_grid, train_kwargs=dict(should_print=False))\n",
    "cv_df = pd.concat([\n",
    "    pd.DataFrame(cv.cv_results_[\"params\"]), \n",
    "    pd.DataFrame(cv.cv_results_[\"mean_test_score\"], columns=['score_mean']), \n",
    "    pd.DataFrame(cv.cv_results_[\"std_test_score\"], columns=['score_std']), \n",
    "    pd.DataFrame(cv.cv_results_[\"rank_test_score\"], columns=['score_rank']),\n",
    "],axis=1)\n",
    "\n",
    "cv_df.sort_values(by='score_rank').head(10)"
   ]
  },
  {
   "cell_type": "code",
   "execution_count": 8,
   "metadata": {},
   "outputs": [],
   "source": [
    "train_tensor = utils.df_to_tensor(train_df, all_features)\n",
    "test_tensor = utils.df_to_tensor(test_df, all_features)"
   ]
  },
  {
   "cell_type": "code",
   "execution_count": 9,
   "metadata": {},
   "outputs": [],
   "source": [
    "best_model = cv.best_estimator_.named_steps['fitness'].model"
   ]
  },
  {
   "cell_type": "code",
   "execution_count": 10,
   "metadata": {},
   "outputs": [
    {
     "data": {
      "text/plain": [
       "((78, 17, 1), (20, 17, 1))"
      ]
     },
     "execution_count": 10,
     "metadata": {},
     "output_type": "execute_result"
    }
   ],
   "source": [
    "train_preds = best_model(train_tensor).detach().numpy()\n",
    "test_preds = best_model(test_tensor).detach().numpy()\n",
    "train_preds.shape, test_preds.shape"
   ]
  },
  {
   "cell_type": "code",
   "execution_count": 11,
   "metadata": {},
   "outputs": [
    {
     "data": {
      "text/plain": [
       "(0.5151515151515152, 0.16554809843400448, 0.1346153846153846)"
      ]
     },
     "execution_count": 11,
     "metadata": {},
     "output_type": "execute_result"
    }
   ],
   "source": [
    "from sklearn.metrics import f1_score\n",
    "\n",
    "\n",
    "def predict_at_threshold(preds: np.ndarray, threshold: float):\n",
    "    y_pred = (preds > threshold).astype(int)\n",
    "    y_true = np.zeros_like(y_pred)\n",
    "    y_true[:, 0] = 1\n",
    "    return y_true.reshape(-1), y_pred.reshape(-1)\n",
    "\n",
    "\n",
    "def evaluate_f1_with_threshold(preds: np.ndarray, threshold: float):\n",
    "    return f1_score(*predict_at_threshold(preds, threshold))\n",
    "\n",
    "\n",
    "def find_f1_threshold(preds: np.ndarray):\n",
    "    best_f1 = 0\n",
    "    best_threshold = 0\n",
    "    for threshold in np.linspace(0, 1, 100):\n",
    "        f1 = evaluate_f1_with_threshold(preds, threshold)\n",
    "        if f1 > best_f1:\n",
    "            best_f1 = f1\n",
    "            best_threshold = threshold\n",
    "\n",
    "    return best_threshold, best_f1\n",
    "\n",
    "train_threshold, train_f1 = find_f1_threshold(train_preds)\n",
    "train_threshold, train_f1, evaluate_f1_with_threshold(test_preds, train_threshold)"
   ]
  },
  {
   "cell_type": "code",
   "execution_count": 12,
   "metadata": {},
   "outputs": [
    {
     "data": {
      "image/png": "[encoded data removed]",
      "text/plain": [
       "<Figure size 432x288 with 1 Axes>"
      ]
     },
     "metadata": {
      "needs_background": "light"
     },
     "output_type": "display_data"
    }
   ],
   "source": [
    "from sklearn.metrics import roc_curve\n",
    "from sklearn.metrics import RocCurveDisplay\n",
    "\n",
    "\n",
    "y_true, y_pred = predict_at_threshold(train_preds, train_threshold)\n",
    "\n",
    "fpr, tpr, _ = roc_curve(y_true, train_preds.reshape(-1))\n",
    "roc_display = RocCurveDisplay(fpr=fpr, tpr=tpr).plot()\n"
   ]
  },
  {
   "cell_type": "code",
   "execution_count": null,
   "metadata": {},
   "outputs": [],
   "source": [
    "y_true.shape"
   ]
  },
  {
   "cell_type": "code",
   "execution_count": null,
   "metadata": {},
   "outputs": [],
   "source": []
  }
 ],
 "metadata": {
  "kernelspec": {
   "display_name": "Python 3.8.2 ('torch')",
   "language": "python",
   "name": "python3"
  },
  "language_info": {
   "codemirror_mode": {
    "name": "ipython",
    "version": 3
   },
   "file_extension": ".py",
   "mimetype": "text/x-python",
   "name": "python",
   "nbconvert_exporter": "python",
   "pygments_lexer": "ipython3",
   "version": "3.8.2"
  },
  "orig_nbformat": 4,
  "vscode": {
   "interpreter": {
    "hash": "c7f8e00f851a7185e5345342178c14041451eaa6562c62790473e641b6de40ed"
   }
  }
 },
 "nbformat": 4,
 "nbformat_minor": 2
}
