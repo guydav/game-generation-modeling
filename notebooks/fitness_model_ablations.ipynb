{
 "cells": [
  {
   "cell_type": "code",
   "execution_count": 1,
   "metadata": {},
   "outputs": [],
   "source": [
    "%autoreload 2\n"
   ]
  },
  {
   "cell_type": "code",
   "execution_count": 2,
   "metadata": {},
   "outputs": [
    {
     "name": "stderr",
     "output_type": "stream",
     "text": [
      "2023-08-31 09:52:19 - ast_utils - DEBUG    - Using cache folder: /misc/vlgscratch4/LakeGroup/guy/game_generation_cache\n",
      "2023-08-31 09:52:19 - src.ast_utils - DEBUG    - Using cache folder: /misc/vlgscratch4/LakeGroup/guy/game_generation_cache\n"
     ]
    }
   ],
   "source": [
    "from argparse import Namespace\n",
    "from collections import defaultdict\n",
    "import copy\n",
    "import difflib\n",
    "import gzip\n",
    "import itertools\n",
    "import os\n",
    "import pickle\n",
    "import sys\n",
    "import typing\n",
    "\n",
    "import logging\n",
    "logging.getLogger('matplotlib').setLevel(logging.WARNING)\n",
    "\n",
    "from IPython.display import display, Markdown, HTML\n",
    "import matplotlib\n",
    "import matplotlib.pyplot as plt\n",
    "import numpy as np\n",
    "import pandas as pd\n",
    "import sklearn\n",
    "from sklearn.model_selection import GridSearchCV, train_test_split, KFold\n",
    "from sklearn.pipeline import Pipeline\n",
    "import tatsu\n",
    "import torch\n",
    "import torch.nn as nn\n",
    "import torch.nn.functional as F\n",
    "from torch.utils.data import TensorDataset, DataLoader\n",
    "import tqdm.notebook as tqdm\n",
    "\n",
    "\n",
    "sys.path.append(os.path.abspath('..'))\n",
    "sys.path.append(os.path.abspath('../src'))\n",
    "from src import fitness_energy_utils as utils\n",
    "from src.fitness_energy_utils import NON_FEATURE_COLUMNS\n",
    "from src.ast_counter_sampler import *\n",
    "from src.ast_utils import cached_load_and_parse_games_from_file, load_games_from_file, _extract_game_id\n",
    "from src import ast_printer"
   ]
  },
  {
   "cell_type": "code",
   "execution_count": 3,
   "metadata": {},
   "outputs": [
    {
     "name": "stderr",
     "output_type": "stream",
     "text": [
      "2023-08-31 09:52:21 - src.ast_utils - INFO     - Loading from cache file: /misc/vlgscratch4/LakeGroup/guy/game_generation_cache/interactive-beta-cache.pkl.gz\n",
      "2023-08-31 09:52:22 - src.ast_utils - INFO     - Finished loading cache file: /misc/vlgscratch4/LakeGroup/guy/game_generation_cache/interactive-beta-cache.pkl.gz\n"
     ]
    },
    {
     "name": "stdout",
     "output_type": "stream",
     "text": [
      "98 100352 1024.0\n"
     ]
    }
   ],
   "source": [
    "grammar = open('../dsl/dsl.ebnf').read()\n",
    "grammar_parser = tatsu.compile(grammar)\n",
    "game_asts = list(cached_load_and_parse_games_from_file('../dsl/interactive-beta.pddl', grammar_parser, False, relative_path='..'))\n",
    "real_game_texts = [ast_printer.ast_to_string(ast, '\\n') for ast in game_asts]\n",
    "regrown_game_1024_texts = list(load_games_from_file('../dsl/ast-real-regrowth-samples-1024.pddl.gz'))\n",
    "print(len(real_game_texts), len(regrown_game_1024_texts), len(regrown_game_1024_texts) / 98)\n"
   ]
  },
  {
   "cell_type": "code",
   "execution_count": 4,
   "metadata": {},
   "outputs": [
    {
     "name": "stdout",
     "output_type": "stream",
     "text": [
      "['interactive-beta.pddl' 'ast-real-regrowth-samples-1024.pddl.gz']\n"
     ]
    },
    {
     "data": {
      "text/html": [
       "<div>\n",
       "<style scoped>\n",
       "    .dataframe tbody tr th:only-of-type {\n",
       "        vertical-align: middle;\n",
       "    }\n",
       "\n",
       "    .dataframe tbody tr th {\n",
       "        vertical-align: top;\n",
       "    }\n",
       "\n",
       "    .dataframe thead th {\n",
       "        text-align: right;\n",
       "    }\n",
       "</style>\n",
       "<table border=\"1\" class=\"dataframe\">\n",
       "  <thead>\n",
       "    <tr style=\"text-align: right;\">\n",
       "      <th></th>\n",
       "      <th>Index</th>\n",
       "      <th>src_file</th>\n",
       "      <th>game_name</th>\n",
       "      <th>domain_name</th>\n",
       "      <th>original_game_name</th>\n",
       "      <th>real</th>\n",
       "      <th>variables_defined_all</th>\n",
       "      <th>variables_defined_incorrect_count</th>\n",
       "      <th>variables_used_all</th>\n",
       "      <th>variables_used_incorrect_count</th>\n",
       "      <th>...</th>\n",
       "      <th>ast_ngram_constraints_n_4_score</th>\n",
       "      <th>ast_ngram_constraints_n_5_score</th>\n",
       "      <th>ast_ngram_terminal_n_2_score</th>\n",
       "      <th>ast_ngram_terminal_n_3_score</th>\n",
       "      <th>ast_ngram_terminal_n_4_score</th>\n",
       "      <th>ast_ngram_terminal_n_5_score</th>\n",
       "      <th>ast_ngram_scoring_n_2_score</th>\n",
       "      <th>ast_ngram_scoring_n_3_score</th>\n",
       "      <th>ast_ngram_scoring_n_4_score</th>\n",
       "      <th>ast_ngram_scoring_n_5_score</th>\n",
       "    </tr>\n",
       "  </thead>\n",
       "  <tbody>\n",
       "    <tr>\n",
       "      <th>0</th>\n",
       "      <td>0</td>\n",
       "      <td>interactive-beta.pddl</td>\n",
       "      <td>6172feb1665491d1efbce164-0</td>\n",
       "      <td>medium-objects-room-v1</td>\n",
       "      <td>6172feb1665491d1efbce164-0</td>\n",
       "      <td>1</td>\n",
       "      <td>1</td>\n",
       "      <td>0.0</td>\n",
       "      <td>1</td>\n",
       "      <td>0.0</td>\n",
       "      <td>...</td>\n",
       "      <td>0.968605</td>\n",
       "      <td>0.979319</td>\n",
       "      <td>0.964286</td>\n",
       "      <td>0.973077</td>\n",
       "      <td>0.976571</td>\n",
       "      <td>0.978192</td>\n",
       "      <td>0.919430</td>\n",
       "      <td>0.960971</td>\n",
       "      <td>0.998704</td>\n",
       "      <td>1.000000</td>\n",
       "    </tr>\n",
       "    <tr>\n",
       "      <th>1</th>\n",
       "      <td>1</td>\n",
       "      <td>interactive-beta.pddl</td>\n",
       "      <td>5f77754ba932fb2c4ba181d8-2</td>\n",
       "      <td>many-objects-room-v1</td>\n",
       "      <td>5f77754ba932fb2c4ba181d8-2</td>\n",
       "      <td>1</td>\n",
       "      <td>1</td>\n",
       "      <td>0.0</td>\n",
       "      <td>1</td>\n",
       "      <td>0.0</td>\n",
       "      <td>...</td>\n",
       "      <td>0.974280</td>\n",
       "      <td>0.978391</td>\n",
       "      <td>0.959478</td>\n",
       "      <td>0.966184</td>\n",
       "      <td>0.977509</td>\n",
       "      <td>0.978958</td>\n",
       "      <td>0.899454</td>\n",
       "      <td>0.915154</td>\n",
       "      <td>0.965182</td>\n",
       "      <td>0.973559</td>\n",
       "    </tr>\n",
       "    <tr>\n",
       "      <th>2</th>\n",
       "      <td>2</td>\n",
       "      <td>interactive-beta.pddl</td>\n",
       "      <td>614b603d4da88384282967a7-3</td>\n",
       "      <td>many-objects-room-v1</td>\n",
       "      <td>614b603d4da88384282967a7-3</td>\n",
       "      <td>1</td>\n",
       "      <td>1</td>\n",
       "      <td>0.0</td>\n",
       "      <td>1</td>\n",
       "      <td>0.0</td>\n",
       "      <td>...</td>\n",
       "      <td>0.946566</td>\n",
       "      <td>0.972470</td>\n",
       "      <td>0.000000</td>\n",
       "      <td>0.000000</td>\n",
       "      <td>0.000000</td>\n",
       "      <td>0.000000</td>\n",
       "      <td>0.851207</td>\n",
       "      <td>0.904668</td>\n",
       "      <td>0.948186</td>\n",
       "      <td>0.955972</td>\n",
       "    </tr>\n",
       "    <tr>\n",
       "      <th>3</th>\n",
       "      <td>3</td>\n",
       "      <td>interactive-beta.pddl</td>\n",
       "      <td>5bc79f652885710001a0e82a-5</td>\n",
       "      <td>few-objects-room-v1</td>\n",
       "      <td>5bc79f652885710001a0e82a-5</td>\n",
       "      <td>1</td>\n",
       "      <td>1</td>\n",
       "      <td>0.0</td>\n",
       "      <td>1</td>\n",
       "      <td>0.0</td>\n",
       "      <td>...</td>\n",
       "      <td>0.986871</td>\n",
       "      <td>0.980256</td>\n",
       "      <td>0.000000</td>\n",
       "      <td>0.000000</td>\n",
       "      <td>0.000000</td>\n",
       "      <td>0.000000</td>\n",
       "      <td>0.919430</td>\n",
       "      <td>0.960971</td>\n",
       "      <td>0.998704</td>\n",
       "      <td>1.000000</td>\n",
       "    </tr>\n",
       "    <tr>\n",
       "      <th>4</th>\n",
       "      <td>4</td>\n",
       "      <td>interactive-beta.pddl</td>\n",
       "      <td>614dec67f6eb129c3a77defd-6</td>\n",
       "      <td>medium-objects-room-v1</td>\n",
       "      <td>614dec67f6eb129c3a77defd-6</td>\n",
       "      <td>1</td>\n",
       "      <td>1</td>\n",
       "      <td>0.0</td>\n",
       "      <td>1</td>\n",
       "      <td>0.0</td>\n",
       "      <td>...</td>\n",
       "      <td>0.983288</td>\n",
       "      <td>0.979510</td>\n",
       "      <td>0.000000</td>\n",
       "      <td>0.000000</td>\n",
       "      <td>0.000000</td>\n",
       "      <td>0.000000</td>\n",
       "      <td>0.964678</td>\n",
       "      <td>0.971974</td>\n",
       "      <td>0.973129</td>\n",
       "      <td>0.963587</td>\n",
       "    </tr>\n",
       "  </tbody>\n",
       "</table>\n",
       "<p>5 rows × 376 columns</p>\n",
       "</div>"
      ],
      "text/plain": [
       "   Index               src_file                   game_name  \\\n",
       "0      0  interactive-beta.pddl  6172feb1665491d1efbce164-0   \n",
       "1      1  interactive-beta.pddl  5f77754ba932fb2c4ba181d8-2   \n",
       "2      2  interactive-beta.pddl  614b603d4da88384282967a7-3   \n",
       "3      3  interactive-beta.pddl  5bc79f652885710001a0e82a-5   \n",
       "4      4  interactive-beta.pddl  614dec67f6eb129c3a77defd-6   \n",
       "\n",
       "              domain_name          original_game_name  real  \\\n",
       "0  medium-objects-room-v1  6172feb1665491d1efbce164-0     1   \n",
       "1    many-objects-room-v1  5f77754ba932fb2c4ba181d8-2     1   \n",
       "2    many-objects-room-v1  614b603d4da88384282967a7-3     1   \n",
       "3     few-objects-room-v1  5bc79f652885710001a0e82a-5     1   \n",
       "4  medium-objects-room-v1  614dec67f6eb129c3a77defd-6     1   \n",
       "\n",
       "   variables_defined_all  variables_defined_incorrect_count  \\\n",
       "0                      1                                0.0   \n",
       "1                      1                                0.0   \n",
       "2                      1                                0.0   \n",
       "3                      1                                0.0   \n",
       "4                      1                                0.0   \n",
       "\n",
       "   variables_used_all  variables_used_incorrect_count  ...  \\\n",
       "0                   1                             0.0  ...   \n",
       "1                   1                             0.0  ...   \n",
       "2                   1                             0.0  ...   \n",
       "3                   1                             0.0  ...   \n",
       "4                   1                             0.0  ...   \n",
       "\n",
       "   ast_ngram_constraints_n_4_score  ast_ngram_constraints_n_5_score  \\\n",
       "0                         0.968605                         0.979319   \n",
       "1                         0.974280                         0.978391   \n",
       "2                         0.946566                         0.972470   \n",
       "3                         0.986871                         0.980256   \n",
       "4                         0.983288                         0.979510   \n",
       "\n",
       "   ast_ngram_terminal_n_2_score  ast_ngram_terminal_n_3_score  \\\n",
       "0                      0.964286                      0.973077   \n",
       "1                      0.959478                      0.966184   \n",
       "2                      0.000000                      0.000000   \n",
       "3                      0.000000                      0.000000   \n",
       "4                      0.000000                      0.000000   \n",
       "\n",
       "   ast_ngram_terminal_n_4_score  ast_ngram_terminal_n_5_score  \\\n",
       "0                      0.976571                      0.978192   \n",
       "1                      0.977509                      0.978958   \n",
       "2                      0.000000                      0.000000   \n",
       "3                      0.000000                      0.000000   \n",
       "4                      0.000000                      0.000000   \n",
       "\n",
       "   ast_ngram_scoring_n_2_score  ast_ngram_scoring_n_3_score  \\\n",
       "0                     0.919430                     0.960971   \n",
       "1                     0.899454                     0.915154   \n",
       "2                     0.851207                     0.904668   \n",
       "3                     0.919430                     0.960971   \n",
       "4                     0.964678                     0.971974   \n",
       "\n",
       "   ast_ngram_scoring_n_4_score  ast_ngram_scoring_n_5_score  \n",
       "0                     0.998704                     1.000000  \n",
       "1                     0.965182                     0.973559  \n",
       "2                     0.948186                     0.955972  \n",
       "3                     0.998704                     1.000000  \n",
       "4                     0.973129                     0.963587  \n",
       "\n",
       "[5 rows x 376 columns]"
      ]
     },
     "execution_count": 4,
     "metadata": {},
     "output_type": "execute_result"
    }
   ],
   "source": [
    "def extract_game_index(game_name: str):\n",
    "    first_dash = game_name.find('-')\n",
    "    second_dash = game_name.find('-', first_dash + 1)\n",
    "    index = game_name[first_dash + 1:second_dash] if second_dash != -1 else game_name[first_dash + 1:]\n",
    "    return int(index)\n",
    "\n",
    "\n",
    "def extract_negative_index(game_name: str):\n",
    "    first_dash = game_name.find('-')\n",
    "    second_dash = game_name.find('-', first_dash + 1)\n",
    "    if second_dash == -1:\n",
    "        return -1\n",
    "    \n",
    "    third_dash = game_name.find('-', second_dash + 1)\n",
    "    index = game_name[second_dash + 1:third_dash]\n",
    "    return int(index)\n",
    "\n",
    "\n",
    "fitness_df = utils.load_fitness_data('../data/fitness_features_1024_regrowths.csv.gz')\n",
    "\n",
    "# fitness_df = fitness_df.assign(real=fitness_df.real.astype('int'), game_index=fitness_df.game_name.apply(extract_game_index), \n",
    "#                                negative_index= fitness_df.game_name.apply(extract_negative_index), fake=~fitness_df.real.astype('int'))\n",
    "# fitness_df = fitness_df.sort_values(by=['fake', 'game_index', 'negative_index'], ignore_index=True).reset_index(drop=True)\n",
    "# fitness_df.drop(columns=['Index', 'fake', 'game_index', 'negative_index'], inplace=True)\n",
    "print(fitness_df.src_file.unique())\n",
    "fitness_df.head()"
   ]
  },
  {
   "cell_type": "code",
   "execution_count": 6,
   "metadata": {},
   "outputs": [
    {
     "name": "stdout",
     "output_type": "stream",
     "text": [
      "353\n"
     ]
    }
   ],
   "source": [
    "# USE_BINARIZED_FEATURES_MODEL = True\n",
    "\n",
    "# if USE_BINARIZED_FEATURES_MODEL:\n",
    "#     model_path = '../models/cv_binarized_model_2023_01_20.pkl.gz'\n",
    "#     data_df = binarized_df\n",
    "# else:\n",
    "#     model_path = '../models/cv_fitness_model_2023_01_20.pkl.gz'\n",
    "#     data_df = filtered_fitness_df\n",
    "from latest_model_paths import LATEST_FITNESS_FUNCTION_DATE_ID, LATEST_SPECIFIC_OBJECTS_FITNESS_FUNCTION_DATE_ID\n",
    "# model_date_id = LATEST_FITNESS_FUNCTION_DATE_ID\n",
    "# model_date_id = LATEST_SPECIFIC_OBJECTS_FITNESS_FUNCTION_DATE_ID\n",
    "model_date_id = 'full_features_no_in_data_all_2023_08_29'\n",
    "data_df = fitness_df\n",
    "cv_energy_model, feature_columns = utils.load_model_and_feature_columns(model_date_id)\n",
    "print(len(feature_columns))\n",
    "\n"
   ]
  },
  {
   "cell_type": "code",
   "execution_count": 7,
   "metadata": {},
   "outputs": [],
   "source": [
    "full_tensor = utils.df_to_tensor(data_df, feature_columns)\n",
    "if 'wrapper' in cv_energy_model.named_steps: cv_energy_model.named_steps['wrapper'].eval()\n",
    "full_tensor_scores = cv_energy_model.transform(full_tensor).detach()"
   ]
  },
  {
   "cell_type": "code",
   "execution_count": 8,
   "metadata": {},
   "outputs": [
    {
     "name": "stdout",
     "output_type": "stream",
     "text": [
      "Real game scores: -88.4745 ± 0.8686, min = -92.6684, max = -86.9446\n",
      "20th percentile negative energy: -83.34337615966797\n"
     ]
    }
   ],
   "source": [
    "real_game_scores = full_tensor_scores[:, 0]\n",
    "\n",
    "print(f'Real game scores: {real_game_scores.mean():.4f} ± {real_game_scores.std():.4f}, min = {real_game_scores.min():.4f}, max = {real_game_scores.max():.4f}')\n",
    "\n",
    "negatives_scores = full_tensor_scores[:, 1:]\n",
    "torch.quantile(negatives_scores.ravel(), torch.linspace(0, 1, 11))\n",
    "print(f'20th percentile negative energy: {torch.quantile(negatives_scores.ravel(), 0.2)}')"
   ]
  },
  {
   "cell_type": "code",
   "execution_count": 9,
   "metadata": {},
   "outputs": [
    {
     "name": "stdout",
     "output_type": "stream",
     "text": [
      "tensor([0.0000, 0.1000, 0.2000, 0.3000, 0.4000, 0.5000, 0.6000, 0.7000, 0.8000,\n",
      "        0.9000, 1.0000])\n",
      "Energy deciles: tensor([-91.0132, -85.9437, -83.3434, -81.6257, -80.1435, -78.4918, -76.7135,\n",
      "        -74.3037, -70.5485, -62.4902,   1.5284])\n"
     ]
    }
   ],
   "source": [
    "steps = torch.linspace(0, 1, 11)\n",
    "deciles = torch.quantile(negatives_scores.ravel(), steps)\n",
    "print(steps)\n",
    "print(f'Energy deciles: {deciles}')"
   ]
  },
  {
   "cell_type": "code",
   "execution_count": 10,
   "metadata": {},
   "outputs": [
    {
     "name": "stdout",
     "output_type": "stream",
     "text": [
      "Weights mean: 0.1512, std: 2.5445, bias: 0.0100\n"
     ]
    },
    {
     "data": {
      "image/png": "[encoded data removed]",
      "text/plain": [
       "<Figure size 640x480 with 1 Axes>"
      ]
     },
     "metadata": {},
     "output_type": "display_data"
    }
   ],
   "source": [
    "weights = cv_energy_model.named_steps['fitness'].model.fc1.weight.data.detach().squeeze()  # type: ignore\n",
    "bias = cv_energy_model.named_steps['fitness'].model.fc1.bias.data.detach().squeeze()  # type: ignore\n",
    "print(f'Weights mean: {weights.mean():.4f}, std: {weights.std():.4f}, bias: {bias:.4f}')\n",
    "\n",
    "plt.hist(weights, bins=30)\n",
    "plt.title('Energy model weights')\n",
    "plt.xlabel('Weight magnitude')\n",
    "plt.ylabel('Count')\n",
    "plt.show()"
   ]
  },
  {
   "cell_type": "code",
   "execution_count": 11,
   "metadata": {},
   "outputs": [
    {
     "name": "stdout",
     "output_type": "stream",
     "text": [
      "Approximately 10.0% (37, 10.48%) of the weights have magnitude < 0.0536\n",
      "Approximately 25.0% (90, 25.50%) of the weights have magnitude < 0.1876\n",
      "Approximately 50.0% (179, 50.71%) of the weights have magnitude < 0.5092\n",
      "Approximately 75.0% (265, 75.07%) of the weights have magnitude < 1.0989\n",
      "Approximately 90.0% (318, 90.08%) of the weights have magnitude < 2.1442\n",
      "Approximately 95.0% (336, 95.18%) of the weights have magnitude < 3.1292\n",
      "Approximately 99.0% (350, 99.15%) of the weights have magnitude < 6.5330\n"
     ]
    }
   ],
   "source": [
    "quantiles = [0.1, 0.25, 0.5, 0.75, 0.9, 0.95, 0.99]\n",
    "quantile_index = 0\n",
    "\n",
    "abs_weights = weights.abs()\n",
    "\n",
    "for magnitude in torch.linspace(0,abs_weights.max(), 5000):\n",
    "    n = torch.sum(abs_weights < magnitude).item()\n",
    "    if n / len(weights) >= quantiles[quantile_index]:\n",
    "        print(f'Approximately {quantiles[quantile_index] * 100}% ({n}, {n / len(weights) * 100:.2f}%) of the weights have magnitude < {magnitude:.4f}')\n",
    "        quantile_index += 1\n",
    "\n",
    "    if quantile_index >= len(quantiles):\n",
    "        break"
   ]
  },
  {
   "cell_type": "code",
   "execution_count": 12,
   "metadata": {},
   "outputs": [],
   "source": [
    "from src.fitness_features_by_category import *\n",
    "\n",
    "\n",
    "def print_weights_summary_by_category(model_weights: torch.Tensor, all_feature_columns: typing.List[str], return_lines: bool = False):\n",
    "    abs_weights = model_weights.abs()\n",
    "    sorted_feature_names = [t[1] for t in sorted([(abs_weights[i], all_feature_columns[i]) for i in range(len(all_feature_columns))], key=lambda x: x[0], reverse=True)]\n",
    "\n",
    "    lines = []\n",
    "    all_assigned_features = set()\n",
    "\n",
    "    for category, features in FEATURE_CATEGORIES.items():\n",
    "        category_feature_list = []\n",
    "        for feature in features:\n",
    "            if isinstance(feature, re.Pattern):\n",
    "                category_feature_list.extend([f for f in feature_columns if feature.match(f)])\n",
    "\n",
    "            else:\n",
    "                category_feature_list.append(feature)\n",
    "\n",
    "        all_assigned_features.update(category_feature_list)\n",
    "        \n",
    "        mean_abs_weight = np.mean([abs_weights[feature_columns.index(feature)] for feature in category_feature_list])\n",
    "        sum_abs_weight = np.sum([abs_weights[feature_columns.index(feature)] for feature in category_feature_list])\n",
    "        mean_sorted_index = np.mean([sorted_feature_names.index(feature) for feature in category_feature_list])\n",
    "        prefix = f'For category {category} with {len(category_feature_list)} features'\n",
    "        line = f'{prefix:54} | mean abs weight is {mean_abs_weight:5.2f} | sum abs weight is {sum_abs_weight:6.2f} | mean sorted index is {mean_sorted_index:6.2f}'\n",
    "        if return_lines:\n",
    "            lines.append(line)\n",
    "        else:\n",
    "            print(line)\n",
    "\n",
    "    unassigned_features = [f for f in feature_columns if f not in all_assigned_features]\n",
    "    if len(unassigned_features) > 0:\n",
    "        print(f'Unassigned features: {unassigned_features}')\n",
    "\n",
    "    if return_lines:\n",
    "        return lines\n"
   ]
  },
  {
   "cell_type": "code",
   "execution_count": 13,
   "metadata": {},
   "outputs": [],
   "source": [
    "l1_model, _ = utils.load_model_and_feature_columns('full_features_no_in_data_all_L1_2023_08_29')"
   ]
  },
  {
   "cell_type": "code",
   "execution_count": 14,
   "metadata": {},
   "outputs": [
    {
     "data": {
      "text/markdown": [
       "### For model Baseline"
      ],
      "text/plain": [
       "<IPython.core.display.Markdown object>"
      ]
     },
     "metadata": {},
     "output_type": "display_data"
    },
    {
     "name": "stdout",
     "output_type": "stream",
     "text": [
      "For category grammar_context with 12 features          | mean abs weight is  1.87 | sum abs weight is  22.47 | mean sorted index is 113.50\n",
      "For category ngram_and_data_based with 7 features      | mean abs weight is 11.52 | sum abs weight is  80.67 | mean sorted index is  25.00\n",
      "For category counting with 101 features                | mean abs weight is  0.53 | sum abs weight is  53.75 | mean sorted index is 208.23\n",
      "For category forall with 18 features                   | mean abs weight is  1.25 | sum abs weight is  22.57 | mean sorted index is 175.83\n",
      "For category predicate_under_modal with 50 features    | mean abs weight is  0.49 | sum abs weight is  24.54 | mean sorted index is 209.90\n",
      "For category predicate_role_filler with 138 features   | mean abs weight is  0.88 | sum abs weight is 120.89 | mean sorted index is 155.34\n",
      "For category compositionality with 10 features         | mean abs weight is  0.06 | sum abs weight is   0.59 | mean sorted index is 315.00\n",
      "For category grammar_use with 20 features              | mean abs weight is  1.64 | sum abs weight is  32.83 | mean sorted index is  96.40\n"
     ]
    },
    {
     "data": {
      "text/markdown": [
       "### For model L1"
      ],
      "text/plain": [
       "<IPython.core.display.Markdown object>"
      ]
     },
     "metadata": {},
     "output_type": "display_data"
    },
    {
     "name": "stdout",
     "output_type": "stream",
     "text": [
      "For category grammar_context with 12 features          | mean abs weight is  0.24 | sum abs weight is   2.86 | mean sorted index is 153.83\n",
      "For category ngram_and_data_based with 7 features      | mean abs weight is  2.63 | sum abs weight is  18.44 | mean sorted index is 131.14\n",
      "For category counting with 101 features                | mean abs weight is  0.02 | sum abs weight is   1.65 | mean sorted index is 155.45\n",
      "For category forall with 18 features                   | mean abs weight is  0.17 | sum abs weight is   3.09 | mean sorted index is 192.28\n",
      "For category predicate_under_modal with 50 features    | mean abs weight is  0.00 | sum abs weight is   0.07 | mean sorted index is 202.56\n",
      "For category predicate_role_filler with 138 features   | mean abs weight is  0.00 | sum abs weight is   0.60 | mean sorted index is 178.75\n",
      "For category compositionality with 10 features         | mean abs weight is  0.00 | sum abs weight is   0.00 | mean sorted index is 272.40\n",
      "For category grammar_use with 20 features              | mean abs weight is  0.06 | sum abs weight is   1.21 | mean sorted index is 175.10\n"
     ]
    }
   ],
   "source": [
    "MODEL_NAMES = ['Baseline', 'L1']\n",
    "models = [cv_energy_model, l1_model]\n",
    "\n",
    "for model_name, model in zip(MODEL_NAMES, models):\n",
    "    display(Markdown(f'### For model {model_name}'))\n",
    "    print_weights_summary_by_category(model.named_steps['fitness'].model.fc1.weight.data.detach().squeeze(), feature_columns)\n",
    "    "
   ]
  },
  {
   "cell_type": "code",
   "execution_count": 15,
   "metadata": {},
   "outputs": [
    {
     "data": {
      "image/png": "[encoded data removed]",
      "text/plain": [
       "<Figure size 640x480 with 1 Axes>"
      ]
     },
     "metadata": {},
     "output_type": "display_data"
    }
   ],
   "source": [
    "utils.plot_energy_histogram(cv_energy_model, full_tensor)"
   ]
  },
  {
   "cell_type": "code",
   "execution_count": 16,
   "metadata": {},
   "outputs": [
    {
     "data": {
      "image/png": "[encoded data removed]",
      "text/plain": [
       "<Figure size 640x480 with 1 Axes>"
      ]
     },
     "metadata": {},
     "output_type": "display_data"
    }
   ],
   "source": [
    "utils.plot_energy_histogram(l1_model, full_tensor)"
   ]
  },
  {
   "cell_type": "code",
   "execution_count": 17,
   "metadata": {},
   "outputs": [],
   "source": [
    "pred_features = [f for f in feature_columns if FEATURE_CATEGORIES['predicate_role_filler'][0].match(f)]\n",
    "l1_weights = l1_model.named_steps['fitness'].model.fc1.weight.data.detach().squeeze()\n",
    "sorted_features = sorted([(l1_weights[i], feature_columns[i]) for i in range(len(feature_columns))], key=lambda x: x[0], reverse=False)\n",
    "sorted_pred_features = [f for f in sorted_features if f[1] in pred_features]"
   ]
  },
  {
   "cell_type": "code",
   "execution_count": 18,
   "metadata": {},
   "outputs": [
    {
     "data": {
      "text/markdown": [
       "### Role-filler features with largest negative weights:\n",
       "1. touch_arg_types_balls_blocks_constraints (-0.0069)\n",
       "2. on_arg_types_room_features_blocks_constraints (-0.0062)\n",
       "3. touch_arg_types_balls_furniture_constraints (-0.0042)\n",
       "4. distance_arg_types_blocks_receptacles_setup (-0.0040)\n",
       "5. adjacent_arg_types_agent_receptacles_constraints (-0.0037)\n",
       "6. in_arg_types_receptacles_blocks_constraints (-0.0036)\n",
       "7. in_motion_arg_types_blocks_constraints (-0.0036)\n",
       "8. in_arg_types_receptacles_balls_constraints (-0.0035)\n",
       "9. adjacent_arg_types_agent_ramps_constraints (-0.0035)\n",
       "10. distance_arg_types_furniture_ramps_constraints (-0.0035)\n",
       "11. on_arg_types_furniture_any_object_constraints (-0.0035)\n",
       "12. in_motion_arg_types_receptacles_constraints (-0.0034)\n",
       "13. distance_arg_types_blocks_blocks_setup (-0.0033)\n",
       "14. adjacent_arg_types_blocks_room_features_setup (-0.0032)\n",
       "15. distance_arg_types_agent_balls_constraints (-0.0032)\n",
       "16. on_arg_types_furniture_large_objects_constraints (-0.0031)\n",
       "17. touch_arg_types_balls_room_features_constraints (-0.0031)\n",
       "18. agent_holds_arg_types_receptacles_constraints (-0.0030)\n",
       "19. agent_holds_arg_types_blocks_constraints (-0.0029)\n",
       "20. in_arg_types_receptacles_building_constraints (-0.0027)\n",
       "### Role-filler features with largest positive weights:\n",
       "1. in_arg_types_other_constraints (0.3923)\n",
       "2. on_arg_types_other_constraints (0.0435)\n",
       "3. on_arg_types_other_setup (0.0063)\n",
       "4. in_motion_arg_types_any_object_constraints (0.0057)\n",
       "5. agent_holds_arg_types_balls_constraints (0.0043)\n",
       "6. in_motion_arg_types_balls_constraints (0.0037)\n",
       "7. agent_holds_arg_types_any_object_constraints (0.0032)\n",
       "8. on_arg_types_furniture_receptacles_setup (0.0025)\n",
       "9. distance_arg_types_receptacles_room_features_setup (0.0025)\n",
       "10. adjacent_arg_types_other_constraints (0.0021)\n",
       "11. distance_arg_types_other_setup (0.0020)\n",
       "12. adjacent_arg_types_agent_room_features_constraints (0.0020)\n",
       "13. distance_arg_types_any_object_room_features_constraints (0.0018)\n",
       "14. on_arg_types_furniture_balls_setup (0.0014)\n",
       "15. object_orientation_arg_types_large_objects_orientations_setup (0.0013)\n",
       "16. adjacent_arg_types_furniture_receptacles_setup (0.0010)\n",
       "17. on_arg_types_blocks_blocks_constraints (0.0008)\n",
       "18. in_arg_types_building_receptacles_constraints (0.0004)\n",
       "19. on_arg_types_room_features_balls_setup (0.0003)\n",
       "20. in_arg_types_receptacles_large_objects_constraints (0.0003)"
      ],
      "text/plain": [
       "<IPython.core.display.Markdown object>"
      ]
     },
     "metadata": {},
     "output_type": "display_data"
    }
   ],
   "source": [
    "K = 20\n",
    "lines = []\n",
    "\n",
    "lines.append('### Role-filler features with largest negative weights:')\n",
    "for i in range(K):\n",
    "    lines.append(f'{i+1}. {sorted_pred_features[i][1]} ({sorted_pred_features[i][0]:.4f})')\n",
    "\n",
    "lines.append('### Role-filler features with largest positive weights:')\n",
    "for i in range(K):\n",
    "    lines.append(f'{i+1}. {sorted_pred_features[-(i + 1)][1]} ({sorted_pred_features[-(i + 1)][0]:.4f})')\n",
    "\n",
    "display(Markdown('\\n'.join(lines)))"
   ]
  },
  {
   "cell_type": "code",
   "execution_count": null,
   "metadata": {},
   "outputs": [],
   "source": []
  },
  {
   "cell_type": "markdown",
   "metadata": {},
   "source": [
    "## Looking at comparing the models on the negatives from the test set"
   ]
  },
  {
   "cell_type": "code",
   "execution_count": 29,
   "metadata": {},
   "outputs": [
    {
     "name": "stdout",
     "output_type": "stream",
     "text": [
      "dict_keys(['cv', 'train_tensor', 'test_tensor', 'results', 'feature_columns'])\n",
      "143\n",
      "59\n"
     ]
    }
   ],
   "source": [
    "no_reg_sweep_data = utils.load_data('2023_08_29', 'data/fitness_cv', 'fitness_sweep_full_features_no_in_data_all')\n",
    "print(no_reg_sweep_data.keys())\n",
    "no_reg_test_scores = no_reg_sweep_data['cv'].best_estimator_.transform(no_reg_sweep_data['test_tensor'])\n",
    "no_reg_test_real_game_scores = no_reg_test_scores[:, 0]\n",
    "no_reg_test_negatives_scores = no_reg_test_scores[:, 1:]\n",
    "\n",
    "no_reg_argsort = torch.argsort(no_reg_test_negatives_scores.ravel())\n",
    "no_reg_position_to_index = torch.zeros_like(no_reg_argsort)\n",
    "no_reg_position_to_index[no_reg_argsort] = torch.arange(len(no_reg_argsort))\n",
    "\n",
    "no_reg_indices_with_better_negative = set(torch.where((no_reg_test_negatives_scores < no_reg_test_real_game_scores[:, None, :]).ravel())[0].numpy())\n",
    "print(len(no_reg_indices_with_better_negative))\n",
    "\n",
    "\n",
    "\n",
    "l1_sweep_data = utils.load_data('2023_08_29', 'data/fitness_cv', 'fitness_sweep_full_features_no_in_data_all_L1')\n",
    "l1_test_scores = l1_sweep_data['cv'].best_estimator_.transform(l1_sweep_data['test_tensor'])\n",
    "l1_test_real_game_scores = l1_test_scores[:, 0]\n",
    "l1_test_negatives_scores = l1_test_scores[:, 1:]\n",
    "\n",
    "l1_argsort = torch.argsort(l1_test_negatives_scores.ravel())\n",
    "l1_position_to_index = torch.zeros_like(l1_argsort)\n",
    "l1_position_to_index[l1_argsort] = torch.arange(len(l1_argsort))\n",
    "\n",
    "l1_indices_with_better_negative = set(torch.where((l1_test_negatives_scores < l1_test_real_game_scores[:, None, :]).ravel())[0].numpy())\n",
    "print(len(l1_indices_with_better_negative))"
   ]
  },
  {
   "cell_type": "code",
   "execution_count": 32,
   "metadata": {},
   "outputs": [
    {
     "data": {
      "image/png": "[encoded data removed]",
      "text/plain": [
       "<Figure size 640x480 with 1 Axes>"
      ]
     },
     "metadata": {},
     "output_type": "display_data"
    },
    {
     "data": {
      "image/png": "[encoded data removed]",
      "text/plain": [
       "<Figure size 640x480 with 1 Axes>"
      ]
     },
     "metadata": {},
     "output_type": "display_data"
    }
   ],
   "source": [
    "utils.plot_energy_histogram(\n",
    "    no_reg_sweep_data['cv'], \n",
    "    no_reg_sweep_data['train_tensor'], \n",
    "    no_reg_sweep_data['test_tensor'],\n",
    "    histogram_title_note='no regularization')\n",
    "\n",
    "utils.plot_energy_histogram(\n",
    "    l1_sweep_data['cv'],\n",
    "    l1_sweep_data['train_tensor'],\n",
    "    l1_sweep_data['test_tensor'],\n",
    "    histogram_title_note='L1 regularization')"
   ]
  },
  {
   "cell_type": "code",
   "execution_count": 30,
   "metadata": {},
   "outputs": [
    {
     "name": "stdout",
     "output_type": "stream",
     "text": [
      "Both: 36, L1 only: 23, No reg only: 107\n"
     ]
    }
   ],
   "source": [
    "better_negative_both = no_reg_indices_with_better_negative.intersection(l1_indices_with_better_negative)\n",
    "better_negative_l1_only = l1_indices_with_better_negative.difference(no_reg_indices_with_better_negative)\n",
    "better_negative_no_reg_only = no_reg_indices_with_better_negative.difference(l1_indices_with_better_negative)\n",
    "\n",
    "print(f'Both: {len(better_negative_both)}, L1 only: {len(better_negative_l1_only)}, No reg only: {len(better_negative_no_reg_only)}')"
   ]
  },
  {
   "cell_type": "code",
   "execution_count": null,
   "metadata": {},
   "outputs": [],
   "source": []
  },
  {
   "cell_type": "code",
   "execution_count": 34,
   "metadata": {},
   "outputs": [
    {
     "data": {
      "text/plain": [
       "torch.return_types.topk(\n",
       "values=tensor([-15683, -12719, -12145, -11810, -11493, -11491, -11321, -11310, -11270,\n",
       "        -11236]),\n",
       "indices=tensor([  987,   149,   170, 11597,  2585,  2109,  1861,   851,    97,  2487]))"
      ]
     },
     "execution_count": 34,
     "metadata": {},
     "output_type": "execute_result"
    }
   ],
   "source": [
    "index_diffs = no_reg_position_to_index - l1_position_to_index\n",
    "index_diffs.topk(10, largest=False)"
   ]
  },
  {
   "cell_type": "code",
   "execution_count": 35,
   "metadata": {},
   "outputs": [
    {
     "name": "stdout",
     "output_type": "stream",
     "text": [
      "Original game index: 0 | Negative game row: 0 | Negative game col: 987\n"
     ]
    },
    {
     "data": {
      "text/markdown": [
       "### Energy of real game: -88.430 | Energy of regrown game: -79.694 | Difference: 8.736"
      ],
      "text/plain": [
       "<IPython.core.display.Markdown object>"
      ]
     },
     "metadata": {},
     "output_type": "display_data"
    },
    {
     "data": {
      "text/markdown": [
       "### Top features changing the game's energy\n",
       "feature name: **value** = (original feature value => regrown feature value) * weight"
      ],
      "text/plain": [
       "<IPython.core.display.Markdown object>"
      ]
     },
     "metadata": {},
     "output_type": "display_data"
    },
    {
     "data": {
      "text/markdown": [
       "| Features increasing energy (= more fake)                                                 | Features decreasing energy (= more real)                                                |\n",
       "|------------------------------------------------------------------------------------------|-----------------------------------------------------------------------------------------|\n",
       "| ast_ngram_full_n_5_score: **6.203** = (0.968 => 0.783) * -33.496                         | agent_holds_arg_types_balls_constraints: **-1.296** = (1.000 => 0.000) * 1.296          |\n",
       "| ast_ngram_constraints_n_5_score: **2.839** = (0.979 => 0.842) * -20.659                  | agent_holds_arg_types_large_objects_constraints: **-0.184** = (0.000 => 1.000) * -0.184 |\n",
       "| in_arg_types_receptacles_balls_constraints: **0.819** = (1.000 => 0.000) * -0.819        | in_motion_arg_types_balls_constraints: **-0.183** = (1.000 => 0.000) * 0.183            |\n",
       "| predicate_found_in_data_constraints_prop: **0.653** = (1.000 => 0.900) * -6.528          | touch_arg_types_balls_ramps_constraints: **-0.181** = (1.000 => 0.000) * 0.181          |\n",
       "| in_arg_types_receptacles_large_objects_constraints: **0.051** = (0.000 => 1.000) * 0.051 |                                                                                         |\n",
       "| in_motion_arg_types_large_objects_constraints: **0.015** = (0.000 => 1.000) * 0.015      |                                                                                         |"
      ],
      "text/plain": [
       "<IPython.core.display.Markdown object>"
      ]
     },
     "metadata": {},
     "output_type": "display_data"
    },
    {
     "data": {
      "text/markdown": [
       "### Game Diffs"
      ],
      "text/plain": [
       "<IPython.core.display.Markdown object>"
      ]
     },
     "metadata": {},
     "output_type": "display_data"
    },
    {
     "data": {
      "text/html": [
       "\n",
       "<!DOCTYPE html PUBLIC \"-//W3C//DTD XHTML 1.0 Transitional//EN\"\n",
       "          \"http://www.w3.org/TR/xhtml1/DTD/xhtml1-transitional.dtd\">\n",
       "\n",
       "<html>\n",
       "\n",
       "<head>\n",
       "    <meta http-equiv=\"Content-Type\"\n",
       "          content=\"text/html; charset=utf-8\" />\n",
       "    <title></title>\n",
       "    <style type=\"text/css\">\n",
       "        table.diff {font-family:Courier; border:medium;}\n",
       "        .diff_header {background-color:#e0e0e0}\n",
       "        .diff td {text-align: left !important}\n",
       ".diff th {text-align: center!important }\n",
       ".diff td.diff_header {text-align:right !important}\n",
       "        .diff_next {background-color:#c0c0c0}\n",
       "        .diff_add {background-color: #6fa66f !important; font-weight: bold !important}\n",
       "        .diff_chg {background-color: #999949 !important; font-weight: bold !important}\n",
       "        .diff_sub {background-color: #a66f6f !important; font-weight: bold !important}\n",
       "    </style>\n",
       "</head>\n",
       "\n",
       "<body>\n",
       "    \n",
       "    <table class=\"diff\" id=\"difflib_chg_to0__top\"\n",
       "           cellspacing=\"0\" cellpadding=\"0\" rules=\"groups\" >\n",
       "        <colgroup></colgroup> <colgroup></colgroup> <colgroup></colgroup>\n",
       "        <colgroup></colgroup> <colgroup></colgroup> <colgroup></colgroup>\n",
       "        \n",
       "        <tbody>\n",
       "            <tr><td class=\"diff_next\" id=\"difflib_chg_to0__0\"><a href=\"#difflib_chg_to0__1\">n</a></td><td class=\"diff_header\" id=\"from0_1\">1</td><td nowrap=\"nowrap\">(define&nbsp;(game&nbsp;6172feb1665491d1efbce164-0)&nbsp;(:domain&nbsp;medium-objects-room-v1)</td><td class=\"diff_next\"><a href=\"#difflib_chg_to0__1\">n</a></td><td class=\"diff_header\" id=\"to0_1\">1</td><td nowrap=\"nowrap\">(define&nbsp;(game&nbsp;6172feb1665491d1efbce164-0<span class=\"diff_add\">-987-nd-11-rd-2-rs-constraints-sk-prior2</span></td></tr>\n",
       "            <tr><td class=\"diff_next\"></td><td class=\"diff_header\"></td><td nowrap=\"nowrap\">&nbsp;</td><td class=\"diff_next\"></td><td class=\"diff_header\">></td><td nowrap=\"nowrap\"><span class=\"diff_add\"></span>)&nbsp;(:domain&nbsp;medium-objects-room-v1)</td></tr>\n",
       "            <tr><td class=\"diff_next\"></td><td class=\"diff_header\" id=\"from0_2\">2</td><td nowrap=\"nowrap\">(:setup</td><td class=\"diff_next\"></td><td class=\"diff_header\" id=\"to0_2\">2</td><td nowrap=\"nowrap\">(:setup</td></tr>\n",
       "            <tr><td class=\"diff_next\"></td><td class=\"diff_header\" id=\"from0_3\">3</td><td nowrap=\"nowrap\">&nbsp;&nbsp;(and</td><td class=\"diff_next\"></td><td class=\"diff_header\" id=\"to0_3\">3</td><td nowrap=\"nowrap\">&nbsp;&nbsp;(and</td></tr>\n",
       "            <tr><td class=\"diff_next\"></td><td class=\"diff_header\" id=\"from0_4\">4</td><td nowrap=\"nowrap\">&nbsp;&nbsp;&nbsp;&nbsp;(exists&nbsp;(?h&nbsp;-&nbsp;hexagonal_bin&nbsp;?r&nbsp;-&nbsp;triangular_ramp)</td><td class=\"diff_next\"></td><td class=\"diff_header\" id=\"to0_4\">4</td><td nowrap=\"nowrap\">&nbsp;&nbsp;&nbsp;&nbsp;(exists&nbsp;(?h&nbsp;-&nbsp;hexagonal_bin&nbsp;?r&nbsp;-&nbsp;triangular_ramp)</td></tr>\n",
       "            <tr><td class=\"diff_next\"></td><td class=\"diff_header\" id=\"from0_5\">5</td><td nowrap=\"nowrap\">&nbsp;&nbsp;&nbsp;&nbsp;&nbsp;&nbsp;(game-conserved</td><td class=\"diff_next\"></td><td class=\"diff_header\" id=\"to0_5\">5</td><td nowrap=\"nowrap\">&nbsp;&nbsp;&nbsp;&nbsp;&nbsp;&nbsp;(game-conserved</td></tr>\n",
       "            <tr><td class=\"diff_next\"></td><td class=\"diff_header\" id=\"from0_6\">6</td><td nowrap=\"nowrap\">&nbsp;&nbsp;&nbsp;&nbsp;&nbsp;&nbsp;&nbsp;&nbsp;(&lt;&nbsp;(distance&nbsp;?h&nbsp;?r)&nbsp;1)</td><td class=\"diff_next\"></td><td class=\"diff_header\" id=\"to0_6\">6</td><td nowrap=\"nowrap\">&nbsp;&nbsp;&nbsp;&nbsp;&nbsp;&nbsp;&nbsp;&nbsp;(&lt;&nbsp;(distance&nbsp;?h&nbsp;?r)&nbsp;1)</td></tr>\n",
       "            <tr><td class=\"diff_next\"></td><td class=\"diff_header\" id=\"from0_7\">7</td><td nowrap=\"nowrap\">&nbsp;&nbsp;&nbsp;&nbsp;&nbsp;)</td><td class=\"diff_next\"></td><td class=\"diff_header\" id=\"to0_7\">7</td><td nowrap=\"nowrap\">&nbsp;&nbsp;&nbsp;&nbsp;&nbsp;)</td></tr>\n",
       "            <tr><td class=\"diff_next\"></td><td class=\"diff_header\" id=\"from0_8\">8</td><td nowrap=\"nowrap\">&nbsp;&nbsp;&nbsp;)</td><td class=\"diff_next\"></td><td class=\"diff_header\" id=\"to0_8\">8</td><td nowrap=\"nowrap\">&nbsp;&nbsp;&nbsp;)</td></tr>\n",
       "            <tr><td class=\"diff_next\" id=\"difflib_chg_to0__1\"></td><td class=\"diff_header\" id=\"from0_9\">9</td><td nowrap=\"nowrap\">&nbsp;)</td><td class=\"diff_next\"></td><td class=\"diff_header\" id=\"to0_9\">9</td><td nowrap=\"nowrap\">&nbsp;)</td></tr>\n",
       "            <tr><td class=\"diff_next\"></td><td class=\"diff_header\" id=\"from0_10\">10</td><td nowrap=\"nowrap\">)</td><td class=\"diff_next\"></td><td class=\"diff_header\" id=\"to0_10\">10</td><td nowrap=\"nowrap\">)</td></tr>\n",
       "            <tr><td class=\"diff_next\"></td><td class=\"diff_header\" id=\"from0_11\">11</td><td nowrap=\"nowrap\">(:constraints</td><td class=\"diff_next\"></td><td class=\"diff_header\" id=\"to0_11\">11</td><td nowrap=\"nowrap\">(:constraints</td></tr>\n",
       "            <tr><td class=\"diff_next\"></td><td class=\"diff_header\" id=\"from0_12\">12</td><td nowrap=\"nowrap\">&nbsp;&nbsp;(and</td><td class=\"diff_next\"></td><td class=\"diff_header\" id=\"to0_12\">12</td><td nowrap=\"nowrap\">&nbsp;&nbsp;(and</td></tr>\n",
       "            <tr><td class=\"diff_next\"></td><td class=\"diff_header\" id=\"from0_13\">13</td><td nowrap=\"nowrap\">&nbsp;&nbsp;&nbsp;&nbsp;(preference&nbsp;throwToRampToBin</td><td class=\"diff_next\"></td><td class=\"diff_header\" id=\"to0_13\">13</td><td nowrap=\"nowrap\">&nbsp;&nbsp;&nbsp;&nbsp;(preference&nbsp;throwToRampToBin</td></tr>\n",
       "            <tr><td class=\"diff_next\"><a href=\"#difflib_chg_to0__top\">t</a></td><td class=\"diff_header\" id=\"from0_14\">14</td><td nowrap=\"nowrap\">&nbsp;&nbsp;&nbsp;&nbsp;&nbsp;&nbsp;(exists&nbsp;(?b&nbsp;-&nbsp;ba<span class=\"diff_chg\">ll</span>&nbsp;?r&nbsp;-&nbsp;triangular_ramp&nbsp;?h&nbsp;-&nbsp;hexagonal_bin)</td><td class=\"diff_next\"><a href=\"#difflib_chg_to0__top\">t</a></td><td class=\"diff_header\" id=\"to0_14\">14</td><td nowrap=\"nowrap\">&nbsp;&nbsp;&nbsp;&nbsp;&nbsp;&nbsp;(exists&nbsp;(?b&nbsp;-&nbsp;<span class=\"diff_add\">teddy_</span>b<span class=\"diff_add\">e</span>a<span class=\"diff_chg\">r</span>&nbsp;?r&nbsp;-&nbsp;triangular_ramp&nbsp;?h&nbsp;-&nbsp;hexagonal_bin)</td></tr>\n",
       "            <tr><td class=\"diff_next\"></td><td class=\"diff_header\" id=\"from0_15\">15</td><td nowrap=\"nowrap\">&nbsp;&nbsp;&nbsp;&nbsp;&nbsp;&nbsp;&nbsp;&nbsp;(then</td><td class=\"diff_next\"></td><td class=\"diff_header\" id=\"to0_15\">15</td><td nowrap=\"nowrap\">&nbsp;&nbsp;&nbsp;&nbsp;&nbsp;&nbsp;&nbsp;&nbsp;(then</td></tr>\n",
       "            <tr><td class=\"diff_next\"></td><td class=\"diff_header\" id=\"from0_16\">16</td><td nowrap=\"nowrap\">&nbsp;&nbsp;&nbsp;&nbsp;&nbsp;&nbsp;&nbsp;&nbsp;&nbsp;&nbsp;(once&nbsp;(agent_holds&nbsp;?b))</td><td class=\"diff_next\"></td><td class=\"diff_header\" id=\"to0_16\">16</td><td nowrap=\"nowrap\">&nbsp;&nbsp;&nbsp;&nbsp;&nbsp;&nbsp;&nbsp;&nbsp;&nbsp;&nbsp;(once&nbsp;(agent_holds&nbsp;?b))</td></tr>\n",
       "            <tr><td class=\"diff_next\"></td><td class=\"diff_header\" id=\"from0_17\">17</td><td nowrap=\"nowrap\">&nbsp;&nbsp;&nbsp;&nbsp;&nbsp;&nbsp;&nbsp;&nbsp;&nbsp;&nbsp;(hold-while&nbsp;(and&nbsp;(not&nbsp;(agent_holds&nbsp;?b))&nbsp;(in_motion&nbsp;?b))&nbsp;(touch&nbsp;?b&nbsp;?r))</td><td class=\"diff_next\"></td><td class=\"diff_header\" id=\"to0_17\">17</td><td nowrap=\"nowrap\">&nbsp;&nbsp;&nbsp;&nbsp;&nbsp;&nbsp;&nbsp;&nbsp;&nbsp;&nbsp;(hold-while&nbsp;(and&nbsp;(not&nbsp;(agent_holds&nbsp;?b))&nbsp;(in_motion&nbsp;?b))&nbsp;(touch&nbsp;?b&nbsp;?r))</td></tr>\n",
       "            <tr><td class=\"diff_next\"></td><td class=\"diff_header\" id=\"from0_18\">18</td><td nowrap=\"nowrap\">&nbsp;&nbsp;&nbsp;&nbsp;&nbsp;&nbsp;&nbsp;&nbsp;&nbsp;&nbsp;(once&nbsp;(and&nbsp;(not&nbsp;(in_motion&nbsp;?b))&nbsp;(in&nbsp;?h&nbsp;?b)))</td><td class=\"diff_next\"></td><td class=\"diff_header\" id=\"to0_18\">18</td><td nowrap=\"nowrap\">&nbsp;&nbsp;&nbsp;&nbsp;&nbsp;&nbsp;&nbsp;&nbsp;&nbsp;&nbsp;(once&nbsp;(and&nbsp;(not&nbsp;(in_motion&nbsp;?b))&nbsp;(in&nbsp;?h&nbsp;?b)))</td></tr>\n",
       "            <tr><td class=\"diff_next\"></td><td class=\"diff_header\" id=\"from0_19\">19</td><td nowrap=\"nowrap\">&nbsp;&nbsp;&nbsp;&nbsp;&nbsp;&nbsp;&nbsp;)</td><td class=\"diff_next\"></td><td class=\"diff_header\" id=\"to0_19\">19</td><td nowrap=\"nowrap\">&nbsp;&nbsp;&nbsp;&nbsp;&nbsp;&nbsp;&nbsp;)</td></tr>\n",
       "            <tr><td class=\"diff_next\"></td><td class=\"diff_header\" id=\"from0_20\">20</td><td nowrap=\"nowrap\">&nbsp;&nbsp;&nbsp;&nbsp;&nbsp;)</td><td class=\"diff_next\"></td><td class=\"diff_header\" id=\"to0_20\">20</td><td nowrap=\"nowrap\">&nbsp;&nbsp;&nbsp;&nbsp;&nbsp;)</td></tr>\n",
       "            <tr><td class=\"diff_next\"></td><td class=\"diff_header\" id=\"from0_21\">21</td><td nowrap=\"nowrap\">&nbsp;&nbsp;&nbsp;)</td><td class=\"diff_next\"></td><td class=\"diff_header\" id=\"to0_21\">21</td><td nowrap=\"nowrap\">&nbsp;&nbsp;&nbsp;)</td></tr>\n",
       "            <tr><td class=\"diff_next\"></td><td class=\"diff_header\" id=\"from0_22\">22</td><td nowrap=\"nowrap\">&nbsp;&nbsp;&nbsp;&nbsp;(preference&nbsp;binKnockedOver</td><td class=\"diff_next\"></td><td class=\"diff_header\" id=\"to0_22\">22</td><td nowrap=\"nowrap\">&nbsp;&nbsp;&nbsp;&nbsp;(preference&nbsp;binKnockedOver</td></tr>\n",
       "            <tr><td class=\"diff_next\"></td><td class=\"diff_header\" id=\"from0_23\">23</td><td nowrap=\"nowrap\">&nbsp;&nbsp;&nbsp;&nbsp;&nbsp;&nbsp;(exists&nbsp;(?h&nbsp;-&nbsp;hexagonal_bin)</td><td class=\"diff_next\"></td><td class=\"diff_header\" id=\"to0_23\">23</td><td nowrap=\"nowrap\">&nbsp;&nbsp;&nbsp;&nbsp;&nbsp;&nbsp;(exists&nbsp;(?h&nbsp;-&nbsp;hexagonal_bin)</td></tr>\n",
       "            <tr><td class=\"diff_next\"></td><td class=\"diff_header\" id=\"from0_24\">24</td><td nowrap=\"nowrap\">&nbsp;&nbsp;&nbsp;&nbsp;&nbsp;&nbsp;&nbsp;&nbsp;(then</td><td class=\"diff_next\"></td><td class=\"diff_header\" id=\"to0_24\">24</td><td nowrap=\"nowrap\">&nbsp;&nbsp;&nbsp;&nbsp;&nbsp;&nbsp;&nbsp;&nbsp;(then</td></tr>\n",
       "            <tr><td class=\"diff_next\"></td><td class=\"diff_header\" id=\"from0_25\">25</td><td nowrap=\"nowrap\">&nbsp;&nbsp;&nbsp;&nbsp;&nbsp;&nbsp;&nbsp;&nbsp;&nbsp;&nbsp;(once&nbsp;(object_orientation&nbsp;?h&nbsp;upright))</td><td class=\"diff_next\"></td><td class=\"diff_header\" id=\"to0_25\">25</td><td nowrap=\"nowrap\">&nbsp;&nbsp;&nbsp;&nbsp;&nbsp;&nbsp;&nbsp;&nbsp;&nbsp;&nbsp;(once&nbsp;(object_orientation&nbsp;?h&nbsp;upright))</td></tr>\n",
       "            <tr><td class=\"diff_next\"></td><td class=\"diff_header\" id=\"from0_26\">26</td><td nowrap=\"nowrap\">&nbsp;&nbsp;&nbsp;&nbsp;&nbsp;&nbsp;&nbsp;&nbsp;&nbsp;&nbsp;(hold&nbsp;(and&nbsp;(not&nbsp;(touch&nbsp;agent&nbsp;?h))&nbsp;(not&nbsp;(agent_holds&nbsp;?h))))</td><td class=\"diff_next\"></td><td class=\"diff_header\" id=\"to0_26\">26</td><td nowrap=\"nowrap\">&nbsp;&nbsp;&nbsp;&nbsp;&nbsp;&nbsp;&nbsp;&nbsp;&nbsp;&nbsp;(hold&nbsp;(and&nbsp;(not&nbsp;(touch&nbsp;agent&nbsp;?h))&nbsp;(not&nbsp;(agent_holds&nbsp;?h))))</td></tr>\n",
       "            <tr><td class=\"diff_next\"></td><td class=\"diff_header\" id=\"from0_27\">27</td><td nowrap=\"nowrap\">&nbsp;&nbsp;&nbsp;&nbsp;&nbsp;&nbsp;&nbsp;&nbsp;&nbsp;&nbsp;(once&nbsp;(not&nbsp;(object_orientation&nbsp;?h&nbsp;upright)))</td><td class=\"diff_next\"></td><td class=\"diff_header\" id=\"to0_27\">27</td><td nowrap=\"nowrap\">&nbsp;&nbsp;&nbsp;&nbsp;&nbsp;&nbsp;&nbsp;&nbsp;&nbsp;&nbsp;(once&nbsp;(not&nbsp;(object_orientation&nbsp;?h&nbsp;upright)))</td></tr>\n",
       "            <tr><td class=\"diff_next\"></td><td class=\"diff_header\" id=\"from0_28\">28</td><td nowrap=\"nowrap\">&nbsp;&nbsp;&nbsp;&nbsp;&nbsp;&nbsp;&nbsp;)</td><td class=\"diff_next\"></td><td class=\"diff_header\" id=\"to0_28\">28</td><td nowrap=\"nowrap\">&nbsp;&nbsp;&nbsp;&nbsp;&nbsp;&nbsp;&nbsp;)</td></tr>\n",
       "            <tr><td class=\"diff_next\"></td><td class=\"diff_header\" id=\"from0_29\">29</td><td nowrap=\"nowrap\">&nbsp;&nbsp;&nbsp;&nbsp;&nbsp;)</td><td class=\"diff_next\"></td><td class=\"diff_header\" id=\"to0_29\">29</td><td nowrap=\"nowrap\">&nbsp;&nbsp;&nbsp;&nbsp;&nbsp;)</td></tr>\n",
       "            <tr><td class=\"diff_next\"></td><td class=\"diff_header\" id=\"from0_30\">30</td><td nowrap=\"nowrap\">&nbsp;&nbsp;&nbsp;)</td><td class=\"diff_next\"></td><td class=\"diff_header\" id=\"to0_30\">30</td><td nowrap=\"nowrap\">&nbsp;&nbsp;&nbsp;)</td></tr>\n",
       "            <tr><td class=\"diff_next\"></td><td class=\"diff_header\" id=\"from0_31\">31</td><td nowrap=\"nowrap\">&nbsp;)</td><td class=\"diff_next\"></td><td class=\"diff_header\" id=\"to0_31\">31</td><td nowrap=\"nowrap\">&nbsp;)</td></tr>\n",
       "            <tr><td class=\"diff_next\"></td><td class=\"diff_header\" id=\"from0_32\">32</td><td nowrap=\"nowrap\">)</td><td class=\"diff_next\"></td><td class=\"diff_header\" id=\"to0_32\">32</td><td nowrap=\"nowrap\">)</td></tr>\n",
       "            <tr><td class=\"diff_next\"></td><td class=\"diff_header\" id=\"from0_33\">33</td><td nowrap=\"nowrap\">(:terminal</td><td class=\"diff_next\"></td><td class=\"diff_header\" id=\"to0_33\">33</td><td nowrap=\"nowrap\">(:terminal</td></tr>\n",
       "            <tr><td class=\"diff_next\"></td><td class=\"diff_header\" id=\"from0_34\">34</td><td nowrap=\"nowrap\">&nbsp;&nbsp;(&gt;=&nbsp;(count-once&nbsp;binKnockedOver)&nbsp;1)</td><td class=\"diff_next\"></td><td class=\"diff_header\" id=\"to0_34\">34</td><td nowrap=\"nowrap\">&nbsp;&nbsp;(&gt;=&nbsp;(count-once&nbsp;binKnockedOver)&nbsp;1)</td></tr>\n",
       "            <tr><td class=\"diff_next\"></td><td class=\"diff_header\" id=\"from0_35\">35</td><td nowrap=\"nowrap\">)</td><td class=\"diff_next\"></td><td class=\"diff_header\" id=\"to0_35\">35</td><td nowrap=\"nowrap\">)</td></tr>\n",
       "            <tr><td class=\"diff_next\"></td><td class=\"diff_header\" id=\"from0_36\">36</td><td nowrap=\"nowrap\">(:scoring</td><td class=\"diff_next\"></td><td class=\"diff_header\" id=\"to0_36\">36</td><td nowrap=\"nowrap\">(:scoring</td></tr>\n",
       "            <tr><td class=\"diff_next\"></td><td class=\"diff_header\" id=\"from0_37\">37</td><td nowrap=\"nowrap\">&nbsp;&nbsp;(count&nbsp;throwToRampToBin)</td><td class=\"diff_next\"></td><td class=\"diff_header\" id=\"to0_37\">37</td><td nowrap=\"nowrap\">&nbsp;&nbsp;(count&nbsp;throwToRampToBin)</td></tr>\n",
       "            <tr><td class=\"diff_next\"></td><td class=\"diff_header\" id=\"from0_38\">38</td><td nowrap=\"nowrap\">)</td><td class=\"diff_next\"></td><td class=\"diff_header\" id=\"to0_38\">38</td><td nowrap=\"nowrap\">)</td></tr>\n",
       "            <tr><td class=\"diff_next\"></td><td class=\"diff_header\" id=\"from0_39\">39</td><td nowrap=\"nowrap\">)</td><td class=\"diff_next\"></td><td class=\"diff_header\" id=\"to0_39\">39</td><td nowrap=\"nowrap\">)</td></tr>\n",
       "        </tbody>\n",
       "    </table>\n",
       "    <table class=\"diff\" summary=\"Legends\">\n",
       "        <tr> <th colspan=\"2\"> Legends </th> </tr>\n",
       "        <tr> <td> <table border=\"\" summary=\"Colors\">\n",
       "                      <tr><th> Colors </th> </tr>\n",
       "                      <tr><td class=\"diff_add\">&nbsp;Added&nbsp;</td></tr>\n",
       "                      <tr><td class=\"diff_chg\">Changed</td> </tr>\n",
       "                      <tr><td class=\"diff_sub\">Deleted</td> </tr>\n",
       "                  </table></td>\n",
       "             <td> <table border=\"\" summary=\"Links\">\n",
       "                      <tr><th colspan=\"2\"> Links </th> </tr>\n",
       "                      <tr><td>(f)irst change</td> </tr>\n",
       "                      <tr><td>(n)ext change</td> </tr>\n",
       "                      <tr><td>(t)op</td> </tr>\n",
       "                  </table></td> </tr>\n",
       "    </table>\n",
       "</body>\n",
       "\n",
       "</html>"
      ],
      "text/plain": [
       "<IPython.core.display.HTML object>"
      ]
     },
     "metadata": {},
     "output_type": "display_data"
    }
   ],
   "source": [
    "utils.evaluate_energy_contributions(cv_energy_model, full_tensor, 987, \n",
    "        feature_columns, full_tensor, real_game_texts, regrown_game_1024_texts, display_features_diff=False, min_display_threshold=0.001)\n",
    "    \n"
   ]
  },
  {
   "cell_type": "code",
   "execution_count": 36,
   "metadata": {},
   "outputs": [
    {
     "name": "stdout",
     "output_type": "stream",
     "text": [
      "Original game index: 0 | Negative game row: 0 | Negative game col: 987\n"
     ]
    },
    {
     "data": {
      "text/markdown": [
       "### Energy of real game: -19.616 | Energy of regrown game: -16.218 | Difference: 3.398"
      ],
      "text/plain": [
       "<IPython.core.display.Markdown object>"
      ]
     },
     "metadata": {},
     "output_type": "display_data"
    },
    {
     "data": {
      "text/markdown": [
       "### Top features changing the game's energy\n",
       "feature name: **value** = (original feature value => regrown feature value) * weight"
      ],
      "text/plain": [
       "<IPython.core.display.Markdown object>"
      ]
     },
     "metadata": {},
     "output_type": "display_data"
    },
    {
     "data": {
      "text/markdown": [
       "| Features increasing energy (= more fake)                                          | Features decreasing energy (= more real)                                                |\n",
       "|-----------------------------------------------------------------------------------|-----------------------------------------------------------------------------------------|\n",
       "| ast_ngram_full_n_5_score: **3.405** = (0.968 => 0.783) * -18.388                  | agent_holds_arg_types_balls_constraints: **-0.004** = (1.000 => 0.000) * 0.004          |\n",
       "| in_arg_types_receptacles_balls_constraints: **0.003** = (1.000 => 0.000) * -0.003 | in_motion_arg_types_balls_constraints: **-0.004** = (1.000 => 0.000) * 0.004            |\n",
       "| touch_arg_types_balls_ramps_constraints: **0.001** = (1.000 => 0.000) * -0.001    | in_motion_arg_types_large_objects_constraints: **-0.003** = (0.000 => 1.000) * -0.003   |\n",
       "|                                                                                   | agent_holds_arg_types_large_objects_constraints: **-0.001** = (0.000 => 1.000) * -0.001 |"
      ],
      "text/plain": [
       "<IPython.core.display.Markdown object>"
      ]
     },
     "metadata": {},
     "output_type": "display_data"
    },
    {
     "data": {
      "text/markdown": [
       "### Game Diffs"
      ],
      "text/plain": [
       "<IPython.core.display.Markdown object>"
      ]
     },
     "metadata": {},
     "output_type": "display_data"
    },
    {
     "data": {
      "text/html": [
       "\n",
       "<!DOCTYPE html PUBLIC \"-//W3C//DTD XHTML 1.0 Transitional//EN\"\n",
       "          \"http://www.w3.org/TR/xhtml1/DTD/xhtml1-transitional.dtd\">\n",
       "\n",
       "<html>\n",
       "\n",
       "<head>\n",
       "    <meta http-equiv=\"Content-Type\"\n",
       "          content=\"text/html; charset=utf-8\" />\n",
       "    <title></title>\n",
       "    <style type=\"text/css\">\n",
       "        table.diff {font-family:Courier; border:medium;}\n",
       "        .diff_header {background-color:#e0e0e0}\n",
       "        .diff td {text-align: left !important}\n",
       ".diff th {text-align: center!important }\n",
       ".diff td.diff_header {text-align:right !important}\n",
       "        .diff_next {background-color:#c0c0c0}\n",
       "        .diff_add {background-color: #6fa66f !important; font-weight: bold !important}\n",
       "        .diff_chg {background-color: #999949 !important; font-weight: bold !important}\n",
       "        .diff_sub {background-color: #a66f6f !important; font-weight: bold !important}\n",
       "    </style>\n",
       "</head>\n",
       "\n",
       "<body>\n",
       "    \n",
       "    <table class=\"diff\" id=\"difflib_chg_to1__top\"\n",
       "           cellspacing=\"0\" cellpadding=\"0\" rules=\"groups\" >\n",
       "        <colgroup></colgroup> <colgroup></colgroup> <colgroup></colgroup>\n",
       "        <colgroup></colgroup> <colgroup></colgroup> <colgroup></colgroup>\n",
       "        \n",
       "        <tbody>\n",
       "            <tr><td class=\"diff_next\" id=\"difflib_chg_to1__0\"><a href=\"#difflib_chg_to1__1\">n</a></td><td class=\"diff_header\" id=\"from1_1\">1</td><td nowrap=\"nowrap\">(define&nbsp;(game&nbsp;6172feb1665491d1efbce164-0)&nbsp;(:domain&nbsp;medium-objects-room-v1)</td><td class=\"diff_next\"><a href=\"#difflib_chg_to1__1\">n</a></td><td class=\"diff_header\" id=\"to1_1\">1</td><td nowrap=\"nowrap\">(define&nbsp;(game&nbsp;6172feb1665491d1efbce164-0<span class=\"diff_add\">-987-nd-11-rd-2-rs-constraints-sk-prior2</span></td></tr>\n",
       "            <tr><td class=\"diff_next\"></td><td class=\"diff_header\"></td><td nowrap=\"nowrap\">&nbsp;</td><td class=\"diff_next\"></td><td class=\"diff_header\">></td><td nowrap=\"nowrap\"><span class=\"diff_add\"></span>)&nbsp;(:domain&nbsp;medium-objects-room-v1)</td></tr>\n",
       "            <tr><td class=\"diff_next\"></td><td class=\"diff_header\" id=\"from1_2\">2</td><td nowrap=\"nowrap\">(:setup</td><td class=\"diff_next\"></td><td class=\"diff_header\" id=\"to1_2\">2</td><td nowrap=\"nowrap\">(:setup</td></tr>\n",
       "            <tr><td class=\"diff_next\"></td><td class=\"diff_header\" id=\"from1_3\">3</td><td nowrap=\"nowrap\">&nbsp;&nbsp;(and</td><td class=\"diff_next\"></td><td class=\"diff_header\" id=\"to1_3\">3</td><td nowrap=\"nowrap\">&nbsp;&nbsp;(and</td></tr>\n",
       "            <tr><td class=\"diff_next\"></td><td class=\"diff_header\" id=\"from1_4\">4</td><td nowrap=\"nowrap\">&nbsp;&nbsp;&nbsp;&nbsp;(exists&nbsp;(?h&nbsp;-&nbsp;hexagonal_bin&nbsp;?r&nbsp;-&nbsp;triangular_ramp)</td><td class=\"diff_next\"></td><td class=\"diff_header\" id=\"to1_4\">4</td><td nowrap=\"nowrap\">&nbsp;&nbsp;&nbsp;&nbsp;(exists&nbsp;(?h&nbsp;-&nbsp;hexagonal_bin&nbsp;?r&nbsp;-&nbsp;triangular_ramp)</td></tr>\n",
       "            <tr><td class=\"diff_next\"></td><td class=\"diff_header\" id=\"from1_5\">5</td><td nowrap=\"nowrap\">&nbsp;&nbsp;&nbsp;&nbsp;&nbsp;&nbsp;(game-conserved</td><td class=\"diff_next\"></td><td class=\"diff_header\" id=\"to1_5\">5</td><td nowrap=\"nowrap\">&nbsp;&nbsp;&nbsp;&nbsp;&nbsp;&nbsp;(game-conserved</td></tr>\n",
       "            <tr><td class=\"diff_next\"></td><td class=\"diff_header\" id=\"from1_6\">6</td><td nowrap=\"nowrap\">&nbsp;&nbsp;&nbsp;&nbsp;&nbsp;&nbsp;&nbsp;&nbsp;(&lt;&nbsp;(distance&nbsp;?h&nbsp;?r)&nbsp;1)</td><td class=\"diff_next\"></td><td class=\"diff_header\" id=\"to1_6\">6</td><td nowrap=\"nowrap\">&nbsp;&nbsp;&nbsp;&nbsp;&nbsp;&nbsp;&nbsp;&nbsp;(&lt;&nbsp;(distance&nbsp;?h&nbsp;?r)&nbsp;1)</td></tr>\n",
       "            <tr><td class=\"diff_next\"></td><td class=\"diff_header\" id=\"from1_7\">7</td><td nowrap=\"nowrap\">&nbsp;&nbsp;&nbsp;&nbsp;&nbsp;)</td><td class=\"diff_next\"></td><td class=\"diff_header\" id=\"to1_7\">7</td><td nowrap=\"nowrap\">&nbsp;&nbsp;&nbsp;&nbsp;&nbsp;)</td></tr>\n",
       "            <tr><td class=\"diff_next\"></td><td class=\"diff_header\" id=\"from1_8\">8</td><td nowrap=\"nowrap\">&nbsp;&nbsp;&nbsp;)</td><td class=\"diff_next\"></td><td class=\"diff_header\" id=\"to1_8\">8</td><td nowrap=\"nowrap\">&nbsp;&nbsp;&nbsp;)</td></tr>\n",
       "            <tr><td class=\"diff_next\" id=\"difflib_chg_to1__1\"></td><td class=\"diff_header\" id=\"from1_9\">9</td><td nowrap=\"nowrap\">&nbsp;)</td><td class=\"diff_next\"></td><td class=\"diff_header\" id=\"to1_9\">9</td><td nowrap=\"nowrap\">&nbsp;)</td></tr>\n",
       "            <tr><td class=\"diff_next\"></td><td class=\"diff_header\" id=\"from1_10\">10</td><td nowrap=\"nowrap\">)</td><td class=\"diff_next\"></td><td class=\"diff_header\" id=\"to1_10\">10</td><td nowrap=\"nowrap\">)</td></tr>\n",
       "            <tr><td class=\"diff_next\"></td><td class=\"diff_header\" id=\"from1_11\">11</td><td nowrap=\"nowrap\">(:constraints</td><td class=\"diff_next\"></td><td class=\"diff_header\" id=\"to1_11\">11</td><td nowrap=\"nowrap\">(:constraints</td></tr>\n",
       "            <tr><td class=\"diff_next\"></td><td class=\"diff_header\" id=\"from1_12\">12</td><td nowrap=\"nowrap\">&nbsp;&nbsp;(and</td><td class=\"diff_next\"></td><td class=\"diff_header\" id=\"to1_12\">12</td><td nowrap=\"nowrap\">&nbsp;&nbsp;(and</td></tr>\n",
       "            <tr><td class=\"diff_next\"></td><td class=\"diff_header\" id=\"from1_13\">13</td><td nowrap=\"nowrap\">&nbsp;&nbsp;&nbsp;&nbsp;(preference&nbsp;throwToRampToBin</td><td class=\"diff_next\"></td><td class=\"diff_header\" id=\"to1_13\">13</td><td nowrap=\"nowrap\">&nbsp;&nbsp;&nbsp;&nbsp;(preference&nbsp;throwToRampToBin</td></tr>\n",
       "            <tr><td class=\"diff_next\"><a href=\"#difflib_chg_to1__top\">t</a></td><td class=\"diff_header\" id=\"from1_14\">14</td><td nowrap=\"nowrap\">&nbsp;&nbsp;&nbsp;&nbsp;&nbsp;&nbsp;(exists&nbsp;(?b&nbsp;-&nbsp;ba<span class=\"diff_chg\">ll</span>&nbsp;?r&nbsp;-&nbsp;triangular_ramp&nbsp;?h&nbsp;-&nbsp;hexagonal_bin)</td><td class=\"diff_next\"><a href=\"#difflib_chg_to1__top\">t</a></td><td class=\"diff_header\" id=\"to1_14\">14</td><td nowrap=\"nowrap\">&nbsp;&nbsp;&nbsp;&nbsp;&nbsp;&nbsp;(exists&nbsp;(?b&nbsp;-&nbsp;<span class=\"diff_add\">teddy_</span>b<span class=\"diff_add\">e</span>a<span class=\"diff_chg\">r</span>&nbsp;?r&nbsp;-&nbsp;triangular_ramp&nbsp;?h&nbsp;-&nbsp;hexagonal_bin)</td></tr>\n",
       "            <tr><td class=\"diff_next\"></td><td class=\"diff_header\" id=\"from1_15\">15</td><td nowrap=\"nowrap\">&nbsp;&nbsp;&nbsp;&nbsp;&nbsp;&nbsp;&nbsp;&nbsp;(then</td><td class=\"diff_next\"></td><td class=\"diff_header\" id=\"to1_15\">15</td><td nowrap=\"nowrap\">&nbsp;&nbsp;&nbsp;&nbsp;&nbsp;&nbsp;&nbsp;&nbsp;(then</td></tr>\n",
       "            <tr><td class=\"diff_next\"></td><td class=\"diff_header\" id=\"from1_16\">16</td><td nowrap=\"nowrap\">&nbsp;&nbsp;&nbsp;&nbsp;&nbsp;&nbsp;&nbsp;&nbsp;&nbsp;&nbsp;(once&nbsp;(agent_holds&nbsp;?b))</td><td class=\"diff_next\"></td><td class=\"diff_header\" id=\"to1_16\">16</td><td nowrap=\"nowrap\">&nbsp;&nbsp;&nbsp;&nbsp;&nbsp;&nbsp;&nbsp;&nbsp;&nbsp;&nbsp;(once&nbsp;(agent_holds&nbsp;?b))</td></tr>\n",
       "            <tr><td class=\"diff_next\"></td><td class=\"diff_header\" id=\"from1_17\">17</td><td nowrap=\"nowrap\">&nbsp;&nbsp;&nbsp;&nbsp;&nbsp;&nbsp;&nbsp;&nbsp;&nbsp;&nbsp;(hold-while&nbsp;(and&nbsp;(not&nbsp;(agent_holds&nbsp;?b))&nbsp;(in_motion&nbsp;?b))&nbsp;(touch&nbsp;?b&nbsp;?r))</td><td class=\"diff_next\"></td><td class=\"diff_header\" id=\"to1_17\">17</td><td nowrap=\"nowrap\">&nbsp;&nbsp;&nbsp;&nbsp;&nbsp;&nbsp;&nbsp;&nbsp;&nbsp;&nbsp;(hold-while&nbsp;(and&nbsp;(not&nbsp;(agent_holds&nbsp;?b))&nbsp;(in_motion&nbsp;?b))&nbsp;(touch&nbsp;?b&nbsp;?r))</td></tr>\n",
       "            <tr><td class=\"diff_next\"></td><td class=\"diff_header\" id=\"from1_18\">18</td><td nowrap=\"nowrap\">&nbsp;&nbsp;&nbsp;&nbsp;&nbsp;&nbsp;&nbsp;&nbsp;&nbsp;&nbsp;(once&nbsp;(and&nbsp;(not&nbsp;(in_motion&nbsp;?b))&nbsp;(in&nbsp;?h&nbsp;?b)))</td><td class=\"diff_next\"></td><td class=\"diff_header\" id=\"to1_18\">18</td><td nowrap=\"nowrap\">&nbsp;&nbsp;&nbsp;&nbsp;&nbsp;&nbsp;&nbsp;&nbsp;&nbsp;&nbsp;(once&nbsp;(and&nbsp;(not&nbsp;(in_motion&nbsp;?b))&nbsp;(in&nbsp;?h&nbsp;?b)))</td></tr>\n",
       "            <tr><td class=\"diff_next\"></td><td class=\"diff_header\" id=\"from1_19\">19</td><td nowrap=\"nowrap\">&nbsp;&nbsp;&nbsp;&nbsp;&nbsp;&nbsp;&nbsp;)</td><td class=\"diff_next\"></td><td class=\"diff_header\" id=\"to1_19\">19</td><td nowrap=\"nowrap\">&nbsp;&nbsp;&nbsp;&nbsp;&nbsp;&nbsp;&nbsp;)</td></tr>\n",
       "            <tr><td class=\"diff_next\"></td><td class=\"diff_header\" id=\"from1_20\">20</td><td nowrap=\"nowrap\">&nbsp;&nbsp;&nbsp;&nbsp;&nbsp;)</td><td class=\"diff_next\"></td><td class=\"diff_header\" id=\"to1_20\">20</td><td nowrap=\"nowrap\">&nbsp;&nbsp;&nbsp;&nbsp;&nbsp;)</td></tr>\n",
       "            <tr><td class=\"diff_next\"></td><td class=\"diff_header\" id=\"from1_21\">21</td><td nowrap=\"nowrap\">&nbsp;&nbsp;&nbsp;)</td><td class=\"diff_next\"></td><td class=\"diff_header\" id=\"to1_21\">21</td><td nowrap=\"nowrap\">&nbsp;&nbsp;&nbsp;)</td></tr>\n",
       "            <tr><td class=\"diff_next\"></td><td class=\"diff_header\" id=\"from1_22\">22</td><td nowrap=\"nowrap\">&nbsp;&nbsp;&nbsp;&nbsp;(preference&nbsp;binKnockedOver</td><td class=\"diff_next\"></td><td class=\"diff_header\" id=\"to1_22\">22</td><td nowrap=\"nowrap\">&nbsp;&nbsp;&nbsp;&nbsp;(preference&nbsp;binKnockedOver</td></tr>\n",
       "            <tr><td class=\"diff_next\"></td><td class=\"diff_header\" id=\"from1_23\">23</td><td nowrap=\"nowrap\">&nbsp;&nbsp;&nbsp;&nbsp;&nbsp;&nbsp;(exists&nbsp;(?h&nbsp;-&nbsp;hexagonal_bin)</td><td class=\"diff_next\"></td><td class=\"diff_header\" id=\"to1_23\">23</td><td nowrap=\"nowrap\">&nbsp;&nbsp;&nbsp;&nbsp;&nbsp;&nbsp;(exists&nbsp;(?h&nbsp;-&nbsp;hexagonal_bin)</td></tr>\n",
       "            <tr><td class=\"diff_next\"></td><td class=\"diff_header\" id=\"from1_24\">24</td><td nowrap=\"nowrap\">&nbsp;&nbsp;&nbsp;&nbsp;&nbsp;&nbsp;&nbsp;&nbsp;(then</td><td class=\"diff_next\"></td><td class=\"diff_header\" id=\"to1_24\">24</td><td nowrap=\"nowrap\">&nbsp;&nbsp;&nbsp;&nbsp;&nbsp;&nbsp;&nbsp;&nbsp;(then</td></tr>\n",
       "            <tr><td class=\"diff_next\"></td><td class=\"diff_header\" id=\"from1_25\">25</td><td nowrap=\"nowrap\">&nbsp;&nbsp;&nbsp;&nbsp;&nbsp;&nbsp;&nbsp;&nbsp;&nbsp;&nbsp;(once&nbsp;(object_orientation&nbsp;?h&nbsp;upright))</td><td class=\"diff_next\"></td><td class=\"diff_header\" id=\"to1_25\">25</td><td nowrap=\"nowrap\">&nbsp;&nbsp;&nbsp;&nbsp;&nbsp;&nbsp;&nbsp;&nbsp;&nbsp;&nbsp;(once&nbsp;(object_orientation&nbsp;?h&nbsp;upright))</td></tr>\n",
       "            <tr><td class=\"diff_next\"></td><td class=\"diff_header\" id=\"from1_26\">26</td><td nowrap=\"nowrap\">&nbsp;&nbsp;&nbsp;&nbsp;&nbsp;&nbsp;&nbsp;&nbsp;&nbsp;&nbsp;(hold&nbsp;(and&nbsp;(not&nbsp;(touch&nbsp;agent&nbsp;?h))&nbsp;(not&nbsp;(agent_holds&nbsp;?h))))</td><td class=\"diff_next\"></td><td class=\"diff_header\" id=\"to1_26\">26</td><td nowrap=\"nowrap\">&nbsp;&nbsp;&nbsp;&nbsp;&nbsp;&nbsp;&nbsp;&nbsp;&nbsp;&nbsp;(hold&nbsp;(and&nbsp;(not&nbsp;(touch&nbsp;agent&nbsp;?h))&nbsp;(not&nbsp;(agent_holds&nbsp;?h))))</td></tr>\n",
       "            <tr><td class=\"diff_next\"></td><td class=\"diff_header\" id=\"from1_27\">27</td><td nowrap=\"nowrap\">&nbsp;&nbsp;&nbsp;&nbsp;&nbsp;&nbsp;&nbsp;&nbsp;&nbsp;&nbsp;(once&nbsp;(not&nbsp;(object_orientation&nbsp;?h&nbsp;upright)))</td><td class=\"diff_next\"></td><td class=\"diff_header\" id=\"to1_27\">27</td><td nowrap=\"nowrap\">&nbsp;&nbsp;&nbsp;&nbsp;&nbsp;&nbsp;&nbsp;&nbsp;&nbsp;&nbsp;(once&nbsp;(not&nbsp;(object_orientation&nbsp;?h&nbsp;upright)))</td></tr>\n",
       "            <tr><td class=\"diff_next\"></td><td class=\"diff_header\" id=\"from1_28\">28</td><td nowrap=\"nowrap\">&nbsp;&nbsp;&nbsp;&nbsp;&nbsp;&nbsp;&nbsp;)</td><td class=\"diff_next\"></td><td class=\"diff_header\" id=\"to1_28\">28</td><td nowrap=\"nowrap\">&nbsp;&nbsp;&nbsp;&nbsp;&nbsp;&nbsp;&nbsp;)</td></tr>\n",
       "            <tr><td class=\"diff_next\"></td><td class=\"diff_header\" id=\"from1_29\">29</td><td nowrap=\"nowrap\">&nbsp;&nbsp;&nbsp;&nbsp;&nbsp;)</td><td class=\"diff_next\"></td><td class=\"diff_header\" id=\"to1_29\">29</td><td nowrap=\"nowrap\">&nbsp;&nbsp;&nbsp;&nbsp;&nbsp;)</td></tr>\n",
       "            <tr><td class=\"diff_next\"></td><td class=\"diff_header\" id=\"from1_30\">30</td><td nowrap=\"nowrap\">&nbsp;&nbsp;&nbsp;)</td><td class=\"diff_next\"></td><td class=\"diff_header\" id=\"to1_30\">30</td><td nowrap=\"nowrap\">&nbsp;&nbsp;&nbsp;)</td></tr>\n",
       "            <tr><td class=\"diff_next\"></td><td class=\"diff_header\" id=\"from1_31\">31</td><td nowrap=\"nowrap\">&nbsp;)</td><td class=\"diff_next\"></td><td class=\"diff_header\" id=\"to1_31\">31</td><td nowrap=\"nowrap\">&nbsp;)</td></tr>\n",
       "            <tr><td class=\"diff_next\"></td><td class=\"diff_header\" id=\"from1_32\">32</td><td nowrap=\"nowrap\">)</td><td class=\"diff_next\"></td><td class=\"diff_header\" id=\"to1_32\">32</td><td nowrap=\"nowrap\">)</td></tr>\n",
       "            <tr><td class=\"diff_next\"></td><td class=\"diff_header\" id=\"from1_33\">33</td><td nowrap=\"nowrap\">(:terminal</td><td class=\"diff_next\"></td><td class=\"diff_header\" id=\"to1_33\">33</td><td nowrap=\"nowrap\">(:terminal</td></tr>\n",
       "            <tr><td class=\"diff_next\"></td><td class=\"diff_header\" id=\"from1_34\">34</td><td nowrap=\"nowrap\">&nbsp;&nbsp;(&gt;=&nbsp;(count-once&nbsp;binKnockedOver)&nbsp;1)</td><td class=\"diff_next\"></td><td class=\"diff_header\" id=\"to1_34\">34</td><td nowrap=\"nowrap\">&nbsp;&nbsp;(&gt;=&nbsp;(count-once&nbsp;binKnockedOver)&nbsp;1)</td></tr>\n",
       "            <tr><td class=\"diff_next\"></td><td class=\"diff_header\" id=\"from1_35\">35</td><td nowrap=\"nowrap\">)</td><td class=\"diff_next\"></td><td class=\"diff_header\" id=\"to1_35\">35</td><td nowrap=\"nowrap\">)</td></tr>\n",
       "            <tr><td class=\"diff_next\"></td><td class=\"diff_header\" id=\"from1_36\">36</td><td nowrap=\"nowrap\">(:scoring</td><td class=\"diff_next\"></td><td class=\"diff_header\" id=\"to1_36\">36</td><td nowrap=\"nowrap\">(:scoring</td></tr>\n",
       "            <tr><td class=\"diff_next\"></td><td class=\"diff_header\" id=\"from1_37\">37</td><td nowrap=\"nowrap\">&nbsp;&nbsp;(count&nbsp;throwToRampToBin)</td><td class=\"diff_next\"></td><td class=\"diff_header\" id=\"to1_37\">37</td><td nowrap=\"nowrap\">&nbsp;&nbsp;(count&nbsp;throwToRampToBin)</td></tr>\n",
       "            <tr><td class=\"diff_next\"></td><td class=\"diff_header\" id=\"from1_38\">38</td><td nowrap=\"nowrap\">)</td><td class=\"diff_next\"></td><td class=\"diff_header\" id=\"to1_38\">38</td><td nowrap=\"nowrap\">)</td></tr>\n",
       "            <tr><td class=\"diff_next\"></td><td class=\"diff_header\" id=\"from1_39\">39</td><td nowrap=\"nowrap\">)</td><td class=\"diff_next\"></td><td class=\"diff_header\" id=\"to1_39\">39</td><td nowrap=\"nowrap\">)</td></tr>\n",
       "        </tbody>\n",
       "    </table>\n",
       "    <table class=\"diff\" summary=\"Legends\">\n",
       "        <tr> <th colspan=\"2\"> Legends </th> </tr>\n",
       "        <tr> <td> <table border=\"\" summary=\"Colors\">\n",
       "                      <tr><th> Colors </th> </tr>\n",
       "                      <tr><td class=\"diff_add\">&nbsp;Added&nbsp;</td></tr>\n",
       "                      <tr><td class=\"diff_chg\">Changed</td> </tr>\n",
       "                      <tr><td class=\"diff_sub\">Deleted</td> </tr>\n",
       "                  </table></td>\n",
       "             <td> <table border=\"\" summary=\"Links\">\n",
       "                      <tr><th colspan=\"2\"> Links </th> </tr>\n",
       "                      <tr><td>(f)irst change</td> </tr>\n",
       "                      <tr><td>(n)ext change</td> </tr>\n",
       "                      <tr><td>(t)op</td> </tr>\n",
       "                  </table></td> </tr>\n",
       "    </table>\n",
       "</body>\n",
       "\n",
       "</html>"
      ],
      "text/plain": [
       "<IPython.core.display.HTML object>"
      ]
     },
     "metadata": {},
     "output_type": "display_data"
    }
   ],
   "source": [
    "utils.evaluate_energy_contributions(l1_model, full_tensor, 987, \n",
    "        feature_columns, full_tensor, real_game_texts, regrown_game_1024_texts, display_features_diff=False, min_display_threshold=0.001)\n",
    "    \n"
   ]
  }
 ],
 "metadata": {
  "kernelspec": {
   "display_name": "game-gen",
   "language": "python",
   "name": "python3"
  },
  "language_info": {
   "codemirror_mode": {
    "name": "ipython",
    "version": 3
   },
   "file_extension": ".py",
   "mimetype": "text/x-python",
   "name": "python",
   "nbconvert_exporter": "python",
   "pygments_lexer": "ipython3",
   "version": "3.10.8"
  },
  "orig_nbformat": 4
 },
 "nbformat": 4,
 "nbformat_minor": 2
}
