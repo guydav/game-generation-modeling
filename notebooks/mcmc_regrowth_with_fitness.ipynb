{
 "cells": [
  {
   "cell_type": "code",
   "execution_count": 1,
   "metadata": {},
   "outputs": [],
   "source": [
    "%autoreload 2"
   ]
  },
  {
   "cell_type": "code",
   "execution_count": 2,
   "metadata": {},
   "outputs": [],
   "source": [
    "from collections import defaultdict\n",
    "from argparse import Namespace\n",
    "import copy\n",
    "import gzip\n",
    "import itertools\n",
    "import os\n",
    "import pickle\n",
    "import sys\n",
    "import typing\n",
    "\n",
    "import matplotlib\n",
    "import matplotlib.pyplot as plt\n",
    "import numpy as np\n",
    "import pandas as pd\n",
    "import tatsu\n",
    "import tatsu.ast\n",
    "import torch\n",
    "import torch.nn as nn\n",
    "import torch.nn.functional as F\n",
    "from torch.utils.data import TensorDataset, DataLoader\n",
    "import tqdm\n",
    "import sklearn\n",
    "from sklearn.model_selection import GridSearchCV, train_test_split, KFold\n",
    "from sklearn.pipeline import Pipeline\n",
    "\n",
    "sys.path.append(os.path.abspath('..'))\n",
    "sys.path.append(os.path.abspath('../src'))\n",
    "from src.ast_utils import _extract_game_id\n",
    "from src import fitness_energy_utils as utils\n",
    "from src.fitness_energy_utils import NON_FEATURE_COLUMNS\n",
    "from src.fitness_features import *\n",
    "from src.ast_counter_sampler import *\n",
    "from src.ast_mcmc_regrowth import *"
   ]
  },
  {
   "cell_type": "code",
   "execution_count": 3,
   "metadata": {},
   "outputs": [
    {
     "name": "stdout",
     "output_type": "stream",
     "text": [
      "98 6272 64.0 100352 1024.0\n"
     ]
    }
   ],
   "source": [
    "grammar = open('../dsl/dsl.ebnf').read()\n",
    "grammar_parser = tatsu.compile(grammar)\n",
    "game_asts = list(cached_load_and_parse_games_from_file('../dsl/interactive-beta.pddl', grammar_parser, False, relative_path='..'))\n",
    "real_game_texts = [ast_printer.ast_to_string(ast, '\\n') for ast in game_asts]\n",
    "regrown_game_texts = list(load_games_from_file('../dsl/ast-real-regrowth-samples.pddl'))\n",
    "regrown_game_1024_texts = list(load_games_from_file('../dsl/ast-real-regrowth-samples-1024.pddl'))\n",
    "print(len(real_game_texts), len(regrown_game_texts), len(regrown_game_texts) / 98, len(regrown_game_1024_texts), len(regrown_game_1024_texts) / 98)\n"
   ]
  },
  {
   "cell_type": "code",
   "execution_count": 4,
   "metadata": {},
   "outputs": [
    {
     "name": "stdout",
     "output_type": "stream",
     "text": [
      "['interactive-beta.pddl' 'ast-real-regrowth-samples-1024.pddl']\n"
     ]
    },
    {
     "data": {
      "text/html": [
       "<div>\n",
       "<style scoped>\n",
       "    .dataframe tbody tr th:only-of-type {\n",
       "        vertical-align: middle;\n",
       "    }\n",
       "\n",
       "    .dataframe tbody tr th {\n",
       "        vertical-align: top;\n",
       "    }\n",
       "\n",
       "    .dataframe thead th {\n",
       "        text-align: right;\n",
       "    }\n",
       "</style>\n",
       "<table border=\"1\" class=\"dataframe\">\n",
       "  <thead>\n",
       "    <tr style=\"text-align: right;\">\n",
       "      <th></th>\n",
       "      <th>Index</th>\n",
       "      <th>src_file</th>\n",
       "      <th>game_name</th>\n",
       "      <th>domain_name</th>\n",
       "      <th>original_game_name</th>\n",
       "      <th>real</th>\n",
       "      <th>all_variables_defined</th>\n",
       "      <th>all_variables_used</th>\n",
       "      <th>all_preferences_used</th>\n",
       "      <th>setup_objects_used</th>\n",
       "      <th>...</th>\n",
       "      <th>ast_ngram_constraints_n_6_score</th>\n",
       "      <th>ast_ngram_constraints_n_7_score</th>\n",
       "      <th>ast_ngram_terminal_n_2_score</th>\n",
       "      <th>ast_ngram_terminal_n_3_score</th>\n",
       "      <th>ast_ngram_terminal_n_4_score</th>\n",
       "      <th>ast_ngram_terminal_n_5_score</th>\n",
       "      <th>ast_ngram_scoring_n_2_score</th>\n",
       "      <th>ast_ngram_scoring_n_3_score</th>\n",
       "      <th>ast_ngram_scoring_n_4_score</th>\n",
       "      <th>ast_ngram_scoring_n_5_score</th>\n",
       "    </tr>\n",
       "  </thead>\n",
       "  <tbody>\n",
       "    <tr>\n",
       "      <th>0</th>\n",
       "      <td>0</td>\n",
       "      <td>interactive-beta.pddl</td>\n",
       "      <td>6172feb1665491d1efbce164-0</td>\n",
       "      <td>medium-objects-room-v1</td>\n",
       "      <td>6172feb1665491d1efbce164-0</td>\n",
       "      <td>1</td>\n",
       "      <td>1</td>\n",
       "      <td>1</td>\n",
       "      <td>1</td>\n",
       "      <td>1.00</td>\n",
       "      <td>...</td>\n",
       "      <td>0.978689</td>\n",
       "      <td>0.985999</td>\n",
       "      <td>0.972647</td>\n",
       "      <td>0.982941</td>\n",
       "      <td>0.983447</td>\n",
       "      <td>0.985028</td>\n",
       "      <td>0.923947</td>\n",
       "      <td>0.920410</td>\n",
       "      <td>0.977171</td>\n",
       "      <td>0.988160</td>\n",
       "    </tr>\n",
       "    <tr>\n",
       "      <th>1</th>\n",
       "      <td>1</td>\n",
       "      <td>interactive-beta.pddl</td>\n",
       "      <td>5f77754ba932fb2c4ba181d8-2</td>\n",
       "      <td>many-objects-room-v1</td>\n",
       "      <td>5f77754ba932fb2c4ba181d8-2</td>\n",
       "      <td>1</td>\n",
       "      <td>1</td>\n",
       "      <td>1</td>\n",
       "      <td>1</td>\n",
       "      <td>1.00</td>\n",
       "      <td>...</td>\n",
       "      <td>0.984116</td>\n",
       "      <td>0.984782</td>\n",
       "      <td>0.969335</td>\n",
       "      <td>0.980352</td>\n",
       "      <td>0.979375</td>\n",
       "      <td>0.985628</td>\n",
       "      <td>0.910105</td>\n",
       "      <td>0.933163</td>\n",
       "      <td>0.949498</td>\n",
       "      <td>0.964510</td>\n",
       "    </tr>\n",
       "    <tr>\n",
       "      <th>2</th>\n",
       "      <td>2</td>\n",
       "      <td>interactive-beta.pddl</td>\n",
       "      <td>614b603d4da88384282967a7-3</td>\n",
       "      <td>many-objects-room-v1</td>\n",
       "      <td>614b603d4da88384282967a7-3</td>\n",
       "      <td>1</td>\n",
       "      <td>1</td>\n",
       "      <td>1</td>\n",
       "      <td>1</td>\n",
       "      <td>0.00</td>\n",
       "      <td>...</td>\n",
       "      <td>0.978814</td>\n",
       "      <td>0.982546</td>\n",
       "      <td>0.000000</td>\n",
       "      <td>0.000000</td>\n",
       "      <td>0.000000</td>\n",
       "      <td>0.000000</td>\n",
       "      <td>0.854408</td>\n",
       "      <td>0.866689</td>\n",
       "      <td>0.928334</td>\n",
       "      <td>0.945839</td>\n",
       "    </tr>\n",
       "    <tr>\n",
       "      <th>3</th>\n",
       "      <td>3</td>\n",
       "      <td>interactive-beta.pddl</td>\n",
       "      <td>5bc79f652885710001a0e82a-5</td>\n",
       "      <td>few-objects-room-v1</td>\n",
       "      <td>5bc79f652885710001a0e82a-5</td>\n",
       "      <td>1</td>\n",
       "      <td>1</td>\n",
       "      <td>1</td>\n",
       "      <td>1</td>\n",
       "      <td>0.00</td>\n",
       "      <td>...</td>\n",
       "      <td>0.988970</td>\n",
       "      <td>0.988449</td>\n",
       "      <td>0.000000</td>\n",
       "      <td>0.000000</td>\n",
       "      <td>0.000000</td>\n",
       "      <td>0.000000</td>\n",
       "      <td>0.923947</td>\n",
       "      <td>0.920410</td>\n",
       "      <td>0.977171</td>\n",
       "      <td>0.988160</td>\n",
       "    </tr>\n",
       "    <tr>\n",
       "      <th>4</th>\n",
       "      <td>4</td>\n",
       "      <td>interactive-beta.pddl</td>\n",
       "      <td>614dec67f6eb129c3a77defd-6</td>\n",
       "      <td>medium-objects-room-v1</td>\n",
       "      <td>614dec67f6eb129c3a77defd-6</td>\n",
       "      <td>1</td>\n",
       "      <td>1</td>\n",
       "      <td>1</td>\n",
       "      <td>1</td>\n",
       "      <td>0.25</td>\n",
       "      <td>...</td>\n",
       "      <td>0.984601</td>\n",
       "      <td>0.983148</td>\n",
       "      <td>0.000000</td>\n",
       "      <td>0.000000</td>\n",
       "      <td>0.000000</td>\n",
       "      <td>0.000000</td>\n",
       "      <td>0.978064</td>\n",
       "      <td>0.979764</td>\n",
       "      <td>0.973707</td>\n",
       "      <td>0.988379</td>\n",
       "    </tr>\n",
       "  </tbody>\n",
       "</table>\n",
       "<p>5 rows × 549 columns</p>\n",
       "</div>"
      ],
      "text/plain": [
       "   Index               src_file                   game_name  \\\n",
       "0      0  interactive-beta.pddl  6172feb1665491d1efbce164-0   \n",
       "1      1  interactive-beta.pddl  5f77754ba932fb2c4ba181d8-2   \n",
       "2      2  interactive-beta.pddl  614b603d4da88384282967a7-3   \n",
       "3      3  interactive-beta.pddl  5bc79f652885710001a0e82a-5   \n",
       "4      4  interactive-beta.pddl  614dec67f6eb129c3a77defd-6   \n",
       "\n",
       "              domain_name          original_game_name  real  \\\n",
       "0  medium-objects-room-v1  6172feb1665491d1efbce164-0     1   \n",
       "1    many-objects-room-v1  5f77754ba932fb2c4ba181d8-2     1   \n",
       "2    many-objects-room-v1  614b603d4da88384282967a7-3     1   \n",
       "3     few-objects-room-v1  5bc79f652885710001a0e82a-5     1   \n",
       "4  medium-objects-room-v1  614dec67f6eb129c3a77defd-6     1   \n",
       "\n",
       "   all_variables_defined  all_variables_used  all_preferences_used  \\\n",
       "0                      1                   1                     1   \n",
       "1                      1                   1                     1   \n",
       "2                      1                   1                     1   \n",
       "3                      1                   1                     1   \n",
       "4                      1                   1                     1   \n",
       "\n",
       "   setup_objects_used  ...  ast_ngram_constraints_n_6_score  \\\n",
       "0                1.00  ...                         0.978689   \n",
       "1                1.00  ...                         0.984116   \n",
       "2                0.00  ...                         0.978814   \n",
       "3                0.00  ...                         0.988970   \n",
       "4                0.25  ...                         0.984601   \n",
       "\n",
       "   ast_ngram_constraints_n_7_score  ast_ngram_terminal_n_2_score  \\\n",
       "0                         0.985999                      0.972647   \n",
       "1                         0.984782                      0.969335   \n",
       "2                         0.982546                      0.000000   \n",
       "3                         0.988449                      0.000000   \n",
       "4                         0.983148                      0.000000   \n",
       "\n",
       "   ast_ngram_terminal_n_3_score  ast_ngram_terminal_n_4_score  \\\n",
       "0                      0.982941                      0.983447   \n",
       "1                      0.980352                      0.979375   \n",
       "2                      0.000000                      0.000000   \n",
       "3                      0.000000                      0.000000   \n",
       "4                      0.000000                      0.000000   \n",
       "\n",
       "   ast_ngram_terminal_n_5_score  ast_ngram_scoring_n_2_score  \\\n",
       "0                      0.985028                     0.923947   \n",
       "1                      0.985628                     0.910105   \n",
       "2                      0.000000                     0.854408   \n",
       "3                      0.000000                     0.923947   \n",
       "4                      0.000000                     0.978064   \n",
       "\n",
       "   ast_ngram_scoring_n_3_score  ast_ngram_scoring_n_4_score  \\\n",
       "0                     0.920410                     0.977171   \n",
       "1                     0.933163                     0.949498   \n",
       "2                     0.866689                     0.928334   \n",
       "3                     0.920410                     0.977171   \n",
       "4                     0.979764                     0.973707   \n",
       "\n",
       "   ast_ngram_scoring_n_5_score  \n",
       "0                     0.988160  \n",
       "1                     0.964510  \n",
       "2                     0.945839  \n",
       "3                     0.988160  \n",
       "4                     0.988379  \n",
       "\n",
       "[5 rows x 549 columns]"
      ]
     },
     "execution_count": 4,
     "metadata": {},
     "output_type": "execute_result"
    }
   ],
   "source": [
    "fitness_df = utils.load_fitness_data('../data/fitness_features_1024_regrowths.csv.gz')\n",
    "print(fitness_df.src_file.unique())\n",
    "fitness_df.head()"
   ]
  },
  {
   "cell_type": "markdown",
   "metadata": {},
   "source": [
    "# Plan of attack\n",
    "* Use the code in `ast_counter_sampler.py` to generate a sample from the MLE\n",
    "* Score it with a fitness function adapted to working with a single example at a time\n",
    "* At each subsequent iteration, regrow the game from a random node, and score the regrowth\n",
    "* Since we have energy scores before and after, we can either accept greedily if $E_{new} < E_{old}$, or accept with probability $\\exp(\\beta (E_{old} - E_{new} ))$"
   ]
  },
  {
   "cell_type": "code",
   "execution_count": 5,
   "metadata": {},
   "outputs": [],
   "source": [
    "DEFAULT_ARGS = argparse.Namespace(\n",
    "    grammar_file=os.path.join('..', DEFAULT_GRAMMAR_FILE),\n",
    "    parse_counter=False,\n",
    "    counter_output_path=os.path.join('..', DEFAULT_COUNTER_OUTPUT_PATH),\n",
    "    random_seed=DEFUALT_RANDOM_SEED,\n",
    ")"
   ]
  },
  {
   "cell_type": "code",
   "execution_count": 11,
   "metadata": {},
   "outputs": [],
   "source": [
    "FITNESS_MODEL_DATE_ID = '2023_03_07_2'\n",
    "FITNESS_FEATURIZER_PATH = '../models/fitness_featurizer_2023_03_07.pkl.gz'\n",
    "\n",
    "\n",
    "mcmc = MCMCRegrowthSampler(DEFAULT_ARGS,\n",
    "    FITNESS_MODEL_DATE_ID, FITNESS_FEATURIZER_PATH, greedy_acceptance=True, \n",
    "    plateau_patience_steps=100, max_steps=10000,\n",
    "    fitness_function_relative_path='..')  #   acceptance_temperature=10.0, "
   ]
  },
  {
   "cell_type": "code",
   "execution_count": 13,
   "metadata": {},
   "outputs": [
    {
     "data": {
      "application/vnd.jupyter.widget-view+json": {
       "model_id": "7eafe9fc86aa4c25a423fbb6465db862",
       "version_major": 2,
       "version_minor": 0
      },
      "text/plain": [
       "  0%|          | 0/10 [00:00<?, ?it/s]"
      ]
     },
     "metadata": {},
     "output_type": "display_data"
    },
    {
     "name": "stdout",
     "output_type": "stream",
     "text": [
      "Plateaued at step 260 with energy -9.61622\n",
      "Plateaued at step 460 with energy -8.76074\n",
      "Plateaued at step 195 with energy -7.55684\n",
      "Plateaued at step 332 with energy -13.00698\n",
      "Plateaued at step 128 with energy -10.08365\n",
      "Plateaued at step 393 with energy -11.71130\n",
      "Plateaued at step 494 with energy -11.69675\n",
      "Plateaued at step 179 with energy -8.69254\n",
      "Plateaued at step 208 with energy -9.80241\n",
      "Plateaued at step 236 with energy -10.34956\n"
     ]
    }
   ],
   "source": [
    "n_samples = 10\n",
    "mcmc.multiple_samples(n_samples, verbose=1, should_tqdm=True)"
   ]
  },
  {
   "cell_type": "code",
   "execution_count": 14,
   "metadata": {},
   "outputs": [
    {
     "data": {
      "text/markdown": [
       "### Energy of visualized game: -13.007"
      ],
      "text/plain": [
       "<IPython.core.display.Markdown object>"
      ]
     },
     "metadata": {},
     "output_type": "display_data"
    },
    {
     "data": {
      "text/markdown": [
       "### Top features contributing to the game's energy\n",
       "feature name: **value** = (original feature value => regrown feature value) * weight"
      ],
      "text/plain": [
       "<IPython.core.display.Markdown object>"
      ]
     },
     "metadata": {},
     "output_type": "display_data"
    },
    {
     "data": {
      "text/markdown": [
       "| Features increasing energy (= more fake)                                   | Features decreasing energy (= more real)                                     |\n",
       "|----------------------------------------------------------------------------|------------------------------------------------------------------------------|\n",
       "| section_exists_setup: **0.406** = (1.000) * 0.406                          | ast_ngram_full_n_7_score: **-4.587** = (1.000) * -4.587                      |\n",
       "| section_exists_terminal: **0.361** = (1.000) * 0.361                       | ast_ngram_constraints_n_7_score: **-3.689** = (1.000) * -3.689               |\n",
       "| pref_forall_used_correct: **0.354** = (1.000) * 0.354                      | ast_ngram_setup_n_5_score: **-1.265** = (1.000) * -1.265                     |\n",
       "| mean_depth_terminal_1: **0.168** = (1.000) * 0.168                         | all_variables_used: **-1.108** = (1.000) * -1.108                            |\n",
       "| mean_depth_setup_2: **0.142** = (1.000) * 0.142                            | all_preferences_used: **-0.914** = (1.000) * -0.914                          |\n",
       "| mean_depth_constraints_2: **0.123** = (1.000) * 0.123                      | no_two_number_operations: **-0.825** = (1.000) * -0.825                      |\n",
       "| pref_forall_pref_forall_correct_types_correct: **0.063** = (1.000) * 0.063 | ast_ngram_terminal_n_5_score: **-0.649** = (1.000) * -0.649                  |\n",
       "| max_depth_setup_1: **0.032** = (1.000) * 0.032                             | pref_forall_pref_forall_correct_arity_correct: **-0.431** = (1.000) * -0.431 |\n",
       "|                                                                            | ast_ngram_scoring_n_5_score: **-0.385** = (1.000) * -0.385                   |\n",
       "|                                                                            | all_variables_defined: **-0.293** = (1.000) * -0.293                         |\n",
       "|                                                                            | mean_depth_scoring_1: **-0.214** = (1.000) * -0.214                          |\n",
       "|                                                                            | max_depth_constraints_1: **-0.175** = (1.000) * -0.175                       |\n",
       "|                                                                            | max_depth_terminal_1: **-0.070** = (1.000) * -0.070                          |\n",
       "|                                                                            | no_adjacent_same_modal: **-0.044** = (1.000) * -0.044                        |\n",
       "|                                                                            | max_depth_scoring_1: **-0.018** = (1.000) * -0.018                           |"
      ],
      "text/plain": [
       "<IPython.core.display.Markdown object>"
      ]
     },
     "metadata": {},
     "output_type": "display_data"
    },
    {
     "data": {
      "text/markdown": [
       "### Game:"
      ],
      "text/plain": [
       "<IPython.core.display.Markdown object>"
      ]
     },
     "metadata": {},
     "output_type": "display_data"
    },
    {
     "data": {
      "text/markdown": [
       "```pddl\n",
       "(define (game mcmc-3) (:domain many-objects-room-v1)\n",
       "(:setup\n",
       "  (forall (?v0 - curved_wooden_ramp)\n",
       "    (game-conserved\n",
       "      (on ?v0 back)\n",
       "    )\n",
       "  )\n",
       ")\n",
       "(:constraints\n",
       "  (and\n",
       "    (forall (?v1 - dodgeball)\n",
       "      (and\n",
       "        (preference preference0\n",
       "          (exists (?v2 - doggie_bed)\n",
       "            (then\n",
       "              (once (touch ?v1 ?v2) )\n",
       "              (hold (not (agent_holds ?v1) ) )\n",
       "              (hold-while (in_motion ?v1) (in_motion ?v1) )\n",
       "              (once (on ?v2 door) )\n",
       "            )\n",
       "          )\n",
       "        )\n",
       "      )\n",
       "    )\n",
       "  )\n",
       ")\n",
       "(:terminal\n",
       "  (>= 5 (total-score) )\n",
       ")\n",
       "(:scoring\n",
       "  (count-once-per-objects preference0:blue_dodgeball)\n",
       ")\n",
       ")\n",
       "```"
      ],
      "text/plain": [
       "<IPython.core.display.Markdown object>"
      ]
     },
     "metadata": {},
     "output_type": "display_data"
    }
   ],
   "source": [
    "mcmc.visualize_sample(3)"
   ]
  },
  {
   "cell_type": "code",
   "execution_count": 19,
   "metadata": {},
   "outputs": [
    {
     "name": "stdout",
     "output_type": "stream",
     "text": [
      "Generating samples starting from original index 2 (id 614b603d4da88384282967a7-3)\n"
     ]
    },
    {
     "data": {
      "application/vnd.jupyter.widget-view+json": {
       "model_id": "a8e9106a40eb4395b9d8f26082c6424e",
       "version_major": 2,
       "version_minor": 0
      },
      "text/plain": [
       "  0%|          | 0/5 [00:00<?, ?it/s]"
      ]
     },
     "metadata": {},
     "output_type": "display_data"
    },
    {
     "name": "stdout",
     "output_type": "stream",
     "text": [
      "Plateaued at step 101 with energy 1.65550 (initial proposal energy: 1.65550)\n",
      "Plateaued at step 101 with energy 1.65550 (initial proposal energy: 1.65550)\n",
      "Plateaued at step 101 with energy 1.65550 (initial proposal energy: 1.65550)\n",
      "Plateaued at step 101 with energy 1.65550 (initial proposal energy: 1.65550)\n",
      "Plateaued at step 178 with energy 1.63796 (initial proposal energy: 1.65550)\n",
      "Generating samples starting from original index 3 (id 5bc79f652885710001a0e82a-5)\n"
     ]
    },
    {
     "data": {
      "application/vnd.jupyter.widget-view+json": {
       "model_id": "2a11e3a108694aaf89b9ed12de602b41",
       "version_major": 2,
       "version_minor": 0
      },
      "text/plain": [
       "  0%|          | 0/5 [00:00<?, ?it/s]"
      ]
     },
     "metadata": {},
     "output_type": "display_data"
    },
    {
     "name": "stdout",
     "output_type": "stream",
     "text": [
      "Plateaued at step 123 with energy 1.93191 (initial proposal energy: 2.09366)\n",
      "Plateaued at step 146 with energy 1.93191 (initial proposal energy: 2.09366)\n",
      "Plateaued at step 109 with energy 1.76072 (initial proposal energy: 2.09366)\n",
      "Plateaued at step 130 with energy 1.76072 (initial proposal energy: 2.09366)\n",
      "Plateaued at step 106 with energy 1.93191 (initial proposal energy: 2.09366)\n",
      "Generating samples starting from original index 4 (id 614dec67f6eb129c3a77defd-6)\n"
     ]
    },
    {
     "data": {
      "application/vnd.jupyter.widget-view+json": {
       "model_id": "f55183de175a492eabaec3c566b3a17e",
       "version_major": 2,
       "version_minor": 0
      },
      "text/plain": [
       "  0%|          | 0/5 [00:00<?, ?it/s]"
      ]
     },
     "metadata": {},
     "output_type": "display_data"
    },
    {
     "name": "stdout",
     "output_type": "stream",
     "text": [
      "Plateaued at step 127 with energy -7.88752 (initial proposal energy: -7.80552)\n",
      "Plateaued at step 141 with energy -7.82221 (initial proposal energy: -7.80552)\n",
      "Plateaued at step 101 with energy -7.80552 (initial proposal energy: -7.80552)\n",
      "Plateaued at step 163 with energy -7.93101 (initial proposal energy: -7.80552)\n",
      "Plateaued at step 108 with energy -7.82221 (initial proposal energy: -7.80552)\n",
      "Generating samples starting from original index 5 (id 615b40bb6cdb0f1f6f291f45-8)\n"
     ]
    },
    {
     "data": {
      "application/vnd.jupyter.widget-view+json": {
       "model_id": "86b4495322514f8292a6bd112ceb7478",
       "version_major": 2,
       "version_minor": 0
      },
      "text/plain": [
       "  0%|          | 0/5 [00:00<?, ?it/s]"
      ]
     },
     "metadata": {},
     "output_type": "display_data"
    },
    {
     "name": "stdout",
     "output_type": "stream",
     "text": [
      "Plateaued at step 158 with energy -12.69764 (initial proposal energy: -12.62111)\n",
      "Plateaued at step 147 with energy -12.65703 (initial proposal energy: -12.62111)\n",
      "Plateaued at step 199 with energy -12.86351 (initial proposal energy: -12.62111)\n",
      "Plateaued at step 162 with energy -12.69764 (initial proposal energy: -12.62111)\n",
      "Plateaued at step 259 with energy -12.95239 (initial proposal energy: -12.62111)\n",
      "Generating samples starting from original index 6 (id 615452aaabb932ada88ef3ca-9)\n"
     ]
    },
    {
     "data": {
      "application/vnd.jupyter.widget-view+json": {
       "model_id": "acc7b412daae4bf08221a2acb62d969a",
       "version_major": 2,
       "version_minor": 0
      },
      "text/plain": [
       "  0%|          | 0/5 [00:00<?, ?it/s]"
      ]
     },
     "metadata": {},
     "output_type": "display_data"
    },
    {
     "name": "stdout",
     "output_type": "stream",
     "text": [
      "Plateaued at step 223 with energy -7.98485 (initial proposal energy: -7.71727)\n",
      "Plateaued at step 101 with energy -7.71727 (initial proposal energy: -7.71727)\n",
      "Plateaued at step 101 with energy -7.71727 (initial proposal energy: -7.71727)\n",
      "Plateaued at step 108 with energy -7.78715 (initial proposal energy: -7.71727)\n",
      "Plateaued at step 101 with energy -7.71727 (initial proposal energy: -7.71727)\n"
     ]
    }
   ],
   "source": [
    "n_samples = 5\n",
    "start = 2\n",
    "end = start + n_samples\n",
    "\n",
    "\n",
    "for original_index in range(start, end):\n",
    "    print(f'Generating samples starting from original index {original_index} (id {_extract_game_id(real_game_texts[original_index])})')\n",
    "    mcmc.multiple_samples(n_samples, verbose=1, should_tqdm=True, initial_proposal=game_asts[original_index])\n",
    "\n",
    "    # print()\n",
    "    # for i in range(n_samples * (original_index - start), n_samples * (original_index - start + 1)):\n",
    "    #     print(i, mcmc.samples[i][2])"
   ]
  },
  {
   "cell_type": "code",
   "execution_count": 36,
   "metadata": {},
   "outputs": [
    {
     "data": {
      "text/markdown": [
       "### Energy of real game: 2.094 | Energy of regrown game: 1.761 | Difference: -0.333"
      ],
      "text/plain": [
       "<IPython.core.display.Markdown object>"
      ]
     },
     "metadata": {},
     "output_type": "display_data"
    },
    {
     "data": {
      "text/markdown": [
       "### Top features changing the game's energy\n",
       "feature name: **value** = (original feature value => regrown feature value) * weight"
      ],
      "text/plain": [
       "<IPython.core.display.Markdown object>"
      ]
     },
     "metadata": {},
     "output_type": "display_data"
    },
    {
     "data": {
      "text/markdown": [
       "| Features increasing energy (= more fake)                            | Features decreasing energy (= more real)                         |\n",
       "|---------------------------------------------------------------------|------------------------------------------------------------------|\n",
       "| compositionality_structure_1: **0.053** = (1.000 => 0.000) * -0.053 | mean_depth_constraints_0: **-0.193** = (0.000 => 1.000) * -0.193 |\n",
       "| compositionality_structure_0: **0.047** = (1.000 => 0.000) * -0.047 | max_depth_constraints_1: **-0.175** = (0.000 => 1.000) * -0.175  |\n",
       "| no_adjacent_same_modal: **0.044** = (1.000 => 0.000) * -0.044       | mean_depth_constraints_2: **-0.123** = (1.000 => 0.000) * 0.123  |\n",
       "| max_depth_constraints_2: **0.014** = (1.000 => 0.000) * -0.014      |                                                                  |"
      ],
      "text/plain": [
       "<IPython.core.display.Markdown object>"
      ]
     },
     "metadata": {},
     "output_type": "display_data"
    },
    {
     "data": {
      "text/markdown": [
       "### Game Diffs"
      ],
      "text/plain": [
       "<IPython.core.display.Markdown object>"
      ]
     },
     "metadata": {},
     "output_type": "display_data"
    },
    {
     "data": {
      "text/html": [
       "\n",
       "<!DOCTYPE html PUBLIC \"-//W3C//DTD XHTML 1.0 Transitional//EN\"\n",
       "          \"http://www.w3.org/TR/xhtml1/DTD/xhtml1-transitional.dtd\">\n",
       "\n",
       "<html>\n",
       "\n",
       "<head>\n",
       "    <meta http-equiv=\"Content-Type\"\n",
       "          content=\"text/html; charset=utf-8\" />\n",
       "    <title></title>\n",
       "    <style type=\"text/css\">\n",
       "        table.diff {font-family:Courier; border:medium;}\n",
       "        .diff_header {background-color:#e0e0e0}\n",
       "        .diff td {text-align: left !important}\n",
       ".diff th {text-align: center!important }\n",
       ".diff td.diff_header {text-align:right !important}\n",
       "        .diff_next {background-color:#c0c0c0}\n",
       "        .diff_add {background-color: #6fa66f !important; font-weight: bold !important}\n",
       "        .diff_chg {background-color: #999949 !important; font-weight: bold !important}\n",
       "        .diff_sub {background-color: #a66f6f !important; font-weight: bold !important}\n",
       "    </style>\n",
       "</head>\n",
       "\n",
       "<body>\n",
       "    \n",
       "    <table class=\"diff\" id=\"difflib_chg_to10__top\"\n",
       "           cellspacing=\"0\" cellpadding=\"0\" rules=\"groups\" >\n",
       "        <colgroup></colgroup> <colgroup></colgroup> <colgroup></colgroup>\n",
       "        <colgroup></colgroup> <colgroup></colgroup> <colgroup></colgroup>\n",
       "        \n",
       "        <tbody>\n",
       "            <tr><td class=\"diff_next\" id=\"difflib_chg_to10__0\"><a href=\"#difflib_chg_to10__0\">f</a></td><td class=\"diff_header\" id=\"from10_1\">1</td><td nowrap=\"nowrap\">(define&nbsp;(game&nbsp;5bc79f652885710001a0e82a-5)&nbsp;(:domain&nbsp;few-objects-room-v1)</td><td class=\"diff_next\"><a href=\"#difflib_chg_to10__0\">f</a></td><td class=\"diff_header\" id=\"to10_1\">1</td><td nowrap=\"nowrap\">(define&nbsp;(game&nbsp;5bc79f652885710001a0e82a-5)&nbsp;(:domain&nbsp;few-objects-room-v1)</td></tr>\n",
       "            <tr><td class=\"diff_next\"></td><td class=\"diff_header\" id=\"from10_2\">2</td><td nowrap=\"nowrap\">(:constraints</td><td class=\"diff_next\"></td><td class=\"diff_header\" id=\"to10_2\">2</td><td nowrap=\"nowrap\">(:constraints</td></tr>\n",
       "            <tr><td class=\"diff_next\"></td><td class=\"diff_header\" id=\"from10_3\">3</td><td nowrap=\"nowrap\">&nbsp;&nbsp;(and</td><td class=\"diff_next\"></td><td class=\"diff_header\" id=\"to10_3\">3</td><td nowrap=\"nowrap\">&nbsp;&nbsp;(and</td></tr>\n",
       "            <tr><td class=\"diff_next\"><a href=\"#difflib_chg_to10__1\">n</a></td><td class=\"diff_header\" id=\"from10_4\">4</td><td nowrap=\"nowrap\"><span class=\"diff_sub\">&nbsp;&nbsp;&nbsp;&nbsp;(preference&nbsp;throwBallToBin</span></td><td class=\"diff_next\"><a href=\"#difflib_chg_to10__1\">n</a></td><td class=\"diff_header\" id=\"to10_4\">4</td><td nowrap=\"nowrap\"><span class=\"diff_add\">&nbsp;&nbsp;&nbsp;&nbsp;(preference&nbsp;preference0</span></td></tr>\n",
       "            <tr><td class=\"diff_next\"></td><td class=\"diff_header\" id=\"from10_5\">5</td><td nowrap=\"nowrap\"><span class=\"diff_sub\">&nbsp;&nbsp;&nbsp;&nbsp;&nbsp;&nbsp;(exists&nbsp;(?d&nbsp;-&nbsp;dodgeball&nbsp;?h&nbsp;-&nbsp;hexagonal_bin)</span></td><td class=\"diff_next\"></td><td class=\"diff_header\" id=\"to10_5\">5</td><td nowrap=\"nowrap\"><span class=\"diff_add\">&nbsp;&nbsp;&nbsp;&nbsp;&nbsp;&nbsp;(exists&nbsp;(?v0&nbsp;-&nbsp;ball)</span></td></tr>\n",
       "            <tr><td class=\"diff_next\"></td><td class=\"diff_header\" id=\"from10_6\">6</td><td nowrap=\"nowrap\">&nbsp;&nbsp;&nbsp;&nbsp;&nbsp;&nbsp;&nbsp;&nbsp;(t<span class=\"diff_chg\">h</span>en</td><td class=\"diff_next\"></td><td class=\"diff_header\" id=\"to10_6\">6</td><td nowrap=\"nowrap\">&nbsp;&nbsp;&nbsp;&nbsp;&nbsp;&nbsp;&nbsp;&nbsp;(<span class=\"diff_add\">a</span>t<span class=\"diff_chg\">-</span>en<span class=\"diff_add\">d</span></td></tr>\n",
       "            <tr><td class=\"diff_next\"></td><td class=\"diff_header\" id=\"from10_7\">7</td><td nowrap=\"nowrap\"><span class=\"diff_sub\">&nbsp;&nbsp;&nbsp;&nbsp;&nbsp;&nbsp;&nbsp;&nbsp;&nbsp;&nbsp;(once&nbsp;(and&nbsp;(agent_holds&nbsp;?d)&nbsp;(=&nbsp;(distance&nbsp;agent&nbsp;?h)&nbsp;1)&nbsp;)&nbsp;)</span></td><td class=\"diff_next\"></td><td class=\"diff_header\" id=\"to10_7\">7</td><td nowrap=\"nowrap\"><span class=\"diff_add\">&nbsp;&nbsp;&nbsp;&nbsp;&nbsp;&nbsp;&nbsp;&nbsp;&nbsp;&nbsp;(agent_holds&nbsp;?v0)</span></td></tr>\n",
       "            <tr><td class=\"diff_next\"></td><td class=\"diff_header\" id=\"from10_8\">8</td><td nowrap=\"nowrap\"><span class=\"diff_sub\">&nbsp;&nbsp;&nbsp;&nbsp;&nbsp;&nbsp;&nbsp;&nbsp;&nbsp;&nbsp;(hold&nbsp;(and&nbsp;(not&nbsp;(agent_holds&nbsp;?d)&nbsp;)&nbsp;(in_motion&nbsp;?d)&nbsp;)&nbsp;)</span></td><td class=\"diff_next\"></td><td class=\"diff_header\"></td><td nowrap=\"nowrap\"></td></tr>\n",
       "            <tr><td class=\"diff_next\"></td><td class=\"diff_header\" id=\"from10_9\">9</td><td nowrap=\"nowrap\"><span class=\"diff_sub\">&nbsp;&nbsp;&nbsp;&nbsp;&nbsp;&nbsp;&nbsp;&nbsp;&nbsp;&nbsp;(once&nbsp;(and&nbsp;(not&nbsp;(in_motion&nbsp;?d)&nbsp;)&nbsp;(in&nbsp;?h&nbsp;?d)&nbsp;)&nbsp;)</span></td><td class=\"diff_next\"></td><td class=\"diff_header\"></td><td nowrap=\"nowrap\"></td></tr>\n",
       "            <tr><td class=\"diff_next\"></td><td class=\"diff_header\" id=\"from10_10\">10</td><td nowrap=\"nowrap\">&nbsp;&nbsp;&nbsp;&nbsp;&nbsp;&nbsp;&nbsp;&nbsp;)</td><td class=\"diff_next\"></td><td class=\"diff_header\" id=\"to10_8\">8</td><td nowrap=\"nowrap\">&nbsp;&nbsp;&nbsp;&nbsp;&nbsp;&nbsp;&nbsp;&nbsp;)</td></tr>\n",
       "            <tr><td class=\"diff_next\" id=\"difflib_chg_to10__1\"></td><td class=\"diff_header\" id=\"from10_11\">11</td><td nowrap=\"nowrap\">&nbsp;&nbsp;&nbsp;&nbsp;&nbsp;&nbsp;)</td><td class=\"diff_next\"></td><td class=\"diff_header\" id=\"to10_9\">9</td><td nowrap=\"nowrap\">&nbsp;&nbsp;&nbsp;&nbsp;&nbsp;&nbsp;)</td></tr>\n",
       "            <tr><td class=\"diff_next\"></td><td class=\"diff_header\" id=\"from10_12\">12</td><td nowrap=\"nowrap\">&nbsp;&nbsp;&nbsp;&nbsp;)</td><td class=\"diff_next\"></td><td class=\"diff_header\" id=\"to10_10\">10</td><td nowrap=\"nowrap\">&nbsp;&nbsp;&nbsp;&nbsp;)</td></tr>\n",
       "            <tr><td class=\"diff_next\"></td><td class=\"diff_header\" id=\"from10_13\">13</td><td nowrap=\"nowrap\">&nbsp;&nbsp;)</td><td class=\"diff_next\"></td><td class=\"diff_header\" id=\"to10_11\">11</td><td nowrap=\"nowrap\">&nbsp;&nbsp;)</td></tr>\n",
       "            <tr><td class=\"diff_next\"></td><td class=\"diff_header\" id=\"from10_14\">14</td><td nowrap=\"nowrap\">)</td><td class=\"diff_next\"></td><td class=\"diff_header\" id=\"to10_12\">12</td><td nowrap=\"nowrap\">)</td></tr>\n",
       "            <tr><td class=\"diff_next\"></td><td class=\"diff_header\" id=\"from10_15\">15</td><td nowrap=\"nowrap\">(:scoring</td><td class=\"diff_next\"></td><td class=\"diff_header\" id=\"to10_13\">13</td><td nowrap=\"nowrap\">(:scoring</td></tr>\n",
       "            <tr><td class=\"diff_next\"><a href=\"#difflib_chg_to10__top\">t</a></td><td class=\"diff_header\" id=\"from10_16\">16</td><td nowrap=\"nowrap\"><span class=\"diff_sub\">&nbsp;&nbsp;(count&nbsp;throwBallToBin)</span></td><td class=\"diff_next\"><a href=\"#difflib_chg_to10__top\">t</a></td><td class=\"diff_header\" id=\"to10_14\">14</td><td nowrap=\"nowrap\"><span class=\"diff_add\">&nbsp;&nbsp;(count&nbsp;preference0)</span></td></tr>\n",
       "            <tr><td class=\"diff_next\"></td><td class=\"diff_header\" id=\"from10_17\">17</td><td nowrap=\"nowrap\">)</td><td class=\"diff_next\"></td><td class=\"diff_header\" id=\"to10_15\">15</td><td nowrap=\"nowrap\">)</td></tr>\n",
       "            <tr><td class=\"diff_next\"></td><td class=\"diff_header\" id=\"from10_18\">18</td><td nowrap=\"nowrap\">)</td><td class=\"diff_next\"></td><td class=\"diff_header\" id=\"to10_16\">16</td><td nowrap=\"nowrap\">)</td></tr>\n",
       "        </tbody>\n",
       "    </table>\n",
       "    <table class=\"diff\" summary=\"Legends\">\n",
       "        <tr> <th colspan=\"2\"> Legends </th> </tr>\n",
       "        <tr> <td> <table border=\"\" summary=\"Colors\">\n",
       "                      <tr><th> Colors </th> </tr>\n",
       "                      <tr><td class=\"diff_add\">&nbsp;Added&nbsp;</td></tr>\n",
       "                      <tr><td class=\"diff_chg\">Changed</td> </tr>\n",
       "                      <tr><td class=\"diff_sub\">Deleted</td> </tr>\n",
       "                  </table></td>\n",
       "             <td> <table border=\"\" summary=\"Links\">\n",
       "                      <tr><th colspan=\"2\"> Links </th> </tr>\n",
       "                      <tr><td>(f)irst change</td> </tr>\n",
       "                      <tr><td>(n)ext change</td> </tr>\n",
       "                      <tr><td>(t)op</td> </tr>\n",
       "                  </table></td> </tr>\n",
       "    </table>\n",
       "</body>\n",
       "\n",
       "</html>"
      ],
      "text/plain": [
       "<IPython.core.display.HTML object>"
      ]
     },
     "metadata": {},
     "output_type": "display_data"
    },
    {
     "data": {
      "text/markdown": [
       "### Feature Diffs"
      ],
      "text/plain": [
       "<IPython.core.display.Markdown object>"
      ]
     },
     "metadata": {},
     "output_type": "display_data"
    },
    {
     "name": "stdout",
     "output_type": "stream",
     "text": [
      "no_adjacent_same_modal: -1.000 (1.000 => 0.000)\n",
      "compositionality_structure_0: -1.000 (1.000 => 0.000)\n",
      "compositionality_structure_1: -1.000 (1.000 => 0.000)\n",
      "mean_depth_constraints_2: -1.000 (1.000 => 0.000)\n",
      "max_depth_constraints_2: -1.000 (1.000 => 0.000)\n",
      "mean_depth_constraints_0: 1.000 (0.000 => 1.000)\n",
      "max_depth_constraints_1: 1.000 (0.000 => 1.000)\n"
     ]
    }
   ],
   "source": [
    "mcmc.visualize_sample(27)"
   ]
  },
  {
   "cell_type": "code",
   "execution_count": 28,
   "metadata": {},
   "outputs": [
    {
     "data": {
      "text/plain": [
       "['ast_ngram_full_n_7_score',\n",
       " 'ast_ngram_setup_n_5_score',\n",
       " 'ast_ngram_constraints_n_7_score',\n",
       " 'ast_ngram_terminal_n_5_score',\n",
       " 'ast_ngram_scoring_n_5_score']"
      ]
     },
     "execution_count": 28,
     "metadata": {},
     "output_type": "execute_result"
    }
   ],
   "source": [
    "mcmc.feature_names[-5:]"
   ]
  },
  {
   "cell_type": "code",
   "execution_count": 25,
   "metadata": {},
   "outputs": [],
   "source": [
    "from argparse import Namespace\n",
    "from src.fitness_features import *\n",
    "args = Namespace(no_binarize=False, no_merge=False)\n",
    "featurizer = build_fitness_featurizer(args)"
   ]
  },
  {
   "cell_type": "code",
   "execution_count": 26,
   "metadata": {},
   "outputs": [],
   "source": [
    "a = grammar_parser.parse(s)"
   ]
  },
  {
   "cell_type": "code",
   "execution_count": 28,
   "metadata": {},
   "outputs": [
    {
     "data": {
      "text/plain": [
       "50"
      ]
     },
     "execution_count": 28,
     "metadata": {},
     "output_type": "execute_result"
    }
   ],
   "source": [
    "ps = {k:v for k, v in featurizer.parse(a, 'mcmc', True).items() if 'predicate_under_modal' in k}\n",
    "len(ps)"
   ]
  },
  {
   "cell_type": "code",
   "execution_count": 32,
   "metadata": {},
   "outputs": [
    {
     "data": {
      "text/plain": [
       "{'predicate_under_modal_hold_in_motion': 1,\n",
       " 'predicate_under_modal_hold_agent_holds': 1,\n",
       " 'predicate_under_modal_once_agent_holds': 1}"
      ]
     },
     "execution_count": 32,
     "metadata": {},
     "output_type": "execute_result"
    }
   ],
   "source": [
    "{k:v for k, v in ps.items() if v > 0}"
   ]
  },
  {
   "cell_type": "code",
   "execution_count": 51,
   "metadata": {},
   "outputs": [
    {
     "data": {
      "text/plain": [
       "{'variables': [{'var_names': ['?v1'], 'var_type': {'type': {'type_names': ['dodgeball', 'chair', 'curved_wooden_ramp', 'wall', 'book', 'alarm_clock', 'dodgeball'], 'parseinfo': {'tokenizer': None, 'rule': 'either_types', 'pos': 3357, 'endpos': 3357, 'line': 3357, 'endline': 3357, 'alerts': []}}, 'parseinfo': {'tokenizer': None, 'rule': 'type_definition', 'pos': 3358, 'endpos': 3358, 'line': 3358, 'endline': 3358, 'alerts': []}}, 'parseinfo': {'tokenizer': None, 'rule': 'variable_type_def', 'pos': 3359, 'endpos': 3359, 'line': 3359, 'endline': 3359, 'alerts': []}}, {'var_names': ['?v1'], 'var_type': {'type': 'hexagonal_bin', 'parseinfo': {'tokenizer': None, 'rule': 'type_definition', 'pos': 7, 'endpos': 7, 'line': 7, 'endline': 7, 'alerts': []}}, 'parseinfo': {'tokenizer': None, 'rule': 'variable_type_def', 'pos': 8, 'endpos': 8, 'line': 8, 'endline': 8, 'alerts': []}}], 'parseinfo': {'tokenizer': None, 'rule': 'variable_list', 'pos': 9, 'endpos': 9, 'line': 9, 'endline': 9, 'alerts': []}}"
      ]
     },
     "execution_count": 51,
     "metadata": {},
     "output_type": "execute_result"
    }
   ],
   "source": [
    "mcmc.samples[5][0][3][1].setup.exists_args.setup.and_args[0].setup.exists_vars"
   ]
  },
  {
   "cell_type": "code",
   "execution_count": null,
   "metadata": {},
   "outputs": [],
   "source": []
  },
  {
   "cell_type": "code",
   "execution_count": null,
   "metadata": {},
   "outputs": [],
   "source": [
    "mcmc._proposal_to_features(mcmc.samples[0][0])['ast_ngram_n_7_score']"
   ]
  },
  {
   "cell_type": "code",
   "execution_count": null,
   "metadata": {},
   "outputs": [],
   "source": [
    "mcmc.fitness_featurizer.full_ast_registry[0].n_gram_model.score(mcmc.samples[0][0], log=True)"
   ]
  },
  {
   "cell_type": "code",
   "execution_count": null,
   "metadata": {},
   "outputs": [],
   "source": [
    "mcmc.fitness_featurizer.preprocessors[0].scale_series_min_max_values"
   ]
  },
  {
   "cell_type": "code",
   "execution_count": null,
   "metadata": {},
   "outputs": [],
   "source": [
    "# %prun -r \n",
    "n_samples = 5\n",
    "start = 0\n",
    "end = start + n_samples\n",
    "\n",
    "for original_index in range(start, end):\n",
    "    print(f'Generating samples starting from original index {original_index} (id {_extract_game_id(real_game_texts[original_index])})')\n",
    "    mcmc.multiple_samples(n_samples, verbose=1, should_tqdm=True, initial_proposal=game_asts[original_index])\n",
    "\n",
    "    print()\n",
    "    for i in range(n_samples * (original_index - start), n_samples * (original_index - start + 1)):\n",
    "        print(i, mcmc.samples[i][2])"
   ]
  },
  {
   "cell_type": "code",
   "execution_count": null,
   "metadata": {},
   "outputs": [],
   "source": [
    "mcmc.visualize_sample(14)"
   ]
  },
  {
   "cell_type": "code",
   "execution_count": null,
   "metadata": {},
   "outputs": [],
   "source": [
    "mcmc.fitness_featurizer.full_text_registry[0].n_gram_model.models[-1].score(ast_printer.ast_to_string(mcmc.samples[14][0], ' '))"
   ]
  },
  {
   "cell_type": "code",
   "execution_count": null,
   "metadata": {},
   "outputs": [],
   "source": [
    "mcmc.fitness_featurizer.full_text_registry[0].n_gram_model.models[-1].score(ast_printer.ast_to_string(mcmc.samples[14][3], ' '))"
   ]
  },
  {
   "cell_type": "code",
   "execution_count": null,
   "metadata": {},
   "outputs": [],
   "source": [
    "ngram_model = mcmc.fitness_featurizer.full_text_registry[0].n_gram_model.models[-1]\n",
    "\n",
    "sample_ngrams = [('constraints', 'and', 'forall', 'wall', 'and'), ('and', 'forall', 'wall', 'and', 'preference'), ('forall', 'wall', 'and', 'preference', 'preferenceName'), ('wall', 'and', 'preference', 'preferenceName', 'exists'), ('and', 'preference', 'preferenceName', 'exists', 'block'), ('preference', 'preferenceName', 'exists', 'block', 'atend'), ('preferenceName', 'exists', 'block', 'atend', 'in'), ('exists', 'block', 'atend', 'in', 'scoring'), ('block', 'atend', 'in', 'scoring', 'externalforallmaximize'), ('atend', 'in', 'scoring', 'externalforallmaximize', 'countonceperobjects'), ('in', 'scoring', 'externalforallmaximize', 'countonceperobjects', 'preferenceName')]\n",
    "original_ngrams = [('constraints', 'and', 'forall', 'building', 'and'), ('and', 'forall', 'building', 'and', 'preference'), ('forall', 'building', 'and', 'preference', 'preferenceName'), ('building', 'and', 'preference', 'preferenceName', 'exists'), ('and', 'preference', 'preferenceName', 'exists', 'block'), ('preference', 'preferenceName', 'exists', 'block', 'atend'), ('preferenceName', 'exists', 'block', 'atend', 'in'), ('exists', 'block', 'atend', 'in', 'scoring'), ('block', 'atend', 'in', 'scoring', 'externalforallmaximize'), ('atend', 'in', 'scoring', 'externalforallmaximize', 'countonceperobjects'), ('in', 'scoring', 'externalforallmaximize', 'countonceperobjects', 'preferenceName')]\n",
    "\n",
    "print(f'Sample ngrams: {np.mean([ngram_model.ngram_logprobs[s] for s in sample_ngrams])} | ')\n",
    "for s in sample_ngrams:\n",
    "    print(s, ngram_model.ngram_counts[s], ngram_model.ngram_logprobs[s])\n",
    "\n",
    "print()\n",
    "print(f'Original ngrams: {np.mean([ngram_model.ngram_logprobs[s] for s in original_ngrams])}')\n",
    "for s in original_ngrams:\n",
    "    print(s, ngram_model.ngram_counts[s], ngram_model.ngram_logprobs[s])\n",
    "print()\n",
    "\n",
    "for s in sample_ngrams[:]:\n",
    "    if s in original_ngrams:\n",
    "        sample_ngrams.remove(s)\n",
    "        original_ngrams.remove(s)\n",
    "\n",
    "print('Sample remaining ngrams')\n",
    "for s in sample_ngrams:\n",
    "    print(s, ngram_model.ngram_counts[s], ngram_model.ngram_logprobs[s])\n",
    "\n",
    "print()\n",
    "print('Original remaining ngrams')\n",
    "for s in original_ngrams:\n",
    "    print(s, ngram_model.ngram_counts[s], ngram_model.ngram_logprobs[s])"
   ]
  },
  {
   "cell_type": "code",
   "execution_count": null,
   "metadata": {},
   "outputs": [],
   "source": [
    "original_ngrams = [('constraints', 'and', 'forall', 'building', 'and'), ('and', 'forall', 'building', 'and', 'preference'), ('forall', 'building', 'and', 'preference', 'preferenceName'), ('building', 'and', 'preference', 'preferenceName', 'exists'), ('and', 'preference', 'preferenceName', 'exists', 'block'), ('preference', 'preferenceName', 'exists', 'block', 'atend'), ('preferenceName', 'exists', 'block', 'atend', 'in'), ('exists', 'block', 'atend', 'in', 'scoring'), ('block', 'atend', 'in', 'scoring', 'externalforallmaximize'), ('atend', 'in', 'scoring', 'externalforallmaximize', 'countonceperobjects'), ('in', 'scoring', 'externalforallmaximize', 'countonceperobjects', 'preferenceName')]\n",
    "print('Original ngrams')\n",
    "for s in original_ngrams:\n",
    "    print(s, mcmc.fitness_featurizer.full_text_registry[0].n_gram_model.models[-1].ngram_counts[s], mcmc.fitness_featurizer.full_text_registry[0].n_gram_model.models[-1].ngram_logprobs[s])"
   ]
  },
  {
   "cell_type": "code",
   "execution_count": null,
   "metadata": {},
   "outputs": [],
   "source": [
    "mcmc.visualize_sample(7)"
   ]
  },
  {
   "cell_type": "code",
   "execution_count": null,
   "metadata": {},
   "outputs": [],
   "source": [
    "mcmc.visualize_sample(15)"
   ]
  },
  {
   "cell_type": "code",
   "execution_count": null,
   "metadata": {},
   "outputs": [],
   "source": []
  },
  {
   "attachments": {},
   "cell_type": "markdown",
   "metadata": {},
   "source": [
    "### Notes from looking at these games\n",
    "* **TODO:** debug the 'section-without' logic, it seems to not work\n",
    "* **TODO:** add features for preferences with different lengths of modals"
   ]
  },
  {
   "cell_type": "code",
   "execution_count": null,
   "metadata": {},
   "outputs": [],
   "source": []
  },
  {
   "cell_type": "code",
   "execution_count": null,
   "metadata": {},
   "outputs": [],
   "source": [
    "print(ast_printer.ast_to_string(samples[8][0], '\\n'))"
   ]
  },
  {
   "cell_type": "code",
   "execution_count": null,
   "metadata": {},
   "outputs": [],
   "source": [
    "fitness_featurizer = build_fitness_featurizer(DEFAULT_ARGS)\n",
    "features = fitness_featurizer.parse(samples[7][0], 'mcmc', True)\n",
    "{k: v for k, v in features.items() if 'correctly' in k or 'forall' in k or 'no' in k}"
   ]
  },
  {
   "cell_type": "code",
   "execution_count": null,
   "metadata": {},
   "outputs": [],
   "source": [
    "with gzip.open(DEFAULT_FITNESS_FUNCTION_PATH, 'rb') as f:\n",
    "    cv_fitness_model = pickle.load(f)"
   ]
  },
  {
   "cell_type": "code",
   "execution_count": null,
   "metadata": {},
   "outputs": [],
   "source": [
    "weights = cv_fitness_model.named_steps['fitness'].model.fc1.weight.data.detach().numpy().squeeze()\n",
    "bias = cv_fitness_model.named_steps['fitness'].model.fc1.bias.data.detach().numpy().squeeze()\n",
    "print(weights.mean(), bias)"
   ]
  },
  {
   "cell_type": "code",
   "execution_count": null,
   "metadata": {},
   "outputs": [],
   "source": [
    "plt.hist(weights, bins=100)\n",
    "plt.title('Fitness Model Weights')\n",
    "plt.xlabel('Weight magnitude')\n",
    "plt.ylabel('Count')"
   ]
  },
  {
   "cell_type": "code",
   "execution_count": null,
   "metadata": {},
   "outputs": [],
   "source": [
    "import ast_crossover_sampler\n",
    "asts = [ast for ast in cached_load_and_parse_games_from_file('../dsl/interactive-beta.pddl', \n",
    "    mcmc.grammar_parser, False, relative_path='..')]\n",
    "\n",
    "mcmc_with_crossover = MCMCRegrowthCrossoverSampler(DEFAULT_ARGS, \n",
    "    ast_crossover_sampler.CrossoverType.SAME_RULE, asts, 0.25,\n",
    "    '../models/cv_fitness_model_2022_12_26.pkl.gz', \n",
    "    greedy_acceptance=True, plateau_patience_steps=20, acceptance_temperature=10.0, max_steps=1000)"
   ]
  },
  {
   "cell_type": "code",
   "execution_count": null,
   "metadata": {},
   "outputs": [],
   "source": [
    "mcmc_with_crossover.multiple_samples(10, verbose=2, should_tqdm=True)\n",
    "print([x[2] for x in mcmc_with_crossover.samples])"
   ]
  },
  {
   "cell_type": "code",
   "execution_count": null,
   "metadata": {},
   "outputs": [],
   "source": [
    "print([x[2] for x in mcmc_with_crossover.samples])"
   ]
  },
  {
   "cell_type": "code",
   "execution_count": null,
   "metadata": {},
   "outputs": [],
   "source": []
  }
 ],
 "metadata": {
  "kernelspec": {
   "display_name": "game-gen",
   "language": "python",
   "name": "python3"
  },
  "language_info": {
   "codemirror_mode": {
    "name": "ipython",
    "version": 3
   },
   "file_extension": ".py",
   "mimetype": "text/x-python",
   "name": "python",
   "nbconvert_exporter": "python",
   "pygments_lexer": "ipython3",
   "version": "3.10.8"
  },
  "orig_nbformat": 4,
  "vscode": {
   "interpreter": {
    "hash": "a8b8c8d5c21b7aee7bd0053f69e9c255c013bbea7031fbef7e66d58dd46c0fa6"
   }
  }
 },
 "nbformat": 4,
 "nbformat_minor": 2
}
