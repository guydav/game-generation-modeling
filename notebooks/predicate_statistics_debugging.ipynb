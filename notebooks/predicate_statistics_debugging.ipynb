{
 "cells": [
  {
   "cell_type": "code",
   "execution_count": 1,
   "metadata": {},
   "outputs": [],
   "source": [
    "%autoreload 2"
   ]
  },
  {
   "cell_type": "code",
   "execution_count": 2,
   "metadata": {},
   "outputs": [
    {
     "name": "stderr",
     "output_type": "stream",
     "text": [
      "2023-08-07 14:45:42 - ast_utils - DEBUG    - Using cache folder: /tmp/game_generation_cache\n"
     ]
    }
   ],
   "source": [
    "from argparse import Namespace\n",
    "from collections import defaultdict\n",
    "import copy\n",
    "from datetime import datetime\n",
    "import difflib\n",
    "import duckdb\n",
    "import gzip\n",
    "import itertools\n",
    "import os\n",
    "import pickle\n",
    "import sys\n",
    "import typing\n",
    "\n",
    "from IPython.display import display, Markdown, HTML  # type: ignore\n",
    "import matplotlib\n",
    "import matplotlib.pyplot as plt\n",
    "import numpy as np\n",
    "import pandas as pd\n",
    "import polars as pl\n",
    "import tatsu\n",
    "import tqdm.notebook as tqdmn\n",
    "\n",
    "\n",
    "sys.path.append(os.path.abspath('..'))\n",
    "sys.path.append(os.path.abspath('../reward-machine'))\n",
    "\n",
    "import compile_predicate_statistics\n",
    "import compile_predicate_statistics_split_args\n",
    "from config import SPECIFIC_NAMED_OBJECTS_BY_ROOM"
   ]
  },
  {
   "cell_type": "code",
   "execution_count": 3,
   "metadata": {},
   "outputs": [
    {
     "name": "stderr",
     "output_type": "stream",
     "text": [
      "2023-08-07 14:45:47 - compile_predicate_statistics_split_args - INFO     - Loaded data with shape (416740, 8) from /Users/guydavidson/projects/game-generation-modeling/reward-machine/caches/predicate_statistics_4d5dd602.pkl.gz\n"
     ]
    },
    {
     "name": "stdout",
     "output_type": "stream",
     "text": [
      "After filtering out same_type, data has shape (141198, 8)\n"
     ]
    }
   ],
   "source": [
    "cache_dir = compile_predicate_statistics.get_project_dir() + '/reward-machine/caches'\n",
    "\n",
    "# regular_df = pd.read_pickle(os.path.join(cache_dir, 'predicate_statistics.pkl'))\n",
    "split_args_df = pd.read_pickle(os.path.join(cache_dir, 'predicate_statistics_028b3733.pkl.gz'))\n",
    "# split_args_df = pd.read_pickle(os.path.join(cache_dir, 'predicate_statistics_4d5dd602.pkl.gz'))\n",
    "\n",
    "# stats = compile_predicate_statistics.CommonSensePredicateStatistics(cache_dir)\n",
    "split_args_stats = compile_predicate_statistics_split_args.CommonSensePredicateStatisticsSplitArgs(\n",
    "    cache_dir, compile_predicate_statistics_split_args.CURRENT_TEST_TRACE_NAMES, overwrite=False)"
   ]
  },
  {
   "cell_type": "code",
   "execution_count": 9,
   "metadata": {},
   "outputs": [
    {
     "data": {
      "text/html": [
       "<div><style>\n",
       ".dataframe > thead > tr > th,\n",
       ".dataframe > tbody > tr > td {\n",
       "  text-align: right;\n",
       "}\n",
       "</style>\n",
       "<small>shape: (10, 3)</small><table border=\"1\" class=\"dataframe\"><thead><tr><th>nums</th><th>bits_1</th><th>bits_2</th></tr><tr><td>i64</td><td>list[u8]</td><td>list[u8]</td></tr></thead><tbody><tr><td>0</td><td>[0, 1]</td><td>[1, 0]</td></tr><tr><td>1</td><td>[0, 1]</td><td>[1, 0]</td></tr><tr><td>2</td><td>[0, 1]</td><td>[1, 0]</td></tr><tr><td>3</td><td>[0, 1]</td><td>[1, 0]</td></tr><tr><td>4</td><td>[0, 1]</td><td>[1, 0]</td></tr><tr><td>5</td><td>[0, 1]</td><td>[1, 0]</td></tr><tr><td>6</td><td>[0, 1]</td><td>[1, 0]</td></tr><tr><td>7</td><td>[0, 1]</td><td>[1, 0]</td></tr><tr><td>8</td><td>[0, 1]</td><td>[1, 0]</td></tr><tr><td>9</td><td>[0, 1]</td><td>[1, 0]</td></tr></tbody></table></div>"
      ],
      "text/plain": [
       "shape: (10, 3)\n",
       "┌──────┬──────────┬──────────┐\n",
       "│ nums ┆ bits_1   ┆ bits_2   │\n",
       "│ ---  ┆ ---      ┆ ---      │\n",
       "│ i64  ┆ list[u8] ┆ list[u8] │\n",
       "╞══════╪══════════╪══════════╡\n",
       "│ 0    ┆ [0, 1]   ┆ [1, 0]   │\n",
       "│ 1    ┆ [0, 1]   ┆ [1, 0]   │\n",
       "│ 2    ┆ [0, 1]   ┆ [1, 0]   │\n",
       "│ 3    ┆ [0, 1]   ┆ [1, 0]   │\n",
       "│ …    ┆ …        ┆ …        │\n",
       "│ 6    ┆ [0, 1]   ┆ [1, 0]   │\n",
       "│ 7    ┆ [0, 1]   ┆ [1, 0]   │\n",
       "│ 8    ┆ [0, 1]   ┆ [1, 0]   │\n",
       "│ 9    ┆ [0, 1]   ┆ [1, 0]   │\n",
       "└──────┴──────────┴──────────┘"
      ]
     },
     "execution_count": 9,
     "metadata": {},
     "output_type": "execute_result"
    }
   ],
   "source": [
    "numbers = list(range(10))\n",
    "\n",
    "bits_df = pl.DataFrame(dict(nums=numbers, bits_1=[[0, 1] for n in numbers], bits_2=[[1, 0] for n in numbers]), \n",
    "                       schema_overrides=dict(bits_1=pl.List(pl.UInt8), bits_2=pl.List(pl.UInt8)))\n",
    "\n",
    "bits_df"
   ]
  },
  {
   "cell_type": "code",
   "execution_count": 11,
   "metadata": {},
   "outputs": [
    {
     "name": "stderr",
     "output_type": "stream",
     "text": [
      "thread '<unnamed>' panicked at '`add` operation not supported for dtype `list[u8]`', /Users/runner/work/polars/polars/polars/polars-core/src/series/series_trait.rs:163:13\n"
     ]
    },
    {
     "ename": "PanicException",
     "evalue": "`add` operation not supported for dtype `list[u8]`",
     "output_type": "error",
     "traceback": [
      "\u001b[0;31m---------------------------------------------------------------------------\u001b[0m",
      "\u001b[0;31mPanicException\u001b[0m                            Traceback (most recent call last)",
      "Cell \u001b[0;32mIn[11], line 1\u001b[0m\n\u001b[0;32m----> 1\u001b[0m bits_df\u001b[39m.\u001b[39;49mselect(pl\u001b[39m.\u001b[39;49mcol(\u001b[39m'\u001b[39;49m\u001b[39mbits_1\u001b[39;49m\u001b[39m'\u001b[39;49m) \u001b[39m+\u001b[39;49m pl\u001b[39m.\u001b[39;49mcol(\u001b[39m'\u001b[39;49m\u001b[39mbits_2\u001b[39;49m\u001b[39m'\u001b[39;49m))\n",
      "File \u001b[0;32m~/opt/anaconda3/envs/game-gen/lib/python3.10/site-packages/polars/dataframe/frame.py:7276\u001b[0m, in \u001b[0;36mDataFrame.select\u001b[0;34m(self, *exprs, **named_exprs)\u001b[0m\n\u001b[1;32m   7174\u001b[0m \u001b[39mdef\u001b[39;00m \u001b[39mselect\u001b[39m(\n\u001b[1;32m   7175\u001b[0m     \u001b[39mself\u001b[39m, \u001b[39m*\u001b[39mexprs: IntoExpr \u001b[39m|\u001b[39m Iterable[IntoExpr], \u001b[39m*\u001b[39m\u001b[39m*\u001b[39mnamed_exprs: IntoExpr\n\u001b[1;32m   7176\u001b[0m ) \u001b[39m-\u001b[39m\u001b[39m>\u001b[39m DataFrame:\n\u001b[1;32m   7177\u001b[0m     \u001b[39m\"\"\"\u001b[39;00m\n\u001b[1;32m   7178\u001b[0m \u001b[39m    Select columns from this DataFrame.\u001b[39;00m\n\u001b[1;32m   7179\u001b[0m \n\u001b[0;32m   (...)\u001b[0m\n\u001b[1;32m   7274\u001b[0m \n\u001b[1;32m   7275\u001b[0m \u001b[39m    \"\"\"\u001b[39;00m\n\u001b[0;32m-> 7276\u001b[0m     \u001b[39mreturn\u001b[39;00m \u001b[39mself\u001b[39;49m\u001b[39m.\u001b[39;49mlazy()\u001b[39m.\u001b[39;49mselect(\u001b[39m*\u001b[39;49mexprs, \u001b[39m*\u001b[39;49m\u001b[39m*\u001b[39;49mnamed_exprs)\u001b[39m.\u001b[39;49mcollect(no_optimization\u001b[39m=\u001b[39;49m\u001b[39mTrue\u001b[39;49;00m)\n",
      "File \u001b[0;32m~/opt/anaconda3/envs/game-gen/lib/python3.10/site-packages/polars/utils/decorators.py:37\u001b[0m, in \u001b[0;36mdeprecated_alias.<locals>.deco.<locals>.wrapper\u001b[0;34m(*args, **kwargs)\u001b[0m\n\u001b[1;32m     34\u001b[0m \u001b[39m@wraps\u001b[39m(function)\n\u001b[1;32m     35\u001b[0m \u001b[39mdef\u001b[39;00m \u001b[39mwrapper\u001b[39m(\u001b[39m*\u001b[39margs: P\u001b[39m.\u001b[39margs, \u001b[39m*\u001b[39m\u001b[39m*\u001b[39mkwargs: P\u001b[39m.\u001b[39mkwargs) \u001b[39m-\u001b[39m\u001b[39m>\u001b[39m T:\n\u001b[1;32m     36\u001b[0m     _rename_kwargs(function\u001b[39m.\u001b[39m\u001b[39m__name__\u001b[39m, kwargs, aliases)\n\u001b[0;32m---> 37\u001b[0m     \u001b[39mreturn\u001b[39;00m function(\u001b[39m*\u001b[39;49margs, \u001b[39m*\u001b[39;49m\u001b[39m*\u001b[39;49mkwargs)\n",
      "File \u001b[0;32m~/opt/anaconda3/envs/game-gen/lib/python3.10/site-packages/polars/lazyframe/frame.py:1552\u001b[0m, in \u001b[0;36mLazyFrame.collect\u001b[0;34m(self, type_coercion, predicate_pushdown, projection_pushdown, simplify_expression, no_optimization, slice_pushdown, comm_subplan_elim, comm_subexpr_elim, streaming)\u001b[0m\n\u001b[1;32m   1540\u001b[0m     comm_subplan_elim \u001b[39m=\u001b[39m \u001b[39mFalse\u001b[39;00m\n\u001b[1;32m   1542\u001b[0m ldf \u001b[39m=\u001b[39m \u001b[39mself\u001b[39m\u001b[39m.\u001b[39m_ldf\u001b[39m.\u001b[39moptimization_toggle(\n\u001b[1;32m   1543\u001b[0m     type_coercion,\n\u001b[1;32m   1544\u001b[0m     predicate_pushdown,\n\u001b[0;32m   (...)\u001b[0m\n\u001b[1;32m   1550\u001b[0m     streaming,\n\u001b[1;32m   1551\u001b[0m )\n\u001b[0;32m-> 1552\u001b[0m \u001b[39mreturn\u001b[39;00m wrap_df(ldf\u001b[39m.\u001b[39;49mcollect())\n",
      "\u001b[0;31mPanicException\u001b[0m: `add` operation not supported for dtype `list[u8]`"
     ]
    }
   ],
   "source": [
    "bits_df.select(pl.col('bits_1') + pl.col('bits_2'))"
   ]
  },
  {
   "cell_type": "code",
   "execution_count": null,
   "metadata": {},
   "outputs": [],
   "source": []
  },
  {
   "cell_type": "code",
   "execution_count": null,
   "metadata": {},
   "outputs": [],
   "source": [
    "bits_df.select(pl.col('bits_1') & pl.col('bits_2'))"
   ]
  },
  {
   "cell_type": "code",
   "execution_count": null,
   "metadata": {},
   "outputs": [],
   "source": []
  },
  {
   "cell_type": "code",
   "execution_count": null,
   "metadata": {},
   "outputs": [],
   "source": [
    "all_specific_names = set()\n",
    "for room, type_to_ids in SPECIFIC_NAMED_OBJECTS_BY_ROOM.items():\n",
    "    all_specific_names.update(type_to_ids.keys())\n",
    "\n",
    "specific_name_rows = split_args_df[(split_args_df.arg_1_type.isin(all_specific_names) | split_args_df.arg_2_type.isin(all_specific_names))].shape[0]\n",
    "total_rows = split_args_df.shape[0]\n",
    "print(f'{specific_name_rows} / {total_rows} ({specific_name_rows / total_rows * 100:.2f}%) rows have a specific name')"
   ]
  },
  {
   "cell_type": "code",
   "execution_count": null,
   "metadata": {},
   "outputs": [],
   "source": [
    "same_type_rows = split_args_df[(split_args_df.predicate == 'same_type')].shape[0]\n",
    "print(f'{same_type_rows} / {total_rows} ({same_type_rows / total_rows * 100:.2f}%) rows are for same_type')"
   ]
  },
  {
   "cell_type": "code",
   "execution_count": null,
   "metadata": {},
   "outputs": [],
   "source": [
    "for i, row in split_args_df.iterrows():\n",
    "    print(i, row.to_dict())\n",
    "    break"
   ]
  },
  {
   "cell_type": "code",
   "execution_count": null,
   "metadata": {},
   "outputs": [],
   "source": [
    "split_args_df[(split_args_df.predicate == 'adjacent') & (split_args_df.arg_1_type == 'agent') & (split_args_df.arg_2_type == 'green_golfball')]"
   ]
  },
  {
   "cell_type": "code",
   "execution_count": null,
   "metadata": {},
   "outputs": [],
   "source": [
    "split_args_df[(split_args_df.predicate == 'same_type')]"
   ]
  },
  {
   "cell_type": "code",
   "execution_count": null,
   "metadata": {},
   "outputs": [],
   "source": []
  },
  {
   "cell_type": "code",
   "execution_count": null,
   "metadata": {},
   "outputs": [],
   "source": [
    "split_args_df[(split_args_df.predicate == 'in') & (split_args_df.arg_1_type == 'building')].arg_2_type.value_counts()"
   ]
  },
  {
   "cell_type": "code",
   "execution_count": null,
   "metadata": {},
   "outputs": [],
   "source": []
  },
  {
   "cell_type": "code",
   "execution_count": null,
   "metadata": {},
   "outputs": [],
   "source": []
  },
  {
   "cell_type": "code",
   "execution_count": null,
   "metadata": {},
   "outputs": [],
   "source": []
  },
  {
   "cell_type": "code",
   "execution_count": null,
   "metadata": {},
   "outputs": [],
   "source": []
  },
  {
   "cell_type": "code",
   "execution_count": null,
   "metadata": {},
   "outputs": [],
   "source": [
    "door_df = split_args_df[(split_args_df.arg_1_type == 'door') | (split_args_df.arg_1_type == 'door')]\n",
    "print(door_df.predicate.value_counts())\n",
    "print()\n",
    "for predicate in door_df.predicate.unique():\n",
    "    pred_df = door_df[door_df.predicate == predicate]\n",
    "    print(f'For predicate {predicate}:')\n",
    "    print(pred_df.arg_2_type.value_counts().iloc[:10])\n",
    "    print()"
   ]
  },
  {
   "cell_type": "code",
   "execution_count": null,
   "metadata": {},
   "outputs": [],
   "source": [
    "for tid in door_df[door_df.predicate == 'in_motion'].trace_id:\n",
    "    print(tid)"
   ]
  },
  {
   "cell_type": "code",
   "execution_count": null,
   "metadata": {},
   "outputs": [],
   "source": [
    "split_args_df[split_args_df.predicate == 'in_motion'].arg_1_type.value_counts()"
   ]
  },
  {
   "cell_type": "code",
   "execution_count": null,
   "metadata": {},
   "outputs": [],
   "source": [
    "stats._invert_intervals(regular_df[(regular_df.trace_id == trace_id) & (regular_df.predicate == 'in_motion') & (regular_df.arg_ids == (ball_id,))].intervals.values[0],\n",
    "                        stats.trace_lengths[trace_id])"
   ]
  },
  {
   "cell_type": "code",
   "execution_count": null,
   "metadata": {},
   "outputs": [],
   "source": [
    "split_args_df[(split_args_df.trace_id == trace_id) & (split_args_df.predicate == 'in') & (split_args_df.arg_1_id == bin_id) & (split_args_df.arg_2_id == ball_id)]"
   ]
  },
  {
   "cell_type": "code",
   "execution_count": null,
   "metadata": {},
   "outputs": [],
   "source": [
    "ball_not_in_motion_int = split_args_stats._invert_intervals(\n",
    "    split_args_df[(split_args_df.trace_id == trace_id) & (split_args_df.predicate == 'in_motion') & (split_args_df.arg_1_id == ball_id)].intervals.values[0],\n",
    "    split_args_stats.trace_lengths_and_domains[trace_id][0],\n",
    ")\n",
    "\n",
    "ball_not_in_motion_int"
   ]
  },
  {
   "cell_type": "code",
   "execution_count": null,
   "metadata": {},
   "outputs": [],
   "source": [
    "ball_in_bin_int = split_args_df[(split_args_df.trace_id == trace_id) & (split_args_df.predicate == 'in') & (split_args_df.arg_1_id == bin_id) & (split_args_df.arg_2_id == ball_id)].intervals.values[0]\n",
    "\n",
    "split_args_stats._intersect_intervals(ball_in_bin_int, ball_not_in_motion_int)"
   ]
  },
  {
   "cell_type": "code",
   "execution_count": null,
   "metadata": {},
   "outputs": [],
   "source": [
    "single_trace_split_args_df = split_args_df[split_args_df['trace_id'] == trace_id]\n",
    "\n",
    "single_trace_split_args_stats = compile_predicate_statistics_split_args.CommonSensePredicateStatisticsSplitArgs(cache_dir)\n",
    "single_trace_split_args_stats.data = pl.from_pandas(single_trace_split_args_df)\n",
    "single_trace_split_args_stats.data.shape"
   ]
  },
  {
   "cell_type": "code",
   "execution_count": null,
   "metadata": {},
   "outputs": [],
   "source": [
    "DEFAULT_GRAMMAR_PATH = \"../dsl/dsl.ebnf\"\n",
    "grammar = open(DEFAULT_GRAMMAR_PATH).read()\n",
    "grammar_parser = typing.cast(tatsu.grammars.Grammar, tatsu.compile(grammar))\n",
    "\n",
    "game = open(compile_predicate_statistics.get_project_dir() + '/reward-machine/games/ball_to_bin_from_bed.txt').read()\n",
    "game_ast = grammar_parser.parse(game) \n",
    "\n",
    "test_pred_1 = game_ast[4][1]['preferences'][0]['definition']['forall_pref']['preferences']['pref_body']['body']['exists_args']['then_funcs'][1]['seq_func']['hold_pred']\n",
    "\n",
    "# should be: (and (not (in_motion ?b)) (in ?h ?b)))\n",
    "test_pred_2 = game_ast[4][1]['preferences'][0]['definition']['forall_pref']['preferences']['pref_body']['body']['exists_args']['then_funcs'][2]['seq_func']['once_pred']"
   ]
  },
  {
   "cell_type": "code",
   "execution_count": null,
   "metadata": {},
   "outputs": [],
   "source": [
    "test_mapping = {\"?b\": [\"ball\"], \"?h\": [\"hexagonal_bin\"]}\n",
    "test_out = single_trace_split_args_stats.filter(test_pred_2, test_mapping)\n",
    "test_out"
   ]
  }
 ],
 "metadata": {
  "kernelspec": {
   "display_name": "game-gen",
   "language": "python",
   "name": "python3"
  },
  "language_info": {
   "codemirror_mode": {
    "name": "ipython",
    "version": 3
   },
   "file_extension": ".py",
   "mimetype": "text/x-python",
   "name": "python",
   "nbconvert_exporter": "python",
   "pygments_lexer": "ipython3",
   "version": "3.10.8"
  },
  "orig_nbformat": 4
 },
 "nbformat": 4,
 "nbformat_minor": 2
}
