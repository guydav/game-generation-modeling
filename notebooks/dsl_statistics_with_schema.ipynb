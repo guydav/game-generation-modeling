{
 "cells": [
  {
   "cell_type": "code",
   "execution_count": 1,
   "metadata": {},
   "outputs": [],
   "source": [
    "import pandas as pd\n",
    "import matplotlib.pyplot as plt\n",
    "import numpy as np\n",
    "from scipy import stats\n",
    "import json\n",
    "from collections import defaultdict, Counter, namedtuple\n",
    "from itertools import combinations\n",
    "from tabulate import tabulate\n",
    "import sys\n",
    "import os\n",
    "import json\n",
    "import editdistance\n",
    "\n",
    "PROJECT_PATH = '/Users/guydavidson/projects/game-generation-modeling'\n",
    "sys.path.append(PROJECT_PATH)"
   ]
  },
  {
   "cell_type": "markdown",
   "metadata": {},
   "source": [
    "## Load and munge data"
   ]
  },
  {
   "cell_type": "code",
   "execution_count": 2,
   "metadata": {},
   "outputs": [],
   "source": [
    "from schema.validate_schema import load_and_validate_game_schema\n",
    "SCHEMA_FILE = '../schema/game_schema_with_refs.json'\n",
    "GAME_SCHEMAS_FILE = '../schema/interactive_beta.json'"
   ]
  },
  {
   "cell_type": "code",
   "execution_count": 3,
   "metadata": {},
   "outputs": [],
   "source": [
    "def schema_to_df_row(game_schema):\n",
    "    row = defaultdict(list)\n",
    "    row.update(game_schema['metadata'])\n",
    "\n",
    "    row['game_name'] = row['prolific_id']\n",
    "    row['is_throwing'] = 0\n",
    "    row['is_building'] = 0\n",
    "    row['is_organizing'] = 0\n",
    "    objects_with_predicates = []\n",
    "\n",
    "    if 'throwing' in game_schema:\n",
    "        throwing_game = game_schema['throwing']\n",
    "        row['is_throwing'] = 1\n",
    "        row['throwing_objects'] = throwing_game['what']\n",
    "        row['throwing_goal'] = throwing_game['goal']\n",
    "        \n",
    "        for key in ('to', 'from', 'on'):\n",
    "            if key in throwing_game:\n",
    "                value = throwing_game[key]\n",
    "                row[f'throwing_{key}'] = value\n",
    "                objects_with_predicates.extend(value)\n",
    "\n",
    "    if 'building' in game_schema:\n",
    "        building_game = game_schema['building']\n",
    "        row['is_building'] = 1\n",
    "        row['building_objects'] = building_game['objects']\n",
    "        row['building_goal'] = building_game['goal']\n",
    "        row['building_structure'] = building_game['structure'] if 'structure' in building_game else None\n",
    "        row['building_order'] = building_game['order'] if 'order' in building_game else None\n",
    "\n",
    "        if 'on' in building_game:\n",
    "            objects_with_predicates.append(building_game['on'])\n",
    "\n",
    "    if 'organizing' in game_schema:\n",
    "        row['is_organizing'] = 1\n",
    "        row['organizing'] = game_schema['organizing']\n",
    "        for org_game in game_schema['organizing']:\n",
    "            row['organizing_objects'].extend(org_game['what'])\n",
    "            if 'from' in org_game:\n",
    "                objects_with_predicates.append(org_game['from'])\n",
    "            objects_with_predicates.extend(org_game['to'])\n",
    "\n",
    "    row['objects_with_predicates'] = objects_with_predicates\n",
    "\n",
    "    return row\n"
   ]
  },
  {
   "cell_type": "code",
   "execution_count": 27,
   "metadata": {},
   "outputs": [
    {
     "data": {
      "text/plain": [
       "{'5f9aba6600cdf11f1c9b915c',\n",
       " '60306cf6330619ee41fa3cd2',\n",
       " '6103ec2bf88328284fd894bc',\n",
       " '61093eae2bc2e47e6f26c7d7'}"
      ]
     },
     "execution_count": 27,
     "metadata": {},
     "output_type": "execute_result"
    }
   ],
   "source": [
    "set(firestore_stats_df.prolific_id[firestore_stats_df.prolific_id.duplicated()])"
   ]
  },
  {
   "cell_type": "code",
   "execution_count": 25,
   "metadata": {},
   "outputs": [
    {
     "data": {
      "text/plain": [
       "2"
      ]
     },
     "execution_count": 25,
     "metadata": {},
     "output_type": "execute_result"
    }
   ],
   "source": [
    "# firestore_stats_df.prolific_id[firestore_stats_df.prolific_id.duplicated()]\n",
    "\n",
    "(firestore_stats_df.prolific_id == '60306cf6330619ee41fa3cd2').sum()"
   ]
  },
  {
   "cell_type": "code",
   "execution_count": 21,
   "metadata": {},
   "outputs": [
    {
     "name": "stdout",
     "output_type": "stream",
     "text": [
      "0\n",
      "(98, 14)\n",
      "98\n",
      "0\n",
      "(98, 21)\n",
      "4\n",
      "(117, 14)\n"
     ]
    },
    {
     "data": {
      "text/plain": [
       "(101, 47)"
      ]
     },
     "execution_count": 21,
     "metadata": {},
     "output_type": "execute_result"
    }
   ],
   "source": [
    "raw_stats_df = pd.read_csv('../data/dsl_statistics_interactive.csv', index_col='Index')\n",
    "print(raw_stats_df.game_name.size - raw_stats_df.game_name.nunique())\n",
    "print(raw_stats_df.shape)\n",
    "\n",
    "game_schemas = load_and_validate_game_schema(GAME_SCHEMAS_FILE, SCHEMA_FILE)\n",
    "game_schema_rows = [schema_to_df_row(game_schema) for game_schema in game_schemas]\n",
    "\n",
    "schema_df = pd.DataFrame(game_schema_rows)\n",
    "print(schema_df.prolific_id.size - schema_df.prolific_id.nunique())\n",
    "print(schema_df.shape)\n",
    "# manual_df = pd.read_csv('../data/manual_dsl_statistics.csv')\n",
    "stats_df = raw_stats_df.merge(schema_df, on='game_name', copy=True)\n",
    "\n",
    "firestore_stats_df = pd.read_csv('../data/interactive_beta_firestore_statistics.csv')\n",
    "firestore_stats_df = firestore_stats_df.rename(columns={key: key.replace('game_', 'raw_game_') for key in firestore_stats_df.columns if key.startswith('game_')})\n",
    "firestore_stats_df = firestore_stats_df.rename(columns={key: key.replace('gameScore_', 'raw_game_') for key in firestore_stats_df.columns if key.startswith('gameScore_')})\n",
    "print(firestore_stats_df.prolific_id.size - firestore_stats_df.prolific_id.nunique())\n",
    "print(firestore_stats_df.shape)\n",
    "\n",
    "stats_df = stats_df.merge(firestore_stats_df, on='prolific_id', copy=True)\n",
    "\n",
    "stats_df.shape"
   ]
  },
  {
   "cell_type": "code",
   "execution_count": 5,
   "metadata": {},
   "outputs": [
    {
     "name": "stdout",
     "output_type": "stream",
     "text": [
      "(134, 4)\n"
     ]
    }
   ],
   "source": [
    "repeated_structures_df = pd.read_csv('../data/dsl_repeated_structures_temporal_operator.csv')\n",
    "print(repeated_structures_df.shape)\n",
    "\n",
    "# repeated_structures_replaced_predicates_df = pd.read_csv('../data/dsl_repeated_structures_pred_names_replaced.csv')\n",
    "# print(repeated_structures_replaced_predicates_df.shape)"
   ]
  },
  {
   "cell_type": "code",
   "execution_count": 6,
   "metadata": {},
   "outputs": [],
   "source": [
    "stats_df.loc[stats_df.terminal_exists.isna(), 'terminal_exists'] = False\n",
    "\n",
    "room = np.zeros((len(stats_df),), dtype=np.int32)\n",
    "room[['medium' in d for d in stats_df.domain_name]] = 1\n",
    "room[['many' in d for d in stats_df.domain_name]] = 2\n",
    "\n",
    "room_name = ['Few'] * len(stats_df)\n",
    "stats_df = stats_df.assign(room=room, room_name=room_name)\n",
    "\n",
    "stats_df.loc[['medium' in d for d in stats_df.domain_name], 'room_name'] = 'Medium'\n",
    "stats_df.loc[['many' in d for d in stats_df.domain_name], 'room_name'] = 'Many'\n",
    "\n",
    "DIFFICULTIES = ('Very Easy', 'Easy', 'Medium', 'Hard', 'Very Hard')\n",
    "stats_df = stats_df.assign(difficulty=[DIFFICULTIES[i] for i in stats_df.raw_game_difficulty])\n",
    "\n",
    "\n",
    "stats_df.src_file = stats_df.src_file.apply(lambda s: s.replace('problems-', '').replace('.pddl', ''))\n",
    "room[['interactive' in s for s in stats_df.src_file]] = 3\n",
    "stats_df = stats_df.assign(src=room)\n",
    "\n",
    "def list_from_text(list_text):\n",
    "    if isinstance(list_text, str):\n",
    "        return np.fromstring(list_text[1:-1], sep=',', dtype=np.int32)\n",
    "    \n",
    "    return []\n",
    "\n",
    "stats_df = stats_df.assign(length_of_then=stats_df.length_of_then.apply(list_from_text))\n",
    "stats_df = stats_df.assign(setup_objects_quantified=stats_df.setup_objects_quantified.apply(list_from_text))\n",
    "stats_df = stats_df.assign(preference_objects_quantified=stats_df.preference_objects_quantified.apply(list_from_text))\n",
    "\n",
    "def average_list_series(df, name):\n",
    "    avg = np.empty_like(df[name])\n",
    "    avg[:] = np.NaN\n",
    "    for i, entry in df[name].iteritems():\n",
    "        if len(entry) > 0:\n",
    "            avg[i] = np.mean(entry)\n",
    "\n",
    "    return df.assign(**{f'average_{name}': avg})\n",
    "\n",
    "stats_df = average_list_series(stats_df, 'length_of_then')\n",
    "stats_df = average_list_series(stats_df, 'setup_objects_quantified')\n",
    "stats_df = average_list_series(stats_df, 'preference_objects_quantified')\n",
    "\n",
    "GAME_TYPES = ('throwing', 'building', 'organizing')\n",
    "game_type_data = [[type_name for type_name in GAME_TYPES if row[f'is_{type_name}']]\n",
    "    for i, row in stats_df.iterrows()]\n",
    "\n",
    "\n",
    "for col in stats_df.columns:\n",
    "    if col.startswith('is_'):\n",
    "        stats_df[col] = stats_df[col].astype('bool')\n",
    "\n",
    "\n",
    "stats_df = stats_df.assign(game_type=game_type_data)\n",
    "stats_df = stats_df.assign(game_type_str=['_'.join(sorted(types)) for types in stats_df.game_type])\n",
    "\n",
    "def dict_from_str_with_key_filters(keys_to_filter):\n",
    "    def inner(dict_str):\n",
    "        d = json.loads(dict_str.replace(\"'\",'\"'))\n",
    "        for key in keys_to_filter:\n",
    "            if key in d:\n",
    "                del d[key]\n",
    "\n",
    "        return d\n",
    "\n",
    "    return inner\n",
    "\n",
    "OBJECT_TYPES_REFERENCED_KEYS_TO_FILTER = ('back', 'front', 'left', 'right', 'front_left_corner', 'upright', 'upside_down', 'sideways')\n",
    "\n",
    "stats_df = stats_df.assign(object_types_referenced=stats_df.object_types_referenced.apply(dict_from_str_with_key_filters(OBJECT_TYPES_REFERENCED_KEYS_TO_FILTER)))\n",
    "stats_df = stats_df.assign(predicates_referenced=stats_df.predicates_referenced.apply(dict_from_str_with_key_filters([])))\n",
    "stats_df = stats_df.assign(type_to_pred_counts=stats_df.type_to_pred_counts.apply(dict_from_str_with_key_filters(OBJECT_TYPES_REFERENCED_KEYS_TO_FILTER)))\n",
    "\n",
    "stats_df.loc[stats_df.edited_game_fields.isna(), 'edited_game_fields'] = ''\n",
    "stats_df = stats_df.assign(edited_game_fields=[fields.split(',') if fields else '' for fields in stats_df.edited_game_fields])\n",
    "\n",
    "    "
   ]
  },
  {
   "cell_type": "code",
   "execution_count": 7,
   "metadata": {},
   "outputs": [
    {
     "name": "stdout",
     "output_type": "stream",
     "text": [
      "Found unexpected type: \"\"\n"
     ]
    }
   ],
   "source": [
    "all_types = set()\n",
    "for type_dict in stats_df.object_types_referenced:\n",
    "    all_types.update(type_dict.keys())\n",
    "\n",
    "AGENT = 'agent'\n",
    "BALLS = 'balls'\n",
    "BLOCKS = 'blocks'\n",
    "COLORS = 'colors'\n",
    "FURNITURE = 'furniture'\n",
    "LARGE_OBJCETS = 'large_objects'\n",
    "MEDIUM_OBJECTS = 'medium_objects'\n",
    "OTHER_OBJECTS = 'other_objects'\n",
    "ROOM_FEATURES = 'room_features'\n",
    "SMALL_OBJECTS = 'small_objects'\n",
    "\n",
    "\n",
    "CATEGORIES_TO_TYPES = {\n",
    "    AGENT: ('agent', ),\n",
    "    BALLS: (\n",
    "        'ball', 'basketball', 'beachball', 'blue_dodgeball', 'dodgeball',\n",
    "        'golfball', 'green_golfball', 'pink_dodgeball', 'red_dodgeball',\n",
    "    ),\n",
    "    BLOCKS: (\n",
    "        'block', 'bridge_block', 'cube_block', 'cylindrical_block', \n",
    "        'flat_block', 'pyramid_block', 'tall_cylindrical_block', 'triangle_block',\n",
    "        'tan_cube_block', 'red_pyramid_block', 'blue_cube_block', 'blue_pyramid_block',\n",
    "        'yellow_pyramid_block', 'yellow_cube_block', \n",
    "    ),\n",
    "    COLORS: (\n",
    "        'color', 'blue', 'brown', 'green', 'orange', \n",
    "        'pink', 'purple', 'red', 'tan', 'white', 'yellow', \n",
    "    ),\n",
    "    FURNITURE: (\n",
    "        'bed', 'blinds', 'chair', # TODO: does chair qualify as funiture? since it's movable\n",
    "        'desk', 'desk_shelf', 'drawer', 'main_light_switch', 'desktop', \n",
    "        'top_drawer', 'side_table',\n",
    "    ),\n",
    "    OTHER_OBJECTS: (\n",
    "        'building',  'game_object', '',\n",
    "    ),\n",
    "    LARGE_OBJCETS: (\n",
    "        'curved_wooden_ramp', 'doggie_bed', 'green_triangular_ramp', 'hexagonal_bin',  'triangular_ramp',\n",
    "    ),\n",
    "    MEDIUM_OBJECTS: (\n",
    "        'laptop', 'pillow', 'teddy_bear',\n",
    "    ),\n",
    "    ROOM_FEATURES: (\n",
    "        'door', 'floor', 'rug', 'shelf', 'bottom_shelf', 'top_shelf', 'sliding_door',\n",
    "        'south_sliding_door', 'south_west_corner', 'wall', 'east_wall',  'south_wall', 'west_wall',\n",
    "    ),\n",
    "    SMALL_OBJECTS: (\n",
    "        'alarm_clock', 'book', 'cd', 'cellphone',  'credit_card', \n",
    "        'key_chain', 'lamp',  'mug', 'pen', 'pencil', 'watch',\n",
    "    )\n",
    "}\n",
    "\n",
    "TYPES_TO_CATEGORIES = {type_name: cat for cat, type_names in CATEGORIES_TO_TYPES.items() for type_name in type_names}\n",
    "\n",
    "\n",
    "for category_objects in CATEGORIES_TO_TYPES.values():\n",
    "    for obj in category_objects:\n",
    "        if obj not in all_types:\n",
    "            print(f'Found unexpected type: \"{obj}\"')\n",
    "        else:\n",
    "            all_types.remove(obj)\n",
    "\n",
    "if len(all_types) > 0:\n",
    "    print(f'Found unaccounted types: {all_types}')\n",
    "\n",
    "\n",
    "object_categories_referenced = []\n",
    "object_categories_referenced_total = []\n",
    "\n",
    "for object_to_count_dict in stats_df.object_types_referenced:\n",
    "    refs = defaultdict(lambda: 0)\n",
    "    total_refs = defaultdict(lambda: 0)\n",
    "\n",
    "    for obj, count in object_to_count_dict.items():\n",
    "        obj_type = TYPES_TO_CATEGORIES[obj]\n",
    "        refs[obj_type] += 1\n",
    "        total_refs[obj_type] += count\n",
    "\n",
    "    object_categories_referenced.append(dict(refs))\n",
    "    object_categories_referenced_total.append(dict(total_refs))\n",
    "\n",
    "stats_df = stats_df.assign(object_categories_referenced=object_categories_referenced, object_categories_referenced_total=object_categories_referenced_total)"
   ]
  },
  {
   "cell_type": "code",
   "execution_count": 13,
   "metadata": {},
   "outputs": [
    {
     "name": "stdout",
     "output_type": "stream",
     "text": [
      "50 602a1735bf92e79a5e7cb632 Many [] {'basketball'}\n",
      "85 61093eae2bc2e47e6f26c7d7 Few ['Medium', 'Many'] {'triangular_ramp'}\n",
      "86 61093eae2bc2e47e6f26c7d7 Few ['Medium', 'Many'] {'triangular_ramp'}\n"
     ]
    }
   ],
   "source": [
    "FEW = 'Few'\n",
    "MEDIUM = 'Medium'\n",
    "MANY = 'Many'\n",
    "ROOM_NAMES = (FEW, MEDIUM, MANY)\n",
    "\n",
    "\n",
    "ROOMS_TO_AVAILABLE_OBJECTS = {\n",
    "    FEW: set([\n",
    "        'agent',\n",
    "        'ball', 'dodgeball', 'blue_dodgeball', 'pink_dodgeball', \n",
    "        'block', 'cube_block', 'yellow_cube_block', 'blue_cube_block', 'tan_cube_block',\n",
    "        'color', 'blue', 'brown', 'green', 'orange', 'pink', 'purple', 'red', 'tan', 'white', 'yellow', \n",
    "        'bed', 'blinds', 'chair', 'desk', 'desk_shelf', 'drawer', 'main_light_switch', 'desktop', 'top_drawer', 'side_table',\n",
    "        'building',  'game_object', '',\n",
    "        'curved_wooden_ramp', 'hexagonal_bin',\n",
    "        'laptop', 'pillow', \n",
    "        'door', 'floor', 'rug', 'shelf', 'top_shelf', 'bottom_shelf', 'sliding_door', 'south_west_corner', 'south_sliding_door', 'wall', 'east_wall', 'south_wall', 'west_wall',\n",
    "        'alarm_clock', 'book', 'cd', 'cellphone',  'credit_card', 'key_chain', 'lamp',  'mug', 'pen', 'pencil', 'watch',\n",
    "    ]),\n",
    "    MEDIUM: set([\n",
    "        'agent',\n",
    "        'ball', 'basketball', 'beachball', 'dodgeball', 'red_dodgeball',\n",
    "        'block', 'bridge_block', 'cube_block', 'cylindrical_block', 'flat_block', 'pyramid_block', 'tall_cylindrical_block', \n",
    "        'yellow_pyramid_block', 'red_pyramid_block', 'yellow_cube_block', 'blue_cube_block',\n",
    "        'color', 'blue', 'brown', 'green', 'orange', 'pink', 'purple', 'red', 'tan', 'white', 'yellow', \n",
    "        'bed', 'blinds', 'chair', 'desk', 'desk_shelf', 'drawer', 'main_light_switch', 'desktop', 'top_drawer', 'side_table',\n",
    "        'building',  'game_object', '',\n",
    "        'doggie_bed', 'hexagonal_bin',  'triangular_ramp',\n",
    "        'laptop', 'pillow', 'teddy_bear',\n",
    "        'door', 'floor', 'rug', 'shelf', 'top_shelf', 'bottom_shelf', 'sliding_door', 'south_west_corner', 'south_sliding_door', 'wall', 'east_wall', 'south_wall', 'west_wall',\n",
    "        'alarm_clock', 'book', 'cd', 'cellphone',  'credit_card', 'key_chain', 'lamp',  'mug', 'pen', 'pencil', 'watch',\n",
    "    ]),\n",
    "    MANY: set([\n",
    "        'agent',\n",
    "        'ball', 'beachball', 'dodgeball', 'blue_dodgeball', 'pink_dodgeball', 'red_dodgeball', 'golfball', 'green_golfball',\n",
    "        'block', 'bridge_block', 'cube_block', 'cylindrical_block', 'flat_block', 'pyramid_block', 'tall_cylindrical_block', 'triangle_block',\n",
    "        'yellow_pyramid_block', 'red_pyramid_block', 'blue_pyramid_block', 'yellow_cube_block', 'blue_cube_block', 'tan_cube_block',\n",
    "        'color', 'blue', 'brown', 'green', 'orange', 'pink', 'purple', 'red', 'tan',  'white', 'yellow', \n",
    "        'bed', 'blinds', 'chair', 'desk', 'desk_shelf', 'drawer', 'main_light_switch', 'desktop', 'top_drawer', 'side_table',\n",
    "        'building',  'game_object', '',\n",
    "        'curved_wooden_ramp', 'doggie_bed', 'green_triangular_ramp', 'hexagonal_bin',  'triangular_ramp',\n",
    "        'laptop', 'pillow', 'teddy_bear',\n",
    "        'door', 'floor', 'rug', 'shelf', 'top_shelf', 'bottom_shelf', 'sliding_door', 'south_west_corner', 'south_sliding_door', 'wall', 'east_wall', 'south_wall', 'west_wall',\n",
    "        'alarm_clock', 'book', 'cd', 'cellphone',  'credit_card', 'key_chain', 'lamp',  'mug', 'pen', 'pencil', 'watch',\n",
    "    ]),\n",
    "}\n",
    "\n",
    "game_valid_rooms = []\n",
    "for idx, obj_types in enumerate(stats_df.object_types_referenced):\n",
    "    g = [room_name for room_name, room_objects in ROOMS_TO_AVAILABLE_OBJECTS.items() \n",
    "        if set(obj_types.keys()) <= room_objects]\n",
    "\n",
    "    if stats_df.room_name[idx] not in g:\n",
    "        room_objects = ROOMS_TO_AVAILABLE_OBJECTS[stats_df.room_name[idx]]\n",
    "        print(idx, stats_df.game_name[idx], stats_df.room_name[idx], g, set(obj_types.keys()) - room_objects)\n",
    "    \n",
    "    game_valid_rooms.append(g)\n",
    "\n",
    "# print(game_valid_rooms)\n",
    "\n",
    "\n",
    "stats_df = stats_df.assign(game_valid_rooms=game_valid_rooms, num_game_valid_rooms=[len(g) for g in game_valid_rooms])"
   ]
  },
  {
   "cell_type": "code",
   "execution_count": 15,
   "metadata": {},
   "outputs": [
    {
     "data": {
      "text/plain": [
       "3"
      ]
     },
     "execution_count": 15,
     "metadata": {},
     "output_type": "execute_result"
    }
   ],
   "source": [
    "stats_df.game_name.size - stats_df.game_name.nunique()"
   ]
  },
  {
   "cell_type": "code",
   "execution_count": null,
   "metadata": {},
   "outputs": [],
   "source": [
    "category_to_pred_counts = []\n",
    "pred_to_type_counts = []\n",
    "pred_to_category_counts = []\n",
    "\n",
    "for type_to_pred in stats_df.type_to_pred_counts:\n",
    "    cat_to_pred = defaultdict(lambda: defaultdict(lambda: 0))\n",
    "    pred_to_type = defaultdict(lambda: defaultdict(lambda: 0))\n",
    "    pred_to_cat = defaultdict(lambda: defaultdict(lambda: 0))\n",
    "\n",
    "    for type_name, pred_counts in type_to_pred.items():\n",
    "        cat_name = TYPES_TO_CATEGORIES[type_name]\n",
    "        for pred, count in pred_counts.items():\n",
    "            cat_to_pred[cat_name][pred] += count\n",
    "            pred_to_type[pred][type_name] += count\n",
    "            pred_to_cat[pred][cat_name] += count\n",
    "\n",
    "    category_to_pred_counts.append({outer_key: dict(inner_dict) for outer_key, inner_dict in cat_to_pred.items()})\n",
    "    pred_to_type_counts.append({outer_key: dict(inner_dict) for outer_key, inner_dict in pred_to_type.items()})\n",
    "    pred_to_category_counts.append({outer_key: dict(inner_dict) for outer_key, inner_dict in pred_to_cat.items()})\n",
    "    \n",
    "stats_df = stats_df.assign(category_to_pred_counts=category_to_pred_counts, pred_to_type_counts=pred_to_type_counts, pred_to_category_counts=pred_to_category_counts)\n"
   ]
  },
  {
   "cell_type": "code",
   "execution_count": null,
   "metadata": {},
   "outputs": [],
   "source": [
    "DIFFICULTIES = ('Very Easy', 'Easy', 'Medium', 'Hard', 'Very Hard')\n",
    "\n",
    "REORDERED_COLUMNS = ['src', 'src_file', 'game_name', 'domain_name', 'room', 'room_name',\n",
    "    'num_preferences', 'length_of_then', 'average_length_of_then',\n",
    "    'setup_objects_quantified', 'average_setup_objects_quantified',\n",
    "    'preference_objects_quantified', 'average_preference_objects_quantified',\n",
    "    'terminal_exists', 'object_types_referenced', 'predicates_referenced', \n",
    "    'type_to_pred_counts', 'category_to_pred_counts', 'pred_to_type_counts', 'pred_to_category_counts',\n",
    "    'object_categories_referenced', 'object_categories_referenced_total',\n",
    "    'game_valid_rooms', 'num_game_valid_rooms',\n",
    "    'max_depth', 'ast_nodes', 'setup_nodes',\n",
    "    'game_type', 'game_type_str', 'is_throwing', 'is_building', 'is_organizing', \n",
    "    'objects_with_predicates',\n",
    "    'throwing_objects', 'throwing_goal', 'throwing_to', 'throwing_from', 'throwing_on',\n",
    "    'building_objects', 'building_goal', 'building_structure', 'building_order', \n",
    "    'organizing', 'organizing_objects',\n",
    "    'raw_game_setup', 'raw_game_gameplay', 'raw_game_scoring',\n",
    "    'raw_game_difficulty', 'raw_game_firstTimeScore', 'raw_game_score',\n",
    "    'raw_game_thoughts', 'raw_game_edited', 'edited_game_fields', 'difficulty',\n",
    "]\n",
    "stats_df = stats_df.reindex(columns=REORDERED_COLUMNS)\n",
    "stats_df.shape"
   ]
  },
  {
   "cell_type": "code",
   "execution_count": null,
   "metadata": {},
   "outputs": [],
   "source": [
    "stats_df.head()"
   ]
  },
  {
   "cell_type": "markdown",
   "metadata": {},
   "source": [
    "# Dataframe columns readme:\n",
    "* `src/src_file`: which file the data came from (survey by specific room or interactive beta)\n",
    "* `game_name`: room-\\[row number in my spreadsheet\\].\n",
    "* `domain_name`: the room identifier as it's iun the games (domain is a PDDL thing)\n",
    "* `room/room_name`: simplifications of the room designation from the game/domain names to ease working with the data.\n",
    "* `num_preferences`: how many preferences I used to represent the game.\n",
    "* `length_of_then`: length of all `then` operators in this game.\n",
    "* `setup/preference_objects_quantified`: average number of objects quantified over in quantifiers (`exists`/`forall`) in the game representation, split by which section of the game it's in.\n",
    "* `terminal_exists`: whether the game uses a `terminal` clause.\n",
    "* `object_types_referenced`: how many times each object type was quantified in each game, combined between the setup and preferences. \n",
    "* `object_categories_referenced`: how many times each game refers to object types from each category (as coded above)\n",
    "* `predicates_referenced`: how many times each predicate was referenced in each game (as above, combined between setup and preferences). \n",
    "* `type_to_pred_counts`: a mapping, for each game, from object type, to how many times it's used with each predicate\n",
    "* `category_to_pred_counts`: same as above, but for object categories -- for each, game, from each object category, to how many times it's used with each predicate\n",
    "* `pred_to_type_counts`: same two above, but inverted -- for each game, for each predicate, how often it's used with each object type\n",
    "* `pred_to_category_counts`: same as above, but for object categories, rather than individual types -- for each game, for each predicate, how often it's used with objects from each type\n",
    "* `game_valid_rooms`: in which rooms is this game valid, by the types of objects it appears in\n",
    "* `num_game_valid_rooms`: same as above, but as a number, rather than a list of room names\n",
    "* `max_depth`: what's the deepest the game's AST goes\n",
    "* `ast_nodes`: how many total nodes of type AST (so not strings, lists, etc.) exist in the AST.\n",
    "* `is_throwing/building/organizing`: does the schema representaiton of this game utilize this sort of block?\n",
    "* `game_type`: a combination of the above into a single list\n",
    "* `game_type_str`: a combination of the above into a sorted and joined string\n",
    "* `objects_with_predicates`: a list of all of the `objectWithPredicate` types used in the schema representation of this game\n",
    "* `throwing_*/building_*/organizing_*`: individual fields from the schema representation for each type.\n",
    "* `raw_game_*`: raw data from the participants, as loaded from our firestore DB\n",
    "* `raw_game_edited`: did participants opt to edit their games after playing them?\n",
    "* `edited_game_fields`: for participants who edited their games, which fields did they edit?\n",
    "* `difficulty`: the participant-reported difficulty rating converted to a string\n"
   ]
  },
  {
   "cell_type": "markdown",
   "metadata": {},
   "source": [
    "# Schema-based analyses\n",
    "## How many games of each type exist\n",
    "\n"
   ]
  },
  {
   "cell_type": "code",
   "execution_count": null,
   "metadata": {},
   "outputs": [],
   "source": [
    "game_type_counts = stats_df.groupby(['is_throwing', 'is_building', 'is_organizing']).size().reset_index().rename(columns={0: 'num'})\n",
    "\n",
    "labels = []\n",
    "values = []\n",
    "for index, row in game_type_counts.iterrows():\n",
    "    elements = []\n",
    "    if row.is_throwing: elements.append('throwing') \n",
    "    if row.is_building: elements.append('building') \n",
    "    if row.is_organizing: elements.append('organizing') \n",
    "    labels.append('+\\n'.join(elements))\n",
    "    values.append(row.num)\n",
    "\n",
    "x_values = np.arange(len(values))\n",
    "plt.bar(x_values, values)\n",
    "plt.xticks(x_values, labels=labels)\n",
    "plt.title('Count of games by type')\n",
    "plt.show()"
   ]
  },
  {
   "cell_type": "code",
   "execution_count": null,
   "metadata": {},
   "outputs": [],
   "source": [
    "FIGURE_TEMPLATE = r'''\\begin{{figure}}[!htb]\n",
    "% \\vspace{{-0.225in}}\n",
    "\\centering\n",
    "\\includegraphics[width=\\linewidth]{{figures/{save_path}}}\n",
    "\\caption{{ {{\\bf FIGURE TITLE.}} FIGURE DESCRIPTION.}}\n",
    "\\label{{fig:{label_name}}}\n",
    "% \\vspace{{-0.2in}}\n",
    "\\end{{figure}}\n",
    "'''\n",
    "WRAPFIGURE_TEMPLATE = r'''\\begin{{wrapfigure}}{{r}}{{0.5\\linewidth}}\n",
    "\\vspace{{-.3in}}\n",
    "\\begin{{spacing}}{{1.0}}\n",
    "\\centering\n",
    "\\includegraphics[width=0.95\\linewidth]{{figures/{save_path}}}\n",
    "\\caption{{ {{\\bf FIGURE TITLE.}} FIGURE DESCRIPTION.}}\n",
    "\\label{{fig:{label_name}}}\n",
    "\\end{{spacing}}\n",
    "% \\vspace{{-.25in}}\n",
    "\\end{{wrapfigure}}'''\n",
    "\n",
    "SAVE_PATH_PREFIX = '../figures'\n",
    "\n",
    "\n",
    "def save_plot(save_path, bbox_inches='tight', should_print=False):\n",
    "    if save_path is not None:\n",
    "        save_path_no_ext = os.path.splitext(save_path)[0]\n",
    "        if should_print:\n",
    "            print('Figure:\\n')\n",
    "            print(FIGURE_TEMPLATE.format(save_path=save_path, label_name=save_path_no_ext.replace('/', '-').replace('_', '-')))\n",
    "            print('\\nWrapfigure:\\n')\n",
    "            print(WRAPFIGURE_TEMPLATE.format(save_path=save_path, label_name=save_path_no_ext.replace('/', '-').replace('_', '-')))\n",
    "            print('')\n",
    "        \n",
    "        if not save_path.startswith(SAVE_PATH_PREFIX):\n",
    "            save_path = os.path.join(SAVE_PATH_PREFIX, save_path)\n",
    "        \n",
    "        save_path = os.path.abspath(save_path)\n",
    "        folder, filename = os.path.split(save_path)\n",
    "        os.makedirs(folder, exist_ok=True)\n",
    "        plt.savefig(save_path, bbox_inches=bbox_inches, facecolor=plt.gcf().get_facecolor(), edgecolor='none')\n"
   ]
  },
  {
   "cell_type": "code",
   "execution_count": null,
   "metadata": {},
   "outputs": [],
   "source": [
    "def _add_new_histogram_results(all_results, new_results, key):\n",
    "    if isinstance(new_results, (list, tuple)):\n",
    "        all_results[key].extend(new_results)\n",
    "    else:\n",
    "        all_results[key].append(new_results)\n",
    "\n",
    "\n",
    "def _extract_histogram_data(df, group_by_col, row_value_func, split_group_by_values):\n",
    "    results_by_key = defaultdict(list)\n",
    "\n",
    "    for _, row in df.iterrows():\n",
    "        group_by_key = row[group_by_col]\n",
    "        row_values = row_value_func(row)\n",
    "\n",
    "        # single key\n",
    "        if isinstance(group_by_key, (str, int)):\n",
    "            _add_new_histogram_results(results_by_key, row_values, group_by_key)\n",
    "        \n",
    "        # multiple keys\n",
    "        else:\n",
    "            if split_group_by_values:\n",
    "                for key in group_by_key:\n",
    "                    _add_new_histogram_results(results_by_key, row_values, key)\n",
    "\n",
    "            else:\n",
    "                group_by_key = '_'.join(sorted(group_by_key))\n",
    "                _add_new_histogram_results(results_by_key, row_values, group_by_key)\n",
    "\n",
    "    return results_by_key\n",
    "\n",
    "\n",
    "def _add_new_bar_chart_results(all_results, new_results, key):    \n",
    "    if isinstance(new_results, (list, tuple)):\n",
    "        for new_res in new_results:\n",
    "            _add_new_bar_chart_results(all_results, new_res, key)\n",
    "\n",
    "    elif isinstance(new_results, dict):\n",
    "        for result_key in new_results:\n",
    "            all_results[key][result_key] += new_results[result_key]\n",
    "\n",
    "    elif isinstance(new_results, (str, int)):\n",
    "        all_results[key][new_results] += 1\n",
    "    \n",
    "    else:\n",
    "        raise ValueError(f'_add_new_bar_chart_results expected dict (or list/tuple of dicts), received {type(new_results)}: {new_results}')\n",
    "\n",
    "\n",
    "def _extract_bar_chart_data(df, group_by_col, row_value_func, split_group_by_values, swap_outer_inner_keys=False):\n",
    "    results_by_key = defaultdict(lambda: defaultdict(lambda: 0))\n",
    "\n",
    "    for _, row in df.iterrows():\n",
    "        group_by_key = row[group_by_col]\n",
    "        row_values = row_value_func(row)\n",
    "\n",
    "        # single key\n",
    "        if isinstance(group_by_key, (str, int)):\n",
    "            _add_new_bar_chart_results(results_by_key, row_values, group_by_key)\n",
    "        \n",
    "        # multiple keys\n",
    "        else:\n",
    "            if split_group_by_values:\n",
    "                for key in group_by_key:\n",
    "                    _add_new_bar_chart_results(results_by_key, row_values, key)\n",
    "\n",
    "            else:\n",
    "                group_by_key = '_'.join(sorted(group_by_key))\n",
    "                _add_new_bar_chart_results(results_by_key, row_values, group_by_key)\n",
    "\n",
    "    if swap_outer_inner_keys:\n",
    "        swapped_results_by_key = defaultdict(lambda: defaultdict(lambda: 0))\n",
    "\n",
    "        for outer_key, inner_dict in results_by_key.items():\n",
    "            for inner_key, count in inner_dict.items():\n",
    "                swapped_results_by_key[inner_key][outer_key] = count\n",
    "\n",
    "        return swapped_results_by_key\n",
    "\n",
    "    return results_by_key\n",
    "\n",
    "\n",
    "def parallel_histograms(df, group_by_col, row_value_func, split_group_by_values=False,\n",
    "    figsize=(16, 6), plot_density=True, title='',\n",
    "    super_title_fontsize=24, ax_title_fontsize=16, ax_label_fontsize=16):\n",
    "\n",
    "    results_by_key = _extract_histogram_data(df, group_by_col, row_value_func, split_group_by_values)\n",
    "\n",
    "    global_min = min([min(values) for values in results_by_key.values() if len(values) > 0])\n",
    "    global_max = max([max(values) for values in results_by_key.values() if len(values) > 0])\n",
    "\n",
    "    fig, axes = plt.subplots(1, len(results_by_key), figsize=figsize)\n",
    "\n",
    "    for index, key in enumerate(results_by_key):\n",
    "        ax = axes[index]\n",
    "        ax.hist(results_by_key[key], range=(global_min, global_max), density=plot_density)\n",
    "        ax.set_title(key, fontsize=ax_title_fontsize)\n",
    "\n",
    "        if index == 0:\n",
    "             ax.set_ylabel('Density' if plot_density else 'Count', fontsize=ax_label_fontsize)\n",
    "        else:\n",
    "            ax.set_yticks([])\n",
    "    \n",
    "\n",
    "    if title:\n",
    "        plt.suptitle(title, fontsize=super_title_fontsize)\n",
    "    \n",
    "    plt.show()\n",
    "\n",
    "\n",
    "def single_ax_histograms(df, group_by_col, row_value_func, split_group_by_values=False,\n",
    "    figsize=(8, 6), plot_density=False, stacked=True, title='', cmap='tab10', legend_loc='best', xlabel='',\n",
    "    super_title_fontsize=24, ax_title_fontsize=16, ax_label_fontsize=16):\n",
    "\n",
    "    results_by_key = _extract_histogram_data(df, group_by_col, row_value_func, split_group_by_values)\n",
    "    keys = results_by_key.keys()\n",
    "    values = [results_by_key[key] for key in keys]\n",
    "    colormap = plt.cm.get_cmap(cmap)\n",
    "    colors = [colormap(i) for i in range(len(keys))]\n",
    "\n",
    "    plt.figure(figsize=figsize)\n",
    "    plt.hist(values, label=list(keys), density=plot_density, stacked=stacked, color=colors)\n",
    "    plt.legend(loc=legend_loc)\n",
    "    plt.title(title, fontsize=super_title_fontsize)\n",
    "    plt.ylabel('Density' if plot_density else 'Count', fontsize=ax_label_fontsize)\n",
    "    plt.xlabel(xlabel, fontsize=ax_label_fontsize)    \n",
    "    plt.show()\n",
    "\n",
    "\n",
    "def single_ax_bar_chart(df, group_by_col, row_value_func, split_group_by_values=False, swap_outer_inner_keys=False, *,\n",
    "    figsize=(8, 6), title='', cmap='tab10', legend_loc='best', xlabel='', ylabel='Count',\n",
    "    super_title_fontsize=24, ax_title_fontsize=16, ax_label_fontsize=16,\n",
    "    inner_key_order=None, outer_key_order=None, normalize_columns=False, \n",
    "    vertical_bar_labels=False, save_path=None, print_save_latex=False):\n",
    "\n",
    "    results_by_key = _extract_bar_chart_data(df, group_by_col, row_value_func, split_group_by_values, swap_outer_inner_keys)\n",
    "    single_ax_bar_chart_from_results(results_by_key, figsize=figsize, title=title, cmap=cmap, \n",
    "        legend_loc=legend_loc, xlabel=xlabel, ylabel=ylabel, super_title_fontsize=super_title_fontsize,\n",
    "        ax_title_fontsize=ax_title_fontsize, ax_label_fontsize=ax_label_fontsize,\n",
    "        inner_key_order=inner_key_order, outer_key_order=outer_key_order, \n",
    "        normalize_columns=normalize_columns, vertical_bar_labels=vertical_bar_labels, \n",
    "        save_path=save_path, print_save_latex=print_save_latex)\n",
    "\n",
    "\n",
    "def single_ax_bar_chart_from_results(results_by_key, *,\n",
    "    figsize=(8, 6), title='', cmap='tab10', legend_loc='best', legend_bbox_to_anchor=None, xlabel='', ylabel='Count',\n",
    "    super_title_fontsize=24, ax_title_fontsize=16, ax_label_fontsize=16, ax_tick_fontsize=12,\n",
    "    inner_key_order=None, outer_key_order=None, normalize_columns=False, vertical_bar_labels=False, \n",
    "    color_dict=None, save_path=None, print_save_latex=False):\n",
    "\n",
    "    if outer_key_order is None:\n",
    "        outer_key_order = sorted(results_by_key.keys())\n",
    "\n",
    "    if inner_key_order is None:\n",
    "        inner_key_order =  sorted(set(\n",
    "            [key for inner_keys in [list(x.keys()) for x in results_by_key.values()] \n",
    "            for key in inner_keys]\n",
    "        ))\n",
    "    \n",
    "    current_start_values = np.zeros((len(inner_key_order,)))\n",
    "\n",
    "    if normalize_columns:\n",
    "        inner_key_sums = [sum([results_by_key[outer_key][inner_key] for outer_key in outer_key_order]) \n",
    "            for inner_key in inner_key_order]\n",
    "\n",
    "        if ylabel == 'Count':\n",
    "            ylabel = 'Proportion'\n",
    "\n",
    "        if legend_bbox_to_anchor is None:\n",
    "            legend_bbox_to_anchor = (1.0, 0.5)\n",
    "            legend_loc = 'center left'\n",
    "\n",
    "    if not vertical_bar_labels:\n",
    "        inner_key_names = [key.replace('_', ' +\\n') for key in inner_key_order]\n",
    "    else:\n",
    "        inner_key_names = inner_key_order\n",
    "\n",
    "    colormap = plt.cm.get_cmap(cmap)\n",
    "    if color_dict is None:\n",
    "        colors = [colormap(i) for i in range(len(outer_key_order))]\n",
    "    else:\n",
    "        colors = [color_dict[key] for key in outer_key_order]\n",
    "\n",
    "    plt.figure(figsize=figsize)\n",
    "\n",
    "    for index, outer_key in enumerate(outer_key_order):\n",
    "        current_key_values = [results_by_key[outer_key][inner_key] for inner_key in inner_key_order]\n",
    "        if normalize_columns:\n",
    "            current_key_values = [x / y if x != 0 else x for x, y in zip(current_key_values, inner_key_sums)]\n",
    "\n",
    "        # TODO: think about whether or not I want to support non-stacked\n",
    "        plt.bar(inner_key_names, current_key_values, bottom=current_start_values, \n",
    "            label=outer_key, color=colors[index])\n",
    "        current_start_values += np.array(current_key_values)\n",
    "\n",
    "    plt.legend(bbox_to_anchor=legend_bbox_to_anchor, loc=legend_loc, prop=dict(size=ax_tick_fontsize))\n",
    "    plt.title(title, fontsize=super_title_fontsize)\n",
    "\n",
    "    plt.xlabel(xlabel, fontsize=ax_label_fontsize)    \n",
    "    plt.ylabel(ylabel, fontsize=ax_label_fontsize)\n",
    "    \n",
    "    plt.xticks(size=ax_tick_fontsize, rotation='vertical' if vertical_bar_labels else 'horizontal')\n",
    "    plt.yticks(size=ax_title_fontsize)\n",
    "    \n",
    "    if save_path is not None:\n",
    "        save_plot(save_path, should_print=print_save_latex)\n",
    "\n",
    "    plt.show()\n"
   ]
  },
  {
   "cell_type": "code",
   "execution_count": null,
   "metadata": {},
   "outputs": [],
   "source": [
    "class CoocurrenceDefinition:\n",
    "    def __init__(self, outer_key, inner_key, *,\n",
    "        outer_primary_obj_only=True, inner_primary_obj_only=True, \n",
    "        use_categories_outer=False, use_categories_inner=False, name=None):\n",
    "\n",
    "        self.outer_key = outer_key\n",
    "        self.inner_key = inner_key\n",
    "        self.outer_primary_obj_only = outer_primary_obj_only\n",
    "        self.inner_primary_obj_only = inner_primary_obj_only\n",
    "        self.use_categories_outer = use_categories_outer\n",
    "        self.use_categories_inner = use_categories_inner\n",
    "\n",
    "        if name is None:\n",
    "            name_components = [outer_key]\n",
    "            if not outer_primary_obj_only: name_components.append('all')\n",
    "            if use_categories_outer: name_components.append('cat')\n",
    "            name_components.append(inner_key)\n",
    "            if not inner_primary_obj_only: name_components.append('all')\n",
    "            if use_categories_inner: name_components.append('cat')\n",
    "            name = '_'.join(name_components)\n",
    "\n",
    "        self.name = name\n",
    "\n",
    "SplitObjectPredicates = namedtuple(\n",
    "    'SplitObjectPredicates', ('primary_objects', 'secondary_objects', 'predicates')\n",
    ")\n",
    "\n",
    "empty_coocurrence_dict = lambda: defaultdict(lambda: defaultdict(lambda: 0))\n",
    "\n",
    "def update_coocurrence_dict(cooc_dict, outer_keys, inner_keys, omit_equals=False):\n",
    "    for outer in outer_keys:\n",
    "        for inner in inner_keys:\n",
    "            if omit_equals and outer == inner:\n",
    "                continue\n",
    "\n",
    "            cooc_dict[outer][inner] += 1\n",
    "\n",
    "def sort_by_count_desc(key_to_count):\n",
    "    return [item[0] for item in sorted(key_to_count.items(), key=lambda item: item[1], reverse=True)]\n",
    "\n",
    "\n",
    "def coocurrence_dict_to_matrix(cooc_dict):\n",
    "    outer_key_counts = {key: sum(cooc_dict[key].values()) for key in cooc_dict}\n",
    "    all_inner_keys = set([inner_key for keys in [inner_dict.keys() for inner_dict in cooc_dict.values()] for inner_key in keys])\n",
    "    inner_key_counts = {inner_key: sum([cooc_dict[outer_key][inner_key] for outer_key in cooc_dict]) for inner_key in all_inner_keys}\n",
    "\n",
    "    sorted_outer_keys = sort_by_count_desc(outer_key_counts)\n",
    "    sorted_inner_keys = sort_by_count_desc(inner_key_counts)\n",
    "\n",
    "    cooc_mat = np.zeros((len(sorted_outer_keys), len(sorted_inner_keys)))\n",
    "    for i, outer in enumerate(sorted_outer_keys):\n",
    "        for j, inner in enumerate(sorted_inner_keys):\n",
    "            cooc_mat[i, j] = cooc_dict[outer][inner]\n",
    "\n",
    "    return cooc_mat, sorted_outer_keys, sorted_inner_keys\n",
    "\n",
    "\n",
    "def separate_objects_and_predicates(objects_with_predicates_list):\n",
    "    primary_objects = []\n",
    "    secondary_objects = []\n",
    "    predicates = []\n",
    "\n",
    "    if isinstance(objects_with_predicates_list, list):\n",
    "        for object_with_predicates in objects_with_predicates_list:\n",
    "            primary_objects.append(object_with_predicates['object'])\n",
    "\n",
    "            if 'predicates' in object_with_predicates:\n",
    "                for predicate_desc in object_with_predicates['predicates']:\n",
    "                    if 'object' in predicate_desc:\n",
    "                        secondary_objects.append(predicate_desc['object'])\n",
    "\n",
    "                    if 'predicate' in predicate_desc:\n",
    "                        predicates.append(predicate_desc['predicate'])\n",
    "\n",
    "    return SplitObjectPredicates(primary_objects, secondary_objects, predicates)\n",
    "\n",
    "\n",
    "def extract_all_coocurrences(df, column_prefix, coocurrence_defs, type_to_category_mapping=TYPES_TO_CATEGORIES):\n",
    "    relevant_columns = list(filter(lambda c: c.startswith(f'{column_prefix}_'), df.columns))\n",
    "    obj_with_pred_columns = list(filter(\n",
    "        lambda c: any([isinstance(x, list) and isinstance(x[0], dict) for x in df[c]]), \n",
    "        relevant_columns))\n",
    "    \n",
    "    if any([cooc_def.name is None or cooc_def.inner_key is None or cooc_def.outer_key is None for cooc_def in coocurrence_defs]):\n",
    "        raise ValueError(f'Received at least one cooc def without a name, inner key, or outer key: {coocurrence_defs}')\n",
    "\n",
    "    coocurrence_dicts = {\n",
    "        cooc_def.name: empty_coocurrence_dict()   \n",
    "        for cooc_def in coocurrence_defs\n",
    "    }\n",
    "\n",
    "    for col in obj_with_pred_columns:\n",
    "        coocurrence_dicts[f'{col}_object_predicate'] = empty_coocurrence_dict()\n",
    "        coocurrence_dicts[f'{col}_object_object'] = empty_coocurrence_dict()\n",
    "\n",
    "    for _, row in df.iterrows():\n",
    "        row_values = {col: separate_objects_and_predicates(row[col]) if col in obj_with_pred_columns else row[col] for col in relevant_columns}\n",
    "\n",
    "        # compute predefined coocurrences\n",
    "        for cooc_def in coocurrence_defs:\n",
    "            outer_col = f'{column_prefix}_{cooc_def.outer_key}'\n",
    "            inner_col = f'{column_prefix}_{cooc_def.inner_key}'\n",
    "\n",
    "            outer_values = row_values[outer_col]\n",
    "            inner_values = row_values[inner_col]\n",
    "\n",
    "            if outer_col in obj_with_pred_columns:\n",
    "                if cooc_def.outer_primary_obj_only:\n",
    "                    outer_values = outer_values.primary_objects[:]\n",
    "                else:\n",
    "                    outer_values = outer_values.primary_objects + outer_values.secondary_objects\n",
    "\n",
    "            if cooc_def.use_categories_outer:\n",
    "                outer_values = [type_to_category_mapping[val] for val in outer_values]\n",
    "\n",
    "            if inner_col in obj_with_pred_columns:\n",
    "                if cooc_def.inner_primary_obj_only:\n",
    "                    inner_values = inner_values.primary_objects[:]\n",
    "                else:\n",
    "                    inner_values = inner_values.primary_objects + inner_values.secondary_objects\n",
    "\n",
    "            if cooc_def.use_categories_inner:\n",
    "                inner_values = [type_to_category_mapping[val] for val in inner_values]\n",
    "\n",
    "            update_coocurrence_dict(coocurrence_dicts[cooc_def.name], outer_values, inner_values)\n",
    "\n",
    "        # compute generic object-object and object-predicate coocurrences\n",
    "        for col in obj_with_pred_columns:\n",
    "            if isinstance(row[col], list):\n",
    "                for object_with_predicates in row[col]:\n",
    "                    first_object = object_with_predicates['object']\n",
    "                    if 'predicates' in object_with_predicates:\n",
    "                        for predicate_desc in object_with_predicates['predicates']:\n",
    "                            second_object = None\n",
    "                            if 'object' in predicate_desc:\n",
    "                                second_object = predicate_desc['object']\n",
    "                                coocurrence_dicts[f'{col}_object_object'][first_object][second_object] += 1\n",
    "                                coocurrence_dicts[f'{col}_object_object'][second_object][first_object] += 1\n",
    "\n",
    "                            if 'predicate' in predicate_desc:\n",
    "                                predicate = predicate_desc['predicate']\n",
    "                                \n",
    "                                coocurrence_dicts[f'{col}_object_predicate'][first_object][predicate] += 1\n",
    "                                if second_object:\n",
    "                                    coocurrence_dicts[f'{col}_object_predicate'][second_object][predicate] += 1\n",
    "\n",
    "    # combine the individual object-predicate coocurrences to the combined ones\n",
    "    coocurrence_dicts['all_object_predicate'] = empty_coocurrence_dict()\n",
    "    coocurrence_dicts['all_object_object'] = empty_coocurrence_dict()\n",
    "\n",
    "    for col in obj_with_pred_columns:\n",
    "        for template in '{key}_object_predicate', '{key}_object_object':\n",
    "            overall_cooc_dict = coocurrence_dicts[template.format(key='all')]\n",
    "            current_cooc_dict = coocurrence_dicts[template.format(key=col)]\n",
    "\n",
    "            for outer_key in current_cooc_dict:\n",
    "                for inner_key in current_cooc_dict[outer_key]:\n",
    "                    overall_cooc_dict[outer_key][inner_key] += current_cooc_dict[outer_key][inner_key]\n",
    "\n",
    "    return coocurrence_dicts\n",
    "\n",
    "\n",
    "def plot_coocurrence_data(cooc_dict, title='', xlabel='', ylabel='', figsize=(12, 12),\n",
    "    title_fontsize=24, ax_label_fontsize=20, tick_fontsize=16, cmap='gist_yarg'): \n",
    "    cooc_mat, outer_keys, inner_keys = coocurrence_dict_to_matrix(cooc_dict)\n",
    "\n",
    "    fig = plt.figure(figsize=figsize)\n",
    "    ax = fig.gca()\n",
    "    plt.imshow(cooc_mat, cmap=cmap)\n",
    "\n",
    "    plt.xticks(np.arange(len(inner_keys)), inner_keys, rotation='vertical', fontsize=tick_fontsize)\n",
    "    ax.xaxis.set_ticks_position('top')\n",
    "    # ax.xaxis.set_label_position('top')\n",
    "    plt.yticks(np.arange(len(outer_keys)), outer_keys, fontsize=tick_fontsize)\n",
    "    cbar = plt.colorbar()\n",
    "    cbar.ax.tick_params(labelsize=tick_fontsize)\n",
    "\n",
    "    plt.title(title, fontsize=title_fontsize)\n",
    "    plt.xlabel(xlabel, fontsize=ax_label_fontsize)\n",
    "    plt.ylabel(ylabel, fontsize=ax_label_fontsize)\n",
    "    plt.show()\n",
    "\n",
    "\n"
   ]
  },
  {
   "cell_type": "markdown",
   "metadata": {},
   "source": [
    "# Potentially relevant plots to the paper"
   ]
  },
  {
   "cell_type": "code",
   "execution_count": null,
   "metadata": {},
   "outputs": [],
   "source": [
    "!pwd"
   ]
  },
  {
   "cell_type": "code",
   "execution_count": null,
   "metadata": {},
   "outputs": [],
   "source": [
    "single_ax_bar_chart(stats_df, 'game_type', lambda row: row.object_categories_referenced, swap_outer_inner_keys=True,\n",
    "    title='Use of different object categories by game type', xlabel='Game Type', figsize=(12, 6), \n",
    "    normalize_columns=True, save_path='object_categories_by_game_type.png')\n"
   ]
  },
  {
   "cell_type": "code",
   "execution_count": null,
   "metadata": {},
   "outputs": [],
   "source": [
    "single_ax_bar_chart(stats_df, 'room_name', lambda row: row.game_type_str, swap_outer_inner_keys=True,\n",
    "    title='Game types by room', xlabel='Game type', figsize=(8, 6),\n",
    "    inner_key_order=ROOM_NAMES, normalize_columns=True, save_path='game_types_by_room.png')\n"
   ]
  },
  {
   "cell_type": "code",
   "execution_count": null,
   "metadata": {},
   "outputs": [],
   "source": [
    "single_ax_bar_chart(stats_df, 'room_name', lambda row: row.difficulty,\n",
    "    title='Difficulty by room', xlabel='Room', figsize=(12, 6),\n",
    "    inner_key_order=DIFFICULTIES, outer_key_order=ROOM_NAMES)\n"
   ]
  },
  {
   "cell_type": "code",
   "execution_count": null,
   "metadata": {},
   "outputs": [],
   "source": [
    "single_ax_bar_chart(stats_df, 'difficulty', lambda row: row.game_type_str,\n",
    "    title='Game types by difficulty', xlabel='Game type', figsize=(12, 6),\n",
    "    outer_key_order=DIFFICULTIES)\n"
   ]
  },
  {
   "cell_type": "code",
   "execution_count": null,
   "metadata": {},
   "outputs": [],
   "source": [
    "stats_df.groupby('game_type_str').raw_game_edited.mean().plot(kind='bar', title='Probability of editing game by game type')"
   ]
  },
  {
   "cell_type": "code",
   "execution_count": null,
   "metadata": {},
   "outputs": [],
   "source": [
    "stats_df.groupby('game_type_str').raw_game_edited.mean().plot(kind='bar', title='Probability of editing game room')"
   ]
  },
  {
   "cell_type": "code",
   "execution_count": null,
   "metadata": {},
   "outputs": [],
   "source": [
    "# we want the outer keys to be the stacked labels colored differently (in this case, the object categories)\n",
    "# and the inner keys to the things that appear on the x axis (in this case, the predicates)\n",
    "\n",
    "\n",
    "def combine_nested_dict_results(df, nested_dict_field):\n",
    "    combined_results = defaultdict(lambda: defaultdict(lambda: 0))\n",
    "    for row_results in df[nested_dict_field]:\n",
    "        for outer_key, inner_results in row_results.items():\n",
    "            _add_new_bar_chart_results(combined_results, inner_results, outer_key)\n",
    "\n",
    "\n",
    "    return combined_results\n",
    "\n",
    "category_to_predicate_results_all_games = combine_nested_dict_results(stats_df, 'category_to_pred_counts')\n",
    "\n",
    "\n",
    "\n",
    "tab10_colormap = plt.cm.get_cmap('tab10')\n",
    "OBJECT_CATEGORY_TO_COLOR = {obj_category: tab10_colormap(i) for i, obj_category in enumerate(CATEGORIES_TO_TYPES)}\n",
    "\n",
    "single_ax_bar_chart_from_results(category_to_predicate_results_all_games, \n",
    "    title='Predicate use by object category', xlabel='Predicate', figsize=(12, 6), \n",
    "    vertical_bar_labels=True, color_dict=OBJECT_CATEGORY_TO_COLOR  \n",
    ")\n"
   ]
  },
  {
   "cell_type": "code",
   "execution_count": null,
   "metadata": {},
   "outputs": [],
   "source": [
    "category_to_predicate_results_throwing = combine_nested_dict_results(stats_df.loc[stats_df.game_type_str == 'throwing', :], 'category_to_pred_counts')\n",
    "\n",
    "\n",
    "single_ax_bar_chart_from_results(category_to_predicate_results_throwing, \n",
    "    title='Predicate use by object category in throwing games', xlabel='Predicate', figsize=(12, 6), \n",
    "    vertical_bar_labels=True, color_dict=OBJECT_CATEGORY_TO_COLOR,\n",
    "    save_path='throwing_only_predicate_use_by_object_category.png'     \n",
    ")"
   ]
  },
  {
   "cell_type": "code",
   "execution_count": null,
   "metadata": {},
   "outputs": [],
   "source": [
    "category_to_predicate_results_building = combine_nested_dict_results(stats_df.loc[stats_df.is_building, :], 'category_to_pred_counts')\n",
    "\n",
    "single_ax_bar_chart_from_results(category_to_predicate_results_building, \n",
    "    title='Predicate use by object category in games involving building', xlabel='Predicate', figsize=(12, 6), \n",
    "    vertical_bar_labels=True, color_dict=OBJECT_CATEGORY_TO_COLOR,\n",
    "    save_path='all_building_predicate_use_by_object_category.png'\n",
    ")"
   ]
  },
  {
   "cell_type": "code",
   "execution_count": null,
   "metadata": {},
   "outputs": [],
   "source": [
    "category_to_predicate_results_throwing = combine_nested_dict_results(stats_df.loc[stats_df.game_type_str == 'building', :], 'category_to_pred_counts')\n",
    "\n",
    "\n",
    "single_ax_bar_chart_from_results(category_to_predicate_results_throwing, \n",
    "    title='Predicate use by object category in building games', xlabel='Predicate', figsize=(12, 6), \n",
    "    vertical_bar_labels=True, color_dict=OBJECT_CATEGORY_TO_COLOR,\n",
    "    save_path='building_only_predicate_use_by_object_category.png'    \n",
    ")"
   ]
  },
  {
   "cell_type": "code",
   "execution_count": null,
   "metadata": {},
   "outputs": [],
   "source": [
    "category_to_predicate_results_organizing = combine_nested_dict_results(stats_df.loc[stats_df.is_organizing, :], 'category_to_pred_counts')\n",
    "\n",
    "single_ax_bar_chart_from_results(category_to_predicate_results_organizing, \n",
    "    title='Predicate use by object category in games involving organizing', xlabel='Predicate', figsize=(12, 6),  \n",
    "    vertical_bar_labels=True, color_dict=OBJECT_CATEGORY_TO_COLOR,\n",
    "    save_path='all_organizing_predicate_use_by_object_category.png'\n",
    ")"
   ]
  },
  {
   "cell_type": "code",
   "execution_count": null,
   "metadata": {},
   "outputs": [],
   "source": [
    "category_to_predicate_results_throwing = combine_nested_dict_results(stats_df.loc[stats_df.game_type_str == 'organizing', :], 'category_to_pred_counts')\n",
    "\n",
    "\n",
    "single_ax_bar_chart_from_results(category_to_predicate_results_throwing, \n",
    "    title='Predicate use by object category in organizing games', xlabel='Predicate', figsize=(12, 6), \n",
    "    vertical_bar_labels=True, color_dict=OBJECT_CATEGORY_TO_COLOR,\n",
    "    save_path='organizing_only_predicate_use_by_object_category.png'\n",
    ")"
   ]
  },
  {
   "cell_type": "markdown",
   "metadata": {},
   "source": [
    "## Context sensitivity analyses"
   ]
  },
  {
   "cell_type": "code",
   "execution_count": null,
   "metadata": {},
   "outputs": [],
   "source": [
    "stats_df.groupby('room_name').num_game_valid_rooms.mean().plot(kind='bar', title='Average number of valid rooms by room')"
   ]
  },
  {
   "cell_type": "code",
   "execution_count": null,
   "metadata": {},
   "outputs": [],
   "source": [
    "room_name_validity_matrix = np.zeros((len(ROOM_NAMES), len(ROOM_NAMES)))\n",
    "for i, room_name in enumerate(ROOM_NAMES):\n",
    "    for j, other_room_name in enumerate(ROOM_NAMES):\n",
    "        room_name_validity_matrix[i, j] = len(stats_df.loc[(stats_df.room_name == room_name) & [other_room_name in rooms for rooms in stats_df.game_valid_rooms]])\n",
    "\n",
    "    room_name_validity_matrix[i, :] /= room_name_validity_matrix[i, i]\n",
    "\n",
    "\n",
    "plt.matshow(room_name_validity_matrix, cmap='coolwarm_r')\n",
    "\n",
    "plt.colorbar()\n",
    "plt.xticks(np.arange(len(ROOM_NAMES)), ROOM_NAMES, rotation='vertical')\n",
    "plt.yticks(np.arange(len(ROOM_NAMES)), ROOM_NAMES)\n",
    "\n",
    "ax = plt.gca()\n",
    "ax.tick_params(axis='both', which='both',length=0)\n",
    "\n",
    "for (i, j), p in np.ndenumerate(room_name_validity_matrix):\n",
    "    ax.text(j, i, '{:0.2f}'.format(p), ha='center', va='center', size=12)\n",
    "\n",
    "plt.xlabel('Room valid in', fontsize=16)\n",
    "plt.ylabel('Room created in', fontsize=16)\n",
    "plt.title('Context Sensitivity', fontsize=20)"
   ]
  },
  {
   "cell_type": "code",
   "execution_count": null,
   "metadata": {},
   "outputs": [],
   "source": [
    "stats_df.groupby('game_type_str').num_game_valid_rooms.mean().plot(kind='bar', title='Average number of valid rooms by game type')"
   ]
  },
  {
   "cell_type": "code",
   "execution_count": null,
   "metadata": {},
   "outputs": [],
   "source": [
    "stats_df.pred_to_type_counts[8]"
   ]
  },
  {
   "cell_type": "code",
   "execution_count": null,
   "metadata": {},
   "outputs": [],
   "source": [
    "stats_df.pred_to_category_counts[8], stats_df.is_building[8]"
   ]
  },
  {
   "cell_type": "markdown",
   "metadata": {},
   "source": [
    "# Between-game-type visualizations\n"
   ]
  },
  {
   "cell_type": "code",
   "execution_count": null,
   "metadata": {},
   "outputs": [],
   "source": [
    "single_ax_histograms(stats_df, 'game_type', lambda row: row.ast_nodes, \n",
    "    title='Total AST nodes by game type', xlabel='Total AST nodes', legend_loc='upper right')"
   ]
  },
  {
   "cell_type": "code",
   "execution_count": null,
   "metadata": {},
   "outputs": [],
   "source": [
    "single_ax_histograms(stats_df, 'game_type', lambda row: row.setup_nodes, \n",
    "    title='Total setup nodes by game type', xlabel='Total setup nodes', legend_loc='upper right')"
   ]
  },
  {
   "cell_type": "code",
   "execution_count": null,
   "metadata": {},
   "outputs": [],
   "source": [
    "single_ax_histograms(stats_df, 'game_type', lambda row: row.max_depth, \n",
    "    title='Max depth by game type', xlabel='Max depth', legend_loc='upper right')"
   ]
  },
  {
   "cell_type": "code",
   "execution_count": null,
   "metadata": {},
   "outputs": [],
   "source": [
    "single_ax_histograms(stats_df, 'game_type', lambda row: row.num_preferences, \n",
    "    title='Number of preferences by game type', xlabel='# of preferences', legend_loc='upper right')"
   ]
  },
  {
   "cell_type": "code",
   "execution_count": null,
   "metadata": {},
   "outputs": [],
   "source": [
    "def extract_num_types_referenced(row):\n",
    "    if isinstance(row.object_types_referenced, dict):\n",
    "        return len(row.object_types_referenced)\n",
    "\n",
    "    return 0\n",
    "\n",
    "\n",
    "single_ax_histograms(stats_df, 'game_type', extract_num_types_referenced, \n",
    "    title='Total number of types referenced by game type', xlabel='# of types', legend_loc='upper right')"
   ]
  },
  {
   "cell_type": "code",
   "execution_count": null,
   "metadata": {},
   "outputs": [],
   "source": [
    "def extract_num_categories_referenced(row):\n",
    "    if isinstance(row.object_categories_referenced, dict):\n",
    "        return len(row.object_categories_referenced)\n",
    "\n",
    "    return 0\n",
    "\n",
    "\n",
    "single_ax_histograms(stats_df, 'game_type', extract_num_categories_referenced, \n",
    "    title='Total number of object categories referenced by game type', xlabel='# of categories', legend_loc='upper right')"
   ]
  },
  {
   "cell_type": "code",
   "execution_count": null,
   "metadata": {},
   "outputs": [],
   "source": [
    "def extract_predicates_referenced(row):\n",
    "    if isinstance(row.predicates_referenced, dict):\n",
    "        return len(row.predicates_referenced)\n",
    "\n",
    "    return 0\n",
    "\n",
    "\n",
    "single_ax_histograms(stats_df, 'game_type', extract_predicates_referenced, \n",
    "    title='Total number of predicates referenced by game type', xlabel='# of predicates', \n",
    "    legend_loc='upper left')"
   ]
  },
  {
   "cell_type": "markdown",
   "metadata": {},
   "source": [
    "In the next two plots, and the two plots that follow, I plot references to types (in the first two) and predicates (in the second two) by game type. The first of each two plots counts individual references to each type (so if a game refers to a type three times, it adds 3), while the second of each two plots counts how many games refer to each type (so hthe same game referring to a type three times will only add 1)."
   ]
  },
  {
   "cell_type": "code",
   "execution_count": null,
   "metadata": {},
   "outputs": [],
   "source": [
    "single_ax_bar_chart(stats_df, 'game_type', lambda row: row.object_types_referenced,\n",
    "    title='Total object type references by game type', xlabel='Object type', figsize=(12, 6))\n"
   ]
  },
  {
   "cell_type": "code",
   "execution_count": null,
   "metadata": {},
   "outputs": [],
   "source": [
    "def dict_keys_to_1(row):\n",
    "    if isinstance(row.object_types_referenced, dict):\n",
    "        return {key: 1 for key in row.object_types_referenced}\n",
    "\n",
    "single_ax_bar_chart(stats_df, 'game_type', dict_keys_to_1,\n",
    "    title='Count of games referring to each object type', xlabel='Object type', figsize=(12, 6))\n"
   ]
  },
  {
   "cell_type": "code",
   "execution_count": null,
   "metadata": {},
   "outputs": [],
   "source": [
    "single_ax_bar_chart(stats_df, 'game_type', lambda row: row.predicates_referenced,\n",
    "    title='Total predicate references by game type', xlabel='Predicate', figsize=(12, 6))\n"
   ]
  },
  {
   "cell_type": "code",
   "execution_count": null,
   "metadata": {},
   "outputs": [],
   "source": [
    "def dict_keys_to_1(row):\n",
    "    if isinstance(row.predicates_referenced, dict):\n",
    "        return {key: 1 for key in row.predicates_referenced}\n",
    "\n",
    "single_ax_bar_chart(stats_df, 'game_type', dict_keys_to_1,\n",
    "    title='Count of games referring to each predicate', xlabel='Predicate', figsize=(12, 6))\n"
   ]
  },
  {
   "cell_type": "markdown",
   "metadata": {},
   "source": [
    "# Throwing game visualizations\n",
    "\n",
    "* The fiirst set of plots visualize coocurrence matrices between different game elmenets. For example:\n",
    "    * Thrown object <> thrown game goal (to get something in, on, to hit another object, etc.)\n",
    "    * Thrown object <> target object coocurrence\n",
    "    * Coocurrences between various types of objects in the thrown game schema (the object thrown to, the object thrown from, objects and predicates, etc.)\n",
    "* **In all of these, I don't currently control for the fact that same objects appear in more of the rooms -- I could count how many games I have in each room, note which objects appear in each room, and account for that in my analysis, right?**\n",
    "* I can also generate analyses for throwing games like the analyses I generated for all games above. I'll generate a few of those plots, to give some examples, below the cocourrence matrices. Some of the things I could plot include:\n",
    "    * Number of preferences?\n",
    "    * Average length/depth of preferences?\n",
    "    * Max depth?\n",
    "    * Total type references\n",
    "    * Number of types referenced\n",
    "    * **Would complexity of the setup be an interesting thing to quantify?**"
   ]
  },
  {
   "cell_type": "code",
   "execution_count": null,
   "metadata": {},
   "outputs": [],
   "source": [
    "throwing_df = stats_df[stats_df.is_throwing == 1]\n",
    "\n",
    "throwing_df.head()"
   ]
  },
  {
   "cell_type": "code",
   "execution_count": null,
   "metadata": {},
   "outputs": [],
   "source": [
    "THROWING_COOCURRENCE_DEFINITIONS = (\n",
    "    CoocurrenceDefinition('objects', 'goal'),\n",
    "    CoocurrenceDefinition('objects', 'goal', use_categories_outer=True),\n",
    "    CoocurrenceDefinition('objects', 'to'),\n",
    "    CoocurrenceDefinition('objects', 'to', use_categories_inner=True),\n",
    "    CoocurrenceDefinition('objects', 'on'),\n",
    "    CoocurrenceDefinition('objects', 'on', use_categories_inner=True),\n",
    "    CoocurrenceDefinition('goal', 'to'),\n",
    "    CoocurrenceDefinition('goal', 'to', use_categories_inner=True),\n",
    "    CoocurrenceDefinition('on', 'to'),\n",
    "    CoocurrenceDefinition('from', 'to', outer_primary_obj_only=False, inner_primary_obj_only=False),\n",
    ")\n",
    "\n",
    "throwing_coocurrences = extract_all_coocurrences(throwing_df, 'throwing', THROWING_COOCURRENCE_DEFINITIONS)\n",
    "\n",
    "throwing_coocurrences.keys()"
   ]
  },
  {
   "cell_type": "code",
   "execution_count": null,
   "metadata": {},
   "outputs": [],
   "source": [
    "plot_coocurrence_data(throwing_coocurrences['objects_cat_goal'], \n",
    "    'Thrown category <> goal cocurrence', 'Goal', 'Thrown Object Category', (8, 8))"
   ]
  },
  {
   "cell_type": "code",
   "execution_count": null,
   "metadata": {},
   "outputs": [],
   "source": [
    "plot_coocurrence_data(throwing_coocurrences['objects_goal'], \n",
    "    'Thrown object <> goal cocurrence', 'Goal', 'Thrown Object', (6, 8))"
   ]
  },
  {
   "cell_type": "code",
   "execution_count": null,
   "metadata": {},
   "outputs": [],
   "source": [
    "plot_coocurrence_data(throwing_coocurrences['objects_to'], \n",
    "    'Thrown object <> target object cocurrence', 'Object', 'Thrown Object', (12, 6), cmap='gist_yarg')"
   ]
  },
  {
   "cell_type": "code",
   "execution_count": null,
   "metadata": {},
   "outputs": [],
   "source": [
    "plot_coocurrence_data(throwing_coocurrences['objects_to_cat'], \n",
    "    'Thrown object <> target object category', 'Object Category', 'Thrown Object', (6, 8))"
   ]
  },
  {
   "cell_type": "code",
   "execution_count": null,
   "metadata": {},
   "outputs": [],
   "source": [
    "plot_coocurrence_data(throwing_coocurrences['goal_to'], \n",
    "    'Goal <> target object cocurrence', 'Target Object', 'Goal', (12, 4), cmap='gist_yarg')"
   ]
  },
  {
   "cell_type": "code",
   "execution_count": null,
   "metadata": {},
   "outputs": [],
   "source": [
    "plot_coocurrence_data(throwing_coocurrences['goal_to_cat'], \n",
    "    'Goal <> target object category', 'Target Object Category', 'Goal', (12, 4), cmap='gist_yarg')"
   ]
  },
  {
   "cell_type": "code",
   "execution_count": null,
   "metadata": {},
   "outputs": [],
   "source": [
    "plot_coocurrence_data(throwing_coocurrences['on_to'], \n",
    "    'On object <> target object cocurrence', 'Target Object', 'On Object', (12, 4), cmap='gist_yarg')"
   ]
  },
  {
   "cell_type": "code",
   "execution_count": null,
   "metadata": {},
   "outputs": [],
   "source": [
    "plot_coocurrence_data(throwing_coocurrences['from_to'], \n",
    "    'From object <> target object cocurrence', 'Target Object', 'From Object', (12, 4), cmap='gist_yarg')"
   ]
  },
  {
   "cell_type": "code",
   "execution_count": null,
   "metadata": {},
   "outputs": [],
   "source": [
    "plot_coocurrence_data(throwing_coocurrences['all_object_predicate'], \n",
    "    'Object <> predicate cocurrence', 'Predicate', 'Object', (12, 8), cmap='gist_yarg')"
   ]
  },
  {
   "cell_type": "code",
   "execution_count": null,
   "metadata": {},
   "outputs": [],
   "source": [
    "plot_coocurrence_data(throwing_coocurrences['all_object_object'], \n",
    "    'Object <> object cocurrence', 'Object', 'Object', (12, 12), cmap='gist_yarg')"
   ]
  },
  {
   "cell_type": "markdown",
   "metadata": {},
   "source": [
    "## Throwing game bar charts"
   ]
  },
  {
   "cell_type": "code",
   "execution_count": null,
   "metadata": {},
   "outputs": [],
   "source": [
    "def dict_keys_to_1(row):\n",
    "    if isinstance(row.object_types_referenced, dict):\n",
    "        return {key: 1 for key in row.object_types_referenced}\n",
    "\n",
    "single_ax_bar_chart(throwing_df, 'throwing_goal', dict_keys_to_1,\n",
    "    title='Count of throwing games referring to each object type', xlabel='Object type', figsize=(12, 6))\n",
    "\n"
   ]
  },
  {
   "cell_type": "code",
   "execution_count": null,
   "metadata": {},
   "outputs": [],
   "source": [
    "def dict_keys_to_1(row):\n",
    "    if isinstance(row.predicates_referenced, dict):\n",
    "        return {key: 1 for key in row.predicates_referenced}\n",
    "\n",
    "single_ax_bar_chart(throwing_df, 'throwing_goal', dict_keys_to_1,\n",
    "    title='Count of throwing games referring to each predicate', xlabel='Object type', figsize=(12, 6))\n",
    "\n"
   ]
  },
  {
   "cell_type": "code",
   "execution_count": null,
   "metadata": {},
   "outputs": [],
   "source": [
    "single_ax_histograms(throwing_df, 'throwing_goal', lambda row: row.num_preferences, \n",
    "    title='Total number of preferneces by throwing game type', xlabel='# of preferences', legend_loc='upper right')"
   ]
  },
  {
   "cell_type": "code",
   "execution_count": null,
   "metadata": {},
   "outputs": [],
   "source": [
    "single_ax_histograms(throwing_df, 'throwing_goal', lambda row: row.setup_nodes, \n",
    "    title='Total setup nodes by throwing game type', xlabel='Total setup nodes', legend_loc='upper right')"
   ]
  },
  {
   "cell_type": "code",
   "execution_count": null,
   "metadata": {},
   "outputs": [],
   "source": [
    "building_df_or_organizing_df = stats_df[np.logical_or(stats_df.is_building == 1, stats_df.is_organizing == 1)]\n",
    "building_df = stats_df[stats_df.is_building == 1]\n",
    "organizing_df = stats_df[stats_df.is_organizing == 1]\n",
    "non_throwing_df = stats_df[stats_df.is_throwing == 0]\n",
    "\n",
    "len(building_df_or_organizing_df), len(building_df), len(organizing_df), len(non_throwing_df)"
   ]
  },
  {
   "cell_type": "markdown",
   "metadata": {},
   "source": [
    "## Non-throwing game statistics\n",
    "\n",
    "See the above cell -- we have a total of 9 games that don't involve any throwing, or alternatively, a total of 13 games that involve either building or organizing. \n",
    "\n",
    "**Is this enough to separately extract statistics over? Or too little? If yes, anything specific we want to see?**"
   ]
  },
  {
   "cell_type": "code",
   "execution_count": null,
   "metadata": {},
   "outputs": [],
   "source": [
    "stats_df.room.value_counts()"
   ]
  },
  {
   "cell_type": "code",
   "execution_count": null,
   "metadata": {},
   "outputs": [],
   "source": [
    "stats_df.sort_values('ast_nodes').loc[:, ['game_name', 'ast_nodes', 'game_type']]"
   ]
  },
  {
   "cell_type": "code",
   "execution_count": null,
   "metadata": {},
   "outputs": [],
   "source": [
    "sorted_df = stats_df.sort_values('ast_nodes')\n",
    "sorted_df.loc[sorted_df.is_building == 1, ['game_name', 'ast_nodes', 'game_type']]"
   ]
  },
  {
   "cell_type": "code",
   "execution_count": null,
   "metadata": {},
   "outputs": [],
   "source": [
    "sorted_df = stats_df.sort_values('ast_nodes')\n",
    "sorted_df.loc[(sorted_df.is_throwing == 1) & (sorted_df.setup_nodes > 0), ['game_name', 'ast_nodes', 'game_type']]"
   ]
  },
  {
   "cell_type": "code",
   "execution_count": null,
   "metadata": {},
   "outputs": [],
   "source": [
    "sorted_df = stats_df.sort_values('ast_nodes')\n",
    "sorted_df.loc[sorted_df.is_throwing == 1, ['game_name', 'room_name', 'ast_nodes', 'game_type']]"
   ]
  },
  {
   "cell_type": "code",
   "execution_count": null,
   "metadata": {},
   "outputs": [],
   "source": [
    "stats_df.object_types_referenced"
   ]
  },
  {
   "cell_type": "code",
   "execution_count": null,
   "metadata": {},
   "outputs": [],
   "source": [
    "repeated_structures_df.head()"
   ]
  },
  {
   "cell_type": "code",
   "execution_count": null,
   "metadata": {},
   "outputs": [],
   "source": [
    "plt.figure(figsize=(12, 4))\n",
    "ax = plt.gca()\n",
    "repeated_structures_df.hist(column='count', ax=ax, grid=False, by='structure_start', layout=(1, 3))\n",
    "# plt.suptitle('Repeated structure count')"
   ]
  },
  {
   "cell_type": "code",
   "execution_count": null,
   "metadata": {},
   "outputs": [],
   "source": [
    "from scipy.cluster.hierarchy import dendrogram, linkage\n",
    "from scipy.spatial.distance import squareform\n",
    "\n",
    "def edit_distance_matrix(structure_df):\n",
    "    distances = np.zeros((len(structure_df), len(structure_df)))\n",
    "    for i, structure in enumerate(structure_df.structure):\n",
    "        for j, other_structure in enumerate(structure_df.structure):\n",
    "            distances[i, j] = editdistance.eval(structure, other_structure)\n",
    "\n",
    "    return distances\n",
    "\n",
    "\n",
    "def edit_distance_and_dendrogram(structure_df):\n",
    "    distances = edit_distance_matrix(repeated_structures_df)\n",
    "    plt.figure(figsize=(8, 8))\n",
    "    plt.imshow(distances, cmap='coolwarm', interpolation='nearest')\n",
    "    plt.colorbar()\n",
    "    plt.show()\n",
    "\n",
    "    square_distances = squareform(distances)\n",
    "    linkage_matrix = linkage(square_distances, \"single\")\n",
    "\n",
    "    plt.figure(figsize=(12, 8))\n",
    "    dendrogram(linkage_matrix)\n",
    "    plt.show()\n",
    "\n",
    "edit_distance_and_dendrogram(repeated_structures_df)"
   ]
  },
  {
   "cell_type": "code",
   "execution_count": null,
   "metadata": {},
   "outputs": [],
   "source": [
    "repeated_structures_df.sort_values('count', ascending=False).head(10)"
   ]
  },
  {
   "cell_type": "code",
   "execution_count": null,
   "metadata": {},
   "outputs": [],
   "source": [
    "repeated_structures_df[repeated_structures_df.structure_start != 'hold-while' ]['count'].sum()"
   ]
  },
  {
   "cell_type": "code",
   "execution_count": null,
   "metadata": {},
   "outputs": [],
   "source": [
    "repeated_structures_df[(repeated_structures_df.structure_start != 'hold-while') & (repeated_structures_df['count'] == 2)].shape"
   ]
  },
  {
   "cell_type": "code",
   "execution_count": null,
   "metadata": {},
   "outputs": [],
   "source": [
    "148 / 260"
   ]
  }
 ],
 "metadata": {
  "interpreter": {
   "hash": "c7f8e00f851a7185e5345342178c14041451eaa6562c62790473e641b6de40ed"
  },
  "kernelspec": {
   "display_name": "Python 3.8.5 64-bit ('torch': conda)",
   "name": "python3"
  },
  "language_info": {
   "codemirror_mode": {
    "name": "ipython",
    "version": 3
   },
   "file_extension": ".py",
   "mimetype": "text/x-python",
   "name": "python",
   "nbconvert_exporter": "python",
   "pygments_lexer": "ipython3",
   "version": "3.8.12"
  },
  "orig_nbformat": 2
 },
 "nbformat": 4,
 "nbformat_minor": 2
}
