{
 "cells": [
  {
   "cell_type": "code",
   "execution_count": 1,
   "metadata": {},
   "outputs": [],
   "source": [
    "import pandas as pd\n",
    "import matplotlib.pyplot as plt\n",
    "import numpy as np\n",
    "from scipy import stats\n",
    "import json\n",
    "from collections import defaultdict, Counter\n",
    "from itertools import combinations\n",
    "from tabulate import tabulate\n"
   ]
  },
  {
   "cell_type": "code",
   "execution_count": 2,
   "metadata": {},
   "outputs": [],
   "source": [
    "stats_df = pd.read_csv('../data/dsl_statistics_interactive.csv', index_col='Index')\n",
    "manual_df = pd.read_csv('../data/manual_dsl_statistics.csv')\n",
    "\n",
    "stats_df = stats_df.merge(manual_df, on='game_name')"
   ]
  },
  {
   "cell_type": "code",
   "execution_count": 3,
   "metadata": {},
   "outputs": [
    {
     "data": {
      "text/html": [
       "<div>\n",
       "<style scoped>\n",
       "    .dataframe tbody tr th:only-of-type {\n",
       "        vertical-align: middle;\n",
       "    }\n",
       "\n",
       "    .dataframe tbody tr th {\n",
       "        vertical-align: top;\n",
       "    }\n",
       "\n",
       "    .dataframe thead th {\n",
       "        text-align: right;\n",
       "    }\n",
       "</style>\n",
       "<table border=\"1\" class=\"dataframe\">\n",
       "  <thead>\n",
       "    <tr style=\"text-align: right;\">\n",
       "      <th></th>\n",
       "      <th>src_file</th>\n",
       "      <th>game_name</th>\n",
       "      <th>domain_name</th>\n",
       "      <th>length_of_then</th>\n",
       "      <th>num_preferences</th>\n",
       "      <th>setup_objects_quantified</th>\n",
       "      <th>preference_objects_quantified</th>\n",
       "      <th>terminal_exists</th>\n",
       "      <th>object_types_referenced</th>\n",
       "      <th>predicates_referenced</th>\n",
       "      <th>max_depth</th>\n",
       "      <th>ast_nodes</th>\n",
       "      <th>setup_nodes</th>\n",
       "      <th>type_to_pred_counts</th>\n",
       "      <th>is_throwing</th>\n",
       "      <th>is_construction</th>\n",
       "      <th>difficulty</th>\n",
       "      <th>first_time_points</th>\n",
       "    </tr>\n",
       "  </thead>\n",
       "  <tbody>\n",
       "    <tr>\n",
       "      <th>0</th>\n",
       "      <td>interactive-beta.pddl</td>\n",
       "      <td>6172feb1665491d1efbce164</td>\n",
       "      <td>medium-objects-room-v1</td>\n",
       "      <td>[3, 2]</td>\n",
       "      <td>2</td>\n",
       "      <td>[2]</td>\n",
       "      <td>[3, 1]</td>\n",
       "      <td>True</td>\n",
       "      <td>{'hexagonal_bin': 3, 'triangular_ramp': 2, 'ba...</td>\n",
       "      <td>{'agent_holds': 3, 'in_motion': 2, 'touch': 2,...</td>\n",
       "      <td>6</td>\n",
       "      <td>47</td>\n",
       "      <td>8.0</td>\n",
       "      <td>{'ball': {'agent_holds': 2, 'in_motion': 2, 't...</td>\n",
       "      <td>1</td>\n",
       "      <td>0</td>\n",
       "      <td>1</td>\n",
       "      <td>6.0</td>\n",
       "    </tr>\n",
       "    <tr>\n",
       "      <th>1</th>\n",
       "      <td>interactive-beta.pddl</td>\n",
       "      <td>5f77754ba932fb2c4ba181d8</td>\n",
       "      <td>many-objects-room-v1</td>\n",
       "      <td>[3, 3]</td>\n",
       "      <td>2</td>\n",
       "      <td>NaN</td>\n",
       "      <td>[2, 1]</td>\n",
       "      <td>True</td>\n",
       "      <td>{'top_drawer': 3, 'dodgeball': 3, 'golfball': ...</td>\n",
       "      <td>{'open': 1, 'agent_holds': 4, 'adjacent': 1, '...</td>\n",
       "      <td>6</td>\n",
       "      <td>65</td>\n",
       "      <td>3.0</td>\n",
       "      <td>{'top_drawer': {'open': 1, 'in': 1}, 'dodgebal...</td>\n",
       "      <td>1</td>\n",
       "      <td>0</td>\n",
       "      <td>1</td>\n",
       "      <td>10.0</td>\n",
       "    </tr>\n",
       "    <tr>\n",
       "      <th>2</th>\n",
       "      <td>interactive-beta.pddl</td>\n",
       "      <td>614b603d4da88384282967a7</td>\n",
       "      <td>many-objects-room-v1</td>\n",
       "      <td>NaN</td>\n",
       "      <td>1</td>\n",
       "      <td>NaN</td>\n",
       "      <td>[1, 1]</td>\n",
       "      <td>NaN</td>\n",
       "      <td>{'building': 1, 'block': 1}</td>\n",
       "      <td>{'in': 1}</td>\n",
       "      <td>4</td>\n",
       "      <td>12</td>\n",
       "      <td>NaN</td>\n",
       "      <td>{'building': {'in': 1}, 'block': {'in': 1}}</td>\n",
       "      <td>0</td>\n",
       "      <td>1</td>\n",
       "      <td>3</td>\n",
       "      <td>6.0</td>\n",
       "    </tr>\n",
       "    <tr>\n",
       "      <th>3</th>\n",
       "      <td>interactive-beta.pddl</td>\n",
       "      <td>5bc79f652885710001a0e82a</td>\n",
       "      <td>few-objects-room-v1</td>\n",
       "      <td>[3]</td>\n",
       "      <td>1</td>\n",
       "      <td>NaN</td>\n",
       "      <td>[2]</td>\n",
       "      <td>NaN</td>\n",
       "      <td>{'dodgeball': 1, 'hexagonal_bin': 1}</td>\n",
       "      <td>{'agent_holds': 2, 'in_motion': 2, 'in': 1}</td>\n",
       "      <td>6</td>\n",
       "      <td>23</td>\n",
       "      <td>NaN</td>\n",
       "      <td>{'dodgeball': {'agent_holds': 2, 'in_motion': ...</td>\n",
       "      <td>1</td>\n",
       "      <td>0</td>\n",
       "      <td>1</td>\n",
       "      <td>1.0</td>\n",
       "    </tr>\n",
       "    <tr>\n",
       "      <th>4</th>\n",
       "      <td>interactive-beta.pddl</td>\n",
       "      <td>614dec67f6eb129c3a77defd</td>\n",
       "      <td>medium-objects-room-v1</td>\n",
       "      <td>[3, 3]</td>\n",
       "      <td>2</td>\n",
       "      <td>[1, 1]</td>\n",
       "      <td>[1, 1, 2]</td>\n",
       "      <td>NaN</td>\n",
       "      <td>{'hexagonal_bin': 3, 'bed': 2, 'teddy_bear': 1...</td>\n",
       "      <td>{'adjacent': 3, 'on': 1, 'agent_holds': 4, 'in...</td>\n",
       "      <td>7</td>\n",
       "      <td>73</td>\n",
       "      <td>13.0</td>\n",
       "      <td>{'hexagonal_bin': {'adjacent': 1, 'in': 2}, 'b...</td>\n",
       "      <td>1</td>\n",
       "      <td>0</td>\n",
       "      <td>1</td>\n",
       "      <td>30.0</td>\n",
       "    </tr>\n",
       "  </tbody>\n",
       "</table>\n",
       "</div>"
      ],
      "text/plain": [
       "                src_file                 game_name             domain_name  \\\n",
       "0  interactive-beta.pddl  6172feb1665491d1efbce164  medium-objects-room-v1   \n",
       "1  interactive-beta.pddl  5f77754ba932fb2c4ba181d8    many-objects-room-v1   \n",
       "2  interactive-beta.pddl  614b603d4da88384282967a7    many-objects-room-v1   \n",
       "3  interactive-beta.pddl  5bc79f652885710001a0e82a     few-objects-room-v1   \n",
       "4  interactive-beta.pddl  614dec67f6eb129c3a77defd  medium-objects-room-v1   \n",
       "\n",
       "  length_of_then  num_preferences setup_objects_quantified  \\\n",
       "0         [3, 2]                2                      [2]   \n",
       "1         [3, 3]                2                      NaN   \n",
       "2            NaN                1                      NaN   \n",
       "3            [3]                1                      NaN   \n",
       "4         [3, 3]                2                   [1, 1]   \n",
       "\n",
       "  preference_objects_quantified terminal_exists  \\\n",
       "0                        [3, 1]            True   \n",
       "1                        [2, 1]            True   \n",
       "2                        [1, 1]             NaN   \n",
       "3                           [2]             NaN   \n",
       "4                     [1, 1, 2]             NaN   \n",
       "\n",
       "                             object_types_referenced  \\\n",
       "0  {'hexagonal_bin': 3, 'triangular_ramp': 2, 'ba...   \n",
       "1  {'top_drawer': 3, 'dodgeball': 3, 'golfball': ...   \n",
       "2                        {'building': 1, 'block': 1}   \n",
       "3               {'dodgeball': 1, 'hexagonal_bin': 1}   \n",
       "4  {'hexagonal_bin': 3, 'bed': 2, 'teddy_bear': 1...   \n",
       "\n",
       "                               predicates_referenced  max_depth  ast_nodes  \\\n",
       "0  {'agent_holds': 3, 'in_motion': 2, 'touch': 2,...          6         47   \n",
       "1  {'open': 1, 'agent_holds': 4, 'adjacent': 1, '...          6         65   \n",
       "2                                          {'in': 1}          4         12   \n",
       "3        {'agent_holds': 2, 'in_motion': 2, 'in': 1}          6         23   \n",
       "4  {'adjacent': 3, 'on': 1, 'agent_holds': 4, 'in...          7         73   \n",
       "\n",
       "   setup_nodes                                type_to_pred_counts  \\\n",
       "0          8.0  {'ball': {'agent_holds': 2, 'in_motion': 2, 't...   \n",
       "1          3.0  {'top_drawer': {'open': 1, 'in': 1}, 'dodgebal...   \n",
       "2          NaN        {'building': {'in': 1}, 'block': {'in': 1}}   \n",
       "3          NaN  {'dodgeball': {'agent_holds': 2, 'in_motion': ...   \n",
       "4         13.0  {'hexagonal_bin': {'adjacent': 1, 'in': 2}, 'b...   \n",
       "\n",
       "   is_throwing  is_construction  difficulty  first_time_points  \n",
       "0            1                0           1                6.0  \n",
       "1            1                0           1               10.0  \n",
       "2            0                1           3                6.0  \n",
       "3            1                0           1                1.0  \n",
       "4            1                0           1               30.0  "
      ]
     },
     "execution_count": 3,
     "metadata": {},
     "output_type": "execute_result"
    }
   ],
   "source": [
    "stats_df.head()"
   ]
  },
  {
   "cell_type": "code",
   "execution_count": 4,
   "metadata": {},
   "outputs": [],
   "source": [
    "stats_df.loc[stats_df.terminal_exists.isna(), 'terminal_exists'] = False\n",
    "\n",
    "room = np.zeros((len(stats_df),), dtype=int)\n",
    "room[['medium' in d for d in stats_df.domain_name]] = 1\n",
    "room[['many' in d for d in stats_df.domain_name]] = 2\n",
    "\n",
    "room_name = ['Few'] * len(stats_df)\n",
    "stats_df = stats_df.assign(room=room, room_name=room_name)\n",
    "\n",
    "stats_df.loc[['medium' in d for d in stats_df.domain_name], 'room_name'] = 'Medium'\n",
    "stats_df.loc[['many' in d for d in stats_df.domain_name], 'room_name'] = 'Many'\n",
    "\n",
    "stats_df.src_file = stats_df.src_file.apply(lambda s: s.replace('problems-', '').replace('.pddl', ''))\n",
    "room[['interactive' in s for s in stats_df.src_file]] = 3\n",
    "stats_df = stats_df.assign(src=room)\n",
    "\n",
    "def average_list_series(df, name):\n",
    "    avg = np.empty_like(df[name])\n",
    "    avg[:] = np.NaN\n",
    "    for i, entry in df[name].items():\n",
    "        if isinstance(entry, str):\n",
    "            avg[i] = np.fromstring(entry[1:-1], sep=',', dtype=int).mean()\n",
    "\n",
    "    return df.assign(**{f'average_{name}': avg})\n",
    "\n",
    "stats_df = average_list_series(stats_df, 'length_of_then')\n",
    "stats_df = average_list_series(stats_df, 'setup_objects_quantified')\n",
    "stats_df = average_list_series(stats_df, 'preference_objects_quantified')"
   ]
  },
  {
   "cell_type": "code",
   "execution_count": 5,
   "metadata": {},
   "outputs": [],
   "source": [
    "REORDERED_COLUMNS = ['src', 'src_file', 'game_name', 'domain_name', 'room', 'room_name',\n",
    "    'num_preferences',\n",
    "    'length_of_then', 'average_length_of_then',\n",
    "    'setup_objects_quantified', 'average_setup_objects_quantified',\n",
    "    'preference_objects_quantified', 'average_preference_objects_quantified',\n",
    "    'terminal_exists', 'object_types_quantified', 'is_throwing',\n",
    "    'is_construction', 'difficulty', 'first_time_points', 'max_depth', 'ast_nodes',\n",
    "]\n",
    "stats_df = stats_df.reindex(columns=REORDERED_COLUMNS)"
   ]
  },
  {
   "cell_type": "code",
   "execution_count": 6,
   "metadata": {},
   "outputs": [],
   "source": [
    "DIFFICULTIES = ('Very Easy', 'Easy', 'Medium', 'Hard', 'Very Hard')\n",
    "ROOM_NAMES = ('Few', 'Medium', 'Many')"
   ]
  },
  {
   "cell_type": "code",
   "execution_count": 7,
   "metadata": {},
   "outputs": [
    {
     "data": {
      "text/html": [
       "<div>\n",
       "<style scoped>\n",
       "    .dataframe tbody tr th:only-of-type {\n",
       "        vertical-align: middle;\n",
       "    }\n",
       "\n",
       "    .dataframe tbody tr th {\n",
       "        vertical-align: top;\n",
       "    }\n",
       "\n",
       "    .dataframe thead th {\n",
       "        text-align: right;\n",
       "    }\n",
       "</style>\n",
       "<table border=\"1\" class=\"dataframe\">\n",
       "  <thead>\n",
       "    <tr style=\"text-align: right;\">\n",
       "      <th></th>\n",
       "      <th>src</th>\n",
       "      <th>src_file</th>\n",
       "      <th>game_name</th>\n",
       "      <th>domain_name</th>\n",
       "      <th>room</th>\n",
       "      <th>room_name</th>\n",
       "      <th>num_preferences</th>\n",
       "      <th>length_of_then</th>\n",
       "      <th>average_length_of_then</th>\n",
       "      <th>setup_objects_quantified</th>\n",
       "      <th>...</th>\n",
       "      <th>preference_objects_quantified</th>\n",
       "      <th>average_preference_objects_quantified</th>\n",
       "      <th>terminal_exists</th>\n",
       "      <th>object_types_quantified</th>\n",
       "      <th>is_throwing</th>\n",
       "      <th>is_construction</th>\n",
       "      <th>difficulty</th>\n",
       "      <th>first_time_points</th>\n",
       "      <th>max_depth</th>\n",
       "      <th>ast_nodes</th>\n",
       "    </tr>\n",
       "  </thead>\n",
       "  <tbody>\n",
       "    <tr>\n",
       "      <th>0</th>\n",
       "      <td>3</td>\n",
       "      <td>interactive-beta</td>\n",
       "      <td>6172feb1665491d1efbce164</td>\n",
       "      <td>medium-objects-room-v1</td>\n",
       "      <td>1</td>\n",
       "      <td>Medium</td>\n",
       "      <td>2</td>\n",
       "      <td>[3, 2]</td>\n",
       "      <td>2.5</td>\n",
       "      <td>[2]</td>\n",
       "      <td>...</td>\n",
       "      <td>[3, 1]</td>\n",
       "      <td>2.0</td>\n",
       "      <td>True</td>\n",
       "      <td>NaN</td>\n",
       "      <td>1</td>\n",
       "      <td>0</td>\n",
       "      <td>1</td>\n",
       "      <td>6.0</td>\n",
       "      <td>6</td>\n",
       "      <td>47</td>\n",
       "    </tr>\n",
       "    <tr>\n",
       "      <th>1</th>\n",
       "      <td>3</td>\n",
       "      <td>interactive-beta</td>\n",
       "      <td>5f77754ba932fb2c4ba181d8</td>\n",
       "      <td>many-objects-room-v1</td>\n",
       "      <td>2</td>\n",
       "      <td>Many</td>\n",
       "      <td>2</td>\n",
       "      <td>[3, 3]</td>\n",
       "      <td>3.0</td>\n",
       "      <td>NaN</td>\n",
       "      <td>...</td>\n",
       "      <td>[2, 1]</td>\n",
       "      <td>1.5</td>\n",
       "      <td>True</td>\n",
       "      <td>NaN</td>\n",
       "      <td>1</td>\n",
       "      <td>0</td>\n",
       "      <td>1</td>\n",
       "      <td>10.0</td>\n",
       "      <td>6</td>\n",
       "      <td>65</td>\n",
       "    </tr>\n",
       "    <tr>\n",
       "      <th>2</th>\n",
       "      <td>3</td>\n",
       "      <td>interactive-beta</td>\n",
       "      <td>614b603d4da88384282967a7</td>\n",
       "      <td>many-objects-room-v1</td>\n",
       "      <td>2</td>\n",
       "      <td>Many</td>\n",
       "      <td>1</td>\n",
       "      <td>NaN</td>\n",
       "      <td>NaN</td>\n",
       "      <td>NaN</td>\n",
       "      <td>...</td>\n",
       "      <td>[1, 1]</td>\n",
       "      <td>1.0</td>\n",
       "      <td>False</td>\n",
       "      <td>NaN</td>\n",
       "      <td>0</td>\n",
       "      <td>1</td>\n",
       "      <td>3</td>\n",
       "      <td>6.0</td>\n",
       "      <td>4</td>\n",
       "      <td>12</td>\n",
       "    </tr>\n",
       "    <tr>\n",
       "      <th>3</th>\n",
       "      <td>3</td>\n",
       "      <td>interactive-beta</td>\n",
       "      <td>5bc79f652885710001a0e82a</td>\n",
       "      <td>few-objects-room-v1</td>\n",
       "      <td>0</td>\n",
       "      <td>Few</td>\n",
       "      <td>1</td>\n",
       "      <td>[3]</td>\n",
       "      <td>3.0</td>\n",
       "      <td>NaN</td>\n",
       "      <td>...</td>\n",
       "      <td>[2]</td>\n",
       "      <td>2.0</td>\n",
       "      <td>False</td>\n",
       "      <td>NaN</td>\n",
       "      <td>1</td>\n",
       "      <td>0</td>\n",
       "      <td>1</td>\n",
       "      <td>1.0</td>\n",
       "      <td>6</td>\n",
       "      <td>23</td>\n",
       "    </tr>\n",
       "    <tr>\n",
       "      <th>4</th>\n",
       "      <td>3</td>\n",
       "      <td>interactive-beta</td>\n",
       "      <td>614dec67f6eb129c3a77defd</td>\n",
       "      <td>medium-objects-room-v1</td>\n",
       "      <td>1</td>\n",
       "      <td>Medium</td>\n",
       "      <td>2</td>\n",
       "      <td>[3, 3]</td>\n",
       "      <td>3.0</td>\n",
       "      <td>[1, 1]</td>\n",
       "      <td>...</td>\n",
       "      <td>[1, 1, 2]</td>\n",
       "      <td>1.333333</td>\n",
       "      <td>False</td>\n",
       "      <td>NaN</td>\n",
       "      <td>1</td>\n",
       "      <td>0</td>\n",
       "      <td>1</td>\n",
       "      <td>30.0</td>\n",
       "      <td>7</td>\n",
       "      <td>73</td>\n",
       "    </tr>\n",
       "  </tbody>\n",
       "</table>\n",
       "<p>5 rows × 21 columns</p>\n",
       "</div>"
      ],
      "text/plain": [
       "   src          src_file                 game_name             domain_name  \\\n",
       "0    3  interactive-beta  6172feb1665491d1efbce164  medium-objects-room-v1   \n",
       "1    3  interactive-beta  5f77754ba932fb2c4ba181d8    many-objects-room-v1   \n",
       "2    3  interactive-beta  614b603d4da88384282967a7    many-objects-room-v1   \n",
       "3    3  interactive-beta  5bc79f652885710001a0e82a     few-objects-room-v1   \n",
       "4    3  interactive-beta  614dec67f6eb129c3a77defd  medium-objects-room-v1   \n",
       "\n",
       "   room room_name  num_preferences length_of_then average_length_of_then  \\\n",
       "0     1    Medium                2         [3, 2]                    2.5   \n",
       "1     2      Many                2         [3, 3]                    3.0   \n",
       "2     2      Many                1            NaN                    NaN   \n",
       "3     0       Few                1            [3]                    3.0   \n",
       "4     1    Medium                2         [3, 3]                    3.0   \n",
       "\n",
       "  setup_objects_quantified  ... preference_objects_quantified  \\\n",
       "0                      [2]  ...                        [3, 1]   \n",
       "1                      NaN  ...                        [2, 1]   \n",
       "2                      NaN  ...                        [1, 1]   \n",
       "3                      NaN  ...                           [2]   \n",
       "4                   [1, 1]  ...                     [1, 1, 2]   \n",
       "\n",
       "  average_preference_objects_quantified terminal_exists  \\\n",
       "0                                   2.0            True   \n",
       "1                                   1.5            True   \n",
       "2                                   1.0           False   \n",
       "3                                   2.0           False   \n",
       "4                              1.333333           False   \n",
       "\n",
       "  object_types_quantified  is_throwing  is_construction  difficulty  \\\n",
       "0                     NaN            1                0           1   \n",
       "1                     NaN            1                0           1   \n",
       "2                     NaN            0                1           3   \n",
       "3                     NaN            1                0           1   \n",
       "4                     NaN            1                0           1   \n",
       "\n",
       "   first_time_points  max_depth  ast_nodes  \n",
       "0                6.0          6         47  \n",
       "1               10.0          6         65  \n",
       "2                6.0          4         12  \n",
       "3                1.0          6         23  \n",
       "4               30.0          7         73  \n",
       "\n",
       "[5 rows x 21 columns]"
      ]
     },
     "execution_count": 7,
     "metadata": {},
     "output_type": "execute_result"
    }
   ],
   "source": [
    "stats_df.head()"
   ]
  },
  {
   "cell_type": "markdown",
   "metadata": {},
   "source": [
    "# Readme:\n",
    "* `game_name`: room-\\[row number in my spreadsheet\\].\n",
    "* `domain_name`: the room identifier as it's iun the games (domain is a PDDL thing)\n",
    "* `length_of_then`: average length of all `then` clauses in this game.\n",
    "* `num_preferences`: how many preferences I used to represent the game.\n",
    "* `setup/preference_objects_quantified`: average number of objects quantified over in quantifiers (`exists`/`forall`) in the game representation, split by which section of the game it's in.\n",
    "* `terminal_exists`: whether the game uses a `terminal` clause.\n",
    "* `object_types_quantified`: how many times each object type was quantified in each game, combined between the setup and preferences. \n",
    "* `is_throwing/construction`: a manual labeling I provided by reviewing the game. Most games are either, some are both, some are neither. I decided that construction games are only those involving construction in the actual gameplay (\"build a tower to max height\"), and not those where there's some element of construction in the setup (\"stack blocks and then throw a ball to knock them over\"). We could discuss/change this classification.\n",
    "* `difficuly/first_time_points`: data we collected from the participants about their games. The `DIFFICULTIES` variables above decodes, but 1 is \"very easy\", 5 is \"very hard\", and the rest follow.\n",
    "* `max_depth`: what's the deepest the game's AST goes\n",
    "* `ast_nodes`: how many total nodes of type AST (so not strings, lists, etc.) exist in the AST.\n",
    "* `room/room_name`: simplifications of the room designation from the game/domain names to ease working with the data.\n",
    "* `src/src_file`: which file the data came from (survey by specific room or interactive beta)\n",
    "\n",
    "## Participant rating vs. ther difficulty listed"
   ]
  },
  {
   "cell_type": "code",
   "execution_count": 8,
   "metadata": {},
   "outputs": [
    {
     "data": {
      "image/png": "[encoded data removed]",
      "text/plain": [
       "<Figure size 640x480 with 1 Axes>"
      ]
     },
     "metadata": {},
     "output_type": "display_data"
    }
   ],
   "source": [
    "ax = stats_df.plot(x='first_time_points', y='difficulty', kind='scatter', c='src', colormap='Dark2', colorbar=False, logx='sym', yticks=np.arange(1, 6))\n",
    "ax.set_yticklabels(DIFFICULTIES)\n",
    "plt.show()"
   ]
  },
  {
   "cell_type": "markdown",
   "metadata": {},
   "source": [
    "## Total nodes by type"
   ]
  },
  {
   "cell_type": "code",
   "execution_count": 9,
   "metadata": {},
   "outputs": [
    {
     "data": {
      "text/plain": [
       "<AxesSubplot: title={'center': 'AST Nodes'}, ylabel='Frequency'>"
      ]
     },
     "execution_count": 9,
     "metadata": {},
     "output_type": "execute_result"
    },
    {
     "data": {
      "image/png": "[encoded data removed]",
      "text/plain": [
       "<Figure size 640x480 with 1 Axes>"
      ]
     },
     "metadata": {},
     "output_type": "display_data"
    }
   ],
   "source": [
    "stats_df.pivot(columns='src_file').ast_nodes.plot(kind='hist', stacked=True, title='AST Nodes')"
   ]
  },
  {
   "cell_type": "markdown",
   "metadata": {},
   "source": [
    "## Max Depth by type"
   ]
  },
  {
   "cell_type": "code",
   "execution_count": 10,
   "metadata": {},
   "outputs": [
    {
     "data": {
      "text/plain": [
       "<AxesSubplot: title={'center': 'Max Depth'}, ylabel='Frequency'>"
      ]
     },
     "execution_count": 10,
     "metadata": {},
     "output_type": "execute_result"
    },
    {
     "data": {
      "image/png": "[encoded data removed]",
      "text/plain": [
       "<Figure size 640x480 with 1 Axes>"
      ]
     },
     "metadata": {},
     "output_type": "display_data"
    }
   ],
   "source": [
    "stats_df.pivot(columns='src_file').max_depth.plot(kind='hist', stacked=True, title='Max Depth')"
   ]
  },
  {
   "cell_type": "markdown",
   "metadata": {},
   "source": [
    "## Number of preferences histogram by room type"
   ]
  },
  {
   "cell_type": "code",
   "execution_count": 11,
   "metadata": {},
   "outputs": [
    {
     "data": {
      "text/plain": [
       "<AxesSubplot: title={'center': 'Number of Preferences'}, ylabel='Frequency'>"
      ]
     },
     "execution_count": 11,
     "metadata": {},
     "output_type": "execute_result"
    },
    {
     "data": {
      "image/png": "[encoded data removed]",
      "text/plain": [
       "<Figure size 640x480 with 1 Axes>"
      ]
     },
     "metadata": {},
     "output_type": "display_data"
    }
   ],
   "source": [
    "stats_df.pivot(columns='src_file').num_preferences.plot(kind='hist', stacked=True, title='Number of Preferences')"
   ]
  },
  {
   "cell_type": "markdown",
   "metadata": {},
   "source": [
    "## Average number of objects quantified in the setup/preferences"
   ]
  },
  {
   "cell_type": "code",
   "execution_count": 12,
   "metadata": {},
   "outputs": [],
   "source": [
    "def data_from_list_strings(df, name):\n",
    "    data = [[] for _ in range(len(df.src.unique()))]\n",
    "    for _, (entry, src_num) in stats_df.loc[:, (name, 'src')].iterrows():\n",
    "        if isinstance(entry, str):\n",
    "            data[src_num].extend(np.fromstring(entry[1:-1], sep=',', dtype=np.int))\n",
    "\n",
    "    return data\n",
    "\n",
    "def stacked_bar_chart_from_lists(df, name):\n",
    "    fig, ax = plt.subplots(figsize=(8, 6))\n",
    "    data = data_from_list_strings(df, name)\n",
    "    counters = [Counter(d) for d in data]\n",
    "\n",
    "    x_min = min([min(c.keys()) for c in counters])\n",
    "    x_max = max([max(c.keys()) for c in counters])\n",
    "    start = Counter({x:0 for x in range(x_min, x_max + 1)})\n",
    "\n",
    "    for i, counter in enumerate(counters):\n",
    "        x_locs = list(sorted(counter.keys()))\n",
    "        data = [counter[x] for x in x_locs]\n",
    "        ax.bar(x_locs, data, bottom=[start[x] for x in x_locs], label=stats_df.src_file.unique()[i])\n",
    "        start += counter\n",
    "    \n",
    "    ax.set_xlabel(name)\n",
    "    ax.set_ylabel('Count')\n",
    "    plt.legend(loc='upper right')\n",
    "    ticks = np.arange(x_min, x_max + 2)\n",
    "    ax.set_xticks(ticks)\n",
    "    ax.set_title(name.replace('_', ' ').title())\n",
    "\n",
    "    plt.show()\n",
    "\n"
   ]
  },
  {
   "cell_type": "code",
   "execution_count": 13,
   "metadata": {},
   "outputs": [
    {
     "ename": "IndexError",
     "evalue": "list index out of range",
     "output_type": "error",
     "traceback": [
      "\u001b[0;31m---------------------------------------------------------------------------\u001b[0m",
      "\u001b[0;31mIndexError\u001b[0m                                Traceback (most recent call last)",
      "\u001b[1;32m/Users/guydavidson/projects/game-generation-modeling/notebooks/dsl_statistics_analysis.ipynb Cell 18\u001b[0m line \u001b[0;36m1\n\u001b[0;32m----> <a href='vscode-notebook-cell:/Users/guydavidson/projects/game-generation-modeling/notebooks/dsl_statistics_analysis.ipynb#X23sZmlsZQ%3D%3D?line=0'>1</a>\u001b[0m stacked_bar_chart_from_lists(stats_df, \u001b[39m'\u001b[39;49m\u001b[39msetup_objects_quantified\u001b[39;49m\u001b[39m'\u001b[39;49m)\n",
      "\u001b[1;32m/Users/guydavidson/projects/game-generation-modeling/notebooks/dsl_statistics_analysis.ipynb Cell 18\u001b[0m line \u001b[0;36m1\n\u001b[1;32m      <a href='vscode-notebook-cell:/Users/guydavidson/projects/game-generation-modeling/notebooks/dsl_statistics_analysis.ipynb#X23sZmlsZQ%3D%3D?line=8'>9</a>\u001b[0m \u001b[39mdef\u001b[39;00m \u001b[39mstacked_bar_chart_from_lists\u001b[39m(df, name):\n\u001b[1;32m     <a href='vscode-notebook-cell:/Users/guydavidson/projects/game-generation-modeling/notebooks/dsl_statistics_analysis.ipynb#X23sZmlsZQ%3D%3D?line=9'>10</a>\u001b[0m     fig, ax \u001b[39m=\u001b[39m plt\u001b[39m.\u001b[39msubplots(figsize\u001b[39m=\u001b[39m(\u001b[39m8\u001b[39m, \u001b[39m6\u001b[39m))\n\u001b[0;32m---> <a href='vscode-notebook-cell:/Users/guydavidson/projects/game-generation-modeling/notebooks/dsl_statistics_analysis.ipynb#X23sZmlsZQ%3D%3D?line=10'>11</a>\u001b[0m     data \u001b[39m=\u001b[39m data_from_list_strings(df, name)\n\u001b[1;32m     <a href='vscode-notebook-cell:/Users/guydavidson/projects/game-generation-modeling/notebooks/dsl_statistics_analysis.ipynb#X23sZmlsZQ%3D%3D?line=11'>12</a>\u001b[0m     counters \u001b[39m=\u001b[39m [Counter(d) \u001b[39mfor\u001b[39;00m d \u001b[39min\u001b[39;00m data]\n\u001b[1;32m     <a href='vscode-notebook-cell:/Users/guydavidson/projects/game-generation-modeling/notebooks/dsl_statistics_analysis.ipynb#X23sZmlsZQ%3D%3D?line=13'>14</a>\u001b[0m     x_min \u001b[39m=\u001b[39m \u001b[39mmin\u001b[39m([\u001b[39mmin\u001b[39m(c\u001b[39m.\u001b[39mkeys()) \u001b[39mfor\u001b[39;00m c \u001b[39min\u001b[39;00m counters])\n",
      "\u001b[1;32m/Users/guydavidson/projects/game-generation-modeling/notebooks/dsl_statistics_analysis.ipynb Cell 18\u001b[0m line \u001b[0;36m5\n\u001b[1;32m      <a href='vscode-notebook-cell:/Users/guydavidson/projects/game-generation-modeling/notebooks/dsl_statistics_analysis.ipynb#X23sZmlsZQ%3D%3D?line=2'>3</a>\u001b[0m \u001b[39mfor\u001b[39;00m _, (entry, src_num) \u001b[39min\u001b[39;00m stats_df\u001b[39m.\u001b[39mloc[:, (name, \u001b[39m'\u001b[39m\u001b[39msrc\u001b[39m\u001b[39m'\u001b[39m)]\u001b[39m.\u001b[39miterrows():\n\u001b[1;32m      <a href='vscode-notebook-cell:/Users/guydavidson/projects/game-generation-modeling/notebooks/dsl_statistics_analysis.ipynb#X23sZmlsZQ%3D%3D?line=3'>4</a>\u001b[0m     \u001b[39mif\u001b[39;00m \u001b[39misinstance\u001b[39m(entry, \u001b[39mstr\u001b[39m):\n\u001b[0;32m----> <a href='vscode-notebook-cell:/Users/guydavidson/projects/game-generation-modeling/notebooks/dsl_statistics_analysis.ipynb#X23sZmlsZQ%3D%3D?line=4'>5</a>\u001b[0m         data[src_num]\u001b[39m.\u001b[39mextend(np\u001b[39m.\u001b[39mfromstring(entry[\u001b[39m1\u001b[39m:\u001b[39m-\u001b[39m\u001b[39m1\u001b[39m], sep\u001b[39m=\u001b[39m\u001b[39m'\u001b[39m\u001b[39m,\u001b[39m\u001b[39m'\u001b[39m, dtype\u001b[39m=\u001b[39mnp\u001b[39m.\u001b[39mint))\n\u001b[1;32m      <a href='vscode-notebook-cell:/Users/guydavidson/projects/game-generation-modeling/notebooks/dsl_statistics_analysis.ipynb#X23sZmlsZQ%3D%3D?line=6'>7</a>\u001b[0m \u001b[39mreturn\u001b[39;00m data\n",
      "\u001b[0;31mIndexError\u001b[0m: list index out of range"
     ]
    },
    {
     "data": {
      "image/png": "[encoded data removed]",
      "text/plain": [
       "<Figure size 800x600 with 1 Axes>"
      ]
     },
     "metadata": {},
     "output_type": "display_data"
    }
   ],
   "source": [
    "stacked_bar_chart_from_lists(stats_df, 'setup_objects_quantified')"
   ]
  },
  {
   "cell_type": "code",
   "execution_count": 14,
   "metadata": {},
   "outputs": [
    {
     "ename": "IndexError",
     "evalue": "list index out of range",
     "output_type": "error",
     "traceback": [
      "\u001b[0;31m---------------------------------------------------------------------------\u001b[0m",
      "\u001b[0;31mIndexError\u001b[0m                                Traceback (most recent call last)",
      "\u001b[1;32m/Users/guydavidson/projects/game-generation-modeling/notebooks/dsl_statistics_analysis.ipynb Cell 19\u001b[0m line \u001b[0;36m1\n\u001b[0;32m----> <a href='vscode-notebook-cell:/Users/guydavidson/projects/game-generation-modeling/notebooks/dsl_statistics_analysis.ipynb#X24sZmlsZQ%3D%3D?line=0'>1</a>\u001b[0m stacked_bar_chart_from_lists(stats_df, \u001b[39m'\u001b[39;49m\u001b[39mpreference_objects_quantified\u001b[39;49m\u001b[39m'\u001b[39;49m)\n",
      "\u001b[1;32m/Users/guydavidson/projects/game-generation-modeling/notebooks/dsl_statistics_analysis.ipynb Cell 19\u001b[0m line \u001b[0;36m1\n\u001b[1;32m      <a href='vscode-notebook-cell:/Users/guydavidson/projects/game-generation-modeling/notebooks/dsl_statistics_analysis.ipynb#X24sZmlsZQ%3D%3D?line=8'>9</a>\u001b[0m \u001b[39mdef\u001b[39;00m \u001b[39mstacked_bar_chart_from_lists\u001b[39m(df, name):\n\u001b[1;32m     <a href='vscode-notebook-cell:/Users/guydavidson/projects/game-generation-modeling/notebooks/dsl_statistics_analysis.ipynb#X24sZmlsZQ%3D%3D?line=9'>10</a>\u001b[0m     fig, ax \u001b[39m=\u001b[39m plt\u001b[39m.\u001b[39msubplots(figsize\u001b[39m=\u001b[39m(\u001b[39m8\u001b[39m, \u001b[39m6\u001b[39m))\n\u001b[0;32m---> <a href='vscode-notebook-cell:/Users/guydavidson/projects/game-generation-modeling/notebooks/dsl_statistics_analysis.ipynb#X24sZmlsZQ%3D%3D?line=10'>11</a>\u001b[0m     data \u001b[39m=\u001b[39m data_from_list_strings(df, name)\n\u001b[1;32m     <a href='vscode-notebook-cell:/Users/guydavidson/projects/game-generation-modeling/notebooks/dsl_statistics_analysis.ipynb#X24sZmlsZQ%3D%3D?line=11'>12</a>\u001b[0m     counters \u001b[39m=\u001b[39m [Counter(d) \u001b[39mfor\u001b[39;00m d \u001b[39min\u001b[39;00m data]\n\u001b[1;32m     <a href='vscode-notebook-cell:/Users/guydavidson/projects/game-generation-modeling/notebooks/dsl_statistics_analysis.ipynb#X24sZmlsZQ%3D%3D?line=13'>14</a>\u001b[0m     x_min \u001b[39m=\u001b[39m \u001b[39mmin\u001b[39m([\u001b[39mmin\u001b[39m(c\u001b[39m.\u001b[39mkeys()) \u001b[39mfor\u001b[39;00m c \u001b[39min\u001b[39;00m counters])\n",
      "\u001b[1;32m/Users/guydavidson/projects/game-generation-modeling/notebooks/dsl_statistics_analysis.ipynb Cell 19\u001b[0m line \u001b[0;36m5\n\u001b[1;32m      <a href='vscode-notebook-cell:/Users/guydavidson/projects/game-generation-modeling/notebooks/dsl_statistics_analysis.ipynb#X24sZmlsZQ%3D%3D?line=2'>3</a>\u001b[0m \u001b[39mfor\u001b[39;00m _, (entry, src_num) \u001b[39min\u001b[39;00m stats_df\u001b[39m.\u001b[39mloc[:, (name, \u001b[39m'\u001b[39m\u001b[39msrc\u001b[39m\u001b[39m'\u001b[39m)]\u001b[39m.\u001b[39miterrows():\n\u001b[1;32m      <a href='vscode-notebook-cell:/Users/guydavidson/projects/game-generation-modeling/notebooks/dsl_statistics_analysis.ipynb#X24sZmlsZQ%3D%3D?line=3'>4</a>\u001b[0m     \u001b[39mif\u001b[39;00m \u001b[39misinstance\u001b[39m(entry, \u001b[39mstr\u001b[39m):\n\u001b[0;32m----> <a href='vscode-notebook-cell:/Users/guydavidson/projects/game-generation-modeling/notebooks/dsl_statistics_analysis.ipynb#X24sZmlsZQ%3D%3D?line=4'>5</a>\u001b[0m         data[src_num]\u001b[39m.\u001b[39mextend(np\u001b[39m.\u001b[39mfromstring(entry[\u001b[39m1\u001b[39m:\u001b[39m-\u001b[39m\u001b[39m1\u001b[39m], sep\u001b[39m=\u001b[39m\u001b[39m'\u001b[39m\u001b[39m,\u001b[39m\u001b[39m'\u001b[39m, dtype\u001b[39m=\u001b[39mnp\u001b[39m.\u001b[39mint))\n\u001b[1;32m      <a href='vscode-notebook-cell:/Users/guydavidson/projects/game-generation-modeling/notebooks/dsl_statistics_analysis.ipynb#X24sZmlsZQ%3D%3D?line=6'>7</a>\u001b[0m \u001b[39mreturn\u001b[39;00m data\n",
      "\u001b[0;31mIndexError\u001b[0m: list index out of range"
     ]
    },
    {
     "data": {
      "image/png": "[encoded data removed]",
      "text/plain": [
       "<Figure size 800x600 with 1 Axes>"
      ]
     },
     "metadata": {},
     "output_type": "display_data"
    }
   ],
   "source": [
    "stacked_bar_chart_from_lists(stats_df, 'preference_objects_quantified')"
   ]
  },
  {
   "cell_type": "markdown",
   "metadata": {},
   "source": [
    "## Average length of 'then' clauses"
   ]
  },
  {
   "cell_type": "code",
   "execution_count": 15,
   "metadata": {},
   "outputs": [
    {
     "ename": "IndexError",
     "evalue": "list index out of range",
     "output_type": "error",
     "traceback": [
      "\u001b[0;31m---------------------------------------------------------------------------\u001b[0m",
      "\u001b[0;31mIndexError\u001b[0m                                Traceback (most recent call last)",
      "\u001b[1;32m/Users/guydavidson/projects/game-generation-modeling/notebooks/dsl_statistics_analysis.ipynb Cell 21\u001b[0m line \u001b[0;36m1\n\u001b[0;32m----> <a href='vscode-notebook-cell:/Users/guydavidson/projects/game-generation-modeling/notebooks/dsl_statistics_analysis.ipynb#X26sZmlsZQ%3D%3D?line=0'>1</a>\u001b[0m stacked_bar_chart_from_lists(stats_df, \u001b[39m'\u001b[39;49m\u001b[39mlength_of_then\u001b[39;49m\u001b[39m'\u001b[39;49m)\n",
      "\u001b[1;32m/Users/guydavidson/projects/game-generation-modeling/notebooks/dsl_statistics_analysis.ipynb Cell 21\u001b[0m line \u001b[0;36m1\n\u001b[1;32m      <a href='vscode-notebook-cell:/Users/guydavidson/projects/game-generation-modeling/notebooks/dsl_statistics_analysis.ipynb#X26sZmlsZQ%3D%3D?line=8'>9</a>\u001b[0m \u001b[39mdef\u001b[39;00m \u001b[39mstacked_bar_chart_from_lists\u001b[39m(df, name):\n\u001b[1;32m     <a href='vscode-notebook-cell:/Users/guydavidson/projects/game-generation-modeling/notebooks/dsl_statistics_analysis.ipynb#X26sZmlsZQ%3D%3D?line=9'>10</a>\u001b[0m     fig, ax \u001b[39m=\u001b[39m plt\u001b[39m.\u001b[39msubplots(figsize\u001b[39m=\u001b[39m(\u001b[39m8\u001b[39m, \u001b[39m6\u001b[39m))\n\u001b[0;32m---> <a href='vscode-notebook-cell:/Users/guydavidson/projects/game-generation-modeling/notebooks/dsl_statistics_analysis.ipynb#X26sZmlsZQ%3D%3D?line=10'>11</a>\u001b[0m     data \u001b[39m=\u001b[39m data_from_list_strings(df, name)\n\u001b[1;32m     <a href='vscode-notebook-cell:/Users/guydavidson/projects/game-generation-modeling/notebooks/dsl_statistics_analysis.ipynb#X26sZmlsZQ%3D%3D?line=11'>12</a>\u001b[0m     counters \u001b[39m=\u001b[39m [Counter(d) \u001b[39mfor\u001b[39;00m d \u001b[39min\u001b[39;00m data]\n\u001b[1;32m     <a href='vscode-notebook-cell:/Users/guydavidson/projects/game-generation-modeling/notebooks/dsl_statistics_analysis.ipynb#X26sZmlsZQ%3D%3D?line=13'>14</a>\u001b[0m     x_min \u001b[39m=\u001b[39m \u001b[39mmin\u001b[39m([\u001b[39mmin\u001b[39m(c\u001b[39m.\u001b[39mkeys()) \u001b[39mfor\u001b[39;00m c \u001b[39min\u001b[39;00m counters])\n",
      "\u001b[1;32m/Users/guydavidson/projects/game-generation-modeling/notebooks/dsl_statistics_analysis.ipynb Cell 21\u001b[0m line \u001b[0;36m5\n\u001b[1;32m      <a href='vscode-notebook-cell:/Users/guydavidson/projects/game-generation-modeling/notebooks/dsl_statistics_analysis.ipynb#X26sZmlsZQ%3D%3D?line=2'>3</a>\u001b[0m \u001b[39mfor\u001b[39;00m _, (entry, src_num) \u001b[39min\u001b[39;00m stats_df\u001b[39m.\u001b[39mloc[:, (name, \u001b[39m'\u001b[39m\u001b[39msrc\u001b[39m\u001b[39m'\u001b[39m)]\u001b[39m.\u001b[39miterrows():\n\u001b[1;32m      <a href='vscode-notebook-cell:/Users/guydavidson/projects/game-generation-modeling/notebooks/dsl_statistics_analysis.ipynb#X26sZmlsZQ%3D%3D?line=3'>4</a>\u001b[0m     \u001b[39mif\u001b[39;00m \u001b[39misinstance\u001b[39m(entry, \u001b[39mstr\u001b[39m):\n\u001b[0;32m----> <a href='vscode-notebook-cell:/Users/guydavidson/projects/game-generation-modeling/notebooks/dsl_statistics_analysis.ipynb#X26sZmlsZQ%3D%3D?line=4'>5</a>\u001b[0m         data[src_num]\u001b[39m.\u001b[39mextend(np\u001b[39m.\u001b[39mfromstring(entry[\u001b[39m1\u001b[39m:\u001b[39m-\u001b[39m\u001b[39m1\u001b[39m], sep\u001b[39m=\u001b[39m\u001b[39m'\u001b[39m\u001b[39m,\u001b[39m\u001b[39m'\u001b[39m, dtype\u001b[39m=\u001b[39mnp\u001b[39m.\u001b[39mint))\n\u001b[1;32m      <a href='vscode-notebook-cell:/Users/guydavidson/projects/game-generation-modeling/notebooks/dsl_statistics_analysis.ipynb#X26sZmlsZQ%3D%3D?line=6'>7</a>\u001b[0m \u001b[39mreturn\u001b[39;00m data\n",
      "\u001b[0;31mIndexError\u001b[0m: list index out of range"
     ]
    },
    {
     "data": {
      "image/png": "[encoded data removed]",
      "text/plain": [
       "<Figure size 800x600 with 1 Axes>"
      ]
     },
     "metadata": {},
     "output_type": "display_data"
    }
   ],
   "source": [
    "stacked_bar_chart_from_lists(stats_df, 'length_of_then')"
   ]
  },
  {
   "cell_type": "markdown",
   "metadata": {},
   "source": [
    "\n",
    "## Parsing the types/counts of objects quantified"
   ]
  },
  {
   "cell_type": "code",
   "execution_count": 16,
   "metadata": {},
   "outputs": [
    {
     "ename": "AttributeError",
     "evalue": "'float' object has no attribute 'replace'",
     "output_type": "error",
     "traceback": [
      "\u001b[0;31m---------------------------------------------------------------------------\u001b[0m",
      "\u001b[0;31mAttributeError\u001b[0m                            Traceback (most recent call last)",
      "\u001b[1;32m/Users/guydavidson/projects/game-generation-modeling/notebooks/dsl_statistics_analysis.ipynb Cell 23\u001b[0m line \u001b[0;36m6\n\u001b[1;32m      <a href='vscode-notebook-cell:/Users/guydavidson/projects/game-generation-modeling/notebooks/dsl_statistics_analysis.ipynb#X31sZmlsZQ%3D%3D?line=1'>2</a>\u001b[0m coocurrence_results \u001b[39m=\u001b[39m defaultdict(\u001b[39mlambda\u001b[39;00m: defaultdict(\u001b[39mlambda\u001b[39;00m: \u001b[39m0\u001b[39m))\n\u001b[1;32m      <a href='vscode-notebook-cell:/Users/guydavidson/projects/game-generation-modeling/notebooks/dsl_statistics_analysis.ipynb#X31sZmlsZQ%3D%3D?line=4'>5</a>\u001b[0m \u001b[39mfor\u001b[39;00m i, (object_types, src_name) \u001b[39min\u001b[39;00m stats_df\u001b[39m.\u001b[39mloc[:, (\u001b[39m'\u001b[39m\u001b[39mobject_types_quantified\u001b[39m\u001b[39m'\u001b[39m, \u001b[39m'\u001b[39m\u001b[39msrc_file\u001b[39m\u001b[39m'\u001b[39m)]\u001b[39m.\u001b[39miterrows():\n\u001b[0;32m----> <a href='vscode-notebook-cell:/Users/guydavidson/projects/game-generation-modeling/notebooks/dsl_statistics_analysis.ipynb#X31sZmlsZQ%3D%3D?line=5'>6</a>\u001b[0m     object_types \u001b[39m=\u001b[39m json\u001b[39m.\u001b[39mloads(object_types\u001b[39m.\u001b[39;49mreplace(\u001b[39m\"\u001b[39m\u001b[39m'\u001b[39m\u001b[39m\"\u001b[39m, \u001b[39m'\u001b[39m\u001b[39m\"\u001b[39m\u001b[39m'\u001b[39m))\n\u001b[1;32m      <a href='vscode-notebook-cell:/Users/guydavidson/projects/game-generation-modeling/notebooks/dsl_statistics_analysis.ipynb#X31sZmlsZQ%3D%3D?line=6'>7</a>\u001b[0m     \u001b[39mfor\u001b[39;00m obj_type, count \u001b[39min\u001b[39;00m object_types\u001b[39m.\u001b[39mitems():\n\u001b[1;32m      <a href='vscode-notebook-cell:/Users/guydavidson/projects/game-generation-modeling/notebooks/dsl_statistics_analysis.ipynb#X31sZmlsZQ%3D%3D?line=7'>8</a>\u001b[0m         results[obj_type][src_name][\u001b[39m'\u001b[39m\u001b[39mgames\u001b[39m\u001b[39m'\u001b[39m] \u001b[39m+\u001b[39m\u001b[39m=\u001b[39m \u001b[39m1\u001b[39m\n",
      "\u001b[0;31mAttributeError\u001b[0m: 'float' object has no attribute 'replace'"
     ]
    }
   ],
   "source": [
    "results = defaultdict(lambda: defaultdict(lambda: defaultdict(lambda: 0)))\n",
    "coocurrence_results = defaultdict(lambda: defaultdict(lambda: 0))\n",
    "\n",
    "\n",
    "for i, (object_types, src_name) in stats_df.loc[:, ('object_types_quantified', 'src_file')].iterrows():\n",
    "    object_types = json.loads(object_types.replace(\"'\", '\"'))\n",
    "    for obj_type, count in object_types.items():\n",
    "        results[obj_type][src_name]['games'] += 1\n",
    "        results[obj_type][src_name]['references'] += count\n",
    "\n",
    "    types = list(object_types.keys())\n",
    "    for first_type, second_type in combinations(types, 2):\n",
    "        coocurrence_results[first_type][second_type] += 1\n",
    "        coocurrence_results[second_type][first_type] += 1\n",
    "\n",
    "result_rows = []\n",
    "for obj_type, obj_results in results.items():\n",
    "    for src_name, src_results in obj_results.items():\n",
    "        result_rows.append((obj_type, src_name, src_results['games'], src_results['references']))\n",
    "\n",
    "object_counts_df = pd.DataFrame.from_records(result_rows, \n",
    "    columns=('object_type', 'src_file', 'games', 'references'))\n",
    "\n",
    "\n",
    "all_object_types = object_counts_df.object_type.unique()\n",
    "n_object_types = len(all_object_types)\n",
    "object_type_cocurrence = np.zeros((n_object_types, n_object_types), dtype=np.int)\n",
    "object_type_to_id = {obj_type:i for i, obj_type in enumerate(all_object_types)}\n",
    "\n",
    "for first_obj_type, first_obj_results in coocurrence_results.items():\n",
    "    for second_obj_type, count in first_obj_results.items():\n",
    "        object_type_cocurrence[object_type_to_id[first_obj_type]][object_type_to_id[second_obj_type]] = count\n",
    "\n",
    "\n",
    "object_src_counts = object_counts_df.groupby('object_type').src_file.count()\n",
    "\n",
    "object_counts_df.head()"
   ]
  },
  {
   "cell_type": "markdown",
   "metadata": {},
   "source": [
    "# Readme\n",
    "* `object_type`: the type of the object\n",
    "* `src_file`: as above, the name of the source file (room survet or interactive) by the number of items\n",
    "* `games`: how many games (for this room) refer to this object at least once, as part of quantifiers (`exists`/`forall`).\n",
    "* `references`: how many total references appear to this object type in quantifiers in games of this type. \n",
    "* **Important**: I realize now that this undercounts -- since it only looks in references, and doesn't look in places where we directly refer to a non-quantified object (such as the desk or bed). I should think about how to fix that."
   ]
  },
  {
   "cell_type": "code",
   "execution_count": 17,
   "metadata": {},
   "outputs": [
    {
     "ename": "NameError",
     "evalue": "name 'object_counts_df' is not defined",
     "output_type": "error",
     "traceback": [
      "\u001b[0;31m---------------------------------------------------------------------------\u001b[0m",
      "\u001b[0;31mNameError\u001b[0m                                 Traceback (most recent call last)",
      "\u001b[1;32m/Users/guydavidson/projects/game-generation-modeling/notebooks/dsl_statistics_analysis.ipynb Cell 25\u001b[0m line \u001b[0;36m5\n\u001b[1;32m      <a href='vscode-notebook-cell:/Users/guydavidson/projects/game-generation-modeling/notebooks/dsl_statistics_analysis.ipynb#X33sZmlsZQ%3D%3D?line=0'>1</a>\u001b[0m fig, ax \u001b[39m=\u001b[39m plt\u001b[39m.\u001b[39msubplots(figsize\u001b[39m=\u001b[39m(\u001b[39m8\u001b[39m, \u001b[39m8\u001b[39m))\n\u001b[1;32m      <a href='vscode-notebook-cell:/Users/guydavidson/projects/game-generation-modeling/notebooks/dsl_statistics_analysis.ipynb#X33sZmlsZQ%3D%3D?line=2'>3</a>\u001b[0m cumulative_start \u001b[39m=\u001b[39m defaultdict(\u001b[39mlambda\u001b[39;00m: \u001b[39m0\u001b[39m)\n\u001b[0;32m----> <a href='vscode-notebook-cell:/Users/guydavidson/projects/game-generation-modeling/notebooks/dsl_statistics_analysis.ipynb#X33sZmlsZQ%3D%3D?line=4'>5</a>\u001b[0m \u001b[39mfor\u001b[39;00m src_file \u001b[39min\u001b[39;00m object_counts_df\u001b[39m.\u001b[39msrc_file\u001b[39m.\u001b[39munique():\n\u001b[1;32m      <a href='vscode-notebook-cell:/Users/guydavidson/projects/game-generation-modeling/notebooks/dsl_statistics_analysis.ipynb#X33sZmlsZQ%3D%3D?line=5'>6</a>\u001b[0m     src_data \u001b[39m=\u001b[39m object_counts_df\u001b[39m.\u001b[39mloc[object_counts_df\u001b[39m.\u001b[39msrc_file \u001b[39m==\u001b[39m src_file, (\u001b[39m'\u001b[39m\u001b[39mobject_type\u001b[39m\u001b[39m'\u001b[39m, \u001b[39m'\u001b[39m\u001b[39mgames\u001b[39m\u001b[39m'\u001b[39m)]\n\u001b[1;32m      <a href='vscode-notebook-cell:/Users/guydavidson/projects/game-generation-modeling/notebooks/dsl_statistics_analysis.ipynb#X33sZmlsZQ%3D%3D?line=6'>7</a>\u001b[0m     current_start \u001b[39m=\u001b[39m [cumulative_start[obj] \u001b[39mfor\u001b[39;00m obj \u001b[39min\u001b[39;00m src_data\u001b[39m.\u001b[39mobject_type]\n",
      "\u001b[0;31mNameError\u001b[0m: name 'object_counts_df' is not defined"
     ]
    },
    {
     "data": {
      "image/png": "[encoded data removed]",
      "text/plain": [
       "<Figure size 800x800 with 1 Axes>"
      ]
     },
     "metadata": {},
     "output_type": "display_data"
    }
   ],
   "source": [
    "fig, ax = plt.subplots(figsize=(8, 8))\n",
    "\n",
    "cumulative_start = defaultdict(lambda: 0)\n",
    "\n",
    "for src_file in object_counts_df.src_file.unique():\n",
    "    src_data = object_counts_df.loc[object_counts_df.src_file == src_file, ('object_type', 'games')]\n",
    "    current_start = [cumulative_start[obj] for obj in src_data.object_type]\n",
    "    ax.barh(src_data.object_type, src_data.games, left=current_start, label=src_file)\n",
    "\n",
    "    for i, (obj, count) in src_data.iterrows():\n",
    "        cumulative_start[obj] += count\n",
    "\n",
    "ax.set_xlabel('Count of games referring to the object')\n",
    "ax.set_ylabel('Object')\n",
    "plt.show()"
   ]
  },
  {
   "cell_type": "markdown",
   "metadata": {},
   "source": [
    "## Would the above be more interesting as...?**\n",
    "* Fraction of the games that referred to the item?\n",
    "    * ... from the games that could (that is, from the ones that had the type of object in the room)\n",
    "* Counting the total quantifications, instead of only the number of games that refer to a particular type?\n",
    "    * Graph with the total quantifications below:\n",
    "* Makes some sort of aggregation? Balls, blocks, etc.?\n",
    "* Separated between setup and preferences?\n",
    "* **Important**: I realize now that this undercounts -- since it only looks in references, and doesn't look in places where we directly refer to a non-quantified object (such as the desk or bed). I should think about how to fix that.\n"
   ]
  },
  {
   "cell_type": "code",
   "execution_count": 18,
   "metadata": {},
   "outputs": [
    {
     "ename": "NameError",
     "evalue": "name 'object_counts_df' is not defined",
     "output_type": "error",
     "traceback": [
      "\u001b[0;31m---------------------------------------------------------------------------\u001b[0m",
      "\u001b[0;31mNameError\u001b[0m                                 Traceback (most recent call last)",
      "\u001b[1;32m/Users/guydavidson/projects/game-generation-modeling/notebooks/dsl_statistics_analysis.ipynb Cell 27\u001b[0m line \u001b[0;36m5\n\u001b[1;32m      <a href='vscode-notebook-cell:/Users/guydavidson/projects/game-generation-modeling/notebooks/dsl_statistics_analysis.ipynb#X35sZmlsZQ%3D%3D?line=0'>1</a>\u001b[0m fig, ax \u001b[39m=\u001b[39m plt\u001b[39m.\u001b[39msubplots(figsize\u001b[39m=\u001b[39m(\u001b[39m8\u001b[39m, \u001b[39m8\u001b[39m))\n\u001b[1;32m      <a href='vscode-notebook-cell:/Users/guydavidson/projects/game-generation-modeling/notebooks/dsl_statistics_analysis.ipynb#X35sZmlsZQ%3D%3D?line=2'>3</a>\u001b[0m cumulative_start \u001b[39m=\u001b[39m defaultdict(\u001b[39mlambda\u001b[39;00m: \u001b[39m0\u001b[39m)\n\u001b[0;32m----> <a href='vscode-notebook-cell:/Users/guydavidson/projects/game-generation-modeling/notebooks/dsl_statistics_analysis.ipynb#X35sZmlsZQ%3D%3D?line=4'>5</a>\u001b[0m \u001b[39mfor\u001b[39;00m src_name \u001b[39min\u001b[39;00m object_counts_df\u001b[39m.\u001b[39msrc_file\u001b[39m.\u001b[39munique():\n\u001b[1;32m      <a href='vscode-notebook-cell:/Users/guydavidson/projects/game-generation-modeling/notebooks/dsl_statistics_analysis.ipynb#X35sZmlsZQ%3D%3D?line=5'>6</a>\u001b[0m     src_data \u001b[39m=\u001b[39m object_counts_df\u001b[39m.\u001b[39mloc[object_counts_df\u001b[39m.\u001b[39msrc_file \u001b[39m==\u001b[39m src_file, (\u001b[39m'\u001b[39m\u001b[39mobject_type\u001b[39m\u001b[39m'\u001b[39m, \u001b[39m'\u001b[39m\u001b[39mreferences\u001b[39m\u001b[39m'\u001b[39m)]\n\u001b[1;32m      <a href='vscode-notebook-cell:/Users/guydavidson/projects/game-generation-modeling/notebooks/dsl_statistics_analysis.ipynb#X35sZmlsZQ%3D%3D?line=6'>7</a>\u001b[0m     current_start \u001b[39m=\u001b[39m [cumulative_start[obj] \u001b[39mfor\u001b[39;00m obj \u001b[39min\u001b[39;00m src_data\u001b[39m.\u001b[39mobject_type]\n",
      "\u001b[0;31mNameError\u001b[0m: name 'object_counts_df' is not defined"
     ]
    },
    {
     "data": {
      "image/png": "[encoded data removed]",
      "text/plain": [
       "<Figure size 800x800 with 1 Axes>"
      ]
     },
     "metadata": {},
     "output_type": "display_data"
    }
   ],
   "source": [
    "fig, ax = plt.subplots(figsize=(8, 8))\n",
    "\n",
    "cumulative_start = defaultdict(lambda: 0)\n",
    "\n",
    "for src_name in object_counts_df.src_file.unique():\n",
    "    src_data = object_counts_df.loc[object_counts_df.src_file == src_file, ('object_type', 'references')]\n",
    "    current_start = [cumulative_start[obj] for obj in src_data.object_type]\n",
    "    ax.barh(src_data.object_type, src_data.references, left=current_start, label=src_name)\n",
    "\n",
    "    for i, (obj, count) in src_data.iterrows():\n",
    "        cumulative_start[obj] += count\n",
    "\n",
    "ax.set_xlabel('Count of total quantified references to the object')\n",
    "ax.set_ylabel('Object')\n",
    "plt.show()"
   ]
  },
  {
   "cell_type": "markdown",
   "metadata": {},
   "source": [
    "## Co-ocurrence between different objects (within a game)\n",
    "\n",
    "* Would this be more interesting as within a particular quantification (exists/forall)? \n",
    "* Or split by setup and preferences?"
   ]
  },
  {
   "cell_type": "code",
   "execution_count": 19,
   "metadata": {},
   "outputs": [
    {
     "ename": "NameError",
     "evalue": "name 'object_type_cocurrence' is not defined",
     "output_type": "error",
     "traceback": [
      "\u001b[0;31m---------------------------------------------------------------------------\u001b[0m",
      "\u001b[0;31mNameError\u001b[0m                                 Traceback (most recent call last)",
      "\u001b[1;32m/Users/guydavidson/projects/game-generation-modeling/notebooks/dsl_statistics_analysis.ipynb Cell 29\u001b[0m line \u001b[0;36m3\n\u001b[1;32m      <a href='vscode-notebook-cell:/Users/guydavidson/projects/game-generation-modeling/notebooks/dsl_statistics_analysis.ipynb#X40sZmlsZQ%3D%3D?line=0'>1</a>\u001b[0m fig \u001b[39m=\u001b[39m plt\u001b[39m.\u001b[39mfigure(figsize\u001b[39m=\u001b[39m(\u001b[39m12\u001b[39m,\u001b[39m12\u001b[39m))\n\u001b[1;32m      <a href='vscode-notebook-cell:/Users/guydavidson/projects/game-generation-modeling/notebooks/dsl_statistics_analysis.ipynb#X40sZmlsZQ%3D%3D?line=1'>2</a>\u001b[0m ax \u001b[39m=\u001b[39m fig\u001b[39m.\u001b[39mgca()\n\u001b[0;32m----> <a href='vscode-notebook-cell:/Users/guydavidson/projects/game-generation-modeling/notebooks/dsl_statistics_analysis.ipynb#X40sZmlsZQ%3D%3D?line=2'>3</a>\u001b[0m plt\u001b[39m.\u001b[39mimshow(object_type_cocurrence)\n\u001b[1;32m      <a href='vscode-notebook-cell:/Users/guydavidson/projects/game-generation-modeling/notebooks/dsl_statistics_analysis.ipynb#X40sZmlsZQ%3D%3D?line=3'>4</a>\u001b[0m plt\u001b[39m.\u001b[39mxticks(np\u001b[39m.\u001b[39marange(n_object_types), all_object_types, rotation\u001b[39m=\u001b[39m\u001b[39m'\u001b[39m\u001b[39mvertical\u001b[39m\u001b[39m'\u001b[39m)\n\u001b[1;32m      <a href='vscode-notebook-cell:/Users/guydavidson/projects/game-generation-modeling/notebooks/dsl_statistics_analysis.ipynb#X40sZmlsZQ%3D%3D?line=4'>5</a>\u001b[0m ax\u001b[39m.\u001b[39mxaxis\u001b[39m.\u001b[39mset_ticks_position(\u001b[39m'\u001b[39m\u001b[39mtop\u001b[39m\u001b[39m'\u001b[39m)\n",
      "\u001b[0;31mNameError\u001b[0m: name 'object_type_cocurrence' is not defined"
     ]
    },
    {
     "data": {
      "image/png": "[encoded data removed]",
      "text/plain": [
       "<Figure size 1200x1200 with 1 Axes>"
      ]
     },
     "metadata": {},
     "output_type": "display_data"
    }
   ],
   "source": [
    "fig = plt.figure(figsize=(12,12))\n",
    "ax = fig.gca()\n",
    "plt.imshow(object_type_cocurrence)\n",
    "plt.xticks(np.arange(n_object_types), all_object_types, rotation='vertical')\n",
    "ax.xaxis.set_ticks_position('top')\n",
    "plt.yticks(np.arange(n_object_types), all_object_types)\n",
    "plt.colorbar()\n",
    "plt.show()"
   ]
  },
  {
   "cell_type": "markdown",
   "metadata": {},
   "source": [
    "## Same as above, but sorted by count\n",
    "\n",
    "Loses some of the block structure, but gains a better sense of the important and recurring objects"
   ]
  },
  {
   "cell_type": "code",
   "execution_count": null,
   "metadata": {},
   "outputs": [],
   "source": [
    "ocurrence_counts = object_type_cocurrence.sum(axis=0)\n",
    "desc_order = np.argsort(ocurrence_counts)[::-1]\n",
    "sorted_object_type_cocurrence = np.zeros_like(object_type_cocurrence)\n",
    "\n",
    "for i in range(sorted_object_type_cocurrence.shape[0]):\n",
    "    sorted_object_type_cocurrence[i, :] = object_type_cocurrence[desc_order[i], desc_order]\n",
    "\n",
    "sorted_object_types = all_object_types[desc_order]\n",
    "\n",
    "temp = np.copy(object_type_cocurrence).astype(np.float)\n",
    "for i, i_obj_type in enumerate(sorted_object_types):\n",
    "    for j, j_obj_type in enumerate(sorted_object_types):\n",
    "        temp[i,j] /= min(object_room_counts[i_obj_type], object_room_counts[j_obj_type])\n",
    "\n",
    "normed_sorted_object_type_cocurrence = np.zeros_like(temp)\n",
    "normed_desc_order = np.argsort(temp.sum(axis=0))[::-1]\n",
    "for i in range(normed_sorted_object_type_cocurrence.shape[0]):\n",
    "    normed_sorted_object_type_cocurrence[i, :] = temp[normed_desc_order[i], normed_desc_order]\n",
    "\n",
    "normed_sorted_object_types = all_object_types[normed_desc_order]"
   ]
  },
  {
   "cell_type": "code",
   "execution_count": null,
   "metadata": {},
   "outputs": [],
   "source": [
    "fig = plt.figure(figsize=(12,12))\n",
    "ax = fig.gca()\n",
    "plt.imshow(normed_sorted_object_type_cocurrence)\n",
    "plt.xticks(np.arange(n_object_types), normed_sorted_object_types, rotation='vertical')\n",
    "ax.xaxis.set_ticks_position('top')\n",
    "plt.yticks(np.arange(n_object_types), normed_sorted_object_types)\n",
    "plt.colorbar()\n",
    "plt.show()"
   ]
  },
  {
   "cell_type": "markdown",
   "metadata": {},
   "source": [
    "## Correlation table and p-values"
   ]
  },
  {
   "cell_type": "code",
   "execution_count": null,
   "metadata": {},
   "outputs": [],
   "source": [
    "NUMERIC_COLUMNS = [\n",
    "    'src', 'average_length_of_then', 'average_setup_objects_quantified', 'average_preference_objects_quantified',\n",
    "    'terminal_exists', 'is_throwing', 'is_construction', 'difficulty', 'first_time_points'\n",
    "]\n",
    "\n",
    "numeric_df = stats_df[NUMERIC_COLUMNS]\n",
    "numeric_df.loc[:, 'terminal_exists'] = numeric_df.terminal_exists.astype(np.float)\n",
    "\n",
    "arr = numeric_df.to_numpy(dtype=np.float)\n",
    "nan_masked_arr = np.ma.masked_invalid(arr)\n",
    "corr = np.ma.corrcoef(nan_masked_arr, rowvar=False)\n",
    "corr_df = pd.DataFrame(corr, columns=numeric_df.columns, index=numeric_df.columns)\n",
    "corr_df"
   ]
  },
  {
   "cell_type": "code",
   "execution_count": null,
   "metadata": {},
   "outputs": [],
   "source": [
    "n_rows = nan_masked_arr.shape[1]\n",
    "n = np.zeros((n_rows, n_rows), dtype=np.int)\n",
    "\n",
    "for i in range(n_rows):\n",
    "    for j in range(i, n_rows):\n",
    "        n[i, j] = n[j, i] = np.invert(nan_masked_arr.mask[:,[i, j]].any(axis=1)).sum()\n",
    "\n",
    "n\n",
    "\n",
    "t_stat = corr.data * np.sqrt(n - 2) / np.sqrt(1 - (corr.data ** 2))\n",
    "t_stat[np.diag_indices(t_stat.shape[0])] = 0\n",
    "p_values = stats.t(n - 2).sf(np.abs(t_stat)) * 2"
   ]
  },
  {
   "cell_type": "markdown",
   "metadata": {},
   "source": [
    "### P-values"
   ]
  },
  {
   "cell_type": "code",
   "execution_count": null,
   "metadata": {},
   "outputs": [],
   "source": [
    "output_p_values = []\n",
    "for i, row in enumerate(p_values):\n",
    "    output_p_values.append([corr_df.columns[i]] + [f'{p:1.4f}{\"*\" if p < 0.05 else \"\"}{\"*\" if p < 0.01 else \"\"}{\"*\" if p < 0.001 else \"\"}' for p in row])\n",
    "\n",
    "headers = [\"\"] + corr_df.columns\n",
    "tabulate(output_p_values, headers, tablefmt='html')"
   ]
  },
  {
   "cell_type": "markdown",
   "metadata": {},
   "source": [
    "\\* < 0.05, \\** < 0.01, *** < 0.001"
   ]
  },
  {
   "cell_type": "code",
   "execution_count": null,
   "metadata": {},
   "outputs": [],
   "source": []
  }
 ],
 "metadata": {
  "interpreter": {
   "hash": "c7f8e00f851a7185e5345342178c14041451eaa6562c62790473e641b6de40ed"
  },
  "kernelspec": {
   "display_name": "Python 3.8.5 64-bit ('torch': conda)",
   "name": "python3"
  },
  "language_info": {
   "codemirror_mode": {
    "name": "ipython",
    "version": 3
   },
   "file_extension": ".py",
   "mimetype": "text/x-python",
   "name": "python",
   "nbconvert_exporter": "python",
   "pygments_lexer": "ipython3",
   "version": "3.10.8"
  },
  "orig_nbformat": 2
 },
 "nbformat": 4,
 "nbformat_minor": 2
}
