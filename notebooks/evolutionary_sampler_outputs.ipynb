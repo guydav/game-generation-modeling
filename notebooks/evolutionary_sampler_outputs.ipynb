{
 "cells": [
  {
   "cell_type": "code",
   "execution_count": 2,
   "metadata": {},
   "outputs": [],
   "source": [
    "%autoreload 2"
   ]
  },
  {
   "cell_type": "code",
   "execution_count": 18,
   "metadata": {},
   "outputs": [],
   "source": [
    "from collections import defaultdict\n",
    "from argparse import Namespace\n",
    "import copy\n",
    "import gzip\n",
    "import itertools\n",
    "import os\n",
    "import pickle\n",
    "import sys\n",
    "import typing\n",
    "\n",
    "import matplotlib\n",
    "import matplotlib.axes\n",
    "import matplotlib.pyplot as plt\n",
    "import numpy as np\n",
    "import pandas as pd\n",
    "import tatsu\n",
    "import tatsu.ast\n",
    "import torch\n",
    "import torch.nn as nn\n",
    "import torch.nn.functional as F\n",
    "from torch.utils.data import TensorDataset, DataLoader\n",
    "import tqdm\n",
    "import sklearn\n",
    "from sklearn.model_selection import GridSearchCV, train_test_split, KFold\n",
    "from sklearn.pipeline import Pipeline\n",
    "\n",
    "sys.path.append(os.path.abspath('..'))\n",
    "sys.path.append(os.path.abspath('../src'))\n",
    "from src.ast_utils import _extract_game_id\n",
    "from src import fitness_energy_utils as utils\n",
    "from src.fitness_energy_utils import NON_FEATURE_COLUMNS\n",
    "from src.fitness_features import *\n",
    "from src.ast_counter_sampler import *\n",
    "from src.evolutionary_sampler import *"
   ]
  },
  {
   "cell_type": "code",
   "execution_count": 4,
   "metadata": {},
   "outputs": [],
   "source": [
    "grammar = open('../dsl/dsl.ebnf').read()\n",
    "grammar_parser = tatsu.compile(grammar)\n",
    "game_asts = list(cached_load_and_parse_games_from_file('../dsl/interactive-beta.pddl', grammar_parser, False, relative_path='..'))\n",
    "real_game_texts = [ast_printer.ast_to_string(ast, '\\n') for ast in game_asts]\n",
    "# regrown_game_texts = list(load_games_from_file('../dsl/ast-real-regrowth-samples.pddl'))\n",
    "# regrown_game_1024_texts = list(load_games_from_file('../dsl/ast-real-regrowth-samples-1024.pddl'))\n",
    "# print(len(real_game_texts), len(regrown_game_texts), len(regrown_game_texts) / 98, len(regrown_game_1024_texts), len(regrown_game_1024_texts) / 98)\n"
   ]
  },
  {
   "cell_type": "code",
   "execution_count": 5,
   "metadata": {},
   "outputs": [
    {
     "name": "stdout",
     "output_type": "stream",
     "text": [
      "['interactive-beta.pddl' 'ast-real-regrowth-samples-1024.pddl']\n"
     ]
    },
    {
     "data": {
      "text/html": [
       "<div>\n",
       "<style scoped>\n",
       "    .dataframe tbody tr th:only-of-type {\n",
       "        vertical-align: middle;\n",
       "    }\n",
       "\n",
       "    .dataframe tbody tr th {\n",
       "        vertical-align: top;\n",
       "    }\n",
       "\n",
       "    .dataframe thead th {\n",
       "        text-align: right;\n",
       "    }\n",
       "</style>\n",
       "<table border=\"1\" class=\"dataframe\">\n",
       "  <thead>\n",
       "    <tr style=\"text-align: right;\">\n",
       "      <th></th>\n",
       "      <th>Index</th>\n",
       "      <th>src_file</th>\n",
       "      <th>game_name</th>\n",
       "      <th>domain_name</th>\n",
       "      <th>original_game_name</th>\n",
       "      <th>real</th>\n",
       "      <th>all_variables_defined</th>\n",
       "      <th>all_variables_used</th>\n",
       "      <th>all_preferences_used</th>\n",
       "      <th>setup_objects_used</th>\n",
       "      <th>...</th>\n",
       "      <th>ast_ngram_constraints_n_6_score</th>\n",
       "      <th>ast_ngram_constraints_n_7_score</th>\n",
       "      <th>ast_ngram_terminal_n_2_score</th>\n",
       "      <th>ast_ngram_terminal_n_3_score</th>\n",
       "      <th>ast_ngram_terminal_n_4_score</th>\n",
       "      <th>ast_ngram_terminal_n_5_score</th>\n",
       "      <th>ast_ngram_scoring_n_2_score</th>\n",
       "      <th>ast_ngram_scoring_n_3_score</th>\n",
       "      <th>ast_ngram_scoring_n_4_score</th>\n",
       "      <th>ast_ngram_scoring_n_5_score</th>\n",
       "    </tr>\n",
       "  </thead>\n",
       "  <tbody>\n",
       "    <tr>\n",
       "      <th>0</th>\n",
       "      <td>0</td>\n",
       "      <td>interactive-beta.pddl</td>\n",
       "      <td>6172feb1665491d1efbce164-0</td>\n",
       "      <td>medium-objects-room-v1</td>\n",
       "      <td>6172feb1665491d1efbce164-0</td>\n",
       "      <td>1</td>\n",
       "      <td>1</td>\n",
       "      <td>1</td>\n",
       "      <td>1</td>\n",
       "      <td>1.00</td>\n",
       "      <td>...</td>\n",
       "      <td>0.975856</td>\n",
       "      <td>0.984382</td>\n",
       "      <td>0.970248</td>\n",
       "      <td>0.981414</td>\n",
       "      <td>0.981920</td>\n",
       "      <td>0.983617</td>\n",
       "      <td>0.919078</td>\n",
       "      <td>0.915602</td>\n",
       "      <td>0.974574</td>\n",
       "      <td>0.987096</td>\n",
       "    </tr>\n",
       "    <tr>\n",
       "      <th>1</th>\n",
       "      <td>1</td>\n",
       "      <td>interactive-beta.pddl</td>\n",
       "      <td>5f77754ba932fb2c4ba181d8-2</td>\n",
       "      <td>many-objects-room-v1</td>\n",
       "      <td>5f77754ba932fb2c4ba181d8-2</td>\n",
       "      <td>1</td>\n",
       "      <td>1</td>\n",
       "      <td>1</td>\n",
       "      <td>1</td>\n",
       "      <td>1.00</td>\n",
       "      <td>...</td>\n",
       "      <td>0.985632</td>\n",
       "      <td>0.986181</td>\n",
       "      <td>0.966645</td>\n",
       "      <td>0.978594</td>\n",
       "      <td>0.977472</td>\n",
       "      <td>0.984273</td>\n",
       "      <td>0.921563</td>\n",
       "      <td>0.931860</td>\n",
       "      <td>0.945369</td>\n",
       "      <td>0.962067</td>\n",
       "    </tr>\n",
       "    <tr>\n",
       "      <th>2</th>\n",
       "      <td>2</td>\n",
       "      <td>interactive-beta.pddl</td>\n",
       "      <td>614b603d4da88384282967a7-3</td>\n",
       "      <td>many-objects-room-v1</td>\n",
       "      <td>614b603d4da88384282967a7-3</td>\n",
       "      <td>1</td>\n",
       "      <td>1</td>\n",
       "      <td>1</td>\n",
       "      <td>1</td>\n",
       "      <td>0.00</td>\n",
       "      <td>...</td>\n",
       "      <td>0.975984</td>\n",
       "      <td>0.980604</td>\n",
       "      <td>0.000000</td>\n",
       "      <td>0.000000</td>\n",
       "      <td>0.000000</td>\n",
       "      <td>0.000000</td>\n",
       "      <td>0.844787</td>\n",
       "      <td>0.858832</td>\n",
       "      <td>0.923039</td>\n",
       "      <td>0.942307</td>\n",
       "    </tr>\n",
       "    <tr>\n",
       "      <th>3</th>\n",
       "      <td>3</td>\n",
       "      <td>interactive-beta.pddl</td>\n",
       "      <td>5bc79f652885710001a0e82a-5</td>\n",
       "      <td>few-objects-room-v1</td>\n",
       "      <td>5bc79f652885710001a0e82a-5</td>\n",
       "      <td>1</td>\n",
       "      <td>1</td>\n",
       "      <td>1</td>\n",
       "      <td>1</td>\n",
       "      <td>0.00</td>\n",
       "      <td>...</td>\n",
       "      <td>0.986042</td>\n",
       "      <td>0.985931</td>\n",
       "      <td>0.000000</td>\n",
       "      <td>0.000000</td>\n",
       "      <td>0.000000</td>\n",
       "      <td>0.000000</td>\n",
       "      <td>0.919078</td>\n",
       "      <td>0.915602</td>\n",
       "      <td>0.974574</td>\n",
       "      <td>0.987096</td>\n",
       "    </tr>\n",
       "    <tr>\n",
       "      <th>4</th>\n",
       "      <td>4</td>\n",
       "      <td>interactive-beta.pddl</td>\n",
       "      <td>614dec67f6eb129c3a77defd-6</td>\n",
       "      <td>medium-objects-room-v1</td>\n",
       "      <td>614dec67f6eb129c3a77defd-6</td>\n",
       "      <td>1</td>\n",
       "      <td>1</td>\n",
       "      <td>1</td>\n",
       "      <td>1</td>\n",
       "      <td>0.25</td>\n",
       "      <td>...</td>\n",
       "      <td>0.984624</td>\n",
       "      <td>0.983172</td>\n",
       "      <td>0.000000</td>\n",
       "      <td>0.000000</td>\n",
       "      <td>0.000000</td>\n",
       "      <td>0.000000</td>\n",
       "      <td>0.976741</td>\n",
       "      <td>0.978090</td>\n",
       "      <td>0.970715</td>\n",
       "      <td>0.987147</td>\n",
       "    </tr>\n",
       "  </tbody>\n",
       "</table>\n",
       "<p>5 rows × 356 columns</p>\n",
       "</div>"
      ],
      "text/plain": [
       "   Index               src_file                   game_name  \\\n",
       "0      0  interactive-beta.pddl  6172feb1665491d1efbce164-0   \n",
       "1      1  interactive-beta.pddl  5f77754ba932fb2c4ba181d8-2   \n",
       "2      2  interactive-beta.pddl  614b603d4da88384282967a7-3   \n",
       "3      3  interactive-beta.pddl  5bc79f652885710001a0e82a-5   \n",
       "4      4  interactive-beta.pddl  614dec67f6eb129c3a77defd-6   \n",
       "\n",
       "              domain_name          original_game_name  real  \\\n",
       "0  medium-objects-room-v1  6172feb1665491d1efbce164-0     1   \n",
       "1    many-objects-room-v1  5f77754ba932fb2c4ba181d8-2     1   \n",
       "2    many-objects-room-v1  614b603d4da88384282967a7-3     1   \n",
       "3     few-objects-room-v1  5bc79f652885710001a0e82a-5     1   \n",
       "4  medium-objects-room-v1  614dec67f6eb129c3a77defd-6     1   \n",
       "\n",
       "   all_variables_defined  all_variables_used  all_preferences_used  \\\n",
       "0                      1                   1                     1   \n",
       "1                      1                   1                     1   \n",
       "2                      1                   1                     1   \n",
       "3                      1                   1                     1   \n",
       "4                      1                   1                     1   \n",
       "\n",
       "   setup_objects_used  ...  ast_ngram_constraints_n_6_score  \\\n",
       "0                1.00  ...                         0.975856   \n",
       "1                1.00  ...                         0.985632   \n",
       "2                0.00  ...                         0.975984   \n",
       "3                0.00  ...                         0.986042   \n",
       "4                0.25  ...                         0.984624   \n",
       "\n",
       "   ast_ngram_constraints_n_7_score  ast_ngram_terminal_n_2_score  \\\n",
       "0                         0.984382                      0.970248   \n",
       "1                         0.986181                      0.966645   \n",
       "2                         0.980604                      0.000000   \n",
       "3                         0.985931                      0.000000   \n",
       "4                         0.983172                      0.000000   \n",
       "\n",
       "   ast_ngram_terminal_n_3_score  ast_ngram_terminal_n_4_score  \\\n",
       "0                      0.981414                      0.981920   \n",
       "1                      0.978594                      0.977472   \n",
       "2                      0.000000                      0.000000   \n",
       "3                      0.000000                      0.000000   \n",
       "4                      0.000000                      0.000000   \n",
       "\n",
       "   ast_ngram_terminal_n_5_score  ast_ngram_scoring_n_2_score  \\\n",
       "0                      0.983617                     0.919078   \n",
       "1                      0.984273                     0.921563   \n",
       "2                      0.000000                     0.844787   \n",
       "3                      0.000000                     0.919078   \n",
       "4                      0.000000                     0.976741   \n",
       "\n",
       "   ast_ngram_scoring_n_3_score  ast_ngram_scoring_n_4_score  \\\n",
       "0                     0.915602                     0.974574   \n",
       "1                     0.931860                     0.945369   \n",
       "2                     0.858832                     0.923039   \n",
       "3                     0.915602                     0.974574   \n",
       "4                     0.978090                     0.970715   \n",
       "\n",
       "   ast_ngram_scoring_n_5_score  \n",
       "0                     0.987096  \n",
       "1                     0.962067  \n",
       "2                     0.942307  \n",
       "3                     0.987096  \n",
       "4                     0.987147  \n",
       "\n",
       "[5 rows x 356 columns]"
      ]
     },
     "execution_count": 5,
     "metadata": {},
     "output_type": "execute_result"
    }
   ],
   "source": [
    "fitness_df = utils.load_fitness_data('../data/fitness_features_1024_regrowths.csv.gz')\n",
    "print(fitness_df.src_file.unique())\n",
    "fitness_df.head()"
   ]
  },
  {
   "cell_type": "code",
   "execution_count": 8,
   "metadata": {},
   "outputs": [
    {
     "ename": "AttributeError",
     "evalue": "Can't get attribute 'EnergyFunctionFitnessWrapper' on <module '__main__'>",
     "output_type": "error",
     "traceback": [
      "\u001b[0;31m---------------------------------------------------------------------------\u001b[0m",
      "\u001b[0;31mAttributeError\u001b[0m                            Traceback (most recent call last)",
      "Cell \u001b[0;32mIn[8], line 1\u001b[0m\n\u001b[0;32m----> 1\u001b[0m evo_sampler \u001b[39m=\u001b[39m typing\u001b[39m.\u001b[39mcast(PopulationBasedSampler, utils\u001b[39m.\u001b[39;49mload_data(\u001b[39m'\u001b[39;49m\u001b[39m2023_04_27_1\u001b[39;49m\u001b[39m'\u001b[39;49m, \u001b[39m'\u001b[39;49m\u001b[39msamples\u001b[39;49m\u001b[39m'\u001b[39;49m, \u001b[39m'\u001b[39;49m\u001b[39mevo_sampler_microbial_ga\u001b[39;49m\u001b[39m'\u001b[39;49m))\n",
      "File \u001b[0;32m~/projects/game-generation-modeling/src/fitness_energy_utils.py:106\u001b[0m, in \u001b[0;36mload_data\u001b[0;34m(date_and_id, folder, name, relative_path)\u001b[0m\n\u001b[1;32m    103\u001b[0m     \u001b[39mraise\u001b[39;00m \u001b[39mFileNotFoundError\u001b[39;00m(\u001b[39mf\u001b[39m\u001b[39m'\u001b[39m\u001b[39mNo model found at \u001b[39m\u001b[39m{\u001b[39;00moutput_path\u001b[39m}\u001b[39;00m\u001b[39m'\u001b[39m)\n\u001b[1;32m    105\u001b[0m \u001b[39mwith\u001b[39;00m gzip\u001b[39m.\u001b[39mopen(output_path, \u001b[39m'\u001b[39m\u001b[39mrb\u001b[39m\u001b[39m'\u001b[39m) \u001b[39mas\u001b[39;00m f:\n\u001b[0;32m--> 106\u001b[0m     data \u001b[39m=\u001b[39m pickle\u001b[39m.\u001b[39;49mload(f)\n\u001b[1;32m    108\u001b[0m \u001b[39mreturn\u001b[39;00m data\n",
      "\u001b[0;31mAttributeError\u001b[0m: Can't get attribute 'EnergyFunctionFitnessWrapper' on <module '__main__'>"
     ]
    }
   ],
   "source": [
    "evo_sampler = typing.cast(PopulationBasedSampler, utils.load_data('2023_04_27_1', 'samples', 'evo_sampler_microbial_ga'))"
   ]
  },
  {
   "cell_type": "code",
   "execution_count": 23,
   "metadata": {},
   "outputs": [],
   "source": [
    "def plot_sampler_fitness_trajectory(evo: PopulationBasedSampler, title: typing.Optional[str] = None, axsize: typing.Tuple[int, int] = (8, 6),\n",
    "                                    plot_diversity: typing.Optional[bool] = None,\n",
    "                                    min_real_game_fitness: float =  74.9304, max_real_game_fitness: float = 80.0098):\n",
    "    \n",
    "    if plot_diversity is None:\n",
    "        plot_diversity = hasattr(evo, 'diversity_metrics_history') and len(evo.diversity_metrics_history) > 0\n",
    "            \n",
    "    layout = (1, 2) if plot_diversity else (1, 1)\n",
    "    figsize = (axsize[0] * layout[1], axsize[1])\n",
    "\n",
    "    fig, axes = plt.subplots(*layout, figsize=figsize)\n",
    "\n",
    "    mean, max_fit, std = [], [], []\n",
    "    for step_dict in evo.fitness_metrics_history:\n",
    "        mean.append(step_dict['mean'])\n",
    "        max_fit.append(step_dict['max'])\n",
    "        std.append(step_dict['std'])\n",
    "\n",
    "    mean = np.array(mean)\n",
    "    max_fit = np.array(max_fit)\n",
    "    std = np.array(std)\n",
    "\n",
    "    fitness_ax = typing.cast(matplotlib.axes.Axes, axes[0] if plot_diversity else axes)\n",
    "\n",
    "    fitness_ax.plot(mean, label='mean fitness')\n",
    "    fitness_ax.fill_between(np.arange(len(mean)), mean - std, mean + std, alpha=0.2, label='std')  # type; ignore\n",
    "    fitness_ax.plot(max_fit, label='max fitness')\n",
    "\n",
    "    fitness_ax.hlines(min_real_game_fitness, 0, len(mean), label='min real game fitness', color='black', ls='--')\n",
    "    fitness_ax.hlines(max_real_game_fitness, 0, len(mean), label='max real game fitness', color='black', ls='--')\n",
    "\n",
    "    fitness_ax.set_xlabel('Generation')\n",
    "    fitness_ax.set_ylabel('Fitness')\n",
    "\n",
    "    fitness_ax.legend(loc='best')\n",
    "    \n",
    "    if plot_diversity:\n",
    "        mean_div, min_div, max_div, std_div = [], [], [], []\n",
    "        for step_dict in evo.diversity_metrics_history:\n",
    "            mean_div.append(step_dict['mean'])\n",
    "            min_div.append(step_dict['min'])\n",
    "            max_div.append(step_dict['max'])\n",
    "            std_div.append(step_dict['std'])\n",
    "\n",
    "        mean_div = np.array(mean_div)\n",
    "        min_div = np.array(min_div)\n",
    "        max_div = np.array(max_div)\n",
    "        std_div = np.array(std_div)\n",
    "\n",
    "        diversity_ax = typing.cast(matplotlib.axes.Axes, axes[1])\n",
    "        diversity_ax.plot(mean_div, label='mean diversity')\n",
    "        diversity_ax.fill_between(np.arange(len(mean_div)), mean_div - std_div, mean_div + std_div, alpha=0.2, label='std')  # type: ignore\n",
    "        diversity_ax.plot(min_div, label='min diversity')\n",
    "        diversity_ax.plot(max_div, label='max diversity')\n",
    "\n",
    "        diversity_ax.set_xlabel('Generation')\n",
    "        diversity_ax.set_ylabel('Diversity')\n",
    "\n",
    "        diversity_ax.legend(loc='best')\n",
    "        \n",
    "    if title is not None:\n",
    "        if plot_diversity:\n",
    "            plt.suptitle(title)\n",
    "        else:\n",
    "            plt.title(title)\n",
    "\n",
    "    plt.show()\n",
    "\n",
    "\n",
    "# plot_sampler_fitness_trajectory(evo_sampler, 'Microbial GA')"
   ]
  },
  {
   "cell_type": "code",
   "execution_count": null,
   "metadata": {},
   "outputs": [
    {
     "data": {
      "image/png": "[encoded data removed]",
      "text/plain": [
       "<Figure size 800x600 with 1 Axes>"
      ]
     },
     "metadata": {},
     "output_type": "display_data"
    }
   ],
   "source": [
    "beam_sampler = typing.cast(PopulationBasedSampler, utils.load_data('2023_04_27', 'samples', 'evo_sampler_weighted_beam'))\n",
    "plot_sampler_fitness_trajectory(beam_sampler, 'Weighted Beam Search')"
   ]
  },
  {
   "cell_type": "code",
   "execution_count": 12,
   "metadata": {},
   "outputs": [
    {
     "data": {
      "image/png": "[encoded data removed]",
      "text/plain": [
       "<Figure size 800x600 with 1 Axes>"
      ]
     },
     "metadata": {},
     "output_type": "display_data"
    }
   ],
   "source": [
    "evo_sampler_pop_1000 = typing.cast(PopulationBasedSampler, utils.load_data('2023_04_28', 'samples', 'evo_sampler_microbial_ga'))\n",
    "plot_sampler_fitness_trajectory(evo_sampler_pop_1000, 'Microbial GA (N = 1000)')"
   ]
  },
  {
   "cell_type": "code",
   "execution_count": 39,
   "metadata": {},
   "outputs": [
    {
     "data": {
      "text/markdown": [
       "### Energy of visualized game: -75.430"
      ],
      "text/plain": [
       "<IPython.core.display.Markdown object>"
      ]
     },
     "metadata": {},
     "output_type": "display_data"
    },
    {
     "data": {
      "text/markdown": [
       "### Top features contributing to the game's energy\n",
       "feature name: **value** = (original feature value => regrown feature value) * weight"
      ],
      "text/plain": [
       "<IPython.core.display.Markdown object>"
      ]
     },
     "metadata": {},
     "output_type": "display_data"
    },
    {
     "data": {
      "text/markdown": [
       "| Features increasing energy (= more fake)                                   | Features decreasing energy (= more real)                                         |\n",
       "|----------------------------------------------------------------------------|----------------------------------------------------------------------------------|\n",
       "| mean_depth_scoring_2: **0.751** = (1.000) * 0.751                          | ast_ngram_full_n_7_score: **-26.024** = (0.893) * -29.148                        |\n",
       "| max_number_variables_types_quantified_types_1: **0.738** = (1.000) * 0.738 | ast_ngram_constraints_n_7_score: **-20.892** = (0.977) * -21.388                 |\n",
       "| on_arg_types_furniture_balls_constraints: **0.311** = (1.000) * 0.311      | all_variables_used: **-5.121** = (1.000) * -5.121                                |\n",
       "| mean_depth_constraints_0: **0.159** = (1.000) * 0.159                      | all_preferences_used: **-4.585** = (1.000) * -4.585                              |\n",
       "| max_depth_constraints_0: **0.007** = (1.000) * 0.007                       | ast_ngram_scoring_n_5_score: **-3.531** = (0.929) * -3.801                       |\n",
       "|                                                                            | all_variables_defined: **-2.156** = (1.000) * -2.156                             |\n",
       "|                                                                            | mean_depth_setup_0: **-2.025** = (1.000) * -2.025                                |\n",
       "|                                                                            | max_depth_setup_0: **-1.956** = (1.000) * -1.956                                 |\n",
       "|                                                                            | node_count_setup_0: **-1.848** = (1.000) * -1.848                                |\n",
       "|                                                                            | section_doesnt_exist_setup: **-1.837** = (1.000) * -1.837                        |\n",
       "|                                                                            | max_depth_scoring_2: **-1.025** = (1.000) * -1.025                               |\n",
       "|                                                                            | mean_depth_terminal_0: **-0.917** = (1.000) * -0.917                             |\n",
       "|                                                                            | max_depth_terminal_0: **-0.906** = (1.000) * -0.906                              |\n",
       "|                                                                            | max_quantification_count_setup_0: **-0.857** = (1.000) * -0.857                  |\n",
       "|                                                                            | max_number_variables_types_quantified_variables_1: **-0.771** = (1.000) * -0.771 |\n",
       "|                                                                            | section_doesnt_exist_terminal: **-0.761** = (1.000) * -0.761                     |\n",
       "|                                                                            | node_count_terminal_0: **-0.703** = (1.000) * -0.703                             |\n",
       "|                                                                            | node_count_constraints_0: **-0.547** = (1.000) * -0.547                          |\n",
       "|                                                                            | node_count_scoring_2: **-0.516** = (1.000) * -0.516                              |\n",
       "|                                                                            | max_quantification_count_constraints_1: **-0.428** = (1.000) * -0.428            |"
      ],
      "text/plain": [
       "<IPython.core.display.Markdown object>"
      ]
     },
     "metadata": {},
     "output_type": "display_data"
    },
    {
     "data": {
      "text/markdown": [
       "### Game:"
      ],
      "text/plain": [
       "<IPython.core.display.Markdown object>"
      ]
     },
     "metadata": {},
     "output_type": "display_data"
    },
    {
     "data": {
      "text/markdown": [
       "```pddl\n",
       "(define (game evo-963-963) (:domain few-objects-room-v1)\n",
       "(:constraints\n",
       "  (and\n",
       "    (preference preference0\n",
       "      (exists (?v0 - dodgeball)\n",
       "        (at-end\n",
       "          (on bed ?v0)\n",
       "        )\n",
       "      )\n",
       "    )\n",
       "  )\n",
       ")\n",
       "(:scoring\n",
       "  (* 5 (count preference0) (count preference0) (count preference0) )\n",
       ")\n",
       ")\n",
       "```"
      ],
      "text/plain": [
       "<IPython.core.display.Markdown object>"
      ]
     },
     "metadata": {},
     "output_type": "display_data"
    }
   ],
   "source": [
    "evo_sampler_pop_1000.visualize_top_sample(100, postprocess_sample=True)"
   ]
  },
  {
   "cell_type": "code",
   "execution_count": 41,
   "metadata": {},
   "outputs": [],
   "source": [
    "ast = copy.deepcopy(game_asts[0])"
   ]
  },
  {
   "cell_type": "code",
   "execution_count": 42,
   "metadata": {},
   "outputs": [],
   "source": [
    "from ast_utils import replace_child"
   ]
  },
  {
   "cell_type": "code",
   "execution_count": 45,
   "metadata": {},
   "outputs": [],
   "source": [
    "replace_child(ast[1], ['game_name'], 'test')"
   ]
  },
  {
   "cell_type": "code",
   "execution_count": 48,
   "metadata": {},
   "outputs": [],
   "source": [
    "import ast_printer"
   ]
  },
  {
   "cell_type": "code",
   "execution_count": 50,
   "metadata": {},
   "outputs": [],
   "source": [
    "s = ast_printer.ast_to_string(ast)"
   ]
  },
  {
   "cell_type": "code",
   "execution_count": null,
   "metadata": {},
   "outputs": [],
   "source": []
  },
  {
   "cell_type": "code",
   "execution_count": 24,
   "metadata": {},
   "outputs": [
    {
     "data": {
      "image/png": "[encoded data removed]",
      "text/plain": [
       "<Figure size 1600x600 with 2 Axes>"
      ]
     },
     "metadata": {},
     "output_type": "display_data"
    }
   ],
   "source": [
    "evo_sampler_pop_500_diversity = typing.cast(PopulationBasedSampler, utils.load_data('2023_05_01', 'samples/every_gen', 'evo_sampler_microbial_ga_gen_99'))\n",
    "plot_sampler_fitness_trajectory(evo_sampler_pop_500_diversity, 'Microbial GA (N = 500)')"
   ]
  },
  {
   "cell_type": "code",
   "execution_count": 34,
   "metadata": {},
   "outputs": [
    {
     "data": {
      "text/markdown": [
       "### Energy of visualized game: -53.826"
      ],
      "text/plain": [
       "<IPython.core.display.Markdown object>"
      ]
     },
     "metadata": {},
     "output_type": "display_data"
    },
    {
     "data": {
      "text/markdown": [
       "### Top features contributing to the game's energy\n",
       "feature name: **value** = (original feature value => regrown feature value) * weight"
      ],
      "text/plain": [
       "<IPython.core.display.Markdown object>"
      ]
     },
     "metadata": {},
     "output_type": "display_data"
    },
    {
     "data": {
      "text/markdown": [
       "| Features increasing energy (= more fake)                                   | Features decreasing energy (= more real)                                         |\n",
       "|----------------------------------------------------------------------------|----------------------------------------------------------------------------------|\n",
       "| pref_forall_used_incorrect: **6.136** = (1.000) * 6.136                    | ast_ngram_full_n_7_score: **-16.559** = (0.568) * -29.148                        |\n",
       "| max_number_variables_types_quantified_types_1: **0.738** = (1.000) * 0.738 | ast_ngram_constraints_n_7_score: **-15.606** = (0.730) * -21.388                 |\n",
       "| max_depth_scoring_4: **0.424** = (1.000) * 0.424                           | all_variables_used: **-5.121** = (1.000) * -5.121                                |\n",
       "| mean_depth_constraints_0: **0.159** = (1.000) * 0.159                      | all_preferences_used: **-4.585** = (1.000) * -4.585                              |\n",
       "| max_depth_constraints_0: **0.007** = (1.000) * 0.007                       | ast_ngram_scoring_n_5_score: **-2.930** = (0.771) * -3.801                       |\n",
       "|                                                                            | all_variables_defined: **-2.156** = (1.000) * -2.156                             |\n",
       "|                                                                            | mean_depth_setup_0: **-2.025** = (1.000) * -2.025                                |\n",
       "|                                                                            | max_depth_setup_0: **-1.956** = (1.000) * -1.956                                 |\n",
       "|                                                                            | node_count_setup_0: **-1.848** = (1.000) * -1.848                                |\n",
       "|                                                                            | section_doesnt_exist_setup: **-1.837** = (1.000) * -1.837                        |\n",
       "|                                                                            | mean_depth_terminal_0: **-0.917** = (1.000) * -0.917                             |\n",
       "|                                                                            | max_depth_terminal_0: **-0.906** = (1.000) * -0.906                              |\n",
       "|                                                                            | max_quantification_count_setup_0: **-0.857** = (1.000) * -0.857                  |\n",
       "|                                                                            | max_number_variables_types_quantified_variables_1: **-0.771** = (1.000) * -0.771 |\n",
       "|                                                                            | section_doesnt_exist_terminal: **-0.761** = (1.000) * -0.761                     |\n",
       "|                                                                            | node_count_terminal_0: **-0.703** = (1.000) * -0.703                             |\n",
       "|                                                                            | node_count_constraints_0: **-0.547** = (1.000) * -0.547                          |\n",
       "|                                                                            | node_count_scoring_2: **-0.516** = (1.000) * -0.516                              |\n",
       "|                                                                            | max_quantification_count_constraints_1: **-0.428** = (1.000) * -0.428            |\n",
       "|                                                                            | mean_depth_scoring_4: **-0.257** = (1.000) * -0.257                              |"
      ],
      "text/plain": [
       "<IPython.core.display.Markdown object>"
      ]
     },
     "metadata": {},
     "output_type": "display_data"
    },
    {
     "data": {
      "text/markdown": [
       "### Game:"
      ],
      "text/plain": [
       "<IPython.core.display.Markdown object>"
      ]
     },
     "metadata": {},
     "output_type": "display_data"
    },
    {
     "data": {
      "text/markdown": [
       "```pddl\n",
       "(define (game evo-148-148) (:domain few-objects-room-v1)\n",
       "(:constraints\n",
       "  (and\n",
       "    (preference preference0\n",
       "      (exists (?v0 - block)\n",
       "        (at-end\n",
       "          (agent_holds ?v0)\n",
       "        )\n",
       "      )\n",
       "    )\n",
       "  )\n",
       ")\n",
       "(:scoring\n",
       "  (* 180 (* (+ (count-once preference0:blue_pyramid_block) 9 10 )\n",
       "      (count preference0:basketball:green)\n",
       "    )\n",
       "  )\n",
       ")\n",
       ")\n",
       "```"
      ],
      "text/plain": [
       "<IPython.core.display.Markdown object>"
      ]
     },
     "metadata": {},
     "output_type": "display_data"
    },
    {
     "data": {
      "text/markdown": [
       "### Energy of visualized game: -49.233"
      ],
      "text/plain": [
       "<IPython.core.display.Markdown object>"
      ]
     },
     "metadata": {},
     "output_type": "display_data"
    },
    {
     "data": {
      "text/markdown": [
       "### Top features contributing to the game's energy\n",
       "feature name: **value** = (original feature value => regrown feature value) * weight"
      ],
      "text/plain": [
       "<IPython.core.display.Markdown object>"
      ]
     },
     "metadata": {},
     "output_type": "display_data"
    },
    {
     "data": {
      "text/markdown": [
       "| Features increasing energy (= more fake)                                          | Features decreasing energy (= more real)                                         |\n",
       "|-----------------------------------------------------------------------------------|----------------------------------------------------------------------------------|\n",
       "| repeated_variables_found: **4.956** = (1.000) * 4.956                             | ast_ngram_full_n_7_score: **-17.208** = (0.590) * -29.148                        |\n",
       "| max_depth_scoring_1: **0.929** = (1.000) * 0.929                                  | ast_ngram_constraints_n_7_score: **-14.753** = (0.690) * -21.388                 |\n",
       "| length_of_then_modals_3: **0.913** = (1.000) * 0.913                              | all_preferences_used: **-4.585** = (1.000) * -4.585                              |\n",
       "| max_number_variables_types_quantified_types_1: **0.738** = (1.000) * 0.738        | ast_ngram_scoring_n_5_score: **-3.752** = (0.987) * -3.801                       |\n",
       "| on_arg_types_large_objects_large_objects_constraints: **0.584** = (1.000) * 0.584 | all_variables_defined: **-2.156** = (1.000) * -2.156                             |\n",
       "| node_count_scoring_0: **0.318** = (1.000) * 0.318                                 | mean_depth_setup_0: **-2.025** = (1.000) * -2.025                                |\n",
       "| mean_depth_constraints_0: **0.159** = (1.000) * 0.159                             | max_depth_setup_0: **-1.956** = (1.000) * -1.956                                 |\n",
       "| node_count_constraints_1: **0.103** = (1.000) * 0.103                             | node_count_setup_0: **-1.848** = (1.000) * -1.848                                |\n",
       "| no_adjacent_same_modal: **0.060** = (-1.000) * -0.060                             | section_doesnt_exist_setup: **-1.837** = (1.000) * -1.837                        |\n",
       "| predicate_under_modal_once_on: **0.035** = (1.000) * 0.035                        | mean_depth_scoring_1: **-1.116** = (1.000) * -1.116                              |\n",
       "|                                                                                   | mean_depth_terminal_0: **-0.917** = (1.000) * -0.917                             |\n",
       "|                                                                                   | max_depth_terminal_0: **-0.906** = (1.000) * -0.906                              |\n",
       "|                                                                                   | max_quantification_count_setup_0: **-0.857** = (1.000) * -0.857                  |\n",
       "|                                                                                   | max_number_variables_types_quantified_variables_1: **-0.771** = (1.000) * -0.771 |\n",
       "|                                                                                   | section_doesnt_exist_terminal: **-0.761** = (1.000) * -0.761                     |\n",
       "|                                                                                   | max_depth_constraints_1: **-0.732** = (1.000) * -0.732                           |\n",
       "|                                                                                   | node_count_terminal_0: **-0.703** = (1.000) * -0.703                             |\n",
       "|                                                                                   | predicate_under_modal_hold_in_motion: **-0.529** = (1.000) * -0.529              |\n",
       "|                                                                                   | max_quantification_count_constraints_1: **-0.428** = (1.000) * -0.428            |\n",
       "|                                                                                   | in_motion_arg_types_large_objects_constraints: **-0.197** = (1.000) * -0.197     |"
      ],
      "text/plain": [
       "<IPython.core.display.Markdown object>"
      ]
     },
     "metadata": {},
     "output_type": "display_data"
    },
    {
     "data": {
      "text/markdown": [
       "### Game:"
      ],
      "text/plain": [
       "<IPython.core.display.Markdown object>"
      ]
     },
     "metadata": {},
     "output_type": "display_data"
    },
    {
     "data": {
      "text/markdown": [
       "```pddl\n",
       "(define (game evo-475-475) (:domain few-objects-room-v1)\n",
       "(:constraints\n",
       "  (and\n",
       "    (preference preference0\n",
       "      (exists (?v0 - dodgeball ?v1 - hexagonal_bin ?v2 - teddy_bear)\n",
       "        (then\n",
       "          (once (on ?v2 ?v2) )\n",
       "          (hold (above ?v2 ?v2) )\n",
       "          (hold (in_motion ?v2) )\n",
       "        )\n",
       "      )\n",
       "    )\n",
       "  )\n",
       ")\n",
       "(:scoring\n",
       "  (count preference0)\n",
       ")\n",
       ")\n",
       "```"
      ],
      "text/plain": [
       "<IPython.core.display.Markdown object>"
      ]
     },
     "metadata": {},
     "output_type": "display_data"
    },
    {
     "data": {
      "text/markdown": [
       "### Energy of visualized game: -48.803"
      ],
      "text/plain": [
       "<IPython.core.display.Markdown object>"
      ]
     },
     "metadata": {},
     "output_type": "display_data"
    },
    {
     "data": {
      "text/markdown": [
       "### Top features contributing to the game's energy\n",
       "feature name: **value** = (original feature value => regrown feature value) * weight"
      ],
      "text/plain": [
       "<IPython.core.display.Markdown object>"
      ]
     },
     "metadata": {},
     "output_type": "display_data"
    },
    {
     "data": {
      "text/markdown": [
       "| Features increasing energy (= more fake)                                   | Features decreasing energy (= more real)                                         |\n",
       "|----------------------------------------------------------------------------|----------------------------------------------------------------------------------|\n",
       "| pref_forall_used_incorrect: **6.136** = (1.000) * 6.136                    | ast_ngram_full_n_7_score: **-16.347** = (0.561) * -29.148                        |\n",
       "| repeated_variables_found: **4.956** = (1.000) * 4.956                      | ast_ngram_constraints_n_7_score: **-15.526** = (0.726) * -21.388                 |\n",
       "| max_depth_scoring_1: **0.929** = (1.000) * 0.929                           | all_variables_used: **-5.121** = (1.000) * -5.121                                |\n",
       "| max_number_variables_types_quantified_types_1: **0.738** = (1.000) * 0.738 | all_preferences_used: **-4.585** = (1.000) * -4.585                              |\n",
       "| max_depth_terminal_2: **0.629** = (1.000) * 0.629                          | ast_ngram_scoring_n_5_score: **-3.277** = (0.862) * -3.801                       |\n",
       "| node_count_scoring_0: **0.318** = (1.000) * 0.318                          | ast_ngram_terminal_n_5_score: **-2.791** = (0.892) * -3.128                      |\n",
       "| node_count_terminal_2: **0.193** = (1.000) * 0.193                         | all_variables_defined: **-2.156** = (1.000) * -2.156                             |\n",
       "| mean_depth_constraints_0: **0.159** = (1.000) * 0.159                      | mean_depth_setup_0: **-2.025** = (1.000) * -2.025                                |\n",
       "| max_depth_constraints_0: **0.007** = (1.000) * 0.007                       | max_depth_setup_0: **-1.956** = (1.000) * -1.956                                 |\n",
       "|                                                                            | node_count_setup_0: **-1.848** = (1.000) * -1.848                                |\n",
       "|                                                                            | section_doesnt_exist_setup: **-1.837** = (1.000) * -1.837                        |\n",
       "|                                                                            | in_arg_types_any_object_any_object_constraints: **-1.475** = (1.000) * -1.475    |\n",
       "|                                                                            | mean_depth_scoring_1: **-1.116** = (1.000) * -1.116                              |\n",
       "|                                                                            | max_quantification_count_setup_0: **-0.857** = (1.000) * -0.857                  |\n",
       "|                                                                            | max_number_variables_types_quantified_variables_1: **-0.771** = (1.000) * -0.771 |\n",
       "|                                                                            | node_count_constraints_0: **-0.547** = (1.000) * -0.547                          |\n",
       "|                                                                            | max_quantification_count_constraints_1: **-0.428** = (1.000) * -0.428            |\n",
       "|                                                                            | mean_depth_terminal_2: **-0.213** = (1.000) * -0.213                             |"
      ],
      "text/plain": [
       "<IPython.core.display.Markdown object>"
      ]
     },
     "metadata": {},
     "output_type": "display_data"
    },
    {
     "data": {
      "text/markdown": [
       "### Game:"
      ],
      "text/plain": [
       "<IPython.core.display.Markdown object>"
      ]
     },
     "metadata": {},
     "output_type": "display_data"
    },
    {
     "data": {
      "text/markdown": [
       "```pddl\n",
       "(define (game evo-59-59) (:domain medium-objects-room-v1)\n",
       "(:constraints\n",
       "  (and\n",
       "    (preference preference0\n",
       "      (exists (?v0 - game_object)\n",
       "        (at-end\n",
       "          (in ?v0 ?v0)\n",
       "        )\n",
       "      )\n",
       "    )\n",
       "  )\n",
       ")\n",
       "(:terminal\n",
       "  (>= (count preference0:beachball) 100 )\n",
       ")\n",
       "(:scoring\n",
       "  (count-once-per-objects preference0:dodgeball)\n",
       ")\n",
       ")\n",
       "```"
      ],
      "text/plain": [
       "<IPython.core.display.Markdown object>"
      ]
     },
     "metadata": {},
     "output_type": "display_data"
    },
    {
     "data": {
      "text/markdown": [
       "### Energy of visualized game: -48.732"
      ],
      "text/plain": [
       "<IPython.core.display.Markdown object>"
      ]
     },
     "metadata": {},
     "output_type": "display_data"
    },
    {
     "data": {
      "text/markdown": [
       "### Top features contributing to the game's energy\n",
       "feature name: **value** = (original feature value => regrown feature value) * weight"
      ],
      "text/plain": [
       "<IPython.core.display.Markdown object>"
      ]
     },
     "metadata": {},
     "output_type": "display_data"
    },
    {
     "data": {
      "text/markdown": [
       "| Features increasing energy (= more fake)                                   | Features decreasing energy (= more real)                                         |\n",
       "|----------------------------------------------------------------------------|----------------------------------------------------------------------------------|\n",
       "| pref_forall_used_incorrect: **6.136** = (1.000) * 6.136                    | ast_ngram_full_n_7_score: **-17.477** = (0.600) * -29.148                        |\n",
       "| repeated_variables_found: **4.956** = (1.000) * 4.956                      | ast_ngram_constraints_n_7_score: **-16.763** = (0.784) * -21.388                 |\n",
       "| node_count_scoring_1: **1.053** = (1.000) * 1.053                          | all_variables_used: **-5.121** = (1.000) * -5.121                                |\n",
       "| mean_depth_scoring_2: **0.751** = (1.000) * 0.751                          | all_preferences_used: **-4.585** = (1.000) * -4.585                              |\n",
       "| max_number_variables_types_quantified_types_1: **0.738** = (1.000) * 0.738 | ast_ngram_scoring_n_5_score: **-3.121** = (0.821) * -3.801                       |\n",
       "| on_arg_types_blocks_blocks_constraints: **0.617** = (1.000) * 0.617        | ast_ngram_terminal_n_5_score: **-3.030** = (0.969) * -3.128                      |\n",
       "| node_count_terminal_2: **0.193** = (1.000) * 0.193                         | all_variables_defined: **-2.156** = (1.000) * -2.156                             |\n",
       "| mean_depth_constraints_0: **0.159** = (1.000) * 0.159                      | mean_depth_setup_0: **-2.025** = (1.000) * -2.025                                |\n",
       "| mean_depth_terminal_1: **0.128** = (1.000) * 0.128                         | max_depth_setup_0: **-1.956** = (1.000) * -1.956                                 |\n",
       "| max_depth_terminal_1: **0.067** = (1.000) * 0.067                          | node_count_setup_0: **-1.848** = (1.000) * -1.848                                |\n",
       "| max_depth_constraints_0: **0.007** = (1.000) * 0.007                       | section_doesnt_exist_setup: **-1.837** = (1.000) * -1.837                        |\n",
       "|                                                                            | max_depth_scoring_2: **-1.025** = (1.000) * -1.025                               |\n",
       "|                                                                            | max_quantification_count_setup_0: **-0.857** = (1.000) * -0.857                  |\n",
       "|                                                                            | max_number_variables_types_quantified_variables_1: **-0.771** = (1.000) * -0.771 |\n",
       "|                                                                            | node_count_constraints_0: **-0.547** = (1.000) * -0.547                          |\n",
       "|                                                                            | max_quantification_count_constraints_1: **-0.428** = (1.000) * -0.428            |"
      ],
      "text/plain": [
       "<IPython.core.display.Markdown object>"
      ]
     },
     "metadata": {},
     "output_type": "display_data"
    },
    {
     "data": {
      "text/markdown": [
       "### Game:"
      ],
      "text/plain": [
       "<IPython.core.display.Markdown object>"
      ]
     },
     "metadata": {},
     "output_type": "display_data"
    },
    {
     "data": {
      "text/markdown": [
       "```pddl\n",
       "(define (game evo-121-121) (:domain many-objects-room-v1)\n",
       "(:constraints\n",
       "  (and\n",
       "    (preference preference0\n",
       "      (exists (?v0 - block)\n",
       "        (at-end\n",
       "          (on ?v0 ?v0)\n",
       "        )\n",
       "      )\n",
       "    )\n",
       "  )\n",
       ")\n",
       "(:terminal\n",
       "  (>= (total-score) 4 )\n",
       ")\n",
       "(:scoring\n",
       "  (* 4 (count-once preference0:golfball) )\n",
       ")\n",
       ")\n",
       "```"
      ],
      "text/plain": [
       "<IPython.core.display.Markdown object>"
      ]
     },
     "metadata": {},
     "output_type": "display_data"
    },
    {
     "data": {
      "text/markdown": [
       "### Energy of visualized game: -46.890"
      ],
      "text/plain": [
       "<IPython.core.display.Markdown object>"
      ]
     },
     "metadata": {},
     "output_type": "display_data"
    },
    {
     "data": {
      "text/markdown": [
       "### Top features contributing to the game's energy\n",
       "feature name: **value** = (original feature value => regrown feature value) * weight"
      ],
      "text/plain": [
       "<IPython.core.display.Markdown object>"
      ]
     },
     "metadata": {},
     "output_type": "display_data"
    },
    {
     "data": {
      "text/markdown": [
       "| Features increasing energy (= more fake)                                   | Features decreasing energy (= more real)                                         |\n",
       "|----------------------------------------------------------------------------|----------------------------------------------------------------------------------|\n",
       "| two_number_operation_found: **4.276** = (1.000) * 4.276                    | ast_ngram_constraints_n_7_score: **-15.211** = (0.711) * -21.388                 |\n",
       "| nested_logicals_found: **2.406** = (1.000) * 2.406                         | ast_ngram_full_n_7_score: **-14.141** = (0.485) * -29.148                        |\n",
       "| node_count_scoring_1: **1.053** = (1.000) * 1.053                          | all_variables_used: **-5.121** = (1.000) * -5.121                                |\n",
       "| max_number_variables_types_quantified_types_1: **0.738** = (1.000) * 0.738 | ast_ngram_scoring_n_5_score: **-2.754** = (0.725) * -3.801                       |\n",
       "| section_without_pref_or_total_count_scoring: **0.293** = (1.000) * 0.293   | all_variables_defined: **-2.156** = (1.000) * -2.156                             |\n",
       "| mean_depth_constraints_0: **0.159** = (1.000) * 0.159                      | mean_depth_setup_0: **-2.025** = (1.000) * -2.025                                |\n",
       "|                                                                            | max_depth_setup_0: **-1.956** = (1.000) * -1.956                                 |\n",
       "|                                                                            | node_count_setup_0: **-1.848** = (1.000) * -1.848                                |\n",
       "|                                                                            | section_doesnt_exist_setup: **-1.837** = (1.000) * -1.837                        |\n",
       "|                                                                            | mean_depth_scoring_1: **-1.116** = (1.000) * -1.116                              |\n",
       "|                                                                            | max_depth_scoring_2: **-1.025** = (1.000) * -1.025                               |\n",
       "|                                                                            | mean_depth_terminal_0: **-0.917** = (1.000) * -0.917                             |\n",
       "|                                                                            | max_depth_terminal_0: **-0.906** = (1.000) * -0.906                              |\n",
       "|                                                                            | max_quantification_count_setup_0: **-0.857** = (1.000) * -0.857                  |\n",
       "|                                                                            | max_number_variables_types_quantified_variables_1: **-0.771** = (1.000) * -0.771 |\n",
       "|                                                                            | section_doesnt_exist_terminal: **-0.761** = (1.000) * -0.761                     |\n",
       "|                                                                            | max_depth_constraints_1: **-0.732** = (1.000) * -0.732                           |\n",
       "|                                                                            | node_count_terminal_0: **-0.703** = (1.000) * -0.703                             |\n",
       "|                                                                            | node_count_constraints_0: **-0.547** = (1.000) * -0.547                          |\n",
       "|                                                                            | max_quantification_count_constraints_1: **-0.428** = (1.000) * -0.428            |"
      ],
      "text/plain": [
       "<IPython.core.display.Markdown object>"
      ]
     },
     "metadata": {},
     "output_type": "display_data"
    },
    {
     "data": {
      "text/markdown": [
       "### Game:"
      ],
      "text/plain": [
       "<IPython.core.display.Markdown object>"
      ]
     },
     "metadata": {},
     "output_type": "display_data"
    },
    {
     "data": {
      "text/markdown": [
       "```pddl\n",
       "(define (game evo-390-390) (:domain many-objects-room-v1)\n",
       "(:constraints\n",
       "  (and\n",
       "    (preference preference0\n",
       "      (exists (?v0 - tan_cube_block)\n",
       "        (at-end\n",
       "          (not\n",
       "            (not\n",
       "              (agent_holds ?v0)\n",
       "            )\n",
       "          )\n",
       "        )\n",
       "      )\n",
       "    )\n",
       "  )\n",
       ")\n",
       "(:scoring\n",
       "  (* 8 10 (+ 3 2 )\n",
       "  )\n",
       ")\n",
       ")\n",
       "```"
      ],
      "text/plain": [
       "<IPython.core.display.Markdown object>"
      ]
     },
     "metadata": {},
     "output_type": "display_data"
    },
    {
     "data": {
      "text/markdown": [
       "### Energy of visualized game: -46.800"
      ],
      "text/plain": [
       "<IPython.core.display.Markdown object>"
      ]
     },
     "metadata": {},
     "output_type": "display_data"
    },
    {
     "data": {
      "text/markdown": [
       "### Top features contributing to the game's energy\n",
       "feature name: **value** = (original feature value => regrown feature value) * weight"
      ],
      "text/plain": [
       "<IPython.core.display.Markdown object>"
      ]
     },
     "metadata": {},
     "output_type": "display_data"
    },
    {
     "data": {
      "text/markdown": [
       "| Features increasing energy (= more fake)                                   | Features decreasing energy (= more real)                                         |\n",
       "|----------------------------------------------------------------------------|----------------------------------------------------------------------------------|\n",
       "| pref_forall_used_incorrect: **6.136** = (1.000) * 6.136                    | ast_ngram_full_n_7_score: **-16.850** = (0.578) * -29.148                        |\n",
       "| in_arg_types_other_constraints: **3.698** = (1.000) * 3.698                | ast_ngram_constraints_n_7_score: **-12.481** = (0.584) * -21.388                 |\n",
       "| node_count_scoring_1: **1.053** = (1.000) * 1.053                          | all_variables_used: **-5.121** = (1.000) * -5.121                                |\n",
       "| mean_depth_scoring_2: **0.751** = (1.000) * 0.751                          | all_preferences_used: **-4.585** = (1.000) * -4.585                              |\n",
       "| max_number_variables_types_quantified_types_1: **0.738** = (1.000) * 0.738 | ast_ngram_scoring_n_5_score: **-3.577** = (0.941) * -3.801                       |\n",
       "| mean_depth_constraints_0: **0.159** = (1.000) * 0.159                      | all_variables_defined: **-2.156** = (1.000) * -2.156                             |\n",
       "| max_depth_constraints_0: **0.007** = (1.000) * 0.007                       | mean_depth_setup_0: **-2.025** = (1.000) * -2.025                                |\n",
       "|                                                                            | max_depth_setup_0: **-1.956** = (1.000) * -1.956                                 |\n",
       "|                                                                            | node_count_setup_0: **-1.848** = (1.000) * -1.848                                |\n",
       "|                                                                            | section_doesnt_exist_setup: **-1.837** = (1.000) * -1.837                        |\n",
       "|                                                                            | max_depth_scoring_2: **-1.025** = (1.000) * -1.025                               |\n",
       "|                                                                            | mean_depth_terminal_0: **-0.917** = (1.000) * -0.917                             |\n",
       "|                                                                            | max_depth_terminal_0: **-0.906** = (1.000) * -0.906                              |\n",
       "|                                                                            | max_quantification_count_setup_0: **-0.857** = (1.000) * -0.857                  |\n",
       "|                                                                            | max_number_variables_types_quantified_variables_1: **-0.771** = (1.000) * -0.771 |\n",
       "|                                                                            | section_doesnt_exist_terminal: **-0.761** = (1.000) * -0.761                     |\n",
       "|                                                                            | node_count_terminal_0: **-0.703** = (1.000) * -0.703                             |\n",
       "|                                                                            | node_count_constraints_0: **-0.547** = (1.000) * -0.547                          |\n",
       "|                                                                            | max_quantification_count_constraints_1: **-0.428** = (1.000) * -0.428            |"
      ],
      "text/plain": [
       "<IPython.core.display.Markdown object>"
      ]
     },
     "metadata": {},
     "output_type": "display_data"
    },
    {
     "data": {
      "text/markdown": [
       "### Game:"
      ],
      "text/plain": [
       "<IPython.core.display.Markdown object>"
      ]
     },
     "metadata": {},
     "output_type": "display_data"
    },
    {
     "data": {
      "text/markdown": [
       "```pddl\n",
       "(define (game evo-340-340) (:domain medium-objects-room-v1)\n",
       "(:constraints\n",
       "  (and\n",
       "    (preference preference0\n",
       "      (exists (?v0 - (either hexagonal_bin))\n",
       "        (at-end\n",
       "          (in rug ?v0)\n",
       "        )\n",
       "      )\n",
       "    )\n",
       "  )\n",
       ")\n",
       "(:scoring\n",
       "  (* 2 (count preference0:golfball) )\n",
       ")\n",
       ")\n",
       "```"
      ],
      "text/plain": [
       "<IPython.core.display.Markdown object>"
      ]
     },
     "metadata": {},
     "output_type": "display_data"
    },
    {
     "data": {
      "text/markdown": [
       "### Energy of visualized game: -44.459"
      ],
      "text/plain": [
       "<IPython.core.display.Markdown object>"
      ]
     },
     "metadata": {},
     "output_type": "display_data"
    },
    {
     "data": {
      "text/markdown": [
       "### Top features contributing to the game's energy\n",
       "feature name: **value** = (original feature value => regrown feature value) * weight"
      ],
      "text/plain": [
       "<IPython.core.display.Markdown object>"
      ]
     },
     "metadata": {},
     "output_type": "display_data"
    },
    {
     "data": {
      "text/markdown": [
       "| Features increasing energy (= more fake)                                   | Features decreasing energy (= more real)                                         |\n",
       "|----------------------------------------------------------------------------|----------------------------------------------------------------------------------|\n",
       "| pref_forall_used_incorrect: **6.136** = (1.000) * 6.136                    | ast_ngram_full_n_7_score: **-13.388** = (0.459) * -29.148                        |\n",
       "| distance_arg_types_other_constraints: **3.387** = (1.000) * 3.387          | ast_ngram_constraints_n_7_score: **-12.436** = (0.581) * -21.388                 |\n",
       "| max_depth_scoring_1: **0.929** = (1.000) * 0.929                           | all_variables_used: **-5.121** = (1.000) * -5.121                                |\n",
       "| max_number_variables_types_quantified_types_1: **0.738** = (1.000) * 0.738 | all_preferences_used: **-4.585** = (1.000) * -4.585                              |\n",
       "| mean_depth_constraints_1: **0.389** = (1.000) * 0.389                      | ast_ngram_scoring_n_5_score: **-3.183** = (0.837) * -3.801                       |\n",
       "| node_count_scoring_0: **0.318** = (1.000) * 0.318                          | all_variables_defined: **-2.156** = (1.000) * -2.156                             |\n",
       "|                                                                            | mean_depth_setup_0: **-2.025** = (1.000) * -2.025                                |\n",
       "|                                                                            | max_depth_setup_0: **-1.956** = (1.000) * -1.956                                 |\n",
       "|                                                                            | node_count_setup_0: **-1.848** = (1.000) * -1.848                                |\n",
       "|                                                                            | section_doesnt_exist_setup: **-1.837** = (1.000) * -1.837                        |\n",
       "|                                                                            | mean_depth_scoring_1: **-1.116** = (1.000) * -1.116                              |\n",
       "|                                                                            | mean_depth_terminal_0: **-0.917** = (1.000) * -0.917                             |\n",
       "|                                                                            | max_depth_terminal_0: **-0.906** = (1.000) * -0.906                              |\n",
       "|                                                                            | max_quantification_count_setup_0: **-0.857** = (1.000) * -0.857                  |\n",
       "|                                                                            | max_number_variables_types_quantified_variables_1: **-0.771** = (1.000) * -0.771 |\n",
       "|                                                                            | section_doesnt_exist_terminal: **-0.761** = (1.000) * -0.761                     |\n",
       "|                                                                            | max_depth_constraints_1: **-0.732** = (1.000) * -0.732                           |\n",
       "|                                                                            | node_count_terminal_0: **-0.703** = (1.000) * -0.703                             |\n",
       "|                                                                            | node_count_constraints_0: **-0.547** = (1.000) * -0.547                          |\n",
       "|                                                                            | max_quantification_count_constraints_1: **-0.428** = (1.000) * -0.428            |"
      ],
      "text/plain": [
       "<IPython.core.display.Markdown object>"
      ]
     },
     "metadata": {},
     "output_type": "display_data"
    },
    {
     "data": {
      "text/markdown": [
       "### Game:"
      ],
      "text/plain": [
       "<IPython.core.display.Markdown object>"
      ]
     },
     "metadata": {},
     "output_type": "display_data"
    },
    {
     "data": {
      "text/markdown": [
       "```pddl\n",
       "(define (game evo-192-192) (:domain many-objects-room-v1)\n",
       "(:constraints\n",
       "  (and\n",
       "    (preference preference0\n",
       "      (exists (?v0 - beachball)\n",
       "        (at-end\n",
       "          (and\n",
       "            (in_motion ?v0)\n",
       "            (>= (distance rug ?v0) (distance side_table ?v0))\n",
       "          )\n",
       "        )\n",
       "      )\n",
       "    )\n",
       "  )\n",
       ")\n",
       "(:scoring\n",
       "  (count preference0:hexagonal_bin)\n",
       ")\n",
       ")\n",
       "```"
      ],
      "text/plain": [
       "<IPython.core.display.Markdown object>"
      ]
     },
     "metadata": {},
     "output_type": "display_data"
    },
    {
     "data": {
      "text/markdown": [
       "### Energy of visualized game: -44.415"
      ],
      "text/plain": [
       "<IPython.core.display.Markdown object>"
      ]
     },
     "metadata": {},
     "output_type": "display_data"
    },
    {
     "data": {
      "text/markdown": [
       "### Top features contributing to the game's energy\n",
       "feature name: **value** = (original feature value => regrown feature value) * weight"
      ],
      "text/plain": [
       "<IPython.core.display.Markdown object>"
      ]
     },
     "metadata": {},
     "output_type": "display_data"
    },
    {
     "data": {
      "text/markdown": [
       "| Features increasing energy (= more fake)                                   | Features decreasing energy (= more real)                                         |\n",
       "|----------------------------------------------------------------------------|----------------------------------------------------------------------------------|\n",
       "| pref_forall_used_incorrect: **6.136** = (1.000) * 6.136                    | ast_ngram_constraints_n_7_score: **-15.643** = (0.731) * -21.388                 |\n",
       "| max_depth_scoring_1: **0.929** = (1.000) * 0.929                           | ast_ngram_full_n_7_score: **-13.258** = (0.455) * -29.148                        |\n",
       "| max_number_variables_types_quantified_types_1: **0.738** = (1.000) * 0.738 | all_preferences_used: **-4.585** = (1.000) * -4.585                              |\n",
       "| max_depth_terminal_2: **0.629** = (1.000) * 0.629                          | ast_ngram_scoring_n_5_score: **-3.183** = (0.837) * -3.801                       |\n",
       "| length_of_then_modals_1: **0.356** = (1.000) * 0.356                       | all_variables_defined: **-2.156** = (1.000) * -2.156                             |\n",
       "| node_count_scoring_0: **0.318** = (1.000) * 0.318                          | mean_depth_setup_0: **-2.025** = (1.000) * -2.025                                |\n",
       "| node_count_terminal_2: **0.193** = (1.000) * 0.193                         | ast_ngram_terminal_n_5_score: **-2.002** = (0.640) * -3.128                      |\n",
       "| mean_depth_constraints_0: **0.159** = (1.000) * 0.159                      | max_depth_setup_0: **-1.956** = (1.000) * -1.956                                 |\n",
       "|                                                                            | node_count_setup_0: **-1.848** = (1.000) * -1.848                                |\n",
       "|                                                                            | section_doesnt_exist_setup: **-1.837** = (1.000) * -1.837                        |\n",
       "|                                                                            | mean_depth_scoring_1: **-1.116** = (1.000) * -1.116                              |\n",
       "|                                                                            | max_quantification_count_setup_0: **-0.857** = (1.000) * -0.857                  |\n",
       "|                                                                            | max_number_variables_types_quantified_variables_1: **-0.771** = (1.000) * -0.771 |\n",
       "|                                                                            | max_depth_constraints_1: **-0.732** = (1.000) * -0.732                           |\n",
       "|                                                                            | node_count_constraints_0: **-0.547** = (1.000) * -0.547                          |\n",
       "|                                                                            | predicate_under_modal_hold_in_motion: **-0.529** = (1.000) * -0.529              |\n",
       "|                                                                            | max_quantification_count_constraints_1: **-0.428** = (1.000) * -0.428            |\n",
       "|                                                                            | mean_depth_terminal_2: **-0.213** = (1.000) * -0.213                             |\n",
       "|                                                                            | in_motion_arg_types_large_objects_constraints: **-0.197** = (1.000) * -0.197     |"
      ],
      "text/plain": [
       "<IPython.core.display.Markdown object>"
      ]
     },
     "metadata": {},
     "output_type": "display_data"
    },
    {
     "data": {
      "text/markdown": [
       "### Game:"
      ],
      "text/plain": [
       "<IPython.core.display.Markdown object>"
      ]
     },
     "metadata": {},
     "output_type": "display_data"
    },
    {
     "data": {
      "text/markdown": [
       "```pddl\n",
       "(define (game evo-351-351) (:domain few-objects-room-v1)\n",
       "(:constraints\n",
       "  (and\n",
       "    (preference preference0\n",
       "      (exists (?v0 - chair ?v1 - teddy_bear)\n",
       "        (then\n",
       "          (hold (in_motion ?v1) )\n",
       "        )\n",
       "      )\n",
       "    )\n",
       "  )\n",
       ")\n",
       "(:terminal\n",
       "  (> (count-unique-positions preference0:blue_pyramid_block) 10 )\n",
       ")\n",
       "(:scoring\n",
       "  (count preference0:hexagonal_bin)\n",
       ")\n",
       ")\n",
       "```"
      ],
      "text/plain": [
       "<IPython.core.display.Markdown object>"
      ]
     },
     "metadata": {},
     "output_type": "display_data"
    },
    {
     "data": {
      "text/markdown": [
       "### Energy of visualized game: -43.359"
      ],
      "text/plain": [
       "<IPython.core.display.Markdown object>"
      ]
     },
     "metadata": {},
     "output_type": "display_data"
    },
    {
     "data": {
      "text/markdown": [
       "### Top features contributing to the game's energy\n",
       "feature name: **value** = (original feature value => regrown feature value) * weight"
      ],
      "text/plain": [
       "<IPython.core.display.Markdown object>"
      ]
     },
     "metadata": {},
     "output_type": "display_data"
    },
    {
     "data": {
      "text/markdown": [
       "| Features increasing energy (= more fake)                                   | Features decreasing energy (= more real)                                         |\n",
       "|----------------------------------------------------------------------------|----------------------------------------------------------------------------------|\n",
       "| pref_forall_used_incorrect: **6.136** = (1.000) * 6.136                    | ast_ngram_constraints_n_7_score: **-16.128** = (0.754) * -21.388                 |\n",
       "| two_number_operation_found: **4.276** = (1.000) * 4.276                    | ast_ngram_full_n_7_score: **-14.065** = (0.483) * -29.148                        |\n",
       "| agent_holds_arg_types_any_object_constraints: **1.186** = (1.000) * 1.186  | all_variables_used: **-5.121** = (1.000) * -5.121                                |\n",
       "| max_depth_scoring_1: **0.929** = (1.000) * 0.929                           | all_preferences_used: **-4.585** = (1.000) * -4.585                              |\n",
       "| max_number_variables_types_quantified_types_1: **0.738** = (1.000) * 0.738 | ast_ngram_terminal_n_5_score: **-2.389** = (0.764) * -3.128                      |\n",
       "| section_without_pref_or_total_count_terminal: **0.453** = (1.000) * 0.453  | all_variables_defined: **-2.156** = (1.000) * -2.156                             |\n",
       "| node_count_scoring_0: **0.318** = (1.000) * 0.318                          | ast_ngram_scoring_n_5_score: **-2.128** = (0.560) * -3.801                       |\n",
       "| node_count_terminal_2: **0.193** = (1.000) * 0.193                         | mean_depth_setup_0: **-2.025** = (1.000) * -2.025                                |\n",
       "| mean_depth_constraints_0: **0.159** = (1.000) * 0.159                      | max_depth_setup_0: **-1.956** = (1.000) * -1.956                                 |\n",
       "| mean_depth_terminal_1: **0.128** = (1.000) * 0.128                         | node_count_setup_0: **-1.848** = (1.000) * -1.848                                |\n",
       "| max_depth_terminal_1: **0.067** = (1.000) * 0.067                          | section_doesnt_exist_setup: **-1.837** = (1.000) * -1.837                        |\n",
       "| max_depth_constraints_0: **0.007** = (1.000) * 0.007                       | mean_depth_scoring_1: **-1.116** = (1.000) * -1.116                              |\n",
       "|                                                                            | max_quantification_count_setup_0: **-0.857** = (1.000) * -0.857                  |\n",
       "|                                                                            | max_number_variables_types_quantified_variables_1: **-0.771** = (1.000) * -0.771 |\n",
       "|                                                                            | node_count_constraints_0: **-0.547** = (1.000) * -0.547                          |\n",
       "|                                                                            | max_quantification_count_constraints_1: **-0.428** = (1.000) * -0.428            |"
      ],
      "text/plain": [
       "<IPython.core.display.Markdown object>"
      ]
     },
     "metadata": {},
     "output_type": "display_data"
    },
    {
     "data": {
      "text/markdown": [
       "### Game:"
      ],
      "text/plain": [
       "<IPython.core.display.Markdown object>"
      ]
     },
     "metadata": {},
     "output_type": "display_data"
    },
    {
     "data": {
      "text/markdown": [
       "```pddl\n",
       "(define (game evo-0-75-0) (:domain few-objects-room-v1)\n",
       "(:constraints\n",
       "  (and\n",
       "    (preference preference0\n",
       "      (exists (?v0 - game_object)\n",
       "        (at-end\n",
       "          (agent_holds ?v0)\n",
       "        )\n",
       "      )\n",
       "    )\n",
       "  )\n",
       ")\n",
       "(:terminal\n",
       "  (>= 3 4 )\n",
       ")\n",
       "(:scoring\n",
       "  (count-longest preference0:pink_dodgeball)\n",
       ")\n",
       ")\n",
       "```"
      ],
      "text/plain": [
       "<IPython.core.display.Markdown object>"
      ]
     },
     "metadata": {},
     "output_type": "display_data"
    },
    {
     "data": {
      "text/markdown": [
       "### Energy of visualized game: -40.979"
      ],
      "text/plain": [
       "<IPython.core.display.Markdown object>"
      ]
     },
     "metadata": {},
     "output_type": "display_data"
    },
    {
     "data": {
      "text/markdown": [
       "### Top features contributing to the game's energy\n",
       "feature name: **value** = (original feature value => regrown feature value) * weight"
      ],
      "text/plain": [
       "<IPython.core.display.Markdown object>"
      ]
     },
     "metadata": {},
     "output_type": "display_data"
    },
    {
     "data": {
      "text/markdown": [
       "| Features increasing energy (= more fake)                                   | Features decreasing energy (= more real)                                         |\n",
       "|----------------------------------------------------------------------------|----------------------------------------------------------------------------------|\n",
       "| pref_forall_used_incorrect: **6.136** = (1.000) * 6.136                    | ast_ngram_constraints_n_7_score: **-16.466** = (0.770) * -21.388                 |\n",
       "| disjoint_seq_funcs_found: **3.982** = (1.000) * 3.982                      | ast_ngram_full_n_7_score: **-13.068** = (0.448) * -29.148                        |\n",
       "| in_motion_arg_types_agent_constraints: **2.642** = (1.000) * 2.642         | all_variables_used: **-5.121** = (1.000) * -5.121                                |\n",
       "| node_count_scoring_1: **1.053** = (1.000) * 1.053                          | all_preferences_used: **-4.585** = (1.000) * -4.585                              |\n",
       "| mean_depth_terminal_4: **0.975** = (1.000) * 0.975                         | ast_ngram_scoring_n_5_score: **-2.669** = (0.702) * -3.801                       |\n",
       "| length_of_then_modals_3: **0.913** = (1.000) * 0.913                       | all_variables_defined: **-2.156** = (1.000) * -2.156                             |\n",
       "| mean_depth_scoring_2: **0.751** = (1.000) * 0.751                          | mean_depth_setup_0: **-2.025** = (1.000) * -2.025                                |\n",
       "| max_number_variables_types_quantified_types_1: **0.738** = (1.000) * 0.738 | max_depth_setup_0: **-1.956** = (1.000) * -1.956                                 |\n",
       "| mean_depth_constraints_1: **0.389** = (1.000) * 0.389                      | node_count_setup_0: **-1.848** = (1.000) * -1.848                                |\n",
       "| max_depth_terminal_4: **0.286** = (1.000) * 0.286                          | section_doesnt_exist_setup: **-1.837** = (1.000) * -1.837                        |\n",
       "| predicate_under_modal_once_in_motion: **0.120** = (1.000) * 0.120          | predicate_under_modal_once_agent_holds: **-1.114** = (1.000) * -1.114            |\n",
       "| starts_and_ends_once: **0.009** = (1.000) * 0.009                          | max_depth_scoring_2: **-1.025** = (1.000) * -1.025                               |\n",
       "|                                                                            | ast_ngram_terminal_n_5_score: **-0.915** = (0.292) * -3.128                      |\n",
       "|                                                                            | max_quantification_count_setup_0: **-0.857** = (1.000) * -0.857                  |\n",
       "|                                                                            | max_number_variables_types_quantified_variables_1: **-0.771** = (1.000) * -0.771 |\n",
       "|                                                                            | max_depth_constraints_1: **-0.732** = (1.000) * -0.732                           |\n",
       "|                                                                            | predicate_under_modal_hold_agent_holds: **-0.686** = (1.000) * -0.686            |\n",
       "|                                                                            | node_count_constraints_0: **-0.547** = (1.000) * -0.547                          |\n",
       "|                                                                            | max_quantification_count_constraints_1: **-0.428** = (1.000) * -0.428            |\n",
       "|                                                                            | node_count_terminal_3: **-0.106** = (1.000) * -0.106                             |"
      ],
      "text/plain": [
       "<IPython.core.display.Markdown object>"
      ]
     },
     "metadata": {},
     "output_type": "display_data"
    },
    {
     "data": {
      "text/markdown": [
       "### Game:"
      ],
      "text/plain": [
       "<IPython.core.display.Markdown object>"
      ]
     },
     "metadata": {},
     "output_type": "display_data"
    },
    {
     "data": {
      "text/markdown": [
       "```pddl\n",
       "(define (game evo-9-9) (:domain medium-objects-room-v1)\n",
       "(:constraints\n",
       "  (and\n",
       "    (preference preference0\n",
       "      (exists (?v0 - cube_block)\n",
       "        (then\n",
       "          (once (in_motion agent) )\n",
       "          (hold (agent_holds ?v0) )\n",
       "          (once (not (agent_holds ?v0) ) )\n",
       "        )\n",
       "      )\n",
       "    )\n",
       "  )\n",
       ")\n",
       "(:terminal\n",
       "  (or\n",
       "    (>= (* 2 (count preference0:hexagonal_bin:dodgeball) 10 )\n",
       "      (count preference0:doggie_bed)\n",
       "    )\n",
       "    (> (total-score) (count-once-per-objects preference0:green) )\n",
       "  )\n",
       ")\n",
       "(:scoring\n",
       "  (* (count-once-per-objects preference0) (count preference0:yellow) 4 )\n",
       ")\n",
       ")\n",
       "```"
      ],
      "text/plain": [
       "<IPython.core.display.Markdown object>"
      ]
     },
     "metadata": {},
     "output_type": "display_data"
    }
   ],
   "source": [
    "gen = 0\n",
    "n_best = 10\n",
    "evo_sampler_diversity = typing.cast(PopulationBasedSampler, utils.load_data('2023_05_01', 'samples/every_gen', f'evo_sampler_microbial_ga_gen_{gen}'))\n",
    "\n",
    "for i in range(1, n_best + 1):\n",
    "    evo_sampler_diversity.visualize_top_sample(i, postprocess_sample=True)\n"
   ]
  },
  {
   "cell_type": "code",
   "execution_count": 45,
   "metadata": {},
   "outputs": [],
   "source": [
    "sampler = ASTSampler(evo_sampler_pop_500_diversity.grammar_parser, evo_sampler_pop_500_diversity.counter, seed=0,\n",
    "                     omit_rules=['at_end'])\n",
    "\n",
    "evo_sampler_pop_500_diversity.initial_sampler.sampler = sampler"
   ]
  },
  {
   "cell_type": "code",
   "execution_count": 50,
   "metadata": {},
   "outputs": [
    {
     "name": "stdout",
     "output_type": "stream",
     "text": [
      "28.85328483581543\n",
      "(define (game game-id-510) (:domain medium-objects-room-v1)\n",
      "(:constraints\n",
      "  (and\n",
      "    (preference binKnockedOver\n",
      "      (exists (?o3 - (either pillow))\n",
      "        (then\n",
      "          (once (agent_holds ?o3) )\n",
      "          (hold-while (in_motion ?o3) (in_motion desk) )\n",
      "          (once (and (touch ?o3 ?o3) (on ?o3 ?o3) ) )\n",
      "        )\n",
      "      )\n",
      "    )\n",
      "  )\n",
      ")\n",
      "(:terminal\n",
      "  (>= 1 50 )\n",
      ")\n",
      "(:scoring\n",
      "  (* 6 10 (+ (count binKnockedOver:dodgeball) 5 )\n",
      "  )\n",
      ")\n",
      ")\n"
     ]
    }
   ],
   "source": [
    "s = evo_sampler_pop_500_diversity.initial_sampler.sample()\n",
    "e = evo_sampler_pop_500_diversity._score_proposal(s)\n",
    "print(e)\n",
    "print(ast_printer.ast_to_string(s, '\\n'))"
   ]
  },
  {
   "cell_type": "code",
   "execution_count": 39,
   "metadata": {},
   "outputs": [
    {
     "data": {
      "text/plain": [
       "{'exists_vars': {'options': 'variable_list',\n",
       "  'rule_posterior': {'variable_list': 1.0},\n",
       "  'type_posterior': {'rule': 1.0, 'token': 0.0}},\n",
       " 'exists_args': {'options': ['then', 'at_end'],\n",
       "  'rule_posterior': {'then': 0.8042328042328042,\n",
       "   'at_end': 0.19576719576719576},\n",
       "  'type_posterior': {'rule': 1.0, 'token': 0.0}},\n",
       " 'production': [('token', '(exists'),\n",
       "  ('named', 'exists_vars'),\n",
       "  ('named', 'exists_args'),\n",
       "  ('token', ')')]}"
      ]
     },
     "execution_count": 39,
     "metadata": {},
     "output_type": "execute_result"
    }
   ],
   "source": [
    "evo_sampler_pop_500_diversity.samplers[0].rules['pref_body_exists']"
   ]
  },
  {
   "cell_type": "code",
   "execution_count": 40,
   "metadata": {},
   "outputs": [],
   "source": [
    "sampler = ASTSampler(evo_sampler_pop_500_diversity.grammar_parser, evo_sampler_pop_500_diversity.counter, seed=0,\n",
    "                     omit_rules=['at_end'])"
   ]
  },
  {
   "cell_type": "code",
   "execution_count": 41,
   "metadata": {},
   "outputs": [
    {
     "data": {
      "text/plain": [
       "{'exists_vars': {'options': 'variable_list',\n",
       "  'rule_posterior': {'variable_list': 1.0},\n",
       "  'type_posterior': {'rule': 1.0, 'token': 0.0}},\n",
       " 'exists_args': {'options': ['then', 'at_end'],\n",
       "  'rule_posterior': {'then': 1.0},\n",
       "  'type_posterior': {'rule': 1.0, 'token': 0.0}},\n",
       " 'production': [('token', '(exists'),\n",
       "  ('named', 'exists_vars'),\n",
       "  ('named', 'exists_args'),\n",
       "  ('token', ')')]}"
      ]
     },
     "execution_count": 41,
     "metadata": {},
     "output_type": "execute_result"
    }
   ],
   "source": [
    "sampler.rules['pref_body_exists']"
   ]
  }
 ],
 "metadata": {
  "kernelspec": {
   "display_name": "game-gen",
   "language": "python",
   "name": "python3"
  },
  "language_info": {
   "codemirror_mode": {
    "name": "ipython",
    "version": 3
   },
   "file_extension": ".py",
   "mimetype": "text/x-python",
   "name": "python",
   "nbconvert_exporter": "python",
   "pygments_lexer": "ipython3",
   "version": "3.10.8"
  },
  "orig_nbformat": 4
 },
 "nbformat": 4,
 "nbformat_minor": 2
}
