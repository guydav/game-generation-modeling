{
 "cells": [
  {
   "cell_type": "code",
   "execution_count": 1,
   "metadata": {},
   "outputs": [],
   "source": [
    "%autoreload 2"
   ]
  },
  {
   "cell_type": "code",
   "execution_count": 2,
   "metadata": {},
   "outputs": [
    {
     "name": "stderr",
     "output_type": "stream",
     "text": [
      "2023-08-03 10:49:07 - ast_utils - DEBUG    - Using cache folder: /tmp/game_generation_cache\n"
     ]
    }
   ],
   "source": [
    "from argparse import Namespace\n",
    "from collections import defaultdict\n",
    "import copy\n",
    "from datetime import datetime\n",
    "import difflib\n",
    "import gzip\n",
    "import itertools\n",
    "import os\n",
    "import pickle\n",
    "import sys\n",
    "import typing\n",
    "\n",
    "from IPython.display import display, Markdown, HTML  # type: ignore\n",
    "import matplotlib\n",
    "import matplotlib.pyplot as plt\n",
    "import numpy as np\n",
    "import pandas as pd\n",
    "import polars as pl\n",
    "import tatsu\n",
    "import tqdm.notebook as tqdmn\n",
    "\n",
    "\n",
    "sys.path.append(os.path.abspath('..'))\n",
    "sys.path.append(os.path.abspath('../reward-machine'))\n",
    "\n",
    "import compile_predicate_statistics\n",
    "import compile_predicate_statistics_split_args"
   ]
  },
  {
   "cell_type": "code",
   "execution_count": 34,
   "metadata": {},
   "outputs": [
    {
     "name": "stdout",
     "output_type": "stream",
     "text": [
      "Loaded data with shape (307835, 8) from /Users/guydavidson/projects/game-generation-modeling/reward-machine/caches/predicate_statistics_4d5dd602.pkl.gz\n"
     ]
    }
   ],
   "source": [
    "cache_dir = compile_predicate_statistics.get_project_dir() + '/reward-machine/caches'\n",
    "\n",
    "# regular_df = pd.read_pickle(os.path.join(cache_dir, 'predicate_statistics.pkl'))\n",
    "split_args_df = pd.read_pickle(os.path.join(cache_dir, 'predicate_statistics_4d5dd602.pkl.gz'))\n",
    "\n",
    "# stats = compile_predicate_statistics.CommonSensePredicateStatistics(cache_dir)\n",
    "split_args_stats = compile_predicate_statistics_split_args.CommonSensePredicateStatisticsSplitArgs(\n",
    "    cache_dir, compile_predicate_statistics_split_args.CURRENT_TEST_TRACE_NAMES, overwrite=False)"
   ]
  },
  {
   "cell_type": "code",
   "execution_count": 44,
   "metadata": {},
   "outputs": [
    {
     "data": {
      "text/html": [
       "<div>\n",
       "<style scoped>\n",
       "    .dataframe tbody tr th:only-of-type {\n",
       "        vertical-align: middle;\n",
       "    }\n",
       "\n",
       "    .dataframe tbody tr th {\n",
       "        vertical-align: top;\n",
       "    }\n",
       "\n",
       "    .dataframe thead th {\n",
       "        text-align: right;\n",
       "    }\n",
       "</style>\n",
       "<table border=\"1\" class=\"dataframe\">\n",
       "  <thead>\n",
       "    <tr style=\"text-align: right;\">\n",
       "      <th></th>\n",
       "      <th>predicate</th>\n",
       "      <th>arg_1_id</th>\n",
       "      <th>arg_1_type</th>\n",
       "      <th>arg_2_type</th>\n",
       "      <th>trace_id</th>\n",
       "      <th>domain</th>\n",
       "      <th>intervals</th>\n",
       "    </tr>\n",
       "    <tr>\n",
       "      <th>arg_2_id</th>\n",
       "      <th></th>\n",
       "      <th></th>\n",
       "      <th></th>\n",
       "      <th></th>\n",
       "      <th></th>\n",
       "      <th></th>\n",
       "      <th></th>\n",
       "    </tr>\n",
       "  </thead>\n",
       "  <tbody>\n",
       "    <tr>\n",
       "      <th>upright</th>\n",
       "      <td>5805</td>\n",
       "      <td>5805</td>\n",
       "      <td>5805</td>\n",
       "      <td>5805</td>\n",
       "      <td>5805</td>\n",
       "      <td>5805</td>\n",
       "      <td>5805</td>\n",
       "    </tr>\n",
       "  </tbody>\n",
       "</table>\n",
       "</div>"
      ],
      "text/plain": [
       "          predicate  arg_1_id  arg_1_type  arg_2_type  trace_id  domain  \\\n",
       "arg_2_id                                                                  \n",
       "upright        5805      5805        5805        5805      5805    5805   \n",
       "\n",
       "          intervals  \n",
       "arg_2_id             \n",
       "upright        5805  "
      ]
     },
     "execution_count": 44,
     "metadata": {},
     "output_type": "execute_result"
    }
   ],
   "source": [
    "split_args_df[split_args_df.predicate == 'object_orientation'].groupby(['arg_1_id', 'arg_2_id']).count()\n",
    "split_args_df[split_args_df.predicate == 'object_orientation'].groupby(['arg_2_id']).count()"
   ]
  },
  {
   "cell_type": "code",
   "execution_count": 50,
   "metadata": {},
   "outputs": [
    {
     "data": {
      "text/plain": [
       "dodgeball                 101\n",
       "cube_block                 97\n",
       "key_chain                  63\n",
       "agent                      58\n",
       "hexagonal_bin              48\n",
       "pillow                     45\n",
       "pink_dodgeball             41\n",
       "chair                      40\n",
       "tan_cube_block             34\n",
       "golfball                   33\n",
       "beachball                  32\n",
       "blue_dodgeball             32\n",
       "blue_cube_block            32\n",
       "yellow_cube_block          31\n",
       "red_dodgeball              28\n",
       "watch                      26\n",
       "laptop                     24\n",
       "book                       22\n",
       "teddy_bear                 22\n",
       "cellphone                  21\n",
       "credit_card                18\n",
       "desktop                    17\n",
       "doggie_bed                 17\n",
       "curved_wooden_ramp         16\n",
       "bridge_block               16\n",
       "pen                        15\n",
       "triangular_ramp            14\n",
       "drawer                     13\n",
       "cd                         13\n",
       "mug                        13\n",
       "pencil                     12\n",
       "green_golfball             10\n",
       "lamp                       10\n",
       "alarm_clock                 9\n",
       "flat_block                  7\n",
       "green_triangular_ramp       6\n",
       "tall_cylindrical_block      6\n",
       "tall_rectangular_block      5\n",
       "basketball                  5\n",
       "cylindrical_block           3\n",
       "bed                         3\n",
       "triangle_block              3\n",
       "pyramid_block               2\n",
       "blue_pyramid_block          1\n",
       "red_pyramid_block           1\n",
       "Name: arg_1_type, dtype: int64"
      ]
     },
     "execution_count": 50,
     "metadata": {},
     "output_type": "execute_result"
    }
   ],
   "source": [
    "split_args_df[split_args_df.predicate == 'in_motion'].arg_1_type.value_counts()"
   ]
  },
  {
   "cell_type": "code",
   "execution_count": null,
   "metadata": {},
   "outputs": [],
   "source": []
  },
  {
   "cell_type": "code",
   "execution_count": null,
   "metadata": {},
   "outputs": [],
   "source": []
  },
  {
   "cell_type": "code",
   "execution_count": null,
   "metadata": {},
   "outputs": [],
   "source": []
  },
  {
   "cell_type": "code",
   "execution_count": null,
   "metadata": {},
   "outputs": [],
   "source": []
  },
  {
   "cell_type": "code",
   "execution_count": 33,
   "metadata": {},
   "outputs": [
    {
     "name": "stdout",
     "output_type": "stream",
     "text": [
      "adjacent    338\n",
      "touch        16\n",
      "on           15\n",
      "Name: predicate, dtype: int64\n",
      "\n",
      "For predicate adjacent:\n",
      "main_light_switch    77\n",
      "mirror               77\n",
      "dodgeball            43\n",
      "agent                36\n",
      "pink_dodgeball       19\n",
      "red_dodgeball        14\n",
      "golfball             10\n",
      "blue_dodgeball       10\n",
      "beachball             5\n",
      "cube_block            5\n",
      "Name: arg_2_type, dtype: int64\n",
      "\n",
      "For predicate touch:\n",
      "chair              4\n",
      "book               3\n",
      "dodgeball          3\n",
      "red_dodgeball      2\n",
      "cd                 1\n",
      "triangular_ramp    1\n",
      "hexagonal_bin      1\n",
      "pink_dodgeball     1\n",
      "Name: arg_2_type, dtype: int64\n",
      "\n",
      "For predicate on:\n",
      "chair              4\n",
      "dodgeball          3\n",
      "book               2\n",
      "red_dodgeball      2\n",
      "cd                 1\n",
      "triangular_ramp    1\n",
      "hexagonal_bin      1\n",
      "pink_dodgeball     1\n",
      "Name: arg_2_type, dtype: int64\n",
      "\n"
     ]
    }
   ],
   "source": [
    "door_df = split_args_df[(split_args_df.arg_1_type == 'door') | (split_args_df.arg_1_type == 'door')]\n",
    "print(door_df.predicate.value_counts())\n",
    "print()\n",
    "for predicate in door_df.predicate.unique():\n",
    "    pred_df = door_df[door_df.predicate == predicate]\n",
    "    print(f'For predicate {predicate}:')\n",
    "    print(pred_df.arg_2_type.value_counts().iloc[:10])\n",
    "    print()"
   ]
  },
  {
   "cell_type": "code",
   "execution_count": 30,
   "metadata": {},
   "outputs": [
    {
     "name": "stdout",
     "output_type": "stream",
     "text": [
      "jCc0kkmGUg3xUmUSXg5w-gameplay-attempt-1-rerecorded\n",
      "jCc0kkmGUg3xUmUSXg5w-preCreateGame-rerecorded\n",
      "NJUY0YT1Pq6dZXsmw0wE-createGame-rerecorded\n"
     ]
    }
   ],
   "source": [
    "for tid in door_df[door_df.predicate == 'in_motion'].trace_id:\n",
    "    print(tid)"
   ]
  },
  {
   "cell_type": "code",
   "execution_count": 32,
   "metadata": {},
   "outputs": [
    {
     "data": {
      "text/plain": [
       "dodgeball                 101\n",
       "cube_block                 97\n",
       "key_chain                  63\n",
       "agent                      58\n",
       "hexagonal_bin              48\n",
       "pillow                     45\n",
       "pink_dodgeball             41\n",
       "chair                      40\n",
       "tan_cube_block             34\n",
       "golfball                   33\n",
       "beachball                  32\n",
       "blue_dodgeball             32\n",
       "blue_cube_block            32\n",
       "yellow_cube_block          31\n",
       "red_dodgeball              28\n",
       "watch                      26\n",
       "laptop                     24\n",
       "book                       22\n",
       "teddy_bear                 22\n",
       "cellphone                  21\n",
       "credit_card                18\n",
       "desktop                    17\n",
       "doggie_bed                 17\n",
       "curved_wooden_ramp         16\n",
       "bridge_block               16\n",
       "pen                        15\n",
       "triangular_ramp            14\n",
       "drawer                     13\n",
       "cd                         13\n",
       "mug                        13\n",
       "pencil                     12\n",
       "green_golfball             10\n",
       "lamp                       10\n",
       "alarm_clock                 9\n",
       "flat_block                  7\n",
       "green_triangular_ramp       6\n",
       "tall_cylindrical_block      6\n",
       "tall_rectangular_block      5\n",
       "basketball                  5\n",
       "cylindrical_block           3\n",
       "bed                         3\n",
       "triangle_block              3\n",
       "pyramid_block               2\n",
       "blue_pyramid_block          1\n",
       "red_pyramid_block           1\n",
       "Name: arg_1_type, dtype: int64"
      ]
     },
     "execution_count": 32,
     "metadata": {},
     "output_type": "execute_result"
    }
   ],
   "source": [
    "split_args_df[split_args_df.predicate == 'in_motion'].arg_1_type.value_counts()"
   ]
  },
  {
   "cell_type": "code",
   "execution_count": null,
   "metadata": {},
   "outputs": [],
   "source": [
    "stats._invert_intervals(regular_df[(regular_df.trace_id == trace_id) & (regular_df.predicate == 'in_motion') & (regular_df.arg_ids == (ball_id,))].intervals.values[0],\n",
    "                        stats.trace_lengths[trace_id])"
   ]
  },
  {
   "cell_type": "code",
   "execution_count": null,
   "metadata": {},
   "outputs": [],
   "source": [
    "split_args_df[(split_args_df.trace_id == trace_id) & (split_args_df.predicate == 'in') & (split_args_df.arg_1_id == bin_id) & (split_args_df.arg_2_id == ball_id)]"
   ]
  },
  {
   "cell_type": "code",
   "execution_count": null,
   "metadata": {},
   "outputs": [],
   "source": [
    "ball_not_in_motion_int = split_args_stats._invert_intervals(\n",
    "    split_args_df[(split_args_df.trace_id == trace_id) & (split_args_df.predicate == 'in_motion') & (split_args_df.arg_1_id == ball_id)].intervals.values[0],\n",
    "    split_args_stats.trace_lengths_and_domains[trace_id][0],\n",
    ")\n",
    "\n",
    "ball_not_in_motion_int"
   ]
  },
  {
   "cell_type": "code",
   "execution_count": null,
   "metadata": {},
   "outputs": [],
   "source": [
    "ball_in_bin_int = split_args_df[(split_args_df.trace_id == trace_id) & (split_args_df.predicate == 'in') & (split_args_df.arg_1_id == bin_id) & (split_args_df.arg_2_id == ball_id)].intervals.values[0]\n",
    "\n",
    "split_args_stats._intersect_intervals(ball_in_bin_int, ball_not_in_motion_int)"
   ]
  },
  {
   "cell_type": "code",
   "execution_count": null,
   "metadata": {},
   "outputs": [],
   "source": [
    "single_trace_split_args_df = split_args_df[split_args_df['trace_id'] == trace_id]\n",
    "\n",
    "single_trace_split_args_stats = compile_predicate_statistics_split_args.CommonSensePredicateStatisticsSplitArgs(cache_dir)\n",
    "single_trace_split_args_stats.data = pl.from_pandas(single_trace_split_args_df)\n",
    "single_trace_split_args_stats.data.shape"
   ]
  },
  {
   "cell_type": "code",
   "execution_count": null,
   "metadata": {},
   "outputs": [],
   "source": [
    "DEFAULT_GRAMMAR_PATH = \"../dsl/dsl.ebnf\"\n",
    "grammar = open(DEFAULT_GRAMMAR_PATH).read()\n",
    "grammar_parser = typing.cast(tatsu.grammars.Grammar, tatsu.compile(grammar))\n",
    "\n",
    "game = open(compile_predicate_statistics.get_project_dir() + '/reward-machine/games/ball_to_bin_from_bed.txt').read()\n",
    "game_ast = grammar_parser.parse(game) \n",
    "\n",
    "test_pred_1 = game_ast[4][1]['preferences'][0]['definition']['forall_pref']['preferences']['pref_body']['body']['exists_args']['then_funcs'][1]['seq_func']['hold_pred']\n",
    "\n",
    "# should be: (and (not (in_motion ?b)) (in ?h ?b)))\n",
    "test_pred_2 = game_ast[4][1]['preferences'][0]['definition']['forall_pref']['preferences']['pref_body']['body']['exists_args']['then_funcs'][2]['seq_func']['once_pred']"
   ]
  },
  {
   "cell_type": "code",
   "execution_count": null,
   "metadata": {},
   "outputs": [],
   "source": [
    "test_mapping = {\"?b\": [\"ball\"], \"?h\": [\"hexagonal_bin\"]}\n",
    "test_out = single_trace_split_args_stats.filter(test_pred_2, test_mapping)\n",
    "test_out"
   ]
  }
 ],
 "metadata": {
  "kernelspec": {
   "display_name": "game-gen",
   "language": "python",
   "name": "python3"
  },
  "language_info": {
   "codemirror_mode": {
    "name": "ipython",
    "version": 3
   },
   "file_extension": ".py",
   "mimetype": "text/x-python",
   "name": "python",
   "nbconvert_exporter": "python",
   "pygments_lexer": "ipython3",
   "version": "3.10.8"
  },
  "orig_nbformat": 4
 },
 "nbformat": 4,
 "nbformat_minor": 2
}
