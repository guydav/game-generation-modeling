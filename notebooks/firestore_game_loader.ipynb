{
 "cells": [
  {
   "cell_type": "code",
   "execution_count": 2,
   "metadata": {},
   "outputs": [],
   "source": [
    "\n",
    "import json\n",
    "import pandas as pd\n",
    "from IPython.display import display, Markdown, Latex\n",
    "\n",
    "import textstat\n",
    "import tabulate"
   ]
  },
  {
   "cell_type": "code",
   "execution_count": 3,
   "metadata": {},
   "outputs": [],
   "source": [
    "KEYS_TO_EXTRACT = ('participantID', 'timestamp', 'scene', \n",
    "    'game.setup', 'game.gameplay', 'game.scoring', 'game.difficulty', 'game.firstTimeScore', \n",
    "    'gameScore.score', 'gameScore.thoughts', \n",
    "    'debrief.strategy', 'debrief.difficulties', 'debrief.questions', 'debrief.external_aids')\n",
    "\n",
    "GAME_KEYS = ('setup', 'gameplay', 'scoring', 'difficulty', 'firstTimeScore')\n",
    "\n",
    "SHORT_SCENE_NAMES = {\n",
    "    'FloorPlan326_physics_semi_sparse_few_new_objects': 'few_objects',\n",
    "    'FloorPlan326_physics_semi_sparse_new_objects': 'medium_objects',\n",
    "    'FloorPlan326_physics_semi_sparse_many_new_objects': 'many_objects',\n",
    "}\n",
    "\n",
    "GAME_TEMPLATE = \"\"\"(define (game {participantID}) (:domain {room}-objects-room-v1)  ; {index}\n",
    "(:setup (and \n",
    "\n",
    "))\n",
    "(:constraints (and \n",
    "\n",
    "))\n",
    "(:scoring maximize\n",
    "\n",
    "))\"\"\"\n",
    "\n",
    "def recursive_extract_value(d, key):\n",
    "    if '.' in key:\n",
    "        split_key = key.split('.')\n",
    "\n",
    "    else:\n",
    "        split_key = [key]\n",
    "\n",
    "    value = d\n",
    "    for key_part in split_key:\n",
    "        if key_part == 'game':\n",
    "            key_part = 'editedGame' if 'editedGame' in value else 'initialGame'\n",
    "                \n",
    "        value = value[key_part] if key_part in value else None\n",
    "        if value == None:\n",
    "            return value\n",
    "\n",
    "    return value\n",
    "\n",
    "\n",
    "def is_edited_and_fields(doc_dict):\n",
    "    if 'initialGame' not in doc_dict:\n",
    "        return None, []\n",
    "\n",
    "    if 'editedGame' not in doc_dict:\n",
    "        return False, []\n",
    "\n",
    "    edited_fields = [key for key in GAME_KEYS if doc_dict['initialGame'][key] != doc_dict['editedGame'][key]]\n",
    "    return any(edited_fields), edited_fields\n",
    "\n",
    "\n",
    "def participant_dict_to_row(doc, keys=KEYS_TO_EXTRACT):\n",
    "    d = doc.to_dict()\n",
    "    row = {'id': doc.id}\n",
    "    row.update({key.replace('.', '_'): recursive_extract_value(d, key) for key in keys})\n",
    "    game_edited, edited_fields = is_edited_and_fields(d)\n",
    "    row['game_edited'] = game_edited\n",
    "    row['edited_game_fields'] = ','.join(edited_fields)\n",
    "    return row\n",
    "\n",
    "\n",
    "def print_participant(df, index, game_fields=('game_setup', 'game_gameplay', 'game_scoring', 'game_difficulty', 'game_firstTimeScore')):\n",
    "    p = df.loc[index]\n",
    "    display(Markdown(f'## {p.participantID} ({p.id}) ({p.scene})'))\n",
    "    display(Markdown(f'Collected at {p.timestamp}'))\n",
    "\n",
    "    for game_field in game_fields:\n",
    "        display(Markdown(f'### {game_field.replace(\"game_\", \"\")}:'))\n",
    "        display(Markdown(str(p[game_field])))\n",
    "\n",
    "    room = p.scene.split('_')[0] if p.scene is not None else ''\n",
    "    print(GAME_TEMPLATE.format(participantID=p.participantID, room=room, index=index))\n",
    "    print()\n",
    "\n",
    "    schema_template = dict(metadata=dict(prolific_id=p.participantID, id=p.id, index=index, room=p.scene, notes='')) \n",
    "    print(json.dumps(schema_template, indent=4))\n",
    "    \n",
    "\n",
    "STATISTICS_CSV_COLUMNS = (\n",
    "    'id', 'participantID', 'timestamp', 'scene', \n",
    "    'game_setup', 'game_gameplay', 'game_scoring', 'game_difficulty',\n",
    "    'game_firstTimeScore', 'gameScore_score', 'gameScore_thoughts',\n",
    "    'game_edited', 'edited_game_fields'\n",
    ")\n",
    "\n",
    "STATISTICS_CSV_COLUMN_REMAPPING = {'participantID': 'prolific_id'}\n",
    "\n",
    "STATISTICS_CSV_OUT_PATH = '../data/interactive_beta_firestore_statistics.csv'\n",
    "\n",
    "STATISTICS_IDS_TO_SKIP = ('GLPtcvJUaHkUYK7iEPRq', 'zhq2iVuBVQxs15gj7Blw')\n",
    "\n",
    "\n",
    "def df_to_statistics_csv(df, out_path=STATISTICS_CSV_OUT_PATH):\n",
    "    out_df = df.reindex(columns=STATISTICS_CSV_COLUMNS)\n",
    "    out_df = out_df.loc[[pid not in STATISTICS_IDS_TO_SKIP for pid in out_df.id], :]\n",
    "    out_df = out_df.rename(columns=STATISTICS_CSV_COLUMN_REMAPPING)\n",
    "    print(out_df.columns)\n",
    "    out_df.to_csv(out_path)\n"
   ]
  },
  {
   "cell_type": "code",
   "execution_count": 18,
   "metadata": {},
   "outputs": [
    {
     "name": "stdout",
     "output_type": "stream",
     "text": [
      "Index(['id', 'prolific_id', 'timestamp', 'scene', 'game_setup',\n",
      "       'game_gameplay', 'game_scoring', 'game_difficulty',\n",
      "       'game_firstTimeScore', 'gameScore_score', 'gameScore_thoughts',\n",
      "       'game_edited', 'edited_game_fields'],\n",
      "      dtype='object')\n"
     ]
    }
   ],
   "source": [
    "LOAD_DATA_FROM_FIRESTORE = False\n",
    "WRITE_DATA_TO_CSV = False\n",
    "PARTICIPANTS_CSV_PATH = '../data/interactive_beta.csv'\n",
    "COLLECTION_NAME = 'participants-v2'\n",
    "\n",
    "\n",
    "if LOAD_DATA_FROM_FIRESTORE:\n",
    "    import firebase_admin\n",
    "    from firebase_admin import credentials\n",
    "    from firebase_admin import firestore\n",
    "\n",
    "    # Use a service account\n",
    "    cred = credentials.Certificate('./game-generation-6db9c-aef76f1917f8.json')\n",
    "    firebase_admin.initialize_app(cred)\n",
    "\n",
    "    db = firestore.client()\n",
    "\n",
    "    participants_with_replays = db.collection(COLLECTION_NAME).order_by('timestamp', direction=firestore.Query.ASCENDING).order_by('replays', direction=firestore.Query.DESCENDING).stream()\n",
    "    participant_rows = [participant_dict_to_row(doc) for doc in participants_with_replays]\n",
    "    participant_df = pd.DataFrame(participant_rows)\n",
    "    participant_df.scene = [SHORT_SCENE_NAMES[s] if s in SHORT_SCENE_NAMES else None for s in participant_df.scene]\n",
    "    participant_df = participant_df[participant_df.scene.notna() & participant_df.game_setup.notna() & participant_df.game_gameplay.notna() & participant_df.game_scoring.notna()]\n",
    "    participant_df = participant_df[participant_df.participantID.str.len() > 10]\n",
    "    participant_df = participant_df[participant_df.participantID != '5f63a8f17e0e2f0c5aebfc0b']\n",
    "    participant_df = participant_df.reset_index()\n",
    "\n",
    "    if WRITE_DATA_TO_CSV:\n",
    "        participant_df.to_csv(PARTICIPANTS_CSV_PATH)\n",
    "        df_to_statistics_csv(participant_df)\n",
    "\n",
    "else:\n",
    "    participant_df = pd.read_csv(PARTICIPANTS_CSV_PATH)\n",
    "\n"
   ]
  },
  {
   "cell_type": "code",
   "execution_count": 19,
   "metadata": {},
   "outputs": [
    {
     "name": "stdout",
     "output_type": "stream",
     "text": [
      "(119, 18)\n"
     ]
    },
    {
     "data": {
      "text/html": [
       "<div>\n",
       "<style scoped>\n",
       "    .dataframe tbody tr th:only-of-type {\n",
       "        vertical-align: middle;\n",
       "    }\n",
       "\n",
       "    .dataframe tbody tr th {\n",
       "        vertical-align: top;\n",
       "    }\n",
       "\n",
       "    .dataframe thead th {\n",
       "        text-align: right;\n",
       "    }\n",
       "</style>\n",
       "<table border=\"1\" class=\"dataframe\">\n",
       "  <thead>\n",
       "    <tr style=\"text-align: right;\">\n",
       "      <th></th>\n",
       "      <th>index</th>\n",
       "      <th>id</th>\n",
       "      <th>participantID</th>\n",
       "      <th>timestamp</th>\n",
       "      <th>scene</th>\n",
       "      <th>game_setup</th>\n",
       "      <th>game_gameplay</th>\n",
       "      <th>game_scoring</th>\n",
       "      <th>game_difficulty</th>\n",
       "      <th>game_firstTimeScore</th>\n",
       "      <th>gameScore_score</th>\n",
       "      <th>gameScore_thoughts</th>\n",
       "      <th>debrief_strategy</th>\n",
       "      <th>debrief_difficulties</th>\n",
       "      <th>debrief_questions</th>\n",
       "      <th>debrief_external_aids</th>\n",
       "      <th>game_edited</th>\n",
       "      <th>edited_game_fields</th>\n",
       "    </tr>\n",
       "  </thead>\n",
       "  <tbody>\n",
       "    <tr>\n",
       "      <th>0</th>\n",
       "      <td>17</td>\n",
       "      <td>RfP7c4trKFGmDp6xpiG8</td>\n",
       "      <td>6172feb1665491d1efbce164</td>\n",
       "      <td>2021-10-22 20:57:12.168000+00:00</td>\n",
       "      <td>medium_objects</td>\n",
       "      <td>Place small ramp in front of bin where there i...</td>\n",
       "      <td>Take ball (any), and try to get it into the bi...</td>\n",
       "      <td>1 point per successful hit.</td>\n",
       "      <td>1</td>\n",
       "      <td>6</td>\n",
       "      <td>None</td>\n",
       "      <td>None</td>\n",
       "      <td>None</td>\n",
       "      <td>None</td>\n",
       "      <td>None</td>\n",
       "      <td>None</td>\n",
       "      <td>False</td>\n",
       "      <td></td>\n",
       "    </tr>\n",
       "    <tr>\n",
       "      <th>1</th>\n",
       "      <td>18</td>\n",
       "      <td>eYM9NgeUlg9mGpwlGemD</td>\n",
       "      <td>613a4662d21e1715cc079587</td>\n",
       "      <td>2021-10-22 20:58:20.433000+00:00</td>\n",
       "      <td>many_objects</td>\n",
       "      <td></td>\n",
       "      <td>The game I can play in this room it is call me...</td>\n",
       "      <td>the scoring system can be the more hits you ha...</td>\n",
       "      <td>1</td>\n",
       "      <td>from 1 to 10. I would say an 8 haha, I'm not g...</td>\n",
       "      <td>I scored 7</td>\n",
       "      <td>I think it might be better if the objects disa...</td>\n",
       "      <td>Starting by memorizing the shapes of objects a...</td>\n",
       "      <td>yes, it could be that the game programming is ...</td>\n",
       "      <td>I would like to play the game when it is fully...</td>\n",
       "      <td>no</td>\n",
       "      <td>False</td>\n",
       "      <td></td>\n",
       "    </tr>\n",
       "    <tr>\n",
       "      <th>2</th>\n",
       "      <td>19</td>\n",
       "      <td>SFpazSkgQ7MFSwDEa3c9</td>\n",
       "      <td>5f77754ba932fb2c4ba181d8</td>\n",
       "      <td>2021-10-22 21:02:15.391000+00:00</td>\n",
       "      <td>many_objects</td>\n",
       "      <td>Open the top drawer beside your bed.</td>\n",
       "      <td>First you pick up a dodgeball or a golf ball a...</td>\n",
       "      <td>To score in this game you just have to throw a...</td>\n",
       "      <td>1</td>\n",
       "      <td>10</td>\n",
       "      <td>None</td>\n",
       "      <td>None</td>\n",
       "      <td>None</td>\n",
       "      <td>None</td>\n",
       "      <td>None</td>\n",
       "      <td>None</td>\n",
       "      <td>False</td>\n",
       "      <td></td>\n",
       "    </tr>\n",
       "    <tr>\n",
       "      <th>3</th>\n",
       "      <td>20</td>\n",
       "      <td>lchV8TQjaHcYtHAqR31Q</td>\n",
       "      <td>614b603d4da88384282967a7</td>\n",
       "      <td>2021-10-23 20:36:08.420000+00:00</td>\n",
       "      <td>many_objects</td>\n",
       "      <td></td>\n",
       "      <td>Create a tower with the largest number of figu...</td>\n",
       "      <td>Each level of the tower will count as 1 point</td>\n",
       "      <td>3</td>\n",
       "      <td>I would score 6 points</td>\n",
       "      <td>5</td>\n",
       "      <td>It is very hard</td>\n",
       "      <td>I thought as if I were a child playing with to...</td>\n",
       "      <td>No.</td>\n",
       "      <td>It would be nice to let the user change the ke...</td>\n",
       "      <td>No, just my imagination</td>\n",
       "      <td>False</td>\n",
       "      <td></td>\n",
       "    </tr>\n",
       "    <tr>\n",
       "      <th>4</th>\n",
       "      <td>21</td>\n",
       "      <td>tM0MidzjBJBLkOEPYr2F</td>\n",
       "      <td>616a7fe177d97578e592113b</td>\n",
       "      <td>2021-10-23 22:33:04.491000+00:00</td>\n",
       "      <td>medium_objects</td>\n",
       "      <td>The ball must roll down the ramp and hit as ma...</td>\n",
       "      <td>Minni ball bash</td>\n",
       "      <td>The more blocks it hits the more points you get</td>\n",
       "      <td>2</td>\n",
       "      <td>4</td>\n",
       "      <td>2</td>\n",
       "      <td>I dont like this game that mutch</td>\n",
       "      <td>All making use of grafity and placement of the...</td>\n",
       "      <td>No. The game is unprodictable and that was the...</td>\n",
       "      <td>No</td>\n",
       "      <td>No</td>\n",
       "      <td>False</td>\n",
       "      <td></td>\n",
       "    </tr>\n",
       "  </tbody>\n",
       "</table>\n",
       "</div>"
      ],
      "text/plain": [
       "   index                    id             participantID  \\\n",
       "0     17  RfP7c4trKFGmDp6xpiG8  6172feb1665491d1efbce164   \n",
       "1     18  eYM9NgeUlg9mGpwlGemD  613a4662d21e1715cc079587   \n",
       "2     19  SFpazSkgQ7MFSwDEa3c9  5f77754ba932fb2c4ba181d8   \n",
       "3     20  lchV8TQjaHcYtHAqR31Q  614b603d4da88384282967a7   \n",
       "4     21  tM0MidzjBJBLkOEPYr2F  616a7fe177d97578e592113b   \n",
       "\n",
       "                         timestamp           scene  \\\n",
       "0 2021-10-22 20:57:12.168000+00:00  medium_objects   \n",
       "1 2021-10-22 20:58:20.433000+00:00    many_objects   \n",
       "2 2021-10-22 21:02:15.391000+00:00    many_objects   \n",
       "3 2021-10-23 20:36:08.420000+00:00    many_objects   \n",
       "4 2021-10-23 22:33:04.491000+00:00  medium_objects   \n",
       "\n",
       "                                          game_setup  \\\n",
       "0  Place small ramp in front of bin where there i...   \n",
       "1                                                      \n",
       "2               Open the top drawer beside your bed.   \n",
       "3                                                      \n",
       "4  The ball must roll down the ramp and hit as ma...   \n",
       "\n",
       "                                       game_gameplay  \\\n",
       "0  Take ball (any), and try to get it into the bi...   \n",
       "1  The game I can play in this room it is call me...   \n",
       "2  First you pick up a dodgeball or a golf ball a...   \n",
       "3  Create a tower with the largest number of figu...   \n",
       "4                                    Minni ball bash   \n",
       "\n",
       "                                        game_scoring game_difficulty  \\\n",
       "0                       1 point per successful hit.                1   \n",
       "1  the scoring system can be the more hits you ha...               1   \n",
       "2  To score in this game you just have to throw a...               1   \n",
       "3      Each level of the tower will count as 1 point               3   \n",
       "4    The more blocks it hits the more points you get               2   \n",
       "\n",
       "                                 game_firstTimeScore gameScore_score  \\\n",
       "0                                                  6            None   \n",
       "1  from 1 to 10. I would say an 8 haha, I'm not g...      I scored 7   \n",
       "2                                                 10            None   \n",
       "3                             I would score 6 points               5   \n",
       "4                                                  4               2   \n",
       "\n",
       "                                  gameScore_thoughts  \\\n",
       "0                                               None   \n",
       "1  I think it might be better if the objects disa...   \n",
       "2                                               None   \n",
       "3                                    It is very hard   \n",
       "4                   I dont like this game that mutch   \n",
       "\n",
       "                                    debrief_strategy  \\\n",
       "0                                               None   \n",
       "1  Starting by memorizing the shapes of objects a...   \n",
       "2                                               None   \n",
       "3  I thought as if I were a child playing with to...   \n",
       "4  All making use of grafity and placement of the...   \n",
       "\n",
       "                                debrief_difficulties  \\\n",
       "0                                               None   \n",
       "1  yes, it could be that the game programming is ...   \n",
       "2                                               None   \n",
       "3                                                No.   \n",
       "4  No. The game is unprodictable and that was the...   \n",
       "\n",
       "                                   debrief_questions    debrief_external_aids  \\\n",
       "0                                               None                     None   \n",
       "1  I would like to play the game when it is fully...                       no   \n",
       "2                                               None                     None   \n",
       "3  It would be nice to let the user change the ke...  No, just my imagination   \n",
       "4                                                 No                       No   \n",
       "\n",
       "  game_edited edited_game_fields  \n",
       "0       False                     \n",
       "1       False                     \n",
       "2       False                     \n",
       "3       False                     \n",
       "4       False                     "
      ]
     },
     "execution_count": 19,
     "metadata": {},
     "output_type": "execute_result"
    }
   ],
   "source": [
    "print(participant_df.shape)\n",
    "participant_df.head()"
   ]
  },
  {
   "cell_type": "code",
   "execution_count": 20,
   "metadata": {},
   "outputs": [
    {
     "name": "stdout",
     "output_type": "stream",
     "text": [
      "(119, 18)\n"
     ]
    },
    {
     "data": {
      "text/html": [
       "<div>\n",
       "<style scoped>\n",
       "    .dataframe tbody tr th:only-of-type {\n",
       "        vertical-align: middle;\n",
       "    }\n",
       "\n",
       "    .dataframe tbody tr th {\n",
       "        vertical-align: top;\n",
       "    }\n",
       "\n",
       "    .dataframe thead th {\n",
       "        text-align: right;\n",
       "    }\n",
       "</style>\n",
       "<table border=\"1\" class=\"dataframe\">\n",
       "  <thead>\n",
       "    <tr style=\"text-align: right;\">\n",
       "      <th></th>\n",
       "      <th>index</th>\n",
       "      <th>id</th>\n",
       "      <th>participantID</th>\n",
       "      <th>timestamp</th>\n",
       "      <th>scene</th>\n",
       "      <th>game_setup</th>\n",
       "      <th>game_gameplay</th>\n",
       "      <th>game_scoring</th>\n",
       "      <th>game_difficulty</th>\n",
       "      <th>game_firstTimeScore</th>\n",
       "      <th>gameScore_score</th>\n",
       "      <th>gameScore_thoughts</th>\n",
       "      <th>debrief_strategy</th>\n",
       "      <th>debrief_difficulties</th>\n",
       "      <th>debrief_questions</th>\n",
       "      <th>debrief_external_aids</th>\n",
       "      <th>game_edited</th>\n",
       "      <th>edited_game_fields</th>\n",
       "    </tr>\n",
       "  </thead>\n",
       "  <tbody>\n",
       "    <tr>\n",
       "      <th>114</th>\n",
       "      <td>203</td>\n",
       "      <td>3JgBMLuR3hhyXX7duXxU</td>\n",
       "      <td>61087e4fc006ee7d6be38641</td>\n",
       "      <td>2022-01-24 03:52:50.931000+00:00</td>\n",
       "      <td>medium_objects</td>\n",
       "      <td>Move the dog bed into the center of the room</td>\n",
       "      <td>The game is to stack as many items as possible...</td>\n",
       "      <td>You get one point for every item that is on th...</td>\n",
       "      <td>1</td>\n",
       "      <td>6</td>\n",
       "      <td>7</td>\n",
       "      <td></td>\n",
       "      <td>I tried to think of something that could be ea...</td>\n",
       "      <td>no :)</td>\n",
       "      <td>Thank you for the opportunity to participate! ...</td>\n",
       "      <td>No</td>\n",
       "      <td>True</td>\n",
       "      <td>setup</td>\n",
       "    </tr>\n",
       "    <tr>\n",
       "      <th>115</th>\n",
       "      <td>204</td>\n",
       "      <td>ZMqZkrMMB0PcsCeLhQqE</td>\n",
       "      <td>5e606b1eaf84e83c728748d7</td>\n",
       "      <td>2022-01-24 04:04:13.655000+00:00</td>\n",
       "      <td>medium_objects</td>\n",
       "      <td>Move the ramp to the room center. Place the ch...</td>\n",
       "      <td>You jump the chair with the teddy bear and try...</td>\n",
       "      <td>1 point for each ball hit or 5 for getting the...</td>\n",
       "      <td>2</td>\n",
       "      <td>2 points</td>\n",
       "      <td>0</td>\n",
       "      <td>It's not that great honestly.\\n</td>\n",
       "      <td>I just tried to use some of the available obje...</td>\n",
       "      <td>Yeah, the controls didn't work as I'd liked th...</td>\n",
       "      <td>I do not. Thanks.</td>\n",
       "      <td>I had to figure out how to substitute the scro...</td>\n",
       "      <td>False</td>\n",
       "      <td></td>\n",
       "    </tr>\n",
       "    <tr>\n",
       "      <th>116</th>\n",
       "      <td>205</td>\n",
       "      <td>moftPPoSfP3mG38GT9Vw</td>\n",
       "      <td>60bb404e01d599dfb1c3d71c</td>\n",
       "      <td>2022-01-24 15:08:58.745000+00:00</td>\n",
       "      <td>medium_objects</td>\n",
       "      <td>Just move the basketball and dodgeball to midd...</td>\n",
       "      <td>use the 2 balls and try to get them in bin</td>\n",
       "      <td>4 attempts on each ball (dodgeball &amp; basketbal...</td>\n",
       "      <td>3</td>\n",
       "      <td>0</td>\n",
       "      <td>0</td>\n",
       "      <td>i think i should have moved the bin to a more ...</td>\n",
       "      <td>tried to make it simple</td>\n",
       "      <td>no</td>\n",
       "      <td>fun, thankyou</td>\n",
       "      <td>no</td>\n",
       "      <td>True</td>\n",
       "      <td>setup,scoring,difficulty,firstTimeScore</td>\n",
       "    </tr>\n",
       "    <tr>\n",
       "      <th>117</th>\n",
       "      <td>206</td>\n",
       "      <td>IjyNuz4ApTldgPuoKPtB</td>\n",
       "      <td>613e18e92e4ed15176362aa2</td>\n",
       "      <td>2022-01-24 15:10:43.366000+00:00</td>\n",
       "      <td>medium_objects</td>\n",
       "      <td>To preprare the room for my game, you must put...</td>\n",
       "      <td>To play my game you must decide how much inten...</td>\n",
       "      <td>To score my game, 10 points will be if you sco...</td>\n",
       "      <td>1</td>\n",
       "      <td>5</td>\n",
       "      <td>7</td>\n",
       "      <td>You can put the garbage can as far as you want...</td>\n",
       "      <td>I took a quick look at the room, and saw a bal...</td>\n",
       "      <td>Just at the beggining, it was confuse to remem...</td>\n",
       "      <td>No, thanks</td>\n",
       "      <td>No,  I havent.</td>\n",
       "      <td>True</td>\n",
       "      <td>setup,scoring</td>\n",
       "    </tr>\n",
       "    <tr>\n",
       "      <th>118</th>\n",
       "      <td>207</td>\n",
       "      <td>Q1jHN8NAIlds8F5SFBCJ</td>\n",
       "      <td>5e73ded1027e893642055f86</td>\n",
       "      <td>2022-01-24 16:07:12.112000+00:00</td>\n",
       "      <td>medium_objects</td>\n",
       "      <td>there is no need for a specific initial state</td>\n",
       "      <td>A game that could be played in this room is th...</td>\n",
       "      <td>For ever block that is put on/next/in a matchi...</td>\n",
       "      <td>2</td>\n",
       "      <td>60</td>\n",
       "      <td>90</td>\n",
       "      <td></td>\n",
       "      <td>I tried to find a pattern that a player could ...</td>\n",
       "      <td>occasionally, even the (+) appeared, I couldn'...</td>\n",
       "      <td>no</td>\n",
       "      <td>no</td>\n",
       "      <td>True</td>\n",
       "      <td>gameplay,scoring</td>\n",
       "    </tr>\n",
       "  </tbody>\n",
       "</table>\n",
       "</div>"
      ],
      "text/plain": [
       "     index                    id             participantID  \\\n",
       "114    203  3JgBMLuR3hhyXX7duXxU  61087e4fc006ee7d6be38641   \n",
       "115    204  ZMqZkrMMB0PcsCeLhQqE  5e606b1eaf84e83c728748d7   \n",
       "116    205  moftPPoSfP3mG38GT9Vw  60bb404e01d599dfb1c3d71c   \n",
       "117    206  IjyNuz4ApTldgPuoKPtB  613e18e92e4ed15176362aa2   \n",
       "118    207  Q1jHN8NAIlds8F5SFBCJ  5e73ded1027e893642055f86   \n",
       "\n",
       "                           timestamp           scene  \\\n",
       "114 2022-01-24 03:52:50.931000+00:00  medium_objects   \n",
       "115 2022-01-24 04:04:13.655000+00:00  medium_objects   \n",
       "116 2022-01-24 15:08:58.745000+00:00  medium_objects   \n",
       "117 2022-01-24 15:10:43.366000+00:00  medium_objects   \n",
       "118 2022-01-24 16:07:12.112000+00:00  medium_objects   \n",
       "\n",
       "                                            game_setup  \\\n",
       "114       Move the dog bed into the center of the room   \n",
       "115  Move the ramp to the room center. Place the ch...   \n",
       "116  Just move the basketball and dodgeball to midd...   \n",
       "117  To preprare the room for my game, you must put...   \n",
       "118      there is no need for a specific initial state   \n",
       "\n",
       "                                         game_gameplay  \\\n",
       "114  The game is to stack as many items as possible...   \n",
       "115  You jump the chair with the teddy bear and try...   \n",
       "116         use the 2 balls and try to get them in bin   \n",
       "117  To play my game you must decide how much inten...   \n",
       "118  A game that could be played in this room is th...   \n",
       "\n",
       "                                          game_scoring game_difficulty  \\\n",
       "114  You get one point for every item that is on th...               1   \n",
       "115  1 point for each ball hit or 5 for getting the...               2   \n",
       "116  4 attempts on each ball (dodgeball & basketbal...               3   \n",
       "117  To score my game, 10 points will be if you sco...               1   \n",
       "118  For ever block that is put on/next/in a matchi...               2   \n",
       "\n",
       "    game_firstTimeScore gameScore_score  \\\n",
       "114                   6               7   \n",
       "115            2 points               0   \n",
       "116                   0               0   \n",
       "117                  5                7   \n",
       "118                  60              90   \n",
       "\n",
       "                                    gameScore_thoughts  \\\n",
       "114                                                      \n",
       "115                    It's not that great honestly.\\n   \n",
       "116  i think i should have moved the bin to a more ...   \n",
       "117  You can put the garbage can as far as you want...   \n",
       "118                                                      \n",
       "\n",
       "                                      debrief_strategy  \\\n",
       "114  I tried to think of something that could be ea...   \n",
       "115  I just tried to use some of the available obje...   \n",
       "116                           tried to make it simple    \n",
       "117  I took a quick look at the room, and saw a bal...   \n",
       "118  I tried to find a pattern that a player could ...   \n",
       "\n",
       "                                  debrief_difficulties  \\\n",
       "114                                              no :)   \n",
       "115  Yeah, the controls didn't work as I'd liked th...   \n",
       "116                                                 no   \n",
       "117  Just at the beggining, it was confuse to remem...   \n",
       "118  occasionally, even the (+) appeared, I couldn'...   \n",
       "\n",
       "                                     debrief_questions  \\\n",
       "114  Thank you for the opportunity to participate! ...   \n",
       "115                                  I do not. Thanks.   \n",
       "116                                      fun, thankyou   \n",
       "117                                         No, thanks   \n",
       "118                                                 no   \n",
       "\n",
       "                                 debrief_external_aids game_edited  \\\n",
       "114                                                 No        True   \n",
       "115  I had to figure out how to substitute the scro...       False   \n",
       "116                                                 no        True   \n",
       "117                                     No,  I havent.        True   \n",
       "118                                                 no        True   \n",
       "\n",
       "                          edited_game_fields  \n",
       "114                                    setup  \n",
       "115                                           \n",
       "116  setup,scoring,difficulty,firstTimeScore  \n",
       "117                            setup,scoring  \n",
       "118                         gameplay,scoring  "
      ]
     },
     "execution_count": 20,
     "metadata": {},
     "output_type": "execute_result"
    }
   ],
   "source": [
    "print(participant_df.shape)\n",
    "participant_df.tail()"
   ]
  },
  {
   "cell_type": "code",
   "execution_count": 60,
   "metadata": {},
   "outputs": [
    {
     "data": {
      "text/plain": [
       "'you roll the golf balls and the dodgeballs towards the small ramp aiming to put them in the bin.\\nyou sit down in front of the door and try to use the correct amount of power and aim precisely so that the balls go off the ramp into the air and then into the bin'"
      ]
     },
     "execution_count": 60,
     "metadata": {},
     "output_type": "execute_result"
    }
   ],
   "source": []
  },
  {
   "cell_type": "code",
   "execution_count": 62,
   "metadata": {},
   "outputs": [
    {
     "data": {
      "text/markdown": [
       "## 613bb29f16252362f4dc11a3 (gZ8ce0O2anOHAMWWJJZw) (medium_objects)"
      ],
      "text/plain": [
       "<IPython.core.display.Markdown object>"
      ]
     },
     "metadata": {},
     "output_type": "display_data"
    },
    {
     "data": {
      "text/markdown": [
       "Collected at 2021-11-04 20:23:20.848000+00:00"
      ],
      "text/plain": [
       "<IPython.core.display.Markdown object>"
      ]
     },
     "metadata": {},
     "output_type": "display_data"
    },
    {
     "data": {
      "text/markdown": [
       "### setup:"
      ],
      "text/plain": [
       "<IPython.core.display.Markdown object>"
      ]
     },
     "metadata": {},
     "output_type": "display_data"
    },
    {
     "data": {
      "text/markdown": [
       "You put the bin in the midle of the room and prepare the dodgeball and the wooden ramp."
      ],
      "text/plain": [
       "<IPython.core.display.Markdown object>"
      ]
     },
     "metadata": {},
     "output_type": "display_data"
    },
    {
     "data": {
      "text/markdown": [
       "### gameplay:"
      ],
      "text/plain": [
       "<IPython.core.display.Markdown object>"
      ]
     },
     "metadata": {},
     "output_type": "display_data"
    },
    {
     "data": {
      "text/markdown": [
       "You position the wooden ramp in different ways depending. Then You have to throw the ball at it and it should bounce into the bin. "
      ],
      "text/plain": [
       "<IPython.core.display.Markdown object>"
      ]
     },
     "metadata": {},
     "output_type": "display_data"
    },
    {
     "data": {
      "text/markdown": [
       "### scoring:"
      ],
      "text/plain": [
       "<IPython.core.display.Markdown object>"
      ]
     },
     "metadata": {},
     "output_type": "display_data"
    },
    {
     "data": {
      "text/markdown": [
       "Each \"wooden ramp\" position You make You have 5 tries, if You get it right You get a point. Each game You choose 5 different Ramp positions. So the maximum of Points is 5. One for each Ramp possition"
      ],
      "text/plain": [
       "<IPython.core.display.Markdown object>"
      ]
     },
     "metadata": {},
     "output_type": "display_data"
    },
    {
     "data": {
      "text/markdown": [
       "### difficulty:"
      ],
      "text/plain": [
       "<IPython.core.display.Markdown object>"
      ]
     },
     "metadata": {},
     "output_type": "display_data"
    },
    {
     "data": {
      "text/markdown": [
       "4"
      ],
      "text/plain": [
       "<IPython.core.display.Markdown object>"
      ]
     },
     "metadata": {},
     "output_type": "display_data"
    },
    {
     "data": {
      "text/markdown": [
       "### firstTimeScore:"
      ],
      "text/plain": [
       "<IPython.core.display.Markdown object>"
      ]
     },
     "metadata": {},
     "output_type": "display_data"
    },
    {
     "data": {
      "text/markdown": [
       "1"
      ],
      "text/plain": [
       "<IPython.core.display.Markdown object>"
      ]
     },
     "metadata": {},
     "output_type": "display_data"
    },
    {
     "name": "stdout",
     "output_type": "stream",
     "text": [
      "(define (game 613bb29f16252362f4dc11a3) (:domain medium-objects-room-v1)  ; 12\n",
      "(:setup (and \n",
      "\n",
      "))\n",
      "(:constraints (and \n",
      "\n",
      "))\n",
      "(:scoring maximize\n",
      "\n",
      "))\n",
      "\n",
      "{\n",
      "    \"metadata\": {\n",
      "        \"prolific_id\": \"613bb29f16252362f4dc11a3\",\n",
      "        \"id\": \"gZ8ce0O2anOHAMWWJJZw\",\n",
      "        \"index\": 12,\n",
      "        \"room\": \"medium_objects\",\n",
      "        \"notes\": \"\"\n",
      "    }\n",
      "}\n"
     ]
    }
   ],
   "source": [
    "print_participant(participant_df, 12)  # stopped at 66"
   ]
  },
  {
   "cell_type": "markdown",
   "metadata": {},
   "source": [
    "# Statistics on plaintext versions"
   ]
  },
  {
   "cell_type": "code",
   "execution_count": 6,
   "metadata": {},
   "outputs": [],
   "source": [
    "DEFAULT_STATS_FIELDS = ('game_setup', 'game_gameplay', 'game_scoring')\n",
    "\n",
    "def run_textstat_func(textstat_func, df, fields=DEFAULT_STATS_FIELDS):\n",
    "    if isinstance(fields, slice):\n",
    "        subset = df.iloc[:, fields].copy()\n",
    "    else:\n",
    "        subset = df.loc[:, fields].copy()\n",
    "        \n",
    "    subset[subset.isna()] = ''\n",
    "    s = subset.agg('\\n'.join, axis=1)\n",
    "    scores = s.apply(textstat_func)\n",
    "    return scores.mean(), scores.std() / (len(scores) ** 0.5)"
   ]
  },
  {
   "cell_type": "code",
   "execution_count": 7,
   "metadata": {},
   "outputs": [
    {
     "data": {
      "text/plain": [
       "(75.63380952380952, 4.418337517351245)"
      ]
     },
     "execution_count": 7,
     "metadata": {},
     "output_type": "execute_result"
    }
   ],
   "source": [
    "run_textstat_func(textstat.flesch_reading_ease, participant_df)"
   ]
  },
  {
   "cell_type": "code",
   "execution_count": 8,
   "metadata": {},
   "outputs": [],
   "source": [
    "few_objects_df = pd.read_csv('../data/few_objects.csv')\n",
    "medium_objects_df = pd.read_csv('../data/medium_objects.csv')\n",
    "many_objects_df = pd.read_csv('../data/many_objects.csv')"
   ]
  },
  {
   "cell_type": "code",
   "execution_count": 9,
   "metadata": {},
   "outputs": [
    {
     "data": {
      "text/plain": [
       "'flesch_reading_ease'"
      ]
     },
     "execution_count": 9,
     "metadata": {},
     "output_type": "execute_result"
    }
   ],
   "source": [
    "textstat.flesch_reading_ease.__name__"
   ]
  },
  {
   "cell_type": "code",
   "execution_count": 11,
   "metadata": {},
   "outputs": [
    {
     "data": {
      "text/markdown": [
       "| name                    | flesch_reading_ease   | flesch_kincaid_grade   | gunning_fog        |\n",
       "|-------------------------|-----------------------|------------------------|--------------------|\n",
       "| survey - few objects    | $ 61.48 \\pm 7.66 $    | $ 14.73 \\pm 2.96 $     | $ 17.11 \\pm 3.06 $ |\n",
       "| survey - medium objects | $ 61.76 \\pm 5.55 $    | $ 13.73 \\pm 2.08 $     | $ 16.03 \\pm 2.12 $ |\n",
       "| survey - many objects   | $ 56.42 \\pm 5.95 $    | $ 15.56 \\pm 2.23 $     | $ 17.65 \\pm 2.30 $ |\n",
       "| interactive beta        | $ 75.63 \\pm 4.42 $    | $ 9.39 \\pm 1.59 $      | $ 11.83 \\pm 1.57 $ |"
      ],
      "text/plain": [
       "<IPython.core.display.Markdown object>"
      ]
     },
     "metadata": {},
     "output_type": "display_data"
    }
   ],
   "source": [
    "TEXTSTAT_FUNCS = (textstat.flesch_reading_ease, textstat.flesch_kincaid_grade, textstat.gunning_fog)\n",
    "NAMES = ['survey - few objects', 'survey - medium objects', 'survey - many objects', 'interactive beta']\n",
    "\n",
    "rows = []\n",
    "\n",
    "for i, df in enumerate((few_objects_df, medium_objects_df, many_objects_df, participant_df)):\n",
    "    scores = [run_textstat_func(func, df, fields=slice(1, 4) if i < 3 else DEFAULT_STATS_FIELDS) for func in TEXTSTAT_FUNCS]\n",
    "    rows.append([NAMES[i]] + [f'$ {s[0]:.2f} \\\\pm {s[1]:.2f} $' for s in scores])\n",
    "\n",
    "headers = ['name'] + [func.__name__ for func in TEXTSTAT_FUNCS]\n",
    "\n",
    "display(Markdown(tabulate.tabulate(rows, headers=headers, tablefmt='github')))\n",
    "\n",
    "# few_objects_df.iloc[:, slice(1, 4)].agg(lambda x: [type(z) for z in x], axis=1)"
   ]
  },
  {
   "cell_type": "code",
   "execution_count": null,
   "metadata": {},
   "outputs": [],
   "source": []
  },
  {
   "cell_type": "code",
   "execution_count": null,
   "metadata": {},
   "outputs": [],
   "source": []
  }
 ],
 "metadata": {
  "interpreter": {
   "hash": "c7f8e00f851a7185e5345342178c14041451eaa6562c62790473e641b6de40ed"
  },
  "kernelspec": {
   "display_name": "Python 3.8.5 64-bit ('torch': conda)",
   "name": "python3"
  },
  "language_info": {
   "codemirror_mode": {
    "name": "ipython",
    "version": 3
   },
   "file_extension": ".py",
   "mimetype": "text/x-python",
   "name": "python",
   "nbconvert_exporter": "python",
   "pygments_lexer": "ipython3",
   "version": "3.8.5"
  },
  "orig_nbformat": 4
 },
 "nbformat": 4,
 "nbformat_minor": 2
}
