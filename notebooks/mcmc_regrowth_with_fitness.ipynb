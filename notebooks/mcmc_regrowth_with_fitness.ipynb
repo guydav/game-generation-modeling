{
 "cells": [
  {
   "cell_type": "code",
   "execution_count": 1,
   "metadata": {},
   "outputs": [],
   "source": [
    "%autoreload 2"
   ]
  },
  {
   "cell_type": "code",
   "execution_count": 2,
   "metadata": {},
   "outputs": [],
   "source": [
    "from collections import defaultdict\n",
    "from argparse import Namespace\n",
    "import copy\n",
    "import gzip\n",
    "import itertools\n",
    "import os\n",
    "import pickle\n",
    "import sys\n",
    "import typing\n",
    "\n",
    "import matplotlib\n",
    "import matplotlib.pyplot as plt\n",
    "import numpy as np\n",
    "import pandas as pd\n",
    "import tatsu\n",
    "import tatsu.ast\n",
    "import torch\n",
    "import torch.nn as nn\n",
    "import torch.nn.functional as F\n",
    "from torch.utils.data import TensorDataset, DataLoader\n",
    "import tqdm\n",
    "import sklearn\n",
    "from sklearn.model_selection import GridSearchCV, train_test_split, KFold\n",
    "from sklearn.pipeline import Pipeline\n",
    "\n",
    "sys.path.append(os.path.abspath('..'))\n",
    "sys.path.append(os.path.abspath('../src'))\n",
    "from src.ast_utils import _extract_game_id\n",
    "from src import fitness_energy_utils as utils\n",
    "from src.fitness_energy_utils import NON_FEATURE_COLUMNS\n",
    "from src.fitness_features import *\n",
    "from src.ast_counter_sampler import *\n",
    "from src.ast_mcmc_regrowth import *"
   ]
  },
  {
   "cell_type": "code",
   "execution_count": 3,
   "metadata": {},
   "outputs": [
    {
     "name": "stdout",
     "output_type": "stream",
     "text": [
      "98 6272 64.0 100352 1024.0\n"
     ]
    }
   ],
   "source": [
    "grammar = open('../dsl/dsl.ebnf').read()\n",
    "grammar_parser = tatsu.compile(grammar)\n",
    "game_asts = list(cached_load_and_parse_games_from_file('../dsl/interactive-beta.pddl', grammar_parser, False, relative_path='..'))\n",
    "real_game_texts = [ast_printer.ast_to_string(ast, '\\n') for ast in game_asts]\n",
    "regrown_game_texts = list(load_games_from_file('../dsl/ast-real-regrowth-samples.pddl'))\n",
    "regrown_game_1024_texts = list(load_games_from_file('../dsl/ast-real-regrowth-samples-1024.pddl'))\n",
    "print(len(real_game_texts), len(regrown_game_texts), len(regrown_game_texts) / 98, len(regrown_game_1024_texts), len(regrown_game_1024_texts) / 98)\n"
   ]
  },
  {
   "cell_type": "code",
   "execution_count": 4,
   "metadata": {},
   "outputs": [
    {
     "name": "stdout",
     "output_type": "stream",
     "text": [
      "['interactive-beta.pddl' 'ast-real-regrowth-samples-1024.pddl']\n"
     ]
    },
    {
     "data": {
      "text/html": [
       "<div>\n",
       "<style scoped>\n",
       "    .dataframe tbody tr th:only-of-type {\n",
       "        vertical-align: middle;\n",
       "    }\n",
       "\n",
       "    .dataframe tbody tr th {\n",
       "        vertical-align: top;\n",
       "    }\n",
       "\n",
       "    .dataframe thead th {\n",
       "        text-align: right;\n",
       "    }\n",
       "</style>\n",
       "<table border=\"1\" class=\"dataframe\">\n",
       "  <thead>\n",
       "    <tr style=\"text-align: right;\">\n",
       "      <th></th>\n",
       "      <th>Index</th>\n",
       "      <th>src_file</th>\n",
       "      <th>game_name</th>\n",
       "      <th>domain_name</th>\n",
       "      <th>original_game_name</th>\n",
       "      <th>real</th>\n",
       "      <th>all_variables_defined</th>\n",
       "      <th>all_variables_used</th>\n",
       "      <th>all_preferences_used</th>\n",
       "      <th>setup_objects_used</th>\n",
       "      <th>...</th>\n",
       "      <th>ast_ngram_constraints_n_6_score</th>\n",
       "      <th>ast_ngram_constraints_n_7_score</th>\n",
       "      <th>ast_ngram_terminal_n_2_score</th>\n",
       "      <th>ast_ngram_terminal_n_3_score</th>\n",
       "      <th>ast_ngram_terminal_n_4_score</th>\n",
       "      <th>ast_ngram_terminal_n_5_score</th>\n",
       "      <th>ast_ngram_scoring_n_2_score</th>\n",
       "      <th>ast_ngram_scoring_n_3_score</th>\n",
       "      <th>ast_ngram_scoring_n_4_score</th>\n",
       "      <th>ast_ngram_scoring_n_5_score</th>\n",
       "    </tr>\n",
       "  </thead>\n",
       "  <tbody>\n",
       "    <tr>\n",
       "      <th>0</th>\n",
       "      <td>0</td>\n",
       "      <td>interactive-beta.pddl</td>\n",
       "      <td>6172feb1665491d1efbce164-0</td>\n",
       "      <td>medium-objects-room-v1</td>\n",
       "      <td>6172feb1665491d1efbce164-0</td>\n",
       "      <td>1</td>\n",
       "      <td>1</td>\n",
       "      <td>1</td>\n",
       "      <td>1</td>\n",
       "      <td>1.00</td>\n",
       "      <td>...</td>\n",
       "      <td>0.976714</td>\n",
       "      <td>0.984956</td>\n",
       "      <td>0.942266</td>\n",
       "      <td>0.970180</td>\n",
       "      <td>0.973574</td>\n",
       "      <td>0.978002</td>\n",
       "      <td>0.725160</td>\n",
       "      <td>0.761936</td>\n",
       "      <td>0.942521</td>\n",
       "      <td>0.975955</td>\n",
       "    </tr>\n",
       "    <tr>\n",
       "      <th>1</th>\n",
       "      <td>1</td>\n",
       "      <td>interactive-beta.pddl</td>\n",
       "      <td>5f77754ba932fb2c4ba181d8-2</td>\n",
       "      <td>many-objects-room-v1</td>\n",
       "      <td>5f77754ba932fb2c4ba181d8-2</td>\n",
       "      <td>1</td>\n",
       "      <td>1</td>\n",
       "      <td>1</td>\n",
       "      <td>1</td>\n",
       "      <td>1.00</td>\n",
       "      <td>...</td>\n",
       "      <td>0.986443</td>\n",
       "      <td>0.986721</td>\n",
       "      <td>0.935275</td>\n",
       "      <td>0.965656</td>\n",
       "      <td>0.967074</td>\n",
       "      <td>0.978883</td>\n",
       "      <td>0.670913</td>\n",
       "      <td>0.801850</td>\n",
       "      <td>0.870098</td>\n",
       "      <td>0.924083</td>\n",
       "    </tr>\n",
       "    <tr>\n",
       "      <th>2</th>\n",
       "      <td>2</td>\n",
       "      <td>interactive-beta.pddl</td>\n",
       "      <td>614b603d4da88384282967a7-3</td>\n",
       "      <td>many-objects-room-v1</td>\n",
       "      <td>614b603d4da88384282967a7-3</td>\n",
       "      <td>1</td>\n",
       "      <td>1</td>\n",
       "      <td>1</td>\n",
       "      <td>1</td>\n",
       "      <td>0.00</td>\n",
       "      <td>...</td>\n",
       "      <td>0.976849</td>\n",
       "      <td>0.981247</td>\n",
       "      <td>0.000000</td>\n",
       "      <td>0.000000</td>\n",
       "      <td>0.000000</td>\n",
       "      <td>0.000000</td>\n",
       "      <td>0.452633</td>\n",
       "      <td>0.593800</td>\n",
       "      <td>0.814709</td>\n",
       "      <td>0.883131</td>\n",
       "    </tr>\n",
       "    <tr>\n",
       "      <th>3</th>\n",
       "      <td>3</td>\n",
       "      <td>interactive-beta.pddl</td>\n",
       "      <td>5bc79f652885710001a0e82a-5</td>\n",
       "      <td>few-objects-room-v1</td>\n",
       "      <td>5bc79f652885710001a0e82a-5</td>\n",
       "      <td>1</td>\n",
       "      <td>1</td>\n",
       "      <td>1</td>\n",
       "      <td>1</td>\n",
       "      <td>0.00</td>\n",
       "      <td>...</td>\n",
       "      <td>0.986600</td>\n",
       "      <td>0.986476</td>\n",
       "      <td>0.000000</td>\n",
       "      <td>0.000000</td>\n",
       "      <td>0.000000</td>\n",
       "      <td>0.000000</td>\n",
       "      <td>0.725160</td>\n",
       "      <td>0.761936</td>\n",
       "      <td>0.942521</td>\n",
       "      <td>0.975955</td>\n",
       "    </tr>\n",
       "    <tr>\n",
       "      <th>4</th>\n",
       "      <td>4</td>\n",
       "      <td>interactive-beta.pddl</td>\n",
       "      <td>614dec67f6eb129c3a77defd-6</td>\n",
       "      <td>medium-objects-room-v1</td>\n",
       "      <td>614dec67f6eb129c3a77defd-6</td>\n",
       "      <td>1</td>\n",
       "      <td>1</td>\n",
       "      <td>1</td>\n",
       "      <td>1</td>\n",
       "      <td>0.25</td>\n",
       "      <td>...</td>\n",
       "      <td>0.985217</td>\n",
       "      <td>0.983768</td>\n",
       "      <td>0.000000</td>\n",
       "      <td>0.000000</td>\n",
       "      <td>0.000000</td>\n",
       "      <td>0.000000</td>\n",
       "      <td>0.937248</td>\n",
       "      <td>0.947704</td>\n",
       "      <td>0.933456</td>\n",
       "      <td>0.976437</td>\n",
       "    </tr>\n",
       "  </tbody>\n",
       "</table>\n",
       "<p>5 rows × 347 columns</p>\n",
       "</div>"
      ],
      "text/plain": [
       "   Index               src_file                   game_name  \\\n",
       "0      0  interactive-beta.pddl  6172feb1665491d1efbce164-0   \n",
       "1      1  interactive-beta.pddl  5f77754ba932fb2c4ba181d8-2   \n",
       "2      2  interactive-beta.pddl  614b603d4da88384282967a7-3   \n",
       "3      3  interactive-beta.pddl  5bc79f652885710001a0e82a-5   \n",
       "4      4  interactive-beta.pddl  614dec67f6eb129c3a77defd-6   \n",
       "\n",
       "              domain_name          original_game_name  real  \\\n",
       "0  medium-objects-room-v1  6172feb1665491d1efbce164-0     1   \n",
       "1    many-objects-room-v1  5f77754ba932fb2c4ba181d8-2     1   \n",
       "2    many-objects-room-v1  614b603d4da88384282967a7-3     1   \n",
       "3     few-objects-room-v1  5bc79f652885710001a0e82a-5     1   \n",
       "4  medium-objects-room-v1  614dec67f6eb129c3a77defd-6     1   \n",
       "\n",
       "   all_variables_defined  all_variables_used  all_preferences_used  \\\n",
       "0                      1                   1                     1   \n",
       "1                      1                   1                     1   \n",
       "2                      1                   1                     1   \n",
       "3                      1                   1                     1   \n",
       "4                      1                   1                     1   \n",
       "\n",
       "   setup_objects_used  ...  ast_ngram_constraints_n_6_score  \\\n",
       "0                1.00  ...                         0.976714   \n",
       "1                1.00  ...                         0.986443   \n",
       "2                0.00  ...                         0.976849   \n",
       "3                0.00  ...                         0.986600   \n",
       "4                0.25  ...                         0.985217   \n",
       "\n",
       "   ast_ngram_constraints_n_7_score  ast_ngram_terminal_n_2_score  \\\n",
       "0                         0.984956                      0.942266   \n",
       "1                         0.986721                      0.935275   \n",
       "2                         0.981247                      0.000000   \n",
       "3                         0.986476                      0.000000   \n",
       "4                         0.983768                      0.000000   \n",
       "\n",
       "   ast_ngram_terminal_n_3_score  ast_ngram_terminal_n_4_score  \\\n",
       "0                      0.970180                      0.973574   \n",
       "1                      0.965656                      0.967074   \n",
       "2                      0.000000                      0.000000   \n",
       "3                      0.000000                      0.000000   \n",
       "4                      0.000000                      0.000000   \n",
       "\n",
       "   ast_ngram_terminal_n_5_score  ast_ngram_scoring_n_2_score  \\\n",
       "0                      0.978002                     0.725160   \n",
       "1                      0.978883                     0.670913   \n",
       "2                      0.000000                     0.452633   \n",
       "3                      0.000000                     0.725160   \n",
       "4                      0.000000                     0.937248   \n",
       "\n",
       "   ast_ngram_scoring_n_3_score  ast_ngram_scoring_n_4_score  \\\n",
       "0                     0.761936                     0.942521   \n",
       "1                     0.801850                     0.870098   \n",
       "2                     0.593800                     0.814709   \n",
       "3                     0.761936                     0.942521   \n",
       "4                     0.947704                     0.933456   \n",
       "\n",
       "   ast_ngram_scoring_n_5_score  \n",
       "0                     0.975955  \n",
       "1                     0.924083  \n",
       "2                     0.883131  \n",
       "3                     0.975955  \n",
       "4                     0.976437  \n",
       "\n",
       "[5 rows x 347 columns]"
      ]
     },
     "execution_count": 4,
     "metadata": {},
     "output_type": "execute_result"
    }
   ],
   "source": [
    "fitness_df = utils.load_fitness_data('../data/fitness_features_1024_regrowths.csv.gz')\n",
    "print(fitness_df.src_file.unique())\n",
    "fitness_df.head()"
   ]
  },
  {
   "cell_type": "markdown",
   "metadata": {},
   "source": [
    "# Plan of attack\n",
    "* Use the code in `ast_counter_sampler.py` to generate a sample from the MLE\n",
    "* Score it with a fitness function adapted to working with a single example at a time\n",
    "* At each subsequent iteration, regrow the game from a random node, and score the regrowth\n",
    "* Since we have energy scores before and after, we can either accept greedily if $E_{new} < E_{old}$, or accept with probability $\\exp(\\beta (E_{old} - E_{new} ))$"
   ]
  },
  {
   "cell_type": "code",
   "execution_count": 5,
   "metadata": {},
   "outputs": [],
   "source": [
    "DEFAULT_ARGS = argparse.Namespace(\n",
    "    grammar_file=os.path.join('..', DEFAULT_GRAMMAR_FILE),\n",
    "    parse_counter=False,\n",
    "    counter_output_path=os.path.join('..', DEFAULT_COUNTER_OUTPUT_PATH),\n",
    "    random_seed=DEFUALT_RANDOM_SEED,\n",
    ")"
   ]
  },
  {
   "cell_type": "code",
   "execution_count": 6,
   "metadata": {},
   "outputs": [],
   "source": [
    "FITNESS_MODEL_DATE_ID = '2023_03_10_2'\n",
    "FITNESS_FEATURIZER_PATH = '../models/fitness_featurizer_2023_03_10.pkl.gz'\n",
    "\n",
    "\n",
    "mcmc = MCMCRegrowthSampler(DEFAULT_ARGS,\n",
    "    FITNESS_MODEL_DATE_ID, FITNESS_FEATURIZER_PATH, greedy_acceptance=True, \n",
    "    plateau_patience_steps=100, max_steps=10000,\n",
    "    fitness_function_relative_path='..')  #   acceptance_temperature=10.0, "
   ]
  },
  {
   "cell_type": "code",
   "execution_count": 7,
   "metadata": {},
   "outputs": [
    {
     "data": {
      "application/vnd.jupyter.widget-view+json": {
       "model_id": "5776cdcbaea041879304185032748517",
       "version_major": 2,
       "version_minor": 0
      },
      "text/plain": [
       "  0%|          | 0/10 [00:00<?, ?it/s]"
      ]
     },
     "metadata": {},
     "output_type": "display_data"
    },
    {
     "name": "stdout",
     "output_type": "stream",
     "text": [
      "Plateaued at step 343 with energy -24.60292\n",
      "Plateaued at step 291 with energy -25.03177\n",
      "Plateaued at step 199 with energy -25.48553\n",
      "Plateaued at step 139 with energy -21.86280\n",
      "Plateaued at step 385 with energy -20.68362\n",
      "Plateaued at step 546 with energy -25.49575\n",
      "Plateaued at step 222 with energy -22.02627\n",
      "Plateaued at step 580 with energy -23.30713\n",
      "Plateaued at step 461 with energy -24.15441\n",
      "Plateaued at step 130 with energy -19.70413\n"
     ]
    }
   ],
   "source": [
    "n_samples = 10\n",
    "mcmc.multiple_samples(n_samples, verbose=1, should_tqdm=True)"
   ]
  },
  {
   "cell_type": "code",
   "execution_count": 26,
   "metadata": {},
   "outputs": [
    {
     "data": {
      "text/markdown": [
       "### Energy of visualized game: -25.486"
      ],
      "text/plain": [
       "<IPython.core.display.Markdown object>"
      ]
     },
     "metadata": {},
     "output_type": "display_data"
    },
    {
     "data": {
      "text/markdown": [
       "### Top features contributing to the game's energy\n",
       "feature name: **value** = (original feature value => regrown feature value) * weight"
      ],
      "text/plain": [
       "<IPython.core.display.Markdown object>"
      ]
     },
     "metadata": {},
     "output_type": "display_data"
    },
    {
     "data": {
      "text/markdown": [
       "| Features increasing energy (= more fake)                            | Features decreasing energy (= more real)                                         |\n",
       "|---------------------------------------------------------------------|----------------------------------------------------------------------------------|\n",
       "| pref_forall_used_incorrect: **0.196** = (1.000) * 0.196             | ast_ngram_full_n_7_score: **-13.067** = (1.000) * -13.067                        |\n",
       "| predicate_under_modal_once_in_motion: **0.029** = (1.000) * 0.029   | ast_ngram_constraints_n_7_score: **-6.535** = (1.000) * -6.535                   |\n",
       "| no_adjacent_same_modal: **0.025** = (1.000) * 0.025                 | all_variables_defined: **-1.833** = (1.000) * -1.833                             |\n",
       "| predicate_under_modal_once_agent_holds: **0.015** = (1.000) * 0.015 | all_variables_used: **-1.523** = (1.000) * -1.523                                |\n",
       "|                                                                     | no_two_number_operations: **-1.037** = (1.000) * -1.037                          |\n",
       "|                                                                     | all_preferences_used: **-0.438** = (1.000) * -0.438                              |\n",
       "|                                                                     | max_number_variables_types_quantified_variables_1: **-0.355** = (1.000) * -0.355 |\n",
       "|                                                                     | ast_ngram_setup_n_5_score: **-0.284** = (1.000) * -0.284                         |\n",
       "|                                                                     | max_depth_constraints_1: **-0.233** = (1.000) * -0.233                           |\n",
       "|                                                                     | in_motion_arg_types_balls_constraints: **-0.201** = (1.000) * -0.201             |\n",
       "|                                                                     | in_motion_arg_types_receptacles_constraints: **-0.155** = (1.000) * -0.155       |\n",
       "|                                                                     | predicate_under_modal_hold_in_motion: **-0.042** = (1.000) * -0.042              |\n",
       "|                                                                     | max_number_variables_types_quantified_types_1: **-0.037** = (1.000) * -0.037     |\n",
       "|                                                                     | agent_holds_arg_types_balls_constraints: **-0.021** = (1.000) * -0.021           |"
      ],
      "text/plain": [
       "<IPython.core.display.Markdown object>"
      ]
     },
     "metadata": {},
     "output_type": "display_data"
    },
    {
     "data": {
      "text/markdown": [
       "### Game:"
      ],
      "text/plain": [
       "<IPython.core.display.Markdown object>"
      ]
     },
     "metadata": {},
     "output_type": "display_data"
    },
    {
     "data": {
      "text/markdown": [
       "```pddl\n",
       "(define (game mcmc-2) (:domain medium-objects-room-v1)\n",
       "(:setup\n",
       "  (game-conserved\n",
       "    (agent_holds ?v0)\n",
       "  )\n",
       ")\n",
       "(:constraints\n",
       "  (and\n",
       "    (preference preference0\n",
       "      (exists (?v1 - dodgeball ?v2 - doggie_bed)\n",
       "        (then\n",
       "          (hold (not (in_motion ?v2) ) )\n",
       "          (once (and (agent_holds ?v1) (in_motion ?v1) ) )\n",
       "          (hold (in_motion agent) )\n",
       "        )\n",
       "      )\n",
       "    )\n",
       "  )\n",
       ")\n",
       "(:terminal\n",
       "  (>= (count preference0:dodgeball) 4 )\n",
       ")\n",
       "(:scoring\n",
       "  (+ (* 15 (* 0 (count preference0:dodgeball) )\n",
       "    )\n",
       "    (count preference0:pink_dodgeball)\n",
       "  )\n",
       ")\n",
       ")\n",
       "```"
      ],
      "text/plain": [
       "<IPython.core.display.Markdown object>"
      ]
     },
     "metadata": {},
     "output_type": "display_data"
    }
   ],
   "source": [
    "mcmc.visualize_sample(2)"
   ]
  },
  {
   "cell_type": "code",
   "execution_count": 16,
   "metadata": {},
   "outputs": [
    {
     "data": {
      "text/plain": [
       "('(:setup',\n",
       " {'setup': {'statement': {'conserved_pred': {'pred': {'and_args': [{'pred': {'pred': {'arg_1': {'term': '?v0', 'parseinfo': {'tokenizer': None, 'rule': 'predicate_or_function_term', 'pos': 3924, 'endpos': 3924, 'line': 3924, 'endline': 3924, 'alerts': []}}, 'arg_2': {'term': '?v1', 'parseinfo': {'tokenizer': None, 'rule': 'predicate_or_function_term', 'pos': 3925, 'endpos': 3925, 'line': 3925, 'endline': 3925, 'alerts': []}}, 'parseinfo': {'tokenizer': None, 'rule': 'predicate_on', 'pos': 3926, 'endpos': 3926, 'line': 3926, 'endline': 3926, 'alerts': []}}, 'parseinfo': {'tokenizer': None, 'rule': 'predicate', 'pos': 3927, 'endpos': 3927, 'line': 3927, 'endline': 3927, 'alerts': []}}, 'parseinfo': {'tokenizer': None, 'rule': 'super_predicate', 'pos': 3928, 'endpos': 3928, 'line': 3928, 'endline': 3928, 'alerts': []}}, {'pred': {'pred': {'arg_1': {'term': '?v2', 'parseinfo': {'tokenizer': None, 'rule': 'predicate_or_function_term', 'pos': 3929, 'endpos': 3929, 'line': 3929, 'endline': 3929, 'alerts': []}}, 'arg_2': {'term': '?v3', 'parseinfo': {'tokenizer': None, 'rule': 'predicate_or_function_term', 'pos': 3930, 'endpos': 3930, 'line': 3930, 'endline': 3930, 'alerts': []}}, 'parseinfo': {'tokenizer': None, 'rule': 'predicate_faces', 'pos': 3931, 'endpos': 3931, 'line': 3931, 'endline': 3931, 'alerts': []}}, 'parseinfo': {'tokenizer': None, 'rule': 'predicate', 'pos': 3932, 'endpos': 3932, 'line': 3932, 'endline': 3932, 'alerts': []}}, 'parseinfo': {'tokenizer': None, 'rule': 'super_predicate', 'pos': 3933, 'endpos': 3933, 'line': 3933, 'endline': 3933, 'alerts': []}}], 'parseinfo': {'tokenizer': None, 'rule': 'super_predicate_and', 'pos': 3934, 'endpos': 3934, 'line': 3934, 'endline': 3934, 'alerts': []}}, 'parseinfo': {'tokenizer': None, 'rule': 'super_predicate', 'pos': 3935, 'endpos': 3935, 'line': 3935, 'endline': 3935, 'alerts': []}}, 'parseinfo': {'tokenizer': None, 'rule': 'setup_game_conserved', 'pos': 3936, 'endpos': 3936, 'line': 3936, 'endline': 3936, 'alerts': []}}, 'parseinfo': {'tokenizer': None, 'rule': 'setup_statement', 'pos': 3937, 'endpos': 3937, 'line': 3937, 'endline': 3937, 'alerts': []}}, 'parseinfo': {'tokenizer': None, 'rule': 'setup', 'pos': 15, 'endpos': 15, 'line': 15, 'endline': 15, 'alerts': []}},\n",
       " ')')"
      ]
     },
     "execution_count": 16,
     "metadata": {},
     "output_type": "execute_result"
    }
   ],
   "source": [
    "mcmc.samples[0][0][3]"
   ]
  },
  {
   "cell_type": "code",
   "execution_count": 24,
   "metadata": {},
   "outputs": [
    {
     "name": "stdout",
     "output_type": "stream",
     "text": [
      "1 4\n",
      "{('?v2', 'variable_type_def', 1662)} {('?v2', 'variable_type_def', 1662)} False\n"
     ]
    },
    {
     "data": {
      "text/plain": [
       "{'src_file': '',\n",
       " 'game_name': 'mcmc-0',\n",
       " 'domain_name': 'medium-objects-room-v1',\n",
       " 'real': False,\n",
       " 'all_variables_defined': 0,\n",
       " 'all_variables_used': 1,\n",
       " 'all_preferences_used': 1,\n",
       " 'setup_objects_used': 0,\n",
       " 'adjacent_once_found': 0,\n",
       " 'no_adjacent_same_modal': 0,\n",
       " 'starts_and_ends_once': 0,\n",
       " 'length_of_then_modals_1': 0,\n",
       " 'length_of_then_modals_2': 0,\n",
       " 'length_of_then_modals_3': 0,\n",
       " 'length_of_then_modals_4': 0,\n",
       " 'length_of_then_modals_5': 0,\n",
       " 'length_of_then_modals_6': 0,\n",
       " 'length_of_then_modals_7': 0,\n",
       " 'max_quantification_count_setup_0': 1,\n",
       " 'max_quantification_count_setup_1': 0,\n",
       " 'max_quantification_count_setup_2': 0,\n",
       " 'max_quantification_count_setup_3': 0,\n",
       " 'max_quantification_count_setup_4': 0,\n",
       " 'max_quantification_count_setup_5': 0,\n",
       " 'max_quantification_count_constraints_0': 0,\n",
       " 'max_quantification_count_constraints_1': 1,\n",
       " 'max_quantification_count_constraints_2': 0,\n",
       " 'max_quantification_count_constraints_3': 0,\n",
       " 'max_quantification_count_constraints_4': 0,\n",
       " 'max_quantification_count_constraints_5': 0,\n",
       " 'max_number_variables_types_quantified_types_1': 0,\n",
       " 'max_number_variables_types_quantified_types_2': 1,\n",
       " 'max_number_variables_types_quantified_types_3': 0,\n",
       " 'max_number_variables_types_quantified_types_4': 0,\n",
       " 'max_number_variables_types_quantified_types_5': 0,\n",
       " 'max_number_variables_types_quantified_types_6': 0,\n",
       " 'max_number_variables_types_quantified_types_7': 0,\n",
       " 'max_number_variables_types_quantified_types_8': 0,\n",
       " 'max_number_variables_types_quantified_variables_1': 1,\n",
       " 'max_number_variables_types_quantified_variables_2': 0,\n",
       " 'max_number_variables_types_quantified_variables_3': 0,\n",
       " 'max_number_variables_types_quantified_variables_4': 0,\n",
       " 'max_number_variables_types_quantified_variables_5': 0,\n",
       " 'max_number_variables_types_quantified_variables_6': 0,\n",
       " 'max_number_variables_types_quantified_variables_7': 0,\n",
       " 'max_number_variables_types_quantified_variables_8': 0,\n",
       " 'repeated_variables_found': 0,\n",
       " 'nested_logicals_found': 0,\n",
       " 'identical_logical_children_found': 0,\n",
       " 'tautological_expression_found': 0,\n",
       " 'redundant_expression_found': 0,\n",
       " 'pref_forall_count_once_per_external_objects_used_correct': 0,\n",
       " 'pref_forall_count_once_per_external_objects_used_incorrect': 0,\n",
       " 'pref_forall_external_forall_used_correct': 0,\n",
       " 'pref_forall_external_forall_used_incorrect': 0,\n",
       " 'pref_forall_used_correct': 0,\n",
       " 'pref_forall_used_incorrect': 1,\n",
       " 'pref_forall_pref_forall_correct_arity_correct': 0,\n",
       " 'pref_forall_pref_forall_correct_arity_incorrect': 1,\n",
       " 'pref_forall_pref_forall_correct_types_correct': 1,\n",
       " 'pref_forall_pref_forall_correct_types_incorrect': 0,\n",
       " 'no_two_number_operations': 1,\n",
       " 'section_without_pref_or_total_count_terminal': 0,\n",
       " 'section_without_pref_or_total_count_scoring': 0,\n",
       " 'predicate_under_modal_while_hold_distance': 0,\n",
       " 'predicate_under_modal_while_hold_between': 0,\n",
       " 'predicate_under_modal_while_hold_adjacent': 0,\n",
       " 'predicate_under_modal_while_hold_in': 0,\n",
       " 'predicate_under_modal_while_hold_object_orientation': 0,\n",
       " 'predicate_under_modal_while_hold_on': 0,\n",
       " 'predicate_under_modal_while_hold_adjacent_side_3': 0,\n",
       " 'predicate_under_modal_while_hold_in_motion': 0,\n",
       " 'predicate_under_modal_while_hold_touch': 0,\n",
       " 'predicate_under_modal_while_hold_agent_holds': 0,\n",
       " 'predicate_under_modal_once_distance': 0,\n",
       " 'predicate_under_modal_once_between': 0,\n",
       " 'predicate_under_modal_once_adjacent': 0,\n",
       " 'predicate_under_modal_once_in': 0,\n",
       " 'predicate_under_modal_once_object_orientation': 0,\n",
       " 'predicate_under_modal_once_on': 0,\n",
       " 'predicate_under_modal_once_adjacent_side_3': 0,\n",
       " 'predicate_under_modal_once_in_motion': 0,\n",
       " 'predicate_under_modal_once_touch': 0,\n",
       " 'predicate_under_modal_once_agent_holds': 0,\n",
       " 'predicate_under_modal_once_measure_distance': 0,\n",
       " 'predicate_under_modal_once_measure_between': 0,\n",
       " 'predicate_under_modal_once_measure_adjacent': 0,\n",
       " 'predicate_under_modal_once_measure_in': 0,\n",
       " 'predicate_under_modal_once_measure_object_orientation': 0,\n",
       " 'predicate_under_modal_once_measure_on': 0,\n",
       " 'predicate_under_modal_once_measure_adjacent_side_3': 0,\n",
       " 'predicate_under_modal_once_measure_in_motion': 0,\n",
       " 'predicate_under_modal_once_measure_touch': 0,\n",
       " 'predicate_under_modal_once_measure_agent_holds': 0,\n",
       " 'predicate_under_modal_hold_distance': 0,\n",
       " 'predicate_under_modal_hold_between': 0,\n",
       " 'predicate_under_modal_hold_adjacent': 0,\n",
       " 'predicate_under_modal_hold_in': 0,\n",
       " 'predicate_under_modal_hold_object_orientation': 0,\n",
       " 'predicate_under_modal_hold_on': 0,\n",
       " 'predicate_under_modal_hold_adjacent_side_3': 0,\n",
       " 'predicate_under_modal_hold_in_motion': 0,\n",
       " 'predicate_under_modal_hold_touch': 0,\n",
       " 'predicate_under_modal_hold_agent_holds': 0,\n",
       " 'in_motion_arg_types_blocks_constraints': 1,\n",
       " 'in_motion_arg_types_balls_constraints': 1,\n",
       " 'compositionality_structure_0': 0,\n",
       " 'compositionality_structure_1': 0,\n",
       " 'compositionality_structure_2': 0,\n",
       " 'compositionality_structure_3': 0,\n",
       " 'compositionality_structure_4': 0,\n",
       " 'compositionality_structure_5': 0,\n",
       " 'compositionality_structure_6': 0,\n",
       " 'compositionality_structure_7': 0,\n",
       " 'compositionality_structure_8': 0,\n",
       " 'compositionality_structure_9': 0,\n",
       " 'compositionality_structure_10': 0,\n",
       " 'compositionality_structure_11': 0,\n",
       " 'compositionality_structure_12': 0,\n",
       " 'max_depth_setup_0': 0,\n",
       " 'max_depth_setup_1': 1,\n",
       " 'max_depth_setup_2': 0,\n",
       " 'max_depth_setup_3': 0,\n",
       " 'max_depth_setup_4': 0,\n",
       " 'max_depth_constraints_0': 0,\n",
       " 'max_depth_constraints_1': 1,\n",
       " 'max_depth_constraints_2': 0,\n",
       " 'max_depth_constraints_3': 0,\n",
       " 'max_depth_constraints_4': 0,\n",
       " 'max_depth_terminal_0': 0,\n",
       " 'max_depth_terminal_1': 0,\n",
       " 'max_depth_terminal_2': 0,\n",
       " 'max_depth_terminal_3': 1,\n",
       " 'max_depth_terminal_4': 0,\n",
       " 'max_depth_scoring_0': 0,\n",
       " 'max_depth_scoring_1': 1,\n",
       " 'max_depth_scoring_2': 0,\n",
       " 'max_depth_scoring_3': 0,\n",
       " 'max_depth_scoring_4': 0,\n",
       " 'mean_depth_setup_0': 0,\n",
       " 'mean_depth_setup_1': 0,\n",
       " 'mean_depth_setup_2': 1,\n",
       " 'mean_depth_setup_3': 0,\n",
       " 'mean_depth_setup_4': 0,\n",
       " 'mean_depth_constraints_0': 1,\n",
       " 'mean_depth_constraints_1': 0,\n",
       " 'mean_depth_constraints_2': 0,\n",
       " 'mean_depth_constraints_3': 0,\n",
       " 'mean_depth_constraints_4': 0,\n",
       " 'mean_depth_terminal_0': 0,\n",
       " 'mean_depth_terminal_1': 0,\n",
       " 'mean_depth_terminal_2': 0,\n",
       " 'mean_depth_terminal_3': 1,\n",
       " 'mean_depth_terminal_4': 0,\n",
       " 'mean_depth_scoring_0': 0,\n",
       " 'mean_depth_scoring_1': 1,\n",
       " 'mean_depth_scoring_2': 0,\n",
       " 'mean_depth_scoring_3': 0,\n",
       " 'mean_depth_scoring_4': 0,\n",
       " 'node_count_setup_0': 0,\n",
       " 'node_count_setup_1': 0,\n",
       " 'node_count_setup_2': 1,\n",
       " 'node_count_setup_3': 0,\n",
       " 'node_count_setup_4': 0,\n",
       " 'node_count_constraints_0': 0,\n",
       " 'node_count_constraints_1': 1,\n",
       " 'node_count_constraints_2': 0,\n",
       " 'node_count_constraints_3': 0,\n",
       " 'node_count_constraints_4': 0,\n",
       " 'node_count_terminal_0': 0,\n",
       " 'node_count_terminal_1': 0,\n",
       " 'node_count_terminal_2': 1,\n",
       " 'node_count_terminal_3': 0,\n",
       " 'node_count_terminal_4': 0,\n",
       " 'node_count_scoring_0': 1,\n",
       " 'node_count_scoring_1': 0,\n",
       " 'node_count_scoring_2': 0,\n",
       " 'node_count_scoring_3': 0,\n",
       " 'node_count_scoring_4': 0,\n",
       " 'section_doesnt_exist_setup': False,\n",
       " 'section_doesnt_exist_terminal': False,\n",
       " 'ast_ngram_full_n_2_score': -2.924526852251837,\n",
       " 'ast_ngram_full_n_3_score': -3.1749143374156232,\n",
       " 'ast_ngram_full_n_4_score': -3.699304252771336,\n",
       " 'ast_ngram_full_n_5_score': -4.312592194511352,\n",
       " 'ast_ngram_full_n_6_score': -4.938740664557365,\n",
       " 'ast_ngram_full_n_7_score': -5.570516104818849,\n",
       " 'ast_ngram_setup_n_2_score': -5.156098926889177,\n",
       " 'ast_ngram_setup_n_3_score': -5.316800011866747,\n",
       " 'ast_ngram_setup_n_4_score': -5.591186503580694,\n",
       " 'ast_ngram_setup_n_5_score': -5.818395187251142,\n",
       " 'ast_ngram_constraints_n_2_score': -3.699757203159606,\n",
       " 'ast_ngram_constraints_n_3_score': -4.0375410162298015,\n",
       " 'ast_ngram_constraints_n_4_score': -4.523698034976013,\n",
       " 'ast_ngram_constraints_n_5_score': -5.137255087031439,\n",
       " 'ast_ngram_constraints_n_6_score': -5.736032607780205,\n",
       " 'ast_ngram_constraints_n_7_score': -6.315845249126468,\n",
       " 'ast_ngram_terminal_n_2_score': -3.4189150141549307,\n",
       " 'ast_ngram_terminal_n_3_score': -4.144389294920557,\n",
       " 'ast_ngram_terminal_n_4_score': -4.821906923671404,\n",
       " 'ast_ngram_terminal_n_5_score': -5.390226569449999,\n",
       " 'ast_ngram_scoring_n_2_score': -1.7852699319762066,\n",
       " 'ast_ngram_scoring_n_3_score': -1.4037336045179412,\n",
       " 'ast_ngram_scoring_n_4_score': -1.4331199342202494,\n",
       " 'ast_ngram_scoring_n_5_score': -1.5616287078390536}"
      ]
     },
     "execution_count": 24,
     "metadata": {},
     "output_type": "execute_result"
    }
   ],
   "source": [
    "mcmc.fitness_featurizer.parse(mcmc.samples[0][0], '', True, False)"
   ]
  },
  {
   "cell_type": "code",
   "execution_count": null,
   "metadata": {},
   "outputs": [],
   "source": []
  },
  {
   "attachments": {},
   "cell_type": "markdown",
   "metadata": {},
   "source": [
    "## Regrwoth from existing games"
   ]
  },
  {
   "cell_type": "code",
   "execution_count": null,
   "metadata": {},
   "outputs": [],
   "source": [
    "n_samples = 5\n",
    "start = 2\n",
    "end = start + n_samples\n",
    "\n",
    "\n",
    "for original_index in range(start, end):\n",
    "    print(f'Generating samples starting from original index {original_index} (id {_extract_game_id(real_game_texts[original_index])})')\n",
    "    mcmc.multiple_samples(n_samples, verbose=1, should_tqdm=True, initial_proposal=game_asts[original_index])\n",
    "\n",
    "    # print()\n",
    "    # for i in range(n_samples * (original_index - start), n_samples * (original_index - start + 1)):\n",
    "    #     print(i, mcmc.samples[i][2])"
   ]
  },
  {
   "cell_type": "code",
   "execution_count": null,
   "metadata": {},
   "outputs": [],
   "source": [
    "mcmc.visualize_sample(27)"
   ]
  },
  {
   "cell_type": "code",
   "execution_count": null,
   "metadata": {},
   "outputs": [],
   "source": [
    "mcmc.feature_names[-5:]"
   ]
  },
  {
   "cell_type": "code",
   "execution_count": null,
   "metadata": {},
   "outputs": [],
   "source": [
    "from argparse import Namespace\n",
    "from src.fitness_features import *\n",
    "args = Namespace(no_binarize=False, no_merge=False)\n",
    "featurizer = build_fitness_featurizer(args)"
   ]
  },
  {
   "cell_type": "code",
   "execution_count": null,
   "metadata": {},
   "outputs": [],
   "source": [
    "a = grammar_parser.parse(s)"
   ]
  },
  {
   "cell_type": "code",
   "execution_count": null,
   "metadata": {},
   "outputs": [],
   "source": [
    "ps = {k:v for k, v in featurizer.parse(a, 'mcmc', True).items() if 'predicate_under_modal' in k}\n",
    "len(ps)"
   ]
  },
  {
   "cell_type": "code",
   "execution_count": null,
   "metadata": {},
   "outputs": [],
   "source": [
    "{k:v for k, v in ps.items() if v > 0}"
   ]
  },
  {
   "cell_type": "code",
   "execution_count": null,
   "metadata": {},
   "outputs": [],
   "source": [
    "mcmc.samples[5][0][3][1].setup.exists_args.setup.and_args[0].setup.exists_vars"
   ]
  },
  {
   "cell_type": "code",
   "execution_count": null,
   "metadata": {},
   "outputs": [],
   "source": []
  },
  {
   "cell_type": "code",
   "execution_count": null,
   "metadata": {},
   "outputs": [],
   "source": [
    "mcmc._proposal_to_features(mcmc.samples[0][0])['ast_ngram_n_7_score']"
   ]
  },
  {
   "cell_type": "code",
   "execution_count": null,
   "metadata": {},
   "outputs": [],
   "source": [
    "mcmc.fitness_featurizer.full_ast_registry[0].n_gram_model.score(mcmc.samples[0][0], log=True)"
   ]
  },
  {
   "cell_type": "code",
   "execution_count": null,
   "metadata": {},
   "outputs": [],
   "source": [
    "mcmc.fitness_featurizer.preprocessors[0].scale_series_min_max_values"
   ]
  },
  {
   "cell_type": "code",
   "execution_count": null,
   "metadata": {},
   "outputs": [],
   "source": [
    "# %prun -r \n",
    "n_samples = 5\n",
    "start = 0\n",
    "end = start + n_samples\n",
    "\n",
    "for original_index in range(start, end):\n",
    "    print(f'Generating samples starting from original index {original_index} (id {_extract_game_id(real_game_texts[original_index])})')\n",
    "    mcmc.multiple_samples(n_samples, verbose=1, should_tqdm=True, initial_proposal=game_asts[original_index])\n",
    "\n",
    "    print()\n",
    "    for i in range(n_samples * (original_index - start), n_samples * (original_index - start + 1)):\n",
    "        print(i, mcmc.samples[i][2])"
   ]
  },
  {
   "cell_type": "code",
   "execution_count": null,
   "metadata": {},
   "outputs": [],
   "source": [
    "mcmc.visualize_sample(14)"
   ]
  },
  {
   "cell_type": "code",
   "execution_count": null,
   "metadata": {},
   "outputs": [],
   "source": [
    "mcmc.fitness_featurizer.full_text_registry[0].n_gram_model.models[-1].score(ast_printer.ast_to_string(mcmc.samples[14][0], ' '))"
   ]
  },
  {
   "cell_type": "code",
   "execution_count": null,
   "metadata": {},
   "outputs": [],
   "source": [
    "mcmc.fitness_featurizer.full_text_registry[0].n_gram_model.models[-1].score(ast_printer.ast_to_string(mcmc.samples[14][3], ' '))"
   ]
  },
  {
   "cell_type": "code",
   "execution_count": null,
   "metadata": {},
   "outputs": [],
   "source": [
    "ngram_model = mcmc.fitness_featurizer.full_text_registry[0].n_gram_model.models[-1]\n",
    "\n",
    "sample_ngrams = [('constraints', 'and', 'forall', 'wall', 'and'), ('and', 'forall', 'wall', 'and', 'preference'), ('forall', 'wall', 'and', 'preference', 'preferenceName'), ('wall', 'and', 'preference', 'preferenceName', 'exists'), ('and', 'preference', 'preferenceName', 'exists', 'block'), ('preference', 'preferenceName', 'exists', 'block', 'atend'), ('preferenceName', 'exists', 'block', 'atend', 'in'), ('exists', 'block', 'atend', 'in', 'scoring'), ('block', 'atend', 'in', 'scoring', 'externalforallmaximize'), ('atend', 'in', 'scoring', 'externalforallmaximize', 'countonceperobjects'), ('in', 'scoring', 'externalforallmaximize', 'countonceperobjects', 'preferenceName')]\n",
    "original_ngrams = [('constraints', 'and', 'forall', 'building', 'and'), ('and', 'forall', 'building', 'and', 'preference'), ('forall', 'building', 'and', 'preference', 'preferenceName'), ('building', 'and', 'preference', 'preferenceName', 'exists'), ('and', 'preference', 'preferenceName', 'exists', 'block'), ('preference', 'preferenceName', 'exists', 'block', 'atend'), ('preferenceName', 'exists', 'block', 'atend', 'in'), ('exists', 'block', 'atend', 'in', 'scoring'), ('block', 'atend', 'in', 'scoring', 'externalforallmaximize'), ('atend', 'in', 'scoring', 'externalforallmaximize', 'countonceperobjects'), ('in', 'scoring', 'externalforallmaximize', 'countonceperobjects', 'preferenceName')]\n",
    "\n",
    "print(f'Sample ngrams: {np.mean([ngram_model.ngram_logprobs[s] for s in sample_ngrams])} | ')\n",
    "for s in sample_ngrams:\n",
    "    print(s, ngram_model.ngram_counts[s], ngram_model.ngram_logprobs[s])\n",
    "\n",
    "print()\n",
    "print(f'Original ngrams: {np.mean([ngram_model.ngram_logprobs[s] for s in original_ngrams])}')\n",
    "for s in original_ngrams:\n",
    "    print(s, ngram_model.ngram_counts[s], ngram_model.ngram_logprobs[s])\n",
    "print()\n",
    "\n",
    "for s in sample_ngrams[:]:\n",
    "    if s in original_ngrams:\n",
    "        sample_ngrams.remove(s)\n",
    "        original_ngrams.remove(s)\n",
    "\n",
    "print('Sample remaining ngrams')\n",
    "for s in sample_ngrams:\n",
    "    print(s, ngram_model.ngram_counts[s], ngram_model.ngram_logprobs[s])\n",
    "\n",
    "print()\n",
    "print('Original remaining ngrams')\n",
    "for s in original_ngrams:\n",
    "    print(s, ngram_model.ngram_counts[s], ngram_model.ngram_logprobs[s])"
   ]
  },
  {
   "cell_type": "code",
   "execution_count": null,
   "metadata": {},
   "outputs": [],
   "source": [
    "original_ngrams = [('constraints', 'and', 'forall', 'building', 'and'), ('and', 'forall', 'building', 'and', 'preference'), ('forall', 'building', 'and', 'preference', 'preferenceName'), ('building', 'and', 'preference', 'preferenceName', 'exists'), ('and', 'preference', 'preferenceName', 'exists', 'block'), ('preference', 'preferenceName', 'exists', 'block', 'atend'), ('preferenceName', 'exists', 'block', 'atend', 'in'), ('exists', 'block', 'atend', 'in', 'scoring'), ('block', 'atend', 'in', 'scoring', 'externalforallmaximize'), ('atend', 'in', 'scoring', 'externalforallmaximize', 'countonceperobjects'), ('in', 'scoring', 'externalforallmaximize', 'countonceperobjects', 'preferenceName')]\n",
    "print('Original ngrams')\n",
    "for s in original_ngrams:\n",
    "    print(s, mcmc.fitness_featurizer.full_text_registry[0].n_gram_model.models[-1].ngram_counts[s], mcmc.fitness_featurizer.full_text_registry[0].n_gram_model.models[-1].ngram_logprobs[s])"
   ]
  },
  {
   "cell_type": "code",
   "execution_count": null,
   "metadata": {},
   "outputs": [],
   "source": [
    "mcmc.visualize_sample(7)"
   ]
  },
  {
   "cell_type": "code",
   "execution_count": null,
   "metadata": {},
   "outputs": [],
   "source": [
    "mcmc.visualize_sample(15)"
   ]
  },
  {
   "cell_type": "code",
   "execution_count": null,
   "metadata": {},
   "outputs": [],
   "source": []
  },
  {
   "attachments": {},
   "cell_type": "markdown",
   "metadata": {},
   "source": [
    "### Notes from looking at these games\n",
    "* **TODO:** debug the 'section-without' logic, it seems to not work\n",
    "* **TODO:** add features for preferences with different lengths of modals"
   ]
  },
  {
   "cell_type": "code",
   "execution_count": null,
   "metadata": {},
   "outputs": [],
   "source": []
  },
  {
   "cell_type": "code",
   "execution_count": null,
   "metadata": {},
   "outputs": [],
   "source": [
    "print(ast_printer.ast_to_string(samples[8][0], '\\n'))"
   ]
  },
  {
   "cell_type": "code",
   "execution_count": null,
   "metadata": {},
   "outputs": [],
   "source": [
    "fitness_featurizer = build_fitness_featurizer(DEFAULT_ARGS)\n",
    "features = fitness_featurizer.parse(samples[7][0], 'mcmc', True)\n",
    "{k: v for k, v in features.items() if 'correctly' in k or 'forall' in k or 'no' in k}"
   ]
  },
  {
   "cell_type": "code",
   "execution_count": null,
   "metadata": {},
   "outputs": [],
   "source": [
    "with gzip.open(DEFAULT_FITNESS_FUNCTION_PATH, 'rb') as f:\n",
    "    cv_fitness_model = pickle.load(f)"
   ]
  },
  {
   "cell_type": "code",
   "execution_count": null,
   "metadata": {},
   "outputs": [],
   "source": [
    "weights = cv_fitness_model.named_steps['fitness'].model.fc1.weight.data.detach().numpy().squeeze()\n",
    "bias = cv_fitness_model.named_steps['fitness'].model.fc1.bias.data.detach().numpy().squeeze()\n",
    "print(weights.mean(), bias)"
   ]
  },
  {
   "cell_type": "code",
   "execution_count": null,
   "metadata": {},
   "outputs": [],
   "source": [
    "plt.hist(weights, bins=100)\n",
    "plt.title('Fitness Model Weights')\n",
    "plt.xlabel('Weight magnitude')\n",
    "plt.ylabel('Count')"
   ]
  },
  {
   "cell_type": "code",
   "execution_count": null,
   "metadata": {},
   "outputs": [],
   "source": [
    "import ast_crossover_sampler\n",
    "asts = [ast for ast in cached_load_and_parse_games_from_file('../dsl/interactive-beta.pddl', \n",
    "    mcmc.grammar_parser, False, relative_path='..')]\n",
    "\n",
    "mcmc_with_crossover = MCMCRegrowthCrossoverSampler(DEFAULT_ARGS, \n",
    "    ast_crossover_sampler.CrossoverType.SAME_RULE, asts, 0.25,\n",
    "    '../models/cv_fitness_model_2022_12_26.pkl.gz', \n",
    "    greedy_acceptance=True, plateau_patience_steps=20, acceptance_temperature=10.0, max_steps=1000)"
   ]
  },
  {
   "cell_type": "code",
   "execution_count": null,
   "metadata": {},
   "outputs": [],
   "source": [
    "mcmc_with_crossover.multiple_samples(10, verbose=2, should_tqdm=True)\n",
    "print([x[2] for x in mcmc_with_crossover.samples])"
   ]
  },
  {
   "cell_type": "code",
   "execution_count": null,
   "metadata": {},
   "outputs": [],
   "source": [
    "print([x[2] for x in mcmc_with_crossover.samples])"
   ]
  },
  {
   "cell_type": "code",
   "execution_count": null,
   "metadata": {},
   "outputs": [],
   "source": []
  }
 ],
 "metadata": {
  "kernelspec": {
   "display_name": "game-gen",
   "language": "python",
   "name": "python3"
  },
  "language_info": {
   "codemirror_mode": {
    "name": "ipython",
    "version": 3
   },
   "file_extension": ".py",
   "mimetype": "text/x-python",
   "name": "python",
   "nbconvert_exporter": "python",
   "pygments_lexer": "ipython3",
   "version": "3.10.8"
  },
  "orig_nbformat": 4,
  "vscode": {
   "interpreter": {
    "hash": "a8b8c8d5c21b7aee7bd0053f69e9c255c013bbea7031fbef7e66d58dd46c0fa6"
   }
  }
 },
 "nbformat": 4,
 "nbformat_minor": 2
}
