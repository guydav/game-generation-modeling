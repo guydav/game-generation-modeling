{
 "cells": [
  {
   "cell_type": "code",
   "execution_count": 1,
   "metadata": {},
   "outputs": [],
   "source": [
    "%autoreload 2"
   ]
  },
  {
   "cell_type": "code",
   "execution_count": 2,
   "metadata": {},
   "outputs": [
    {
     "name": "stderr",
     "output_type": "stream",
     "text": [
      "2023-08-05 23:17:17 - ast_utils - DEBUG    - Using cache folder: /tmp/game_generation_cache\n"
     ]
    }
   ],
   "source": [
    "from argparse import Namespace\n",
    "from collections import defaultdict\n",
    "import copy\n",
    "from datetime import datetime\n",
    "import difflib\n",
    "import gzip\n",
    "import itertools\n",
    "import os\n",
    "import pickle\n",
    "import sys\n",
    "import typing\n",
    "\n",
    "from IPython.display import display, Markdown, HTML  # type: ignore\n",
    "import matplotlib\n",
    "import matplotlib.pyplot as plt\n",
    "import numpy as np\n",
    "import pandas as pd\n",
    "import polars as pl\n",
    "import tatsu\n",
    "import tqdm.notebook as tqdmn\n",
    "\n",
    "\n",
    "sys.path.append(os.path.abspath('..'))\n",
    "sys.path.append(os.path.abspath('../reward-machine'))\n",
    "\n",
    "import compile_predicate_statistics\n",
    "import compile_predicate_statistics_split_args"
   ]
  },
  {
   "cell_type": "code",
   "execution_count": 3,
   "metadata": {},
   "outputs": [
    {
     "name": "stdout",
     "output_type": "stream",
     "text": [
      "Loaded data with shape (1440189, 8) from /Users/guydavidson/projects/game-generation-modeling/reward-machine/caches/predicate_statistics_028b3733.pkl.gz\n"
     ]
    }
   ],
   "source": [
    "cache_dir = compile_predicate_statistics.get_project_dir() + '/reward-machine/caches'\n",
    "\n",
    "# regular_df = pd.read_pickle(os.path.join(cache_dir, 'predicate_statistics.pkl'))\n",
    "split_args_df = pd.read_pickle(os.path.join(cache_dir, 'predicate_statistics_028b3733.pkl.gz'))\n",
    "\n",
    "# stats = compile_predicate_statistics.CommonSensePredicateStatistics(cache_dir)\n",
    "split_args_stats = compile_predicate_statistics_split_args.CommonSensePredicateStatisticsSplitArgs(\n",
    "    cache_dir, compile_predicate_statistics_split_args.FULL_PARTICIPANT_TRACE_SET, overwrite=False)"
   ]
  },
  {
   "cell_type": "code",
   "execution_count": 8,
   "metadata": {},
   "outputs": [
    {
     "data": {
      "text/plain": [
       "adjacent     8880\n",
       "touch        5214\n",
       "on           2348\n",
       "same_type     382\n",
       "Name: predicate, dtype: int64"
      ]
     },
     "execution_count": 8,
     "metadata": {},
     "output_type": "execute_result"
    }
   ],
   "source": [
    "split_args_df[(split_args_df.arg_1_type == 'rug') | (split_args_df.arg_2_type == 'rug')].predicate.value_counts()"
   ]
  },
  {
   "cell_type": "code",
   "execution_count": 10,
   "metadata": {},
   "outputs": [
    {
     "data": {
      "text/plain": [
       "dodgeball                 209\n",
       "cube_block                 92\n",
       "red_dodgeball              80\n",
       "pink_dodgeball             72\n",
       "blue_dodgeball             57\n",
       "curved_wooden_ramp         54\n",
       "hexagonal_bin              43\n",
       "beachball                  41\n",
       "blue_cube_block            35\n",
       "bridge_block               33\n",
       "yellow_cube_block          32\n",
       "basketball                 30\n",
       "triangular_ramp            26\n",
       "pillow                     26\n",
       "tan_cube_block             25\n",
       "golfball                   24\n",
       "chair                      24\n",
       "cylindrical_block          19\n",
       "teddy_bear                 18\n",
       "flat_block                 17\n",
       "green_triangular_ramp      12\n",
       "tall_cylindrical_block     12\n",
       "pyramid_block              11\n",
       "green_golfball              9\n",
       "tall_rectangular_block      8\n",
       "alarm_clock                 7\n",
       "book                        6\n",
       "mug                         6\n",
       "doggie_bed                  6\n",
       "red_pyramid_block           6\n",
       "watch                       5\n",
       "credit_card                 5\n",
       "triangle_block              4\n",
       "key_chain                   3\n",
       "blue_pyramid_block          2\n",
       "bed                         2\n",
       "laptop                      1\n",
       "cellphone                   1\n",
       "pencil                      1\n",
       "cd                          1\n",
       "pen                         1\n",
       "Name: arg_2_type, dtype: int64"
      ]
     },
     "execution_count": 10,
     "metadata": {},
     "output_type": "execute_result"
    }
   ],
   "source": [
    "split_args_df[(split_args_df.arg_1_type == 'rug') & (split_args_df.predicate == 'on')].arg_2_type.value_counts()"
   ]
  },
  {
   "cell_type": "code",
   "execution_count": null,
   "metadata": {},
   "outputs": [],
   "source": []
  },
  {
   "cell_type": "code",
   "execution_count": null,
   "metadata": {},
   "outputs": [],
   "source": []
  },
  {
   "cell_type": "code",
   "execution_count": null,
   "metadata": {},
   "outputs": [],
   "source": []
  },
  {
   "cell_type": "code",
   "execution_count": null,
   "metadata": {},
   "outputs": [],
   "source": []
  },
  {
   "cell_type": "code",
   "execution_count": null,
   "metadata": {},
   "outputs": [],
   "source": [
    "door_df = split_args_df[(split_args_df.arg_1_type == 'door') | (split_args_df.arg_1_type == 'door')]\n",
    "print(door_df.predicate.value_counts())\n",
    "print()\n",
    "for predicate in door_df.predicate.unique():\n",
    "    pred_df = door_df[door_df.predicate == predicate]\n",
    "    print(f'For predicate {predicate}:')\n",
    "    print(pred_df.arg_2_type.value_counts().iloc[:10])\n",
    "    print()"
   ]
  },
  {
   "cell_type": "code",
   "execution_count": null,
   "metadata": {},
   "outputs": [],
   "source": [
    "for tid in door_df[door_df.predicate == 'in_motion'].trace_id:\n",
    "    print(tid)"
   ]
  },
  {
   "cell_type": "code",
   "execution_count": null,
   "metadata": {},
   "outputs": [],
   "source": [
    "split_args_df[split_args_df.predicate == 'in_motion'].arg_1_type.value_counts()"
   ]
  },
  {
   "cell_type": "code",
   "execution_count": null,
   "metadata": {},
   "outputs": [],
   "source": [
    "stats._invert_intervals(regular_df[(regular_df.trace_id == trace_id) & (regular_df.predicate == 'in_motion') & (regular_df.arg_ids == (ball_id,))].intervals.values[0],\n",
    "                        stats.trace_lengths[trace_id])"
   ]
  },
  {
   "cell_type": "code",
   "execution_count": null,
   "metadata": {},
   "outputs": [],
   "source": [
    "split_args_df[(split_args_df.trace_id == trace_id) & (split_args_df.predicate == 'in') & (split_args_df.arg_1_id == bin_id) & (split_args_df.arg_2_id == ball_id)]"
   ]
  },
  {
   "cell_type": "code",
   "execution_count": null,
   "metadata": {},
   "outputs": [],
   "source": [
    "ball_not_in_motion_int = split_args_stats._invert_intervals(\n",
    "    split_args_df[(split_args_df.trace_id == trace_id) & (split_args_df.predicate == 'in_motion') & (split_args_df.arg_1_id == ball_id)].intervals.values[0],\n",
    "    split_args_stats.trace_lengths_and_domains[trace_id][0],\n",
    ")\n",
    "\n",
    "ball_not_in_motion_int"
   ]
  },
  {
   "cell_type": "code",
   "execution_count": null,
   "metadata": {},
   "outputs": [],
   "source": [
    "ball_in_bin_int = split_args_df[(split_args_df.trace_id == trace_id) & (split_args_df.predicate == 'in') & (split_args_df.arg_1_id == bin_id) & (split_args_df.arg_2_id == ball_id)].intervals.values[0]\n",
    "\n",
    "split_args_stats._intersect_intervals(ball_in_bin_int, ball_not_in_motion_int)"
   ]
  },
  {
   "cell_type": "code",
   "execution_count": null,
   "metadata": {},
   "outputs": [],
   "source": [
    "single_trace_split_args_df = split_args_df[split_args_df['trace_id'] == trace_id]\n",
    "\n",
    "single_trace_split_args_stats = compile_predicate_statistics_split_args.CommonSensePredicateStatisticsSplitArgs(cache_dir)\n",
    "single_trace_split_args_stats.data = pl.from_pandas(single_trace_split_args_df)\n",
    "single_trace_split_args_stats.data.shape"
   ]
  },
  {
   "cell_type": "code",
   "execution_count": null,
   "metadata": {},
   "outputs": [],
   "source": [
    "DEFAULT_GRAMMAR_PATH = \"../dsl/dsl.ebnf\"\n",
    "grammar = open(DEFAULT_GRAMMAR_PATH).read()\n",
    "grammar_parser = typing.cast(tatsu.grammars.Grammar, tatsu.compile(grammar))\n",
    "\n",
    "game = open(compile_predicate_statistics.get_project_dir() + '/reward-machine/games/ball_to_bin_from_bed.txt').read()\n",
    "game_ast = grammar_parser.parse(game) \n",
    "\n",
    "test_pred_1 = game_ast[4][1]['preferences'][0]['definition']['forall_pref']['preferences']['pref_body']['body']['exists_args']['then_funcs'][1]['seq_func']['hold_pred']\n",
    "\n",
    "# should be: (and (not (in_motion ?b)) (in ?h ?b)))\n",
    "test_pred_2 = game_ast[4][1]['preferences'][0]['definition']['forall_pref']['preferences']['pref_body']['body']['exists_args']['then_funcs'][2]['seq_func']['once_pred']"
   ]
  },
  {
   "cell_type": "code",
   "execution_count": null,
   "metadata": {},
   "outputs": [],
   "source": [
    "test_mapping = {\"?b\": [\"ball\"], \"?h\": [\"hexagonal_bin\"]}\n",
    "test_out = single_trace_split_args_stats.filter(test_pred_2, test_mapping)\n",
    "test_out"
   ]
  }
 ],
 "metadata": {
  "kernelspec": {
   "display_name": "game-gen",
   "language": "python",
   "name": "python3"
  },
  "language_info": {
   "codemirror_mode": {
    "name": "ipython",
    "version": 3
   },
   "file_extension": ".py",
   "mimetype": "text/x-python",
   "name": "python",
   "nbconvert_exporter": "python",
   "pygments_lexer": "ipython3",
   "version": "3.10.8"
  },
  "orig_nbformat": 4
 },
 "nbformat": 4,
 "nbformat_minor": 2
}
