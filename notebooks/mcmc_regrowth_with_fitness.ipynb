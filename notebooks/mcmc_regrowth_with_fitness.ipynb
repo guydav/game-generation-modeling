{
 "cells": [
  {
   "cell_type": "code",
   "execution_count": 1,
   "metadata": {},
   "outputs": [
    {
     "name": "stderr",
     "output_type": "stream",
     "text": [
      "[autoreload of src.fitness_energy_utils failed: Traceback (most recent call last):\n",
      "  File \"/Users/guydavidson/opt/anaconda3/envs/game-gen/lib/python3.10/site-packages/IPython/extensions/autoreload.py\", line 261, in check\n",
      "    superreload(m, reload, self.old_objects)\n",
      "  File \"/Users/guydavidson/opt/anaconda3/envs/game-gen/lib/python3.10/site-packages/IPython/extensions/autoreload.py\", line 484, in superreload\n",
      "    update_generic(old_obj, new_obj)\n",
      "  File \"/Users/guydavidson/opt/anaconda3/envs/game-gen/lib/python3.10/site-packages/IPython/extensions/autoreload.py\", line 381, in update_generic\n",
      "    update(a, b)\n",
      "  File \"/Users/guydavidson/opt/anaconda3/envs/game-gen/lib/python3.10/site-packages/IPython/extensions/autoreload.py\", line 293, in update_function\n",
      "    setattr(old, name, getattr(new, name))\n",
      "ValueError: evaluate_fitness_overall_ecdf() requires a code object with 0 free vars, not 1\n",
      "]\n"
     ]
    }
   ],
   "source": [
    "%autoreload 2"
   ]
  },
  {
   "cell_type": "code",
   "execution_count": 2,
   "metadata": {},
   "outputs": [],
   "source": [
    "from collections import defaultdict\n",
    "from argparse import Namespace\n",
    "import copy\n",
    "import gzip\n",
    "import itertools\n",
    "import os\n",
    "import pickle\n",
    "import sys\n",
    "import typing\n",
    "\n",
    "import matplotlib\n",
    "import matplotlib.pyplot as plt\n",
    "import numpy as np\n",
    "import pandas as pd\n",
    "import tatsu\n",
    "import tatsu.ast\n",
    "import torch\n",
    "import torch.nn as nn\n",
    "import torch.nn.functional as F\n",
    "from torch.utils.data import TensorDataset, DataLoader\n",
    "import tqdm\n",
    "import sklearn\n",
    "from sklearn.model_selection import GridSearchCV, train_test_split, KFold\n",
    "from sklearn.pipeline import Pipeline\n",
    "\n",
    "sys.path.append(os.path.abspath('..'))\n",
    "sys.path.append(os.path.abspath('../src'))\n",
    "from src.ast_utils import _extract_game_id\n",
    "from src import fitness_energy_utils as utils\n",
    "from src.fitness_energy_utils import NON_FEATURE_COLUMNS\n",
    "from src.fitness_features import *\n",
    "from src.ast_counter_sampler import *\n",
    "from src.ast_mcmc_regrowth import *"
   ]
  },
  {
   "cell_type": "code",
   "execution_count": 3,
   "metadata": {},
   "outputs": [
    {
     "name": "stdout",
     "output_type": "stream",
     "text": [
      "98 12544 128.0 100352 1024.0\n"
     ]
    }
   ],
   "source": [
    "grammar = open('../dsl/dsl.ebnf').read()\n",
    "grammar_parser = tatsu.compile(grammar)\n",
    "game_asts = list(cached_load_and_parse_games_from_file('../dsl/interactive-beta.pddl', grammar_parser, False, relative_path='..'))\n",
    "real_game_texts = [ast_printer.ast_to_string(ast, '\\n') for ast in game_asts]\n",
    "regrown_game_texts = list(load_games_from_file('../dsl/ast-real-regrowth-samples.pddl'))\n",
    "regrown_game_1024_texts = list(load_games_from_file('../dsl/ast-real-regrowth-samples-1024.pddl'))\n",
    "print(len(real_game_texts), len(regrown_game_texts), len(regrown_game_texts) / 98, len(regrown_game_1024_texts), len(regrown_game_1024_texts) / 98)\n"
   ]
  },
  {
   "cell_type": "code",
   "execution_count": 4,
   "metadata": {},
   "outputs": [
    {
     "name": "stdout",
     "output_type": "stream",
     "text": [
      "['interactive-beta.pddl' 'ast-real-regrowth-samples-1024.pddl']\n"
     ]
    },
    {
     "data": {
      "text/html": [
       "<div>\n",
       "<style scoped>\n",
       "    .dataframe tbody tr th:only-of-type {\n",
       "        vertical-align: middle;\n",
       "    }\n",
       "\n",
       "    .dataframe tbody tr th {\n",
       "        vertical-align: top;\n",
       "    }\n",
       "\n",
       "    .dataframe thead th {\n",
       "        text-align: right;\n",
       "    }\n",
       "</style>\n",
       "<table border=\"1\" class=\"dataframe\">\n",
       "  <thead>\n",
       "    <tr style=\"text-align: right;\">\n",
       "      <th></th>\n",
       "      <th>Index</th>\n",
       "      <th>src_file</th>\n",
       "      <th>game_name</th>\n",
       "      <th>ast_ngram_n_7_8</th>\n",
       "      <th>ast_ngram_n_7_6</th>\n",
       "      <th>ast_ngram_n_7_7</th>\n",
       "      <th>ast_ngram_n_7_9</th>\n",
       "      <th>domain_name</th>\n",
       "      <th>real</th>\n",
       "      <th>original_game_name</th>\n",
       "      <th>...</th>\n",
       "      <th>ast_ngram_n_6_6</th>\n",
       "      <th>ast_ngram_n_6_7</th>\n",
       "      <th>ast_ngram_n_6_8</th>\n",
       "      <th>ast_ngram_n_6_9</th>\n",
       "      <th>ast_ngram_n_7_0</th>\n",
       "      <th>ast_ngram_n_7_1</th>\n",
       "      <th>ast_ngram_n_7_2</th>\n",
       "      <th>ast_ngram_n_7_3</th>\n",
       "      <th>ast_ngram_n_7_4</th>\n",
       "      <th>ast_ngram_n_7_5</th>\n",
       "    </tr>\n",
       "  </thead>\n",
       "  <tbody>\n",
       "    <tr>\n",
       "      <th>0</th>\n",
       "      <td>0</td>\n",
       "      <td>interactive-beta.pddl</td>\n",
       "      <td>6172feb1665491d1efbce164-0</td>\n",
       "      <td>0</td>\n",
       "      <td>0</td>\n",
       "      <td>0</td>\n",
       "      <td>0</td>\n",
       "      <td>medium-objects-room-v1</td>\n",
       "      <td>1</td>\n",
       "      <td>6172feb1665491d1efbce164-0</td>\n",
       "      <td>...</td>\n",
       "      <td>0</td>\n",
       "      <td>0</td>\n",
       "      <td>1</td>\n",
       "      <td>0</td>\n",
       "      <td>0</td>\n",
       "      <td>0</td>\n",
       "      <td>0</td>\n",
       "      <td>0</td>\n",
       "      <td>1</td>\n",
       "      <td>1</td>\n",
       "      <td>0</td>\n",
       "      <td>0</td>\n",
       "    </tr>\n",
       "    <tr>\n",
       "      <th>1</th>\n",
       "      <td>1</td>\n",
       "      <td>interactive-beta.pddl</td>\n",
       "      <td>5f77754ba932fb2c4ba181d8-2</td>\n",
       "      <td>1</td>\n",
       "      <td>1</td>\n",
       "      <td>1</td>\n",
       "      <td>0</td>\n",
       "      <td>many-objects-room-v1</td>\n",
       "      <td>1</td>\n",
       "      <td>5f77754ba932fb2c4ba181d8-2</td>\n",
       "      <td>...</td>\n",
       "      <td>0</td>\n",
       "      <td>0</td>\n",
       "      <td>1</td>\n",
       "      <td>1</td>\n",
       "      <td>1</td>\n",
       "      <td>1</td>\n",
       "      <td>0</td>\n",
       "      <td>0</td>\n",
       "      <td>1</td>\n",
       "      <td>1</td>\n",
       "    </tr>\n",
       "    <tr>\n",
       "      <th>2</th>\n",
       "      <td>2</td>\n",
       "      <td>interactive-beta.pddl</td>\n",
       "      <td>614b603d4da88384282967a7-3</td>\n",
       "      <td>0</td>\n",
       "      <td>0</td>\n",
       "      <td>0</td>\n",
       "      <td>0</td>\n",
       "      <td>many-objects-room-v1</td>\n",
       "      <td>1</td>\n",
       "      <td>614b603d4da88384282967a7-3</td>\n",
       "      <td>...</td>\n",
       "      <td>0</td>\n",
       "      <td>0</td>\n",
       "      <td>0</td>\n",
       "      <td>0</td>\n",
       "      <td>0</td>\n",
       "      <td>0</td>\n",
       "      <td>0</td>\n",
       "      <td>0</td>\n",
       "      <td>0</td>\n",
       "      <td>0</td>\n",
       "    </tr>\n",
       "    <tr>\n",
       "      <th>3</th>\n",
       "      <td>3</td>\n",
       "      <td>interactive-beta.pddl</td>\n",
       "      <td>5bc79f652885710001a0e82a-5</td>\n",
       "      <td>1</td>\n",
       "      <td>1</td>\n",
       "      <td>1</td>\n",
       "      <td>0</td>\n",
       "      <td>few-objects-room-v1</td>\n",
       "      <td>1</td>\n",
       "      <td>5bc79f652885710001a0e82a-5</td>\n",
       "      <td>...</td>\n",
       "      <td>1</td>\n",
       "      <td>0</td>\n",
       "      <td>1</td>\n",
       "      <td>1</td>\n",
       "      <td>1</td>\n",
       "      <td>1</td>\n",
       "      <td>0</td>\n",
       "      <td>0</td>\n",
       "      <td>1</td>\n",
       "      <td>1</td>\n",
       "    </tr>\n",
       "    <tr>\n",
       "      <th>4</th>\n",
       "      <td>4</td>\n",
       "      <td>interactive-beta.pddl</td>\n",
       "      <td>614dec67f6eb129c3a77defd-6</td>\n",
       "      <td>1</td>\n",
       "      <td>1</td>\n",
       "      <td>1</td>\n",
       "      <td>0</td>\n",
       "      <td>medium-objects-room-v1</td>\n",
       "      <td>1</td>\n",
       "      <td>614dec67f6eb129c3a77defd-6</td>\n",
       "      <td>...</td>\n",
       "      <td>1</td>\n",
       "      <td>0</td>\n",
       "      <td>1</td>\n",
       "      <td>1</td>\n",
       "      <td>1</td>\n",
       "      <td>1</td>\n",
       "      <td>1</td>\n",
       "      <td>1</td>\n",
       "      <td>1</td>\n",
       "      <td>1</td>\n",
       "    </tr>\n",
       "  </tbody>\n",
       "</table>\n",
       "<p>5 rows × 578 columns</p>\n",
       "</div>"
      ],
      "text/plain": [
       "   Index               src_file                   game_name  ast_ngram_n_7_8  \\\n",
       "0      0  interactive-beta.pddl  6172feb1665491d1efbce164-0                0   \n",
       "1      1  interactive-beta.pddl  5f77754ba932fb2c4ba181d8-2                1   \n",
       "2      2  interactive-beta.pddl  614b603d4da88384282967a7-3                0   \n",
       "3      3  interactive-beta.pddl  5bc79f652885710001a0e82a-5                1   \n",
       "4      4  interactive-beta.pddl  614dec67f6eb129c3a77defd-6                1   \n",
       "\n",
       "   ast_ngram_n_7_6  ast_ngram_n_7_7  ast_ngram_n_7_9             domain_name  \\\n",
       "0                0                0                0  medium-objects-room-v1   \n",
       "1                1                1                0    many-objects-room-v1   \n",
       "2                0                0                0    many-objects-room-v1   \n",
       "3                1                1                0     few-objects-room-v1   \n",
       "4                1                1                0  medium-objects-room-v1   \n",
       "\n",
       "   real          original_game_name  ...  ast_ngram_n_6_6  ast_ngram_n_6_7  \\\n",
       "0     1  6172feb1665491d1efbce164-0  ...                1                0   \n",
       "1     1  5f77754ba932fb2c4ba181d8-2  ...                0                0   \n",
       "2     1  614b603d4da88384282967a7-3  ...                0                0   \n",
       "3     1  5bc79f652885710001a0e82a-5  ...                1                0   \n",
       "4     1  614dec67f6eb129c3a77defd-6  ...                1                0   \n",
       "\n",
       "   ast_ngram_n_6_8  ast_ngram_n_6_9  ast_ngram_n_7_0  ast_ngram_n_7_1  \\\n",
       "0                0                0                0                0   \n",
       "1                1                1                1                1   \n",
       "2                0                0                0                0   \n",
       "3                1                1                1                0   \n",
       "4                1                1                1                1   \n",
       "\n",
       "   ast_ngram_n_7_2  ast_ngram_n_7_3  ast_ngram_n_7_4  ast_ngram_n_7_5  \n",
       "0                1                1                0                0  \n",
       "1                0                0                1                1  \n",
       "2                0                0                0                0  \n",
       "3                1                1                1                1  \n",
       "4                1                1                1                1  \n",
       "\n",
       "[5 rows x 578 columns]"
      ]
     },
     "execution_count": 4,
     "metadata": {},
     "output_type": "execute_result"
    }
   ],
   "source": [
    "fitness_df = utils.load_fitness_data('../data/fitness_features_1024_regrowths.csv.gz')\n",
    "print(fitness_df.src_file.unique())\n",
    "fitness_df.head()"
   ]
  },
  {
   "cell_type": "markdown",
   "metadata": {},
   "source": [
    "# Plan of attack\n",
    "* Use the code in `ast_counter_sampler.py` to generate a sample from the MLE\n",
    "* Score it with a fitness function adapted to working with a single example at a time\n",
    "* At each subsequent iteration, regrow the game from a random node, and score the regrowth\n",
    "* Since we have energy scores before and after, we can either accept greedily if $E_{new} < E_{old}$, or accept with probability $\\exp(\\beta (E_{old} - E_{new} ))$"
   ]
  },
  {
   "cell_type": "code",
   "execution_count": 5,
   "metadata": {},
   "outputs": [],
   "source": [
    "DEFAULT_ARGS = argparse.Namespace(\n",
    "    grammar_file=os.path.join('..', DEFAULT_GRAMMAR_FILE),\n",
    "    parse_counter=False,\n",
    "    counter_output_path=os.path.join('..', DEFAULT_COUNTER_OUTPUT_PATH),\n",
    "    random_seed=DEFUALT_RANDOM_SEED,\n",
    ")"
   ]
  },
  {
   "cell_type": "code",
   "execution_count": 6,
   "metadata": {},
   "outputs": [],
   "source": [
    "FITNESS_MODEL_PATH = '../models/cv_fitness_model_2023_02_21.pkl.gz'\n",
    "FITNESS_FEATURIZER_PATH = '../models/fitness_featurizer_2023_02_20.pkl.gz'\n",
    "\n",
    "feature_columns = [str(c) for c in fitness_df.columns if c not in NON_FEATURE_COLUMNS]\n",
    "for n in range(2, 7):\n",
    "    feature_columns.remove(f'ast_ngram_n_{n}_score')\n",
    "\n",
    "mcmc = MCMCRegrowthSampler(DEFAULT_ARGS, feature_columns,\n",
    "    FITNESS_MODEL_PATH, FITNESS_FEATURIZER_PATH, greedy_acceptance=True, \n",
    "    plateau_patience_steps=100, max_steps=10000)  #   acceptance_temperature=10.0, "
   ]
  },
  {
   "cell_type": "code",
   "execution_count": 11,
   "metadata": {},
   "outputs": [
    {
     "data": {
      "application/vnd.jupyter.widget-view+json": {
       "model_id": "d6fa7d40cae041eab95f7dce4db7a432",
       "version_major": 2,
       "version_minor": 0
      },
      "text/plain": [
       "  0%|          | 0/10 [00:00<?, ?it/s]"
      ]
     },
     "metadata": {},
     "output_type": "display_data"
    },
    {
     "name": "stdout",
     "output_type": "stream",
     "text": [
      "Plateaued at step 704 with energy 2.65309\n",
      "Plateaued at step 1240 with energy 8.17084\n",
      "Plateaued at step 2039 with energy 4.49677\n",
      "Plateaued at step 641 with energy 0.80883\n",
      "Plateaued at step 780 with energy -2.07716\n",
      "Plateaued at step 527 with energy 1.74399\n",
      "Plateaued at step 611 with energy 4.48507\n",
      "Plateaued at step 498 with energy 5.18139\n",
      "Plateaued at step 537 with energy 1.61536\n",
      "Plateaued at step 263 with energy 7.30220\n"
     ]
    }
   ],
   "source": [
    "n_samples = 10\n",
    "mcmc.multiple_samples(n_samples, verbose=1, should_tqdm=True)"
   ]
  },
  {
   "cell_type": "code",
   "execution_count": 43,
   "metadata": {},
   "outputs": [
    {
     "data": {
      "text/markdown": [
       "### Energy of visualized game: 1.744"
      ],
      "text/plain": [
       "<IPython.core.display.Markdown object>"
      ]
     },
     "metadata": {},
     "output_type": "display_data"
    },
    {
     "data": {
      "text/markdown": [
       "### Top features contributing to the game's energy\n",
       "feature name: **value** = (original feature value => regrown feature value) * weight"
      ],
      "text/plain": [
       "<IPython.core.display.Markdown object>"
      ]
     },
     "metadata": {},
     "output_type": "display_data"
    },
    {
     "data": {
      "text/markdown": [
       "| Features increasing energy (= more fake)                                       | Features decreasing energy (= more real)                                          |\n",
       "|--------------------------------------------------------------------------------|-----------------------------------------------------------------------------------|\n",
       "| ast_ngram_n_2_4: **2.689** = (1.000) * 2.689                                   | all_variables_used: **-3.505** = (1.000) * -3.505                                 |\n",
       "| no_identical_logical_children: **1.797** = (1.000) * 1.797                     | variable_not_repeated: **-2.998** = (1.000) * -2.998                              |\n",
       "| node_count_terminal_2: **1.187** = (1.000) * 1.187                             | ast_ngram_n_7_score: **-2.283** = (0.477) * -4.790                                |\n",
       "| node_count_setup_3: **0.990** = (1.000) * 0.990                                | all_preferences_used: **-1.728** = (1.000) * -1.728                               |\n",
       "| max_quantification_count_constraints_1: **0.940** = (1.000) * 0.940            | no_two_number_operations: **-1.020** = (1.000) * -1.020                           |\n",
       "| max_depth_setup_2: **0.853** = (1.000) * 0.853                                 | no_nested_logicals: **-0.931** = (1.000) * -0.931                                 |\n",
       "| mean_depth_constraints_1: **0.776** = (1.000) * 0.776                          | ast_ngram_n_2_5: **-0.712** = (1.000) * -0.712                                    |\n",
       "| mean_depth_setup_2: **0.769** = (1.000) * 0.769                                | no_adjacent_same_modal: **-0.675** = (1.000) * -0.675                             |\n",
       "| max_number_variables_types_quantified_variables_1: **0.754** = (1.000) * 0.754 | distance_arg_types_balls_room_features_setup: **-0.420** = (1.000) * -0.420       |\n",
       "| node_count_constraints_0: **0.729** = (1.000) * 0.729                          | all_variables_defined: **-0.392** = (1.000) * -0.392                              |\n",
       "| ast_ngram_n_2_6: **0.527** = (1.000) * 0.527                                   | in_motion_arg_types_large_objects_constraints: **-0.357** = (1.000) * -0.357      |\n",
       "| max_depth_constraints_1: **0.513** = (1.000) * 0.513                           | distance_arg_types_room_features_receptacles_setup: **-0.334** = (1.000) * -0.334 |\n",
       "| ast_ngram_n_4_9: **0.377** = (1.000) * 0.377                                   | node_count_scoring_0: **-0.241** = (1.000) * -0.241                               |\n",
       "| mean_depth_terminal_2: **0.348** = (1.000) * 0.348                             |                                                                                   |\n",
       "| max_quantification_count_setup_2: **0.279** = (1.000) * 0.279                  |                                                                                   |\n",
       "| section_without_pref_or_total_count_scoring: **0.255** = (1.000) * 0.255       |                                                                                   |\n",
       "| agent_holds_arg_types_large_objects_constraints: **0.201** = (1.000) * 0.201   |                                                                                   |\n",
       "| max_depth_scoring_0: **0.164** = (1.000) * 0.164                               |                                                                                   |\n",
       "| ast_ngram_n_2_8: **0.164** = (1.000) * 0.164                                   |                                                                                   |\n",
       "| length_of_then_modals_2: **0.112** = (1.000) * 0.112                           |                                                                                   |"
      ],
      "text/plain": [
       "<IPython.core.display.Markdown object>"
      ]
     },
     "metadata": {},
     "output_type": "display_data"
    },
    {
     "data": {
      "text/markdown": [
       "### Game:"
      ],
      "text/plain": [
       "<IPython.core.display.Markdown object>"
      ]
     },
     "metadata": {},
     "output_type": "display_data"
    },
    {
     "data": {
      "text/markdown": [
       "```pddl\n",
       "(define (game mcmc-5) (:domain few-objects-room-v1)\n",
       "(:setup\n",
       "  (exists (?v0 - red_dodgeball)\n",
       "    (and\n",
       "      (exists (?v1 - (either dodgeball chair curved_wooden_ramp wall book alarm_clock dodgeball) ?v1 - hexagonal_bin)\n",
       "        (game-optional\n",
       "          (< (distance ?v0 west_wall) (distance floor ?v1))\n",
       "        )\n",
       "      )\n",
       "    )\n",
       "  )\n",
       ")\n",
       "(:constraints\n",
       "  (and\n",
       "    (preference preference0\n",
       "      (exists (?v2 - pillow)\n",
       "        (then\n",
       "          (once (not (agent_holds ?v2) ) )\n",
       "          (hold (and (agent_holds ?v2) (in_motion ?v2) ) )\n",
       "        )\n",
       "      )\n",
       "    )\n",
       "  )\n",
       ")\n",
       "(:terminal\n",
       "  (>= (count preference0) 1 )\n",
       ")\n",
       "(:scoring\n",
       "  6\n",
       ")\n",
       ")\n",
       "```"
      ],
      "text/plain": [
       "<IPython.core.display.Markdown object>"
      ]
     },
     "metadata": {},
     "output_type": "display_data"
    }
   ],
   "source": [
    "mcmc.visualize_sample(5)"
   ]
  },
  {
   "cell_type": "code",
   "execution_count": 44,
   "metadata": {},
   "outputs": [
    {
     "data": {
      "text/plain": [
       "{'in_motion_arg_types_agent_setup': 0,\n",
       " 'in_motion_arg_types_agent_constraints': 0,\n",
       " 'in_motion_arg_types_any_object_setup': 0,\n",
       " 'in_motion_arg_types_any_object_constraints': 0,\n",
       " 'in_motion_arg_types_balls_setup': 0,\n",
       " 'in_motion_arg_types_balls_constraints': 0,\n",
       " 'in_motion_arg_types_blocks_setup': 0,\n",
       " 'in_motion_arg_types_blocks_constraints': 0,\n",
       " 'in_motion_arg_types_building_constraints': 0,\n",
       " 'in_motion_arg_types_colors_constraints': 0,\n",
       " 'in_motion_arg_types_furniture_setup': 0,\n",
       " 'in_motion_arg_types_furniture_constraints': 0,\n",
       " 'in_motion_arg_types_large_objects_setup': 0,\n",
       " 'in_motion_arg_types_large_objects_constraints': 1,\n",
       " 'in_motion_arg_types_orientations_constraints': 0,\n",
       " 'in_motion_arg_types_other_setup': 0,\n",
       " 'in_motion_arg_types_ramps_setup': 0,\n",
       " 'in_motion_arg_types_ramps_constraints': 0,\n",
       " 'in_motion_arg_types_receptacles_setup': 0,\n",
       " 'in_motion_arg_types_receptacles_constraints': 0,\n",
       " 'in_motion_arg_types_room_features_setup': 0,\n",
       " 'in_motion_arg_types_room_features_constraints': 0,\n",
       " 'in_motion_arg_types_sides_constraints': 0,\n",
       " 'in_motion_arg_types_small_objects_constraints': 0}"
      ]
     },
     "execution_count": 44,
     "metadata": {},
     "output_type": "execute_result"
    }
   ],
   "source": [
    "{k:v for k, v in mcmc.samples[5][1].items() if 'in_motion' in k}"
   ]
  },
  {
   "cell_type": "code",
   "execution_count": 30,
   "metadata": {},
   "outputs": [
    {
     "name": "stdout",
     "output_type": "stream",
     "text": [
      "(define (game mcmc-5) (:domain few-objects-room-v1)\n",
      "(:setup\n",
      "  (exists (?v0 - red_dodgeball)\n",
      "    (and\n",
      "      (exists (?v1 - (either dodgeball chair curved_wooden_ramp wall book alarm_clock dodgeball) ?v1 - hexagonal_bin)\n",
      "        (game-optional\n",
      "          (< (distance ?v0 west_wall) (distance floor ?v1))\n",
      "        )\n",
      "      )\n",
      "    )\n",
      "  )\n",
      ")\n",
      "(:constraints\n",
      "  (and\n",
      "    (preference preference0\n",
      "      (exists (?v2 - pillow)\n",
      "        (then\n",
      "          (once (not (agent_holds ?v2) ) )\n",
      "          (hold (and (agent_holds ?v2) (in_motion ?v2) ) )\n",
      "        )\n",
      "      )\n",
      "    )\n",
      "  )\n",
      ")\n",
      "(:terminal\n",
      "  (>= (count preference0) 1 )\n",
      ")\n",
      "(:scoring\n",
      "  6\n",
      ")\n",
      ")\n"
     ]
    }
   ],
   "source": [
    "s = '''(define (game mcmc-5) (:domain few-objects-room-v1)\\n(:setup\\n  (exists (?v0 - red_dodgeball)\\n    (and\\n      (exists (?v1 - (either dodgeball chair curved_wooden_ramp wall book alarm_clock dodgeball) ?v1 - hexagonal_bin)\\n        (game-optional\\n          (< (distance ?v0 west_wall) (distance floor ?v1))\\n        )\\n      )\\n    )\\n  )\\n)\\n(:constraints\\n  (and\\n    (preference preference0\\n      (exists (?v2 - pillow)\\n        (then\\n          (once (not (agent_holds ?v2) ) )\\n          (hold (and (agent_holds ?v2) (in_motion ?v2) ) )\\n        )\\n      )\\n    )\\n  )\\n)\\n(:terminal\\n  (>= (count preference0) 1 )\\n)\\n(:scoring\\n  6\\n)\\n)'''\n",
    "print(s)"
   ]
  },
  {
   "cell_type": "code",
   "execution_count": 25,
   "metadata": {},
   "outputs": [],
   "source": [
    "from argparse import Namespace\n",
    "from src.fitness_features import *\n",
    "args = Namespace(no_binarize=False, no_merge=False)\n",
    "featurizer = build_fitness_featurizer(args)"
   ]
  },
  {
   "cell_type": "code",
   "execution_count": 26,
   "metadata": {},
   "outputs": [],
   "source": [
    "a = grammar_parser.parse(s)"
   ]
  },
  {
   "cell_type": "code",
   "execution_count": 28,
   "metadata": {},
   "outputs": [
    {
     "data": {
      "text/plain": [
       "50"
      ]
     },
     "execution_count": 28,
     "metadata": {},
     "output_type": "execute_result"
    }
   ],
   "source": [
    "ps = {k:v for k, v in featurizer.parse(a, 'mcmc', True).items() if 'predicate_under_modal' in k}\n",
    "len(ps)"
   ]
  },
  {
   "cell_type": "code",
   "execution_count": 32,
   "metadata": {},
   "outputs": [
    {
     "data": {
      "text/plain": [
       "{'predicate_under_modal_hold_in_motion': 1,\n",
       " 'predicate_under_modal_hold_agent_holds': 1,\n",
       " 'predicate_under_modal_once_agent_holds': 1}"
      ]
     },
     "execution_count": 32,
     "metadata": {},
     "output_type": "execute_result"
    }
   ],
   "source": [
    "{k:v for k, v in ps.items() if v > 0}"
   ]
  },
  {
   "cell_type": "code",
   "execution_count": 51,
   "metadata": {},
   "outputs": [
    {
     "data": {
      "text/plain": [
       "{'variables': [{'var_names': ['?v1'], 'var_type': {'type': {'type_names': ['dodgeball', 'chair', 'curved_wooden_ramp', 'wall', 'book', 'alarm_clock', 'dodgeball'], 'parseinfo': {'tokenizer': None, 'rule': 'either_types', 'pos': 3357, 'endpos': 3357, 'line': 3357, 'endline': 3357, 'alerts': []}}, 'parseinfo': {'tokenizer': None, 'rule': 'type_definition', 'pos': 3358, 'endpos': 3358, 'line': 3358, 'endline': 3358, 'alerts': []}}, 'parseinfo': {'tokenizer': None, 'rule': 'variable_type_def', 'pos': 3359, 'endpos': 3359, 'line': 3359, 'endline': 3359, 'alerts': []}}, {'var_names': ['?v1'], 'var_type': {'type': 'hexagonal_bin', 'parseinfo': {'tokenizer': None, 'rule': 'type_definition', 'pos': 7, 'endpos': 7, 'line': 7, 'endline': 7, 'alerts': []}}, 'parseinfo': {'tokenizer': None, 'rule': 'variable_type_def', 'pos': 8, 'endpos': 8, 'line': 8, 'endline': 8, 'alerts': []}}], 'parseinfo': {'tokenizer': None, 'rule': 'variable_list', 'pos': 9, 'endpos': 9, 'line': 9, 'endline': 9, 'alerts': []}}"
      ]
     },
     "execution_count": 51,
     "metadata": {},
     "output_type": "execute_result"
    }
   ],
   "source": [
    "mcmc.samples[5][0][3][1].setup.exists_args.setup.and_args[0].setup.exists_vars"
   ]
  },
  {
   "cell_type": "code",
   "execution_count": null,
   "metadata": {},
   "outputs": [],
   "source": []
  },
  {
   "cell_type": "code",
   "execution_count": null,
   "metadata": {},
   "outputs": [],
   "source": [
    "mcmc._proposal_to_features(mcmc.samples[0][0])['ast_ngram_n_7_score']"
   ]
  },
  {
   "cell_type": "code",
   "execution_count": null,
   "metadata": {},
   "outputs": [],
   "source": [
    "mcmc.fitness_featurizer.full_ast_registry[0].n_gram_model.score(mcmc.samples[0][0], log=True)"
   ]
  },
  {
   "cell_type": "code",
   "execution_count": null,
   "metadata": {},
   "outputs": [],
   "source": [
    "mcmc.fitness_featurizer.preprocessors[0].scale_series_min_max_values"
   ]
  },
  {
   "cell_type": "code",
   "execution_count": null,
   "metadata": {},
   "outputs": [],
   "source": [
    "# %prun -r \n",
    "n_samples = 5\n",
    "start = 1\n",
    "end = start + 5\n",
    "\n",
    "for original_index in range(start, end):\n",
    "    print(f'Generating samples starting from original index {original_index} (id {_extract_game_id(real_game_texts[original_index])})')\n",
    "    mcmc.multiple_samples(n_samples, verbose=1, should_tqdm=True, initial_proposal=game_asts[original_index])\n",
    "\n",
    "    print()\n",
    "    for i in range(n_samples * (original_index - start), n_samples * (original_index - start + 1)):\n",
    "        print(i, mcmc.samples[i][2])"
   ]
  },
  {
   "cell_type": "code",
   "execution_count": null,
   "metadata": {},
   "outputs": [],
   "source": [
    "mcmc.visualize_sample(14)"
   ]
  },
  {
   "cell_type": "code",
   "execution_count": null,
   "metadata": {},
   "outputs": [],
   "source": [
    "mcmc.fitness_featurizer.full_text_registry[0].n_gram_model.models[-1].score(ast_printer.ast_to_string(mcmc.samples[14][0], ' '))"
   ]
  },
  {
   "cell_type": "code",
   "execution_count": null,
   "metadata": {},
   "outputs": [],
   "source": [
    "mcmc.fitness_featurizer.full_text_registry[0].n_gram_model.models[-1].score(ast_printer.ast_to_string(mcmc.samples[14][3], ' '))"
   ]
  },
  {
   "cell_type": "code",
   "execution_count": null,
   "metadata": {},
   "outputs": [],
   "source": [
    "ngram_model = mcmc.fitness_featurizer.full_text_registry[0].n_gram_model.models[-1]\n",
    "\n",
    "sample_ngrams = [('constraints', 'and', 'forall', 'wall', 'and'), ('and', 'forall', 'wall', 'and', 'preference'), ('forall', 'wall', 'and', 'preference', 'preferenceName'), ('wall', 'and', 'preference', 'preferenceName', 'exists'), ('and', 'preference', 'preferenceName', 'exists', 'block'), ('preference', 'preferenceName', 'exists', 'block', 'atend'), ('preferenceName', 'exists', 'block', 'atend', 'in'), ('exists', 'block', 'atend', 'in', 'scoring'), ('block', 'atend', 'in', 'scoring', 'externalforallmaximize'), ('atend', 'in', 'scoring', 'externalforallmaximize', 'countonceperobjects'), ('in', 'scoring', 'externalforallmaximize', 'countonceperobjects', 'preferenceName')]\n",
    "original_ngrams = [('constraints', 'and', 'forall', 'building', 'and'), ('and', 'forall', 'building', 'and', 'preference'), ('forall', 'building', 'and', 'preference', 'preferenceName'), ('building', 'and', 'preference', 'preferenceName', 'exists'), ('and', 'preference', 'preferenceName', 'exists', 'block'), ('preference', 'preferenceName', 'exists', 'block', 'atend'), ('preferenceName', 'exists', 'block', 'atend', 'in'), ('exists', 'block', 'atend', 'in', 'scoring'), ('block', 'atend', 'in', 'scoring', 'externalforallmaximize'), ('atend', 'in', 'scoring', 'externalforallmaximize', 'countonceperobjects'), ('in', 'scoring', 'externalforallmaximize', 'countonceperobjects', 'preferenceName')]\n",
    "\n",
    "print(f'Sample ngrams: {np.mean([ngram_model.ngram_logprobs[s] for s in sample_ngrams])} | ')\n",
    "for s in sample_ngrams:\n",
    "    print(s, ngram_model.ngram_counts[s], ngram_model.ngram_logprobs[s])\n",
    "\n",
    "print()\n",
    "print(f'Original ngrams: {np.mean([ngram_model.ngram_logprobs[s] for s in original_ngrams])}')\n",
    "for s in original_ngrams:\n",
    "    print(s, ngram_model.ngram_counts[s], ngram_model.ngram_logprobs[s])\n",
    "print()\n",
    "\n",
    "for s in sample_ngrams[:]:\n",
    "    if s in original_ngrams:\n",
    "        sample_ngrams.remove(s)\n",
    "        original_ngrams.remove(s)\n",
    "\n",
    "print('Sample remaining ngrams')\n",
    "for s in sample_ngrams:\n",
    "    print(s, ngram_model.ngram_counts[s], ngram_model.ngram_logprobs[s])\n",
    "\n",
    "print()\n",
    "print('Original remaining ngrams')\n",
    "for s in original_ngrams:\n",
    "    print(s, ngram_model.ngram_counts[s], ngram_model.ngram_logprobs[s])"
   ]
  },
  {
   "cell_type": "code",
   "execution_count": null,
   "metadata": {},
   "outputs": [],
   "source": [
    "original_ngrams = [('constraints', 'and', 'forall', 'building', 'and'), ('and', 'forall', 'building', 'and', 'preference'), ('forall', 'building', 'and', 'preference', 'preferenceName'), ('building', 'and', 'preference', 'preferenceName', 'exists'), ('and', 'preference', 'preferenceName', 'exists', 'block'), ('preference', 'preferenceName', 'exists', 'block', 'atend'), ('preferenceName', 'exists', 'block', 'atend', 'in'), ('exists', 'block', 'atend', 'in', 'scoring'), ('block', 'atend', 'in', 'scoring', 'externalforallmaximize'), ('atend', 'in', 'scoring', 'externalforallmaximize', 'countonceperobjects'), ('in', 'scoring', 'externalforallmaximize', 'countonceperobjects', 'preferenceName')]\n",
    "print('Original ngrams')\n",
    "for s in original_ngrams:\n",
    "    print(s, mcmc.fitness_featurizer.full_text_registry[0].n_gram_model.models[-1].ngram_counts[s], mcmc.fitness_featurizer.full_text_registry[0].n_gram_model.models[-1].ngram_logprobs[s])"
   ]
  },
  {
   "cell_type": "code",
   "execution_count": null,
   "metadata": {},
   "outputs": [],
   "source": [
    "mcmc.visualize_sample(7)"
   ]
  },
  {
   "cell_type": "code",
   "execution_count": null,
   "metadata": {},
   "outputs": [],
   "source": [
    "mcmc.visualize_sample(15)"
   ]
  },
  {
   "cell_type": "code",
   "execution_count": null,
   "metadata": {},
   "outputs": [],
   "source": []
  },
  {
   "attachments": {},
   "cell_type": "markdown",
   "metadata": {},
   "source": [
    "### Notes from looking at these games\n",
    "* **TODO:** debug the 'section-without' logic, it seems to not work\n",
    "* **TODO:** add features for preferences with different lengths of modals"
   ]
  },
  {
   "cell_type": "code",
   "execution_count": null,
   "metadata": {},
   "outputs": [],
   "source": []
  },
  {
   "cell_type": "code",
   "execution_count": null,
   "metadata": {},
   "outputs": [],
   "source": [
    "print(ast_printer.ast_to_string(samples[8][0], '\\n'))"
   ]
  },
  {
   "cell_type": "code",
   "execution_count": null,
   "metadata": {},
   "outputs": [],
   "source": [
    "fitness_featurizer = build_fitness_featurizer(DEFAULT_ARGS)\n",
    "features = fitness_featurizer.parse(samples[7][0], 'mcmc', True)\n",
    "{k: v for k, v in features.items() if 'correctly' in k or 'forall' in k or 'no' in k}"
   ]
  },
  {
   "cell_type": "code",
   "execution_count": null,
   "metadata": {},
   "outputs": [],
   "source": [
    "with gzip.open(DEFAULT_FITNESS_FUNCTION_PATH, 'rb') as f:\n",
    "    cv_fitness_model = pickle.load(f)"
   ]
  },
  {
   "cell_type": "code",
   "execution_count": null,
   "metadata": {},
   "outputs": [],
   "source": [
    "weights = cv_fitness_model.named_steps['fitness'].model.fc1.weight.data.detach().numpy().squeeze()\n",
    "bias = cv_fitness_model.named_steps['fitness'].model.fc1.bias.data.detach().numpy().squeeze()\n",
    "print(weights.mean(), bias)"
   ]
  },
  {
   "cell_type": "code",
   "execution_count": null,
   "metadata": {},
   "outputs": [],
   "source": [
    "plt.hist(weights, bins=100)\n",
    "plt.title('Fitness Model Weights')\n",
    "plt.xlabel('Weight magnitude')\n",
    "plt.ylabel('Count')"
   ]
  },
  {
   "cell_type": "code",
   "execution_count": null,
   "metadata": {},
   "outputs": [],
   "source": [
    "import ast_crossover_sampler\n",
    "asts = [ast for ast in cached_load_and_parse_games_from_file('../dsl/interactive-beta.pddl', \n",
    "    mcmc.grammar_parser, False, relative_path='..')]\n",
    "\n",
    "mcmc_with_crossover = MCMCRegrowthCrossoverSampler(DEFAULT_ARGS, \n",
    "    ast_crossover_sampler.CrossoverType.SAME_RULE, asts, 0.25,\n",
    "    '../models/cv_fitness_model_2022_12_26.pkl.gz', \n",
    "    greedy_acceptance=True, plateau_patience_steps=20, acceptance_temperature=10.0, max_steps=1000)"
   ]
  },
  {
   "cell_type": "code",
   "execution_count": null,
   "metadata": {},
   "outputs": [],
   "source": [
    "mcmc_with_crossover.multiple_samples(10, verbose=2, should_tqdm=True)\n",
    "print([x[2] for x in mcmc_with_crossover.samples])"
   ]
  },
  {
   "cell_type": "code",
   "execution_count": null,
   "metadata": {},
   "outputs": [],
   "source": [
    "print([x[2] for x in mcmc_with_crossover.samples])"
   ]
  },
  {
   "cell_type": "code",
   "execution_count": null,
   "metadata": {},
   "outputs": [],
   "source": []
  }
 ],
 "metadata": {
  "kernelspec": {
   "display_name": "game-gen",
   "language": "python",
   "name": "python3"
  },
  "language_info": {
   "codemirror_mode": {
    "name": "ipython",
    "version": 3
   },
   "file_extension": ".py",
   "mimetype": "text/x-python",
   "name": "python",
   "nbconvert_exporter": "python",
   "pygments_lexer": "ipython3",
   "version": "3.10.8"
  },
  "orig_nbformat": 4,
  "vscode": {
   "interpreter": {
    "hash": "a8b8c8d5c21b7aee7bd0053f69e9c255c013bbea7031fbef7e66d58dd46c0fa6"
   }
  }
 },
 "nbformat": 4,
 "nbformat_minor": 2
}
