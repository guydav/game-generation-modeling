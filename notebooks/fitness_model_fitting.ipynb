{
 "cells": [
  {
   "cell_type": "code",
   "execution_count": 1,
   "metadata": {},
   "outputs": [],
   "source": [
    "%autoreload 2"
   ]
  },
  {
   "cell_type": "code",
   "execution_count": 2,
   "metadata": {},
   "outputs": [],
   "source": [
    "from argparse import Namespace\n",
    "from collections import defaultdict\n",
    "import copy\n",
    "from datetime import datetime\n",
    "import difflib\n",
    "import gzip\n",
    "import itertools\n",
    "import os\n",
    "import pickle\n",
    "import sys\n",
    "import typing\n",
    "\n",
    "from IPython.display import display, Markdown, HTML\n",
    "import matplotlib\n",
    "import matplotlib.pyplot as plt\n",
    "import numpy as np\n",
    "import pandas as pd\n",
    "import swifter\n",
    "import sklearn\n",
    "from sklearn.model_selection import GridSearchCV, train_test_split, KFold\n",
    "from sklearn.pipeline import Pipeline\n",
    "import tatsu\n",
    "import torch\n",
    "import torch.nn as nn\n",
    "import torch.nn.functional as F\n",
    "from torch.utils.data import TensorDataset, DataLoader\n",
    "import tqdm.notebook as tqdm\n",
    "\n",
    "\n",
    "sys.path.append(os.path.abspath('..'))\n",
    "sys.path.append(os.path.abspath('../src'))\n",
    "from src import fitness_energy_utils as utils\n",
    "from src.fitness_energy_utils import NON_FEATURE_COLUMNS\n",
    "from src.ast_counter_sampler import *\n",
    "from src.ast_utils import cached_load_and_parse_games_from_file, load_games_from_file, _extract_game_id\n",
    "from src import ast_printer"
   ]
  },
  {
   "cell_type": "code",
   "execution_count": 3,
   "metadata": {},
   "outputs": [],
   "source": [
    "grammar = open('../dsl/dsl.ebnf').read()\n",
    "grammar_parser = tatsu.compile(grammar)\n",
    "game_asts = list(cached_load_and_parse_games_from_file('../dsl/interactive-beta.pddl', grammar_parser, False, relative_path='..'))\n",
    "# real_game_texts = [ast_printer.ast_to_string(ast, '\\n') for ast in game_asts]\n",
    "# regrown_game_texts = list(load_games_from_file('../dsl/ast-real-regrowth-samples.pddl'))\n"
   ]
  },
  {
   "cell_type": "code",
   "execution_count": 6,
   "metadata": {},
   "outputs": [
    {
     "name": "stdout",
     "output_type": "stream",
     "text": [
      "['interactive-beta.pddl' 'ast-real-regrowth-samples-1024.pddl']\n",
      "(100450, 547)\n"
     ]
    },
    {
     "data": {
      "text/html": [
       "<div>\n",
       "<style scoped>\n",
       "    .dataframe tbody tr th:only-of-type {\n",
       "        vertical-align: middle;\n",
       "    }\n",
       "\n",
       "    .dataframe tbody tr th {\n",
       "        vertical-align: top;\n",
       "    }\n",
       "\n",
       "    .dataframe thead th {\n",
       "        text-align: right;\n",
       "    }\n",
       "</style>\n",
       "<table border=\"1\" class=\"dataframe\">\n",
       "  <thead>\n",
       "    <tr style=\"text-align: right;\">\n",
       "      <th></th>\n",
       "      <th>Index</th>\n",
       "      <th>src_file</th>\n",
       "      <th>game_name</th>\n",
       "      <th>domain_name</th>\n",
       "      <th>original_game_name</th>\n",
       "      <th>real</th>\n",
       "      <th>all_variables_defined</th>\n",
       "      <th>all_variables_used</th>\n",
       "      <th>all_preferences_used</th>\n",
       "      <th>setup_objects_used</th>\n",
       "      <th>...</th>\n",
       "      <th>ast_ngram_constraints_n_6_score</th>\n",
       "      <th>ast_ngram_constraints_n_7_score</th>\n",
       "      <th>ast_ngram_terminal_n_2_score</th>\n",
       "      <th>ast_ngram_terminal_n_3_score</th>\n",
       "      <th>ast_ngram_terminal_n_4_score</th>\n",
       "      <th>ast_ngram_terminal_n_5_score</th>\n",
       "      <th>ast_ngram_scoring_n_2_score</th>\n",
       "      <th>ast_ngram_scoring_n_3_score</th>\n",
       "      <th>ast_ngram_scoring_n_4_score</th>\n",
       "      <th>ast_ngram_scoring_n_5_score</th>\n",
       "    </tr>\n",
       "  </thead>\n",
       "  <tbody>\n",
       "    <tr>\n",
       "      <th>0</th>\n",
       "      <td>0</td>\n",
       "      <td>interactive-beta.pddl</td>\n",
       "      <td>6172feb1665491d1efbce164-0</td>\n",
       "      <td>medium-objects-room-v1</td>\n",
       "      <td>6172feb1665491d1efbce164-0</td>\n",
       "      <td>1</td>\n",
       "      <td>1</td>\n",
       "      <td>1</td>\n",
       "      <td>1</td>\n",
       "      <td>1.00</td>\n",
       "      <td>...</td>\n",
       "      <td>0.951956</td>\n",
       "      <td>0.985661</td>\n",
       "      <td>0.957800</td>\n",
       "      <td>0.980798</td>\n",
       "      <td>0.957584</td>\n",
       "      <td>1.000000</td>\n",
       "      <td>0.664213</td>\n",
       "      <td>0.878382</td>\n",
       "      <td>0.946748</td>\n",
       "      <td>0.947657</td>\n",
       "    </tr>\n",
       "    <tr>\n",
       "      <th>1</th>\n",
       "      <td>1</td>\n",
       "      <td>interactive-beta.pddl</td>\n",
       "      <td>5f77754ba932fb2c4ba181d8-2</td>\n",
       "      <td>many-objects-room-v1</td>\n",
       "      <td>5f77754ba932fb2c4ba181d8-2</td>\n",
       "      <td>1</td>\n",
       "      <td>1</td>\n",
       "      <td>1</td>\n",
       "      <td>1</td>\n",
       "      <td>1.00</td>\n",
       "      <td>...</td>\n",
       "      <td>0.983813</td>\n",
       "      <td>0.982858</td>\n",
       "      <td>0.716129</td>\n",
       "      <td>0.644889</td>\n",
       "      <td>0.665523</td>\n",
       "      <td>0.828899</td>\n",
       "      <td>0.902382</td>\n",
       "      <td>0.899360</td>\n",
       "      <td>0.946759</td>\n",
       "      <td>0.947665</td>\n",
       "    </tr>\n",
       "    <tr>\n",
       "      <th>2</th>\n",
       "      <td>2</td>\n",
       "      <td>interactive-beta.pddl</td>\n",
       "      <td>614b603d4da88384282967a7-3</td>\n",
       "      <td>many-objects-room-v1</td>\n",
       "      <td>614b603d4da88384282967a7-3</td>\n",
       "      <td>1</td>\n",
       "      <td>1</td>\n",
       "      <td>1</td>\n",
       "      <td>1</td>\n",
       "      <td>0.00</td>\n",
       "      <td>...</td>\n",
       "      <td>0.948073</td>\n",
       "      <td>0.981619</td>\n",
       "      <td>0.716113</td>\n",
       "      <td>0.644876</td>\n",
       "      <td>0.665511</td>\n",
       "      <td>0.828888</td>\n",
       "      <td>0.585683</td>\n",
       "      <td>0.493015</td>\n",
       "      <td>0.815168</td>\n",
       "      <td>0.947657</td>\n",
       "    </tr>\n",
       "    <tr>\n",
       "      <th>3</th>\n",
       "      <td>3</td>\n",
       "      <td>interactive-beta.pddl</td>\n",
       "      <td>5bc79f652885710001a0e82a-5</td>\n",
       "      <td>few-objects-room-v1</td>\n",
       "      <td>5bc79f652885710001a0e82a-5</td>\n",
       "      <td>1</td>\n",
       "      <td>1</td>\n",
       "      <td>1</td>\n",
       "      <td>1</td>\n",
       "      <td>0.00</td>\n",
       "      <td>...</td>\n",
       "      <td>0.987651</td>\n",
       "      <td>0.985314</td>\n",
       "      <td>0.716113</td>\n",
       "      <td>0.644876</td>\n",
       "      <td>0.665511</td>\n",
       "      <td>0.828888</td>\n",
       "      <td>0.664213</td>\n",
       "      <td>0.878382</td>\n",
       "      <td>0.946748</td>\n",
       "      <td>0.947657</td>\n",
       "    </tr>\n",
       "    <tr>\n",
       "      <th>4</th>\n",
       "      <td>4</td>\n",
       "      <td>interactive-beta.pddl</td>\n",
       "      <td>614dec67f6eb129c3a77defd-6</td>\n",
       "      <td>medium-objects-room-v1</td>\n",
       "      <td>614dec67f6eb129c3a77defd-6</td>\n",
       "      <td>1</td>\n",
       "      <td>1</td>\n",
       "      <td>1</td>\n",
       "      <td>1</td>\n",
       "      <td>0.25</td>\n",
       "      <td>...</td>\n",
       "      <td>0.987096</td>\n",
       "      <td>0.983423</td>\n",
       "      <td>0.716113</td>\n",
       "      <td>0.644876</td>\n",
       "      <td>0.665511</td>\n",
       "      <td>0.828888</td>\n",
       "      <td>0.956765</td>\n",
       "      <td>0.943640</td>\n",
       "      <td>0.969501</td>\n",
       "      <td>0.967143</td>\n",
       "    </tr>\n",
       "  </tbody>\n",
       "</table>\n",
       "<p>5 rows × 547 columns</p>\n",
       "</div>"
      ],
      "text/plain": [
       "   Index               src_file                   game_name  \\\n",
       "0      0  interactive-beta.pddl  6172feb1665491d1efbce164-0   \n",
       "1      1  interactive-beta.pddl  5f77754ba932fb2c4ba181d8-2   \n",
       "2      2  interactive-beta.pddl  614b603d4da88384282967a7-3   \n",
       "3      3  interactive-beta.pddl  5bc79f652885710001a0e82a-5   \n",
       "4      4  interactive-beta.pddl  614dec67f6eb129c3a77defd-6   \n",
       "\n",
       "              domain_name          original_game_name  real  \\\n",
       "0  medium-objects-room-v1  6172feb1665491d1efbce164-0     1   \n",
       "1    many-objects-room-v1  5f77754ba932fb2c4ba181d8-2     1   \n",
       "2    many-objects-room-v1  614b603d4da88384282967a7-3     1   \n",
       "3     few-objects-room-v1  5bc79f652885710001a0e82a-5     1   \n",
       "4  medium-objects-room-v1  614dec67f6eb129c3a77defd-6     1   \n",
       "\n",
       "   all_variables_defined  all_variables_used  all_preferences_used  \\\n",
       "0                      1                   1                     1   \n",
       "1                      1                   1                     1   \n",
       "2                      1                   1                     1   \n",
       "3                      1                   1                     1   \n",
       "4                      1                   1                     1   \n",
       "\n",
       "   setup_objects_used  ...  ast_ngram_constraints_n_6_score  \\\n",
       "0                1.00  ...                         0.951956   \n",
       "1                1.00  ...                         0.983813   \n",
       "2                0.00  ...                         0.948073   \n",
       "3                0.00  ...                         0.987651   \n",
       "4                0.25  ...                         0.987096   \n",
       "\n",
       "   ast_ngram_constraints_n_7_score  ast_ngram_terminal_n_2_score  \\\n",
       "0                         0.985661                      0.957800   \n",
       "1                         0.982858                      0.716129   \n",
       "2                         0.981619                      0.716113   \n",
       "3                         0.985314                      0.716113   \n",
       "4                         0.983423                      0.716113   \n",
       "\n",
       "   ast_ngram_terminal_n_3_score  ast_ngram_terminal_n_4_score  \\\n",
       "0                      0.980798                      0.957584   \n",
       "1                      0.644889                      0.665523   \n",
       "2                      0.644876                      0.665511   \n",
       "3                      0.644876                      0.665511   \n",
       "4                      0.644876                      0.665511   \n",
       "\n",
       "   ast_ngram_terminal_n_5_score  ast_ngram_scoring_n_2_score  \\\n",
       "0                      1.000000                     0.664213   \n",
       "1                      0.828899                     0.902382   \n",
       "2                      0.828888                     0.585683   \n",
       "3                      0.828888                     0.664213   \n",
       "4                      0.828888                     0.956765   \n",
       "\n",
       "   ast_ngram_scoring_n_3_score  ast_ngram_scoring_n_4_score  \\\n",
       "0                     0.878382                     0.946748   \n",
       "1                     0.899360                     0.946759   \n",
       "2                     0.493015                     0.815168   \n",
       "3                     0.878382                     0.946748   \n",
       "4                     0.943640                     0.969501   \n",
       "\n",
       "   ast_ngram_scoring_n_5_score  \n",
       "0                     0.947657  \n",
       "1                     0.947665  \n",
       "2                     0.947657  \n",
       "3                     0.947657  \n",
       "4                     0.967143  \n",
       "\n",
       "[5 rows x 547 columns]"
      ]
     },
     "execution_count": 6,
     "metadata": {},
     "output_type": "execute_result"
    }
   ],
   "source": [
    "fitness_df = utils.load_fitness_data('../data/fitness_features_1024_regrowths.csv.gz')\n",
    "print(fitness_df.src_file.unique())\n",
    "print(fitness_df.shape)\n",
    "fitness_df.head()"
   ]
  },
  {
   "cell_type": "code",
   "execution_count": 14,
   "metadata": {},
   "outputs": [
    {
     "data": {
      "text/plain": [
       "(0.0, 1.0)"
      ]
     },
     "execution_count": 14,
     "metadata": {},
     "output_type": "execute_result"
    },
    {
     "data": {
      "image/png": "[encoded data removed]",
      "text/plain": [
       "<Figure size 640x480 with 2 Axes>"
      ]
     },
     "metadata": {},
     "output_type": "display_data"
    }
   ],
   "source": [
    "fitness_df.ast_ngram_terminal_n_3_score.hist(by=fitness_df['real'], bins=100)\n",
    "plt.xlim(0, 1)"
   ]
  },
  {
   "cell_type": "code",
   "execution_count": null,
   "metadata": {},
   "outputs": [],
   "source": [
    "POSITIVES_FILE = 'interactive-beta.pddl'\n",
    "NEGATIVES_FILE = 'ast-real-regrowth-samples-1024.pddl'\n",
    "\n",
    "def create_filtered_df(df: pd.DataFrame, \n",
    "    filter_data_src_files: typing.Sequence[str] = (POSITIVES_FILE, NEGATIVES_FILE),\n",
    "    ) -> pd.DataFrame:\n",
    "    f_df = fitness_df[fitness_df.src_file.isin(filter_data_src_files)].reset_index(drop=True)\n",
    "    f_df.loc[f_df.src_file == filter_data_src_files[0], 'real'] = 1\n",
    "    return f_df\n",
    "\n",
    "filtered_fitness_df = create_filtered_df(fitness_df)"
   ]
  },
  {
   "cell_type": "code",
   "execution_count": null,
   "metadata": {},
   "outputs": [],
   "source": [
    "print(filtered_fitness_df.shape)\n",
    "filtered_fitness_df.head()"
   ]
  },
  {
   "cell_type": "code",
   "execution_count": null,
   "metadata": {},
   "outputs": [],
   "source": [
    "fake_games = filtered_fitness_df[filtered_fitness_df.src_file == NEGATIVES_FILE].reset_index()\n",
    "broadcasted_original = filtered_fitness_df.loc[[filtered_fitness_df.index[(filtered_fitness_df.game_name == original_name)][0] for original_name in fake_games.original_game_name], :].reset_index()\n",
    "\n",
    "original_regrown_diffs = (broadcasted_original.drop(NON_FEATURE_COLUMNS, axis=1) - fake_games.drop(NON_FEATURE_COLUMNS, axis=1))\n",
    "\n",
    "unchanged_games_prop = (original_regrown_diffs.drop('index', axis=1) == 0).all(axis=1).sum() / len(original_regrown_diffs)\n",
    "print(f'In {unchanged_games_prop * 100:.2f}% of the games, the regrown game was identical to the original game.')"
   ]
  },
  {
   "cell_type": "code",
   "execution_count": null,
   "metadata": {},
   "outputs": [],
   "source": [
    "never_change = (original_regrown_diffs.drop('index', axis=1) == 0).all(axis=0)\n",
    "for x in never_change.index[never_change]:\n",
    "    print(x)\n",
    "\n",
    "print(sum(never_change))"
   ]
  },
  {
   "attachments": {},
   "cell_type": "markdown",
   "metadata": {},
   "source": [
    "# Synthetic model-fitting experiment approach\n",
    "We have a large dataset now, I can try to cross-validate over some of the choices I might make:\n",
    "* Change the random seed?\n",
    "* See if the GPU is faster\n",
    "* Try a different from of regularization?\n",
    "\n"
   ]
  },
  {
   "cell_type": "code",
   "execution_count": null,
   "metadata": {},
   "outputs": [],
   "source": [
    "# test_param_grid = [\n",
    "#     {\n",
    "#         'fitness__loss_function': [utils.fitness_square_square_loss], # [utils.fitness_hinge_loss_with_cross_example],\n",
    "#         'fitness__weight_decay': [0.0, 0.1, 0.25],  \n",
    "#         'fitness__margin': [1, 2, 4, 8],\n",
    "#         # 'fitness__beta': [0.25, 1, 2, 4],\n",
    "#         'fitness__lr':  [1e-1, 3e-2, 1e-2, 3e-3],  # [1e-1, 3e-2, 1e-2, 3e-3],\n",
    "#         'fitness__k': [16, 32, 64],  # 128\n",
    "#         'fitness__batch_size': [2, 4, 8, 16],  # [1, 4, 8, 16],\n",
    "#         # 'fitness__alpha': [0, 0.25, 0.5, 0.75, 1], # [0, 0.1, 0.2, 0.3],  #\n",
    "#         # 'fitness__dataset_energy_beta': [1, 3, 5],\n",
    "#     },\n",
    "# ]\n",
    "test_param_grid = [\n",
    "    {\n",
    "        'fitness__loss_function': [utils.fitness_square_square_loss], # [utils.fitness_hinge_loss_with_cross_example],\n",
    "        'fitness__weight_decay': [0.0],  \n",
    "        'fitness__margin': [8, 16],\n",
    "        # 'fitness__beta': [0.25, 1, 2, 4],\n",
    "        'fitness__lr':  [1e-2],  # [1e-1, 3e-2, 1e-2, 3e-3],\n",
    "        'fitness__k': [256, 512],  # 128\n",
    "        'fitness__batch_size': [2, 4],  # [1, 4, 8, 16],\n",
    "        # 'fitness__alpha': [0, 0.25, 0.5, 0.75, 1], # [0, 0.1, 0.2, 0.3],  #\n",
    "        # 'fitness__dataset_energy_beta': [1, 3, 5],\n",
    "        # 'fitness__regularization_weight': [0.01, 0.05],\n",
    "    },\n",
    "]\n",
    "\n",
    "def build_regularization_function(ord: int = 1, threshold: float = 0):\n",
    "    def regularization_function(model: nn.Module) -> torch.Tensor:\n",
    "        w = model.fc1.weight.squeeze()  # type: ignore\n",
    "        return torch.linalg.norm(w * (w.abs() >= threshold), ord)\n",
    "    \n",
    "    return regularization_function\n",
    "\n",
    "regularizer = build_regularization_function(ord=1, threshold=0)\n",
    "\n",
    "scaler_kwargs = dict(passthrough=True)\n",
    "model_kwargs = dict(output_activation=nn.Identity())\n",
    "train_kwargs = dict(negative_score_reduction='none', n_epochs=3000, patience_epochs=10, \n",
    "    shuffle_negatives=True, device=torch.device('cuda:0'), \n",
    "    # regularizer=regularizer\n",
    "    )\n",
    "cv_kwargs = dict(refit='overall_ecdf', error_score='raise')  # , n_jobs=1)\n",
    "scoring = utils.build_multiple_scoring_function(\n",
    "    [utils.evaluate_fitness_overall_ecdf, utils.evaluate_fitness_single_game_rank],\n",
    "    ['overall_ecdf', 'single_game_rank'],\n",
    ")\n",
    "\n",
    "feature_columns = [str(c) for c in fitness_df.columns if c not in NON_FEATURE_COLUMNS]\n",
    "for n in range(2, 7):\n",
    "    feature_columns.remove(f'ast_ngram_n_{n}_score')\n",
    "print([c for c in feature_columns if 'score' in c])\n",
    "\n",
    "cv, (train_tensor, test_tensor), test_results = utils.model_fitting_experiment(\n",
    "    # [fitness_df, mle_samples_df], \n",
    "    fitness_df, \n",
    "    test_param_grid, feature_columns=feature_columns,\n",
    "    scoring_function=scoring, verbose=1, scaler_kwargs=scaler_kwargs, \n",
    "    model_kwargs=model_kwargs, train_kwargs=train_kwargs, cv_kwargs=cv_kwargs,\n",
    "    energy_weighted_resampling=True, \n",
    "    # random_seed=42,\n",
    "    )\n",
    "\n",
    "utils.visualize_cv_outputs(cv, train_tensor, test_tensor, test_results)"
   ]
  },
  {
   "cell_type": "code",
   "execution_count": null,
   "metadata": {},
   "outputs": [],
   "source": [
    "cv.best_estimator_.named_steps['fitness'].model.fc1.weight.shape"
   ]
  },
  {
   "cell_type": "code",
   "execution_count": null,
   "metadata": {},
   "outputs": [],
   "source": [
    "w = cv.best_estimator_.named_steps['fitness'].model.fc1.weight.squeeze()\n",
    "z = w * (w > 1e-3)\n",
    "torch.linalg.norm(z, 0)"
   ]
  },
  {
   "cell_type": "code",
   "execution_count": null,
   "metadata": {},
   "outputs": [],
   "source": [
    "filtered_df = create_filtered_df(fitness_df)\n",
    "feature_columns = [c for c in filtered_df.columns if c not in NON_FEATURE_COLUMNS]\n",
    "full_tensor = utils.df_to_tensor(filtered_df, feature_columns)"
   ]
  },
  {
   "cell_type": "code",
   "execution_count": null,
   "metadata": {},
   "outputs": [],
   "source": [
    "# cv.best_estimator_.fit(full_tensor)\n",
    "SAVE_MODEL = True\n",
    "if SAVE_MODEL:\n",
    "    output_path = f'../models/cv_fitness_model_{datetime.now().strftime(\"%Y_%m_%d\")}.pkl.gz'\n",
    "    original_output_path = output_path[:]\n",
    "    i = 0\n",
    "    while os.path.exists(output_path):\n",
    "        output_path = original_output_path + f'_{i}'\n",
    "        i += 1\n",
    "\n",
    "    with gzip.open(output_path, 'wb') as f:\n",
    "        pickle.dump(cv.best_estimator_, f, protocol=pickle.HIGHEST_PROTOCOL)"
   ]
  },
  {
   "cell_type": "code",
   "execution_count": null,
   "metadata": {},
   "outputs": [],
   "source": [
    "test_param_grid = [\n",
    "    {\n",
    "        'fitness__loss_function': [utils.fitness_square_square_loss], # [utils.fitness_hinge_loss_with_cross_example],\n",
    "        'fitness__weight_decay': [0.0, 0.25, 1, 2],  \n",
    "        'fitness__margin': [1, 2, 4, 8],\n",
    "        # 'fitness__beta': [0.25, 1, 2, 4],\n",
    "        'fitness__lr':  [1e-1, 3e-2, 1e-2, 3e-3],  # [1e-1, 3e-2, 1e-2, 3e-3],\n",
    "        'fitness__k': [4, 8, 16, 32, 64],\n",
    "        'fitness__batch_size': [2, 4, 8, 16],  # [1, 4, 8, 16],\n",
    "        # 'fitness__alpha': [0, 0.25, 0.5, 0.75, 1], # [0, 0.1, 0.2, 0.3],  #\n",
    "        'fitness__dataset_energy_beta': [1, 3, 5],\n",
    "    },\n",
    "]\n",
    "\n",
    "\n",
    "cv_with_resampling, (train_tensor_with_resampling, test_tensor_with_resampling), test_results_with_resampling = utils.model_fitting_experiment(\n",
    "    # [fitness_df, mle_samples_df], \n",
    "    fitness_df, \n",
    "    test_param_grid,\n",
    "    scoring_function=scoring, verbose=1, scaler_kwargs=scaler_kwargs, \n",
    "    model_kwargs=model_kwargs, train_kwargs=train_kwargs, cv_kwargs=cv_kwargs,\n",
    "    energy_weighted_resampling=True\n",
    "    )\n",
    "\n",
    "\n",
    "utils.visualize_cv_outputs(cv_with_resampling, train_tensor_with_resampling, test_tensor_with_resampling, test_results_with_resampling, histogram_title_note='energy weighted resampling')"
   ]
  },
  {
   "cell_type": "code",
   "execution_count": null,
   "metadata": {},
   "outputs": [],
   "source": []
  },
  {
   "attachments": {},
   "cell_type": "markdown",
   "metadata": {},
   "source": [
    "### Checking the effect of regrowth depth"
   ]
  },
  {
   "cell_type": "code",
   "execution_count": null,
   "metadata": {},
   "outputs": [],
   "source": [
    "feature_columns = [c for c in binarized_df.columns if c not in NON_FEATURE_COLUMNS]\n",
    "full_binarized_tensor = utils.df_to_tensor(binarized_df, feature_columns)\n",
    "full_tensor_scores = cv_no_scaling_sq_sq.best_estimator_.transform(full_binarized_tensor).detach()"
   ]
  },
  {
   "cell_type": "code",
   "execution_count": null,
   "metadata": {},
   "outputs": [],
   "source": [
    "energy_diffs = full_tensor_scores[:, 1:] - full_tensor_scores[:, 0].unsqueeze(1)\n",
    "energy_diffs.ravel().shape"
   ]
  },
  {
   "cell_type": "code",
   "execution_count": null,
   "metadata": {},
   "outputs": [],
   "source": [
    "def extract_regrowth_depth(game_text: str):\n",
    "    game_id_start = game_text.find('(game')\n",
    "    game_id_section = game_text[game_id_start:game_text.find(')', game_id_start)]\n",
    "    regrowth_depth = game_id_section[game_id_section.rfind('-') + 2:]\n",
    "    return int(regrowth_depth)\n",
    "\n",
    "regrowth_depts = [extract_regrowth_depth(g) for g in regrown_game_texts]"
   ]
  },
  {
   "cell_type": "code",
   "execution_count": null,
   "metadata": {},
   "outputs": [],
   "source": [
    "plt.scatter(regrowth_depts, energy_diffs.ravel().numpy(), s=5)"
   ]
  },
  {
   "cell_type": "code",
   "execution_count": null,
   "metadata": {},
   "outputs": [],
   "source": []
  },
  {
   "cell_type": "code",
   "execution_count": null,
   "metadata": {},
   "outputs": [],
   "source": []
  },
  {
   "cell_type": "code",
   "execution_count": null,
   "metadata": {},
   "outputs": [],
   "source": []
  },
  {
   "cell_type": "code",
   "execution_count": null,
   "metadata": {},
   "outputs": [],
   "source": []
  },
  {
   "cell_type": "code",
   "execution_count": null,
   "metadata": {},
   "outputs": [],
   "source": []
  },
  {
   "cell_type": "code",
   "execution_count": null,
   "metadata": {},
   "outputs": [],
   "source": []
  },
  {
   "cell_type": "code",
   "execution_count": null,
   "metadata": {},
   "outputs": [],
   "source": []
  },
  {
   "cell_type": "code",
   "execution_count": null,
   "metadata": {},
   "outputs": [],
   "source": []
  },
  {
   "cell_type": "code",
   "execution_count": null,
   "metadata": {},
   "outputs": [],
   "source": []
  },
  {
   "cell_type": "code",
   "execution_count": null,
   "metadata": {},
   "outputs": [],
   "source": []
  },
  {
   "cell_type": "code",
   "execution_count": null,
   "metadata": {},
   "outputs": [],
   "source": [
    "map_samples_fitness_df = utils.load_fitness_data('../data/ast_mle_fitness_scores.csv')\n",
    "binarized_map_samples_fitness_df = binarize_features(map_samples_fitness_df)\n",
    "\n",
    "map_samples_binarized_arr = binarized_map_samples_fitness_df.loc[:, [c for c in binarized_map_samples_fitness_df.columns if c not in NON_FEATURE_COLUMNS]]\n",
    "map_samples_binarized_tensor = torch.from_numpy(map_samples_binarized_arr.values).float()\n",
    "\n",
    "map_samples_binarized_energies = cv_no_scaling_sq_sq.best_estimator_.transform(map_samples_binarized_tensor.unsqueeze(1)).squeeze()"
   ]
  },
  {
   "cell_type": "code",
   "execution_count": null,
   "metadata": {},
   "outputs": [],
   "source": [
    "histogram_log_y = True\n",
    "histogram_title_base = 'Binarized features with MAP games, square-square loss'\n",
    "\n",
    "train_positive_scores = cv_no_scaling_sq_sq.best_estimator_.transform(train_tensor_no_scaling_sq_sq[:, 0, :]).detach().squeeze().numpy()  # type: ignore\n",
    "test_positive_scores = cv_no_scaling_sq_sq.best_estimator_.transform(test_tensor_no_scaling_sq_sq[:, 0, :]).detach().squeeze().numpy()  # type: ignore\n",
    "train_negative_scores = cv_no_scaling_sq_sq.best_estimator_.transform(train_tensor_no_scaling_sq_sq[:, 1:, :]).detach().squeeze().numpy()  # type: ignore\n",
    "test_negative_scores = cv_no_scaling_sq_sq.best_estimator_.transform(test_tensor_no_scaling_sq_sq[:, 1:, :]).detach().squeeze().numpy()  # type: ignore\n",
    "\n",
    "hist_scores = [train_positive_scores, test_positive_scores, \n",
    "               train_negative_scores.flatten(), test_negative_scores.flatten(),\n",
    "               map_samples_binarized_energies.detach().numpy()] \n",
    "\n",
    "labels = ['Real (train)', 'Real (test)', 'Negatives (train)', 'Negatives (test)', 'MAP samples']\n",
    "\n",
    "cm = plt.get_cmap('tab20')  # type: ignore\n",
    "colors = cm.colors[:5]\n",
    "\n",
    "plt.hist(hist_scores, label=labels, stacked=True, bins=100, color=colors)  # type: ignore\n",
    "plt.title(histogram_title_base)\n",
    "\n",
    "plt.xlabel('Energy score')\n",
    "\n",
    "if histogram_log_y:\n",
    "    plt.ylabel('log(Count)')\n",
    "    plt.semilogy()\n",
    "else:\n",
    "    plt.ylabel('Count')\n",
    "\n",
    "plt.legend(loc='best')\n",
    "plt.show()"
   ]
  },
  {
   "cell_type": "code",
   "execution_count": null,
   "metadata": {},
   "outputs": [],
   "source": [
    "weight_threshold = 1\n",
    "weights = cv_no_scaling_sq_sq.best_estimator_.named_steps['fitness'].model.fc1.weight.data.detach().squeeze()  # type: ignore\n",
    "weights_above_threshold = (weights.abs() > weight_threshold).numpy()\n",
    "feature_columns = [c for c in binarized_map_samples_fitness_df.columns if c not in NON_FEATURE_COLUMNS]\n",
    "features_with_weight_above_threshold = [feature_columns[i] for i in range(len(feature_columns)) if weights_above_threshold[i]]\n",
    "\n",
    "with open('../data/features_with_weight_above_threshold_2022_01_24.txt', 'w') as f:\n",
    "    f.write('\\n'.join(features_with_weight_above_threshold))\n",
    "    \n"
   ]
  },
  {
   "cell_type": "code",
   "execution_count": null,
   "metadata": {},
   "outputs": [],
   "source": []
  },
  {
   "cell_type": "code",
   "execution_count": null,
   "metadata": {},
   "outputs": [],
   "source": []
  },
  {
   "cell_type": "code",
   "execution_count": null,
   "metadata": {},
   "outputs": [],
   "source": []
  },
  {
   "cell_type": "code",
   "execution_count": null,
   "metadata": {},
   "outputs": [],
   "source": [
    "full_binarized_tensor = utils.df_to_tensor(binarized_df, [c for c in binarized_df.columns if c not in NON_FEATURE_COLUMNS])\n",
    "test_negative_scores_tensor = torch.tensor(test_negative_scores)\n",
    "test_positive_scores_tensor = torch.tensor(test_positive_scores)\n",
    "feature_columns = [c for c in binarized_df.columns if c not in NON_FEATURE_COLUMNS]"
   ]
  },
  {
   "cell_type": "code",
   "execution_count": null,
   "metadata": {},
   "outputs": [],
   "source": [
    "torch.topk((test_negative_scores_tensor - test_positive_scores_tensor.unsqueeze(-1)).ravel(), 30, largest=False)"
   ]
  },
  {
   "cell_type": "code",
   "execution_count": null,
   "metadata": {},
   "outputs": [],
   "source": [
    "test_negative_scores_tensor.ravel()[836] == test_negative_scores_tensor[836 // 64, 836 % 64]"
   ]
  },
  {
   "cell_type": "code",
   "execution_count": null,
   "metadata": {},
   "outputs": [],
   "source": [
    "utils.evaluate_energy_contributions(\n",
    "    cv_no_scaling_sq_sq, test_tensor_no_scaling_sq_sq, 1036,\n",
    "    feature_columns, full_binarized_tensor, real_game_texts, regrown_game_texts,\n",
    ")"
   ]
  },
  {
   "cell_type": "code",
   "execution_count": null,
   "metadata": {},
   "outputs": [],
   "source": [
    "fitness_df.columns"
   ]
  },
  {
   "cell_type": "code",
   "execution_count": null,
   "metadata": {},
   "outputs": [],
   "source": [
    "# [c for c in fitness_df.columns if 'arg_types' in c]\n",
    "fitness_df.columns.get_loc('ast_ngram_constraints_n_6_score')"
   ]
  },
  {
   "cell_type": "code",
   "execution_count": null,
   "metadata": {},
   "outputs": [],
   "source": []
  },
  {
   "cell_type": "code",
   "execution_count": null,
   "metadata": {},
   "outputs": [],
   "source": [
    "from argparse import Namespace\n",
    "from src.fitness_features import *\n",
    "# from src.fitness_ngram_models import TextNGramModel, TextMultiNGramModel, ASTMultiNGramModel, NGramASTParser\n",
    "\n",
    "# with gzip.open('../models/fitness_featurizer_2023_02_02.pkl.gz', 'rb') as f:\n",
    "#     featurizer = pickle.load(f)\n"
   ]
  },
  {
   "cell_type": "code",
   "execution_count": null,
   "metadata": {},
   "outputs": [],
   "source": [
    "args = Namespace(no_binarize=False, no_merge=False)\n",
    "featurizer = build_fitness_featurizer(args)"
   ]
  },
  {
   "cell_type": "code",
   "execution_count": null,
   "metadata": {},
   "outputs": [],
   "source": [
    "np.seterr(all='raise')\n",
    "_ = [featurizer.parse(game_asts[i], 'interactive-beta.pddl', return_row=False) for i in range(len(game_asts))]\n",
    "# _ = [featurizer.parse(game_asts[74], 'interactive-beta.pddl', return_row=False) for _ in range(1000)]"
   ]
  },
  {
   "cell_type": "code",
   "execution_count": null,
   "metadata": {},
   "outputs": [],
   "source": [
    "np.seterr(all='raise')\n",
    "%prun _ = [featurizer.parse(game_asts[i], 'interactive-beta.pddl', return_row=False) for i in range(len(game_asts))]\n",
    "# _ = [featurizer.parse(game_asts[74], 'interactive-beta.pddl', return_row=False) for _ in range(1000)]"
   ]
  },
  {
   "cell_type": "code",
   "execution_count": null,
   "metadata": {},
   "outputs": [],
   "source": [
    "featurizer.header_registry['in_motion_arg_types'].get_all_keys()"
   ]
  },
  {
   "cell_type": "code",
   "execution_count": null,
   "metadata": {},
   "outputs": [],
   "source": [
    "n_gram_model.model.get(('setup', 'setup_and'))"
   ]
  },
  {
   "cell_type": "code",
   "execution_count": null,
   "metadata": {},
   "outputs": [],
   "source": [
    "n_gram_model.model.tree[('setup', 'setup_and')]"
   ]
  },
  {
   "cell_type": "code",
   "execution_count": null,
   "metadata": {},
   "outputs": [],
   "source": [
    "d = featurizer.to_df()"
   ]
  },
  {
   "cell_type": "code",
   "execution_count": null,
   "metadata": {},
   "outputs": [],
   "source": [
    "d.ast_ngram_setup_n_2_score"
   ]
  },
  {
   "cell_type": "code",
   "execution_count": null,
   "metadata": {},
   "outputs": [],
   "source": [
    "keys = ['ast_ngram_' + k for k in featurizer.full_ast_registry[0]._get_all_inner_keys()]\n",
    "cols = [c for c in d.columns if 'ast_ngram' in c]\n",
    "\n",
    "key_set = set(keys)\n",
    "col_set = set(cols)\n",
    "\n",
    "for k in key_set - col_set:\n",
    "    print('Only in keys:', k)\n",
    "\n",
    "for c in col_set - key_set:\n",
    "    print('Only in cols:', c)\n",
    "\n"
   ]
  },
  {
   "cell_type": "code",
   "execution_count": null,
   "metadata": {},
   "outputs": [],
   "source": [
    "start = 10\n",
    "keys[start:start + 10], cols[start:start + 10]"
   ]
  },
  {
   "cell_type": "code",
   "execution_count": null,
   "metadata": {},
   "outputs": [],
   "source": [
    "print(cols[:20])"
   ]
  },
  {
   "cell_type": "code",
   "execution_count": null,
   "metadata": {},
   "outputs": [],
   "source": [
    "d[[c for c in d.columns if 'ast_ngram_' in c]].head()"
   ]
  },
  {
   "cell_type": "code",
   "execution_count": null,
   "metadata": {},
   "outputs": [],
   "source": [
    "d.ast_ngram_setup_n_5_score.hist(bins=20)"
   ]
  },
  {
   "cell_type": "code",
   "execution_count": null,
   "metadata": {},
   "outputs": [],
   "source": [
    "(d[[c for c in d.columns if 'ast_ngram' in c]] == 1).sum()"
   ]
  },
  {
   "cell_type": "code",
   "execution_count": null,
   "metadata": {},
   "outputs": [],
   "source": [
    "np.where(d.no_adjacent_same_modal == -1)"
   ]
  },
  {
   "cell_type": "code",
   "execution_count": null,
   "metadata": {},
   "outputs": [],
   "source": [
    "d.game_name[np.where(d.no_adjacent_same_modal == -1)[0]]"
   ]
  },
  {
   "cell_type": "code",
   "execution_count": null,
   "metadata": {},
   "outputs": [],
   "source": [
    "[c for c in d.columns if 'ast_ngram' in c]"
   ]
  },
  {
   "cell_type": "code",
   "execution_count": null,
   "metadata": {},
   "outputs": [],
   "source": [
    "d.index[d.redundant_expression_found != 0]"
   ]
  },
  {
   "cell_type": "code",
   "execution_count": null,
   "metadata": {},
   "outputs": [],
   "source": [
    "d.loc[56, :]"
   ]
  },
  {
   "cell_type": "code",
   "execution_count": null,
   "metadata": {},
   "outputs": [],
   "source": [
    "t = regrown_game_texts[631]\n",
    "a = grammar_parser.parse(t)\n",
    "r = featurizer.parse(a, '', True)"
   ]
  },
  {
   "cell_type": "code",
   "execution_count": null,
   "metadata": {},
   "outputs": [],
   "source": [
    "p = train_tensor[:, 0, :]\n",
    "n = train_tensor[:, 1:, :]\n",
    "print(p.shape, n.shape)\n",
    "perm = torch.randperm(n.shape[0] * n.shape[1])\n",
    "n_new = n.reshape(-1, n.shape[2])[perm, :].reshape(n.shape[0], n.shape[1], n.shape[2])\n",
    "print(p.shape, n.shape)"
   ]
  },
  {
   "cell_type": "code",
   "execution_count": null,
   "metadata": {},
   "outputs": [],
   "source": [
    "import numpy as np\n",
    "rng = np.random.default_rng(0)"
   ]
  },
  {
   "cell_type": "code",
   "execution_count": null,
   "metadata": {},
   "outputs": [],
   "source": [
    "fitness_df.adjacent_arg_types_agent_agent_setup.sum()"
   ]
  },
  {
   "cell_type": "code",
   "execution_count": null,
   "metadata": {},
   "outputs": [],
   "source": [
    "[c for c in fitness_df if 'arg_types' in c]"
   ]
  },
  {
   "cell_type": "code",
   "execution_count": null,
   "metadata": {},
   "outputs": [],
   "source": [
    "s = pd.Series([1, 0, 0.5, None, 0.25, None, 0, 1])"
   ]
  },
  {
   "cell_type": "code",
   "execution_count": null,
   "metadata": {},
   "outputs": [],
   "source": [
    "s != 0"
   ]
  }
 ],
 "metadata": {
  "kernelspec": {
   "display_name": "game-gen",
   "language": "python",
   "name": "python3"
  },
  "language_info": {
   "codemirror_mode": {
    "name": "ipython",
    "version": 3
   },
   "file_extension": ".py",
   "mimetype": "text/x-python",
   "name": "python",
   "nbconvert_exporter": "python",
   "pygments_lexer": "ipython3",
   "version": "3.10.8"
  },
  "orig_nbformat": 4,
  "vscode": {
   "interpreter": {
    "hash": "a8b8c8d5c21b7aee7bd0053f69e9c255c013bbea7031fbef7e66d58dd46c0fa6"
   }
  }
 },
 "nbformat": 4,
 "nbformat_minor": 2
}
