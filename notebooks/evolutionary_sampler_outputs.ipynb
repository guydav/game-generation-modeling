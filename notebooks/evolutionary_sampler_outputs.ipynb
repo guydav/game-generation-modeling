{
 "cells": [
  {
   "cell_type": "code",
   "execution_count": 1,
   "metadata": {},
   "outputs": [],
   "source": [
    "%autoreload 2"
   ]
  },
  {
   "cell_type": "code",
   "execution_count": 2,
   "metadata": {},
   "outputs": [
    {
     "name": "stderr",
     "output_type": "stream",
     "text": [
      "2023-05-08 13:35:59 - ast_utils - DEBUG    - Using cache folder: /var/folders/h9/kzpqpksx6fq00v9d73x5j51c0000gn/T/game_generation_cache\n",
      "2023-05-08 13:35:59 - src.ast_utils - DEBUG    - Using cache folder: /var/folders/h9/kzpqpksx6fq00v9d73x5j51c0000gn/T/game_generation_cache\n"
     ]
    }
   ],
   "source": [
    "from collections import defaultdict\n",
    "from argparse import Namespace\n",
    "import copy\n",
    "import gzip\n",
    "import itertools\n",
    "import os\n",
    "import pickle\n",
    "import sys\n",
    "import typing\n",
    "\n",
    "import logging\n",
    "logging.getLogger('matplotlib').setLevel(logging.WARNING)\n",
    "\n",
    "from IPython.display import display, Markdown, HTML  # type: ignore\n",
    "import matplotlib\n",
    "import matplotlib.axes\n",
    "import matplotlib.pyplot as plt\n",
    "from Levenshtein import distance as _edit_distance\n",
    "import numpy as np\n",
    "import pandas as pd\n",
    "import tatsu\n",
    "import tatsu.ast\n",
    "import torch\n",
    "import torch.nn as nn\n",
    "import torch.nn.functional as F\n",
    "from torch.utils.data import TensorDataset, DataLoader\n",
    "import tabulate\n",
    "import tqdm\n",
    "import sklearn\n",
    "from sklearn.model_selection import GridSearchCV, train_test_split, KFold\n",
    "from sklearn.pipeline import Pipeline\n",
    "\n",
    "sys.path.append(os.path.abspath('..'))\n",
    "sys.path.append(os.path.abspath('../src'))\n",
    "from src.ast_utils import _extract_game_id\n",
    "from src import fitness_energy_utils as utils\n",
    "from src.fitness_energy_utils import NON_FEATURE_COLUMNS\n",
    "from src.fitness_features import *\n",
    "from src.ast_counter_sampler import *\n",
    "from src.evolutionary_sampler import *"
   ]
  },
  {
   "cell_type": "code",
   "execution_count": 3,
   "metadata": {},
   "outputs": [],
   "source": [
    "grammar = open('../dsl/dsl.ebnf').read()\n",
    "grammar_parser = tatsu.compile(grammar)\n",
    "game_asts = list(cached_load_and_parse_games_from_file('../dsl/interactive-beta.pddl', grammar_parser, False, relative_path='..'))\n",
    "real_game_texts = [ast_printer.ast_to_string(ast, '\\n') for ast in game_asts]\n",
    "# regrown_game_texts = list(load_games_from_file('../dsl/ast-real-regrowth-samples.pddl'))\n",
    "# regrown_game_1024_texts = list(load_games_from_file('../dsl/ast-real-regrowth-samples-1024.pddl'))\n",
    "# print(len(real_game_texts), len(regrown_game_texts), len(regrown_game_texts) / 98, len(regrown_game_1024_texts), len(regrown_game_1024_texts) / 98)\n"
   ]
  },
  {
   "cell_type": "code",
   "execution_count": 4,
   "metadata": {},
   "outputs": [
    {
     "name": "stdout",
     "output_type": "stream",
     "text": [
      "['interactive-beta.pddl' 'ast-real-regrowth-samples-1024.pddl']\n"
     ]
    },
    {
     "data": {
      "text/html": [
       "<div>\n",
       "<style scoped>\n",
       "    .dataframe tbody tr th:only-of-type {\n",
       "        vertical-align: middle;\n",
       "    }\n",
       "\n",
       "    .dataframe tbody tr th {\n",
       "        vertical-align: top;\n",
       "    }\n",
       "\n",
       "    .dataframe thead th {\n",
       "        text-align: right;\n",
       "    }\n",
       "</style>\n",
       "<table border=\"1\" class=\"dataframe\">\n",
       "  <thead>\n",
       "    <tr style=\"text-align: right;\">\n",
       "      <th></th>\n",
       "      <th>Index</th>\n",
       "      <th>src_file</th>\n",
       "      <th>game_name</th>\n",
       "      <th>domain_name</th>\n",
       "      <th>original_game_name</th>\n",
       "      <th>real</th>\n",
       "      <th>all_variables_defined</th>\n",
       "      <th>all_variables_used</th>\n",
       "      <th>all_preferences_used</th>\n",
       "      <th>num_preferences_defined_1</th>\n",
       "      <th>...</th>\n",
       "      <th>ast_ngram_constraints_n_6_score</th>\n",
       "      <th>ast_ngram_constraints_n_7_score</th>\n",
       "      <th>ast_ngram_terminal_n_2_score</th>\n",
       "      <th>ast_ngram_terminal_n_3_score</th>\n",
       "      <th>ast_ngram_terminal_n_4_score</th>\n",
       "      <th>ast_ngram_terminal_n_5_score</th>\n",
       "      <th>ast_ngram_scoring_n_2_score</th>\n",
       "      <th>ast_ngram_scoring_n_3_score</th>\n",
       "      <th>ast_ngram_scoring_n_4_score</th>\n",
       "      <th>ast_ngram_scoring_n_5_score</th>\n",
       "    </tr>\n",
       "  </thead>\n",
       "  <tbody>\n",
       "    <tr>\n",
       "      <th>0</th>\n",
       "      <td>0</td>\n",
       "      <td>interactive-beta.pddl</td>\n",
       "      <td>6172feb1665491d1efbce164-0</td>\n",
       "      <td>medium-objects-room-v1</td>\n",
       "      <td>6172feb1665491d1efbce164-0</td>\n",
       "      <td>1</td>\n",
       "      <td>1</td>\n",
       "      <td>1</td>\n",
       "      <td>1</td>\n",
       "      <td>0</td>\n",
       "      <td>...</td>\n",
       "      <td>0.975856</td>\n",
       "      <td>0.984382</td>\n",
       "      <td>0.970248</td>\n",
       "      <td>0.981414</td>\n",
       "      <td>0.981920</td>\n",
       "      <td>0.983617</td>\n",
       "      <td>0.919078</td>\n",
       "      <td>0.915602</td>\n",
       "      <td>0.974574</td>\n",
       "      <td>0.987096</td>\n",
       "    </tr>\n",
       "    <tr>\n",
       "      <th>1</th>\n",
       "      <td>1</td>\n",
       "      <td>interactive-beta.pddl</td>\n",
       "      <td>5f77754ba932fb2c4ba181d8-2</td>\n",
       "      <td>many-objects-room-v1</td>\n",
       "      <td>5f77754ba932fb2c4ba181d8-2</td>\n",
       "      <td>1</td>\n",
       "      <td>1</td>\n",
       "      <td>1</td>\n",
       "      <td>1</td>\n",
       "      <td>0</td>\n",
       "      <td>...</td>\n",
       "      <td>0.985632</td>\n",
       "      <td>0.986181</td>\n",
       "      <td>0.966645</td>\n",
       "      <td>0.978594</td>\n",
       "      <td>0.977472</td>\n",
       "      <td>0.984273</td>\n",
       "      <td>0.921563</td>\n",
       "      <td>0.931860</td>\n",
       "      <td>0.945369</td>\n",
       "      <td>0.962067</td>\n",
       "    </tr>\n",
       "    <tr>\n",
       "      <th>2</th>\n",
       "      <td>2</td>\n",
       "      <td>interactive-beta.pddl</td>\n",
       "      <td>614b603d4da88384282967a7-3</td>\n",
       "      <td>many-objects-room-v1</td>\n",
       "      <td>614b603d4da88384282967a7-3</td>\n",
       "      <td>1</td>\n",
       "      <td>1</td>\n",
       "      <td>1</td>\n",
       "      <td>1</td>\n",
       "      <td>1</td>\n",
       "      <td>...</td>\n",
       "      <td>0.975984</td>\n",
       "      <td>0.980604</td>\n",
       "      <td>0.000000</td>\n",
       "      <td>0.000000</td>\n",
       "      <td>0.000000</td>\n",
       "      <td>0.000000</td>\n",
       "      <td>0.844787</td>\n",
       "      <td>0.858832</td>\n",
       "      <td>0.923039</td>\n",
       "      <td>0.942307</td>\n",
       "    </tr>\n",
       "    <tr>\n",
       "      <th>3</th>\n",
       "      <td>3</td>\n",
       "      <td>interactive-beta.pddl</td>\n",
       "      <td>5bc79f652885710001a0e82a-5</td>\n",
       "      <td>few-objects-room-v1</td>\n",
       "      <td>5bc79f652885710001a0e82a-5</td>\n",
       "      <td>1</td>\n",
       "      <td>1</td>\n",
       "      <td>1</td>\n",
       "      <td>1</td>\n",
       "      <td>1</td>\n",
       "      <td>...</td>\n",
       "      <td>0.986042</td>\n",
       "      <td>0.985931</td>\n",
       "      <td>0.000000</td>\n",
       "      <td>0.000000</td>\n",
       "      <td>0.000000</td>\n",
       "      <td>0.000000</td>\n",
       "      <td>0.919078</td>\n",
       "      <td>0.915602</td>\n",
       "      <td>0.974574</td>\n",
       "      <td>0.987096</td>\n",
       "    </tr>\n",
       "    <tr>\n",
       "      <th>4</th>\n",
       "      <td>4</td>\n",
       "      <td>interactive-beta.pddl</td>\n",
       "      <td>614dec67f6eb129c3a77defd-6</td>\n",
       "      <td>medium-objects-room-v1</td>\n",
       "      <td>614dec67f6eb129c3a77defd-6</td>\n",
       "      <td>1</td>\n",
       "      <td>1</td>\n",
       "      <td>1</td>\n",
       "      <td>1</td>\n",
       "      <td>0</td>\n",
       "      <td>...</td>\n",
       "      <td>0.984624</td>\n",
       "      <td>0.983172</td>\n",
       "      <td>0.000000</td>\n",
       "      <td>0.000000</td>\n",
       "      <td>0.000000</td>\n",
       "      <td>0.000000</td>\n",
       "      <td>0.976741</td>\n",
       "      <td>0.978090</td>\n",
       "      <td>0.970715</td>\n",
       "      <td>0.987147</td>\n",
       "    </tr>\n",
       "  </tbody>\n",
       "</table>\n",
       "<p>5 rows × 370 columns</p>\n",
       "</div>"
      ],
      "text/plain": [
       "   Index               src_file                   game_name  \\\n",
       "0      0  interactive-beta.pddl  6172feb1665491d1efbce164-0   \n",
       "1      1  interactive-beta.pddl  5f77754ba932fb2c4ba181d8-2   \n",
       "2      2  interactive-beta.pddl  614b603d4da88384282967a7-3   \n",
       "3      3  interactive-beta.pddl  5bc79f652885710001a0e82a-5   \n",
       "4      4  interactive-beta.pddl  614dec67f6eb129c3a77defd-6   \n",
       "\n",
       "              domain_name          original_game_name  real  \\\n",
       "0  medium-objects-room-v1  6172feb1665491d1efbce164-0     1   \n",
       "1    many-objects-room-v1  5f77754ba932fb2c4ba181d8-2     1   \n",
       "2    many-objects-room-v1  614b603d4da88384282967a7-3     1   \n",
       "3     few-objects-room-v1  5bc79f652885710001a0e82a-5     1   \n",
       "4  medium-objects-room-v1  614dec67f6eb129c3a77defd-6     1   \n",
       "\n",
       "   all_variables_defined  all_variables_used  all_preferences_used  \\\n",
       "0                      1                   1                     1   \n",
       "1                      1                   1                     1   \n",
       "2                      1                   1                     1   \n",
       "3                      1                   1                     1   \n",
       "4                      1                   1                     1   \n",
       "\n",
       "   num_preferences_defined_1  ...  ast_ngram_constraints_n_6_score  \\\n",
       "0                          0  ...                         0.975856   \n",
       "1                          0  ...                         0.985632   \n",
       "2                          1  ...                         0.975984   \n",
       "3                          1  ...                         0.986042   \n",
       "4                          0  ...                         0.984624   \n",
       "\n",
       "   ast_ngram_constraints_n_7_score  ast_ngram_terminal_n_2_score  \\\n",
       "0                         0.984382                      0.970248   \n",
       "1                         0.986181                      0.966645   \n",
       "2                         0.980604                      0.000000   \n",
       "3                         0.985931                      0.000000   \n",
       "4                         0.983172                      0.000000   \n",
       "\n",
       "   ast_ngram_terminal_n_3_score  ast_ngram_terminal_n_4_score  \\\n",
       "0                      0.981414                      0.981920   \n",
       "1                      0.978594                      0.977472   \n",
       "2                      0.000000                      0.000000   \n",
       "3                      0.000000                      0.000000   \n",
       "4                      0.000000                      0.000000   \n",
       "\n",
       "   ast_ngram_terminal_n_5_score  ast_ngram_scoring_n_2_score  \\\n",
       "0                      0.983617                     0.919078   \n",
       "1                      0.984273                     0.921563   \n",
       "2                      0.000000                     0.844787   \n",
       "3                      0.000000                     0.919078   \n",
       "4                      0.000000                     0.976741   \n",
       "\n",
       "   ast_ngram_scoring_n_3_score  ast_ngram_scoring_n_4_score  \\\n",
       "0                     0.915602                     0.974574   \n",
       "1                     0.931860                     0.945369   \n",
       "2                     0.858832                     0.923039   \n",
       "3                     0.915602                     0.974574   \n",
       "4                     0.978090                     0.970715   \n",
       "\n",
       "   ast_ngram_scoring_n_5_score  \n",
       "0                     0.987096  \n",
       "1                     0.962067  \n",
       "2                     0.942307  \n",
       "3                     0.987096  \n",
       "4                     0.987147  \n",
       "\n",
       "[5 rows x 370 columns]"
      ]
     },
     "execution_count": 4,
     "metadata": {},
     "output_type": "execute_result"
    }
   ],
   "source": [
    "fitness_df = utils.load_fitness_data('../data/fitness_features_1024_regrowths.csv.gz')\n",
    "print(fitness_df.src_file.unique())\n",
    "fitness_df.head()"
   ]
  },
  {
   "cell_type": "code",
   "execution_count": 5,
   "metadata": {},
   "outputs": [],
   "source": [
    "postprocessor = ast_parser.ASTSamplePostprocessor()\n",
    "postprocessed_real_game_texts = [ast_printer.ast_to_string(postprocessor(ast), '\\n') for ast in game_asts]  # type: ignore\n",
    "\n",
    "real_game_edit_distances = np.zeros((len(game_asts), len(game_asts)), dtype=int)\n",
    "for i, j in itertools.combinations(range(len(game_asts)), 2):\n",
    "    real_game_edit_distances[i, j] = real_game_edit_distances[j, i] = edit_distance(postprocessed_real_game_texts[i], postprocessed_real_game_texts[j])\n",
    "\n",
    "\n",
    "def edit_distance(first_game_text: str, second_game_text: str):\n",
    "    first_game_text = first_game_text[first_game_text.find(')', first_game_text.find('(:domain')) + 1:]\n",
    "    second_game_text = second_game_text[second_game_text.find(')', second_game_text.find('(:domain')) + 1:]\n",
    "    return _edit_distance(first_game_text, second_game_text)\n",
    "\n",
    "\n",
    "def find_nearest_real_game_indices(game, k: int = 3) -> typing.Tuple[np.ndarray, np.ndarray]:\n",
    "    game_str = ast_printer.ast_to_string(game, '\\n')\n",
    "    distances = np.array([edit_distance(game_str, real_game) for real_game in postprocessed_real_game_texts])\n",
    "    nearest_real_game_indices = np.argsort(distances)[:k]\n",
    "    return nearest_real_game_indices, distances[nearest_real_game_indices]\n",
    "\n",
    "\n",
    "def print_nearest_real_games(game, k: int = 3):\n",
    "    indices, distances = find_nearest_real_game_indices(game, k)\n",
    "    for i, (idx, d) in enumerate(zip(indices, distances)):\n",
    "        real_game_distances = real_game_edit_distances[idx]\n",
    "        nearest_distance_indices = np.argsort(real_game_distances)[1:k + 1]  # index 0 is the game itself\n",
    "        display(Markdown(f'### Nearest real game #{i + 1}:'))\n",
    "        display(Markdown(f'Edit distance to sample {d}, real game nearest neighbor distances {np.array2string(real_game_distances[nearest_distance_indices], separator=\", \")}):\\n'))\n",
    "        display(Markdown(f'```pddl\\n{real_game_texts[idx]}\\n```'))\n",
    "\n",
    "    "
   ]
  },
  {
   "cell_type": "code",
   "execution_count": 6,
   "metadata": {},
   "outputs": [],
   "source": [
    "\n",
    "def plot_sampler_fitness_trajectory(evo: PopulationBasedSampler, title: typing.Optional[str] = None, axsize: typing.Tuple[int, int] = (8, 6),\n",
    "                                    plot_diversity: typing.Optional[bool] = None,\n",
    "                                    min_real_game_fitness: float = 72.8545, max_real_game_fitness: float = 78.0885):\n",
    "    \n",
    "    if plot_diversity is None:\n",
    "        plot_diversity = hasattr(evo, 'diversity_metrics_history') and len(evo.diversity_metrics_history) > 0\n",
    "            \n",
    "    layout = (1, 2) if plot_diversity else (1, 1)\n",
    "    figsize = (axsize[0] * layout[1], axsize[1])\n",
    "\n",
    "    fig, axes = plt.subplots(*layout, figsize=figsize)\n",
    "\n",
    "    mean, max_fit, std = [], [], []\n",
    "    for step_dict in evo.fitness_metrics_history:\n",
    "        mean.append(step_dict['mean'])\n",
    "        max_fit.append(step_dict['max'])\n",
    "        std.append(step_dict['std'])\n",
    "\n",
    "    mean = np.array(mean)\n",
    "    max_fit = np.array(max_fit)\n",
    "    std = np.array(std)\n",
    "\n",
    "    fitness_ax = typing.cast(matplotlib.axes.Axes, axes[0] if plot_diversity else axes)\n",
    "\n",
    "    fitness_ax.plot(mean, label='mean fitness')\n",
    "    fitness_ax.fill_between(np.arange(len(mean)), mean - std, mean + std, alpha=0.2, label='std')  # type; ignore\n",
    "    fitness_ax.plot(max_fit, label='max fitness')\n",
    "\n",
    "    fitness_ax.hlines(min_real_game_fitness, 0, len(mean), label='min real game fitness', color='black', ls='--')\n",
    "    fitness_ax.hlines(max_real_game_fitness, 0, len(mean), label='max real game fitness', color='black', ls='--')\n",
    "\n",
    "    fitness_ax.set_xlabel('Generation')\n",
    "    fitness_ax.set_ylabel('Fitness')\n",
    "\n",
    "    fitness_ax.legend(loc='best')\n",
    "    \n",
    "    if plot_diversity:\n",
    "        mean_div, min_div, max_div, std_div = [], [], [], []\n",
    "        for step_dict in evo.diversity_metrics_history:\n",
    "            mean_div.append(step_dict['mean'])\n",
    "            min_div.append(step_dict['min'])\n",
    "            max_div.append(step_dict['max'])\n",
    "            std_div.append(step_dict['std'])\n",
    "\n",
    "        mean_div = np.array(mean_div)\n",
    "        min_div = np.array(min_div)\n",
    "        max_div = np.array(max_div)\n",
    "        std_div = np.array(std_div)\n",
    "\n",
    "        diversity_ax = typing.cast(matplotlib.axes.Axes, axes[1])\n",
    "        diversity_ax.plot(mean_div, label='mean diversity')\n",
    "        diversity_ax.fill_between(np.arange(len(mean_div)), mean_div - std_div, mean_div + std_div, alpha=0.2, label='std')  # type: ignore\n",
    "        diversity_ax.plot(min_div, label='min diversity')\n",
    "        diversity_ax.plot(max_div, label='max diversity')\n",
    "\n",
    "        diversity_ax.set_xlabel('Generation')\n",
    "        diversity_ax.set_ylabel('Diversity')\n",
    "\n",
    "        diversity_ax.legend(loc='best')\n",
    "        \n",
    "    if title is not None:\n",
    "        if plot_diversity:\n",
    "            plt.suptitle(title)\n",
    "        else:\n",
    "            plt.title(title)\n",
    "\n",
    "    plt.show()\n",
    "\n",
    "\n",
    "# plot_sampler_fitness_trajectory(evo_sampler, 'Microbial GA')"
   ]
  },
  {
   "cell_type": "code",
   "execution_count": 7,
   "metadata": {},
   "outputs": [
    {
     "data": {
      "image/png": "[encoded data removed]",
      "text/plain": [
       "<Figure size 800x600 with 1 Axes>"
      ]
     },
     "metadata": {},
     "output_type": "display_data"
    }
   ],
   "source": [
    "evo_sampler_map_elites_ucb = typing.cast(MAPElitesSampler, utils.load_data('2023_05_08', 'samples', 'evo_sampler_map_elites_ucb_2_final'))\n",
    "plot_sampler_fitness_trajectory(evo_sampler_map_elites_ucb, 'MAP-Elites, UCB Sampling')"
   ]
  },
  {
   "cell_type": "code",
   "execution_count": 8,
   "metadata": {},
   "outputs": [
    {
     "data": {
      "image/png": "[encoded data removed]",
      "text/plain": [
       "<Figure size 800x600 with 1 Axes>"
      ]
     },
     "metadata": {},
     "output_type": "display_data"
    }
   ],
   "source": [
    "evo_sampler_map_elites_ucb_resume = typing.cast(MAPElitesSampler, utils.load_data('2023_05_08', 'samples', 'evo_sampler_map_elites_ucb_2_resume_final'))\n",
    "plot_sampler_fitness_trajectory(evo_sampler_map_elites_ucb_resume, 'MAP-Elites, UCB Sampling')"
   ]
  },
  {
   "cell_type": "code",
   "execution_count": null,
   "metadata": {},
   "outputs": [],
   "source": [
    "evo_sampler_map_elites_thompson_no_at_end = typing.cast(MAPElitesSampler, utils.load_data('2023_05_05', 'samples', 'evo_sampler_map_elites_thompson_from_fitness_rank_final'))\n",
    "plot_sampler_fitness_trajectory(evo_sampler_map_elites_thompson_no_at_end, 'MAP-Elites, Thompson Sampling (no `at_end`)')"
   ]
  },
  {
   "cell_type": "code",
   "execution_count": null,
   "metadata": {},
   "outputs": [],
   "source": [
    "evo_sampler_map_elites_fitness_rank_no_at_end = typing.cast(MAPElitesSampler, utils.load_data('2023_05_05', 'samples', 'evo_sampler_map_elites_fitness_rank_resume_final'))\n",
    "plot_sampler_fitness_trajectory(evo_sampler_map_elites_fitness_rank_no_at_end, 'MAP-Elites, Fitness Rank Sampling (no `at_end`)')"
   ]
  },
  {
   "cell_type": "code",
   "execution_count": 23,
   "metadata": {},
   "outputs": [
    {
     "name": "stdout",
     "output_type": "stream",
     "text": [
      "Sample features for key 785:\n",
      "num_preferences_defined_1: 1\n",
      "num_preferences_defined_2: 0\n",
      "num_preferences_defined_3: 0\n",
      "length_of_then_modals_2: 0\n",
      "length_of_then_modals_3: 1\n",
      "at_end_found: 0\n",
      "in_motion_arg_types_balls_constraints: 0\n",
      "on_arg_types_blocks_blocks_constraints: 0\n",
      "section_doesnt_exist_setup: 1\n",
      "section_doesnt_exist_terminal: 1\n",
      "\n",
      "Features with keywords:\n",
      "\"max_depth\": ['max_depth_setup_0', 'max_depth_constraints_1', 'max_depth_terminal_0', 'max_depth_scoring_1']\n",
      "\"mean_depth\": ['mean_depth_setup_0', 'mean_depth_constraints_1', 'mean_depth_terminal_0', 'mean_depth_scoring_1']\n",
      "\"node_count\": ['node_count_setup_0', 'node_count_constraints_1', 'node_count_terminal_0', 'node_count_scoring_0']\n"
     ]
    },
    {
     "data": {
      "text/markdown": [
       "### Energy of visualized game: -75.748"
      ],
      "text/plain": [
       "<IPython.core.display.Markdown object>"
      ]
     },
     "metadata": {},
     "output_type": "display_data"
    },
    {
     "data": {
      "text/markdown": [
       "### Top features contributing to the game's energy\n",
       "feature name: **value** = (original feature value => regrown feature value) * weight"
      ],
      "text/plain": [
       "<IPython.core.display.Markdown object>"
      ]
     },
     "metadata": {},
     "output_type": "display_data"
    },
    {
     "data": {
      "text/markdown": [
       "| Features increasing energy (= more fake)                                   | Features decreasing energy (= more real)                              |\n",
       "|----------------------------------------------------------------------------|-----------------------------------------------------------------------|\n",
       "| max_depth_scoring_1: **0.920** = (1.000) * 0.920                           | ast_ngram_full_n_7_score: **-25.949** = (0.948) * -27.378             |\n",
       "| in_motion_arg_types_blocks_constraints: **0.846** = (1.000) * 0.846        | ast_ngram_constraints_n_7_score: **-19.499** = (0.980) * -19.900      |\n",
       "| node_count_constraints_1: **0.722** = (1.000) * 0.722                      | all_variables_used: **-5.012** = (1.000) * -5.012                     |\n",
       "| node_count_scoring_0: **0.319** = (1.000) * 0.319                          | all_preferences_used: **-4.458** = (1.000) * -4.458                   |\n",
       "| length_of_then_modals_3: **0.273** = (1.000) * 0.273                       | ast_ngram_scoring_n_5_score: **-3.721** = (0.960) * -3.876            |\n",
       "| max_number_variables_types_quantified_types_1: **0.255** = (1.000) * 0.255 | all_variables_defined: **-2.057** = (1.000) * -2.057                  |\n",
       "| compositionality_structure_3: **0.194** = (1.000) * 0.194                  | section_doesnt_exist_setup: **-2.032** = (1.000) * -2.032             |\n",
       "| starts_and_ends_once: **0.082** = (1.000) * 0.082                          | node_count_setup_0: **-1.900** = (1.000) * -1.900                     |\n",
       "| compositionality_structure_2: **0.057** = (1.000) * 0.057                  | max_depth_setup_0: **-1.802** = (1.000) * -1.802                      |\n",
       "|                                                                            | mean_depth_setup_0: **-1.799** = (1.000) * -1.799                     |\n",
       "|                                                                            | num_preferences_defined_1: **-1.324** = (1.000) * -1.324              |\n",
       "|                                                                            | max_quantification_count_setup_0: **-1.087** = (1.000) * -1.087       |\n",
       "|                                                                            | mean_depth_scoring_1: **-1.054** = (1.000) * -1.054                   |\n",
       "|                                                                            | predicate_under_modal_once_agent_holds: **-0.974** = (1.000) * -0.974 |\n",
       "|                                                                            | section_doesnt_exist_terminal: **-0.860** = (1.000) * -0.860          |\n",
       "|                                                                            | mean_depth_terminal_0: **-0.834** = (1.000) * -0.834                  |\n",
       "|                                                                            | node_count_terminal_0: **-0.794** = (1.000) * -0.794                  |\n",
       "|                                                                            | compositionality_structure_0: **-0.792** = (1.000) * -0.792           |\n",
       "|                                                                            | max_depth_terminal_0: **-0.782** = (1.000) * -0.782                   |\n",
       "|                                                                            | max_depth_constraints_1: **-0.660** = (1.000) * -0.660                |"
      ],
      "text/plain": [
       "<IPython.core.display.Markdown object>"
      ]
     },
     "metadata": {},
     "output_type": "display_data"
    },
    {
     "data": {
      "text/markdown": [
       "### Game:"
      ],
      "text/plain": [
       "<IPython.core.display.Markdown object>"
      ]
     },
     "metadata": {},
     "output_type": "display_data"
    },
    {
     "data": {
      "text/markdown": [
       "```pddl\n",
       "(define (game evo-423-111-0) (:domain many-objects-room-v1)\n",
       "(:constraints\n",
       "  (and\n",
       "    (preference preference0\n",
       "      (exists (?v0 - pyramid_block)\n",
       "        (then\n",
       "          (once (agent_holds ?v0) )\n",
       "          (hold (and (in_motion ?v0) (not (agent_holds ?v0) ) ) )\n",
       "          (once (not (in_motion ?v0) ) )\n",
       "        )\n",
       "      )\n",
       "    )\n",
       "  )\n",
       ")\n",
       "(:scoring\n",
       "  (count-once-per-objects preference0)\n",
       ")\n",
       ")\n",
       "```"
      ],
      "text/plain": [
       "<IPython.core.display.Markdown object>"
      ]
     },
     "metadata": {},
     "output_type": "display_data"
    },
    {
     "data": {
      "text/markdown": [
       "### Nearest real game #1:"
      ],
      "text/plain": [
       "<IPython.core.display.Markdown object>"
      ]
     },
     "metadata": {},
     "output_type": "display_data"
    },
    {
     "data": {
      "text/markdown": [
       "Edit distance to sample 120, real game nearest neighbor distances [87, 94, 95]):\n"
      ],
      "text/plain": [
       "<IPython.core.display.Markdown object>"
      ]
     },
     "metadata": {},
     "output_type": "display_data"
    },
    {
     "data": {
      "text/markdown": [
       "```pddl\n",
       "(define (game 6172378d423fdf1acdc2d212-82) (:domain many-objects-room-v1)\n",
       "(:constraints\n",
       "  (and\n",
       "    (preference ballThrownToBin\n",
       "      (exists (?b - ball ?h - hexagonal_bin)\n",
       "        (then\n",
       "          (once (agent_holds ?b) )\n",
       "          (hold (and (in_motion ?b) (not (agent_holds ?b) ) ) )\n",
       "          (once (and (not (in_motion ?b) ) (in ?h ?b) ) )\n",
       "        )\n",
       "      )\n",
       "    )\n",
       "  )\n",
       ")\n",
       "(:terminal\n",
       "  (>= (total-time) 300 )\n",
       ")\n",
       "(:scoring\n",
       "  (count ballThrownToBin)\n",
       ")\n",
       ")\n",
       "```"
      ],
      "text/plain": [
       "<IPython.core.display.Markdown object>"
      ]
     },
     "metadata": {},
     "output_type": "display_data"
    },
    {
     "data": {
      "text/markdown": [
       "### Nearest real game #2:"
      ],
      "text/plain": [
       "<IPython.core.display.Markdown object>"
      ]
     },
     "metadata": {},
     "output_type": "display_data"
    },
    {
     "data": {
      "text/markdown": [
       "Edit distance to sample 128, real game nearest neighbor distances [28, 28, 61]):\n"
      ],
      "text/plain": [
       "<IPython.core.display.Markdown object>"
      ]
     },
     "metadata": {},
     "output_type": "display_data"
    },
    {
     "data": {
      "text/markdown": [
       "```pddl\n",
       "(define (game 5ba855d47c0ebe0001272f70-79) (:domain many-objects-room-v1)\n",
       "(:constraints\n",
       "  (and\n",
       "    (preference throwGolfballToBin\n",
       "      (exists (?g - golfball ?h - hexagonal_bin)\n",
       "        (then\n",
       "          (once (agent_holds ?g) )\n",
       "          (hold (and (not (agent_holds ?g) ) (in_motion ?g) ) )\n",
       "          (once (and (not (in_motion ?g) ) (in ?h ?g) ) )\n",
       "        )\n",
       "      )\n",
       "    )\n",
       "  )\n",
       ")\n",
       "(:scoring\n",
       "  (count throwGolfballToBin)\n",
       ")\n",
       ")\n",
       "```"
      ],
      "text/plain": [
       "<IPython.core.display.Markdown object>"
      ]
     },
     "metadata": {},
     "output_type": "display_data"
    },
    {
     "data": {
      "text/markdown": [
       "### Nearest real game #3:"
      ],
      "text/plain": [
       "<IPython.core.display.Markdown object>"
      ]
     },
     "metadata": {},
     "output_type": "display_data"
    },
    {
     "data": {
      "text/markdown": [
       "Edit distance to sample 129, real game nearest neighbor distances [26, 28, 58]):\n"
      ],
      "text/plain": [
       "<IPython.core.display.Markdown object>"
      ]
     },
     "metadata": {},
     "output_type": "display_data"
    },
    {
     "data": {
      "text/markdown": [
       "```pddl\n",
       "(define (game 60a6ba026f8bd75b67b23c97-93) (:domain many-objects-room-v1)\n",
       "(:constraints\n",
       "  (and\n",
       "    (preference throwBallToBin\n",
       "      (exists (?d - dodgeball ?h - hexagonal_bin)\n",
       "        (then\n",
       "          (once (agent_holds ?d) )\n",
       "          (hold (and (not (agent_holds ?d) ) (in_motion ?d) ) )\n",
       "          (once (and (not (in_motion ?d) ) (in ?h ?d) ) )\n",
       "        )\n",
       "      )\n",
       "    )\n",
       "  )\n",
       ")\n",
       "(:scoring\n",
       "  (count throwBallToBin)\n",
       ")\n",
       ")\n",
       "```"
      ],
      "text/plain": [
       "<IPython.core.display.Markdown object>"
      ]
     },
     "metadata": {},
     "output_type": "display_data"
    }
   ],
   "source": [
    "# model = evo_sampler_map_elites_fitness_rank_no_at_end\n",
    "model = evo_sampler_map_elites_ucb_resume\n",
    "index = 4\n",
    "feature_keywords_to_print = ['max_depth', 'mean_depth', 'node_count']\n",
    "n_similar_real_games_to_print = 3 \n",
    "\n",
    "key = model.visualize_top_sample(index, feature_keywords_to_print=feature_keywords_to_print)\n",
    "print_nearest_real_games(model.population[key], n_similar_real_games_to_print)"
   ]
  },
  {
   "cell_type": "code",
   "execution_count": null,
   "metadata": {},
   "outputs": [],
   "source": [
    "# features = dict(section_doesnt_exist_setup=0)\n",
    "features = dict(num_preferences_defined_2=1)\n",
    "\n",
    "key = evo_sampler_map_elites_fitness_rank_no_at_end.visualize_top_sample_with_features(features, 1)\n",
    "if key is not None:\n",
    "    print_nearest_real_games(evo_sampler_map_elites_fitness_rank_no_at_end.population[key], 3)"
   ]
  },
  {
   "cell_type": "code",
   "execution_count": null,
   "metadata": {},
   "outputs": [],
   "source": [
    "for k, g in evo_sampler_map_elites_ucb.population.items():\n",
    "    f = evo_sampler_map_elites_ucb._score_proposal(g)\n",
    "    if not np.isclose(f, evo_sampler_map_elites_ucb.fitness_values[k]):\n",
    "        print(k, f, evo_sampler_map_elites_ucb.fitness_values[k])"
   ]
  },
  {
   "cell_type": "code",
   "execution_count": null,
   "metadata": {},
   "outputs": [],
   "source": [
    "def real_games_to_keys(map_elites_sampler: MAPElitesSampler, real_asts: typing.List[tatsu.ast.AST]) -> typing.List[str]:\n",
    "    return set([map_elites_sampler._features_to_key(map_elites_sampler._proposal_to_features(ast)) for ast in real_asts])\n",
    "    \n",
    "\n",
    "real_game_keys = real_games_to_keys(evo_sampler_map_elites_no_at_end, game_asts)\n",
    "high_quality_sample_keys = set([k for k, v in evo_sampler_map_elites_no_at_end.fitness_values.items() if v > 75])\n",
    "high_quality_no_real_game_keys = high_quality_sample_keys - real_game_keys\n",
    "print(len(real_game_keys), len(high_quality_sample_keys), len(real_game_keys.intersection(high_quality_sample_keys)), len(high_quality_no_real_game_keys))\n"
   ]
  },
  {
   "cell_type": "code",
   "execution_count": null,
   "metadata": {},
   "outputs": [],
   "source": [
    "i = 9\n",
    "high_quality_no_real_game_keys_list = list(high_quality_no_real_game_keys)\n",
    "key = high_quality_no_real_game_keys_list[i]\n",
    "\n",
    "evo_sampler_map_elites_no_at_end._visualize_sample_by_key(key)\n",
    "print_nearest_real_games(evo_sampler_map_elites_no_at_end.population[key], 3)"
   ]
  },
  {
   "cell_type": "code",
   "execution_count": null,
   "metadata": {},
   "outputs": [],
   "source": [
    "def count_set_bits(n):\n",
    " \n",
    "    count = 0\n",
    "    while (n):\n",
    "        n &= (n-1)\n",
    "        count+= 1\n",
    "     \n",
    "    return count\n",
    "\n",
    "\n",
    "key_bits_to_fitness = defaultdict(list) \n",
    "\n",
    "for key, fitness in evo_sampler_map_elites_ucb.fitness_values.items():\n",
    "    key_bits_to_fitness[count_set_bits(key)].append(fitness)\n",
    "\n",
    "\n",
    "rows = []\n",
    "\n",
    "for n in sorted(key_bits_to_fitness):\n",
    "    scores = key_bits_to_fitness[n]\n",
    "    rows.append((n, len(scores), np.mean(scores), np.std(scores)))\n",
    "\n",
    "\n",
    "display(Markdown(tabulate.tabulate(rows, headers=['n', 'count', 'fitness mean', 'fitness std'], tablefmt='github')))"
   ]
  },
  {
   "cell_type": "code",
   "execution_count": null,
   "metadata": {},
   "outputs": [],
   "source": [
    "threshold = 70\n",
    "\n",
    "def count_set_bits(n):\n",
    " \n",
    "    count = 0\n",
    "    while (n):\n",
    "        n &= (n-1)\n",
    "        count+= 1\n",
    "     \n",
    "    return count\n",
    "\n",
    "\n",
    "key_bits_to_fitness = defaultdict(list) \n",
    "\n",
    "for key, fitness in evo_sampler_map_elites_ucb.fitness_values.items():\n",
    "    if fitness > threshold:\n",
    "        key_bits_to_fitness[count_set_bits(key)].append(fitness)\n",
    "\n",
    "\n",
    "rows = []\n",
    "\n",
    "for n in sorted(key_bits_to_fitness):\n",
    "    scores = key_bits_to_fitness[n]\n",
    "    rows.append((n, len(scores), np.mean(scores), np.std(scores)))\n",
    "\n",
    "\n",
    "display(Markdown(tabulate.tabulate(rows, headers=['n', 'count', 'fitness mean', 'fitness std'], tablefmt='github')))"
   ]
  }
 ],
 "metadata": {
  "kernelspec": {
   "display_name": "game-gen",
   "language": "python",
   "name": "python3"
  },
  "language_info": {
   "codemirror_mode": {
    "name": "ipython",
    "version": 3
   },
   "file_extension": ".py",
   "mimetype": "text/x-python",
   "name": "python",
   "nbconvert_exporter": "python",
   "pygments_lexer": "ipython3",
   "version": "3.10.8"
  },
  "orig_nbformat": 4
 },
 "nbformat": 4,
 "nbformat_minor": 2
}
