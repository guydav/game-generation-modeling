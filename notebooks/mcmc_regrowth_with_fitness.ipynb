{
 "cells": [
  {
   "cell_type": "code",
   "execution_count": null,
   "metadata": {},
   "outputs": [],
   "source": [
    "%autoreload 2"
   ]
  },
  {
   "cell_type": "code",
   "execution_count": null,
   "metadata": {},
   "outputs": [],
   "source": [
    "from collections import defaultdict\n",
    "from argparse import Namespace\n",
    "import copy\n",
    "import gzip\n",
    "import itertools\n",
    "import os\n",
    "import pickle\n",
    "import sys\n",
    "import typing\n",
    "\n",
    "import matplotlib\n",
    "import matplotlib.pyplot as plt\n",
    "import numpy as np\n",
    "import pandas as pd\n",
    "import tatsu\n",
    "import tatsu.ast\n",
    "import torch\n",
    "import torch.nn as nn\n",
    "import torch.nn.functional as F\n",
    "from torch.utils.data import TensorDataset, DataLoader\n",
    "import tqdm\n",
    "import sklearn\n",
    "from sklearn.model_selection import GridSearchCV, train_test_split, KFold\n",
    "from sklearn.pipeline import Pipeline\n",
    "\n",
    "sys.path.append(os.path.abspath('..'))\n",
    "sys.path.append(os.path.abspath('../src'))\n",
    "from src import fitness_energy_utils as utils\n",
    "from src.fitness_energy_utils import NON_FEATURE_COLUMNS\n",
    "from src.fitness_features import build_fitness_featurizer, ASTFitnessFeaturizer\n",
    "from src.ast_counter_sampler import *\n",
    "from src.ast_counter_sampler import parse_or_load_counter"
   ]
  },
  {
   "cell_type": "markdown",
   "metadata": {},
   "source": [
    "# Plan of attack\n",
    "* Use the code in `ast_counter_sampler.py` to generate a sample from the MLE\n",
    "* Score it with a fitness function adapted to working with a single example at a time\n",
    "* At each subsequent iteration, regrow the game from a random node, and score the regrowth\n",
    "* Since we have energy scores before and after, we can either accept greedily if $E_{new} < E_{old}$, or accept with probability $\\exp(\\beta (E_{old} - E_{new} ))$"
   ]
  },
  {
   "cell_type": "code",
   "execution_count": null,
   "metadata": {},
   "outputs": [],
   "source": [
    "DEFUALT_RANDOM_SEED = 33\n",
    "DEFAULT_FITNESS_FUNCTION_PATH = '../models/cv_fitness_model_2022_12_24.pkl.gz'\n",
    "\n",
    "\n",
    "def _load_and_wrap_fitness_function(fitness_function_path: str = DEFAULT_FITNESS_FUNCTION_PATH) -> typing.Callable[[torch.Tensor], float]:\n",
    "    with gzip.open(fitness_function_path, 'rb') as f:\n",
    "        cv_fitness_model = pickle.load(f)\n",
    "\n",
    "    def _wrap_fitness(features: torch.Tensor):\n",
    "        return cv_fitness_model.transform(features).item()\n",
    "\n",
    "    return _wrap_fitness\n",
    "\n",
    "\n",
    "DEFAULT_ARGS = Namespace(\n",
    "    grammar_file=os.path.join('..', DEFAULT_GRAMMAR_FILE),\n",
    "    parse_counter=False,\n",
    "    counter_output_path=os.path.join('..', DEFAULT_COUNTER_OUTPUT_PATH),\n",
    "    random_seed=DEFUALT_RANDOM_SEED,\n",
    ")\n",
    "\n",
    "class MCMCRegrowthSampler:\n",
    "    def __init__(self,\n",
    "        args: Namespace,\n",
    "        fitness_function_path: str = DEFAULT_FITNESS_FUNCTION_PATH,\n",
    "        plateau_patience_steps: int = 10,\n",
    "        max_steps: int = 1000,\n",
    "        greedy_acceptance: bool = False,\n",
    "        acceptance_temperature: float = 1.0,\n",
    "    ):\n",
    "        self.grammar = open(args.grammar_file).read()\n",
    "        self.grammar_parser = tatsu.compile(self.grammar)\n",
    "        self.counter = parse_or_load_counter(args, self.grammar_parser)\n",
    "        self.sampler = ASTSampler(self.grammar_parser, self.counter, seed=args.random_seed)\n",
    "        self.regrowth_sampler = RegrowthSampler(self.sampler, args.random_seed)\n",
    "        self.fitness_featurizer = build_fitness_featurizer(args)\n",
    "        self.rng = np.random.default_rng(args.random_seed)\n",
    "        self.fitness_function = _load_and_wrap_fitness_function(fitness_function_path)\n",
    "        self.plateau_patience_steps = plateau_patience_steps\n",
    "        self.max_steps = max_steps\n",
    "        self.greedy_acceptance = greedy_acceptance\n",
    "        self.acceptance_temperature = acceptance_temperature\n",
    "\n",
    "        self.sample_index = 0\n",
    "        self.samples = []\n",
    "\n",
    "    def multiple_samples(self, n_samples: int, verbose: int = 0, should_tqdm: bool = False):\n",
    "        sample_iter = tqdm.notebook.trange(n_samples) if should_tqdm else range(n_samples)\n",
    "        for _ in sample_iter:\n",
    "            self.sample(verbose)\n",
    "\n",
    "    def sample(self, verbose: int = 0):\n",
    "        current_proposal = None\n",
    "        while current_proposal is None:\n",
    "            try:\n",
    "                current_proposal = self.sampler.sample(global_context=dict(original_game_id=f'mcmc-{self.sample_index}'))\n",
    "            except RecursionError:\n",
    "                if verbose >= 2: print('Recursion error, skipping sample')\n",
    "            except SamplingException:\n",
    "                if verbose >= 2: print('Sampling exception, skipping sample')\n",
    "            \n",
    "        current_proposal_features, current_proposal_fitness = self._score_proposal(current_proposal)  # type: ignore\n",
    "\n",
    "        last_accepted_step = 0\n",
    "        for step in range(self.max_steps):\n",
    "            current_proposal, current_proposal_features, current_proposal_fitness, accepted = self.mcmc_regrowth_step(\n",
    "                current_proposal, current_proposal_features, current_proposal_fitness, step, verbose  # type: ignore\n",
    "            )\n",
    "\n",
    "            if accepted:\n",
    "                last_accepted_step = step\n",
    "                if verbose:\n",
    "                    print(f'Accepted step {step} with fitness {current_proposal_fitness}')\n",
    "\n",
    "            else:\n",
    "                if step - last_accepted_step > self.plateau_patience_steps:\n",
    "                    if verbose:\n",
    "                        print(f'Plateaued at step {step} with fitness {current_proposal_fitness}')\n",
    "                    break\n",
    "\n",
    "        self.samples.append((current_proposal, current_proposal_features, current_proposal_fitness))\n",
    "        self.sample_index += 1\n",
    "\n",
    "    def mcmc_regrowth_step(self,\n",
    "        current_proposal: tatsu.ast.AST, \n",
    "        current_proposal_features: typing.Dict[str, float],\n",
    "        current_proposal_fitness: float,\n",
    "        step_index: int, verbose: int,\n",
    "        ):\n",
    "\n",
    "        if self.regrowth_sampler.source_ast != current_proposal:\n",
    "            self.regrowth_sampler.set_source_ast(current_proposal)\n",
    "\n",
    "        new_proposal = None\n",
    "        sample_generated = False\n",
    "\n",
    "        while not sample_generated:\n",
    "            try:\n",
    "                new_proposal = self.regrowth_sampler.sample(step_index, update_game_id=False)\n",
    "                # _test_ast_sample(ast, args, text_samples, grammar_parser)\n",
    "                if ast_printer.ast_to_string(new_proposal) == ast_printer.ast_to_string(current_proposal):  # type: ignore\n",
    "                    if verbose >= 2: print('Regrowth generated identical games, repeating')\n",
    "                else:\n",
    "                    sample_generated = True\n",
    "\n",
    "            except RecursionError:\n",
    "                if verbose >= 2: print('Recursion error, skipping sample')\n",
    "\n",
    "            except SamplingException:\n",
    "                if verbose >= 2: print('Sampling exception, skipping sample')\n",
    "\n",
    "        new_proposal_features, new_proposal_fitness = self._score_proposal(new_proposal)  # type: ignore\n",
    "        \n",
    "        if self.greedy_acceptance:\n",
    "            accept = new_proposal_fitness < current_proposal_fitness\n",
    "        else:\n",
    "            acceptance_probability = np.exp(-self.acceptance_temperature * (new_proposal_fitness - current_proposal_fitness))\n",
    "            accept = self.rng.uniform() < acceptance_probability\n",
    "\n",
    "        if accept:\n",
    "            return new_proposal, new_proposal_features, new_proposal_fitness, True\n",
    "        else:\n",
    "            return current_proposal, current_proposal_features, current_proposal_fitness, False\n",
    "\n",
    "    def _score_proposal(self, proposal: tatsu.ast.AST):\n",
    "        proposal_features = self.fitness_featurizer.parse(proposal, 'mcmc', True)  # type: ignore\n",
    "        proposal_tensor = torch.tensor([v for k, v in proposal_features.items() if k not in NON_FEATURE_COLUMNS], \n",
    "            dtype=torch.float32)  # type: ignore\n",
    "        proposal_fitness = self.fitness_function(proposal_tensor)\n",
    "        return proposal_features, proposal_fitness\n",
    "\n",
    "\n"
   ]
  },
  {
   "cell_type": "code",
   "execution_count": null,
   "metadata": {},
   "outputs": [],
   "source": [
    "mcmc = MCMCRegrowthSampler(DEFAULT_ARGS, DEFAULT_FITNESS_FUNCTION_PATH, greedy_acceptance=False, \n",
    "    plateau_patience_steps=50, acceptance_temperature=10.0, max_steps=3000)\n",
    "mcmc.multiple_samples(10, verbose=0, should_tqdm=True)\n",
    "print([x[2] for x in mcmc.samples])"
   ]
  },
  {
   "cell_type": "code",
   "execution_count": null,
   "metadata": {},
   "outputs": [],
   "source": [
    "print(ast_printer.ast_to_string(mcmc.samples[1][0], '\\n'))"
   ]
  },
  {
   "cell_type": "code",
   "execution_count": null,
   "metadata": {},
   "outputs": [],
   "source": [
    "fitness_featurizer = build_fitness_featurizer(DEFAULT_ARGS)\n",
    "features = fitness_featurizer.parse(mcmc.samples[1][0], 'mcmc', True)\n",
    "{k: v for k, v in features.items() if 'variables' in k}\n",
    "# features"
   ]
  },
  {
   "cell_type": "code",
   "execution_count": null,
   "metadata": {},
   "outputs": [],
   "source": [
    "with open('/Users/guydavidson/Downloads/samples.pkl', 'rb') as f:\n",
    "    samples = pickle.load(f)\n",
    "\n",
    "print([x[2] for x in samples])"
   ]
  },
  {
   "cell_type": "code",
   "execution_count": null,
   "metadata": {},
   "outputs": [],
   "source": [
    "print(ast_printer.ast_to_string(samples[8][0], '\\n'))"
   ]
  },
  {
   "cell_type": "code",
   "execution_count": null,
   "metadata": {},
   "outputs": [],
   "source": [
    "fitness_featurizer = build_fitness_featurizer(DEFAULT_ARGS)\n",
    "features = fitness_featurizer.parse(samples[7][0], 'mcmc', True)\n",
    "{k: v for k, v in features.items() if 'correctly' in k or 'forall' in k or 'no' in k}"
   ]
  },
  {
   "cell_type": "code",
   "execution_count": null,
   "metadata": {},
   "outputs": [],
   "source": [
    "from tatsu.infos import ParseInfo\n",
    "ParseInfo?"
   ]
  },
  {
   "cell_type": "code",
   "execution_count": null,
   "metadata": {},
   "outputs": [],
   "source": [
    "with gzip.open(DEFAULT_FITNESS_FUNCTION_PATH, 'rb') as f:\n",
    "    cv_fitness_model = pickle.load(f)"
   ]
  },
  {
   "cell_type": "code",
   "execution_count": null,
   "metadata": {},
   "outputs": [],
   "source": [
    "weights = cv_fitness_model.named_steps['fitness'].model.fc1.weight.data.detach().numpy().squeeze()\n",
    "bias = cv_fitness_model.named_steps['fitness'].model.fc1.bias.data.detach().numpy().squeeze()\n",
    "print(weights.mean(), bias)"
   ]
  },
  {
   "cell_type": "code",
   "execution_count": null,
   "metadata": {},
   "outputs": [],
   "source": [
    "s = "
   ]
  },
  {
   "cell_type": "code",
   "execution_count": null,
   "metadata": {},
   "outputs": [],
   "source": [
    "plt.hist(weights, bins=100)\n",
    "plt.title('Fitness Model Weights')\n",
    "plt.xlabel('Weight magnitude')\n",
    "plt.ylabel('Count')"
   ]
  }
 ],
 "metadata": {
  "kernelspec": {
   "display_name": "Python 3.10.8 ('game-gen')",
   "language": "python",
   "name": "python3"
  },
  "language_info": {
   "codemirror_mode": {
    "name": "ipython",
    "version": 3
   },
   "file_extension": ".py",
   "mimetype": "text/x-python",
   "name": "python",
   "nbconvert_exporter": "python",
   "pygments_lexer": "ipython3",
   "version": "3.10.8"
  },
  "orig_nbformat": 4,
  "vscode": {
   "interpreter": {
    "hash": "d207b42274502bc006609ff0f580407f35ab20e7889cda7ddd92e73aeb06c569"
   }
  }
 },
 "nbformat": 4,
 "nbformat_minor": 2
}
