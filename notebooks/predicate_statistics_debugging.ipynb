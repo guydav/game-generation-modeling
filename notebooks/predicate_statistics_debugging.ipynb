{
 "cells": [
  {
   "cell_type": "code",
   "execution_count": 1,
   "metadata": {},
   "outputs": [],
   "source": [
    "%autoreload 2"
   ]
  },
  {
   "cell_type": "code",
   "execution_count": 45,
   "metadata": {},
   "outputs": [],
   "source": [
    "from argparse import Namespace\n",
    "from collections import defaultdict\n",
    "import copy\n",
    "from datetime import datetime\n",
    "import difflib\n",
    "import gzip\n",
    "import itertools\n",
    "import os\n",
    "import pickle\n",
    "import sys\n",
    "import typing\n",
    "\n",
    "from IPython.display import display, Markdown, HTML  # type: ignore\n",
    "import matplotlib\n",
    "import matplotlib.pyplot as plt\n",
    "import numpy as np\n",
    "import pandas as pd\n",
    "import polars as pl\n",
    "import tatsu\n",
    "import tqdm.notebook as tqdmn\n",
    "\n",
    "\n",
    "sys.path.append(os.path.abspath('..'))\n",
    "sys.path.append(os.path.abspath('../reward-machine'))\n",
    "\n",
    "import compile_predicate_statistics\n",
    "import compile_predicate_statistics_split_args"
   ]
  },
  {
   "cell_type": "code",
   "execution_count": 41,
   "metadata": {},
   "outputs": [
    {
     "name": "stdout",
     "output_type": "stream",
     "text": [
      "Loaded data with shape (43521, 6) from /Users/guydavidson/projects/game-generation-modeling/reward-machine/caches/predicate_statistics.pkl\n",
      "Loaded data with shape (43521, 8) from /Users/guydavidson/projects/game-generation-modeling/reward-machine/caches/predicate_statistics_split_args.pkl\n"
     ]
    }
   ],
   "source": [
    "cache_dir = compile_predicate_statistics.get_project_dir() + '/reward-machine/caches'\n",
    "\n",
    "regular_df = pd.read_pickle(os.path.join(cache_dir, 'predicate_statistics.pkl'))\n",
    "split_args_df = pd.read_pickle(os.path.join(cache_dir, 'predicate_statistics_split_args.pkl'))\n",
    "\n",
    "stats = compile_predicate_statistics.CommonSensePredicateStatistics(cache_dir)\n",
    "split_args_stats = compile_predicate_statistics_split_args.CommonSensePredicateStatisticsSplitArgs(cache_dir)"
   ]
  },
  {
   "cell_type": "markdown",
   "metadata": {},
   "source": [
    "Debugging `(and (not (in_motion ?b)) (in ?h ?b)))`"
   ]
  },
  {
   "cell_type": "code",
   "execution_count": 26,
   "metadata": {},
   "outputs": [
    {
     "data": {
      "text/html": [
       "<div>\n",
       "<style scoped>\n",
       "    .dataframe tbody tr th:only-of-type {\n",
       "        vertical-align: middle;\n",
       "    }\n",
       "\n",
       "    .dataframe tbody tr th {\n",
       "        vertical-align: top;\n",
       "    }\n",
       "\n",
       "    .dataframe thead th {\n",
       "        text-align: right;\n",
       "    }\n",
       "</style>\n",
       "<table border=\"1\" class=\"dataframe\">\n",
       "  <thead>\n",
       "    <tr style=\"text-align: right;\">\n",
       "      <th></th>\n",
       "      <th>predicate</th>\n",
       "      <th>arg_ids</th>\n",
       "      <th>arg_types</th>\n",
       "      <th>trace_id</th>\n",
       "      <th>domain</th>\n",
       "      <th>intervals</th>\n",
       "    </tr>\n",
       "  </thead>\n",
       "  <tbody>\n",
       "    <tr>\n",
       "      <th>21566</th>\n",
       "      <td>in</td>\n",
       "      <td>(GarbageCan|+00.75|-00.03|-02.74, Dodgeball|+0...</td>\n",
       "      <td>(garbagecan, dodgeball)</td>\n",
       "      <td>7r4cgxJHzLJooFaMG1Rd-gameplay-attempt-1-rereco...</td>\n",
       "      <td>many</td>\n",
       "      <td>[[3304, 3640]]</td>\n",
       "    </tr>\n",
       "  </tbody>\n",
       "</table>\n",
       "</div>"
      ],
      "text/plain": [
       "      predicate                                            arg_ids  \\\n",
       "21566        in  (GarbageCan|+00.75|-00.03|-02.74, Dodgeball|+0...   \n",
       "\n",
       "                     arg_types  \\\n",
       "21566  (garbagecan, dodgeball)   \n",
       "\n",
       "                                                trace_id domain  \\\n",
       "21566  7r4cgxJHzLJooFaMG1Rd-gameplay-attempt-1-rereco...   many   \n",
       "\n",
       "            intervals  \n",
       "21566  [[3304, 3640]]  "
      ]
     },
     "execution_count": 26,
     "metadata": {},
     "output_type": "execute_result"
    }
   ],
   "source": [
    "trace_id = '7r4cgxJHzLJooFaMG1Rd-gameplay-attempt-1-rerecorded'\n",
    "ball_id = 'Dodgeball|+00.19|+01.13|-02.80'\n",
    "bin_id = 'GarbageCan|+00.75|-00.03|-02.74'\n",
    "arg_ids = (bin_id, ball_id)\n",
    "mapping = {'?b': ['ball'], '?h': ['hexagonal_bin']}\n",
    "arg_types = ('garbagecan' ,'dodgeball')\n",
    "regular_df[(regular_df.trace_id == trace_id) & (regular_df.predicate == 'in') & (regular_df.arg_ids == arg_ids)]"
   ]
  },
  {
   "cell_type": "code",
   "execution_count": 78,
   "metadata": {},
   "outputs": [
    {
     "data": {
      "text/html": [
       "<div>\n",
       "<style scoped>\n",
       "    .dataframe tbody tr th:only-of-type {\n",
       "        vertical-align: middle;\n",
       "    }\n",
       "\n",
       "    .dataframe tbody tr th {\n",
       "        vertical-align: top;\n",
       "    }\n",
       "\n",
       "    .dataframe thead th {\n",
       "        text-align: right;\n",
       "    }\n",
       "</style>\n",
       "<table border=\"1\" class=\"dataframe\">\n",
       "  <thead>\n",
       "    <tr style=\"text-align: right;\">\n",
       "      <th></th>\n",
       "      <th>predicate</th>\n",
       "      <th>arg_ids</th>\n",
       "      <th>arg_types</th>\n",
       "      <th>trace_id</th>\n",
       "      <th>domain</th>\n",
       "      <th>intervals</th>\n",
       "    </tr>\n",
       "  </thead>\n",
       "  <tbody>\n",
       "    <tr>\n",
       "      <th>3869</th>\n",
       "      <td>adjacent</td>\n",
       "      <td>(Desk|+03.14|00.00|-01.41, CubeBlock|-00.02|+0...</td>\n",
       "      <td>(desk, cubeblock)</td>\n",
       "      <td>6ZjBeRCvHxG05ORmhInj-gameplay-attempt-1-rereco...</td>\n",
       "      <td>few</td>\n",
       "      <td>[[1597, 2479]]</td>\n",
       "    </tr>\n",
       "    <tr>\n",
       "      <th>3878</th>\n",
       "      <td>adjacent</td>\n",
       "      <td>(Desk|+03.14|00.00|-01.41, CubeBlock|-00.02|+0...</td>\n",
       "      <td>(desk, cubeblock)</td>\n",
       "      <td>6ZjBeRCvHxG05ORmhInj-gameplay-attempt-1-rereco...</td>\n",
       "      <td>few</td>\n",
       "      <td>[[1655, 1658]]</td>\n",
       "    </tr>\n",
       "    <tr>\n",
       "      <th>3884</th>\n",
       "      <td>adjacent</td>\n",
       "      <td>(Desk|+03.14|00.00|-01.41, CubeBlock|-00.24|+0...</td>\n",
       "      <td>(desk, cubeblock)</td>\n",
       "      <td>6ZjBeRCvHxG05ORmhInj-gameplay-attempt-1-rereco...</td>\n",
       "      <td>few</td>\n",
       "      <td>[[1711, 2479]]</td>\n",
       "    </tr>\n",
       "    <tr>\n",
       "      <th>3904</th>\n",
       "      <td>adjacent</td>\n",
       "      <td>(Desk|+03.14|00.00|-01.41, CubeBlock|+00.20|+0...</td>\n",
       "      <td>(desk, cubeblock)</td>\n",
       "      <td>6ZjBeRCvHxG05ORmhInj-gameplay-attempt-1-rereco...</td>\n",
       "      <td>few</td>\n",
       "      <td>[[1766, 2479]]</td>\n",
       "    </tr>\n",
       "    <tr>\n",
       "      <th>3924</th>\n",
       "      <td>adjacent</td>\n",
       "      <td>(Desk|+03.14|00.00|-01.41, CubeBlock|+00.20|+0...</td>\n",
       "      <td>(desk, cubeblock)</td>\n",
       "      <td>6ZjBeRCvHxG05ORmhInj-gameplay-attempt-1-rereco...</td>\n",
       "      <td>few</td>\n",
       "      <td>[[1844, 2479]]</td>\n",
       "    </tr>\n",
       "    <tr>\n",
       "      <th>9252</th>\n",
       "      <td>adjacent</td>\n",
       "      <td>(Desk|+03.14|00.00|-01.41, TallRectBlock|-02.9...</td>\n",
       "      <td>(desk, tallrectblock)</td>\n",
       "      <td>IhOkh1l3TBY9JJVubzHx-gameplay-attempt-1-rereco...</td>\n",
       "      <td>many</td>\n",
       "      <td>[[1348, 1377]]</td>\n",
       "    </tr>\n",
       "    <tr>\n",
       "      <th>10436</th>\n",
       "      <td>adjacent</td>\n",
       "      <td>(Desk|+03.14|00.00|-01.41, CubeBlock|-00.24|+0...</td>\n",
       "      <td>(desk, cubeblock)</td>\n",
       "      <td>vfh1MTEQorWXKy8jOP1x-gameplay-attempt-2-rereco...</td>\n",
       "      <td>few</td>\n",
       "      <td>[[1117, 1121]]</td>\n",
       "    </tr>\n",
       "    <tr>\n",
       "      <th>18300</th>\n",
       "      <td>adjacent</td>\n",
       "      <td>(Desk|+03.14|00.00|-01.41, CubeBlock|-02.97|+0...</td>\n",
       "      <td>(desk, cubeblock)</td>\n",
       "      <td>IvoZWi01FO2uiNpNHyci-preCreateGame-rerecorded</td>\n",
       "      <td>many</td>\n",
       "      <td>[[1351, 1923]]</td>\n",
       "    </tr>\n",
       "    <tr>\n",
       "      <th>18306</th>\n",
       "      <td>adjacent</td>\n",
       "      <td>(Desk|+03.14|00.00|-01.41, LongCylinderBlock|-...</td>\n",
       "      <td>(desk, longcylinderblock)</td>\n",
       "      <td>IvoZWi01FO2uiNpNHyci-preCreateGame-rerecorded</td>\n",
       "      <td>many</td>\n",
       "      <td>[[1418, 1442]]</td>\n",
       "    </tr>\n",
       "    <tr>\n",
       "      <th>39066</th>\n",
       "      <td>adjacent</td>\n",
       "      <td>(Desk|+03.14|00.00|-01.41, CubeBlock|-00.02|+0...</td>\n",
       "      <td>(desk, cubeblock)</td>\n",
       "      <td>NJUY0YT1Pq6dZXsmw0wE-createGame-rerecorded</td>\n",
       "      <td>few</td>\n",
       "      <td>[[1821, 1841], [1842, 1853], [1879, 4464]]</td>\n",
       "    </tr>\n",
       "    <tr>\n",
       "      <th>39723</th>\n",
       "      <td>adjacent</td>\n",
       "      <td>(Desk|+03.14|00.00|-01.41, CubeBlock|-00.02|+0...</td>\n",
       "      <td>(desk, cubeblock)</td>\n",
       "      <td>6ZjBeRCvHxG05ORmhInj-preCreateGame-rerecorded</td>\n",
       "      <td>few</td>\n",
       "      <td>[[2572, 2573], [2575, 2577], [2581, 2582], [26...</td>\n",
       "    </tr>\n",
       "    <tr>\n",
       "      <th>39747</th>\n",
       "      <td>adjacent</td>\n",
       "      <td>(Desk|+03.14|00.00|-01.41, CubeBlock|+00.20|+0...</td>\n",
       "      <td>(desk, cubeblock)</td>\n",
       "      <td>6ZjBeRCvHxG05ORmhInj-preCreateGame-rerecorded</td>\n",
       "      <td>few</td>\n",
       "      <td>[[2626, 2631]]</td>\n",
       "    </tr>\n",
       "  </tbody>\n",
       "</table>\n",
       "</div>"
      ],
      "text/plain": [
       "      predicate                                            arg_ids  \\\n",
       "3869   adjacent  (Desk|+03.14|00.00|-01.41, CubeBlock|-00.02|+0...   \n",
       "3878   adjacent  (Desk|+03.14|00.00|-01.41, CubeBlock|-00.02|+0...   \n",
       "3884   adjacent  (Desk|+03.14|00.00|-01.41, CubeBlock|-00.24|+0...   \n",
       "3904   adjacent  (Desk|+03.14|00.00|-01.41, CubeBlock|+00.20|+0...   \n",
       "3924   adjacent  (Desk|+03.14|00.00|-01.41, CubeBlock|+00.20|+0...   \n",
       "9252   adjacent  (Desk|+03.14|00.00|-01.41, TallRectBlock|-02.9...   \n",
       "10436  adjacent  (Desk|+03.14|00.00|-01.41, CubeBlock|-00.24|+0...   \n",
       "18300  adjacent  (Desk|+03.14|00.00|-01.41, CubeBlock|-02.97|+0...   \n",
       "18306  adjacent  (Desk|+03.14|00.00|-01.41, LongCylinderBlock|-...   \n",
       "39066  adjacent  (Desk|+03.14|00.00|-01.41, CubeBlock|-00.02|+0...   \n",
       "39723  adjacent  (Desk|+03.14|00.00|-01.41, CubeBlock|-00.02|+0...   \n",
       "39747  adjacent  (Desk|+03.14|00.00|-01.41, CubeBlock|+00.20|+0...   \n",
       "\n",
       "                       arg_types  \\\n",
       "3869           (desk, cubeblock)   \n",
       "3878           (desk, cubeblock)   \n",
       "3884           (desk, cubeblock)   \n",
       "3904           (desk, cubeblock)   \n",
       "3924           (desk, cubeblock)   \n",
       "9252       (desk, tallrectblock)   \n",
       "10436          (desk, cubeblock)   \n",
       "18300          (desk, cubeblock)   \n",
       "18306  (desk, longcylinderblock)   \n",
       "39066          (desk, cubeblock)   \n",
       "39723          (desk, cubeblock)   \n",
       "39747          (desk, cubeblock)   \n",
       "\n",
       "                                                trace_id domain  \\\n",
       "3869   6ZjBeRCvHxG05ORmhInj-gameplay-attempt-1-rereco...    few   \n",
       "3878   6ZjBeRCvHxG05ORmhInj-gameplay-attempt-1-rereco...    few   \n",
       "3884   6ZjBeRCvHxG05ORmhInj-gameplay-attempt-1-rereco...    few   \n",
       "3904   6ZjBeRCvHxG05ORmhInj-gameplay-attempt-1-rereco...    few   \n",
       "3924   6ZjBeRCvHxG05ORmhInj-gameplay-attempt-1-rereco...    few   \n",
       "9252   IhOkh1l3TBY9JJVubzHx-gameplay-attempt-1-rereco...   many   \n",
       "10436  vfh1MTEQorWXKy8jOP1x-gameplay-attempt-2-rereco...    few   \n",
       "18300      IvoZWi01FO2uiNpNHyci-preCreateGame-rerecorded   many   \n",
       "18306      IvoZWi01FO2uiNpNHyci-preCreateGame-rerecorded   many   \n",
       "39066         NJUY0YT1Pq6dZXsmw0wE-createGame-rerecorded    few   \n",
       "39723      6ZjBeRCvHxG05ORmhInj-preCreateGame-rerecorded    few   \n",
       "39747      6ZjBeRCvHxG05ORmhInj-preCreateGame-rerecorded    few   \n",
       "\n",
       "                                               intervals  \n",
       "3869                                      [[1597, 2479]]  \n",
       "3878                                      [[1655, 1658]]  \n",
       "3884                                      [[1711, 2479]]  \n",
       "3904                                      [[1766, 2479]]  \n",
       "3924                                      [[1844, 2479]]  \n",
       "9252                                      [[1348, 1377]]  \n",
       "10436                                     [[1117, 1121]]  \n",
       "18300                                     [[1351, 1923]]  \n",
       "18306                                     [[1418, 1442]]  \n",
       "39066         [[1821, 1841], [1842, 1853], [1879, 4464]]  \n",
       "39723  [[2572, 2573], [2575, 2577], [2581, 2582], [26...  \n",
       "39747                                     [[2626, 2631]]  "
      ]
     },
     "execution_count": 78,
     "metadata": {},
     "output_type": "execute_result"
    }
   ],
   "source": [
    "regular_df[regular_df.arg_types.apply(lambda x: len(x) == 2 and x[0] == 'desk' and 'block' in x[1]) & (regular_df.predicate == 'adjacent')]"
   ]
  },
  {
   "cell_type": "code",
   "execution_count": 79,
   "metadata": {},
   "outputs": [
    {
     "data": {
      "text/plain": [
       "['predicate',\n",
       " 'arg_1_id',\n",
       " 'arg_1_type',\n",
       " 'arg_2_id',\n",
       " 'arg_2_type',\n",
       " 'trace_id',\n",
       " 'domain',\n",
       " 'intervals']"
      ]
     },
     "execution_count": 79,
     "metadata": {},
     "output_type": "execute_result"
    }
   ],
   "source": [
    "split_args_stats.data.columns"
   ]
  },
  {
   "cell_type": "code",
   "execution_count": 171,
   "metadata": {},
   "outputs": [
    {
     "data": {
      "text/plain": [
       "['?a', '?b']"
      ]
     },
     "execution_count": 171,
     "metadata": {},
     "output_type": "execute_result"
    }
   ],
   "source": [
    "\n",
    "names"
   ]
  },
  {
   "cell_type": "code",
   "execution_count": 178,
   "metadata": {},
   "outputs": [
    {
     "name": "stdout",
     "output_type": "stream",
     "text": [
      "(3, 3)\n"
     ]
    },
    {
     "data": {
      "text/html": [
       "<div><style>\n",
       ".dataframe > thead > tr > th,\n",
       ".dataframe > tbody > tr > td {\n",
       "  text-align: right;\n",
       "}\n",
       "</style>\n",
       "<small>shape: (311_022, 4)</small><table border=\"1\" class=\"dataframe\"><thead><tr><th>domain</th><th>trace_id</th><th>?a</th><th>intervals</th></tr><tr><td>str</td><td>str</td><td>str</td><td>list[list[i64]]</td></tr></thead><tbody><tr><td>&quot;many&quot;</td><td>&quot;1HOTuIZpRqk2u1…</td><td>&quot;Beachball|+02.…</td><td>[]</td></tr><tr><td>&quot;many&quot;</td><td>&quot;1HOTuIZpRqk2u1…</td><td>&quot;Dodgeball|+00.…</td><td>[]</td></tr><tr><td>&quot;many&quot;</td><td>&quot;1HOTuIZpRqk2u1…</td><td>&quot;Dodgeball|+00.…</td><td>[]</td></tr><tr><td>&quot;many&quot;</td><td>&quot;1HOTuIZpRqk2u1…</td><td>&quot;Dodgeball|+00.…</td><td>[]</td></tr><tr><td>&quot;many&quot;</td><td>&quot;1HOTuIZpRqk2u1…</td><td>&quot;Golfball|+00.9…</td><td>[]</td></tr><tr><td>&quot;many&quot;</td><td>&quot;1HOTuIZpRqk2u1…</td><td>&quot;Golfball|+01.0…</td><td>[]</td></tr><tr><td>&quot;many&quot;</td><td>&quot;1HOTuIZpRqk2u1…</td><td>&quot;Golfball|+01.1…</td><td>[]</td></tr><tr><td>&quot;many&quot;</td><td>&quot;1HOTuIZpRqk2u1…</td><td>&quot;Dodgeball|+00.…</td><td>[]</td></tr><tr><td>&quot;many&quot;</td><td>&quot;1HOTuIZpRqk2u1…</td><td>&quot;Dodgeball|+00.…</td><td>[]</td></tr><tr><td>&quot;many&quot;</td><td>&quot;1HOTuIZpRqk2u1…</td><td>&quot;Dodgeball|+00.…</td><td>[]</td></tr><tr><td>&quot;many&quot;</td><td>&quot;1HOTuIZpRqk2u1…</td><td>&quot;Beachball|+02.…</td><td>[]</td></tr><tr><td>&quot;many&quot;</td><td>&quot;1HOTuIZpRqk2u1…</td><td>&quot;Dodgeball|+00.…</td><td>[]</td></tr><tr><td>&hellip;</td><td>&hellip;</td><td>&hellip;</td><td>&hellip;</td></tr><tr><td>&quot;many&quot;</td><td>&quot;7r4cgxJHzLJooF…</td><td>&quot;Dodgeball|+00.…</td><td>[]</td></tr><tr><td>&quot;many&quot;</td><td>&quot;7r4cgxJHzLJooF…</td><td>&quot;Dodgeball|+00.…</td><td>[]</td></tr><tr><td>&quot;many&quot;</td><td>&quot;7r4cgxJHzLJooF…</td><td>&quot;Beachball|+02.…</td><td>[]</td></tr><tr><td>&quot;many&quot;</td><td>&quot;7r4cgxJHzLJooF…</td><td>&quot;Dodgeball|+00.…</td><td>[]</td></tr><tr><td>&quot;many&quot;</td><td>&quot;7r4cgxJHzLJooF…</td><td>&quot;Dodgeball|+00.…</td><td>[]</td></tr><tr><td>&quot;many&quot;</td><td>&quot;7r4cgxJHzLJooF…</td><td>&quot;Dodgeball|+00.…</td><td>[]</td></tr><tr><td>&quot;many&quot;</td><td>&quot;7r4cgxJHzLJooF…</td><td>&quot;Golfball|+00.9…</td><td>[]</td></tr><tr><td>&quot;many&quot;</td><td>&quot;7r4cgxJHzLJooF…</td><td>&quot;Golfball|+01.0…</td><td>[]</td></tr><tr><td>&quot;many&quot;</td><td>&quot;7r4cgxJHzLJooF…</td><td>&quot;Golfball|+01.1…</td><td>[]</td></tr><tr><td>&quot;many&quot;</td><td>&quot;7r4cgxJHzLJooF…</td><td>&quot;Dodgeball|+00.…</td><td>[]</td></tr><tr><td>&quot;many&quot;</td><td>&quot;7r4cgxJHzLJooF…</td><td>&quot;Dodgeball|+00.…</td><td>[]</td></tr><tr><td>&quot;many&quot;</td><td>&quot;7r4cgxJHzLJooF…</td><td>&quot;Dodgeball|+00.…</td><td>[]</td></tr></tbody></table></div>"
      ],
      "text/plain": [
       "shape: (311_022, 4)\n",
       "┌────────┬───────────────────────────────────┬────────────────────────────────┬─────────────────┐\n",
       "│ domain ┆ trace_id                          ┆ ?a                             ┆ intervals       │\n",
       "│ ---    ┆ ---                               ┆ ---                            ┆ ---             │\n",
       "│ str    ┆ str                               ┆ str                            ┆ list[list[i64]] │\n",
       "╞════════╪═══════════════════════════════════╪════════════════════════════════╪═════════════════╡\n",
       "│ many   ┆ 1HOTuIZpRqk2u1nZI1v1-gameplay-at… ┆ Beachball|+02.29|+00.19|-02.88 ┆ []              │\n",
       "│ many   ┆ 1HOTuIZpRqk2u1nZI1v1-gameplay-at… ┆ Dodgeball|+00.19|+01.13|-02.80 ┆ []              │\n",
       "│ many   ┆ 1HOTuIZpRqk2u1nZI1v1-gameplay-at… ┆ Dodgeball|+00.44|+01.13|-02.80 ┆ []              │\n",
       "│ many   ┆ 1HOTuIZpRqk2u1nZI1v1-gameplay-at… ┆ Dodgeball|+00.70|+01.11|-02.80 ┆ []              │\n",
       "│ …      ┆ …                                 ┆ …                              ┆ …               │\n",
       "│ many   ┆ 7r4cgxJHzLJooFaMG1Rd-preCreateGa… ┆ Golfball|+01.14|+01.04|-02.70  ┆ []              │\n",
       "│ many   ┆ 7r4cgxJHzLJooFaMG1Rd-preCreateGa… ┆ Dodgeball|+00.19|+01.13|-02.80 ┆ []              │\n",
       "│ many   ┆ 7r4cgxJHzLJooFaMG1Rd-preCreateGa… ┆ Dodgeball|+00.44|+01.13|-02.80 ┆ []              │\n",
       "│ many   ┆ 7r4cgxJHzLJooFaMG1Rd-preCreateGa… ┆ Dodgeball|+00.70|+01.11|-02.80 ┆ []              │\n",
       "└────────┴───────────────────────────────────┴────────────────────────────────┴─────────────────┘"
      ]
     },
     "execution_count": 178,
     "metadata": {},
     "output_type": "execute_result"
    }
   ],
   "source": [
    "domains = [val for row in split_args_stats.data.select('domain').unique().rows() for val in row]\n",
    "variable_types = (('ball', 'dodgeball'),)  #  ('chair', 'bed'))\n",
    "field_names = [f'?{chr(97 + i)}' for i in range(len(variable_types))]\n",
    "possible_arg_assignments = [split_args_stats._object_assignments(domain, variable_types) for domain in domains]\n",
    "\n",
    "assignments_df = pl.DataFrame(dict(domain=domains, assignments=possible_arg_assignments, intervals=[[]] * len(domains)),\n",
    "                              schema=dict(domain=None, assignments=None, intervals=pl.List(pl.List(pl.Int64))))\n",
    "print(assignments_df.shape)\n",
    "\n",
    "tdf = split_args_stats.data.select('domain', 'trace_id').join(assignments_df, on='domain')\n",
    "tdf.explode('assignments').select('domain', 'trace_id', pl.col(\"assignments\").list.to_struct(fields=field_names), 'intervals').unnest('assignments')"
   ]
  },
  {
   "cell_type": "code",
   "execution_count": 159,
   "metadata": {},
   "outputs": [
    {
     "data": {
      "text/html": [
       "<div><style>\n",
       ".dataframe > thead > tr > th,\n",
       ".dataframe > tbody > tr > td {\n",
       "  text-align: right;\n",
       "}\n",
       "</style>\n",
       "<small>shape: (12, 4)</small><table border=\"1\" class=\"dataframe\"><thead><tr><th>domain</th><th>trace_id</th><th>?a</th><th>?b</th></tr><tr><td>str</td><td>str</td><td>str</td><td>str</td></tr></thead><tbody><tr><td>&quot;few&quot;</td><td>&quot;foo&quot;</td><td>&quot;Dodgeball|-02.…</td><td>&quot;Chair|+02.73|0…</td></tr><tr><td>&quot;few&quot;</td><td>&quot;foo&quot;</td><td>&quot;Dodgeball|-02.…</td><td>&quot;Chair|+02.83|0…</td></tr><tr><td>&quot;few&quot;</td><td>&quot;foo&quot;</td><td>&quot;Dodgeball|-02.…</td><td>&quot;Bed|-02.46|00.…</td></tr><tr><td>&quot;few&quot;</td><td>&quot;foo&quot;</td><td>&quot;Dodgeball|-02.…</td><td>&quot;Chair|+02.73|0…</td></tr><tr><td>&quot;few&quot;</td><td>&quot;foo&quot;</td><td>&quot;Dodgeball|-02.…</td><td>&quot;Chair|+02.83|0…</td></tr><tr><td>&quot;few&quot;</td><td>&quot;foo&quot;</td><td>&quot;Dodgeball|-02.…</td><td>&quot;Bed|-02.46|00.…</td></tr><tr><td>&quot;few&quot;</td><td>&quot;foo&quot;</td><td>&quot;Dodgeball|-02.…</td><td>&quot;Chair|+02.73|0…</td></tr><tr><td>&quot;few&quot;</td><td>&quot;foo&quot;</td><td>&quot;Dodgeball|-02.…</td><td>&quot;Chair|+02.83|0…</td></tr><tr><td>&quot;few&quot;</td><td>&quot;foo&quot;</td><td>&quot;Dodgeball|-02.…</td><td>&quot;Bed|-02.46|00.…</td></tr><tr><td>&quot;few&quot;</td><td>&quot;foo&quot;</td><td>&quot;Dodgeball|-02.…</td><td>&quot;Chair|+02.73|0…</td></tr><tr><td>&quot;few&quot;</td><td>&quot;foo&quot;</td><td>&quot;Dodgeball|-02.…</td><td>&quot;Chair|+02.83|0…</td></tr><tr><td>&quot;few&quot;</td><td>&quot;foo&quot;</td><td>&quot;Dodgeball|-02.…</td><td>&quot;Bed|-02.46|00.…</td></tr></tbody></table></div>"
      ],
      "text/plain": [
       "shape: (12, 4)\n",
       "┌────────┬──────────┬────────────────────────────────┬───────────────────────────┐\n",
       "│ domain ┆ trace_id ┆ ?a                             ┆ ?b                        │\n",
       "│ ---    ┆ ---      ┆ ---                            ┆ ---                       │\n",
       "│ str    ┆ str      ┆ str                            ┆ str                       │\n",
       "╞════════╪══════════╪════════════════════════════════╪═══════════════════════════╡\n",
       "│ few    ┆ foo      ┆ Dodgeball|-02.95|+01.29|-02.61 ┆ Chair|+02.73|00.00|-01.21 │\n",
       "│ few    ┆ foo      ┆ Dodgeball|-02.95|+01.29|-02.61 ┆ Chair|+02.83|00.00|00.00  │\n",
       "│ few    ┆ foo      ┆ Dodgeball|-02.95|+01.29|-02.61 ┆ Bed|-02.46|00.00|-00.57   │\n",
       "│ few    ┆ foo      ┆ Dodgeball|-02.97|+01.29|-02.28 ┆ Chair|+02.73|00.00|-01.21 │\n",
       "│ …      ┆ …        ┆ …                              ┆ …                         │\n",
       "│ few    ┆ foo      ┆ Dodgeball|-02.95|+01.29|-02.61 ┆ Bed|-02.46|00.00|-00.57   │\n",
       "│ few    ┆ foo      ┆ Dodgeball|-02.97|+01.29|-02.28 ┆ Chair|+02.73|00.00|-01.21 │\n",
       "│ few    ┆ foo      ┆ Dodgeball|-02.97|+01.29|-02.28 ┆ Chair|+02.83|00.00|00.00  │\n",
       "│ few    ┆ foo      ┆ Dodgeball|-02.97|+01.29|-02.28 ┆ Bed|-02.46|00.00|-00.57   │\n",
       "└────────┴──────────┴────────────────────────────────┴───────────────────────────┘"
      ]
     },
     "execution_count": 159,
     "metadata": {},
     "output_type": "execute_result"
    }
   ],
   "source": [
    "assignment = possible_arg_assignments[0]\n",
    "var_keys = ['?a', '?b']\n",
    "\n",
    "test_df = pl.DataFrame(dict(domain=['few'], trace_id=['foo'], assignments=[assignment]))\n",
    "\n",
    "test_df.explode('assignments').select('domain', 'trace_id', pl.col(\"assignments\").list.to_struct(fields=['?a', '?b'])).unnest('assignments')"
   ]
  },
  {
   "cell_type": "code",
   "execution_count": 181,
   "metadata": {},
   "outputs": [
    {
     "data": {
      "text/plain": [
       "['1HOTuIZpRqk2u1nZI1v1-gameplay-attempt-1-rerecorded',\n",
       " 'IvoZWi01FO2uiNpNHyci-createGame-rerecorded',\n",
       " '4WUtnD8W6PGVy0WBtVm4-gameplay-attempt-1-rerecorded',\n",
       " 'LTZh4k4THamxI5QJfVrk-gameplay-attempt-1-rerecorded',\n",
       " 'WtZpe3LQFZiztmh7pBBC-gameplay-attempt-1-rerecorded',\n",
       " 'FyGQn1qJCLTLU1hfQfZ2-preCreateGame-rerecorded',\n",
       " '6ZjBeRCvHxG05ORmhInj-gameplay-attempt-1-rerecorded',\n",
       " 'Tcfpwc8v8HuKRyZr5Dyc-gameplay-attempt-2-rerecorded',\n",
       " '4WUtnD8W6PGVy0WBtVm4-createGame-rerecorded',\n",
       " '39PytL3fAMFkYXNoB5l6-gameplay-attempt-1-rerecorded',\n",
       " '5lTRHBueXsaOu9yhvOQo-gameplay-attempt-1-rerecorded',\n",
       " 'SQErBa5s5TPVxmm8R6ks-freePlay-rerecorded',\n",
       " '9C0wMm4lzrJ5JeP0irIu-preCreateGame-rerecorded',\n",
       " 'f2WUeVzu41E9Lmqmr2FJ-preCreateGame-rerecorded',\n",
       " '6XD5S6MnfzAPQlsP7k30-gameplay-attempt-2-rerecorded',\n",
       " 'xMUrxzK3fXjgitdzPKsm-freePlay-rerecorded',\n",
       " 'IhOkh1l3TBY9JJVubzHx-gameplay-attempt-1-rerecorded',\n",
       " 'WtZpe3LQFZiztmh7pBBC-createGame-rerecorded',\n",
       " 'vfh1MTEQorWXKy8jOP1x-gameplay-attempt-2-rerecorded',\n",
       " 'LTZh4k4THamxI5QJfVrk-preCreateGame-rerecorded',\n",
       " '79X7tsrbEIu5ffDGnY8q-gameplay-attempt-1-rerecorded',\n",
       " 'jCc0kkmGUg3xUmUSXg5w-gameplay-attempt-1-rerecorded',\n",
       " 'ktwB7wT09sh4ivNme3Dw-createGame-rerecorded',\n",
       " 'ktwB7wT09sh4ivNme3Dw-preCreateGame-rerecorded',\n",
       " 'ktwB7wT09sh4ivNme3Dw-gameplay-attempt-1-rerecorded',\n",
       " 'vfh1MTEQorWXKy8jOP1x-createGame-rerecorded',\n",
       " 'QclKeEZEVr7j0klPuanE-gameplay-attempt-1-rerecorded',\n",
       " 'jCc0kkmGUg3xUmUSXg5w-preCreateGame-rerecorded',\n",
       " 'FyGQn1qJCLTLU1hfQfZ2-freePlay-rerecorded',\n",
       " 'SQErBa5s5TPVxmm8R6ks-editGame-rerecorded',\n",
       " 'IvoZWi01FO2uiNpNHyci-freePlay-rerecorded',\n",
       " 'IvoZWi01FO2uiNpNHyci-preCreateGame-rerecorded',\n",
       " 'SQErBa5s5TPVxmm8R6ks-preCreateGame-rerecorded',\n",
       " '9dQSLmtxxIBy0Rsnc8uu-freePlay-rerecorded',\n",
       " 'FyGQn1qJCLTLU1hfQfZ2-createGame-rerecorded',\n",
       " 'IhOkh1l3TBY9JJVubzHx-freePlay-rerecorded',\n",
       " '7r4cgxJHzLJooFaMG1Rd-gameplay-attempt-1-rerecorded',\n",
       " '79X7tsrbEIu5ffDGnY8q-preCreateGame-rerecorded',\n",
       " '6XD5S6MnfzAPQlsP7k30-freePlay-rerecorded',\n",
       " '9C0wMm4lzrJ5JeP0irIu-gameplay-attempt-1-rerecorded',\n",
       " 'vfh1MTEQorWXKy8jOP1x-preCreateGame-rerecorded',\n",
       " 'QyX7AlBzBW8hZHsJeDWI-gameplay-attempt-2-rerecorded',\n",
       " 'SQErBa5s5TPVxmm8R6ks-gameplay-attempt-1-rerecorded',\n",
       " 'NJUY0YT1Pq6dZXsmw0wE-gameplay-attempt-2-rerecorded',\n",
       " '9dQSLmtxxIBy0Rsnc8uu-createGame-rerecorded',\n",
       " 'IvoZWi01FO2uiNpNHyci-gameplay-attempt-2-rerecorded',\n",
       " 'f2WUeVzu41E9Lmqmr2FJ-gameplay-attempt-1-rerecorded',\n",
       " 'QclKeEZEVr7j0klPuanE-gameplay-attempt-3-rerecorded',\n",
       " '4WUtnD8W6PGVy0WBtVm4-freePlay-rerecorded',\n",
       " '9dQSLmtxxIBy0Rsnc8uu-gameplay-attempt-1-rerecorded',\n",
       " '6XD5S6MnfzAPQlsP7k30-preCreateGame-rerecorded',\n",
       " 'Tcfpwc8v8HuKRyZr5Dyc-createGame-rerecorded',\n",
       " 'Tcfpwc8v8HuKRyZr5Dyc-gameplay-attempt-1-rerecorded',\n",
       " '5lTRHBueXsaOu9yhvOQo-preCreateGame-rerecorded',\n",
       " 'IhOkh1l3TBY9JJVubzHx-createGame-rerecorded',\n",
       " 'QclKeEZEVr7j0klPuanE-gameplay-attempt-2-rerecorded',\n",
       " 'Tcfpwc8v8HuKRyZr5Dyc-preCreateGame-rerecorded',\n",
       " 'R9nZAvDq7um7Sg49yf8T-preCreateGame-rerecorded',\n",
       " '7r4cgxJHzLJooFaMG1Rd-createGame-rerecorded',\n",
       " 'QyX7AlBzBW8hZHsJeDWI-preCreateGame-rerecorded',\n",
       " 'R9nZAvDq7um7Sg49yf8T-gameplay-attempt-1-rerecorded',\n",
       " '1HOTuIZpRqk2u1nZI1v1-preCreateGame-rerecorded',\n",
       " 'xMUrxzK3fXjgitdzPKsm-gameplay-attempt-1-rerecorded',\n",
       " 'FyGQn1qJCLTLU1hfQfZ2-gameplay-attempt-1-rerecorded',\n",
       " '9C0wMm4lzrJ5JeP0irIu-createGame-rerecorded',\n",
       " '4WUtnD8W6PGVy0WBtVm4-editGame-rerecorded',\n",
       " 'NJUY0YT1Pq6dZXsmw0wE-preCreateGame-rerecorded',\n",
       " '4WUtnD8W6PGVy0WBtVm4-preCreateGame-rerecorded',\n",
       " 'xMUrxzK3fXjgitdzPKsm-preCreateGame-rerecorded',\n",
       " 'NJUY0YT1Pq6dZXsmw0wE-createGame-rerecorded',\n",
       " '6ZjBeRCvHxG05ORmhInj-preCreateGame-rerecorded',\n",
       " '39PytL3fAMFkYXNoB5l6-createGame-rerecorded',\n",
       " 'QyX7AlBzBW8hZHsJeDWI-gameplay-attempt-3-rerecorded',\n",
       " 'f2WUeVzu41E9Lmqmr2FJ-createGame-rerecorded',\n",
       " '79X7tsrbEIu5ffDGnY8q-createGame-rerecorded',\n",
       " 'jCc0kkmGUg3xUmUSXg5w-gameplay-attempt-2-rerecorded',\n",
       " '7r4cgxJHzLJooFaMG1Rd-preCreateGame-rerecorded']"
      ]
     },
     "execution_count": 181,
     "metadata": {},
     "output_type": "execute_result"
    }
   ],
   "source": [
    "list(split_args_df.trace_id.unique())"
   ]
  },
  {
   "cell_type": "code",
   "execution_count": 34,
   "metadata": {},
   "outputs": [
    {
     "data": {
      "text/plain": [
       "[[0, 519],\n",
       " [559, 598],\n",
       " [624, 726],\n",
       " [730, 1190],\n",
       " [1191, 1623],\n",
       " [1679, 1884],\n",
       " [1924, 2081],\n",
       " [2090, 2312],\n",
       " [2367, 2474],\n",
       " [2568, 2946],\n",
       " [2985, 3054],\n",
       " [3118, 3145],\n",
       " [3176, 3200],\n",
       " [3256, 3289],\n",
       " [3311, 3312],\n",
       " [3327, 3537],\n",
       " [3538, 3640]]"
      ]
     },
     "execution_count": 34,
     "metadata": {},
     "output_type": "execute_result"
    }
   ],
   "source": [
    "stats._invert_intervals(regular_df[(regular_df.trace_id == trace_id) & (regular_df.predicate == 'in_motion') & (regular_df.arg_ids == (ball_id,))].intervals.values[0],\n",
    "                        stats.trace_lengths[trace_id])"
   ]
  },
  {
   "cell_type": "code",
   "execution_count": 36,
   "metadata": {},
   "outputs": [
    {
     "data": {
      "text/html": [
       "<div>\n",
       "<style scoped>\n",
       "    .dataframe tbody tr th:only-of-type {\n",
       "        vertical-align: middle;\n",
       "    }\n",
       "\n",
       "    .dataframe tbody tr th {\n",
       "        vertical-align: top;\n",
       "    }\n",
       "\n",
       "    .dataframe thead th {\n",
       "        text-align: right;\n",
       "    }\n",
       "</style>\n",
       "<table border=\"1\" class=\"dataframe\">\n",
       "  <thead>\n",
       "    <tr style=\"text-align: right;\">\n",
       "      <th></th>\n",
       "      <th>predicate</th>\n",
       "      <th>arg_1_id</th>\n",
       "      <th>arg_1_type</th>\n",
       "      <th>arg_2_id</th>\n",
       "      <th>arg_2_type</th>\n",
       "      <th>trace_id</th>\n",
       "      <th>domain</th>\n",
       "      <th>intervals</th>\n",
       "    </tr>\n",
       "  </thead>\n",
       "  <tbody>\n",
       "    <tr>\n",
       "      <th>21566</th>\n",
       "      <td>in</td>\n",
       "      <td>GarbageCan|+00.75|-00.03|-02.74</td>\n",
       "      <td>garbagecan</td>\n",
       "      <td>Dodgeball|+00.19|+01.13|-02.80</td>\n",
       "      <td>dodgeball</td>\n",
       "      <td>7r4cgxJHzLJooFaMG1Rd-gameplay-attempt-1-rereco...</td>\n",
       "      <td>many</td>\n",
       "      <td>[[3304, 3640]]</td>\n",
       "    </tr>\n",
       "  </tbody>\n",
       "</table>\n",
       "</div>"
      ],
      "text/plain": [
       "      predicate                         arg_1_id  arg_1_type  \\\n",
       "21566        in  GarbageCan|+00.75|-00.03|-02.74  garbagecan   \n",
       "\n",
       "                             arg_2_id arg_2_type  \\\n",
       "21566  Dodgeball|+00.19|+01.13|-02.80  dodgeball   \n",
       "\n",
       "                                                trace_id domain  \\\n",
       "21566  7r4cgxJHzLJooFaMG1Rd-gameplay-attempt-1-rereco...   many   \n",
       "\n",
       "            intervals  \n",
       "21566  [[3304, 3640]]  "
      ]
     },
     "execution_count": 36,
     "metadata": {},
     "output_type": "execute_result"
    }
   ],
   "source": [
    "split_args_df[(split_args_df.trace_id == trace_id) & (split_args_df.predicate == 'in') & (split_args_df.arg_1_id == bin_id) & (split_args_df.arg_2_id == ball_id)]"
   ]
  },
  {
   "cell_type": "code",
   "execution_count": 43,
   "metadata": {},
   "outputs": [
    {
     "data": {
      "text/plain": [
       "[[0, 519],\n",
       " [559, 598],\n",
       " [624, 726],\n",
       " [730, 1190],\n",
       " [1191, 1623],\n",
       " [1679, 1884],\n",
       " [1924, 2081],\n",
       " [2090, 2312],\n",
       " [2367, 2474],\n",
       " [2568, 2946],\n",
       " [2985, 3054],\n",
       " [3118, 3145],\n",
       " [3176, 3200],\n",
       " [3256, 3289],\n",
       " [3311, 3312],\n",
       " [3327, 3537],\n",
       " [3538, 3640]]"
      ]
     },
     "execution_count": 43,
     "metadata": {},
     "output_type": "execute_result"
    }
   ],
   "source": [
    "ball_not_in_motion_int = split_args_stats._invert_intervals(\n",
    "    split_args_df[(split_args_df.trace_id == trace_id) & (split_args_df.predicate == 'in_motion') & (split_args_df.arg_1_id == ball_id)].intervals.values[0],\n",
    "    split_args_stats.trace_lengths_and_domains[trace_id][0],\n",
    ")\n",
    "\n",
    "ball_not_in_motion_int"
   ]
  },
  {
   "cell_type": "code",
   "execution_count": 44,
   "metadata": {},
   "outputs": [
    {
     "data": {
      "text/plain": [
       "[[3311, 3312], [3327, 3537], [3538, 3640]]"
      ]
     },
     "execution_count": 44,
     "metadata": {},
     "output_type": "execute_result"
    }
   ],
   "source": [
    "ball_in_bin_int = split_args_df[(split_args_df.trace_id == trace_id) & (split_args_df.predicate == 'in') & (split_args_df.arg_1_id == bin_id) & (split_args_df.arg_2_id == ball_id)].intervals.values[0]\n",
    "\n",
    "split_args_stats._intersect_intervals(ball_in_bin_int, ball_not_in_motion_int)"
   ]
  },
  {
   "cell_type": "code",
   "execution_count": 47,
   "metadata": {},
   "outputs": [
    {
     "name": "stdout",
     "output_type": "stream",
     "text": [
      "Loaded data with shape (43521, 8) from /Users/guydavidson/projects/game-generation-modeling/reward-machine/caches/predicate_statistics_split_args.pkl\n"
     ]
    },
    {
     "data": {
      "text/plain": [
       "(901, 8)"
      ]
     },
     "execution_count": 47,
     "metadata": {},
     "output_type": "execute_result"
    }
   ],
   "source": [
    "single_trace_split_args_df = split_args_df[split_args_df['trace_id'] == trace_id]\n",
    "\n",
    "single_trace_split_args_stats = compile_predicate_statistics_split_args.CommonSensePredicateStatisticsSplitArgs(cache_dir)\n",
    "single_trace_split_args_stats.data = pl.from_pandas(single_trace_split_args_df)\n",
    "single_trace_split_args_stats.data.shape"
   ]
  },
  {
   "cell_type": "code",
   "execution_count": 49,
   "metadata": {},
   "outputs": [],
   "source": [
    "DEFAULT_GRAMMAR_PATH = \"../dsl/dsl.ebnf\"\n",
    "grammar = open(DEFAULT_GRAMMAR_PATH).read()\n",
    "grammar_parser = typing.cast(tatsu.grammars.Grammar, tatsu.compile(grammar))\n",
    "\n",
    "game = open(compile_predicate_statistics.get_project_dir() + '/reward-machine/games/ball_to_bin_from_bed.txt').read()\n",
    "game_ast = grammar_parser.parse(game) \n",
    "\n",
    "test_pred_1 = game_ast[4][1]['preferences'][0]['definition']['forall_pref']['preferences']['pref_body']['body']['exists_args']['then_funcs'][1]['seq_func']['hold_pred']\n",
    "\n",
    "# should be: (and (not (in_motion ?b)) (in ?h ?b)))\n",
    "test_pred_2 = game_ast[4][1]['preferences'][0]['definition']['forall_pref']['preferences']['pref_body']['body']['exists_args']['then_funcs'][2]['seq_func']['once_pred']"
   ]
  },
  {
   "cell_type": "code",
   "execution_count": 55,
   "metadata": {},
   "outputs": [
    {
     "data": {
      "text/plain": [
       "{('7r4cgxJHzLJooFaMG1Rd-gameplay-attempt-1-rerecorded',\n",
       "  ('?b->Dodgeball|+00.19|+01.13|-02.80',\n",
       "   '?h->GarbageCan|+00.75|-00.03|-02.74')): [[3327, 3537], [3538, 3640]],\n",
       " ('7r4cgxJHzLJooFaMG1Rd-gameplay-attempt-1-rerecorded',\n",
       "  ('?b->Dodgeball|+00.70|+01.11|-02.80',\n",
       "   '?h->GarbageCan|+00.75|-00.03|-02.74')): [[2530, 3205],\n",
       "  [3207, 3295],\n",
       "  [3311, 3314],\n",
       "  [3327, 3537],\n",
       "  [3547, 3640]]}"
      ]
     },
     "execution_count": 55,
     "metadata": {},
     "output_type": "execute_result"
    }
   ],
   "source": [
    "test_mapping = {\"?b\": [\"ball\"], \"?h\": [\"hexagonal_bin\"]}\n",
    "test_out = single_trace_split_args_stats.filter(test_pred_2, test_mapping)\n",
    "test_out"
   ]
  }
 ],
 "metadata": {
  "kernelspec": {
   "display_name": "game-gen",
   "language": "python",
   "name": "python3"
  },
  "language_info": {
   "codemirror_mode": {
    "name": "ipython",
    "version": 3
   },
   "file_extension": ".py",
   "mimetype": "text/x-python",
   "name": "python",
   "nbconvert_exporter": "python",
   "pygments_lexer": "ipython3",
   "version": "3.10.8"
  },
  "orig_nbformat": 4
 },
 "nbformat": 4,
 "nbformat_minor": 2
}
