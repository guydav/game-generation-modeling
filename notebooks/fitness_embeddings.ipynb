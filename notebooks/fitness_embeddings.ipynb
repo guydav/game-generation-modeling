{
 "cells": [
  {
   "cell_type": "code",
   "execution_count": 1,
   "metadata": {},
   "outputs": [],
   "source": [
    "%autoreload 2"
   ]
  },
  {
   "cell_type": "code",
   "execution_count": 2,
   "metadata": {},
   "outputs": [],
   "source": [
    "from collections import defaultdict\n",
    "import difflib\n",
    "import gzip\n",
    "import os\n",
    "import pickle\n",
    "import sys\n",
    "import time\n",
    "import typing\n",
    "\n",
    "from IPython.display import display, Markdown, HTML\n",
    "import matplotlib\n",
    "import matplotlib.pyplot as plt\n",
    "import numpy as np\n",
    "from pactools.grid_search import GridSearchCVProgressBar\n",
    "import pandas as pd\n",
    "import sklearn\n",
    "from sklearn.model_selection import GridSearchCV, train_test_split, KFold\n",
    "from sklearn.pipeline import Pipeline\n",
    "from sklearn.manifold import TSNE\n",
    "from sklearn.decomposition import PCA\n",
    "import torch\n",
    "import torch.nn as nn\n",
    "import torch.nn.functional as F\n",
    "import tqdm.notebook as tqdm\n",
    "\n",
    "\n",
    "sys.path.append(os.path.abspath('..'))\n",
    "sys.path.append(os.path.abspath('../src'))\n",
    "from src import fitness_energy_utils as utils\n",
    "from src.ast_utils import load_games_from_file, _extract_game_id"
   ]
  },
  {
   "cell_type": "code",
   "execution_count": 3,
   "metadata": {},
   "outputs": [],
   "source": [
    "import openai\n",
    "openai.api_key = os.getenv('OPENAI_API_KEY')"
   ]
  },
  {
   "cell_type": "code",
   "execution_count": 4,
   "metadata": {},
   "outputs": [
    {
     "name": "stderr",
     "output_type": "stream",
     "text": [
      "/Users/guydavidson/projects/game-generation-modeling/src/ast_utils.py:54: ResourceWarning: unclosed file <_io.TextIOWrapper name='../dsl/interactive-beta.pddl' mode='r' encoding='UTF-8'>\n",
      "  lines = open(path).readlines()\n",
      "ResourceWarning: Enable tracemalloc to get the object allocation traceback\n"
     ]
    }
   ],
   "source": [
    "game_texts = list(load_games_from_file('../dsl/interactive-beta.pddl'))"
   ]
  },
  {
   "cell_type": "code",
   "execution_count": 5,
   "metadata": {},
   "outputs": [],
   "source": [
    "def embed_text(text: str, model: str = 'text-embedding-ada-002'):\n",
    "    text = text.replace(\"\\n\", \" \")\n",
    "    return openai.Embedding.create(input = [text], model=model)\n",
    "\n",
    "\n",
    "def embed_multiple_texts(texts: typing.List[str], model: str = 'text-embedding-ada-002'):\n",
    "    texts = [t.replace(\"\\n\", \" \") for t in texts]\n",
    "    return openai.Embedding.create(input = texts, model=model)\n"
   ]
  },
  {
   "cell_type": "code",
   "execution_count": 6,
   "metadata": {},
   "outputs": [],
   "source": [
    "REGENERATE_EMBEDDINGS = False \n",
    "\n",
    "if REGENERATE_EMBEDDINGS:\n",
    "    result = embed_multiple_texts(game_texts)\n",
    "    # embeddings = np.array([result.data[i].embedding for i in range(len(result.data))])\n",
    "    embeddings = torch.tensor([result.data[i].embedding for i in range(len(result.data))])\n",
    "    torch.save(embeddings, '../data/interactive-beta-embeddings.pt', pickle_protocol=pickle.HIGHEST_PROTOCOL)\n",
    "\n",
    "else:\n",
    "    embeddings = torch.load('../data/interactive-beta-embeddings.pt')"
   ]
  },
  {
   "cell_type": "code",
   "execution_count": 7,
   "metadata": {},
   "outputs": [
    {
     "name": "stderr",
     "output_type": "stream",
     "text": [
      "/Users/guydavidson/projects/game-generation-modeling/src/ast_utils.py:54: ResourceWarning: unclosed file <_io.TextIOWrapper name='../dsl/ast-real-regrowth-samples.pddl' mode='r' encoding='UTF-8'>\n",
      "  lines = open(path).readlines()\n",
      "ResourceWarning: Enable tracemalloc to get the object allocation traceback\n"
     ]
    }
   ],
   "source": [
    "regrown_game_texts = list(load_games_from_file('../dsl/ast-real-regrowth-samples.pddl'))\n",
    "REGROWN_GAMES_PER_ORIGINAL = int(len(regrown_game_texts) / len(game_texts))\n",
    "embeddings_by_original_game = []\n"
   ]
  },
  {
   "cell_type": "code",
   "execution_count": 8,
   "metadata": {},
   "outputs": [],
   "source": [
    "REGENERATE_REGROWTH_EMBEDDINGS = False\n",
    "\n",
    "if REGENERATE_REGROWTH_EMBEDDINGS:\n",
    "    start_index = len(embeddings_by_original_game)\n",
    "\n",
    "    for i in tqdm.tnrange(len(game_texts)):\n",
    "        game_regrown_games = regrown_game_texts[i * REGROWN_GAMES_PER_ORIGINAL: (i + 1) * REGROWN_GAMES_PER_ORIGINAL]\n",
    "        game_results = embed_multiple_texts(game_regrown_games)\n",
    "        game_embeddings = torch.tensor([game_results.data[i].embedding for i in range(len(game_results.data))])\n",
    "        embeddings_by_original_game.append(game_embeddings)\n",
    "        time.sleep(5)\n",
    "\n",
    "    regrown_embeddings = torch.stack(embeddings_by_original_game)\n",
    "    print(regrown_embeddings.shape)\n",
    "    torch.save(regrown_embeddings, '../data/ast-real-regrowth-samples-embeddings.pt', pickle_protocol=pickle.HIGHEST_PROTOCOL)\n",
    "\n",
    "else:\n",
    "    regrowth_embeddings = torch.load('../data/ast-real-regrowth-samples-embeddings.pt')"
   ]
  },
  {
   "attachments": {},
   "cell_type": "markdown",
   "metadata": {},
   "source": [
    "## Let's see what the space of these embeddings looks like"
   ]
  },
  {
   "cell_type": "code",
   "execution_count": 9,
   "metadata": {},
   "outputs": [
    {
     "data": {
      "text/plain": [
       "torch.Size([6370, 1536])"
      ]
     },
     "execution_count": 9,
     "metadata": {},
     "output_type": "execute_result"
    }
   ],
   "source": [
    "all_embeddings = torch.cat([embeddings, regrowth_embeddings.reshape(-1, regrowth_embeddings.shape[-1])], dim=0)\n",
    "all_embeddings.shape"
   ]
  },
  {
   "cell_type": "code",
   "execution_count": 10,
   "metadata": {},
   "outputs": [
    {
     "data": {
      "text/html": [
       "<style>#sk-container-id-1 {color: black;background-color: white;}#sk-container-id-1 pre{padding: 0;}#sk-container-id-1 div.sk-toggleable {background-color: white;}#sk-container-id-1 label.sk-toggleable__label {cursor: pointer;display: block;width: 100%;margin-bottom: 0;padding: 0.3em;box-sizing: border-box;text-align: center;}#sk-container-id-1 label.sk-toggleable__label-arrow:before {content: \"▸\";float: left;margin-right: 0.25em;color: #696969;}#sk-container-id-1 label.sk-toggleable__label-arrow:hover:before {color: black;}#sk-container-id-1 div.sk-estimator:hover label.sk-toggleable__label-arrow:before {color: black;}#sk-container-id-1 div.sk-toggleable__content {max-height: 0;max-width: 0;overflow: hidden;text-align: left;background-color: #f0f8ff;}#sk-container-id-1 div.sk-toggleable__content pre {margin: 0.2em;color: black;border-radius: 0.25em;background-color: #f0f8ff;}#sk-container-id-1 input.sk-toggleable__control:checked~div.sk-toggleable__content {max-height: 200px;max-width: 100%;overflow: auto;}#sk-container-id-1 input.sk-toggleable__control:checked~label.sk-toggleable__label-arrow:before {content: \"▾\";}#sk-container-id-1 div.sk-estimator input.sk-toggleable__control:checked~label.sk-toggleable__label {background-color: #d4ebff;}#sk-container-id-1 div.sk-label input.sk-toggleable__control:checked~label.sk-toggleable__label {background-color: #d4ebff;}#sk-container-id-1 input.sk-hidden--visually {border: 0;clip: rect(1px 1px 1px 1px);clip: rect(1px, 1px, 1px, 1px);height: 1px;margin: -1px;overflow: hidden;padding: 0;position: absolute;width: 1px;}#sk-container-id-1 div.sk-estimator {font-family: monospace;background-color: #f0f8ff;border: 1px dotted black;border-radius: 0.25em;box-sizing: border-box;margin-bottom: 0.5em;}#sk-container-id-1 div.sk-estimator:hover {background-color: #d4ebff;}#sk-container-id-1 div.sk-parallel-item::after {content: \"\";width: 100%;border-bottom: 1px solid gray;flex-grow: 1;}#sk-container-id-1 div.sk-label:hover label.sk-toggleable__label {background-color: #d4ebff;}#sk-container-id-1 div.sk-serial::before {content: \"\";position: absolute;border-left: 1px solid gray;box-sizing: border-box;top: 0;bottom: 0;left: 50%;z-index: 0;}#sk-container-id-1 div.sk-serial {display: flex;flex-direction: column;align-items: center;background-color: white;padding-right: 0.2em;padding-left: 0.2em;position: relative;}#sk-container-id-1 div.sk-item {position: relative;z-index: 1;}#sk-container-id-1 div.sk-parallel {display: flex;align-items: stretch;justify-content: center;background-color: white;position: relative;}#sk-container-id-1 div.sk-item::before, #sk-container-id-1 div.sk-parallel-item::before {content: \"\";position: absolute;border-left: 1px solid gray;box-sizing: border-box;top: 0;bottom: 0;left: 50%;z-index: -1;}#sk-container-id-1 div.sk-parallel-item {display: flex;flex-direction: column;z-index: 1;position: relative;background-color: white;}#sk-container-id-1 div.sk-parallel-item:first-child::after {align-self: flex-end;width: 50%;}#sk-container-id-1 div.sk-parallel-item:last-child::after {align-self: flex-start;width: 50%;}#sk-container-id-1 div.sk-parallel-item:only-child::after {width: 0;}#sk-container-id-1 div.sk-dashed-wrapped {border: 1px dashed gray;margin: 0 0.4em 0.5em 0.4em;box-sizing: border-box;padding-bottom: 0.4em;background-color: white;}#sk-container-id-1 div.sk-label label {font-family: monospace;font-weight: bold;display: inline-block;line-height: 1.2em;}#sk-container-id-1 div.sk-label-container {text-align: center;}#sk-container-id-1 div.sk-container {/* jupyter's `normalize.less` sets `[hidden] { display: none; }` but bootstrap.min.css set `[hidden] { display: none !important; }` so we also need the `!important` here to be able to override the default hidden behavior on the sphinx rendered scikit-learn.org. See: https://github.com/scikit-learn/scikit-learn/issues/21755 */display: inline-block !important;position: relative;}#sk-container-id-1 div.sk-text-repr-fallback {display: none;}</style><div id=\"sk-container-id-1\" class=\"sk-top-container\"><div class=\"sk-text-repr-fallback\"><pre>PCA(n_components=100)</pre><b>In a Jupyter environment, please rerun this cell to show the HTML representation or trust the notebook. <br />On GitHub, the HTML representation is unable to render, please try loading this page with nbviewer.org.</b></div><div class=\"sk-container\" hidden><div class=\"sk-item\"><div class=\"sk-estimator sk-toggleable\"><input class=\"sk-toggleable__control sk-hidden--visually\" id=\"sk-estimator-id-1\" type=\"checkbox\" checked><label for=\"sk-estimator-id-1\" class=\"sk-toggleable__label sk-toggleable__label-arrow\">PCA</label><div class=\"sk-toggleable__content\"><pre>PCA(n_components=100)</pre></div></div></div></div></div>"
      ],
      "text/plain": [
       "PCA(n_components=100)"
      ]
     },
     "execution_count": 10,
     "metadata": {},
     "output_type": "execute_result"
    }
   ],
   "source": [
    "pca = PCA(n_components=100)\n",
    "pca.fit(all_embeddings.numpy())"
   ]
  },
  {
   "cell_type": "code",
   "execution_count": 11,
   "metadata": {},
   "outputs": [
    {
     "data": {
      "text/plain": [
       "0.03682171"
      ]
     },
     "execution_count": 11,
     "metadata": {},
     "output_type": "execute_result"
    },
    {
     "data": {
      "image/png": "[encoded data removed]",
      "text/plain": [
       "<Figure size 640x480 with 1 Axes>"
      ]
     },
     "metadata": {},
     "output_type": "display_data"
    }
   ],
   "source": [
    "n_components = 100\n",
    "plt.bar(np.arange(n_components), pca.explained_variance_ratio_[:n_components])\n",
    "pca.explained_variance_ratio_[64:].sum()"
   ]
  },
  {
   "cell_type": "code",
   "execution_count": 12,
   "metadata": {},
   "outputs": [],
   "source": [
    "PCA_N_DIM = 64\n",
    "SEED = 33\n",
    "PCA_KWARGS = dict(random_state=SEED)\n",
    "TSNE_KAWRGS = dict(init='pca', learning_rate='auto', random_state=SEED)\n",
    "\n",
    "def pca_and_tsne(data: np.ndarray, pca_n_dim: int = PCA_N_DIM, \n",
    "    pca_kwargs: typing.Optional[typing.Dict] = None, tsne_kwargs: typing.Optional[typing.Dict] = None):\n",
    "\n",
    "    if pca_kwargs is None:\n",
    "        pca_kwargs = PCA_KWARGS\n",
    "    else:\n",
    "        temp_kwargs = PCA_KWARGS.copy()\n",
    "        temp_kwrags.update(pca_kwargs)\n",
    "        pca_kwargs = temp_kwargs\n",
    "\n",
    "    if tsne_kwargs is None:\n",
    "        tsne_kwargs = TSNE_KAWRGS\n",
    "\n",
    "    else:\n",
    "        temp_kwrags = TSNE_KAWRGS.copy()\n",
    "        temp_kwrags.update(tsne_kwargs)\n",
    "        tsne_kwargs = temp_kwrags\n",
    "\n",
    "    if data.ndim > 2:\n",
    "        data = data.reshape(-1, data.shape[-1])\n",
    "\n",
    "    pca = PCA(n_components=pca_n_dim, **pca_kwargs)\n",
    "    data_pca = pca.fit_transform(data)\n",
    "    tsne = TSNE(n_components=2, **tsne_kwargs)\n",
    "    data_tsne = tsne.fit_transform(data_pca)\n",
    "\n",
    "    return data_tsne"
   ]
  },
  {
   "cell_type": "code",
   "execution_count": 13,
   "metadata": {},
   "outputs": [
    {
     "name": "stderr",
     "output_type": "stream",
     "text": [
      "/Users/guydavidson/opt/anaconda3/envs/game-gen/lib/python3.10/site-packages/sklearn/manifold/_t_sne.py:996: FutureWarning: The PCA initialization in TSNE will change to have the standard deviation of PC1 equal to 1e-4 in 1.2. This will ensure better convergence.\n",
      "  warnings.warn(\n"
     ]
    },
    {
     "data": {
      "text/plain": [
       "(6370, 2)"
      ]
     },
     "execution_count": 13,
     "metadata": {},
     "output_type": "execute_result"
    }
   ],
   "source": [
    "tsne_embedded_data = pca_and_tsne(all_embeddings.numpy())\n",
    "tsne_embedded_data.shape"
   ]
  },
  {
   "cell_type": "code",
   "execution_count": 14,
   "metadata": {},
   "outputs": [
    {
     "data": {
      "text/plain": [
       "<matplotlib.collections.PathCollection at 0x16d0206d0>"
      ]
     },
     "execution_count": 14,
     "metadata": {},
     "output_type": "execute_result"
    },
    {
     "data": {
      "image/png": "[encoded data removed]",
      "text/plain": [
       "<Figure size 600x600 with 1 Axes>"
      ]
     },
     "metadata": {},
     "output_type": "display_data"
    }
   ],
   "source": [
    "n_games = len(game_texts)\n",
    "plt.figure(figsize=(6, 6))\n",
    "plt.scatter(tsne_embedded_data[n_games:, 0], tsne_embedded_data[n_games:, 1], s=1, alpha=0.5)\n",
    "plt.scatter(tsne_embedded_data[:n_games, 0], tsne_embedded_data[:n_games, 1], s=13, c='red')\n"
   ]
  },
  {
   "attachments": {},
   "cell_type": "markdown",
   "metadata": {},
   "source": [
    "## Let's see what happens if we try to fit a fitness model based on these embeddings?"
   ]
  },
  {
   "cell_type": "code",
   "execution_count": 15,
   "metadata": {},
   "outputs": [
    {
     "data": {
      "text/plain": [
       "torch.Size([98, 65, 1536])"
      ]
     },
     "execution_count": 15,
     "metadata": {},
     "output_type": "execute_result"
    }
   ],
   "source": [
    "embeddings_for_fitness = torch.cat([embeddings.unsqueeze(1), regrowth_embeddings], dim=1)\n",
    "embeddings_for_fitness.shape"
   ]
  },
  {
   "cell_type": "code",
   "execution_count": 18,
   "metadata": {},
   "outputs": [
    {
     "name": "stdout",
     "output_type": "stream",
     "text": [
      "Fitting 5 folds for each of 1280 candidates, totalling 6400 fits\n"
     ]
    },
    {
     "name": "stderr",
     "output_type": "stream",
     "text": [
      "/Users/guydavidson/opt/anaconda3/envs/game-gen/lib/python3.10/site-packages/joblib/externals/loky/process_executor.py:700: UserWarning: A worker stopped while some jobs were given to the executor. This can be caused by a too short worker timeout or by a memory leak.\n",
      "  warnings.warn(\n"
     ]
    }
   ],
   "source": [
    "test_param_grid = [\n",
    "    {\n",
    "        'fitness__loss_function': [utils.fitness_hinge_loss], # [utils.fitness_hinge_loss_with_cross_example],\n",
    "        'fitness__weight_decay': [0.0, 0.25, 1, 2],  \n",
    "        'fitness__margin': [1, 2, 4, 8],\n",
    "        'fitness__lr':  [1e-1, 3e-2, 1e-2, 3e-3],  # [1e-1, 3e-2, 1e-2, 3e-3],\n",
    "        'fitness__k': [4, 8, 16, 32, 64],\n",
    "        'fitness__batch_size': [2, 4, 8, 16],  # [1, 4, 8, 16],\n",
    "        # 'fitness__alpha': [0, 0.25, 0.5, 0.75, 1], # [0, 0.1, 0.2, 0.3],  #\n",
    "    },\n",
    "]\n",
    "\n",
    "model_kwargs = dict(output_activation=nn.Identity())\n",
    "train_kwargs = dict()\n",
    "cv_kwargs = dict(refit='overall_ecdf')\n",
    "scoring = utils.build_multiple_scoring_function(\n",
    "    [utils.evaluate_fitness_overall_ecdf, utils.evaluate_fitness_single_game_rank],\n",
    "    ['overall_ecdf', 'single_game_rank'],\n",
    ")\n",
    "\n",
    "cv = utils.model_fitting_experiment(embeddings_for_fitness, test_param_grid,\n",
    "    scoring_function=scoring, verbose=1, \n",
    "    model_kwargs=model_kwargs, train_kwargs=train_kwargs, cv_kwargs=cv_kwargs)\n"
   ]
  },
  {
   "cell_type": "code",
   "execution_count": 20,
   "metadata": {},
   "outputs": [
    {
     "name": "stdout",
     "output_type": "stream",
     "text": [
      "{'ecdf': -0.036576923076923076, 'game_rank': 1.0}\n"
     ]
    }
   ],
   "source": [
    "cv, (train_tensor, test_tensor), test_results = cv\n",
    "print(test_results)"
   ]
  },
  {
   "cell_type": "code",
   "execution_count": 21,
   "metadata": {},
   "outputs": [
    {
     "data": {
      "text/html": [
       "<div>\n",
       "<style scoped>\n",
       "    .dataframe tbody tr th:only-of-type {\n",
       "        vertical-align: middle;\n",
       "    }\n",
       "\n",
       "    .dataframe tbody tr th {\n",
       "        vertical-align: top;\n",
       "    }\n",
       "\n",
       "    .dataframe thead th {\n",
       "        text-align: right;\n",
       "    }\n",
       "</style>\n",
       "<table border=\"1\" class=\"dataframe\">\n",
       "  <thead>\n",
       "    <tr style=\"text-align: right;\">\n",
       "      <th></th>\n",
       "      <th>fitness__batch_size</th>\n",
       "      <th>fitness__k</th>\n",
       "      <th>fitness__loss_function</th>\n",
       "      <th>fitness__lr</th>\n",
       "      <th>fitness__margin</th>\n",
       "      <th>fitness__n_features</th>\n",
       "      <th>fitness__weight_decay</th>\n",
       "      <th>ecdf_mean</th>\n",
       "      <th>ecdf_std</th>\n",
       "      <th>ecdf_rank</th>\n",
       "      <th>game_rank_mean</th>\n",
       "      <th>game_rank_std</th>\n",
       "      <th>game_rank_rank</th>\n",
       "    </tr>\n",
       "  </thead>\n",
       "  <tbody>\n",
       "    <tr>\n",
       "      <th>367</th>\n",
       "      <td>4</td>\n",
       "      <td>4</td>\n",
       "      <td>&lt;function fitness_hinge_loss at 0x162e67490&gt;</td>\n",
       "      <td>0.01</td>\n",
       "      <td>8</td>\n",
       "      <td>1536</td>\n",
       "      <td>2.00</td>\n",
       "      <td>-0.018116</td>\n",
       "      <td>0.007209</td>\n",
       "      <td>1</td>\n",
       "      <td>1.0</td>\n",
       "      <td>0.0</td>\n",
       "      <td>1</td>\n",
       "    </tr>\n",
       "    <tr>\n",
       "      <th>349</th>\n",
       "      <td>4</td>\n",
       "      <td>4</td>\n",
       "      <td>&lt;function fitness_hinge_loss at 0x162e67490&gt;</td>\n",
       "      <td>0.03</td>\n",
       "      <td>8</td>\n",
       "      <td>1536</td>\n",
       "      <td>0.25</td>\n",
       "      <td>-0.018438</td>\n",
       "      <td>0.007096</td>\n",
       "      <td>2</td>\n",
       "      <td>1.0</td>\n",
       "      <td>0.0</td>\n",
       "      <td>1</td>\n",
       "    </tr>\n",
       "    <tr>\n",
       "      <th>363</th>\n",
       "      <td>4</td>\n",
       "      <td>4</td>\n",
       "      <td>&lt;function fitness_hinge_loss at 0x162e67490&gt;</td>\n",
       "      <td>0.01</td>\n",
       "      <td>4</td>\n",
       "      <td>1536</td>\n",
       "      <td>2.00</td>\n",
       "      <td>-0.018660</td>\n",
       "      <td>0.005758</td>\n",
       "      <td>3</td>\n",
       "      <td>1.0</td>\n",
       "      <td>0.0</td>\n",
       "      <td>1</td>\n",
       "    </tr>\n",
       "    <tr>\n",
       "      <th>35</th>\n",
       "      <td>2</td>\n",
       "      <td>4</td>\n",
       "      <td>&lt;function fitness_hinge_loss at 0x162e67490&gt;</td>\n",
       "      <td>0.01</td>\n",
       "      <td>1</td>\n",
       "      <td>1536</td>\n",
       "      <td>2.00</td>\n",
       "      <td>-0.018683</td>\n",
       "      <td>0.006467</td>\n",
       "      <td>4</td>\n",
       "      <td>1.0</td>\n",
       "      <td>0.0</td>\n",
       "      <td>1</td>\n",
       "    </tr>\n",
       "    <tr>\n",
       "      <th>350</th>\n",
       "      <td>4</td>\n",
       "      <td>4</td>\n",
       "      <td>&lt;function fitness_hinge_loss at 0x162e67490&gt;</td>\n",
       "      <td>0.03</td>\n",
       "      <td>8</td>\n",
       "      <td>1536</td>\n",
       "      <td>1.00</td>\n",
       "      <td>-0.019311</td>\n",
       "      <td>0.007725</td>\n",
       "      <td>5</td>\n",
       "      <td>1.0</td>\n",
       "      <td>0.0</td>\n",
       "      <td>1</td>\n",
       "    </tr>\n",
       "    <tr>\n",
       "      <th>366</th>\n",
       "      <td>4</td>\n",
       "      <td>4</td>\n",
       "      <td>&lt;function fitness_hinge_loss at 0x162e67490&gt;</td>\n",
       "      <td>0.01</td>\n",
       "      <td>8</td>\n",
       "      <td>1536</td>\n",
       "      <td>1.00</td>\n",
       "      <td>-0.019328</td>\n",
       "      <td>0.008035</td>\n",
       "      <td>6</td>\n",
       "      <td>1.0</td>\n",
       "      <td>0.0</td>\n",
       "      <td>1</td>\n",
       "    </tr>\n",
       "    <tr>\n",
       "      <th>30</th>\n",
       "      <td>2</td>\n",
       "      <td>4</td>\n",
       "      <td>&lt;function fitness_hinge_loss at 0x162e67490&gt;</td>\n",
       "      <td>0.03</td>\n",
       "      <td>8</td>\n",
       "      <td>1536</td>\n",
       "      <td>1.00</td>\n",
       "      <td>-0.019851</td>\n",
       "      <td>0.009892</td>\n",
       "      <td>7</td>\n",
       "      <td>1.0</td>\n",
       "      <td>0.0</td>\n",
       "      <td>1</td>\n",
       "    </tr>\n",
       "    <tr>\n",
       "      <th>430</th>\n",
       "      <td>4</td>\n",
       "      <td>8</td>\n",
       "      <td>&lt;function fitness_hinge_loss at 0x162e67490&gt;</td>\n",
       "      <td>0.01</td>\n",
       "      <td>8</td>\n",
       "      <td>1536</td>\n",
       "      <td>1.00</td>\n",
       "      <td>-0.020068</td>\n",
       "      <td>0.008962</td>\n",
       "      <td>8</td>\n",
       "      <td>1.0</td>\n",
       "      <td>0.0</td>\n",
       "      <td>1</td>\n",
       "    </tr>\n",
       "    <tr>\n",
       "      <th>527</th>\n",
       "      <td>4</td>\n",
       "      <td>32</td>\n",
       "      <td>&lt;function fitness_hinge_loss at 0x162e67490&gt;</td>\n",
       "      <td>0.10</td>\n",
       "      <td>8</td>\n",
       "      <td>1536</td>\n",
       "      <td>2.00</td>\n",
       "      <td>-0.020106</td>\n",
       "      <td>0.008004</td>\n",
       "      <td>9</td>\n",
       "      <td>1.0</td>\n",
       "      <td>0.0</td>\n",
       "      <td>1</td>\n",
       "    </tr>\n",
       "    <tr>\n",
       "      <th>46</th>\n",
       "      <td>2</td>\n",
       "      <td>4</td>\n",
       "      <td>&lt;function fitness_hinge_loss at 0x162e67490&gt;</td>\n",
       "      <td>0.01</td>\n",
       "      <td>8</td>\n",
       "      <td>1536</td>\n",
       "      <td>1.00</td>\n",
       "      <td>-0.020258</td>\n",
       "      <td>0.009484</td>\n",
       "      <td>10</td>\n",
       "      <td>1.0</td>\n",
       "      <td>0.0</td>\n",
       "      <td>1</td>\n",
       "    </tr>\n",
       "  </tbody>\n",
       "</table>\n",
       "</div>"
      ],
      "text/plain": [
       "     fitness__batch_size  fitness__k  \\\n",
       "367                    4           4   \n",
       "349                    4           4   \n",
       "363                    4           4   \n",
       "35                     2           4   \n",
       "350                    4           4   \n",
       "366                    4           4   \n",
       "30                     2           4   \n",
       "430                    4           8   \n",
       "527                    4          32   \n",
       "46                     2           4   \n",
       "\n",
       "                           fitness__loss_function  fitness__lr  \\\n",
       "367  <function fitness_hinge_loss at 0x162e67490>         0.01   \n",
       "349  <function fitness_hinge_loss at 0x162e67490>         0.03   \n",
       "363  <function fitness_hinge_loss at 0x162e67490>         0.01   \n",
       "35   <function fitness_hinge_loss at 0x162e67490>         0.01   \n",
       "350  <function fitness_hinge_loss at 0x162e67490>         0.03   \n",
       "366  <function fitness_hinge_loss at 0x162e67490>         0.01   \n",
       "30   <function fitness_hinge_loss at 0x162e67490>         0.03   \n",
       "430  <function fitness_hinge_loss at 0x162e67490>         0.01   \n",
       "527  <function fitness_hinge_loss at 0x162e67490>         0.10   \n",
       "46   <function fitness_hinge_loss at 0x162e67490>         0.01   \n",
       "\n",
       "     fitness__margin  fitness__n_features  fitness__weight_decay  ecdf_mean  \\\n",
       "367                8                 1536                   2.00  -0.018116   \n",
       "349                8                 1536                   0.25  -0.018438   \n",
       "363                4                 1536                   2.00  -0.018660   \n",
       "35                 1                 1536                   2.00  -0.018683   \n",
       "350                8                 1536                   1.00  -0.019311   \n",
       "366                8                 1536                   1.00  -0.019328   \n",
       "30                 8                 1536                   1.00  -0.019851   \n",
       "430                8                 1536                   1.00  -0.020068   \n",
       "527                8                 1536                   2.00  -0.020106   \n",
       "46                 8                 1536                   1.00  -0.020258   \n",
       "\n",
       "     ecdf_std  ecdf_rank  game_rank_mean  game_rank_std  game_rank_rank  \n",
       "367  0.007209          1             1.0            0.0               1  \n",
       "349  0.007096          2             1.0            0.0               1  \n",
       "363  0.005758          3             1.0            0.0               1  \n",
       "35   0.006467          4             1.0            0.0               1  \n",
       "350  0.007725          5             1.0            0.0               1  \n",
       "366  0.008035          6             1.0            0.0               1  \n",
       "30   0.009892          7             1.0            0.0               1  \n",
       "430  0.008962          8             1.0            0.0               1  \n",
       "527  0.008004          9             1.0            0.0               1  \n",
       "46   0.009484         10             1.0            0.0               1  "
      ]
     },
     "execution_count": 21,
     "metadata": {},
     "output_type": "execute_result"
    }
   ],
   "source": [
    "cv_df = pd.concat([\n",
    "    pd.DataFrame(cv.cv_results_[\"params\"]), \n",
    "    pd.DataFrame(cv.cv_results_[\"mean_test_overall_ecdf\"], columns=['ecdf_mean']), \n",
    "    pd.DataFrame(cv.cv_results_[\"std_test_overall_ecdf\"], columns=['ecdf_std']), \n",
    "    pd.DataFrame(cv.cv_results_[\"rank_test_overall_ecdf\"], columns=['ecdf_rank']),\n",
    "    pd.DataFrame(cv.cv_results_[\"mean_test_single_game_rank\"], columns=['game_rank_mean']), \n",
    "    pd.DataFrame(cv.cv_results_[\"std_test_single_game_rank\"], columns=['game_rank_std']), \n",
    "    pd.DataFrame(cv.cv_results_[\"rank_test_single_game_rank\"], columns=['game_rank_rank']),\n",
    "],axis=1)\n",
    "\n",
    "cv_df.sort_values(by='ecdf_rank').head(10)"
   ]
  },
  {
   "cell_type": "code",
   "execution_count": 22,
   "metadata": {},
   "outputs": [
    {
     "data": {
      "text/html": [
       "<div>\n",
       "<style scoped>\n",
       "    .dataframe tbody tr th:only-of-type {\n",
       "        vertical-align: middle;\n",
       "    }\n",
       "\n",
       "    .dataframe tbody tr th {\n",
       "        vertical-align: top;\n",
       "    }\n",
       "\n",
       "    .dataframe thead th {\n",
       "        text-align: right;\n",
       "    }\n",
       "</style>\n",
       "<table border=\"1\" class=\"dataframe\">\n",
       "  <thead>\n",
       "    <tr style=\"text-align: right;\">\n",
       "      <th></th>\n",
       "      <th>fitness__batch_size</th>\n",
       "      <th>fitness__k</th>\n",
       "      <th>fitness__loss_function</th>\n",
       "      <th>fitness__lr</th>\n",
       "      <th>fitness__margin</th>\n",
       "      <th>fitness__n_features</th>\n",
       "      <th>fitness__weight_decay</th>\n",
       "      <th>ecdf_mean</th>\n",
       "      <th>ecdf_std</th>\n",
       "      <th>ecdf_rank</th>\n",
       "      <th>game_rank_mean</th>\n",
       "      <th>game_rank_std</th>\n",
       "      <th>game_rank_rank</th>\n",
       "    </tr>\n",
       "  </thead>\n",
       "  <tbody>\n",
       "    <tr>\n",
       "      <th>639</th>\n",
       "      <td>4</td>\n",
       "      <td>64</td>\n",
       "      <td>&lt;function fitness_hinge_loss at 0x162e67490&gt;</td>\n",
       "      <td>0.003</td>\n",
       "      <td>8</td>\n",
       "      <td>1536</td>\n",
       "      <td>2.00</td>\n",
       "      <td>-0.034803</td>\n",
       "      <td>0.010697</td>\n",
       "      <td>233</td>\n",
       "      <td>1.0</td>\n",
       "      <td>0.0</td>\n",
       "      <td>1</td>\n",
       "    </tr>\n",
       "    <tr>\n",
       "      <th>664</th>\n",
       "      <td>8</td>\n",
       "      <td>4</td>\n",
       "      <td>&lt;function fitness_hinge_loss at 0x162e67490&gt;</td>\n",
       "      <td>0.030</td>\n",
       "      <td>4</td>\n",
       "      <td>1536</td>\n",
       "      <td>0.00</td>\n",
       "      <td>-0.084133</td>\n",
       "      <td>0.046579</td>\n",
       "      <td>892</td>\n",
       "      <td>1.0</td>\n",
       "      <td>0.0</td>\n",
       "      <td>1</td>\n",
       "    </tr>\n",
       "    <tr>\n",
       "      <th>665</th>\n",
       "      <td>8</td>\n",
       "      <td>4</td>\n",
       "      <td>&lt;function fitness_hinge_loss at 0x162e67490&gt;</td>\n",
       "      <td>0.030</td>\n",
       "      <td>4</td>\n",
       "      <td>1536</td>\n",
       "      <td>0.25</td>\n",
       "      <td>-0.077126</td>\n",
       "      <td>0.028988</td>\n",
       "      <td>845</td>\n",
       "      <td>1.0</td>\n",
       "      <td>0.0</td>\n",
       "      <td>1</td>\n",
       "    </tr>\n",
       "    <tr>\n",
       "      <th>666</th>\n",
       "      <td>8</td>\n",
       "      <td>4</td>\n",
       "      <td>&lt;function fitness_hinge_loss at 0x162e67490&gt;</td>\n",
       "      <td>0.030</td>\n",
       "      <td>4</td>\n",
       "      <td>1536</td>\n",
       "      <td>1.00</td>\n",
       "      <td>-0.049938</td>\n",
       "      <td>0.040407</td>\n",
       "      <td>561</td>\n",
       "      <td>1.0</td>\n",
       "      <td>0.0</td>\n",
       "      <td>1</td>\n",
       "    </tr>\n",
       "    <tr>\n",
       "      <th>667</th>\n",
       "      <td>8</td>\n",
       "      <td>4</td>\n",
       "      <td>&lt;function fitness_hinge_loss at 0x162e67490&gt;</td>\n",
       "      <td>0.030</td>\n",
       "      <td>4</td>\n",
       "      <td>1536</td>\n",
       "      <td>2.00</td>\n",
       "      <td>-0.048171</td>\n",
       "      <td>0.030049</td>\n",
       "      <td>541</td>\n",
       "      <td>1.0</td>\n",
       "      <td>0.0</td>\n",
       "      <td>1</td>\n",
       "    </tr>\n",
       "    <tr>\n",
       "      <th>668</th>\n",
       "      <td>8</td>\n",
       "      <td>4</td>\n",
       "      <td>&lt;function fitness_hinge_loss at 0x162e67490&gt;</td>\n",
       "      <td>0.030</td>\n",
       "      <td>8</td>\n",
       "      <td>1536</td>\n",
       "      <td>0.00</td>\n",
       "      <td>-0.060496</td>\n",
       "      <td>0.018576</td>\n",
       "      <td>708</td>\n",
       "      <td>1.0</td>\n",
       "      <td>0.0</td>\n",
       "      <td>1</td>\n",
       "    </tr>\n",
       "    <tr>\n",
       "      <th>669</th>\n",
       "      <td>8</td>\n",
       "      <td>4</td>\n",
       "      <td>&lt;function fitness_hinge_loss at 0x162e67490&gt;</td>\n",
       "      <td>0.030</td>\n",
       "      <td>8</td>\n",
       "      <td>1536</td>\n",
       "      <td>0.25</td>\n",
       "      <td>-0.035760</td>\n",
       "      <td>0.013039</td>\n",
       "      <td>261</td>\n",
       "      <td>1.0</td>\n",
       "      <td>0.0</td>\n",
       "      <td>1</td>\n",
       "    </tr>\n",
       "    <tr>\n",
       "      <th>670</th>\n",
       "      <td>8</td>\n",
       "      <td>4</td>\n",
       "      <td>&lt;function fitness_hinge_loss at 0x162e67490&gt;</td>\n",
       "      <td>0.030</td>\n",
       "      <td>8</td>\n",
       "      <td>1536</td>\n",
       "      <td>1.00</td>\n",
       "      <td>-0.029058</td>\n",
       "      <td>0.015699</td>\n",
       "      <td>97</td>\n",
       "      <td>1.0</td>\n",
       "      <td>0.0</td>\n",
       "      <td>1</td>\n",
       "    </tr>\n",
       "    <tr>\n",
       "      <th>671</th>\n",
       "      <td>8</td>\n",
       "      <td>4</td>\n",
       "      <td>&lt;function fitness_hinge_loss at 0x162e67490&gt;</td>\n",
       "      <td>0.030</td>\n",
       "      <td>8</td>\n",
       "      <td>1536</td>\n",
       "      <td>2.00</td>\n",
       "      <td>-0.029266</td>\n",
       "      <td>0.009993</td>\n",
       "      <td>107</td>\n",
       "      <td>1.0</td>\n",
       "      <td>0.0</td>\n",
       "      <td>1</td>\n",
       "    </tr>\n",
       "    <tr>\n",
       "      <th>676</th>\n",
       "      <td>8</td>\n",
       "      <td>4</td>\n",
       "      <td>&lt;function fitness_hinge_loss at 0x162e67490&gt;</td>\n",
       "      <td>0.010</td>\n",
       "      <td>2</td>\n",
       "      <td>1536</td>\n",
       "      <td>0.00</td>\n",
       "      <td>-0.155652</td>\n",
       "      <td>0.041971</td>\n",
       "      <td>1187</td>\n",
       "      <td>1.0</td>\n",
       "      <td>0.0</td>\n",
       "      <td>1</td>\n",
       "    </tr>\n",
       "  </tbody>\n",
       "</table>\n",
       "</div>"
      ],
      "text/plain": [
       "     fitness__batch_size  fitness__k  \\\n",
       "639                    4          64   \n",
       "664                    8           4   \n",
       "665                    8           4   \n",
       "666                    8           4   \n",
       "667                    8           4   \n",
       "668                    8           4   \n",
       "669                    8           4   \n",
       "670                    8           4   \n",
       "671                    8           4   \n",
       "676                    8           4   \n",
       "\n",
       "                           fitness__loss_function  fitness__lr  \\\n",
       "639  <function fitness_hinge_loss at 0x162e67490>        0.003   \n",
       "664  <function fitness_hinge_loss at 0x162e67490>        0.030   \n",
       "665  <function fitness_hinge_loss at 0x162e67490>        0.030   \n",
       "666  <function fitness_hinge_loss at 0x162e67490>        0.030   \n",
       "667  <function fitness_hinge_loss at 0x162e67490>        0.030   \n",
       "668  <function fitness_hinge_loss at 0x162e67490>        0.030   \n",
       "669  <function fitness_hinge_loss at 0x162e67490>        0.030   \n",
       "670  <function fitness_hinge_loss at 0x162e67490>        0.030   \n",
       "671  <function fitness_hinge_loss at 0x162e67490>        0.030   \n",
       "676  <function fitness_hinge_loss at 0x162e67490>        0.010   \n",
       "\n",
       "     fitness__margin  fitness__n_features  fitness__weight_decay  ecdf_mean  \\\n",
       "639                8                 1536                   2.00  -0.034803   \n",
       "664                4                 1536                   0.00  -0.084133   \n",
       "665                4                 1536                   0.25  -0.077126   \n",
       "666                4                 1536                   1.00  -0.049938   \n",
       "667                4                 1536                   2.00  -0.048171   \n",
       "668                8                 1536                   0.00  -0.060496   \n",
       "669                8                 1536                   0.25  -0.035760   \n",
       "670                8                 1536                   1.00  -0.029058   \n",
       "671                8                 1536                   2.00  -0.029266   \n",
       "676                2                 1536                   0.00  -0.155652   \n",
       "\n",
       "     ecdf_std  ecdf_rank  game_rank_mean  game_rank_std  game_rank_rank  \n",
       "639  0.010697        233             1.0            0.0               1  \n",
       "664  0.046579        892             1.0            0.0               1  \n",
       "665  0.028988        845             1.0            0.0               1  \n",
       "666  0.040407        561             1.0            0.0               1  \n",
       "667  0.030049        541             1.0            0.0               1  \n",
       "668  0.018576        708             1.0            0.0               1  \n",
       "669  0.013039        261             1.0            0.0               1  \n",
       "670  0.015699         97             1.0            0.0               1  \n",
       "671  0.009993        107             1.0            0.0               1  \n",
       "676  0.041971       1187             1.0            0.0               1  "
      ]
     },
     "execution_count": 22,
     "metadata": {},
     "output_type": "execute_result"
    }
   ],
   "source": [
    "cv_df.sort_values(by='game_rank_rank').head(10)"
   ]
  },
  {
   "cell_type": "code",
   "execution_count": 23,
   "metadata": {},
   "outputs": [],
   "source": [
    "cv.best_estimator_.fit(embeddings_for_fitness)\n",
    "cv_fitness_model = cv.best_estimator_\n",
    "\n",
    "output_path = '../models/cv_fitness_model_2023_01_12_from_embeddings.pkl.gz'\n",
    "original_output_path = output_path[:]\n",
    "i = 0\n",
    "while os.path.exists(output_path):\n",
    "    output_path = original_output_path + f'_{i}'\n",
    "    i += 1\n",
    "\n",
    "with gzip.open(output_path, 'wb') as f:\n",
    "    pickle.dump(cv_fitness_model, f, protocol=pickle.HIGHEST_PROTOCOL)\n",
    "\n"
   ]
  },
  {
   "cell_type": "code",
   "execution_count": 25,
   "metadata": {},
   "outputs": [],
   "source": [
    "cv_fitness_model = pickle.load(gzip.open('../models/cv_fitness_model_2023_01_12_from_embeddings.pkl.gz', 'rb'))"
   ]
  },
  {
   "cell_type": "code",
   "execution_count": 26,
   "metadata": {},
   "outputs": [],
   "source": [
    "train_positive_scores = cv.best_estimator_.transform(train_tensor[:, 0, :]).detach().squeeze().numpy()\n",
    "train_negative_scores = cv.best_estimator_.transform(train_tensor[:, 1:, :]).detach().squeeze().numpy()\n",
    "\n",
    "test_positive_scores = cv.best_estimator_.transform(test_tensor[:, 0, :]).detach().squeeze().numpy()\n",
    "test_negative_scores = cv.best_estimator_.transform(test_tensor[:, 1:, :]).detach().squeeze().numpy()"
   ]
  },
  {
   "cell_type": "code",
   "execution_count": 27,
   "metadata": {},
   "outputs": [
    {
     "data": {
      "text/plain": [
       "<matplotlib.legend.Legend at 0x16d395a50>"
      ]
     },
     "execution_count": 27,
     "metadata": {},
     "output_type": "execute_result"
    },
    {
     "data": {
      "image/png": "[encoded data removed]",
      "text/plain": [
       "<Figure size 640x480 with 1 Axes>"
      ]
     },
     "metadata": {},
     "output_type": "display_data"
    }
   ],
   "source": [
    "cm = plt.get_cmap('tab20')\n",
    "plt.hist([train_positive_scores, test_positive_scores, train_negative_scores.flatten(), test_negative_scores.flatten()], \n",
    "    stacked=True, bins=100, label=['Real (train)', 'Real (test)', 'Negatives (train)', 'Negatives (test)'],\n",
    "    color=cm.colors[:4])\n",
    "plt.title('Fitness energy scores of all games -- embeddings')\n",
    "plt.xlabel('Energy score')\n",
    "plt.ylabel('log(Count)')\n",
    "plt.semilogy()\n",
    "plt.legend(loc='best')\n",
    "\n"
   ]
  },
  {
   "cell_type": "code",
   "execution_count": 29,
   "metadata": {},
   "outputs": [
    {
     "name": "stdout",
     "output_type": "stream",
     "text": [
      "-5.0290255e-06 0.02570957 0.00080031226\n"
     ]
    },
    {
     "data": {
      "text/plain": [
       "Text(0, 0.5, 'Count')"
      ]
     },
     "execution_count": 29,
     "metadata": {},
     "output_type": "execute_result"
    },
    {
     "data": {
      "image/png": "[encoded data removed]",
      "text/plain": [
       "<Figure size 640x480 with 1 Axes>"
      ]
     },
     "metadata": {},
     "output_type": "display_data"
    }
   ],
   "source": [
    "weights = cv.best_estimator_.named_steps['fitness'].model.fc1.weight.data.detach().numpy().squeeze()\n",
    "bias = cv.best_estimator_.named_steps['fitness'].model.fc1.bias.data.detach().numpy().squeeze()\n",
    "print(weights.mean(), weights.std(), bias)\n",
    "\n",
    "plt.hist(weights, bins=100)\n",
    "plt.title('Fitness Model Weights -- embeddings')\n",
    "plt.xlabel('Weight magnitude')\n",
    "plt.ylabel('Count')"
   ]
  },
  {
   "attachments": {},
   "cell_type": "markdown",
   "metadata": {},
   "source": [
    "## What if I concatante my features and the embeddings?"
   ]
  },
  {
   "cell_type": "code",
   "execution_count": null,
   "metadata": {},
   "outputs": [],
   "source": [
    "fitness_features_tensor = torch.load('../data/interactive-beta-and-regrowth-fitness-features-2023-01-09.pt')\n",
    "print(fitness_features_tensor.shape, embeddings_for_fitness.shape)\n",
    "\n",
    "features_and_embeddings = torch.cat([fitness_features_tensor, embeddings_for_fitness], dim=-1)\n",
    "features_and_embeddings.shape"
   ]
  },
  {
   "cell_type": "code",
   "execution_count": null,
   "metadata": {},
   "outputs": [],
   "source": [
    "test_param_grid = [\n",
    "    {\n",
    "        'fitness__loss_function': [utils.fitness_hinge_loss], # [utils.fitness_hinge_loss_with_cross_example],\n",
    "        'fitness__weight_decay': [0.0, 0.25, 1, 2],  \n",
    "        'fitness__margin': [1, 2, 4, 8],\n",
    "        'fitness__lr':  [1e-1, 3e-2, 1e-2, 3e-3],  # [1e-1, 3e-2, 1e-2, 3e-3],\n",
    "        'fitness__k': [4, 8, 16, 32, 64],\n",
    "        'fitness__batch_size': [2, 4, 8, 16],  # [1, 4, 8, 16],\n",
    "        # 'fitness__alpha': [0, 0.25, 0.5, 0.75, 1], # [0, 0.1, 0.2, 0.3],  #\n",
    "    },\n",
    "]\n",
    "\n",
    "model_kwargs = dict(output_activation=nn.Identity())\n",
    "train_kwargs = dict()\n",
    "cv_kwargs = dict(refit='overall_ecdf')\n",
    "scoring = utils.build_multiple_scoring_function(\n",
    "    [utils.evaluate_fitness_overall_ecdf, utils.evaluate_fitness_single_game_rank],\n",
    "    ['overall_ecdf', 'single_game_rank'],\n",
    ")\n",
    "\n",
    "cv_with_features = model_fitting_experiment(features_and_embeddings, test_param_grid,\n",
    "    scoring_function=scoring, verbose=1, \n",
    "    model_kwargs=model_kwargs, train_kwargs=train_kwargs, cv_kwargs=cv_kwargs)\n"
   ]
  },
  {
   "cell_type": "code",
   "execution_count": null,
   "metadata": {},
   "outputs": [],
   "source": [
    "cv_with_features_df = pd.concat([\n",
    "    pd.DataFrame(cv_with_features.cv_results_[\"params\"]), \n",
    "    pd.DataFrame(cv_with_features.cv_results_[\"mean_test_overall_ecdf\"], columns=['ecdf_mean']), \n",
    "    pd.DataFrame(cv_with_features.cv_results_[\"std_test_overall_ecdf\"], columns=['ecdf_std']), \n",
    "    pd.DataFrame(cv_with_features.cv_results_[\"rank_test_overall_ecdf\"], columns=['ecdf_rank']),\n",
    "    pd.DataFrame(cv_with_features.cv_results_[\"mean_test_single_game_rank\"], columns=['game_rank_mean']), \n",
    "    pd.DataFrame(cv_with_features.cv_results_[\"std_test_single_game_rank\"], columns=['game_rank_std']), \n",
    "    pd.DataFrame(cv_with_features.cv_results_[\"rank_test_single_game_rank\"], columns=['game_rank_rank']),\n",
    "],axis=1)\n",
    "\n",
    "cv_with_features_df.sort_values(by='ecdf_rank').head(10)"
   ]
  },
  {
   "cell_type": "code",
   "execution_count": null,
   "metadata": {},
   "outputs": [],
   "source": [
    "cv_with_features_df.sort_values(by='game_rank_rank').head(10)"
   ]
  },
  {
   "cell_type": "code",
   "execution_count": null,
   "metadata": {},
   "outputs": [],
   "source": [
    "cv_with_features.best_estimator_.fit(features_and_embeddings)\n",
    "cv_fitness_model_with_features = cv_with_features.best_estimator_\n",
    "\n",
    "real_scores = cv_fitness_model_with_features.transform(features_and_embeddings[:, 0, :]).detach().squeeze().numpy()\n",
    "negative_scores = cv_fitness_model_with_features.transform(features_and_embeddings[:, 1:, :]).detach().squeeze().numpy()\n",
    "real_scores.mean(), real_scores.std()"
   ]
  },
  {
   "cell_type": "code",
   "execution_count": null,
   "metadata": {},
   "outputs": [],
   "source": [
    "plt.hist([real_scores, negative_scores.flatten()], stacked=True, bins=100,\n",
    "    label=['Real games', 'Negatives'])\n",
    "plt.title('Fitness energy scores of all games -- embeddings + features')\n",
    "plt.xlabel('Energy score')\n",
    "plt.ylabel('log(Count)')\n",
    "plt.semilogy()\n",
    "plt.legend(loc='best')"
   ]
  },
  {
   "cell_type": "code",
   "execution_count": null,
   "metadata": {},
   "outputs": [],
   "source": [
    "from sklearn.model_selection import train_test_split"
   ]
  },
  {
   "cell_type": "code",
   "execution_count": null,
   "metadata": {},
   "outputs": [],
   "source": [
    "tts = train_test_split(embeddings_for_fitness, train_size=utils.DEFAULT_TRAINING_PROP)"
   ]
  },
  {
   "cell_type": "code",
   "execution_count": null,
   "metadata": {},
   "outputs": [],
   "source": [
    "[t.shape for t in tts]"
   ]
  }
 ],
 "metadata": {
  "kernelspec": {
   "display_name": "game-gen",
   "language": "python",
   "name": "python3"
  },
  "language_info": {
   "codemirror_mode": {
    "name": "ipython",
    "version": 3
   },
   "file_extension": ".py",
   "mimetype": "text/x-python",
   "name": "python",
   "nbconvert_exporter": "python",
   "pygments_lexer": "ipython3",
   "version": "3.10.8"
  },
  "orig_nbformat": 4,
  "vscode": {
   "interpreter": {
    "hash": "d207b42274502bc006609ff0f580407f35ab20e7889cda7ddd92e73aeb06c569"
   }
  }
 },
 "nbformat": 4,
 "nbformat_minor": 2
}
