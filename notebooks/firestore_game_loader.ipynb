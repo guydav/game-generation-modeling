{
 "cells": [
  {
   "cell_type": "code",
   "execution_count": 2,
   "metadata": {},
   "outputs": [],
   "source": [
    "import pandas as pd\n",
    "from IPython.display import display, Markdown, Latex\n",
    "\n",
    "import textstat\n",
    "import tabulate"
   ]
  },
  {
   "cell_type": "code",
   "execution_count": 3,
   "metadata": {},
   "outputs": [],
   "source": [
    "KEYS_TO_EXTRACT = ('participantID', 'timestamp', 'scene', \n",
    "    'game.setup', 'game.gameplay', 'game.scoring', 'game.difficulty', 'game.firstTimeScore', \n",
    "    'gameScore.score', 'gameScore.thoughts', \n",
    "    'debrief.strategy', 'debrief.difficulties', 'debrief.questions', 'debrief.external_aids')\n",
    "\n",
    "SHORT_SCENE_NAMES = {\n",
    "    'FloorPlan326_physics_semi_sparse_few_new_objects': 'few_objects',\n",
    "    'FloorPlan326_physics_semi_sparse_new_objects': 'medium_objects',\n",
    "    'FloorPlan326_physics_semi_sparse_many_new_objects': 'many_objects',\n",
    "}\n",
    "\n",
    "GAME_TEMPLATE = \"\"\"(define (game {participantID}) (:domain {room}-objects-room-v1)  ; {index}\n",
    "(:setup (and \n",
    "\n",
    "))\n",
    "(:constraints (and \n",
    "\n",
    "))\n",
    "(:scoring maximize\n",
    "\n",
    "))\"\"\"\n",
    "\n",
    "def recursive_extract_value(d, key):\n",
    "    if '.' in key:\n",
    "        split_key = key.split('.')\n",
    "\n",
    "    else:\n",
    "        split_key = [key]\n",
    "\n",
    "    value = d\n",
    "    for key_part in split_key:\n",
    "        if key_part == 'game':\n",
    "            key_part = 'editedGame' if 'editedGame' in value else 'initialGame'\n",
    "                \n",
    "        value = value[key_part] if key_part in value else None\n",
    "        if value == None:\n",
    "            return value\n",
    "\n",
    "    return value\n",
    "\n",
    "def participant_dict_to_row(doc, keys=KEYS_TO_EXTRACT):\n",
    "    d = doc.to_dict()\n",
    "    return [doc.id] + [recursive_extract_value(d, key) for key in keys]\n",
    "\n",
    "\n",
    "def print_participant(df, index, game_fields=('game_setup', 'game_gameplay', 'game_scoring', 'game_difficulty', 'game_firstTimeScore')):\n",
    "    p = df.loc[index]\n",
    "    display(Markdown(f'## {p.participantID} ({p.id}) ({p.scene})'))\n",
    "    for game_field in game_fields:\n",
    "        display(Markdown(f'### **{game_field.replace(\"game_\", \"\")}:** {p[game_field]}'))\n",
    "\n",
    "    room = p.scene.split('_')[0] if p.scene is not None else ''\n",
    "    print(GAME_TEMPLATE.format(participantID=p.participantID, room=room, index=index))"
   ]
  },
  {
   "cell_type": "code",
   "execution_count": 4,
   "metadata": {},
   "outputs": [],
   "source": [
    "LOAD_DATA_FROM_FIRESTORE = False\n",
    "WRITE_DATA_TO_CSV = False\n",
    "PARTICIPANTS_CSV_PATH = '../data/interactive_beta.csv'\n",
    "COLLECTION_NAME = 'participants-v2'\n",
    "\n",
    "\n",
    "if LOAD_DATA_FROM_FIRESTORE:\n",
    "    import firebase_admin\n",
    "    from firebase_admin import credentials\n",
    "    from firebase_admin import firestore\n",
    "\n",
    "    # Use a service account\n",
    "    cred = credentials.Certificate('./game-generation-6db9c-aef76f1917f8.json')\n",
    "    firebase_admin.initialize_app(cred)\n",
    "\n",
    "    db = firestore.client()\n",
    "\n",
    "    participants_with_replays = db.collection(COLLECTION_NAME).order_by('timestamp', direction=firestore.Query.DESCENDING).order_by('replays', direction=firestore.Query.DESCENDING).stream()\n",
    "    participant_rows = [participant_dict_to_row(doc) for doc in participants_with_replays]\n",
    "    participant_df = pd.DataFrame(participant_rows, columns=['id'] + [key.replace('.', '_') for key in KEYS_TO_EXTRACT])\n",
    "    participant_df.scene = [SHORT_SCENE_NAMES[s] if s in SHORT_SCENE_NAMES else None for s in participant_df.scene]\n",
    "    participant_df = participant_df[participant_df.scene.notna() & participant_df.game_setup.notna() & participant_df.game_gameplay.notna() & participant_df.game_scoring.notna()]\n",
    "    participant_df = participant_df[participant_df.participantID.str.len() > 10]\n",
    "    participant_df = participant_df[participant_df.participantID != '5f63a8f17e0e2f0c5aebfc0b']\n",
    "    participant_df = participant_df.reset_index()\n",
    "\n",
    "    if WRITE_DATA_TO_CSV:\n",
    "        participant_df.to_csv(PARTICIPANTS_CSV_PATH)\n",
    "\n",
    "else:\n",
    "    participant_df = pd.read_csv(PARTICIPANTS_CSV_PATH)\n",
    "\n"
   ]
  },
  {
   "cell_type": "code",
   "execution_count": 5,
   "metadata": {},
   "outputs": [
    {
     "name": "stdout",
     "output_type": "stream",
     "text": [
      "(21, 17)\n"
     ]
    },
    {
     "data": {
      "text/html": [
       "<div>\n",
       "<style scoped>\n",
       "    .dataframe tbody tr th:only-of-type {\n",
       "        vertical-align: middle;\n",
       "    }\n",
       "\n",
       "    .dataframe tbody tr th {\n",
       "        vertical-align: top;\n",
       "    }\n",
       "\n",
       "    .dataframe thead th {\n",
       "        text-align: right;\n",
       "    }\n",
       "</style>\n",
       "<table border=\"1\" class=\"dataframe\">\n",
       "  <thead>\n",
       "    <tr style=\"text-align: right;\">\n",
       "      <th></th>\n",
       "      <th>Unnamed: 0</th>\n",
       "      <th>index</th>\n",
       "      <th>id</th>\n",
       "      <th>participantID</th>\n",
       "      <th>timestamp</th>\n",
       "      <th>scene</th>\n",
       "      <th>game_setup</th>\n",
       "      <th>game_gameplay</th>\n",
       "      <th>game_scoring</th>\n",
       "      <th>game_difficulty</th>\n",
       "      <th>game_firstTimeScore</th>\n",
       "      <th>gameScore_score</th>\n",
       "      <th>gameScore_thoughts</th>\n",
       "      <th>debrief_strategy</th>\n",
       "      <th>debrief_difficulties</th>\n",
       "      <th>debrief_questions</th>\n",
       "      <th>debrief_external_aids</th>\n",
       "    </tr>\n",
       "  </thead>\n",
       "  <tbody>\n",
       "    <tr>\n",
       "      <th>0</th>\n",
       "      <td>0</td>\n",
       "      <td>0</td>\n",
       "      <td>qSbsQv2jOptuDovotsIE</td>\n",
       "      <td>5e2df2855e01ef3e5d01ab58</td>\n",
       "      <td>2021-11-09 15:42:14.716000+00:00</td>\n",
       "      <td>medium_objects</td>\n",
       "      <td>No setup needed.</td>\n",
       "      <td>To play my game, you will use the building blo...</td>\n",
       "      <td>To score my game, you will get 1 point for eac...</td>\n",
       "      <td>2</td>\n",
       "      <td>5</td>\n",
       "      <td>6</td>\n",
       "      <td>It was a lot more difficult to stack the block...</td>\n",
       "      <td>Since you were very much limited by the object...</td>\n",
       "      <td>The frame rate could get low at times.</td>\n",
       "      <td>It would have been nice to be able to simply ...</td>\n",
       "      <td>No.</td>\n",
       "    </tr>\n",
       "    <tr>\n",
       "      <th>1</th>\n",
       "      <td>1</td>\n",
       "      <td>1</td>\n",
       "      <td>SdpyTxFIhhYu7wNwmHFa</td>\n",
       "      <td>60e93f64ec69ecdac3107555</td>\n",
       "      <td>2021-11-09 15:38:30.625000+00:00</td>\n",
       "      <td>medium_objects</td>\n",
       "      <td>The player should move basketball, beachball a...</td>\n",
       "      <td>The player stands next to the door facing the ...</td>\n",
       "      <td>If the ball was succesfully thrown into the bi...</td>\n",
       "      <td>2</td>\n",
       "      <td>7 points</td>\n",
       "      <td>4 points</td>\n",
       "      <td>I think it is interesting but requires practic...</td>\n",
       "      <td>I considered the games I like playing myself -...</td>\n",
       "      <td>I did not have any technical difficulties!</td>\n",
       "      <td>I found this study to be one of the most inter...</td>\n",
       "      <td>I used pen and paper to write down the items I...</td>\n",
       "    </tr>\n",
       "    <tr>\n",
       "      <th>2</th>\n",
       "      <td>2</td>\n",
       "      <td>2</td>\n",
       "      <td>PJ2WCWCLedT8sDLrvn49</td>\n",
       "      <td>613e4bf960ca68f8de00e5e7</td>\n",
       "      <td>2021-11-08 21:55:19.879000+00:00</td>\n",
       "      <td>medium_objects</td>\n",
       "      <td>NaN</td>\n",
       "      <td>The pieces on the shelf between the two Window...</td>\n",
       "      <td>For each castle built in the correct order wil...</td>\n",
       "      <td>1</td>\n",
       "      <td>40</td>\n",
       "      <td>0</td>\n",
       "      <td>In real life this game would be very easy (tha...</td>\n",
       "      <td>I just looked at what was in the room and deci...</td>\n",
       "      <td>Yes, the page broke and I had to redo it.</td>\n",
       "      <td>No</td>\n",
       "      <td>Print on a piece of paper the shape of the cas...</td>\n",
       "    </tr>\n",
       "    <tr>\n",
       "      <th>3</th>\n",
       "      <td>3</td>\n",
       "      <td>3</td>\n",
       "      <td>GLPtcvJUaHkUYK7iEPRq</td>\n",
       "      <td>613e4bf960ca68f8de00e5e7</td>\n",
       "      <td>2021-11-08 21:14:13.145000+00:00</td>\n",
       "      <td>medium_objects</td>\n",
       "      <td>NaN</td>\n",
       "      <td>The pieces on the shelf between the two window...</td>\n",
       "      <td>For each castle built in the correct order of ...</td>\n",
       "      <td>0</td>\n",
       "      <td>40</td>\n",
       "      <td>0</td>\n",
       "      <td>In real life this game would be very easy (tha...</td>\n",
       "      <td>NaN</td>\n",
       "      <td>NaN</td>\n",
       "      <td>NaN</td>\n",
       "      <td>NaN</td>\n",
       "    </tr>\n",
       "    <tr>\n",
       "      <th>4</th>\n",
       "      <td>4</td>\n",
       "      <td>4</td>\n",
       "      <td>yWwOhJSjWiuzNkkHzhft</td>\n",
       "      <td>616e4f7a16145200573161a6</td>\n",
       "      <td>2021-11-08 21:10:48.702000+00:00</td>\n",
       "      <td>few_objects</td>\n",
       "      <td>closed blinds\\nthe curved ramp with the square...</td>\n",
       "      <td>roll the dodge ball onto the bin across the ra...</td>\n",
       "      <td>if a ball enters the box its a point</td>\n",
       "      <td>3</td>\n",
       "      <td>maybe 1 point in 5 tries</td>\n",
       "      <td>0</td>\n",
       "      <td>its too complicated i couldnt play well</td>\n",
       "      <td>tried to move the objects to where I needed to...</td>\n",
       "      <td>the objects were hard to move around \\nI could...</td>\n",
       "      <td>none</td>\n",
       "      <td>took screenshot</td>\n",
       "    </tr>\n",
       "  </tbody>\n",
       "</table>\n",
       "</div>"
      ],
      "text/plain": [
       "   Unnamed: 0  index                    id             participantID  \\\n",
       "0           0      0  qSbsQv2jOptuDovotsIE  5e2df2855e01ef3e5d01ab58   \n",
       "1           1      1  SdpyTxFIhhYu7wNwmHFa  60e93f64ec69ecdac3107555   \n",
       "2           2      2  PJ2WCWCLedT8sDLrvn49  613e4bf960ca68f8de00e5e7   \n",
       "3           3      3  GLPtcvJUaHkUYK7iEPRq  613e4bf960ca68f8de00e5e7   \n",
       "4           4      4  yWwOhJSjWiuzNkkHzhft  616e4f7a16145200573161a6   \n",
       "\n",
       "                          timestamp           scene  \\\n",
       "0  2021-11-09 15:42:14.716000+00:00  medium_objects   \n",
       "1  2021-11-09 15:38:30.625000+00:00  medium_objects   \n",
       "2  2021-11-08 21:55:19.879000+00:00  medium_objects   \n",
       "3  2021-11-08 21:14:13.145000+00:00  medium_objects   \n",
       "4  2021-11-08 21:10:48.702000+00:00     few_objects   \n",
       "\n",
       "                                          game_setup  \\\n",
       "0                                   No setup needed.   \n",
       "1  The player should move basketball, beachball a...   \n",
       "2                                                NaN   \n",
       "3                                                NaN   \n",
       "4  closed blinds\\nthe curved ramp with the square...   \n",
       "\n",
       "                                       game_gameplay  \\\n",
       "0  To play my game, you will use the building blo...   \n",
       "1  The player stands next to the door facing the ...   \n",
       "2  The pieces on the shelf between the two Window...   \n",
       "3  The pieces on the shelf between the two window...   \n",
       "4  roll the dodge ball onto the bin across the ra...   \n",
       "\n",
       "                                        game_scoring  game_difficulty  \\\n",
       "0  To score my game, you will get 1 point for eac...                2   \n",
       "1  If the ball was succesfully thrown into the bi...                2   \n",
       "2  For each castle built in the correct order wil...                1   \n",
       "3  For each castle built in the correct order of ...                0   \n",
       "4               if a ball enters the box its a point                3   \n",
       "\n",
       "        game_firstTimeScore gameScore_score  \\\n",
       "0                         5               6   \n",
       "1                  7 points        4 points   \n",
       "2                        40               0   \n",
       "3                        40              0    \n",
       "4  maybe 1 point in 5 tries               0   \n",
       "\n",
       "                                  gameScore_thoughts  \\\n",
       "0  It was a lot more difficult to stack the block...   \n",
       "1  I think it is interesting but requires practic...   \n",
       "2  In real life this game would be very easy (tha...   \n",
       "3  In real life this game would be very easy (tha...   \n",
       "4            its too complicated i couldnt play well   \n",
       "\n",
       "                                    debrief_strategy  \\\n",
       "0  Since you were very much limited by the object...   \n",
       "1  I considered the games I like playing myself -...   \n",
       "2  I just looked at what was in the room and deci...   \n",
       "3                                                NaN   \n",
       "4  tried to move the objects to where I needed to...   \n",
       "\n",
       "                                debrief_difficulties  \\\n",
       "0             The frame rate could get low at times.   \n",
       "1         I did not have any technical difficulties!   \n",
       "2          Yes, the page broke and I had to redo it.   \n",
       "3                                                NaN   \n",
       "4  the objects were hard to move around \\nI could...   \n",
       "\n",
       "                                   debrief_questions  \\\n",
       "0   It would have been nice to be able to simply ...   \n",
       "1  I found this study to be one of the most inter...   \n",
       "2                                                 No   \n",
       "3                                                NaN   \n",
       "4                                               none   \n",
       "\n",
       "                               debrief_external_aids  \n",
       "0                                                No.  \n",
       "1  I used pen and paper to write down the items I...  \n",
       "2  Print on a piece of paper the shape of the cas...  \n",
       "3                                                NaN  \n",
       "4                                    took screenshot  "
      ]
     },
     "execution_count": 5,
     "metadata": {},
     "output_type": "execute_result"
    }
   ],
   "source": [
    "print(participant_df.shape)\n",
    "participant_df.head()"
   ]
  },
  {
   "cell_type": "code",
   "execution_count": 6,
   "metadata": {},
   "outputs": [
    {
     "data": {
      "text/markdown": [
       "## 616e4f7a16145200573161a6 (yWwOhJSjWiuzNkkHzhft) (few_objects)"
      ],
      "text/plain": [
       "<IPython.core.display.Markdown object>"
      ]
     },
     "metadata": {},
     "output_type": "display_data"
    },
    {
     "data": {
      "text/markdown": [
       "### **setup:** closed blinds\n",
       "the curved ramp with the square boxes on the side\n",
       "the bin after the ramp"
      ],
      "text/plain": [
       "<IPython.core.display.Markdown object>"
      ]
     },
     "metadata": {},
     "output_type": "display_data"
    },
    {
     "data": {
      "text/markdown": [
       "### **gameplay:** roll the dodge ball onto the bin across the ramp with the cube blocks around to direct the ball onto the ramp to the bin"
      ],
      "text/plain": [
       "<IPython.core.display.Markdown object>"
      ]
     },
     "metadata": {},
     "output_type": "display_data"
    },
    {
     "data": {
      "text/markdown": [
       "### **scoring:** if a ball enters the box its a point"
      ],
      "text/plain": [
       "<IPython.core.display.Markdown object>"
      ]
     },
     "metadata": {},
     "output_type": "display_data"
    },
    {
     "data": {
      "text/markdown": [
       "### **difficulty:** 3"
      ],
      "text/plain": [
       "<IPython.core.display.Markdown object>"
      ]
     },
     "metadata": {},
     "output_type": "display_data"
    },
    {
     "data": {
      "text/markdown": [
       "### **firstTimeScore:** maybe 1 point in 5 tries"
      ],
      "text/plain": [
       "<IPython.core.display.Markdown object>"
      ]
     },
     "metadata": {},
     "output_type": "display_data"
    },
    {
     "name": "stdout",
     "output_type": "stream",
     "text": [
      "(define (game 616e4f7a16145200573161a6) (:domain few-objects-room-v1)  ; 4\n",
      "(:setup (and \n",
      "\n",
      "))\n",
      "(:constraints (and \n",
      "\n",
      "))\n",
      "(:scoring maximize\n",
      "\n",
      "))\n"
     ]
    }
   ],
   "source": [
    "print_participant(participant_df, 4)"
   ]
  },
  {
   "cell_type": "markdown",
   "metadata": {},
   "source": [
    "# Statistics on plaintext versions"
   ]
  },
  {
   "cell_type": "code",
   "execution_count": 6,
   "metadata": {},
   "outputs": [],
   "source": [
    "DEFAULT_STATS_FIELDS = ('game_setup', 'game_gameplay', 'game_scoring')\n",
    "\n",
    "def run_textstat_func(textstat_func, df, fields=DEFAULT_STATS_FIELDS):\n",
    "    if isinstance(fields, slice):\n",
    "        subset = df.iloc[:, fields].copy()\n",
    "    else:\n",
    "        subset = df.loc[:, fields].copy()\n",
    "        \n",
    "    subset[subset.isna()] = ''\n",
    "    s = subset.agg('\\n'.join, axis=1)\n",
    "    scores = s.apply(textstat_func)\n",
    "    return scores.mean(), scores.std() / (len(scores) ** 0.5)"
   ]
  },
  {
   "cell_type": "code",
   "execution_count": 7,
   "metadata": {},
   "outputs": [
    {
     "data": {
      "text/plain": [
       "(75.63380952380952, 4.418337517351245)"
      ]
     },
     "execution_count": 7,
     "metadata": {},
     "output_type": "execute_result"
    }
   ],
   "source": [
    "run_textstat_func(textstat.flesch_reading_ease, participant_df)"
   ]
  },
  {
   "cell_type": "code",
   "execution_count": 8,
   "metadata": {},
   "outputs": [],
   "source": [
    "few_objects_df = pd.read_csv('../data/few_objects.csv')\n",
    "medium_objects_df = pd.read_csv('../data/medium_objects.csv')\n",
    "many_objects_df = pd.read_csv('../data/many_objects.csv')"
   ]
  },
  {
   "cell_type": "code",
   "execution_count": 9,
   "metadata": {},
   "outputs": [
    {
     "data": {
      "text/plain": [
       "'flesch_reading_ease'"
      ]
     },
     "execution_count": 9,
     "metadata": {},
     "output_type": "execute_result"
    }
   ],
   "source": [
    "textstat.flesch_reading_ease.__name__"
   ]
  },
  {
   "cell_type": "code",
   "execution_count": 11,
   "metadata": {},
   "outputs": [
    {
     "data": {
      "text/markdown": [
       "| name                    | flesch_reading_ease   | flesch_kincaid_grade   | gunning_fog        |\n",
       "|-------------------------|-----------------------|------------------------|--------------------|\n",
       "| survey - few objects    | $ 61.48 \\pm 7.66 $    | $ 14.73 \\pm 2.96 $     | $ 17.11 \\pm 3.06 $ |\n",
       "| survey - medium objects | $ 61.76 \\pm 5.55 $    | $ 13.73 \\pm 2.08 $     | $ 16.03 \\pm 2.12 $ |\n",
       "| survey - many objects   | $ 56.42 \\pm 5.95 $    | $ 15.56 \\pm 2.23 $     | $ 17.65 \\pm 2.30 $ |\n",
       "| interactive beta        | $ 75.63 \\pm 4.42 $    | $ 9.39 \\pm 1.59 $      | $ 11.83 \\pm 1.57 $ |"
      ],
      "text/plain": [
       "<IPython.core.display.Markdown object>"
      ]
     },
     "metadata": {},
     "output_type": "display_data"
    }
   ],
   "source": [
    "TEXTSTAT_FUNCS = (textstat.flesch_reading_ease, textstat.flesch_kincaid_grade, textstat.gunning_fog)\n",
    "NAMES = ['survey - few objects', 'survey - medium objects', 'survey - many objects', 'interactive beta']\n",
    "\n",
    "rows = []\n",
    "\n",
    "for i, df in enumerate((few_objects_df, medium_objects_df, many_objects_df, participant_df)):\n",
    "    scores = [run_textstat_func(func, df, fields=slice(1, 4) if i < 3 else DEFAULT_STATS_FIELDS) for func in TEXTSTAT_FUNCS]\n",
    "    rows.append([NAMES[i]] + [f'$ {s[0]:.2f} \\\\pm {s[1]:.2f} $' for s in scores])\n",
    "\n",
    "headers = ['name'] + [func.__name__ for func in TEXTSTAT_FUNCS]\n",
    "\n",
    "display(Markdown(tabulate.tabulate(rows, headers=headers, tablefmt='github')))\n",
    "\n",
    "# few_objects_df.iloc[:, slice(1, 4)].agg(lambda x: [type(z) for z in x], axis=1)"
   ]
  },
  {
   "cell_type": "code",
   "execution_count": null,
   "metadata": {},
   "outputs": [],
   "source": []
  },
  {
   "cell_type": "code",
   "execution_count": null,
   "metadata": {},
   "outputs": [],
   "source": []
  }
 ],
 "metadata": {
  "interpreter": {
   "hash": "c7f8e00f851a7185e5345342178c14041451eaa6562c62790473e641b6de40ed"
  },
  "kernelspec": {
   "display_name": "Python 3.8.5 64-bit ('torch': conda)",
   "name": "python3"
  },
  "language_info": {
   "codemirror_mode": {
    "name": "ipython",
    "version": 3
   },
   "file_extension": ".py",
   "mimetype": "text/x-python",
   "name": "python",
   "nbconvert_exporter": "python",
   "pygments_lexer": "ipython3",
   "version": "3.8.5"
  },
  "orig_nbformat": 4
 },
 "nbformat": 4,
 "nbformat_minor": 2
}
