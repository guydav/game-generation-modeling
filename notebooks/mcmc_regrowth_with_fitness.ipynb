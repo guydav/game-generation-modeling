{
 "cells": [
  {
   "cell_type": "code",
   "execution_count": 1,
   "metadata": {},
   "outputs": [],
   "source": [
    "%autoreload 2"
   ]
  },
  {
   "cell_type": "code",
   "execution_count": 39,
   "metadata": {},
   "outputs": [],
   "source": [
    "from collections import defaultdict\n",
    "from argparse import Namespace\n",
    "import copy\n",
    "import gzip\n",
    "import itertools\n",
    "import os\n",
    "import pickle\n",
    "import sys\n",
    "import typing\n",
    "\n",
    "import matplotlib\n",
    "import matplotlib.pyplot as plt\n",
    "import numpy as np\n",
    "import pandas as pd\n",
    "import tatsu\n",
    "import tatsu.ast\n",
    "import torch\n",
    "import torch.nn as nn\n",
    "import torch.nn.functional as F\n",
    "from torch.utils.data import TensorDataset, DataLoader\n",
    "import tqdm\n",
    "import sklearn\n",
    "from sklearn.model_selection import GridSearchCV, train_test_split, KFold\n",
    "from sklearn.pipeline import Pipeline\n",
    "\n",
    "sys.path.append(os.path.abspath('..'))\n",
    "sys.path.append(os.path.abspath('../src'))\n",
    "from src import fitness_energy_utils as utils\n",
    "from src.fitness_energy_utils import NON_FEATURE_COLUMNS\n",
    "from src.fitness_function import build_fitness_featurizer, ASTFitnessFeaturizer\n",
    "from src.ast_counter_sampler import *\n",
    "from src.ast_counter_sampler import parse_or_load_counter"
   ]
  },
  {
   "cell_type": "markdown",
   "metadata": {},
   "source": [
    "# Plan of attack\n",
    "* Use the code in `ast_counter_sampler.py` to generate a sample from the MLE\n",
    "* Score it with a fitness function adapted to working with a single example at a time\n",
    "* At each subsequent iteration, regrow the game from a random node, and score the regrowth\n",
    "* Since we have energy scores before and after, we can either accept greedily if $E_{new} < E_{old}$, or accept with probability $\\exp(\\beta (E_{old} - E_{new} ))$"
   ]
  },
  {
   "cell_type": "code",
   "execution_count": 61,
   "metadata": {},
   "outputs": [],
   "source": [
    "DEFUALT_RANDOM_SEED = 33\n",
    "DEFAULT_FITNESS_FUNCTION_PATH = '../models/cv_fitness_model_2022_12_05.pkl.gz'\n",
    "\n",
    "\n",
    "def _load_and_wrap_fitness_function(fitness_function_path: str = DEFAULT_FITNESS_FUNCTION_PATH) -> typing.Callable[[torch.Tensor], float]:\n",
    "    with gzip.open(fitness_function_path, 'rb') as f:\n",
    "        cv_fitness_model = pickle.load(f)\n",
    "\n",
    "    def _wrap_fitness(features: torch.Tensor):\n",
    "        return cv_fitness_model.transform(features).item()\n",
    "\n",
    "    return _wrap_fitness\n",
    "\n",
    "\n",
    "DEFAULT_ARGS = Namespace(\n",
    "    grammar_file=os.path.join('..', DEFAULT_GRAMMAR_FILE),\n",
    "    parse_counter=False,\n",
    "    counter_output_path=os.path.join('..', DEFAULT_COUNTER_OUTPUT_PATH),\n",
    "    random_seed=DEFUALT_RANDOM_SEED,\n",
    ")\n",
    "\n",
    "class MCMCRegrowthSampler:\n",
    "    def __init__(self,\n",
    "        args: Namespace,\n",
    "        fitness_function_path: str = DEFAULT_FITNESS_FUNCTION_PATH,\n",
    "        plateau_patience_steps: int = 10,\n",
    "        max_steps: int = 1000,\n",
    "        greedy_acceptance: bool = False,\n",
    "        acceptance_temperature: float = 1.0,\n",
    "    ):\n",
    "        self.grammar = open(args.grammar_file).read()\n",
    "        self.grammar_parser = tatsu.compile(self.grammar)\n",
    "        self.counter = parse_or_load_counter(args, self.grammar_parser)\n",
    "        self.sampler = ASTSampler(self.grammar_parser, self.counter, seed=args.random_seed)\n",
    "        self.regrowth_sampler = RegrowthSampler(self.sampler, args.random_seed)\n",
    "        self.fitness_featurizer = build_fitness_featurizer(args)\n",
    "        self.rng = np.random.default_rng(args.random_seed)\n",
    "        self.fitness_function = _load_and_wrap_fitness_function(fitness_function_path)\n",
    "        self.plateau_patience_steps = plateau_patience_steps\n",
    "        self.max_steps = max_steps\n",
    "        self.greedy_acceptance = greedy_acceptance\n",
    "        self.acceptance_temperature = acceptance_temperature\n",
    "\n",
    "        self.sample_index = 0\n",
    "        self.samples = []\n",
    "\n",
    "    def multiple_samples(self, n_samples: int, should_tqdm: bool = False):\n",
    "        sample_iter = tqdm.notebook.trange(n_samples) if should_tqdm else range(n_samples)\n",
    "        for _ in sample_iter:\n",
    "            self.sample()\n",
    "\n",
    "    def sample(self, verbose: bool = False):\n",
    "        current_proposal = self.sampler.sample(global_context=dict(original_game_id=f'mcmc-{self.sample_index}'))\n",
    "        current_proposal_fitness = self._score_proposal(current_proposal)  # type: ignore\n",
    "\n",
    "        last_accepted_step = 0\n",
    "        for step in range(self.max_steps):\n",
    "            current_proposal, current_proposal_fitness, accepted = self.mcmc_regrowth_step(\n",
    "                current_proposal, current_proposal_fitness, step  # type: ignore\n",
    "            )\n",
    "\n",
    "            if accepted:\n",
    "                last_accepted_step = step\n",
    "                if verbose:\n",
    "                    print(f'Accepted step {step} with fitness {current_proposal_fitness}')\n",
    "\n",
    "            else:\n",
    "                if step - last_accepted_step > self.plateau_patience_steps:\n",
    "                    if verbose:\n",
    "                        print(f'Plateaued at step {step} with fitness {current_proposal_fitness}')\n",
    "                    break\n",
    "\n",
    "        self.samples.append((current_proposal, current_proposal_fitness))\n",
    "        self.sample_index += 1\n",
    "\n",
    "    def mcmc_regrowth_step(self,\n",
    "        current_proposal: tatsu.ast.AST, \n",
    "        current_proposal_fitness: float,\n",
    "        step_index: int,\n",
    "        ):\n",
    "\n",
    "        if self.regrowth_sampler.source_ast != current_proposal:\n",
    "            self.regrowth_sampler.set_source_ast(current_proposal)\n",
    "\n",
    "        new_proposal = None\n",
    "        sample_generated = False\n",
    "        try:\n",
    "            while not sample_generated:\n",
    "                new_proposal = self.regrowth_sampler.sample(step_index)\n",
    "                # _test_ast_sample(ast, args, text_samples, grammar_parser)\n",
    "                if ast_printer.ast_to_string(new_proposal) == ast_printer.ast_to_string(current_proposal):  # type: ignore\n",
    "                    print('Regrowth generated identical games, repeating')\n",
    "                else:\n",
    "                    sample_generated = True\n",
    "\n",
    "        except RecursionError:\n",
    "            print('Recursion error, skipping sample')\n",
    "\n",
    "        except SamplingException:\n",
    "            print('Sampling exception, skipping sample')\n",
    "\n",
    "        new_proposal_fitness = self._score_proposal(new_proposal)  # type: ignore\n",
    "        \n",
    "        if self.greedy_acceptance:\n",
    "            if new_proposal_fitness < current_proposal_fitness:\n",
    "                return new_proposal, new_proposal_fitness, True\n",
    "            else:\n",
    "                return current_proposal, current_proposal_fitness, False\n",
    "\n",
    "        else:\n",
    "            acceptance_probability = np.exp(-self.acceptance_temperature * (new_proposal_fitness - current_proposal_fitness))\n",
    "            if self.rng.uniform() < acceptance_probability:\n",
    "                return new_proposal, new_proposal_fitness, True\n",
    "            else:\n",
    "                return current_proposal, current_proposal_fitness, False\n",
    "\n",
    "    def _score_proposal(self, proposal: tatsu.ast.AST):\n",
    "        proposal_features = self.fitness_featurizer.parse(proposal, 'mcmc', True)  # type: ignore\n",
    "        proposal_tensor = torch.tensor([v for k, v in proposal_features.items() if k not in NON_FEATURE_COLUMNS])  # type: ignore\n",
    "        proposal_fitness = self.fitness_function(proposal_tensor)\n",
    "        return proposal_fitness\n",
    "\n",
    "\n"
   ]
  },
  {
   "cell_type": "code",
   "execution_count": 63,
   "metadata": {},
   "outputs": [
    {
     "name": "stdout",
     "output_type": "stream",
     "text": [
      "No counted data for setup_not.not_args\n",
      "String token rule for any: {'token_posterior': {'(any)': 1}, 'production': [('token', '(any)')]}\n",
      "No counted data for hold_for.hold_pred\n",
      "No counted data for hold_to_end.hold_pred\n",
      "No counted data for forall_seq.forall_seq_vars\n",
      "No counted data for forall_seq.forall_seq_then\n",
      "No counted data for terminal_not.not_args\n",
      "No counted data for scoring_external_minimize.scoring_expr\n",
      "No counted data for scoring_and.and_args\n",
      "No counted data for scoring_or.or_args\n",
      "No counted data for scoring_not.not_args\n",
      "String token rule for total_time: {'token_posterior': {'(total-time)': 1}, 'production': [('token', '(total-time)')]}\n",
      "String token rule for total_score: {'token_posterior': {'(total-score)': 1}, 'production': [('token', '(total-score)')]}\n",
      "No counted data for scoring_equals_comp.expr\n",
      "No counted data for count_longest.name_and_types\n",
      "No counted data for count_shortest.name_and_types\n",
      "No counted data for count_total.name_and_types\n",
      "No counted data for count_increasing_measure.name_and_types\n"
     ]
    },
    {
     "data": {
      "application/vnd.jupyter.widget-view+json": {
       "model_id": "1b2b5fc942fe4758a4b919895b1eee16",
       "version_major": 2,
       "version_minor": 0
      },
      "text/plain": [
       "  0%|          | 0/100 [00:00<?, ?it/s]"
      ]
     },
     "metadata": {},
     "output_type": "display_data"
    },
    {
     "ename": "IndexError",
     "evalue": "list assignment index out of range",
     "output_type": "error",
     "traceback": [
      "\u001b[0;31m---------------------------------------------------------------------------\u001b[0m",
      "\u001b[0;31mIndexError\u001b[0m                                Traceback (most recent call last)",
      "Cell \u001b[0;32mIn[63], line 2\u001b[0m\n\u001b[1;32m      1\u001b[0m mcmc \u001b[39m=\u001b[39m MCMCRegrowthSampler(DEFAULT_ARGS, DEFAULT_FITNESS_FUNCTION_PATH, greedy_acceptance\u001b[39m=\u001b[39m\u001b[39mTrue\u001b[39;00m, plateau_patience_steps\u001b[39m=\u001b[39m\u001b[39m20\u001b[39m)\n\u001b[0;32m----> 2\u001b[0m mcmc\u001b[39m.\u001b[39;49mmultiple_samples(\u001b[39m100\u001b[39;49m, should_tqdm\u001b[39m=\u001b[39;49m\u001b[39mTrue\u001b[39;49;00m)\n",
      "Cell \u001b[0;32mIn[61], line 50\u001b[0m, in \u001b[0;36mMCMCRegrowthSampler.multiple_samples\u001b[0;34m(self, n_samples, should_tqdm)\u001b[0m\n\u001b[1;32m     48\u001b[0m sample_iter \u001b[39m=\u001b[39m tqdm\u001b[39m.\u001b[39mnotebook\u001b[39m.\u001b[39mtrange(n_samples) \u001b[39mif\u001b[39;00m should_tqdm \u001b[39melse\u001b[39;00m \u001b[39mrange\u001b[39m(n_samples)\n\u001b[1;32m     49\u001b[0m \u001b[39mfor\u001b[39;00m _ \u001b[39min\u001b[39;00m sample_iter:\n\u001b[0;32m---> 50\u001b[0m     \u001b[39mself\u001b[39;49m\u001b[39m.\u001b[39;49msample()\n",
      "Cell \u001b[0;32mIn[61], line 58\u001b[0m, in \u001b[0;36mMCMCRegrowthSampler.sample\u001b[0;34m(self, verbose)\u001b[0m\n\u001b[1;32m     56\u001b[0m last_accepted_step \u001b[39m=\u001b[39m \u001b[39m0\u001b[39m\n\u001b[1;32m     57\u001b[0m \u001b[39mfor\u001b[39;00m step \u001b[39min\u001b[39;00m \u001b[39mrange\u001b[39m(\u001b[39mself\u001b[39m\u001b[39m.\u001b[39mmax_steps):\n\u001b[0;32m---> 58\u001b[0m     current_proposal, current_proposal_fitness, accepted \u001b[39m=\u001b[39m \u001b[39mself\u001b[39;49m\u001b[39m.\u001b[39;49mmcmc_regrowth_step(\n\u001b[1;32m     59\u001b[0m         current_proposal, current_proposal_fitness, step  \u001b[39m# type: ignore\u001b[39;49;00m\n\u001b[1;32m     60\u001b[0m     )\n\u001b[1;32m     62\u001b[0m     \u001b[39mif\u001b[39;00m accepted:\n\u001b[1;32m     63\u001b[0m         last_accepted_step \u001b[39m=\u001b[39m step\n",
      "Cell \u001b[0;32mIn[61], line 89\u001b[0m, in \u001b[0;36mMCMCRegrowthSampler.mcmc_regrowth_step\u001b[0;34m(self, current_proposal, current_proposal_fitness, step_index)\u001b[0m\n\u001b[1;32m     87\u001b[0m \u001b[39mtry\u001b[39;00m:\n\u001b[1;32m     88\u001b[0m     \u001b[39mwhile\u001b[39;00m \u001b[39mnot\u001b[39;00m sample_generated:\n\u001b[0;32m---> 89\u001b[0m         new_proposal \u001b[39m=\u001b[39m \u001b[39mself\u001b[39;49m\u001b[39m.\u001b[39;49mregrowth_sampler\u001b[39m.\u001b[39;49msample(step_index)\n\u001b[1;32m     90\u001b[0m         \u001b[39m# _test_ast_sample(ast, args, text_samples, grammar_parser)\u001b[39;00m\n\u001b[1;32m     91\u001b[0m         \u001b[39mif\u001b[39;00m ast_printer\u001b[39m.\u001b[39mast_to_string(new_proposal) \u001b[39m==\u001b[39m ast_printer\u001b[39m.\u001b[39mast_to_string(current_proposal):  \u001b[39m# type: ignore\u001b[39;00m\n",
      "File \u001b[0;32m~/projects/game-generation-modeling/src/ast_counter_sampler.py:910\u001b[0m, in \u001b[0;36mRegrowthSampler.sample\u001b[0;34m(self, sample_id, external_global_context, external_local_context)\u001b[0m\n\u001b[1;32m    908\u001b[0m new_source \u001b[39m=\u001b[39m \u001b[39mself\u001b[39m\u001b[39m.\u001b[39m_update_game_id(new_source, sample_id)\n\u001b[1;32m    909\u001b[0m new_parent \u001b[39m=\u001b[39m \u001b[39mself\u001b[39m\u001b[39m.\u001b[39msearcher(new_source, parseinfo\u001b[39m=\u001b[39mparent\u001b[39m.\u001b[39mparseinfo)  \u001b[39m# type: ignore\u001b[39;00m\n\u001b[0;32m--> 910\u001b[0m replace_child(new_parent, selector, new_node)  \u001b[39m# type: ignore\u001b[39;00m\n\u001b[1;32m    912\u001b[0m \u001b[39mreturn\u001b[39;00m new_source\n",
      "File \u001b[0;32m~/projects/game-generation-modeling/src/ast_utils.py:186\u001b[0m, in \u001b[0;36mreplace_child\u001b[0;34m(parent, selector, new_value)\u001b[0m\n\u001b[1;32m    183\u001b[0m     update_ast(last_parent, last_selector, new_value)\n\u001b[1;32m    185\u001b[0m \u001b[39melif\u001b[39;00m \u001b[39misinstance\u001b[39m(last_selector, \u001b[39mint\u001b[39m):\n\u001b[0;32m--> 186\u001b[0m     last_parent[last_selector] \u001b[39m=\u001b[39m new_value\n\u001b[1;32m    188\u001b[0m \u001b[39melse\u001b[39;00m:\n\u001b[1;32m    189\u001b[0m     \u001b[39mraise\u001b[39;00m \u001b[39mValueError\u001b[39;00m(\u001b[39mf\u001b[39m\u001b[39m'\u001b[39m\u001b[39mreplace_child received last selector of unknown type: \u001b[39m\u001b[39m{\u001b[39;00mlast_selector\u001b[39m}\u001b[39;00m\u001b[39m (\u001b[39m\u001b[39m{\u001b[39;00m\u001b[39mtype\u001b[39m(last_selector)\u001b[39m}\u001b[39;00m\u001b[39m)\u001b[39m\u001b[39m'\u001b[39m, parent, selector)\n",
      "\u001b[0;31mIndexError\u001b[0m: list assignment index out of range"
     ]
    }
   ],
   "source": [
    "mcmc = MCMCRegrowthSampler(DEFAULT_ARGS, DEFAULT_FITNESS_FUNCTION_PATH, greedy_acceptance=True, plateau_patience_steps=20)\n",
    "mcmc.multiple_samples(100, should_tqdm=True)"
   ]
  },
  {
   "cell_type": "code",
   "execution_count": 53,
   "metadata": {},
   "outputs": [
    {
     "name": "stdout",
     "output_type": "stream",
     "text": [
      "(define (game mcmc-0-7-16-19-20-37-41-49-70-81-100-109-113-116-133) (:domain medium-objects-room-v1)(:setup  (game-conserved    (in_motion ?w)  ))(:constraints  (and    (forall (?m - (either cellphone cd) ?m - beachball)      (and        (preference preference2          (exists (?e - ball ?q - teddy_bear ?e - wall)            (then              (once (adjacent south_west_corner top_shelf) )              (hold (not (agent_holds ?e ?m) ) )              (hold (< (distance agent 7) (distance ?q ?e)) )            )          )        )      )    )    (preference preference2      (exists (?w - ball)        (at-end          (not            (agent_holds ?w)          )        )      )    )  ))(:terminal  (> (count-measure preference2:basketball) 4 ))(:scoring  20))\n"
     ]
    }
   ],
   "source": [
    "print(ast_printer.ast_to_string(mcmc.samples[0][0]))"
   ]
  },
  {
   "cell_type": "code",
   "execution_count": null,
   "metadata": {},
   "outputs": [],
   "source": []
  }
 ],
 "metadata": {
  "kernelspec": {
   "display_name": "Python 3.10.8 ('game-gen')",
   "language": "python",
   "name": "python3"
  },
  "language_info": {
   "codemirror_mode": {
    "name": "ipython",
    "version": 3
   },
   "file_extension": ".py",
   "mimetype": "text/x-python",
   "name": "python",
   "nbconvert_exporter": "python",
   "pygments_lexer": "ipython3",
   "version": "3.10.8"
  },
  "orig_nbformat": 4,
  "vscode": {
   "interpreter": {
    "hash": "d207b42274502bc006609ff0f580407f35ab20e7889cda7ddd92e73aeb06c569"
   }
  }
 },
 "nbformat": 4,
 "nbformat_minor": 2
}
