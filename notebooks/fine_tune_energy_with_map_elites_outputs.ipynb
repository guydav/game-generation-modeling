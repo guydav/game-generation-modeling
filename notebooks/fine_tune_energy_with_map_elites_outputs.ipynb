{
 "cells": [
  {
   "cell_type": "code",
   "execution_count": 1,
   "metadata": {},
   "outputs": [],
   "source": [
    "%autoreload 2"
   ]
  },
  {
   "cell_type": "code",
   "execution_count": 2,
   "metadata": {},
   "outputs": [
    {
     "name": "stderr",
     "output_type": "stream",
     "text": [
      "2023-05-14 18:46:42 - ast_utils - DEBUG    - Using cache folder: /misc/vlgscratch4/LakeGroup/guy/game_generation_cache\n",
      "2023-05-14 18:46:43 - src.ast_utils - DEBUG    - Using cache folder: /misc/vlgscratch4/LakeGroup/guy/game_generation_cache\n",
      "2023-05-14 18:46:43 - git.cmd - DEBUG    - Popen(['git', 'version'], cwd=/home/gd1279/projects/game-generation-modeling/notebooks, universal_newlines=False, shell=None, istream=None)\n",
      "2023-05-14 18:46:43 - git.cmd - DEBUG    - Popen(['git', 'version'], cwd=/home/gd1279/projects/game-generation-modeling/notebooks, universal_newlines=False, shell=None, istream=None)\n"
     ]
    }
   ],
   "source": [
    "from argparse import Namespace\n",
    "from collections import defaultdict\n",
    "import copy\n",
    "from datetime import datetime\n",
    "import difflib\n",
    "import gzip\n",
    "import itertools\n",
    "import os\n",
    "import pickle\n",
    "import sys\n",
    "import typing\n",
    "\n",
    "from IPython.display import display, Markdown, HTML  # type: ignore\n",
    "import matplotlib\n",
    "import matplotlib.pyplot as plt\n",
    "import numpy as np\n",
    "import pandas as pd\n",
    "import swifter\n",
    "import sklearn\n",
    "from sklearn.model_selection import GridSearchCV, train_test_split, KFold\n",
    "from sklearn.pipeline import Pipeline\n",
    "import tatsu\n",
    "import torch\n",
    "import torch.nn as nn\n",
    "import torch.nn.functional as F\n",
    "from torch.utils.data import TensorDataset, DataLoader\n",
    "import tqdm.notebook as tqdmn\n",
    "\n",
    "\n",
    "sys.path.append(os.path.abspath('..'))\n",
    "sys.path.append(os.path.abspath('../src'))\n",
    "from src import fitness_energy_utils as utils\n",
    "from src.ast_mcmc_regrowth import _load_pickle_gzip\n",
    "from src.fitness_features import *\n",
    "from src.fitness_energy_utils import NON_FEATURE_COLUMNS\n",
    "from src.latest_model_paths import LATEST_FITNESS_FEATURIZER_PATH, LATEST_FITNESS_FUNCTION_DATE_ID, LATEST_FITNESS_FEATURES\n",
    "from src.ast_counter_sampler import *\n",
    "from src.ast_utils import cached_load_and_parse_games_from_file, load_games_from_file, _extract_game_id\n",
    "from src import ast_printer\n",
    "from src.fitness_features_preprocessing import NGRAM_SCORE_PATTERN\n",
    "from src.evolutionary_sampler import *"
   ]
  },
  {
   "cell_type": "code",
   "execution_count": 3,
   "metadata": {},
   "outputs": [],
   "source": [
    "grammar = open('../dsl/dsl.ebnf').read()\n",
    "grammar_parser = tatsu.compile(grammar)\n",
    "real_game_asts = list(cached_load_and_parse_games_from_file('../dsl/interactive-beta.pddl', grammar_parser, False, relative_path='..'))  # type: ignore\n",
    "\n",
    "FEATURIZER_PATH = LATEST_FITNESS_FEATURIZER_PATH\n",
    "MODEL_DATE_ID = LATEST_FITNESS_FUNCTION_DATE_ID\n",
    "MODEL_NAME = DEFAULT_SAVE_MODEL_NAME\n",
    "MAP_ELITES_PATH_SPECS = [\n",
    "    ('2023_05_13', 'samples', 'evo_sampler_map_elites_fitness_rank_node_count_objects_setup_final'),\n",
    "    ('2023_05_13', 'samples', 'evo_sampler_map_elites_fitness_rank_node_count_predicates_setup_final'),\n",
    "    ('2023_05_13', 'samples', 'evo_sampler_map_elites_ucb_node_count_objects_setup_final'),\n",
    "    ('2023_05_13', 'samples', 'evo_sampler_map_elites_ucb_node_count_predicates_setup_final'),   \n",
    "]\n",
    "\n",
    "fitness_featurizer = _load_pickle_gzip(FEATURIZER_PATH)\n",
    "fitness_function, feature_names = load_model_and_feature_columns(MODEL_DATE_ID, name=MODEL_NAME, relative_path='..')  # type: ignore\n",
    "original_fitness_function, _ = load_model_and_feature_columns(MODEL_DATE_ID, name=MODEL_NAME, relative_path='..')  # type: ignore"
   ]
  },
  {
   "cell_type": "code",
   "execution_count": 4,
   "metadata": {},
   "outputs": [],
   "source": [
    "DEFAULT_MIN_FITNESS = 0.0\n",
    "\n",
    "def load_map_elites_games(map_elites_path_specs: typing.List[typing.Tuple[str, str, str]], min_fitness: float = DEFAULT_MIN_FITNESS):\n",
    "    map_elites_games = []\n",
    "    for date_id, folder, filename in map_elites_path_specs:\n",
    "        map_elites = typing.cast(MAPElitesSampler, utils.load_data(date_id, folder, filename))\n",
    "        for key in map_elites.population:\n",
    "            if map_elites.fitness_values[key] > min_fitness:\n",
    "                map_elites_games.append((map_elites.population[key], filename))\n",
    "        \n",
    "    return map_elites_games\n",
    "\n",
    "\n",
    "MAP_ELITES_GAMES = load_map_elites_games(MAP_ELITES_PATH_SPECS)"
   ]
  },
  {
   "cell_type": "code",
   "execution_count": 5,
   "metadata": {},
   "outputs": [
    {
     "name": "stdout",
     "output_type": "stream",
     "text": [
      "['interactive-beta.pddl' 'ast-real-regrowth-samples-1024.pddl']\n",
      "(100450, 391)\n"
     ]
    }
   ],
   "source": [
    "fitness_df = utils.load_fitness_data(LATEST_FITNESS_FEATURES)\n",
    "print(fitness_df.src_file.unique())\n",
    "print(fitness_df.shape)\n",
    "\n",
    "fitness_featurizer.preprocessors[1].forced_output_keys = set([c for c in fitness_df.columns if 'arg_types' in c])"
   ]
  },
  {
   "cell_type": "code",
   "execution_count": 6,
   "metadata": {},
   "outputs": [],
   "source": [
    "def create_fitness_df_with_map_elites_games(\n",
    "    current_fitness_df: pd.DataFrame,\n",
    "    fitness_featurizer: ASTFitnessFeaturizer,\n",
    "    real_games: typing.List,\n",
    "    map_elites_games: typing.List[tuple], \n",
    "):\n",
    "\n",
    "    for game in real_games:\n",
    "        fitness_featurizer.parse(game, 'interactive-beta.pddl')\n",
    "\n",
    "    for game, filename in tqdmn.tqdm(map_elites_games):\n",
    "        fitness_featurizer.parse(game, filename)\n",
    "\n",
    "    map_elites_fitness_df = fitness_featurizer.to_df(use_prior_values=[True, False])\n",
    "    return utils.process_fitness_df(pd.concat([map_elites_fitness_df], ignore_index=True))"
   ]
  },
  {
   "cell_type": "code",
   "execution_count": 7,
   "metadata": {},
   "outputs": [
    {
     "data": {
      "application/vnd.jupyter.widget-view+json": {
       "model_id": "00aa3eb314e24189b4cc692f6463da22",
       "version_major": 2,
       "version_minor": 0
      },
      "text/plain": [
       "  0%|          | 0/743 [00:00<?, ?it/s]"
      ]
     },
     "metadata": {},
     "output_type": "display_data"
    },
    {
     "name": "stderr",
     "output_type": "stream",
     "text": [
      "2023-05-14 18:47:07 - root - INFO     - No features found for prefix agent_holds_arg_types and suffix setup\n",
      "2023-05-14 18:47:07 - root - INFO     - No features found for prefix in_motion_arg_types and suffix setup\n",
      "2023-05-14 18:47:07 - root - INFO     - No features to merge for prefix object_orientation_arg_types and suffix setup\n",
      "2023-05-14 18:47:07 - root - INFO     - No features found for prefix touch_arg_types and suffix setup\n",
      "2023-05-14 18:47:07 - root - INFO     - No features found for prefix adjacent_side_3_arg_types and suffix constraints\n",
      "2023-05-14 18:47:07 - root - INFO     - No features to merge for prefix agent_holds_arg_types and suffix constraints\n",
      "2023-05-14 18:47:07 - root - INFO     - No features found for prefix between_arg_types and suffix constraints\n",
      "2023-05-14 18:47:07 - root - INFO     - No features to merge for prefix distance_arg_types and suffix constraints\n",
      "2023-05-14 18:47:07 - root - INFO     - No features to merge for prefix in_arg_types and suffix constraints\n",
      "2023-05-14 18:47:07 - root - INFO     - No features to merge for prefix in_motion_arg_types and suffix constraints\n",
      "2023-05-14 18:47:07 - root - INFO     - No features to merge for prefix object_orientation_arg_types and suffix constraints\n"
     ]
    },
    {
     "name": "stdout",
     "output_type": "stream",
     "text": [
      "(841, 374) (100450, 391)\n",
      "Missing columns: {'in_arg_types_other_constraints', 'in_arg_types_balls_balls_constraints', 'agent_holds_arg_types_furniture_constraints', 'object_orientation_arg_types_other_constraints', 'agent_holds_arg_types_agent_constraints', 'Index', 'in_arg_types_receptacles_receptacles_constraints', 'object_orientation_arg_types_other_setup', 'distance_arg_types_other_constraints', 'on_arg_types_balls_balls_constraints', 'on_arg_types_receptacles_receptacles_constraints', 'agent_holds_arg_types_other_constraints', 'in_arg_types_blocks_blocks_constraints', 'agent_holds_arg_types_room_features_constraints', 'in_motion_arg_types_agent_constraints', 'in_motion_arg_types_other_constraints', 'in_motion_arg_types_room_features_constraints'}\n",
      "0    743\n",
      "1     98\n",
      "Name: real, dtype: int64\n",
      "0\n"
     ]
    }
   ],
   "source": [
    "map_elites_fitness_df = create_fitness_df_with_map_elites_games(fitness_df, fitness_featurizer, real_game_asts, MAP_ELITES_GAMES)\n",
    "print(map_elites_fitness_df.shape, fitness_df.shape)\n",
    "\n",
    "unexpected_columns = set(map_elites_fitness_df.columns) - set(fitness_df.columns)\n",
    "missing_columns = set(fitness_df.columns) - set(map_elites_fitness_df.columns)\n",
    "\n",
    "if len(unexpected_columns) > 0:\n",
    "    raise ValueError(f'Unexpected columns: {unexpected_columns}')\n",
    "\n",
    "if len(missing_columns) > 0:\n",
    "    print(f'Missing columns: {missing_columns}')\n",
    "    map_elites_fitness_df = map_elites_fitness_df.reindex(columns=fitness_df.columns, fill_value=0.0)\n",
    "\n",
    "missing_columns = set(fitness_df.columns) - set(map_elites_fitness_df.columns)\n",
    "if len(missing_columns) > 0:\n",
    "    raise ValueError(f'Failed to fill missing columns: {missing_columns}')\n",
    "\n",
    "print(map_elites_fitness_df.real.value_counts())\n",
    "print(map_elites_fitness_df.isna().sum().sum())"
   ]
  },
  {
   "attachments": {},
   "cell_type": "markdown",
   "metadata": {},
   "source": [
    "## TODO:\n",
    "* Split this dataset into train and test\n",
    "* Fine-tune the existing energy function on this (probably adjusting the value of `k`)\n",
    "* Evaluate the fine-tuned model\n",
    "* Print the changes in feature weights?"
   ]
  },
  {
   "cell_type": "code",
   "execution_count": 8,
   "metadata": {},
   "outputs": [
    {
     "name": "stdout",
     "output_type": "stream",
     "text": [
      "Train tensor shape: torch.Size([78, 8, 366]) | Test tensor shape: torch.Size([20, 8, 366])\n",
      "Using k=7 for fitness function\n"
     ]
    }
   ],
   "source": [
    "RANDOM_SEED = DEFAULT_RANDOM_SEED \n",
    "\n",
    "\n",
    "data_tensor, _ = utils._input_data_to_train_test_tensors(input_data=map_elites_fitness_df, feature_columns=feature_names,\n",
    "        split_test_set=False, random_seed=RANDOM_SEED, train_prop=utils.DEFAULT_TRAINING_PROP, ignore_original_game=True)\n",
    "\n",
    "train_tensor, test_tensor = utils.train_test_split(data_tensor, random_state=RANDOM_SEED,\n",
    "                train_size=utils.DEFAULT_TRAINING_PROP)\n",
    "\n",
    "\n",
    "if test_tensor is not None:\n",
    "    print(f'Train tensor shape: {train_tensor.shape} | Test tensor shape: {test_tensor.shape}')  # type: ignore\n",
    "else:\n",
    "    print(f'Train tensor shape: {train_tensor.shape}')\n",
    "\n",
    "k = train_tensor.shape[1] - 1\n",
    "print(f'Using k={k} for fitness function')\n",
    "fitness_function.named_steps['fitness'].train_kwargs['k'] = k  # type: ignore\n",
    "fitness_function.named_steps['fitness'].train_kwargs['device'] = 'cpu'  # type: ignore\n",
    "\n",
    "fine_tuned_fitness_function = fitness_function.fit(train_tensor)"
   ]
  },
  {
   "cell_type": "code",
   "execution_count": 9,
   "metadata": {},
   "outputs": [
    {
     "name": "stdout",
     "output_type": "stream",
     "text": [
      "Before tuning, training set:\n",
      "{'loss': -1.578116536140442, 'overall_ecdf': -0.19241042077580536, 'single_game_rank': 0.8443223834037781, 'single_game_min_rank': 0.4285714328289032, 'energy_of_negative@1%': 79.01666259765625, 'energy_of_negative@5%': 76.26824951171875}\n",
      "After tuning, training set:\n",
      "{'loss': -0.015177130699157715, 'overall_ecdf': -0.06332182774490468, 'single_game_rank': 1.0, 'single_game_min_rank': 1.0, 'energy_of_negative@1%': -0.9931230545043945, 'energy_of_negative@5%': -2.4131953716278076}\n",
      "Before tuning, test set:\n",
      "{'loss': -1.6508722305297852, 'overall_ecdf': -0.19437500000000002, 'single_game_rank': 0.8642856478691101, 'single_game_min_rank': 0.5714285969734192, 'energy_of_negative@1%': 79.46068572998047, 'energy_of_negative@5%': 77.41535186767578}\n",
      "After tuning, test set:\n",
      "{'loss': -0.007171182427555323, 'overall_ecdf': -0.065625, 'single_game_rank': 1.0, 'single_game_min_rank': 1.0, 'energy_of_negative@1%': -0.7277530431747437, 'energy_of_negative@5%': -2.2415642738342285}\n"
     ]
    }
   ],
   "source": [
    "print('Before tuning, training set:')\n",
    "print(utils.default_multiple_scoring(original_fitness_function, train_tensor))\n",
    "\n",
    "print('After tuning, training set:')\n",
    "print(utils.default_multiple_scoring(fitness_function, train_tensor))\n",
    "\n",
    "if test_tensor is not None:\n",
    "    print('Before tuning, test set:')\n",
    "    print(utils.default_multiple_scoring(original_fitness_function, test_tensor))\n",
    "\n",
    "    print('After tuning, test set:')\n",
    "    print(utils.default_multiple_scoring(fitness_function, test_tensor))\n"
   ]
  },
  {
   "cell_type": "code",
   "execution_count": 11,
   "metadata": {},
   "outputs": [
    {
     "name": "stdout",
     "output_type": "stream",
     "text": [
      "torch.Size([98, 1025, 366])\n",
      "Before tuning, original full dataset:\n",
      "{'loss': -3.5341789722442627, 'overall_ecdf': -0.009690982415863308, 'single_game_rank': 0.9801897406578064, 'single_game_min_rank': 0.9296875, 'energy_of_negative@1%': 74.36898803710938, 'energy_of_negative@5%': 72.7696762084961}\n",
      "After tuning, original full  set:\n",
      "{'loss': -6.980717658996582, 'overall_ecdf': -0.44103676313731066, 'single_game_rank': 0.6973652839660645, 'single_game_min_rank': 0.3642578125, 'energy_of_negative@1%': 7.561910152435303, 'energy_of_negative@5%': 6.620471954345703}\n"
     ]
    }
   ],
   "source": [
    "original_data_tensor, _ = utils._input_data_to_train_test_tensors(input_data=fitness_df, feature_columns=feature_names,\n",
    "        split_test_set=False, random_seed=RANDOM_SEED, train_prop=utils.DEFAULT_TRAINING_PROP, ignore_original_game=True)\n",
    "\n",
    "print(original_data_tensor.shape)\n",
    "\n",
    "print('Before tuning, original full dataset:')\n",
    "print(utils.default_multiple_scoring(original_fitness_function, original_data_tensor))\n",
    "\n",
    "print('After tuning, original full  set:')\n",
    "print(utils.default_multiple_scoring(fitness_function, original_data_tensor))"
   ]
  },
  {
   "cell_type": "code",
   "execution_count": 21,
   "metadata": {},
   "outputs": [
    {
     "data": {
      "text/markdown": [
       "### Features whose weights dropped the most in fine-tuning (lower = more predictive of real games):\n",
       "1. pref_forall_used_incorrect (Δ7.5553, 7.7016 -> 0.1463)\n",
       "2. repeated_variables_found (Δ4.4512, 4.4227 -> -0.0285)\n",
       "3. two_number_operation_found (Δ3.7199, 3.7953 -> 0.0755)\n",
       "4. disjoint_seq_funcs_found (Δ3.6618, 3.6775 -> 0.0157)\n",
       "5. in_arg_types_other_constraints (Δ3.4906, 3.4090 -> -0.0816)\n",
       "6. adjacent_arg_types_other_constraints (Δ3.1385, 3.0436 -> -0.0948)\n",
       "7. redundant_expression_found (Δ2.9162, 3.0140 -> 0.0977)\n",
       "8. distance_arg_types_other_constraints (Δ2.8861, 2.7915 -> -0.0946)\n",
       "9. in_motion_arg_types_other_setup (Δ2.5865, 2.4816 -> -0.1049)\n",
       "10. agent_holds_arg_types_other_setup (Δ2.5039, 2.3819 -> -0.1220)\n",
       "### Features whose weights increased the most in fine-tuning (higher = less predictive of real games):\n",
       "1. ast_ngram_full_n_7_score (Δ7.5553, -24.7524 -> -0.7277)\n",
       "2. ast_ngram_constraints_n_7_score (Δ4.4512, -17.0716 -> -0.4690)\n",
       "3. ast_ngram_setup_n_5_score (Δ3.7199, -7.9620 -> -0.2944)\n",
       "4. ast_ngram_scoring_n_5_score (Δ3.6618, -6.1448 -> -0.0192)\n",
       "5. all_preferences_used (Δ3.4906, -4.6407 -> -0.1302)\n",
       "6. all_variables_used (Δ3.1385, -4.6851 -> -0.2021)\n",
       "7. ast_ngram_terminal_n_5_score (Δ2.9162, -3.3669 -> -0.2564)\n",
       "8. in_motion_arg_types_small_objects_constraints (Δ2.8861, -2.8231 -> 0.2421)\n",
       "9. max_width_scoring_0 (Δ2.5865, -3.0755 -> -0.5566)\n",
       "10. pref_forall_pref_forall_correct_arity_correct (Δ2.5039, -3.1497 -> -0.6900)"
      ],
      "text/plain": [
       "<IPython.core.display.Markdown object>"
      ]
     },
     "metadata": {},
     "output_type": "display_data"
    }
   ],
   "source": [
    "K = 10\n",
    "\n",
    "original_weights = original_fitness_function.named_steps['fitness'].model.fc1.weight.data.detach().squeeze()\n",
    "post_fine_tune_weights = fitness_function.named_steps['fitness'].model.fc1.weight.data.detach().squeeze()\n",
    "\n",
    "weight_changed = original_weights - post_fine_tune_weights\n",
    "larger_in_original = torch.topk(weight_changed, k=K, largest=True)\n",
    "larger_in_fine_tuned = torch.topk(weight_changed, k=K, largest=False)\n",
    "\n",
    "lines = []\n",
    "\n",
    "lines.append('### Features whose weights dropped the most in fine-tuning (lower = more predictive of real games):')\n",
    "for i in range(K):\n",
    "    idx = larger_in_original.indices[i]\n",
    "    lines.append(f'{i+1}. {feature_names[idx]} (Δ{larger_in_original.values[i]:.4f}, {original_weights[idx]:.4f} -> {post_fine_tune_weights[idx]:.4f})')\n",
    "\n",
    "lines.append('### Features whose weights increased the most in fine-tuning (higher = less predictive of real games):')\n",
    "for i in range(K):\n",
    "    idx = larger_in_fine_tuned.indices[i]\n",
    "    lines.append(f'{i+1}. {feature_names[idx]} (Δ{larger_in_original.values[i]:.4f}, {original_weights[idx]:.4f} -> {post_fine_tune_weights[idx]:.4f})')\n",
    "\n",
    "display(Markdown('\\n'.join(lines)))"
   ]
  },
  {
   "cell_type": "code",
   "execution_count": 22,
   "metadata": {},
   "outputs": [
    {
     "data": {
      "text/markdown": [
       "### Features with largest negative weights post-fine-tuning (most predictive of real games):\n",
       "1. compositionality_structure_1 (-1.1603)\n",
       "2. predicate_under_modal_once_in (-1.0170)\n",
       "3. max_depth_constraints_2 (-0.8196)\n",
       "4. mean_depth_constraints_2 (-0.7942)\n",
       "5. ast_ngram_full_n_7_score (-0.7277)\n",
       "6. pref_forall_pref_forall_correct_arity_correct (-0.6900)\n",
       "7. num_preferences_defined_2 (-0.6427)\n",
       "8. mean_depth_constraints_3 (-0.6184)\n",
       "9. max_width_constraints_3 (-0.5602)\n",
       "10. max_width_scoring_0 (-0.5566)\n",
       "11. pref_forall_used_correct (-0.5338)\n",
       "12. predicate_under_modal_at_end_on (-0.5309)\n",
       "13. on_arg_types_room_features_blocks_constraints (-0.5226)\n",
       "14. node_count_scoring_0 (-0.5226)\n",
       "15. mean_depth_scoring_1 (-0.4911)\n",
       "16. predicate_under_modal_once_in_motion (-0.4818)\n",
       "17. ast_ngram_constraints_n_7_score (-0.4690)\n",
       "18. pref_forall_pref_forall_correct_types_correct (-0.4444)\n",
       "19. node_count_constraints_3 (-0.4314)\n",
       "20. max_number_variables_types_quantified_variables_2 (-0.4257)\n",
       "### Features with largest positive weights post-fine-tuning (most predictive of fake games):\n",
       "1. mean_depth_constraints_1 (0.8843)\n",
       "2. distance_arg_types_balls_balls_setup (0.8139)\n",
       "3. length_of_then_modals_2 (0.6909)\n",
       "4. mean_depth_constraints_0 (0.6815)\n",
       "5. max_width_scoring_2 (0.6673)\n",
       "6. max_depth_scoring_4 (0.6663)\n",
       "7. mean_depth_scoring_4 (0.6293)\n",
       "8. max_depth_constraints_0 (0.6278)\n",
       "9. compositionality_structure_3 (0.5696)\n",
       "10. on_arg_types_room_features_agent_constraints (0.5228)\n",
       "11. compositionality_structure_0 (0.4498)\n",
       "12. num_preferences_defined_1 (0.4436)\n",
       "13. predicate_under_modal_once_agent_holds (0.4430)\n",
       "14. length_of_then_modals_4 (0.4382)\n",
       "15. max_quantification_count_constraints_1 (0.4360)\n",
       "16. adjacent_arg_types_receptacles_room_features_setup (0.4201)\n",
       "17. max_quantification_count_setup_2 (0.4175)\n",
       "18. touch_arg_types_agent_balls_constraints (0.3832)\n",
       "19. node_count_scoring_4 (0.3639)\n",
       "20. adjacent_arg_types_balls_furniture_setup (0.3632)"
      ],
      "text/plain": [
       "<IPython.core.display.Markdown object>"
      ]
     },
     "metadata": {},
     "output_type": "display_data"
    }
   ],
   "source": [
    "K = 20\n",
    "top_features = torch.topk(post_fine_tune_weights, K)\n",
    "bottom_features = torch.topk(post_fine_tune_weights, K, largest=False)\n",
    "\n",
    "lines = []\n",
    "\n",
    "lines.append('### Features with largest negative weights post-fine-tuning (most predictive of real games):')\n",
    "for i in range(K):\n",
    "    lines.append(f'{i+1}. {feature_names[bottom_features.indices[i]]} ({bottom_features.values[i]:.4f})')\n",
    "\n",
    "lines.append('### Features with largest positive weights post-fine-tuning (most predictive of fake games):')\n",
    "for i in range(K):\n",
    "    lines.append((f'{i+1}. {feature_names[top_features.indices[i]]} ({top_features.values[i]:.4f})'))\n",
    "\n",
    "display(Markdown('\\n'.join(lines)))\n"
   ]
  }
 ],
 "metadata": {
  "kernelspec": {
   "display_name": "game-gen",
   "language": "python",
   "name": "python3"
  },
  "language_info": {
   "codemirror_mode": {
    "name": "ipython",
    "version": 3
   },
   "file_extension": ".py",
   "mimetype": "text/x-python",
   "name": "python",
   "nbconvert_exporter": "python",
   "pygments_lexer": "ipython3",
   "version": "3.10.8"
  },
  "orig_nbformat": 4
 },
 "nbformat": 4,
 "nbformat_minor": 2
}
